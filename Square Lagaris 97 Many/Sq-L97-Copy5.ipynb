{
 "cells": [
  {
   "cell_type": "markdown",
   "metadata": {
    "heading_collapsed": true,
    "slideshow": {
     "slide_type": "-"
    }
   },
   "source": [
    "# Imports"
   ]
  },
  {
   "cell_type": "code",
   "execution_count": 1,
   "metadata": {
    "hidden": true
   },
   "outputs": [
    {
     "name": "stdout",
     "output_type": "stream",
     "text": [
      "Pixiedust database opened successfully\n"
     ]
    },
    {
     "data": {
      "text/html": [
       "\n",
       "        <div style=\"margin:10px\">\n",
       "            <a href=\"https://github.com/ibm-watson-data-lab/pixiedust\" target=\"_new\">\n",
       "                <img src=\"https://github.com/ibm-watson-data-lab/pixiedust/raw/master/docs/_static/pd_icon32.png\" style=\"float:left;margin-right:10px\"/>\n",
       "            </a>\n",
       "            <span>Pixiedust version 1.1.14</span>\n",
       "        </div>\n",
       "        "
      ],
      "text/plain": [
       "<IPython.core.display.HTML object>"
      ]
     },
     "metadata": {},
     "output_type": "display_data"
    },
    {
     "data": {
      "text/html": [
       "<div>Warning: You are not running the latest version of PixieDust. Current is 1.1.14, Latest is 1.1.18</div>"
      ],
      "text/plain": [
       "<IPython.core.display.HTML object>"
      ]
     },
     "metadata": {},
     "output_type": "display_data"
    },
    {
     "data": {
      "text/html": [
       "\n",
       "                <div>Please copy and run the following command in a new cell to upgrade: <span style=\"background-color:#ececec;font-family:monospace;padding:0 5px\">!pip install --user --upgrade pixiedust</span></div>\n",
       "            "
      ],
      "text/plain": [
       "<IPython.core.display.HTML object>"
      ]
     },
     "metadata": {},
     "output_type": "display_data"
    },
    {
     "data": {
      "text/html": [
       "<div>Please restart kernel after upgrading.</div>"
      ],
      "text/plain": [
       "<IPython.core.display.HTML object>"
      ]
     },
     "metadata": {},
     "output_type": "display_data"
    }
   ],
   "source": [
    "import copy\n",
    "import numpy as np\n",
    "import itertools\n",
    "import time\n",
    "from matplotlib import pyplot as plt\n",
    "from mpl_toolkits.mplot3d import Axes3D\n",
    "from matplotlib import cm\n",
    "import pixiedust"
   ]
  },
  {
   "cell_type": "markdown",
   "metadata": {
    "heading_collapsed": true
   },
   "source": [
    "# Introduction"
   ]
  },
  {
   "cell_type": "markdown",
   "metadata": {
    "hidden": true
   },
   "source": [
    "Consider the following equation:\n",
    "$$\\Delta_p \\Psi(x,y)=f(x,y)$$\n",
    "\n",
    "$x \\in [0,1],\\ y \\in [0,1]$ with *Dirichlet* BC: $\\Psi(0,y) = 0$, $\\Psi(1,y) = 0$, $\\Psi(x,0) = 0$ and $\\Psi(x,1) = 0$.\n",
    "\n",
    "For this first attempt, we will take $p=2$."
   ]
  },
  {
   "cell_type": "markdown",
   "metadata": {
    "heading_collapsed": true
   },
   "source": [
    "# Defining functions"
   ]
  },
  {
   "cell_type": "markdown",
   "metadata": {
    "heading_collapsed": true,
    "hidden": true
   },
   "source": [
    "## Sigmoid"
   ]
  },
  {
   "cell_type": "markdown",
   "metadata": {
    "hidden": true
   },
   "source": [
    "Sigmoid $\\sigma(x) = \\frac{1}{1+e^{-x}}$ and its derrivatives."
   ]
  },
  {
   "cell_type": "markdown",
   "metadata": {
    "hidden": true
   },
   "source": [
    "Sigmoid with parameter $t$\n",
    "$$ \\sigma_t(x) = \\frac{1}{1+e^{-tx}}$$"
   ]
  },
  {
   "cell_type": "code",
   "execution_count": 2,
   "metadata": {
    "hidden": true
   },
   "outputs": [],
   "source": [
    "T = 1"
   ]
  },
  {
   "cell_type": "code",
   "execution_count": 3,
   "metadata": {
    "hidden": true
   },
   "outputs": [],
   "source": [
    "def sig(x):\n",
    "    return 1 / (1 + np.exp(-T*x))\n",
    "\n",
    "def sig1(x):\n",
    "    return T * sig(x) * (1 - sig(x))\n",
    "\n",
    "def sig2(x):\n",
    "    return T * (sig1(x) - 2*sig(x)*sig1(x))\n",
    "\n",
    "def sig3(x):\n",
    "    return T * (sig2(x) - 2 * (sig1(x)**2 + sig(x) * sig2(x)))\n",
    "\n",
    "def sig_pr(x, k):\n",
    "    if k==0:\n",
    "        return sig(x)\n",
    "    if k==1:\n",
    "        return sig1(x)\n",
    "    if k==2:\n",
    "        return sig2(x)\n",
    "    if k==3:\n",
    "        return sig3(x)"
   ]
  },
  {
   "cell_type": "markdown",
   "metadata": {
    "heading_collapsed": true,
    "hidden": true
   },
   "source": [
    "## RHS"
   ]
  },
  {
   "cell_type": "markdown",
   "metadata": {
    "hidden": true
   },
   "source": [
    "The right side of the equation:  $\\Delta\\Psi(x,y) = 6 x (x-1) (1-2 y) + 2 y (y-1) (1-2 y)$"
   ]
  },
  {
   "cell_type": "code",
   "execution_count": 4,
   "metadata": {
    "hidden": true
   },
   "outputs": [],
   "source": [
    "K=1\n",
    "def f(x, y):\n",
    "    return K * (6*(x-1)*x*(1-2*y) + 2*(y-1)*y*(1-2*y))"
   ]
  },
  {
   "cell_type": "markdown",
   "metadata": {
    "hidden": true
   },
   "source": [
    "The analytic solution is given by: $\\ \\Psi_a(x,y) = x (1-x) y (1-y) (1-2 y)$"
   ]
  },
  {
   "cell_type": "code",
   "execution_count": 5,
   "metadata": {
    "hidden": true
   },
   "outputs": [],
   "source": [
    "def psi_a(x, y):\n",
    "    return K * x*(1-x)*y*(1-y)*(1-2*y)"
   ]
  },
  {
   "cell_type": "markdown",
   "metadata": {
    "hidden": true
   },
   "source": [
    "$$\\frac{\\partial}{\\partial x} \\Psi_a = (1-2x) y (1-y) (1-2 y)$$"
   ]
  },
  {
   "cell_type": "code",
   "execution_count": 6,
   "metadata": {
    "hidden": true
   },
   "outputs": [],
   "source": [
    "def psi_a_dx(x,y):\n",
    "    return K * (1-2*x)*y*(1-y)*(1-2*y)"
   ]
  },
  {
   "cell_type": "markdown",
   "metadata": {
    "hidden": true
   },
   "source": [
    "$$\\frac{\\partial}{\\partial y} \\Psi_a = x (1-x) (1-6y + 6y^2) $$"
   ]
  },
  {
   "cell_type": "code",
   "execution_count": 7,
   "metadata": {
    "hidden": true
   },
   "outputs": [],
   "source": [
    "def psi_a_dy(x,y):\n",
    "    return K * x*(1-x)*(1-6*y+6*(y**2))"
   ]
  },
  {
   "cell_type": "markdown",
   "metadata": {
    "heading_collapsed": true,
    "hidden": true
   },
   "source": [
    "## Neural Network"
   ]
  },
  {
   "cell_type": "markdown",
   "metadata": {
    "hidden": true
   },
   "source": [
    "The output of neural network $N(x,y,\\vec{p})$, where $\\vec{p} = [w, u, v]$:\n",
    "$$N = \\sum_i^H v_i \\sigma(z_i) \\text{, where } z_i = w_{i0} x + w_{i1} y + u_i$$"
   ]
  },
  {
   "cell_type": "code",
   "execution_count": 8,
   "metadata": {
    "code_folding": [],
    "hidden": true
   },
   "outputs": [],
   "source": [
    "def z(x, y, p):\n",
    "    z_x = np.multiply(x, p[0][0])\n",
    "    z_y = np.multiply(y, p[0][1])\n",
    "    z_ = np.array([z_x, z_y, p[1]]).sum(axis=0)\n",
    "    return z_\n",
    "\n",
    "def N(x, y, p):\n",
    "    return np.sum(np.multiply(sig(z(x,y,p)), p[2]))"
   ]
  },
  {
   "cell_type": "markdown",
   "metadata": {
    "hidden": true
   },
   "source": [
    "$$\\frac{\\partial^k N}{\\partial x_j^k} = \\sum_{i=1}^H v_i w_{ij}^k \\sigma^{(k)}$$"
   ]
  },
  {
   "cell_type": "code",
   "execution_count": 9,
   "metadata": {
    "code_folding": [],
    "hidden": true
   },
   "outputs": [],
   "source": [
    "def dN_dxj_k(x, y, p, j, k):\n",
    "    wj = p[0][j]\n",
    "    v = p[2]\n",
    "    z_ = z(x, y, p)\n",
    "    \n",
    "    return np.sum(v * (wj**k) * sig_pr(z_, k))"
   ]
  },
  {
   "cell_type": "markdown",
   "metadata": {
    "hidden": true
   },
   "source": [
    "$$\\frac{\\partial N}{\\partial w_j} = x_j v \\sigma '$$"
   ]
  },
  {
   "cell_type": "code",
   "execution_count": 10,
   "metadata": {
    "code_folding": [],
    "hidden": true
   },
   "outputs": [],
   "source": [
    "def dN_dwj(x, y, p, j):\n",
    "    xj = x if j==0 else y\n",
    "    v = p[2]\n",
    "    z_ = z(x, y, p)\n",
    "    return xj * v * sig1(z_)"
   ]
  },
  {
   "cell_type": "markdown",
   "metadata": {
    "hidden": true
   },
   "source": [
    "$$ \\frac{\\partial}{\\partial w_j} \\frac{\\partial N}{\\partial x_k} = x_j v w_k \\sigma'' + v_i \\sigma' \\quad\\text{ if } j = k$$\n",
    "\n",
    "$$ \\frac{\\partial}{\\partial w_j} \\frac{\\partial N}{\\partial x_k} = x_j v w_k \\sigma'' \\quad\\text{ if } j \\neq k$$"
   ]
  },
  {
   "cell_type": "code",
   "execution_count": 11,
   "metadata": {
    "code_folding": [],
    "hidden": true
   },
   "outputs": [],
   "source": [
    "def d_dwj_dN_dxk(x, y, p, j, k):\n",
    "    xj = x if j==0 else y\n",
    "    wk = p[0][k]\n",
    "    jk = 1 if j==k else 0\n",
    "    v = p[2]\n",
    "    z_ = z(x, y, p)\n",
    "    return xj * v * wk * sig2(z_) + jk * v * sig1(z_)"
   ]
  },
  {
   "cell_type": "markdown",
   "metadata": {
    "hidden": true
   },
   "source": [
    "$$ \\frac{\\partial}{\\partial w_j} \\frac{\\partial^2 N}{\\partial x_k^2} = x_j v w_k^2 \\sigma^{(3)} + 2 v w_k \\sigma'' \\quad\\text{ if } j = k $$\n",
    "\n",
    "$$ \\frac{\\partial}{\\partial w_j} \\frac{\\partial^2 N}{\\partial x_k^2} = x_j v w_k^2 \\sigma^{(3)} \\quad\\text{ if } j \\neq k $$"
   ]
  },
  {
   "cell_type": "code",
   "execution_count": 12,
   "metadata": {
    "code_folding": [],
    "hidden": true
   },
   "outputs": [],
   "source": [
    "def d_dwj_dN2_dxk2(x, y, p, j, k):\n",
    "    xj = x if j==0 else y\n",
    "    wk = p[0][k]\n",
    "    jk = 1 if j==k else 0\n",
    "    v = p[2]\n",
    "    z_ = z(x, y, p)\n",
    "    return xj * v * (wk**2) * sig3(z_) + jk * 2 * v * wk * sig2(z_)"
   ]
  },
  {
   "cell_type": "markdown",
   "metadata": {
    "hidden": true
   },
   "source": [
    "$$ \\frac{\\partial}{\\partial u} \\frac{\\partial^k}{\\partial x_j^k} N = v w_j^k \\sigma^{(k+1)} $$"
   ]
  },
  {
   "cell_type": "code",
   "execution_count": 13,
   "metadata": {
    "code_folding": [],
    "hidden": true
   },
   "outputs": [],
   "source": [
    "def d_du_dkN(x, y, p, j, k):\n",
    "    v = p[2]\n",
    "    wj = p[0][j]\n",
    "    z_ = z(x, y, p)\n",
    "    return v * (wj**k) * sig_pr(z_, k+1)"
   ]
  },
  {
   "cell_type": "markdown",
   "metadata": {
    "hidden": true
   },
   "source": [
    "$$ \\frac{\\partial}{\\partial v} \\frac{\\partial^k}{\\partial x_j^k} N = w_j^k \\sigma^{(k)} $$"
   ]
  },
  {
   "cell_type": "code",
   "execution_count": 14,
   "metadata": {
    "code_folding": [],
    "hidden": true
   },
   "outputs": [],
   "source": [
    "def d_dv_dkN(x, y, p, j, k):\n",
    "    wj = p[0][j]\n",
    "    z_ = z(x, y, p)\n",
    "    return (wj**k) * sig_pr(z_, k)"
   ]
  },
  {
   "cell_type": "markdown",
   "metadata": {
    "heading_collapsed": true,
    "hidden": true
   },
   "source": [
    "## Trial solution"
   ]
  },
  {
   "cell_type": "markdown",
   "metadata": {
    "hidden": true
   },
   "source": [
    "The trial solution is given by: $$\\Psi_t(x,y) = x(1-x)y(1-y)N(x,y,\\vec{p})$$"
   ]
  },
  {
   "cell_type": "code",
   "execution_count": 15,
   "metadata": {
    "hidden": true
   },
   "outputs": [],
   "source": [
    "def psi_t(x, y, p):\n",
    "    return x * (1-x) * y * (1-y) * N(x, y, p)"
   ]
  },
  {
   "cell_type": "markdown",
   "metadata": {
    "hidden": true
   },
   "source": [
    "$$\\frac{\\partial \\Psi_t}{\\partial x_j} = y_j(1-y_j)\\left[ (1-2x_j) N + x_j (1-x_j) \\frac{\\partial N}{\\partial x_j} \\right]$$"
   ]
  },
  {
   "cell_type": "code",
   "execution_count": 16,
   "metadata": {
    "hidden": true
   },
   "outputs": [],
   "source": [
    "def dPsi_dxj(x, y, p, j):\n",
    "    xj = x if j==0 else y\n",
    "    yj = y if j==0 else x\n",
    "    return yj*(1-yj)*((1-2*xj)*N(x,y,p) + xj*(1-xj)*dN_dxj_k(x,y,p,j,1))"
   ]
  },
  {
   "cell_type": "markdown",
   "metadata": {
    "hidden": true
   },
   "source": [
    "$$\\frac{\\partial^2 \\Psi_t}{\\partial x_j^2} = y_j(1-y_j)\\left[ -2N + (2-4x_j) \\frac{\\partial N}{\\partial x_j} + x_j (1-x_j) \\frac{\\partial^2 N}{\\partial x_j^2} \\right]$$"
   ]
  },
  {
   "cell_type": "code",
   "execution_count": 17,
   "metadata": {
    "hidden": true
   },
   "outputs": [],
   "source": [
    "def dPsi2_dxj2(x, y, p, j):\n",
    "    xj = x if j==0 else y\n",
    "    yj = y if j==0 else x\n",
    "    return yj*(1-yj)*(-2*N(x,y,p) + (2-4*xj)*dN_dxj_k(x,y,p,j,1) + xj*(1-xj)*dN_dxj_k(x,y,p,j,2))"
   ]
  },
  {
   "cell_type": "markdown",
   "metadata": {
    "heading_collapsed": true,
    "hidden": true
   },
   "source": [
    "## Cost function"
   ]
  },
  {
   "cell_type": "markdown",
   "metadata": {
    "hidden": true
   },
   "source": [
    "$$E[\\vec{p}] = \\sum_{i \\in \\hat{D}} \\left\\{ \\frac{\\partial^2 \\Psi_t}{\\partial x^2} + \\frac{\\partial^2 \\Psi_t}{\\partial y^2} - f(x,y) \\right\\}^2 $$"
   ]
  },
  {
   "cell_type": "code",
   "execution_count": 18,
   "metadata": {
    "hidden": true
   },
   "outputs": [],
   "source": [
    "def error(x, y, p):\n",
    "    return dPsi2_dxj2(x,y,p,0) + dPsi2_dxj2(x,y,p,1) - f(x,y)"
   ]
  },
  {
   "cell_type": "code",
   "execution_count": 19,
   "metadata": {
    "code_folding": [],
    "hidden": true
   },
   "outputs": [],
   "source": [
    "def cost(points, p):\n",
    "    err = []\n",
    "    for x, y in points:\n",
    "        err_sq = error(x, y, p)**2\n",
    "        err.append(err_sq)\n",
    "        \n",
    "    cost = sum(err)\n",
    "    \n",
    "    return cost"
   ]
  },
  {
   "cell_type": "code",
   "execution_count": 20,
   "metadata": {
    "hidden": true
   },
   "outputs": [],
   "source": [
    "def relative_err(p, nx=100, all_points=None):\n",
    "    if all_points == None:\n",
    "        all_points = list(itertools.product(np.linspace(0, 1, nx), np.linspace(0, 1, nx)))\n",
    "\n",
    "    dOmega = 1. / len(all_points)\n",
    "\n",
    "    trial1 = np.sum(dOmega*np.array([np.linalg.norm(psi_t(x,y,p) - psi_a(x,y))**2\n",
    "                                     for x, y in all_points]))\n",
    "\n",
    "    trial2 = np.sum([dOmega*((dPsi_dxj(x,y,p,0)-psi_a_dx(x,y))**2 +\n",
    "                             (dPsi_dxj(x,y,p,1)-psi_a_dy(x,y))**2)\n",
    "                     for x, y in all_points])\n",
    "\n",
    "    ana1 = np.sum(dOmega*np.array([np.linalg.norm(psi_a(x,y))**2\n",
    "                                         for x, y in all_points]))\n",
    "    ana2 = np.sum([dOmega*(psi_a_dx(x,y)**2 + psi_a_dy(x,y)**2)\n",
    "                   for x, y in all_points])\n",
    "    \n",
    "    rel_err = (trial1 + trial2)**(1/2) / (ana1 + ana2)**(1/2)\n",
    "    \n",
    "    return rel_err"
   ]
  },
  {
   "cell_type": "markdown",
   "metadata": {
    "heading_collapsed": true
   },
   "source": [
    "# Gradients"
   ]
  },
  {
   "cell_type": "markdown",
   "metadata": {
    "hidden": true
   },
   "source": [
    "$$\\frac{\\partial}{\\partial w_j} \\frac{\\partial^2 \\Psi_t}{\\partial x_k^2} = y_k(1-y_k)\\left[ -2\\frac{\\partial N}{\\partial w_j} + (2-4x_k) \\frac{\\partial}{\\partial w_j} \\frac{\\partial N}{\\partial x_k} + x_k(1-x_k) \\frac{\\partial}{\\partial w_j} \\frac{\\partial^2 N}{\\partial x_k^2} \\right]$$"
   ]
  },
  {
   "cell_type": "code",
   "execution_count": 21,
   "metadata": {
    "hidden": true
   },
   "outputs": [],
   "source": [
    "def d_dwj_dPsi2_dxk2(x, y, p, j, k):\n",
    "    xj = x if k==0 else y\n",
    "    yj = y if k==0 else x\n",
    "    return yj*(1-yj)*(-2*dN_dwj(x,y,p,j) + (2-4*xj)*d_dwj_dN_dxk(x,y,p,j,k) + xj*(1-xj)*d_dwj_dN2_dxk2(x,y,p,j,k))"
   ]
  },
  {
   "cell_type": "markdown",
   "metadata": {
    "hidden": true
   },
   "source": [
    "$$\\frac{\\partial}{\\partial u} \\frac{\\partial^2 \\Psi_t}{\\partial x_k^2} = y_k(1-y_k)\\left[ -2\\frac{\\partial N}{\\partial u} + (2-4x_k) \\frac{\\partial}{\\partial u} \\frac{\\partial N}{\\partial x_k} + x_k(1-x_k) \\frac{\\partial}{\\partial u} \\frac{\\partial^2 N}{\\partial x_k^2} \\right]$$"
   ]
  },
  {
   "cell_type": "code",
   "execution_count": 22,
   "metadata": {
    "hidden": true
   },
   "outputs": [],
   "source": [
    "def d_du_dPsi2_dxk2(x, y, p, k):\n",
    "    xj = x if k==0 else y\n",
    "    yj = y if k==0 else x\n",
    "    return yj*(1-yj)*(-2*d_du_dkN(x,y,p,k,0) + (2-4*xj)*d_du_dkN(x,y,p,k,1) + xj*(1-xj)*d_du_dkN(x,y,p,k,2))"
   ]
  },
  {
   "cell_type": "markdown",
   "metadata": {
    "hidden": true
   },
   "source": [
    "$$\\frac{\\partial}{\\partial v} \\frac{\\partial^2 \\Psi_t}{\\partial x_k^2} = y_k(1-y_k)\\left[ -2\\frac{\\partial N}{\\partial v} + (2-4x_k) \\frac{\\partial}{\\partial v} \\frac{\\partial N}{\\partial x_k} + x_k(1-x_k) \\frac{\\partial}{\\partial v} \\frac{\\partial^2 N}{\\partial x_k^2} \\right]$$"
   ]
  },
  {
   "cell_type": "code",
   "execution_count": 23,
   "metadata": {
    "hidden": true
   },
   "outputs": [],
   "source": [
    "def d_dv_dPsi2_dxk2(x, y, p, k):\n",
    "    xj = x if k==0 else y\n",
    "    yj = y if k==0 else x\n",
    "    return yj*(1-yj)*(-2*d_dv_dkN(x,y,p,k,0) + (2-4*xj)*d_dv_dkN(x,y,p,k,1) + xj*(1-xj)*d_dv_dkN(x,y,p,k,2))"
   ]
  },
  {
   "cell_type": "markdown",
   "metadata": {
    "hidden": true
   },
   "source": [
    "$$ \\frac{\\partial E[\\vec{p}]}{\\partial w_j} = \\sum_{i \\in \\hat{D}} \\left\\{ 2 \\text{ (error) } \\left( \\frac{\\partial}{\\partial w_j} \\frac{\\partial^2 \\Psi_t}{\\partial x^2} + \\frac{\\partial}{\\partial w_j} \\frac{\\partial^2 \\Psi_t}{\\partial y^2} \\right) \\right\\}$$"
   ]
  },
  {
   "cell_type": "code",
   "execution_count": 24,
   "metadata": {
    "code_folding": [],
    "hidden": true
   },
   "outputs": [],
   "source": [
    "def dE_dwj(points, p, j):\n",
    "    t1 = []\n",
    "    for x, y in points:\n",
    "        tmp = 2 * error(x,y,p) * (d_dwj_dPsi2_dxk2(x,y,p,j,0) + \n",
    "                                  d_dwj_dPsi2_dxk2(x,y,p,j,1))\n",
    "        t1.append(tmp)\n",
    "    \n",
    "    grad = sum(t1)\n",
    "    \n",
    "    return grad"
   ]
  },
  {
   "cell_type": "markdown",
   "metadata": {
    "hidden": true
   },
   "source": [
    "$$ \\frac{\\partial E[\\vec{p}]}{\\partial u} = \\sum_{i \\in \\hat{D}} \\left\\{ 2 \\text{ (error) } \\left( \\frac{\\partial}{\\partial u} \\frac{\\partial^2 \\Psi_t}{\\partial x^2} + \\frac{\\partial}{\\partial u} \\frac{\\partial^2 \\Psi_t}{\\partial y^2} \\right) \\right\\}$$"
   ]
  },
  {
   "cell_type": "code",
   "execution_count": 25,
   "metadata": {
    "code_folding": [],
    "hidden": true
   },
   "outputs": [],
   "source": [
    "def dE_du(points, p):\n",
    "    t1 = []\n",
    "    for x, y in points:\n",
    "        tmp = 2 * error(x,y,p) * (d_du_dPsi2_dxk2(x,y,p,0) + \n",
    "                                  d_du_dPsi2_dxk2(x,y,p,1))\n",
    "        t1.append(tmp)\n",
    "    \n",
    "    grad = sum(t1)\n",
    "    \n",
    "    return grad"
   ]
  },
  {
   "cell_type": "markdown",
   "metadata": {
    "hidden": true
   },
   "source": [
    "$$ \\frac{\\partial E[\\vec{p}]}{\\partial v} = \\sum_{i \\in \\hat{D}} \\left\\{ 2 \\text{ (error) } \\left( \\frac{\\partial}{\\partial v} \\frac{\\partial^2 \\Psi_t}{\\partial x^2} + \\frac{\\partial}{\\partial v} \\frac{\\partial^2 \\Psi_t}{\\partial y^2} \\right) \\right\\}$$"
   ]
  },
  {
   "cell_type": "code",
   "execution_count": 26,
   "metadata": {
    "code_folding": [],
    "hidden": true
   },
   "outputs": [],
   "source": [
    "def dE_dv(points, p):\n",
    "    t1 = []\n",
    "    for x, y in points:\n",
    "        tmp = 2 * error(x,y,p) * (d_dv_dPsi2_dxk2(x,y,p,0) + \n",
    "                                  d_dv_dPsi2_dxk2(x,y,p,1))\n",
    "        t1.append(tmp)\n",
    "    \n",
    "    grad = sum(t1)\n",
    "    \n",
    "    return grad"
   ]
  },
  {
   "cell_type": "markdown",
   "metadata": {
    "heading_collapsed": true
   },
   "source": [
    "# NN class"
   ]
  },
  {
   "cell_type": "code",
   "execution_count": 27,
   "metadata": {
    "hidden": true
   },
   "outputs": [],
   "source": [
    "def initialize_p(hidden_nodes):\n",
    "    w1 = np.random.randn(hidden_nodes)\n",
    "    v = np.random.randn(hidden_nodes)\n",
    "    w0 = []\n",
    "    u = []\n",
    "\n",
    "    for w1_sample in w1:\n",
    "        x = []\n",
    "        y = []\n",
    "        for side in np.random.choice(4, 2, replace=False):\n",
    "            if side == 0:\n",
    "                x.append(0)\n",
    "                y.append(np.random.uniform(0.1,0.9,1)[0])\n",
    "            elif side == 1:\n",
    "                x.append(np.random.uniform(0.1,0.9,1)[0])\n",
    "                y.append(1)\n",
    "            elif side == 2:\n",
    "                x.append(1)\n",
    "                y.append(np.random.uniform(0.1,0.9,1)[0])\n",
    "            elif side == 3:\n",
    "                x.append(np.random.uniform(0.1,0.9,1)[0])\n",
    "                y.append(0)\n",
    "\n",
    "        slope = (y[1] - y[0]) / (x[1] - x[0])\n",
    "        w0.append(-slope * w1_sample)\n",
    "        u.append((slope*x[0] - y[0]) * w1_sample)\n",
    "\n",
    "    p = np.array([np.array([np.array(w0), np.array(w1)]), \n",
    "                  np.array(u), np.array(v)])\n",
    "    \n",
    "    return p"
   ]
  },
  {
   "cell_type": "code",
   "execution_count": 28,
   "metadata": {
    "hidden": true
   },
   "outputs": [],
   "source": [
    "def get_mini_batches(points, batch_size):\n",
    "    np.random.shuffle(points)\n",
    "    \n",
    "    no_of_splits = np.ceil(len(points) / batch_size)\n",
    "\n",
    "    mini_batch_points = np.array_split(points, no_of_splits)\n",
    "    \n",
    "    return mini_batch_points"
   ]
  },
  {
   "cell_type": "code",
   "execution_count": 29,
   "metadata": {
    "code_folding": [
     57,
     63
    ],
    "hidden": true
   },
   "outputs": [],
   "source": [
    "class NNTrain:\n",
    "    def __init__(self, nx=10, hidden_nodes=10, alpha=0.01, batch_size=50,\n",
    "                 beta=0.9, update_interval=50, if_rel_err=False,\n",
    "                 output_file='output/output.csv'):\n",
    "\n",
    "        self.output_file = output_file\n",
    "        self.training_started = False\n",
    "        self.nx = nx\n",
    "        self.hidden_nodes = hidden_nodes\n",
    "        self.alpha = alpha\n",
    "        self.batch_size = batch_size\n",
    "        self.beta = beta\n",
    "        self.update_interval = update_interval\n",
    "        self.points = list(itertools.product(\n",
    "            np.linspace(0, 1, nx), np.linspace(0, 1, nx)))\n",
    "        self.cost_rate = []\n",
    "        self.if_rel_err = if_rel_err\n",
    "        if self.if_rel_err:\n",
    "            self.rel_err = []\n",
    "        self.p = initialize_p(hidden_nodes)\n",
    "        self.m_t = np.array([np.zeros(hidden_nodes),\n",
    "                             np.zeros(hidden_nodes),\n",
    "                             np.zeros(hidden_nodes),\n",
    "                             np.zeros(hidden_nodes)])\n",
    "\n",
    "        \n",
    "    def sgd_mt(self, w, g_t, theta_0):\n",
    "        # gradient descent with momentum\n",
    "        self.m_t[w] = self.beta * self.m_t[w] + (1-self.beta) * g_t\n",
    "        theta_0 = theta_0 - (self.alpha*self.m_t[w])\n",
    "\n",
    "        return theta_0\n",
    "\n",
    "    \n",
    "    def train(self, itr=1000):\n",
    "        if self.training_started:\n",
    "            mode = 'a'\n",
    "        else:\n",
    "            mode = 'w'\n",
    "        self.training_started = True\n",
    "\n",
    "        with open(self.output_file, mode) as file:\n",
    "            if mode == 'w':\n",
    "                if self.if_rel_err:\n",
    "                    file.write(\n",
    "                        'Iteration,Cost,Cost Diff,Relative Error,Relative Error Diff\\n')\n",
    "                else:\n",
    "                    file.write('Iteration,Cost,Cost Diff\\n')\n",
    "            start = len(self.cost_rate)-1\n",
    "            if start < 1:\n",
    "                start += 1\n",
    "                self.cost_rate.append(cost(self.points, self.p))\n",
    "                if self.if_rel_err:\n",
    "                    self.rel_err.append(relative_err(\n",
    "                        self.p, all_points=self.points))\n",
    "\n",
    "            i = start\n",
    "            while i < start+itr:\n",
    "                mini_batch_points = get_mini_batches(\n",
    "                    self.points, self.batch_size)\n",
    "\n",
    "                for mini_point in mini_batch_points:\n",
    "                    mini_point = list(mini_point)\n",
    "\n",
    "                    g_w0 = dE_dwj(mini_point, self.p, 0)\n",
    "                    g_w1 = dE_dwj(mini_point, self.p, 1)\n",
    "                    g_u = dE_du(mini_point, self.p)\n",
    "                    g_v = dE_dv(mini_point, self.p)\n",
    "\n",
    "                    self.p[0][0] = self.sgd_mt(0, g_w0, self.p[0][0])\n",
    "                    self.p[0][1] = self.sgd_mt(1, g_w1, self.p[0][1])\n",
    "                    self.p[1] = self.sgd_mt(2, g_u, self.p[1])\n",
    "                    self.p[2] = self.sgd_mt(3, g_v, self.p[2])\n",
    "\n",
    "                self.cost_rate.append(cost(self.points, self.p))\n",
    "                cost_diff = self.cost_rate[i]-self.cost_rate[i+1]\n",
    "                if self.if_rel_err:\n",
    "                    self.rel_err.append(relative_err(\n",
    "                        self.p, all_points=self.points))\n",
    "                    rel_diff = self.rel_err[i]-self.rel_err[i+1]\n",
    "\n",
    "                if self.if_rel_err:\n",
    "                    file.write('{},{:.8f},{:.8f},{:.8f},{:.8f}\\n'.format(\n",
    "                        i+1, self.cost_rate[i+1], cost_diff,\n",
    "                        self.rel_err[i+1], rel_diff))\n",
    "                else:\n",
    "                    file.write('{},{:.8f},{:.8f}\\n'.format(\n",
    "                        i+1, self.cost_rate[i+1], cost_diff))\n",
    "\n",
    "                if i % self.update_interval == 0:\n",
    "                    file.flush()\n",
    "\n",
    "                i += 1\n",
    "\n",
    "                \n",
    "    def save_result(self, output_name=''):\n",
    "        timestr = time.strftime(\"%Y%m%d-%H%M\")\n",
    "        np.savez('output/' + timestr + '_' +\n",
    "                 output_name + '_nn_params.npz', self.p)\n",
    "        np.savez('output/' + timestr + '_' + output_name +\n",
    "                 '_cost_rate.npz', self.cost_rate)\n",
    "        if self.if_rel_err:\n",
    "            np.savez('output/' + timestr + '_' +\n",
    "                     output_name + '_rel_err.npz', self.rel_err)"
   ]
  },
  {
   "cell_type": "code",
   "execution_count": null,
   "metadata": {
    "hidden": true
   },
   "outputs": [],
   "source": []
  },
  {
   "cell_type": "markdown",
   "metadata": {
    "heading_collapsed": true
   },
   "source": [
    "# Graphs"
   ]
  },
  {
   "cell_type": "code",
   "execution_count": 30,
   "metadata": {
    "hidden": true
   },
   "outputs": [],
   "source": [
    "%matplotlib notebook\n",
    "%matplotlib notebook"
   ]
  },
  {
   "cell_type": "markdown",
   "metadata": {
    "heading_collapsed": true,
    "hidden": true
   },
   "source": [
    "## Hidden Nodes"
   ]
  },
  {
   "cell_type": "code",
   "execution_count": 31,
   "metadata": {
    "hidden": true
   },
   "outputs": [],
   "source": [
    "def plot_nodes(a, save_name=None, save=True, zlim=True):\n",
    "    p = a.p\n",
    "    hmax = a.p[0][0].shape[0]\n",
    "    col = int(np.sqrt(hmax)) if int(np.sqrt(hmax)) < 10 else 10\n",
    "    row = np.ceil(hmax / col)\n",
    "    \n",
    "    d_x=0.1\n",
    "\n",
    "    fig = plt.figure(figsize=(col*3, row*3), dpi=100)\n",
    "    for h in range(1,hmax+1):\n",
    "        ax = fig.add_subplot(row,col,h, projection='3d')\n",
    "        x = y = np.arange(0, 1+d_x, d_x)\n",
    "        X, Y = np.meshgrid(x, y)\n",
    "\n",
    "        zs = np.array([p[1][h-1]*sig(z(x,y,p))[h-1] for x,y in zip(np.ravel(X), np.ravel(Y))])\n",
    "        Z = zs.reshape(X.shape)\n",
    "\n",
    "        ax.set_xlabel('x')\n",
    "        ax.set_ylabel('y')\n",
    "        if zlim:\n",
    "            ax.set_zlim(0,1)\n",
    "\n",
    "        ax.plot_surface(X, Y, Z, cmap=cm.coolwarm)\n",
    "        ax.title.set_text('HN: ' + str(h) + ', v=' + \"{:.4E}\".format(p[1][h-1]))\n",
    "        time.sleep(0.2)\n",
    "\n",
    "    if save==True:\n",
    "        if save_name is None: \n",
    "            plt.savefig('t'+str(T)+'_h'+str(hmax)+'_n'+str(a.nx)+'.png')\n",
    "        else:\n",
    "            plt.savefig(save_name)\n",
    "    else:\n",
    "        plt.show()"
   ]
  },
  {
   "cell_type": "markdown",
   "metadata": {
    "heading_collapsed": true,
    "hidden": true
   },
   "source": [
    "## Error vs Iterations"
   ]
  },
  {
   "cell_type": "code",
   "execution_count": 32,
   "metadata": {
    "hidden": true
   },
   "outputs": [],
   "source": [
    "def plot_iteration(arr, min_it=0, max_it=None):\n",
    "    plt.figure()\n",
    "    plt.plot(np.arange(len(arr[min_it:max_it])), np.array(arr[min_it:max_it]))\n",
    "    plt.show()"
   ]
  },
  {
   "cell_type": "markdown",
   "metadata": {
    "heading_collapsed": true,
    "hidden": true
   },
   "source": [
    "## Solution Accuracy on the domain"
   ]
  },
  {
   "cell_type": "code",
   "execution_count": 33,
   "metadata": {
    "hidden": true
   },
   "outputs": [],
   "source": [
    "def plot_fun(fun, zlim=False, title=None, return_ax=False, **kwargs):\n",
    "    d_x=0.01\n",
    "    fig = plt.figure()\n",
    "    ax = fig.add_subplot(111, projection='3d')\n",
    "    x = y = np.arange(0, 1.0+d_x, d_x)\n",
    "    X, Y = np.meshgrid(x, y)\n",
    "\n",
    "    zs = np.array([fun(x,y,**kwargs) for x,y in zip(np.ravel(X), np.ravel(Y))])\n",
    "    Z = zs.reshape(X.shape)\n",
    "\n",
    "    ax.plot_surface(X, Y, Z, cmap=cm.coolwarm_r)\n",
    "    # ax.ticklabel_format(style='sci', axis='z', scilimits=(0,0), useOffset=True, useMathText=True)\n",
    "\n",
    "\n",
    "    ax.set_xlabel('x')\n",
    "    ax.set_ylabel('y')\n",
    "    ax.title.set_text(title)\n",
    "    \n",
    "    if zlim:\n",
    "        ax.set_zlim(0,1)\n",
    "\n",
    "    if return_ax:\n",
    "        return ax\n",
    "    else:\n",
    "        plt.show()"
   ]
  },
  {
   "cell_type": "code",
   "execution_count": 34,
   "metadata": {
    "hidden": true
   },
   "outputs": [],
   "source": [
    "def plot_partitions(p):\n",
    "    plt.plot([0,0,1,1,0], [0,1,1,0,0], linewidth=3)\n",
    "\n",
    "    for HN in range(len(p[1])):\n",
    "        x = np.linspace(-1,2,500)\n",
    "        y = -(p[1][HN] + p[0][0][HN]*x) / p[0][1][HN]\n",
    "\n",
    "        plt.plot(x, y, label=HN)\n",
    "\n",
    "    plt.xlim(-1,2)\n",
    "    plt.ylim(-1,2)"
   ]
  },
  {
   "cell_type": "markdown",
   "metadata": {},
   "source": [
    "# Training"
   ]
  },
  {
   "cell_type": "code",
   "execution_count": 37,
   "metadata": {},
   "outputs": [],
   "source": [
    "K=10\n",
    "a = NNTrain(nx=60, hidden_nodes=40, alpha=1e-4, batch_size=50, update_interval=10, if_rel_err=True, output_file='out/out5.csv')"
   ]
  },
  {
   "cell_type": "code",
   "execution_count": null,
   "metadata": {},
   "outputs": [],
   "source": [
    "p=[]\n",
    "p.append(copy.deepcopy(a.p))\n",
    "a.train(100)"
   ]
  },
  {
   "cell_type": "code",
   "execution_count": null,
   "metadata": {
    "scrolled": true
   },
   "outputs": [],
   "source": [
    "thresh=1e-5\n",
    "\n",
    "for i in range(10000):\n",
    "    p.append(copy.deepcopy(a.p))\n",
    "    if np.mean([np.abs(s-t) for s, t in zip(a.cost_rate[-21:], a.cost_rate[-20:])]) < thresh:\n",
    "        break\n",
    "    a.train(100)"
   ]
  },
  {
   "cell_type": "markdown",
   "metadata": {},
   "source": [
    "Etc"
   ]
  },
  {
   "cell_type": "code",
   "execution_count": 41,
   "metadata": {},
   "outputs": [
    {
     "name": "stdout",
     "output_type": "stream",
     "text": [
      "relative error: 0.0008904826470321322\n"
     ]
    }
   ],
   "source": [
    "print('relative error:', relative_err(a.p, nx=100))"
   ]
  },
  {
   "cell_type": "code",
   "execution_count": 42,
   "metadata": {},
   "outputs": [
    {
     "data": {
      "application/javascript": [
       "/* Put everything inside the global mpl namespace */\n",
       "window.mpl = {};\n",
       "\n",
       "\n",
       "mpl.get_websocket_type = function() {\n",
       "    if (typeof(WebSocket) !== 'undefined') {\n",
       "        return WebSocket;\n",
       "    } else if (typeof(MozWebSocket) !== 'undefined') {\n",
       "        return MozWebSocket;\n",
       "    } else {\n",
       "        alert('Your browser does not have WebSocket support.' +\n",
       "              'Please try Chrome, Safari or Firefox ≥ 6. ' +\n",
       "              'Firefox 4 and 5 are also supported but you ' +\n",
       "              'have to enable WebSockets in about:config.');\n",
       "    };\n",
       "}\n",
       "\n",
       "mpl.figure = function(figure_id, websocket, ondownload, parent_element) {\n",
       "    this.id = figure_id;\n",
       "\n",
       "    this.ws = websocket;\n",
       "\n",
       "    this.supports_binary = (this.ws.binaryType != undefined);\n",
       "\n",
       "    if (!this.supports_binary) {\n",
       "        var warnings = document.getElementById(\"mpl-warnings\");\n",
       "        if (warnings) {\n",
       "            warnings.style.display = 'block';\n",
       "            warnings.textContent = (\n",
       "                \"This browser does not support binary websocket messages. \" +\n",
       "                    \"Performance may be slow.\");\n",
       "        }\n",
       "    }\n",
       "\n",
       "    this.imageObj = new Image();\n",
       "\n",
       "    this.context = undefined;\n",
       "    this.message = undefined;\n",
       "    this.canvas = undefined;\n",
       "    this.rubberband_canvas = undefined;\n",
       "    this.rubberband_context = undefined;\n",
       "    this.format_dropdown = undefined;\n",
       "\n",
       "    this.image_mode = 'full';\n",
       "\n",
       "    this.root = $('<div/>');\n",
       "    this._root_extra_style(this.root)\n",
       "    this.root.attr('style', 'display: inline-block');\n",
       "\n",
       "    $(parent_element).append(this.root);\n",
       "\n",
       "    this._init_header(this);\n",
       "    this._init_canvas(this);\n",
       "    this._init_toolbar(this);\n",
       "\n",
       "    var fig = this;\n",
       "\n",
       "    this.waiting = false;\n",
       "\n",
       "    this.ws.onopen =  function () {\n",
       "            fig.send_message(\"supports_binary\", {value: fig.supports_binary});\n",
       "            fig.send_message(\"send_image_mode\", {});\n",
       "            if (mpl.ratio != 1) {\n",
       "                fig.send_message(\"set_dpi_ratio\", {'dpi_ratio': mpl.ratio});\n",
       "            }\n",
       "            fig.send_message(\"refresh\", {});\n",
       "        }\n",
       "\n",
       "    this.imageObj.onload = function() {\n",
       "            if (fig.image_mode == 'full') {\n",
       "                // Full images could contain transparency (where diff images\n",
       "                // almost always do), so we need to clear the canvas so that\n",
       "                // there is no ghosting.\n",
       "                fig.context.clearRect(0, 0, fig.canvas.width, fig.canvas.height);\n",
       "            }\n",
       "            fig.context.drawImage(fig.imageObj, 0, 0);\n",
       "        };\n",
       "\n",
       "    this.imageObj.onunload = function() {\n",
       "        fig.ws.close();\n",
       "    }\n",
       "\n",
       "    this.ws.onmessage = this._make_on_message_function(this);\n",
       "\n",
       "    this.ondownload = ondownload;\n",
       "}\n",
       "\n",
       "mpl.figure.prototype._init_header = function() {\n",
       "    var titlebar = $(\n",
       "        '<div class=\"ui-dialog-titlebar ui-widget-header ui-corner-all ' +\n",
       "        'ui-helper-clearfix\"/>');\n",
       "    var titletext = $(\n",
       "        '<div class=\"ui-dialog-title\" style=\"width: 100%; ' +\n",
       "        'text-align: center; padding: 3px;\"/>');\n",
       "    titlebar.append(titletext)\n",
       "    this.root.append(titlebar);\n",
       "    this.header = titletext[0];\n",
       "}\n",
       "\n",
       "\n",
       "\n",
       "mpl.figure.prototype._canvas_extra_style = function(canvas_div) {\n",
       "\n",
       "}\n",
       "\n",
       "\n",
       "mpl.figure.prototype._root_extra_style = function(canvas_div) {\n",
       "\n",
       "}\n",
       "\n",
       "mpl.figure.prototype._init_canvas = function() {\n",
       "    var fig = this;\n",
       "\n",
       "    var canvas_div = $('<div/>');\n",
       "\n",
       "    canvas_div.attr('style', 'position: relative; clear: both; outline: 0');\n",
       "\n",
       "    function canvas_keyboard_event(event) {\n",
       "        return fig.key_event(event, event['data']);\n",
       "    }\n",
       "\n",
       "    canvas_div.keydown('key_press', canvas_keyboard_event);\n",
       "    canvas_div.keyup('key_release', canvas_keyboard_event);\n",
       "    this.canvas_div = canvas_div\n",
       "    this._canvas_extra_style(canvas_div)\n",
       "    this.root.append(canvas_div);\n",
       "\n",
       "    var canvas = $('<canvas/>');\n",
       "    canvas.addClass('mpl-canvas');\n",
       "    canvas.attr('style', \"left: 0; top: 0; z-index: 0; outline: 0\")\n",
       "\n",
       "    this.canvas = canvas[0];\n",
       "    this.context = canvas[0].getContext(\"2d\");\n",
       "\n",
       "    var backingStore = this.context.backingStorePixelRatio ||\n",
       "\tthis.context.webkitBackingStorePixelRatio ||\n",
       "\tthis.context.mozBackingStorePixelRatio ||\n",
       "\tthis.context.msBackingStorePixelRatio ||\n",
       "\tthis.context.oBackingStorePixelRatio ||\n",
       "\tthis.context.backingStorePixelRatio || 1;\n",
       "\n",
       "    mpl.ratio = (window.devicePixelRatio || 1) / backingStore;\n",
       "\n",
       "    var rubberband = $('<canvas/>');\n",
       "    rubberband.attr('style', \"position: absolute; left: 0; top: 0; z-index: 1;\")\n",
       "\n",
       "    var pass_mouse_events = true;\n",
       "\n",
       "    canvas_div.resizable({\n",
       "        start: function(event, ui) {\n",
       "            pass_mouse_events = false;\n",
       "        },\n",
       "        resize: function(event, ui) {\n",
       "            fig.request_resize(ui.size.width, ui.size.height);\n",
       "        },\n",
       "        stop: function(event, ui) {\n",
       "            pass_mouse_events = true;\n",
       "            fig.request_resize(ui.size.width, ui.size.height);\n",
       "        },\n",
       "    });\n",
       "\n",
       "    function mouse_event_fn(event) {\n",
       "        if (pass_mouse_events)\n",
       "            return fig.mouse_event(event, event['data']);\n",
       "    }\n",
       "\n",
       "    rubberband.mousedown('button_press', mouse_event_fn);\n",
       "    rubberband.mouseup('button_release', mouse_event_fn);\n",
       "    // Throttle sequential mouse events to 1 every 20ms.\n",
       "    rubberband.mousemove('motion_notify', mouse_event_fn);\n",
       "\n",
       "    rubberband.mouseenter('figure_enter', mouse_event_fn);\n",
       "    rubberband.mouseleave('figure_leave', mouse_event_fn);\n",
       "\n",
       "    canvas_div.on(\"wheel\", function (event) {\n",
       "        event = event.originalEvent;\n",
       "        event['data'] = 'scroll'\n",
       "        if (event.deltaY < 0) {\n",
       "            event.step = 1;\n",
       "        } else {\n",
       "            event.step = -1;\n",
       "        }\n",
       "        mouse_event_fn(event);\n",
       "    });\n",
       "\n",
       "    canvas_div.append(canvas);\n",
       "    canvas_div.append(rubberband);\n",
       "\n",
       "    this.rubberband = rubberband;\n",
       "    this.rubberband_canvas = rubberband[0];\n",
       "    this.rubberband_context = rubberband[0].getContext(\"2d\");\n",
       "    this.rubberband_context.strokeStyle = \"#000000\";\n",
       "\n",
       "    this._resize_canvas = function(width, height) {\n",
       "        // Keep the size of the canvas, canvas container, and rubber band\n",
       "        // canvas in synch.\n",
       "        canvas_div.css('width', width)\n",
       "        canvas_div.css('height', height)\n",
       "\n",
       "        canvas.attr('width', width * mpl.ratio);\n",
       "        canvas.attr('height', height * mpl.ratio);\n",
       "        canvas.attr('style', 'width: ' + width + 'px; height: ' + height + 'px;');\n",
       "\n",
       "        rubberband.attr('width', width);\n",
       "        rubberband.attr('height', height);\n",
       "    }\n",
       "\n",
       "    // Set the figure to an initial 600x600px, this will subsequently be updated\n",
       "    // upon first draw.\n",
       "    this._resize_canvas(600, 600);\n",
       "\n",
       "    // Disable right mouse context menu.\n",
       "    $(this.rubberband_canvas).bind(\"contextmenu\",function(e){\n",
       "        return false;\n",
       "    });\n",
       "\n",
       "    function set_focus () {\n",
       "        canvas.focus();\n",
       "        canvas_div.focus();\n",
       "    }\n",
       "\n",
       "    window.setTimeout(set_focus, 100);\n",
       "}\n",
       "\n",
       "mpl.figure.prototype._init_toolbar = function() {\n",
       "    var fig = this;\n",
       "\n",
       "    var nav_element = $('<div/>')\n",
       "    nav_element.attr('style', 'width: 100%');\n",
       "    this.root.append(nav_element);\n",
       "\n",
       "    // Define a callback function for later on.\n",
       "    function toolbar_event(event) {\n",
       "        return fig.toolbar_button_onclick(event['data']);\n",
       "    }\n",
       "    function toolbar_mouse_event(event) {\n",
       "        return fig.toolbar_button_onmouseover(event['data']);\n",
       "    }\n",
       "\n",
       "    for(var toolbar_ind in mpl.toolbar_items) {\n",
       "        var name = mpl.toolbar_items[toolbar_ind][0];\n",
       "        var tooltip = mpl.toolbar_items[toolbar_ind][1];\n",
       "        var image = mpl.toolbar_items[toolbar_ind][2];\n",
       "        var method_name = mpl.toolbar_items[toolbar_ind][3];\n",
       "\n",
       "        if (!name) {\n",
       "            // put a spacer in here.\n",
       "            continue;\n",
       "        }\n",
       "        var button = $('<button/>');\n",
       "        button.addClass('ui-button ui-widget ui-state-default ui-corner-all ' +\n",
       "                        'ui-button-icon-only');\n",
       "        button.attr('role', 'button');\n",
       "        button.attr('aria-disabled', 'false');\n",
       "        button.click(method_name, toolbar_event);\n",
       "        button.mouseover(tooltip, toolbar_mouse_event);\n",
       "\n",
       "        var icon_img = $('<span/>');\n",
       "        icon_img.addClass('ui-button-icon-primary ui-icon');\n",
       "        icon_img.addClass(image);\n",
       "        icon_img.addClass('ui-corner-all');\n",
       "\n",
       "        var tooltip_span = $('<span/>');\n",
       "        tooltip_span.addClass('ui-button-text');\n",
       "        tooltip_span.html(tooltip);\n",
       "\n",
       "        button.append(icon_img);\n",
       "        button.append(tooltip_span);\n",
       "\n",
       "        nav_element.append(button);\n",
       "    }\n",
       "\n",
       "    var fmt_picker_span = $('<span/>');\n",
       "\n",
       "    var fmt_picker = $('<select/>');\n",
       "    fmt_picker.addClass('mpl-toolbar-option ui-widget ui-widget-content');\n",
       "    fmt_picker_span.append(fmt_picker);\n",
       "    nav_element.append(fmt_picker_span);\n",
       "    this.format_dropdown = fmt_picker[0];\n",
       "\n",
       "    for (var ind in mpl.extensions) {\n",
       "        var fmt = mpl.extensions[ind];\n",
       "        var option = $(\n",
       "            '<option/>', {selected: fmt === mpl.default_extension}).html(fmt);\n",
       "        fmt_picker.append(option)\n",
       "    }\n",
       "\n",
       "    // Add hover states to the ui-buttons\n",
       "    $( \".ui-button\" ).hover(\n",
       "        function() { $(this).addClass(\"ui-state-hover\");},\n",
       "        function() { $(this).removeClass(\"ui-state-hover\");}\n",
       "    );\n",
       "\n",
       "    var status_bar = $('<span class=\"mpl-message\"/>');\n",
       "    nav_element.append(status_bar);\n",
       "    this.message = status_bar[0];\n",
       "}\n",
       "\n",
       "mpl.figure.prototype.request_resize = function(x_pixels, y_pixels) {\n",
       "    // Request matplotlib to resize the figure. Matplotlib will then trigger a resize in the client,\n",
       "    // which will in turn request a refresh of the image.\n",
       "    this.send_message('resize', {'width': x_pixels, 'height': y_pixels});\n",
       "}\n",
       "\n",
       "mpl.figure.prototype.send_message = function(type, properties) {\n",
       "    properties['type'] = type;\n",
       "    properties['figure_id'] = this.id;\n",
       "    this.ws.send(JSON.stringify(properties));\n",
       "}\n",
       "\n",
       "mpl.figure.prototype.send_draw_message = function() {\n",
       "    if (!this.waiting) {\n",
       "        this.waiting = true;\n",
       "        this.ws.send(JSON.stringify({type: \"draw\", figure_id: this.id}));\n",
       "    }\n",
       "}\n",
       "\n",
       "\n",
       "mpl.figure.prototype.handle_save = function(fig, msg) {\n",
       "    var format_dropdown = fig.format_dropdown;\n",
       "    var format = format_dropdown.options[format_dropdown.selectedIndex].value;\n",
       "    fig.ondownload(fig, format);\n",
       "}\n",
       "\n",
       "\n",
       "mpl.figure.prototype.handle_resize = function(fig, msg) {\n",
       "    var size = msg['size'];\n",
       "    if (size[0] != fig.canvas.width || size[1] != fig.canvas.height) {\n",
       "        fig._resize_canvas(size[0], size[1]);\n",
       "        fig.send_message(\"refresh\", {});\n",
       "    };\n",
       "}\n",
       "\n",
       "mpl.figure.prototype.handle_rubberband = function(fig, msg) {\n",
       "    var x0 = msg['x0'] / mpl.ratio;\n",
       "    var y0 = (fig.canvas.height - msg['y0']) / mpl.ratio;\n",
       "    var x1 = msg['x1'] / mpl.ratio;\n",
       "    var y1 = (fig.canvas.height - msg['y1']) / mpl.ratio;\n",
       "    x0 = Math.floor(x0) + 0.5;\n",
       "    y0 = Math.floor(y0) + 0.5;\n",
       "    x1 = Math.floor(x1) + 0.5;\n",
       "    y1 = Math.floor(y1) + 0.5;\n",
       "    var min_x = Math.min(x0, x1);\n",
       "    var min_y = Math.min(y0, y1);\n",
       "    var width = Math.abs(x1 - x0);\n",
       "    var height = Math.abs(y1 - y0);\n",
       "\n",
       "    fig.rubberband_context.clearRect(\n",
       "        0, 0, fig.canvas.width, fig.canvas.height);\n",
       "\n",
       "    fig.rubberband_context.strokeRect(min_x, min_y, width, height);\n",
       "}\n",
       "\n",
       "mpl.figure.prototype.handle_figure_label = function(fig, msg) {\n",
       "    // Updates the figure title.\n",
       "    fig.header.textContent = msg['label'];\n",
       "}\n",
       "\n",
       "mpl.figure.prototype.handle_cursor = function(fig, msg) {\n",
       "    var cursor = msg['cursor'];\n",
       "    switch(cursor)\n",
       "    {\n",
       "    case 0:\n",
       "        cursor = 'pointer';\n",
       "        break;\n",
       "    case 1:\n",
       "        cursor = 'default';\n",
       "        break;\n",
       "    case 2:\n",
       "        cursor = 'crosshair';\n",
       "        break;\n",
       "    case 3:\n",
       "        cursor = 'move';\n",
       "        break;\n",
       "    }\n",
       "    fig.rubberband_canvas.style.cursor = cursor;\n",
       "}\n",
       "\n",
       "mpl.figure.prototype.handle_message = function(fig, msg) {\n",
       "    fig.message.textContent = msg['message'];\n",
       "}\n",
       "\n",
       "mpl.figure.prototype.handle_draw = function(fig, msg) {\n",
       "    // Request the server to send over a new figure.\n",
       "    fig.send_draw_message();\n",
       "}\n",
       "\n",
       "mpl.figure.prototype.handle_image_mode = function(fig, msg) {\n",
       "    fig.image_mode = msg['mode'];\n",
       "}\n",
       "\n",
       "mpl.figure.prototype.updated_canvas_event = function() {\n",
       "    // Called whenever the canvas gets updated.\n",
       "    this.send_message(\"ack\", {});\n",
       "}\n",
       "\n",
       "// A function to construct a web socket function for onmessage handling.\n",
       "// Called in the figure constructor.\n",
       "mpl.figure.prototype._make_on_message_function = function(fig) {\n",
       "    return function socket_on_message(evt) {\n",
       "        if (evt.data instanceof Blob) {\n",
       "            /* FIXME: We get \"Resource interpreted as Image but\n",
       "             * transferred with MIME type text/plain:\" errors on\n",
       "             * Chrome.  But how to set the MIME type?  It doesn't seem\n",
       "             * to be part of the websocket stream */\n",
       "            evt.data.type = \"image/png\";\n",
       "\n",
       "            /* Free the memory for the previous frames */\n",
       "            if (fig.imageObj.src) {\n",
       "                (window.URL || window.webkitURL).revokeObjectURL(\n",
       "                    fig.imageObj.src);\n",
       "            }\n",
       "\n",
       "            fig.imageObj.src = (window.URL || window.webkitURL).createObjectURL(\n",
       "                evt.data);\n",
       "            fig.updated_canvas_event();\n",
       "            fig.waiting = false;\n",
       "            return;\n",
       "        }\n",
       "        else if (typeof evt.data === 'string' && evt.data.slice(0, 21) == \"data:image/png;base64\") {\n",
       "            fig.imageObj.src = evt.data;\n",
       "            fig.updated_canvas_event();\n",
       "            fig.waiting = false;\n",
       "            return;\n",
       "        }\n",
       "\n",
       "        var msg = JSON.parse(evt.data);\n",
       "        var msg_type = msg['type'];\n",
       "\n",
       "        // Call the  \"handle_{type}\" callback, which takes\n",
       "        // the figure and JSON message as its only arguments.\n",
       "        try {\n",
       "            var callback = fig[\"handle_\" + msg_type];\n",
       "        } catch (e) {\n",
       "            console.log(\"No handler for the '\" + msg_type + \"' message type: \", msg);\n",
       "            return;\n",
       "        }\n",
       "\n",
       "        if (callback) {\n",
       "            try {\n",
       "                // console.log(\"Handling '\" + msg_type + \"' message: \", msg);\n",
       "                callback(fig, msg);\n",
       "            } catch (e) {\n",
       "                console.log(\"Exception inside the 'handler_\" + msg_type + \"' callback:\", e, e.stack, msg);\n",
       "            }\n",
       "        }\n",
       "    };\n",
       "}\n",
       "\n",
       "// from http://stackoverflow.com/questions/1114465/getting-mouse-location-in-canvas\n",
       "mpl.findpos = function(e) {\n",
       "    //this section is from http://www.quirksmode.org/js/events_properties.html\n",
       "    var targ;\n",
       "    if (!e)\n",
       "        e = window.event;\n",
       "    if (e.target)\n",
       "        targ = e.target;\n",
       "    else if (e.srcElement)\n",
       "        targ = e.srcElement;\n",
       "    if (targ.nodeType == 3) // defeat Safari bug\n",
       "        targ = targ.parentNode;\n",
       "\n",
       "    // jQuery normalizes the pageX and pageY\n",
       "    // pageX,Y are the mouse positions relative to the document\n",
       "    // offset() returns the position of the element relative to the document\n",
       "    var x = e.pageX - $(targ).offset().left;\n",
       "    var y = e.pageY - $(targ).offset().top;\n",
       "\n",
       "    return {\"x\": x, \"y\": y};\n",
       "};\n",
       "\n",
       "/*\n",
       " * return a copy of an object with only non-object keys\n",
       " * we need this to avoid circular references\n",
       " * http://stackoverflow.com/a/24161582/3208463\n",
       " */\n",
       "function simpleKeys (original) {\n",
       "  return Object.keys(original).reduce(function (obj, key) {\n",
       "    if (typeof original[key] !== 'object')\n",
       "        obj[key] = original[key]\n",
       "    return obj;\n",
       "  }, {});\n",
       "}\n",
       "\n",
       "mpl.figure.prototype.mouse_event = function(event, name) {\n",
       "    var canvas_pos = mpl.findpos(event)\n",
       "\n",
       "    if (name === 'button_press')\n",
       "    {\n",
       "        this.canvas.focus();\n",
       "        this.canvas_div.focus();\n",
       "    }\n",
       "\n",
       "    var x = canvas_pos.x * mpl.ratio;\n",
       "    var y = canvas_pos.y * mpl.ratio;\n",
       "\n",
       "    this.send_message(name, {x: x, y: y, button: event.button,\n",
       "                             step: event.step,\n",
       "                             guiEvent: simpleKeys(event)});\n",
       "\n",
       "    /* This prevents the web browser from automatically changing to\n",
       "     * the text insertion cursor when the button is pressed.  We want\n",
       "     * to control all of the cursor setting manually through the\n",
       "     * 'cursor' event from matplotlib */\n",
       "    event.preventDefault();\n",
       "    return false;\n",
       "}\n",
       "\n",
       "mpl.figure.prototype._key_event_extra = function(event, name) {\n",
       "    // Handle any extra behaviour associated with a key event\n",
       "}\n",
       "\n",
       "mpl.figure.prototype.key_event = function(event, name) {\n",
       "\n",
       "    // Prevent repeat events\n",
       "    if (name == 'key_press')\n",
       "    {\n",
       "        if (event.which === this._key)\n",
       "            return;\n",
       "        else\n",
       "            this._key = event.which;\n",
       "    }\n",
       "    if (name == 'key_release')\n",
       "        this._key = null;\n",
       "\n",
       "    var value = '';\n",
       "    if (event.ctrlKey && event.which != 17)\n",
       "        value += \"ctrl+\";\n",
       "    if (event.altKey && event.which != 18)\n",
       "        value += \"alt+\";\n",
       "    if (event.shiftKey && event.which != 16)\n",
       "        value += \"shift+\";\n",
       "\n",
       "    value += 'k';\n",
       "    value += event.which.toString();\n",
       "\n",
       "    this._key_event_extra(event, name);\n",
       "\n",
       "    this.send_message(name, {key: value,\n",
       "                             guiEvent: simpleKeys(event)});\n",
       "    return false;\n",
       "}\n",
       "\n",
       "mpl.figure.prototype.toolbar_button_onclick = function(name) {\n",
       "    if (name == 'download') {\n",
       "        this.handle_save(this, null);\n",
       "    } else {\n",
       "        this.send_message(\"toolbar_button\", {name: name});\n",
       "    }\n",
       "};\n",
       "\n",
       "mpl.figure.prototype.toolbar_button_onmouseover = function(tooltip) {\n",
       "    this.message.textContent = tooltip;\n",
       "};\n",
       "mpl.toolbar_items = [[\"Home\", \"Reset original view\", \"fa fa-home icon-home\", \"home\"], [\"Back\", \"Back to previous view\", \"fa fa-arrow-left icon-arrow-left\", \"back\"], [\"Forward\", \"Forward to next view\", \"fa fa-arrow-right icon-arrow-right\", \"forward\"], [\"\", \"\", \"\", \"\"], [\"Pan\", \"Pan axes with left mouse, zoom with right\", \"fa fa-arrows icon-move\", \"pan\"], [\"Zoom\", \"Zoom to rectangle\", \"fa fa-square-o icon-check-empty\", \"zoom\"], [\"\", \"\", \"\", \"\"], [\"Download\", \"Download plot\", \"fa fa-floppy-o icon-save\", \"download\"]];\n",
       "\n",
       "mpl.extensions = [\"eps\", \"jpeg\", \"pdf\", \"png\", \"ps\", \"raw\", \"svg\", \"tif\"];\n",
       "\n",
       "mpl.default_extension = \"png\";var comm_websocket_adapter = function(comm) {\n",
       "    // Create a \"websocket\"-like object which calls the given IPython comm\n",
       "    // object with the appropriate methods. Currently this is a non binary\n",
       "    // socket, so there is still some room for performance tuning.\n",
       "    var ws = {};\n",
       "\n",
       "    ws.close = function() {\n",
       "        comm.close()\n",
       "    };\n",
       "    ws.send = function(m) {\n",
       "        //console.log('sending', m);\n",
       "        comm.send(m);\n",
       "    };\n",
       "    // Register the callback with on_msg.\n",
       "    comm.on_msg(function(msg) {\n",
       "        //console.log('receiving', msg['content']['data'], msg);\n",
       "        // Pass the mpl event to the overridden (by mpl) onmessage function.\n",
       "        ws.onmessage(msg['content']['data'])\n",
       "    });\n",
       "    return ws;\n",
       "}\n",
       "\n",
       "mpl.mpl_figure_comm = function(comm, msg) {\n",
       "    // This is the function which gets called when the mpl process\n",
       "    // starts-up an IPython Comm through the \"matplotlib\" channel.\n",
       "\n",
       "    var id = msg.content.data.id;\n",
       "    // Get hold of the div created by the display call when the Comm\n",
       "    // socket was opened in Python.\n",
       "    var element = $(\"#\" + id);\n",
       "    var ws_proxy = comm_websocket_adapter(comm)\n",
       "\n",
       "    function ondownload(figure, format) {\n",
       "        window.open(figure.imageObj.src);\n",
       "    }\n",
       "\n",
       "    var fig = new mpl.figure(id, ws_proxy,\n",
       "                           ondownload,\n",
       "                           element.get(0));\n",
       "\n",
       "    // Call onopen now - mpl needs it, as it is assuming we've passed it a real\n",
       "    // web socket which is closed, not our websocket->open comm proxy.\n",
       "    ws_proxy.onopen();\n",
       "\n",
       "    fig.parent_element = element.get(0);\n",
       "    fig.cell_info = mpl.find_output_cell(\"<div id='\" + id + \"'></div>\");\n",
       "    if (!fig.cell_info) {\n",
       "        console.error(\"Failed to find cell for figure\", id, fig);\n",
       "        return;\n",
       "    }\n",
       "\n",
       "    var output_index = fig.cell_info[2]\n",
       "    var cell = fig.cell_info[0];\n",
       "\n",
       "};\n",
       "\n",
       "mpl.figure.prototype.handle_close = function(fig, msg) {\n",
       "    var width = fig.canvas.width/mpl.ratio\n",
       "    fig.root.unbind('remove')\n",
       "\n",
       "    // Update the output cell to use the data from the current canvas.\n",
       "    fig.push_to_output();\n",
       "    var dataURL = fig.canvas.toDataURL();\n",
       "    // Re-enable the keyboard manager in IPython - without this line, in FF,\n",
       "    // the notebook keyboard shortcuts fail.\n",
       "    IPython.keyboard_manager.enable()\n",
       "    $(fig.parent_element).html('<img src=\"' + dataURL + '\" width=\"' + width + '\">');\n",
       "    fig.close_ws(fig, msg);\n",
       "}\n",
       "\n",
       "mpl.figure.prototype.close_ws = function(fig, msg){\n",
       "    fig.send_message('closing', msg);\n",
       "    // fig.ws.close()\n",
       "}\n",
       "\n",
       "mpl.figure.prototype.push_to_output = function(remove_interactive) {\n",
       "    // Turn the data on the canvas into data in the output cell.\n",
       "    var width = this.canvas.width/mpl.ratio\n",
       "    var dataURL = this.canvas.toDataURL();\n",
       "    this.cell_info[1]['text/html'] = '<img src=\"' + dataURL + '\" width=\"' + width + '\">';\n",
       "}\n",
       "\n",
       "mpl.figure.prototype.updated_canvas_event = function() {\n",
       "    // Tell IPython that the notebook contents must change.\n",
       "    IPython.notebook.set_dirty(true);\n",
       "    this.send_message(\"ack\", {});\n",
       "    var fig = this;\n",
       "    // Wait a second, then push the new image to the DOM so\n",
       "    // that it is saved nicely (might be nice to debounce this).\n",
       "    setTimeout(function () { fig.push_to_output() }, 1000);\n",
       "}\n",
       "\n",
       "mpl.figure.prototype._init_toolbar = function() {\n",
       "    var fig = this;\n",
       "\n",
       "    var nav_element = $('<div/>')\n",
       "    nav_element.attr('style', 'width: 100%');\n",
       "    this.root.append(nav_element);\n",
       "\n",
       "    // Define a callback function for later on.\n",
       "    function toolbar_event(event) {\n",
       "        return fig.toolbar_button_onclick(event['data']);\n",
       "    }\n",
       "    function toolbar_mouse_event(event) {\n",
       "        return fig.toolbar_button_onmouseover(event['data']);\n",
       "    }\n",
       "\n",
       "    for(var toolbar_ind in mpl.toolbar_items){\n",
       "        var name = mpl.toolbar_items[toolbar_ind][0];\n",
       "        var tooltip = mpl.toolbar_items[toolbar_ind][1];\n",
       "        var image = mpl.toolbar_items[toolbar_ind][2];\n",
       "        var method_name = mpl.toolbar_items[toolbar_ind][3];\n",
       "\n",
       "        if (!name) { continue; };\n",
       "\n",
       "        var button = $('<button class=\"btn btn-default\" href=\"#\" title=\"' + name + '\"><i class=\"fa ' + image + ' fa-lg\"></i></button>');\n",
       "        button.click(method_name, toolbar_event);\n",
       "        button.mouseover(tooltip, toolbar_mouse_event);\n",
       "        nav_element.append(button);\n",
       "    }\n",
       "\n",
       "    // Add the status bar.\n",
       "    var status_bar = $('<span class=\"mpl-message\" style=\"text-align:right; float: right;\"/>');\n",
       "    nav_element.append(status_bar);\n",
       "    this.message = status_bar[0];\n",
       "\n",
       "    // Add the close button to the window.\n",
       "    var buttongrp = $('<div class=\"btn-group inline pull-right\"></div>');\n",
       "    var button = $('<button class=\"btn btn-mini btn-primary\" href=\"#\" title=\"Stop Interaction\"><i class=\"fa fa-power-off icon-remove icon-large\"></i></button>');\n",
       "    button.click(function (evt) { fig.handle_close(fig, {}); } );\n",
       "    button.mouseover('Stop Interaction', toolbar_mouse_event);\n",
       "    buttongrp.append(button);\n",
       "    var titlebar = this.root.find($('.ui-dialog-titlebar'));\n",
       "    titlebar.prepend(buttongrp);\n",
       "}\n",
       "\n",
       "mpl.figure.prototype._root_extra_style = function(el){\n",
       "    var fig = this\n",
       "    el.on(\"remove\", function(){\n",
       "\tfig.close_ws(fig, {});\n",
       "    });\n",
       "}\n",
       "\n",
       "mpl.figure.prototype._canvas_extra_style = function(el){\n",
       "    // this is important to make the div 'focusable\n",
       "    el.attr('tabindex', 0)\n",
       "    // reach out to IPython and tell the keyboard manager to turn it's self\n",
       "    // off when our div gets focus\n",
       "\n",
       "    // location in version 3\n",
       "    if (IPython.notebook.keyboard_manager) {\n",
       "        IPython.notebook.keyboard_manager.register_events(el);\n",
       "    }\n",
       "    else {\n",
       "        // location in version 2\n",
       "        IPython.keyboard_manager.register_events(el);\n",
       "    }\n",
       "\n",
       "}\n",
       "\n",
       "mpl.figure.prototype._key_event_extra = function(event, name) {\n",
       "    var manager = IPython.notebook.keyboard_manager;\n",
       "    if (!manager)\n",
       "        manager = IPython.keyboard_manager;\n",
       "\n",
       "    // Check for shift+enter\n",
       "    if (event.shiftKey && event.which == 13) {\n",
       "        this.canvas_div.blur();\n",
       "        event.shiftKey = false;\n",
       "        // Send a \"J\" for go to next cell\n",
       "        event.which = 74;\n",
       "        event.keyCode = 74;\n",
       "        manager.command_mode();\n",
       "        manager.handle_keydown(event);\n",
       "    }\n",
       "}\n",
       "\n",
       "mpl.figure.prototype.handle_save = function(fig, msg) {\n",
       "    fig.ondownload(fig, null);\n",
       "}\n",
       "\n",
       "\n",
       "mpl.find_output_cell = function(html_output) {\n",
       "    // Return the cell and output element which can be found *uniquely* in the notebook.\n",
       "    // Note - this is a bit hacky, but it is done because the \"notebook_saving.Notebook\"\n",
       "    // IPython event is triggered only after the cells have been serialised, which for\n",
       "    // our purposes (turning an active figure into a static one), is too late.\n",
       "    var cells = IPython.notebook.get_cells();\n",
       "    var ncells = cells.length;\n",
       "    for (var i=0; i<ncells; i++) {\n",
       "        var cell = cells[i];\n",
       "        if (cell.cell_type === 'code'){\n",
       "            for (var j=0; j<cell.output_area.outputs.length; j++) {\n",
       "                var data = cell.output_area.outputs[j];\n",
       "                if (data.data) {\n",
       "                    // IPython >= 3 moved mimebundle to data attribute of output\n",
       "                    data = data.data;\n",
       "                }\n",
       "                if (data['text/html'] == html_output) {\n",
       "                    return [cell, data, j];\n",
       "                }\n",
       "            }\n",
       "        }\n",
       "    }\n",
       "}\n",
       "\n",
       "// Register the function which deals with the matplotlib target/channel.\n",
       "// The kernel may be null if the page has been refreshed.\n",
       "if (IPython.notebook.kernel != null) {\n",
       "    IPython.notebook.kernel.comm_manager.register_target('matplotlib', mpl.mpl_figure_comm);\n",
       "}\n"
      ],
      "text/plain": [
       "<IPython.core.display.Javascript object>"
      ]
     },
     "metadata": {},
     "output_type": "display_data"
    },
    {
     "data": {
      "text/html": [
       "<img src=\"data:image/png;base64,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\" width=\"431.818172458775\">"
      ],
      "text/plain": [
       "<IPython.core.display.HTML object>"
      ]
     },
     "metadata": {},
     "output_type": "display_data"
    }
   ],
   "source": [
    "plot_iteration(a.cost_rate, min_it=1000)"
   ]
  },
  {
   "cell_type": "code",
   "execution_count": 43,
   "metadata": {},
   "outputs": [
    {
     "data": {
      "application/javascript": [
       "/* Put everything inside the global mpl namespace */\n",
       "window.mpl = {};\n",
       "\n",
       "\n",
       "mpl.get_websocket_type = function() {\n",
       "    if (typeof(WebSocket) !== 'undefined') {\n",
       "        return WebSocket;\n",
       "    } else if (typeof(MozWebSocket) !== 'undefined') {\n",
       "        return MozWebSocket;\n",
       "    } else {\n",
       "        alert('Your browser does not have WebSocket support.' +\n",
       "              'Please try Chrome, Safari or Firefox ≥ 6. ' +\n",
       "              'Firefox 4 and 5 are also supported but you ' +\n",
       "              'have to enable WebSockets in about:config.');\n",
       "    };\n",
       "}\n",
       "\n",
       "mpl.figure = function(figure_id, websocket, ondownload, parent_element) {\n",
       "    this.id = figure_id;\n",
       "\n",
       "    this.ws = websocket;\n",
       "\n",
       "    this.supports_binary = (this.ws.binaryType != undefined);\n",
       "\n",
       "    if (!this.supports_binary) {\n",
       "        var warnings = document.getElementById(\"mpl-warnings\");\n",
       "        if (warnings) {\n",
       "            warnings.style.display = 'block';\n",
       "            warnings.textContent = (\n",
       "                \"This browser does not support binary websocket messages. \" +\n",
       "                    \"Performance may be slow.\");\n",
       "        }\n",
       "    }\n",
       "\n",
       "    this.imageObj = new Image();\n",
       "\n",
       "    this.context = undefined;\n",
       "    this.message = undefined;\n",
       "    this.canvas = undefined;\n",
       "    this.rubberband_canvas = undefined;\n",
       "    this.rubberband_context = undefined;\n",
       "    this.format_dropdown = undefined;\n",
       "\n",
       "    this.image_mode = 'full';\n",
       "\n",
       "    this.root = $('<div/>');\n",
       "    this._root_extra_style(this.root)\n",
       "    this.root.attr('style', 'display: inline-block');\n",
       "\n",
       "    $(parent_element).append(this.root);\n",
       "\n",
       "    this._init_header(this);\n",
       "    this._init_canvas(this);\n",
       "    this._init_toolbar(this);\n",
       "\n",
       "    var fig = this;\n",
       "\n",
       "    this.waiting = false;\n",
       "\n",
       "    this.ws.onopen =  function () {\n",
       "            fig.send_message(\"supports_binary\", {value: fig.supports_binary});\n",
       "            fig.send_message(\"send_image_mode\", {});\n",
       "            if (mpl.ratio != 1) {\n",
       "                fig.send_message(\"set_dpi_ratio\", {'dpi_ratio': mpl.ratio});\n",
       "            }\n",
       "            fig.send_message(\"refresh\", {});\n",
       "        }\n",
       "\n",
       "    this.imageObj.onload = function() {\n",
       "            if (fig.image_mode == 'full') {\n",
       "                // Full images could contain transparency (where diff images\n",
       "                // almost always do), so we need to clear the canvas so that\n",
       "                // there is no ghosting.\n",
       "                fig.context.clearRect(0, 0, fig.canvas.width, fig.canvas.height);\n",
       "            }\n",
       "            fig.context.drawImage(fig.imageObj, 0, 0);\n",
       "        };\n",
       "\n",
       "    this.imageObj.onunload = function() {\n",
       "        fig.ws.close();\n",
       "    }\n",
       "\n",
       "    this.ws.onmessage = this._make_on_message_function(this);\n",
       "\n",
       "    this.ondownload = ondownload;\n",
       "}\n",
       "\n",
       "mpl.figure.prototype._init_header = function() {\n",
       "    var titlebar = $(\n",
       "        '<div class=\"ui-dialog-titlebar ui-widget-header ui-corner-all ' +\n",
       "        'ui-helper-clearfix\"/>');\n",
       "    var titletext = $(\n",
       "        '<div class=\"ui-dialog-title\" style=\"width: 100%; ' +\n",
       "        'text-align: center; padding: 3px;\"/>');\n",
       "    titlebar.append(titletext)\n",
       "    this.root.append(titlebar);\n",
       "    this.header = titletext[0];\n",
       "}\n",
       "\n",
       "\n",
       "\n",
       "mpl.figure.prototype._canvas_extra_style = function(canvas_div) {\n",
       "\n",
       "}\n",
       "\n",
       "\n",
       "mpl.figure.prototype._root_extra_style = function(canvas_div) {\n",
       "\n",
       "}\n",
       "\n",
       "mpl.figure.prototype._init_canvas = function() {\n",
       "    var fig = this;\n",
       "\n",
       "    var canvas_div = $('<div/>');\n",
       "\n",
       "    canvas_div.attr('style', 'position: relative; clear: both; outline: 0');\n",
       "\n",
       "    function canvas_keyboard_event(event) {\n",
       "        return fig.key_event(event, event['data']);\n",
       "    }\n",
       "\n",
       "    canvas_div.keydown('key_press', canvas_keyboard_event);\n",
       "    canvas_div.keyup('key_release', canvas_keyboard_event);\n",
       "    this.canvas_div = canvas_div\n",
       "    this._canvas_extra_style(canvas_div)\n",
       "    this.root.append(canvas_div);\n",
       "\n",
       "    var canvas = $('<canvas/>');\n",
       "    canvas.addClass('mpl-canvas');\n",
       "    canvas.attr('style', \"left: 0; top: 0; z-index: 0; outline: 0\")\n",
       "\n",
       "    this.canvas = canvas[0];\n",
       "    this.context = canvas[0].getContext(\"2d\");\n",
       "\n",
       "    var backingStore = this.context.backingStorePixelRatio ||\n",
       "\tthis.context.webkitBackingStorePixelRatio ||\n",
       "\tthis.context.mozBackingStorePixelRatio ||\n",
       "\tthis.context.msBackingStorePixelRatio ||\n",
       "\tthis.context.oBackingStorePixelRatio ||\n",
       "\tthis.context.backingStorePixelRatio || 1;\n",
       "\n",
       "    mpl.ratio = (window.devicePixelRatio || 1) / backingStore;\n",
       "\n",
       "    var rubberband = $('<canvas/>');\n",
       "    rubberband.attr('style', \"position: absolute; left: 0; top: 0; z-index: 1;\")\n",
       "\n",
       "    var pass_mouse_events = true;\n",
       "\n",
       "    canvas_div.resizable({\n",
       "        start: function(event, ui) {\n",
       "            pass_mouse_events = false;\n",
       "        },\n",
       "        resize: function(event, ui) {\n",
       "            fig.request_resize(ui.size.width, ui.size.height);\n",
       "        },\n",
       "        stop: function(event, ui) {\n",
       "            pass_mouse_events = true;\n",
       "            fig.request_resize(ui.size.width, ui.size.height);\n",
       "        },\n",
       "    });\n",
       "\n",
       "    function mouse_event_fn(event) {\n",
       "        if (pass_mouse_events)\n",
       "            return fig.mouse_event(event, event['data']);\n",
       "    }\n",
       "\n",
       "    rubberband.mousedown('button_press', mouse_event_fn);\n",
       "    rubberband.mouseup('button_release', mouse_event_fn);\n",
       "    // Throttle sequential mouse events to 1 every 20ms.\n",
       "    rubberband.mousemove('motion_notify', mouse_event_fn);\n",
       "\n",
       "    rubberband.mouseenter('figure_enter', mouse_event_fn);\n",
       "    rubberband.mouseleave('figure_leave', mouse_event_fn);\n",
       "\n",
       "    canvas_div.on(\"wheel\", function (event) {\n",
       "        event = event.originalEvent;\n",
       "        event['data'] = 'scroll'\n",
       "        if (event.deltaY < 0) {\n",
       "            event.step = 1;\n",
       "        } else {\n",
       "            event.step = -1;\n",
       "        }\n",
       "        mouse_event_fn(event);\n",
       "    });\n",
       "\n",
       "    canvas_div.append(canvas);\n",
       "    canvas_div.append(rubberband);\n",
       "\n",
       "    this.rubberband = rubberband;\n",
       "    this.rubberband_canvas = rubberband[0];\n",
       "    this.rubberband_context = rubberband[0].getContext(\"2d\");\n",
       "    this.rubberband_context.strokeStyle = \"#000000\";\n",
       "\n",
       "    this._resize_canvas = function(width, height) {\n",
       "        // Keep the size of the canvas, canvas container, and rubber band\n",
       "        // canvas in synch.\n",
       "        canvas_div.css('width', width)\n",
       "        canvas_div.css('height', height)\n",
       "\n",
       "        canvas.attr('width', width * mpl.ratio);\n",
       "        canvas.attr('height', height * mpl.ratio);\n",
       "        canvas.attr('style', 'width: ' + width + 'px; height: ' + height + 'px;');\n",
       "\n",
       "        rubberband.attr('width', width);\n",
       "        rubberband.attr('height', height);\n",
       "    }\n",
       "\n",
       "    // Set the figure to an initial 600x600px, this will subsequently be updated\n",
       "    // upon first draw.\n",
       "    this._resize_canvas(600, 600);\n",
       "\n",
       "    // Disable right mouse context menu.\n",
       "    $(this.rubberband_canvas).bind(\"contextmenu\",function(e){\n",
       "        return false;\n",
       "    });\n",
       "\n",
       "    function set_focus () {\n",
       "        canvas.focus();\n",
       "        canvas_div.focus();\n",
       "    }\n",
       "\n",
       "    window.setTimeout(set_focus, 100);\n",
       "}\n",
       "\n",
       "mpl.figure.prototype._init_toolbar = function() {\n",
       "    var fig = this;\n",
       "\n",
       "    var nav_element = $('<div/>')\n",
       "    nav_element.attr('style', 'width: 100%');\n",
       "    this.root.append(nav_element);\n",
       "\n",
       "    // Define a callback function for later on.\n",
       "    function toolbar_event(event) {\n",
       "        return fig.toolbar_button_onclick(event['data']);\n",
       "    }\n",
       "    function toolbar_mouse_event(event) {\n",
       "        return fig.toolbar_button_onmouseover(event['data']);\n",
       "    }\n",
       "\n",
       "    for(var toolbar_ind in mpl.toolbar_items) {\n",
       "        var name = mpl.toolbar_items[toolbar_ind][0];\n",
       "        var tooltip = mpl.toolbar_items[toolbar_ind][1];\n",
       "        var image = mpl.toolbar_items[toolbar_ind][2];\n",
       "        var method_name = mpl.toolbar_items[toolbar_ind][3];\n",
       "\n",
       "        if (!name) {\n",
       "            // put a spacer in here.\n",
       "            continue;\n",
       "        }\n",
       "        var button = $('<button/>');\n",
       "        button.addClass('ui-button ui-widget ui-state-default ui-corner-all ' +\n",
       "                        'ui-button-icon-only');\n",
       "        button.attr('role', 'button');\n",
       "        button.attr('aria-disabled', 'false');\n",
       "        button.click(method_name, toolbar_event);\n",
       "        button.mouseover(tooltip, toolbar_mouse_event);\n",
       "\n",
       "        var icon_img = $('<span/>');\n",
       "        icon_img.addClass('ui-button-icon-primary ui-icon');\n",
       "        icon_img.addClass(image);\n",
       "        icon_img.addClass('ui-corner-all');\n",
       "\n",
       "        var tooltip_span = $('<span/>');\n",
       "        tooltip_span.addClass('ui-button-text');\n",
       "        tooltip_span.html(tooltip);\n",
       "\n",
       "        button.append(icon_img);\n",
       "        button.append(tooltip_span);\n",
       "\n",
       "        nav_element.append(button);\n",
       "    }\n",
       "\n",
       "    var fmt_picker_span = $('<span/>');\n",
       "\n",
       "    var fmt_picker = $('<select/>');\n",
       "    fmt_picker.addClass('mpl-toolbar-option ui-widget ui-widget-content');\n",
       "    fmt_picker_span.append(fmt_picker);\n",
       "    nav_element.append(fmt_picker_span);\n",
       "    this.format_dropdown = fmt_picker[0];\n",
       "\n",
       "    for (var ind in mpl.extensions) {\n",
       "        var fmt = mpl.extensions[ind];\n",
       "        var option = $(\n",
       "            '<option/>', {selected: fmt === mpl.default_extension}).html(fmt);\n",
       "        fmt_picker.append(option)\n",
       "    }\n",
       "\n",
       "    // Add hover states to the ui-buttons\n",
       "    $( \".ui-button\" ).hover(\n",
       "        function() { $(this).addClass(\"ui-state-hover\");},\n",
       "        function() { $(this).removeClass(\"ui-state-hover\");}\n",
       "    );\n",
       "\n",
       "    var status_bar = $('<span class=\"mpl-message\"/>');\n",
       "    nav_element.append(status_bar);\n",
       "    this.message = status_bar[0];\n",
       "}\n",
       "\n",
       "mpl.figure.prototype.request_resize = function(x_pixels, y_pixels) {\n",
       "    // Request matplotlib to resize the figure. Matplotlib will then trigger a resize in the client,\n",
       "    // which will in turn request a refresh of the image.\n",
       "    this.send_message('resize', {'width': x_pixels, 'height': y_pixels});\n",
       "}\n",
       "\n",
       "mpl.figure.prototype.send_message = function(type, properties) {\n",
       "    properties['type'] = type;\n",
       "    properties['figure_id'] = this.id;\n",
       "    this.ws.send(JSON.stringify(properties));\n",
       "}\n",
       "\n",
       "mpl.figure.prototype.send_draw_message = function() {\n",
       "    if (!this.waiting) {\n",
       "        this.waiting = true;\n",
       "        this.ws.send(JSON.stringify({type: \"draw\", figure_id: this.id}));\n",
       "    }\n",
       "}\n",
       "\n",
       "\n",
       "mpl.figure.prototype.handle_save = function(fig, msg) {\n",
       "    var format_dropdown = fig.format_dropdown;\n",
       "    var format = format_dropdown.options[format_dropdown.selectedIndex].value;\n",
       "    fig.ondownload(fig, format);\n",
       "}\n",
       "\n",
       "\n",
       "mpl.figure.prototype.handle_resize = function(fig, msg) {\n",
       "    var size = msg['size'];\n",
       "    if (size[0] != fig.canvas.width || size[1] != fig.canvas.height) {\n",
       "        fig._resize_canvas(size[0], size[1]);\n",
       "        fig.send_message(\"refresh\", {});\n",
       "    };\n",
       "}\n",
       "\n",
       "mpl.figure.prototype.handle_rubberband = function(fig, msg) {\n",
       "    var x0 = msg['x0'] / mpl.ratio;\n",
       "    var y0 = (fig.canvas.height - msg['y0']) / mpl.ratio;\n",
       "    var x1 = msg['x1'] / mpl.ratio;\n",
       "    var y1 = (fig.canvas.height - msg['y1']) / mpl.ratio;\n",
       "    x0 = Math.floor(x0) + 0.5;\n",
       "    y0 = Math.floor(y0) + 0.5;\n",
       "    x1 = Math.floor(x1) + 0.5;\n",
       "    y1 = Math.floor(y1) + 0.5;\n",
       "    var min_x = Math.min(x0, x1);\n",
       "    var min_y = Math.min(y0, y1);\n",
       "    var width = Math.abs(x1 - x0);\n",
       "    var height = Math.abs(y1 - y0);\n",
       "\n",
       "    fig.rubberband_context.clearRect(\n",
       "        0, 0, fig.canvas.width, fig.canvas.height);\n",
       "\n",
       "    fig.rubberband_context.strokeRect(min_x, min_y, width, height);\n",
       "}\n",
       "\n",
       "mpl.figure.prototype.handle_figure_label = function(fig, msg) {\n",
       "    // Updates the figure title.\n",
       "    fig.header.textContent = msg['label'];\n",
       "}\n",
       "\n",
       "mpl.figure.prototype.handle_cursor = function(fig, msg) {\n",
       "    var cursor = msg['cursor'];\n",
       "    switch(cursor)\n",
       "    {\n",
       "    case 0:\n",
       "        cursor = 'pointer';\n",
       "        break;\n",
       "    case 1:\n",
       "        cursor = 'default';\n",
       "        break;\n",
       "    case 2:\n",
       "        cursor = 'crosshair';\n",
       "        break;\n",
       "    case 3:\n",
       "        cursor = 'move';\n",
       "        break;\n",
       "    }\n",
       "    fig.rubberband_canvas.style.cursor = cursor;\n",
       "}\n",
       "\n",
       "mpl.figure.prototype.handle_message = function(fig, msg) {\n",
       "    fig.message.textContent = msg['message'];\n",
       "}\n",
       "\n",
       "mpl.figure.prototype.handle_draw = function(fig, msg) {\n",
       "    // Request the server to send over a new figure.\n",
       "    fig.send_draw_message();\n",
       "}\n",
       "\n",
       "mpl.figure.prototype.handle_image_mode = function(fig, msg) {\n",
       "    fig.image_mode = msg['mode'];\n",
       "}\n",
       "\n",
       "mpl.figure.prototype.updated_canvas_event = function() {\n",
       "    // Called whenever the canvas gets updated.\n",
       "    this.send_message(\"ack\", {});\n",
       "}\n",
       "\n",
       "// A function to construct a web socket function for onmessage handling.\n",
       "// Called in the figure constructor.\n",
       "mpl.figure.prototype._make_on_message_function = function(fig) {\n",
       "    return function socket_on_message(evt) {\n",
       "        if (evt.data instanceof Blob) {\n",
       "            /* FIXME: We get \"Resource interpreted as Image but\n",
       "             * transferred with MIME type text/plain:\" errors on\n",
       "             * Chrome.  But how to set the MIME type?  It doesn't seem\n",
       "             * to be part of the websocket stream */\n",
       "            evt.data.type = \"image/png\";\n",
       "\n",
       "            /* Free the memory for the previous frames */\n",
       "            if (fig.imageObj.src) {\n",
       "                (window.URL || window.webkitURL).revokeObjectURL(\n",
       "                    fig.imageObj.src);\n",
       "            }\n",
       "\n",
       "            fig.imageObj.src = (window.URL || window.webkitURL).createObjectURL(\n",
       "                evt.data);\n",
       "            fig.updated_canvas_event();\n",
       "            fig.waiting = false;\n",
       "            return;\n",
       "        }\n",
       "        else if (typeof evt.data === 'string' && evt.data.slice(0, 21) == \"data:image/png;base64\") {\n",
       "            fig.imageObj.src = evt.data;\n",
       "            fig.updated_canvas_event();\n",
       "            fig.waiting = false;\n",
       "            return;\n",
       "        }\n",
       "\n",
       "        var msg = JSON.parse(evt.data);\n",
       "        var msg_type = msg['type'];\n",
       "\n",
       "        // Call the  \"handle_{type}\" callback, which takes\n",
       "        // the figure and JSON message as its only arguments.\n",
       "        try {\n",
       "            var callback = fig[\"handle_\" + msg_type];\n",
       "        } catch (e) {\n",
       "            console.log(\"No handler for the '\" + msg_type + \"' message type: \", msg);\n",
       "            return;\n",
       "        }\n",
       "\n",
       "        if (callback) {\n",
       "            try {\n",
       "                // console.log(\"Handling '\" + msg_type + \"' message: \", msg);\n",
       "                callback(fig, msg);\n",
       "            } catch (e) {\n",
       "                console.log(\"Exception inside the 'handler_\" + msg_type + \"' callback:\", e, e.stack, msg);\n",
       "            }\n",
       "        }\n",
       "    };\n",
       "}\n",
       "\n",
       "// from http://stackoverflow.com/questions/1114465/getting-mouse-location-in-canvas\n",
       "mpl.findpos = function(e) {\n",
       "    //this section is from http://www.quirksmode.org/js/events_properties.html\n",
       "    var targ;\n",
       "    if (!e)\n",
       "        e = window.event;\n",
       "    if (e.target)\n",
       "        targ = e.target;\n",
       "    else if (e.srcElement)\n",
       "        targ = e.srcElement;\n",
       "    if (targ.nodeType == 3) // defeat Safari bug\n",
       "        targ = targ.parentNode;\n",
       "\n",
       "    // jQuery normalizes the pageX and pageY\n",
       "    // pageX,Y are the mouse positions relative to the document\n",
       "    // offset() returns the position of the element relative to the document\n",
       "    var x = e.pageX - $(targ).offset().left;\n",
       "    var y = e.pageY - $(targ).offset().top;\n",
       "\n",
       "    return {\"x\": x, \"y\": y};\n",
       "};\n",
       "\n",
       "/*\n",
       " * return a copy of an object with only non-object keys\n",
       " * we need this to avoid circular references\n",
       " * http://stackoverflow.com/a/24161582/3208463\n",
       " */\n",
       "function simpleKeys (original) {\n",
       "  return Object.keys(original).reduce(function (obj, key) {\n",
       "    if (typeof original[key] !== 'object')\n",
       "        obj[key] = original[key]\n",
       "    return obj;\n",
       "  }, {});\n",
       "}\n",
       "\n",
       "mpl.figure.prototype.mouse_event = function(event, name) {\n",
       "    var canvas_pos = mpl.findpos(event)\n",
       "\n",
       "    if (name === 'button_press')\n",
       "    {\n",
       "        this.canvas.focus();\n",
       "        this.canvas_div.focus();\n",
       "    }\n",
       "\n",
       "    var x = canvas_pos.x * mpl.ratio;\n",
       "    var y = canvas_pos.y * mpl.ratio;\n",
       "\n",
       "    this.send_message(name, {x: x, y: y, button: event.button,\n",
       "                             step: event.step,\n",
       "                             guiEvent: simpleKeys(event)});\n",
       "\n",
       "    /* This prevents the web browser from automatically changing to\n",
       "     * the text insertion cursor when the button is pressed.  We want\n",
       "     * to control all of the cursor setting manually through the\n",
       "     * 'cursor' event from matplotlib */\n",
       "    event.preventDefault();\n",
       "    return false;\n",
       "}\n",
       "\n",
       "mpl.figure.prototype._key_event_extra = function(event, name) {\n",
       "    // Handle any extra behaviour associated with a key event\n",
       "}\n",
       "\n",
       "mpl.figure.prototype.key_event = function(event, name) {\n",
       "\n",
       "    // Prevent repeat events\n",
       "    if (name == 'key_press')\n",
       "    {\n",
       "        if (event.which === this._key)\n",
       "            return;\n",
       "        else\n",
       "            this._key = event.which;\n",
       "    }\n",
       "    if (name == 'key_release')\n",
       "        this._key = null;\n",
       "\n",
       "    var value = '';\n",
       "    if (event.ctrlKey && event.which != 17)\n",
       "        value += \"ctrl+\";\n",
       "    if (event.altKey && event.which != 18)\n",
       "        value += \"alt+\";\n",
       "    if (event.shiftKey && event.which != 16)\n",
       "        value += \"shift+\";\n",
       "\n",
       "    value += 'k';\n",
       "    value += event.which.toString();\n",
       "\n",
       "    this._key_event_extra(event, name);\n",
       "\n",
       "    this.send_message(name, {key: value,\n",
       "                             guiEvent: simpleKeys(event)});\n",
       "    return false;\n",
       "}\n",
       "\n",
       "mpl.figure.prototype.toolbar_button_onclick = function(name) {\n",
       "    if (name == 'download') {\n",
       "        this.handle_save(this, null);\n",
       "    } else {\n",
       "        this.send_message(\"toolbar_button\", {name: name});\n",
       "    }\n",
       "};\n",
       "\n",
       "mpl.figure.prototype.toolbar_button_onmouseover = function(tooltip) {\n",
       "    this.message.textContent = tooltip;\n",
       "};\n",
       "mpl.toolbar_items = [[\"Home\", \"Reset original view\", \"fa fa-home icon-home\", \"home\"], [\"Back\", \"Back to previous view\", \"fa fa-arrow-left icon-arrow-left\", \"back\"], [\"Forward\", \"Forward to next view\", \"fa fa-arrow-right icon-arrow-right\", \"forward\"], [\"\", \"\", \"\", \"\"], [\"Pan\", \"Pan axes with left mouse, zoom with right\", \"fa fa-arrows icon-move\", \"pan\"], [\"Zoom\", \"Zoom to rectangle\", \"fa fa-square-o icon-check-empty\", \"zoom\"], [\"\", \"\", \"\", \"\"], [\"Download\", \"Download plot\", \"fa fa-floppy-o icon-save\", \"download\"]];\n",
       "\n",
       "mpl.extensions = [\"eps\", \"jpeg\", \"pdf\", \"png\", \"ps\", \"raw\", \"svg\", \"tif\"];\n",
       "\n",
       "mpl.default_extension = \"png\";var comm_websocket_adapter = function(comm) {\n",
       "    // Create a \"websocket\"-like object which calls the given IPython comm\n",
       "    // object with the appropriate methods. Currently this is a non binary\n",
       "    // socket, so there is still some room for performance tuning.\n",
       "    var ws = {};\n",
       "\n",
       "    ws.close = function() {\n",
       "        comm.close()\n",
       "    };\n",
       "    ws.send = function(m) {\n",
       "        //console.log('sending', m);\n",
       "        comm.send(m);\n",
       "    };\n",
       "    // Register the callback with on_msg.\n",
       "    comm.on_msg(function(msg) {\n",
       "        //console.log('receiving', msg['content']['data'], msg);\n",
       "        // Pass the mpl event to the overridden (by mpl) onmessage function.\n",
       "        ws.onmessage(msg['content']['data'])\n",
       "    });\n",
       "    return ws;\n",
       "}\n",
       "\n",
       "mpl.mpl_figure_comm = function(comm, msg) {\n",
       "    // This is the function which gets called when the mpl process\n",
       "    // starts-up an IPython Comm through the \"matplotlib\" channel.\n",
       "\n",
       "    var id = msg.content.data.id;\n",
       "    // Get hold of the div created by the display call when the Comm\n",
       "    // socket was opened in Python.\n",
       "    var element = $(\"#\" + id);\n",
       "    var ws_proxy = comm_websocket_adapter(comm)\n",
       "\n",
       "    function ondownload(figure, format) {\n",
       "        window.open(figure.imageObj.src);\n",
       "    }\n",
       "\n",
       "    var fig = new mpl.figure(id, ws_proxy,\n",
       "                           ondownload,\n",
       "                           element.get(0));\n",
       "\n",
       "    // Call onopen now - mpl needs it, as it is assuming we've passed it a real\n",
       "    // web socket which is closed, not our websocket->open comm proxy.\n",
       "    ws_proxy.onopen();\n",
       "\n",
       "    fig.parent_element = element.get(0);\n",
       "    fig.cell_info = mpl.find_output_cell(\"<div id='\" + id + \"'></div>\");\n",
       "    if (!fig.cell_info) {\n",
       "        console.error(\"Failed to find cell for figure\", id, fig);\n",
       "        return;\n",
       "    }\n",
       "\n",
       "    var output_index = fig.cell_info[2]\n",
       "    var cell = fig.cell_info[0];\n",
       "\n",
       "};\n",
       "\n",
       "mpl.figure.prototype.handle_close = function(fig, msg) {\n",
       "    var width = fig.canvas.width/mpl.ratio\n",
       "    fig.root.unbind('remove')\n",
       "\n",
       "    // Update the output cell to use the data from the current canvas.\n",
       "    fig.push_to_output();\n",
       "    var dataURL = fig.canvas.toDataURL();\n",
       "    // Re-enable the keyboard manager in IPython - without this line, in FF,\n",
       "    // the notebook keyboard shortcuts fail.\n",
       "    IPython.keyboard_manager.enable()\n",
       "    $(fig.parent_element).html('<img src=\"' + dataURL + '\" width=\"' + width + '\">');\n",
       "    fig.close_ws(fig, msg);\n",
       "}\n",
       "\n",
       "mpl.figure.prototype.close_ws = function(fig, msg){\n",
       "    fig.send_message('closing', msg);\n",
       "    // fig.ws.close()\n",
       "}\n",
       "\n",
       "mpl.figure.prototype.push_to_output = function(remove_interactive) {\n",
       "    // Turn the data on the canvas into data in the output cell.\n",
       "    var width = this.canvas.width/mpl.ratio\n",
       "    var dataURL = this.canvas.toDataURL();\n",
       "    this.cell_info[1]['text/html'] = '<img src=\"' + dataURL + '\" width=\"' + width + '\">';\n",
       "}\n",
       "\n",
       "mpl.figure.prototype.updated_canvas_event = function() {\n",
       "    // Tell IPython that the notebook contents must change.\n",
       "    IPython.notebook.set_dirty(true);\n",
       "    this.send_message(\"ack\", {});\n",
       "    var fig = this;\n",
       "    // Wait a second, then push the new image to the DOM so\n",
       "    // that it is saved nicely (might be nice to debounce this).\n",
       "    setTimeout(function () { fig.push_to_output() }, 1000);\n",
       "}\n",
       "\n",
       "mpl.figure.prototype._init_toolbar = function() {\n",
       "    var fig = this;\n",
       "\n",
       "    var nav_element = $('<div/>')\n",
       "    nav_element.attr('style', 'width: 100%');\n",
       "    this.root.append(nav_element);\n",
       "\n",
       "    // Define a callback function for later on.\n",
       "    function toolbar_event(event) {\n",
       "        return fig.toolbar_button_onclick(event['data']);\n",
       "    }\n",
       "    function toolbar_mouse_event(event) {\n",
       "        return fig.toolbar_button_onmouseover(event['data']);\n",
       "    }\n",
       "\n",
       "    for(var toolbar_ind in mpl.toolbar_items){\n",
       "        var name = mpl.toolbar_items[toolbar_ind][0];\n",
       "        var tooltip = mpl.toolbar_items[toolbar_ind][1];\n",
       "        var image = mpl.toolbar_items[toolbar_ind][2];\n",
       "        var method_name = mpl.toolbar_items[toolbar_ind][3];\n",
       "\n",
       "        if (!name) { continue; };\n",
       "\n",
       "        var button = $('<button class=\"btn btn-default\" href=\"#\" title=\"' + name + '\"><i class=\"fa ' + image + ' fa-lg\"></i></button>');\n",
       "        button.click(method_name, toolbar_event);\n",
       "        button.mouseover(tooltip, toolbar_mouse_event);\n",
       "        nav_element.append(button);\n",
       "    }\n",
       "\n",
       "    // Add the status bar.\n",
       "    var status_bar = $('<span class=\"mpl-message\" style=\"text-align:right; float: right;\"/>');\n",
       "    nav_element.append(status_bar);\n",
       "    this.message = status_bar[0];\n",
       "\n",
       "    // Add the close button to the window.\n",
       "    var buttongrp = $('<div class=\"btn-group inline pull-right\"></div>');\n",
       "    var button = $('<button class=\"btn btn-mini btn-primary\" href=\"#\" title=\"Stop Interaction\"><i class=\"fa fa-power-off icon-remove icon-large\"></i></button>');\n",
       "    button.click(function (evt) { fig.handle_close(fig, {}); } );\n",
       "    button.mouseover('Stop Interaction', toolbar_mouse_event);\n",
       "    buttongrp.append(button);\n",
       "    var titlebar = this.root.find($('.ui-dialog-titlebar'));\n",
       "    titlebar.prepend(buttongrp);\n",
       "}\n",
       "\n",
       "mpl.figure.prototype._root_extra_style = function(el){\n",
       "    var fig = this\n",
       "    el.on(\"remove\", function(){\n",
       "\tfig.close_ws(fig, {});\n",
       "    });\n",
       "}\n",
       "\n",
       "mpl.figure.prototype._canvas_extra_style = function(el){\n",
       "    // this is important to make the div 'focusable\n",
       "    el.attr('tabindex', 0)\n",
       "    // reach out to IPython and tell the keyboard manager to turn it's self\n",
       "    // off when our div gets focus\n",
       "\n",
       "    // location in version 3\n",
       "    if (IPython.notebook.keyboard_manager) {\n",
       "        IPython.notebook.keyboard_manager.register_events(el);\n",
       "    }\n",
       "    else {\n",
       "        // location in version 2\n",
       "        IPython.keyboard_manager.register_events(el);\n",
       "    }\n",
       "\n",
       "}\n",
       "\n",
       "mpl.figure.prototype._key_event_extra = function(event, name) {\n",
       "    var manager = IPython.notebook.keyboard_manager;\n",
       "    if (!manager)\n",
       "        manager = IPython.keyboard_manager;\n",
       "\n",
       "    // Check for shift+enter\n",
       "    if (event.shiftKey && event.which == 13) {\n",
       "        this.canvas_div.blur();\n",
       "        event.shiftKey = false;\n",
       "        // Send a \"J\" for go to next cell\n",
       "        event.which = 74;\n",
       "        event.keyCode = 74;\n",
       "        manager.command_mode();\n",
       "        manager.handle_keydown(event);\n",
       "    }\n",
       "}\n",
       "\n",
       "mpl.figure.prototype.handle_save = function(fig, msg) {\n",
       "    fig.ondownload(fig, null);\n",
       "}\n",
       "\n",
       "\n",
       "mpl.find_output_cell = function(html_output) {\n",
       "    // Return the cell and output element which can be found *uniquely* in the notebook.\n",
       "    // Note - this is a bit hacky, but it is done because the \"notebook_saving.Notebook\"\n",
       "    // IPython event is triggered only after the cells have been serialised, which for\n",
       "    // our purposes (turning an active figure into a static one), is too late.\n",
       "    var cells = IPython.notebook.get_cells();\n",
       "    var ncells = cells.length;\n",
       "    for (var i=0; i<ncells; i++) {\n",
       "        var cell = cells[i];\n",
       "        if (cell.cell_type === 'code'){\n",
       "            for (var j=0; j<cell.output_area.outputs.length; j++) {\n",
       "                var data = cell.output_area.outputs[j];\n",
       "                if (data.data) {\n",
       "                    // IPython >= 3 moved mimebundle to data attribute of output\n",
       "                    data = data.data;\n",
       "                }\n",
       "                if (data['text/html'] == html_output) {\n",
       "                    return [cell, data, j];\n",
       "                }\n",
       "            }\n",
       "        }\n",
       "    }\n",
       "}\n",
       "\n",
       "// Register the function which deals with the matplotlib target/channel.\n",
       "// The kernel may be null if the page has been refreshed.\n",
       "if (IPython.notebook.kernel != null) {\n",
       "    IPython.notebook.kernel.comm_manager.register_target('matplotlib', mpl.mpl_figure_comm);\n",
       "}\n"
      ],
      "text/plain": [
       "<IPython.core.display.Javascript object>"
      ]
     },
     "metadata": {},
     "output_type": "display_data"
    },
    {
     "data": {
      "text/html": [
       "<img src=\"data:image/png;base64,iVBORw0KGgoAAAANSUhEUgAAAdsAAAE8CAYAAACIOxsOAAAgAElEQVR4Xu2dB5hU1fmHX6qAlAWUBSkqvYioiEAUEQSl6N9o1ARRVGyJJhiMGhuIBcVoNMEWjQFFY6yJGkGIDRQUKzZAilQFqUuXtrv/5xvuwuyyOzM7M3dmzp3feR4eduece8533u/c+e3pFVAQAREQAREQARHwlUAFX3NX5iIgAiIgAiIgAkhs1QhEQAREQAREwGcCElufASt7ERABERABEZDYqg2IgAiIgAiIgM8EJLY+A1b2IiACIiACIiCxVRsQAREQAREQAZ8JSGx9BqzsRUAEREAEREBiqzYgAiIgAiIgAj4TkNj6DFjZi4AIiIAIiIDEVm1ABERABERABHwmILH1GbCyFwEREAEREAGJrdqACIiACIiACPhMQGLrM2BlLwIiIAIiIAISW7UBERABERABEfCZgMTWZ8DKXgREQAREQAQktmoDIiACIiACIuAzAYmtz4CVvQiIgAiIgAhIbNUGREAEREAERMBnAhJbnwErexEQAREQARGQ2KoNiIAIiIAIiIDPBCS2PgNW9iIgAiIgAiIgsVUbEAEREAEREAGfCUhsfQas7EVABERABERAYqs2IAIiIAIiIAI+E5DY+gxY2YuACIiACIiAxFZtQAREQAREQAR8JiCx9RmwshcBERABERABia3agAiIgAiIgAj4TEBi6zNgZS8CIiACIiACElu1AREQAREQARHwmYDE1mfAyl4EREAEREAEJLZqAyIgAiIgAiLgMwGJrc+Alb0IiIAIiIAISGzVBkRABERABETAZwISW58BK3sREAEREAERkNiqDYiACIiACIiAzwSySmwPOOCAwgYNGviMVNmLgAiIgAj4QWD58uU7gGp+5O13nlkltk2bNi1ctmyZ30yVvwiIgAiIgA8EKlSosBxo5kPWvmcpsfUdsQoQAREQARFIBgGJbTIopiAP9WxTAFlFiIAIiIBPBCS2PoFNdrYS22QTVX4iIAIikDoCEtvUsU6oJIltQvj0sAiIgAiklYDENq34Yy9cYhs7K6UUAREQgUwjILHNNI+UYY/E1hFHyUwREAERKIWAxNaRZiGxdcRRMlMEREAEJLbutgGJrbu+k+UiIAIioJ6tI20gUbGdvmAtj05byJ/POYqGdZw8xMQRT8lMERABEdifgMTWkVaRqNgedsPEvTVdMmagI7WWmSIgAiIQDAISW0f8KLF1xFEyUwREQAQ0Z+tuG5DYuus7WS4CIiAC6tk60gYkto44SmaKgAiIgHq27rYBia27vpPlIiACIqCerSNtIJli+8pVx9OxcR0qVcyqi5Mc8bTMFAERCCIBia0jXk2m2FqVbxnYjkt7NHek9jJTBERABNwmEHSxbQ08BdQH1gFDgAUlXFYJGAv0AwqBMcATXppIcSOAXwH5wC7gJmCK99yTQB9grff7i8Bo7+dc4GngMOAn4HLgo2jNKNliO6BjQx4Z3DlasYoXAREQARFIAoGgi+07wDjgGeB8YCjQuwQ3E+DBQH9PlGcBJwBLPHEuK+5U4H1gG9AJmAY08gTUxPZT4KFSfGT2LALu9MoZD9gfBSb0ZQaJbRJau7IQAREQgTQRCLLYNgDmewJqvU/rpVrvthWwJoy3nfZggveS95kJ5FLgXiBSXLjLbPJzA9AB+B6IJLZbvF5tUa/3G+Bi4BOJbZreAhUrAiIgAj4TCLLY2hjpBE8AizDO8Xq4n4dx/drr8RaJ3fVAE2AYECku3DUXAlcDx3gfmtieCGwFvgNuBOZ6wr8MODDs4UnesPW//RTbY+98k7Vbdu4tQsPIPr9Zyl4EREAEwghIbCMLaixi29Obg+0LzPPYNgZWAgXeUPQdgK1GygFiFdvhgP0LhZycnKZ5eXlxN96/v7eI0ZNM7/eENrm1mDLc/h5QEAEREAER8JtAkMU2FcPI3YEXgDOA8N5ySb/Z8LX1em142nq7h4YtnkrJMHJhYSGH32id6H1BZyT7/XopfxEQARHYQyDIYmv1m+oN0RYtkLoE6FXC+RcBg0oskOoBLAYixXUBXgbOKWU1sfVsf/DKsYVUtvr4EGC3N5+7MGyBlK2Wtnlk6wWXGRJdIGUZh19GYL9LbPU1IAIiIAKpIRB0sW3rbf2pC9gYrK08tqFe6+KN9FYM28IpWxR1iof8HuBx7+dIcTbHa9t3ikTVHrnAm+d9C7AtPiagm4DrgJleng291dHWu7WtP78GPojm7mSIbfuRk9m209aK7QkS22jUFS8CIiACySEQdLFNDqUMyCUZYvvx4vWc+9iHEtsM8KdMEAERyC4CEltH/J0Msd22czftRxaduwE9Wx/MU0OPc4SAzBQBERABdwlIbB3xXTLE1qqqeVtHHC4zRUAEAkVAYuuIOyW2jjhKZoqACIhAKQQkto40C4mtI46SmSIgAiIgsXW3DSRLbCd8uISRr87eC2Lx3QNs/5e7YGS5CIiACDhAQD1bB5xkJiZLbHfnF9Dy5jf21vr2MzowpLvtYFIQAREQARHwi4DE1i+ySc43WWJrZoUvkhrctRmjz+yYZGuVnQiIgAiIQDgBia0j7cEvsT2vazPuktg60gpkpgiIgKsEJLaOeC6ZYvv0zKWMeMWOZIazjmnM/ece5QgFmSkCIiACbhKQ2Drit2SK7dYdu+lw657DLU5oeRDPXNrVEQoyUwREQATcJCCxdcRvyRRbq3L4vK3OSHakEchMERABZwlIbB1xnZ9i+/YfetLi4JqOkJCZIiACIuAeAYmtIz5Ltti+/Nn3/OHFL0O1v/fsIznn2KaOkJCZIiACIuAeAYmtIz5LttiGDyVfeVILLjr+MBrUquYIDZkpAiIgAm4RkNg64i8/xbYIgeZuHWkMMlMERMA5AhJbR1wmsXXEUTJTBERABEohILF1pFn4Ibb3TP6WR6d+t5eAeraONAaZKQIi4BwBia0jLvNDbMPnbe1nia0jjUFmioAIOEdAYuuIy1IhtroByJHGIDNFQAScIyCxdcRlfontHa/P4R/TF4conNI+l58f3ZgBHRs5QkVmioAIiIAbBCS2bvgpaVfslVbd8NOkNJzsSIOQmSIgAk4RkNg64i6/erYl520lto40CJkpAiLgFAGJrSPu8lNs+9w/jYWrt+wloYVSjjQKmSkCIuAMgaCLbWvgKaA+sA4YAiwo4Z1KwFigH1AIjAGe8NJEihsB/ArIB3YBNwF7rtKBh4GTgR2AqdjVwKde3FSgGbDJ+/2vwPhoLcZPsf1hw08cP+advSb87fxj6HeE5m2j+UTxIiACIhArgaCLrSnIOOAZ4HxgKNC7BBwT4MFAf0+UZ9nNc7YTxhPnsuJOBd4HtgGdgGmAKdRPwGme8JoI288mqC3CxPY+4PVYnWTp/BRbyz983vaqXi247tS25TFPaUVABERABCIQCLLYNgDmewJqvU/rpVrvthWwJozJRK9n+ZL32UPAUjufH4gUF461ArAB6AB8X4K39apXANWBAsB6thkttma/hpL1vSECIiACySMQZLHtDEzwBLCI2Byvh/t5GMKvvR7vJ95n1wNNgGFApLhwL1zoDRUfU4prbvV6vmeF9Wxzgd2AXbvzR+CHaC71u2e7eO1Wet1nfwfsCaNOb0/bRrXp1tz+VlAQAREQARFIhIDENrKgxiK2PYGngb7AvBLOsDnd24ATgVVenN1lt9zrad/ozRXbsHXJMBywf6GQk5PTNC8vLxFfR3225BYge8B6uNt35VOtig0MKIiACIiACMRDIMhim4ph5O7AC8AZQHhv2XxxpjdcbAulbP63tFALMAWt6g0xl+lDv3u2VnBpYnvx8YcxfsYSPr2lDwfVPCCeNqZnREAERCDrCQRZbM25Ni5qK4uLFkhdAvQq4fWLgEElFkj1AOxYpUhxXYCXgXOAj0rkaYuiHvR6uwvD4ip7c8hFvdzLgd8AR0driakQ23k/bubUv7xXqikv/ro7XQ6rF81MxYuACIiACJRCIOhia0tqbetPXa8HaSuPbah3EjDS245j46O2KOoUj889wOPez5HibI73sBLzrRd487y2AGtniYVY1sPd7q1atp6sLaqyuVrbFlRy+Hk/V6VCbMvq3drnz1/eja6av9WXiAiIgAjERSDoYhsXlEx8SGKbiV6RTSIgAiIQGwGJbWyc0p4qVWI7e8VGBo6dvl99n7u8m1Ymp70VyAAREAFXCUhsHfFcqsS2rKHkf13Wje4ttA3IkeYiM0VABDKMgMQ2wxxSljmpFNvDb5xIoR1cGRaevbQrP2t5kCO0ZKYIiIAIZBYBiW1m+aNMa1Iptjt3F9D6ljeK2TLs5FZc09eOmlYQAREQAREoLwGJbXmJpSl9KsW2rKFkHeGYJuerWBEQAecJSGwdcWGqxfbL5Rs44+EZxehMu+4ket47lQcHHc3pnQ5xhJzMFAEREIH0E5DYpt8HMVmQarEtLCzk8BttO/K+cMvAdtw5cS6H1a/B1OtKng0SUzWUSAREQASykoDE1hG3p1psDcu5j33Ix4vX7yU0pPuhTPhwKYfWr8E0ia0jLUdmioAIZAIBiW0meCEGG9IhtrvyC2h1c/GFUmaqxDYGhymJCIiACIQRkNg60hzSIbaGprTLCTSM7EijkZkiIAIZQ0BimzGuiGxIusS2oKCQ5jcVn7uV2DrSaGSmCIhAxhCQ2GaMKzJTbEvr3UpsHWk0MlMERCBjCEhsM8YVmSu2tkjKFkuFh+/uGkDFClChgl1epCACIiACIhCJgMTWkfaRrmHkIjylzd3WrlaZr0ad6ghBmSkCIiAC6SMgsU0f+3KVnG6xfePrlfzmn5/vZ7NOlSqXG5VYBEQgSwlIbB1xfLrF1jCV1ruV2DrSgGSmCIhAWglIbNOKP/bCM0FsR702myc/WFLMaIlt7D5UShEQgewlILF1xPeZILalHeFoYvvfL1ewfVc+5xzb1BGaMlMEREAEUktAYpta3nGXlglia8bf8foc/jF98d569GmXy1tzV4V+Vy83bvfqQREQgYATkNg64uBMEVvDVdrcrcTWkYYkM0VABNJCQGKbFuzlLzSTxHbEK9/w9Myl+1VCPdvy+1VPiIAIZAcBia0jfs4ksS2rdzvitPacc2wTaler4ghVmSkCIiACqSEgsU0N54RLyTSx/eNLX/H8p8tLrddnt/Shfs0DEq6zMhABERCBoBAIuti2Bp4C6gPrgCHAghLOqwSMBfoBhcAY4AkvTaS4EcCvgHxgF3ATMMV7rgYwHugM7AauBV6PIa7MdpVpYltW79Y+P73TITw46OigvCOqhwiIgAgkTCDoYvsOMA54BjgfGAr0LkHNBHgw0N8T5VnACba41hPnsuLsnML3gW1AJ2Aa0Aj4CRgJ2D6Yy4BWXrqWwJYocU6J7d2T5vLYe4v2s7lb83o8d3n3hBunMhABERCBoBAIstg2AOZ7Amq9T+ulWu/WxG9NmAMner3Ql7zPHgJs9c+9QKS48DZgp/FvADoA3wOzgQuBT71E1qu1HvaLUeKcEtuyercmtk9c2IWaB1QOynuieoiACIhAQgSCLLY2hDvBE8AiSHO8Hm74Ib9fez3eT7xE1wNNgGFApLhw8CasVwPHeB9uBpqHifojwELgfiBSnHNiu3n7LjqO+l+pdj9/eTe6NrcRfAUREAERyG4CEtvIghqL2PYEngb6AvOSKLbDAfsXCjk5OU3z8vIysrWWte/2yCZ1eO23NiKvIAIiIALZTSDIYpuKYWSbmHwBOAMI7y1nzTCyvT6lHeNY9Fp9cENvDsmpnt1vmWovAiKQ9QSCLLbm3KneyuKiBVKXAL1KeP0iYFCJBVI9ADuTMFJcF+Bl4BzgoxJ5jgIahy2Qmg7YAikbQo4UV2aDzMTVyOHGvjlnFZdNKJqi3hfz5vATaZVbK+tfNAEQARHIbgJBF9u23sKkuoCNwdrKYxvqneStCjZ1sIVTtijqFK8p3AM87v0cKc7meA8DfghrQhd487wHAk8Ctv/FFmfZPPCrXrpIcc6KrRle2nCyxDa7v2BUexEQgT0Egi62gfFzpvdsDfQ3P2zktAetE78v/KxFfZ69rFtg/KCKiIAIiEA8BCS28VBLwzMuiG1Zvdtv7+hHtSo2SKAgAiIgAtlJQGLriN9dEdsdu/Npc8vk/ah+d9cA1m3ZwaPTvuOavq2ppfOTHWl5MlMERCAZBCS2yaCYgjxcEVtD8fmyPM565INiVO74+RFMX7CGKbNXMax3S645pU0KqKkIERABEcgMAhLbzPBDVCtcEtuyhpOb1qvO8vU/MfT4wxl5evuodVYCERABEQgKAYmtI550TWwj7b2tUbUSc263ex8UREAERCA7CEhsHfGza2JrWBeu3kKf++1+hv3D4rsH2FJ4R+jLTBEQARFIjIDENjF+KXvaRbEtazjZPn9q6HH0bH1wyvipIBEQARFIJwGJbTrpl6NsV8W2oKCQ5jfZGSLFw/3nduKNb36kb7tczu1itxEqiIAIiEBwCUhsHfGtq2JreHfuLqD1LW8UI92nXS5vzV0V+mzJmIGOeEFmioAIiEB8BCS28XFL+VMui63BeuL9Rdw5cW6p3CS2KW9OKlAERCDFBCS2KQYeb3Gui22k1ckS23hbhZ4TARFwhYDE1hFPuS62hjm/oJAWpczfzr7tVA48oLIjnpCZIiACIlB+AhLb8jNLyxNBEFsDN2fFJgaMfX8/hta7fWbmUk5sdTDN6tdIC2MVKgIiIAJ+EZDY+kU2yfkGRWwNy/Dnv+A/s8JvJtwHq2qlisy86WTqHVg1yQSVnQiIgAikj4DENn3sy1VykMTWKl7a3bfhQDSPW67mocQiIAIZTkBim+EOKjIvaGK7K7+AVjcX3w4ksXWkMcpMERCBchOQ2JYbWXoeCJrYGsUN23Zy1O1vlgpUPdv0tDOVKgIi4A8Bia0/XJOeaxDF1iC98+0qhj756X68isR2d34BlStVTDpPZSgCIiACqSQgsU0l7QTKCqrYGpLz/j6TD75bV4zOpGE9WLNlBxeO+5jxF3ehV5sGCdDToyIgAiKQXgIS2/Tyj7n0IIutQShtwdSZRzcOrVoe2LERDw8+JmZWSigCIiACmUZAYptpHinDnqCLbVkHXhiO045sxIODjtaVfI60VZkpAiKwPwGJrSOtIuhia26w+dmWEVYoLxzdX/O3jrRXmSkCIlCcgMTWkRaRDWJrrti4bRedbv9fqV754IbeHJJTvdS4LTt2s2TtVo5oXMcRj8pMERCBbCIQdLFtbfeUA/UBW4EzBFhQwsGVgLFAP6AQGGOX1HhpIsWdAtwFdAQeBK4Ny3cCcGTY7/bzz4HXgFHAlcAKL34GcFW0RpctYmscVmz4iZ+NeWc/JNOuO4mxby/kip7NaZ1bq1j8GQ9N58vvN/LRTSeTW7taNJyKFwEREIGUEgi62No39jjgGeB8YCjQuwRhE+DBQH9PlGcBJ9g1q544lxXXEqgJnA3Yt3u42IYX0cl2uACHADs8sbXnykpfagPIJrE1AAtXb6HP/dOKsWjXqDZzV26i/oFV+WxE32JxRQusJv++B20b1k7pS6TCREAERCAagSCLre0Vme8JaD5gvVTr3bYC1oSBmQiMB17yPnsIWArcC0SKK8rCeqqRxNN6zRaGef9HSy+x9QiUdWmBRS++ewC3vjabk9vlcmKrgzj8xkmhpyS20V55xYuACKSDQJDFtjNgw7kdwsDO8Xq4n4d99rXX4/3E++x6oIknjpHiYhFbO03fhov7AF+Eie2lwHrgR+BW4MNozs+2nm0Rj+te/JIXP/t+Pzw5NaqwYduu0Od92+fy5pxVEttojUjxIiACaSMgsQU/xfZc4AYgfJNoQ6+HbUphY6H/BNp5n4U3hOF2QU7RBzk5OU3z8vLS1lDSWfDkb37k1898FpMJ6tnGhEmJREAEUkwgyGKbCcPIk4HXARuaLiuYilwDFJ+gLJE6W3u2RRj+8tZ8/vJWybVt+yO1k6fmr9pM73YNqF2tSopfJxUnAiIgAqUTCLLYWo2neiuLixZIXQL0KoHiImBQiQVSPWxaEIgUV5RNWXOwNhQ9zxuSDu+SNgaKLnM9CnjbG+q2IeUyQ7aLrYHpMHIyW3fa9HvZ4apeLXj43e8Y0LEhjwy2mQQFERABEUg/gaCLbVtv609dwATPVh6bANpqmpGAnYBvC6es52lbeSzcAzzu/RwpzlYsPwfY0tcKtkUUMDGf4j17s7ct6Fcl3GxbkUwFTDV2enO2e1b3SGyjYeCa57/g32VcPG8Pn3V041B884MO5J1rT4qanxKIgAiIQCoIBF1sU8EwJWWoZ7sP81mPzODzZRtK5d6g1gGs3mw7rAgd8Xh6J9txpSACIiAC6SUgsU0v/5hLl9gWR3Xin95l2fptUfnpXtyoiJRABEQgBQQktimAnIwiJLb7U+z956ksWrM1Il6JbTJan/IQARFIlIDENlGCKXpeYls66NKu5gtP+cIV3el8aF0qVbRpdQUREAERSA8BiW16uJe7VIlt2cie/WgZN/3HtkuXHprWq8771+85pbOwsFBX9ZW79ekBERCBRAlIbBMlmKLnJbaRQb/w6XKuf+mrMhNVr1KJ5gcfyOwVm3RZQYrarIoRARHYR0Bi60hrkNhGd9SsZXmc+cgHURM+dkFnTu1gB3kpiIAIiEBqCEhsU8M54VIktrEhnPfjZk79y3sRE4+76Fh6t82NLUOlEgEREIEkEJDYJgFiKrKQ2MZOeeNPu+h0W+kX0FsuE4YeF7oP96CaValcqWKZGduF9HYRwu/7tKZNw+L358ZujVKKgAiIALZWZDnQzEUWWbW8VGJbviZaUFBI85tKP5irbo0q5Hk3Bs2/sz9VK5cuuE99sCR0jZ/N9b7zB51GVT4PKLUIiEA4AYmtI+1BYhufo6JtDbJcf9+nVaj3umn7rmKXF4ybvpjbX59Ds3o1eO/6kkdqx2ePnhIBEchOAhJbR/wusY3fUbEI7i0D23HnxLm8/Bvbl1svVJjENn7melIERKA4AYmtIy1CYpuYox5+dyH3TrE7KEoPbXJrMW/VZq47tQ1X9WpZTGzD9+kmZoWeFgERyFYCEltHPC+xTdxRs1dsZODY6REzuqJnc27s305imzhu5SACIhBGQGLrSHOQ2CbHUUvWbuWk++ya47LDzBtPpmGdaoyfsZjb/jsH9WyTw165iEA2E5DYOuJ9iW3yHLVzdwGtb3kjYoav/+4ETntwTy9YYps89spJBLKVgMTWEc9LbJPvqN8++zmvf7UyasYS26iIlEAERCAKAYmtI01EYuuPoz5bup5fPPphxMwrVIBRp3dgSPdDdYmBP25QriIQeAISW0dcLLH1z1E/7cyn3cjJUQt49arj6dQ0J2o6JRABERCBkgQkto60CYmt/47qOGoKm7fvLrOgZy/ryjHN6jJ13mpObpdLlQhHPfpvrUoQARFwiYDE1hFvSWxT46inZy5lxCvfRC3s1tPbc/Hxh0dNpwQiIAIiYAQkto60A4lt6hwVy/agwV2bMfrMjqkzSiWJgAg4TUBi64j7JLapd1S0Yx51VV/qfaISRcBVAkEX29bAU0B9YB0wBFhQwlmVgLFAP6AQGAM84aWJFHcKcBdg3ZsHgWvD8h0FXAms8D6bAVzl/VwDGA90BmyC0J57PVoDkthGI+RPvM3PXjT+kzIzH3NWR/q0z2XDtl38/vlZPHzeMRxa/8Bi6Res2kzfB95j/EVd6NW2gT+GKlcREIGMJhB0sX3HzpMHngHOB4YCvUt4xAR4MNDfE+VZwAnAEk+cy4qzA3RrAmcD1UoRW4sLF+CiYkfaOQnAZUAr4H3A8toSqaVIbNP3Hu3KL6DVzZEPwejR6iDeX7CWszs34Zq+rRnzxrdc368NTerW4N4p3/Lwu99xdLMc/nPl8emriEoWARFIG4Egi611IeZ7ApoPWC/VercmcGvCiE/0epoveZ89BCwF7gUixRVlYb3YksJa2mdF6WcDFwKfeh9Yr9Z63y9KbNP2HsRU8ANvzuevb5ccGCn+6IFVK7F1pzW3PeGjm05mwodLQmJ7VNMcXrlKYhsTbCUSgYARCLLY2jDtBKBDmM/meD3cz8M++9rr8RaNFV4PNAGGAZHioontpcB64EfgVqDo5ITNQPMwwX8EWAjcL7HN/LdrzeYddBn9VrkMtcsNHpu2KLRH1/bqKoiACGQfAYltZEGNV2wber3oXUBf4J+AXSVjPetYxXY4YP9CIScnp2leXl72tdAMrPHu/AJaRhlWLs1siW0GOlMmiUCKCARZbNM5jFzSfZ8B1wDTAA0jp6hx+11MLFuEwm3o1KQOr/7WlgMoiIAIZBuBIIut+dLuUrOVxUULpC4BepVw8kXAoBILpHoAi4FIcUXZlDY/2xj4wUtwFPC2N5xtQ8qW3uKLFkjZ1TK2QMp6vGUGLZDK3Ffz/x6azlffb4zJwCVjBsaUTolEQASCRSDoYtvWW3xUF7AxWFt5PA+YBNiqYFukZAunbFGUbeWxcA/wuPdzpDjrojwH1LbDQQD7tjUxn+KVaXPGtlJmpzdna2VasH0hTwJHe/E2R/xqtGYlsY1GKL3xa7fs4Ng7o8/lDjquGQfXrMqO3QU0rludId0PS6/hKl0ERCAlBIIutimBmIpCJLapoJx4GY9O/Y57Jn8bc0bq6caMSglFwGkCEltH3CexdcRRdmqKd4hFLBY/fkFnDsmpzhGN68SSXGlEQAQcJSCxdcRxEltHHBVm5sxF6/jV4zNjMrxkDze/oJAFqzfTJreW7tCNiaASiUBmE5DYZrZ/9lonsXXEUSXMLCgo5M6Jcxk3w9bblR3uO6dT6PSponD/m/MZ+/YC/nb+MfQ7opGblZfVIiACewlIbB1pDBJbRxxVhpnbd+XTdkTkC+qrV6nEye0a0L1FfSZ8sJR5qzaj24Xc9rusF4EiAhJbR9qCxNYRR0Ux8wS+sUwAABirSURBVOF3F3LvFFsQH3v4Y7+2nHVMY3Jr2xHcCiIgAi4SkNg64jWJrSOOitHMaNf3lcym86F1ef7yblSuVDHGEpRMBEQgkwhIbDPJGxFskdg64qhymLl603aOu8vOO4k9vDn8RFrl1or9AaUUARHICAIS24xwQ3QjJLbRGbma4t1vV3Pxk2XfmRter6qVK/LAuUcx8MhGFBYWMmPhOo49rC7VqlTio0XraJ1bi7oHVnUVhewWgcASkNg64lqJrSOOSsDMf0xfzB2v28VU0YNtFZr09Uqu/OfnnNe1Gb/v04rjRr+NXfE3+/Z+0TNQChEQgZQSkNimFHf8hUls42fn0pO2v7bdyMns3F0Q0exLTzicOtWr8Oc359O2YS0eOu8Y+txv91yATqVyyeOyNVsISGwd8bTE1hFHJcnMvK07OfqONyPmdmqHXKbMXhVK89zl3fYeoCGxTZITlI0IJJGAxDaJMP3MSmLrJ93MzTuey+r/PuRY+rbPzdxKyTIRyEICEltHnC6xdcRRPpn52dL1/OLRD2POfdKwHpz5yAyuOLE515zSJubnlFAERMAfAhJbf7gmPVeJbdKROpnhxK9WctWzn5fLdg0rlwuXEouALwQktr5gTX6mEtvkM3U5xyfeXxQ6cznWMKT7odx+xhGxJlc6ERCBJBOQ2CYZqF/ZSWz9Iut2vm/NWcWlEz6NqRJ/6Nua353cKqa0SiQCIpBcAhLb5PL0LTeJrW9oA5Hxe/PXMGTcx1Hrck7nJtSoWomrerekQa1q7Nidz/d5P9Hi4JpRn1UCERCB+AlIbONnl9InJbYpxe1sYdPmr+HCGETXKrj47gH88rGZfLxkPT1bH8xTQ49ztt4yXAQynYDENtM95NknsXXEURli5t/fW8ToSZHndK/q1YKH3/1ur8W/692SP2jlcoZ4UGYEjYDE1hGPSmwdcVSGmfnF8g38/OEZMVv1wQ29OSSnOt/+uInhz3/J3JWb+HxEX+p55y1f9+KXdDmsHud2aRpznkooAiIAEltHWoHE1hFHZaiZX3+/kdMfmh7Vuk5N6rBu687QPG5RaJ1bk/8N7xn6tehqQG0niopSCUSgGAGJrSMNQmLriKMy3Mztu/JpO2JyuaysXLECj13QmTYNa3HCPe+GnpXYlguhEouAerautAGJrSuecsPOeEQ3vGbvXnsSjepUC13tpyACIhCdQNB7tq2Bp4D6wDpgCLCgBBb7thgL2L1khcAY4AkvTaS4U4C7gI7Ag8C1YfmOAH4F5AO7gJuAKV78k0AfYK33+4vA6GiukthGI6T4eAmc/egHfLo0L67H7/lFR37ZpVlcz+ohEcgmAkEX23eAccAzwPnAUKB3CQebAA8G+nuiPAs4wUbKPHEuK64lYJsTzwaqlRDbU4H3gW1AJ8DuPmsE2ESYia2dQvBQeRqaxLY8tJQ2HgK2T9f265Y3hC+gsmc3b99FrWpVypuN0otAoAkEWWwbAPM9AbUepvVSrXdrR+iEf6NMBMYDL3meNhFcCtwLRIorahijPNEN79mGN5oKwAagA/C9xDbQ71MgKrdg1Wb6PvBeuery0U0nk1u7GkX7fNvk1mLK8BPLlYcSi0CQCQRZbDsDEzyRK/LhHK+HG36S+9dej/cTL9H1QBNgGBApLlaxvRC4GjjGe8B6tvYttBWwTY43AlEPuVXPNsivYWbWbXd+AS1vfiNm4wYd14x/fbxsb/qbB7Sjf8eGNKlbI+Y8lFAEgkpAYhtZUBMVW9sv8TTQF5jnNaLGwEqgwBumvgNo7s3vhrez4YD9C4WcnJymeXnxzasFtfGqXqkjMOnrlVz5z/LdNmTW2f5cG2a28OxHy0KLqnq1tUEnBRHILgJBFtt0DyN3B14AzgAifUvZ0Lb1em3ousygnm12vZiZWtsfN26n291vl8u8CUOP46hmORw56n+h57RtqFz4lDggBIIstuaiqd7K4qIFUpcAvUr47iJgUIkFUj3s6FggUlxRNqXN2XYBXgbOAT4qUZ71bH/wPrOFVNbzPQTYLbENyFuVBdXYlV/Ay599zw3/tsGf6OHIJnX46vuNe8W2sLCQcTOWcHqnRqELEYqCDV3PWr6BY5rVpVJFW+6gIALBIBB0sW3rbf2pC9gYrK08tuHcScBIb1WwLZyyRVG2lcfCPcDj3s+R4mzF8nNAbcC+FeybxMTctvjY/O9hYaJq2V3gzQG/BeR6w8ibgOuAmdGak3q20QgpPl0E1m3ZQec7rVnHFuzCg2nz1jBuxmJMhJ8e2pUDqlQM7dl96J0F3Pe/+Yw+8wgGdz20WIbbdu5m2858Dqp5QGwFKZUIZBCBoIttBqFOzBSJbWL89LT/BAoKCrlw/Me8v6BoC3n0MuvWqELeNtuKDm9c3YP+f7UdczC4azNGn2lb2PeFI0dNYdP23RqGjo5VKTKQgMQ2A51SmkkSW0ccJTNDBGyYuVU5VjKXxGYLqV777QkcXGtfL1bnMqtxuUxAYuuI9yS2jjhKZu5HYM6KTQwYu6fHWt4w8MhG/PrEFnRsUmfvJQjz7+xPIYUcUFlHRZaXp9Knj4DENn3sy1WyxLZcuJQ4AwnYoqhHp33HnyYX7YJLzMhZI/oyfeHaUC+6Z+uDqa+53MSA6mlfCUhsfcWbvMwltsljqZzST2Djtl30/vPU0HV+yQrXndqGq3rZKaoKIpB5BCS2meeTUi2S2DriKJlZbgILV2+hz/12fHjiQXt4E2eoHPwhILH1h2vSc5XYJh2pMsxAAvGcyxxejZPaHMy4C7tQUXt0M9C72W2SxNYR/0tsHXGUzEwagSmzf+SKpz8rd34jT2vPz4+2s2P2HBdZMtjc8V/fXsAp7RvS/hDbJq8gAv4TkNj6zzgpJUhsk4JRmThIwMRx9MS5PDHdDnUrXwgfVn7hk+Vc//JXXNDtUJ6eued0VA07l4+nUsdPQGIbP7uUPimxTSluFZahBPILCrln8rc8/t6imC188uIu3PbfOSxeaxdtFQ8mth8tWhdaqDWgo105rSAC/hCQ2PrDNem5SmyTjlQZBoDAtS9+yUuf2TXR8YW7z+rIjd75zia8I1/9hpwaVfluzRZ+07MFRzSuE1/GekoEShCQ2DrSJCS2jjhKZqaNwDMzl3LLK9/EXf6VJ7Xgkal2xfS+MO/Ofox9e0Go19vhEAlv3HD1IBJbRxqBxNYRR8nMtBOwm4P+8tYCHnp3YVJtKZrf/eC7tbQ4uCa5tffdVpTUgpRZIAlIbB1xq8TWEUfJzIwjEO+q5tIq8s4fetL7z3v2BL/8m+7c8spsft2zOWcctWf185rNO9ixO58mdWtkHAcZlF4CEtv08o+5dIltzKiUUATKJLBp+669l9gnE1NRr1eXJSSTarDyktg64k+JrSOOkpnOENiyYzdfLd/AeU98lLDNkcTWerqFhYTu61XIXgISW0d8L7F1xFEy00kCtpd3xsJ1nP+P+IT3hJYHMWHocTS/aVKo/rNvO5UDD6gc+rn9yMmhS+8tfHtHv2Kia4J/YNVKtnhmLzezJfx3J4HK6P0ISGwdaRQSW0ccJTMDQWDZum30fWAaO3YXxFyfl37dnbP/9uHe9K//7gTaNqxFy7B7fT+8sTeN6lQPpdm2czftR06hT7tcHvhlJ2pVq8J5f5/J8rxtvH9975jLVUI3CEhs3fATEltHHCUzA0lg+fpt9PjTuwnX7ZfHNuXkdg1oVr8G/f5S/I5fG4oubc535cafmPLNj1z4s8PU403YA+nLQGKbPvblKlliWy5cSiwCvhGwYd4VG7dz/Jh3klrGwtH99/aCw4+RPPFP77Js/TaevawrP2txUFLLVGapIyCxTR3rhEqS2CaETw+LgG8EbF9v+FBxMgoysbV8r3vpK/4z64dQlo9f0JlTOjTkp535VKpYgaqVKyajKOWRIgIS2xSBTrQYiW2iBPW8CKSGwMLVm+lz/3sJFWZzvd/+uLlYHnf+/AjO73ZoaKjZbjP6fERfbCtT1UoVtdI5IdqpeVhimxrOCZcisU0YoTIQgZQTsCHn/81ZFddVgaUZ2zq3JvNXbQlFFc3xdjikNhOH9dibfOq81bRtWJu1W3aEFmhVrqQecModX0qBEttM8EIMNkhsY4CkJCKQ4QRsCPjjJeu5cNzHCVvar0NDJs/+MZSPbSmym4uWrtvKeX/ft33pip7NubF/u2JlWZqLn/yEf1zYhcMPOrBUO+yPhFnLN2BCfkBl7Q9O2FkQ+LORWwNPAfWBdcAQYEEJcNaSxgL9gEJgDPCElyZS3CnAXUBH4EHg2rB8482zTJ9KbJPR3JWHCGQWAbsy8J1vV3PZhE99Maxdo9qMOasj36zYyOCuh4bKuPq5Wbz6xQpO73QIDw46utRy31+whgv+8TG/6tKUMb840hfbsi3ToPdsbbngOOAZ4HxgKFByA5sJ8GCgvyfKs4ATbJTGE+ey4loCNYGzATuRPFxs481TYpttb6DqKwJhBKzne9H4j/lo8fqkc1l894DQ1qFh/5rFa1+uwA7i+HTpeu47pxOnHXlIsfKenLGYUf+dQ5O61Zn+R+35TYYzgiy2DYD5noDa8S3W27TebSs7LzwM3kRgPPCS99lDwFLgXiBSXFEWozzRDRfbRPPcz7fq2SajuSsPEXCPwJK1W0MCvGTdtoSM/+yWPqzevINbX50dGsoOD89d3o235qzi5oHtQoI8fsZibpPYJsS75MNBFtvOwASgQ1il53g93M/DPvva6/F+4n12PdAEGAZEiosktonmKbFNajNXZiIQHAKrN2/nXx8t54G3rC+R3DDs5FY0P+hA8rbtlNgmF22g52xdF9vhgP0LhZycnKZ5eXlJdr+yEwERcJ2AXXTw1AdLuGvSt0mryrDeLRn7zr77gG1f7wtXdKPzofWwxVNPvL84NNT9xIXHhspcv3UnNapWCm1FqlG1MjW9c6GTZlAAMgpyz1bDyAFooKqCCIhA+QiYGM5ZuYmBY6eX78EYUj9/eTd++fjMvSn/feXP2LhtV2h1s+39NdGtXqUSc++w9aYK4QSCLLZWz6neyuKiBVKXAL1KNIGLgEElFkjZprXFQKS4omxKm7NNNM/9WqnmbPXiioAIxEvABPj9BWsZkoQtR7HYUHTcpJV7x+tz6dX2YHq0OjiWRwObJuhi29bb+lMXsDFYWyU8D7B7sEYCtt7eFk7ZoijbymPhHjsZzfs5UpytWH4OqG1bqICNgIn5lATyLLOhSWwD+w6qYiKQFgLWCz33sQ9ZuHrPIRnJDDakbNcKXndqG+6dYl+5ew7hKArbd+WzZvMOmtarkcxiMzqvoIttRsMvj3ES2/LQUloREIF4CLw7bzUXjy9aKxpPDmU/88bVPbBre79f/xO/f/4L7C7fUae3J6dG1dAWo9e/WskN/duGjp+sWHHf/b7RrHDl/l+JbTRPZki8xDZDHCEzRCDLCNjq5+NGv52SWg88shETv1rJyNPac1Kbg6letRINa1djw7ZdfPDdOiy+KNhe4MfeW8TGn3Yx5/bMnyOW2KakCSVeiMQ2cYbKQQREIHECBQWFoaMhR7zyzd7jIhPPNXIORzfLYdayDYw+8wgOqnkAp3ZouPfuX3syfIg6EVs+XryeZvVq0LCOnVOU3CCxTS5P33KT2PqGVhmLgAgkSMCGcn/ctJ3bXpuTEgE+7vB6mDCGh3l39iv1HGfbGrVg1RaqValIywa1yqyp/RHR/KZJVKlUgQWjByRIZP/HJbZJR+pPhhJbf7gqVxEQAX8ImACv2rSDR6YuZMKHdiifv2Ho8YdTSCHjZyzhloHtuLRHc1794geufu6LvQUvumtAmfPB4fcSJ6unHF5jia2//k9a7hLbpKFURiIgAmkkYCuRd+UXhC46+GL5Bt8seeCXnRj+/JfF8h90XFOu6tWSihUqULliBRrU3jdcbDa1uvmNUHqJbXG3xL5czTd3pi5jiW3qWKskERCB1BPYvH1X6GSqv75d8mI2/2x577peNK1XPdT7tesIiw4CMbG1nvm/Pl7OgI4NQyumEw3q2SZKMEXPS2xTBFrFiIAIZAwBE7xvf9wcOo7yuU+Wp8yuv53fmbsmzWXZ+m10Pbwez1/RPeGyJbYJI0xNBhLb1HBWKSIgAm4Q+OaHjaHrAhet3eq7wckYVpbY+u6m5BQgsU0OR+UiAiIQXAK2otiuEbz7jbm8+sWKpFV07KCj+b9Oxe/8LW/mEtvyEktTeoltmsCrWBEQgUAQWLtlB6MnzuU/s36Iqz6J9m4ltnFhT/1DEtvUM1eJIiACwSdg+3C/WLah2G1GpdVaYhv8thCqocQ2SxytaoqACGQEgZ27C5i7chO/fPxD/nVZN45uZvfZxB/Us42fXUqflNimFLcKEwEREIGkEpDYJhWnf5lJbP1jq5xFQAREwG8CElu/CScpf4ltkkAqGxEQARFIAwGJbRqgx1OkxDYeanpGBERABDKDgMQ2M/wQ1QqJbVRESiACIiACGUtAYpuxrilumMTWEUfJTBEQAREohYDE1pFmIbF1xFEyUwREQAQktu62AYmtu76T5SIgAiKgnq0jbUBi64ijZKYIiIAIqGfrdBvYDqxOsAa1gM0J5pEtj4tV+TwtXrHzEqvsZNUA2HdbfewM0p4yqy6PTxLtZUCzJOUV9GzEqnweFq/YeYmVWMVOIANSSmzL7wS95LEzE6vYWVlK8Yqdl1iJVewEMiClxLb8TtBLHjszsYqdlcRWrMpHIPbUeg9jZ+VbSolt+dEOBx4o/2NZ+YRYlc/t4hU7L7ESq9gJZEBKiW0GOEEmiIAIiIAIBJuAxDbY/lXtREAEREAEMoCAxDYDnCATREAEREAEgk1AYhu7f1sDTwH1gXXAEGBB7I87n9Lq/TTQAtjp1f0KYA3QDXgMqA4sAc4P288cb5zzwLwK3AqMAjoC34hVmW61vZO2FqIPYPvhPwQuByK9d/HGud62TgPuAOz72/7dBvxbrDLbrRLb2P3zDjAOeMYTk6FA79gfdz5lPeBIYKpXk3sB++wyYD5wETAduAVoDhifinHGOQ/Lq8AxwGigHWBfkHPi5BGJY1BYjQXygWuAQiAXWAVEeu/ijXOZmX1nrwd6eH+82Ts5A6gDvBXhOyobWWWUnyW2sbnDTi0xQbHenX0hVPJ6t628nl1suQQr1S+A3wA3AuOBI7zqHeT1bmsCXeKMCwKpA7w/TAZ5/5vYWs9frPb3rrWV74EmwJaw6EjvnX13lfVORoqzkRiXg9VtLfB/nsieCDwBnBAnjyCzyig/S2xjc0dnYALQISy59VJsuPTz2LIIVCrraf0PeA34wevFDgyr4Tbvi7NXnHH2l7vr4R7vkIqHvT8+TGzbxMkjEscgsOrkDYPaUKjV1QTXRkh+ivDe2XdXWe9kpLggvK8nA88DWwE7tnIAsCtOHkFnlTHfIxLb2FwhsS3OyQSkMXAWcKYEZL9G1B2405t/tCFRm8eW2Jb9rtlw+2fAYOBZoCvwX+Ac4JEy/sjNVrGtDEwGbC2ADR8fD/wLuECsYvsyT1cqiW1s5DWMvI/Tfd7c7enAjgSGiiMNMcfmlcxNdQMwzFtIZlba8KjNP9q8pH0pasi9uO9s6mElUNWbr7VYGzmydQA2glLa9E22DiMf6/Vg24chnOuxmiJWmfulILGN3Te2MMjmRooWSF3iDXnFnoP7Ke8CrNdmQ8Y2VGzBhpRtVfaFYQukbMXyxQnEuU+qeA2KerYmIGJVundNVO0POfvfVhl/ALQEXonw3kV6J4P6vjb05mbtj9V53uI76+EaKxuGL+s7KhtZZdT3iMQ2dne09bb+1AXyvK0/1tizJdh8tW1dsUUpNpdmYbE3jPwzb+uPbd8o2vpjPTkL8cYFiWuR2Bq/eHlEei4IrGwFu632t16szT/eDLwBRHrv4o1znZcNt9voSYFXERtStj9K4uWR7d9tKWkPEtuUYFYhIiACIiAC2UxAYpvN3lfdRUAEREAEUkJAYpsSzCpEBERABEQgmwlIbLPZ+6q7CIiACIhASghIbFOCWYWIgAiIgAhkMwGJbTZ7X3UXAREQARFICQGJbUowqxAREAEREIFsJiCxzWbvq+4iIAIiIAIpISCxTQlmFSICIiACIpDNBCS22ex91V0EREAERCAlBCS2KcGsQkRABERABLKZgMQ2m72vuouACIiACKSEgMQ2JZhViAiIgAiIQDYTkNhms/dVdxEQAREQgZQQkNimBLMKEQEREAERyGYCEtts9r7qLgIiIAIikBICEtuUYFYhIiACIiAC2UxAYpvN3lfdRUAEREAEUkJAYpsSzCpEBERABEQgmwlIbLPZ+6q7CIiACIhASghIbFOCWYWIgAiIgAhkMwGJbTZ7X3UXAREQARFICQGJbUowqxAREAEREIFsJiCxzWbvq+4iIAIiIAIpIfD/0xAFS3UEfdEAAAAASUVORK5CYII=\" width=\"431.818172458775\">"
      ],
      "text/plain": [
       "<IPython.core.display.HTML object>"
      ]
     },
     "metadata": {},
     "output_type": "display_data"
    }
   ],
   "source": [
    "plot_iteration(a.rel_err, min_it=1000)"
   ]
  },
  {
   "cell_type": "code",
   "execution_count": null,
   "metadata": {},
   "outputs": [],
   "source": []
  },
  {
   "cell_type": "code",
   "execution_count": null,
   "metadata": {},
   "outputs": [],
   "source": []
  },
  {
   "cell_type": "code",
   "execution_count": null,
   "metadata": {},
   "outputs": [],
   "source": []
  },
  {
   "cell_type": "code",
   "execution_count": null,
   "metadata": {},
   "outputs": [],
   "source": []
  },
  {
   "cell_type": "code",
   "execution_count": null,
   "metadata": {},
   "outputs": [],
   "source": []
  },
  {
   "cell_type": "code",
   "execution_count": null,
   "metadata": {},
   "outputs": [],
   "source": []
  },
  {
   "cell_type": "code",
   "execution_count": null,
   "metadata": {},
   "outputs": [],
   "source": []
  },
  {
   "cell_type": "code",
   "execution_count": null,
   "metadata": {},
   "outputs": [],
   "source": []
  },
  {
   "cell_type": "code",
   "execution_count": null,
   "metadata": {},
   "outputs": [],
   "source": []
  },
  {
   "cell_type": "code",
   "execution_count": null,
   "metadata": {},
   "outputs": [],
   "source": [
    "p1 = np.load('output/20191223-1714_eq1_1_nn_params.npz')['arr_0']\n",
    "p2 = np.load('output/20191223-1714_eq1_2_nn_params.npz')['arr_0']\n",
    "p3 = np.load('output/20191223-1714_eq1_3_nn_params.npz')['arr_0']\n",
    "p4 = np.load('output/20191223-1730_eq1_4_nn_params.npz')['arr_0']\n",
    "p5 = np.load('output/20191223-1730_eq1_5_nn_params.npz')['arr_0']\n",
    "p6 = np.load('output/20191223-1731_eq1_6_nn_params.npz')['arr_0']\n",
    "p7 = np.load('output/20191223-1731_eq1_7_nn_params.npz')['arr_0']"
   ]
  },
  {
   "cell_type": "code",
   "execution_count": null,
   "metadata": {},
   "outputs": [],
   "source": [
    "plot_partitions(p1)"
   ]
  },
  {
   "cell_type": "code",
   "execution_count": null,
   "metadata": {},
   "outputs": [],
   "source": []
  },
  {
   "cell_type": "code",
   "execution_count": null,
   "metadata": {},
   "outputs": [],
   "source": []
  },
  {
   "cell_type": "code",
   "execution_count": null,
   "metadata": {},
   "outputs": [],
   "source": []
  },
  {
   "cell_type": "code",
   "execution_count": null,
   "metadata": {},
   "outputs": [],
   "source": []
  },
  {
   "cell_type": "code",
   "execution_count": null,
   "metadata": {},
   "outputs": [],
   "source": [
    "a.save_result('eq1_1_v1')\n",
    "\n",
    "timestr = time.strftime(\"%Y%m%d-%H%M\")\n",
    "np.savez('output/'+ timestr + '_eq1_1_v1_momentum.npz', a.m_t)\n",
    "np.savez('output/'+ timestr + '_eq1_1_v1_p_list.npz', p)"
   ]
  },
  {
   "cell_type": "code",
   "execution_count": null,
   "metadata": {},
   "outputs": [],
   "source": [
    "name_str = '20200716-2122_eq1_1'\n",
    "\n",
    "a.p = np.load('output/' + name_str + '_v1_nn_params.npz')['arr_0']\n",
    "a.cost_rate = np.load('output/' + name_str + '_v1_cost_rate.npz')['arr_0']\n",
    "a.rel_err = np.load('output/' + name_str + '_v1_rel_err.npz')['arr_0']\n",
    "a.m_t = np.load('output/' + name_str + '_v1_momentum.npz')['arr_0']\n",
    "p = np.load('output/' + name_str + '_v1_p_list.npz')['arr_0']"
   ]
  },
  {
   "cell_type": "code",
   "execution_count": null,
   "metadata": {},
   "outputs": [],
   "source": []
  },
  {
   "cell_type": "code",
   "execution_count": null,
   "metadata": {},
   "outputs": [],
   "source": []
  }
 ],
 "metadata": {
  "kernelspec": {
   "display_name": "Python 3",
   "language": "python",
   "name": "python3"
  },
  "notify_time": "30",
  "toc": {
   "base_numbering": 1,
   "nav_menu": {},
   "number_sections": true,
   "sideBar": true,
   "skip_h1_title": false,
   "title_cell": "Table of Contents",
   "title_sidebar": "Contents",
   "toc_cell": false,
   "toc_position": {
    "height": "calc(100% - 180px)",
    "left": "10px",
    "top": "150px",
    "width": "216.797px"
   },
   "toc_section_display": true,
   "toc_window_display": false
  },
  "varInspector": {
   "cols": {
    "lenName": 16,
    "lenType": 16,
    "lenVar": 40
   },
   "kernels_config": {
    "python": {
     "delete_cmd_postfix": "",
     "delete_cmd_prefix": "del ",
     "library": "var_list.py",
     "varRefreshCmd": "print(var_dic_list())"
    },
    "r": {
     "delete_cmd_postfix": ") ",
     "delete_cmd_prefix": "rm(",
     "library": "var_list.r",
     "varRefreshCmd": "cat(var_dic_list()) "
    }
   },
   "types_to_exclude": [
    "module",
    "function",
    "builtin_function_or_method",
    "instance",
    "_Feature"
   ],
   "window_display": false
  }
 },
 "nbformat": 4,
 "nbformat_minor": 2
}
