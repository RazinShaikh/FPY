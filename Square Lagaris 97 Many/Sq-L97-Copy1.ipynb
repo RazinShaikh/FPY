{
 "cells": [
  {
   "cell_type": "markdown",
   "metadata": {
    "heading_collapsed": true,
    "slideshow": {
     "slide_type": "-"
    }
   },
   "source": [
    "# Imports"
   ]
  },
  {
   "cell_type": "code",
   "execution_count": 1,
   "metadata": {
    "hidden": true
   },
   "outputs": [
    {
     "name": "stdout",
     "output_type": "stream",
     "text": [
      "Pixiedust database opened successfully\n"
     ]
    },
    {
     "data": {
      "text/html": [
       "\n",
       "        <div style=\"margin:10px\">\n",
       "            <a href=\"https://github.com/ibm-watson-data-lab/pixiedust\" target=\"_new\">\n",
       "                <img src=\"https://github.com/ibm-watson-data-lab/pixiedust/raw/master/docs/_static/pd_icon32.png\" style=\"float:left;margin-right:10px\"/>\n",
       "            </a>\n",
       "            <span>Pixiedust version 1.1.14</span>\n",
       "        </div>\n",
       "        "
      ],
      "text/plain": [
       "<IPython.core.display.HTML object>"
      ]
     },
     "metadata": {},
     "output_type": "display_data"
    },
    {
     "data": {
      "text/html": [
       "<div>Warning: You are not running the latest version of PixieDust. Current is 1.1.14, Latest is 1.1.18</div>"
      ],
      "text/plain": [
       "<IPython.core.display.HTML object>"
      ]
     },
     "metadata": {},
     "output_type": "display_data"
    },
    {
     "data": {
      "text/html": [
       "\n",
       "                <div>Please copy and run the following command in a new cell to upgrade: <span style=\"background-color:#ececec;font-family:monospace;padding:0 5px\">!pip install --user --upgrade pixiedust</span></div>\n",
       "            "
      ],
      "text/plain": [
       "<IPython.core.display.HTML object>"
      ]
     },
     "metadata": {},
     "output_type": "display_data"
    },
    {
     "data": {
      "text/html": [
       "<div>Please restart kernel after upgrading.</div>"
      ],
      "text/plain": [
       "<IPython.core.display.HTML object>"
      ]
     },
     "metadata": {},
     "output_type": "display_data"
    }
   ],
   "source": [
    "import copy\n",
    "import numpy as np\n",
    "import itertools\n",
    "import time\n",
    "from matplotlib import pyplot as plt\n",
    "from mpl_toolkits.mplot3d import Axes3D\n",
    "from matplotlib import cm\n",
    "import pixiedust"
   ]
  },
  {
   "cell_type": "markdown",
   "metadata": {
    "heading_collapsed": true
   },
   "source": [
    "# Introduction"
   ]
  },
  {
   "cell_type": "markdown",
   "metadata": {
    "hidden": true
   },
   "source": [
    "Consider the following equation:\n",
    "$$\\Delta_p \\Psi(x,y)=f(x,y)$$\n",
    "\n",
    "$x \\in [0,1],\\ y \\in [0,1]$ with *Dirichlet* BC: $\\Psi(0,y) = 0$, $\\Psi(1,y) = 0$, $\\Psi(x,0) = 0$ and $\\Psi(x,1) = 0$.\n",
    "\n",
    "For this first attempt, we will take $p=2$."
   ]
  },
  {
   "cell_type": "markdown",
   "metadata": {
    "heading_collapsed": true
   },
   "source": [
    "# Defining functions"
   ]
  },
  {
   "cell_type": "markdown",
   "metadata": {
    "heading_collapsed": true,
    "hidden": true
   },
   "source": [
    "## Sigmoid"
   ]
  },
  {
   "cell_type": "markdown",
   "metadata": {
    "hidden": true
   },
   "source": [
    "Sigmoid $\\sigma(x) = \\frac{1}{1+e^{-x}}$ and its derrivatives."
   ]
  },
  {
   "cell_type": "markdown",
   "metadata": {
    "hidden": true
   },
   "source": [
    "Sigmoid with parameter $t$\n",
    "$$ \\sigma_t(x) = \\frac{1}{1+e^{-tx}}$$"
   ]
  },
  {
   "cell_type": "code",
   "execution_count": 2,
   "metadata": {
    "hidden": true
   },
   "outputs": [],
   "source": [
    "T = 1"
   ]
  },
  {
   "cell_type": "code",
   "execution_count": 3,
   "metadata": {
    "hidden": true
   },
   "outputs": [],
   "source": [
    "def sig(x):\n",
    "    return 1 / (1 + np.exp(-T*x))\n",
    "\n",
    "def sig1(x):\n",
    "    return T * sig(x) * (1 - sig(x))\n",
    "\n",
    "def sig2(x):\n",
    "    return T * (sig1(x) - 2*sig(x)*sig1(x))\n",
    "\n",
    "def sig3(x):\n",
    "    return T * (sig2(x) - 2 * (sig1(x)**2 + sig(x) * sig2(x)))\n",
    "\n",
    "def sig_pr(x, k):\n",
    "    if k==0:\n",
    "        return sig(x)\n",
    "    if k==1:\n",
    "        return sig1(x)\n",
    "    if k==2:\n",
    "        return sig2(x)\n",
    "    if k==3:\n",
    "        return sig3(x)"
   ]
  },
  {
   "cell_type": "markdown",
   "metadata": {
    "heading_collapsed": true,
    "hidden": true
   },
   "source": [
    "## RHS"
   ]
  },
  {
   "cell_type": "markdown",
   "metadata": {
    "hidden": true
   },
   "source": [
    "The right side of the equation:  $\\Delta\\Psi(x,y) = 6 x (x-1) (1-2 y) + 2 y (y-1) (1-2 y)$"
   ]
  },
  {
   "cell_type": "code",
   "execution_count": 4,
   "metadata": {
    "hidden": true
   },
   "outputs": [],
   "source": [
    "K=1\n",
    "def f(x, y):\n",
    "    return K * (6*(x-1)*x*(1-2*y) + 2*(y-1)*y*(1-2*y))"
   ]
  },
  {
   "cell_type": "markdown",
   "metadata": {
    "hidden": true
   },
   "source": [
    "The analytic solution is given by: $\\ \\Psi_a(x,y) = x (1-x) y (1-y) (1-2 y)$"
   ]
  },
  {
   "cell_type": "code",
   "execution_count": 5,
   "metadata": {
    "hidden": true
   },
   "outputs": [],
   "source": [
    "def psi_a(x, y):\n",
    "    return K * x*(1-x)*y*(1-y)*(1-2*y)"
   ]
  },
  {
   "cell_type": "markdown",
   "metadata": {
    "hidden": true
   },
   "source": [
    "$$\\frac{\\partial}{\\partial x} \\Psi_a = (1-2x) y (1-y) (1-2 y)$$"
   ]
  },
  {
   "cell_type": "code",
   "execution_count": 6,
   "metadata": {
    "hidden": true
   },
   "outputs": [],
   "source": [
    "def psi_a_dx(x,y):\n",
    "    return K * (1-2*x)*y*(1-y)*(1-2*y)"
   ]
  },
  {
   "cell_type": "markdown",
   "metadata": {
    "hidden": true
   },
   "source": [
    "$$\\frac{\\partial}{\\partial y} \\Psi_a = x (1-x) (1-6y + 6y^2) $$"
   ]
  },
  {
   "cell_type": "code",
   "execution_count": 7,
   "metadata": {
    "hidden": true
   },
   "outputs": [],
   "source": [
    "def psi_a_dy(x,y):\n",
    "    return K * x*(1-x)*(1-6*y+6*(y**2))"
   ]
  },
  {
   "cell_type": "markdown",
   "metadata": {
    "heading_collapsed": true,
    "hidden": true
   },
   "source": [
    "## Neural Network"
   ]
  },
  {
   "cell_type": "markdown",
   "metadata": {
    "hidden": true
   },
   "source": [
    "The output of neural network $N(x,y,\\vec{p})$, where $\\vec{p} = [w, u, v]$:\n",
    "$$N = \\sum_i^H v_i \\sigma(z_i) \\text{, where } z_i = w_{i0} x + w_{i1} y + u_i$$"
   ]
  },
  {
   "cell_type": "code",
   "execution_count": 8,
   "metadata": {
    "code_folding": [],
    "hidden": true
   },
   "outputs": [],
   "source": [
    "def z(x, y, p):\n",
    "    z_x = np.multiply(x, p[0][0])\n",
    "    z_y = np.multiply(y, p[0][1])\n",
    "    z_ = np.array([z_x, z_y, p[1]]).sum(axis=0)\n",
    "    return z_\n",
    "\n",
    "def N(x, y, p):\n",
    "    return np.sum(np.multiply(sig(z(x,y,p)), p[2]))"
   ]
  },
  {
   "cell_type": "markdown",
   "metadata": {
    "hidden": true
   },
   "source": [
    "$$\\frac{\\partial^k N}{\\partial x_j^k} = \\sum_{i=1}^H v_i w_{ij}^k \\sigma^{(k)}$$"
   ]
  },
  {
   "cell_type": "code",
   "execution_count": 9,
   "metadata": {
    "code_folding": [],
    "hidden": true
   },
   "outputs": [],
   "source": [
    "def dN_dxj_k(x, y, p, j, k):\n",
    "    wj = p[0][j]\n",
    "    v = p[2]\n",
    "    z_ = z(x, y, p)\n",
    "    \n",
    "    return np.sum(v * (wj**k) * sig_pr(z_, k))"
   ]
  },
  {
   "cell_type": "markdown",
   "metadata": {
    "hidden": true
   },
   "source": [
    "$$\\frac{\\partial N}{\\partial w_j} = x_j v \\sigma '$$"
   ]
  },
  {
   "cell_type": "code",
   "execution_count": 10,
   "metadata": {
    "code_folding": [],
    "hidden": true
   },
   "outputs": [],
   "source": [
    "def dN_dwj(x, y, p, j):\n",
    "    xj = x if j==0 else y\n",
    "    v = p[2]\n",
    "    z_ = z(x, y, p)\n",
    "    return xj * v * sig1(z_)"
   ]
  },
  {
   "cell_type": "markdown",
   "metadata": {
    "hidden": true
   },
   "source": [
    "$$ \\frac{\\partial}{\\partial w_j} \\frac{\\partial N}{\\partial x_k} = x_j v w_k \\sigma'' + v_i \\sigma' \\quad\\text{ if } j = k$$\n",
    "\n",
    "$$ \\frac{\\partial}{\\partial w_j} \\frac{\\partial N}{\\partial x_k} = x_j v w_k \\sigma'' \\quad\\text{ if } j \\neq k$$"
   ]
  },
  {
   "cell_type": "code",
   "execution_count": 11,
   "metadata": {
    "code_folding": [],
    "hidden": true
   },
   "outputs": [],
   "source": [
    "def d_dwj_dN_dxk(x, y, p, j, k):\n",
    "    xj = x if j==0 else y\n",
    "    wk = p[0][k]\n",
    "    jk = 1 if j==k else 0\n",
    "    v = p[2]\n",
    "    z_ = z(x, y, p)\n",
    "    return xj * v * wk * sig2(z_) + jk * v * sig1(z_)"
   ]
  },
  {
   "cell_type": "markdown",
   "metadata": {
    "hidden": true
   },
   "source": [
    "$$ \\frac{\\partial}{\\partial w_j} \\frac{\\partial^2 N}{\\partial x_k^2} = x_j v w_k^2 \\sigma^{(3)} + 2 v w_k \\sigma'' \\quad\\text{ if } j = k $$\n",
    "\n",
    "$$ \\frac{\\partial}{\\partial w_j} \\frac{\\partial^2 N}{\\partial x_k^2} = x_j v w_k^2 \\sigma^{(3)} \\quad\\text{ if } j \\neq k $$"
   ]
  },
  {
   "cell_type": "code",
   "execution_count": 12,
   "metadata": {
    "code_folding": [],
    "hidden": true
   },
   "outputs": [],
   "source": [
    "def d_dwj_dN2_dxk2(x, y, p, j, k):\n",
    "    xj = x if j==0 else y\n",
    "    wk = p[0][k]\n",
    "    jk = 1 if j==k else 0\n",
    "    v = p[2]\n",
    "    z_ = z(x, y, p)\n",
    "    return xj * v * (wk**2) * sig3(z_) + jk * 2 * v * wk * sig2(z_)"
   ]
  },
  {
   "cell_type": "markdown",
   "metadata": {
    "hidden": true
   },
   "source": [
    "$$ \\frac{\\partial}{\\partial u} \\frac{\\partial^k}{\\partial x_j^k} N = v w_j^k \\sigma^{(k+1)} $$"
   ]
  },
  {
   "cell_type": "code",
   "execution_count": 13,
   "metadata": {
    "code_folding": [],
    "hidden": true
   },
   "outputs": [],
   "source": [
    "def d_du_dkN(x, y, p, j, k):\n",
    "    v = p[2]\n",
    "    wj = p[0][j]\n",
    "    z_ = z(x, y, p)\n",
    "    return v * (wj**k) * sig_pr(z_, k+1)"
   ]
  },
  {
   "cell_type": "markdown",
   "metadata": {
    "hidden": true
   },
   "source": [
    "$$ \\frac{\\partial}{\\partial v} \\frac{\\partial^k}{\\partial x_j^k} N = w_j^k \\sigma^{(k)} $$"
   ]
  },
  {
   "cell_type": "code",
   "execution_count": 14,
   "metadata": {
    "code_folding": [],
    "hidden": true
   },
   "outputs": [],
   "source": [
    "def d_dv_dkN(x, y, p, j, k):\n",
    "    wj = p[0][j]\n",
    "    z_ = z(x, y, p)\n",
    "    return (wj**k) * sig_pr(z_, k)"
   ]
  },
  {
   "cell_type": "markdown",
   "metadata": {
    "heading_collapsed": true,
    "hidden": true
   },
   "source": [
    "## Trial solution"
   ]
  },
  {
   "cell_type": "markdown",
   "metadata": {
    "hidden": true
   },
   "source": [
    "The trial solution is given by: $$\\Psi_t(x,y) = x(1-x)y(1-y)N(x,y,\\vec{p})$$"
   ]
  },
  {
   "cell_type": "code",
   "execution_count": 15,
   "metadata": {
    "hidden": true
   },
   "outputs": [],
   "source": [
    "def psi_t(x, y, p):\n",
    "    return x * (1-x) * y * (1-y) * N(x, y, p)"
   ]
  },
  {
   "cell_type": "markdown",
   "metadata": {
    "hidden": true
   },
   "source": [
    "$$\\frac{\\partial \\Psi_t}{\\partial x_j} = y_j(1-y_j)\\left[ (1-2x_j) N + x_j (1-x_j) \\frac{\\partial N}{\\partial x_j} \\right]$$"
   ]
  },
  {
   "cell_type": "code",
   "execution_count": 16,
   "metadata": {
    "hidden": true
   },
   "outputs": [],
   "source": [
    "def dPsi_dxj(x, y, p, j):\n",
    "    xj = x if j==0 else y\n",
    "    yj = y if j==0 else x\n",
    "    return yj*(1-yj)*((1-2*xj)*N(x,y,p) + xj*(1-xj)*dN_dxj_k(x,y,p,j,1))"
   ]
  },
  {
   "cell_type": "markdown",
   "metadata": {
    "hidden": true
   },
   "source": [
    "$$\\frac{\\partial^2 \\Psi_t}{\\partial x_j^2} = y_j(1-y_j)\\left[ -2N + (2-4x_j) \\frac{\\partial N}{\\partial x_j} + x_j (1-x_j) \\frac{\\partial^2 N}{\\partial x_j^2} \\right]$$"
   ]
  },
  {
   "cell_type": "code",
   "execution_count": 17,
   "metadata": {
    "hidden": true
   },
   "outputs": [],
   "source": [
    "def dPsi2_dxj2(x, y, p, j):\n",
    "    xj = x if j==0 else y\n",
    "    yj = y if j==0 else x\n",
    "    return yj*(1-yj)*(-2*N(x,y,p) + (2-4*xj)*dN_dxj_k(x,y,p,j,1) + xj*(1-xj)*dN_dxj_k(x,y,p,j,2))"
   ]
  },
  {
   "cell_type": "markdown",
   "metadata": {
    "heading_collapsed": true,
    "hidden": true
   },
   "source": [
    "## Cost function"
   ]
  },
  {
   "cell_type": "markdown",
   "metadata": {
    "hidden": true
   },
   "source": [
    "$$E[\\vec{p}] = \\sum_{i \\in \\hat{D}} \\left\\{ \\frac{\\partial^2 \\Psi_t}{\\partial x^2} + \\frac{\\partial^2 \\Psi_t}{\\partial y^2} - f(x,y) \\right\\}^2 $$"
   ]
  },
  {
   "cell_type": "code",
   "execution_count": 18,
   "metadata": {
    "hidden": true
   },
   "outputs": [],
   "source": [
    "def error(x, y, p):\n",
    "    return dPsi2_dxj2(x,y,p,0) + dPsi2_dxj2(x,y,p,1) - f(x,y)"
   ]
  },
  {
   "cell_type": "code",
   "execution_count": 19,
   "metadata": {
    "code_folding": [],
    "hidden": true
   },
   "outputs": [],
   "source": [
    "def cost(points, p):\n",
    "    err = []\n",
    "    for x, y in points:\n",
    "        err_sq = error(x, y, p)**2\n",
    "        err.append(err_sq)\n",
    "        \n",
    "    cost = sum(err)\n",
    "    \n",
    "    return cost"
   ]
  },
  {
   "cell_type": "code",
   "execution_count": 20,
   "metadata": {
    "hidden": true
   },
   "outputs": [],
   "source": [
    "def relative_err(p, nx=100, all_points=None):\n",
    "    if all_points == None:\n",
    "        all_points = list(itertools.product(np.linspace(0, 1, nx), np.linspace(0, 1, nx)))\n",
    "\n",
    "    dOmega = 1. / len(all_points)\n",
    "\n",
    "    trial1 = np.sum(dOmega*np.array([np.linalg.norm(psi_t(x,y,p) - psi_a(x,y))**2\n",
    "                                     for x, y in all_points]))\n",
    "\n",
    "    trial2 = np.sum([dOmega*((dPsi_dxj(x,y,p,0)-psi_a_dx(x,y))**2 +\n",
    "                             (dPsi_dxj(x,y,p,1)-psi_a_dy(x,y))**2)\n",
    "                     for x, y in all_points])\n",
    "\n",
    "    ana1 = np.sum(dOmega*np.array([np.linalg.norm(psi_a(x,y))**2\n",
    "                                         for x, y in all_points]))\n",
    "    ana2 = np.sum([dOmega*(psi_a_dx(x,y)**2 + psi_a_dy(x,y)**2)\n",
    "                   for x, y in all_points])\n",
    "    \n",
    "    rel_err = (trial1 + trial2)**(1/2) / (ana1 + ana2)**(1/2)\n",
    "    \n",
    "    return rel_err"
   ]
  },
  {
   "cell_type": "markdown",
   "metadata": {
    "heading_collapsed": true
   },
   "source": [
    "# Gradients"
   ]
  },
  {
   "cell_type": "markdown",
   "metadata": {
    "hidden": true
   },
   "source": [
    "$$\\frac{\\partial}{\\partial w_j} \\frac{\\partial^2 \\Psi_t}{\\partial x_k^2} = y_k(1-y_k)\\left[ -2\\frac{\\partial N}{\\partial w_j} + (2-4x_k) \\frac{\\partial}{\\partial w_j} \\frac{\\partial N}{\\partial x_k} + x_k(1-x_k) \\frac{\\partial}{\\partial w_j} \\frac{\\partial^2 N}{\\partial x_k^2} \\right]$$"
   ]
  },
  {
   "cell_type": "code",
   "execution_count": 21,
   "metadata": {
    "hidden": true
   },
   "outputs": [],
   "source": [
    "def d_dwj_dPsi2_dxk2(x, y, p, j, k):\n",
    "    xj = x if k==0 else y\n",
    "    yj = y if k==0 else x\n",
    "    return yj*(1-yj)*(-2*dN_dwj(x,y,p,j) + (2-4*xj)*d_dwj_dN_dxk(x,y,p,j,k) + xj*(1-xj)*d_dwj_dN2_dxk2(x,y,p,j,k))"
   ]
  },
  {
   "cell_type": "markdown",
   "metadata": {
    "hidden": true
   },
   "source": [
    "$$\\frac{\\partial}{\\partial u} \\frac{\\partial^2 \\Psi_t}{\\partial x_k^2} = y_k(1-y_k)\\left[ -2\\frac{\\partial N}{\\partial u} + (2-4x_k) \\frac{\\partial}{\\partial u} \\frac{\\partial N}{\\partial x_k} + x_k(1-x_k) \\frac{\\partial}{\\partial u} \\frac{\\partial^2 N}{\\partial x_k^2} \\right]$$"
   ]
  },
  {
   "cell_type": "code",
   "execution_count": 22,
   "metadata": {
    "hidden": true
   },
   "outputs": [],
   "source": [
    "def d_du_dPsi2_dxk2(x, y, p, k):\n",
    "    xj = x if k==0 else y\n",
    "    yj = y if k==0 else x\n",
    "    return yj*(1-yj)*(-2*d_du_dkN(x,y,p,k,0) + (2-4*xj)*d_du_dkN(x,y,p,k,1) + xj*(1-xj)*d_du_dkN(x,y,p,k,2))"
   ]
  },
  {
   "cell_type": "markdown",
   "metadata": {
    "hidden": true
   },
   "source": [
    "$$\\frac{\\partial}{\\partial v} \\frac{\\partial^2 \\Psi_t}{\\partial x_k^2} = y_k(1-y_k)\\left[ -2\\frac{\\partial N}{\\partial v} + (2-4x_k) \\frac{\\partial}{\\partial v} \\frac{\\partial N}{\\partial x_k} + x_k(1-x_k) \\frac{\\partial}{\\partial v} \\frac{\\partial^2 N}{\\partial x_k^2} \\right]$$"
   ]
  },
  {
   "cell_type": "code",
   "execution_count": 23,
   "metadata": {
    "hidden": true
   },
   "outputs": [],
   "source": [
    "def d_dv_dPsi2_dxk2(x, y, p, k):\n",
    "    xj = x if k==0 else y\n",
    "    yj = y if k==0 else x\n",
    "    return yj*(1-yj)*(-2*d_dv_dkN(x,y,p,k,0) + (2-4*xj)*d_dv_dkN(x,y,p,k,1) + xj*(1-xj)*d_dv_dkN(x,y,p,k,2))"
   ]
  },
  {
   "cell_type": "markdown",
   "metadata": {
    "hidden": true
   },
   "source": [
    "$$ \\frac{\\partial E[\\vec{p}]}{\\partial w_j} = \\sum_{i \\in \\hat{D}} \\left\\{ 2 \\text{ (error) } \\left( \\frac{\\partial}{\\partial w_j} \\frac{\\partial^2 \\Psi_t}{\\partial x^2} + \\frac{\\partial}{\\partial w_j} \\frac{\\partial^2 \\Psi_t}{\\partial y^2} \\right) \\right\\}$$"
   ]
  },
  {
   "cell_type": "code",
   "execution_count": 24,
   "metadata": {
    "code_folding": [],
    "hidden": true
   },
   "outputs": [],
   "source": [
    "def dE_dwj(points, p, j):\n",
    "    t1 = []\n",
    "    for x, y in points:\n",
    "        tmp = 2 * error(x,y,p) * (d_dwj_dPsi2_dxk2(x,y,p,j,0) + \n",
    "                                  d_dwj_dPsi2_dxk2(x,y,p,j,1))\n",
    "        t1.append(tmp)\n",
    "    \n",
    "    grad = sum(t1)\n",
    "    \n",
    "    return grad"
   ]
  },
  {
   "cell_type": "markdown",
   "metadata": {
    "hidden": true
   },
   "source": [
    "$$ \\frac{\\partial E[\\vec{p}]}{\\partial u} = \\sum_{i \\in \\hat{D}} \\left\\{ 2 \\text{ (error) } \\left( \\frac{\\partial}{\\partial u} \\frac{\\partial^2 \\Psi_t}{\\partial x^2} + \\frac{\\partial}{\\partial u} \\frac{\\partial^2 \\Psi_t}{\\partial y^2} \\right) \\right\\}$$"
   ]
  },
  {
   "cell_type": "code",
   "execution_count": 25,
   "metadata": {
    "code_folding": [],
    "hidden": true
   },
   "outputs": [],
   "source": [
    "def dE_du(points, p):\n",
    "    t1 = []\n",
    "    for x, y in points:\n",
    "        tmp = 2 * error(x,y,p) * (d_du_dPsi2_dxk2(x,y,p,0) + \n",
    "                                  d_du_dPsi2_dxk2(x,y,p,1))\n",
    "        t1.append(tmp)\n",
    "    \n",
    "    grad = sum(t1)\n",
    "    \n",
    "    return grad"
   ]
  },
  {
   "cell_type": "markdown",
   "metadata": {
    "hidden": true
   },
   "source": [
    "$$ \\frac{\\partial E[\\vec{p}]}{\\partial v} = \\sum_{i \\in \\hat{D}} \\left\\{ 2 \\text{ (error) } \\left( \\frac{\\partial}{\\partial v} \\frac{\\partial^2 \\Psi_t}{\\partial x^2} + \\frac{\\partial}{\\partial v} \\frac{\\partial^2 \\Psi_t}{\\partial y^2} \\right) \\right\\}$$"
   ]
  },
  {
   "cell_type": "code",
   "execution_count": 26,
   "metadata": {
    "code_folding": [],
    "hidden": true
   },
   "outputs": [],
   "source": [
    "def dE_dv(points, p):\n",
    "    t1 = []\n",
    "    for x, y in points:\n",
    "        tmp = 2 * error(x,y,p) * (d_dv_dPsi2_dxk2(x,y,p,0) + \n",
    "                                  d_dv_dPsi2_dxk2(x,y,p,1))\n",
    "        t1.append(tmp)\n",
    "    \n",
    "    grad = sum(t1)\n",
    "    \n",
    "    return grad"
   ]
  },
  {
   "cell_type": "markdown",
   "metadata": {
    "heading_collapsed": true
   },
   "source": [
    "# NN class"
   ]
  },
  {
   "cell_type": "code",
   "execution_count": 27,
   "metadata": {
    "hidden": true
   },
   "outputs": [],
   "source": [
    "def initialize_p(hidden_nodes):\n",
    "    w1 = np.random.randn(hidden_nodes)\n",
    "    v = np.random.randn(hidden_nodes)\n",
    "    w0 = []\n",
    "    u = []\n",
    "\n",
    "    for w1_sample in w1:\n",
    "        x = []\n",
    "        y = []\n",
    "        for side in np.random.choice(4, 2, replace=False):\n",
    "            if side == 0:\n",
    "                x.append(0)\n",
    "                y.append(np.random.uniform(0.1,0.9,1)[0])\n",
    "            elif side == 1:\n",
    "                x.append(np.random.uniform(0.1,0.9,1)[0])\n",
    "                y.append(1)\n",
    "            elif side == 2:\n",
    "                x.append(1)\n",
    "                y.append(np.random.uniform(0.1,0.9,1)[0])\n",
    "            elif side == 3:\n",
    "                x.append(np.random.uniform(0.1,0.9,1)[0])\n",
    "                y.append(0)\n",
    "\n",
    "        slope = (y[1] - y[0]) / (x[1] - x[0])\n",
    "        w0.append(-slope * w1_sample)\n",
    "        u.append((slope*x[0] - y[0]) * w1_sample)\n",
    "\n",
    "    p = np.array([np.array([np.array(w0), np.array(w1)]), \n",
    "                  np.array(u), np.array(v)])\n",
    "    \n",
    "    return p"
   ]
  },
  {
   "cell_type": "code",
   "execution_count": 28,
   "metadata": {
    "hidden": true
   },
   "outputs": [],
   "source": [
    "def get_mini_batches(points, batch_size):\n",
    "    np.random.shuffle(points)\n",
    "    \n",
    "    no_of_splits = np.ceil(len(points) / batch_size)\n",
    "\n",
    "    mini_batch_points = np.array_split(points, no_of_splits)\n",
    "    \n",
    "    return mini_batch_points"
   ]
  },
  {
   "cell_type": "code",
   "execution_count": 29,
   "metadata": {
    "code_folding": [
     57,
     63
    ],
    "hidden": true
   },
   "outputs": [],
   "source": [
    "class NNTrain:\n",
    "    def __init__(self, nx=10, hidden_nodes=10, alpha=0.01, batch_size=50,\n",
    "                 beta=0.9, update_interval=50, if_rel_err=False,\n",
    "                 output_file='output/output.csv'):\n",
    "\n",
    "        self.output_file = output_file\n",
    "        self.training_started = False\n",
    "        self.nx = nx\n",
    "        self.hidden_nodes = hidden_nodes\n",
    "        self.alpha = alpha\n",
    "        self.batch_size = batch_size\n",
    "        self.beta = beta\n",
    "        self.update_interval = update_interval\n",
    "        self.points = list(itertools.product(\n",
    "            np.linspace(0, 1, nx), np.linspace(0, 1, nx)))\n",
    "        self.cost_rate = []\n",
    "        self.if_rel_err = if_rel_err\n",
    "        if self.if_rel_err:\n",
    "            self.rel_err = []\n",
    "        self.p = initialize_p(hidden_nodes)\n",
    "        self.m_t = np.array([np.zeros(hidden_nodes),\n",
    "                             np.zeros(hidden_nodes),\n",
    "                             np.zeros(hidden_nodes),\n",
    "                             np.zeros(hidden_nodes)])\n",
    "\n",
    "        \n",
    "    def sgd_mt(self, w, g_t, theta_0):\n",
    "        # gradient descent with momentum\n",
    "        self.m_t[w] = self.beta * self.m_t[w] + (1-self.beta) * g_t\n",
    "        theta_0 = theta_0 - (self.alpha*self.m_t[w])\n",
    "\n",
    "        return theta_0\n",
    "\n",
    "    \n",
    "    def train(self, itr=1000):\n",
    "        if self.training_started:\n",
    "            mode = 'a'\n",
    "        else:\n",
    "            mode = 'w'\n",
    "        self.training_started = True\n",
    "\n",
    "        with open(self.output_file, mode) as file:\n",
    "            if mode == 'w':\n",
    "                if self.if_rel_err:\n",
    "                    file.write(\n",
    "                        'Iteration,Cost,Cost Diff,Relative Error,Relative Error Diff\\n')\n",
    "                else:\n",
    "                    file.write('Iteration,Cost,Cost Diff\\n')\n",
    "            start = len(self.cost_rate)-1\n",
    "            if start < 1:\n",
    "                start += 1\n",
    "                self.cost_rate.append(cost(self.points, self.p))\n",
    "                if self.if_rel_err:\n",
    "                    self.rel_err.append(relative_err(\n",
    "                        self.p, all_points=self.points))\n",
    "\n",
    "            i = start\n",
    "            while i < start+itr:\n",
    "                mini_batch_points = get_mini_batches(\n",
    "                    self.points, self.batch_size)\n",
    "\n",
    "                for mini_point in mini_batch_points:\n",
    "                    mini_point = list(mini_point)\n",
    "\n",
    "                    g_w0 = dE_dwj(mini_point, self.p, 0)\n",
    "                    g_w1 = dE_dwj(mini_point, self.p, 1)\n",
    "                    g_u = dE_du(mini_point, self.p)\n",
    "                    g_v = dE_dv(mini_point, self.p)\n",
    "\n",
    "                    self.p[0][0] = self.sgd_mt(0, g_w0, self.p[0][0])\n",
    "                    self.p[0][1] = self.sgd_mt(1, g_w1, self.p[0][1])\n",
    "                    self.p[1] = self.sgd_mt(2, g_u, self.p[1])\n",
    "                    self.p[2] = self.sgd_mt(3, g_v, self.p[2])\n",
    "\n",
    "                self.cost_rate.append(cost(self.points, self.p))\n",
    "                cost_diff = self.cost_rate[i]-self.cost_rate[i+1]\n",
    "                if self.if_rel_err:\n",
    "                    self.rel_err.append(relative_err(\n",
    "                        self.p, all_points=self.points))\n",
    "                    rel_diff = self.rel_err[i]-self.rel_err[i+1]\n",
    "\n",
    "                if self.if_rel_err:\n",
    "                    file.write('{},{:.8f},{:.8f},{:.8f},{:.8f}\\n'.format(\n",
    "                        i+1, self.cost_rate[i+1], cost_diff,\n",
    "                        self.rel_err[i+1], rel_diff))\n",
    "                else:\n",
    "                    file.write('{},{:.8f},{:.8f}\\n'.format(\n",
    "                        i+1, self.cost_rate[i+1], cost_diff))\n",
    "\n",
    "                if i % self.update_interval == 0:\n",
    "                    file.flush()\n",
    "\n",
    "                i += 1\n",
    "\n",
    "                \n",
    "    def save_result(self, output_name=''):\n",
    "        timestr = time.strftime(\"%Y%m%d-%H%M\")\n",
    "        np.savez('output/' + timestr + '_' +\n",
    "                 output_name + '_nn_params.npz', self.p)\n",
    "        np.savez('output/' + timestr + '_' + output_name +\n",
    "                 '_cost_rate.npz', self.cost_rate)\n",
    "        if self.if_rel_err:\n",
    "            np.savez('output/' + timestr + '_' +\n",
    "                     output_name + '_rel_err.npz', self.rel_err)"
   ]
  },
  {
   "cell_type": "code",
   "execution_count": null,
   "metadata": {
    "hidden": true
   },
   "outputs": [],
   "source": []
  },
  {
   "cell_type": "markdown",
   "metadata": {
    "heading_collapsed": true
   },
   "source": [
    "# Graphs"
   ]
  },
  {
   "cell_type": "code",
   "execution_count": 30,
   "metadata": {
    "hidden": true
   },
   "outputs": [],
   "source": [
    "%matplotlib notebook\n",
    "%matplotlib notebook"
   ]
  },
  {
   "cell_type": "markdown",
   "metadata": {
    "heading_collapsed": true,
    "hidden": true
   },
   "source": [
    "## Hidden Nodes"
   ]
  },
  {
   "cell_type": "code",
   "execution_count": 31,
   "metadata": {
    "hidden": true
   },
   "outputs": [],
   "source": [
    "def plot_nodes(a, save_name=None, save=True, zlim=True):\n",
    "    p = a.p\n",
    "    hmax = a.p[0][0].shape[0]\n",
    "    col = int(np.sqrt(hmax)) if int(np.sqrt(hmax)) < 10 else 10\n",
    "    row = np.ceil(hmax / col)\n",
    "    \n",
    "    d_x=0.1\n",
    "\n",
    "    fig = plt.figure(figsize=(col*3, row*3), dpi=100)\n",
    "    for h in range(1,hmax+1):\n",
    "        ax = fig.add_subplot(row,col,h, projection='3d')\n",
    "        x = y = np.arange(0, 1+d_x, d_x)\n",
    "        X, Y = np.meshgrid(x, y)\n",
    "\n",
    "        zs = np.array([p[1][h-1]*sig(z(x,y,p))[h-1] for x,y in zip(np.ravel(X), np.ravel(Y))])\n",
    "        Z = zs.reshape(X.shape)\n",
    "\n",
    "        ax.set_xlabel('x')\n",
    "        ax.set_ylabel('y')\n",
    "        if zlim:\n",
    "            ax.set_zlim(0,1)\n",
    "\n",
    "        ax.plot_surface(X, Y, Z, cmap=cm.coolwarm)\n",
    "        ax.title.set_text('HN: ' + str(h) + ', v=' + \"{:.4E}\".format(p[1][h-1]))\n",
    "        time.sleep(0.2)\n",
    "\n",
    "    if save==True:\n",
    "        if save_name is None: \n",
    "            plt.savefig('t'+str(T)+'_h'+str(hmax)+'_n'+str(a.nx)+'.png')\n",
    "        else:\n",
    "            plt.savefig(save_name)\n",
    "    else:\n",
    "        plt.show()"
   ]
  },
  {
   "cell_type": "markdown",
   "metadata": {
    "heading_collapsed": true,
    "hidden": true
   },
   "source": [
    "## Error vs Iterations"
   ]
  },
  {
   "cell_type": "code",
   "execution_count": 32,
   "metadata": {
    "hidden": true
   },
   "outputs": [],
   "source": [
    "def plot_iteration(arr, min_it=0, max_it=None):\n",
    "    plt.figure()\n",
    "    plt.plot(np.arange(len(arr[min_it:max_it])), np.array(arr[min_it:max_it]))\n",
    "    plt.show()"
   ]
  },
  {
   "cell_type": "markdown",
   "metadata": {
    "heading_collapsed": true,
    "hidden": true
   },
   "source": [
    "## Solution Accuracy on the domain"
   ]
  },
  {
   "cell_type": "code",
   "execution_count": 33,
   "metadata": {
    "hidden": true
   },
   "outputs": [],
   "source": [
    "def plot_fun(fun, zlim=False, title=None, return_ax=False, **kwargs):\n",
    "    d_x=0.01\n",
    "    fig = plt.figure()\n",
    "    ax = fig.add_subplot(111, projection='3d')\n",
    "    x = y = np.arange(0, 1.0+d_x, d_x)\n",
    "    X, Y = np.meshgrid(x, y)\n",
    "\n",
    "    zs = np.array([fun(x,y,**kwargs) for x,y in zip(np.ravel(X), np.ravel(Y))])\n",
    "    Z = zs.reshape(X.shape)\n",
    "\n",
    "    ax.plot_surface(X, Y, Z, cmap=cm.coolwarm_r)\n",
    "    # ax.ticklabel_format(style='sci', axis='z', scilimits=(0,0), useOffset=True, useMathText=True)\n",
    "\n",
    "\n",
    "    ax.set_xlabel('x')\n",
    "    ax.set_ylabel('y')\n",
    "    ax.title.set_text(title)\n",
    "    \n",
    "    if zlim:\n",
    "        ax.set_zlim(0,1)\n",
    "\n",
    "    if return_ax:\n",
    "        return ax\n",
    "    else:\n",
    "        plt.show()"
   ]
  },
  {
   "cell_type": "code",
   "execution_count": 34,
   "metadata": {
    "hidden": true
   },
   "outputs": [],
   "source": [
    "def plot_partitions(p):\n",
    "    plt.plot([0,0,1,1,0], [0,1,1,0,0], linewidth=3)\n",
    "\n",
    "    for HN in range(len(p[1])):\n",
    "        x = np.linspace(-1,2,500)\n",
    "        y = -(p[1][HN] + p[0][0][HN]*x) / p[0][1][HN]\n",
    "\n",
    "        plt.plot(x, y, label=HN)\n",
    "\n",
    "    plt.xlim(-1,2)\n",
    "    plt.ylim(-1,2)"
   ]
  },
  {
   "cell_type": "markdown",
   "metadata": {},
   "source": [
    "# Training"
   ]
  },
  {
   "cell_type": "code",
   "execution_count": 39,
   "metadata": {},
   "outputs": [],
   "source": [
    "K=10\n",
    "a = NNTrain(nx=60, hidden_nodes=10, alpha=1e-4, batch_size=50, update_interval=10, if_rel_err=True, output_file='out/out1.csv')"
   ]
  },
  {
   "cell_type": "code",
   "execution_count": null,
   "metadata": {},
   "outputs": [],
   "source": [
    "p=[]\n",
    "p.append(copy.deepcopy(a.p))\n",
    "a.train(100)"
   ]
  },
  {
   "cell_type": "code",
   "execution_count": null,
   "metadata": {
    "scrolled": true
   },
   "outputs": [],
   "source": [
    "thresh=1e-5\n",
    "\n",
    "for i in range(10000):\n",
    "    p.append(copy.deepcopy(a.p))\n",
    "    if np.mean([np.abs(s-t) for s, t in zip(a.cost_rate[-21:], a.cost_rate[-20:])]) < thresh:\n",
    "        break\n",
    "    a.train(100)"
   ]
  },
  {
   "cell_type": "markdown",
   "metadata": {},
   "source": [
    "Etc"
   ]
  },
  {
   "cell_type": "code",
   "execution_count": 43,
   "metadata": {},
   "outputs": [
    {
     "name": "stdout",
     "output_type": "stream",
     "text": [
      "relative error: 0.0006688091971706695\n"
     ]
    }
   ],
   "source": [
    "print('relative error:', relative_err(a.p, nx=100))"
   ]
  },
  {
   "cell_type": "code",
   "execution_count": 44,
   "metadata": {},
   "outputs": [
    {
     "data": {
      "application/javascript": [
       "/* Put everything inside the global mpl namespace */\n",
       "window.mpl = {};\n",
       "\n",
       "\n",
       "mpl.get_websocket_type = function() {\n",
       "    if (typeof(WebSocket) !== 'undefined') {\n",
       "        return WebSocket;\n",
       "    } else if (typeof(MozWebSocket) !== 'undefined') {\n",
       "        return MozWebSocket;\n",
       "    } else {\n",
       "        alert('Your browser does not have WebSocket support.' +\n",
       "              'Please try Chrome, Safari or Firefox ≥ 6. ' +\n",
       "              'Firefox 4 and 5 are also supported but you ' +\n",
       "              'have to enable WebSockets in about:config.');\n",
       "    };\n",
       "}\n",
       "\n",
       "mpl.figure = function(figure_id, websocket, ondownload, parent_element) {\n",
       "    this.id = figure_id;\n",
       "\n",
       "    this.ws = websocket;\n",
       "\n",
       "    this.supports_binary = (this.ws.binaryType != undefined);\n",
       "\n",
       "    if (!this.supports_binary) {\n",
       "        var warnings = document.getElementById(\"mpl-warnings\");\n",
       "        if (warnings) {\n",
       "            warnings.style.display = 'block';\n",
       "            warnings.textContent = (\n",
       "                \"This browser does not support binary websocket messages. \" +\n",
       "                    \"Performance may be slow.\");\n",
       "        }\n",
       "    }\n",
       "\n",
       "    this.imageObj = new Image();\n",
       "\n",
       "    this.context = undefined;\n",
       "    this.message = undefined;\n",
       "    this.canvas = undefined;\n",
       "    this.rubberband_canvas = undefined;\n",
       "    this.rubberband_context = undefined;\n",
       "    this.format_dropdown = undefined;\n",
       "\n",
       "    this.image_mode = 'full';\n",
       "\n",
       "    this.root = $('<div/>');\n",
       "    this._root_extra_style(this.root)\n",
       "    this.root.attr('style', 'display: inline-block');\n",
       "\n",
       "    $(parent_element).append(this.root);\n",
       "\n",
       "    this._init_header(this);\n",
       "    this._init_canvas(this);\n",
       "    this._init_toolbar(this);\n",
       "\n",
       "    var fig = this;\n",
       "\n",
       "    this.waiting = false;\n",
       "\n",
       "    this.ws.onopen =  function () {\n",
       "            fig.send_message(\"supports_binary\", {value: fig.supports_binary});\n",
       "            fig.send_message(\"send_image_mode\", {});\n",
       "            if (mpl.ratio != 1) {\n",
       "                fig.send_message(\"set_dpi_ratio\", {'dpi_ratio': mpl.ratio});\n",
       "            }\n",
       "            fig.send_message(\"refresh\", {});\n",
       "        }\n",
       "\n",
       "    this.imageObj.onload = function() {\n",
       "            if (fig.image_mode == 'full') {\n",
       "                // Full images could contain transparency (where diff images\n",
       "                // almost always do), so we need to clear the canvas so that\n",
       "                // there is no ghosting.\n",
       "                fig.context.clearRect(0, 0, fig.canvas.width, fig.canvas.height);\n",
       "            }\n",
       "            fig.context.drawImage(fig.imageObj, 0, 0);\n",
       "        };\n",
       "\n",
       "    this.imageObj.onunload = function() {\n",
       "        fig.ws.close();\n",
       "    }\n",
       "\n",
       "    this.ws.onmessage = this._make_on_message_function(this);\n",
       "\n",
       "    this.ondownload = ondownload;\n",
       "}\n",
       "\n",
       "mpl.figure.prototype._init_header = function() {\n",
       "    var titlebar = $(\n",
       "        '<div class=\"ui-dialog-titlebar ui-widget-header ui-corner-all ' +\n",
       "        'ui-helper-clearfix\"/>');\n",
       "    var titletext = $(\n",
       "        '<div class=\"ui-dialog-title\" style=\"width: 100%; ' +\n",
       "        'text-align: center; padding: 3px;\"/>');\n",
       "    titlebar.append(titletext)\n",
       "    this.root.append(titlebar);\n",
       "    this.header = titletext[0];\n",
       "}\n",
       "\n",
       "\n",
       "\n",
       "mpl.figure.prototype._canvas_extra_style = function(canvas_div) {\n",
       "\n",
       "}\n",
       "\n",
       "\n",
       "mpl.figure.prototype._root_extra_style = function(canvas_div) {\n",
       "\n",
       "}\n",
       "\n",
       "mpl.figure.prototype._init_canvas = function() {\n",
       "    var fig = this;\n",
       "\n",
       "    var canvas_div = $('<div/>');\n",
       "\n",
       "    canvas_div.attr('style', 'position: relative; clear: both; outline: 0');\n",
       "\n",
       "    function canvas_keyboard_event(event) {\n",
       "        return fig.key_event(event, event['data']);\n",
       "    }\n",
       "\n",
       "    canvas_div.keydown('key_press', canvas_keyboard_event);\n",
       "    canvas_div.keyup('key_release', canvas_keyboard_event);\n",
       "    this.canvas_div = canvas_div\n",
       "    this._canvas_extra_style(canvas_div)\n",
       "    this.root.append(canvas_div);\n",
       "\n",
       "    var canvas = $('<canvas/>');\n",
       "    canvas.addClass('mpl-canvas');\n",
       "    canvas.attr('style', \"left: 0; top: 0; z-index: 0; outline: 0\")\n",
       "\n",
       "    this.canvas = canvas[0];\n",
       "    this.context = canvas[0].getContext(\"2d\");\n",
       "\n",
       "    var backingStore = this.context.backingStorePixelRatio ||\n",
       "\tthis.context.webkitBackingStorePixelRatio ||\n",
       "\tthis.context.mozBackingStorePixelRatio ||\n",
       "\tthis.context.msBackingStorePixelRatio ||\n",
       "\tthis.context.oBackingStorePixelRatio ||\n",
       "\tthis.context.backingStorePixelRatio || 1;\n",
       "\n",
       "    mpl.ratio = (window.devicePixelRatio || 1) / backingStore;\n",
       "\n",
       "    var rubberband = $('<canvas/>');\n",
       "    rubberband.attr('style', \"position: absolute; left: 0; top: 0; z-index: 1;\")\n",
       "\n",
       "    var pass_mouse_events = true;\n",
       "\n",
       "    canvas_div.resizable({\n",
       "        start: function(event, ui) {\n",
       "            pass_mouse_events = false;\n",
       "        },\n",
       "        resize: function(event, ui) {\n",
       "            fig.request_resize(ui.size.width, ui.size.height);\n",
       "        },\n",
       "        stop: function(event, ui) {\n",
       "            pass_mouse_events = true;\n",
       "            fig.request_resize(ui.size.width, ui.size.height);\n",
       "        },\n",
       "    });\n",
       "\n",
       "    function mouse_event_fn(event) {\n",
       "        if (pass_mouse_events)\n",
       "            return fig.mouse_event(event, event['data']);\n",
       "    }\n",
       "\n",
       "    rubberband.mousedown('button_press', mouse_event_fn);\n",
       "    rubberband.mouseup('button_release', mouse_event_fn);\n",
       "    // Throttle sequential mouse events to 1 every 20ms.\n",
       "    rubberband.mousemove('motion_notify', mouse_event_fn);\n",
       "\n",
       "    rubberband.mouseenter('figure_enter', mouse_event_fn);\n",
       "    rubberband.mouseleave('figure_leave', mouse_event_fn);\n",
       "\n",
       "    canvas_div.on(\"wheel\", function (event) {\n",
       "        event = event.originalEvent;\n",
       "        event['data'] = 'scroll'\n",
       "        if (event.deltaY < 0) {\n",
       "            event.step = 1;\n",
       "        } else {\n",
       "            event.step = -1;\n",
       "        }\n",
       "        mouse_event_fn(event);\n",
       "    });\n",
       "\n",
       "    canvas_div.append(canvas);\n",
       "    canvas_div.append(rubberband);\n",
       "\n",
       "    this.rubberband = rubberband;\n",
       "    this.rubberband_canvas = rubberband[0];\n",
       "    this.rubberband_context = rubberband[0].getContext(\"2d\");\n",
       "    this.rubberband_context.strokeStyle = \"#000000\";\n",
       "\n",
       "    this._resize_canvas = function(width, height) {\n",
       "        // Keep the size of the canvas, canvas container, and rubber band\n",
       "        // canvas in synch.\n",
       "        canvas_div.css('width', width)\n",
       "        canvas_div.css('height', height)\n",
       "\n",
       "        canvas.attr('width', width * mpl.ratio);\n",
       "        canvas.attr('height', height * mpl.ratio);\n",
       "        canvas.attr('style', 'width: ' + width + 'px; height: ' + height + 'px;');\n",
       "\n",
       "        rubberband.attr('width', width);\n",
       "        rubberband.attr('height', height);\n",
       "    }\n",
       "\n",
       "    // Set the figure to an initial 600x600px, this will subsequently be updated\n",
       "    // upon first draw.\n",
       "    this._resize_canvas(600, 600);\n",
       "\n",
       "    // Disable right mouse context menu.\n",
       "    $(this.rubberband_canvas).bind(\"contextmenu\",function(e){\n",
       "        return false;\n",
       "    });\n",
       "\n",
       "    function set_focus () {\n",
       "        canvas.focus();\n",
       "        canvas_div.focus();\n",
       "    }\n",
       "\n",
       "    window.setTimeout(set_focus, 100);\n",
       "}\n",
       "\n",
       "mpl.figure.prototype._init_toolbar = function() {\n",
       "    var fig = this;\n",
       "\n",
       "    var nav_element = $('<div/>')\n",
       "    nav_element.attr('style', 'width: 100%');\n",
       "    this.root.append(nav_element);\n",
       "\n",
       "    // Define a callback function for later on.\n",
       "    function toolbar_event(event) {\n",
       "        return fig.toolbar_button_onclick(event['data']);\n",
       "    }\n",
       "    function toolbar_mouse_event(event) {\n",
       "        return fig.toolbar_button_onmouseover(event['data']);\n",
       "    }\n",
       "\n",
       "    for(var toolbar_ind in mpl.toolbar_items) {\n",
       "        var name = mpl.toolbar_items[toolbar_ind][0];\n",
       "        var tooltip = mpl.toolbar_items[toolbar_ind][1];\n",
       "        var image = mpl.toolbar_items[toolbar_ind][2];\n",
       "        var method_name = mpl.toolbar_items[toolbar_ind][3];\n",
       "\n",
       "        if (!name) {\n",
       "            // put a spacer in here.\n",
       "            continue;\n",
       "        }\n",
       "        var button = $('<button/>');\n",
       "        button.addClass('ui-button ui-widget ui-state-default ui-corner-all ' +\n",
       "                        'ui-button-icon-only');\n",
       "        button.attr('role', 'button');\n",
       "        button.attr('aria-disabled', 'false');\n",
       "        button.click(method_name, toolbar_event);\n",
       "        button.mouseover(tooltip, toolbar_mouse_event);\n",
       "\n",
       "        var icon_img = $('<span/>');\n",
       "        icon_img.addClass('ui-button-icon-primary ui-icon');\n",
       "        icon_img.addClass(image);\n",
       "        icon_img.addClass('ui-corner-all');\n",
       "\n",
       "        var tooltip_span = $('<span/>');\n",
       "        tooltip_span.addClass('ui-button-text');\n",
       "        tooltip_span.html(tooltip);\n",
       "\n",
       "        button.append(icon_img);\n",
       "        button.append(tooltip_span);\n",
       "\n",
       "        nav_element.append(button);\n",
       "    }\n",
       "\n",
       "    var fmt_picker_span = $('<span/>');\n",
       "\n",
       "    var fmt_picker = $('<select/>');\n",
       "    fmt_picker.addClass('mpl-toolbar-option ui-widget ui-widget-content');\n",
       "    fmt_picker_span.append(fmt_picker);\n",
       "    nav_element.append(fmt_picker_span);\n",
       "    this.format_dropdown = fmt_picker[0];\n",
       "\n",
       "    for (var ind in mpl.extensions) {\n",
       "        var fmt = mpl.extensions[ind];\n",
       "        var option = $(\n",
       "            '<option/>', {selected: fmt === mpl.default_extension}).html(fmt);\n",
       "        fmt_picker.append(option)\n",
       "    }\n",
       "\n",
       "    // Add hover states to the ui-buttons\n",
       "    $( \".ui-button\" ).hover(\n",
       "        function() { $(this).addClass(\"ui-state-hover\");},\n",
       "        function() { $(this).removeClass(\"ui-state-hover\");}\n",
       "    );\n",
       "\n",
       "    var status_bar = $('<span class=\"mpl-message\"/>');\n",
       "    nav_element.append(status_bar);\n",
       "    this.message = status_bar[0];\n",
       "}\n",
       "\n",
       "mpl.figure.prototype.request_resize = function(x_pixels, y_pixels) {\n",
       "    // Request matplotlib to resize the figure. Matplotlib will then trigger a resize in the client,\n",
       "    // which will in turn request a refresh of the image.\n",
       "    this.send_message('resize', {'width': x_pixels, 'height': y_pixels});\n",
       "}\n",
       "\n",
       "mpl.figure.prototype.send_message = function(type, properties) {\n",
       "    properties['type'] = type;\n",
       "    properties['figure_id'] = this.id;\n",
       "    this.ws.send(JSON.stringify(properties));\n",
       "}\n",
       "\n",
       "mpl.figure.prototype.send_draw_message = function() {\n",
       "    if (!this.waiting) {\n",
       "        this.waiting = true;\n",
       "        this.ws.send(JSON.stringify({type: \"draw\", figure_id: this.id}));\n",
       "    }\n",
       "}\n",
       "\n",
       "\n",
       "mpl.figure.prototype.handle_save = function(fig, msg) {\n",
       "    var format_dropdown = fig.format_dropdown;\n",
       "    var format = format_dropdown.options[format_dropdown.selectedIndex].value;\n",
       "    fig.ondownload(fig, format);\n",
       "}\n",
       "\n",
       "\n",
       "mpl.figure.prototype.handle_resize = function(fig, msg) {\n",
       "    var size = msg['size'];\n",
       "    if (size[0] != fig.canvas.width || size[1] != fig.canvas.height) {\n",
       "        fig._resize_canvas(size[0], size[1]);\n",
       "        fig.send_message(\"refresh\", {});\n",
       "    };\n",
       "}\n",
       "\n",
       "mpl.figure.prototype.handle_rubberband = function(fig, msg) {\n",
       "    var x0 = msg['x0'] / mpl.ratio;\n",
       "    var y0 = (fig.canvas.height - msg['y0']) / mpl.ratio;\n",
       "    var x1 = msg['x1'] / mpl.ratio;\n",
       "    var y1 = (fig.canvas.height - msg['y1']) / mpl.ratio;\n",
       "    x0 = Math.floor(x0) + 0.5;\n",
       "    y0 = Math.floor(y0) + 0.5;\n",
       "    x1 = Math.floor(x1) + 0.5;\n",
       "    y1 = Math.floor(y1) + 0.5;\n",
       "    var min_x = Math.min(x0, x1);\n",
       "    var min_y = Math.min(y0, y1);\n",
       "    var width = Math.abs(x1 - x0);\n",
       "    var height = Math.abs(y1 - y0);\n",
       "\n",
       "    fig.rubberband_context.clearRect(\n",
       "        0, 0, fig.canvas.width, fig.canvas.height);\n",
       "\n",
       "    fig.rubberband_context.strokeRect(min_x, min_y, width, height);\n",
       "}\n",
       "\n",
       "mpl.figure.prototype.handle_figure_label = function(fig, msg) {\n",
       "    // Updates the figure title.\n",
       "    fig.header.textContent = msg['label'];\n",
       "}\n",
       "\n",
       "mpl.figure.prototype.handle_cursor = function(fig, msg) {\n",
       "    var cursor = msg['cursor'];\n",
       "    switch(cursor)\n",
       "    {\n",
       "    case 0:\n",
       "        cursor = 'pointer';\n",
       "        break;\n",
       "    case 1:\n",
       "        cursor = 'default';\n",
       "        break;\n",
       "    case 2:\n",
       "        cursor = 'crosshair';\n",
       "        break;\n",
       "    case 3:\n",
       "        cursor = 'move';\n",
       "        break;\n",
       "    }\n",
       "    fig.rubberband_canvas.style.cursor = cursor;\n",
       "}\n",
       "\n",
       "mpl.figure.prototype.handle_message = function(fig, msg) {\n",
       "    fig.message.textContent = msg['message'];\n",
       "}\n",
       "\n",
       "mpl.figure.prototype.handle_draw = function(fig, msg) {\n",
       "    // Request the server to send over a new figure.\n",
       "    fig.send_draw_message();\n",
       "}\n",
       "\n",
       "mpl.figure.prototype.handle_image_mode = function(fig, msg) {\n",
       "    fig.image_mode = msg['mode'];\n",
       "}\n",
       "\n",
       "mpl.figure.prototype.updated_canvas_event = function() {\n",
       "    // Called whenever the canvas gets updated.\n",
       "    this.send_message(\"ack\", {});\n",
       "}\n",
       "\n",
       "// A function to construct a web socket function for onmessage handling.\n",
       "// Called in the figure constructor.\n",
       "mpl.figure.prototype._make_on_message_function = function(fig) {\n",
       "    return function socket_on_message(evt) {\n",
       "        if (evt.data instanceof Blob) {\n",
       "            /* FIXME: We get \"Resource interpreted as Image but\n",
       "             * transferred with MIME type text/plain:\" errors on\n",
       "             * Chrome.  But how to set the MIME type?  It doesn't seem\n",
       "             * to be part of the websocket stream */\n",
       "            evt.data.type = \"image/png\";\n",
       "\n",
       "            /* Free the memory for the previous frames */\n",
       "            if (fig.imageObj.src) {\n",
       "                (window.URL || window.webkitURL).revokeObjectURL(\n",
       "                    fig.imageObj.src);\n",
       "            }\n",
       "\n",
       "            fig.imageObj.src = (window.URL || window.webkitURL).createObjectURL(\n",
       "                evt.data);\n",
       "            fig.updated_canvas_event();\n",
       "            fig.waiting = false;\n",
       "            return;\n",
       "        }\n",
       "        else if (typeof evt.data === 'string' && evt.data.slice(0, 21) == \"data:image/png;base64\") {\n",
       "            fig.imageObj.src = evt.data;\n",
       "            fig.updated_canvas_event();\n",
       "            fig.waiting = false;\n",
       "            return;\n",
       "        }\n",
       "\n",
       "        var msg = JSON.parse(evt.data);\n",
       "        var msg_type = msg['type'];\n",
       "\n",
       "        // Call the  \"handle_{type}\" callback, which takes\n",
       "        // the figure and JSON message as its only arguments.\n",
       "        try {\n",
       "            var callback = fig[\"handle_\" + msg_type];\n",
       "        } catch (e) {\n",
       "            console.log(\"No handler for the '\" + msg_type + \"' message type: \", msg);\n",
       "            return;\n",
       "        }\n",
       "\n",
       "        if (callback) {\n",
       "            try {\n",
       "                // console.log(\"Handling '\" + msg_type + \"' message: \", msg);\n",
       "                callback(fig, msg);\n",
       "            } catch (e) {\n",
       "                console.log(\"Exception inside the 'handler_\" + msg_type + \"' callback:\", e, e.stack, msg);\n",
       "            }\n",
       "        }\n",
       "    };\n",
       "}\n",
       "\n",
       "// from http://stackoverflow.com/questions/1114465/getting-mouse-location-in-canvas\n",
       "mpl.findpos = function(e) {\n",
       "    //this section is from http://www.quirksmode.org/js/events_properties.html\n",
       "    var targ;\n",
       "    if (!e)\n",
       "        e = window.event;\n",
       "    if (e.target)\n",
       "        targ = e.target;\n",
       "    else if (e.srcElement)\n",
       "        targ = e.srcElement;\n",
       "    if (targ.nodeType == 3) // defeat Safari bug\n",
       "        targ = targ.parentNode;\n",
       "\n",
       "    // jQuery normalizes the pageX and pageY\n",
       "    // pageX,Y are the mouse positions relative to the document\n",
       "    // offset() returns the position of the element relative to the document\n",
       "    var x = e.pageX - $(targ).offset().left;\n",
       "    var y = e.pageY - $(targ).offset().top;\n",
       "\n",
       "    return {\"x\": x, \"y\": y};\n",
       "};\n",
       "\n",
       "/*\n",
       " * return a copy of an object with only non-object keys\n",
       " * we need this to avoid circular references\n",
       " * http://stackoverflow.com/a/24161582/3208463\n",
       " */\n",
       "function simpleKeys (original) {\n",
       "  return Object.keys(original).reduce(function (obj, key) {\n",
       "    if (typeof original[key] !== 'object')\n",
       "        obj[key] = original[key]\n",
       "    return obj;\n",
       "  }, {});\n",
       "}\n",
       "\n",
       "mpl.figure.prototype.mouse_event = function(event, name) {\n",
       "    var canvas_pos = mpl.findpos(event)\n",
       "\n",
       "    if (name === 'button_press')\n",
       "    {\n",
       "        this.canvas.focus();\n",
       "        this.canvas_div.focus();\n",
       "    }\n",
       "\n",
       "    var x = canvas_pos.x * mpl.ratio;\n",
       "    var y = canvas_pos.y * mpl.ratio;\n",
       "\n",
       "    this.send_message(name, {x: x, y: y, button: event.button,\n",
       "                             step: event.step,\n",
       "                             guiEvent: simpleKeys(event)});\n",
       "\n",
       "    /* This prevents the web browser from automatically changing to\n",
       "     * the text insertion cursor when the button is pressed.  We want\n",
       "     * to control all of the cursor setting manually through the\n",
       "     * 'cursor' event from matplotlib */\n",
       "    event.preventDefault();\n",
       "    return false;\n",
       "}\n",
       "\n",
       "mpl.figure.prototype._key_event_extra = function(event, name) {\n",
       "    // Handle any extra behaviour associated with a key event\n",
       "}\n",
       "\n",
       "mpl.figure.prototype.key_event = function(event, name) {\n",
       "\n",
       "    // Prevent repeat events\n",
       "    if (name == 'key_press')\n",
       "    {\n",
       "        if (event.which === this._key)\n",
       "            return;\n",
       "        else\n",
       "            this._key = event.which;\n",
       "    }\n",
       "    if (name == 'key_release')\n",
       "        this._key = null;\n",
       "\n",
       "    var value = '';\n",
       "    if (event.ctrlKey && event.which != 17)\n",
       "        value += \"ctrl+\";\n",
       "    if (event.altKey && event.which != 18)\n",
       "        value += \"alt+\";\n",
       "    if (event.shiftKey && event.which != 16)\n",
       "        value += \"shift+\";\n",
       "\n",
       "    value += 'k';\n",
       "    value += event.which.toString();\n",
       "\n",
       "    this._key_event_extra(event, name);\n",
       "\n",
       "    this.send_message(name, {key: value,\n",
       "                             guiEvent: simpleKeys(event)});\n",
       "    return false;\n",
       "}\n",
       "\n",
       "mpl.figure.prototype.toolbar_button_onclick = function(name) {\n",
       "    if (name == 'download') {\n",
       "        this.handle_save(this, null);\n",
       "    } else {\n",
       "        this.send_message(\"toolbar_button\", {name: name});\n",
       "    }\n",
       "};\n",
       "\n",
       "mpl.figure.prototype.toolbar_button_onmouseover = function(tooltip) {\n",
       "    this.message.textContent = tooltip;\n",
       "};\n",
       "mpl.toolbar_items = [[\"Home\", \"Reset original view\", \"fa fa-home icon-home\", \"home\"], [\"Back\", \"Back to previous view\", \"fa fa-arrow-left icon-arrow-left\", \"back\"], [\"Forward\", \"Forward to next view\", \"fa fa-arrow-right icon-arrow-right\", \"forward\"], [\"\", \"\", \"\", \"\"], [\"Pan\", \"Pan axes with left mouse, zoom with right\", \"fa fa-arrows icon-move\", \"pan\"], [\"Zoom\", \"Zoom to rectangle\", \"fa fa-square-o icon-check-empty\", \"zoom\"], [\"\", \"\", \"\", \"\"], [\"Download\", \"Download plot\", \"fa fa-floppy-o icon-save\", \"download\"]];\n",
       "\n",
       "mpl.extensions = [\"eps\", \"jpeg\", \"pdf\", \"png\", \"ps\", \"raw\", \"svg\", \"tif\"];\n",
       "\n",
       "mpl.default_extension = \"png\";var comm_websocket_adapter = function(comm) {\n",
       "    // Create a \"websocket\"-like object which calls the given IPython comm\n",
       "    // object with the appropriate methods. Currently this is a non binary\n",
       "    // socket, so there is still some room for performance tuning.\n",
       "    var ws = {};\n",
       "\n",
       "    ws.close = function() {\n",
       "        comm.close()\n",
       "    };\n",
       "    ws.send = function(m) {\n",
       "        //console.log('sending', m);\n",
       "        comm.send(m);\n",
       "    };\n",
       "    // Register the callback with on_msg.\n",
       "    comm.on_msg(function(msg) {\n",
       "        //console.log('receiving', msg['content']['data'], msg);\n",
       "        // Pass the mpl event to the overridden (by mpl) onmessage function.\n",
       "        ws.onmessage(msg['content']['data'])\n",
       "    });\n",
       "    return ws;\n",
       "}\n",
       "\n",
       "mpl.mpl_figure_comm = function(comm, msg) {\n",
       "    // This is the function which gets called when the mpl process\n",
       "    // starts-up an IPython Comm through the \"matplotlib\" channel.\n",
       "\n",
       "    var id = msg.content.data.id;\n",
       "    // Get hold of the div created by the display call when the Comm\n",
       "    // socket was opened in Python.\n",
       "    var element = $(\"#\" + id);\n",
       "    var ws_proxy = comm_websocket_adapter(comm)\n",
       "\n",
       "    function ondownload(figure, format) {\n",
       "        window.open(figure.imageObj.src);\n",
       "    }\n",
       "\n",
       "    var fig = new mpl.figure(id, ws_proxy,\n",
       "                           ondownload,\n",
       "                           element.get(0));\n",
       "\n",
       "    // Call onopen now - mpl needs it, as it is assuming we've passed it a real\n",
       "    // web socket which is closed, not our websocket->open comm proxy.\n",
       "    ws_proxy.onopen();\n",
       "\n",
       "    fig.parent_element = element.get(0);\n",
       "    fig.cell_info = mpl.find_output_cell(\"<div id='\" + id + \"'></div>\");\n",
       "    if (!fig.cell_info) {\n",
       "        console.error(\"Failed to find cell for figure\", id, fig);\n",
       "        return;\n",
       "    }\n",
       "\n",
       "    var output_index = fig.cell_info[2]\n",
       "    var cell = fig.cell_info[0];\n",
       "\n",
       "};\n",
       "\n",
       "mpl.figure.prototype.handle_close = function(fig, msg) {\n",
       "    var width = fig.canvas.width/mpl.ratio\n",
       "    fig.root.unbind('remove')\n",
       "\n",
       "    // Update the output cell to use the data from the current canvas.\n",
       "    fig.push_to_output();\n",
       "    var dataURL = fig.canvas.toDataURL();\n",
       "    // Re-enable the keyboard manager in IPython - without this line, in FF,\n",
       "    // the notebook keyboard shortcuts fail.\n",
       "    IPython.keyboard_manager.enable()\n",
       "    $(fig.parent_element).html('<img src=\"' + dataURL + '\" width=\"' + width + '\">');\n",
       "    fig.close_ws(fig, msg);\n",
       "}\n",
       "\n",
       "mpl.figure.prototype.close_ws = function(fig, msg){\n",
       "    fig.send_message('closing', msg);\n",
       "    // fig.ws.close()\n",
       "}\n",
       "\n",
       "mpl.figure.prototype.push_to_output = function(remove_interactive) {\n",
       "    // Turn the data on the canvas into data in the output cell.\n",
       "    var width = this.canvas.width/mpl.ratio\n",
       "    var dataURL = this.canvas.toDataURL();\n",
       "    this.cell_info[1]['text/html'] = '<img src=\"' + dataURL + '\" width=\"' + width + '\">';\n",
       "}\n",
       "\n",
       "mpl.figure.prototype.updated_canvas_event = function() {\n",
       "    // Tell IPython that the notebook contents must change.\n",
       "    IPython.notebook.set_dirty(true);\n",
       "    this.send_message(\"ack\", {});\n",
       "    var fig = this;\n",
       "    // Wait a second, then push the new image to the DOM so\n",
       "    // that it is saved nicely (might be nice to debounce this).\n",
       "    setTimeout(function () { fig.push_to_output() }, 1000);\n",
       "}\n",
       "\n",
       "mpl.figure.prototype._init_toolbar = function() {\n",
       "    var fig = this;\n",
       "\n",
       "    var nav_element = $('<div/>')\n",
       "    nav_element.attr('style', 'width: 100%');\n",
       "    this.root.append(nav_element);\n",
       "\n",
       "    // Define a callback function for later on.\n",
       "    function toolbar_event(event) {\n",
       "        return fig.toolbar_button_onclick(event['data']);\n",
       "    }\n",
       "    function toolbar_mouse_event(event) {\n",
       "        return fig.toolbar_button_onmouseover(event['data']);\n",
       "    }\n",
       "\n",
       "    for(var toolbar_ind in mpl.toolbar_items){\n",
       "        var name = mpl.toolbar_items[toolbar_ind][0];\n",
       "        var tooltip = mpl.toolbar_items[toolbar_ind][1];\n",
       "        var image = mpl.toolbar_items[toolbar_ind][2];\n",
       "        var method_name = mpl.toolbar_items[toolbar_ind][3];\n",
       "\n",
       "        if (!name) { continue; };\n",
       "\n",
       "        var button = $('<button class=\"btn btn-default\" href=\"#\" title=\"' + name + '\"><i class=\"fa ' + image + ' fa-lg\"></i></button>');\n",
       "        button.click(method_name, toolbar_event);\n",
       "        button.mouseover(tooltip, toolbar_mouse_event);\n",
       "        nav_element.append(button);\n",
       "    }\n",
       "\n",
       "    // Add the status bar.\n",
       "    var status_bar = $('<span class=\"mpl-message\" style=\"text-align:right; float: right;\"/>');\n",
       "    nav_element.append(status_bar);\n",
       "    this.message = status_bar[0];\n",
       "\n",
       "    // Add the close button to the window.\n",
       "    var buttongrp = $('<div class=\"btn-group inline pull-right\"></div>');\n",
       "    var button = $('<button class=\"btn btn-mini btn-primary\" href=\"#\" title=\"Stop Interaction\"><i class=\"fa fa-power-off icon-remove icon-large\"></i></button>');\n",
       "    button.click(function (evt) { fig.handle_close(fig, {}); } );\n",
       "    button.mouseover('Stop Interaction', toolbar_mouse_event);\n",
       "    buttongrp.append(button);\n",
       "    var titlebar = this.root.find($('.ui-dialog-titlebar'));\n",
       "    titlebar.prepend(buttongrp);\n",
       "}\n",
       "\n",
       "mpl.figure.prototype._root_extra_style = function(el){\n",
       "    var fig = this\n",
       "    el.on(\"remove\", function(){\n",
       "\tfig.close_ws(fig, {});\n",
       "    });\n",
       "}\n",
       "\n",
       "mpl.figure.prototype._canvas_extra_style = function(el){\n",
       "    // this is important to make the div 'focusable\n",
       "    el.attr('tabindex', 0)\n",
       "    // reach out to IPython and tell the keyboard manager to turn it's self\n",
       "    // off when our div gets focus\n",
       "\n",
       "    // location in version 3\n",
       "    if (IPython.notebook.keyboard_manager) {\n",
       "        IPython.notebook.keyboard_manager.register_events(el);\n",
       "    }\n",
       "    else {\n",
       "        // location in version 2\n",
       "        IPython.keyboard_manager.register_events(el);\n",
       "    }\n",
       "\n",
       "}\n",
       "\n",
       "mpl.figure.prototype._key_event_extra = function(event, name) {\n",
       "    var manager = IPython.notebook.keyboard_manager;\n",
       "    if (!manager)\n",
       "        manager = IPython.keyboard_manager;\n",
       "\n",
       "    // Check for shift+enter\n",
       "    if (event.shiftKey && event.which == 13) {\n",
       "        this.canvas_div.blur();\n",
       "        event.shiftKey = false;\n",
       "        // Send a \"J\" for go to next cell\n",
       "        event.which = 74;\n",
       "        event.keyCode = 74;\n",
       "        manager.command_mode();\n",
       "        manager.handle_keydown(event);\n",
       "    }\n",
       "}\n",
       "\n",
       "mpl.figure.prototype.handle_save = function(fig, msg) {\n",
       "    fig.ondownload(fig, null);\n",
       "}\n",
       "\n",
       "\n",
       "mpl.find_output_cell = function(html_output) {\n",
       "    // Return the cell and output element which can be found *uniquely* in the notebook.\n",
       "    // Note - this is a bit hacky, but it is done because the \"notebook_saving.Notebook\"\n",
       "    // IPython event is triggered only after the cells have been serialised, which for\n",
       "    // our purposes (turning an active figure into a static one), is too late.\n",
       "    var cells = IPython.notebook.get_cells();\n",
       "    var ncells = cells.length;\n",
       "    for (var i=0; i<ncells; i++) {\n",
       "        var cell = cells[i];\n",
       "        if (cell.cell_type === 'code'){\n",
       "            for (var j=0; j<cell.output_area.outputs.length; j++) {\n",
       "                var data = cell.output_area.outputs[j];\n",
       "                if (data.data) {\n",
       "                    // IPython >= 3 moved mimebundle to data attribute of output\n",
       "                    data = data.data;\n",
       "                }\n",
       "                if (data['text/html'] == html_output) {\n",
       "                    return [cell, data, j];\n",
       "                }\n",
       "            }\n",
       "        }\n",
       "    }\n",
       "}\n",
       "\n",
       "// Register the function which deals with the matplotlib target/channel.\n",
       "// The kernel may be null if the page has been refreshed.\n",
       "if (IPython.notebook.kernel != null) {\n",
       "    IPython.notebook.kernel.comm_manager.register_target('matplotlib', mpl.mpl_figure_comm);\n",
       "}\n"
      ],
      "text/plain": [
       "<IPython.core.display.Javascript object>"
      ]
     },
     "metadata": {},
     "output_type": "display_data"
    },
    {
     "data": {
      "text/html": [
       "<img src=\"data:image/png;base64,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\" width=\"431.818172458775\">"
      ],
      "text/plain": [
       "<IPython.core.display.HTML object>"
      ]
     },
     "metadata": {},
     "output_type": "display_data"
    }
   ],
   "source": [
    "plot_iteration(a.cost_rate, min_it=1000)"
   ]
  },
  {
   "cell_type": "code",
   "execution_count": 45,
   "metadata": {},
   "outputs": [
    {
     "data": {
      "application/javascript": [
       "/* Put everything inside the global mpl namespace */\n",
       "window.mpl = {};\n",
       "\n",
       "\n",
       "mpl.get_websocket_type = function() {\n",
       "    if (typeof(WebSocket) !== 'undefined') {\n",
       "        return WebSocket;\n",
       "    } else if (typeof(MozWebSocket) !== 'undefined') {\n",
       "        return MozWebSocket;\n",
       "    } else {\n",
       "        alert('Your browser does not have WebSocket support.' +\n",
       "              'Please try Chrome, Safari or Firefox ≥ 6. ' +\n",
       "              'Firefox 4 and 5 are also supported but you ' +\n",
       "              'have to enable WebSockets in about:config.');\n",
       "    };\n",
       "}\n",
       "\n",
       "mpl.figure = function(figure_id, websocket, ondownload, parent_element) {\n",
       "    this.id = figure_id;\n",
       "\n",
       "    this.ws = websocket;\n",
       "\n",
       "    this.supports_binary = (this.ws.binaryType != undefined);\n",
       "\n",
       "    if (!this.supports_binary) {\n",
       "        var warnings = document.getElementById(\"mpl-warnings\");\n",
       "        if (warnings) {\n",
       "            warnings.style.display = 'block';\n",
       "            warnings.textContent = (\n",
       "                \"This browser does not support binary websocket messages. \" +\n",
       "                    \"Performance may be slow.\");\n",
       "        }\n",
       "    }\n",
       "\n",
       "    this.imageObj = new Image();\n",
       "\n",
       "    this.context = undefined;\n",
       "    this.message = undefined;\n",
       "    this.canvas = undefined;\n",
       "    this.rubberband_canvas = undefined;\n",
       "    this.rubberband_context = undefined;\n",
       "    this.format_dropdown = undefined;\n",
       "\n",
       "    this.image_mode = 'full';\n",
       "\n",
       "    this.root = $('<div/>');\n",
       "    this._root_extra_style(this.root)\n",
       "    this.root.attr('style', 'display: inline-block');\n",
       "\n",
       "    $(parent_element).append(this.root);\n",
       "\n",
       "    this._init_header(this);\n",
       "    this._init_canvas(this);\n",
       "    this._init_toolbar(this);\n",
       "\n",
       "    var fig = this;\n",
       "\n",
       "    this.waiting = false;\n",
       "\n",
       "    this.ws.onopen =  function () {\n",
       "            fig.send_message(\"supports_binary\", {value: fig.supports_binary});\n",
       "            fig.send_message(\"send_image_mode\", {});\n",
       "            if (mpl.ratio != 1) {\n",
       "                fig.send_message(\"set_dpi_ratio\", {'dpi_ratio': mpl.ratio});\n",
       "            }\n",
       "            fig.send_message(\"refresh\", {});\n",
       "        }\n",
       "\n",
       "    this.imageObj.onload = function() {\n",
       "            if (fig.image_mode == 'full') {\n",
       "                // Full images could contain transparency (where diff images\n",
       "                // almost always do), so we need to clear the canvas so that\n",
       "                // there is no ghosting.\n",
       "                fig.context.clearRect(0, 0, fig.canvas.width, fig.canvas.height);\n",
       "            }\n",
       "            fig.context.drawImage(fig.imageObj, 0, 0);\n",
       "        };\n",
       "\n",
       "    this.imageObj.onunload = function() {\n",
       "        fig.ws.close();\n",
       "    }\n",
       "\n",
       "    this.ws.onmessage = this._make_on_message_function(this);\n",
       "\n",
       "    this.ondownload = ondownload;\n",
       "}\n",
       "\n",
       "mpl.figure.prototype._init_header = function() {\n",
       "    var titlebar = $(\n",
       "        '<div class=\"ui-dialog-titlebar ui-widget-header ui-corner-all ' +\n",
       "        'ui-helper-clearfix\"/>');\n",
       "    var titletext = $(\n",
       "        '<div class=\"ui-dialog-title\" style=\"width: 100%; ' +\n",
       "        'text-align: center; padding: 3px;\"/>');\n",
       "    titlebar.append(titletext)\n",
       "    this.root.append(titlebar);\n",
       "    this.header = titletext[0];\n",
       "}\n",
       "\n",
       "\n",
       "\n",
       "mpl.figure.prototype._canvas_extra_style = function(canvas_div) {\n",
       "\n",
       "}\n",
       "\n",
       "\n",
       "mpl.figure.prototype._root_extra_style = function(canvas_div) {\n",
       "\n",
       "}\n",
       "\n",
       "mpl.figure.prototype._init_canvas = function() {\n",
       "    var fig = this;\n",
       "\n",
       "    var canvas_div = $('<div/>');\n",
       "\n",
       "    canvas_div.attr('style', 'position: relative; clear: both; outline: 0');\n",
       "\n",
       "    function canvas_keyboard_event(event) {\n",
       "        return fig.key_event(event, event['data']);\n",
       "    }\n",
       "\n",
       "    canvas_div.keydown('key_press', canvas_keyboard_event);\n",
       "    canvas_div.keyup('key_release', canvas_keyboard_event);\n",
       "    this.canvas_div = canvas_div\n",
       "    this._canvas_extra_style(canvas_div)\n",
       "    this.root.append(canvas_div);\n",
       "\n",
       "    var canvas = $('<canvas/>');\n",
       "    canvas.addClass('mpl-canvas');\n",
       "    canvas.attr('style', \"left: 0; top: 0; z-index: 0; outline: 0\")\n",
       "\n",
       "    this.canvas = canvas[0];\n",
       "    this.context = canvas[0].getContext(\"2d\");\n",
       "\n",
       "    var backingStore = this.context.backingStorePixelRatio ||\n",
       "\tthis.context.webkitBackingStorePixelRatio ||\n",
       "\tthis.context.mozBackingStorePixelRatio ||\n",
       "\tthis.context.msBackingStorePixelRatio ||\n",
       "\tthis.context.oBackingStorePixelRatio ||\n",
       "\tthis.context.backingStorePixelRatio || 1;\n",
       "\n",
       "    mpl.ratio = (window.devicePixelRatio || 1) / backingStore;\n",
       "\n",
       "    var rubberband = $('<canvas/>');\n",
       "    rubberband.attr('style', \"position: absolute; left: 0; top: 0; z-index: 1;\")\n",
       "\n",
       "    var pass_mouse_events = true;\n",
       "\n",
       "    canvas_div.resizable({\n",
       "        start: function(event, ui) {\n",
       "            pass_mouse_events = false;\n",
       "        },\n",
       "        resize: function(event, ui) {\n",
       "            fig.request_resize(ui.size.width, ui.size.height);\n",
       "        },\n",
       "        stop: function(event, ui) {\n",
       "            pass_mouse_events = true;\n",
       "            fig.request_resize(ui.size.width, ui.size.height);\n",
       "        },\n",
       "    });\n",
       "\n",
       "    function mouse_event_fn(event) {\n",
       "        if (pass_mouse_events)\n",
       "            return fig.mouse_event(event, event['data']);\n",
       "    }\n",
       "\n",
       "    rubberband.mousedown('button_press', mouse_event_fn);\n",
       "    rubberband.mouseup('button_release', mouse_event_fn);\n",
       "    // Throttle sequential mouse events to 1 every 20ms.\n",
       "    rubberband.mousemove('motion_notify', mouse_event_fn);\n",
       "\n",
       "    rubberband.mouseenter('figure_enter', mouse_event_fn);\n",
       "    rubberband.mouseleave('figure_leave', mouse_event_fn);\n",
       "\n",
       "    canvas_div.on(\"wheel\", function (event) {\n",
       "        event = event.originalEvent;\n",
       "        event['data'] = 'scroll'\n",
       "        if (event.deltaY < 0) {\n",
       "            event.step = 1;\n",
       "        } else {\n",
       "            event.step = -1;\n",
       "        }\n",
       "        mouse_event_fn(event);\n",
       "    });\n",
       "\n",
       "    canvas_div.append(canvas);\n",
       "    canvas_div.append(rubberband);\n",
       "\n",
       "    this.rubberband = rubberband;\n",
       "    this.rubberband_canvas = rubberband[0];\n",
       "    this.rubberband_context = rubberband[0].getContext(\"2d\");\n",
       "    this.rubberband_context.strokeStyle = \"#000000\";\n",
       "\n",
       "    this._resize_canvas = function(width, height) {\n",
       "        // Keep the size of the canvas, canvas container, and rubber band\n",
       "        // canvas in synch.\n",
       "        canvas_div.css('width', width)\n",
       "        canvas_div.css('height', height)\n",
       "\n",
       "        canvas.attr('width', width * mpl.ratio);\n",
       "        canvas.attr('height', height * mpl.ratio);\n",
       "        canvas.attr('style', 'width: ' + width + 'px; height: ' + height + 'px;');\n",
       "\n",
       "        rubberband.attr('width', width);\n",
       "        rubberband.attr('height', height);\n",
       "    }\n",
       "\n",
       "    // Set the figure to an initial 600x600px, this will subsequently be updated\n",
       "    // upon first draw.\n",
       "    this._resize_canvas(600, 600);\n",
       "\n",
       "    // Disable right mouse context menu.\n",
       "    $(this.rubberband_canvas).bind(\"contextmenu\",function(e){\n",
       "        return false;\n",
       "    });\n",
       "\n",
       "    function set_focus () {\n",
       "        canvas.focus();\n",
       "        canvas_div.focus();\n",
       "    }\n",
       "\n",
       "    window.setTimeout(set_focus, 100);\n",
       "}\n",
       "\n",
       "mpl.figure.prototype._init_toolbar = function() {\n",
       "    var fig = this;\n",
       "\n",
       "    var nav_element = $('<div/>')\n",
       "    nav_element.attr('style', 'width: 100%');\n",
       "    this.root.append(nav_element);\n",
       "\n",
       "    // Define a callback function for later on.\n",
       "    function toolbar_event(event) {\n",
       "        return fig.toolbar_button_onclick(event['data']);\n",
       "    }\n",
       "    function toolbar_mouse_event(event) {\n",
       "        return fig.toolbar_button_onmouseover(event['data']);\n",
       "    }\n",
       "\n",
       "    for(var toolbar_ind in mpl.toolbar_items) {\n",
       "        var name = mpl.toolbar_items[toolbar_ind][0];\n",
       "        var tooltip = mpl.toolbar_items[toolbar_ind][1];\n",
       "        var image = mpl.toolbar_items[toolbar_ind][2];\n",
       "        var method_name = mpl.toolbar_items[toolbar_ind][3];\n",
       "\n",
       "        if (!name) {\n",
       "            // put a spacer in here.\n",
       "            continue;\n",
       "        }\n",
       "        var button = $('<button/>');\n",
       "        button.addClass('ui-button ui-widget ui-state-default ui-corner-all ' +\n",
       "                        'ui-button-icon-only');\n",
       "        button.attr('role', 'button');\n",
       "        button.attr('aria-disabled', 'false');\n",
       "        button.click(method_name, toolbar_event);\n",
       "        button.mouseover(tooltip, toolbar_mouse_event);\n",
       "\n",
       "        var icon_img = $('<span/>');\n",
       "        icon_img.addClass('ui-button-icon-primary ui-icon');\n",
       "        icon_img.addClass(image);\n",
       "        icon_img.addClass('ui-corner-all');\n",
       "\n",
       "        var tooltip_span = $('<span/>');\n",
       "        tooltip_span.addClass('ui-button-text');\n",
       "        tooltip_span.html(tooltip);\n",
       "\n",
       "        button.append(icon_img);\n",
       "        button.append(tooltip_span);\n",
       "\n",
       "        nav_element.append(button);\n",
       "    }\n",
       "\n",
       "    var fmt_picker_span = $('<span/>');\n",
       "\n",
       "    var fmt_picker = $('<select/>');\n",
       "    fmt_picker.addClass('mpl-toolbar-option ui-widget ui-widget-content');\n",
       "    fmt_picker_span.append(fmt_picker);\n",
       "    nav_element.append(fmt_picker_span);\n",
       "    this.format_dropdown = fmt_picker[0];\n",
       "\n",
       "    for (var ind in mpl.extensions) {\n",
       "        var fmt = mpl.extensions[ind];\n",
       "        var option = $(\n",
       "            '<option/>', {selected: fmt === mpl.default_extension}).html(fmt);\n",
       "        fmt_picker.append(option)\n",
       "    }\n",
       "\n",
       "    // Add hover states to the ui-buttons\n",
       "    $( \".ui-button\" ).hover(\n",
       "        function() { $(this).addClass(\"ui-state-hover\");},\n",
       "        function() { $(this).removeClass(\"ui-state-hover\");}\n",
       "    );\n",
       "\n",
       "    var status_bar = $('<span class=\"mpl-message\"/>');\n",
       "    nav_element.append(status_bar);\n",
       "    this.message = status_bar[0];\n",
       "}\n",
       "\n",
       "mpl.figure.prototype.request_resize = function(x_pixels, y_pixels) {\n",
       "    // Request matplotlib to resize the figure. Matplotlib will then trigger a resize in the client,\n",
       "    // which will in turn request a refresh of the image.\n",
       "    this.send_message('resize', {'width': x_pixels, 'height': y_pixels});\n",
       "}\n",
       "\n",
       "mpl.figure.prototype.send_message = function(type, properties) {\n",
       "    properties['type'] = type;\n",
       "    properties['figure_id'] = this.id;\n",
       "    this.ws.send(JSON.stringify(properties));\n",
       "}\n",
       "\n",
       "mpl.figure.prototype.send_draw_message = function() {\n",
       "    if (!this.waiting) {\n",
       "        this.waiting = true;\n",
       "        this.ws.send(JSON.stringify({type: \"draw\", figure_id: this.id}));\n",
       "    }\n",
       "}\n",
       "\n",
       "\n",
       "mpl.figure.prototype.handle_save = function(fig, msg) {\n",
       "    var format_dropdown = fig.format_dropdown;\n",
       "    var format = format_dropdown.options[format_dropdown.selectedIndex].value;\n",
       "    fig.ondownload(fig, format);\n",
       "}\n",
       "\n",
       "\n",
       "mpl.figure.prototype.handle_resize = function(fig, msg) {\n",
       "    var size = msg['size'];\n",
       "    if (size[0] != fig.canvas.width || size[1] != fig.canvas.height) {\n",
       "        fig._resize_canvas(size[0], size[1]);\n",
       "        fig.send_message(\"refresh\", {});\n",
       "    };\n",
       "}\n",
       "\n",
       "mpl.figure.prototype.handle_rubberband = function(fig, msg) {\n",
       "    var x0 = msg['x0'] / mpl.ratio;\n",
       "    var y0 = (fig.canvas.height - msg['y0']) / mpl.ratio;\n",
       "    var x1 = msg['x1'] / mpl.ratio;\n",
       "    var y1 = (fig.canvas.height - msg['y1']) / mpl.ratio;\n",
       "    x0 = Math.floor(x0) + 0.5;\n",
       "    y0 = Math.floor(y0) + 0.5;\n",
       "    x1 = Math.floor(x1) + 0.5;\n",
       "    y1 = Math.floor(y1) + 0.5;\n",
       "    var min_x = Math.min(x0, x1);\n",
       "    var min_y = Math.min(y0, y1);\n",
       "    var width = Math.abs(x1 - x0);\n",
       "    var height = Math.abs(y1 - y0);\n",
       "\n",
       "    fig.rubberband_context.clearRect(\n",
       "        0, 0, fig.canvas.width, fig.canvas.height);\n",
       "\n",
       "    fig.rubberband_context.strokeRect(min_x, min_y, width, height);\n",
       "}\n",
       "\n",
       "mpl.figure.prototype.handle_figure_label = function(fig, msg) {\n",
       "    // Updates the figure title.\n",
       "    fig.header.textContent = msg['label'];\n",
       "}\n",
       "\n",
       "mpl.figure.prototype.handle_cursor = function(fig, msg) {\n",
       "    var cursor = msg['cursor'];\n",
       "    switch(cursor)\n",
       "    {\n",
       "    case 0:\n",
       "        cursor = 'pointer';\n",
       "        break;\n",
       "    case 1:\n",
       "        cursor = 'default';\n",
       "        break;\n",
       "    case 2:\n",
       "        cursor = 'crosshair';\n",
       "        break;\n",
       "    case 3:\n",
       "        cursor = 'move';\n",
       "        break;\n",
       "    }\n",
       "    fig.rubberband_canvas.style.cursor = cursor;\n",
       "}\n",
       "\n",
       "mpl.figure.prototype.handle_message = function(fig, msg) {\n",
       "    fig.message.textContent = msg['message'];\n",
       "}\n",
       "\n",
       "mpl.figure.prototype.handle_draw = function(fig, msg) {\n",
       "    // Request the server to send over a new figure.\n",
       "    fig.send_draw_message();\n",
       "}\n",
       "\n",
       "mpl.figure.prototype.handle_image_mode = function(fig, msg) {\n",
       "    fig.image_mode = msg['mode'];\n",
       "}\n",
       "\n",
       "mpl.figure.prototype.updated_canvas_event = function() {\n",
       "    // Called whenever the canvas gets updated.\n",
       "    this.send_message(\"ack\", {});\n",
       "}\n",
       "\n",
       "// A function to construct a web socket function for onmessage handling.\n",
       "// Called in the figure constructor.\n",
       "mpl.figure.prototype._make_on_message_function = function(fig) {\n",
       "    return function socket_on_message(evt) {\n",
       "        if (evt.data instanceof Blob) {\n",
       "            /* FIXME: We get \"Resource interpreted as Image but\n",
       "             * transferred with MIME type text/plain:\" errors on\n",
       "             * Chrome.  But how to set the MIME type?  It doesn't seem\n",
       "             * to be part of the websocket stream */\n",
       "            evt.data.type = \"image/png\";\n",
       "\n",
       "            /* Free the memory for the previous frames */\n",
       "            if (fig.imageObj.src) {\n",
       "                (window.URL || window.webkitURL).revokeObjectURL(\n",
       "                    fig.imageObj.src);\n",
       "            }\n",
       "\n",
       "            fig.imageObj.src = (window.URL || window.webkitURL).createObjectURL(\n",
       "                evt.data);\n",
       "            fig.updated_canvas_event();\n",
       "            fig.waiting = false;\n",
       "            return;\n",
       "        }\n",
       "        else if (typeof evt.data === 'string' && evt.data.slice(0, 21) == \"data:image/png;base64\") {\n",
       "            fig.imageObj.src = evt.data;\n",
       "            fig.updated_canvas_event();\n",
       "            fig.waiting = false;\n",
       "            return;\n",
       "        }\n",
       "\n",
       "        var msg = JSON.parse(evt.data);\n",
       "        var msg_type = msg['type'];\n",
       "\n",
       "        // Call the  \"handle_{type}\" callback, which takes\n",
       "        // the figure and JSON message as its only arguments.\n",
       "        try {\n",
       "            var callback = fig[\"handle_\" + msg_type];\n",
       "        } catch (e) {\n",
       "            console.log(\"No handler for the '\" + msg_type + \"' message type: \", msg);\n",
       "            return;\n",
       "        }\n",
       "\n",
       "        if (callback) {\n",
       "            try {\n",
       "                // console.log(\"Handling '\" + msg_type + \"' message: \", msg);\n",
       "                callback(fig, msg);\n",
       "            } catch (e) {\n",
       "                console.log(\"Exception inside the 'handler_\" + msg_type + \"' callback:\", e, e.stack, msg);\n",
       "            }\n",
       "        }\n",
       "    };\n",
       "}\n",
       "\n",
       "// from http://stackoverflow.com/questions/1114465/getting-mouse-location-in-canvas\n",
       "mpl.findpos = function(e) {\n",
       "    //this section is from http://www.quirksmode.org/js/events_properties.html\n",
       "    var targ;\n",
       "    if (!e)\n",
       "        e = window.event;\n",
       "    if (e.target)\n",
       "        targ = e.target;\n",
       "    else if (e.srcElement)\n",
       "        targ = e.srcElement;\n",
       "    if (targ.nodeType == 3) // defeat Safari bug\n",
       "        targ = targ.parentNode;\n",
       "\n",
       "    // jQuery normalizes the pageX and pageY\n",
       "    // pageX,Y are the mouse positions relative to the document\n",
       "    // offset() returns the position of the element relative to the document\n",
       "    var x = e.pageX - $(targ).offset().left;\n",
       "    var y = e.pageY - $(targ).offset().top;\n",
       "\n",
       "    return {\"x\": x, \"y\": y};\n",
       "};\n",
       "\n",
       "/*\n",
       " * return a copy of an object with only non-object keys\n",
       " * we need this to avoid circular references\n",
       " * http://stackoverflow.com/a/24161582/3208463\n",
       " */\n",
       "function simpleKeys (original) {\n",
       "  return Object.keys(original).reduce(function (obj, key) {\n",
       "    if (typeof original[key] !== 'object')\n",
       "        obj[key] = original[key]\n",
       "    return obj;\n",
       "  }, {});\n",
       "}\n",
       "\n",
       "mpl.figure.prototype.mouse_event = function(event, name) {\n",
       "    var canvas_pos = mpl.findpos(event)\n",
       "\n",
       "    if (name === 'button_press')\n",
       "    {\n",
       "        this.canvas.focus();\n",
       "        this.canvas_div.focus();\n",
       "    }\n",
       "\n",
       "    var x = canvas_pos.x * mpl.ratio;\n",
       "    var y = canvas_pos.y * mpl.ratio;\n",
       "\n",
       "    this.send_message(name, {x: x, y: y, button: event.button,\n",
       "                             step: event.step,\n",
       "                             guiEvent: simpleKeys(event)});\n",
       "\n",
       "    /* This prevents the web browser from automatically changing to\n",
       "     * the text insertion cursor when the button is pressed.  We want\n",
       "     * to control all of the cursor setting manually through the\n",
       "     * 'cursor' event from matplotlib */\n",
       "    event.preventDefault();\n",
       "    return false;\n",
       "}\n",
       "\n",
       "mpl.figure.prototype._key_event_extra = function(event, name) {\n",
       "    // Handle any extra behaviour associated with a key event\n",
       "}\n",
       "\n",
       "mpl.figure.prototype.key_event = function(event, name) {\n",
       "\n",
       "    // Prevent repeat events\n",
       "    if (name == 'key_press')\n",
       "    {\n",
       "        if (event.which === this._key)\n",
       "            return;\n",
       "        else\n",
       "            this._key = event.which;\n",
       "    }\n",
       "    if (name == 'key_release')\n",
       "        this._key = null;\n",
       "\n",
       "    var value = '';\n",
       "    if (event.ctrlKey && event.which != 17)\n",
       "        value += \"ctrl+\";\n",
       "    if (event.altKey && event.which != 18)\n",
       "        value += \"alt+\";\n",
       "    if (event.shiftKey && event.which != 16)\n",
       "        value += \"shift+\";\n",
       "\n",
       "    value += 'k';\n",
       "    value += event.which.toString();\n",
       "\n",
       "    this._key_event_extra(event, name);\n",
       "\n",
       "    this.send_message(name, {key: value,\n",
       "                             guiEvent: simpleKeys(event)});\n",
       "    return false;\n",
       "}\n",
       "\n",
       "mpl.figure.prototype.toolbar_button_onclick = function(name) {\n",
       "    if (name == 'download') {\n",
       "        this.handle_save(this, null);\n",
       "    } else {\n",
       "        this.send_message(\"toolbar_button\", {name: name});\n",
       "    }\n",
       "};\n",
       "\n",
       "mpl.figure.prototype.toolbar_button_onmouseover = function(tooltip) {\n",
       "    this.message.textContent = tooltip;\n",
       "};\n",
       "mpl.toolbar_items = [[\"Home\", \"Reset original view\", \"fa fa-home icon-home\", \"home\"], [\"Back\", \"Back to previous view\", \"fa fa-arrow-left icon-arrow-left\", \"back\"], [\"Forward\", \"Forward to next view\", \"fa fa-arrow-right icon-arrow-right\", \"forward\"], [\"\", \"\", \"\", \"\"], [\"Pan\", \"Pan axes with left mouse, zoom with right\", \"fa fa-arrows icon-move\", \"pan\"], [\"Zoom\", \"Zoom to rectangle\", \"fa fa-square-o icon-check-empty\", \"zoom\"], [\"\", \"\", \"\", \"\"], [\"Download\", \"Download plot\", \"fa fa-floppy-o icon-save\", \"download\"]];\n",
       "\n",
       "mpl.extensions = [\"eps\", \"jpeg\", \"pdf\", \"png\", \"ps\", \"raw\", \"svg\", \"tif\"];\n",
       "\n",
       "mpl.default_extension = \"png\";var comm_websocket_adapter = function(comm) {\n",
       "    // Create a \"websocket\"-like object which calls the given IPython comm\n",
       "    // object with the appropriate methods. Currently this is a non binary\n",
       "    // socket, so there is still some room for performance tuning.\n",
       "    var ws = {};\n",
       "\n",
       "    ws.close = function() {\n",
       "        comm.close()\n",
       "    };\n",
       "    ws.send = function(m) {\n",
       "        //console.log('sending', m);\n",
       "        comm.send(m);\n",
       "    };\n",
       "    // Register the callback with on_msg.\n",
       "    comm.on_msg(function(msg) {\n",
       "        //console.log('receiving', msg['content']['data'], msg);\n",
       "        // Pass the mpl event to the overridden (by mpl) onmessage function.\n",
       "        ws.onmessage(msg['content']['data'])\n",
       "    });\n",
       "    return ws;\n",
       "}\n",
       "\n",
       "mpl.mpl_figure_comm = function(comm, msg) {\n",
       "    // This is the function which gets called when the mpl process\n",
       "    // starts-up an IPython Comm through the \"matplotlib\" channel.\n",
       "\n",
       "    var id = msg.content.data.id;\n",
       "    // Get hold of the div created by the display call when the Comm\n",
       "    // socket was opened in Python.\n",
       "    var element = $(\"#\" + id);\n",
       "    var ws_proxy = comm_websocket_adapter(comm)\n",
       "\n",
       "    function ondownload(figure, format) {\n",
       "        window.open(figure.imageObj.src);\n",
       "    }\n",
       "\n",
       "    var fig = new mpl.figure(id, ws_proxy,\n",
       "                           ondownload,\n",
       "                           element.get(0));\n",
       "\n",
       "    // Call onopen now - mpl needs it, as it is assuming we've passed it a real\n",
       "    // web socket which is closed, not our websocket->open comm proxy.\n",
       "    ws_proxy.onopen();\n",
       "\n",
       "    fig.parent_element = element.get(0);\n",
       "    fig.cell_info = mpl.find_output_cell(\"<div id='\" + id + \"'></div>\");\n",
       "    if (!fig.cell_info) {\n",
       "        console.error(\"Failed to find cell for figure\", id, fig);\n",
       "        return;\n",
       "    }\n",
       "\n",
       "    var output_index = fig.cell_info[2]\n",
       "    var cell = fig.cell_info[0];\n",
       "\n",
       "};\n",
       "\n",
       "mpl.figure.prototype.handle_close = function(fig, msg) {\n",
       "    var width = fig.canvas.width/mpl.ratio\n",
       "    fig.root.unbind('remove')\n",
       "\n",
       "    // Update the output cell to use the data from the current canvas.\n",
       "    fig.push_to_output();\n",
       "    var dataURL = fig.canvas.toDataURL();\n",
       "    // Re-enable the keyboard manager in IPython - without this line, in FF,\n",
       "    // the notebook keyboard shortcuts fail.\n",
       "    IPython.keyboard_manager.enable()\n",
       "    $(fig.parent_element).html('<img src=\"' + dataURL + '\" width=\"' + width + '\">');\n",
       "    fig.close_ws(fig, msg);\n",
       "}\n",
       "\n",
       "mpl.figure.prototype.close_ws = function(fig, msg){\n",
       "    fig.send_message('closing', msg);\n",
       "    // fig.ws.close()\n",
       "}\n",
       "\n",
       "mpl.figure.prototype.push_to_output = function(remove_interactive) {\n",
       "    // Turn the data on the canvas into data in the output cell.\n",
       "    var width = this.canvas.width/mpl.ratio\n",
       "    var dataURL = this.canvas.toDataURL();\n",
       "    this.cell_info[1]['text/html'] = '<img src=\"' + dataURL + '\" width=\"' + width + '\">';\n",
       "}\n",
       "\n",
       "mpl.figure.prototype.updated_canvas_event = function() {\n",
       "    // Tell IPython that the notebook contents must change.\n",
       "    IPython.notebook.set_dirty(true);\n",
       "    this.send_message(\"ack\", {});\n",
       "    var fig = this;\n",
       "    // Wait a second, then push the new image to the DOM so\n",
       "    // that it is saved nicely (might be nice to debounce this).\n",
       "    setTimeout(function () { fig.push_to_output() }, 1000);\n",
       "}\n",
       "\n",
       "mpl.figure.prototype._init_toolbar = function() {\n",
       "    var fig = this;\n",
       "\n",
       "    var nav_element = $('<div/>')\n",
       "    nav_element.attr('style', 'width: 100%');\n",
       "    this.root.append(nav_element);\n",
       "\n",
       "    // Define a callback function for later on.\n",
       "    function toolbar_event(event) {\n",
       "        return fig.toolbar_button_onclick(event['data']);\n",
       "    }\n",
       "    function toolbar_mouse_event(event) {\n",
       "        return fig.toolbar_button_onmouseover(event['data']);\n",
       "    }\n",
       "\n",
       "    for(var toolbar_ind in mpl.toolbar_items){\n",
       "        var name = mpl.toolbar_items[toolbar_ind][0];\n",
       "        var tooltip = mpl.toolbar_items[toolbar_ind][1];\n",
       "        var image = mpl.toolbar_items[toolbar_ind][2];\n",
       "        var method_name = mpl.toolbar_items[toolbar_ind][3];\n",
       "\n",
       "        if (!name) { continue; };\n",
       "\n",
       "        var button = $('<button class=\"btn btn-default\" href=\"#\" title=\"' + name + '\"><i class=\"fa ' + image + ' fa-lg\"></i></button>');\n",
       "        button.click(method_name, toolbar_event);\n",
       "        button.mouseover(tooltip, toolbar_mouse_event);\n",
       "        nav_element.append(button);\n",
       "    }\n",
       "\n",
       "    // Add the status bar.\n",
       "    var status_bar = $('<span class=\"mpl-message\" style=\"text-align:right; float: right;\"/>');\n",
       "    nav_element.append(status_bar);\n",
       "    this.message = status_bar[0];\n",
       "\n",
       "    // Add the close button to the window.\n",
       "    var buttongrp = $('<div class=\"btn-group inline pull-right\"></div>');\n",
       "    var button = $('<button class=\"btn btn-mini btn-primary\" href=\"#\" title=\"Stop Interaction\"><i class=\"fa fa-power-off icon-remove icon-large\"></i></button>');\n",
       "    button.click(function (evt) { fig.handle_close(fig, {}); } );\n",
       "    button.mouseover('Stop Interaction', toolbar_mouse_event);\n",
       "    buttongrp.append(button);\n",
       "    var titlebar = this.root.find($('.ui-dialog-titlebar'));\n",
       "    titlebar.prepend(buttongrp);\n",
       "}\n",
       "\n",
       "mpl.figure.prototype._root_extra_style = function(el){\n",
       "    var fig = this\n",
       "    el.on(\"remove\", function(){\n",
       "\tfig.close_ws(fig, {});\n",
       "    });\n",
       "}\n",
       "\n",
       "mpl.figure.prototype._canvas_extra_style = function(el){\n",
       "    // this is important to make the div 'focusable\n",
       "    el.attr('tabindex', 0)\n",
       "    // reach out to IPython and tell the keyboard manager to turn it's self\n",
       "    // off when our div gets focus\n",
       "\n",
       "    // location in version 3\n",
       "    if (IPython.notebook.keyboard_manager) {\n",
       "        IPython.notebook.keyboard_manager.register_events(el);\n",
       "    }\n",
       "    else {\n",
       "        // location in version 2\n",
       "        IPython.keyboard_manager.register_events(el);\n",
       "    }\n",
       "\n",
       "}\n",
       "\n",
       "mpl.figure.prototype._key_event_extra = function(event, name) {\n",
       "    var manager = IPython.notebook.keyboard_manager;\n",
       "    if (!manager)\n",
       "        manager = IPython.keyboard_manager;\n",
       "\n",
       "    // Check for shift+enter\n",
       "    if (event.shiftKey && event.which == 13) {\n",
       "        this.canvas_div.blur();\n",
       "        event.shiftKey = false;\n",
       "        // Send a \"J\" for go to next cell\n",
       "        event.which = 74;\n",
       "        event.keyCode = 74;\n",
       "        manager.command_mode();\n",
       "        manager.handle_keydown(event);\n",
       "    }\n",
       "}\n",
       "\n",
       "mpl.figure.prototype.handle_save = function(fig, msg) {\n",
       "    fig.ondownload(fig, null);\n",
       "}\n",
       "\n",
       "\n",
       "mpl.find_output_cell = function(html_output) {\n",
       "    // Return the cell and output element which can be found *uniquely* in the notebook.\n",
       "    // Note - this is a bit hacky, but it is done because the \"notebook_saving.Notebook\"\n",
       "    // IPython event is triggered only after the cells have been serialised, which for\n",
       "    // our purposes (turning an active figure into a static one), is too late.\n",
       "    var cells = IPython.notebook.get_cells();\n",
       "    var ncells = cells.length;\n",
       "    for (var i=0; i<ncells; i++) {\n",
       "        var cell = cells[i];\n",
       "        if (cell.cell_type === 'code'){\n",
       "            for (var j=0; j<cell.output_area.outputs.length; j++) {\n",
       "                var data = cell.output_area.outputs[j];\n",
       "                if (data.data) {\n",
       "                    // IPython >= 3 moved mimebundle to data attribute of output\n",
       "                    data = data.data;\n",
       "                }\n",
       "                if (data['text/html'] == html_output) {\n",
       "                    return [cell, data, j];\n",
       "                }\n",
       "            }\n",
       "        }\n",
       "    }\n",
       "}\n",
       "\n",
       "// Register the function which deals with the matplotlib target/channel.\n",
       "// The kernel may be null if the page has been refreshed.\n",
       "if (IPython.notebook.kernel != null) {\n",
       "    IPython.notebook.kernel.comm_manager.register_target('matplotlib', mpl.mpl_figure_comm);\n",
       "}\n"
      ],
      "text/plain": [
       "<IPython.core.display.Javascript object>"
      ]
     },
     "metadata": {},
     "output_type": "display_data"
    },
    {
     "data": {
      "text/html": [
       "<img src=\"data:image/png;base64,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\" width=\"431.818172458775\">"
      ],
      "text/plain": [
       "<IPython.core.display.HTML object>"
      ]
     },
     "metadata": {},
     "output_type": "display_data"
    }
   ],
   "source": [
    "plot_iteration(a.rel_err, min_it=1000)"
   ]
  },
  {
   "cell_type": "code",
   "execution_count": null,
   "metadata": {},
   "outputs": [],
   "source": []
  },
  {
   "cell_type": "code",
   "execution_count": null,
   "metadata": {},
   "outputs": [],
   "source": []
  },
  {
   "cell_type": "code",
   "execution_count": null,
   "metadata": {},
   "outputs": [],
   "source": []
  },
  {
   "cell_type": "code",
   "execution_count": null,
   "metadata": {},
   "outputs": [],
   "source": []
  },
  {
   "cell_type": "code",
   "execution_count": null,
   "metadata": {},
   "outputs": [],
   "source": []
  },
  {
   "cell_type": "code",
   "execution_count": null,
   "metadata": {},
   "outputs": [],
   "source": []
  },
  {
   "cell_type": "code",
   "execution_count": null,
   "metadata": {},
   "outputs": [],
   "source": []
  },
  {
   "cell_type": "code",
   "execution_count": null,
   "metadata": {},
   "outputs": [],
   "source": []
  },
  {
   "cell_type": "code",
   "execution_count": null,
   "metadata": {},
   "outputs": [],
   "source": []
  },
  {
   "cell_type": "code",
   "execution_count": null,
   "metadata": {},
   "outputs": [],
   "source": [
    "p1 = np.load('output/20191223-1714_eq1_1_nn_params.npz')['arr_0']\n",
    "p2 = np.load('output/20191223-1714_eq1_2_nn_params.npz')['arr_0']\n",
    "p3 = np.load('output/20191223-1714_eq1_3_nn_params.npz')['arr_0']\n",
    "p4 = np.load('output/20191223-1730_eq1_4_nn_params.npz')['arr_0']\n",
    "p5 = np.load('output/20191223-1730_eq1_5_nn_params.npz')['arr_0']\n",
    "p6 = np.load('output/20191223-1731_eq1_6_nn_params.npz')['arr_0']\n",
    "p7 = np.load('output/20191223-1731_eq1_7_nn_params.npz')['arr_0']"
   ]
  },
  {
   "cell_type": "code",
   "execution_count": null,
   "metadata": {},
   "outputs": [],
   "source": [
    "plot_partitions(p1)"
   ]
  },
  {
   "cell_type": "code",
   "execution_count": null,
   "metadata": {},
   "outputs": [],
   "source": []
  },
  {
   "cell_type": "code",
   "execution_count": null,
   "metadata": {},
   "outputs": [],
   "source": []
  },
  {
   "cell_type": "code",
   "execution_count": null,
   "metadata": {},
   "outputs": [],
   "source": []
  },
  {
   "cell_type": "code",
   "execution_count": null,
   "metadata": {},
   "outputs": [],
   "source": []
  },
  {
   "cell_type": "code",
   "execution_count": 46,
   "metadata": {},
   "outputs": [],
   "source": [
    "name_str = 'L97_eq1_1_v1'\n",
    "a.save_result(name_str)\n",
    "\n",
    "timestr = time.strftime(\"%Y%m%d-%H%M\")\n",
    "np.savez('output/'+ timestr + '_' + name_str + '_momentum.npz', a.m_t)\n",
    "np.savez('output/'+ timestr + '_' + name_str + '_p_list.npz', p)"
   ]
  },
  {
   "cell_type": "code",
   "execution_count": null,
   "metadata": {},
   "outputs": [],
   "source": [
    "name_str = '20200716-2122_eq1_1'\n",
    "\n",
    "a.p = np.load('output/' + name_str + '_v1_nn_params.npz')['arr_0']\n",
    "a.cost_rate = np.load('output/' + name_str + '_v1_cost_rate.npz')['arr_0']\n",
    "a.rel_err = np.load('output/' + name_str + '_v1_rel_err.npz')['arr_0']\n",
    "a.m_t = np.load('output/' + name_str + '_v1_momentum.npz')['arr_0']\n",
    "p = np.load('output/' + name_str + '_v1_p_list.npz')['arr_0']"
   ]
  },
  {
   "cell_type": "code",
   "execution_count": null,
   "metadata": {},
   "outputs": [],
   "source": []
  },
  {
   "cell_type": "code",
   "execution_count": null,
   "metadata": {},
   "outputs": [],
   "source": []
  }
 ],
 "metadata": {
  "kernelspec": {
   "display_name": "Python 3",
   "language": "python",
   "name": "python3"
  },
  "language_info": {
   "codemirror_mode": {
    "name": "ipython",
    "version": 3
   },
   "file_extension": ".py",
   "mimetype": "text/x-python",
   "name": "python",
   "nbconvert_exporter": "python",
   "pygments_lexer": "ipython3",
   "version": "3.6.7"
  },
  "notify_time": "30",
  "toc": {
   "base_numbering": 1,
   "nav_menu": {},
   "number_sections": true,
   "sideBar": true,
   "skip_h1_title": false,
   "title_cell": "Table of Contents",
   "title_sidebar": "Contents",
   "toc_cell": false,
   "toc_position": {
    "height": "calc(100% - 180px)",
    "left": "10px",
    "top": "150px",
    "width": "216.797px"
   },
   "toc_section_display": true,
   "toc_window_display": false
  },
  "varInspector": {
   "cols": {
    "lenName": 16,
    "lenType": 16,
    "lenVar": 40
   },
   "kernels_config": {
    "python": {
     "delete_cmd_postfix": "",
     "delete_cmd_prefix": "del ",
     "library": "var_list.py",
     "varRefreshCmd": "print(var_dic_list())"
    },
    "r": {
     "delete_cmd_postfix": ") ",
     "delete_cmd_prefix": "rm(",
     "library": "var_list.r",
     "varRefreshCmd": "cat(var_dic_list()) "
    }
   },
   "types_to_exclude": [
    "module",
    "function",
    "builtin_function_or_method",
    "instance",
    "_Feature"
   ],
   "window_display": false
  }
 },
 "nbformat": 4,
 "nbformat_minor": 2
}
