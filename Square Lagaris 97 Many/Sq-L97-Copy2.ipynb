{
 "cells": [
  {
   "cell_type": "markdown",
   "metadata": {
    "heading_collapsed": true,
    "slideshow": {
     "slide_type": "-"
    }
   },
   "source": [
    "# Imports"
   ]
  },
  {
   "cell_type": "code",
   "execution_count": 1,
   "metadata": {
    "hidden": true
   },
   "outputs": [
    {
     "name": "stdout",
     "output_type": "stream",
     "text": [
      "Pixiedust database opened successfully\n"
     ]
    },
    {
     "data": {
      "text/html": [
       "\n",
       "        <div style=\"margin:10px\">\n",
       "            <a href=\"https://github.com/ibm-watson-data-lab/pixiedust\" target=\"_new\">\n",
       "                <img src=\"https://github.com/ibm-watson-data-lab/pixiedust/raw/master/docs/_static/pd_icon32.png\" style=\"float:left;margin-right:10px\"/>\n",
       "            </a>\n",
       "            <span>Pixiedust version 1.1.14</span>\n",
       "        </div>\n",
       "        "
      ],
      "text/plain": [
       "<IPython.core.display.HTML object>"
      ]
     },
     "metadata": {},
     "output_type": "display_data"
    },
    {
     "data": {
      "text/html": [
       "<div>Warning: You are not running the latest version of PixieDust. Current is 1.1.14, Latest is 1.1.18</div>"
      ],
      "text/plain": [
       "<IPython.core.display.HTML object>"
      ]
     },
     "metadata": {},
     "output_type": "display_data"
    },
    {
     "data": {
      "text/html": [
       "\n",
       "                <div>Please copy and run the following command in a new cell to upgrade: <span style=\"background-color:#ececec;font-family:monospace;padding:0 5px\">!pip install --user --upgrade pixiedust</span></div>\n",
       "            "
      ],
      "text/plain": [
       "<IPython.core.display.HTML object>"
      ]
     },
     "metadata": {},
     "output_type": "display_data"
    },
    {
     "data": {
      "text/html": [
       "<div>Please restart kernel after upgrading.</div>"
      ],
      "text/plain": [
       "<IPython.core.display.HTML object>"
      ]
     },
     "metadata": {},
     "output_type": "display_data"
    }
   ],
   "source": [
    "import copy\n",
    "import numpy as np\n",
    "import itertools\n",
    "import time\n",
    "from matplotlib import pyplot as plt\n",
    "from mpl_toolkits.mplot3d import Axes3D\n",
    "from matplotlib import cm\n",
    "import pixiedust"
   ]
  },
  {
   "cell_type": "markdown",
   "metadata": {
    "heading_collapsed": true
   },
   "source": [
    "# Introduction"
   ]
  },
  {
   "cell_type": "markdown",
   "metadata": {
    "hidden": true
   },
   "source": [
    "Consider the following equation:\n",
    "$$\\Delta_p \\Psi(x,y)=f(x,y)$$\n",
    "\n",
    "$x \\in [0,1],\\ y \\in [0,1]$ with *Dirichlet* BC: $\\Psi(0,y) = 0$, $\\Psi(1,y) = 0$, $\\Psi(x,0) = 0$ and $\\Psi(x,1) = 0$.\n",
    "\n",
    "For this first attempt, we will take $p=2$."
   ]
  },
  {
   "cell_type": "markdown",
   "metadata": {
    "heading_collapsed": true
   },
   "source": [
    "# Defining functions"
   ]
  },
  {
   "cell_type": "markdown",
   "metadata": {
    "heading_collapsed": true,
    "hidden": true
   },
   "source": [
    "## Sigmoid"
   ]
  },
  {
   "cell_type": "markdown",
   "metadata": {
    "hidden": true
   },
   "source": [
    "Sigmoid $\\sigma(x) = \\frac{1}{1+e^{-x}}$ and its derrivatives."
   ]
  },
  {
   "cell_type": "markdown",
   "metadata": {
    "hidden": true
   },
   "source": [
    "Sigmoid with parameter $t$\n",
    "$$ \\sigma_t(x) = \\frac{1}{1+e^{-tx}}$$"
   ]
  },
  {
   "cell_type": "code",
   "execution_count": 2,
   "metadata": {
    "hidden": true
   },
   "outputs": [],
   "source": [
    "T = 1"
   ]
  },
  {
   "cell_type": "code",
   "execution_count": 3,
   "metadata": {
    "hidden": true
   },
   "outputs": [],
   "source": [
    "def sig(x):\n",
    "    return 1 / (1 + np.exp(-T*x))\n",
    "\n",
    "def sig1(x):\n",
    "    return T * sig(x) * (1 - sig(x))\n",
    "\n",
    "def sig2(x):\n",
    "    return T * (sig1(x) - 2*sig(x)*sig1(x))\n",
    "\n",
    "def sig3(x):\n",
    "    return T * (sig2(x) - 2 * (sig1(x)**2 + sig(x) * sig2(x)))\n",
    "\n",
    "def sig_pr(x, k):\n",
    "    if k==0:\n",
    "        return sig(x)\n",
    "    if k==1:\n",
    "        return sig1(x)\n",
    "    if k==2:\n",
    "        return sig2(x)\n",
    "    if k==3:\n",
    "        return sig3(x)"
   ]
  },
  {
   "cell_type": "markdown",
   "metadata": {
    "heading_collapsed": true,
    "hidden": true
   },
   "source": [
    "## RHS"
   ]
  },
  {
   "cell_type": "markdown",
   "metadata": {
    "hidden": true
   },
   "source": [
    "The right side of the equation:  $\\Delta\\Psi(x,y) = 6 x (x-1) (1-2 y) + 2 y (y-1) (1-2 y)$"
   ]
  },
  {
   "cell_type": "code",
   "execution_count": 4,
   "metadata": {
    "hidden": true
   },
   "outputs": [],
   "source": [
    "K=1\n",
    "def f(x, y):\n",
    "    return K * (6*(x-1)*x*(1-2*y) + 2*(y-1)*y*(1-2*y))"
   ]
  },
  {
   "cell_type": "markdown",
   "metadata": {
    "hidden": true
   },
   "source": [
    "The analytic solution is given by: $\\ \\Psi_a(x,y) = x (1-x) y (1-y) (1-2 y)$"
   ]
  },
  {
   "cell_type": "code",
   "execution_count": 5,
   "metadata": {
    "hidden": true
   },
   "outputs": [],
   "source": [
    "def psi_a(x, y):\n",
    "    return K * x*(1-x)*y*(1-y)*(1-2*y)"
   ]
  },
  {
   "cell_type": "markdown",
   "metadata": {
    "hidden": true
   },
   "source": [
    "$$\\frac{\\partial}{\\partial x} \\Psi_a = (1-2x) y (1-y) (1-2 y)$$"
   ]
  },
  {
   "cell_type": "code",
   "execution_count": 6,
   "metadata": {
    "hidden": true
   },
   "outputs": [],
   "source": [
    "def psi_a_dx(x,y):\n",
    "    return K * (1-2*x)*y*(1-y)*(1-2*y)"
   ]
  },
  {
   "cell_type": "markdown",
   "metadata": {
    "hidden": true
   },
   "source": [
    "$$\\frac{\\partial}{\\partial y} \\Psi_a = x (1-x) (1-6y + 6y^2) $$"
   ]
  },
  {
   "cell_type": "code",
   "execution_count": 7,
   "metadata": {
    "hidden": true
   },
   "outputs": [],
   "source": [
    "def psi_a_dy(x,y):\n",
    "    return K * x*(1-x)*(1-6*y+6*(y**2))"
   ]
  },
  {
   "cell_type": "markdown",
   "metadata": {
    "heading_collapsed": true,
    "hidden": true
   },
   "source": [
    "## Neural Network"
   ]
  },
  {
   "cell_type": "markdown",
   "metadata": {
    "hidden": true
   },
   "source": [
    "The output of neural network $N(x,y,\\vec{p})$, where $\\vec{p} = [w, u, v]$:\n",
    "$$N = \\sum_i^H v_i \\sigma(z_i) \\text{, where } z_i = w_{i0} x + w_{i1} y + u_i$$"
   ]
  },
  {
   "cell_type": "code",
   "execution_count": 8,
   "metadata": {
    "code_folding": [],
    "hidden": true
   },
   "outputs": [],
   "source": [
    "def z(x, y, p):\n",
    "    z_x = np.multiply(x, p[0][0])\n",
    "    z_y = np.multiply(y, p[0][1])\n",
    "    z_ = np.array([z_x, z_y, p[1]]).sum(axis=0)\n",
    "    return z_\n",
    "\n",
    "def N(x, y, p):\n",
    "    return np.sum(np.multiply(sig(z(x,y,p)), p[2]))"
   ]
  },
  {
   "cell_type": "markdown",
   "metadata": {
    "hidden": true
   },
   "source": [
    "$$\\frac{\\partial^k N}{\\partial x_j^k} = \\sum_{i=1}^H v_i w_{ij}^k \\sigma^{(k)}$$"
   ]
  },
  {
   "cell_type": "code",
   "execution_count": 9,
   "metadata": {
    "code_folding": [],
    "hidden": true
   },
   "outputs": [],
   "source": [
    "def dN_dxj_k(x, y, p, j, k):\n",
    "    wj = p[0][j]\n",
    "    v = p[2]\n",
    "    z_ = z(x, y, p)\n",
    "    \n",
    "    return np.sum(v * (wj**k) * sig_pr(z_, k))"
   ]
  },
  {
   "cell_type": "markdown",
   "metadata": {
    "hidden": true
   },
   "source": [
    "$$\\frac{\\partial N}{\\partial w_j} = x_j v \\sigma '$$"
   ]
  },
  {
   "cell_type": "code",
   "execution_count": 10,
   "metadata": {
    "code_folding": [],
    "hidden": true
   },
   "outputs": [],
   "source": [
    "def dN_dwj(x, y, p, j):\n",
    "    xj = x if j==0 else y\n",
    "    v = p[2]\n",
    "    z_ = z(x, y, p)\n",
    "    return xj * v * sig1(z_)"
   ]
  },
  {
   "cell_type": "markdown",
   "metadata": {
    "hidden": true
   },
   "source": [
    "$$ \\frac{\\partial}{\\partial w_j} \\frac{\\partial N}{\\partial x_k} = x_j v w_k \\sigma'' + v_i \\sigma' \\quad\\text{ if } j = k$$\n",
    "\n",
    "$$ \\frac{\\partial}{\\partial w_j} \\frac{\\partial N}{\\partial x_k} = x_j v w_k \\sigma'' \\quad\\text{ if } j \\neq k$$"
   ]
  },
  {
   "cell_type": "code",
   "execution_count": 11,
   "metadata": {
    "code_folding": [],
    "hidden": true
   },
   "outputs": [],
   "source": [
    "def d_dwj_dN_dxk(x, y, p, j, k):\n",
    "    xj = x if j==0 else y\n",
    "    wk = p[0][k]\n",
    "    jk = 1 if j==k else 0\n",
    "    v = p[2]\n",
    "    z_ = z(x, y, p)\n",
    "    return xj * v * wk * sig2(z_) + jk * v * sig1(z_)"
   ]
  },
  {
   "cell_type": "markdown",
   "metadata": {
    "hidden": true
   },
   "source": [
    "$$ \\frac{\\partial}{\\partial w_j} \\frac{\\partial^2 N}{\\partial x_k^2} = x_j v w_k^2 \\sigma^{(3)} + 2 v w_k \\sigma'' \\quad\\text{ if } j = k $$\n",
    "\n",
    "$$ \\frac{\\partial}{\\partial w_j} \\frac{\\partial^2 N}{\\partial x_k^2} = x_j v w_k^2 \\sigma^{(3)} \\quad\\text{ if } j \\neq k $$"
   ]
  },
  {
   "cell_type": "code",
   "execution_count": 12,
   "metadata": {
    "code_folding": [],
    "hidden": true
   },
   "outputs": [],
   "source": [
    "def d_dwj_dN2_dxk2(x, y, p, j, k):\n",
    "    xj = x if j==0 else y\n",
    "    wk = p[0][k]\n",
    "    jk = 1 if j==k else 0\n",
    "    v = p[2]\n",
    "    z_ = z(x, y, p)\n",
    "    return xj * v * (wk**2) * sig3(z_) + jk * 2 * v * wk * sig2(z_)"
   ]
  },
  {
   "cell_type": "markdown",
   "metadata": {
    "hidden": true
   },
   "source": [
    "$$ \\frac{\\partial}{\\partial u} \\frac{\\partial^k}{\\partial x_j^k} N = v w_j^k \\sigma^{(k+1)} $$"
   ]
  },
  {
   "cell_type": "code",
   "execution_count": 13,
   "metadata": {
    "code_folding": [],
    "hidden": true
   },
   "outputs": [],
   "source": [
    "def d_du_dkN(x, y, p, j, k):\n",
    "    v = p[2]\n",
    "    wj = p[0][j]\n",
    "    z_ = z(x, y, p)\n",
    "    return v * (wj**k) * sig_pr(z_, k+1)"
   ]
  },
  {
   "cell_type": "markdown",
   "metadata": {
    "hidden": true
   },
   "source": [
    "$$ \\frac{\\partial}{\\partial v} \\frac{\\partial^k}{\\partial x_j^k} N = w_j^k \\sigma^{(k)} $$"
   ]
  },
  {
   "cell_type": "code",
   "execution_count": 14,
   "metadata": {
    "code_folding": [],
    "hidden": true
   },
   "outputs": [],
   "source": [
    "def d_dv_dkN(x, y, p, j, k):\n",
    "    wj = p[0][j]\n",
    "    z_ = z(x, y, p)\n",
    "    return (wj**k) * sig_pr(z_, k)"
   ]
  },
  {
   "cell_type": "markdown",
   "metadata": {
    "heading_collapsed": true,
    "hidden": true
   },
   "source": [
    "## Trial solution"
   ]
  },
  {
   "cell_type": "markdown",
   "metadata": {
    "hidden": true
   },
   "source": [
    "The trial solution is given by: $$\\Psi_t(x,y) = x(1-x)y(1-y)N(x,y,\\vec{p})$$"
   ]
  },
  {
   "cell_type": "code",
   "execution_count": 15,
   "metadata": {
    "hidden": true
   },
   "outputs": [],
   "source": [
    "def psi_t(x, y, p):\n",
    "    return x * (1-x) * y * (1-y) * N(x, y, p)"
   ]
  },
  {
   "cell_type": "markdown",
   "metadata": {
    "hidden": true
   },
   "source": [
    "$$\\frac{\\partial \\Psi_t}{\\partial x_j} = y_j(1-y_j)\\left[ (1-2x_j) N + x_j (1-x_j) \\frac{\\partial N}{\\partial x_j} \\right]$$"
   ]
  },
  {
   "cell_type": "code",
   "execution_count": 16,
   "metadata": {
    "hidden": true
   },
   "outputs": [],
   "source": [
    "def dPsi_dxj(x, y, p, j):\n",
    "    xj = x if j==0 else y\n",
    "    yj = y if j==0 else x\n",
    "    return yj*(1-yj)*((1-2*xj)*N(x,y,p) + xj*(1-xj)*dN_dxj_k(x,y,p,j,1))"
   ]
  },
  {
   "cell_type": "markdown",
   "metadata": {
    "hidden": true
   },
   "source": [
    "$$\\frac{\\partial^2 \\Psi_t}{\\partial x_j^2} = y_j(1-y_j)\\left[ -2N + (2-4x_j) \\frac{\\partial N}{\\partial x_j} + x_j (1-x_j) \\frac{\\partial^2 N}{\\partial x_j^2} \\right]$$"
   ]
  },
  {
   "cell_type": "code",
   "execution_count": 17,
   "metadata": {
    "hidden": true
   },
   "outputs": [],
   "source": [
    "def dPsi2_dxj2(x, y, p, j):\n",
    "    xj = x if j==0 else y\n",
    "    yj = y if j==0 else x\n",
    "    return yj*(1-yj)*(-2*N(x,y,p) + (2-4*xj)*dN_dxj_k(x,y,p,j,1) + xj*(1-xj)*dN_dxj_k(x,y,p,j,2))"
   ]
  },
  {
   "cell_type": "markdown",
   "metadata": {
    "heading_collapsed": true,
    "hidden": true
   },
   "source": [
    "## Cost function"
   ]
  },
  {
   "cell_type": "markdown",
   "metadata": {
    "hidden": true
   },
   "source": [
    "$$E[\\vec{p}] = \\sum_{i \\in \\hat{D}} \\left\\{ \\frac{\\partial^2 \\Psi_t}{\\partial x^2} + \\frac{\\partial^2 \\Psi_t}{\\partial y^2} - f(x,y) \\right\\}^2 $$"
   ]
  },
  {
   "cell_type": "code",
   "execution_count": 18,
   "metadata": {
    "hidden": true
   },
   "outputs": [],
   "source": [
    "def error(x, y, p):\n",
    "    return dPsi2_dxj2(x,y,p,0) + dPsi2_dxj2(x,y,p,1) - f(x,y)"
   ]
  },
  {
   "cell_type": "code",
   "execution_count": 19,
   "metadata": {
    "code_folding": [],
    "hidden": true
   },
   "outputs": [],
   "source": [
    "def cost(points, p):\n",
    "    err = []\n",
    "    for x, y in points:\n",
    "        err_sq = error(x, y, p)**2\n",
    "        err.append(err_sq)\n",
    "        \n",
    "    cost = sum(err)\n",
    "    \n",
    "    return cost"
   ]
  },
  {
   "cell_type": "code",
   "execution_count": 20,
   "metadata": {
    "hidden": true
   },
   "outputs": [],
   "source": [
    "def relative_err(p, nx=100, all_points=None):\n",
    "    if all_points == None:\n",
    "        all_points = list(itertools.product(np.linspace(0, 1, nx), np.linspace(0, 1, nx)))\n",
    "\n",
    "    dOmega = 1. / len(all_points)\n",
    "\n",
    "    trial1 = np.sum(dOmega*np.array([np.linalg.norm(psi_t(x,y,p) - psi_a(x,y))**2\n",
    "                                     for x, y in all_points]))\n",
    "\n",
    "    trial2 = np.sum([dOmega*((dPsi_dxj(x,y,p,0)-psi_a_dx(x,y))**2 +\n",
    "                             (dPsi_dxj(x,y,p,1)-psi_a_dy(x,y))**2)\n",
    "                     for x, y in all_points])\n",
    "\n",
    "    ana1 = np.sum(dOmega*np.array([np.linalg.norm(psi_a(x,y))**2\n",
    "                                         for x, y in all_points]))\n",
    "    ana2 = np.sum([dOmega*(psi_a_dx(x,y)**2 + psi_a_dy(x,y)**2)\n",
    "                   for x, y in all_points])\n",
    "    \n",
    "    rel_err = (trial1 + trial2)**(1/2) / (ana1 + ana2)**(1/2)\n",
    "    \n",
    "    return rel_err"
   ]
  },
  {
   "cell_type": "markdown",
   "metadata": {
    "heading_collapsed": true
   },
   "source": [
    "# Gradients"
   ]
  },
  {
   "cell_type": "markdown",
   "metadata": {
    "hidden": true
   },
   "source": [
    "$$\\frac{\\partial}{\\partial w_j} \\frac{\\partial^2 \\Psi_t}{\\partial x_k^2} = y_k(1-y_k)\\left[ -2\\frac{\\partial N}{\\partial w_j} + (2-4x_k) \\frac{\\partial}{\\partial w_j} \\frac{\\partial N}{\\partial x_k} + x_k(1-x_k) \\frac{\\partial}{\\partial w_j} \\frac{\\partial^2 N}{\\partial x_k^2} \\right]$$"
   ]
  },
  {
   "cell_type": "code",
   "execution_count": 21,
   "metadata": {
    "hidden": true
   },
   "outputs": [],
   "source": [
    "def d_dwj_dPsi2_dxk2(x, y, p, j, k):\n",
    "    xj = x if k==0 else y\n",
    "    yj = y if k==0 else x\n",
    "    return yj*(1-yj)*(-2*dN_dwj(x,y,p,j) + (2-4*xj)*d_dwj_dN_dxk(x,y,p,j,k) + xj*(1-xj)*d_dwj_dN2_dxk2(x,y,p,j,k))"
   ]
  },
  {
   "cell_type": "markdown",
   "metadata": {
    "hidden": true
   },
   "source": [
    "$$\\frac{\\partial}{\\partial u} \\frac{\\partial^2 \\Psi_t}{\\partial x_k^2} = y_k(1-y_k)\\left[ -2\\frac{\\partial N}{\\partial u} + (2-4x_k) \\frac{\\partial}{\\partial u} \\frac{\\partial N}{\\partial x_k} + x_k(1-x_k) \\frac{\\partial}{\\partial u} \\frac{\\partial^2 N}{\\partial x_k^2} \\right]$$"
   ]
  },
  {
   "cell_type": "code",
   "execution_count": 22,
   "metadata": {
    "hidden": true
   },
   "outputs": [],
   "source": [
    "def d_du_dPsi2_dxk2(x, y, p, k):\n",
    "    xj = x if k==0 else y\n",
    "    yj = y if k==0 else x\n",
    "    return yj*(1-yj)*(-2*d_du_dkN(x,y,p,k,0) + (2-4*xj)*d_du_dkN(x,y,p,k,1) + xj*(1-xj)*d_du_dkN(x,y,p,k,2))"
   ]
  },
  {
   "cell_type": "markdown",
   "metadata": {
    "hidden": true
   },
   "source": [
    "$$\\frac{\\partial}{\\partial v} \\frac{\\partial^2 \\Psi_t}{\\partial x_k^2} = y_k(1-y_k)\\left[ -2\\frac{\\partial N}{\\partial v} + (2-4x_k) \\frac{\\partial}{\\partial v} \\frac{\\partial N}{\\partial x_k} + x_k(1-x_k) \\frac{\\partial}{\\partial v} \\frac{\\partial^2 N}{\\partial x_k^2} \\right]$$"
   ]
  },
  {
   "cell_type": "code",
   "execution_count": 23,
   "metadata": {
    "hidden": true
   },
   "outputs": [],
   "source": [
    "def d_dv_dPsi2_dxk2(x, y, p, k):\n",
    "    xj = x if k==0 else y\n",
    "    yj = y if k==0 else x\n",
    "    return yj*(1-yj)*(-2*d_dv_dkN(x,y,p,k,0) + (2-4*xj)*d_dv_dkN(x,y,p,k,1) + xj*(1-xj)*d_dv_dkN(x,y,p,k,2))"
   ]
  },
  {
   "cell_type": "markdown",
   "metadata": {
    "hidden": true
   },
   "source": [
    "$$ \\frac{\\partial E[\\vec{p}]}{\\partial w_j} = \\sum_{i \\in \\hat{D}} \\left\\{ 2 \\text{ (error) } \\left( \\frac{\\partial}{\\partial w_j} \\frac{\\partial^2 \\Psi_t}{\\partial x^2} + \\frac{\\partial}{\\partial w_j} \\frac{\\partial^2 \\Psi_t}{\\partial y^2} \\right) \\right\\}$$"
   ]
  },
  {
   "cell_type": "code",
   "execution_count": 24,
   "metadata": {
    "code_folding": [],
    "hidden": true
   },
   "outputs": [],
   "source": [
    "def dE_dwj(points, p, j):\n",
    "    t1 = []\n",
    "    for x, y in points:\n",
    "        tmp = 2 * error(x,y,p) * (d_dwj_dPsi2_dxk2(x,y,p,j,0) + \n",
    "                                  d_dwj_dPsi2_dxk2(x,y,p,j,1))\n",
    "        t1.append(tmp)\n",
    "    \n",
    "    grad = sum(t1)\n",
    "    \n",
    "    return grad"
   ]
  },
  {
   "cell_type": "markdown",
   "metadata": {
    "hidden": true
   },
   "source": [
    "$$ \\frac{\\partial E[\\vec{p}]}{\\partial u} = \\sum_{i \\in \\hat{D}} \\left\\{ 2 \\text{ (error) } \\left( \\frac{\\partial}{\\partial u} \\frac{\\partial^2 \\Psi_t}{\\partial x^2} + \\frac{\\partial}{\\partial u} \\frac{\\partial^2 \\Psi_t}{\\partial y^2} \\right) \\right\\}$$"
   ]
  },
  {
   "cell_type": "code",
   "execution_count": 25,
   "metadata": {
    "code_folding": [],
    "hidden": true
   },
   "outputs": [],
   "source": [
    "def dE_du(points, p):\n",
    "    t1 = []\n",
    "    for x, y in points:\n",
    "        tmp = 2 * error(x,y,p) * (d_du_dPsi2_dxk2(x,y,p,0) + \n",
    "                                  d_du_dPsi2_dxk2(x,y,p,1))\n",
    "        t1.append(tmp)\n",
    "    \n",
    "    grad = sum(t1)\n",
    "    \n",
    "    return grad"
   ]
  },
  {
   "cell_type": "markdown",
   "metadata": {
    "hidden": true
   },
   "source": [
    "$$ \\frac{\\partial E[\\vec{p}]}{\\partial v} = \\sum_{i \\in \\hat{D}} \\left\\{ 2 \\text{ (error) } \\left( \\frac{\\partial}{\\partial v} \\frac{\\partial^2 \\Psi_t}{\\partial x^2} + \\frac{\\partial}{\\partial v} \\frac{\\partial^2 \\Psi_t}{\\partial y^2} \\right) \\right\\}$$"
   ]
  },
  {
   "cell_type": "code",
   "execution_count": 26,
   "metadata": {
    "code_folding": [],
    "hidden": true
   },
   "outputs": [],
   "source": [
    "def dE_dv(points, p):\n",
    "    t1 = []\n",
    "    for x, y in points:\n",
    "        tmp = 2 * error(x,y,p) * (d_dv_dPsi2_dxk2(x,y,p,0) + \n",
    "                                  d_dv_dPsi2_dxk2(x,y,p,1))\n",
    "        t1.append(tmp)\n",
    "    \n",
    "    grad = sum(t1)\n",
    "    \n",
    "    return grad"
   ]
  },
  {
   "cell_type": "markdown",
   "metadata": {
    "heading_collapsed": true
   },
   "source": [
    "# NN class"
   ]
  },
  {
   "cell_type": "code",
   "execution_count": 27,
   "metadata": {
    "hidden": true
   },
   "outputs": [],
   "source": [
    "def initialize_p(hidden_nodes):\n",
    "    w1 = np.random.randn(hidden_nodes)\n",
    "    v = np.random.randn(hidden_nodes)\n",
    "    w0 = []\n",
    "    u = []\n",
    "\n",
    "    for w1_sample in w1:\n",
    "        x = []\n",
    "        y = []\n",
    "        for side in np.random.choice(4, 2, replace=False):\n",
    "            if side == 0:\n",
    "                x.append(0)\n",
    "                y.append(np.random.uniform(0.1,0.9,1)[0])\n",
    "            elif side == 1:\n",
    "                x.append(np.random.uniform(0.1,0.9,1)[0])\n",
    "                y.append(1)\n",
    "            elif side == 2:\n",
    "                x.append(1)\n",
    "                y.append(np.random.uniform(0.1,0.9,1)[0])\n",
    "            elif side == 3:\n",
    "                x.append(np.random.uniform(0.1,0.9,1)[0])\n",
    "                y.append(0)\n",
    "\n",
    "        slope = (y[1] - y[0]) / (x[1] - x[0])\n",
    "        w0.append(-slope * w1_sample)\n",
    "        u.append((slope*x[0] - y[0]) * w1_sample)\n",
    "\n",
    "    p = np.array([np.array([np.array(w0), np.array(w1)]), \n",
    "                  np.array(u), np.array(v)])\n",
    "    \n",
    "    return p"
   ]
  },
  {
   "cell_type": "code",
   "execution_count": 28,
   "metadata": {
    "hidden": true
   },
   "outputs": [],
   "source": [
    "def get_mini_batches(points, batch_size):\n",
    "    np.random.shuffle(points)\n",
    "    \n",
    "    no_of_splits = np.ceil(len(points) / batch_size)\n",
    "\n",
    "    mini_batch_points = np.array_split(points, no_of_splits)\n",
    "    \n",
    "    return mini_batch_points"
   ]
  },
  {
   "cell_type": "code",
   "execution_count": 29,
   "metadata": {
    "code_folding": [
     57,
     63
    ],
    "hidden": true
   },
   "outputs": [],
   "source": [
    "class NNTrain:\n",
    "    def __init__(self, nx=10, hidden_nodes=10, alpha=0.01, batch_size=50,\n",
    "                 beta=0.9, update_interval=50, if_rel_err=False,\n",
    "                 output_file='output/output.csv'):\n",
    "\n",
    "        self.output_file = output_file\n",
    "        self.training_started = False\n",
    "        self.nx = nx\n",
    "        self.hidden_nodes = hidden_nodes\n",
    "        self.alpha = alpha\n",
    "        self.batch_size = batch_size\n",
    "        self.beta = beta\n",
    "        self.update_interval = update_interval\n",
    "        self.points = list(itertools.product(\n",
    "            np.linspace(0, 1, nx), np.linspace(0, 1, nx)))\n",
    "        self.cost_rate = []\n",
    "        self.if_rel_err = if_rel_err\n",
    "        if self.if_rel_err:\n",
    "            self.rel_err = []\n",
    "        self.p = initialize_p(hidden_nodes)\n",
    "        self.m_t = np.array([np.zeros(hidden_nodes),\n",
    "                             np.zeros(hidden_nodes),\n",
    "                             np.zeros(hidden_nodes),\n",
    "                             np.zeros(hidden_nodes)])\n",
    "\n",
    "        \n",
    "    def sgd_mt(self, w, g_t, theta_0):\n",
    "        # gradient descent with momentum\n",
    "        self.m_t[w] = self.beta * self.m_t[w] + (1-self.beta) * g_t\n",
    "        theta_0 = theta_0 - (self.alpha*self.m_t[w])\n",
    "\n",
    "        return theta_0\n",
    "\n",
    "    \n",
    "    def train(self, itr=1000):\n",
    "        if self.training_started:\n",
    "            mode = 'a'\n",
    "        else:\n",
    "            mode = 'w'\n",
    "        self.training_started = True\n",
    "\n",
    "        with open(self.output_file, mode) as file:\n",
    "            if mode == 'w':\n",
    "                if self.if_rel_err:\n",
    "                    file.write(\n",
    "                        'Iteration,Cost,Cost Diff,Relative Error,Relative Error Diff\\n')\n",
    "                else:\n",
    "                    file.write('Iteration,Cost,Cost Diff\\n')\n",
    "            start = len(self.cost_rate)-1\n",
    "            if start < 1:\n",
    "                start += 1\n",
    "                self.cost_rate.append(cost(self.points, self.p))\n",
    "                if self.if_rel_err:\n",
    "                    self.rel_err.append(relative_err(\n",
    "                        self.p, all_points=self.points))\n",
    "\n",
    "            i = start\n",
    "            while i < start+itr:\n",
    "                mini_batch_points = get_mini_batches(\n",
    "                    self.points, self.batch_size)\n",
    "\n",
    "                for mini_point in mini_batch_points:\n",
    "                    mini_point = list(mini_point)\n",
    "\n",
    "                    g_w0 = dE_dwj(mini_point, self.p, 0)\n",
    "                    g_w1 = dE_dwj(mini_point, self.p, 1)\n",
    "                    g_u = dE_du(mini_point, self.p)\n",
    "                    g_v = dE_dv(mini_point, self.p)\n",
    "\n",
    "                    self.p[0][0] = self.sgd_mt(0, g_w0, self.p[0][0])\n",
    "                    self.p[0][1] = self.sgd_mt(1, g_w1, self.p[0][1])\n",
    "                    self.p[1] = self.sgd_mt(2, g_u, self.p[1])\n",
    "                    self.p[2] = self.sgd_mt(3, g_v, self.p[2])\n",
    "\n",
    "                self.cost_rate.append(cost(self.points, self.p))\n",
    "                cost_diff = self.cost_rate[i]-self.cost_rate[i+1]\n",
    "                if self.if_rel_err:\n",
    "                    self.rel_err.append(relative_err(\n",
    "                        self.p, all_points=self.points))\n",
    "                    rel_diff = self.rel_err[i]-self.rel_err[i+1]\n",
    "\n",
    "                if self.if_rel_err:\n",
    "                    file.write('{},{:.8f},{:.8f},{:.8f},{:.8f}\\n'.format(\n",
    "                        i+1, self.cost_rate[i+1], cost_diff,\n",
    "                        self.rel_err[i+1], rel_diff))\n",
    "                else:\n",
    "                    file.write('{},{:.8f},{:.8f}\\n'.format(\n",
    "                        i+1, self.cost_rate[i+1], cost_diff))\n",
    "\n",
    "                if i % self.update_interval == 0:\n",
    "                    file.flush()\n",
    "\n",
    "                i += 1\n",
    "\n",
    "                \n",
    "    def save_result(self, output_name=''):\n",
    "        timestr = time.strftime(\"%Y%m%d-%H%M\")\n",
    "        np.savez('output/' + timestr + '_' +\n",
    "                 output_name + '_nn_params.npz', self.p)\n",
    "        np.savez('output/' + timestr + '_' + output_name +\n",
    "                 '_cost_rate.npz', self.cost_rate)\n",
    "        if self.if_rel_err:\n",
    "            np.savez('output/' + timestr + '_' +\n",
    "                     output_name + '_rel_err.npz', self.rel_err)"
   ]
  },
  {
   "cell_type": "code",
   "execution_count": null,
   "metadata": {
    "hidden": true
   },
   "outputs": [],
   "source": []
  },
  {
   "cell_type": "markdown",
   "metadata": {
    "heading_collapsed": true
   },
   "source": [
    "# Graphs"
   ]
  },
  {
   "cell_type": "code",
   "execution_count": 30,
   "metadata": {
    "hidden": true
   },
   "outputs": [],
   "source": [
    "%matplotlib notebook\n",
    "%matplotlib notebook"
   ]
  },
  {
   "cell_type": "markdown",
   "metadata": {
    "heading_collapsed": true,
    "hidden": true
   },
   "source": [
    "## Hidden Nodes"
   ]
  },
  {
   "cell_type": "code",
   "execution_count": 31,
   "metadata": {
    "hidden": true
   },
   "outputs": [],
   "source": [
    "def plot_nodes(a, save_name=None, save=True, zlim=True):\n",
    "    p = a.p\n",
    "    hmax = a.p[0][0].shape[0]\n",
    "    col = int(np.sqrt(hmax)) if int(np.sqrt(hmax)) < 10 else 10\n",
    "    row = np.ceil(hmax / col)\n",
    "    \n",
    "    d_x=0.1\n",
    "\n",
    "    fig = plt.figure(figsize=(col*3, row*3), dpi=100)\n",
    "    for h in range(1,hmax+1):\n",
    "        ax = fig.add_subplot(row,col,h, projection='3d')\n",
    "        x = y = np.arange(0, 1+d_x, d_x)\n",
    "        X, Y = np.meshgrid(x, y)\n",
    "\n",
    "        zs = np.array([p[1][h-1]*sig(z(x,y,p))[h-1] for x,y in zip(np.ravel(X), np.ravel(Y))])\n",
    "        Z = zs.reshape(X.shape)\n",
    "\n",
    "        ax.set_xlabel('x')\n",
    "        ax.set_ylabel('y')\n",
    "        if zlim:\n",
    "            ax.set_zlim(0,1)\n",
    "\n",
    "        ax.plot_surface(X, Y, Z, cmap=cm.coolwarm)\n",
    "        ax.title.set_text('HN: ' + str(h) + ', v=' + \"{:.4E}\".format(p[1][h-1]))\n",
    "        time.sleep(0.2)\n",
    "\n",
    "    if save==True:\n",
    "        if save_name is None: \n",
    "            plt.savefig('t'+str(T)+'_h'+str(hmax)+'_n'+str(a.nx)+'.png')\n",
    "        else:\n",
    "            plt.savefig(save_name)\n",
    "    else:\n",
    "        plt.show()"
   ]
  },
  {
   "cell_type": "markdown",
   "metadata": {
    "heading_collapsed": true,
    "hidden": true
   },
   "source": [
    "## Error vs Iterations"
   ]
  },
  {
   "cell_type": "code",
   "execution_count": 32,
   "metadata": {
    "hidden": true
   },
   "outputs": [],
   "source": [
    "def plot_iteration(arr, min_it=0, max_it=None):\n",
    "    plt.figure()\n",
    "    plt.plot(np.arange(len(arr[min_it:max_it])), np.array(arr[min_it:max_it]))\n",
    "    plt.show()"
   ]
  },
  {
   "cell_type": "markdown",
   "metadata": {
    "heading_collapsed": true,
    "hidden": true
   },
   "source": [
    "## Solution Accuracy on the domain"
   ]
  },
  {
   "cell_type": "code",
   "execution_count": 33,
   "metadata": {
    "hidden": true
   },
   "outputs": [],
   "source": [
    "def plot_fun(fun, zlim=False, title=None, return_ax=False, **kwargs):\n",
    "    d_x=0.01\n",
    "    fig = plt.figure()\n",
    "    ax = fig.add_subplot(111, projection='3d')\n",
    "    x = y = np.arange(0, 1.0+d_x, d_x)\n",
    "    X, Y = np.meshgrid(x, y)\n",
    "\n",
    "    zs = np.array([fun(x,y,**kwargs) for x,y in zip(np.ravel(X), np.ravel(Y))])\n",
    "    Z = zs.reshape(X.shape)\n",
    "\n",
    "    ax.plot_surface(X, Y, Z, cmap=cm.coolwarm_r)\n",
    "    # ax.ticklabel_format(style='sci', axis='z', scilimits=(0,0), useOffset=True, useMathText=True)\n",
    "\n",
    "\n",
    "    ax.set_xlabel('x')\n",
    "    ax.set_ylabel('y')\n",
    "    ax.title.set_text(title)\n",
    "    \n",
    "    if zlim:\n",
    "        ax.set_zlim(0,1)\n",
    "\n",
    "    if return_ax:\n",
    "        return ax\n",
    "    else:\n",
    "        plt.show()"
   ]
  },
  {
   "cell_type": "code",
   "execution_count": 34,
   "metadata": {
    "hidden": true
   },
   "outputs": [],
   "source": [
    "def plot_partitions(p):\n",
    "    plt.plot([0,0,1,1,0], [0,1,1,0,0], linewidth=3)\n",
    "\n",
    "    for HN in range(len(p[1])):\n",
    "        x = np.linspace(-1,2,500)\n",
    "        y = -(p[1][HN] + p[0][0][HN]*x) / p[0][1][HN]\n",
    "\n",
    "        plt.plot(x, y, label=HN)\n",
    "\n",
    "    plt.xlim(-1,2)\n",
    "    plt.ylim(-1,2)"
   ]
  },
  {
   "cell_type": "markdown",
   "metadata": {},
   "source": [
    "# Training"
   ]
  },
  {
   "cell_type": "code",
   "execution_count": 51,
   "metadata": {},
   "outputs": [],
   "source": [
    "K=10\n",
    "a = NNTrain(nx=60, hidden_nodes=15, alpha=1e-4, batch_size=50, update_interval=10, if_rel_err=True, output_file='out/out2.csv')"
   ]
  },
  {
   "cell_type": "code",
   "execution_count": null,
   "metadata": {},
   "outputs": [],
   "source": [
    "p=[]\n",
    "p.append(copy.deepcopy(a.p))\n",
    "a.train(100)"
   ]
  },
  {
   "cell_type": "code",
   "execution_count": null,
   "metadata": {
    "scrolled": true
   },
   "outputs": [],
   "source": [
    "thresh=1e-5\n",
    "\n",
    "for i in range(10000):\n",
    "    p.append(copy.deepcopy(a.p))\n",
    "    if np.mean([np.abs(s-t) for s, t in zip(a.cost_rate[-21:], a.cost_rate[-20:])]) < thresh:\n",
    "        break\n",
    "    a.train(100)"
   ]
  },
  {
   "cell_type": "markdown",
   "metadata": {},
   "source": [
    "Etc"
   ]
  },
  {
   "cell_type": "code",
   "execution_count": 55,
   "metadata": {},
   "outputs": [
    {
     "name": "stdout",
     "output_type": "stream",
     "text": [
      "relative error: 0.000579584089882615\n"
     ]
    }
   ],
   "source": [
    "print('relative error:', relative_err(a.p, nx=100))"
   ]
  },
  {
   "cell_type": "code",
   "execution_count": 56,
   "metadata": {},
   "outputs": [
    {
     "data": {
      "application/javascript": [
       "/* Put everything inside the global mpl namespace */\n",
       "window.mpl = {};\n",
       "\n",
       "\n",
       "mpl.get_websocket_type = function() {\n",
       "    if (typeof(WebSocket) !== 'undefined') {\n",
       "        return WebSocket;\n",
       "    } else if (typeof(MozWebSocket) !== 'undefined') {\n",
       "        return MozWebSocket;\n",
       "    } else {\n",
       "        alert('Your browser does not have WebSocket support.' +\n",
       "              'Please try Chrome, Safari or Firefox ≥ 6. ' +\n",
       "              'Firefox 4 and 5 are also supported but you ' +\n",
       "              'have to enable WebSockets in about:config.');\n",
       "    };\n",
       "}\n",
       "\n",
       "mpl.figure = function(figure_id, websocket, ondownload, parent_element) {\n",
       "    this.id = figure_id;\n",
       "\n",
       "    this.ws = websocket;\n",
       "\n",
       "    this.supports_binary = (this.ws.binaryType != undefined);\n",
       "\n",
       "    if (!this.supports_binary) {\n",
       "        var warnings = document.getElementById(\"mpl-warnings\");\n",
       "        if (warnings) {\n",
       "            warnings.style.display = 'block';\n",
       "            warnings.textContent = (\n",
       "                \"This browser does not support binary websocket messages. \" +\n",
       "                    \"Performance may be slow.\");\n",
       "        }\n",
       "    }\n",
       "\n",
       "    this.imageObj = new Image();\n",
       "\n",
       "    this.context = undefined;\n",
       "    this.message = undefined;\n",
       "    this.canvas = undefined;\n",
       "    this.rubberband_canvas = undefined;\n",
       "    this.rubberband_context = undefined;\n",
       "    this.format_dropdown = undefined;\n",
       "\n",
       "    this.image_mode = 'full';\n",
       "\n",
       "    this.root = $('<div/>');\n",
       "    this._root_extra_style(this.root)\n",
       "    this.root.attr('style', 'display: inline-block');\n",
       "\n",
       "    $(parent_element).append(this.root);\n",
       "\n",
       "    this._init_header(this);\n",
       "    this._init_canvas(this);\n",
       "    this._init_toolbar(this);\n",
       "\n",
       "    var fig = this;\n",
       "\n",
       "    this.waiting = false;\n",
       "\n",
       "    this.ws.onopen =  function () {\n",
       "            fig.send_message(\"supports_binary\", {value: fig.supports_binary});\n",
       "            fig.send_message(\"send_image_mode\", {});\n",
       "            if (mpl.ratio != 1) {\n",
       "                fig.send_message(\"set_dpi_ratio\", {'dpi_ratio': mpl.ratio});\n",
       "            }\n",
       "            fig.send_message(\"refresh\", {});\n",
       "        }\n",
       "\n",
       "    this.imageObj.onload = function() {\n",
       "            if (fig.image_mode == 'full') {\n",
       "                // Full images could contain transparency (where diff images\n",
       "                // almost always do), so we need to clear the canvas so that\n",
       "                // there is no ghosting.\n",
       "                fig.context.clearRect(0, 0, fig.canvas.width, fig.canvas.height);\n",
       "            }\n",
       "            fig.context.drawImage(fig.imageObj, 0, 0);\n",
       "        };\n",
       "\n",
       "    this.imageObj.onunload = function() {\n",
       "        fig.ws.close();\n",
       "    }\n",
       "\n",
       "    this.ws.onmessage = this._make_on_message_function(this);\n",
       "\n",
       "    this.ondownload = ondownload;\n",
       "}\n",
       "\n",
       "mpl.figure.prototype._init_header = function() {\n",
       "    var titlebar = $(\n",
       "        '<div class=\"ui-dialog-titlebar ui-widget-header ui-corner-all ' +\n",
       "        'ui-helper-clearfix\"/>');\n",
       "    var titletext = $(\n",
       "        '<div class=\"ui-dialog-title\" style=\"width: 100%; ' +\n",
       "        'text-align: center; padding: 3px;\"/>');\n",
       "    titlebar.append(titletext)\n",
       "    this.root.append(titlebar);\n",
       "    this.header = titletext[0];\n",
       "}\n",
       "\n",
       "\n",
       "\n",
       "mpl.figure.prototype._canvas_extra_style = function(canvas_div) {\n",
       "\n",
       "}\n",
       "\n",
       "\n",
       "mpl.figure.prototype._root_extra_style = function(canvas_div) {\n",
       "\n",
       "}\n",
       "\n",
       "mpl.figure.prototype._init_canvas = function() {\n",
       "    var fig = this;\n",
       "\n",
       "    var canvas_div = $('<div/>');\n",
       "\n",
       "    canvas_div.attr('style', 'position: relative; clear: both; outline: 0');\n",
       "\n",
       "    function canvas_keyboard_event(event) {\n",
       "        return fig.key_event(event, event['data']);\n",
       "    }\n",
       "\n",
       "    canvas_div.keydown('key_press', canvas_keyboard_event);\n",
       "    canvas_div.keyup('key_release', canvas_keyboard_event);\n",
       "    this.canvas_div = canvas_div\n",
       "    this._canvas_extra_style(canvas_div)\n",
       "    this.root.append(canvas_div);\n",
       "\n",
       "    var canvas = $('<canvas/>');\n",
       "    canvas.addClass('mpl-canvas');\n",
       "    canvas.attr('style', \"left: 0; top: 0; z-index: 0; outline: 0\")\n",
       "\n",
       "    this.canvas = canvas[0];\n",
       "    this.context = canvas[0].getContext(\"2d\");\n",
       "\n",
       "    var backingStore = this.context.backingStorePixelRatio ||\n",
       "\tthis.context.webkitBackingStorePixelRatio ||\n",
       "\tthis.context.mozBackingStorePixelRatio ||\n",
       "\tthis.context.msBackingStorePixelRatio ||\n",
       "\tthis.context.oBackingStorePixelRatio ||\n",
       "\tthis.context.backingStorePixelRatio || 1;\n",
       "\n",
       "    mpl.ratio = (window.devicePixelRatio || 1) / backingStore;\n",
       "\n",
       "    var rubberband = $('<canvas/>');\n",
       "    rubberband.attr('style', \"position: absolute; left: 0; top: 0; z-index: 1;\")\n",
       "\n",
       "    var pass_mouse_events = true;\n",
       "\n",
       "    canvas_div.resizable({\n",
       "        start: function(event, ui) {\n",
       "            pass_mouse_events = false;\n",
       "        },\n",
       "        resize: function(event, ui) {\n",
       "            fig.request_resize(ui.size.width, ui.size.height);\n",
       "        },\n",
       "        stop: function(event, ui) {\n",
       "            pass_mouse_events = true;\n",
       "            fig.request_resize(ui.size.width, ui.size.height);\n",
       "        },\n",
       "    });\n",
       "\n",
       "    function mouse_event_fn(event) {\n",
       "        if (pass_mouse_events)\n",
       "            return fig.mouse_event(event, event['data']);\n",
       "    }\n",
       "\n",
       "    rubberband.mousedown('button_press', mouse_event_fn);\n",
       "    rubberband.mouseup('button_release', mouse_event_fn);\n",
       "    // Throttle sequential mouse events to 1 every 20ms.\n",
       "    rubberband.mousemove('motion_notify', mouse_event_fn);\n",
       "\n",
       "    rubberband.mouseenter('figure_enter', mouse_event_fn);\n",
       "    rubberband.mouseleave('figure_leave', mouse_event_fn);\n",
       "\n",
       "    canvas_div.on(\"wheel\", function (event) {\n",
       "        event = event.originalEvent;\n",
       "        event['data'] = 'scroll'\n",
       "        if (event.deltaY < 0) {\n",
       "            event.step = 1;\n",
       "        } else {\n",
       "            event.step = -1;\n",
       "        }\n",
       "        mouse_event_fn(event);\n",
       "    });\n",
       "\n",
       "    canvas_div.append(canvas);\n",
       "    canvas_div.append(rubberband);\n",
       "\n",
       "    this.rubberband = rubberband;\n",
       "    this.rubberband_canvas = rubberband[0];\n",
       "    this.rubberband_context = rubberband[0].getContext(\"2d\");\n",
       "    this.rubberband_context.strokeStyle = \"#000000\";\n",
       "\n",
       "    this._resize_canvas = function(width, height) {\n",
       "        // Keep the size of the canvas, canvas container, and rubber band\n",
       "        // canvas in synch.\n",
       "        canvas_div.css('width', width)\n",
       "        canvas_div.css('height', height)\n",
       "\n",
       "        canvas.attr('width', width * mpl.ratio);\n",
       "        canvas.attr('height', height * mpl.ratio);\n",
       "        canvas.attr('style', 'width: ' + width + 'px; height: ' + height + 'px;');\n",
       "\n",
       "        rubberband.attr('width', width);\n",
       "        rubberband.attr('height', height);\n",
       "    }\n",
       "\n",
       "    // Set the figure to an initial 600x600px, this will subsequently be updated\n",
       "    // upon first draw.\n",
       "    this._resize_canvas(600, 600);\n",
       "\n",
       "    // Disable right mouse context menu.\n",
       "    $(this.rubberband_canvas).bind(\"contextmenu\",function(e){\n",
       "        return false;\n",
       "    });\n",
       "\n",
       "    function set_focus () {\n",
       "        canvas.focus();\n",
       "        canvas_div.focus();\n",
       "    }\n",
       "\n",
       "    window.setTimeout(set_focus, 100);\n",
       "}\n",
       "\n",
       "mpl.figure.prototype._init_toolbar = function() {\n",
       "    var fig = this;\n",
       "\n",
       "    var nav_element = $('<div/>')\n",
       "    nav_element.attr('style', 'width: 100%');\n",
       "    this.root.append(nav_element);\n",
       "\n",
       "    // Define a callback function for later on.\n",
       "    function toolbar_event(event) {\n",
       "        return fig.toolbar_button_onclick(event['data']);\n",
       "    }\n",
       "    function toolbar_mouse_event(event) {\n",
       "        return fig.toolbar_button_onmouseover(event['data']);\n",
       "    }\n",
       "\n",
       "    for(var toolbar_ind in mpl.toolbar_items) {\n",
       "        var name = mpl.toolbar_items[toolbar_ind][0];\n",
       "        var tooltip = mpl.toolbar_items[toolbar_ind][1];\n",
       "        var image = mpl.toolbar_items[toolbar_ind][2];\n",
       "        var method_name = mpl.toolbar_items[toolbar_ind][3];\n",
       "\n",
       "        if (!name) {\n",
       "            // put a spacer in here.\n",
       "            continue;\n",
       "        }\n",
       "        var button = $('<button/>');\n",
       "        button.addClass('ui-button ui-widget ui-state-default ui-corner-all ' +\n",
       "                        'ui-button-icon-only');\n",
       "        button.attr('role', 'button');\n",
       "        button.attr('aria-disabled', 'false');\n",
       "        button.click(method_name, toolbar_event);\n",
       "        button.mouseover(tooltip, toolbar_mouse_event);\n",
       "\n",
       "        var icon_img = $('<span/>');\n",
       "        icon_img.addClass('ui-button-icon-primary ui-icon');\n",
       "        icon_img.addClass(image);\n",
       "        icon_img.addClass('ui-corner-all');\n",
       "\n",
       "        var tooltip_span = $('<span/>');\n",
       "        tooltip_span.addClass('ui-button-text');\n",
       "        tooltip_span.html(tooltip);\n",
       "\n",
       "        button.append(icon_img);\n",
       "        button.append(tooltip_span);\n",
       "\n",
       "        nav_element.append(button);\n",
       "    }\n",
       "\n",
       "    var fmt_picker_span = $('<span/>');\n",
       "\n",
       "    var fmt_picker = $('<select/>');\n",
       "    fmt_picker.addClass('mpl-toolbar-option ui-widget ui-widget-content');\n",
       "    fmt_picker_span.append(fmt_picker);\n",
       "    nav_element.append(fmt_picker_span);\n",
       "    this.format_dropdown = fmt_picker[0];\n",
       "\n",
       "    for (var ind in mpl.extensions) {\n",
       "        var fmt = mpl.extensions[ind];\n",
       "        var option = $(\n",
       "            '<option/>', {selected: fmt === mpl.default_extension}).html(fmt);\n",
       "        fmt_picker.append(option)\n",
       "    }\n",
       "\n",
       "    // Add hover states to the ui-buttons\n",
       "    $( \".ui-button\" ).hover(\n",
       "        function() { $(this).addClass(\"ui-state-hover\");},\n",
       "        function() { $(this).removeClass(\"ui-state-hover\");}\n",
       "    );\n",
       "\n",
       "    var status_bar = $('<span class=\"mpl-message\"/>');\n",
       "    nav_element.append(status_bar);\n",
       "    this.message = status_bar[0];\n",
       "}\n",
       "\n",
       "mpl.figure.prototype.request_resize = function(x_pixels, y_pixels) {\n",
       "    // Request matplotlib to resize the figure. Matplotlib will then trigger a resize in the client,\n",
       "    // which will in turn request a refresh of the image.\n",
       "    this.send_message('resize', {'width': x_pixels, 'height': y_pixels});\n",
       "}\n",
       "\n",
       "mpl.figure.prototype.send_message = function(type, properties) {\n",
       "    properties['type'] = type;\n",
       "    properties['figure_id'] = this.id;\n",
       "    this.ws.send(JSON.stringify(properties));\n",
       "}\n",
       "\n",
       "mpl.figure.prototype.send_draw_message = function() {\n",
       "    if (!this.waiting) {\n",
       "        this.waiting = true;\n",
       "        this.ws.send(JSON.stringify({type: \"draw\", figure_id: this.id}));\n",
       "    }\n",
       "}\n",
       "\n",
       "\n",
       "mpl.figure.prototype.handle_save = function(fig, msg) {\n",
       "    var format_dropdown = fig.format_dropdown;\n",
       "    var format = format_dropdown.options[format_dropdown.selectedIndex].value;\n",
       "    fig.ondownload(fig, format);\n",
       "}\n",
       "\n",
       "\n",
       "mpl.figure.prototype.handle_resize = function(fig, msg) {\n",
       "    var size = msg['size'];\n",
       "    if (size[0] != fig.canvas.width || size[1] != fig.canvas.height) {\n",
       "        fig._resize_canvas(size[0], size[1]);\n",
       "        fig.send_message(\"refresh\", {});\n",
       "    };\n",
       "}\n",
       "\n",
       "mpl.figure.prototype.handle_rubberband = function(fig, msg) {\n",
       "    var x0 = msg['x0'] / mpl.ratio;\n",
       "    var y0 = (fig.canvas.height - msg['y0']) / mpl.ratio;\n",
       "    var x1 = msg['x1'] / mpl.ratio;\n",
       "    var y1 = (fig.canvas.height - msg['y1']) / mpl.ratio;\n",
       "    x0 = Math.floor(x0) + 0.5;\n",
       "    y0 = Math.floor(y0) + 0.5;\n",
       "    x1 = Math.floor(x1) + 0.5;\n",
       "    y1 = Math.floor(y1) + 0.5;\n",
       "    var min_x = Math.min(x0, x1);\n",
       "    var min_y = Math.min(y0, y1);\n",
       "    var width = Math.abs(x1 - x0);\n",
       "    var height = Math.abs(y1 - y0);\n",
       "\n",
       "    fig.rubberband_context.clearRect(\n",
       "        0, 0, fig.canvas.width, fig.canvas.height);\n",
       "\n",
       "    fig.rubberband_context.strokeRect(min_x, min_y, width, height);\n",
       "}\n",
       "\n",
       "mpl.figure.prototype.handle_figure_label = function(fig, msg) {\n",
       "    // Updates the figure title.\n",
       "    fig.header.textContent = msg['label'];\n",
       "}\n",
       "\n",
       "mpl.figure.prototype.handle_cursor = function(fig, msg) {\n",
       "    var cursor = msg['cursor'];\n",
       "    switch(cursor)\n",
       "    {\n",
       "    case 0:\n",
       "        cursor = 'pointer';\n",
       "        break;\n",
       "    case 1:\n",
       "        cursor = 'default';\n",
       "        break;\n",
       "    case 2:\n",
       "        cursor = 'crosshair';\n",
       "        break;\n",
       "    case 3:\n",
       "        cursor = 'move';\n",
       "        break;\n",
       "    }\n",
       "    fig.rubberband_canvas.style.cursor = cursor;\n",
       "}\n",
       "\n",
       "mpl.figure.prototype.handle_message = function(fig, msg) {\n",
       "    fig.message.textContent = msg['message'];\n",
       "}\n",
       "\n",
       "mpl.figure.prototype.handle_draw = function(fig, msg) {\n",
       "    // Request the server to send over a new figure.\n",
       "    fig.send_draw_message();\n",
       "}\n",
       "\n",
       "mpl.figure.prototype.handle_image_mode = function(fig, msg) {\n",
       "    fig.image_mode = msg['mode'];\n",
       "}\n",
       "\n",
       "mpl.figure.prototype.updated_canvas_event = function() {\n",
       "    // Called whenever the canvas gets updated.\n",
       "    this.send_message(\"ack\", {});\n",
       "}\n",
       "\n",
       "// A function to construct a web socket function for onmessage handling.\n",
       "// Called in the figure constructor.\n",
       "mpl.figure.prototype._make_on_message_function = function(fig) {\n",
       "    return function socket_on_message(evt) {\n",
       "        if (evt.data instanceof Blob) {\n",
       "            /* FIXME: We get \"Resource interpreted as Image but\n",
       "             * transferred with MIME type text/plain:\" errors on\n",
       "             * Chrome.  But how to set the MIME type?  It doesn't seem\n",
       "             * to be part of the websocket stream */\n",
       "            evt.data.type = \"image/png\";\n",
       "\n",
       "            /* Free the memory for the previous frames */\n",
       "            if (fig.imageObj.src) {\n",
       "                (window.URL || window.webkitURL).revokeObjectURL(\n",
       "                    fig.imageObj.src);\n",
       "            }\n",
       "\n",
       "            fig.imageObj.src = (window.URL || window.webkitURL).createObjectURL(\n",
       "                evt.data);\n",
       "            fig.updated_canvas_event();\n",
       "            fig.waiting = false;\n",
       "            return;\n",
       "        }\n",
       "        else if (typeof evt.data === 'string' && evt.data.slice(0, 21) == \"data:image/png;base64\") {\n",
       "            fig.imageObj.src = evt.data;\n",
       "            fig.updated_canvas_event();\n",
       "            fig.waiting = false;\n",
       "            return;\n",
       "        }\n",
       "\n",
       "        var msg = JSON.parse(evt.data);\n",
       "        var msg_type = msg['type'];\n",
       "\n",
       "        // Call the  \"handle_{type}\" callback, which takes\n",
       "        // the figure and JSON message as its only arguments.\n",
       "        try {\n",
       "            var callback = fig[\"handle_\" + msg_type];\n",
       "        } catch (e) {\n",
       "            console.log(\"No handler for the '\" + msg_type + \"' message type: \", msg);\n",
       "            return;\n",
       "        }\n",
       "\n",
       "        if (callback) {\n",
       "            try {\n",
       "                // console.log(\"Handling '\" + msg_type + \"' message: \", msg);\n",
       "                callback(fig, msg);\n",
       "            } catch (e) {\n",
       "                console.log(\"Exception inside the 'handler_\" + msg_type + \"' callback:\", e, e.stack, msg);\n",
       "            }\n",
       "        }\n",
       "    };\n",
       "}\n",
       "\n",
       "// from http://stackoverflow.com/questions/1114465/getting-mouse-location-in-canvas\n",
       "mpl.findpos = function(e) {\n",
       "    //this section is from http://www.quirksmode.org/js/events_properties.html\n",
       "    var targ;\n",
       "    if (!e)\n",
       "        e = window.event;\n",
       "    if (e.target)\n",
       "        targ = e.target;\n",
       "    else if (e.srcElement)\n",
       "        targ = e.srcElement;\n",
       "    if (targ.nodeType == 3) // defeat Safari bug\n",
       "        targ = targ.parentNode;\n",
       "\n",
       "    // jQuery normalizes the pageX and pageY\n",
       "    // pageX,Y are the mouse positions relative to the document\n",
       "    // offset() returns the position of the element relative to the document\n",
       "    var x = e.pageX - $(targ).offset().left;\n",
       "    var y = e.pageY - $(targ).offset().top;\n",
       "\n",
       "    return {\"x\": x, \"y\": y};\n",
       "};\n",
       "\n",
       "/*\n",
       " * return a copy of an object with only non-object keys\n",
       " * we need this to avoid circular references\n",
       " * http://stackoverflow.com/a/24161582/3208463\n",
       " */\n",
       "function simpleKeys (original) {\n",
       "  return Object.keys(original).reduce(function (obj, key) {\n",
       "    if (typeof original[key] !== 'object')\n",
       "        obj[key] = original[key]\n",
       "    return obj;\n",
       "  }, {});\n",
       "}\n",
       "\n",
       "mpl.figure.prototype.mouse_event = function(event, name) {\n",
       "    var canvas_pos = mpl.findpos(event)\n",
       "\n",
       "    if (name === 'button_press')\n",
       "    {\n",
       "        this.canvas.focus();\n",
       "        this.canvas_div.focus();\n",
       "    }\n",
       "\n",
       "    var x = canvas_pos.x * mpl.ratio;\n",
       "    var y = canvas_pos.y * mpl.ratio;\n",
       "\n",
       "    this.send_message(name, {x: x, y: y, button: event.button,\n",
       "                             step: event.step,\n",
       "                             guiEvent: simpleKeys(event)});\n",
       "\n",
       "    /* This prevents the web browser from automatically changing to\n",
       "     * the text insertion cursor when the button is pressed.  We want\n",
       "     * to control all of the cursor setting manually through the\n",
       "     * 'cursor' event from matplotlib */\n",
       "    event.preventDefault();\n",
       "    return false;\n",
       "}\n",
       "\n",
       "mpl.figure.prototype._key_event_extra = function(event, name) {\n",
       "    // Handle any extra behaviour associated with a key event\n",
       "}\n",
       "\n",
       "mpl.figure.prototype.key_event = function(event, name) {\n",
       "\n",
       "    // Prevent repeat events\n",
       "    if (name == 'key_press')\n",
       "    {\n",
       "        if (event.which === this._key)\n",
       "            return;\n",
       "        else\n",
       "            this._key = event.which;\n",
       "    }\n",
       "    if (name == 'key_release')\n",
       "        this._key = null;\n",
       "\n",
       "    var value = '';\n",
       "    if (event.ctrlKey && event.which != 17)\n",
       "        value += \"ctrl+\";\n",
       "    if (event.altKey && event.which != 18)\n",
       "        value += \"alt+\";\n",
       "    if (event.shiftKey && event.which != 16)\n",
       "        value += \"shift+\";\n",
       "\n",
       "    value += 'k';\n",
       "    value += event.which.toString();\n",
       "\n",
       "    this._key_event_extra(event, name);\n",
       "\n",
       "    this.send_message(name, {key: value,\n",
       "                             guiEvent: simpleKeys(event)});\n",
       "    return false;\n",
       "}\n",
       "\n",
       "mpl.figure.prototype.toolbar_button_onclick = function(name) {\n",
       "    if (name == 'download') {\n",
       "        this.handle_save(this, null);\n",
       "    } else {\n",
       "        this.send_message(\"toolbar_button\", {name: name});\n",
       "    }\n",
       "};\n",
       "\n",
       "mpl.figure.prototype.toolbar_button_onmouseover = function(tooltip) {\n",
       "    this.message.textContent = tooltip;\n",
       "};\n",
       "mpl.toolbar_items = [[\"Home\", \"Reset original view\", \"fa fa-home icon-home\", \"home\"], [\"Back\", \"Back to previous view\", \"fa fa-arrow-left icon-arrow-left\", \"back\"], [\"Forward\", \"Forward to next view\", \"fa fa-arrow-right icon-arrow-right\", \"forward\"], [\"\", \"\", \"\", \"\"], [\"Pan\", \"Pan axes with left mouse, zoom with right\", \"fa fa-arrows icon-move\", \"pan\"], [\"Zoom\", \"Zoom to rectangle\", \"fa fa-square-o icon-check-empty\", \"zoom\"], [\"\", \"\", \"\", \"\"], [\"Download\", \"Download plot\", \"fa fa-floppy-o icon-save\", \"download\"]];\n",
       "\n",
       "mpl.extensions = [\"eps\", \"jpeg\", \"pdf\", \"png\", \"ps\", \"raw\", \"svg\", \"tif\"];\n",
       "\n",
       "mpl.default_extension = \"png\";var comm_websocket_adapter = function(comm) {\n",
       "    // Create a \"websocket\"-like object which calls the given IPython comm\n",
       "    // object with the appropriate methods. Currently this is a non binary\n",
       "    // socket, so there is still some room for performance tuning.\n",
       "    var ws = {};\n",
       "\n",
       "    ws.close = function() {\n",
       "        comm.close()\n",
       "    };\n",
       "    ws.send = function(m) {\n",
       "        //console.log('sending', m);\n",
       "        comm.send(m);\n",
       "    };\n",
       "    // Register the callback with on_msg.\n",
       "    comm.on_msg(function(msg) {\n",
       "        //console.log('receiving', msg['content']['data'], msg);\n",
       "        // Pass the mpl event to the overridden (by mpl) onmessage function.\n",
       "        ws.onmessage(msg['content']['data'])\n",
       "    });\n",
       "    return ws;\n",
       "}\n",
       "\n",
       "mpl.mpl_figure_comm = function(comm, msg) {\n",
       "    // This is the function which gets called when the mpl process\n",
       "    // starts-up an IPython Comm through the \"matplotlib\" channel.\n",
       "\n",
       "    var id = msg.content.data.id;\n",
       "    // Get hold of the div created by the display call when the Comm\n",
       "    // socket was opened in Python.\n",
       "    var element = $(\"#\" + id);\n",
       "    var ws_proxy = comm_websocket_adapter(comm)\n",
       "\n",
       "    function ondownload(figure, format) {\n",
       "        window.open(figure.imageObj.src);\n",
       "    }\n",
       "\n",
       "    var fig = new mpl.figure(id, ws_proxy,\n",
       "                           ondownload,\n",
       "                           element.get(0));\n",
       "\n",
       "    // Call onopen now - mpl needs it, as it is assuming we've passed it a real\n",
       "    // web socket which is closed, not our websocket->open comm proxy.\n",
       "    ws_proxy.onopen();\n",
       "\n",
       "    fig.parent_element = element.get(0);\n",
       "    fig.cell_info = mpl.find_output_cell(\"<div id='\" + id + \"'></div>\");\n",
       "    if (!fig.cell_info) {\n",
       "        console.error(\"Failed to find cell for figure\", id, fig);\n",
       "        return;\n",
       "    }\n",
       "\n",
       "    var output_index = fig.cell_info[2]\n",
       "    var cell = fig.cell_info[0];\n",
       "\n",
       "};\n",
       "\n",
       "mpl.figure.prototype.handle_close = function(fig, msg) {\n",
       "    var width = fig.canvas.width/mpl.ratio\n",
       "    fig.root.unbind('remove')\n",
       "\n",
       "    // Update the output cell to use the data from the current canvas.\n",
       "    fig.push_to_output();\n",
       "    var dataURL = fig.canvas.toDataURL();\n",
       "    // Re-enable the keyboard manager in IPython - without this line, in FF,\n",
       "    // the notebook keyboard shortcuts fail.\n",
       "    IPython.keyboard_manager.enable()\n",
       "    $(fig.parent_element).html('<img src=\"' + dataURL + '\" width=\"' + width + '\">');\n",
       "    fig.close_ws(fig, msg);\n",
       "}\n",
       "\n",
       "mpl.figure.prototype.close_ws = function(fig, msg){\n",
       "    fig.send_message('closing', msg);\n",
       "    // fig.ws.close()\n",
       "}\n",
       "\n",
       "mpl.figure.prototype.push_to_output = function(remove_interactive) {\n",
       "    // Turn the data on the canvas into data in the output cell.\n",
       "    var width = this.canvas.width/mpl.ratio\n",
       "    var dataURL = this.canvas.toDataURL();\n",
       "    this.cell_info[1]['text/html'] = '<img src=\"' + dataURL + '\" width=\"' + width + '\">';\n",
       "}\n",
       "\n",
       "mpl.figure.prototype.updated_canvas_event = function() {\n",
       "    // Tell IPython that the notebook contents must change.\n",
       "    IPython.notebook.set_dirty(true);\n",
       "    this.send_message(\"ack\", {});\n",
       "    var fig = this;\n",
       "    // Wait a second, then push the new image to the DOM so\n",
       "    // that it is saved nicely (might be nice to debounce this).\n",
       "    setTimeout(function () { fig.push_to_output() }, 1000);\n",
       "}\n",
       "\n",
       "mpl.figure.prototype._init_toolbar = function() {\n",
       "    var fig = this;\n",
       "\n",
       "    var nav_element = $('<div/>')\n",
       "    nav_element.attr('style', 'width: 100%');\n",
       "    this.root.append(nav_element);\n",
       "\n",
       "    // Define a callback function for later on.\n",
       "    function toolbar_event(event) {\n",
       "        return fig.toolbar_button_onclick(event['data']);\n",
       "    }\n",
       "    function toolbar_mouse_event(event) {\n",
       "        return fig.toolbar_button_onmouseover(event['data']);\n",
       "    }\n",
       "\n",
       "    for(var toolbar_ind in mpl.toolbar_items){\n",
       "        var name = mpl.toolbar_items[toolbar_ind][0];\n",
       "        var tooltip = mpl.toolbar_items[toolbar_ind][1];\n",
       "        var image = mpl.toolbar_items[toolbar_ind][2];\n",
       "        var method_name = mpl.toolbar_items[toolbar_ind][3];\n",
       "\n",
       "        if (!name) { continue; };\n",
       "\n",
       "        var button = $('<button class=\"btn btn-default\" href=\"#\" title=\"' + name + '\"><i class=\"fa ' + image + ' fa-lg\"></i></button>');\n",
       "        button.click(method_name, toolbar_event);\n",
       "        button.mouseover(tooltip, toolbar_mouse_event);\n",
       "        nav_element.append(button);\n",
       "    }\n",
       "\n",
       "    // Add the status bar.\n",
       "    var status_bar = $('<span class=\"mpl-message\" style=\"text-align:right; float: right;\"/>');\n",
       "    nav_element.append(status_bar);\n",
       "    this.message = status_bar[0];\n",
       "\n",
       "    // Add the close button to the window.\n",
       "    var buttongrp = $('<div class=\"btn-group inline pull-right\"></div>');\n",
       "    var button = $('<button class=\"btn btn-mini btn-primary\" href=\"#\" title=\"Stop Interaction\"><i class=\"fa fa-power-off icon-remove icon-large\"></i></button>');\n",
       "    button.click(function (evt) { fig.handle_close(fig, {}); } );\n",
       "    button.mouseover('Stop Interaction', toolbar_mouse_event);\n",
       "    buttongrp.append(button);\n",
       "    var titlebar = this.root.find($('.ui-dialog-titlebar'));\n",
       "    titlebar.prepend(buttongrp);\n",
       "}\n",
       "\n",
       "mpl.figure.prototype._root_extra_style = function(el){\n",
       "    var fig = this\n",
       "    el.on(\"remove\", function(){\n",
       "\tfig.close_ws(fig, {});\n",
       "    });\n",
       "}\n",
       "\n",
       "mpl.figure.prototype._canvas_extra_style = function(el){\n",
       "    // this is important to make the div 'focusable\n",
       "    el.attr('tabindex', 0)\n",
       "    // reach out to IPython and tell the keyboard manager to turn it's self\n",
       "    // off when our div gets focus\n",
       "\n",
       "    // location in version 3\n",
       "    if (IPython.notebook.keyboard_manager) {\n",
       "        IPython.notebook.keyboard_manager.register_events(el);\n",
       "    }\n",
       "    else {\n",
       "        // location in version 2\n",
       "        IPython.keyboard_manager.register_events(el);\n",
       "    }\n",
       "\n",
       "}\n",
       "\n",
       "mpl.figure.prototype._key_event_extra = function(event, name) {\n",
       "    var manager = IPython.notebook.keyboard_manager;\n",
       "    if (!manager)\n",
       "        manager = IPython.keyboard_manager;\n",
       "\n",
       "    // Check for shift+enter\n",
       "    if (event.shiftKey && event.which == 13) {\n",
       "        this.canvas_div.blur();\n",
       "        event.shiftKey = false;\n",
       "        // Send a \"J\" for go to next cell\n",
       "        event.which = 74;\n",
       "        event.keyCode = 74;\n",
       "        manager.command_mode();\n",
       "        manager.handle_keydown(event);\n",
       "    }\n",
       "}\n",
       "\n",
       "mpl.figure.prototype.handle_save = function(fig, msg) {\n",
       "    fig.ondownload(fig, null);\n",
       "}\n",
       "\n",
       "\n",
       "mpl.find_output_cell = function(html_output) {\n",
       "    // Return the cell and output element which can be found *uniquely* in the notebook.\n",
       "    // Note - this is a bit hacky, but it is done because the \"notebook_saving.Notebook\"\n",
       "    // IPython event is triggered only after the cells have been serialised, which for\n",
       "    // our purposes (turning an active figure into a static one), is too late.\n",
       "    var cells = IPython.notebook.get_cells();\n",
       "    var ncells = cells.length;\n",
       "    for (var i=0; i<ncells; i++) {\n",
       "        var cell = cells[i];\n",
       "        if (cell.cell_type === 'code'){\n",
       "            for (var j=0; j<cell.output_area.outputs.length; j++) {\n",
       "                var data = cell.output_area.outputs[j];\n",
       "                if (data.data) {\n",
       "                    // IPython >= 3 moved mimebundle to data attribute of output\n",
       "                    data = data.data;\n",
       "                }\n",
       "                if (data['text/html'] == html_output) {\n",
       "                    return [cell, data, j];\n",
       "                }\n",
       "            }\n",
       "        }\n",
       "    }\n",
       "}\n",
       "\n",
       "// Register the function which deals with the matplotlib target/channel.\n",
       "// The kernel may be null if the page has been refreshed.\n",
       "if (IPython.notebook.kernel != null) {\n",
       "    IPython.notebook.kernel.comm_manager.register_target('matplotlib', mpl.mpl_figure_comm);\n",
       "}\n"
      ],
      "text/plain": [
       "<IPython.core.display.Javascript object>"
      ]
     },
     "metadata": {},
     "output_type": "display_data"
    },
    {
     "data": {
      "text/html": [
       "<img src=\"data:image/png;base64,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\" width=\"431.818172458775\">"
      ],
      "text/plain": [
       "<IPython.core.display.HTML object>"
      ]
     },
     "metadata": {},
     "output_type": "display_data"
    }
   ],
   "source": [
    "plot_iteration(a.cost_rate, min_it=1000)"
   ]
  },
  {
   "cell_type": "code",
   "execution_count": 57,
   "metadata": {},
   "outputs": [
    {
     "data": {
      "application/javascript": [
       "/* Put everything inside the global mpl namespace */\n",
       "window.mpl = {};\n",
       "\n",
       "\n",
       "mpl.get_websocket_type = function() {\n",
       "    if (typeof(WebSocket) !== 'undefined') {\n",
       "        return WebSocket;\n",
       "    } else if (typeof(MozWebSocket) !== 'undefined') {\n",
       "        return MozWebSocket;\n",
       "    } else {\n",
       "        alert('Your browser does not have WebSocket support.' +\n",
       "              'Please try Chrome, Safari or Firefox ≥ 6. ' +\n",
       "              'Firefox 4 and 5 are also supported but you ' +\n",
       "              'have to enable WebSockets in about:config.');\n",
       "    };\n",
       "}\n",
       "\n",
       "mpl.figure = function(figure_id, websocket, ondownload, parent_element) {\n",
       "    this.id = figure_id;\n",
       "\n",
       "    this.ws = websocket;\n",
       "\n",
       "    this.supports_binary = (this.ws.binaryType != undefined);\n",
       "\n",
       "    if (!this.supports_binary) {\n",
       "        var warnings = document.getElementById(\"mpl-warnings\");\n",
       "        if (warnings) {\n",
       "            warnings.style.display = 'block';\n",
       "            warnings.textContent = (\n",
       "                \"This browser does not support binary websocket messages. \" +\n",
       "                    \"Performance may be slow.\");\n",
       "        }\n",
       "    }\n",
       "\n",
       "    this.imageObj = new Image();\n",
       "\n",
       "    this.context = undefined;\n",
       "    this.message = undefined;\n",
       "    this.canvas = undefined;\n",
       "    this.rubberband_canvas = undefined;\n",
       "    this.rubberband_context = undefined;\n",
       "    this.format_dropdown = undefined;\n",
       "\n",
       "    this.image_mode = 'full';\n",
       "\n",
       "    this.root = $('<div/>');\n",
       "    this._root_extra_style(this.root)\n",
       "    this.root.attr('style', 'display: inline-block');\n",
       "\n",
       "    $(parent_element).append(this.root);\n",
       "\n",
       "    this._init_header(this);\n",
       "    this._init_canvas(this);\n",
       "    this._init_toolbar(this);\n",
       "\n",
       "    var fig = this;\n",
       "\n",
       "    this.waiting = false;\n",
       "\n",
       "    this.ws.onopen =  function () {\n",
       "            fig.send_message(\"supports_binary\", {value: fig.supports_binary});\n",
       "            fig.send_message(\"send_image_mode\", {});\n",
       "            if (mpl.ratio != 1) {\n",
       "                fig.send_message(\"set_dpi_ratio\", {'dpi_ratio': mpl.ratio});\n",
       "            }\n",
       "            fig.send_message(\"refresh\", {});\n",
       "        }\n",
       "\n",
       "    this.imageObj.onload = function() {\n",
       "            if (fig.image_mode == 'full') {\n",
       "                // Full images could contain transparency (where diff images\n",
       "                // almost always do), so we need to clear the canvas so that\n",
       "                // there is no ghosting.\n",
       "                fig.context.clearRect(0, 0, fig.canvas.width, fig.canvas.height);\n",
       "            }\n",
       "            fig.context.drawImage(fig.imageObj, 0, 0);\n",
       "        };\n",
       "\n",
       "    this.imageObj.onunload = function() {\n",
       "        fig.ws.close();\n",
       "    }\n",
       "\n",
       "    this.ws.onmessage = this._make_on_message_function(this);\n",
       "\n",
       "    this.ondownload = ondownload;\n",
       "}\n",
       "\n",
       "mpl.figure.prototype._init_header = function() {\n",
       "    var titlebar = $(\n",
       "        '<div class=\"ui-dialog-titlebar ui-widget-header ui-corner-all ' +\n",
       "        'ui-helper-clearfix\"/>');\n",
       "    var titletext = $(\n",
       "        '<div class=\"ui-dialog-title\" style=\"width: 100%; ' +\n",
       "        'text-align: center; padding: 3px;\"/>');\n",
       "    titlebar.append(titletext)\n",
       "    this.root.append(titlebar);\n",
       "    this.header = titletext[0];\n",
       "}\n",
       "\n",
       "\n",
       "\n",
       "mpl.figure.prototype._canvas_extra_style = function(canvas_div) {\n",
       "\n",
       "}\n",
       "\n",
       "\n",
       "mpl.figure.prototype._root_extra_style = function(canvas_div) {\n",
       "\n",
       "}\n",
       "\n",
       "mpl.figure.prototype._init_canvas = function() {\n",
       "    var fig = this;\n",
       "\n",
       "    var canvas_div = $('<div/>');\n",
       "\n",
       "    canvas_div.attr('style', 'position: relative; clear: both; outline: 0');\n",
       "\n",
       "    function canvas_keyboard_event(event) {\n",
       "        return fig.key_event(event, event['data']);\n",
       "    }\n",
       "\n",
       "    canvas_div.keydown('key_press', canvas_keyboard_event);\n",
       "    canvas_div.keyup('key_release', canvas_keyboard_event);\n",
       "    this.canvas_div = canvas_div\n",
       "    this._canvas_extra_style(canvas_div)\n",
       "    this.root.append(canvas_div);\n",
       "\n",
       "    var canvas = $('<canvas/>');\n",
       "    canvas.addClass('mpl-canvas');\n",
       "    canvas.attr('style', \"left: 0; top: 0; z-index: 0; outline: 0\")\n",
       "\n",
       "    this.canvas = canvas[0];\n",
       "    this.context = canvas[0].getContext(\"2d\");\n",
       "\n",
       "    var backingStore = this.context.backingStorePixelRatio ||\n",
       "\tthis.context.webkitBackingStorePixelRatio ||\n",
       "\tthis.context.mozBackingStorePixelRatio ||\n",
       "\tthis.context.msBackingStorePixelRatio ||\n",
       "\tthis.context.oBackingStorePixelRatio ||\n",
       "\tthis.context.backingStorePixelRatio || 1;\n",
       "\n",
       "    mpl.ratio = (window.devicePixelRatio || 1) / backingStore;\n",
       "\n",
       "    var rubberband = $('<canvas/>');\n",
       "    rubberband.attr('style', \"position: absolute; left: 0; top: 0; z-index: 1;\")\n",
       "\n",
       "    var pass_mouse_events = true;\n",
       "\n",
       "    canvas_div.resizable({\n",
       "        start: function(event, ui) {\n",
       "            pass_mouse_events = false;\n",
       "        },\n",
       "        resize: function(event, ui) {\n",
       "            fig.request_resize(ui.size.width, ui.size.height);\n",
       "        },\n",
       "        stop: function(event, ui) {\n",
       "            pass_mouse_events = true;\n",
       "            fig.request_resize(ui.size.width, ui.size.height);\n",
       "        },\n",
       "    });\n",
       "\n",
       "    function mouse_event_fn(event) {\n",
       "        if (pass_mouse_events)\n",
       "            return fig.mouse_event(event, event['data']);\n",
       "    }\n",
       "\n",
       "    rubberband.mousedown('button_press', mouse_event_fn);\n",
       "    rubberband.mouseup('button_release', mouse_event_fn);\n",
       "    // Throttle sequential mouse events to 1 every 20ms.\n",
       "    rubberband.mousemove('motion_notify', mouse_event_fn);\n",
       "\n",
       "    rubberband.mouseenter('figure_enter', mouse_event_fn);\n",
       "    rubberband.mouseleave('figure_leave', mouse_event_fn);\n",
       "\n",
       "    canvas_div.on(\"wheel\", function (event) {\n",
       "        event = event.originalEvent;\n",
       "        event['data'] = 'scroll'\n",
       "        if (event.deltaY < 0) {\n",
       "            event.step = 1;\n",
       "        } else {\n",
       "            event.step = -1;\n",
       "        }\n",
       "        mouse_event_fn(event);\n",
       "    });\n",
       "\n",
       "    canvas_div.append(canvas);\n",
       "    canvas_div.append(rubberband);\n",
       "\n",
       "    this.rubberband = rubberband;\n",
       "    this.rubberband_canvas = rubberband[0];\n",
       "    this.rubberband_context = rubberband[0].getContext(\"2d\");\n",
       "    this.rubberband_context.strokeStyle = \"#000000\";\n",
       "\n",
       "    this._resize_canvas = function(width, height) {\n",
       "        // Keep the size of the canvas, canvas container, and rubber band\n",
       "        // canvas in synch.\n",
       "        canvas_div.css('width', width)\n",
       "        canvas_div.css('height', height)\n",
       "\n",
       "        canvas.attr('width', width * mpl.ratio);\n",
       "        canvas.attr('height', height * mpl.ratio);\n",
       "        canvas.attr('style', 'width: ' + width + 'px; height: ' + height + 'px;');\n",
       "\n",
       "        rubberband.attr('width', width);\n",
       "        rubberband.attr('height', height);\n",
       "    }\n",
       "\n",
       "    // Set the figure to an initial 600x600px, this will subsequently be updated\n",
       "    // upon first draw.\n",
       "    this._resize_canvas(600, 600);\n",
       "\n",
       "    // Disable right mouse context menu.\n",
       "    $(this.rubberband_canvas).bind(\"contextmenu\",function(e){\n",
       "        return false;\n",
       "    });\n",
       "\n",
       "    function set_focus () {\n",
       "        canvas.focus();\n",
       "        canvas_div.focus();\n",
       "    }\n",
       "\n",
       "    window.setTimeout(set_focus, 100);\n",
       "}\n",
       "\n",
       "mpl.figure.prototype._init_toolbar = function() {\n",
       "    var fig = this;\n",
       "\n",
       "    var nav_element = $('<div/>')\n",
       "    nav_element.attr('style', 'width: 100%');\n",
       "    this.root.append(nav_element);\n",
       "\n",
       "    // Define a callback function for later on.\n",
       "    function toolbar_event(event) {\n",
       "        return fig.toolbar_button_onclick(event['data']);\n",
       "    }\n",
       "    function toolbar_mouse_event(event) {\n",
       "        return fig.toolbar_button_onmouseover(event['data']);\n",
       "    }\n",
       "\n",
       "    for(var toolbar_ind in mpl.toolbar_items) {\n",
       "        var name = mpl.toolbar_items[toolbar_ind][0];\n",
       "        var tooltip = mpl.toolbar_items[toolbar_ind][1];\n",
       "        var image = mpl.toolbar_items[toolbar_ind][2];\n",
       "        var method_name = mpl.toolbar_items[toolbar_ind][3];\n",
       "\n",
       "        if (!name) {\n",
       "            // put a spacer in here.\n",
       "            continue;\n",
       "        }\n",
       "        var button = $('<button/>');\n",
       "        button.addClass('ui-button ui-widget ui-state-default ui-corner-all ' +\n",
       "                        'ui-button-icon-only');\n",
       "        button.attr('role', 'button');\n",
       "        button.attr('aria-disabled', 'false');\n",
       "        button.click(method_name, toolbar_event);\n",
       "        button.mouseover(tooltip, toolbar_mouse_event);\n",
       "\n",
       "        var icon_img = $('<span/>');\n",
       "        icon_img.addClass('ui-button-icon-primary ui-icon');\n",
       "        icon_img.addClass(image);\n",
       "        icon_img.addClass('ui-corner-all');\n",
       "\n",
       "        var tooltip_span = $('<span/>');\n",
       "        tooltip_span.addClass('ui-button-text');\n",
       "        tooltip_span.html(tooltip);\n",
       "\n",
       "        button.append(icon_img);\n",
       "        button.append(tooltip_span);\n",
       "\n",
       "        nav_element.append(button);\n",
       "    }\n",
       "\n",
       "    var fmt_picker_span = $('<span/>');\n",
       "\n",
       "    var fmt_picker = $('<select/>');\n",
       "    fmt_picker.addClass('mpl-toolbar-option ui-widget ui-widget-content');\n",
       "    fmt_picker_span.append(fmt_picker);\n",
       "    nav_element.append(fmt_picker_span);\n",
       "    this.format_dropdown = fmt_picker[0];\n",
       "\n",
       "    for (var ind in mpl.extensions) {\n",
       "        var fmt = mpl.extensions[ind];\n",
       "        var option = $(\n",
       "            '<option/>', {selected: fmt === mpl.default_extension}).html(fmt);\n",
       "        fmt_picker.append(option)\n",
       "    }\n",
       "\n",
       "    // Add hover states to the ui-buttons\n",
       "    $( \".ui-button\" ).hover(\n",
       "        function() { $(this).addClass(\"ui-state-hover\");},\n",
       "        function() { $(this).removeClass(\"ui-state-hover\");}\n",
       "    );\n",
       "\n",
       "    var status_bar = $('<span class=\"mpl-message\"/>');\n",
       "    nav_element.append(status_bar);\n",
       "    this.message = status_bar[0];\n",
       "}\n",
       "\n",
       "mpl.figure.prototype.request_resize = function(x_pixels, y_pixels) {\n",
       "    // Request matplotlib to resize the figure. Matplotlib will then trigger a resize in the client,\n",
       "    // which will in turn request a refresh of the image.\n",
       "    this.send_message('resize', {'width': x_pixels, 'height': y_pixels});\n",
       "}\n",
       "\n",
       "mpl.figure.prototype.send_message = function(type, properties) {\n",
       "    properties['type'] = type;\n",
       "    properties['figure_id'] = this.id;\n",
       "    this.ws.send(JSON.stringify(properties));\n",
       "}\n",
       "\n",
       "mpl.figure.prototype.send_draw_message = function() {\n",
       "    if (!this.waiting) {\n",
       "        this.waiting = true;\n",
       "        this.ws.send(JSON.stringify({type: \"draw\", figure_id: this.id}));\n",
       "    }\n",
       "}\n",
       "\n",
       "\n",
       "mpl.figure.prototype.handle_save = function(fig, msg) {\n",
       "    var format_dropdown = fig.format_dropdown;\n",
       "    var format = format_dropdown.options[format_dropdown.selectedIndex].value;\n",
       "    fig.ondownload(fig, format);\n",
       "}\n",
       "\n",
       "\n",
       "mpl.figure.prototype.handle_resize = function(fig, msg) {\n",
       "    var size = msg['size'];\n",
       "    if (size[0] != fig.canvas.width || size[1] != fig.canvas.height) {\n",
       "        fig._resize_canvas(size[0], size[1]);\n",
       "        fig.send_message(\"refresh\", {});\n",
       "    };\n",
       "}\n",
       "\n",
       "mpl.figure.prototype.handle_rubberband = function(fig, msg) {\n",
       "    var x0 = msg['x0'] / mpl.ratio;\n",
       "    var y0 = (fig.canvas.height - msg['y0']) / mpl.ratio;\n",
       "    var x1 = msg['x1'] / mpl.ratio;\n",
       "    var y1 = (fig.canvas.height - msg['y1']) / mpl.ratio;\n",
       "    x0 = Math.floor(x0) + 0.5;\n",
       "    y0 = Math.floor(y0) + 0.5;\n",
       "    x1 = Math.floor(x1) + 0.5;\n",
       "    y1 = Math.floor(y1) + 0.5;\n",
       "    var min_x = Math.min(x0, x1);\n",
       "    var min_y = Math.min(y0, y1);\n",
       "    var width = Math.abs(x1 - x0);\n",
       "    var height = Math.abs(y1 - y0);\n",
       "\n",
       "    fig.rubberband_context.clearRect(\n",
       "        0, 0, fig.canvas.width, fig.canvas.height);\n",
       "\n",
       "    fig.rubberband_context.strokeRect(min_x, min_y, width, height);\n",
       "}\n",
       "\n",
       "mpl.figure.prototype.handle_figure_label = function(fig, msg) {\n",
       "    // Updates the figure title.\n",
       "    fig.header.textContent = msg['label'];\n",
       "}\n",
       "\n",
       "mpl.figure.prototype.handle_cursor = function(fig, msg) {\n",
       "    var cursor = msg['cursor'];\n",
       "    switch(cursor)\n",
       "    {\n",
       "    case 0:\n",
       "        cursor = 'pointer';\n",
       "        break;\n",
       "    case 1:\n",
       "        cursor = 'default';\n",
       "        break;\n",
       "    case 2:\n",
       "        cursor = 'crosshair';\n",
       "        break;\n",
       "    case 3:\n",
       "        cursor = 'move';\n",
       "        break;\n",
       "    }\n",
       "    fig.rubberband_canvas.style.cursor = cursor;\n",
       "}\n",
       "\n",
       "mpl.figure.prototype.handle_message = function(fig, msg) {\n",
       "    fig.message.textContent = msg['message'];\n",
       "}\n",
       "\n",
       "mpl.figure.prototype.handle_draw = function(fig, msg) {\n",
       "    // Request the server to send over a new figure.\n",
       "    fig.send_draw_message();\n",
       "}\n",
       "\n",
       "mpl.figure.prototype.handle_image_mode = function(fig, msg) {\n",
       "    fig.image_mode = msg['mode'];\n",
       "}\n",
       "\n",
       "mpl.figure.prototype.updated_canvas_event = function() {\n",
       "    // Called whenever the canvas gets updated.\n",
       "    this.send_message(\"ack\", {});\n",
       "}\n",
       "\n",
       "// A function to construct a web socket function for onmessage handling.\n",
       "// Called in the figure constructor.\n",
       "mpl.figure.prototype._make_on_message_function = function(fig) {\n",
       "    return function socket_on_message(evt) {\n",
       "        if (evt.data instanceof Blob) {\n",
       "            /* FIXME: We get \"Resource interpreted as Image but\n",
       "             * transferred with MIME type text/plain:\" errors on\n",
       "             * Chrome.  But how to set the MIME type?  It doesn't seem\n",
       "             * to be part of the websocket stream */\n",
       "            evt.data.type = \"image/png\";\n",
       "\n",
       "            /* Free the memory for the previous frames */\n",
       "            if (fig.imageObj.src) {\n",
       "                (window.URL || window.webkitURL).revokeObjectURL(\n",
       "                    fig.imageObj.src);\n",
       "            }\n",
       "\n",
       "            fig.imageObj.src = (window.URL || window.webkitURL).createObjectURL(\n",
       "                evt.data);\n",
       "            fig.updated_canvas_event();\n",
       "            fig.waiting = false;\n",
       "            return;\n",
       "        }\n",
       "        else if (typeof evt.data === 'string' && evt.data.slice(0, 21) == \"data:image/png;base64\") {\n",
       "            fig.imageObj.src = evt.data;\n",
       "            fig.updated_canvas_event();\n",
       "            fig.waiting = false;\n",
       "            return;\n",
       "        }\n",
       "\n",
       "        var msg = JSON.parse(evt.data);\n",
       "        var msg_type = msg['type'];\n",
       "\n",
       "        // Call the  \"handle_{type}\" callback, which takes\n",
       "        // the figure and JSON message as its only arguments.\n",
       "        try {\n",
       "            var callback = fig[\"handle_\" + msg_type];\n",
       "        } catch (e) {\n",
       "            console.log(\"No handler for the '\" + msg_type + \"' message type: \", msg);\n",
       "            return;\n",
       "        }\n",
       "\n",
       "        if (callback) {\n",
       "            try {\n",
       "                // console.log(\"Handling '\" + msg_type + \"' message: \", msg);\n",
       "                callback(fig, msg);\n",
       "            } catch (e) {\n",
       "                console.log(\"Exception inside the 'handler_\" + msg_type + \"' callback:\", e, e.stack, msg);\n",
       "            }\n",
       "        }\n",
       "    };\n",
       "}\n",
       "\n",
       "// from http://stackoverflow.com/questions/1114465/getting-mouse-location-in-canvas\n",
       "mpl.findpos = function(e) {\n",
       "    //this section is from http://www.quirksmode.org/js/events_properties.html\n",
       "    var targ;\n",
       "    if (!e)\n",
       "        e = window.event;\n",
       "    if (e.target)\n",
       "        targ = e.target;\n",
       "    else if (e.srcElement)\n",
       "        targ = e.srcElement;\n",
       "    if (targ.nodeType == 3) // defeat Safari bug\n",
       "        targ = targ.parentNode;\n",
       "\n",
       "    // jQuery normalizes the pageX and pageY\n",
       "    // pageX,Y are the mouse positions relative to the document\n",
       "    // offset() returns the position of the element relative to the document\n",
       "    var x = e.pageX - $(targ).offset().left;\n",
       "    var y = e.pageY - $(targ).offset().top;\n",
       "\n",
       "    return {\"x\": x, \"y\": y};\n",
       "};\n",
       "\n",
       "/*\n",
       " * return a copy of an object with only non-object keys\n",
       " * we need this to avoid circular references\n",
       " * http://stackoverflow.com/a/24161582/3208463\n",
       " */\n",
       "function simpleKeys (original) {\n",
       "  return Object.keys(original).reduce(function (obj, key) {\n",
       "    if (typeof original[key] !== 'object')\n",
       "        obj[key] = original[key]\n",
       "    return obj;\n",
       "  }, {});\n",
       "}\n",
       "\n",
       "mpl.figure.prototype.mouse_event = function(event, name) {\n",
       "    var canvas_pos = mpl.findpos(event)\n",
       "\n",
       "    if (name === 'button_press')\n",
       "    {\n",
       "        this.canvas.focus();\n",
       "        this.canvas_div.focus();\n",
       "    }\n",
       "\n",
       "    var x = canvas_pos.x * mpl.ratio;\n",
       "    var y = canvas_pos.y * mpl.ratio;\n",
       "\n",
       "    this.send_message(name, {x: x, y: y, button: event.button,\n",
       "                             step: event.step,\n",
       "                             guiEvent: simpleKeys(event)});\n",
       "\n",
       "    /* This prevents the web browser from automatically changing to\n",
       "     * the text insertion cursor when the button is pressed.  We want\n",
       "     * to control all of the cursor setting manually through the\n",
       "     * 'cursor' event from matplotlib */\n",
       "    event.preventDefault();\n",
       "    return false;\n",
       "}\n",
       "\n",
       "mpl.figure.prototype._key_event_extra = function(event, name) {\n",
       "    // Handle any extra behaviour associated with a key event\n",
       "}\n",
       "\n",
       "mpl.figure.prototype.key_event = function(event, name) {\n",
       "\n",
       "    // Prevent repeat events\n",
       "    if (name == 'key_press')\n",
       "    {\n",
       "        if (event.which === this._key)\n",
       "            return;\n",
       "        else\n",
       "            this._key = event.which;\n",
       "    }\n",
       "    if (name == 'key_release')\n",
       "        this._key = null;\n",
       "\n",
       "    var value = '';\n",
       "    if (event.ctrlKey && event.which != 17)\n",
       "        value += \"ctrl+\";\n",
       "    if (event.altKey && event.which != 18)\n",
       "        value += \"alt+\";\n",
       "    if (event.shiftKey && event.which != 16)\n",
       "        value += \"shift+\";\n",
       "\n",
       "    value += 'k';\n",
       "    value += event.which.toString();\n",
       "\n",
       "    this._key_event_extra(event, name);\n",
       "\n",
       "    this.send_message(name, {key: value,\n",
       "                             guiEvent: simpleKeys(event)});\n",
       "    return false;\n",
       "}\n",
       "\n",
       "mpl.figure.prototype.toolbar_button_onclick = function(name) {\n",
       "    if (name == 'download') {\n",
       "        this.handle_save(this, null);\n",
       "    } else {\n",
       "        this.send_message(\"toolbar_button\", {name: name});\n",
       "    }\n",
       "};\n",
       "\n",
       "mpl.figure.prototype.toolbar_button_onmouseover = function(tooltip) {\n",
       "    this.message.textContent = tooltip;\n",
       "};\n",
       "mpl.toolbar_items = [[\"Home\", \"Reset original view\", \"fa fa-home icon-home\", \"home\"], [\"Back\", \"Back to previous view\", \"fa fa-arrow-left icon-arrow-left\", \"back\"], [\"Forward\", \"Forward to next view\", \"fa fa-arrow-right icon-arrow-right\", \"forward\"], [\"\", \"\", \"\", \"\"], [\"Pan\", \"Pan axes with left mouse, zoom with right\", \"fa fa-arrows icon-move\", \"pan\"], [\"Zoom\", \"Zoom to rectangle\", \"fa fa-square-o icon-check-empty\", \"zoom\"], [\"\", \"\", \"\", \"\"], [\"Download\", \"Download plot\", \"fa fa-floppy-o icon-save\", \"download\"]];\n",
       "\n",
       "mpl.extensions = [\"eps\", \"jpeg\", \"pdf\", \"png\", \"ps\", \"raw\", \"svg\", \"tif\"];\n",
       "\n",
       "mpl.default_extension = \"png\";var comm_websocket_adapter = function(comm) {\n",
       "    // Create a \"websocket\"-like object which calls the given IPython comm\n",
       "    // object with the appropriate methods. Currently this is a non binary\n",
       "    // socket, so there is still some room for performance tuning.\n",
       "    var ws = {};\n",
       "\n",
       "    ws.close = function() {\n",
       "        comm.close()\n",
       "    };\n",
       "    ws.send = function(m) {\n",
       "        //console.log('sending', m);\n",
       "        comm.send(m);\n",
       "    };\n",
       "    // Register the callback with on_msg.\n",
       "    comm.on_msg(function(msg) {\n",
       "        //console.log('receiving', msg['content']['data'], msg);\n",
       "        // Pass the mpl event to the overridden (by mpl) onmessage function.\n",
       "        ws.onmessage(msg['content']['data'])\n",
       "    });\n",
       "    return ws;\n",
       "}\n",
       "\n",
       "mpl.mpl_figure_comm = function(comm, msg) {\n",
       "    // This is the function which gets called when the mpl process\n",
       "    // starts-up an IPython Comm through the \"matplotlib\" channel.\n",
       "\n",
       "    var id = msg.content.data.id;\n",
       "    // Get hold of the div created by the display call when the Comm\n",
       "    // socket was opened in Python.\n",
       "    var element = $(\"#\" + id);\n",
       "    var ws_proxy = comm_websocket_adapter(comm)\n",
       "\n",
       "    function ondownload(figure, format) {\n",
       "        window.open(figure.imageObj.src);\n",
       "    }\n",
       "\n",
       "    var fig = new mpl.figure(id, ws_proxy,\n",
       "                           ondownload,\n",
       "                           element.get(0));\n",
       "\n",
       "    // Call onopen now - mpl needs it, as it is assuming we've passed it a real\n",
       "    // web socket which is closed, not our websocket->open comm proxy.\n",
       "    ws_proxy.onopen();\n",
       "\n",
       "    fig.parent_element = element.get(0);\n",
       "    fig.cell_info = mpl.find_output_cell(\"<div id='\" + id + \"'></div>\");\n",
       "    if (!fig.cell_info) {\n",
       "        console.error(\"Failed to find cell for figure\", id, fig);\n",
       "        return;\n",
       "    }\n",
       "\n",
       "    var output_index = fig.cell_info[2]\n",
       "    var cell = fig.cell_info[0];\n",
       "\n",
       "};\n",
       "\n",
       "mpl.figure.prototype.handle_close = function(fig, msg) {\n",
       "    var width = fig.canvas.width/mpl.ratio\n",
       "    fig.root.unbind('remove')\n",
       "\n",
       "    // Update the output cell to use the data from the current canvas.\n",
       "    fig.push_to_output();\n",
       "    var dataURL = fig.canvas.toDataURL();\n",
       "    // Re-enable the keyboard manager in IPython - without this line, in FF,\n",
       "    // the notebook keyboard shortcuts fail.\n",
       "    IPython.keyboard_manager.enable()\n",
       "    $(fig.parent_element).html('<img src=\"' + dataURL + '\" width=\"' + width + '\">');\n",
       "    fig.close_ws(fig, msg);\n",
       "}\n",
       "\n",
       "mpl.figure.prototype.close_ws = function(fig, msg){\n",
       "    fig.send_message('closing', msg);\n",
       "    // fig.ws.close()\n",
       "}\n",
       "\n",
       "mpl.figure.prototype.push_to_output = function(remove_interactive) {\n",
       "    // Turn the data on the canvas into data in the output cell.\n",
       "    var width = this.canvas.width/mpl.ratio\n",
       "    var dataURL = this.canvas.toDataURL();\n",
       "    this.cell_info[1]['text/html'] = '<img src=\"' + dataURL + '\" width=\"' + width + '\">';\n",
       "}\n",
       "\n",
       "mpl.figure.prototype.updated_canvas_event = function() {\n",
       "    // Tell IPython that the notebook contents must change.\n",
       "    IPython.notebook.set_dirty(true);\n",
       "    this.send_message(\"ack\", {});\n",
       "    var fig = this;\n",
       "    // Wait a second, then push the new image to the DOM so\n",
       "    // that it is saved nicely (might be nice to debounce this).\n",
       "    setTimeout(function () { fig.push_to_output() }, 1000);\n",
       "}\n",
       "\n",
       "mpl.figure.prototype._init_toolbar = function() {\n",
       "    var fig = this;\n",
       "\n",
       "    var nav_element = $('<div/>')\n",
       "    nav_element.attr('style', 'width: 100%');\n",
       "    this.root.append(nav_element);\n",
       "\n",
       "    // Define a callback function for later on.\n",
       "    function toolbar_event(event) {\n",
       "        return fig.toolbar_button_onclick(event['data']);\n",
       "    }\n",
       "    function toolbar_mouse_event(event) {\n",
       "        return fig.toolbar_button_onmouseover(event['data']);\n",
       "    }\n",
       "\n",
       "    for(var toolbar_ind in mpl.toolbar_items){\n",
       "        var name = mpl.toolbar_items[toolbar_ind][0];\n",
       "        var tooltip = mpl.toolbar_items[toolbar_ind][1];\n",
       "        var image = mpl.toolbar_items[toolbar_ind][2];\n",
       "        var method_name = mpl.toolbar_items[toolbar_ind][3];\n",
       "\n",
       "        if (!name) { continue; };\n",
       "\n",
       "        var button = $('<button class=\"btn btn-default\" href=\"#\" title=\"' + name + '\"><i class=\"fa ' + image + ' fa-lg\"></i></button>');\n",
       "        button.click(method_name, toolbar_event);\n",
       "        button.mouseover(tooltip, toolbar_mouse_event);\n",
       "        nav_element.append(button);\n",
       "    }\n",
       "\n",
       "    // Add the status bar.\n",
       "    var status_bar = $('<span class=\"mpl-message\" style=\"text-align:right; float: right;\"/>');\n",
       "    nav_element.append(status_bar);\n",
       "    this.message = status_bar[0];\n",
       "\n",
       "    // Add the close button to the window.\n",
       "    var buttongrp = $('<div class=\"btn-group inline pull-right\"></div>');\n",
       "    var button = $('<button class=\"btn btn-mini btn-primary\" href=\"#\" title=\"Stop Interaction\"><i class=\"fa fa-power-off icon-remove icon-large\"></i></button>');\n",
       "    button.click(function (evt) { fig.handle_close(fig, {}); } );\n",
       "    button.mouseover('Stop Interaction', toolbar_mouse_event);\n",
       "    buttongrp.append(button);\n",
       "    var titlebar = this.root.find($('.ui-dialog-titlebar'));\n",
       "    titlebar.prepend(buttongrp);\n",
       "}\n",
       "\n",
       "mpl.figure.prototype._root_extra_style = function(el){\n",
       "    var fig = this\n",
       "    el.on(\"remove\", function(){\n",
       "\tfig.close_ws(fig, {});\n",
       "    });\n",
       "}\n",
       "\n",
       "mpl.figure.prototype._canvas_extra_style = function(el){\n",
       "    // this is important to make the div 'focusable\n",
       "    el.attr('tabindex', 0)\n",
       "    // reach out to IPython and tell the keyboard manager to turn it's self\n",
       "    // off when our div gets focus\n",
       "\n",
       "    // location in version 3\n",
       "    if (IPython.notebook.keyboard_manager) {\n",
       "        IPython.notebook.keyboard_manager.register_events(el);\n",
       "    }\n",
       "    else {\n",
       "        // location in version 2\n",
       "        IPython.keyboard_manager.register_events(el);\n",
       "    }\n",
       "\n",
       "}\n",
       "\n",
       "mpl.figure.prototype._key_event_extra = function(event, name) {\n",
       "    var manager = IPython.notebook.keyboard_manager;\n",
       "    if (!manager)\n",
       "        manager = IPython.keyboard_manager;\n",
       "\n",
       "    // Check for shift+enter\n",
       "    if (event.shiftKey && event.which == 13) {\n",
       "        this.canvas_div.blur();\n",
       "        event.shiftKey = false;\n",
       "        // Send a \"J\" for go to next cell\n",
       "        event.which = 74;\n",
       "        event.keyCode = 74;\n",
       "        manager.command_mode();\n",
       "        manager.handle_keydown(event);\n",
       "    }\n",
       "}\n",
       "\n",
       "mpl.figure.prototype.handle_save = function(fig, msg) {\n",
       "    fig.ondownload(fig, null);\n",
       "}\n",
       "\n",
       "\n",
       "mpl.find_output_cell = function(html_output) {\n",
       "    // Return the cell and output element which can be found *uniquely* in the notebook.\n",
       "    // Note - this is a bit hacky, but it is done because the \"notebook_saving.Notebook\"\n",
       "    // IPython event is triggered only after the cells have been serialised, which for\n",
       "    // our purposes (turning an active figure into a static one), is too late.\n",
       "    var cells = IPython.notebook.get_cells();\n",
       "    var ncells = cells.length;\n",
       "    for (var i=0; i<ncells; i++) {\n",
       "        var cell = cells[i];\n",
       "        if (cell.cell_type === 'code'){\n",
       "            for (var j=0; j<cell.output_area.outputs.length; j++) {\n",
       "                var data = cell.output_area.outputs[j];\n",
       "                if (data.data) {\n",
       "                    // IPython >= 3 moved mimebundle to data attribute of output\n",
       "                    data = data.data;\n",
       "                }\n",
       "                if (data['text/html'] == html_output) {\n",
       "                    return [cell, data, j];\n",
       "                }\n",
       "            }\n",
       "        }\n",
       "    }\n",
       "}\n",
       "\n",
       "// Register the function which deals with the matplotlib target/channel.\n",
       "// The kernel may be null if the page has been refreshed.\n",
       "if (IPython.notebook.kernel != null) {\n",
       "    IPython.notebook.kernel.comm_manager.register_target('matplotlib', mpl.mpl_figure_comm);\n",
       "}\n"
      ],
      "text/plain": [
       "<IPython.core.display.Javascript object>"
      ]
     },
     "metadata": {},
     "output_type": "display_data"
    },
    {
     "data": {
      "text/html": [
       "<img src=\"data:image/png;base64,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\" width=\"431.818172458775\">"
      ],
      "text/plain": [
       "<IPython.core.display.HTML object>"
      ]
     },
     "metadata": {},
     "output_type": "display_data"
    }
   ],
   "source": [
    "plot_iteration(a.rel_err, min_it=1000)"
   ]
  },
  {
   "cell_type": "code",
   "execution_count": null,
   "metadata": {},
   "outputs": [],
   "source": []
  },
  {
   "cell_type": "code",
   "execution_count": null,
   "metadata": {},
   "outputs": [],
   "source": []
  },
  {
   "cell_type": "code",
   "execution_count": null,
   "metadata": {},
   "outputs": [],
   "source": []
  },
  {
   "cell_type": "code",
   "execution_count": null,
   "metadata": {},
   "outputs": [],
   "source": []
  },
  {
   "cell_type": "code",
   "execution_count": null,
   "metadata": {},
   "outputs": [],
   "source": []
  },
  {
   "cell_type": "code",
   "execution_count": null,
   "metadata": {},
   "outputs": [],
   "source": []
  },
  {
   "cell_type": "code",
   "execution_count": null,
   "metadata": {},
   "outputs": [],
   "source": []
  },
  {
   "cell_type": "code",
   "execution_count": null,
   "metadata": {},
   "outputs": [],
   "source": []
  },
  {
   "cell_type": "code",
   "execution_count": null,
   "metadata": {},
   "outputs": [],
   "source": []
  },
  {
   "cell_type": "code",
   "execution_count": null,
   "metadata": {},
   "outputs": [],
   "source": [
    "p1 = np.load('output/20191223-1714_eq1_1_nn_params.npz')['arr_0']\n",
    "p2 = np.load('output/20191223-1714_eq1_2_nn_params.npz')['arr_0']\n",
    "p3 = np.load('output/20191223-1714_eq1_3_nn_params.npz')['arr_0']\n",
    "p4 = np.load('output/20191223-1730_eq1_4_nn_params.npz')['arr_0']\n",
    "p5 = np.load('output/20191223-1730_eq1_5_nn_params.npz')['arr_0']\n",
    "p6 = np.load('output/20191223-1731_eq1_6_nn_params.npz')['arr_0']\n",
    "p7 = np.load('output/20191223-1731_eq1_7_nn_params.npz')['arr_0']"
   ]
  },
  {
   "cell_type": "code",
   "execution_count": null,
   "metadata": {},
   "outputs": [],
   "source": [
    "plot_partitions(p1)"
   ]
  },
  {
   "cell_type": "code",
   "execution_count": null,
   "metadata": {},
   "outputs": [],
   "source": []
  },
  {
   "cell_type": "code",
   "execution_count": null,
   "metadata": {},
   "outputs": [],
   "source": []
  },
  {
   "cell_type": "code",
   "execution_count": null,
   "metadata": {},
   "outputs": [],
   "source": []
  },
  {
   "cell_type": "code",
   "execution_count": null,
   "metadata": {},
   "outputs": [],
   "source": []
  },
  {
   "cell_type": "code",
   "execution_count": 58,
   "metadata": {},
   "outputs": [],
   "source": [
    "name_str = 'L97_eq1_2_v1'\n",
    "a.save_result(name_str)\n",
    "\n",
    "timestr = time.strftime(\"%Y%m%d-%H%M\")\n",
    "np.savez('output/'+ timestr + '_' + name_str + '_momentum.npz', a.m_t)\n",
    "np.savez('output/'+ timestr + '_' + name_str + '_p_list.npz', p)"
   ]
  },
  {
   "cell_type": "code",
   "execution_count": null,
   "metadata": {},
   "outputs": [],
   "source": [
    "name_str = '20200716-2122_eq1_1'\n",
    "\n",
    "a.p = np.load('output/' + name_str + '_v1_nn_params.npz')['arr_0']\n",
    "a.cost_rate = np.load('output/' + name_str + '_v1_cost_rate.npz')['arr_0']\n",
    "a.rel_err = np.load('output/' + name_str + '_v1_rel_err.npz')['arr_0']\n",
    "a.m_t = np.load('output/' + name_str + '_v1_momentum.npz')['arr_0']\n",
    "p = np.load('output/' + name_str + '_v1_p_list.npz')['arr_0']"
   ]
  },
  {
   "cell_type": "code",
   "execution_count": null,
   "metadata": {},
   "outputs": [],
   "source": []
  },
  {
   "cell_type": "code",
   "execution_count": null,
   "metadata": {},
   "outputs": [],
   "source": []
  }
 ],
 "metadata": {
  "kernelspec": {
   "display_name": "Python 3",
   "language": "python",
   "name": "python3"
  },
  "language_info": {
   "codemirror_mode": {
    "name": "ipython",
    "version": 3
   },
   "file_extension": ".py",
   "mimetype": "text/x-python",
   "name": "python",
   "nbconvert_exporter": "python",
   "pygments_lexer": "ipython3",
   "version": "3.6.7"
  },
  "notify_time": "30",
  "toc": {
   "base_numbering": 1,
   "nav_menu": {},
   "number_sections": true,
   "sideBar": true,
   "skip_h1_title": false,
   "title_cell": "Table of Contents",
   "title_sidebar": "Contents",
   "toc_cell": false,
   "toc_position": {
    "height": "calc(100% - 180px)",
    "left": "10px",
    "top": "150px",
    "width": "216.797px"
   },
   "toc_section_display": true,
   "toc_window_display": false
  },
  "varInspector": {
   "cols": {
    "lenName": 16,
    "lenType": 16,
    "lenVar": 40
   },
   "kernels_config": {
    "python": {
     "delete_cmd_postfix": "",
     "delete_cmd_prefix": "del ",
     "library": "var_list.py",
     "varRefreshCmd": "print(var_dic_list())"
    },
    "r": {
     "delete_cmd_postfix": ") ",
     "delete_cmd_prefix": "rm(",
     "library": "var_list.r",
     "varRefreshCmd": "cat(var_dic_list()) "
    }
   },
   "types_to_exclude": [
    "module",
    "function",
    "builtin_function_or_method",
    "instance",
    "_Feature"
   ],
   "window_display": false
  }
 },
 "nbformat": 4,
 "nbformat_minor": 2
}
