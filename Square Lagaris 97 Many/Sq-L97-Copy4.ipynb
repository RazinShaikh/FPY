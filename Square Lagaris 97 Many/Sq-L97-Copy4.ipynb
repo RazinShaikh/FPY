{
 "cells": [
  {
   "cell_type": "markdown",
   "metadata": {
    "heading_collapsed": true,
    "slideshow": {
     "slide_type": "-"
    }
   },
   "source": [
    "# Imports"
   ]
  },
  {
   "cell_type": "code",
   "execution_count": 1,
   "metadata": {
    "hidden": true
   },
   "outputs": [
    {
     "name": "stdout",
     "output_type": "stream",
     "text": [
      "Pixiedust database opened successfully\n"
     ]
    },
    {
     "data": {
      "text/html": [
       "\n",
       "        <div style=\"margin:10px\">\n",
       "            <a href=\"https://github.com/ibm-watson-data-lab/pixiedust\" target=\"_new\">\n",
       "                <img src=\"https://github.com/ibm-watson-data-lab/pixiedust/raw/master/docs/_static/pd_icon32.png\" style=\"float:left;margin-right:10px\"/>\n",
       "            </a>\n",
       "            <span>Pixiedust version 1.1.14</span>\n",
       "        </div>\n",
       "        "
      ],
      "text/plain": [
       "<IPython.core.display.HTML object>"
      ]
     },
     "metadata": {},
     "output_type": "display_data"
    },
    {
     "data": {
      "text/html": [
       "<div>Warning: You are not running the latest version of PixieDust. Current is 1.1.14, Latest is 1.1.18</div>"
      ],
      "text/plain": [
       "<IPython.core.display.HTML object>"
      ]
     },
     "metadata": {},
     "output_type": "display_data"
    },
    {
     "data": {
      "text/html": [
       "\n",
       "                <div>Please copy and run the following command in a new cell to upgrade: <span style=\"background-color:#ececec;font-family:monospace;padding:0 5px\">!pip install --user --upgrade pixiedust</span></div>\n",
       "            "
      ],
      "text/plain": [
       "<IPython.core.display.HTML object>"
      ]
     },
     "metadata": {},
     "output_type": "display_data"
    },
    {
     "data": {
      "text/html": [
       "<div>Please restart kernel after upgrading.</div>"
      ],
      "text/plain": [
       "<IPython.core.display.HTML object>"
      ]
     },
     "metadata": {},
     "output_type": "display_data"
    }
   ],
   "source": [
    "import copy\n",
    "import numpy as np\n",
    "import itertools\n",
    "import time\n",
    "from matplotlib import pyplot as plt\n",
    "from mpl_toolkits.mplot3d import Axes3D\n",
    "from matplotlib import cm\n",
    "import pixiedust"
   ]
  },
  {
   "cell_type": "markdown",
   "metadata": {
    "heading_collapsed": true
   },
   "source": [
    "# Introduction"
   ]
  },
  {
   "cell_type": "markdown",
   "metadata": {
    "hidden": true
   },
   "source": [
    "Consider the following equation:\n",
    "$$\\Delta_p \\Psi(x,y)=f(x,y)$$\n",
    "\n",
    "$x \\in [0,1],\\ y \\in [0,1]$ with *Dirichlet* BC: $\\Psi(0,y) = 0$, $\\Psi(1,y) = 0$, $\\Psi(x,0) = 0$ and $\\Psi(x,1) = 0$.\n",
    "\n",
    "For this first attempt, we will take $p=2$."
   ]
  },
  {
   "cell_type": "markdown",
   "metadata": {
    "heading_collapsed": true
   },
   "source": [
    "# Defining functions"
   ]
  },
  {
   "cell_type": "markdown",
   "metadata": {
    "heading_collapsed": true,
    "hidden": true
   },
   "source": [
    "## Sigmoid"
   ]
  },
  {
   "cell_type": "markdown",
   "metadata": {
    "hidden": true
   },
   "source": [
    "Sigmoid $\\sigma(x) = \\frac{1}{1+e^{-x}}$ and its derrivatives."
   ]
  },
  {
   "cell_type": "markdown",
   "metadata": {
    "hidden": true
   },
   "source": [
    "Sigmoid with parameter $t$\n",
    "$$ \\sigma_t(x) = \\frac{1}{1+e^{-tx}}$$"
   ]
  },
  {
   "cell_type": "code",
   "execution_count": 2,
   "metadata": {
    "hidden": true
   },
   "outputs": [],
   "source": [
    "T = 1"
   ]
  },
  {
   "cell_type": "code",
   "execution_count": 3,
   "metadata": {
    "hidden": true
   },
   "outputs": [],
   "source": [
    "def sig(x):\n",
    "    return 1 / (1 + np.exp(-T*x))\n",
    "\n",
    "def sig1(x):\n",
    "    return T * sig(x) * (1 - sig(x))\n",
    "\n",
    "def sig2(x):\n",
    "    return T * (sig1(x) - 2*sig(x)*sig1(x))\n",
    "\n",
    "def sig3(x):\n",
    "    return T * (sig2(x) - 2 * (sig1(x)**2 + sig(x) * sig2(x)))\n",
    "\n",
    "def sig_pr(x, k):\n",
    "    if k==0:\n",
    "        return sig(x)\n",
    "    if k==1:\n",
    "        return sig1(x)\n",
    "    if k==2:\n",
    "        return sig2(x)\n",
    "    if k==3:\n",
    "        return sig3(x)"
   ]
  },
  {
   "cell_type": "markdown",
   "metadata": {
    "heading_collapsed": true,
    "hidden": true
   },
   "source": [
    "## RHS"
   ]
  },
  {
   "cell_type": "markdown",
   "metadata": {
    "hidden": true
   },
   "source": [
    "The right side of the equation:  $\\Delta\\Psi(x,y) = 6 x (x-1) (1-2 y) + 2 y (y-1) (1-2 y)$"
   ]
  },
  {
   "cell_type": "code",
   "execution_count": 4,
   "metadata": {
    "hidden": true
   },
   "outputs": [],
   "source": [
    "K=1\n",
    "def f(x, y):\n",
    "    return K * (6*(x-1)*x*(1-2*y) + 2*(y-1)*y*(1-2*y))"
   ]
  },
  {
   "cell_type": "markdown",
   "metadata": {
    "hidden": true
   },
   "source": [
    "The analytic solution is given by: $\\ \\Psi_a(x,y) = x (1-x) y (1-y) (1-2 y)$"
   ]
  },
  {
   "cell_type": "code",
   "execution_count": 5,
   "metadata": {
    "hidden": true
   },
   "outputs": [],
   "source": [
    "def psi_a(x, y):\n",
    "    return K * x*(1-x)*y*(1-y)*(1-2*y)"
   ]
  },
  {
   "cell_type": "markdown",
   "metadata": {
    "hidden": true
   },
   "source": [
    "$$\\frac{\\partial}{\\partial x} \\Psi_a = (1-2x) y (1-y) (1-2 y)$$"
   ]
  },
  {
   "cell_type": "code",
   "execution_count": 6,
   "metadata": {
    "hidden": true
   },
   "outputs": [],
   "source": [
    "def psi_a_dx(x,y):\n",
    "    return K * (1-2*x)*y*(1-y)*(1-2*y)"
   ]
  },
  {
   "cell_type": "markdown",
   "metadata": {
    "hidden": true
   },
   "source": [
    "$$\\frac{\\partial}{\\partial y} \\Psi_a = x (1-x) (1-6y + 6y^2) $$"
   ]
  },
  {
   "cell_type": "code",
   "execution_count": 7,
   "metadata": {
    "hidden": true
   },
   "outputs": [],
   "source": [
    "def psi_a_dy(x,y):\n",
    "    return K * x*(1-x)*(1-6*y+6*(y**2))"
   ]
  },
  {
   "cell_type": "markdown",
   "metadata": {
    "heading_collapsed": true,
    "hidden": true
   },
   "source": [
    "## Neural Network"
   ]
  },
  {
   "cell_type": "markdown",
   "metadata": {
    "hidden": true
   },
   "source": [
    "The output of neural network $N(x,y,\\vec{p})$, where $\\vec{p} = [w, u, v]$:\n",
    "$$N = \\sum_i^H v_i \\sigma(z_i) \\text{, where } z_i = w_{i0} x + w_{i1} y + u_i$$"
   ]
  },
  {
   "cell_type": "code",
   "execution_count": 8,
   "metadata": {
    "code_folding": [],
    "hidden": true
   },
   "outputs": [],
   "source": [
    "def z(x, y, p):\n",
    "    z_x = np.multiply(x, p[0][0])\n",
    "    z_y = np.multiply(y, p[0][1])\n",
    "    z_ = np.array([z_x, z_y, p[1]]).sum(axis=0)\n",
    "    return z_\n",
    "\n",
    "def N(x, y, p):\n",
    "    return np.sum(np.multiply(sig(z(x,y,p)), p[2]))"
   ]
  },
  {
   "cell_type": "markdown",
   "metadata": {
    "hidden": true
   },
   "source": [
    "$$\\frac{\\partial^k N}{\\partial x_j^k} = \\sum_{i=1}^H v_i w_{ij}^k \\sigma^{(k)}$$"
   ]
  },
  {
   "cell_type": "code",
   "execution_count": 9,
   "metadata": {
    "code_folding": [],
    "hidden": true
   },
   "outputs": [],
   "source": [
    "def dN_dxj_k(x, y, p, j, k):\n",
    "    wj = p[0][j]\n",
    "    v = p[2]\n",
    "    z_ = z(x, y, p)\n",
    "    \n",
    "    return np.sum(v * (wj**k) * sig_pr(z_, k))"
   ]
  },
  {
   "cell_type": "markdown",
   "metadata": {
    "hidden": true
   },
   "source": [
    "$$\\frac{\\partial N}{\\partial w_j} = x_j v \\sigma '$$"
   ]
  },
  {
   "cell_type": "code",
   "execution_count": 10,
   "metadata": {
    "code_folding": [],
    "hidden": true
   },
   "outputs": [],
   "source": [
    "def dN_dwj(x, y, p, j):\n",
    "    xj = x if j==0 else y\n",
    "    v = p[2]\n",
    "    z_ = z(x, y, p)\n",
    "    return xj * v * sig1(z_)"
   ]
  },
  {
   "cell_type": "markdown",
   "metadata": {
    "hidden": true
   },
   "source": [
    "$$ \\frac{\\partial}{\\partial w_j} \\frac{\\partial N}{\\partial x_k} = x_j v w_k \\sigma'' + v_i \\sigma' \\quad\\text{ if } j = k$$\n",
    "\n",
    "$$ \\frac{\\partial}{\\partial w_j} \\frac{\\partial N}{\\partial x_k} = x_j v w_k \\sigma'' \\quad\\text{ if } j \\neq k$$"
   ]
  },
  {
   "cell_type": "code",
   "execution_count": 11,
   "metadata": {
    "code_folding": [],
    "hidden": true
   },
   "outputs": [],
   "source": [
    "def d_dwj_dN_dxk(x, y, p, j, k):\n",
    "    xj = x if j==0 else y\n",
    "    wk = p[0][k]\n",
    "    jk = 1 if j==k else 0\n",
    "    v = p[2]\n",
    "    z_ = z(x, y, p)\n",
    "    return xj * v * wk * sig2(z_) + jk * v * sig1(z_)"
   ]
  },
  {
   "cell_type": "markdown",
   "metadata": {
    "hidden": true
   },
   "source": [
    "$$ \\frac{\\partial}{\\partial w_j} \\frac{\\partial^2 N}{\\partial x_k^2} = x_j v w_k^2 \\sigma^{(3)} + 2 v w_k \\sigma'' \\quad\\text{ if } j = k $$\n",
    "\n",
    "$$ \\frac{\\partial}{\\partial w_j} \\frac{\\partial^2 N}{\\partial x_k^2} = x_j v w_k^2 \\sigma^{(3)} \\quad\\text{ if } j \\neq k $$"
   ]
  },
  {
   "cell_type": "code",
   "execution_count": 12,
   "metadata": {
    "code_folding": [],
    "hidden": true
   },
   "outputs": [],
   "source": [
    "def d_dwj_dN2_dxk2(x, y, p, j, k):\n",
    "    xj = x if j==0 else y\n",
    "    wk = p[0][k]\n",
    "    jk = 1 if j==k else 0\n",
    "    v = p[2]\n",
    "    z_ = z(x, y, p)\n",
    "    return xj * v * (wk**2) * sig3(z_) + jk * 2 * v * wk * sig2(z_)"
   ]
  },
  {
   "cell_type": "markdown",
   "metadata": {
    "hidden": true
   },
   "source": [
    "$$ \\frac{\\partial}{\\partial u} \\frac{\\partial^k}{\\partial x_j^k} N = v w_j^k \\sigma^{(k+1)} $$"
   ]
  },
  {
   "cell_type": "code",
   "execution_count": 13,
   "metadata": {
    "code_folding": [],
    "hidden": true
   },
   "outputs": [],
   "source": [
    "def d_du_dkN(x, y, p, j, k):\n",
    "    v = p[2]\n",
    "    wj = p[0][j]\n",
    "    z_ = z(x, y, p)\n",
    "    return v * (wj**k) * sig_pr(z_, k+1)"
   ]
  },
  {
   "cell_type": "markdown",
   "metadata": {
    "hidden": true
   },
   "source": [
    "$$ \\frac{\\partial}{\\partial v} \\frac{\\partial^k}{\\partial x_j^k} N = w_j^k \\sigma^{(k)} $$"
   ]
  },
  {
   "cell_type": "code",
   "execution_count": 14,
   "metadata": {
    "code_folding": [],
    "hidden": true
   },
   "outputs": [],
   "source": [
    "def d_dv_dkN(x, y, p, j, k):\n",
    "    wj = p[0][j]\n",
    "    z_ = z(x, y, p)\n",
    "    return (wj**k) * sig_pr(z_, k)"
   ]
  },
  {
   "cell_type": "markdown",
   "metadata": {
    "heading_collapsed": true,
    "hidden": true
   },
   "source": [
    "## Trial solution"
   ]
  },
  {
   "cell_type": "markdown",
   "metadata": {
    "hidden": true
   },
   "source": [
    "The trial solution is given by: $$\\Psi_t(x,y) = x(1-x)y(1-y)N(x,y,\\vec{p})$$"
   ]
  },
  {
   "cell_type": "code",
   "execution_count": 15,
   "metadata": {
    "hidden": true
   },
   "outputs": [],
   "source": [
    "def psi_t(x, y, p):\n",
    "    return x * (1-x) * y * (1-y) * N(x, y, p)"
   ]
  },
  {
   "cell_type": "markdown",
   "metadata": {
    "hidden": true
   },
   "source": [
    "$$\\frac{\\partial \\Psi_t}{\\partial x_j} = y_j(1-y_j)\\left[ (1-2x_j) N + x_j (1-x_j) \\frac{\\partial N}{\\partial x_j} \\right]$$"
   ]
  },
  {
   "cell_type": "code",
   "execution_count": 16,
   "metadata": {
    "hidden": true
   },
   "outputs": [],
   "source": [
    "def dPsi_dxj(x, y, p, j):\n",
    "    xj = x if j==0 else y\n",
    "    yj = y if j==0 else x\n",
    "    return yj*(1-yj)*((1-2*xj)*N(x,y,p) + xj*(1-xj)*dN_dxj_k(x,y,p,j,1))"
   ]
  },
  {
   "cell_type": "markdown",
   "metadata": {
    "hidden": true
   },
   "source": [
    "$$\\frac{\\partial^2 \\Psi_t}{\\partial x_j^2} = y_j(1-y_j)\\left[ -2N + (2-4x_j) \\frac{\\partial N}{\\partial x_j} + x_j (1-x_j) \\frac{\\partial^2 N}{\\partial x_j^2} \\right]$$"
   ]
  },
  {
   "cell_type": "code",
   "execution_count": 17,
   "metadata": {
    "hidden": true
   },
   "outputs": [],
   "source": [
    "def dPsi2_dxj2(x, y, p, j):\n",
    "    xj = x if j==0 else y\n",
    "    yj = y if j==0 else x\n",
    "    return yj*(1-yj)*(-2*N(x,y,p) + (2-4*xj)*dN_dxj_k(x,y,p,j,1) + xj*(1-xj)*dN_dxj_k(x,y,p,j,2))"
   ]
  },
  {
   "cell_type": "markdown",
   "metadata": {
    "heading_collapsed": true,
    "hidden": true
   },
   "source": [
    "## Cost function"
   ]
  },
  {
   "cell_type": "markdown",
   "metadata": {
    "hidden": true
   },
   "source": [
    "$$E[\\vec{p}] = \\sum_{i \\in \\hat{D}} \\left\\{ \\frac{\\partial^2 \\Psi_t}{\\partial x^2} + \\frac{\\partial^2 \\Psi_t}{\\partial y^2} - f(x,y) \\right\\}^2 $$"
   ]
  },
  {
   "cell_type": "code",
   "execution_count": 18,
   "metadata": {
    "hidden": true
   },
   "outputs": [],
   "source": [
    "def error(x, y, p):\n",
    "    return dPsi2_dxj2(x,y,p,0) + dPsi2_dxj2(x,y,p,1) - f(x,y)"
   ]
  },
  {
   "cell_type": "code",
   "execution_count": 19,
   "metadata": {
    "code_folding": [],
    "hidden": true
   },
   "outputs": [],
   "source": [
    "def cost(points, p):\n",
    "    err = []\n",
    "    for x, y in points:\n",
    "        err_sq = error(x, y, p)**2\n",
    "        err.append(err_sq)\n",
    "        \n",
    "    cost = sum(err)\n",
    "    \n",
    "    return cost"
   ]
  },
  {
   "cell_type": "code",
   "execution_count": 20,
   "metadata": {
    "hidden": true
   },
   "outputs": [],
   "source": [
    "def relative_err(p, nx=100, all_points=None):\n",
    "    if all_points == None:\n",
    "        all_points = list(itertools.product(np.linspace(0, 1, nx), np.linspace(0, 1, nx)))\n",
    "\n",
    "    dOmega = 1. / len(all_points)\n",
    "\n",
    "    trial1 = np.sum(dOmega*np.array([np.linalg.norm(psi_t(x,y,p) - psi_a(x,y))**2\n",
    "                                     for x, y in all_points]))\n",
    "\n",
    "    trial2 = np.sum([dOmega*((dPsi_dxj(x,y,p,0)-psi_a_dx(x,y))**2 +\n",
    "                             (dPsi_dxj(x,y,p,1)-psi_a_dy(x,y))**2)\n",
    "                     for x, y in all_points])\n",
    "\n",
    "    ana1 = np.sum(dOmega*np.array([np.linalg.norm(psi_a(x,y))**2\n",
    "                                         for x, y in all_points]))\n",
    "    ana2 = np.sum([dOmega*(psi_a_dx(x,y)**2 + psi_a_dy(x,y)**2)\n",
    "                   for x, y in all_points])\n",
    "    \n",
    "    rel_err = (trial1 + trial2)**(1/2) / (ana1 + ana2)**(1/2)\n",
    "    \n",
    "    return rel_err"
   ]
  },
  {
   "cell_type": "markdown",
   "metadata": {
    "heading_collapsed": true
   },
   "source": [
    "# Gradients"
   ]
  },
  {
   "cell_type": "markdown",
   "metadata": {
    "hidden": true
   },
   "source": [
    "$$\\frac{\\partial}{\\partial w_j} \\frac{\\partial^2 \\Psi_t}{\\partial x_k^2} = y_k(1-y_k)\\left[ -2\\frac{\\partial N}{\\partial w_j} + (2-4x_k) \\frac{\\partial}{\\partial w_j} \\frac{\\partial N}{\\partial x_k} + x_k(1-x_k) \\frac{\\partial}{\\partial w_j} \\frac{\\partial^2 N}{\\partial x_k^2} \\right]$$"
   ]
  },
  {
   "cell_type": "code",
   "execution_count": 21,
   "metadata": {
    "hidden": true
   },
   "outputs": [],
   "source": [
    "def d_dwj_dPsi2_dxk2(x, y, p, j, k):\n",
    "    xj = x if k==0 else y\n",
    "    yj = y if k==0 else x\n",
    "    return yj*(1-yj)*(-2*dN_dwj(x,y,p,j) + (2-4*xj)*d_dwj_dN_dxk(x,y,p,j,k) + xj*(1-xj)*d_dwj_dN2_dxk2(x,y,p,j,k))"
   ]
  },
  {
   "cell_type": "markdown",
   "metadata": {
    "hidden": true
   },
   "source": [
    "$$\\frac{\\partial}{\\partial u} \\frac{\\partial^2 \\Psi_t}{\\partial x_k^2} = y_k(1-y_k)\\left[ -2\\frac{\\partial N}{\\partial u} + (2-4x_k) \\frac{\\partial}{\\partial u} \\frac{\\partial N}{\\partial x_k} + x_k(1-x_k) \\frac{\\partial}{\\partial u} \\frac{\\partial^2 N}{\\partial x_k^2} \\right]$$"
   ]
  },
  {
   "cell_type": "code",
   "execution_count": 22,
   "metadata": {
    "hidden": true
   },
   "outputs": [],
   "source": [
    "def d_du_dPsi2_dxk2(x, y, p, k):\n",
    "    xj = x if k==0 else y\n",
    "    yj = y if k==0 else x\n",
    "    return yj*(1-yj)*(-2*d_du_dkN(x,y,p,k,0) + (2-4*xj)*d_du_dkN(x,y,p,k,1) + xj*(1-xj)*d_du_dkN(x,y,p,k,2))"
   ]
  },
  {
   "cell_type": "markdown",
   "metadata": {
    "hidden": true
   },
   "source": [
    "$$\\frac{\\partial}{\\partial v} \\frac{\\partial^2 \\Psi_t}{\\partial x_k^2} = y_k(1-y_k)\\left[ -2\\frac{\\partial N}{\\partial v} + (2-4x_k) \\frac{\\partial}{\\partial v} \\frac{\\partial N}{\\partial x_k} + x_k(1-x_k) \\frac{\\partial}{\\partial v} \\frac{\\partial^2 N}{\\partial x_k^2} \\right]$$"
   ]
  },
  {
   "cell_type": "code",
   "execution_count": 23,
   "metadata": {
    "hidden": true
   },
   "outputs": [],
   "source": [
    "def d_dv_dPsi2_dxk2(x, y, p, k):\n",
    "    xj = x if k==0 else y\n",
    "    yj = y if k==0 else x\n",
    "    return yj*(1-yj)*(-2*d_dv_dkN(x,y,p,k,0) + (2-4*xj)*d_dv_dkN(x,y,p,k,1) + xj*(1-xj)*d_dv_dkN(x,y,p,k,2))"
   ]
  },
  {
   "cell_type": "markdown",
   "metadata": {
    "hidden": true
   },
   "source": [
    "$$ \\frac{\\partial E[\\vec{p}]}{\\partial w_j} = \\sum_{i \\in \\hat{D}} \\left\\{ 2 \\text{ (error) } \\left( \\frac{\\partial}{\\partial w_j} \\frac{\\partial^2 \\Psi_t}{\\partial x^2} + \\frac{\\partial}{\\partial w_j} \\frac{\\partial^2 \\Psi_t}{\\partial y^2} \\right) \\right\\}$$"
   ]
  },
  {
   "cell_type": "code",
   "execution_count": 24,
   "metadata": {
    "code_folding": [],
    "hidden": true
   },
   "outputs": [],
   "source": [
    "def dE_dwj(points, p, j):\n",
    "    t1 = []\n",
    "    for x, y in points:\n",
    "        tmp = 2 * error(x,y,p) * (d_dwj_dPsi2_dxk2(x,y,p,j,0) + \n",
    "                                  d_dwj_dPsi2_dxk2(x,y,p,j,1))\n",
    "        t1.append(tmp)\n",
    "    \n",
    "    grad = sum(t1)\n",
    "    \n",
    "    return grad"
   ]
  },
  {
   "cell_type": "markdown",
   "metadata": {
    "hidden": true
   },
   "source": [
    "$$ \\frac{\\partial E[\\vec{p}]}{\\partial u} = \\sum_{i \\in \\hat{D}} \\left\\{ 2 \\text{ (error) } \\left( \\frac{\\partial}{\\partial u} \\frac{\\partial^2 \\Psi_t}{\\partial x^2} + \\frac{\\partial}{\\partial u} \\frac{\\partial^2 \\Psi_t}{\\partial y^2} \\right) \\right\\}$$"
   ]
  },
  {
   "cell_type": "code",
   "execution_count": 25,
   "metadata": {
    "code_folding": [],
    "hidden": true
   },
   "outputs": [],
   "source": [
    "def dE_du(points, p):\n",
    "    t1 = []\n",
    "    for x, y in points:\n",
    "        tmp = 2 * error(x,y,p) * (d_du_dPsi2_dxk2(x,y,p,0) + \n",
    "                                  d_du_dPsi2_dxk2(x,y,p,1))\n",
    "        t1.append(tmp)\n",
    "    \n",
    "    grad = sum(t1)\n",
    "    \n",
    "    return grad"
   ]
  },
  {
   "cell_type": "markdown",
   "metadata": {
    "hidden": true
   },
   "source": [
    "$$ \\frac{\\partial E[\\vec{p}]}{\\partial v} = \\sum_{i \\in \\hat{D}} \\left\\{ 2 \\text{ (error) } \\left( \\frac{\\partial}{\\partial v} \\frac{\\partial^2 \\Psi_t}{\\partial x^2} + \\frac{\\partial}{\\partial v} \\frac{\\partial^2 \\Psi_t}{\\partial y^2} \\right) \\right\\}$$"
   ]
  },
  {
   "cell_type": "code",
   "execution_count": 26,
   "metadata": {
    "code_folding": [],
    "hidden": true
   },
   "outputs": [],
   "source": [
    "def dE_dv(points, p):\n",
    "    t1 = []\n",
    "    for x, y in points:\n",
    "        tmp = 2 * error(x,y,p) * (d_dv_dPsi2_dxk2(x,y,p,0) + \n",
    "                                  d_dv_dPsi2_dxk2(x,y,p,1))\n",
    "        t1.append(tmp)\n",
    "    \n",
    "    grad = sum(t1)\n",
    "    \n",
    "    return grad"
   ]
  },
  {
   "cell_type": "markdown",
   "metadata": {
    "heading_collapsed": true
   },
   "source": [
    "# NN class"
   ]
  },
  {
   "cell_type": "code",
   "execution_count": 27,
   "metadata": {
    "hidden": true
   },
   "outputs": [],
   "source": [
    "def initialize_p(hidden_nodes):\n",
    "    w1 = np.random.randn(hidden_nodes)\n",
    "    v = np.random.randn(hidden_nodes)\n",
    "    w0 = []\n",
    "    u = []\n",
    "\n",
    "    for w1_sample in w1:\n",
    "        x = []\n",
    "        y = []\n",
    "        for side in np.random.choice(4, 2, replace=False):\n",
    "            if side == 0:\n",
    "                x.append(0)\n",
    "                y.append(np.random.uniform(0.1,0.9,1)[0])\n",
    "            elif side == 1:\n",
    "                x.append(np.random.uniform(0.1,0.9,1)[0])\n",
    "                y.append(1)\n",
    "            elif side == 2:\n",
    "                x.append(1)\n",
    "                y.append(np.random.uniform(0.1,0.9,1)[0])\n",
    "            elif side == 3:\n",
    "                x.append(np.random.uniform(0.1,0.9,1)[0])\n",
    "                y.append(0)\n",
    "\n",
    "        slope = (y[1] - y[0]) / (x[1] - x[0])\n",
    "        w0.append(-slope * w1_sample)\n",
    "        u.append((slope*x[0] - y[0]) * w1_sample)\n",
    "\n",
    "    p = np.array([np.array([np.array(w0), np.array(w1)]), \n",
    "                  np.array(u), np.array(v)])\n",
    "    \n",
    "    return p"
   ]
  },
  {
   "cell_type": "code",
   "execution_count": 28,
   "metadata": {
    "hidden": true
   },
   "outputs": [],
   "source": [
    "def get_mini_batches(points, batch_size):\n",
    "    np.random.shuffle(points)\n",
    "    \n",
    "    no_of_splits = np.ceil(len(points) / batch_size)\n",
    "\n",
    "    mini_batch_points = np.array_split(points, no_of_splits)\n",
    "    \n",
    "    return mini_batch_points"
   ]
  },
  {
   "cell_type": "code",
   "execution_count": 29,
   "metadata": {
    "code_folding": [
     57,
     63
    ],
    "hidden": true
   },
   "outputs": [],
   "source": [
    "class NNTrain:\n",
    "    def __init__(self, nx=10, hidden_nodes=10, alpha=0.01, batch_size=50,\n",
    "                 beta=0.9, update_interval=50, if_rel_err=False,\n",
    "                 output_file='output/output.csv'):\n",
    "\n",
    "        self.output_file = output_file\n",
    "        self.training_started = False\n",
    "        self.nx = nx\n",
    "        self.hidden_nodes = hidden_nodes\n",
    "        self.alpha = alpha\n",
    "        self.batch_size = batch_size\n",
    "        self.beta = beta\n",
    "        self.update_interval = update_interval\n",
    "        self.points = list(itertools.product(\n",
    "            np.linspace(0, 1, nx), np.linspace(0, 1, nx)))\n",
    "        self.cost_rate = []\n",
    "        self.if_rel_err = if_rel_err\n",
    "        if self.if_rel_err:\n",
    "            self.rel_err = []\n",
    "        self.p = initialize_p(hidden_nodes)\n",
    "        self.m_t = np.array([np.zeros(hidden_nodes),\n",
    "                             np.zeros(hidden_nodes),\n",
    "                             np.zeros(hidden_nodes),\n",
    "                             np.zeros(hidden_nodes)])\n",
    "\n",
    "        \n",
    "    def sgd_mt(self, w, g_t, theta_0):\n",
    "        # gradient descent with momentum\n",
    "        self.m_t[w] = self.beta * self.m_t[w] + (1-self.beta) * g_t\n",
    "        theta_0 = theta_0 - (self.alpha*self.m_t[w])\n",
    "\n",
    "        return theta_0\n",
    "\n",
    "    \n",
    "    def train(self, itr=1000):\n",
    "        if self.training_started:\n",
    "            mode = 'a'\n",
    "        else:\n",
    "            mode = 'w'\n",
    "        self.training_started = True\n",
    "\n",
    "        with open(self.output_file, mode) as file:\n",
    "            if mode == 'w':\n",
    "                if self.if_rel_err:\n",
    "                    file.write(\n",
    "                        'Iteration,Cost,Cost Diff,Relative Error,Relative Error Diff\\n')\n",
    "                else:\n",
    "                    file.write('Iteration,Cost,Cost Diff\\n')\n",
    "            start = len(self.cost_rate)-1\n",
    "            if start < 1:\n",
    "                start += 1\n",
    "                self.cost_rate.append(cost(self.points, self.p))\n",
    "                if self.if_rel_err:\n",
    "                    self.rel_err.append(relative_err(\n",
    "                        self.p, all_points=self.points))\n",
    "\n",
    "            i = start\n",
    "            while i < start+itr:\n",
    "                mini_batch_points = get_mini_batches(\n",
    "                    self.points, self.batch_size)\n",
    "\n",
    "                for mini_point in mini_batch_points:\n",
    "                    mini_point = list(mini_point)\n",
    "\n",
    "                    g_w0 = dE_dwj(mini_point, self.p, 0)\n",
    "                    g_w1 = dE_dwj(mini_point, self.p, 1)\n",
    "                    g_u = dE_du(mini_point, self.p)\n",
    "                    g_v = dE_dv(mini_point, self.p)\n",
    "\n",
    "                    self.p[0][0] = self.sgd_mt(0, g_w0, self.p[0][0])\n",
    "                    self.p[0][1] = self.sgd_mt(1, g_w1, self.p[0][1])\n",
    "                    self.p[1] = self.sgd_mt(2, g_u, self.p[1])\n",
    "                    self.p[2] = self.sgd_mt(3, g_v, self.p[2])\n",
    "\n",
    "                self.cost_rate.append(cost(self.points, self.p))\n",
    "                cost_diff = self.cost_rate[i]-self.cost_rate[i+1]\n",
    "                if self.if_rel_err:\n",
    "                    self.rel_err.append(relative_err(\n",
    "                        self.p, all_points=self.points))\n",
    "                    rel_diff = self.rel_err[i]-self.rel_err[i+1]\n",
    "\n",
    "                if self.if_rel_err:\n",
    "                    file.write('{},{:.8f},{:.8f},{:.8f},{:.8f}\\n'.format(\n",
    "                        i+1, self.cost_rate[i+1], cost_diff,\n",
    "                        self.rel_err[i+1], rel_diff))\n",
    "                else:\n",
    "                    file.write('{},{:.8f},{:.8f}\\n'.format(\n",
    "                        i+1, self.cost_rate[i+1], cost_diff))\n",
    "\n",
    "                if i % self.update_interval == 0:\n",
    "                    file.flush()\n",
    "\n",
    "                i += 1\n",
    "\n",
    "                \n",
    "    def save_result(self, output_name=''):\n",
    "        timestr = time.strftime(\"%Y%m%d-%H%M\")\n",
    "        np.savez('output/' + timestr + '_' +\n",
    "                 output_name + '_nn_params.npz', self.p)\n",
    "        np.savez('output/' + timestr + '_' + output_name +\n",
    "                 '_cost_rate.npz', self.cost_rate)\n",
    "        if self.if_rel_err:\n",
    "            np.savez('output/' + timestr + '_' +\n",
    "                     output_name + '_rel_err.npz', self.rel_err)"
   ]
  },
  {
   "cell_type": "code",
   "execution_count": null,
   "metadata": {
    "hidden": true
   },
   "outputs": [],
   "source": []
  },
  {
   "cell_type": "markdown",
   "metadata": {
    "heading_collapsed": true
   },
   "source": [
    "# Graphs"
   ]
  },
  {
   "cell_type": "code",
   "execution_count": 30,
   "metadata": {
    "hidden": true
   },
   "outputs": [],
   "source": [
    "%matplotlib notebook\n",
    "%matplotlib notebook"
   ]
  },
  {
   "cell_type": "markdown",
   "metadata": {
    "heading_collapsed": true,
    "hidden": true
   },
   "source": [
    "## Hidden Nodes"
   ]
  },
  {
   "cell_type": "code",
   "execution_count": 31,
   "metadata": {
    "hidden": true
   },
   "outputs": [],
   "source": [
    "def plot_nodes(a, save_name=None, save=True, zlim=True):\n",
    "    p = a.p\n",
    "    hmax = a.p[0][0].shape[0]\n",
    "    col = int(np.sqrt(hmax)) if int(np.sqrt(hmax)) < 10 else 10\n",
    "    row = np.ceil(hmax / col)\n",
    "    \n",
    "    d_x=0.1\n",
    "\n",
    "    fig = plt.figure(figsize=(col*3, row*3), dpi=100)\n",
    "    for h in range(1,hmax+1):\n",
    "        ax = fig.add_subplot(row,col,h, projection='3d')\n",
    "        x = y = np.arange(0, 1+d_x, d_x)\n",
    "        X, Y = np.meshgrid(x, y)\n",
    "\n",
    "        zs = np.array([p[1][h-1]*sig(z(x,y,p))[h-1] for x,y in zip(np.ravel(X), np.ravel(Y))])\n",
    "        Z = zs.reshape(X.shape)\n",
    "\n",
    "        ax.set_xlabel('x')\n",
    "        ax.set_ylabel('y')\n",
    "        if zlim:\n",
    "            ax.set_zlim(0,1)\n",
    "\n",
    "        ax.plot_surface(X, Y, Z, cmap=cm.coolwarm)\n",
    "        ax.title.set_text('HN: ' + str(h) + ', v=' + \"{:.4E}\".format(p[1][h-1]))\n",
    "        time.sleep(0.2)\n",
    "\n",
    "    if save==True:\n",
    "        if save_name is None: \n",
    "            plt.savefig('t'+str(T)+'_h'+str(hmax)+'_n'+str(a.nx)+'.png')\n",
    "        else:\n",
    "            plt.savefig(save_name)\n",
    "    else:\n",
    "        plt.show()"
   ]
  },
  {
   "cell_type": "markdown",
   "metadata": {
    "heading_collapsed": true,
    "hidden": true
   },
   "source": [
    "## Error vs Iterations"
   ]
  },
  {
   "cell_type": "code",
   "execution_count": 32,
   "metadata": {
    "hidden": true
   },
   "outputs": [],
   "source": [
    "def plot_iteration(arr, min_it=0, max_it=None):\n",
    "    plt.figure()\n",
    "    plt.plot(np.arange(len(arr[min_it:max_it])), np.array(arr[min_it:max_it]))\n",
    "    plt.show()"
   ]
  },
  {
   "cell_type": "markdown",
   "metadata": {
    "heading_collapsed": true,
    "hidden": true
   },
   "source": [
    "## Solution Accuracy on the domain"
   ]
  },
  {
   "cell_type": "code",
   "execution_count": 33,
   "metadata": {
    "hidden": true
   },
   "outputs": [],
   "source": [
    "def plot_fun(fun, zlim=False, title=None, return_ax=False, **kwargs):\n",
    "    d_x=0.01\n",
    "    fig = plt.figure()\n",
    "    ax = fig.add_subplot(111, projection='3d')\n",
    "    x = y = np.arange(0, 1.0+d_x, d_x)\n",
    "    X, Y = np.meshgrid(x, y)\n",
    "\n",
    "    zs = np.array([fun(x,y,**kwargs) for x,y in zip(np.ravel(X), np.ravel(Y))])\n",
    "    Z = zs.reshape(X.shape)\n",
    "\n",
    "    ax.plot_surface(X, Y, Z, cmap=cm.coolwarm_r)\n",
    "    # ax.ticklabel_format(style='sci', axis='z', scilimits=(0,0), useOffset=True, useMathText=True)\n",
    "\n",
    "\n",
    "    ax.set_xlabel('x')\n",
    "    ax.set_ylabel('y')\n",
    "    ax.title.set_text(title)\n",
    "    \n",
    "    if zlim:\n",
    "        ax.set_zlim(0,1)\n",
    "\n",
    "    if return_ax:\n",
    "        return ax\n",
    "    else:\n",
    "        plt.show()"
   ]
  },
  {
   "cell_type": "code",
   "execution_count": 34,
   "metadata": {
    "hidden": true
   },
   "outputs": [],
   "source": [
    "def plot_partitions(p):\n",
    "    plt.plot([0,0,1,1,0], [0,1,1,0,0], linewidth=3)\n",
    "\n",
    "    for HN in range(len(p[1])):\n",
    "        x = np.linspace(-1,2,500)\n",
    "        y = -(p[1][HN] + p[0][0][HN]*x) / p[0][1][HN]\n",
    "\n",
    "        plt.plot(x, y, label=HN)\n",
    "\n",
    "    plt.xlim(-1,2)\n",
    "    plt.ylim(-1,2)"
   ]
  },
  {
   "cell_type": "markdown",
   "metadata": {},
   "source": [
    "# Training"
   ]
  },
  {
   "cell_type": "code",
   "execution_count": 35,
   "metadata": {},
   "outputs": [],
   "source": [
    "K=10\n",
    "a = NNTrain(nx=60, hidden_nodes=30, alpha=1e-4, batch_size=50, update_interval=10, if_rel_err=True, output_file='out/out4.csv')"
   ]
  },
  {
   "cell_type": "code",
   "execution_count": null,
   "metadata": {},
   "outputs": [],
   "source": [
    "p=[]\n",
    "p.append(copy.deepcopy(a.p))\n",
    "a.train(100)"
   ]
  },
  {
   "cell_type": "code",
   "execution_count": null,
   "metadata": {
    "scrolled": true
   },
   "outputs": [],
   "source": [
    "thresh=1e-5\n",
    "\n",
    "for i in range(10000):\n",
    "    p.append(copy.deepcopy(a.p))\n",
    "    if np.mean([np.abs(s-t) for s, t in zip(a.cost_rate[-21:], a.cost_rate[-20:])]) < thresh:\n",
    "        break\n",
    "    a.train(100)"
   ]
  },
  {
   "cell_type": "markdown",
   "metadata": {},
   "source": [
    "Etc"
   ]
  },
  {
   "cell_type": "code",
   "execution_count": 39,
   "metadata": {},
   "outputs": [
    {
     "name": "stdout",
     "output_type": "stream",
     "text": [
      "relative error: 0.0007946042461968853\n"
     ]
    }
   ],
   "source": [
    "print('relative error:', relative_err(a.p, nx=100))"
   ]
  },
  {
   "cell_type": "code",
   "execution_count": 40,
   "metadata": {},
   "outputs": [
    {
     "data": {
      "application/javascript": [
       "/* Put everything inside the global mpl namespace */\n",
       "window.mpl = {};\n",
       "\n",
       "\n",
       "mpl.get_websocket_type = function() {\n",
       "    if (typeof(WebSocket) !== 'undefined') {\n",
       "        return WebSocket;\n",
       "    } else if (typeof(MozWebSocket) !== 'undefined') {\n",
       "        return MozWebSocket;\n",
       "    } else {\n",
       "        alert('Your browser does not have WebSocket support.' +\n",
       "              'Please try Chrome, Safari or Firefox ≥ 6. ' +\n",
       "              'Firefox 4 and 5 are also supported but you ' +\n",
       "              'have to enable WebSockets in about:config.');\n",
       "    };\n",
       "}\n",
       "\n",
       "mpl.figure = function(figure_id, websocket, ondownload, parent_element) {\n",
       "    this.id = figure_id;\n",
       "\n",
       "    this.ws = websocket;\n",
       "\n",
       "    this.supports_binary = (this.ws.binaryType != undefined);\n",
       "\n",
       "    if (!this.supports_binary) {\n",
       "        var warnings = document.getElementById(\"mpl-warnings\");\n",
       "        if (warnings) {\n",
       "            warnings.style.display = 'block';\n",
       "            warnings.textContent = (\n",
       "                \"This browser does not support binary websocket messages. \" +\n",
       "                    \"Performance may be slow.\");\n",
       "        }\n",
       "    }\n",
       "\n",
       "    this.imageObj = new Image();\n",
       "\n",
       "    this.context = undefined;\n",
       "    this.message = undefined;\n",
       "    this.canvas = undefined;\n",
       "    this.rubberband_canvas = undefined;\n",
       "    this.rubberband_context = undefined;\n",
       "    this.format_dropdown = undefined;\n",
       "\n",
       "    this.image_mode = 'full';\n",
       "\n",
       "    this.root = $('<div/>');\n",
       "    this._root_extra_style(this.root)\n",
       "    this.root.attr('style', 'display: inline-block');\n",
       "\n",
       "    $(parent_element).append(this.root);\n",
       "\n",
       "    this._init_header(this);\n",
       "    this._init_canvas(this);\n",
       "    this._init_toolbar(this);\n",
       "\n",
       "    var fig = this;\n",
       "\n",
       "    this.waiting = false;\n",
       "\n",
       "    this.ws.onopen =  function () {\n",
       "            fig.send_message(\"supports_binary\", {value: fig.supports_binary});\n",
       "            fig.send_message(\"send_image_mode\", {});\n",
       "            if (mpl.ratio != 1) {\n",
       "                fig.send_message(\"set_dpi_ratio\", {'dpi_ratio': mpl.ratio});\n",
       "            }\n",
       "            fig.send_message(\"refresh\", {});\n",
       "        }\n",
       "\n",
       "    this.imageObj.onload = function() {\n",
       "            if (fig.image_mode == 'full') {\n",
       "                // Full images could contain transparency (where diff images\n",
       "                // almost always do), so we need to clear the canvas so that\n",
       "                // there is no ghosting.\n",
       "                fig.context.clearRect(0, 0, fig.canvas.width, fig.canvas.height);\n",
       "            }\n",
       "            fig.context.drawImage(fig.imageObj, 0, 0);\n",
       "        };\n",
       "\n",
       "    this.imageObj.onunload = function() {\n",
       "        fig.ws.close();\n",
       "    }\n",
       "\n",
       "    this.ws.onmessage = this._make_on_message_function(this);\n",
       "\n",
       "    this.ondownload = ondownload;\n",
       "}\n",
       "\n",
       "mpl.figure.prototype._init_header = function() {\n",
       "    var titlebar = $(\n",
       "        '<div class=\"ui-dialog-titlebar ui-widget-header ui-corner-all ' +\n",
       "        'ui-helper-clearfix\"/>');\n",
       "    var titletext = $(\n",
       "        '<div class=\"ui-dialog-title\" style=\"width: 100%; ' +\n",
       "        'text-align: center; padding: 3px;\"/>');\n",
       "    titlebar.append(titletext)\n",
       "    this.root.append(titlebar);\n",
       "    this.header = titletext[0];\n",
       "}\n",
       "\n",
       "\n",
       "\n",
       "mpl.figure.prototype._canvas_extra_style = function(canvas_div) {\n",
       "\n",
       "}\n",
       "\n",
       "\n",
       "mpl.figure.prototype._root_extra_style = function(canvas_div) {\n",
       "\n",
       "}\n",
       "\n",
       "mpl.figure.prototype._init_canvas = function() {\n",
       "    var fig = this;\n",
       "\n",
       "    var canvas_div = $('<div/>');\n",
       "\n",
       "    canvas_div.attr('style', 'position: relative; clear: both; outline: 0');\n",
       "\n",
       "    function canvas_keyboard_event(event) {\n",
       "        return fig.key_event(event, event['data']);\n",
       "    }\n",
       "\n",
       "    canvas_div.keydown('key_press', canvas_keyboard_event);\n",
       "    canvas_div.keyup('key_release', canvas_keyboard_event);\n",
       "    this.canvas_div = canvas_div\n",
       "    this._canvas_extra_style(canvas_div)\n",
       "    this.root.append(canvas_div);\n",
       "\n",
       "    var canvas = $('<canvas/>');\n",
       "    canvas.addClass('mpl-canvas');\n",
       "    canvas.attr('style', \"left: 0; top: 0; z-index: 0; outline: 0\")\n",
       "\n",
       "    this.canvas = canvas[0];\n",
       "    this.context = canvas[0].getContext(\"2d\");\n",
       "\n",
       "    var backingStore = this.context.backingStorePixelRatio ||\n",
       "\tthis.context.webkitBackingStorePixelRatio ||\n",
       "\tthis.context.mozBackingStorePixelRatio ||\n",
       "\tthis.context.msBackingStorePixelRatio ||\n",
       "\tthis.context.oBackingStorePixelRatio ||\n",
       "\tthis.context.backingStorePixelRatio || 1;\n",
       "\n",
       "    mpl.ratio = (window.devicePixelRatio || 1) / backingStore;\n",
       "\n",
       "    var rubberband = $('<canvas/>');\n",
       "    rubberband.attr('style', \"position: absolute; left: 0; top: 0; z-index: 1;\")\n",
       "\n",
       "    var pass_mouse_events = true;\n",
       "\n",
       "    canvas_div.resizable({\n",
       "        start: function(event, ui) {\n",
       "            pass_mouse_events = false;\n",
       "        },\n",
       "        resize: function(event, ui) {\n",
       "            fig.request_resize(ui.size.width, ui.size.height);\n",
       "        },\n",
       "        stop: function(event, ui) {\n",
       "            pass_mouse_events = true;\n",
       "            fig.request_resize(ui.size.width, ui.size.height);\n",
       "        },\n",
       "    });\n",
       "\n",
       "    function mouse_event_fn(event) {\n",
       "        if (pass_mouse_events)\n",
       "            return fig.mouse_event(event, event['data']);\n",
       "    }\n",
       "\n",
       "    rubberband.mousedown('button_press', mouse_event_fn);\n",
       "    rubberband.mouseup('button_release', mouse_event_fn);\n",
       "    // Throttle sequential mouse events to 1 every 20ms.\n",
       "    rubberband.mousemove('motion_notify', mouse_event_fn);\n",
       "\n",
       "    rubberband.mouseenter('figure_enter', mouse_event_fn);\n",
       "    rubberband.mouseleave('figure_leave', mouse_event_fn);\n",
       "\n",
       "    canvas_div.on(\"wheel\", function (event) {\n",
       "        event = event.originalEvent;\n",
       "        event['data'] = 'scroll'\n",
       "        if (event.deltaY < 0) {\n",
       "            event.step = 1;\n",
       "        } else {\n",
       "            event.step = -1;\n",
       "        }\n",
       "        mouse_event_fn(event);\n",
       "    });\n",
       "\n",
       "    canvas_div.append(canvas);\n",
       "    canvas_div.append(rubberband);\n",
       "\n",
       "    this.rubberband = rubberband;\n",
       "    this.rubberband_canvas = rubberband[0];\n",
       "    this.rubberband_context = rubberband[0].getContext(\"2d\");\n",
       "    this.rubberband_context.strokeStyle = \"#000000\";\n",
       "\n",
       "    this._resize_canvas = function(width, height) {\n",
       "        // Keep the size of the canvas, canvas container, and rubber band\n",
       "        // canvas in synch.\n",
       "        canvas_div.css('width', width)\n",
       "        canvas_div.css('height', height)\n",
       "\n",
       "        canvas.attr('width', width * mpl.ratio);\n",
       "        canvas.attr('height', height * mpl.ratio);\n",
       "        canvas.attr('style', 'width: ' + width + 'px; height: ' + height + 'px;');\n",
       "\n",
       "        rubberband.attr('width', width);\n",
       "        rubberband.attr('height', height);\n",
       "    }\n",
       "\n",
       "    // Set the figure to an initial 600x600px, this will subsequently be updated\n",
       "    // upon first draw.\n",
       "    this._resize_canvas(600, 600);\n",
       "\n",
       "    // Disable right mouse context menu.\n",
       "    $(this.rubberband_canvas).bind(\"contextmenu\",function(e){\n",
       "        return false;\n",
       "    });\n",
       "\n",
       "    function set_focus () {\n",
       "        canvas.focus();\n",
       "        canvas_div.focus();\n",
       "    }\n",
       "\n",
       "    window.setTimeout(set_focus, 100);\n",
       "}\n",
       "\n",
       "mpl.figure.prototype._init_toolbar = function() {\n",
       "    var fig = this;\n",
       "\n",
       "    var nav_element = $('<div/>')\n",
       "    nav_element.attr('style', 'width: 100%');\n",
       "    this.root.append(nav_element);\n",
       "\n",
       "    // Define a callback function for later on.\n",
       "    function toolbar_event(event) {\n",
       "        return fig.toolbar_button_onclick(event['data']);\n",
       "    }\n",
       "    function toolbar_mouse_event(event) {\n",
       "        return fig.toolbar_button_onmouseover(event['data']);\n",
       "    }\n",
       "\n",
       "    for(var toolbar_ind in mpl.toolbar_items) {\n",
       "        var name = mpl.toolbar_items[toolbar_ind][0];\n",
       "        var tooltip = mpl.toolbar_items[toolbar_ind][1];\n",
       "        var image = mpl.toolbar_items[toolbar_ind][2];\n",
       "        var method_name = mpl.toolbar_items[toolbar_ind][3];\n",
       "\n",
       "        if (!name) {\n",
       "            // put a spacer in here.\n",
       "            continue;\n",
       "        }\n",
       "        var button = $('<button/>');\n",
       "        button.addClass('ui-button ui-widget ui-state-default ui-corner-all ' +\n",
       "                        'ui-button-icon-only');\n",
       "        button.attr('role', 'button');\n",
       "        button.attr('aria-disabled', 'false');\n",
       "        button.click(method_name, toolbar_event);\n",
       "        button.mouseover(tooltip, toolbar_mouse_event);\n",
       "\n",
       "        var icon_img = $('<span/>');\n",
       "        icon_img.addClass('ui-button-icon-primary ui-icon');\n",
       "        icon_img.addClass(image);\n",
       "        icon_img.addClass('ui-corner-all');\n",
       "\n",
       "        var tooltip_span = $('<span/>');\n",
       "        tooltip_span.addClass('ui-button-text');\n",
       "        tooltip_span.html(tooltip);\n",
       "\n",
       "        button.append(icon_img);\n",
       "        button.append(tooltip_span);\n",
       "\n",
       "        nav_element.append(button);\n",
       "    }\n",
       "\n",
       "    var fmt_picker_span = $('<span/>');\n",
       "\n",
       "    var fmt_picker = $('<select/>');\n",
       "    fmt_picker.addClass('mpl-toolbar-option ui-widget ui-widget-content');\n",
       "    fmt_picker_span.append(fmt_picker);\n",
       "    nav_element.append(fmt_picker_span);\n",
       "    this.format_dropdown = fmt_picker[0];\n",
       "\n",
       "    for (var ind in mpl.extensions) {\n",
       "        var fmt = mpl.extensions[ind];\n",
       "        var option = $(\n",
       "            '<option/>', {selected: fmt === mpl.default_extension}).html(fmt);\n",
       "        fmt_picker.append(option)\n",
       "    }\n",
       "\n",
       "    // Add hover states to the ui-buttons\n",
       "    $( \".ui-button\" ).hover(\n",
       "        function() { $(this).addClass(\"ui-state-hover\");},\n",
       "        function() { $(this).removeClass(\"ui-state-hover\");}\n",
       "    );\n",
       "\n",
       "    var status_bar = $('<span class=\"mpl-message\"/>');\n",
       "    nav_element.append(status_bar);\n",
       "    this.message = status_bar[0];\n",
       "}\n",
       "\n",
       "mpl.figure.prototype.request_resize = function(x_pixels, y_pixels) {\n",
       "    // Request matplotlib to resize the figure. Matplotlib will then trigger a resize in the client,\n",
       "    // which will in turn request a refresh of the image.\n",
       "    this.send_message('resize', {'width': x_pixels, 'height': y_pixels});\n",
       "}\n",
       "\n",
       "mpl.figure.prototype.send_message = function(type, properties) {\n",
       "    properties['type'] = type;\n",
       "    properties['figure_id'] = this.id;\n",
       "    this.ws.send(JSON.stringify(properties));\n",
       "}\n",
       "\n",
       "mpl.figure.prototype.send_draw_message = function() {\n",
       "    if (!this.waiting) {\n",
       "        this.waiting = true;\n",
       "        this.ws.send(JSON.stringify({type: \"draw\", figure_id: this.id}));\n",
       "    }\n",
       "}\n",
       "\n",
       "\n",
       "mpl.figure.prototype.handle_save = function(fig, msg) {\n",
       "    var format_dropdown = fig.format_dropdown;\n",
       "    var format = format_dropdown.options[format_dropdown.selectedIndex].value;\n",
       "    fig.ondownload(fig, format);\n",
       "}\n",
       "\n",
       "\n",
       "mpl.figure.prototype.handle_resize = function(fig, msg) {\n",
       "    var size = msg['size'];\n",
       "    if (size[0] != fig.canvas.width || size[1] != fig.canvas.height) {\n",
       "        fig._resize_canvas(size[0], size[1]);\n",
       "        fig.send_message(\"refresh\", {});\n",
       "    };\n",
       "}\n",
       "\n",
       "mpl.figure.prototype.handle_rubberband = function(fig, msg) {\n",
       "    var x0 = msg['x0'] / mpl.ratio;\n",
       "    var y0 = (fig.canvas.height - msg['y0']) / mpl.ratio;\n",
       "    var x1 = msg['x1'] / mpl.ratio;\n",
       "    var y1 = (fig.canvas.height - msg['y1']) / mpl.ratio;\n",
       "    x0 = Math.floor(x0) + 0.5;\n",
       "    y0 = Math.floor(y0) + 0.5;\n",
       "    x1 = Math.floor(x1) + 0.5;\n",
       "    y1 = Math.floor(y1) + 0.5;\n",
       "    var min_x = Math.min(x0, x1);\n",
       "    var min_y = Math.min(y0, y1);\n",
       "    var width = Math.abs(x1 - x0);\n",
       "    var height = Math.abs(y1 - y0);\n",
       "\n",
       "    fig.rubberband_context.clearRect(\n",
       "        0, 0, fig.canvas.width, fig.canvas.height);\n",
       "\n",
       "    fig.rubberband_context.strokeRect(min_x, min_y, width, height);\n",
       "}\n",
       "\n",
       "mpl.figure.prototype.handle_figure_label = function(fig, msg) {\n",
       "    // Updates the figure title.\n",
       "    fig.header.textContent = msg['label'];\n",
       "}\n",
       "\n",
       "mpl.figure.prototype.handle_cursor = function(fig, msg) {\n",
       "    var cursor = msg['cursor'];\n",
       "    switch(cursor)\n",
       "    {\n",
       "    case 0:\n",
       "        cursor = 'pointer';\n",
       "        break;\n",
       "    case 1:\n",
       "        cursor = 'default';\n",
       "        break;\n",
       "    case 2:\n",
       "        cursor = 'crosshair';\n",
       "        break;\n",
       "    case 3:\n",
       "        cursor = 'move';\n",
       "        break;\n",
       "    }\n",
       "    fig.rubberband_canvas.style.cursor = cursor;\n",
       "}\n",
       "\n",
       "mpl.figure.prototype.handle_message = function(fig, msg) {\n",
       "    fig.message.textContent = msg['message'];\n",
       "}\n",
       "\n",
       "mpl.figure.prototype.handle_draw = function(fig, msg) {\n",
       "    // Request the server to send over a new figure.\n",
       "    fig.send_draw_message();\n",
       "}\n",
       "\n",
       "mpl.figure.prototype.handle_image_mode = function(fig, msg) {\n",
       "    fig.image_mode = msg['mode'];\n",
       "}\n",
       "\n",
       "mpl.figure.prototype.updated_canvas_event = function() {\n",
       "    // Called whenever the canvas gets updated.\n",
       "    this.send_message(\"ack\", {});\n",
       "}\n",
       "\n",
       "// A function to construct a web socket function for onmessage handling.\n",
       "// Called in the figure constructor.\n",
       "mpl.figure.prototype._make_on_message_function = function(fig) {\n",
       "    return function socket_on_message(evt) {\n",
       "        if (evt.data instanceof Blob) {\n",
       "            /* FIXME: We get \"Resource interpreted as Image but\n",
       "             * transferred with MIME type text/plain:\" errors on\n",
       "             * Chrome.  But how to set the MIME type?  It doesn't seem\n",
       "             * to be part of the websocket stream */\n",
       "            evt.data.type = \"image/png\";\n",
       "\n",
       "            /* Free the memory for the previous frames */\n",
       "            if (fig.imageObj.src) {\n",
       "                (window.URL || window.webkitURL).revokeObjectURL(\n",
       "                    fig.imageObj.src);\n",
       "            }\n",
       "\n",
       "            fig.imageObj.src = (window.URL || window.webkitURL).createObjectURL(\n",
       "                evt.data);\n",
       "            fig.updated_canvas_event();\n",
       "            fig.waiting = false;\n",
       "            return;\n",
       "        }\n",
       "        else if (typeof evt.data === 'string' && evt.data.slice(0, 21) == \"data:image/png;base64\") {\n",
       "            fig.imageObj.src = evt.data;\n",
       "            fig.updated_canvas_event();\n",
       "            fig.waiting = false;\n",
       "            return;\n",
       "        }\n",
       "\n",
       "        var msg = JSON.parse(evt.data);\n",
       "        var msg_type = msg['type'];\n",
       "\n",
       "        // Call the  \"handle_{type}\" callback, which takes\n",
       "        // the figure and JSON message as its only arguments.\n",
       "        try {\n",
       "            var callback = fig[\"handle_\" + msg_type];\n",
       "        } catch (e) {\n",
       "            console.log(\"No handler for the '\" + msg_type + \"' message type: \", msg);\n",
       "            return;\n",
       "        }\n",
       "\n",
       "        if (callback) {\n",
       "            try {\n",
       "                // console.log(\"Handling '\" + msg_type + \"' message: \", msg);\n",
       "                callback(fig, msg);\n",
       "            } catch (e) {\n",
       "                console.log(\"Exception inside the 'handler_\" + msg_type + \"' callback:\", e, e.stack, msg);\n",
       "            }\n",
       "        }\n",
       "    };\n",
       "}\n",
       "\n",
       "// from http://stackoverflow.com/questions/1114465/getting-mouse-location-in-canvas\n",
       "mpl.findpos = function(e) {\n",
       "    //this section is from http://www.quirksmode.org/js/events_properties.html\n",
       "    var targ;\n",
       "    if (!e)\n",
       "        e = window.event;\n",
       "    if (e.target)\n",
       "        targ = e.target;\n",
       "    else if (e.srcElement)\n",
       "        targ = e.srcElement;\n",
       "    if (targ.nodeType == 3) // defeat Safari bug\n",
       "        targ = targ.parentNode;\n",
       "\n",
       "    // jQuery normalizes the pageX and pageY\n",
       "    // pageX,Y are the mouse positions relative to the document\n",
       "    // offset() returns the position of the element relative to the document\n",
       "    var x = e.pageX - $(targ).offset().left;\n",
       "    var y = e.pageY - $(targ).offset().top;\n",
       "\n",
       "    return {\"x\": x, \"y\": y};\n",
       "};\n",
       "\n",
       "/*\n",
       " * return a copy of an object with only non-object keys\n",
       " * we need this to avoid circular references\n",
       " * http://stackoverflow.com/a/24161582/3208463\n",
       " */\n",
       "function simpleKeys (original) {\n",
       "  return Object.keys(original).reduce(function (obj, key) {\n",
       "    if (typeof original[key] !== 'object')\n",
       "        obj[key] = original[key]\n",
       "    return obj;\n",
       "  }, {});\n",
       "}\n",
       "\n",
       "mpl.figure.prototype.mouse_event = function(event, name) {\n",
       "    var canvas_pos = mpl.findpos(event)\n",
       "\n",
       "    if (name === 'button_press')\n",
       "    {\n",
       "        this.canvas.focus();\n",
       "        this.canvas_div.focus();\n",
       "    }\n",
       "\n",
       "    var x = canvas_pos.x * mpl.ratio;\n",
       "    var y = canvas_pos.y * mpl.ratio;\n",
       "\n",
       "    this.send_message(name, {x: x, y: y, button: event.button,\n",
       "                             step: event.step,\n",
       "                             guiEvent: simpleKeys(event)});\n",
       "\n",
       "    /* This prevents the web browser from automatically changing to\n",
       "     * the text insertion cursor when the button is pressed.  We want\n",
       "     * to control all of the cursor setting manually through the\n",
       "     * 'cursor' event from matplotlib */\n",
       "    event.preventDefault();\n",
       "    return false;\n",
       "}\n",
       "\n",
       "mpl.figure.prototype._key_event_extra = function(event, name) {\n",
       "    // Handle any extra behaviour associated with a key event\n",
       "}\n",
       "\n",
       "mpl.figure.prototype.key_event = function(event, name) {\n",
       "\n",
       "    // Prevent repeat events\n",
       "    if (name == 'key_press')\n",
       "    {\n",
       "        if (event.which === this._key)\n",
       "            return;\n",
       "        else\n",
       "            this._key = event.which;\n",
       "    }\n",
       "    if (name == 'key_release')\n",
       "        this._key = null;\n",
       "\n",
       "    var value = '';\n",
       "    if (event.ctrlKey && event.which != 17)\n",
       "        value += \"ctrl+\";\n",
       "    if (event.altKey && event.which != 18)\n",
       "        value += \"alt+\";\n",
       "    if (event.shiftKey && event.which != 16)\n",
       "        value += \"shift+\";\n",
       "\n",
       "    value += 'k';\n",
       "    value += event.which.toString();\n",
       "\n",
       "    this._key_event_extra(event, name);\n",
       "\n",
       "    this.send_message(name, {key: value,\n",
       "                             guiEvent: simpleKeys(event)});\n",
       "    return false;\n",
       "}\n",
       "\n",
       "mpl.figure.prototype.toolbar_button_onclick = function(name) {\n",
       "    if (name == 'download') {\n",
       "        this.handle_save(this, null);\n",
       "    } else {\n",
       "        this.send_message(\"toolbar_button\", {name: name});\n",
       "    }\n",
       "};\n",
       "\n",
       "mpl.figure.prototype.toolbar_button_onmouseover = function(tooltip) {\n",
       "    this.message.textContent = tooltip;\n",
       "};\n",
       "mpl.toolbar_items = [[\"Home\", \"Reset original view\", \"fa fa-home icon-home\", \"home\"], [\"Back\", \"Back to previous view\", \"fa fa-arrow-left icon-arrow-left\", \"back\"], [\"Forward\", \"Forward to next view\", \"fa fa-arrow-right icon-arrow-right\", \"forward\"], [\"\", \"\", \"\", \"\"], [\"Pan\", \"Pan axes with left mouse, zoom with right\", \"fa fa-arrows icon-move\", \"pan\"], [\"Zoom\", \"Zoom to rectangle\", \"fa fa-square-o icon-check-empty\", \"zoom\"], [\"\", \"\", \"\", \"\"], [\"Download\", \"Download plot\", \"fa fa-floppy-o icon-save\", \"download\"]];\n",
       "\n",
       "mpl.extensions = [\"eps\", \"jpeg\", \"pdf\", \"png\", \"ps\", \"raw\", \"svg\", \"tif\"];\n",
       "\n",
       "mpl.default_extension = \"png\";var comm_websocket_adapter = function(comm) {\n",
       "    // Create a \"websocket\"-like object which calls the given IPython comm\n",
       "    // object with the appropriate methods. Currently this is a non binary\n",
       "    // socket, so there is still some room for performance tuning.\n",
       "    var ws = {};\n",
       "\n",
       "    ws.close = function() {\n",
       "        comm.close()\n",
       "    };\n",
       "    ws.send = function(m) {\n",
       "        //console.log('sending', m);\n",
       "        comm.send(m);\n",
       "    };\n",
       "    // Register the callback with on_msg.\n",
       "    comm.on_msg(function(msg) {\n",
       "        //console.log('receiving', msg['content']['data'], msg);\n",
       "        // Pass the mpl event to the overridden (by mpl) onmessage function.\n",
       "        ws.onmessage(msg['content']['data'])\n",
       "    });\n",
       "    return ws;\n",
       "}\n",
       "\n",
       "mpl.mpl_figure_comm = function(comm, msg) {\n",
       "    // This is the function which gets called when the mpl process\n",
       "    // starts-up an IPython Comm through the \"matplotlib\" channel.\n",
       "\n",
       "    var id = msg.content.data.id;\n",
       "    // Get hold of the div created by the display call when the Comm\n",
       "    // socket was opened in Python.\n",
       "    var element = $(\"#\" + id);\n",
       "    var ws_proxy = comm_websocket_adapter(comm)\n",
       "\n",
       "    function ondownload(figure, format) {\n",
       "        window.open(figure.imageObj.src);\n",
       "    }\n",
       "\n",
       "    var fig = new mpl.figure(id, ws_proxy,\n",
       "                           ondownload,\n",
       "                           element.get(0));\n",
       "\n",
       "    // Call onopen now - mpl needs it, as it is assuming we've passed it a real\n",
       "    // web socket which is closed, not our websocket->open comm proxy.\n",
       "    ws_proxy.onopen();\n",
       "\n",
       "    fig.parent_element = element.get(0);\n",
       "    fig.cell_info = mpl.find_output_cell(\"<div id='\" + id + \"'></div>\");\n",
       "    if (!fig.cell_info) {\n",
       "        console.error(\"Failed to find cell for figure\", id, fig);\n",
       "        return;\n",
       "    }\n",
       "\n",
       "    var output_index = fig.cell_info[2]\n",
       "    var cell = fig.cell_info[0];\n",
       "\n",
       "};\n",
       "\n",
       "mpl.figure.prototype.handle_close = function(fig, msg) {\n",
       "    var width = fig.canvas.width/mpl.ratio\n",
       "    fig.root.unbind('remove')\n",
       "\n",
       "    // Update the output cell to use the data from the current canvas.\n",
       "    fig.push_to_output();\n",
       "    var dataURL = fig.canvas.toDataURL();\n",
       "    // Re-enable the keyboard manager in IPython - without this line, in FF,\n",
       "    // the notebook keyboard shortcuts fail.\n",
       "    IPython.keyboard_manager.enable()\n",
       "    $(fig.parent_element).html('<img src=\"' + dataURL + '\" width=\"' + width + '\">');\n",
       "    fig.close_ws(fig, msg);\n",
       "}\n",
       "\n",
       "mpl.figure.prototype.close_ws = function(fig, msg){\n",
       "    fig.send_message('closing', msg);\n",
       "    // fig.ws.close()\n",
       "}\n",
       "\n",
       "mpl.figure.prototype.push_to_output = function(remove_interactive) {\n",
       "    // Turn the data on the canvas into data in the output cell.\n",
       "    var width = this.canvas.width/mpl.ratio\n",
       "    var dataURL = this.canvas.toDataURL();\n",
       "    this.cell_info[1]['text/html'] = '<img src=\"' + dataURL + '\" width=\"' + width + '\">';\n",
       "}\n",
       "\n",
       "mpl.figure.prototype.updated_canvas_event = function() {\n",
       "    // Tell IPython that the notebook contents must change.\n",
       "    IPython.notebook.set_dirty(true);\n",
       "    this.send_message(\"ack\", {});\n",
       "    var fig = this;\n",
       "    // Wait a second, then push the new image to the DOM so\n",
       "    // that it is saved nicely (might be nice to debounce this).\n",
       "    setTimeout(function () { fig.push_to_output() }, 1000);\n",
       "}\n",
       "\n",
       "mpl.figure.prototype._init_toolbar = function() {\n",
       "    var fig = this;\n",
       "\n",
       "    var nav_element = $('<div/>')\n",
       "    nav_element.attr('style', 'width: 100%');\n",
       "    this.root.append(nav_element);\n",
       "\n",
       "    // Define a callback function for later on.\n",
       "    function toolbar_event(event) {\n",
       "        return fig.toolbar_button_onclick(event['data']);\n",
       "    }\n",
       "    function toolbar_mouse_event(event) {\n",
       "        return fig.toolbar_button_onmouseover(event['data']);\n",
       "    }\n",
       "\n",
       "    for(var toolbar_ind in mpl.toolbar_items){\n",
       "        var name = mpl.toolbar_items[toolbar_ind][0];\n",
       "        var tooltip = mpl.toolbar_items[toolbar_ind][1];\n",
       "        var image = mpl.toolbar_items[toolbar_ind][2];\n",
       "        var method_name = mpl.toolbar_items[toolbar_ind][3];\n",
       "\n",
       "        if (!name) { continue; };\n",
       "\n",
       "        var button = $('<button class=\"btn btn-default\" href=\"#\" title=\"' + name + '\"><i class=\"fa ' + image + ' fa-lg\"></i></button>');\n",
       "        button.click(method_name, toolbar_event);\n",
       "        button.mouseover(tooltip, toolbar_mouse_event);\n",
       "        nav_element.append(button);\n",
       "    }\n",
       "\n",
       "    // Add the status bar.\n",
       "    var status_bar = $('<span class=\"mpl-message\" style=\"text-align:right; float: right;\"/>');\n",
       "    nav_element.append(status_bar);\n",
       "    this.message = status_bar[0];\n",
       "\n",
       "    // Add the close button to the window.\n",
       "    var buttongrp = $('<div class=\"btn-group inline pull-right\"></div>');\n",
       "    var button = $('<button class=\"btn btn-mini btn-primary\" href=\"#\" title=\"Stop Interaction\"><i class=\"fa fa-power-off icon-remove icon-large\"></i></button>');\n",
       "    button.click(function (evt) { fig.handle_close(fig, {}); } );\n",
       "    button.mouseover('Stop Interaction', toolbar_mouse_event);\n",
       "    buttongrp.append(button);\n",
       "    var titlebar = this.root.find($('.ui-dialog-titlebar'));\n",
       "    titlebar.prepend(buttongrp);\n",
       "}\n",
       "\n",
       "mpl.figure.prototype._root_extra_style = function(el){\n",
       "    var fig = this\n",
       "    el.on(\"remove\", function(){\n",
       "\tfig.close_ws(fig, {});\n",
       "    });\n",
       "}\n",
       "\n",
       "mpl.figure.prototype._canvas_extra_style = function(el){\n",
       "    // this is important to make the div 'focusable\n",
       "    el.attr('tabindex', 0)\n",
       "    // reach out to IPython and tell the keyboard manager to turn it's self\n",
       "    // off when our div gets focus\n",
       "\n",
       "    // location in version 3\n",
       "    if (IPython.notebook.keyboard_manager) {\n",
       "        IPython.notebook.keyboard_manager.register_events(el);\n",
       "    }\n",
       "    else {\n",
       "        // location in version 2\n",
       "        IPython.keyboard_manager.register_events(el);\n",
       "    }\n",
       "\n",
       "}\n",
       "\n",
       "mpl.figure.prototype._key_event_extra = function(event, name) {\n",
       "    var manager = IPython.notebook.keyboard_manager;\n",
       "    if (!manager)\n",
       "        manager = IPython.keyboard_manager;\n",
       "\n",
       "    // Check for shift+enter\n",
       "    if (event.shiftKey && event.which == 13) {\n",
       "        this.canvas_div.blur();\n",
       "        event.shiftKey = false;\n",
       "        // Send a \"J\" for go to next cell\n",
       "        event.which = 74;\n",
       "        event.keyCode = 74;\n",
       "        manager.command_mode();\n",
       "        manager.handle_keydown(event);\n",
       "    }\n",
       "}\n",
       "\n",
       "mpl.figure.prototype.handle_save = function(fig, msg) {\n",
       "    fig.ondownload(fig, null);\n",
       "}\n",
       "\n",
       "\n",
       "mpl.find_output_cell = function(html_output) {\n",
       "    // Return the cell and output element which can be found *uniquely* in the notebook.\n",
       "    // Note - this is a bit hacky, but it is done because the \"notebook_saving.Notebook\"\n",
       "    // IPython event is triggered only after the cells have been serialised, which for\n",
       "    // our purposes (turning an active figure into a static one), is too late.\n",
       "    var cells = IPython.notebook.get_cells();\n",
       "    var ncells = cells.length;\n",
       "    for (var i=0; i<ncells; i++) {\n",
       "        var cell = cells[i];\n",
       "        if (cell.cell_type === 'code'){\n",
       "            for (var j=0; j<cell.output_area.outputs.length; j++) {\n",
       "                var data = cell.output_area.outputs[j];\n",
       "                if (data.data) {\n",
       "                    // IPython >= 3 moved mimebundle to data attribute of output\n",
       "                    data = data.data;\n",
       "                }\n",
       "                if (data['text/html'] == html_output) {\n",
       "                    return [cell, data, j];\n",
       "                }\n",
       "            }\n",
       "        }\n",
       "    }\n",
       "}\n",
       "\n",
       "// Register the function which deals with the matplotlib target/channel.\n",
       "// The kernel may be null if the page has been refreshed.\n",
       "if (IPython.notebook.kernel != null) {\n",
       "    IPython.notebook.kernel.comm_manager.register_target('matplotlib', mpl.mpl_figure_comm);\n",
       "}\n"
      ],
      "text/plain": [
       "<IPython.core.display.Javascript object>"
      ]
     },
     "metadata": {},
     "output_type": "display_data"
    },
    {
     "data": {
      "text/html": [
       "<img src=\"data:image/png;base64,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\" width=\"431.818172458775\">"
      ],
      "text/plain": [
       "<IPython.core.display.HTML object>"
      ]
     },
     "metadata": {},
     "output_type": "display_data"
    }
   ],
   "source": [
    "plot_iteration(a.cost_rate, min_it=1000)"
   ]
  },
  {
   "cell_type": "code",
   "execution_count": 41,
   "metadata": {},
   "outputs": [
    {
     "data": {
      "application/javascript": [
       "/* Put everything inside the global mpl namespace */\n",
       "window.mpl = {};\n",
       "\n",
       "\n",
       "mpl.get_websocket_type = function() {\n",
       "    if (typeof(WebSocket) !== 'undefined') {\n",
       "        return WebSocket;\n",
       "    } else if (typeof(MozWebSocket) !== 'undefined') {\n",
       "        return MozWebSocket;\n",
       "    } else {\n",
       "        alert('Your browser does not have WebSocket support.' +\n",
       "              'Please try Chrome, Safari or Firefox ≥ 6. ' +\n",
       "              'Firefox 4 and 5 are also supported but you ' +\n",
       "              'have to enable WebSockets in about:config.');\n",
       "    };\n",
       "}\n",
       "\n",
       "mpl.figure = function(figure_id, websocket, ondownload, parent_element) {\n",
       "    this.id = figure_id;\n",
       "\n",
       "    this.ws = websocket;\n",
       "\n",
       "    this.supports_binary = (this.ws.binaryType != undefined);\n",
       "\n",
       "    if (!this.supports_binary) {\n",
       "        var warnings = document.getElementById(\"mpl-warnings\");\n",
       "        if (warnings) {\n",
       "            warnings.style.display = 'block';\n",
       "            warnings.textContent = (\n",
       "                \"This browser does not support binary websocket messages. \" +\n",
       "                    \"Performance may be slow.\");\n",
       "        }\n",
       "    }\n",
       "\n",
       "    this.imageObj = new Image();\n",
       "\n",
       "    this.context = undefined;\n",
       "    this.message = undefined;\n",
       "    this.canvas = undefined;\n",
       "    this.rubberband_canvas = undefined;\n",
       "    this.rubberband_context = undefined;\n",
       "    this.format_dropdown = undefined;\n",
       "\n",
       "    this.image_mode = 'full';\n",
       "\n",
       "    this.root = $('<div/>');\n",
       "    this._root_extra_style(this.root)\n",
       "    this.root.attr('style', 'display: inline-block');\n",
       "\n",
       "    $(parent_element).append(this.root);\n",
       "\n",
       "    this._init_header(this);\n",
       "    this._init_canvas(this);\n",
       "    this._init_toolbar(this);\n",
       "\n",
       "    var fig = this;\n",
       "\n",
       "    this.waiting = false;\n",
       "\n",
       "    this.ws.onopen =  function () {\n",
       "            fig.send_message(\"supports_binary\", {value: fig.supports_binary});\n",
       "            fig.send_message(\"send_image_mode\", {});\n",
       "            if (mpl.ratio != 1) {\n",
       "                fig.send_message(\"set_dpi_ratio\", {'dpi_ratio': mpl.ratio});\n",
       "            }\n",
       "            fig.send_message(\"refresh\", {});\n",
       "        }\n",
       "\n",
       "    this.imageObj.onload = function() {\n",
       "            if (fig.image_mode == 'full') {\n",
       "                // Full images could contain transparency (where diff images\n",
       "                // almost always do), so we need to clear the canvas so that\n",
       "                // there is no ghosting.\n",
       "                fig.context.clearRect(0, 0, fig.canvas.width, fig.canvas.height);\n",
       "            }\n",
       "            fig.context.drawImage(fig.imageObj, 0, 0);\n",
       "        };\n",
       "\n",
       "    this.imageObj.onunload = function() {\n",
       "        fig.ws.close();\n",
       "    }\n",
       "\n",
       "    this.ws.onmessage = this._make_on_message_function(this);\n",
       "\n",
       "    this.ondownload = ondownload;\n",
       "}\n",
       "\n",
       "mpl.figure.prototype._init_header = function() {\n",
       "    var titlebar = $(\n",
       "        '<div class=\"ui-dialog-titlebar ui-widget-header ui-corner-all ' +\n",
       "        'ui-helper-clearfix\"/>');\n",
       "    var titletext = $(\n",
       "        '<div class=\"ui-dialog-title\" style=\"width: 100%; ' +\n",
       "        'text-align: center; padding: 3px;\"/>');\n",
       "    titlebar.append(titletext)\n",
       "    this.root.append(titlebar);\n",
       "    this.header = titletext[0];\n",
       "}\n",
       "\n",
       "\n",
       "\n",
       "mpl.figure.prototype._canvas_extra_style = function(canvas_div) {\n",
       "\n",
       "}\n",
       "\n",
       "\n",
       "mpl.figure.prototype._root_extra_style = function(canvas_div) {\n",
       "\n",
       "}\n",
       "\n",
       "mpl.figure.prototype._init_canvas = function() {\n",
       "    var fig = this;\n",
       "\n",
       "    var canvas_div = $('<div/>');\n",
       "\n",
       "    canvas_div.attr('style', 'position: relative; clear: both; outline: 0');\n",
       "\n",
       "    function canvas_keyboard_event(event) {\n",
       "        return fig.key_event(event, event['data']);\n",
       "    }\n",
       "\n",
       "    canvas_div.keydown('key_press', canvas_keyboard_event);\n",
       "    canvas_div.keyup('key_release', canvas_keyboard_event);\n",
       "    this.canvas_div = canvas_div\n",
       "    this._canvas_extra_style(canvas_div)\n",
       "    this.root.append(canvas_div);\n",
       "\n",
       "    var canvas = $('<canvas/>');\n",
       "    canvas.addClass('mpl-canvas');\n",
       "    canvas.attr('style', \"left: 0; top: 0; z-index: 0; outline: 0\")\n",
       "\n",
       "    this.canvas = canvas[0];\n",
       "    this.context = canvas[0].getContext(\"2d\");\n",
       "\n",
       "    var backingStore = this.context.backingStorePixelRatio ||\n",
       "\tthis.context.webkitBackingStorePixelRatio ||\n",
       "\tthis.context.mozBackingStorePixelRatio ||\n",
       "\tthis.context.msBackingStorePixelRatio ||\n",
       "\tthis.context.oBackingStorePixelRatio ||\n",
       "\tthis.context.backingStorePixelRatio || 1;\n",
       "\n",
       "    mpl.ratio = (window.devicePixelRatio || 1) / backingStore;\n",
       "\n",
       "    var rubberband = $('<canvas/>');\n",
       "    rubberband.attr('style', \"position: absolute; left: 0; top: 0; z-index: 1;\")\n",
       "\n",
       "    var pass_mouse_events = true;\n",
       "\n",
       "    canvas_div.resizable({\n",
       "        start: function(event, ui) {\n",
       "            pass_mouse_events = false;\n",
       "        },\n",
       "        resize: function(event, ui) {\n",
       "            fig.request_resize(ui.size.width, ui.size.height);\n",
       "        },\n",
       "        stop: function(event, ui) {\n",
       "            pass_mouse_events = true;\n",
       "            fig.request_resize(ui.size.width, ui.size.height);\n",
       "        },\n",
       "    });\n",
       "\n",
       "    function mouse_event_fn(event) {\n",
       "        if (pass_mouse_events)\n",
       "            return fig.mouse_event(event, event['data']);\n",
       "    }\n",
       "\n",
       "    rubberband.mousedown('button_press', mouse_event_fn);\n",
       "    rubberband.mouseup('button_release', mouse_event_fn);\n",
       "    // Throttle sequential mouse events to 1 every 20ms.\n",
       "    rubberband.mousemove('motion_notify', mouse_event_fn);\n",
       "\n",
       "    rubberband.mouseenter('figure_enter', mouse_event_fn);\n",
       "    rubberband.mouseleave('figure_leave', mouse_event_fn);\n",
       "\n",
       "    canvas_div.on(\"wheel\", function (event) {\n",
       "        event = event.originalEvent;\n",
       "        event['data'] = 'scroll'\n",
       "        if (event.deltaY < 0) {\n",
       "            event.step = 1;\n",
       "        } else {\n",
       "            event.step = -1;\n",
       "        }\n",
       "        mouse_event_fn(event);\n",
       "    });\n",
       "\n",
       "    canvas_div.append(canvas);\n",
       "    canvas_div.append(rubberband);\n",
       "\n",
       "    this.rubberband = rubberband;\n",
       "    this.rubberband_canvas = rubberband[0];\n",
       "    this.rubberband_context = rubberband[0].getContext(\"2d\");\n",
       "    this.rubberband_context.strokeStyle = \"#000000\";\n",
       "\n",
       "    this._resize_canvas = function(width, height) {\n",
       "        // Keep the size of the canvas, canvas container, and rubber band\n",
       "        // canvas in synch.\n",
       "        canvas_div.css('width', width)\n",
       "        canvas_div.css('height', height)\n",
       "\n",
       "        canvas.attr('width', width * mpl.ratio);\n",
       "        canvas.attr('height', height * mpl.ratio);\n",
       "        canvas.attr('style', 'width: ' + width + 'px; height: ' + height + 'px;');\n",
       "\n",
       "        rubberband.attr('width', width);\n",
       "        rubberband.attr('height', height);\n",
       "    }\n",
       "\n",
       "    // Set the figure to an initial 600x600px, this will subsequently be updated\n",
       "    // upon first draw.\n",
       "    this._resize_canvas(600, 600);\n",
       "\n",
       "    // Disable right mouse context menu.\n",
       "    $(this.rubberband_canvas).bind(\"contextmenu\",function(e){\n",
       "        return false;\n",
       "    });\n",
       "\n",
       "    function set_focus () {\n",
       "        canvas.focus();\n",
       "        canvas_div.focus();\n",
       "    }\n",
       "\n",
       "    window.setTimeout(set_focus, 100);\n",
       "}\n",
       "\n",
       "mpl.figure.prototype._init_toolbar = function() {\n",
       "    var fig = this;\n",
       "\n",
       "    var nav_element = $('<div/>')\n",
       "    nav_element.attr('style', 'width: 100%');\n",
       "    this.root.append(nav_element);\n",
       "\n",
       "    // Define a callback function for later on.\n",
       "    function toolbar_event(event) {\n",
       "        return fig.toolbar_button_onclick(event['data']);\n",
       "    }\n",
       "    function toolbar_mouse_event(event) {\n",
       "        return fig.toolbar_button_onmouseover(event['data']);\n",
       "    }\n",
       "\n",
       "    for(var toolbar_ind in mpl.toolbar_items) {\n",
       "        var name = mpl.toolbar_items[toolbar_ind][0];\n",
       "        var tooltip = mpl.toolbar_items[toolbar_ind][1];\n",
       "        var image = mpl.toolbar_items[toolbar_ind][2];\n",
       "        var method_name = mpl.toolbar_items[toolbar_ind][3];\n",
       "\n",
       "        if (!name) {\n",
       "            // put a spacer in here.\n",
       "            continue;\n",
       "        }\n",
       "        var button = $('<button/>');\n",
       "        button.addClass('ui-button ui-widget ui-state-default ui-corner-all ' +\n",
       "                        'ui-button-icon-only');\n",
       "        button.attr('role', 'button');\n",
       "        button.attr('aria-disabled', 'false');\n",
       "        button.click(method_name, toolbar_event);\n",
       "        button.mouseover(tooltip, toolbar_mouse_event);\n",
       "\n",
       "        var icon_img = $('<span/>');\n",
       "        icon_img.addClass('ui-button-icon-primary ui-icon');\n",
       "        icon_img.addClass(image);\n",
       "        icon_img.addClass('ui-corner-all');\n",
       "\n",
       "        var tooltip_span = $('<span/>');\n",
       "        tooltip_span.addClass('ui-button-text');\n",
       "        tooltip_span.html(tooltip);\n",
       "\n",
       "        button.append(icon_img);\n",
       "        button.append(tooltip_span);\n",
       "\n",
       "        nav_element.append(button);\n",
       "    }\n",
       "\n",
       "    var fmt_picker_span = $('<span/>');\n",
       "\n",
       "    var fmt_picker = $('<select/>');\n",
       "    fmt_picker.addClass('mpl-toolbar-option ui-widget ui-widget-content');\n",
       "    fmt_picker_span.append(fmt_picker);\n",
       "    nav_element.append(fmt_picker_span);\n",
       "    this.format_dropdown = fmt_picker[0];\n",
       "\n",
       "    for (var ind in mpl.extensions) {\n",
       "        var fmt = mpl.extensions[ind];\n",
       "        var option = $(\n",
       "            '<option/>', {selected: fmt === mpl.default_extension}).html(fmt);\n",
       "        fmt_picker.append(option)\n",
       "    }\n",
       "\n",
       "    // Add hover states to the ui-buttons\n",
       "    $( \".ui-button\" ).hover(\n",
       "        function() { $(this).addClass(\"ui-state-hover\");},\n",
       "        function() { $(this).removeClass(\"ui-state-hover\");}\n",
       "    );\n",
       "\n",
       "    var status_bar = $('<span class=\"mpl-message\"/>');\n",
       "    nav_element.append(status_bar);\n",
       "    this.message = status_bar[0];\n",
       "}\n",
       "\n",
       "mpl.figure.prototype.request_resize = function(x_pixels, y_pixels) {\n",
       "    // Request matplotlib to resize the figure. Matplotlib will then trigger a resize in the client,\n",
       "    // which will in turn request a refresh of the image.\n",
       "    this.send_message('resize', {'width': x_pixels, 'height': y_pixels});\n",
       "}\n",
       "\n",
       "mpl.figure.prototype.send_message = function(type, properties) {\n",
       "    properties['type'] = type;\n",
       "    properties['figure_id'] = this.id;\n",
       "    this.ws.send(JSON.stringify(properties));\n",
       "}\n",
       "\n",
       "mpl.figure.prototype.send_draw_message = function() {\n",
       "    if (!this.waiting) {\n",
       "        this.waiting = true;\n",
       "        this.ws.send(JSON.stringify({type: \"draw\", figure_id: this.id}));\n",
       "    }\n",
       "}\n",
       "\n",
       "\n",
       "mpl.figure.prototype.handle_save = function(fig, msg) {\n",
       "    var format_dropdown = fig.format_dropdown;\n",
       "    var format = format_dropdown.options[format_dropdown.selectedIndex].value;\n",
       "    fig.ondownload(fig, format);\n",
       "}\n",
       "\n",
       "\n",
       "mpl.figure.prototype.handle_resize = function(fig, msg) {\n",
       "    var size = msg['size'];\n",
       "    if (size[0] != fig.canvas.width || size[1] != fig.canvas.height) {\n",
       "        fig._resize_canvas(size[0], size[1]);\n",
       "        fig.send_message(\"refresh\", {});\n",
       "    };\n",
       "}\n",
       "\n",
       "mpl.figure.prototype.handle_rubberband = function(fig, msg) {\n",
       "    var x0 = msg['x0'] / mpl.ratio;\n",
       "    var y0 = (fig.canvas.height - msg['y0']) / mpl.ratio;\n",
       "    var x1 = msg['x1'] / mpl.ratio;\n",
       "    var y1 = (fig.canvas.height - msg['y1']) / mpl.ratio;\n",
       "    x0 = Math.floor(x0) + 0.5;\n",
       "    y0 = Math.floor(y0) + 0.5;\n",
       "    x1 = Math.floor(x1) + 0.5;\n",
       "    y1 = Math.floor(y1) + 0.5;\n",
       "    var min_x = Math.min(x0, x1);\n",
       "    var min_y = Math.min(y0, y1);\n",
       "    var width = Math.abs(x1 - x0);\n",
       "    var height = Math.abs(y1 - y0);\n",
       "\n",
       "    fig.rubberband_context.clearRect(\n",
       "        0, 0, fig.canvas.width, fig.canvas.height);\n",
       "\n",
       "    fig.rubberband_context.strokeRect(min_x, min_y, width, height);\n",
       "}\n",
       "\n",
       "mpl.figure.prototype.handle_figure_label = function(fig, msg) {\n",
       "    // Updates the figure title.\n",
       "    fig.header.textContent = msg['label'];\n",
       "}\n",
       "\n",
       "mpl.figure.prototype.handle_cursor = function(fig, msg) {\n",
       "    var cursor = msg['cursor'];\n",
       "    switch(cursor)\n",
       "    {\n",
       "    case 0:\n",
       "        cursor = 'pointer';\n",
       "        break;\n",
       "    case 1:\n",
       "        cursor = 'default';\n",
       "        break;\n",
       "    case 2:\n",
       "        cursor = 'crosshair';\n",
       "        break;\n",
       "    case 3:\n",
       "        cursor = 'move';\n",
       "        break;\n",
       "    }\n",
       "    fig.rubberband_canvas.style.cursor = cursor;\n",
       "}\n",
       "\n",
       "mpl.figure.prototype.handle_message = function(fig, msg) {\n",
       "    fig.message.textContent = msg['message'];\n",
       "}\n",
       "\n",
       "mpl.figure.prototype.handle_draw = function(fig, msg) {\n",
       "    // Request the server to send over a new figure.\n",
       "    fig.send_draw_message();\n",
       "}\n",
       "\n",
       "mpl.figure.prototype.handle_image_mode = function(fig, msg) {\n",
       "    fig.image_mode = msg['mode'];\n",
       "}\n",
       "\n",
       "mpl.figure.prototype.updated_canvas_event = function() {\n",
       "    // Called whenever the canvas gets updated.\n",
       "    this.send_message(\"ack\", {});\n",
       "}\n",
       "\n",
       "// A function to construct a web socket function for onmessage handling.\n",
       "// Called in the figure constructor.\n",
       "mpl.figure.prototype._make_on_message_function = function(fig) {\n",
       "    return function socket_on_message(evt) {\n",
       "        if (evt.data instanceof Blob) {\n",
       "            /* FIXME: We get \"Resource interpreted as Image but\n",
       "             * transferred with MIME type text/plain:\" errors on\n",
       "             * Chrome.  But how to set the MIME type?  It doesn't seem\n",
       "             * to be part of the websocket stream */\n",
       "            evt.data.type = \"image/png\";\n",
       "\n",
       "            /* Free the memory for the previous frames */\n",
       "            if (fig.imageObj.src) {\n",
       "                (window.URL || window.webkitURL).revokeObjectURL(\n",
       "                    fig.imageObj.src);\n",
       "            }\n",
       "\n",
       "            fig.imageObj.src = (window.URL || window.webkitURL).createObjectURL(\n",
       "                evt.data);\n",
       "            fig.updated_canvas_event();\n",
       "            fig.waiting = false;\n",
       "            return;\n",
       "        }\n",
       "        else if (typeof evt.data === 'string' && evt.data.slice(0, 21) == \"data:image/png;base64\") {\n",
       "            fig.imageObj.src = evt.data;\n",
       "            fig.updated_canvas_event();\n",
       "            fig.waiting = false;\n",
       "            return;\n",
       "        }\n",
       "\n",
       "        var msg = JSON.parse(evt.data);\n",
       "        var msg_type = msg['type'];\n",
       "\n",
       "        // Call the  \"handle_{type}\" callback, which takes\n",
       "        // the figure and JSON message as its only arguments.\n",
       "        try {\n",
       "            var callback = fig[\"handle_\" + msg_type];\n",
       "        } catch (e) {\n",
       "            console.log(\"No handler for the '\" + msg_type + \"' message type: \", msg);\n",
       "            return;\n",
       "        }\n",
       "\n",
       "        if (callback) {\n",
       "            try {\n",
       "                // console.log(\"Handling '\" + msg_type + \"' message: \", msg);\n",
       "                callback(fig, msg);\n",
       "            } catch (e) {\n",
       "                console.log(\"Exception inside the 'handler_\" + msg_type + \"' callback:\", e, e.stack, msg);\n",
       "            }\n",
       "        }\n",
       "    };\n",
       "}\n",
       "\n",
       "// from http://stackoverflow.com/questions/1114465/getting-mouse-location-in-canvas\n",
       "mpl.findpos = function(e) {\n",
       "    //this section is from http://www.quirksmode.org/js/events_properties.html\n",
       "    var targ;\n",
       "    if (!e)\n",
       "        e = window.event;\n",
       "    if (e.target)\n",
       "        targ = e.target;\n",
       "    else if (e.srcElement)\n",
       "        targ = e.srcElement;\n",
       "    if (targ.nodeType == 3) // defeat Safari bug\n",
       "        targ = targ.parentNode;\n",
       "\n",
       "    // jQuery normalizes the pageX and pageY\n",
       "    // pageX,Y are the mouse positions relative to the document\n",
       "    // offset() returns the position of the element relative to the document\n",
       "    var x = e.pageX - $(targ).offset().left;\n",
       "    var y = e.pageY - $(targ).offset().top;\n",
       "\n",
       "    return {\"x\": x, \"y\": y};\n",
       "};\n",
       "\n",
       "/*\n",
       " * return a copy of an object with only non-object keys\n",
       " * we need this to avoid circular references\n",
       " * http://stackoverflow.com/a/24161582/3208463\n",
       " */\n",
       "function simpleKeys (original) {\n",
       "  return Object.keys(original).reduce(function (obj, key) {\n",
       "    if (typeof original[key] !== 'object')\n",
       "        obj[key] = original[key]\n",
       "    return obj;\n",
       "  }, {});\n",
       "}\n",
       "\n",
       "mpl.figure.prototype.mouse_event = function(event, name) {\n",
       "    var canvas_pos = mpl.findpos(event)\n",
       "\n",
       "    if (name === 'button_press')\n",
       "    {\n",
       "        this.canvas.focus();\n",
       "        this.canvas_div.focus();\n",
       "    }\n",
       "\n",
       "    var x = canvas_pos.x * mpl.ratio;\n",
       "    var y = canvas_pos.y * mpl.ratio;\n",
       "\n",
       "    this.send_message(name, {x: x, y: y, button: event.button,\n",
       "                             step: event.step,\n",
       "                             guiEvent: simpleKeys(event)});\n",
       "\n",
       "    /* This prevents the web browser from automatically changing to\n",
       "     * the text insertion cursor when the button is pressed.  We want\n",
       "     * to control all of the cursor setting manually through the\n",
       "     * 'cursor' event from matplotlib */\n",
       "    event.preventDefault();\n",
       "    return false;\n",
       "}\n",
       "\n",
       "mpl.figure.prototype._key_event_extra = function(event, name) {\n",
       "    // Handle any extra behaviour associated with a key event\n",
       "}\n",
       "\n",
       "mpl.figure.prototype.key_event = function(event, name) {\n",
       "\n",
       "    // Prevent repeat events\n",
       "    if (name == 'key_press')\n",
       "    {\n",
       "        if (event.which === this._key)\n",
       "            return;\n",
       "        else\n",
       "            this._key = event.which;\n",
       "    }\n",
       "    if (name == 'key_release')\n",
       "        this._key = null;\n",
       "\n",
       "    var value = '';\n",
       "    if (event.ctrlKey && event.which != 17)\n",
       "        value += \"ctrl+\";\n",
       "    if (event.altKey && event.which != 18)\n",
       "        value += \"alt+\";\n",
       "    if (event.shiftKey && event.which != 16)\n",
       "        value += \"shift+\";\n",
       "\n",
       "    value += 'k';\n",
       "    value += event.which.toString();\n",
       "\n",
       "    this._key_event_extra(event, name);\n",
       "\n",
       "    this.send_message(name, {key: value,\n",
       "                             guiEvent: simpleKeys(event)});\n",
       "    return false;\n",
       "}\n",
       "\n",
       "mpl.figure.prototype.toolbar_button_onclick = function(name) {\n",
       "    if (name == 'download') {\n",
       "        this.handle_save(this, null);\n",
       "    } else {\n",
       "        this.send_message(\"toolbar_button\", {name: name});\n",
       "    }\n",
       "};\n",
       "\n",
       "mpl.figure.prototype.toolbar_button_onmouseover = function(tooltip) {\n",
       "    this.message.textContent = tooltip;\n",
       "};\n",
       "mpl.toolbar_items = [[\"Home\", \"Reset original view\", \"fa fa-home icon-home\", \"home\"], [\"Back\", \"Back to previous view\", \"fa fa-arrow-left icon-arrow-left\", \"back\"], [\"Forward\", \"Forward to next view\", \"fa fa-arrow-right icon-arrow-right\", \"forward\"], [\"\", \"\", \"\", \"\"], [\"Pan\", \"Pan axes with left mouse, zoom with right\", \"fa fa-arrows icon-move\", \"pan\"], [\"Zoom\", \"Zoom to rectangle\", \"fa fa-square-o icon-check-empty\", \"zoom\"], [\"\", \"\", \"\", \"\"], [\"Download\", \"Download plot\", \"fa fa-floppy-o icon-save\", \"download\"]];\n",
       "\n",
       "mpl.extensions = [\"eps\", \"jpeg\", \"pdf\", \"png\", \"ps\", \"raw\", \"svg\", \"tif\"];\n",
       "\n",
       "mpl.default_extension = \"png\";var comm_websocket_adapter = function(comm) {\n",
       "    // Create a \"websocket\"-like object which calls the given IPython comm\n",
       "    // object with the appropriate methods. Currently this is a non binary\n",
       "    // socket, so there is still some room for performance tuning.\n",
       "    var ws = {};\n",
       "\n",
       "    ws.close = function() {\n",
       "        comm.close()\n",
       "    };\n",
       "    ws.send = function(m) {\n",
       "        //console.log('sending', m);\n",
       "        comm.send(m);\n",
       "    };\n",
       "    // Register the callback with on_msg.\n",
       "    comm.on_msg(function(msg) {\n",
       "        //console.log('receiving', msg['content']['data'], msg);\n",
       "        // Pass the mpl event to the overridden (by mpl) onmessage function.\n",
       "        ws.onmessage(msg['content']['data'])\n",
       "    });\n",
       "    return ws;\n",
       "}\n",
       "\n",
       "mpl.mpl_figure_comm = function(comm, msg) {\n",
       "    // This is the function which gets called when the mpl process\n",
       "    // starts-up an IPython Comm through the \"matplotlib\" channel.\n",
       "\n",
       "    var id = msg.content.data.id;\n",
       "    // Get hold of the div created by the display call when the Comm\n",
       "    // socket was opened in Python.\n",
       "    var element = $(\"#\" + id);\n",
       "    var ws_proxy = comm_websocket_adapter(comm)\n",
       "\n",
       "    function ondownload(figure, format) {\n",
       "        window.open(figure.imageObj.src);\n",
       "    }\n",
       "\n",
       "    var fig = new mpl.figure(id, ws_proxy,\n",
       "                           ondownload,\n",
       "                           element.get(0));\n",
       "\n",
       "    // Call onopen now - mpl needs it, as it is assuming we've passed it a real\n",
       "    // web socket which is closed, not our websocket->open comm proxy.\n",
       "    ws_proxy.onopen();\n",
       "\n",
       "    fig.parent_element = element.get(0);\n",
       "    fig.cell_info = mpl.find_output_cell(\"<div id='\" + id + \"'></div>\");\n",
       "    if (!fig.cell_info) {\n",
       "        console.error(\"Failed to find cell for figure\", id, fig);\n",
       "        return;\n",
       "    }\n",
       "\n",
       "    var output_index = fig.cell_info[2]\n",
       "    var cell = fig.cell_info[0];\n",
       "\n",
       "};\n",
       "\n",
       "mpl.figure.prototype.handle_close = function(fig, msg) {\n",
       "    var width = fig.canvas.width/mpl.ratio\n",
       "    fig.root.unbind('remove')\n",
       "\n",
       "    // Update the output cell to use the data from the current canvas.\n",
       "    fig.push_to_output();\n",
       "    var dataURL = fig.canvas.toDataURL();\n",
       "    // Re-enable the keyboard manager in IPython - without this line, in FF,\n",
       "    // the notebook keyboard shortcuts fail.\n",
       "    IPython.keyboard_manager.enable()\n",
       "    $(fig.parent_element).html('<img src=\"' + dataURL + '\" width=\"' + width + '\">');\n",
       "    fig.close_ws(fig, msg);\n",
       "}\n",
       "\n",
       "mpl.figure.prototype.close_ws = function(fig, msg){\n",
       "    fig.send_message('closing', msg);\n",
       "    // fig.ws.close()\n",
       "}\n",
       "\n",
       "mpl.figure.prototype.push_to_output = function(remove_interactive) {\n",
       "    // Turn the data on the canvas into data in the output cell.\n",
       "    var width = this.canvas.width/mpl.ratio\n",
       "    var dataURL = this.canvas.toDataURL();\n",
       "    this.cell_info[1]['text/html'] = '<img src=\"' + dataURL + '\" width=\"' + width + '\">';\n",
       "}\n",
       "\n",
       "mpl.figure.prototype.updated_canvas_event = function() {\n",
       "    // Tell IPython that the notebook contents must change.\n",
       "    IPython.notebook.set_dirty(true);\n",
       "    this.send_message(\"ack\", {});\n",
       "    var fig = this;\n",
       "    // Wait a second, then push the new image to the DOM so\n",
       "    // that it is saved nicely (might be nice to debounce this).\n",
       "    setTimeout(function () { fig.push_to_output() }, 1000);\n",
       "}\n",
       "\n",
       "mpl.figure.prototype._init_toolbar = function() {\n",
       "    var fig = this;\n",
       "\n",
       "    var nav_element = $('<div/>')\n",
       "    nav_element.attr('style', 'width: 100%');\n",
       "    this.root.append(nav_element);\n",
       "\n",
       "    // Define a callback function for later on.\n",
       "    function toolbar_event(event) {\n",
       "        return fig.toolbar_button_onclick(event['data']);\n",
       "    }\n",
       "    function toolbar_mouse_event(event) {\n",
       "        return fig.toolbar_button_onmouseover(event['data']);\n",
       "    }\n",
       "\n",
       "    for(var toolbar_ind in mpl.toolbar_items){\n",
       "        var name = mpl.toolbar_items[toolbar_ind][0];\n",
       "        var tooltip = mpl.toolbar_items[toolbar_ind][1];\n",
       "        var image = mpl.toolbar_items[toolbar_ind][2];\n",
       "        var method_name = mpl.toolbar_items[toolbar_ind][3];\n",
       "\n",
       "        if (!name) { continue; };\n",
       "\n",
       "        var button = $('<button class=\"btn btn-default\" href=\"#\" title=\"' + name + '\"><i class=\"fa ' + image + ' fa-lg\"></i></button>');\n",
       "        button.click(method_name, toolbar_event);\n",
       "        button.mouseover(tooltip, toolbar_mouse_event);\n",
       "        nav_element.append(button);\n",
       "    }\n",
       "\n",
       "    // Add the status bar.\n",
       "    var status_bar = $('<span class=\"mpl-message\" style=\"text-align:right; float: right;\"/>');\n",
       "    nav_element.append(status_bar);\n",
       "    this.message = status_bar[0];\n",
       "\n",
       "    // Add the close button to the window.\n",
       "    var buttongrp = $('<div class=\"btn-group inline pull-right\"></div>');\n",
       "    var button = $('<button class=\"btn btn-mini btn-primary\" href=\"#\" title=\"Stop Interaction\"><i class=\"fa fa-power-off icon-remove icon-large\"></i></button>');\n",
       "    button.click(function (evt) { fig.handle_close(fig, {}); } );\n",
       "    button.mouseover('Stop Interaction', toolbar_mouse_event);\n",
       "    buttongrp.append(button);\n",
       "    var titlebar = this.root.find($('.ui-dialog-titlebar'));\n",
       "    titlebar.prepend(buttongrp);\n",
       "}\n",
       "\n",
       "mpl.figure.prototype._root_extra_style = function(el){\n",
       "    var fig = this\n",
       "    el.on(\"remove\", function(){\n",
       "\tfig.close_ws(fig, {});\n",
       "    });\n",
       "}\n",
       "\n",
       "mpl.figure.prototype._canvas_extra_style = function(el){\n",
       "    // this is important to make the div 'focusable\n",
       "    el.attr('tabindex', 0)\n",
       "    // reach out to IPython and tell the keyboard manager to turn it's self\n",
       "    // off when our div gets focus\n",
       "\n",
       "    // location in version 3\n",
       "    if (IPython.notebook.keyboard_manager) {\n",
       "        IPython.notebook.keyboard_manager.register_events(el);\n",
       "    }\n",
       "    else {\n",
       "        // location in version 2\n",
       "        IPython.keyboard_manager.register_events(el);\n",
       "    }\n",
       "\n",
       "}\n",
       "\n",
       "mpl.figure.prototype._key_event_extra = function(event, name) {\n",
       "    var manager = IPython.notebook.keyboard_manager;\n",
       "    if (!manager)\n",
       "        manager = IPython.keyboard_manager;\n",
       "\n",
       "    // Check for shift+enter\n",
       "    if (event.shiftKey && event.which == 13) {\n",
       "        this.canvas_div.blur();\n",
       "        event.shiftKey = false;\n",
       "        // Send a \"J\" for go to next cell\n",
       "        event.which = 74;\n",
       "        event.keyCode = 74;\n",
       "        manager.command_mode();\n",
       "        manager.handle_keydown(event);\n",
       "    }\n",
       "}\n",
       "\n",
       "mpl.figure.prototype.handle_save = function(fig, msg) {\n",
       "    fig.ondownload(fig, null);\n",
       "}\n",
       "\n",
       "\n",
       "mpl.find_output_cell = function(html_output) {\n",
       "    // Return the cell and output element which can be found *uniquely* in the notebook.\n",
       "    // Note - this is a bit hacky, but it is done because the \"notebook_saving.Notebook\"\n",
       "    // IPython event is triggered only after the cells have been serialised, which for\n",
       "    // our purposes (turning an active figure into a static one), is too late.\n",
       "    var cells = IPython.notebook.get_cells();\n",
       "    var ncells = cells.length;\n",
       "    for (var i=0; i<ncells; i++) {\n",
       "        var cell = cells[i];\n",
       "        if (cell.cell_type === 'code'){\n",
       "            for (var j=0; j<cell.output_area.outputs.length; j++) {\n",
       "                var data = cell.output_area.outputs[j];\n",
       "                if (data.data) {\n",
       "                    // IPython >= 3 moved mimebundle to data attribute of output\n",
       "                    data = data.data;\n",
       "                }\n",
       "                if (data['text/html'] == html_output) {\n",
       "                    return [cell, data, j];\n",
       "                }\n",
       "            }\n",
       "        }\n",
       "    }\n",
       "}\n",
       "\n",
       "// Register the function which deals with the matplotlib target/channel.\n",
       "// The kernel may be null if the page has been refreshed.\n",
       "if (IPython.notebook.kernel != null) {\n",
       "    IPython.notebook.kernel.comm_manager.register_target('matplotlib', mpl.mpl_figure_comm);\n",
       "}\n"
      ],
      "text/plain": [
       "<IPython.core.display.Javascript object>"
      ]
     },
     "metadata": {},
     "output_type": "display_data"
    },
    {
     "data": {
      "text/html": [
       "<img src=\"data:image/png;base64,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\" width=\"431.818172458775\">"
      ],
      "text/plain": [
       "<IPython.core.display.HTML object>"
      ]
     },
     "metadata": {},
     "output_type": "display_data"
    }
   ],
   "source": [
    "plot_iteration(a.rel_err, min_it=1000)"
   ]
  },
  {
   "cell_type": "code",
   "execution_count": null,
   "metadata": {},
   "outputs": [],
   "source": []
  },
  {
   "cell_type": "code",
   "execution_count": null,
   "metadata": {},
   "outputs": [],
   "source": []
  },
  {
   "cell_type": "code",
   "execution_count": null,
   "metadata": {},
   "outputs": [],
   "source": []
  },
  {
   "cell_type": "code",
   "execution_count": null,
   "metadata": {},
   "outputs": [],
   "source": []
  },
  {
   "cell_type": "code",
   "execution_count": null,
   "metadata": {},
   "outputs": [],
   "source": []
  },
  {
   "cell_type": "code",
   "execution_count": null,
   "metadata": {},
   "outputs": [],
   "source": []
  },
  {
   "cell_type": "code",
   "execution_count": null,
   "metadata": {},
   "outputs": [],
   "source": []
  },
  {
   "cell_type": "code",
   "execution_count": null,
   "metadata": {},
   "outputs": [],
   "source": []
  },
  {
   "cell_type": "code",
   "execution_count": null,
   "metadata": {},
   "outputs": [],
   "source": []
  },
  {
   "cell_type": "code",
   "execution_count": null,
   "metadata": {},
   "outputs": [],
   "source": [
    "p1 = np.load('output/20191223-1714_eq1_1_nn_params.npz')['arr_0']\n",
    "p2 = np.load('output/20191223-1714_eq1_2_nn_params.npz')['arr_0']\n",
    "p3 = np.load('output/20191223-1714_eq1_3_nn_params.npz')['arr_0']\n",
    "p4 = np.load('output/20191223-1730_eq1_4_nn_params.npz')['arr_0']\n",
    "p5 = np.load('output/20191223-1730_eq1_5_nn_params.npz')['arr_0']\n",
    "p6 = np.load('output/20191223-1731_eq1_6_nn_params.npz')['arr_0']\n",
    "p7 = np.load('output/20191223-1731_eq1_7_nn_params.npz')['arr_0']"
   ]
  },
  {
   "cell_type": "code",
   "execution_count": null,
   "metadata": {},
   "outputs": [],
   "source": [
    "plot_partitions(p1)"
   ]
  },
  {
   "cell_type": "code",
   "execution_count": null,
   "metadata": {},
   "outputs": [],
   "source": []
  },
  {
   "cell_type": "code",
   "execution_count": null,
   "metadata": {},
   "outputs": [],
   "source": []
  },
  {
   "cell_type": "code",
   "execution_count": null,
   "metadata": {},
   "outputs": [],
   "source": []
  },
  {
   "cell_type": "code",
   "execution_count": null,
   "metadata": {},
   "outputs": [],
   "source": []
  },
  {
   "cell_type": "code",
   "execution_count": 42,
   "metadata": {},
   "outputs": [],
   "source": [
    "name_str = 'L97_eq1_4_v1'\n",
    "a.save_result(name_str)\n",
    "\n",
    "timestr = time.strftime(\"%Y%m%d-%H%M\")\n",
    "np.savez('output/'+ timestr + '_' + name_str + '_momentum.npz', a.m_t)\n",
    "np.savez('output/'+ timestr + '_' + name_str + '_p_list.npz', p)"
   ]
  },
  {
   "cell_type": "code",
   "execution_count": null,
   "metadata": {},
   "outputs": [],
   "source": [
    "name_str = '20200716-2122_eq1_1'\n",
    "\n",
    "a.p = np.load('output/' + name_str + '_v1_nn_params.npz')['arr_0']\n",
    "a.cost_rate = np.load('output/' + name_str + '_v1_cost_rate.npz')['arr_0']\n",
    "a.rel_err = np.load('output/' + name_str + '_v1_rel_err.npz')['arr_0']\n",
    "a.m_t = np.load('output/' + name_str + '_v1_momentum.npz')['arr_0']\n",
    "p = np.load('output/' + name_str + '_v1_p_list.npz')['arr_0']"
   ]
  },
  {
   "cell_type": "code",
   "execution_count": null,
   "metadata": {},
   "outputs": [],
   "source": []
  },
  {
   "cell_type": "code",
   "execution_count": null,
   "metadata": {},
   "outputs": [],
   "source": []
  }
 ],
 "metadata": {
  "kernelspec": {
   "display_name": "Python 3",
   "language": "python",
   "name": "python3"
  },
  "language_info": {
   "codemirror_mode": {
    "name": "ipython",
    "version": 3
   },
   "file_extension": ".py",
   "mimetype": "text/x-python",
   "name": "python",
   "nbconvert_exporter": "python",
   "pygments_lexer": "ipython3",
   "version": "3.6.7"
  },
  "notify_time": "30",
  "toc": {
   "base_numbering": 1,
   "nav_menu": {},
   "number_sections": true,
   "sideBar": true,
   "skip_h1_title": false,
   "title_cell": "Table of Contents",
   "title_sidebar": "Contents",
   "toc_cell": false,
   "toc_position": {
    "height": "calc(100% - 180px)",
    "left": "10px",
    "top": "150px",
    "width": "216.797px"
   },
   "toc_section_display": true,
   "toc_window_display": false
  },
  "varInspector": {
   "cols": {
    "lenName": 16,
    "lenType": 16,
    "lenVar": 40
   },
   "kernels_config": {
    "python": {
     "delete_cmd_postfix": "",
     "delete_cmd_prefix": "del ",
     "library": "var_list.py",
     "varRefreshCmd": "print(var_dic_list())"
    },
    "r": {
     "delete_cmd_postfix": ") ",
     "delete_cmd_prefix": "rm(",
     "library": "var_list.r",
     "varRefreshCmd": "cat(var_dic_list()) "
    }
   },
   "types_to_exclude": [
    "module",
    "function",
    "builtin_function_or_method",
    "instance",
    "_Feature"
   ],
   "window_display": false
  }
 },
 "nbformat": 4,
 "nbformat_minor": 2
}
