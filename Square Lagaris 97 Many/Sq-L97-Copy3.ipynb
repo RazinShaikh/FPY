{
 "cells": [
  {
   "cell_type": "markdown",
   "metadata": {
    "heading_collapsed": true,
    "slideshow": {
     "slide_type": "-"
    }
   },
   "source": [
    "# Imports"
   ]
  },
  {
   "cell_type": "code",
   "execution_count": 1,
   "metadata": {
    "hidden": true
   },
   "outputs": [
    {
     "name": "stdout",
     "output_type": "stream",
     "text": [
      "Pixiedust database opened successfully\n"
     ]
    },
    {
     "data": {
      "text/html": [
       "\n",
       "        <div style=\"margin:10px\">\n",
       "            <a href=\"https://github.com/ibm-watson-data-lab/pixiedust\" target=\"_new\">\n",
       "                <img src=\"https://github.com/ibm-watson-data-lab/pixiedust/raw/master/docs/_static/pd_icon32.png\" style=\"float:left;margin-right:10px\"/>\n",
       "            </a>\n",
       "            <span>Pixiedust version 1.1.14</span>\n",
       "        </div>\n",
       "        "
      ],
      "text/plain": [
       "<IPython.core.display.HTML object>"
      ]
     },
     "metadata": {},
     "output_type": "display_data"
    },
    {
     "data": {
      "text/html": [
       "<div>Warning: You are not running the latest version of PixieDust. Current is 1.1.14, Latest is 1.1.18</div>"
      ],
      "text/plain": [
       "<IPython.core.display.HTML object>"
      ]
     },
     "metadata": {},
     "output_type": "display_data"
    },
    {
     "data": {
      "text/html": [
       "\n",
       "                <div>Please copy and run the following command in a new cell to upgrade: <span style=\"background-color:#ececec;font-family:monospace;padding:0 5px\">!pip install --user --upgrade pixiedust</span></div>\n",
       "            "
      ],
      "text/plain": [
       "<IPython.core.display.HTML object>"
      ]
     },
     "metadata": {},
     "output_type": "display_data"
    },
    {
     "data": {
      "text/html": [
       "<div>Please restart kernel after upgrading.</div>"
      ],
      "text/plain": [
       "<IPython.core.display.HTML object>"
      ]
     },
     "metadata": {},
     "output_type": "display_data"
    }
   ],
   "source": [
    "import copy\n",
    "import numpy as np\n",
    "import itertools\n",
    "import time\n",
    "from matplotlib import pyplot as plt\n",
    "from mpl_toolkits.mplot3d import Axes3D\n",
    "from matplotlib import cm\n",
    "import pixiedust"
   ]
  },
  {
   "cell_type": "markdown",
   "metadata": {
    "heading_collapsed": true
   },
   "source": [
    "# Introduction"
   ]
  },
  {
   "cell_type": "markdown",
   "metadata": {
    "hidden": true
   },
   "source": [
    "Consider the following equation:\n",
    "$$\\Delta_p \\Psi(x,y)=f(x,y)$$\n",
    "\n",
    "$x \\in [0,1],\\ y \\in [0,1]$ with *Dirichlet* BC: $\\Psi(0,y) = 0$, $\\Psi(1,y) = 0$, $\\Psi(x,0) = 0$ and $\\Psi(x,1) = 0$.\n",
    "\n",
    "For this first attempt, we will take $p=2$."
   ]
  },
  {
   "cell_type": "markdown",
   "metadata": {
    "heading_collapsed": true
   },
   "source": [
    "# Defining functions"
   ]
  },
  {
   "cell_type": "markdown",
   "metadata": {
    "heading_collapsed": true,
    "hidden": true
   },
   "source": [
    "## Sigmoid"
   ]
  },
  {
   "cell_type": "markdown",
   "metadata": {
    "hidden": true
   },
   "source": [
    "Sigmoid $\\sigma(x) = \\frac{1}{1+e^{-x}}$ and its derrivatives."
   ]
  },
  {
   "cell_type": "markdown",
   "metadata": {
    "hidden": true
   },
   "source": [
    "Sigmoid with parameter $t$\n",
    "$$ \\sigma_t(x) = \\frac{1}{1+e^{-tx}}$$"
   ]
  },
  {
   "cell_type": "code",
   "execution_count": 2,
   "metadata": {
    "hidden": true
   },
   "outputs": [],
   "source": [
    "T = 1"
   ]
  },
  {
   "cell_type": "code",
   "execution_count": 3,
   "metadata": {
    "hidden": true
   },
   "outputs": [],
   "source": [
    "def sig(x):\n",
    "    return 1 / (1 + np.exp(-T*x))\n",
    "\n",
    "def sig1(x):\n",
    "    return T * sig(x) * (1 - sig(x))\n",
    "\n",
    "def sig2(x):\n",
    "    return T * (sig1(x) - 2*sig(x)*sig1(x))\n",
    "\n",
    "def sig3(x):\n",
    "    return T * (sig2(x) - 2 * (sig1(x)**2 + sig(x) * sig2(x)))\n",
    "\n",
    "def sig_pr(x, k):\n",
    "    if k==0:\n",
    "        return sig(x)\n",
    "    if k==1:\n",
    "        return sig1(x)\n",
    "    if k==2:\n",
    "        return sig2(x)\n",
    "    if k==3:\n",
    "        return sig3(x)"
   ]
  },
  {
   "cell_type": "markdown",
   "metadata": {
    "heading_collapsed": true,
    "hidden": true
   },
   "source": [
    "## RHS"
   ]
  },
  {
   "cell_type": "markdown",
   "metadata": {
    "hidden": true
   },
   "source": [
    "The right side of the equation:  $\\Delta\\Psi(x,y) = 6 x (x-1) (1-2 y) + 2 y (y-1) (1-2 y)$"
   ]
  },
  {
   "cell_type": "code",
   "execution_count": 4,
   "metadata": {
    "hidden": true
   },
   "outputs": [],
   "source": [
    "K=1\n",
    "def f(x, y):\n",
    "    return K * (6*(x-1)*x*(1-2*y) + 2*(y-1)*y*(1-2*y))"
   ]
  },
  {
   "cell_type": "markdown",
   "metadata": {
    "hidden": true
   },
   "source": [
    "The analytic solution is given by: $\\ \\Psi_a(x,y) = x (1-x) y (1-y) (1-2 y)$"
   ]
  },
  {
   "cell_type": "code",
   "execution_count": 5,
   "metadata": {
    "hidden": true
   },
   "outputs": [],
   "source": [
    "def psi_a(x, y):\n",
    "    return K * x*(1-x)*y*(1-y)*(1-2*y)"
   ]
  },
  {
   "cell_type": "markdown",
   "metadata": {
    "hidden": true
   },
   "source": [
    "$$\\frac{\\partial}{\\partial x} \\Psi_a = (1-2x) y (1-y) (1-2 y)$$"
   ]
  },
  {
   "cell_type": "code",
   "execution_count": 6,
   "metadata": {
    "hidden": true
   },
   "outputs": [],
   "source": [
    "def psi_a_dx(x,y):\n",
    "    return K * (1-2*x)*y*(1-y)*(1-2*y)"
   ]
  },
  {
   "cell_type": "markdown",
   "metadata": {
    "hidden": true
   },
   "source": [
    "$$\\frac{\\partial}{\\partial y} \\Psi_a = x (1-x) (1-6y + 6y^2) $$"
   ]
  },
  {
   "cell_type": "code",
   "execution_count": 7,
   "metadata": {
    "hidden": true
   },
   "outputs": [],
   "source": [
    "def psi_a_dy(x,y):\n",
    "    return K * x*(1-x)*(1-6*y+6*(y**2))"
   ]
  },
  {
   "cell_type": "markdown",
   "metadata": {
    "heading_collapsed": true,
    "hidden": true
   },
   "source": [
    "## Neural Network"
   ]
  },
  {
   "cell_type": "markdown",
   "metadata": {
    "hidden": true
   },
   "source": [
    "The output of neural network $N(x,y,\\vec{p})$, where $\\vec{p} = [w, u, v]$:\n",
    "$$N = \\sum_i^H v_i \\sigma(z_i) \\text{, where } z_i = w_{i0} x + w_{i1} y + u_i$$"
   ]
  },
  {
   "cell_type": "code",
   "execution_count": 8,
   "metadata": {
    "code_folding": [],
    "hidden": true
   },
   "outputs": [],
   "source": [
    "def z(x, y, p):\n",
    "    z_x = np.multiply(x, p[0][0])\n",
    "    z_y = np.multiply(y, p[0][1])\n",
    "    z_ = np.array([z_x, z_y, p[1]]).sum(axis=0)\n",
    "    return z_\n",
    "\n",
    "def N(x, y, p):\n",
    "    return np.sum(np.multiply(sig(z(x,y,p)), p[2]))"
   ]
  },
  {
   "cell_type": "markdown",
   "metadata": {
    "hidden": true
   },
   "source": [
    "$$\\frac{\\partial^k N}{\\partial x_j^k} = \\sum_{i=1}^H v_i w_{ij}^k \\sigma^{(k)}$$"
   ]
  },
  {
   "cell_type": "code",
   "execution_count": 9,
   "metadata": {
    "code_folding": [],
    "hidden": true
   },
   "outputs": [],
   "source": [
    "def dN_dxj_k(x, y, p, j, k):\n",
    "    wj = p[0][j]\n",
    "    v = p[2]\n",
    "    z_ = z(x, y, p)\n",
    "    \n",
    "    return np.sum(v * (wj**k) * sig_pr(z_, k))"
   ]
  },
  {
   "cell_type": "markdown",
   "metadata": {
    "hidden": true
   },
   "source": [
    "$$\\frac{\\partial N}{\\partial w_j} = x_j v \\sigma '$$"
   ]
  },
  {
   "cell_type": "code",
   "execution_count": 10,
   "metadata": {
    "code_folding": [],
    "hidden": true
   },
   "outputs": [],
   "source": [
    "def dN_dwj(x, y, p, j):\n",
    "    xj = x if j==0 else y\n",
    "    v = p[2]\n",
    "    z_ = z(x, y, p)\n",
    "    return xj * v * sig1(z_)"
   ]
  },
  {
   "cell_type": "markdown",
   "metadata": {
    "hidden": true
   },
   "source": [
    "$$ \\frac{\\partial}{\\partial w_j} \\frac{\\partial N}{\\partial x_k} = x_j v w_k \\sigma'' + v_i \\sigma' \\quad\\text{ if } j = k$$\n",
    "\n",
    "$$ \\frac{\\partial}{\\partial w_j} \\frac{\\partial N}{\\partial x_k} = x_j v w_k \\sigma'' \\quad\\text{ if } j \\neq k$$"
   ]
  },
  {
   "cell_type": "code",
   "execution_count": 11,
   "metadata": {
    "code_folding": [],
    "hidden": true
   },
   "outputs": [],
   "source": [
    "def d_dwj_dN_dxk(x, y, p, j, k):\n",
    "    xj = x if j==0 else y\n",
    "    wk = p[0][k]\n",
    "    jk = 1 if j==k else 0\n",
    "    v = p[2]\n",
    "    z_ = z(x, y, p)\n",
    "    return xj * v * wk * sig2(z_) + jk * v * sig1(z_)"
   ]
  },
  {
   "cell_type": "markdown",
   "metadata": {
    "hidden": true
   },
   "source": [
    "$$ \\frac{\\partial}{\\partial w_j} \\frac{\\partial^2 N}{\\partial x_k^2} = x_j v w_k^2 \\sigma^{(3)} + 2 v w_k \\sigma'' \\quad\\text{ if } j = k $$\n",
    "\n",
    "$$ \\frac{\\partial}{\\partial w_j} \\frac{\\partial^2 N}{\\partial x_k^2} = x_j v w_k^2 \\sigma^{(3)} \\quad\\text{ if } j \\neq k $$"
   ]
  },
  {
   "cell_type": "code",
   "execution_count": 12,
   "metadata": {
    "code_folding": [],
    "hidden": true
   },
   "outputs": [],
   "source": [
    "def d_dwj_dN2_dxk2(x, y, p, j, k):\n",
    "    xj = x if j==0 else y\n",
    "    wk = p[0][k]\n",
    "    jk = 1 if j==k else 0\n",
    "    v = p[2]\n",
    "    z_ = z(x, y, p)\n",
    "    return xj * v * (wk**2) * sig3(z_) + jk * 2 * v * wk * sig2(z_)"
   ]
  },
  {
   "cell_type": "markdown",
   "metadata": {
    "hidden": true
   },
   "source": [
    "$$ \\frac{\\partial}{\\partial u} \\frac{\\partial^k}{\\partial x_j^k} N = v w_j^k \\sigma^{(k+1)} $$"
   ]
  },
  {
   "cell_type": "code",
   "execution_count": 13,
   "metadata": {
    "code_folding": [],
    "hidden": true
   },
   "outputs": [],
   "source": [
    "def d_du_dkN(x, y, p, j, k):\n",
    "    v = p[2]\n",
    "    wj = p[0][j]\n",
    "    z_ = z(x, y, p)\n",
    "    return v * (wj**k) * sig_pr(z_, k+1)"
   ]
  },
  {
   "cell_type": "markdown",
   "metadata": {
    "hidden": true
   },
   "source": [
    "$$ \\frac{\\partial}{\\partial v} \\frac{\\partial^k}{\\partial x_j^k} N = w_j^k \\sigma^{(k)} $$"
   ]
  },
  {
   "cell_type": "code",
   "execution_count": 14,
   "metadata": {
    "code_folding": [],
    "hidden": true
   },
   "outputs": [],
   "source": [
    "def d_dv_dkN(x, y, p, j, k):\n",
    "    wj = p[0][j]\n",
    "    z_ = z(x, y, p)\n",
    "    return (wj**k) * sig_pr(z_, k)"
   ]
  },
  {
   "cell_type": "markdown",
   "metadata": {
    "heading_collapsed": true,
    "hidden": true
   },
   "source": [
    "## Trial solution"
   ]
  },
  {
   "cell_type": "markdown",
   "metadata": {
    "hidden": true
   },
   "source": [
    "The trial solution is given by: $$\\Psi_t(x,y) = x(1-x)y(1-y)N(x,y,\\vec{p})$$"
   ]
  },
  {
   "cell_type": "code",
   "execution_count": 15,
   "metadata": {
    "hidden": true
   },
   "outputs": [],
   "source": [
    "def psi_t(x, y, p):\n",
    "    return x * (1-x) * y * (1-y) * N(x, y, p)"
   ]
  },
  {
   "cell_type": "markdown",
   "metadata": {
    "hidden": true
   },
   "source": [
    "$$\\frac{\\partial \\Psi_t}{\\partial x_j} = y_j(1-y_j)\\left[ (1-2x_j) N + x_j (1-x_j) \\frac{\\partial N}{\\partial x_j} \\right]$$"
   ]
  },
  {
   "cell_type": "code",
   "execution_count": 16,
   "metadata": {
    "hidden": true
   },
   "outputs": [],
   "source": [
    "def dPsi_dxj(x, y, p, j):\n",
    "    xj = x if j==0 else y\n",
    "    yj = y if j==0 else x\n",
    "    return yj*(1-yj)*((1-2*xj)*N(x,y,p) + xj*(1-xj)*dN_dxj_k(x,y,p,j,1))"
   ]
  },
  {
   "cell_type": "markdown",
   "metadata": {
    "hidden": true
   },
   "source": [
    "$$\\frac{\\partial^2 \\Psi_t}{\\partial x_j^2} = y_j(1-y_j)\\left[ -2N + (2-4x_j) \\frac{\\partial N}{\\partial x_j} + x_j (1-x_j) \\frac{\\partial^2 N}{\\partial x_j^2} \\right]$$"
   ]
  },
  {
   "cell_type": "code",
   "execution_count": 17,
   "metadata": {
    "hidden": true
   },
   "outputs": [],
   "source": [
    "def dPsi2_dxj2(x, y, p, j):\n",
    "    xj = x if j==0 else y\n",
    "    yj = y if j==0 else x\n",
    "    return yj*(1-yj)*(-2*N(x,y,p) + (2-4*xj)*dN_dxj_k(x,y,p,j,1) + xj*(1-xj)*dN_dxj_k(x,y,p,j,2))"
   ]
  },
  {
   "cell_type": "markdown",
   "metadata": {
    "heading_collapsed": true,
    "hidden": true
   },
   "source": [
    "## Cost function"
   ]
  },
  {
   "cell_type": "markdown",
   "metadata": {
    "hidden": true
   },
   "source": [
    "$$E[\\vec{p}] = \\sum_{i \\in \\hat{D}} \\left\\{ \\frac{\\partial^2 \\Psi_t}{\\partial x^2} + \\frac{\\partial^2 \\Psi_t}{\\partial y^2} - f(x,y) \\right\\}^2 $$"
   ]
  },
  {
   "cell_type": "code",
   "execution_count": 18,
   "metadata": {
    "hidden": true
   },
   "outputs": [],
   "source": [
    "def error(x, y, p):\n",
    "    return dPsi2_dxj2(x,y,p,0) + dPsi2_dxj2(x,y,p,1) - f(x,y)"
   ]
  },
  {
   "cell_type": "code",
   "execution_count": 19,
   "metadata": {
    "code_folding": [],
    "hidden": true
   },
   "outputs": [],
   "source": [
    "def cost(points, p):\n",
    "    err = []\n",
    "    for x, y in points:\n",
    "        err_sq = error(x, y, p)**2\n",
    "        err.append(err_sq)\n",
    "        \n",
    "    cost = sum(err)\n",
    "    \n",
    "    return cost"
   ]
  },
  {
   "cell_type": "code",
   "execution_count": 20,
   "metadata": {
    "hidden": true
   },
   "outputs": [],
   "source": [
    "def relative_err(p, nx=100, all_points=None):\n",
    "    if all_points == None:\n",
    "        all_points = list(itertools.product(np.linspace(0, 1, nx), np.linspace(0, 1, nx)))\n",
    "\n",
    "    dOmega = 1. / len(all_points)\n",
    "\n",
    "    trial1 = np.sum(dOmega*np.array([np.linalg.norm(psi_t(x,y,p) - psi_a(x,y))**2\n",
    "                                     for x, y in all_points]))\n",
    "\n",
    "    trial2 = np.sum([dOmega*((dPsi_dxj(x,y,p,0)-psi_a_dx(x,y))**2 +\n",
    "                             (dPsi_dxj(x,y,p,1)-psi_a_dy(x,y))**2)\n",
    "                     for x, y in all_points])\n",
    "\n",
    "    ana1 = np.sum(dOmega*np.array([np.linalg.norm(psi_a(x,y))**2\n",
    "                                         for x, y in all_points]))\n",
    "    ana2 = np.sum([dOmega*(psi_a_dx(x,y)**2 + psi_a_dy(x,y)**2)\n",
    "                   for x, y in all_points])\n",
    "    \n",
    "    rel_err = (trial1 + trial2)**(1/2) / (ana1 + ana2)**(1/2)\n",
    "    \n",
    "    return rel_err"
   ]
  },
  {
   "cell_type": "markdown",
   "metadata": {
    "heading_collapsed": true
   },
   "source": [
    "# Gradients"
   ]
  },
  {
   "cell_type": "markdown",
   "metadata": {
    "hidden": true
   },
   "source": [
    "$$\\frac{\\partial}{\\partial w_j} \\frac{\\partial^2 \\Psi_t}{\\partial x_k^2} = y_k(1-y_k)\\left[ -2\\frac{\\partial N}{\\partial w_j} + (2-4x_k) \\frac{\\partial}{\\partial w_j} \\frac{\\partial N}{\\partial x_k} + x_k(1-x_k) \\frac{\\partial}{\\partial w_j} \\frac{\\partial^2 N}{\\partial x_k^2} \\right]$$"
   ]
  },
  {
   "cell_type": "code",
   "execution_count": 21,
   "metadata": {
    "hidden": true
   },
   "outputs": [],
   "source": [
    "def d_dwj_dPsi2_dxk2(x, y, p, j, k):\n",
    "    xj = x if k==0 else y\n",
    "    yj = y if k==0 else x\n",
    "    return yj*(1-yj)*(-2*dN_dwj(x,y,p,j) + (2-4*xj)*d_dwj_dN_dxk(x,y,p,j,k) + xj*(1-xj)*d_dwj_dN2_dxk2(x,y,p,j,k))"
   ]
  },
  {
   "cell_type": "markdown",
   "metadata": {
    "hidden": true
   },
   "source": [
    "$$\\frac{\\partial}{\\partial u} \\frac{\\partial^2 \\Psi_t}{\\partial x_k^2} = y_k(1-y_k)\\left[ -2\\frac{\\partial N}{\\partial u} + (2-4x_k) \\frac{\\partial}{\\partial u} \\frac{\\partial N}{\\partial x_k} + x_k(1-x_k) \\frac{\\partial}{\\partial u} \\frac{\\partial^2 N}{\\partial x_k^2} \\right]$$"
   ]
  },
  {
   "cell_type": "code",
   "execution_count": 22,
   "metadata": {
    "hidden": true
   },
   "outputs": [],
   "source": [
    "def d_du_dPsi2_dxk2(x, y, p, k):\n",
    "    xj = x if k==0 else y\n",
    "    yj = y if k==0 else x\n",
    "    return yj*(1-yj)*(-2*d_du_dkN(x,y,p,k,0) + (2-4*xj)*d_du_dkN(x,y,p,k,1) + xj*(1-xj)*d_du_dkN(x,y,p,k,2))"
   ]
  },
  {
   "cell_type": "markdown",
   "metadata": {
    "hidden": true
   },
   "source": [
    "$$\\frac{\\partial}{\\partial v} \\frac{\\partial^2 \\Psi_t}{\\partial x_k^2} = y_k(1-y_k)\\left[ -2\\frac{\\partial N}{\\partial v} + (2-4x_k) \\frac{\\partial}{\\partial v} \\frac{\\partial N}{\\partial x_k} + x_k(1-x_k) \\frac{\\partial}{\\partial v} \\frac{\\partial^2 N}{\\partial x_k^2} \\right]$$"
   ]
  },
  {
   "cell_type": "code",
   "execution_count": 23,
   "metadata": {
    "hidden": true
   },
   "outputs": [],
   "source": [
    "def d_dv_dPsi2_dxk2(x, y, p, k):\n",
    "    xj = x if k==0 else y\n",
    "    yj = y if k==0 else x\n",
    "    return yj*(1-yj)*(-2*d_dv_dkN(x,y,p,k,0) + (2-4*xj)*d_dv_dkN(x,y,p,k,1) + xj*(1-xj)*d_dv_dkN(x,y,p,k,2))"
   ]
  },
  {
   "cell_type": "markdown",
   "metadata": {
    "hidden": true
   },
   "source": [
    "$$ \\frac{\\partial E[\\vec{p}]}{\\partial w_j} = \\sum_{i \\in \\hat{D}} \\left\\{ 2 \\text{ (error) } \\left( \\frac{\\partial}{\\partial w_j} \\frac{\\partial^2 \\Psi_t}{\\partial x^2} + \\frac{\\partial}{\\partial w_j} \\frac{\\partial^2 \\Psi_t}{\\partial y^2} \\right) \\right\\}$$"
   ]
  },
  {
   "cell_type": "code",
   "execution_count": 24,
   "metadata": {
    "code_folding": [],
    "hidden": true
   },
   "outputs": [],
   "source": [
    "def dE_dwj(points, p, j):\n",
    "    t1 = []\n",
    "    for x, y in points:\n",
    "        tmp = 2 * error(x,y,p) * (d_dwj_dPsi2_dxk2(x,y,p,j,0) + \n",
    "                                  d_dwj_dPsi2_dxk2(x,y,p,j,1))\n",
    "        t1.append(tmp)\n",
    "    \n",
    "    grad = sum(t1)\n",
    "    \n",
    "    return grad"
   ]
  },
  {
   "cell_type": "markdown",
   "metadata": {
    "hidden": true
   },
   "source": [
    "$$ \\frac{\\partial E[\\vec{p}]}{\\partial u} = \\sum_{i \\in \\hat{D}} \\left\\{ 2 \\text{ (error) } \\left( \\frac{\\partial}{\\partial u} \\frac{\\partial^2 \\Psi_t}{\\partial x^2} + \\frac{\\partial}{\\partial u} \\frac{\\partial^2 \\Psi_t}{\\partial y^2} \\right) \\right\\}$$"
   ]
  },
  {
   "cell_type": "code",
   "execution_count": 25,
   "metadata": {
    "code_folding": [],
    "hidden": true
   },
   "outputs": [],
   "source": [
    "def dE_du(points, p):\n",
    "    t1 = []\n",
    "    for x, y in points:\n",
    "        tmp = 2 * error(x,y,p) * (d_du_dPsi2_dxk2(x,y,p,0) + \n",
    "                                  d_du_dPsi2_dxk2(x,y,p,1))\n",
    "        t1.append(tmp)\n",
    "    \n",
    "    grad = sum(t1)\n",
    "    \n",
    "    return grad"
   ]
  },
  {
   "cell_type": "markdown",
   "metadata": {
    "hidden": true
   },
   "source": [
    "$$ \\frac{\\partial E[\\vec{p}]}{\\partial v} = \\sum_{i \\in \\hat{D}} \\left\\{ 2 \\text{ (error) } \\left( \\frac{\\partial}{\\partial v} \\frac{\\partial^2 \\Psi_t}{\\partial x^2} + \\frac{\\partial}{\\partial v} \\frac{\\partial^2 \\Psi_t}{\\partial y^2} \\right) \\right\\}$$"
   ]
  },
  {
   "cell_type": "code",
   "execution_count": 26,
   "metadata": {
    "code_folding": [],
    "hidden": true
   },
   "outputs": [],
   "source": [
    "def dE_dv(points, p):\n",
    "    t1 = []\n",
    "    for x, y in points:\n",
    "        tmp = 2 * error(x,y,p) * (d_dv_dPsi2_dxk2(x,y,p,0) + \n",
    "                                  d_dv_dPsi2_dxk2(x,y,p,1))\n",
    "        t1.append(tmp)\n",
    "    \n",
    "    grad = sum(t1)\n",
    "    \n",
    "    return grad"
   ]
  },
  {
   "cell_type": "markdown",
   "metadata": {
    "heading_collapsed": true
   },
   "source": [
    "# NN class"
   ]
  },
  {
   "cell_type": "code",
   "execution_count": 27,
   "metadata": {
    "hidden": true
   },
   "outputs": [],
   "source": [
    "def initialize_p(hidden_nodes):\n",
    "    w1 = np.random.randn(hidden_nodes)\n",
    "    v = np.random.randn(hidden_nodes)\n",
    "    w0 = []\n",
    "    u = []\n",
    "\n",
    "    for w1_sample in w1:\n",
    "        x = []\n",
    "        y = []\n",
    "        for side in np.random.choice(4, 2, replace=False):\n",
    "            if side == 0:\n",
    "                x.append(0)\n",
    "                y.append(np.random.uniform(0.1,0.9,1)[0])\n",
    "            elif side == 1:\n",
    "                x.append(np.random.uniform(0.1,0.9,1)[0])\n",
    "                y.append(1)\n",
    "            elif side == 2:\n",
    "                x.append(1)\n",
    "                y.append(np.random.uniform(0.1,0.9,1)[0])\n",
    "            elif side == 3:\n",
    "                x.append(np.random.uniform(0.1,0.9,1)[0])\n",
    "                y.append(0)\n",
    "\n",
    "        slope = (y[1] - y[0]) / (x[1] - x[0])\n",
    "        w0.append(-slope * w1_sample)\n",
    "        u.append((slope*x[0] - y[0]) * w1_sample)\n",
    "\n",
    "    p = np.array([np.array([np.array(w0), np.array(w1)]), \n",
    "                  np.array(u), np.array(v)])\n",
    "    \n",
    "    return p"
   ]
  },
  {
   "cell_type": "code",
   "execution_count": 28,
   "metadata": {
    "hidden": true
   },
   "outputs": [],
   "source": [
    "def get_mini_batches(points, batch_size):\n",
    "    np.random.shuffle(points)\n",
    "    \n",
    "    no_of_splits = np.ceil(len(points) / batch_size)\n",
    "\n",
    "    mini_batch_points = np.array_split(points, no_of_splits)\n",
    "    \n",
    "    return mini_batch_points"
   ]
  },
  {
   "cell_type": "code",
   "execution_count": 29,
   "metadata": {
    "code_folding": [
     57,
     63
    ],
    "hidden": true
   },
   "outputs": [],
   "source": [
    "class NNTrain:\n",
    "    def __init__(self, nx=10, hidden_nodes=10, alpha=0.01, batch_size=50,\n",
    "                 beta=0.9, update_interval=50, if_rel_err=False,\n",
    "                 output_file='output/output.csv'):\n",
    "\n",
    "        self.output_file = output_file\n",
    "        self.training_started = False\n",
    "        self.nx = nx\n",
    "        self.hidden_nodes = hidden_nodes\n",
    "        self.alpha = alpha\n",
    "        self.batch_size = batch_size\n",
    "        self.beta = beta\n",
    "        self.update_interval = update_interval\n",
    "        self.points = list(itertools.product(\n",
    "            np.linspace(0, 1, nx), np.linspace(0, 1, nx)))\n",
    "        self.cost_rate = []\n",
    "        self.if_rel_err = if_rel_err\n",
    "        if self.if_rel_err:\n",
    "            self.rel_err = []\n",
    "        self.p = initialize_p(hidden_nodes)\n",
    "        self.m_t = np.array([np.zeros(hidden_nodes),\n",
    "                             np.zeros(hidden_nodes),\n",
    "                             np.zeros(hidden_nodes),\n",
    "                             np.zeros(hidden_nodes)])\n",
    "\n",
    "        \n",
    "    def sgd_mt(self, w, g_t, theta_0):\n",
    "        # gradient descent with momentum\n",
    "        self.m_t[w] = self.beta * self.m_t[w] + (1-self.beta) * g_t\n",
    "        theta_0 = theta_0 - (self.alpha*self.m_t[w])\n",
    "\n",
    "        return theta_0\n",
    "\n",
    "    \n",
    "    def train(self, itr=1000):\n",
    "        if self.training_started:\n",
    "            mode = 'a'\n",
    "        else:\n",
    "            mode = 'w'\n",
    "        self.training_started = True\n",
    "\n",
    "        with open(self.output_file, mode) as file:\n",
    "            if mode == 'w':\n",
    "                if self.if_rel_err:\n",
    "                    file.write(\n",
    "                        'Iteration,Cost,Cost Diff,Relative Error,Relative Error Diff\\n')\n",
    "                else:\n",
    "                    file.write('Iteration,Cost,Cost Diff\\n')\n",
    "            start = len(self.cost_rate)-1\n",
    "            if start < 1:\n",
    "                start += 1\n",
    "                self.cost_rate.append(cost(self.points, self.p))\n",
    "                if self.if_rel_err:\n",
    "                    self.rel_err.append(relative_err(\n",
    "                        self.p, all_points=self.points))\n",
    "\n",
    "            i = start\n",
    "            while i < start+itr:\n",
    "                mini_batch_points = get_mini_batches(\n",
    "                    self.points, self.batch_size)\n",
    "\n",
    "                for mini_point in mini_batch_points:\n",
    "                    mini_point = list(mini_point)\n",
    "\n",
    "                    g_w0 = dE_dwj(mini_point, self.p, 0)\n",
    "                    g_w1 = dE_dwj(mini_point, self.p, 1)\n",
    "                    g_u = dE_du(mini_point, self.p)\n",
    "                    g_v = dE_dv(mini_point, self.p)\n",
    "\n",
    "                    self.p[0][0] = self.sgd_mt(0, g_w0, self.p[0][0])\n",
    "                    self.p[0][1] = self.sgd_mt(1, g_w1, self.p[0][1])\n",
    "                    self.p[1] = self.sgd_mt(2, g_u, self.p[1])\n",
    "                    self.p[2] = self.sgd_mt(3, g_v, self.p[2])\n",
    "\n",
    "                self.cost_rate.append(cost(self.points, self.p))\n",
    "                cost_diff = self.cost_rate[i]-self.cost_rate[i+1]\n",
    "                if self.if_rel_err:\n",
    "                    self.rel_err.append(relative_err(\n",
    "                        self.p, all_points=self.points))\n",
    "                    rel_diff = self.rel_err[i]-self.rel_err[i+1]\n",
    "\n",
    "                if self.if_rel_err:\n",
    "                    file.write('{},{:.8f},{:.8f},{:.8f},{:.8f}\\n'.format(\n",
    "                        i+1, self.cost_rate[i+1], cost_diff,\n",
    "                        self.rel_err[i+1], rel_diff))\n",
    "                else:\n",
    "                    file.write('{},{:.8f},{:.8f}\\n'.format(\n",
    "                        i+1, self.cost_rate[i+1], cost_diff))\n",
    "\n",
    "                if i % self.update_interval == 0:\n",
    "                    file.flush()\n",
    "\n",
    "                i += 1\n",
    "\n",
    "                \n",
    "    def save_result(self, output_name=''):\n",
    "        timestr = time.strftime(\"%Y%m%d-%H%M\")\n",
    "        np.savez('output/' + timestr + '_' +\n",
    "                 output_name + '_nn_params.npz', self.p)\n",
    "        np.savez('output/' + timestr + '_' + output_name +\n",
    "                 '_cost_rate.npz', self.cost_rate)\n",
    "        if self.if_rel_err:\n",
    "            np.savez('output/' + timestr + '_' +\n",
    "                     output_name + '_rel_err.npz', self.rel_err)"
   ]
  },
  {
   "cell_type": "code",
   "execution_count": null,
   "metadata": {
    "hidden": true
   },
   "outputs": [],
   "source": []
  },
  {
   "cell_type": "markdown",
   "metadata": {
    "heading_collapsed": true
   },
   "source": [
    "# Graphs"
   ]
  },
  {
   "cell_type": "code",
   "execution_count": 30,
   "metadata": {
    "hidden": true
   },
   "outputs": [],
   "source": [
    "%matplotlib notebook\n",
    "%matplotlib notebook"
   ]
  },
  {
   "cell_type": "markdown",
   "metadata": {
    "heading_collapsed": true,
    "hidden": true
   },
   "source": [
    "## Hidden Nodes"
   ]
  },
  {
   "cell_type": "code",
   "execution_count": 31,
   "metadata": {
    "hidden": true
   },
   "outputs": [],
   "source": [
    "def plot_nodes(a, save_name=None, save=True, zlim=True):\n",
    "    p = a.p\n",
    "    hmax = a.p[0][0].shape[0]\n",
    "    col = int(np.sqrt(hmax)) if int(np.sqrt(hmax)) < 10 else 10\n",
    "    row = np.ceil(hmax / col)\n",
    "    \n",
    "    d_x=0.1\n",
    "\n",
    "    fig = plt.figure(figsize=(col*3, row*3), dpi=100)\n",
    "    for h in range(1,hmax+1):\n",
    "        ax = fig.add_subplot(row,col,h, projection='3d')\n",
    "        x = y = np.arange(0, 1+d_x, d_x)\n",
    "        X, Y = np.meshgrid(x, y)\n",
    "\n",
    "        zs = np.array([p[1][h-1]*sig(z(x,y,p))[h-1] for x,y in zip(np.ravel(X), np.ravel(Y))])\n",
    "        Z = zs.reshape(X.shape)\n",
    "\n",
    "        ax.set_xlabel('x')\n",
    "        ax.set_ylabel('y')\n",
    "        if zlim:\n",
    "            ax.set_zlim(0,1)\n",
    "\n",
    "        ax.plot_surface(X, Y, Z, cmap=cm.coolwarm)\n",
    "        ax.title.set_text('HN: ' + str(h) + ', v=' + \"{:.4E}\".format(p[1][h-1]))\n",
    "        time.sleep(0.2)\n",
    "\n",
    "    if save==True:\n",
    "        if save_name is None: \n",
    "            plt.savefig('t'+str(T)+'_h'+str(hmax)+'_n'+str(a.nx)+'.png')\n",
    "        else:\n",
    "            plt.savefig(save_name)\n",
    "    else:\n",
    "        plt.show()"
   ]
  },
  {
   "cell_type": "markdown",
   "metadata": {
    "heading_collapsed": true,
    "hidden": true
   },
   "source": [
    "## Error vs Iterations"
   ]
  },
  {
   "cell_type": "code",
   "execution_count": 32,
   "metadata": {
    "hidden": true
   },
   "outputs": [],
   "source": [
    "def plot_iteration(arr, min_it=0, max_it=None):\n",
    "    plt.figure()\n",
    "    plt.plot(np.arange(len(arr[min_it:max_it])), np.array(arr[min_it:max_it]))\n",
    "    plt.show()"
   ]
  },
  {
   "cell_type": "markdown",
   "metadata": {
    "heading_collapsed": true,
    "hidden": true
   },
   "source": [
    "## Solution Accuracy on the domain"
   ]
  },
  {
   "cell_type": "code",
   "execution_count": 33,
   "metadata": {
    "hidden": true
   },
   "outputs": [],
   "source": [
    "def plot_fun(fun, zlim=False, title=None, return_ax=False, **kwargs):\n",
    "    d_x=0.01\n",
    "    fig = plt.figure()\n",
    "    ax = fig.add_subplot(111, projection='3d')\n",
    "    x = y = np.arange(0, 1.0+d_x, d_x)\n",
    "    X, Y = np.meshgrid(x, y)\n",
    "\n",
    "    zs = np.array([fun(x,y,**kwargs) for x,y in zip(np.ravel(X), np.ravel(Y))])\n",
    "    Z = zs.reshape(X.shape)\n",
    "\n",
    "    ax.plot_surface(X, Y, Z, cmap=cm.coolwarm_r)\n",
    "    # ax.ticklabel_format(style='sci', axis='z', scilimits=(0,0), useOffset=True, useMathText=True)\n",
    "\n",
    "\n",
    "    ax.set_xlabel('x')\n",
    "    ax.set_ylabel('y')\n",
    "    ax.title.set_text(title)\n",
    "    \n",
    "    if zlim:\n",
    "        ax.set_zlim(0,1)\n",
    "\n",
    "    if return_ax:\n",
    "        return ax\n",
    "    else:\n",
    "        plt.show()"
   ]
  },
  {
   "cell_type": "code",
   "execution_count": 34,
   "metadata": {
    "hidden": true
   },
   "outputs": [],
   "source": [
    "def plot_partitions(p):\n",
    "    plt.plot([0,0,1,1,0], [0,1,1,0,0], linewidth=3)\n",
    "\n",
    "    for HN in range(len(p[1])):\n",
    "        x = np.linspace(-1,2,500)\n",
    "        y = -(p[1][HN] + p[0][0][HN]*x) / p[0][1][HN]\n",
    "\n",
    "        plt.plot(x, y, label=HN)\n",
    "\n",
    "    plt.xlim(-1,2)\n",
    "    plt.ylim(-1,2)"
   ]
  },
  {
   "cell_type": "markdown",
   "metadata": {},
   "source": [
    "# Training"
   ]
  },
  {
   "cell_type": "code",
   "execution_count": 41,
   "metadata": {},
   "outputs": [],
   "source": [
    "K=10\n",
    "a = NNTrain(nx=60, hidden_nodes=20, alpha=1e-4, batch_size=50, update_interval=10, if_rel_err=True, output_file='out/out3.csv')"
   ]
  },
  {
   "cell_type": "code",
   "execution_count": null,
   "metadata": {},
   "outputs": [],
   "source": [
    "p=[]\n",
    "p.append(copy.deepcopy(a.p))\n",
    "a.train(100)"
   ]
  },
  {
   "cell_type": "code",
   "execution_count": null,
   "metadata": {
    "scrolled": true
   },
   "outputs": [],
   "source": [
    "thresh=1e-5\n",
    "\n",
    "for i in range(10000):\n",
    "    p.append(copy.deepcopy(a.p))\n",
    "    if np.mean([np.abs(s-t) for s, t in zip(a.cost_rate[-21:], a.cost_rate[-20:])]) < thresh:\n",
    "        break\n",
    "    a.train(100)"
   ]
  },
  {
   "cell_type": "markdown",
   "metadata": {},
   "source": [
    "Etc"
   ]
  },
  {
   "cell_type": "code",
   "execution_count": 45,
   "metadata": {},
   "outputs": [
    {
     "name": "stdout",
     "output_type": "stream",
     "text": [
      "relative error: 0.0006332307696568431\n"
     ]
    }
   ],
   "source": [
    "print('relative error:', relative_err(a.p, nx=100))"
   ]
  },
  {
   "cell_type": "code",
   "execution_count": 46,
   "metadata": {},
   "outputs": [
    {
     "data": {
      "application/javascript": [
       "/* Put everything inside the global mpl namespace */\n",
       "window.mpl = {};\n",
       "\n",
       "\n",
       "mpl.get_websocket_type = function() {\n",
       "    if (typeof(WebSocket) !== 'undefined') {\n",
       "        return WebSocket;\n",
       "    } else if (typeof(MozWebSocket) !== 'undefined') {\n",
       "        return MozWebSocket;\n",
       "    } else {\n",
       "        alert('Your browser does not have WebSocket support.' +\n",
       "              'Please try Chrome, Safari or Firefox ≥ 6. ' +\n",
       "              'Firefox 4 and 5 are also supported but you ' +\n",
       "              'have to enable WebSockets in about:config.');\n",
       "    };\n",
       "}\n",
       "\n",
       "mpl.figure = function(figure_id, websocket, ondownload, parent_element) {\n",
       "    this.id = figure_id;\n",
       "\n",
       "    this.ws = websocket;\n",
       "\n",
       "    this.supports_binary = (this.ws.binaryType != undefined);\n",
       "\n",
       "    if (!this.supports_binary) {\n",
       "        var warnings = document.getElementById(\"mpl-warnings\");\n",
       "        if (warnings) {\n",
       "            warnings.style.display = 'block';\n",
       "            warnings.textContent = (\n",
       "                \"This browser does not support binary websocket messages. \" +\n",
       "                    \"Performance may be slow.\");\n",
       "        }\n",
       "    }\n",
       "\n",
       "    this.imageObj = new Image();\n",
       "\n",
       "    this.context = undefined;\n",
       "    this.message = undefined;\n",
       "    this.canvas = undefined;\n",
       "    this.rubberband_canvas = undefined;\n",
       "    this.rubberband_context = undefined;\n",
       "    this.format_dropdown = undefined;\n",
       "\n",
       "    this.image_mode = 'full';\n",
       "\n",
       "    this.root = $('<div/>');\n",
       "    this._root_extra_style(this.root)\n",
       "    this.root.attr('style', 'display: inline-block');\n",
       "\n",
       "    $(parent_element).append(this.root);\n",
       "\n",
       "    this._init_header(this);\n",
       "    this._init_canvas(this);\n",
       "    this._init_toolbar(this);\n",
       "\n",
       "    var fig = this;\n",
       "\n",
       "    this.waiting = false;\n",
       "\n",
       "    this.ws.onopen =  function () {\n",
       "            fig.send_message(\"supports_binary\", {value: fig.supports_binary});\n",
       "            fig.send_message(\"send_image_mode\", {});\n",
       "            if (mpl.ratio != 1) {\n",
       "                fig.send_message(\"set_dpi_ratio\", {'dpi_ratio': mpl.ratio});\n",
       "            }\n",
       "            fig.send_message(\"refresh\", {});\n",
       "        }\n",
       "\n",
       "    this.imageObj.onload = function() {\n",
       "            if (fig.image_mode == 'full') {\n",
       "                // Full images could contain transparency (where diff images\n",
       "                // almost always do), so we need to clear the canvas so that\n",
       "                // there is no ghosting.\n",
       "                fig.context.clearRect(0, 0, fig.canvas.width, fig.canvas.height);\n",
       "            }\n",
       "            fig.context.drawImage(fig.imageObj, 0, 0);\n",
       "        };\n",
       "\n",
       "    this.imageObj.onunload = function() {\n",
       "        fig.ws.close();\n",
       "    }\n",
       "\n",
       "    this.ws.onmessage = this._make_on_message_function(this);\n",
       "\n",
       "    this.ondownload = ondownload;\n",
       "}\n",
       "\n",
       "mpl.figure.prototype._init_header = function() {\n",
       "    var titlebar = $(\n",
       "        '<div class=\"ui-dialog-titlebar ui-widget-header ui-corner-all ' +\n",
       "        'ui-helper-clearfix\"/>');\n",
       "    var titletext = $(\n",
       "        '<div class=\"ui-dialog-title\" style=\"width: 100%; ' +\n",
       "        'text-align: center; padding: 3px;\"/>');\n",
       "    titlebar.append(titletext)\n",
       "    this.root.append(titlebar);\n",
       "    this.header = titletext[0];\n",
       "}\n",
       "\n",
       "\n",
       "\n",
       "mpl.figure.prototype._canvas_extra_style = function(canvas_div) {\n",
       "\n",
       "}\n",
       "\n",
       "\n",
       "mpl.figure.prototype._root_extra_style = function(canvas_div) {\n",
       "\n",
       "}\n",
       "\n",
       "mpl.figure.prototype._init_canvas = function() {\n",
       "    var fig = this;\n",
       "\n",
       "    var canvas_div = $('<div/>');\n",
       "\n",
       "    canvas_div.attr('style', 'position: relative; clear: both; outline: 0');\n",
       "\n",
       "    function canvas_keyboard_event(event) {\n",
       "        return fig.key_event(event, event['data']);\n",
       "    }\n",
       "\n",
       "    canvas_div.keydown('key_press', canvas_keyboard_event);\n",
       "    canvas_div.keyup('key_release', canvas_keyboard_event);\n",
       "    this.canvas_div = canvas_div\n",
       "    this._canvas_extra_style(canvas_div)\n",
       "    this.root.append(canvas_div);\n",
       "\n",
       "    var canvas = $('<canvas/>');\n",
       "    canvas.addClass('mpl-canvas');\n",
       "    canvas.attr('style', \"left: 0; top: 0; z-index: 0; outline: 0\")\n",
       "\n",
       "    this.canvas = canvas[0];\n",
       "    this.context = canvas[0].getContext(\"2d\");\n",
       "\n",
       "    var backingStore = this.context.backingStorePixelRatio ||\n",
       "\tthis.context.webkitBackingStorePixelRatio ||\n",
       "\tthis.context.mozBackingStorePixelRatio ||\n",
       "\tthis.context.msBackingStorePixelRatio ||\n",
       "\tthis.context.oBackingStorePixelRatio ||\n",
       "\tthis.context.backingStorePixelRatio || 1;\n",
       "\n",
       "    mpl.ratio = (window.devicePixelRatio || 1) / backingStore;\n",
       "\n",
       "    var rubberband = $('<canvas/>');\n",
       "    rubberband.attr('style', \"position: absolute; left: 0; top: 0; z-index: 1;\")\n",
       "\n",
       "    var pass_mouse_events = true;\n",
       "\n",
       "    canvas_div.resizable({\n",
       "        start: function(event, ui) {\n",
       "            pass_mouse_events = false;\n",
       "        },\n",
       "        resize: function(event, ui) {\n",
       "            fig.request_resize(ui.size.width, ui.size.height);\n",
       "        },\n",
       "        stop: function(event, ui) {\n",
       "            pass_mouse_events = true;\n",
       "            fig.request_resize(ui.size.width, ui.size.height);\n",
       "        },\n",
       "    });\n",
       "\n",
       "    function mouse_event_fn(event) {\n",
       "        if (pass_mouse_events)\n",
       "            return fig.mouse_event(event, event['data']);\n",
       "    }\n",
       "\n",
       "    rubberband.mousedown('button_press', mouse_event_fn);\n",
       "    rubberband.mouseup('button_release', mouse_event_fn);\n",
       "    // Throttle sequential mouse events to 1 every 20ms.\n",
       "    rubberband.mousemove('motion_notify', mouse_event_fn);\n",
       "\n",
       "    rubberband.mouseenter('figure_enter', mouse_event_fn);\n",
       "    rubberband.mouseleave('figure_leave', mouse_event_fn);\n",
       "\n",
       "    canvas_div.on(\"wheel\", function (event) {\n",
       "        event = event.originalEvent;\n",
       "        event['data'] = 'scroll'\n",
       "        if (event.deltaY < 0) {\n",
       "            event.step = 1;\n",
       "        } else {\n",
       "            event.step = -1;\n",
       "        }\n",
       "        mouse_event_fn(event);\n",
       "    });\n",
       "\n",
       "    canvas_div.append(canvas);\n",
       "    canvas_div.append(rubberband);\n",
       "\n",
       "    this.rubberband = rubberband;\n",
       "    this.rubberband_canvas = rubberband[0];\n",
       "    this.rubberband_context = rubberband[0].getContext(\"2d\");\n",
       "    this.rubberband_context.strokeStyle = \"#000000\";\n",
       "\n",
       "    this._resize_canvas = function(width, height) {\n",
       "        // Keep the size of the canvas, canvas container, and rubber band\n",
       "        // canvas in synch.\n",
       "        canvas_div.css('width', width)\n",
       "        canvas_div.css('height', height)\n",
       "\n",
       "        canvas.attr('width', width * mpl.ratio);\n",
       "        canvas.attr('height', height * mpl.ratio);\n",
       "        canvas.attr('style', 'width: ' + width + 'px; height: ' + height + 'px;');\n",
       "\n",
       "        rubberband.attr('width', width);\n",
       "        rubberband.attr('height', height);\n",
       "    }\n",
       "\n",
       "    // Set the figure to an initial 600x600px, this will subsequently be updated\n",
       "    // upon first draw.\n",
       "    this._resize_canvas(600, 600);\n",
       "\n",
       "    // Disable right mouse context menu.\n",
       "    $(this.rubberband_canvas).bind(\"contextmenu\",function(e){\n",
       "        return false;\n",
       "    });\n",
       "\n",
       "    function set_focus () {\n",
       "        canvas.focus();\n",
       "        canvas_div.focus();\n",
       "    }\n",
       "\n",
       "    window.setTimeout(set_focus, 100);\n",
       "}\n",
       "\n",
       "mpl.figure.prototype._init_toolbar = function() {\n",
       "    var fig = this;\n",
       "\n",
       "    var nav_element = $('<div/>')\n",
       "    nav_element.attr('style', 'width: 100%');\n",
       "    this.root.append(nav_element);\n",
       "\n",
       "    // Define a callback function for later on.\n",
       "    function toolbar_event(event) {\n",
       "        return fig.toolbar_button_onclick(event['data']);\n",
       "    }\n",
       "    function toolbar_mouse_event(event) {\n",
       "        return fig.toolbar_button_onmouseover(event['data']);\n",
       "    }\n",
       "\n",
       "    for(var toolbar_ind in mpl.toolbar_items) {\n",
       "        var name = mpl.toolbar_items[toolbar_ind][0];\n",
       "        var tooltip = mpl.toolbar_items[toolbar_ind][1];\n",
       "        var image = mpl.toolbar_items[toolbar_ind][2];\n",
       "        var method_name = mpl.toolbar_items[toolbar_ind][3];\n",
       "\n",
       "        if (!name) {\n",
       "            // put a spacer in here.\n",
       "            continue;\n",
       "        }\n",
       "        var button = $('<button/>');\n",
       "        button.addClass('ui-button ui-widget ui-state-default ui-corner-all ' +\n",
       "                        'ui-button-icon-only');\n",
       "        button.attr('role', 'button');\n",
       "        button.attr('aria-disabled', 'false');\n",
       "        button.click(method_name, toolbar_event);\n",
       "        button.mouseover(tooltip, toolbar_mouse_event);\n",
       "\n",
       "        var icon_img = $('<span/>');\n",
       "        icon_img.addClass('ui-button-icon-primary ui-icon');\n",
       "        icon_img.addClass(image);\n",
       "        icon_img.addClass('ui-corner-all');\n",
       "\n",
       "        var tooltip_span = $('<span/>');\n",
       "        tooltip_span.addClass('ui-button-text');\n",
       "        tooltip_span.html(tooltip);\n",
       "\n",
       "        button.append(icon_img);\n",
       "        button.append(tooltip_span);\n",
       "\n",
       "        nav_element.append(button);\n",
       "    }\n",
       "\n",
       "    var fmt_picker_span = $('<span/>');\n",
       "\n",
       "    var fmt_picker = $('<select/>');\n",
       "    fmt_picker.addClass('mpl-toolbar-option ui-widget ui-widget-content');\n",
       "    fmt_picker_span.append(fmt_picker);\n",
       "    nav_element.append(fmt_picker_span);\n",
       "    this.format_dropdown = fmt_picker[0];\n",
       "\n",
       "    for (var ind in mpl.extensions) {\n",
       "        var fmt = mpl.extensions[ind];\n",
       "        var option = $(\n",
       "            '<option/>', {selected: fmt === mpl.default_extension}).html(fmt);\n",
       "        fmt_picker.append(option)\n",
       "    }\n",
       "\n",
       "    // Add hover states to the ui-buttons\n",
       "    $( \".ui-button\" ).hover(\n",
       "        function() { $(this).addClass(\"ui-state-hover\");},\n",
       "        function() { $(this).removeClass(\"ui-state-hover\");}\n",
       "    );\n",
       "\n",
       "    var status_bar = $('<span class=\"mpl-message\"/>');\n",
       "    nav_element.append(status_bar);\n",
       "    this.message = status_bar[0];\n",
       "}\n",
       "\n",
       "mpl.figure.prototype.request_resize = function(x_pixels, y_pixels) {\n",
       "    // Request matplotlib to resize the figure. Matplotlib will then trigger a resize in the client,\n",
       "    // which will in turn request a refresh of the image.\n",
       "    this.send_message('resize', {'width': x_pixels, 'height': y_pixels});\n",
       "}\n",
       "\n",
       "mpl.figure.prototype.send_message = function(type, properties) {\n",
       "    properties['type'] = type;\n",
       "    properties['figure_id'] = this.id;\n",
       "    this.ws.send(JSON.stringify(properties));\n",
       "}\n",
       "\n",
       "mpl.figure.prototype.send_draw_message = function() {\n",
       "    if (!this.waiting) {\n",
       "        this.waiting = true;\n",
       "        this.ws.send(JSON.stringify({type: \"draw\", figure_id: this.id}));\n",
       "    }\n",
       "}\n",
       "\n",
       "\n",
       "mpl.figure.prototype.handle_save = function(fig, msg) {\n",
       "    var format_dropdown = fig.format_dropdown;\n",
       "    var format = format_dropdown.options[format_dropdown.selectedIndex].value;\n",
       "    fig.ondownload(fig, format);\n",
       "}\n",
       "\n",
       "\n",
       "mpl.figure.prototype.handle_resize = function(fig, msg) {\n",
       "    var size = msg['size'];\n",
       "    if (size[0] != fig.canvas.width || size[1] != fig.canvas.height) {\n",
       "        fig._resize_canvas(size[0], size[1]);\n",
       "        fig.send_message(\"refresh\", {});\n",
       "    };\n",
       "}\n",
       "\n",
       "mpl.figure.prototype.handle_rubberband = function(fig, msg) {\n",
       "    var x0 = msg['x0'] / mpl.ratio;\n",
       "    var y0 = (fig.canvas.height - msg['y0']) / mpl.ratio;\n",
       "    var x1 = msg['x1'] / mpl.ratio;\n",
       "    var y1 = (fig.canvas.height - msg['y1']) / mpl.ratio;\n",
       "    x0 = Math.floor(x0) + 0.5;\n",
       "    y0 = Math.floor(y0) + 0.5;\n",
       "    x1 = Math.floor(x1) + 0.5;\n",
       "    y1 = Math.floor(y1) + 0.5;\n",
       "    var min_x = Math.min(x0, x1);\n",
       "    var min_y = Math.min(y0, y1);\n",
       "    var width = Math.abs(x1 - x0);\n",
       "    var height = Math.abs(y1 - y0);\n",
       "\n",
       "    fig.rubberband_context.clearRect(\n",
       "        0, 0, fig.canvas.width, fig.canvas.height);\n",
       "\n",
       "    fig.rubberband_context.strokeRect(min_x, min_y, width, height);\n",
       "}\n",
       "\n",
       "mpl.figure.prototype.handle_figure_label = function(fig, msg) {\n",
       "    // Updates the figure title.\n",
       "    fig.header.textContent = msg['label'];\n",
       "}\n",
       "\n",
       "mpl.figure.prototype.handle_cursor = function(fig, msg) {\n",
       "    var cursor = msg['cursor'];\n",
       "    switch(cursor)\n",
       "    {\n",
       "    case 0:\n",
       "        cursor = 'pointer';\n",
       "        break;\n",
       "    case 1:\n",
       "        cursor = 'default';\n",
       "        break;\n",
       "    case 2:\n",
       "        cursor = 'crosshair';\n",
       "        break;\n",
       "    case 3:\n",
       "        cursor = 'move';\n",
       "        break;\n",
       "    }\n",
       "    fig.rubberband_canvas.style.cursor = cursor;\n",
       "}\n",
       "\n",
       "mpl.figure.prototype.handle_message = function(fig, msg) {\n",
       "    fig.message.textContent = msg['message'];\n",
       "}\n",
       "\n",
       "mpl.figure.prototype.handle_draw = function(fig, msg) {\n",
       "    // Request the server to send over a new figure.\n",
       "    fig.send_draw_message();\n",
       "}\n",
       "\n",
       "mpl.figure.prototype.handle_image_mode = function(fig, msg) {\n",
       "    fig.image_mode = msg['mode'];\n",
       "}\n",
       "\n",
       "mpl.figure.prototype.updated_canvas_event = function() {\n",
       "    // Called whenever the canvas gets updated.\n",
       "    this.send_message(\"ack\", {});\n",
       "}\n",
       "\n",
       "// A function to construct a web socket function for onmessage handling.\n",
       "// Called in the figure constructor.\n",
       "mpl.figure.prototype._make_on_message_function = function(fig) {\n",
       "    return function socket_on_message(evt) {\n",
       "        if (evt.data instanceof Blob) {\n",
       "            /* FIXME: We get \"Resource interpreted as Image but\n",
       "             * transferred with MIME type text/plain:\" errors on\n",
       "             * Chrome.  But how to set the MIME type?  It doesn't seem\n",
       "             * to be part of the websocket stream */\n",
       "            evt.data.type = \"image/png\";\n",
       "\n",
       "            /* Free the memory for the previous frames */\n",
       "            if (fig.imageObj.src) {\n",
       "                (window.URL || window.webkitURL).revokeObjectURL(\n",
       "                    fig.imageObj.src);\n",
       "            }\n",
       "\n",
       "            fig.imageObj.src = (window.URL || window.webkitURL).createObjectURL(\n",
       "                evt.data);\n",
       "            fig.updated_canvas_event();\n",
       "            fig.waiting = false;\n",
       "            return;\n",
       "        }\n",
       "        else if (typeof evt.data === 'string' && evt.data.slice(0, 21) == \"data:image/png;base64\") {\n",
       "            fig.imageObj.src = evt.data;\n",
       "            fig.updated_canvas_event();\n",
       "            fig.waiting = false;\n",
       "            return;\n",
       "        }\n",
       "\n",
       "        var msg = JSON.parse(evt.data);\n",
       "        var msg_type = msg['type'];\n",
       "\n",
       "        // Call the  \"handle_{type}\" callback, which takes\n",
       "        // the figure and JSON message as its only arguments.\n",
       "        try {\n",
       "            var callback = fig[\"handle_\" + msg_type];\n",
       "        } catch (e) {\n",
       "            console.log(\"No handler for the '\" + msg_type + \"' message type: \", msg);\n",
       "            return;\n",
       "        }\n",
       "\n",
       "        if (callback) {\n",
       "            try {\n",
       "                // console.log(\"Handling '\" + msg_type + \"' message: \", msg);\n",
       "                callback(fig, msg);\n",
       "            } catch (e) {\n",
       "                console.log(\"Exception inside the 'handler_\" + msg_type + \"' callback:\", e, e.stack, msg);\n",
       "            }\n",
       "        }\n",
       "    };\n",
       "}\n",
       "\n",
       "// from http://stackoverflow.com/questions/1114465/getting-mouse-location-in-canvas\n",
       "mpl.findpos = function(e) {\n",
       "    //this section is from http://www.quirksmode.org/js/events_properties.html\n",
       "    var targ;\n",
       "    if (!e)\n",
       "        e = window.event;\n",
       "    if (e.target)\n",
       "        targ = e.target;\n",
       "    else if (e.srcElement)\n",
       "        targ = e.srcElement;\n",
       "    if (targ.nodeType == 3) // defeat Safari bug\n",
       "        targ = targ.parentNode;\n",
       "\n",
       "    // jQuery normalizes the pageX and pageY\n",
       "    // pageX,Y are the mouse positions relative to the document\n",
       "    // offset() returns the position of the element relative to the document\n",
       "    var x = e.pageX - $(targ).offset().left;\n",
       "    var y = e.pageY - $(targ).offset().top;\n",
       "\n",
       "    return {\"x\": x, \"y\": y};\n",
       "};\n",
       "\n",
       "/*\n",
       " * return a copy of an object with only non-object keys\n",
       " * we need this to avoid circular references\n",
       " * http://stackoverflow.com/a/24161582/3208463\n",
       " */\n",
       "function simpleKeys (original) {\n",
       "  return Object.keys(original).reduce(function (obj, key) {\n",
       "    if (typeof original[key] !== 'object')\n",
       "        obj[key] = original[key]\n",
       "    return obj;\n",
       "  }, {});\n",
       "}\n",
       "\n",
       "mpl.figure.prototype.mouse_event = function(event, name) {\n",
       "    var canvas_pos = mpl.findpos(event)\n",
       "\n",
       "    if (name === 'button_press')\n",
       "    {\n",
       "        this.canvas.focus();\n",
       "        this.canvas_div.focus();\n",
       "    }\n",
       "\n",
       "    var x = canvas_pos.x * mpl.ratio;\n",
       "    var y = canvas_pos.y * mpl.ratio;\n",
       "\n",
       "    this.send_message(name, {x: x, y: y, button: event.button,\n",
       "                             step: event.step,\n",
       "                             guiEvent: simpleKeys(event)});\n",
       "\n",
       "    /* This prevents the web browser from automatically changing to\n",
       "     * the text insertion cursor when the button is pressed.  We want\n",
       "     * to control all of the cursor setting manually through the\n",
       "     * 'cursor' event from matplotlib */\n",
       "    event.preventDefault();\n",
       "    return false;\n",
       "}\n",
       "\n",
       "mpl.figure.prototype._key_event_extra = function(event, name) {\n",
       "    // Handle any extra behaviour associated with a key event\n",
       "}\n",
       "\n",
       "mpl.figure.prototype.key_event = function(event, name) {\n",
       "\n",
       "    // Prevent repeat events\n",
       "    if (name == 'key_press')\n",
       "    {\n",
       "        if (event.which === this._key)\n",
       "            return;\n",
       "        else\n",
       "            this._key = event.which;\n",
       "    }\n",
       "    if (name == 'key_release')\n",
       "        this._key = null;\n",
       "\n",
       "    var value = '';\n",
       "    if (event.ctrlKey && event.which != 17)\n",
       "        value += \"ctrl+\";\n",
       "    if (event.altKey && event.which != 18)\n",
       "        value += \"alt+\";\n",
       "    if (event.shiftKey && event.which != 16)\n",
       "        value += \"shift+\";\n",
       "\n",
       "    value += 'k';\n",
       "    value += event.which.toString();\n",
       "\n",
       "    this._key_event_extra(event, name);\n",
       "\n",
       "    this.send_message(name, {key: value,\n",
       "                             guiEvent: simpleKeys(event)});\n",
       "    return false;\n",
       "}\n",
       "\n",
       "mpl.figure.prototype.toolbar_button_onclick = function(name) {\n",
       "    if (name == 'download') {\n",
       "        this.handle_save(this, null);\n",
       "    } else {\n",
       "        this.send_message(\"toolbar_button\", {name: name});\n",
       "    }\n",
       "};\n",
       "\n",
       "mpl.figure.prototype.toolbar_button_onmouseover = function(tooltip) {\n",
       "    this.message.textContent = tooltip;\n",
       "};\n",
       "mpl.toolbar_items = [[\"Home\", \"Reset original view\", \"fa fa-home icon-home\", \"home\"], [\"Back\", \"Back to previous view\", \"fa fa-arrow-left icon-arrow-left\", \"back\"], [\"Forward\", \"Forward to next view\", \"fa fa-arrow-right icon-arrow-right\", \"forward\"], [\"\", \"\", \"\", \"\"], [\"Pan\", \"Pan axes with left mouse, zoom with right\", \"fa fa-arrows icon-move\", \"pan\"], [\"Zoom\", \"Zoom to rectangle\", \"fa fa-square-o icon-check-empty\", \"zoom\"], [\"\", \"\", \"\", \"\"], [\"Download\", \"Download plot\", \"fa fa-floppy-o icon-save\", \"download\"]];\n",
       "\n",
       "mpl.extensions = [\"eps\", \"jpeg\", \"pdf\", \"png\", \"ps\", \"raw\", \"svg\", \"tif\"];\n",
       "\n",
       "mpl.default_extension = \"png\";var comm_websocket_adapter = function(comm) {\n",
       "    // Create a \"websocket\"-like object which calls the given IPython comm\n",
       "    // object with the appropriate methods. Currently this is a non binary\n",
       "    // socket, so there is still some room for performance tuning.\n",
       "    var ws = {};\n",
       "\n",
       "    ws.close = function() {\n",
       "        comm.close()\n",
       "    };\n",
       "    ws.send = function(m) {\n",
       "        //console.log('sending', m);\n",
       "        comm.send(m);\n",
       "    };\n",
       "    // Register the callback with on_msg.\n",
       "    comm.on_msg(function(msg) {\n",
       "        //console.log('receiving', msg['content']['data'], msg);\n",
       "        // Pass the mpl event to the overridden (by mpl) onmessage function.\n",
       "        ws.onmessage(msg['content']['data'])\n",
       "    });\n",
       "    return ws;\n",
       "}\n",
       "\n",
       "mpl.mpl_figure_comm = function(comm, msg) {\n",
       "    // This is the function which gets called when the mpl process\n",
       "    // starts-up an IPython Comm through the \"matplotlib\" channel.\n",
       "\n",
       "    var id = msg.content.data.id;\n",
       "    // Get hold of the div created by the display call when the Comm\n",
       "    // socket was opened in Python.\n",
       "    var element = $(\"#\" + id);\n",
       "    var ws_proxy = comm_websocket_adapter(comm)\n",
       "\n",
       "    function ondownload(figure, format) {\n",
       "        window.open(figure.imageObj.src);\n",
       "    }\n",
       "\n",
       "    var fig = new mpl.figure(id, ws_proxy,\n",
       "                           ondownload,\n",
       "                           element.get(0));\n",
       "\n",
       "    // Call onopen now - mpl needs it, as it is assuming we've passed it a real\n",
       "    // web socket which is closed, not our websocket->open comm proxy.\n",
       "    ws_proxy.onopen();\n",
       "\n",
       "    fig.parent_element = element.get(0);\n",
       "    fig.cell_info = mpl.find_output_cell(\"<div id='\" + id + \"'></div>\");\n",
       "    if (!fig.cell_info) {\n",
       "        console.error(\"Failed to find cell for figure\", id, fig);\n",
       "        return;\n",
       "    }\n",
       "\n",
       "    var output_index = fig.cell_info[2]\n",
       "    var cell = fig.cell_info[0];\n",
       "\n",
       "};\n",
       "\n",
       "mpl.figure.prototype.handle_close = function(fig, msg) {\n",
       "    var width = fig.canvas.width/mpl.ratio\n",
       "    fig.root.unbind('remove')\n",
       "\n",
       "    // Update the output cell to use the data from the current canvas.\n",
       "    fig.push_to_output();\n",
       "    var dataURL = fig.canvas.toDataURL();\n",
       "    // Re-enable the keyboard manager in IPython - without this line, in FF,\n",
       "    // the notebook keyboard shortcuts fail.\n",
       "    IPython.keyboard_manager.enable()\n",
       "    $(fig.parent_element).html('<img src=\"' + dataURL + '\" width=\"' + width + '\">');\n",
       "    fig.close_ws(fig, msg);\n",
       "}\n",
       "\n",
       "mpl.figure.prototype.close_ws = function(fig, msg){\n",
       "    fig.send_message('closing', msg);\n",
       "    // fig.ws.close()\n",
       "}\n",
       "\n",
       "mpl.figure.prototype.push_to_output = function(remove_interactive) {\n",
       "    // Turn the data on the canvas into data in the output cell.\n",
       "    var width = this.canvas.width/mpl.ratio\n",
       "    var dataURL = this.canvas.toDataURL();\n",
       "    this.cell_info[1]['text/html'] = '<img src=\"' + dataURL + '\" width=\"' + width + '\">';\n",
       "}\n",
       "\n",
       "mpl.figure.prototype.updated_canvas_event = function() {\n",
       "    // Tell IPython that the notebook contents must change.\n",
       "    IPython.notebook.set_dirty(true);\n",
       "    this.send_message(\"ack\", {});\n",
       "    var fig = this;\n",
       "    // Wait a second, then push the new image to the DOM so\n",
       "    // that it is saved nicely (might be nice to debounce this).\n",
       "    setTimeout(function () { fig.push_to_output() }, 1000);\n",
       "}\n",
       "\n",
       "mpl.figure.prototype._init_toolbar = function() {\n",
       "    var fig = this;\n",
       "\n",
       "    var nav_element = $('<div/>')\n",
       "    nav_element.attr('style', 'width: 100%');\n",
       "    this.root.append(nav_element);\n",
       "\n",
       "    // Define a callback function for later on.\n",
       "    function toolbar_event(event) {\n",
       "        return fig.toolbar_button_onclick(event['data']);\n",
       "    }\n",
       "    function toolbar_mouse_event(event) {\n",
       "        return fig.toolbar_button_onmouseover(event['data']);\n",
       "    }\n",
       "\n",
       "    for(var toolbar_ind in mpl.toolbar_items){\n",
       "        var name = mpl.toolbar_items[toolbar_ind][0];\n",
       "        var tooltip = mpl.toolbar_items[toolbar_ind][1];\n",
       "        var image = mpl.toolbar_items[toolbar_ind][2];\n",
       "        var method_name = mpl.toolbar_items[toolbar_ind][3];\n",
       "\n",
       "        if (!name) { continue; };\n",
       "\n",
       "        var button = $('<button class=\"btn btn-default\" href=\"#\" title=\"' + name + '\"><i class=\"fa ' + image + ' fa-lg\"></i></button>');\n",
       "        button.click(method_name, toolbar_event);\n",
       "        button.mouseover(tooltip, toolbar_mouse_event);\n",
       "        nav_element.append(button);\n",
       "    }\n",
       "\n",
       "    // Add the status bar.\n",
       "    var status_bar = $('<span class=\"mpl-message\" style=\"text-align:right; float: right;\"/>');\n",
       "    nav_element.append(status_bar);\n",
       "    this.message = status_bar[0];\n",
       "\n",
       "    // Add the close button to the window.\n",
       "    var buttongrp = $('<div class=\"btn-group inline pull-right\"></div>');\n",
       "    var button = $('<button class=\"btn btn-mini btn-primary\" href=\"#\" title=\"Stop Interaction\"><i class=\"fa fa-power-off icon-remove icon-large\"></i></button>');\n",
       "    button.click(function (evt) { fig.handle_close(fig, {}); } );\n",
       "    button.mouseover('Stop Interaction', toolbar_mouse_event);\n",
       "    buttongrp.append(button);\n",
       "    var titlebar = this.root.find($('.ui-dialog-titlebar'));\n",
       "    titlebar.prepend(buttongrp);\n",
       "}\n",
       "\n",
       "mpl.figure.prototype._root_extra_style = function(el){\n",
       "    var fig = this\n",
       "    el.on(\"remove\", function(){\n",
       "\tfig.close_ws(fig, {});\n",
       "    });\n",
       "}\n",
       "\n",
       "mpl.figure.prototype._canvas_extra_style = function(el){\n",
       "    // this is important to make the div 'focusable\n",
       "    el.attr('tabindex', 0)\n",
       "    // reach out to IPython and tell the keyboard manager to turn it's self\n",
       "    // off when our div gets focus\n",
       "\n",
       "    // location in version 3\n",
       "    if (IPython.notebook.keyboard_manager) {\n",
       "        IPython.notebook.keyboard_manager.register_events(el);\n",
       "    }\n",
       "    else {\n",
       "        // location in version 2\n",
       "        IPython.keyboard_manager.register_events(el);\n",
       "    }\n",
       "\n",
       "}\n",
       "\n",
       "mpl.figure.prototype._key_event_extra = function(event, name) {\n",
       "    var manager = IPython.notebook.keyboard_manager;\n",
       "    if (!manager)\n",
       "        manager = IPython.keyboard_manager;\n",
       "\n",
       "    // Check for shift+enter\n",
       "    if (event.shiftKey && event.which == 13) {\n",
       "        this.canvas_div.blur();\n",
       "        event.shiftKey = false;\n",
       "        // Send a \"J\" for go to next cell\n",
       "        event.which = 74;\n",
       "        event.keyCode = 74;\n",
       "        manager.command_mode();\n",
       "        manager.handle_keydown(event);\n",
       "    }\n",
       "}\n",
       "\n",
       "mpl.figure.prototype.handle_save = function(fig, msg) {\n",
       "    fig.ondownload(fig, null);\n",
       "}\n",
       "\n",
       "\n",
       "mpl.find_output_cell = function(html_output) {\n",
       "    // Return the cell and output element which can be found *uniquely* in the notebook.\n",
       "    // Note - this is a bit hacky, but it is done because the \"notebook_saving.Notebook\"\n",
       "    // IPython event is triggered only after the cells have been serialised, which for\n",
       "    // our purposes (turning an active figure into a static one), is too late.\n",
       "    var cells = IPython.notebook.get_cells();\n",
       "    var ncells = cells.length;\n",
       "    for (var i=0; i<ncells; i++) {\n",
       "        var cell = cells[i];\n",
       "        if (cell.cell_type === 'code'){\n",
       "            for (var j=0; j<cell.output_area.outputs.length; j++) {\n",
       "                var data = cell.output_area.outputs[j];\n",
       "                if (data.data) {\n",
       "                    // IPython >= 3 moved mimebundle to data attribute of output\n",
       "                    data = data.data;\n",
       "                }\n",
       "                if (data['text/html'] == html_output) {\n",
       "                    return [cell, data, j];\n",
       "                }\n",
       "            }\n",
       "        }\n",
       "    }\n",
       "}\n",
       "\n",
       "// Register the function which deals with the matplotlib target/channel.\n",
       "// The kernel may be null if the page has been refreshed.\n",
       "if (IPython.notebook.kernel != null) {\n",
       "    IPython.notebook.kernel.comm_manager.register_target('matplotlib', mpl.mpl_figure_comm);\n",
       "}\n"
      ],
      "text/plain": [
       "<IPython.core.display.Javascript object>"
      ]
     },
     "metadata": {},
     "output_type": "display_data"
    },
    {
     "data": {
      "text/html": [
       "<img src=\"data:image/png;base64,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\" width=\"431.818172458775\">"
      ],
      "text/plain": [
       "<IPython.core.display.HTML object>"
      ]
     },
     "metadata": {},
     "output_type": "display_data"
    }
   ],
   "source": [
    "plot_iteration(a.cost_rate, min_it=1000)"
   ]
  },
  {
   "cell_type": "code",
   "execution_count": 47,
   "metadata": {},
   "outputs": [
    {
     "data": {
      "application/javascript": [
       "/* Put everything inside the global mpl namespace */\n",
       "window.mpl = {};\n",
       "\n",
       "\n",
       "mpl.get_websocket_type = function() {\n",
       "    if (typeof(WebSocket) !== 'undefined') {\n",
       "        return WebSocket;\n",
       "    } else if (typeof(MozWebSocket) !== 'undefined') {\n",
       "        return MozWebSocket;\n",
       "    } else {\n",
       "        alert('Your browser does not have WebSocket support.' +\n",
       "              'Please try Chrome, Safari or Firefox ≥ 6. ' +\n",
       "              'Firefox 4 and 5 are also supported but you ' +\n",
       "              'have to enable WebSockets in about:config.');\n",
       "    };\n",
       "}\n",
       "\n",
       "mpl.figure = function(figure_id, websocket, ondownload, parent_element) {\n",
       "    this.id = figure_id;\n",
       "\n",
       "    this.ws = websocket;\n",
       "\n",
       "    this.supports_binary = (this.ws.binaryType != undefined);\n",
       "\n",
       "    if (!this.supports_binary) {\n",
       "        var warnings = document.getElementById(\"mpl-warnings\");\n",
       "        if (warnings) {\n",
       "            warnings.style.display = 'block';\n",
       "            warnings.textContent = (\n",
       "                \"This browser does not support binary websocket messages. \" +\n",
       "                    \"Performance may be slow.\");\n",
       "        }\n",
       "    }\n",
       "\n",
       "    this.imageObj = new Image();\n",
       "\n",
       "    this.context = undefined;\n",
       "    this.message = undefined;\n",
       "    this.canvas = undefined;\n",
       "    this.rubberband_canvas = undefined;\n",
       "    this.rubberband_context = undefined;\n",
       "    this.format_dropdown = undefined;\n",
       "\n",
       "    this.image_mode = 'full';\n",
       "\n",
       "    this.root = $('<div/>');\n",
       "    this._root_extra_style(this.root)\n",
       "    this.root.attr('style', 'display: inline-block');\n",
       "\n",
       "    $(parent_element).append(this.root);\n",
       "\n",
       "    this._init_header(this);\n",
       "    this._init_canvas(this);\n",
       "    this._init_toolbar(this);\n",
       "\n",
       "    var fig = this;\n",
       "\n",
       "    this.waiting = false;\n",
       "\n",
       "    this.ws.onopen =  function () {\n",
       "            fig.send_message(\"supports_binary\", {value: fig.supports_binary});\n",
       "            fig.send_message(\"send_image_mode\", {});\n",
       "            if (mpl.ratio != 1) {\n",
       "                fig.send_message(\"set_dpi_ratio\", {'dpi_ratio': mpl.ratio});\n",
       "            }\n",
       "            fig.send_message(\"refresh\", {});\n",
       "        }\n",
       "\n",
       "    this.imageObj.onload = function() {\n",
       "            if (fig.image_mode == 'full') {\n",
       "                // Full images could contain transparency (where diff images\n",
       "                // almost always do), so we need to clear the canvas so that\n",
       "                // there is no ghosting.\n",
       "                fig.context.clearRect(0, 0, fig.canvas.width, fig.canvas.height);\n",
       "            }\n",
       "            fig.context.drawImage(fig.imageObj, 0, 0);\n",
       "        };\n",
       "\n",
       "    this.imageObj.onunload = function() {\n",
       "        fig.ws.close();\n",
       "    }\n",
       "\n",
       "    this.ws.onmessage = this._make_on_message_function(this);\n",
       "\n",
       "    this.ondownload = ondownload;\n",
       "}\n",
       "\n",
       "mpl.figure.prototype._init_header = function() {\n",
       "    var titlebar = $(\n",
       "        '<div class=\"ui-dialog-titlebar ui-widget-header ui-corner-all ' +\n",
       "        'ui-helper-clearfix\"/>');\n",
       "    var titletext = $(\n",
       "        '<div class=\"ui-dialog-title\" style=\"width: 100%; ' +\n",
       "        'text-align: center; padding: 3px;\"/>');\n",
       "    titlebar.append(titletext)\n",
       "    this.root.append(titlebar);\n",
       "    this.header = titletext[0];\n",
       "}\n",
       "\n",
       "\n",
       "\n",
       "mpl.figure.prototype._canvas_extra_style = function(canvas_div) {\n",
       "\n",
       "}\n",
       "\n",
       "\n",
       "mpl.figure.prototype._root_extra_style = function(canvas_div) {\n",
       "\n",
       "}\n",
       "\n",
       "mpl.figure.prototype._init_canvas = function() {\n",
       "    var fig = this;\n",
       "\n",
       "    var canvas_div = $('<div/>');\n",
       "\n",
       "    canvas_div.attr('style', 'position: relative; clear: both; outline: 0');\n",
       "\n",
       "    function canvas_keyboard_event(event) {\n",
       "        return fig.key_event(event, event['data']);\n",
       "    }\n",
       "\n",
       "    canvas_div.keydown('key_press', canvas_keyboard_event);\n",
       "    canvas_div.keyup('key_release', canvas_keyboard_event);\n",
       "    this.canvas_div = canvas_div\n",
       "    this._canvas_extra_style(canvas_div)\n",
       "    this.root.append(canvas_div);\n",
       "\n",
       "    var canvas = $('<canvas/>');\n",
       "    canvas.addClass('mpl-canvas');\n",
       "    canvas.attr('style', \"left: 0; top: 0; z-index: 0; outline: 0\")\n",
       "\n",
       "    this.canvas = canvas[0];\n",
       "    this.context = canvas[0].getContext(\"2d\");\n",
       "\n",
       "    var backingStore = this.context.backingStorePixelRatio ||\n",
       "\tthis.context.webkitBackingStorePixelRatio ||\n",
       "\tthis.context.mozBackingStorePixelRatio ||\n",
       "\tthis.context.msBackingStorePixelRatio ||\n",
       "\tthis.context.oBackingStorePixelRatio ||\n",
       "\tthis.context.backingStorePixelRatio || 1;\n",
       "\n",
       "    mpl.ratio = (window.devicePixelRatio || 1) / backingStore;\n",
       "\n",
       "    var rubberband = $('<canvas/>');\n",
       "    rubberband.attr('style', \"position: absolute; left: 0; top: 0; z-index: 1;\")\n",
       "\n",
       "    var pass_mouse_events = true;\n",
       "\n",
       "    canvas_div.resizable({\n",
       "        start: function(event, ui) {\n",
       "            pass_mouse_events = false;\n",
       "        },\n",
       "        resize: function(event, ui) {\n",
       "            fig.request_resize(ui.size.width, ui.size.height);\n",
       "        },\n",
       "        stop: function(event, ui) {\n",
       "            pass_mouse_events = true;\n",
       "            fig.request_resize(ui.size.width, ui.size.height);\n",
       "        },\n",
       "    });\n",
       "\n",
       "    function mouse_event_fn(event) {\n",
       "        if (pass_mouse_events)\n",
       "            return fig.mouse_event(event, event['data']);\n",
       "    }\n",
       "\n",
       "    rubberband.mousedown('button_press', mouse_event_fn);\n",
       "    rubberband.mouseup('button_release', mouse_event_fn);\n",
       "    // Throttle sequential mouse events to 1 every 20ms.\n",
       "    rubberband.mousemove('motion_notify', mouse_event_fn);\n",
       "\n",
       "    rubberband.mouseenter('figure_enter', mouse_event_fn);\n",
       "    rubberband.mouseleave('figure_leave', mouse_event_fn);\n",
       "\n",
       "    canvas_div.on(\"wheel\", function (event) {\n",
       "        event = event.originalEvent;\n",
       "        event['data'] = 'scroll'\n",
       "        if (event.deltaY < 0) {\n",
       "            event.step = 1;\n",
       "        } else {\n",
       "            event.step = -1;\n",
       "        }\n",
       "        mouse_event_fn(event);\n",
       "    });\n",
       "\n",
       "    canvas_div.append(canvas);\n",
       "    canvas_div.append(rubberband);\n",
       "\n",
       "    this.rubberband = rubberband;\n",
       "    this.rubberband_canvas = rubberband[0];\n",
       "    this.rubberband_context = rubberband[0].getContext(\"2d\");\n",
       "    this.rubberband_context.strokeStyle = \"#000000\";\n",
       "\n",
       "    this._resize_canvas = function(width, height) {\n",
       "        // Keep the size of the canvas, canvas container, and rubber band\n",
       "        // canvas in synch.\n",
       "        canvas_div.css('width', width)\n",
       "        canvas_div.css('height', height)\n",
       "\n",
       "        canvas.attr('width', width * mpl.ratio);\n",
       "        canvas.attr('height', height * mpl.ratio);\n",
       "        canvas.attr('style', 'width: ' + width + 'px; height: ' + height + 'px;');\n",
       "\n",
       "        rubberband.attr('width', width);\n",
       "        rubberband.attr('height', height);\n",
       "    }\n",
       "\n",
       "    // Set the figure to an initial 600x600px, this will subsequently be updated\n",
       "    // upon first draw.\n",
       "    this._resize_canvas(600, 600);\n",
       "\n",
       "    // Disable right mouse context menu.\n",
       "    $(this.rubberband_canvas).bind(\"contextmenu\",function(e){\n",
       "        return false;\n",
       "    });\n",
       "\n",
       "    function set_focus () {\n",
       "        canvas.focus();\n",
       "        canvas_div.focus();\n",
       "    }\n",
       "\n",
       "    window.setTimeout(set_focus, 100);\n",
       "}\n",
       "\n",
       "mpl.figure.prototype._init_toolbar = function() {\n",
       "    var fig = this;\n",
       "\n",
       "    var nav_element = $('<div/>')\n",
       "    nav_element.attr('style', 'width: 100%');\n",
       "    this.root.append(nav_element);\n",
       "\n",
       "    // Define a callback function for later on.\n",
       "    function toolbar_event(event) {\n",
       "        return fig.toolbar_button_onclick(event['data']);\n",
       "    }\n",
       "    function toolbar_mouse_event(event) {\n",
       "        return fig.toolbar_button_onmouseover(event['data']);\n",
       "    }\n",
       "\n",
       "    for(var toolbar_ind in mpl.toolbar_items) {\n",
       "        var name = mpl.toolbar_items[toolbar_ind][0];\n",
       "        var tooltip = mpl.toolbar_items[toolbar_ind][1];\n",
       "        var image = mpl.toolbar_items[toolbar_ind][2];\n",
       "        var method_name = mpl.toolbar_items[toolbar_ind][3];\n",
       "\n",
       "        if (!name) {\n",
       "            // put a spacer in here.\n",
       "            continue;\n",
       "        }\n",
       "        var button = $('<button/>');\n",
       "        button.addClass('ui-button ui-widget ui-state-default ui-corner-all ' +\n",
       "                        'ui-button-icon-only');\n",
       "        button.attr('role', 'button');\n",
       "        button.attr('aria-disabled', 'false');\n",
       "        button.click(method_name, toolbar_event);\n",
       "        button.mouseover(tooltip, toolbar_mouse_event);\n",
       "\n",
       "        var icon_img = $('<span/>');\n",
       "        icon_img.addClass('ui-button-icon-primary ui-icon');\n",
       "        icon_img.addClass(image);\n",
       "        icon_img.addClass('ui-corner-all');\n",
       "\n",
       "        var tooltip_span = $('<span/>');\n",
       "        tooltip_span.addClass('ui-button-text');\n",
       "        tooltip_span.html(tooltip);\n",
       "\n",
       "        button.append(icon_img);\n",
       "        button.append(tooltip_span);\n",
       "\n",
       "        nav_element.append(button);\n",
       "    }\n",
       "\n",
       "    var fmt_picker_span = $('<span/>');\n",
       "\n",
       "    var fmt_picker = $('<select/>');\n",
       "    fmt_picker.addClass('mpl-toolbar-option ui-widget ui-widget-content');\n",
       "    fmt_picker_span.append(fmt_picker);\n",
       "    nav_element.append(fmt_picker_span);\n",
       "    this.format_dropdown = fmt_picker[0];\n",
       "\n",
       "    for (var ind in mpl.extensions) {\n",
       "        var fmt = mpl.extensions[ind];\n",
       "        var option = $(\n",
       "            '<option/>', {selected: fmt === mpl.default_extension}).html(fmt);\n",
       "        fmt_picker.append(option)\n",
       "    }\n",
       "\n",
       "    // Add hover states to the ui-buttons\n",
       "    $( \".ui-button\" ).hover(\n",
       "        function() { $(this).addClass(\"ui-state-hover\");},\n",
       "        function() { $(this).removeClass(\"ui-state-hover\");}\n",
       "    );\n",
       "\n",
       "    var status_bar = $('<span class=\"mpl-message\"/>');\n",
       "    nav_element.append(status_bar);\n",
       "    this.message = status_bar[0];\n",
       "}\n",
       "\n",
       "mpl.figure.prototype.request_resize = function(x_pixels, y_pixels) {\n",
       "    // Request matplotlib to resize the figure. Matplotlib will then trigger a resize in the client,\n",
       "    // which will in turn request a refresh of the image.\n",
       "    this.send_message('resize', {'width': x_pixels, 'height': y_pixels});\n",
       "}\n",
       "\n",
       "mpl.figure.prototype.send_message = function(type, properties) {\n",
       "    properties['type'] = type;\n",
       "    properties['figure_id'] = this.id;\n",
       "    this.ws.send(JSON.stringify(properties));\n",
       "}\n",
       "\n",
       "mpl.figure.prototype.send_draw_message = function() {\n",
       "    if (!this.waiting) {\n",
       "        this.waiting = true;\n",
       "        this.ws.send(JSON.stringify({type: \"draw\", figure_id: this.id}));\n",
       "    }\n",
       "}\n",
       "\n",
       "\n",
       "mpl.figure.prototype.handle_save = function(fig, msg) {\n",
       "    var format_dropdown = fig.format_dropdown;\n",
       "    var format = format_dropdown.options[format_dropdown.selectedIndex].value;\n",
       "    fig.ondownload(fig, format);\n",
       "}\n",
       "\n",
       "\n",
       "mpl.figure.prototype.handle_resize = function(fig, msg) {\n",
       "    var size = msg['size'];\n",
       "    if (size[0] != fig.canvas.width || size[1] != fig.canvas.height) {\n",
       "        fig._resize_canvas(size[0], size[1]);\n",
       "        fig.send_message(\"refresh\", {});\n",
       "    };\n",
       "}\n",
       "\n",
       "mpl.figure.prototype.handle_rubberband = function(fig, msg) {\n",
       "    var x0 = msg['x0'] / mpl.ratio;\n",
       "    var y0 = (fig.canvas.height - msg['y0']) / mpl.ratio;\n",
       "    var x1 = msg['x1'] / mpl.ratio;\n",
       "    var y1 = (fig.canvas.height - msg['y1']) / mpl.ratio;\n",
       "    x0 = Math.floor(x0) + 0.5;\n",
       "    y0 = Math.floor(y0) + 0.5;\n",
       "    x1 = Math.floor(x1) + 0.5;\n",
       "    y1 = Math.floor(y1) + 0.5;\n",
       "    var min_x = Math.min(x0, x1);\n",
       "    var min_y = Math.min(y0, y1);\n",
       "    var width = Math.abs(x1 - x0);\n",
       "    var height = Math.abs(y1 - y0);\n",
       "\n",
       "    fig.rubberband_context.clearRect(\n",
       "        0, 0, fig.canvas.width, fig.canvas.height);\n",
       "\n",
       "    fig.rubberband_context.strokeRect(min_x, min_y, width, height);\n",
       "}\n",
       "\n",
       "mpl.figure.prototype.handle_figure_label = function(fig, msg) {\n",
       "    // Updates the figure title.\n",
       "    fig.header.textContent = msg['label'];\n",
       "}\n",
       "\n",
       "mpl.figure.prototype.handle_cursor = function(fig, msg) {\n",
       "    var cursor = msg['cursor'];\n",
       "    switch(cursor)\n",
       "    {\n",
       "    case 0:\n",
       "        cursor = 'pointer';\n",
       "        break;\n",
       "    case 1:\n",
       "        cursor = 'default';\n",
       "        break;\n",
       "    case 2:\n",
       "        cursor = 'crosshair';\n",
       "        break;\n",
       "    case 3:\n",
       "        cursor = 'move';\n",
       "        break;\n",
       "    }\n",
       "    fig.rubberband_canvas.style.cursor = cursor;\n",
       "}\n",
       "\n",
       "mpl.figure.prototype.handle_message = function(fig, msg) {\n",
       "    fig.message.textContent = msg['message'];\n",
       "}\n",
       "\n",
       "mpl.figure.prototype.handle_draw = function(fig, msg) {\n",
       "    // Request the server to send over a new figure.\n",
       "    fig.send_draw_message();\n",
       "}\n",
       "\n",
       "mpl.figure.prototype.handle_image_mode = function(fig, msg) {\n",
       "    fig.image_mode = msg['mode'];\n",
       "}\n",
       "\n",
       "mpl.figure.prototype.updated_canvas_event = function() {\n",
       "    // Called whenever the canvas gets updated.\n",
       "    this.send_message(\"ack\", {});\n",
       "}\n",
       "\n",
       "// A function to construct a web socket function for onmessage handling.\n",
       "// Called in the figure constructor.\n",
       "mpl.figure.prototype._make_on_message_function = function(fig) {\n",
       "    return function socket_on_message(evt) {\n",
       "        if (evt.data instanceof Blob) {\n",
       "            /* FIXME: We get \"Resource interpreted as Image but\n",
       "             * transferred with MIME type text/plain:\" errors on\n",
       "             * Chrome.  But how to set the MIME type?  It doesn't seem\n",
       "             * to be part of the websocket stream */\n",
       "            evt.data.type = \"image/png\";\n",
       "\n",
       "            /* Free the memory for the previous frames */\n",
       "            if (fig.imageObj.src) {\n",
       "                (window.URL || window.webkitURL).revokeObjectURL(\n",
       "                    fig.imageObj.src);\n",
       "            }\n",
       "\n",
       "            fig.imageObj.src = (window.URL || window.webkitURL).createObjectURL(\n",
       "                evt.data);\n",
       "            fig.updated_canvas_event();\n",
       "            fig.waiting = false;\n",
       "            return;\n",
       "        }\n",
       "        else if (typeof evt.data === 'string' && evt.data.slice(0, 21) == \"data:image/png;base64\") {\n",
       "            fig.imageObj.src = evt.data;\n",
       "            fig.updated_canvas_event();\n",
       "            fig.waiting = false;\n",
       "            return;\n",
       "        }\n",
       "\n",
       "        var msg = JSON.parse(evt.data);\n",
       "        var msg_type = msg['type'];\n",
       "\n",
       "        // Call the  \"handle_{type}\" callback, which takes\n",
       "        // the figure and JSON message as its only arguments.\n",
       "        try {\n",
       "            var callback = fig[\"handle_\" + msg_type];\n",
       "        } catch (e) {\n",
       "            console.log(\"No handler for the '\" + msg_type + \"' message type: \", msg);\n",
       "            return;\n",
       "        }\n",
       "\n",
       "        if (callback) {\n",
       "            try {\n",
       "                // console.log(\"Handling '\" + msg_type + \"' message: \", msg);\n",
       "                callback(fig, msg);\n",
       "            } catch (e) {\n",
       "                console.log(\"Exception inside the 'handler_\" + msg_type + \"' callback:\", e, e.stack, msg);\n",
       "            }\n",
       "        }\n",
       "    };\n",
       "}\n",
       "\n",
       "// from http://stackoverflow.com/questions/1114465/getting-mouse-location-in-canvas\n",
       "mpl.findpos = function(e) {\n",
       "    //this section is from http://www.quirksmode.org/js/events_properties.html\n",
       "    var targ;\n",
       "    if (!e)\n",
       "        e = window.event;\n",
       "    if (e.target)\n",
       "        targ = e.target;\n",
       "    else if (e.srcElement)\n",
       "        targ = e.srcElement;\n",
       "    if (targ.nodeType == 3) // defeat Safari bug\n",
       "        targ = targ.parentNode;\n",
       "\n",
       "    // jQuery normalizes the pageX and pageY\n",
       "    // pageX,Y are the mouse positions relative to the document\n",
       "    // offset() returns the position of the element relative to the document\n",
       "    var x = e.pageX - $(targ).offset().left;\n",
       "    var y = e.pageY - $(targ).offset().top;\n",
       "\n",
       "    return {\"x\": x, \"y\": y};\n",
       "};\n",
       "\n",
       "/*\n",
       " * return a copy of an object with only non-object keys\n",
       " * we need this to avoid circular references\n",
       " * http://stackoverflow.com/a/24161582/3208463\n",
       " */\n",
       "function simpleKeys (original) {\n",
       "  return Object.keys(original).reduce(function (obj, key) {\n",
       "    if (typeof original[key] !== 'object')\n",
       "        obj[key] = original[key]\n",
       "    return obj;\n",
       "  }, {});\n",
       "}\n",
       "\n",
       "mpl.figure.prototype.mouse_event = function(event, name) {\n",
       "    var canvas_pos = mpl.findpos(event)\n",
       "\n",
       "    if (name === 'button_press')\n",
       "    {\n",
       "        this.canvas.focus();\n",
       "        this.canvas_div.focus();\n",
       "    }\n",
       "\n",
       "    var x = canvas_pos.x * mpl.ratio;\n",
       "    var y = canvas_pos.y * mpl.ratio;\n",
       "\n",
       "    this.send_message(name, {x: x, y: y, button: event.button,\n",
       "                             step: event.step,\n",
       "                             guiEvent: simpleKeys(event)});\n",
       "\n",
       "    /* This prevents the web browser from automatically changing to\n",
       "     * the text insertion cursor when the button is pressed.  We want\n",
       "     * to control all of the cursor setting manually through the\n",
       "     * 'cursor' event from matplotlib */\n",
       "    event.preventDefault();\n",
       "    return false;\n",
       "}\n",
       "\n",
       "mpl.figure.prototype._key_event_extra = function(event, name) {\n",
       "    // Handle any extra behaviour associated with a key event\n",
       "}\n",
       "\n",
       "mpl.figure.prototype.key_event = function(event, name) {\n",
       "\n",
       "    // Prevent repeat events\n",
       "    if (name == 'key_press')\n",
       "    {\n",
       "        if (event.which === this._key)\n",
       "            return;\n",
       "        else\n",
       "            this._key = event.which;\n",
       "    }\n",
       "    if (name == 'key_release')\n",
       "        this._key = null;\n",
       "\n",
       "    var value = '';\n",
       "    if (event.ctrlKey && event.which != 17)\n",
       "        value += \"ctrl+\";\n",
       "    if (event.altKey && event.which != 18)\n",
       "        value += \"alt+\";\n",
       "    if (event.shiftKey && event.which != 16)\n",
       "        value += \"shift+\";\n",
       "\n",
       "    value += 'k';\n",
       "    value += event.which.toString();\n",
       "\n",
       "    this._key_event_extra(event, name);\n",
       "\n",
       "    this.send_message(name, {key: value,\n",
       "                             guiEvent: simpleKeys(event)});\n",
       "    return false;\n",
       "}\n",
       "\n",
       "mpl.figure.prototype.toolbar_button_onclick = function(name) {\n",
       "    if (name == 'download') {\n",
       "        this.handle_save(this, null);\n",
       "    } else {\n",
       "        this.send_message(\"toolbar_button\", {name: name});\n",
       "    }\n",
       "};\n",
       "\n",
       "mpl.figure.prototype.toolbar_button_onmouseover = function(tooltip) {\n",
       "    this.message.textContent = tooltip;\n",
       "};\n",
       "mpl.toolbar_items = [[\"Home\", \"Reset original view\", \"fa fa-home icon-home\", \"home\"], [\"Back\", \"Back to previous view\", \"fa fa-arrow-left icon-arrow-left\", \"back\"], [\"Forward\", \"Forward to next view\", \"fa fa-arrow-right icon-arrow-right\", \"forward\"], [\"\", \"\", \"\", \"\"], [\"Pan\", \"Pan axes with left mouse, zoom with right\", \"fa fa-arrows icon-move\", \"pan\"], [\"Zoom\", \"Zoom to rectangle\", \"fa fa-square-o icon-check-empty\", \"zoom\"], [\"\", \"\", \"\", \"\"], [\"Download\", \"Download plot\", \"fa fa-floppy-o icon-save\", \"download\"]];\n",
       "\n",
       "mpl.extensions = [\"eps\", \"jpeg\", \"pdf\", \"png\", \"ps\", \"raw\", \"svg\", \"tif\"];\n",
       "\n",
       "mpl.default_extension = \"png\";var comm_websocket_adapter = function(comm) {\n",
       "    // Create a \"websocket\"-like object which calls the given IPython comm\n",
       "    // object with the appropriate methods. Currently this is a non binary\n",
       "    // socket, so there is still some room for performance tuning.\n",
       "    var ws = {};\n",
       "\n",
       "    ws.close = function() {\n",
       "        comm.close()\n",
       "    };\n",
       "    ws.send = function(m) {\n",
       "        //console.log('sending', m);\n",
       "        comm.send(m);\n",
       "    };\n",
       "    // Register the callback with on_msg.\n",
       "    comm.on_msg(function(msg) {\n",
       "        //console.log('receiving', msg['content']['data'], msg);\n",
       "        // Pass the mpl event to the overridden (by mpl) onmessage function.\n",
       "        ws.onmessage(msg['content']['data'])\n",
       "    });\n",
       "    return ws;\n",
       "}\n",
       "\n",
       "mpl.mpl_figure_comm = function(comm, msg) {\n",
       "    // This is the function which gets called when the mpl process\n",
       "    // starts-up an IPython Comm through the \"matplotlib\" channel.\n",
       "\n",
       "    var id = msg.content.data.id;\n",
       "    // Get hold of the div created by the display call when the Comm\n",
       "    // socket was opened in Python.\n",
       "    var element = $(\"#\" + id);\n",
       "    var ws_proxy = comm_websocket_adapter(comm)\n",
       "\n",
       "    function ondownload(figure, format) {\n",
       "        window.open(figure.imageObj.src);\n",
       "    }\n",
       "\n",
       "    var fig = new mpl.figure(id, ws_proxy,\n",
       "                           ondownload,\n",
       "                           element.get(0));\n",
       "\n",
       "    // Call onopen now - mpl needs it, as it is assuming we've passed it a real\n",
       "    // web socket which is closed, not our websocket->open comm proxy.\n",
       "    ws_proxy.onopen();\n",
       "\n",
       "    fig.parent_element = element.get(0);\n",
       "    fig.cell_info = mpl.find_output_cell(\"<div id='\" + id + \"'></div>\");\n",
       "    if (!fig.cell_info) {\n",
       "        console.error(\"Failed to find cell for figure\", id, fig);\n",
       "        return;\n",
       "    }\n",
       "\n",
       "    var output_index = fig.cell_info[2]\n",
       "    var cell = fig.cell_info[0];\n",
       "\n",
       "};\n",
       "\n",
       "mpl.figure.prototype.handle_close = function(fig, msg) {\n",
       "    var width = fig.canvas.width/mpl.ratio\n",
       "    fig.root.unbind('remove')\n",
       "\n",
       "    // Update the output cell to use the data from the current canvas.\n",
       "    fig.push_to_output();\n",
       "    var dataURL = fig.canvas.toDataURL();\n",
       "    // Re-enable the keyboard manager in IPython - without this line, in FF,\n",
       "    // the notebook keyboard shortcuts fail.\n",
       "    IPython.keyboard_manager.enable()\n",
       "    $(fig.parent_element).html('<img src=\"' + dataURL + '\" width=\"' + width + '\">');\n",
       "    fig.close_ws(fig, msg);\n",
       "}\n",
       "\n",
       "mpl.figure.prototype.close_ws = function(fig, msg){\n",
       "    fig.send_message('closing', msg);\n",
       "    // fig.ws.close()\n",
       "}\n",
       "\n",
       "mpl.figure.prototype.push_to_output = function(remove_interactive) {\n",
       "    // Turn the data on the canvas into data in the output cell.\n",
       "    var width = this.canvas.width/mpl.ratio\n",
       "    var dataURL = this.canvas.toDataURL();\n",
       "    this.cell_info[1]['text/html'] = '<img src=\"' + dataURL + '\" width=\"' + width + '\">';\n",
       "}\n",
       "\n",
       "mpl.figure.prototype.updated_canvas_event = function() {\n",
       "    // Tell IPython that the notebook contents must change.\n",
       "    IPython.notebook.set_dirty(true);\n",
       "    this.send_message(\"ack\", {});\n",
       "    var fig = this;\n",
       "    // Wait a second, then push the new image to the DOM so\n",
       "    // that it is saved nicely (might be nice to debounce this).\n",
       "    setTimeout(function () { fig.push_to_output() }, 1000);\n",
       "}\n",
       "\n",
       "mpl.figure.prototype._init_toolbar = function() {\n",
       "    var fig = this;\n",
       "\n",
       "    var nav_element = $('<div/>')\n",
       "    nav_element.attr('style', 'width: 100%');\n",
       "    this.root.append(nav_element);\n",
       "\n",
       "    // Define a callback function for later on.\n",
       "    function toolbar_event(event) {\n",
       "        return fig.toolbar_button_onclick(event['data']);\n",
       "    }\n",
       "    function toolbar_mouse_event(event) {\n",
       "        return fig.toolbar_button_onmouseover(event['data']);\n",
       "    }\n",
       "\n",
       "    for(var toolbar_ind in mpl.toolbar_items){\n",
       "        var name = mpl.toolbar_items[toolbar_ind][0];\n",
       "        var tooltip = mpl.toolbar_items[toolbar_ind][1];\n",
       "        var image = mpl.toolbar_items[toolbar_ind][2];\n",
       "        var method_name = mpl.toolbar_items[toolbar_ind][3];\n",
       "\n",
       "        if (!name) { continue; };\n",
       "\n",
       "        var button = $('<button class=\"btn btn-default\" href=\"#\" title=\"' + name + '\"><i class=\"fa ' + image + ' fa-lg\"></i></button>');\n",
       "        button.click(method_name, toolbar_event);\n",
       "        button.mouseover(tooltip, toolbar_mouse_event);\n",
       "        nav_element.append(button);\n",
       "    }\n",
       "\n",
       "    // Add the status bar.\n",
       "    var status_bar = $('<span class=\"mpl-message\" style=\"text-align:right; float: right;\"/>');\n",
       "    nav_element.append(status_bar);\n",
       "    this.message = status_bar[0];\n",
       "\n",
       "    // Add the close button to the window.\n",
       "    var buttongrp = $('<div class=\"btn-group inline pull-right\"></div>');\n",
       "    var button = $('<button class=\"btn btn-mini btn-primary\" href=\"#\" title=\"Stop Interaction\"><i class=\"fa fa-power-off icon-remove icon-large\"></i></button>');\n",
       "    button.click(function (evt) { fig.handle_close(fig, {}); } );\n",
       "    button.mouseover('Stop Interaction', toolbar_mouse_event);\n",
       "    buttongrp.append(button);\n",
       "    var titlebar = this.root.find($('.ui-dialog-titlebar'));\n",
       "    titlebar.prepend(buttongrp);\n",
       "}\n",
       "\n",
       "mpl.figure.prototype._root_extra_style = function(el){\n",
       "    var fig = this\n",
       "    el.on(\"remove\", function(){\n",
       "\tfig.close_ws(fig, {});\n",
       "    });\n",
       "}\n",
       "\n",
       "mpl.figure.prototype._canvas_extra_style = function(el){\n",
       "    // this is important to make the div 'focusable\n",
       "    el.attr('tabindex', 0)\n",
       "    // reach out to IPython and tell the keyboard manager to turn it's self\n",
       "    // off when our div gets focus\n",
       "\n",
       "    // location in version 3\n",
       "    if (IPython.notebook.keyboard_manager) {\n",
       "        IPython.notebook.keyboard_manager.register_events(el);\n",
       "    }\n",
       "    else {\n",
       "        // location in version 2\n",
       "        IPython.keyboard_manager.register_events(el);\n",
       "    }\n",
       "\n",
       "}\n",
       "\n",
       "mpl.figure.prototype._key_event_extra = function(event, name) {\n",
       "    var manager = IPython.notebook.keyboard_manager;\n",
       "    if (!manager)\n",
       "        manager = IPython.keyboard_manager;\n",
       "\n",
       "    // Check for shift+enter\n",
       "    if (event.shiftKey && event.which == 13) {\n",
       "        this.canvas_div.blur();\n",
       "        event.shiftKey = false;\n",
       "        // Send a \"J\" for go to next cell\n",
       "        event.which = 74;\n",
       "        event.keyCode = 74;\n",
       "        manager.command_mode();\n",
       "        manager.handle_keydown(event);\n",
       "    }\n",
       "}\n",
       "\n",
       "mpl.figure.prototype.handle_save = function(fig, msg) {\n",
       "    fig.ondownload(fig, null);\n",
       "}\n",
       "\n",
       "\n",
       "mpl.find_output_cell = function(html_output) {\n",
       "    // Return the cell and output element which can be found *uniquely* in the notebook.\n",
       "    // Note - this is a bit hacky, but it is done because the \"notebook_saving.Notebook\"\n",
       "    // IPython event is triggered only after the cells have been serialised, which for\n",
       "    // our purposes (turning an active figure into a static one), is too late.\n",
       "    var cells = IPython.notebook.get_cells();\n",
       "    var ncells = cells.length;\n",
       "    for (var i=0; i<ncells; i++) {\n",
       "        var cell = cells[i];\n",
       "        if (cell.cell_type === 'code'){\n",
       "            for (var j=0; j<cell.output_area.outputs.length; j++) {\n",
       "                var data = cell.output_area.outputs[j];\n",
       "                if (data.data) {\n",
       "                    // IPython >= 3 moved mimebundle to data attribute of output\n",
       "                    data = data.data;\n",
       "                }\n",
       "                if (data['text/html'] == html_output) {\n",
       "                    return [cell, data, j];\n",
       "                }\n",
       "            }\n",
       "        }\n",
       "    }\n",
       "}\n",
       "\n",
       "// Register the function which deals with the matplotlib target/channel.\n",
       "// The kernel may be null if the page has been refreshed.\n",
       "if (IPython.notebook.kernel != null) {\n",
       "    IPython.notebook.kernel.comm_manager.register_target('matplotlib', mpl.mpl_figure_comm);\n",
       "}\n"
      ],
      "text/plain": [
       "<IPython.core.display.Javascript object>"
      ]
     },
     "metadata": {},
     "output_type": "display_data"
    },
    {
     "data": {
      "text/html": [
       "<img src=\"data:image/png;base64,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\" width=\"431.818172458775\">"
      ],
      "text/plain": [
       "<IPython.core.display.HTML object>"
      ]
     },
     "metadata": {},
     "output_type": "display_data"
    }
   ],
   "source": [
    "plot_iteration(a.rel_err, min_it=1000)"
   ]
  },
  {
   "cell_type": "code",
   "execution_count": null,
   "metadata": {},
   "outputs": [],
   "source": []
  },
  {
   "cell_type": "code",
   "execution_count": null,
   "metadata": {},
   "outputs": [],
   "source": []
  },
  {
   "cell_type": "code",
   "execution_count": null,
   "metadata": {},
   "outputs": [],
   "source": []
  },
  {
   "cell_type": "code",
   "execution_count": null,
   "metadata": {},
   "outputs": [],
   "source": []
  },
  {
   "cell_type": "code",
   "execution_count": null,
   "metadata": {},
   "outputs": [],
   "source": []
  },
  {
   "cell_type": "code",
   "execution_count": null,
   "metadata": {},
   "outputs": [],
   "source": []
  },
  {
   "cell_type": "code",
   "execution_count": null,
   "metadata": {},
   "outputs": [],
   "source": []
  },
  {
   "cell_type": "code",
   "execution_count": null,
   "metadata": {},
   "outputs": [],
   "source": []
  },
  {
   "cell_type": "code",
   "execution_count": null,
   "metadata": {},
   "outputs": [],
   "source": []
  },
  {
   "cell_type": "code",
   "execution_count": null,
   "metadata": {},
   "outputs": [],
   "source": [
    "p1 = np.load('output/20191223-1714_eq1_1_nn_params.npz')['arr_0']\n",
    "p2 = np.load('output/20191223-1714_eq1_2_nn_params.npz')['arr_0']\n",
    "p3 = np.load('output/20191223-1714_eq1_3_nn_params.npz')['arr_0']\n",
    "p4 = np.load('output/20191223-1730_eq1_4_nn_params.npz')['arr_0']\n",
    "p5 = np.load('output/20191223-1730_eq1_5_nn_params.npz')['arr_0']\n",
    "p6 = np.load('output/20191223-1731_eq1_6_nn_params.npz')['arr_0']\n",
    "p7 = np.load('output/20191223-1731_eq1_7_nn_params.npz')['arr_0']"
   ]
  },
  {
   "cell_type": "code",
   "execution_count": null,
   "metadata": {},
   "outputs": [],
   "source": [
    "plot_partitions(p1)"
   ]
  },
  {
   "cell_type": "code",
   "execution_count": null,
   "metadata": {},
   "outputs": [],
   "source": []
  },
  {
   "cell_type": "code",
   "execution_count": null,
   "metadata": {},
   "outputs": [],
   "source": []
  },
  {
   "cell_type": "code",
   "execution_count": null,
   "metadata": {},
   "outputs": [],
   "source": []
  },
  {
   "cell_type": "code",
   "execution_count": null,
   "metadata": {},
   "outputs": [],
   "source": []
  },
  {
   "cell_type": "code",
   "execution_count": 48,
   "metadata": {},
   "outputs": [],
   "source": [
    "name_str = 'L97_eq1_3_v1'\n",
    "a.save_result(name_str)\n",
    "\n",
    "timestr = time.strftime(\"%Y%m%d-%H%M\")\n",
    "np.savez('output/'+ timestr + '_' + name_str + '_momentum.npz', a.m_t)\n",
    "np.savez('output/'+ timestr + '_' + name_str + '_p_list.npz', p)"
   ]
  },
  {
   "cell_type": "code",
   "execution_count": null,
   "metadata": {},
   "outputs": [],
   "source": [
    "name_str = '20200716-2122_eq1_1'\n",
    "\n",
    "a.p = np.load('output/' + name_str + '_v1_nn_params.npz')['arr_0']\n",
    "a.cost_rate = np.load('output/' + name_str + '_v1_cost_rate.npz')['arr_0']\n",
    "a.rel_err = np.load('output/' + name_str + '_v1_rel_err.npz')['arr_0']\n",
    "a.m_t = np.load('output/' + name_str + '_v1_momentum.npz')['arr_0']\n",
    "p = np.load('output/' + name_str + '_v1_p_list.npz')['arr_0']"
   ]
  },
  {
   "cell_type": "code",
   "execution_count": null,
   "metadata": {},
   "outputs": [],
   "source": []
  },
  {
   "cell_type": "code",
   "execution_count": null,
   "metadata": {},
   "outputs": [],
   "source": []
  }
 ],
 "metadata": {
  "kernelspec": {
   "display_name": "Python 3",
   "language": "python",
   "name": "python3"
  },
  "language_info": {
   "codemirror_mode": {
    "name": "ipython",
    "version": 3
   },
   "file_extension": ".py",
   "mimetype": "text/x-python",
   "name": "python",
   "nbconvert_exporter": "python",
   "pygments_lexer": "ipython3",
   "version": "3.6.7"
  },
  "notify_time": "30",
  "toc": {
   "base_numbering": 1,
   "nav_menu": {},
   "number_sections": true,
   "sideBar": true,
   "skip_h1_title": false,
   "title_cell": "Table of Contents",
   "title_sidebar": "Contents",
   "toc_cell": false,
   "toc_position": {
    "height": "calc(100% - 180px)",
    "left": "10px",
    "top": "150px",
    "width": "216.797px"
   },
   "toc_section_display": true,
   "toc_window_display": false
  },
  "varInspector": {
   "cols": {
    "lenName": 16,
    "lenType": 16,
    "lenVar": 40
   },
   "kernels_config": {
    "python": {
     "delete_cmd_postfix": "",
     "delete_cmd_prefix": "del ",
     "library": "var_list.py",
     "varRefreshCmd": "print(var_dic_list())"
    },
    "r": {
     "delete_cmd_postfix": ") ",
     "delete_cmd_prefix": "rm(",
     "library": "var_list.r",
     "varRefreshCmd": "cat(var_dic_list()) "
    }
   },
   "types_to_exclude": [
    "module",
    "function",
    "builtin_function_or_method",
    "instance",
    "_Feature"
   ],
   "window_display": false
  }
 },
 "nbformat": 4,
 "nbformat_minor": 2
}
