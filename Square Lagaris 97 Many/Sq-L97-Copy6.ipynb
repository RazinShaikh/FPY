{
 "cells": [
  {
   "cell_type": "markdown",
   "metadata": {
    "heading_collapsed": true,
    "slideshow": {
     "slide_type": "-"
    }
   },
   "source": [
    "# Imports"
   ]
  },
  {
   "cell_type": "code",
   "execution_count": 1,
   "metadata": {
    "hidden": true
   },
   "outputs": [
    {
     "name": "stdout",
     "output_type": "stream",
     "text": [
      "Pixiedust database opened successfully\n"
     ]
    },
    {
     "data": {
      "text/html": [
       "\n",
       "        <div style=\"margin:10px\">\n",
       "            <a href=\"https://github.com/ibm-watson-data-lab/pixiedust\" target=\"_new\">\n",
       "                <img src=\"https://github.com/ibm-watson-data-lab/pixiedust/raw/master/docs/_static/pd_icon32.png\" style=\"float:left;margin-right:10px\"/>\n",
       "            </a>\n",
       "            <span>Pixiedust version 1.1.14</span>\n",
       "        </div>\n",
       "        "
      ],
      "text/plain": [
       "<IPython.core.display.HTML object>"
      ]
     },
     "metadata": {},
     "output_type": "display_data"
    },
    {
     "data": {
      "text/html": [
       "<div>Warning: You are not running the latest version of PixieDust. Current is 1.1.14, Latest is 1.1.18</div>"
      ],
      "text/plain": [
       "<IPython.core.display.HTML object>"
      ]
     },
     "metadata": {},
     "output_type": "display_data"
    },
    {
     "data": {
      "text/html": [
       "\n",
       "                <div>Please copy and run the following command in a new cell to upgrade: <span style=\"background-color:#ececec;font-family:monospace;padding:0 5px\">!pip install --user --upgrade pixiedust</span></div>\n",
       "            "
      ],
      "text/plain": [
       "<IPython.core.display.HTML object>"
      ]
     },
     "metadata": {},
     "output_type": "display_data"
    },
    {
     "data": {
      "text/html": [
       "<div>Please restart kernel after upgrading.</div>"
      ],
      "text/plain": [
       "<IPython.core.display.HTML object>"
      ]
     },
     "metadata": {},
     "output_type": "display_data"
    }
   ],
   "source": [
    "import copy\n",
    "import numpy as np\n",
    "import itertools\n",
    "import time\n",
    "from matplotlib import pyplot as plt\n",
    "from mpl_toolkits.mplot3d import Axes3D\n",
    "from matplotlib import cm\n",
    "import pixiedust"
   ]
  },
  {
   "cell_type": "markdown",
   "metadata": {
    "heading_collapsed": true
   },
   "source": [
    "# Introduction"
   ]
  },
  {
   "cell_type": "markdown",
   "metadata": {
    "hidden": true
   },
   "source": [
    "Consider the following equation:\n",
    "$$\\Delta_p \\Psi(x,y)=f(x,y)$$\n",
    "\n",
    "$x \\in [0,1],\\ y \\in [0,1]$ with *Dirichlet* BC: $\\Psi(0,y) = 0$, $\\Psi(1,y) = 0$, $\\Psi(x,0) = 0$ and $\\Psi(x,1) = 0$.\n",
    "\n",
    "For this first attempt, we will take $p=2$."
   ]
  },
  {
   "cell_type": "markdown",
   "metadata": {
    "heading_collapsed": true
   },
   "source": [
    "# Defining functions"
   ]
  },
  {
   "cell_type": "markdown",
   "metadata": {
    "heading_collapsed": true,
    "hidden": true
   },
   "source": [
    "## Sigmoid"
   ]
  },
  {
   "cell_type": "markdown",
   "metadata": {
    "hidden": true
   },
   "source": [
    "Sigmoid $\\sigma(x) = \\frac{1}{1+e^{-x}}$ and its derrivatives."
   ]
  },
  {
   "cell_type": "markdown",
   "metadata": {
    "hidden": true
   },
   "source": [
    "Sigmoid with parameter $t$\n",
    "$$ \\sigma_t(x) = \\frac{1}{1+e^{-tx}}$$"
   ]
  },
  {
   "cell_type": "code",
   "execution_count": 2,
   "metadata": {
    "hidden": true
   },
   "outputs": [],
   "source": [
    "T = 1"
   ]
  },
  {
   "cell_type": "code",
   "execution_count": 3,
   "metadata": {
    "hidden": true
   },
   "outputs": [],
   "source": [
    "def sig(x):\n",
    "    return 1 / (1 + np.exp(-T*x))\n",
    "\n",
    "def sig1(x):\n",
    "    return T * sig(x) * (1 - sig(x))\n",
    "\n",
    "def sig2(x):\n",
    "    return T * (sig1(x) - 2*sig(x)*sig1(x))\n",
    "\n",
    "def sig3(x):\n",
    "    return T * (sig2(x) - 2 * (sig1(x)**2 + sig(x) * sig2(x)))\n",
    "\n",
    "def sig_pr(x, k):\n",
    "    if k==0:\n",
    "        return sig(x)\n",
    "    if k==1:\n",
    "        return sig1(x)\n",
    "    if k==2:\n",
    "        return sig2(x)\n",
    "    if k==3:\n",
    "        return sig3(x)"
   ]
  },
  {
   "cell_type": "markdown",
   "metadata": {
    "heading_collapsed": true,
    "hidden": true
   },
   "source": [
    "## RHS"
   ]
  },
  {
   "cell_type": "markdown",
   "metadata": {
    "hidden": true
   },
   "source": [
    "The right side of the equation:  $\\Delta\\Psi(x,y) = 6 x (x-1) (1-2 y) + 2 y (y-1) (1-2 y)$"
   ]
  },
  {
   "cell_type": "code",
   "execution_count": 4,
   "metadata": {
    "hidden": true
   },
   "outputs": [],
   "source": [
    "K=1\n",
    "def f(x, y):\n",
    "    return K * (6*(x-1)*x*(1-2*y) + 2*(y-1)*y*(1-2*y))"
   ]
  },
  {
   "cell_type": "markdown",
   "metadata": {
    "hidden": true
   },
   "source": [
    "The analytic solution is given by: $\\ \\Psi_a(x,y) = x (1-x) y (1-y) (1-2 y)$"
   ]
  },
  {
   "cell_type": "code",
   "execution_count": 5,
   "metadata": {
    "hidden": true
   },
   "outputs": [],
   "source": [
    "def psi_a(x, y):\n",
    "    return K * x*(1-x)*y*(1-y)*(1-2*y)"
   ]
  },
  {
   "cell_type": "markdown",
   "metadata": {
    "hidden": true
   },
   "source": [
    "$$\\frac{\\partial}{\\partial x} \\Psi_a = (1-2x) y (1-y) (1-2 y)$$"
   ]
  },
  {
   "cell_type": "code",
   "execution_count": 6,
   "metadata": {
    "hidden": true
   },
   "outputs": [],
   "source": [
    "def psi_a_dx(x,y):\n",
    "    return K * (1-2*x)*y*(1-y)*(1-2*y)"
   ]
  },
  {
   "cell_type": "markdown",
   "metadata": {
    "hidden": true
   },
   "source": [
    "$$\\frac{\\partial}{\\partial y} \\Psi_a = x (1-x) (1-6y + 6y^2) $$"
   ]
  },
  {
   "cell_type": "code",
   "execution_count": 7,
   "metadata": {
    "hidden": true
   },
   "outputs": [],
   "source": [
    "def psi_a_dy(x,y):\n",
    "    return K * x*(1-x)*(1-6*y+6*(y**2))"
   ]
  },
  {
   "cell_type": "markdown",
   "metadata": {
    "heading_collapsed": true,
    "hidden": true
   },
   "source": [
    "## Neural Network"
   ]
  },
  {
   "cell_type": "markdown",
   "metadata": {
    "hidden": true
   },
   "source": [
    "The output of neural network $N(x,y,\\vec{p})$, where $\\vec{p} = [w, u, v]$:\n",
    "$$N = \\sum_i^H v_i \\sigma(z_i) \\text{, where } z_i = w_{i0} x + w_{i1} y + u_i$$"
   ]
  },
  {
   "cell_type": "code",
   "execution_count": 8,
   "metadata": {
    "code_folding": [],
    "hidden": true
   },
   "outputs": [],
   "source": [
    "def z(x, y, p):\n",
    "    z_x = np.multiply(x, p[0][0])\n",
    "    z_y = np.multiply(y, p[0][1])\n",
    "    z_ = np.array([z_x, z_y, p[1]]).sum(axis=0)\n",
    "    return z_\n",
    "\n",
    "def N(x, y, p):\n",
    "    return np.sum(np.multiply(sig(z(x,y,p)), p[2]))"
   ]
  },
  {
   "cell_type": "markdown",
   "metadata": {
    "hidden": true
   },
   "source": [
    "$$\\frac{\\partial^k N}{\\partial x_j^k} = \\sum_{i=1}^H v_i w_{ij}^k \\sigma^{(k)}$$"
   ]
  },
  {
   "cell_type": "code",
   "execution_count": 9,
   "metadata": {
    "code_folding": [],
    "hidden": true
   },
   "outputs": [],
   "source": [
    "def dN_dxj_k(x, y, p, j, k):\n",
    "    wj = p[0][j]\n",
    "    v = p[2]\n",
    "    z_ = z(x, y, p)\n",
    "    \n",
    "    return np.sum(v * (wj**k) * sig_pr(z_, k))"
   ]
  },
  {
   "cell_type": "markdown",
   "metadata": {
    "hidden": true
   },
   "source": [
    "$$\\frac{\\partial N}{\\partial w_j} = x_j v \\sigma '$$"
   ]
  },
  {
   "cell_type": "code",
   "execution_count": 10,
   "metadata": {
    "code_folding": [],
    "hidden": true
   },
   "outputs": [],
   "source": [
    "def dN_dwj(x, y, p, j):\n",
    "    xj = x if j==0 else y\n",
    "    v = p[2]\n",
    "    z_ = z(x, y, p)\n",
    "    return xj * v * sig1(z_)"
   ]
  },
  {
   "cell_type": "markdown",
   "metadata": {
    "hidden": true
   },
   "source": [
    "$$ \\frac{\\partial}{\\partial w_j} \\frac{\\partial N}{\\partial x_k} = x_j v w_k \\sigma'' + v_i \\sigma' \\quad\\text{ if } j = k$$\n",
    "\n",
    "$$ \\frac{\\partial}{\\partial w_j} \\frac{\\partial N}{\\partial x_k} = x_j v w_k \\sigma'' \\quad\\text{ if } j \\neq k$$"
   ]
  },
  {
   "cell_type": "code",
   "execution_count": 11,
   "metadata": {
    "code_folding": [],
    "hidden": true
   },
   "outputs": [],
   "source": [
    "def d_dwj_dN_dxk(x, y, p, j, k):\n",
    "    xj = x if j==0 else y\n",
    "    wk = p[0][k]\n",
    "    jk = 1 if j==k else 0\n",
    "    v = p[2]\n",
    "    z_ = z(x, y, p)\n",
    "    return xj * v * wk * sig2(z_) + jk * v * sig1(z_)"
   ]
  },
  {
   "cell_type": "markdown",
   "metadata": {
    "hidden": true
   },
   "source": [
    "$$ \\frac{\\partial}{\\partial w_j} \\frac{\\partial^2 N}{\\partial x_k^2} = x_j v w_k^2 \\sigma^{(3)} + 2 v w_k \\sigma'' \\quad\\text{ if } j = k $$\n",
    "\n",
    "$$ \\frac{\\partial}{\\partial w_j} \\frac{\\partial^2 N}{\\partial x_k^2} = x_j v w_k^2 \\sigma^{(3)} \\quad\\text{ if } j \\neq k $$"
   ]
  },
  {
   "cell_type": "code",
   "execution_count": 12,
   "metadata": {
    "code_folding": [],
    "hidden": true
   },
   "outputs": [],
   "source": [
    "def d_dwj_dN2_dxk2(x, y, p, j, k):\n",
    "    xj = x if j==0 else y\n",
    "    wk = p[0][k]\n",
    "    jk = 1 if j==k else 0\n",
    "    v = p[2]\n",
    "    z_ = z(x, y, p)\n",
    "    return xj * v * (wk**2) * sig3(z_) + jk * 2 * v * wk * sig2(z_)"
   ]
  },
  {
   "cell_type": "markdown",
   "metadata": {
    "hidden": true
   },
   "source": [
    "$$ \\frac{\\partial}{\\partial u} \\frac{\\partial^k}{\\partial x_j^k} N = v w_j^k \\sigma^{(k+1)} $$"
   ]
  },
  {
   "cell_type": "code",
   "execution_count": 13,
   "metadata": {
    "code_folding": [],
    "hidden": true
   },
   "outputs": [],
   "source": [
    "def d_du_dkN(x, y, p, j, k):\n",
    "    v = p[2]\n",
    "    wj = p[0][j]\n",
    "    z_ = z(x, y, p)\n",
    "    return v * (wj**k) * sig_pr(z_, k+1)"
   ]
  },
  {
   "cell_type": "markdown",
   "metadata": {
    "hidden": true
   },
   "source": [
    "$$ \\frac{\\partial}{\\partial v} \\frac{\\partial^k}{\\partial x_j^k} N = w_j^k \\sigma^{(k)} $$"
   ]
  },
  {
   "cell_type": "code",
   "execution_count": 14,
   "metadata": {
    "code_folding": [],
    "hidden": true
   },
   "outputs": [],
   "source": [
    "def d_dv_dkN(x, y, p, j, k):\n",
    "    wj = p[0][j]\n",
    "    z_ = z(x, y, p)\n",
    "    return (wj**k) * sig_pr(z_, k)"
   ]
  },
  {
   "cell_type": "markdown",
   "metadata": {
    "heading_collapsed": true,
    "hidden": true
   },
   "source": [
    "## Trial solution"
   ]
  },
  {
   "cell_type": "markdown",
   "metadata": {
    "hidden": true
   },
   "source": [
    "The trial solution is given by: $$\\Psi_t(x,y) = x(1-x)y(1-y)N(x,y,\\vec{p})$$"
   ]
  },
  {
   "cell_type": "code",
   "execution_count": 15,
   "metadata": {
    "hidden": true
   },
   "outputs": [],
   "source": [
    "def psi_t(x, y, p):\n",
    "    return x * (1-x) * y * (1-y) * N(x, y, p)"
   ]
  },
  {
   "cell_type": "markdown",
   "metadata": {
    "hidden": true
   },
   "source": [
    "$$\\frac{\\partial \\Psi_t}{\\partial x_j} = y_j(1-y_j)\\left[ (1-2x_j) N + x_j (1-x_j) \\frac{\\partial N}{\\partial x_j} \\right]$$"
   ]
  },
  {
   "cell_type": "code",
   "execution_count": 16,
   "metadata": {
    "hidden": true
   },
   "outputs": [],
   "source": [
    "def dPsi_dxj(x, y, p, j):\n",
    "    xj = x if j==0 else y\n",
    "    yj = y if j==0 else x\n",
    "    return yj*(1-yj)*((1-2*xj)*N(x,y,p) + xj*(1-xj)*dN_dxj_k(x,y,p,j,1))"
   ]
  },
  {
   "cell_type": "markdown",
   "metadata": {
    "hidden": true
   },
   "source": [
    "$$\\frac{\\partial^2 \\Psi_t}{\\partial x_j^2} = y_j(1-y_j)\\left[ -2N + (2-4x_j) \\frac{\\partial N}{\\partial x_j} + x_j (1-x_j) \\frac{\\partial^2 N}{\\partial x_j^2} \\right]$$"
   ]
  },
  {
   "cell_type": "code",
   "execution_count": 17,
   "metadata": {
    "hidden": true
   },
   "outputs": [],
   "source": [
    "def dPsi2_dxj2(x, y, p, j):\n",
    "    xj = x if j==0 else y\n",
    "    yj = y if j==0 else x\n",
    "    return yj*(1-yj)*(-2*N(x,y,p) + (2-4*xj)*dN_dxj_k(x,y,p,j,1) + xj*(1-xj)*dN_dxj_k(x,y,p,j,2))"
   ]
  },
  {
   "cell_type": "markdown",
   "metadata": {
    "heading_collapsed": true,
    "hidden": true
   },
   "source": [
    "## Cost function"
   ]
  },
  {
   "cell_type": "markdown",
   "metadata": {
    "hidden": true
   },
   "source": [
    "$$E[\\vec{p}] = \\sum_{i \\in \\hat{D}} \\left\\{ \\frac{\\partial^2 \\Psi_t}{\\partial x^2} + \\frac{\\partial^2 \\Psi_t}{\\partial y^2} - f(x,y) \\right\\}^2 $$"
   ]
  },
  {
   "cell_type": "code",
   "execution_count": 18,
   "metadata": {
    "hidden": true
   },
   "outputs": [],
   "source": [
    "def error(x, y, p):\n",
    "    return dPsi2_dxj2(x,y,p,0) + dPsi2_dxj2(x,y,p,1) - f(x,y)"
   ]
  },
  {
   "cell_type": "code",
   "execution_count": 19,
   "metadata": {
    "code_folding": [],
    "hidden": true
   },
   "outputs": [],
   "source": [
    "def cost(points, p):\n",
    "    err = []\n",
    "    for x, y in points:\n",
    "        err_sq = error(x, y, p)**2\n",
    "        err.append(err_sq)\n",
    "        \n",
    "    cost = sum(err)\n",
    "    \n",
    "    return cost"
   ]
  },
  {
   "cell_type": "code",
   "execution_count": 20,
   "metadata": {
    "hidden": true
   },
   "outputs": [],
   "source": [
    "def relative_err(p, nx=100, all_points=None):\n",
    "    if all_points == None:\n",
    "        all_points = list(itertools.product(np.linspace(0, 1, nx), np.linspace(0, 1, nx)))\n",
    "\n",
    "    dOmega = 1. / len(all_points)\n",
    "\n",
    "    trial1 = np.sum(dOmega*np.array([np.linalg.norm(psi_t(x,y,p) - psi_a(x,y))**2\n",
    "                                     for x, y in all_points]))\n",
    "\n",
    "    trial2 = np.sum([dOmega*((dPsi_dxj(x,y,p,0)-psi_a_dx(x,y))**2 +\n",
    "                             (dPsi_dxj(x,y,p,1)-psi_a_dy(x,y))**2)\n",
    "                     for x, y in all_points])\n",
    "\n",
    "    ana1 = np.sum(dOmega*np.array([np.linalg.norm(psi_a(x,y))**2\n",
    "                                         for x, y in all_points]))\n",
    "    ana2 = np.sum([dOmega*(psi_a_dx(x,y)**2 + psi_a_dy(x,y)**2)\n",
    "                   for x, y in all_points])\n",
    "    \n",
    "    rel_err = (trial1 + trial2)**(1/2) / (ana1 + ana2)**(1/2)\n",
    "    \n",
    "    return rel_err"
   ]
  },
  {
   "cell_type": "markdown",
   "metadata": {
    "heading_collapsed": true
   },
   "source": [
    "# Gradients"
   ]
  },
  {
   "cell_type": "markdown",
   "metadata": {
    "hidden": true
   },
   "source": [
    "$$\\frac{\\partial}{\\partial w_j} \\frac{\\partial^2 \\Psi_t}{\\partial x_k^2} = y_k(1-y_k)\\left[ -2\\frac{\\partial N}{\\partial w_j} + (2-4x_k) \\frac{\\partial}{\\partial w_j} \\frac{\\partial N}{\\partial x_k} + x_k(1-x_k) \\frac{\\partial}{\\partial w_j} \\frac{\\partial^2 N}{\\partial x_k^2} \\right]$$"
   ]
  },
  {
   "cell_type": "code",
   "execution_count": 21,
   "metadata": {
    "hidden": true
   },
   "outputs": [],
   "source": [
    "def d_dwj_dPsi2_dxk2(x, y, p, j, k):\n",
    "    xj = x if k==0 else y\n",
    "    yj = y if k==0 else x\n",
    "    return yj*(1-yj)*(-2*dN_dwj(x,y,p,j) + (2-4*xj)*d_dwj_dN_dxk(x,y,p,j,k) + xj*(1-xj)*d_dwj_dN2_dxk2(x,y,p,j,k))"
   ]
  },
  {
   "cell_type": "markdown",
   "metadata": {
    "hidden": true
   },
   "source": [
    "$$\\frac{\\partial}{\\partial u} \\frac{\\partial^2 \\Psi_t}{\\partial x_k^2} = y_k(1-y_k)\\left[ -2\\frac{\\partial N}{\\partial u} + (2-4x_k) \\frac{\\partial}{\\partial u} \\frac{\\partial N}{\\partial x_k} + x_k(1-x_k) \\frac{\\partial}{\\partial u} \\frac{\\partial^2 N}{\\partial x_k^2} \\right]$$"
   ]
  },
  {
   "cell_type": "code",
   "execution_count": 22,
   "metadata": {
    "hidden": true
   },
   "outputs": [],
   "source": [
    "def d_du_dPsi2_dxk2(x, y, p, k):\n",
    "    xj = x if k==0 else y\n",
    "    yj = y if k==0 else x\n",
    "    return yj*(1-yj)*(-2*d_du_dkN(x,y,p,k,0) + (2-4*xj)*d_du_dkN(x,y,p,k,1) + xj*(1-xj)*d_du_dkN(x,y,p,k,2))"
   ]
  },
  {
   "cell_type": "markdown",
   "metadata": {
    "hidden": true
   },
   "source": [
    "$$\\frac{\\partial}{\\partial v} \\frac{\\partial^2 \\Psi_t}{\\partial x_k^2} = y_k(1-y_k)\\left[ -2\\frac{\\partial N}{\\partial v} + (2-4x_k) \\frac{\\partial}{\\partial v} \\frac{\\partial N}{\\partial x_k} + x_k(1-x_k) \\frac{\\partial}{\\partial v} \\frac{\\partial^2 N}{\\partial x_k^2} \\right]$$"
   ]
  },
  {
   "cell_type": "code",
   "execution_count": 23,
   "metadata": {
    "hidden": true
   },
   "outputs": [],
   "source": [
    "def d_dv_dPsi2_dxk2(x, y, p, k):\n",
    "    xj = x if k==0 else y\n",
    "    yj = y if k==0 else x\n",
    "    return yj*(1-yj)*(-2*d_dv_dkN(x,y,p,k,0) + (2-4*xj)*d_dv_dkN(x,y,p,k,1) + xj*(1-xj)*d_dv_dkN(x,y,p,k,2))"
   ]
  },
  {
   "cell_type": "markdown",
   "metadata": {
    "hidden": true
   },
   "source": [
    "$$ \\frac{\\partial E[\\vec{p}]}{\\partial w_j} = \\sum_{i \\in \\hat{D}} \\left\\{ 2 \\text{ (error) } \\left( \\frac{\\partial}{\\partial w_j} \\frac{\\partial^2 \\Psi_t}{\\partial x^2} + \\frac{\\partial}{\\partial w_j} \\frac{\\partial^2 \\Psi_t}{\\partial y^2} \\right) \\right\\}$$"
   ]
  },
  {
   "cell_type": "code",
   "execution_count": 24,
   "metadata": {
    "code_folding": [],
    "hidden": true
   },
   "outputs": [],
   "source": [
    "def dE_dwj(points, p, j):\n",
    "    t1 = []\n",
    "    for x, y in points:\n",
    "        tmp = 2 * error(x,y,p) * (d_dwj_dPsi2_dxk2(x,y,p,j,0) + \n",
    "                                  d_dwj_dPsi2_dxk2(x,y,p,j,1))\n",
    "        t1.append(tmp)\n",
    "    \n",
    "    grad = sum(t1)\n",
    "    \n",
    "    return grad"
   ]
  },
  {
   "cell_type": "markdown",
   "metadata": {
    "hidden": true
   },
   "source": [
    "$$ \\frac{\\partial E[\\vec{p}]}{\\partial u} = \\sum_{i \\in \\hat{D}} \\left\\{ 2 \\text{ (error) } \\left( \\frac{\\partial}{\\partial u} \\frac{\\partial^2 \\Psi_t}{\\partial x^2} + \\frac{\\partial}{\\partial u} \\frac{\\partial^2 \\Psi_t}{\\partial y^2} \\right) \\right\\}$$"
   ]
  },
  {
   "cell_type": "code",
   "execution_count": 25,
   "metadata": {
    "code_folding": [],
    "hidden": true
   },
   "outputs": [],
   "source": [
    "def dE_du(points, p):\n",
    "    t1 = []\n",
    "    for x, y in points:\n",
    "        tmp = 2 * error(x,y,p) * (d_du_dPsi2_dxk2(x,y,p,0) + \n",
    "                                  d_du_dPsi2_dxk2(x,y,p,1))\n",
    "        t1.append(tmp)\n",
    "    \n",
    "    grad = sum(t1)\n",
    "    \n",
    "    return grad"
   ]
  },
  {
   "cell_type": "markdown",
   "metadata": {
    "hidden": true
   },
   "source": [
    "$$ \\frac{\\partial E[\\vec{p}]}{\\partial v} = \\sum_{i \\in \\hat{D}} \\left\\{ 2 \\text{ (error) } \\left( \\frac{\\partial}{\\partial v} \\frac{\\partial^2 \\Psi_t}{\\partial x^2} + \\frac{\\partial}{\\partial v} \\frac{\\partial^2 \\Psi_t}{\\partial y^2} \\right) \\right\\}$$"
   ]
  },
  {
   "cell_type": "code",
   "execution_count": 26,
   "metadata": {
    "code_folding": [],
    "hidden": true
   },
   "outputs": [],
   "source": [
    "def dE_dv(points, p):\n",
    "    t1 = []\n",
    "    for x, y in points:\n",
    "        tmp = 2 * error(x,y,p) * (d_dv_dPsi2_dxk2(x,y,p,0) + \n",
    "                                  d_dv_dPsi2_dxk2(x,y,p,1))\n",
    "        t1.append(tmp)\n",
    "    \n",
    "    grad = sum(t1)\n",
    "    \n",
    "    return grad"
   ]
  },
  {
   "cell_type": "markdown",
   "metadata": {
    "heading_collapsed": true
   },
   "source": [
    "# NN class"
   ]
  },
  {
   "cell_type": "code",
   "execution_count": 27,
   "metadata": {
    "hidden": true
   },
   "outputs": [],
   "source": [
    "def initialize_p(hidden_nodes):\n",
    "    w1 = np.random.randn(hidden_nodes)\n",
    "    v = np.random.randn(hidden_nodes)\n",
    "    w0 = []\n",
    "    u = []\n",
    "\n",
    "    for w1_sample in w1:\n",
    "        x = []\n",
    "        y = []\n",
    "        for side in np.random.choice(4, 2, replace=False):\n",
    "            if side == 0:\n",
    "                x.append(0)\n",
    "                y.append(np.random.uniform(0.1,0.9,1)[0])\n",
    "            elif side == 1:\n",
    "                x.append(np.random.uniform(0.1,0.9,1)[0])\n",
    "                y.append(1)\n",
    "            elif side == 2:\n",
    "                x.append(1)\n",
    "                y.append(np.random.uniform(0.1,0.9,1)[0])\n",
    "            elif side == 3:\n",
    "                x.append(np.random.uniform(0.1,0.9,1)[0])\n",
    "                y.append(0)\n",
    "\n",
    "        slope = (y[1] - y[0]) / (x[1] - x[0])\n",
    "        w0.append(-slope * w1_sample)\n",
    "        u.append((slope*x[0] - y[0]) * w1_sample)\n",
    "\n",
    "    p = np.array([np.array([np.array(w0), np.array(w1)]), \n",
    "                  np.array(u), np.array(v)])\n",
    "    \n",
    "    return p"
   ]
  },
  {
   "cell_type": "code",
   "execution_count": 28,
   "metadata": {
    "hidden": true
   },
   "outputs": [],
   "source": [
    "def get_mini_batches(points, batch_size):\n",
    "    np.random.shuffle(points)\n",
    "    \n",
    "    no_of_splits = np.ceil(len(points) / batch_size)\n",
    "\n",
    "    mini_batch_points = np.array_split(points, no_of_splits)\n",
    "    \n",
    "    return mini_batch_points"
   ]
  },
  {
   "cell_type": "code",
   "execution_count": 29,
   "metadata": {
    "code_folding": [
     57,
     63
    ],
    "hidden": true
   },
   "outputs": [],
   "source": [
    "class NNTrain:\n",
    "    def __init__(self, nx=10, hidden_nodes=10, alpha=0.01, batch_size=50,\n",
    "                 beta=0.9, update_interval=50, if_rel_err=False,\n",
    "                 output_file='output/output.csv'):\n",
    "\n",
    "        self.output_file = output_file\n",
    "        self.training_started = False\n",
    "        self.nx = nx\n",
    "        self.hidden_nodes = hidden_nodes\n",
    "        self.alpha = alpha\n",
    "        self.batch_size = batch_size\n",
    "        self.beta = beta\n",
    "        self.update_interval = update_interval\n",
    "        self.points = list(itertools.product(\n",
    "            np.linspace(0, 1, nx), np.linspace(0, 1, nx)))\n",
    "        self.cost_rate = []\n",
    "        self.if_rel_err = if_rel_err\n",
    "        if self.if_rel_err:\n",
    "            self.rel_err = []\n",
    "        self.p = initialize_p(hidden_nodes)\n",
    "        self.m_t = np.array([np.zeros(hidden_nodes),\n",
    "                             np.zeros(hidden_nodes),\n",
    "                             np.zeros(hidden_nodes),\n",
    "                             np.zeros(hidden_nodes)])\n",
    "\n",
    "        \n",
    "    def sgd_mt(self, w, g_t, theta_0):\n",
    "        # gradient descent with momentum\n",
    "        self.m_t[w] = self.beta * self.m_t[w] + (1-self.beta) * g_t\n",
    "        theta_0 = theta_0 - (self.alpha*self.m_t[w])\n",
    "\n",
    "        return theta_0\n",
    "\n",
    "    \n",
    "    def train(self, itr=1000):\n",
    "        if self.training_started:\n",
    "            mode = 'a'\n",
    "        else:\n",
    "            mode = 'w'\n",
    "        self.training_started = True\n",
    "\n",
    "        with open(self.output_file, mode) as file:\n",
    "            if mode == 'w':\n",
    "                if self.if_rel_err:\n",
    "                    file.write(\n",
    "                        'Iteration,Cost,Cost Diff,Relative Error,Relative Error Diff\\n')\n",
    "                else:\n",
    "                    file.write('Iteration,Cost,Cost Diff\\n')\n",
    "            start = len(self.cost_rate)-1\n",
    "            if start < 1:\n",
    "                start += 1\n",
    "                self.cost_rate.append(cost(self.points, self.p))\n",
    "                if self.if_rel_err:\n",
    "                    self.rel_err.append(relative_err(\n",
    "                        self.p, all_points=self.points))\n",
    "\n",
    "            i = start\n",
    "            while i < start+itr:\n",
    "                mini_batch_points = get_mini_batches(\n",
    "                    self.points, self.batch_size)\n",
    "\n",
    "                for mini_point in mini_batch_points:\n",
    "                    mini_point = list(mini_point)\n",
    "\n",
    "                    g_w0 = dE_dwj(mini_point, self.p, 0)\n",
    "                    g_w1 = dE_dwj(mini_point, self.p, 1)\n",
    "                    g_u = dE_du(mini_point, self.p)\n",
    "                    g_v = dE_dv(mini_point, self.p)\n",
    "\n",
    "                    self.p[0][0] = self.sgd_mt(0, g_w0, self.p[0][0])\n",
    "                    self.p[0][1] = self.sgd_mt(1, g_w1, self.p[0][1])\n",
    "                    self.p[1] = self.sgd_mt(2, g_u, self.p[1])\n",
    "                    self.p[2] = self.sgd_mt(3, g_v, self.p[2])\n",
    "\n",
    "                self.cost_rate.append(cost(self.points, self.p))\n",
    "                cost_diff = self.cost_rate[i]-self.cost_rate[i+1]\n",
    "                if self.if_rel_err:\n",
    "                    self.rel_err.append(relative_err(\n",
    "                        self.p, all_points=self.points))\n",
    "                    rel_diff = self.rel_err[i]-self.rel_err[i+1]\n",
    "\n",
    "                if self.if_rel_err:\n",
    "                    file.write('{},{:.8f},{:.8f},{:.8f},{:.8f}\\n'.format(\n",
    "                        i+1, self.cost_rate[i+1], cost_diff,\n",
    "                        self.rel_err[i+1], rel_diff))\n",
    "                else:\n",
    "                    file.write('{},{:.8f},{:.8f}\\n'.format(\n",
    "                        i+1, self.cost_rate[i+1], cost_diff))\n",
    "\n",
    "                if i % self.update_interval == 0:\n",
    "                    file.flush()\n",
    "\n",
    "                i += 1\n",
    "\n",
    "                \n",
    "    def save_result(self, output_name=''):\n",
    "        timestr = time.strftime(\"%Y%m%d-%H%M\")\n",
    "        np.savez('output/' + timestr + '_' +\n",
    "                 output_name + '_nn_params.npz', self.p)\n",
    "        np.savez('output/' + timestr + '_' + output_name +\n",
    "                 '_cost_rate.npz', self.cost_rate)\n",
    "        if self.if_rel_err:\n",
    "            np.savez('output/' + timestr + '_' +\n",
    "                     output_name + '_rel_err.npz', self.rel_err)"
   ]
  },
  {
   "cell_type": "code",
   "execution_count": null,
   "metadata": {
    "hidden": true
   },
   "outputs": [],
   "source": []
  },
  {
   "cell_type": "markdown",
   "metadata": {
    "heading_collapsed": true
   },
   "source": [
    "# Graphs"
   ]
  },
  {
   "cell_type": "code",
   "execution_count": 30,
   "metadata": {
    "hidden": true
   },
   "outputs": [],
   "source": [
    "%matplotlib notebook\n",
    "%matplotlib notebook"
   ]
  },
  {
   "cell_type": "markdown",
   "metadata": {
    "heading_collapsed": true,
    "hidden": true
   },
   "source": [
    "## Hidden Nodes"
   ]
  },
  {
   "cell_type": "code",
   "execution_count": 31,
   "metadata": {
    "hidden": true
   },
   "outputs": [],
   "source": [
    "def plot_nodes(a, save_name=None, save=True, zlim=True):\n",
    "    p = a.p\n",
    "    hmax = a.p[0][0].shape[0]\n",
    "    col = int(np.sqrt(hmax)) if int(np.sqrt(hmax)) < 10 else 10\n",
    "    row = np.ceil(hmax / col)\n",
    "    \n",
    "    d_x=0.1\n",
    "\n",
    "    fig = plt.figure(figsize=(col*3, row*3), dpi=100)\n",
    "    for h in range(1,hmax+1):\n",
    "        ax = fig.add_subplot(row,col,h, projection='3d')\n",
    "        x = y = np.arange(0, 1+d_x, d_x)\n",
    "        X, Y = np.meshgrid(x, y)\n",
    "\n",
    "        zs = np.array([p[1][h-1]*sig(z(x,y,p))[h-1] for x,y in zip(np.ravel(X), np.ravel(Y))])\n",
    "        Z = zs.reshape(X.shape)\n",
    "\n",
    "        ax.set_xlabel('x')\n",
    "        ax.set_ylabel('y')\n",
    "        if zlim:\n",
    "            ax.set_zlim(0,1)\n",
    "\n",
    "        ax.plot_surface(X, Y, Z, cmap=cm.coolwarm)\n",
    "        ax.title.set_text('HN: ' + str(h) + ', v=' + \"{:.4E}\".format(p[1][h-1]))\n",
    "        time.sleep(0.2)\n",
    "\n",
    "    if save==True:\n",
    "        if save_name is None: \n",
    "            plt.savefig('t'+str(T)+'_h'+str(hmax)+'_n'+str(a.nx)+'.png')\n",
    "        else:\n",
    "            plt.savefig(save_name)\n",
    "    else:\n",
    "        plt.show()"
   ]
  },
  {
   "cell_type": "markdown",
   "metadata": {
    "heading_collapsed": true,
    "hidden": true
   },
   "source": [
    "## Error vs Iterations"
   ]
  },
  {
   "cell_type": "code",
   "execution_count": 32,
   "metadata": {
    "hidden": true
   },
   "outputs": [],
   "source": [
    "def plot_iteration(arr, min_it=0, max_it=None):\n",
    "    plt.figure()\n",
    "    plt.plot(np.arange(len(arr[min_it:max_it])), np.array(arr[min_it:max_it]))\n",
    "    plt.show()"
   ]
  },
  {
   "cell_type": "markdown",
   "metadata": {
    "heading_collapsed": true,
    "hidden": true
   },
   "source": [
    "## Solution Accuracy on the domain"
   ]
  },
  {
   "cell_type": "code",
   "execution_count": 33,
   "metadata": {
    "hidden": true
   },
   "outputs": [],
   "source": [
    "def plot_fun(fun, zlim=False, title=None, return_ax=False, **kwargs):\n",
    "    d_x=0.01\n",
    "    fig = plt.figure()\n",
    "    ax = fig.add_subplot(111, projection='3d')\n",
    "    x = y = np.arange(0, 1.0+d_x, d_x)\n",
    "    X, Y = np.meshgrid(x, y)\n",
    "\n",
    "    zs = np.array([fun(x,y,**kwargs) for x,y in zip(np.ravel(X), np.ravel(Y))])\n",
    "    Z = zs.reshape(X.shape)\n",
    "\n",
    "    ax.plot_surface(X, Y, Z, cmap=cm.coolwarm_r)\n",
    "    # ax.ticklabel_format(style='sci', axis='z', scilimits=(0,0), useOffset=True, useMathText=True)\n",
    "\n",
    "\n",
    "    ax.set_xlabel('x')\n",
    "    ax.set_ylabel('y')\n",
    "    ax.title.set_text(title)\n",
    "    \n",
    "    if zlim:\n",
    "        ax.set_zlim(0,1)\n",
    "\n",
    "    if return_ax:\n",
    "        return ax\n",
    "    else:\n",
    "        plt.show()"
   ]
  },
  {
   "cell_type": "code",
   "execution_count": 34,
   "metadata": {
    "hidden": true
   },
   "outputs": [],
   "source": [
    "def plot_partitions(p):\n",
    "    plt.plot([0,0,1,1,0], [0,1,1,0,0], linewidth=3)\n",
    "\n",
    "    for HN in range(len(p[1])):\n",
    "        x = np.linspace(-1,2,500)\n",
    "        y = -(p[1][HN] + p[0][0][HN]*x) / p[0][1][HN]\n",
    "\n",
    "        plt.plot(x, y, label=HN)\n",
    "\n",
    "    plt.xlim(-1,2)\n",
    "    plt.ylim(-1,2)"
   ]
  },
  {
   "cell_type": "markdown",
   "metadata": {},
   "source": [
    "# Training"
   ]
  },
  {
   "cell_type": "code",
   "execution_count": 37,
   "metadata": {},
   "outputs": [],
   "source": [
    "K=10\n",
    "a = NNTrain(nx=60, hidden_nodes=50, alpha=1e-4, batch_size=50, update_interval=10, if_rel_err=True, output_file='out/out6.csv')"
   ]
  },
  {
   "cell_type": "code",
   "execution_count": null,
   "metadata": {},
   "outputs": [],
   "source": [
    "p=[]\n",
    "p.append(copy.deepcopy(a.p))\n",
    "a.train(100)"
   ]
  },
  {
   "cell_type": "code",
   "execution_count": null,
   "metadata": {
    "scrolled": true
   },
   "outputs": [],
   "source": [
    "thresh=1e-5\n",
    "\n",
    "for i in range(10000):\n",
    "    p.append(copy.deepcopy(a.p))\n",
    "    if np.mean([np.abs(s-t) for s, t in zip(a.cost_rate[-21:], a.cost_rate[-20:])]) < thresh:\n",
    "        break\n",
    "    a.train(100)"
   ]
  },
  {
   "cell_type": "markdown",
   "metadata": {},
   "source": [
    "Etc"
   ]
  },
  {
   "cell_type": "code",
   "execution_count": 41,
   "metadata": {},
   "outputs": [
    {
     "name": "stdout",
     "output_type": "stream",
     "text": [
      "relative error: 0.00046737443420734104\n"
     ]
    }
   ],
   "source": [
    "print('relative error:', relative_err(a.p, nx=100))"
   ]
  },
  {
   "cell_type": "code",
   "execution_count": 42,
   "metadata": {},
   "outputs": [
    {
     "data": {
      "application/javascript": [
       "/* Put everything inside the global mpl namespace */\n",
       "window.mpl = {};\n",
       "\n",
       "\n",
       "mpl.get_websocket_type = function() {\n",
       "    if (typeof(WebSocket) !== 'undefined') {\n",
       "        return WebSocket;\n",
       "    } else if (typeof(MozWebSocket) !== 'undefined') {\n",
       "        return MozWebSocket;\n",
       "    } else {\n",
       "        alert('Your browser does not have WebSocket support.' +\n",
       "              'Please try Chrome, Safari or Firefox ≥ 6. ' +\n",
       "              'Firefox 4 and 5 are also supported but you ' +\n",
       "              'have to enable WebSockets in about:config.');\n",
       "    };\n",
       "}\n",
       "\n",
       "mpl.figure = function(figure_id, websocket, ondownload, parent_element) {\n",
       "    this.id = figure_id;\n",
       "\n",
       "    this.ws = websocket;\n",
       "\n",
       "    this.supports_binary = (this.ws.binaryType != undefined);\n",
       "\n",
       "    if (!this.supports_binary) {\n",
       "        var warnings = document.getElementById(\"mpl-warnings\");\n",
       "        if (warnings) {\n",
       "            warnings.style.display = 'block';\n",
       "            warnings.textContent = (\n",
       "                \"This browser does not support binary websocket messages. \" +\n",
       "                    \"Performance may be slow.\");\n",
       "        }\n",
       "    }\n",
       "\n",
       "    this.imageObj = new Image();\n",
       "\n",
       "    this.context = undefined;\n",
       "    this.message = undefined;\n",
       "    this.canvas = undefined;\n",
       "    this.rubberband_canvas = undefined;\n",
       "    this.rubberband_context = undefined;\n",
       "    this.format_dropdown = undefined;\n",
       "\n",
       "    this.image_mode = 'full';\n",
       "\n",
       "    this.root = $('<div/>');\n",
       "    this._root_extra_style(this.root)\n",
       "    this.root.attr('style', 'display: inline-block');\n",
       "\n",
       "    $(parent_element).append(this.root);\n",
       "\n",
       "    this._init_header(this);\n",
       "    this._init_canvas(this);\n",
       "    this._init_toolbar(this);\n",
       "\n",
       "    var fig = this;\n",
       "\n",
       "    this.waiting = false;\n",
       "\n",
       "    this.ws.onopen =  function () {\n",
       "            fig.send_message(\"supports_binary\", {value: fig.supports_binary});\n",
       "            fig.send_message(\"send_image_mode\", {});\n",
       "            if (mpl.ratio != 1) {\n",
       "                fig.send_message(\"set_dpi_ratio\", {'dpi_ratio': mpl.ratio});\n",
       "            }\n",
       "            fig.send_message(\"refresh\", {});\n",
       "        }\n",
       "\n",
       "    this.imageObj.onload = function() {\n",
       "            if (fig.image_mode == 'full') {\n",
       "                // Full images could contain transparency (where diff images\n",
       "                // almost always do), so we need to clear the canvas so that\n",
       "                // there is no ghosting.\n",
       "                fig.context.clearRect(0, 0, fig.canvas.width, fig.canvas.height);\n",
       "            }\n",
       "            fig.context.drawImage(fig.imageObj, 0, 0);\n",
       "        };\n",
       "\n",
       "    this.imageObj.onunload = function() {\n",
       "        fig.ws.close();\n",
       "    }\n",
       "\n",
       "    this.ws.onmessage = this._make_on_message_function(this);\n",
       "\n",
       "    this.ondownload = ondownload;\n",
       "}\n",
       "\n",
       "mpl.figure.prototype._init_header = function() {\n",
       "    var titlebar = $(\n",
       "        '<div class=\"ui-dialog-titlebar ui-widget-header ui-corner-all ' +\n",
       "        'ui-helper-clearfix\"/>');\n",
       "    var titletext = $(\n",
       "        '<div class=\"ui-dialog-title\" style=\"width: 100%; ' +\n",
       "        'text-align: center; padding: 3px;\"/>');\n",
       "    titlebar.append(titletext)\n",
       "    this.root.append(titlebar);\n",
       "    this.header = titletext[0];\n",
       "}\n",
       "\n",
       "\n",
       "\n",
       "mpl.figure.prototype._canvas_extra_style = function(canvas_div) {\n",
       "\n",
       "}\n",
       "\n",
       "\n",
       "mpl.figure.prototype._root_extra_style = function(canvas_div) {\n",
       "\n",
       "}\n",
       "\n",
       "mpl.figure.prototype._init_canvas = function() {\n",
       "    var fig = this;\n",
       "\n",
       "    var canvas_div = $('<div/>');\n",
       "\n",
       "    canvas_div.attr('style', 'position: relative; clear: both; outline: 0');\n",
       "\n",
       "    function canvas_keyboard_event(event) {\n",
       "        return fig.key_event(event, event['data']);\n",
       "    }\n",
       "\n",
       "    canvas_div.keydown('key_press', canvas_keyboard_event);\n",
       "    canvas_div.keyup('key_release', canvas_keyboard_event);\n",
       "    this.canvas_div = canvas_div\n",
       "    this._canvas_extra_style(canvas_div)\n",
       "    this.root.append(canvas_div);\n",
       "\n",
       "    var canvas = $('<canvas/>');\n",
       "    canvas.addClass('mpl-canvas');\n",
       "    canvas.attr('style', \"left: 0; top: 0; z-index: 0; outline: 0\")\n",
       "\n",
       "    this.canvas = canvas[0];\n",
       "    this.context = canvas[0].getContext(\"2d\");\n",
       "\n",
       "    var backingStore = this.context.backingStorePixelRatio ||\n",
       "\tthis.context.webkitBackingStorePixelRatio ||\n",
       "\tthis.context.mozBackingStorePixelRatio ||\n",
       "\tthis.context.msBackingStorePixelRatio ||\n",
       "\tthis.context.oBackingStorePixelRatio ||\n",
       "\tthis.context.backingStorePixelRatio || 1;\n",
       "\n",
       "    mpl.ratio = (window.devicePixelRatio || 1) / backingStore;\n",
       "\n",
       "    var rubberband = $('<canvas/>');\n",
       "    rubberband.attr('style', \"position: absolute; left: 0; top: 0; z-index: 1;\")\n",
       "\n",
       "    var pass_mouse_events = true;\n",
       "\n",
       "    canvas_div.resizable({\n",
       "        start: function(event, ui) {\n",
       "            pass_mouse_events = false;\n",
       "        },\n",
       "        resize: function(event, ui) {\n",
       "            fig.request_resize(ui.size.width, ui.size.height);\n",
       "        },\n",
       "        stop: function(event, ui) {\n",
       "            pass_mouse_events = true;\n",
       "            fig.request_resize(ui.size.width, ui.size.height);\n",
       "        },\n",
       "    });\n",
       "\n",
       "    function mouse_event_fn(event) {\n",
       "        if (pass_mouse_events)\n",
       "            return fig.mouse_event(event, event['data']);\n",
       "    }\n",
       "\n",
       "    rubberband.mousedown('button_press', mouse_event_fn);\n",
       "    rubberband.mouseup('button_release', mouse_event_fn);\n",
       "    // Throttle sequential mouse events to 1 every 20ms.\n",
       "    rubberband.mousemove('motion_notify', mouse_event_fn);\n",
       "\n",
       "    rubberband.mouseenter('figure_enter', mouse_event_fn);\n",
       "    rubberband.mouseleave('figure_leave', mouse_event_fn);\n",
       "\n",
       "    canvas_div.on(\"wheel\", function (event) {\n",
       "        event = event.originalEvent;\n",
       "        event['data'] = 'scroll'\n",
       "        if (event.deltaY < 0) {\n",
       "            event.step = 1;\n",
       "        } else {\n",
       "            event.step = -1;\n",
       "        }\n",
       "        mouse_event_fn(event);\n",
       "    });\n",
       "\n",
       "    canvas_div.append(canvas);\n",
       "    canvas_div.append(rubberband);\n",
       "\n",
       "    this.rubberband = rubberband;\n",
       "    this.rubberband_canvas = rubberband[0];\n",
       "    this.rubberband_context = rubberband[0].getContext(\"2d\");\n",
       "    this.rubberband_context.strokeStyle = \"#000000\";\n",
       "\n",
       "    this._resize_canvas = function(width, height) {\n",
       "        // Keep the size of the canvas, canvas container, and rubber band\n",
       "        // canvas in synch.\n",
       "        canvas_div.css('width', width)\n",
       "        canvas_div.css('height', height)\n",
       "\n",
       "        canvas.attr('width', width * mpl.ratio);\n",
       "        canvas.attr('height', height * mpl.ratio);\n",
       "        canvas.attr('style', 'width: ' + width + 'px; height: ' + height + 'px;');\n",
       "\n",
       "        rubberband.attr('width', width);\n",
       "        rubberband.attr('height', height);\n",
       "    }\n",
       "\n",
       "    // Set the figure to an initial 600x600px, this will subsequently be updated\n",
       "    // upon first draw.\n",
       "    this._resize_canvas(600, 600);\n",
       "\n",
       "    // Disable right mouse context menu.\n",
       "    $(this.rubberband_canvas).bind(\"contextmenu\",function(e){\n",
       "        return false;\n",
       "    });\n",
       "\n",
       "    function set_focus () {\n",
       "        canvas.focus();\n",
       "        canvas_div.focus();\n",
       "    }\n",
       "\n",
       "    window.setTimeout(set_focus, 100);\n",
       "}\n",
       "\n",
       "mpl.figure.prototype._init_toolbar = function() {\n",
       "    var fig = this;\n",
       "\n",
       "    var nav_element = $('<div/>')\n",
       "    nav_element.attr('style', 'width: 100%');\n",
       "    this.root.append(nav_element);\n",
       "\n",
       "    // Define a callback function for later on.\n",
       "    function toolbar_event(event) {\n",
       "        return fig.toolbar_button_onclick(event['data']);\n",
       "    }\n",
       "    function toolbar_mouse_event(event) {\n",
       "        return fig.toolbar_button_onmouseover(event['data']);\n",
       "    }\n",
       "\n",
       "    for(var toolbar_ind in mpl.toolbar_items) {\n",
       "        var name = mpl.toolbar_items[toolbar_ind][0];\n",
       "        var tooltip = mpl.toolbar_items[toolbar_ind][1];\n",
       "        var image = mpl.toolbar_items[toolbar_ind][2];\n",
       "        var method_name = mpl.toolbar_items[toolbar_ind][3];\n",
       "\n",
       "        if (!name) {\n",
       "            // put a spacer in here.\n",
       "            continue;\n",
       "        }\n",
       "        var button = $('<button/>');\n",
       "        button.addClass('ui-button ui-widget ui-state-default ui-corner-all ' +\n",
       "                        'ui-button-icon-only');\n",
       "        button.attr('role', 'button');\n",
       "        button.attr('aria-disabled', 'false');\n",
       "        button.click(method_name, toolbar_event);\n",
       "        button.mouseover(tooltip, toolbar_mouse_event);\n",
       "\n",
       "        var icon_img = $('<span/>');\n",
       "        icon_img.addClass('ui-button-icon-primary ui-icon');\n",
       "        icon_img.addClass(image);\n",
       "        icon_img.addClass('ui-corner-all');\n",
       "\n",
       "        var tooltip_span = $('<span/>');\n",
       "        tooltip_span.addClass('ui-button-text');\n",
       "        tooltip_span.html(tooltip);\n",
       "\n",
       "        button.append(icon_img);\n",
       "        button.append(tooltip_span);\n",
       "\n",
       "        nav_element.append(button);\n",
       "    }\n",
       "\n",
       "    var fmt_picker_span = $('<span/>');\n",
       "\n",
       "    var fmt_picker = $('<select/>');\n",
       "    fmt_picker.addClass('mpl-toolbar-option ui-widget ui-widget-content');\n",
       "    fmt_picker_span.append(fmt_picker);\n",
       "    nav_element.append(fmt_picker_span);\n",
       "    this.format_dropdown = fmt_picker[0];\n",
       "\n",
       "    for (var ind in mpl.extensions) {\n",
       "        var fmt = mpl.extensions[ind];\n",
       "        var option = $(\n",
       "            '<option/>', {selected: fmt === mpl.default_extension}).html(fmt);\n",
       "        fmt_picker.append(option)\n",
       "    }\n",
       "\n",
       "    // Add hover states to the ui-buttons\n",
       "    $( \".ui-button\" ).hover(\n",
       "        function() { $(this).addClass(\"ui-state-hover\");},\n",
       "        function() { $(this).removeClass(\"ui-state-hover\");}\n",
       "    );\n",
       "\n",
       "    var status_bar = $('<span class=\"mpl-message\"/>');\n",
       "    nav_element.append(status_bar);\n",
       "    this.message = status_bar[0];\n",
       "}\n",
       "\n",
       "mpl.figure.prototype.request_resize = function(x_pixels, y_pixels) {\n",
       "    // Request matplotlib to resize the figure. Matplotlib will then trigger a resize in the client,\n",
       "    // which will in turn request a refresh of the image.\n",
       "    this.send_message('resize', {'width': x_pixels, 'height': y_pixels});\n",
       "}\n",
       "\n",
       "mpl.figure.prototype.send_message = function(type, properties) {\n",
       "    properties['type'] = type;\n",
       "    properties['figure_id'] = this.id;\n",
       "    this.ws.send(JSON.stringify(properties));\n",
       "}\n",
       "\n",
       "mpl.figure.prototype.send_draw_message = function() {\n",
       "    if (!this.waiting) {\n",
       "        this.waiting = true;\n",
       "        this.ws.send(JSON.stringify({type: \"draw\", figure_id: this.id}));\n",
       "    }\n",
       "}\n",
       "\n",
       "\n",
       "mpl.figure.prototype.handle_save = function(fig, msg) {\n",
       "    var format_dropdown = fig.format_dropdown;\n",
       "    var format = format_dropdown.options[format_dropdown.selectedIndex].value;\n",
       "    fig.ondownload(fig, format);\n",
       "}\n",
       "\n",
       "\n",
       "mpl.figure.prototype.handle_resize = function(fig, msg) {\n",
       "    var size = msg['size'];\n",
       "    if (size[0] != fig.canvas.width || size[1] != fig.canvas.height) {\n",
       "        fig._resize_canvas(size[0], size[1]);\n",
       "        fig.send_message(\"refresh\", {});\n",
       "    };\n",
       "}\n",
       "\n",
       "mpl.figure.prototype.handle_rubberband = function(fig, msg) {\n",
       "    var x0 = msg['x0'] / mpl.ratio;\n",
       "    var y0 = (fig.canvas.height - msg['y0']) / mpl.ratio;\n",
       "    var x1 = msg['x1'] / mpl.ratio;\n",
       "    var y1 = (fig.canvas.height - msg['y1']) / mpl.ratio;\n",
       "    x0 = Math.floor(x0) + 0.5;\n",
       "    y0 = Math.floor(y0) + 0.5;\n",
       "    x1 = Math.floor(x1) + 0.5;\n",
       "    y1 = Math.floor(y1) + 0.5;\n",
       "    var min_x = Math.min(x0, x1);\n",
       "    var min_y = Math.min(y0, y1);\n",
       "    var width = Math.abs(x1 - x0);\n",
       "    var height = Math.abs(y1 - y0);\n",
       "\n",
       "    fig.rubberband_context.clearRect(\n",
       "        0, 0, fig.canvas.width, fig.canvas.height);\n",
       "\n",
       "    fig.rubberband_context.strokeRect(min_x, min_y, width, height);\n",
       "}\n",
       "\n",
       "mpl.figure.prototype.handle_figure_label = function(fig, msg) {\n",
       "    // Updates the figure title.\n",
       "    fig.header.textContent = msg['label'];\n",
       "}\n",
       "\n",
       "mpl.figure.prototype.handle_cursor = function(fig, msg) {\n",
       "    var cursor = msg['cursor'];\n",
       "    switch(cursor)\n",
       "    {\n",
       "    case 0:\n",
       "        cursor = 'pointer';\n",
       "        break;\n",
       "    case 1:\n",
       "        cursor = 'default';\n",
       "        break;\n",
       "    case 2:\n",
       "        cursor = 'crosshair';\n",
       "        break;\n",
       "    case 3:\n",
       "        cursor = 'move';\n",
       "        break;\n",
       "    }\n",
       "    fig.rubberband_canvas.style.cursor = cursor;\n",
       "}\n",
       "\n",
       "mpl.figure.prototype.handle_message = function(fig, msg) {\n",
       "    fig.message.textContent = msg['message'];\n",
       "}\n",
       "\n",
       "mpl.figure.prototype.handle_draw = function(fig, msg) {\n",
       "    // Request the server to send over a new figure.\n",
       "    fig.send_draw_message();\n",
       "}\n",
       "\n",
       "mpl.figure.prototype.handle_image_mode = function(fig, msg) {\n",
       "    fig.image_mode = msg['mode'];\n",
       "}\n",
       "\n",
       "mpl.figure.prototype.updated_canvas_event = function() {\n",
       "    // Called whenever the canvas gets updated.\n",
       "    this.send_message(\"ack\", {});\n",
       "}\n",
       "\n",
       "// A function to construct a web socket function for onmessage handling.\n",
       "// Called in the figure constructor.\n",
       "mpl.figure.prototype._make_on_message_function = function(fig) {\n",
       "    return function socket_on_message(evt) {\n",
       "        if (evt.data instanceof Blob) {\n",
       "            /* FIXME: We get \"Resource interpreted as Image but\n",
       "             * transferred with MIME type text/plain:\" errors on\n",
       "             * Chrome.  But how to set the MIME type?  It doesn't seem\n",
       "             * to be part of the websocket stream */\n",
       "            evt.data.type = \"image/png\";\n",
       "\n",
       "            /* Free the memory for the previous frames */\n",
       "            if (fig.imageObj.src) {\n",
       "                (window.URL || window.webkitURL).revokeObjectURL(\n",
       "                    fig.imageObj.src);\n",
       "            }\n",
       "\n",
       "            fig.imageObj.src = (window.URL || window.webkitURL).createObjectURL(\n",
       "                evt.data);\n",
       "            fig.updated_canvas_event();\n",
       "            fig.waiting = false;\n",
       "            return;\n",
       "        }\n",
       "        else if (typeof evt.data === 'string' && evt.data.slice(0, 21) == \"data:image/png;base64\") {\n",
       "            fig.imageObj.src = evt.data;\n",
       "            fig.updated_canvas_event();\n",
       "            fig.waiting = false;\n",
       "            return;\n",
       "        }\n",
       "\n",
       "        var msg = JSON.parse(evt.data);\n",
       "        var msg_type = msg['type'];\n",
       "\n",
       "        // Call the  \"handle_{type}\" callback, which takes\n",
       "        // the figure and JSON message as its only arguments.\n",
       "        try {\n",
       "            var callback = fig[\"handle_\" + msg_type];\n",
       "        } catch (e) {\n",
       "            console.log(\"No handler for the '\" + msg_type + \"' message type: \", msg);\n",
       "            return;\n",
       "        }\n",
       "\n",
       "        if (callback) {\n",
       "            try {\n",
       "                // console.log(\"Handling '\" + msg_type + \"' message: \", msg);\n",
       "                callback(fig, msg);\n",
       "            } catch (e) {\n",
       "                console.log(\"Exception inside the 'handler_\" + msg_type + \"' callback:\", e, e.stack, msg);\n",
       "            }\n",
       "        }\n",
       "    };\n",
       "}\n",
       "\n",
       "// from http://stackoverflow.com/questions/1114465/getting-mouse-location-in-canvas\n",
       "mpl.findpos = function(e) {\n",
       "    //this section is from http://www.quirksmode.org/js/events_properties.html\n",
       "    var targ;\n",
       "    if (!e)\n",
       "        e = window.event;\n",
       "    if (e.target)\n",
       "        targ = e.target;\n",
       "    else if (e.srcElement)\n",
       "        targ = e.srcElement;\n",
       "    if (targ.nodeType == 3) // defeat Safari bug\n",
       "        targ = targ.parentNode;\n",
       "\n",
       "    // jQuery normalizes the pageX and pageY\n",
       "    // pageX,Y are the mouse positions relative to the document\n",
       "    // offset() returns the position of the element relative to the document\n",
       "    var x = e.pageX - $(targ).offset().left;\n",
       "    var y = e.pageY - $(targ).offset().top;\n",
       "\n",
       "    return {\"x\": x, \"y\": y};\n",
       "};\n",
       "\n",
       "/*\n",
       " * return a copy of an object with only non-object keys\n",
       " * we need this to avoid circular references\n",
       " * http://stackoverflow.com/a/24161582/3208463\n",
       " */\n",
       "function simpleKeys (original) {\n",
       "  return Object.keys(original).reduce(function (obj, key) {\n",
       "    if (typeof original[key] !== 'object')\n",
       "        obj[key] = original[key]\n",
       "    return obj;\n",
       "  }, {});\n",
       "}\n",
       "\n",
       "mpl.figure.prototype.mouse_event = function(event, name) {\n",
       "    var canvas_pos = mpl.findpos(event)\n",
       "\n",
       "    if (name === 'button_press')\n",
       "    {\n",
       "        this.canvas.focus();\n",
       "        this.canvas_div.focus();\n",
       "    }\n",
       "\n",
       "    var x = canvas_pos.x * mpl.ratio;\n",
       "    var y = canvas_pos.y * mpl.ratio;\n",
       "\n",
       "    this.send_message(name, {x: x, y: y, button: event.button,\n",
       "                             step: event.step,\n",
       "                             guiEvent: simpleKeys(event)});\n",
       "\n",
       "    /* This prevents the web browser from automatically changing to\n",
       "     * the text insertion cursor when the button is pressed.  We want\n",
       "     * to control all of the cursor setting manually through the\n",
       "     * 'cursor' event from matplotlib */\n",
       "    event.preventDefault();\n",
       "    return false;\n",
       "}\n",
       "\n",
       "mpl.figure.prototype._key_event_extra = function(event, name) {\n",
       "    // Handle any extra behaviour associated with a key event\n",
       "}\n",
       "\n",
       "mpl.figure.prototype.key_event = function(event, name) {\n",
       "\n",
       "    // Prevent repeat events\n",
       "    if (name == 'key_press')\n",
       "    {\n",
       "        if (event.which === this._key)\n",
       "            return;\n",
       "        else\n",
       "            this._key = event.which;\n",
       "    }\n",
       "    if (name == 'key_release')\n",
       "        this._key = null;\n",
       "\n",
       "    var value = '';\n",
       "    if (event.ctrlKey && event.which != 17)\n",
       "        value += \"ctrl+\";\n",
       "    if (event.altKey && event.which != 18)\n",
       "        value += \"alt+\";\n",
       "    if (event.shiftKey && event.which != 16)\n",
       "        value += \"shift+\";\n",
       "\n",
       "    value += 'k';\n",
       "    value += event.which.toString();\n",
       "\n",
       "    this._key_event_extra(event, name);\n",
       "\n",
       "    this.send_message(name, {key: value,\n",
       "                             guiEvent: simpleKeys(event)});\n",
       "    return false;\n",
       "}\n",
       "\n",
       "mpl.figure.prototype.toolbar_button_onclick = function(name) {\n",
       "    if (name == 'download') {\n",
       "        this.handle_save(this, null);\n",
       "    } else {\n",
       "        this.send_message(\"toolbar_button\", {name: name});\n",
       "    }\n",
       "};\n",
       "\n",
       "mpl.figure.prototype.toolbar_button_onmouseover = function(tooltip) {\n",
       "    this.message.textContent = tooltip;\n",
       "};\n",
       "mpl.toolbar_items = [[\"Home\", \"Reset original view\", \"fa fa-home icon-home\", \"home\"], [\"Back\", \"Back to previous view\", \"fa fa-arrow-left icon-arrow-left\", \"back\"], [\"Forward\", \"Forward to next view\", \"fa fa-arrow-right icon-arrow-right\", \"forward\"], [\"\", \"\", \"\", \"\"], [\"Pan\", \"Pan axes with left mouse, zoom with right\", \"fa fa-arrows icon-move\", \"pan\"], [\"Zoom\", \"Zoom to rectangle\", \"fa fa-square-o icon-check-empty\", \"zoom\"], [\"\", \"\", \"\", \"\"], [\"Download\", \"Download plot\", \"fa fa-floppy-o icon-save\", \"download\"]];\n",
       "\n",
       "mpl.extensions = [\"eps\", \"jpeg\", \"pdf\", \"png\", \"ps\", \"raw\", \"svg\", \"tif\"];\n",
       "\n",
       "mpl.default_extension = \"png\";var comm_websocket_adapter = function(comm) {\n",
       "    // Create a \"websocket\"-like object which calls the given IPython comm\n",
       "    // object with the appropriate methods. Currently this is a non binary\n",
       "    // socket, so there is still some room for performance tuning.\n",
       "    var ws = {};\n",
       "\n",
       "    ws.close = function() {\n",
       "        comm.close()\n",
       "    };\n",
       "    ws.send = function(m) {\n",
       "        //console.log('sending', m);\n",
       "        comm.send(m);\n",
       "    };\n",
       "    // Register the callback with on_msg.\n",
       "    comm.on_msg(function(msg) {\n",
       "        //console.log('receiving', msg['content']['data'], msg);\n",
       "        // Pass the mpl event to the overridden (by mpl) onmessage function.\n",
       "        ws.onmessage(msg['content']['data'])\n",
       "    });\n",
       "    return ws;\n",
       "}\n",
       "\n",
       "mpl.mpl_figure_comm = function(comm, msg) {\n",
       "    // This is the function which gets called when the mpl process\n",
       "    // starts-up an IPython Comm through the \"matplotlib\" channel.\n",
       "\n",
       "    var id = msg.content.data.id;\n",
       "    // Get hold of the div created by the display call when the Comm\n",
       "    // socket was opened in Python.\n",
       "    var element = $(\"#\" + id);\n",
       "    var ws_proxy = comm_websocket_adapter(comm)\n",
       "\n",
       "    function ondownload(figure, format) {\n",
       "        window.open(figure.imageObj.src);\n",
       "    }\n",
       "\n",
       "    var fig = new mpl.figure(id, ws_proxy,\n",
       "                           ondownload,\n",
       "                           element.get(0));\n",
       "\n",
       "    // Call onopen now - mpl needs it, as it is assuming we've passed it a real\n",
       "    // web socket which is closed, not our websocket->open comm proxy.\n",
       "    ws_proxy.onopen();\n",
       "\n",
       "    fig.parent_element = element.get(0);\n",
       "    fig.cell_info = mpl.find_output_cell(\"<div id='\" + id + \"'></div>\");\n",
       "    if (!fig.cell_info) {\n",
       "        console.error(\"Failed to find cell for figure\", id, fig);\n",
       "        return;\n",
       "    }\n",
       "\n",
       "    var output_index = fig.cell_info[2]\n",
       "    var cell = fig.cell_info[0];\n",
       "\n",
       "};\n",
       "\n",
       "mpl.figure.prototype.handle_close = function(fig, msg) {\n",
       "    var width = fig.canvas.width/mpl.ratio\n",
       "    fig.root.unbind('remove')\n",
       "\n",
       "    // Update the output cell to use the data from the current canvas.\n",
       "    fig.push_to_output();\n",
       "    var dataURL = fig.canvas.toDataURL();\n",
       "    // Re-enable the keyboard manager in IPython - without this line, in FF,\n",
       "    // the notebook keyboard shortcuts fail.\n",
       "    IPython.keyboard_manager.enable()\n",
       "    $(fig.parent_element).html('<img src=\"' + dataURL + '\" width=\"' + width + '\">');\n",
       "    fig.close_ws(fig, msg);\n",
       "}\n",
       "\n",
       "mpl.figure.prototype.close_ws = function(fig, msg){\n",
       "    fig.send_message('closing', msg);\n",
       "    // fig.ws.close()\n",
       "}\n",
       "\n",
       "mpl.figure.prototype.push_to_output = function(remove_interactive) {\n",
       "    // Turn the data on the canvas into data in the output cell.\n",
       "    var width = this.canvas.width/mpl.ratio\n",
       "    var dataURL = this.canvas.toDataURL();\n",
       "    this.cell_info[1]['text/html'] = '<img src=\"' + dataURL + '\" width=\"' + width + '\">';\n",
       "}\n",
       "\n",
       "mpl.figure.prototype.updated_canvas_event = function() {\n",
       "    // Tell IPython that the notebook contents must change.\n",
       "    IPython.notebook.set_dirty(true);\n",
       "    this.send_message(\"ack\", {});\n",
       "    var fig = this;\n",
       "    // Wait a second, then push the new image to the DOM so\n",
       "    // that it is saved nicely (might be nice to debounce this).\n",
       "    setTimeout(function () { fig.push_to_output() }, 1000);\n",
       "}\n",
       "\n",
       "mpl.figure.prototype._init_toolbar = function() {\n",
       "    var fig = this;\n",
       "\n",
       "    var nav_element = $('<div/>')\n",
       "    nav_element.attr('style', 'width: 100%');\n",
       "    this.root.append(nav_element);\n",
       "\n",
       "    // Define a callback function for later on.\n",
       "    function toolbar_event(event) {\n",
       "        return fig.toolbar_button_onclick(event['data']);\n",
       "    }\n",
       "    function toolbar_mouse_event(event) {\n",
       "        return fig.toolbar_button_onmouseover(event['data']);\n",
       "    }\n",
       "\n",
       "    for(var toolbar_ind in mpl.toolbar_items){\n",
       "        var name = mpl.toolbar_items[toolbar_ind][0];\n",
       "        var tooltip = mpl.toolbar_items[toolbar_ind][1];\n",
       "        var image = mpl.toolbar_items[toolbar_ind][2];\n",
       "        var method_name = mpl.toolbar_items[toolbar_ind][3];\n",
       "\n",
       "        if (!name) { continue; };\n",
       "\n",
       "        var button = $('<button class=\"btn btn-default\" href=\"#\" title=\"' + name + '\"><i class=\"fa ' + image + ' fa-lg\"></i></button>');\n",
       "        button.click(method_name, toolbar_event);\n",
       "        button.mouseover(tooltip, toolbar_mouse_event);\n",
       "        nav_element.append(button);\n",
       "    }\n",
       "\n",
       "    // Add the status bar.\n",
       "    var status_bar = $('<span class=\"mpl-message\" style=\"text-align:right; float: right;\"/>');\n",
       "    nav_element.append(status_bar);\n",
       "    this.message = status_bar[0];\n",
       "\n",
       "    // Add the close button to the window.\n",
       "    var buttongrp = $('<div class=\"btn-group inline pull-right\"></div>');\n",
       "    var button = $('<button class=\"btn btn-mini btn-primary\" href=\"#\" title=\"Stop Interaction\"><i class=\"fa fa-power-off icon-remove icon-large\"></i></button>');\n",
       "    button.click(function (evt) { fig.handle_close(fig, {}); } );\n",
       "    button.mouseover('Stop Interaction', toolbar_mouse_event);\n",
       "    buttongrp.append(button);\n",
       "    var titlebar = this.root.find($('.ui-dialog-titlebar'));\n",
       "    titlebar.prepend(buttongrp);\n",
       "}\n",
       "\n",
       "mpl.figure.prototype._root_extra_style = function(el){\n",
       "    var fig = this\n",
       "    el.on(\"remove\", function(){\n",
       "\tfig.close_ws(fig, {});\n",
       "    });\n",
       "}\n",
       "\n",
       "mpl.figure.prototype._canvas_extra_style = function(el){\n",
       "    // this is important to make the div 'focusable\n",
       "    el.attr('tabindex', 0)\n",
       "    // reach out to IPython and tell the keyboard manager to turn it's self\n",
       "    // off when our div gets focus\n",
       "\n",
       "    // location in version 3\n",
       "    if (IPython.notebook.keyboard_manager) {\n",
       "        IPython.notebook.keyboard_manager.register_events(el);\n",
       "    }\n",
       "    else {\n",
       "        // location in version 2\n",
       "        IPython.keyboard_manager.register_events(el);\n",
       "    }\n",
       "\n",
       "}\n",
       "\n",
       "mpl.figure.prototype._key_event_extra = function(event, name) {\n",
       "    var manager = IPython.notebook.keyboard_manager;\n",
       "    if (!manager)\n",
       "        manager = IPython.keyboard_manager;\n",
       "\n",
       "    // Check for shift+enter\n",
       "    if (event.shiftKey && event.which == 13) {\n",
       "        this.canvas_div.blur();\n",
       "        event.shiftKey = false;\n",
       "        // Send a \"J\" for go to next cell\n",
       "        event.which = 74;\n",
       "        event.keyCode = 74;\n",
       "        manager.command_mode();\n",
       "        manager.handle_keydown(event);\n",
       "    }\n",
       "}\n",
       "\n",
       "mpl.figure.prototype.handle_save = function(fig, msg) {\n",
       "    fig.ondownload(fig, null);\n",
       "}\n",
       "\n",
       "\n",
       "mpl.find_output_cell = function(html_output) {\n",
       "    // Return the cell and output element which can be found *uniquely* in the notebook.\n",
       "    // Note - this is a bit hacky, but it is done because the \"notebook_saving.Notebook\"\n",
       "    // IPython event is triggered only after the cells have been serialised, which for\n",
       "    // our purposes (turning an active figure into a static one), is too late.\n",
       "    var cells = IPython.notebook.get_cells();\n",
       "    var ncells = cells.length;\n",
       "    for (var i=0; i<ncells; i++) {\n",
       "        var cell = cells[i];\n",
       "        if (cell.cell_type === 'code'){\n",
       "            for (var j=0; j<cell.output_area.outputs.length; j++) {\n",
       "                var data = cell.output_area.outputs[j];\n",
       "                if (data.data) {\n",
       "                    // IPython >= 3 moved mimebundle to data attribute of output\n",
       "                    data = data.data;\n",
       "                }\n",
       "                if (data['text/html'] == html_output) {\n",
       "                    return [cell, data, j];\n",
       "                }\n",
       "            }\n",
       "        }\n",
       "    }\n",
       "}\n",
       "\n",
       "// Register the function which deals with the matplotlib target/channel.\n",
       "// The kernel may be null if the page has been refreshed.\n",
       "if (IPython.notebook.kernel != null) {\n",
       "    IPython.notebook.kernel.comm_manager.register_target('matplotlib', mpl.mpl_figure_comm);\n",
       "}\n"
      ],
      "text/plain": [
       "<IPython.core.display.Javascript object>"
      ]
     },
     "metadata": {},
     "output_type": "display_data"
    },
    {
     "data": {
      "text/html": [
       "<img src=\"data:image/png;base64,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\" width=\"431.818172458775\">"
      ],
      "text/plain": [
       "<IPython.core.display.HTML object>"
      ]
     },
     "metadata": {},
     "output_type": "display_data"
    }
   ],
   "source": [
    "plot_iteration(a.cost_rate, min_it=1000)"
   ]
  },
  {
   "cell_type": "code",
   "execution_count": 43,
   "metadata": {},
   "outputs": [
    {
     "data": {
      "application/javascript": [
       "/* Put everything inside the global mpl namespace */\n",
       "window.mpl = {};\n",
       "\n",
       "\n",
       "mpl.get_websocket_type = function() {\n",
       "    if (typeof(WebSocket) !== 'undefined') {\n",
       "        return WebSocket;\n",
       "    } else if (typeof(MozWebSocket) !== 'undefined') {\n",
       "        return MozWebSocket;\n",
       "    } else {\n",
       "        alert('Your browser does not have WebSocket support.' +\n",
       "              'Please try Chrome, Safari or Firefox ≥ 6. ' +\n",
       "              'Firefox 4 and 5 are also supported but you ' +\n",
       "              'have to enable WebSockets in about:config.');\n",
       "    };\n",
       "}\n",
       "\n",
       "mpl.figure = function(figure_id, websocket, ondownload, parent_element) {\n",
       "    this.id = figure_id;\n",
       "\n",
       "    this.ws = websocket;\n",
       "\n",
       "    this.supports_binary = (this.ws.binaryType != undefined);\n",
       "\n",
       "    if (!this.supports_binary) {\n",
       "        var warnings = document.getElementById(\"mpl-warnings\");\n",
       "        if (warnings) {\n",
       "            warnings.style.display = 'block';\n",
       "            warnings.textContent = (\n",
       "                \"This browser does not support binary websocket messages. \" +\n",
       "                    \"Performance may be slow.\");\n",
       "        }\n",
       "    }\n",
       "\n",
       "    this.imageObj = new Image();\n",
       "\n",
       "    this.context = undefined;\n",
       "    this.message = undefined;\n",
       "    this.canvas = undefined;\n",
       "    this.rubberband_canvas = undefined;\n",
       "    this.rubberband_context = undefined;\n",
       "    this.format_dropdown = undefined;\n",
       "\n",
       "    this.image_mode = 'full';\n",
       "\n",
       "    this.root = $('<div/>');\n",
       "    this._root_extra_style(this.root)\n",
       "    this.root.attr('style', 'display: inline-block');\n",
       "\n",
       "    $(parent_element).append(this.root);\n",
       "\n",
       "    this._init_header(this);\n",
       "    this._init_canvas(this);\n",
       "    this._init_toolbar(this);\n",
       "\n",
       "    var fig = this;\n",
       "\n",
       "    this.waiting = false;\n",
       "\n",
       "    this.ws.onopen =  function () {\n",
       "            fig.send_message(\"supports_binary\", {value: fig.supports_binary});\n",
       "            fig.send_message(\"send_image_mode\", {});\n",
       "            if (mpl.ratio != 1) {\n",
       "                fig.send_message(\"set_dpi_ratio\", {'dpi_ratio': mpl.ratio});\n",
       "            }\n",
       "            fig.send_message(\"refresh\", {});\n",
       "        }\n",
       "\n",
       "    this.imageObj.onload = function() {\n",
       "            if (fig.image_mode == 'full') {\n",
       "                // Full images could contain transparency (where diff images\n",
       "                // almost always do), so we need to clear the canvas so that\n",
       "                // there is no ghosting.\n",
       "                fig.context.clearRect(0, 0, fig.canvas.width, fig.canvas.height);\n",
       "            }\n",
       "            fig.context.drawImage(fig.imageObj, 0, 0);\n",
       "        };\n",
       "\n",
       "    this.imageObj.onunload = function() {\n",
       "        fig.ws.close();\n",
       "    }\n",
       "\n",
       "    this.ws.onmessage = this._make_on_message_function(this);\n",
       "\n",
       "    this.ondownload = ondownload;\n",
       "}\n",
       "\n",
       "mpl.figure.prototype._init_header = function() {\n",
       "    var titlebar = $(\n",
       "        '<div class=\"ui-dialog-titlebar ui-widget-header ui-corner-all ' +\n",
       "        'ui-helper-clearfix\"/>');\n",
       "    var titletext = $(\n",
       "        '<div class=\"ui-dialog-title\" style=\"width: 100%; ' +\n",
       "        'text-align: center; padding: 3px;\"/>');\n",
       "    titlebar.append(titletext)\n",
       "    this.root.append(titlebar);\n",
       "    this.header = titletext[0];\n",
       "}\n",
       "\n",
       "\n",
       "\n",
       "mpl.figure.prototype._canvas_extra_style = function(canvas_div) {\n",
       "\n",
       "}\n",
       "\n",
       "\n",
       "mpl.figure.prototype._root_extra_style = function(canvas_div) {\n",
       "\n",
       "}\n",
       "\n",
       "mpl.figure.prototype._init_canvas = function() {\n",
       "    var fig = this;\n",
       "\n",
       "    var canvas_div = $('<div/>');\n",
       "\n",
       "    canvas_div.attr('style', 'position: relative; clear: both; outline: 0');\n",
       "\n",
       "    function canvas_keyboard_event(event) {\n",
       "        return fig.key_event(event, event['data']);\n",
       "    }\n",
       "\n",
       "    canvas_div.keydown('key_press', canvas_keyboard_event);\n",
       "    canvas_div.keyup('key_release', canvas_keyboard_event);\n",
       "    this.canvas_div = canvas_div\n",
       "    this._canvas_extra_style(canvas_div)\n",
       "    this.root.append(canvas_div);\n",
       "\n",
       "    var canvas = $('<canvas/>');\n",
       "    canvas.addClass('mpl-canvas');\n",
       "    canvas.attr('style', \"left: 0; top: 0; z-index: 0; outline: 0\")\n",
       "\n",
       "    this.canvas = canvas[0];\n",
       "    this.context = canvas[0].getContext(\"2d\");\n",
       "\n",
       "    var backingStore = this.context.backingStorePixelRatio ||\n",
       "\tthis.context.webkitBackingStorePixelRatio ||\n",
       "\tthis.context.mozBackingStorePixelRatio ||\n",
       "\tthis.context.msBackingStorePixelRatio ||\n",
       "\tthis.context.oBackingStorePixelRatio ||\n",
       "\tthis.context.backingStorePixelRatio || 1;\n",
       "\n",
       "    mpl.ratio = (window.devicePixelRatio || 1) / backingStore;\n",
       "\n",
       "    var rubberband = $('<canvas/>');\n",
       "    rubberband.attr('style', \"position: absolute; left: 0; top: 0; z-index: 1;\")\n",
       "\n",
       "    var pass_mouse_events = true;\n",
       "\n",
       "    canvas_div.resizable({\n",
       "        start: function(event, ui) {\n",
       "            pass_mouse_events = false;\n",
       "        },\n",
       "        resize: function(event, ui) {\n",
       "            fig.request_resize(ui.size.width, ui.size.height);\n",
       "        },\n",
       "        stop: function(event, ui) {\n",
       "            pass_mouse_events = true;\n",
       "            fig.request_resize(ui.size.width, ui.size.height);\n",
       "        },\n",
       "    });\n",
       "\n",
       "    function mouse_event_fn(event) {\n",
       "        if (pass_mouse_events)\n",
       "            return fig.mouse_event(event, event['data']);\n",
       "    }\n",
       "\n",
       "    rubberband.mousedown('button_press', mouse_event_fn);\n",
       "    rubberband.mouseup('button_release', mouse_event_fn);\n",
       "    // Throttle sequential mouse events to 1 every 20ms.\n",
       "    rubberband.mousemove('motion_notify', mouse_event_fn);\n",
       "\n",
       "    rubberband.mouseenter('figure_enter', mouse_event_fn);\n",
       "    rubberband.mouseleave('figure_leave', mouse_event_fn);\n",
       "\n",
       "    canvas_div.on(\"wheel\", function (event) {\n",
       "        event = event.originalEvent;\n",
       "        event['data'] = 'scroll'\n",
       "        if (event.deltaY < 0) {\n",
       "            event.step = 1;\n",
       "        } else {\n",
       "            event.step = -1;\n",
       "        }\n",
       "        mouse_event_fn(event);\n",
       "    });\n",
       "\n",
       "    canvas_div.append(canvas);\n",
       "    canvas_div.append(rubberband);\n",
       "\n",
       "    this.rubberband = rubberband;\n",
       "    this.rubberband_canvas = rubberband[0];\n",
       "    this.rubberband_context = rubberband[0].getContext(\"2d\");\n",
       "    this.rubberband_context.strokeStyle = \"#000000\";\n",
       "\n",
       "    this._resize_canvas = function(width, height) {\n",
       "        // Keep the size of the canvas, canvas container, and rubber band\n",
       "        // canvas in synch.\n",
       "        canvas_div.css('width', width)\n",
       "        canvas_div.css('height', height)\n",
       "\n",
       "        canvas.attr('width', width * mpl.ratio);\n",
       "        canvas.attr('height', height * mpl.ratio);\n",
       "        canvas.attr('style', 'width: ' + width + 'px; height: ' + height + 'px;');\n",
       "\n",
       "        rubberband.attr('width', width);\n",
       "        rubberband.attr('height', height);\n",
       "    }\n",
       "\n",
       "    // Set the figure to an initial 600x600px, this will subsequently be updated\n",
       "    // upon first draw.\n",
       "    this._resize_canvas(600, 600);\n",
       "\n",
       "    // Disable right mouse context menu.\n",
       "    $(this.rubberband_canvas).bind(\"contextmenu\",function(e){\n",
       "        return false;\n",
       "    });\n",
       "\n",
       "    function set_focus () {\n",
       "        canvas.focus();\n",
       "        canvas_div.focus();\n",
       "    }\n",
       "\n",
       "    window.setTimeout(set_focus, 100);\n",
       "}\n",
       "\n",
       "mpl.figure.prototype._init_toolbar = function() {\n",
       "    var fig = this;\n",
       "\n",
       "    var nav_element = $('<div/>')\n",
       "    nav_element.attr('style', 'width: 100%');\n",
       "    this.root.append(nav_element);\n",
       "\n",
       "    // Define a callback function for later on.\n",
       "    function toolbar_event(event) {\n",
       "        return fig.toolbar_button_onclick(event['data']);\n",
       "    }\n",
       "    function toolbar_mouse_event(event) {\n",
       "        return fig.toolbar_button_onmouseover(event['data']);\n",
       "    }\n",
       "\n",
       "    for(var toolbar_ind in mpl.toolbar_items) {\n",
       "        var name = mpl.toolbar_items[toolbar_ind][0];\n",
       "        var tooltip = mpl.toolbar_items[toolbar_ind][1];\n",
       "        var image = mpl.toolbar_items[toolbar_ind][2];\n",
       "        var method_name = mpl.toolbar_items[toolbar_ind][3];\n",
       "\n",
       "        if (!name) {\n",
       "            // put a spacer in here.\n",
       "            continue;\n",
       "        }\n",
       "        var button = $('<button/>');\n",
       "        button.addClass('ui-button ui-widget ui-state-default ui-corner-all ' +\n",
       "                        'ui-button-icon-only');\n",
       "        button.attr('role', 'button');\n",
       "        button.attr('aria-disabled', 'false');\n",
       "        button.click(method_name, toolbar_event);\n",
       "        button.mouseover(tooltip, toolbar_mouse_event);\n",
       "\n",
       "        var icon_img = $('<span/>');\n",
       "        icon_img.addClass('ui-button-icon-primary ui-icon');\n",
       "        icon_img.addClass(image);\n",
       "        icon_img.addClass('ui-corner-all');\n",
       "\n",
       "        var tooltip_span = $('<span/>');\n",
       "        tooltip_span.addClass('ui-button-text');\n",
       "        tooltip_span.html(tooltip);\n",
       "\n",
       "        button.append(icon_img);\n",
       "        button.append(tooltip_span);\n",
       "\n",
       "        nav_element.append(button);\n",
       "    }\n",
       "\n",
       "    var fmt_picker_span = $('<span/>');\n",
       "\n",
       "    var fmt_picker = $('<select/>');\n",
       "    fmt_picker.addClass('mpl-toolbar-option ui-widget ui-widget-content');\n",
       "    fmt_picker_span.append(fmt_picker);\n",
       "    nav_element.append(fmt_picker_span);\n",
       "    this.format_dropdown = fmt_picker[0];\n",
       "\n",
       "    for (var ind in mpl.extensions) {\n",
       "        var fmt = mpl.extensions[ind];\n",
       "        var option = $(\n",
       "            '<option/>', {selected: fmt === mpl.default_extension}).html(fmt);\n",
       "        fmt_picker.append(option)\n",
       "    }\n",
       "\n",
       "    // Add hover states to the ui-buttons\n",
       "    $( \".ui-button\" ).hover(\n",
       "        function() { $(this).addClass(\"ui-state-hover\");},\n",
       "        function() { $(this).removeClass(\"ui-state-hover\");}\n",
       "    );\n",
       "\n",
       "    var status_bar = $('<span class=\"mpl-message\"/>');\n",
       "    nav_element.append(status_bar);\n",
       "    this.message = status_bar[0];\n",
       "}\n",
       "\n",
       "mpl.figure.prototype.request_resize = function(x_pixels, y_pixels) {\n",
       "    // Request matplotlib to resize the figure. Matplotlib will then trigger a resize in the client,\n",
       "    // which will in turn request a refresh of the image.\n",
       "    this.send_message('resize', {'width': x_pixels, 'height': y_pixels});\n",
       "}\n",
       "\n",
       "mpl.figure.prototype.send_message = function(type, properties) {\n",
       "    properties['type'] = type;\n",
       "    properties['figure_id'] = this.id;\n",
       "    this.ws.send(JSON.stringify(properties));\n",
       "}\n",
       "\n",
       "mpl.figure.prototype.send_draw_message = function() {\n",
       "    if (!this.waiting) {\n",
       "        this.waiting = true;\n",
       "        this.ws.send(JSON.stringify({type: \"draw\", figure_id: this.id}));\n",
       "    }\n",
       "}\n",
       "\n",
       "\n",
       "mpl.figure.prototype.handle_save = function(fig, msg) {\n",
       "    var format_dropdown = fig.format_dropdown;\n",
       "    var format = format_dropdown.options[format_dropdown.selectedIndex].value;\n",
       "    fig.ondownload(fig, format);\n",
       "}\n",
       "\n",
       "\n",
       "mpl.figure.prototype.handle_resize = function(fig, msg) {\n",
       "    var size = msg['size'];\n",
       "    if (size[0] != fig.canvas.width || size[1] != fig.canvas.height) {\n",
       "        fig._resize_canvas(size[0], size[1]);\n",
       "        fig.send_message(\"refresh\", {});\n",
       "    };\n",
       "}\n",
       "\n",
       "mpl.figure.prototype.handle_rubberband = function(fig, msg) {\n",
       "    var x0 = msg['x0'] / mpl.ratio;\n",
       "    var y0 = (fig.canvas.height - msg['y0']) / mpl.ratio;\n",
       "    var x1 = msg['x1'] / mpl.ratio;\n",
       "    var y1 = (fig.canvas.height - msg['y1']) / mpl.ratio;\n",
       "    x0 = Math.floor(x0) + 0.5;\n",
       "    y0 = Math.floor(y0) + 0.5;\n",
       "    x1 = Math.floor(x1) + 0.5;\n",
       "    y1 = Math.floor(y1) + 0.5;\n",
       "    var min_x = Math.min(x0, x1);\n",
       "    var min_y = Math.min(y0, y1);\n",
       "    var width = Math.abs(x1 - x0);\n",
       "    var height = Math.abs(y1 - y0);\n",
       "\n",
       "    fig.rubberband_context.clearRect(\n",
       "        0, 0, fig.canvas.width, fig.canvas.height);\n",
       "\n",
       "    fig.rubberband_context.strokeRect(min_x, min_y, width, height);\n",
       "}\n",
       "\n",
       "mpl.figure.prototype.handle_figure_label = function(fig, msg) {\n",
       "    // Updates the figure title.\n",
       "    fig.header.textContent = msg['label'];\n",
       "}\n",
       "\n",
       "mpl.figure.prototype.handle_cursor = function(fig, msg) {\n",
       "    var cursor = msg['cursor'];\n",
       "    switch(cursor)\n",
       "    {\n",
       "    case 0:\n",
       "        cursor = 'pointer';\n",
       "        break;\n",
       "    case 1:\n",
       "        cursor = 'default';\n",
       "        break;\n",
       "    case 2:\n",
       "        cursor = 'crosshair';\n",
       "        break;\n",
       "    case 3:\n",
       "        cursor = 'move';\n",
       "        break;\n",
       "    }\n",
       "    fig.rubberband_canvas.style.cursor = cursor;\n",
       "}\n",
       "\n",
       "mpl.figure.prototype.handle_message = function(fig, msg) {\n",
       "    fig.message.textContent = msg['message'];\n",
       "}\n",
       "\n",
       "mpl.figure.prototype.handle_draw = function(fig, msg) {\n",
       "    // Request the server to send over a new figure.\n",
       "    fig.send_draw_message();\n",
       "}\n",
       "\n",
       "mpl.figure.prototype.handle_image_mode = function(fig, msg) {\n",
       "    fig.image_mode = msg['mode'];\n",
       "}\n",
       "\n",
       "mpl.figure.prototype.updated_canvas_event = function() {\n",
       "    // Called whenever the canvas gets updated.\n",
       "    this.send_message(\"ack\", {});\n",
       "}\n",
       "\n",
       "// A function to construct a web socket function for onmessage handling.\n",
       "// Called in the figure constructor.\n",
       "mpl.figure.prototype._make_on_message_function = function(fig) {\n",
       "    return function socket_on_message(evt) {\n",
       "        if (evt.data instanceof Blob) {\n",
       "            /* FIXME: We get \"Resource interpreted as Image but\n",
       "             * transferred with MIME type text/plain:\" errors on\n",
       "             * Chrome.  But how to set the MIME type?  It doesn't seem\n",
       "             * to be part of the websocket stream */\n",
       "            evt.data.type = \"image/png\";\n",
       "\n",
       "            /* Free the memory for the previous frames */\n",
       "            if (fig.imageObj.src) {\n",
       "                (window.URL || window.webkitURL).revokeObjectURL(\n",
       "                    fig.imageObj.src);\n",
       "            }\n",
       "\n",
       "            fig.imageObj.src = (window.URL || window.webkitURL).createObjectURL(\n",
       "                evt.data);\n",
       "            fig.updated_canvas_event();\n",
       "            fig.waiting = false;\n",
       "            return;\n",
       "        }\n",
       "        else if (typeof evt.data === 'string' && evt.data.slice(0, 21) == \"data:image/png;base64\") {\n",
       "            fig.imageObj.src = evt.data;\n",
       "            fig.updated_canvas_event();\n",
       "            fig.waiting = false;\n",
       "            return;\n",
       "        }\n",
       "\n",
       "        var msg = JSON.parse(evt.data);\n",
       "        var msg_type = msg['type'];\n",
       "\n",
       "        // Call the  \"handle_{type}\" callback, which takes\n",
       "        // the figure and JSON message as its only arguments.\n",
       "        try {\n",
       "            var callback = fig[\"handle_\" + msg_type];\n",
       "        } catch (e) {\n",
       "            console.log(\"No handler for the '\" + msg_type + \"' message type: \", msg);\n",
       "            return;\n",
       "        }\n",
       "\n",
       "        if (callback) {\n",
       "            try {\n",
       "                // console.log(\"Handling '\" + msg_type + \"' message: \", msg);\n",
       "                callback(fig, msg);\n",
       "            } catch (e) {\n",
       "                console.log(\"Exception inside the 'handler_\" + msg_type + \"' callback:\", e, e.stack, msg);\n",
       "            }\n",
       "        }\n",
       "    };\n",
       "}\n",
       "\n",
       "// from http://stackoverflow.com/questions/1114465/getting-mouse-location-in-canvas\n",
       "mpl.findpos = function(e) {\n",
       "    //this section is from http://www.quirksmode.org/js/events_properties.html\n",
       "    var targ;\n",
       "    if (!e)\n",
       "        e = window.event;\n",
       "    if (e.target)\n",
       "        targ = e.target;\n",
       "    else if (e.srcElement)\n",
       "        targ = e.srcElement;\n",
       "    if (targ.nodeType == 3) // defeat Safari bug\n",
       "        targ = targ.parentNode;\n",
       "\n",
       "    // jQuery normalizes the pageX and pageY\n",
       "    // pageX,Y are the mouse positions relative to the document\n",
       "    // offset() returns the position of the element relative to the document\n",
       "    var x = e.pageX - $(targ).offset().left;\n",
       "    var y = e.pageY - $(targ).offset().top;\n",
       "\n",
       "    return {\"x\": x, \"y\": y};\n",
       "};\n",
       "\n",
       "/*\n",
       " * return a copy of an object with only non-object keys\n",
       " * we need this to avoid circular references\n",
       " * http://stackoverflow.com/a/24161582/3208463\n",
       " */\n",
       "function simpleKeys (original) {\n",
       "  return Object.keys(original).reduce(function (obj, key) {\n",
       "    if (typeof original[key] !== 'object')\n",
       "        obj[key] = original[key]\n",
       "    return obj;\n",
       "  }, {});\n",
       "}\n",
       "\n",
       "mpl.figure.prototype.mouse_event = function(event, name) {\n",
       "    var canvas_pos = mpl.findpos(event)\n",
       "\n",
       "    if (name === 'button_press')\n",
       "    {\n",
       "        this.canvas.focus();\n",
       "        this.canvas_div.focus();\n",
       "    }\n",
       "\n",
       "    var x = canvas_pos.x * mpl.ratio;\n",
       "    var y = canvas_pos.y * mpl.ratio;\n",
       "\n",
       "    this.send_message(name, {x: x, y: y, button: event.button,\n",
       "                             step: event.step,\n",
       "                             guiEvent: simpleKeys(event)});\n",
       "\n",
       "    /* This prevents the web browser from automatically changing to\n",
       "     * the text insertion cursor when the button is pressed.  We want\n",
       "     * to control all of the cursor setting manually through the\n",
       "     * 'cursor' event from matplotlib */\n",
       "    event.preventDefault();\n",
       "    return false;\n",
       "}\n",
       "\n",
       "mpl.figure.prototype._key_event_extra = function(event, name) {\n",
       "    // Handle any extra behaviour associated with a key event\n",
       "}\n",
       "\n",
       "mpl.figure.prototype.key_event = function(event, name) {\n",
       "\n",
       "    // Prevent repeat events\n",
       "    if (name == 'key_press')\n",
       "    {\n",
       "        if (event.which === this._key)\n",
       "            return;\n",
       "        else\n",
       "            this._key = event.which;\n",
       "    }\n",
       "    if (name == 'key_release')\n",
       "        this._key = null;\n",
       "\n",
       "    var value = '';\n",
       "    if (event.ctrlKey && event.which != 17)\n",
       "        value += \"ctrl+\";\n",
       "    if (event.altKey && event.which != 18)\n",
       "        value += \"alt+\";\n",
       "    if (event.shiftKey && event.which != 16)\n",
       "        value += \"shift+\";\n",
       "\n",
       "    value += 'k';\n",
       "    value += event.which.toString();\n",
       "\n",
       "    this._key_event_extra(event, name);\n",
       "\n",
       "    this.send_message(name, {key: value,\n",
       "                             guiEvent: simpleKeys(event)});\n",
       "    return false;\n",
       "}\n",
       "\n",
       "mpl.figure.prototype.toolbar_button_onclick = function(name) {\n",
       "    if (name == 'download') {\n",
       "        this.handle_save(this, null);\n",
       "    } else {\n",
       "        this.send_message(\"toolbar_button\", {name: name});\n",
       "    }\n",
       "};\n",
       "\n",
       "mpl.figure.prototype.toolbar_button_onmouseover = function(tooltip) {\n",
       "    this.message.textContent = tooltip;\n",
       "};\n",
       "mpl.toolbar_items = [[\"Home\", \"Reset original view\", \"fa fa-home icon-home\", \"home\"], [\"Back\", \"Back to previous view\", \"fa fa-arrow-left icon-arrow-left\", \"back\"], [\"Forward\", \"Forward to next view\", \"fa fa-arrow-right icon-arrow-right\", \"forward\"], [\"\", \"\", \"\", \"\"], [\"Pan\", \"Pan axes with left mouse, zoom with right\", \"fa fa-arrows icon-move\", \"pan\"], [\"Zoom\", \"Zoom to rectangle\", \"fa fa-square-o icon-check-empty\", \"zoom\"], [\"\", \"\", \"\", \"\"], [\"Download\", \"Download plot\", \"fa fa-floppy-o icon-save\", \"download\"]];\n",
       "\n",
       "mpl.extensions = [\"eps\", \"jpeg\", \"pdf\", \"png\", \"ps\", \"raw\", \"svg\", \"tif\"];\n",
       "\n",
       "mpl.default_extension = \"png\";var comm_websocket_adapter = function(comm) {\n",
       "    // Create a \"websocket\"-like object which calls the given IPython comm\n",
       "    // object with the appropriate methods. Currently this is a non binary\n",
       "    // socket, so there is still some room for performance tuning.\n",
       "    var ws = {};\n",
       "\n",
       "    ws.close = function() {\n",
       "        comm.close()\n",
       "    };\n",
       "    ws.send = function(m) {\n",
       "        //console.log('sending', m);\n",
       "        comm.send(m);\n",
       "    };\n",
       "    // Register the callback with on_msg.\n",
       "    comm.on_msg(function(msg) {\n",
       "        //console.log('receiving', msg['content']['data'], msg);\n",
       "        // Pass the mpl event to the overridden (by mpl) onmessage function.\n",
       "        ws.onmessage(msg['content']['data'])\n",
       "    });\n",
       "    return ws;\n",
       "}\n",
       "\n",
       "mpl.mpl_figure_comm = function(comm, msg) {\n",
       "    // This is the function which gets called when the mpl process\n",
       "    // starts-up an IPython Comm through the \"matplotlib\" channel.\n",
       "\n",
       "    var id = msg.content.data.id;\n",
       "    // Get hold of the div created by the display call when the Comm\n",
       "    // socket was opened in Python.\n",
       "    var element = $(\"#\" + id);\n",
       "    var ws_proxy = comm_websocket_adapter(comm)\n",
       "\n",
       "    function ondownload(figure, format) {\n",
       "        window.open(figure.imageObj.src);\n",
       "    }\n",
       "\n",
       "    var fig = new mpl.figure(id, ws_proxy,\n",
       "                           ondownload,\n",
       "                           element.get(0));\n",
       "\n",
       "    // Call onopen now - mpl needs it, as it is assuming we've passed it a real\n",
       "    // web socket which is closed, not our websocket->open comm proxy.\n",
       "    ws_proxy.onopen();\n",
       "\n",
       "    fig.parent_element = element.get(0);\n",
       "    fig.cell_info = mpl.find_output_cell(\"<div id='\" + id + \"'></div>\");\n",
       "    if (!fig.cell_info) {\n",
       "        console.error(\"Failed to find cell for figure\", id, fig);\n",
       "        return;\n",
       "    }\n",
       "\n",
       "    var output_index = fig.cell_info[2]\n",
       "    var cell = fig.cell_info[0];\n",
       "\n",
       "};\n",
       "\n",
       "mpl.figure.prototype.handle_close = function(fig, msg) {\n",
       "    var width = fig.canvas.width/mpl.ratio\n",
       "    fig.root.unbind('remove')\n",
       "\n",
       "    // Update the output cell to use the data from the current canvas.\n",
       "    fig.push_to_output();\n",
       "    var dataURL = fig.canvas.toDataURL();\n",
       "    // Re-enable the keyboard manager in IPython - without this line, in FF,\n",
       "    // the notebook keyboard shortcuts fail.\n",
       "    IPython.keyboard_manager.enable()\n",
       "    $(fig.parent_element).html('<img src=\"' + dataURL + '\" width=\"' + width + '\">');\n",
       "    fig.close_ws(fig, msg);\n",
       "}\n",
       "\n",
       "mpl.figure.prototype.close_ws = function(fig, msg){\n",
       "    fig.send_message('closing', msg);\n",
       "    // fig.ws.close()\n",
       "}\n",
       "\n",
       "mpl.figure.prototype.push_to_output = function(remove_interactive) {\n",
       "    // Turn the data on the canvas into data in the output cell.\n",
       "    var width = this.canvas.width/mpl.ratio\n",
       "    var dataURL = this.canvas.toDataURL();\n",
       "    this.cell_info[1]['text/html'] = '<img src=\"' + dataURL + '\" width=\"' + width + '\">';\n",
       "}\n",
       "\n",
       "mpl.figure.prototype.updated_canvas_event = function() {\n",
       "    // Tell IPython that the notebook contents must change.\n",
       "    IPython.notebook.set_dirty(true);\n",
       "    this.send_message(\"ack\", {});\n",
       "    var fig = this;\n",
       "    // Wait a second, then push the new image to the DOM so\n",
       "    // that it is saved nicely (might be nice to debounce this).\n",
       "    setTimeout(function () { fig.push_to_output() }, 1000);\n",
       "}\n",
       "\n",
       "mpl.figure.prototype._init_toolbar = function() {\n",
       "    var fig = this;\n",
       "\n",
       "    var nav_element = $('<div/>')\n",
       "    nav_element.attr('style', 'width: 100%');\n",
       "    this.root.append(nav_element);\n",
       "\n",
       "    // Define a callback function for later on.\n",
       "    function toolbar_event(event) {\n",
       "        return fig.toolbar_button_onclick(event['data']);\n",
       "    }\n",
       "    function toolbar_mouse_event(event) {\n",
       "        return fig.toolbar_button_onmouseover(event['data']);\n",
       "    }\n",
       "\n",
       "    for(var toolbar_ind in mpl.toolbar_items){\n",
       "        var name = mpl.toolbar_items[toolbar_ind][0];\n",
       "        var tooltip = mpl.toolbar_items[toolbar_ind][1];\n",
       "        var image = mpl.toolbar_items[toolbar_ind][2];\n",
       "        var method_name = mpl.toolbar_items[toolbar_ind][3];\n",
       "\n",
       "        if (!name) { continue; };\n",
       "\n",
       "        var button = $('<button class=\"btn btn-default\" href=\"#\" title=\"' + name + '\"><i class=\"fa ' + image + ' fa-lg\"></i></button>');\n",
       "        button.click(method_name, toolbar_event);\n",
       "        button.mouseover(tooltip, toolbar_mouse_event);\n",
       "        nav_element.append(button);\n",
       "    }\n",
       "\n",
       "    // Add the status bar.\n",
       "    var status_bar = $('<span class=\"mpl-message\" style=\"text-align:right; float: right;\"/>');\n",
       "    nav_element.append(status_bar);\n",
       "    this.message = status_bar[0];\n",
       "\n",
       "    // Add the close button to the window.\n",
       "    var buttongrp = $('<div class=\"btn-group inline pull-right\"></div>');\n",
       "    var button = $('<button class=\"btn btn-mini btn-primary\" href=\"#\" title=\"Stop Interaction\"><i class=\"fa fa-power-off icon-remove icon-large\"></i></button>');\n",
       "    button.click(function (evt) { fig.handle_close(fig, {}); } );\n",
       "    button.mouseover('Stop Interaction', toolbar_mouse_event);\n",
       "    buttongrp.append(button);\n",
       "    var titlebar = this.root.find($('.ui-dialog-titlebar'));\n",
       "    titlebar.prepend(buttongrp);\n",
       "}\n",
       "\n",
       "mpl.figure.prototype._root_extra_style = function(el){\n",
       "    var fig = this\n",
       "    el.on(\"remove\", function(){\n",
       "\tfig.close_ws(fig, {});\n",
       "    });\n",
       "}\n",
       "\n",
       "mpl.figure.prototype._canvas_extra_style = function(el){\n",
       "    // this is important to make the div 'focusable\n",
       "    el.attr('tabindex', 0)\n",
       "    // reach out to IPython and tell the keyboard manager to turn it's self\n",
       "    // off when our div gets focus\n",
       "\n",
       "    // location in version 3\n",
       "    if (IPython.notebook.keyboard_manager) {\n",
       "        IPython.notebook.keyboard_manager.register_events(el);\n",
       "    }\n",
       "    else {\n",
       "        // location in version 2\n",
       "        IPython.keyboard_manager.register_events(el);\n",
       "    }\n",
       "\n",
       "}\n",
       "\n",
       "mpl.figure.prototype._key_event_extra = function(event, name) {\n",
       "    var manager = IPython.notebook.keyboard_manager;\n",
       "    if (!manager)\n",
       "        manager = IPython.keyboard_manager;\n",
       "\n",
       "    // Check for shift+enter\n",
       "    if (event.shiftKey && event.which == 13) {\n",
       "        this.canvas_div.blur();\n",
       "        event.shiftKey = false;\n",
       "        // Send a \"J\" for go to next cell\n",
       "        event.which = 74;\n",
       "        event.keyCode = 74;\n",
       "        manager.command_mode();\n",
       "        manager.handle_keydown(event);\n",
       "    }\n",
       "}\n",
       "\n",
       "mpl.figure.prototype.handle_save = function(fig, msg) {\n",
       "    fig.ondownload(fig, null);\n",
       "}\n",
       "\n",
       "\n",
       "mpl.find_output_cell = function(html_output) {\n",
       "    // Return the cell and output element which can be found *uniquely* in the notebook.\n",
       "    // Note - this is a bit hacky, but it is done because the \"notebook_saving.Notebook\"\n",
       "    // IPython event is triggered only after the cells have been serialised, which for\n",
       "    // our purposes (turning an active figure into a static one), is too late.\n",
       "    var cells = IPython.notebook.get_cells();\n",
       "    var ncells = cells.length;\n",
       "    for (var i=0; i<ncells; i++) {\n",
       "        var cell = cells[i];\n",
       "        if (cell.cell_type === 'code'){\n",
       "            for (var j=0; j<cell.output_area.outputs.length; j++) {\n",
       "                var data = cell.output_area.outputs[j];\n",
       "                if (data.data) {\n",
       "                    // IPython >= 3 moved mimebundle to data attribute of output\n",
       "                    data = data.data;\n",
       "                }\n",
       "                if (data['text/html'] == html_output) {\n",
       "                    return [cell, data, j];\n",
       "                }\n",
       "            }\n",
       "        }\n",
       "    }\n",
       "}\n",
       "\n",
       "// Register the function which deals with the matplotlib target/channel.\n",
       "// The kernel may be null if the page has been refreshed.\n",
       "if (IPython.notebook.kernel != null) {\n",
       "    IPython.notebook.kernel.comm_manager.register_target('matplotlib', mpl.mpl_figure_comm);\n",
       "}\n"
      ],
      "text/plain": [
       "<IPython.core.display.Javascript object>"
      ]
     },
     "metadata": {},
     "output_type": "display_data"
    },
    {
     "data": {
      "text/html": [
       "<img src=\"data:image/png;base64,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\" width=\"431.818172458775\">"
      ],
      "text/plain": [
       "<IPython.core.display.HTML object>"
      ]
     },
     "metadata": {},
     "output_type": "display_data"
    }
   ],
   "source": [
    "plot_iteration(a.rel_err, min_it=1000)"
   ]
  },
  {
   "cell_type": "code",
   "execution_count": null,
   "metadata": {},
   "outputs": [],
   "source": []
  },
  {
   "cell_type": "code",
   "execution_count": null,
   "metadata": {},
   "outputs": [],
   "source": []
  },
  {
   "cell_type": "code",
   "execution_count": null,
   "metadata": {},
   "outputs": [],
   "source": []
  },
  {
   "cell_type": "code",
   "execution_count": null,
   "metadata": {},
   "outputs": [],
   "source": []
  },
  {
   "cell_type": "code",
   "execution_count": null,
   "metadata": {},
   "outputs": [],
   "source": []
  },
  {
   "cell_type": "code",
   "execution_count": null,
   "metadata": {},
   "outputs": [],
   "source": []
  },
  {
   "cell_type": "code",
   "execution_count": null,
   "metadata": {},
   "outputs": [],
   "source": []
  },
  {
   "cell_type": "code",
   "execution_count": null,
   "metadata": {},
   "outputs": [],
   "source": []
  },
  {
   "cell_type": "code",
   "execution_count": null,
   "metadata": {},
   "outputs": [],
   "source": []
  },
  {
   "cell_type": "code",
   "execution_count": null,
   "metadata": {},
   "outputs": [],
   "source": [
    "p1 = np.load('output/20191223-1714_eq1_1_nn_params.npz')['arr_0']\n",
    "p2 = np.load('output/20191223-1714_eq1_2_nn_params.npz')['arr_0']\n",
    "p3 = np.load('output/20191223-1714_eq1_3_nn_params.npz')['arr_0']\n",
    "p4 = np.load('output/20191223-1730_eq1_4_nn_params.npz')['arr_0']\n",
    "p5 = np.load('output/20191223-1730_eq1_5_nn_params.npz')['arr_0']\n",
    "p6 = np.load('output/20191223-1731_eq1_6_nn_params.npz')['arr_0']\n",
    "p7 = np.load('output/20191223-1731_eq1_7_nn_params.npz')['arr_0']"
   ]
  },
  {
   "cell_type": "code",
   "execution_count": null,
   "metadata": {},
   "outputs": [],
   "source": [
    "plot_partitions(p1)"
   ]
  },
  {
   "cell_type": "code",
   "execution_count": null,
   "metadata": {},
   "outputs": [],
   "source": []
  },
  {
   "cell_type": "code",
   "execution_count": null,
   "metadata": {},
   "outputs": [],
   "source": []
  },
  {
   "cell_type": "code",
   "execution_count": null,
   "metadata": {},
   "outputs": [],
   "source": []
  },
  {
   "cell_type": "code",
   "execution_count": null,
   "metadata": {},
   "outputs": [],
   "source": []
  },
  {
   "cell_type": "code",
   "execution_count": 44,
   "metadata": {},
   "outputs": [],
   "source": [
    "name_str = 'L97_eq1_6_v1'\n",
    "a.save_result(name_str)\n",
    "\n",
    "timestr = time.strftime(\"%Y%m%d-%H%M\")\n",
    "np.savez('output/'+ timestr + '_' + name_str + '_momentum.npz', a.m_t)\n",
    "np.savez('output/'+ timestr + '_' + name_str + '_p_list.npz', p)"
   ]
  },
  {
   "cell_type": "code",
   "execution_count": null,
   "metadata": {},
   "outputs": [],
   "source": [
    "name_str = '20200716-2122_eq1_1'\n",
    "\n",
    "a.p = np.load('output/' + name_str + '_v1_nn_params.npz')['arr_0']\n",
    "a.cost_rate = np.load('output/' + name_str + '_v1_cost_rate.npz')['arr_0']\n",
    "a.rel_err = np.load('output/' + name_str + '_v1_rel_err.npz')['arr_0']\n",
    "a.m_t = np.load('output/' + name_str + '_v1_momentum.npz')['arr_0']\n",
    "p = np.load('output/' + name_str + '_v1_p_list.npz')['arr_0']"
   ]
  },
  {
   "cell_type": "code",
   "execution_count": null,
   "metadata": {},
   "outputs": [],
   "source": []
  },
  {
   "cell_type": "code",
   "execution_count": null,
   "metadata": {},
   "outputs": [],
   "source": []
  }
 ],
 "metadata": {
  "kernelspec": {
   "display_name": "Python 3",
   "language": "python",
   "name": "python3"
  },
  "language_info": {
   "codemirror_mode": {
    "name": "ipython",
    "version": 3
   },
   "file_extension": ".py",
   "mimetype": "text/x-python",
   "name": "python",
   "nbconvert_exporter": "python",
   "pygments_lexer": "ipython3",
   "version": "3.6.7"
  },
  "notify_time": "30",
  "toc": {
   "base_numbering": 1,
   "nav_menu": {},
   "number_sections": true,
   "sideBar": true,
   "skip_h1_title": false,
   "title_cell": "Table of Contents",
   "title_sidebar": "Contents",
   "toc_cell": false,
   "toc_position": {
    "height": "calc(100% - 180px)",
    "left": "10px",
    "top": "150px",
    "width": "216.797px"
   },
   "toc_section_display": true,
   "toc_window_display": false
  },
  "varInspector": {
   "cols": {
    "lenName": 16,
    "lenType": 16,
    "lenVar": 40
   },
   "kernels_config": {
    "python": {
     "delete_cmd_postfix": "",
     "delete_cmd_prefix": "del ",
     "library": "var_list.py",
     "varRefreshCmd": "print(var_dic_list())"
    },
    "r": {
     "delete_cmd_postfix": ") ",
     "delete_cmd_prefix": "rm(",
     "library": "var_list.r",
     "varRefreshCmd": "cat(var_dic_list()) "
    }
   },
   "types_to_exclude": [
    "module",
    "function",
    "builtin_function_or_method",
    "instance",
    "_Feature"
   ],
   "window_display": false
  }
 },
 "nbformat": 4,
 "nbformat_minor": 2
}
