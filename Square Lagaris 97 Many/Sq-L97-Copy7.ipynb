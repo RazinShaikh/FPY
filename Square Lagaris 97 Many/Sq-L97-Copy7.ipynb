{
 "cells": [
  {
   "cell_type": "markdown",
   "metadata": {
    "heading_collapsed": true,
    "slideshow": {
     "slide_type": "-"
    }
   },
   "source": [
    "# Imports"
   ]
  },
  {
   "cell_type": "code",
   "execution_count": 1,
   "metadata": {
    "hidden": true
   },
   "outputs": [
    {
     "name": "stdout",
     "output_type": "stream",
     "text": [
      "Pixiedust database opened successfully\n"
     ]
    },
    {
     "data": {
      "text/html": [
       "\n",
       "        <div style=\"margin:10px\">\n",
       "            <a href=\"https://github.com/ibm-watson-data-lab/pixiedust\" target=\"_new\">\n",
       "                <img src=\"https://github.com/ibm-watson-data-lab/pixiedust/raw/master/docs/_static/pd_icon32.png\" style=\"float:left;margin-right:10px\"/>\n",
       "            </a>\n",
       "            <span>Pixiedust version 1.1.14</span>\n",
       "        </div>\n",
       "        "
      ],
      "text/plain": [
       "<IPython.core.display.HTML object>"
      ]
     },
     "metadata": {},
     "output_type": "display_data"
    },
    {
     "data": {
      "text/html": [
       "<div>Warning: You are not running the latest version of PixieDust. Current is 1.1.14, Latest is 1.1.18</div>"
      ],
      "text/plain": [
       "<IPython.core.display.HTML object>"
      ]
     },
     "metadata": {},
     "output_type": "display_data"
    },
    {
     "data": {
      "text/html": [
       "\n",
       "                <div>Please copy and run the following command in a new cell to upgrade: <span style=\"background-color:#ececec;font-family:monospace;padding:0 5px\">!pip install --user --upgrade pixiedust</span></div>\n",
       "            "
      ],
      "text/plain": [
       "<IPython.core.display.HTML object>"
      ]
     },
     "metadata": {},
     "output_type": "display_data"
    },
    {
     "data": {
      "text/html": [
       "<div>Please restart kernel after upgrading.</div>"
      ],
      "text/plain": [
       "<IPython.core.display.HTML object>"
      ]
     },
     "metadata": {},
     "output_type": "display_data"
    }
   ],
   "source": [
    "import copy\n",
    "import numpy as np\n",
    "import itertools\n",
    "import time\n",
    "from matplotlib import pyplot as plt\n",
    "from mpl_toolkits.mplot3d import Axes3D\n",
    "from matplotlib import cm\n",
    "import pixiedust"
   ]
  },
  {
   "cell_type": "markdown",
   "metadata": {
    "heading_collapsed": true
   },
   "source": [
    "# Introduction"
   ]
  },
  {
   "cell_type": "markdown",
   "metadata": {
    "hidden": true
   },
   "source": [
    "Consider the following equation:\n",
    "$$\\Delta_p \\Psi(x,y)=f(x,y)$$\n",
    "\n",
    "$x \\in [0,1],\\ y \\in [0,1]$ with *Dirichlet* BC: $\\Psi(0,y) = 0$, $\\Psi(1,y) = 0$, $\\Psi(x,0) = 0$ and $\\Psi(x,1) = 0$.\n",
    "\n",
    "For this first attempt, we will take $p=2$."
   ]
  },
  {
   "cell_type": "markdown",
   "metadata": {
    "heading_collapsed": true
   },
   "source": [
    "# Defining functions"
   ]
  },
  {
   "cell_type": "markdown",
   "metadata": {
    "heading_collapsed": true,
    "hidden": true
   },
   "source": [
    "## Sigmoid"
   ]
  },
  {
   "cell_type": "markdown",
   "metadata": {
    "hidden": true
   },
   "source": [
    "Sigmoid $\\sigma(x) = \\frac{1}{1+e^{-x}}$ and its derrivatives."
   ]
  },
  {
   "cell_type": "markdown",
   "metadata": {
    "hidden": true
   },
   "source": [
    "Sigmoid with parameter $t$\n",
    "$$ \\sigma_t(x) = \\frac{1}{1+e^{-tx}}$$"
   ]
  },
  {
   "cell_type": "code",
   "execution_count": 2,
   "metadata": {
    "hidden": true
   },
   "outputs": [],
   "source": [
    "T = 1"
   ]
  },
  {
   "cell_type": "code",
   "execution_count": 3,
   "metadata": {
    "hidden": true
   },
   "outputs": [],
   "source": [
    "def sig(x):\n",
    "    return 1 / (1 + np.exp(-T*x))\n",
    "\n",
    "def sig1(x):\n",
    "    return T * sig(x) * (1 - sig(x))\n",
    "\n",
    "def sig2(x):\n",
    "    return T * (sig1(x) - 2*sig(x)*sig1(x))\n",
    "\n",
    "def sig3(x):\n",
    "    return T * (sig2(x) - 2 * (sig1(x)**2 + sig(x) * sig2(x)))\n",
    "\n",
    "def sig_pr(x, k):\n",
    "    if k==0:\n",
    "        return sig(x)\n",
    "    if k==1:\n",
    "        return sig1(x)\n",
    "    if k==2:\n",
    "        return sig2(x)\n",
    "    if k==3:\n",
    "        return sig3(x)"
   ]
  },
  {
   "cell_type": "markdown",
   "metadata": {
    "heading_collapsed": true,
    "hidden": true
   },
   "source": [
    "## RHS"
   ]
  },
  {
   "cell_type": "markdown",
   "metadata": {
    "hidden": true
   },
   "source": [
    "The right side of the equation:  $\\Delta\\Psi(x,y) = 6 x (x-1) (1-2 y) + 2 y (y-1) (1-2 y)$"
   ]
  },
  {
   "cell_type": "code",
   "execution_count": 4,
   "metadata": {
    "hidden": true
   },
   "outputs": [],
   "source": [
    "K=1\n",
    "def f(x, y):\n",
    "    return K * (6*(x-1)*x*(1-2*y) + 2*(y-1)*y*(1-2*y))"
   ]
  },
  {
   "cell_type": "markdown",
   "metadata": {
    "hidden": true
   },
   "source": [
    "The analytic solution is given by: $\\ \\Psi_a(x,y) = x (1-x) y (1-y) (1-2 y)$"
   ]
  },
  {
   "cell_type": "code",
   "execution_count": 5,
   "metadata": {
    "hidden": true
   },
   "outputs": [],
   "source": [
    "def psi_a(x, y):\n",
    "    return K * x*(1-x)*y*(1-y)*(1-2*y)"
   ]
  },
  {
   "cell_type": "markdown",
   "metadata": {
    "hidden": true
   },
   "source": [
    "$$\\frac{\\partial}{\\partial x} \\Psi_a = (1-2x) y (1-y) (1-2 y)$$"
   ]
  },
  {
   "cell_type": "code",
   "execution_count": 6,
   "metadata": {
    "hidden": true
   },
   "outputs": [],
   "source": [
    "def psi_a_dx(x,y):\n",
    "    return K * (1-2*x)*y*(1-y)*(1-2*y)"
   ]
  },
  {
   "cell_type": "markdown",
   "metadata": {
    "hidden": true
   },
   "source": [
    "$$\\frac{\\partial}{\\partial y} \\Psi_a = x (1-x) (1-6y + 6y^2) $$"
   ]
  },
  {
   "cell_type": "code",
   "execution_count": 7,
   "metadata": {
    "hidden": true
   },
   "outputs": [],
   "source": [
    "def psi_a_dy(x,y):\n",
    "    return K * x*(1-x)*(1-6*y+6*(y**2))"
   ]
  },
  {
   "cell_type": "markdown",
   "metadata": {
    "heading_collapsed": true,
    "hidden": true
   },
   "source": [
    "## Neural Network"
   ]
  },
  {
   "cell_type": "markdown",
   "metadata": {
    "hidden": true
   },
   "source": [
    "The output of neural network $N(x,y,\\vec{p})$, where $\\vec{p} = [w, u, v]$:\n",
    "$$N = \\sum_i^H v_i \\sigma(z_i) \\text{, where } z_i = w_{i0} x + w_{i1} y + u_i$$"
   ]
  },
  {
   "cell_type": "code",
   "execution_count": 8,
   "metadata": {
    "code_folding": [],
    "hidden": true
   },
   "outputs": [],
   "source": [
    "def z(x, y, p):\n",
    "    z_x = np.multiply(x, p[0][0])\n",
    "    z_y = np.multiply(y, p[0][1])\n",
    "    z_ = np.array([z_x, z_y, p[1]]).sum(axis=0)\n",
    "    return z_\n",
    "\n",
    "def N(x, y, p):\n",
    "    return np.sum(np.multiply(sig(z(x,y,p)), p[2]))"
   ]
  },
  {
   "cell_type": "markdown",
   "metadata": {
    "hidden": true
   },
   "source": [
    "$$\\frac{\\partial^k N}{\\partial x_j^k} = \\sum_{i=1}^H v_i w_{ij}^k \\sigma^{(k)}$$"
   ]
  },
  {
   "cell_type": "code",
   "execution_count": 9,
   "metadata": {
    "code_folding": [],
    "hidden": true
   },
   "outputs": [],
   "source": [
    "def dN_dxj_k(x, y, p, j, k):\n",
    "    wj = p[0][j]\n",
    "    v = p[2]\n",
    "    z_ = z(x, y, p)\n",
    "    \n",
    "    return np.sum(v * (wj**k) * sig_pr(z_, k))"
   ]
  },
  {
   "cell_type": "markdown",
   "metadata": {
    "hidden": true
   },
   "source": [
    "$$\\frac{\\partial N}{\\partial w_j} = x_j v \\sigma '$$"
   ]
  },
  {
   "cell_type": "code",
   "execution_count": 10,
   "metadata": {
    "code_folding": [],
    "hidden": true
   },
   "outputs": [],
   "source": [
    "def dN_dwj(x, y, p, j):\n",
    "    xj = x if j==0 else y\n",
    "    v = p[2]\n",
    "    z_ = z(x, y, p)\n",
    "    return xj * v * sig1(z_)"
   ]
  },
  {
   "cell_type": "markdown",
   "metadata": {
    "hidden": true
   },
   "source": [
    "$$ \\frac{\\partial}{\\partial w_j} \\frac{\\partial N}{\\partial x_k} = x_j v w_k \\sigma'' + v_i \\sigma' \\quad\\text{ if } j = k$$\n",
    "\n",
    "$$ \\frac{\\partial}{\\partial w_j} \\frac{\\partial N}{\\partial x_k} = x_j v w_k \\sigma'' \\quad\\text{ if } j \\neq k$$"
   ]
  },
  {
   "cell_type": "code",
   "execution_count": 11,
   "metadata": {
    "code_folding": [],
    "hidden": true
   },
   "outputs": [],
   "source": [
    "def d_dwj_dN_dxk(x, y, p, j, k):\n",
    "    xj = x if j==0 else y\n",
    "    wk = p[0][k]\n",
    "    jk = 1 if j==k else 0\n",
    "    v = p[2]\n",
    "    z_ = z(x, y, p)\n",
    "    return xj * v * wk * sig2(z_) + jk * v * sig1(z_)"
   ]
  },
  {
   "cell_type": "markdown",
   "metadata": {
    "hidden": true
   },
   "source": [
    "$$ \\frac{\\partial}{\\partial w_j} \\frac{\\partial^2 N}{\\partial x_k^2} = x_j v w_k^2 \\sigma^{(3)} + 2 v w_k \\sigma'' \\quad\\text{ if } j = k $$\n",
    "\n",
    "$$ \\frac{\\partial}{\\partial w_j} \\frac{\\partial^2 N}{\\partial x_k^2} = x_j v w_k^2 \\sigma^{(3)} \\quad\\text{ if } j \\neq k $$"
   ]
  },
  {
   "cell_type": "code",
   "execution_count": 12,
   "metadata": {
    "code_folding": [],
    "hidden": true
   },
   "outputs": [],
   "source": [
    "def d_dwj_dN2_dxk2(x, y, p, j, k):\n",
    "    xj = x if j==0 else y\n",
    "    wk = p[0][k]\n",
    "    jk = 1 if j==k else 0\n",
    "    v = p[2]\n",
    "    z_ = z(x, y, p)\n",
    "    return xj * v * (wk**2) * sig3(z_) + jk * 2 * v * wk * sig2(z_)"
   ]
  },
  {
   "cell_type": "markdown",
   "metadata": {
    "hidden": true
   },
   "source": [
    "$$ \\frac{\\partial}{\\partial u} \\frac{\\partial^k}{\\partial x_j^k} N = v w_j^k \\sigma^{(k+1)} $$"
   ]
  },
  {
   "cell_type": "code",
   "execution_count": 13,
   "metadata": {
    "code_folding": [],
    "hidden": true
   },
   "outputs": [],
   "source": [
    "def d_du_dkN(x, y, p, j, k):\n",
    "    v = p[2]\n",
    "    wj = p[0][j]\n",
    "    z_ = z(x, y, p)\n",
    "    return v * (wj**k) * sig_pr(z_, k+1)"
   ]
  },
  {
   "cell_type": "markdown",
   "metadata": {
    "hidden": true
   },
   "source": [
    "$$ \\frac{\\partial}{\\partial v} \\frac{\\partial^k}{\\partial x_j^k} N = w_j^k \\sigma^{(k)} $$"
   ]
  },
  {
   "cell_type": "code",
   "execution_count": 14,
   "metadata": {
    "code_folding": [],
    "hidden": true
   },
   "outputs": [],
   "source": [
    "def d_dv_dkN(x, y, p, j, k):\n",
    "    wj = p[0][j]\n",
    "    z_ = z(x, y, p)\n",
    "    return (wj**k) * sig_pr(z_, k)"
   ]
  },
  {
   "cell_type": "markdown",
   "metadata": {
    "heading_collapsed": true,
    "hidden": true
   },
   "source": [
    "## Trial solution"
   ]
  },
  {
   "cell_type": "markdown",
   "metadata": {
    "hidden": true
   },
   "source": [
    "The trial solution is given by: $$\\Psi_t(x,y) = x(1-x)y(1-y)N(x,y,\\vec{p})$$"
   ]
  },
  {
   "cell_type": "code",
   "execution_count": 15,
   "metadata": {
    "hidden": true
   },
   "outputs": [],
   "source": [
    "def psi_t(x, y, p):\n",
    "    return x * (1-x) * y * (1-y) * N(x, y, p)"
   ]
  },
  {
   "cell_type": "markdown",
   "metadata": {
    "hidden": true
   },
   "source": [
    "$$\\frac{\\partial \\Psi_t}{\\partial x_j} = y_j(1-y_j)\\left[ (1-2x_j) N + x_j (1-x_j) \\frac{\\partial N}{\\partial x_j} \\right]$$"
   ]
  },
  {
   "cell_type": "code",
   "execution_count": 16,
   "metadata": {
    "hidden": true
   },
   "outputs": [],
   "source": [
    "def dPsi_dxj(x, y, p, j):\n",
    "    xj = x if j==0 else y\n",
    "    yj = y if j==0 else x\n",
    "    return yj*(1-yj)*((1-2*xj)*N(x,y,p) + xj*(1-xj)*dN_dxj_k(x,y,p,j,1))"
   ]
  },
  {
   "cell_type": "markdown",
   "metadata": {
    "hidden": true
   },
   "source": [
    "$$\\frac{\\partial^2 \\Psi_t}{\\partial x_j^2} = y_j(1-y_j)\\left[ -2N + (2-4x_j) \\frac{\\partial N}{\\partial x_j} + x_j (1-x_j) \\frac{\\partial^2 N}{\\partial x_j^2} \\right]$$"
   ]
  },
  {
   "cell_type": "code",
   "execution_count": 17,
   "metadata": {
    "hidden": true
   },
   "outputs": [],
   "source": [
    "def dPsi2_dxj2(x, y, p, j):\n",
    "    xj = x if j==0 else y\n",
    "    yj = y if j==0 else x\n",
    "    return yj*(1-yj)*(-2*N(x,y,p) + (2-4*xj)*dN_dxj_k(x,y,p,j,1) + xj*(1-xj)*dN_dxj_k(x,y,p,j,2))"
   ]
  },
  {
   "cell_type": "markdown",
   "metadata": {
    "heading_collapsed": true,
    "hidden": true
   },
   "source": [
    "## Cost function"
   ]
  },
  {
   "cell_type": "markdown",
   "metadata": {
    "hidden": true
   },
   "source": [
    "$$E[\\vec{p}] = \\sum_{i \\in \\hat{D}} \\left\\{ \\frac{\\partial^2 \\Psi_t}{\\partial x^2} + \\frac{\\partial^2 \\Psi_t}{\\partial y^2} - f(x,y) \\right\\}^2 $$"
   ]
  },
  {
   "cell_type": "code",
   "execution_count": 18,
   "metadata": {
    "hidden": true
   },
   "outputs": [],
   "source": [
    "def error(x, y, p):\n",
    "    return dPsi2_dxj2(x,y,p,0) + dPsi2_dxj2(x,y,p,1) - f(x,y)"
   ]
  },
  {
   "cell_type": "code",
   "execution_count": 19,
   "metadata": {
    "code_folding": [],
    "hidden": true
   },
   "outputs": [],
   "source": [
    "def cost(points, p):\n",
    "    err = []\n",
    "    for x, y in points:\n",
    "        err_sq = error(x, y, p)**2\n",
    "        err.append(err_sq)\n",
    "        \n",
    "    cost = sum(err)\n",
    "    \n",
    "    return cost"
   ]
  },
  {
   "cell_type": "code",
   "execution_count": 20,
   "metadata": {
    "hidden": true
   },
   "outputs": [],
   "source": [
    "def relative_err(p, nx=100, all_points=None):\n",
    "    if all_points == None:\n",
    "        all_points = list(itertools.product(np.linspace(0, 1, nx), np.linspace(0, 1, nx)))\n",
    "\n",
    "    dOmega = 1. / len(all_points)\n",
    "\n",
    "    trial1 = np.sum(dOmega*np.array([np.linalg.norm(psi_t(x,y,p) - psi_a(x,y))**2\n",
    "                                     for x, y in all_points]))\n",
    "\n",
    "    trial2 = np.sum([dOmega*((dPsi_dxj(x,y,p,0)-psi_a_dx(x,y))**2 +\n",
    "                             (dPsi_dxj(x,y,p,1)-psi_a_dy(x,y))**2)\n",
    "                     for x, y in all_points])\n",
    "\n",
    "    ana1 = np.sum(dOmega*np.array([np.linalg.norm(psi_a(x,y))**2\n",
    "                                         for x, y in all_points]))\n",
    "    ana2 = np.sum([dOmega*(psi_a_dx(x,y)**2 + psi_a_dy(x,y)**2)\n",
    "                   for x, y in all_points])\n",
    "    \n",
    "    rel_err = (trial1 + trial2)**(1/2) / (ana1 + ana2)**(1/2)\n",
    "    \n",
    "    return rel_err"
   ]
  },
  {
   "cell_type": "markdown",
   "metadata": {
    "heading_collapsed": true
   },
   "source": [
    "# Gradients"
   ]
  },
  {
   "cell_type": "markdown",
   "metadata": {
    "hidden": true
   },
   "source": [
    "$$\\frac{\\partial}{\\partial w_j} \\frac{\\partial^2 \\Psi_t}{\\partial x_k^2} = y_k(1-y_k)\\left[ -2\\frac{\\partial N}{\\partial w_j} + (2-4x_k) \\frac{\\partial}{\\partial w_j} \\frac{\\partial N}{\\partial x_k} + x_k(1-x_k) \\frac{\\partial}{\\partial w_j} \\frac{\\partial^2 N}{\\partial x_k^2} \\right]$$"
   ]
  },
  {
   "cell_type": "code",
   "execution_count": 21,
   "metadata": {
    "hidden": true
   },
   "outputs": [],
   "source": [
    "def d_dwj_dPsi2_dxk2(x, y, p, j, k):\n",
    "    xj = x if k==0 else y\n",
    "    yj = y if k==0 else x\n",
    "    return yj*(1-yj)*(-2*dN_dwj(x,y,p,j) + (2-4*xj)*d_dwj_dN_dxk(x,y,p,j,k) + xj*(1-xj)*d_dwj_dN2_dxk2(x,y,p,j,k))"
   ]
  },
  {
   "cell_type": "markdown",
   "metadata": {
    "hidden": true
   },
   "source": [
    "$$\\frac{\\partial}{\\partial u} \\frac{\\partial^2 \\Psi_t}{\\partial x_k^2} = y_k(1-y_k)\\left[ -2\\frac{\\partial N}{\\partial u} + (2-4x_k) \\frac{\\partial}{\\partial u} \\frac{\\partial N}{\\partial x_k} + x_k(1-x_k) \\frac{\\partial}{\\partial u} \\frac{\\partial^2 N}{\\partial x_k^2} \\right]$$"
   ]
  },
  {
   "cell_type": "code",
   "execution_count": 22,
   "metadata": {
    "hidden": true
   },
   "outputs": [],
   "source": [
    "def d_du_dPsi2_dxk2(x, y, p, k):\n",
    "    xj = x if k==0 else y\n",
    "    yj = y if k==0 else x\n",
    "    return yj*(1-yj)*(-2*d_du_dkN(x,y,p,k,0) + (2-4*xj)*d_du_dkN(x,y,p,k,1) + xj*(1-xj)*d_du_dkN(x,y,p,k,2))"
   ]
  },
  {
   "cell_type": "markdown",
   "metadata": {
    "hidden": true
   },
   "source": [
    "$$\\frac{\\partial}{\\partial v} \\frac{\\partial^2 \\Psi_t}{\\partial x_k^2} = y_k(1-y_k)\\left[ -2\\frac{\\partial N}{\\partial v} + (2-4x_k) \\frac{\\partial}{\\partial v} \\frac{\\partial N}{\\partial x_k} + x_k(1-x_k) \\frac{\\partial}{\\partial v} \\frac{\\partial^2 N}{\\partial x_k^2} \\right]$$"
   ]
  },
  {
   "cell_type": "code",
   "execution_count": 23,
   "metadata": {
    "hidden": true
   },
   "outputs": [],
   "source": [
    "def d_dv_dPsi2_dxk2(x, y, p, k):\n",
    "    xj = x if k==0 else y\n",
    "    yj = y if k==0 else x\n",
    "    return yj*(1-yj)*(-2*d_dv_dkN(x,y,p,k,0) + (2-4*xj)*d_dv_dkN(x,y,p,k,1) + xj*(1-xj)*d_dv_dkN(x,y,p,k,2))"
   ]
  },
  {
   "cell_type": "markdown",
   "metadata": {
    "hidden": true
   },
   "source": [
    "$$ \\frac{\\partial E[\\vec{p}]}{\\partial w_j} = \\sum_{i \\in \\hat{D}} \\left\\{ 2 \\text{ (error) } \\left( \\frac{\\partial}{\\partial w_j} \\frac{\\partial^2 \\Psi_t}{\\partial x^2} + \\frac{\\partial}{\\partial w_j} \\frac{\\partial^2 \\Psi_t}{\\partial y^2} \\right) \\right\\}$$"
   ]
  },
  {
   "cell_type": "code",
   "execution_count": 24,
   "metadata": {
    "code_folding": [],
    "hidden": true
   },
   "outputs": [],
   "source": [
    "def dE_dwj(points, p, j):\n",
    "    t1 = []\n",
    "    for x, y in points:\n",
    "        tmp = 2 * error(x,y,p) * (d_dwj_dPsi2_dxk2(x,y,p,j,0) + \n",
    "                                  d_dwj_dPsi2_dxk2(x,y,p,j,1))\n",
    "        t1.append(tmp)\n",
    "    \n",
    "    grad = sum(t1)\n",
    "    \n",
    "    return grad"
   ]
  },
  {
   "cell_type": "markdown",
   "metadata": {
    "hidden": true
   },
   "source": [
    "$$ \\frac{\\partial E[\\vec{p}]}{\\partial u} = \\sum_{i \\in \\hat{D}} \\left\\{ 2 \\text{ (error) } \\left( \\frac{\\partial}{\\partial u} \\frac{\\partial^2 \\Psi_t}{\\partial x^2} + \\frac{\\partial}{\\partial u} \\frac{\\partial^2 \\Psi_t}{\\partial y^2} \\right) \\right\\}$$"
   ]
  },
  {
   "cell_type": "code",
   "execution_count": 25,
   "metadata": {
    "code_folding": [],
    "hidden": true
   },
   "outputs": [],
   "source": [
    "def dE_du(points, p):\n",
    "    t1 = []\n",
    "    for x, y in points:\n",
    "        tmp = 2 * error(x,y,p) * (d_du_dPsi2_dxk2(x,y,p,0) + \n",
    "                                  d_du_dPsi2_dxk2(x,y,p,1))\n",
    "        t1.append(tmp)\n",
    "    \n",
    "    grad = sum(t1)\n",
    "    \n",
    "    return grad"
   ]
  },
  {
   "cell_type": "markdown",
   "metadata": {
    "hidden": true
   },
   "source": [
    "$$ \\frac{\\partial E[\\vec{p}]}{\\partial v} = \\sum_{i \\in \\hat{D}} \\left\\{ 2 \\text{ (error) } \\left( \\frac{\\partial}{\\partial v} \\frac{\\partial^2 \\Psi_t}{\\partial x^2} + \\frac{\\partial}{\\partial v} \\frac{\\partial^2 \\Psi_t}{\\partial y^2} \\right) \\right\\}$$"
   ]
  },
  {
   "cell_type": "code",
   "execution_count": 26,
   "metadata": {
    "code_folding": [],
    "hidden": true
   },
   "outputs": [],
   "source": [
    "def dE_dv(points, p):\n",
    "    t1 = []\n",
    "    for x, y in points:\n",
    "        tmp = 2 * error(x,y,p) * (d_dv_dPsi2_dxk2(x,y,p,0) + \n",
    "                                  d_dv_dPsi2_dxk2(x,y,p,1))\n",
    "        t1.append(tmp)\n",
    "    \n",
    "    grad = sum(t1)\n",
    "    \n",
    "    return grad"
   ]
  },
  {
   "cell_type": "markdown",
   "metadata": {
    "heading_collapsed": true
   },
   "source": [
    "# NN class"
   ]
  },
  {
   "cell_type": "code",
   "execution_count": 27,
   "metadata": {
    "hidden": true
   },
   "outputs": [],
   "source": [
    "def initialize_p(hidden_nodes):\n",
    "    w1 = np.random.randn(hidden_nodes)\n",
    "    v = np.random.randn(hidden_nodes)\n",
    "    w0 = []\n",
    "    u = []\n",
    "\n",
    "    for w1_sample in w1:\n",
    "        x = []\n",
    "        y = []\n",
    "        for side in np.random.choice(4, 2, replace=False):\n",
    "            if side == 0:\n",
    "                x.append(0)\n",
    "                y.append(np.random.uniform(0.1,0.9,1)[0])\n",
    "            elif side == 1:\n",
    "                x.append(np.random.uniform(0.1,0.9,1)[0])\n",
    "                y.append(1)\n",
    "            elif side == 2:\n",
    "                x.append(1)\n",
    "                y.append(np.random.uniform(0.1,0.9,1)[0])\n",
    "            elif side == 3:\n",
    "                x.append(np.random.uniform(0.1,0.9,1)[0])\n",
    "                y.append(0)\n",
    "\n",
    "        slope = (y[1] - y[0]) / (x[1] - x[0])\n",
    "        w0.append(-slope * w1_sample)\n",
    "        u.append((slope*x[0] - y[0]) * w1_sample)\n",
    "\n",
    "    p = np.array([np.array([np.array(w0), np.array(w1)]), \n",
    "                  np.array(u), np.array(v)])\n",
    "    \n",
    "    return p"
   ]
  },
  {
   "cell_type": "code",
   "execution_count": 28,
   "metadata": {
    "hidden": true
   },
   "outputs": [],
   "source": [
    "def get_mini_batches(points, batch_size):\n",
    "    np.random.shuffle(points)\n",
    "    \n",
    "    no_of_splits = np.ceil(len(points) / batch_size)\n",
    "\n",
    "    mini_batch_points = np.array_split(points, no_of_splits)\n",
    "    \n",
    "    return mini_batch_points"
   ]
  },
  {
   "cell_type": "code",
   "execution_count": 29,
   "metadata": {
    "code_folding": [
     57,
     63
    ],
    "hidden": true
   },
   "outputs": [],
   "source": [
    "class NNTrain:\n",
    "    def __init__(self, nx=10, hidden_nodes=10, alpha=0.01, batch_size=50,\n",
    "                 beta=0.9, update_interval=50, if_rel_err=False,\n",
    "                 output_file='output/output.csv'):\n",
    "\n",
    "        self.output_file = output_file\n",
    "        self.training_started = False\n",
    "        self.nx = nx\n",
    "        self.hidden_nodes = hidden_nodes\n",
    "        self.alpha = alpha\n",
    "        self.batch_size = batch_size\n",
    "        self.beta = beta\n",
    "        self.update_interval = update_interval\n",
    "        self.points = list(itertools.product(\n",
    "            np.linspace(0, 1, nx), np.linspace(0, 1, nx)))\n",
    "        self.cost_rate = []\n",
    "        self.if_rel_err = if_rel_err\n",
    "        if self.if_rel_err:\n",
    "            self.rel_err = []\n",
    "        self.p = initialize_p(hidden_nodes)\n",
    "        self.m_t = np.array([np.zeros(hidden_nodes),\n",
    "                             np.zeros(hidden_nodes),\n",
    "                             np.zeros(hidden_nodes),\n",
    "                             np.zeros(hidden_nodes)])\n",
    "\n",
    "        \n",
    "    def sgd_mt(self, w, g_t, theta_0):\n",
    "        # gradient descent with momentum\n",
    "        self.m_t[w] = self.beta * self.m_t[w] + (1-self.beta) * g_t\n",
    "        theta_0 = theta_0 - (self.alpha*self.m_t[w])\n",
    "\n",
    "        return theta_0\n",
    "\n",
    "    \n",
    "    def train(self, itr=1000):\n",
    "        if self.training_started:\n",
    "            mode = 'a'\n",
    "        else:\n",
    "            mode = 'w'\n",
    "        self.training_started = True\n",
    "\n",
    "        with open(self.output_file, mode) as file:\n",
    "            if mode == 'w':\n",
    "                if self.if_rel_err:\n",
    "                    file.write(\n",
    "                        'Iteration,Cost,Cost Diff,Relative Error,Relative Error Diff\\n')\n",
    "                else:\n",
    "                    file.write('Iteration,Cost,Cost Diff\\n')\n",
    "            start = len(self.cost_rate)-1\n",
    "            if start < 1:\n",
    "                start += 1\n",
    "                self.cost_rate.append(cost(self.points, self.p))\n",
    "                if self.if_rel_err:\n",
    "                    self.rel_err.append(relative_err(\n",
    "                        self.p, all_points=self.points))\n",
    "\n",
    "            i = start\n",
    "            while i < start+itr:\n",
    "                mini_batch_points = get_mini_batches(\n",
    "                    self.points, self.batch_size)\n",
    "\n",
    "                for mini_point in mini_batch_points:\n",
    "                    mini_point = list(mini_point)\n",
    "\n",
    "                    g_w0 = dE_dwj(mini_point, self.p, 0)\n",
    "                    g_w1 = dE_dwj(mini_point, self.p, 1)\n",
    "                    g_u = dE_du(mini_point, self.p)\n",
    "                    g_v = dE_dv(mini_point, self.p)\n",
    "\n",
    "                    self.p[0][0] = self.sgd_mt(0, g_w0, self.p[0][0])\n",
    "                    self.p[0][1] = self.sgd_mt(1, g_w1, self.p[0][1])\n",
    "                    self.p[1] = self.sgd_mt(2, g_u, self.p[1])\n",
    "                    self.p[2] = self.sgd_mt(3, g_v, self.p[2])\n",
    "\n",
    "                self.cost_rate.append(cost(self.points, self.p))\n",
    "                cost_diff = self.cost_rate[i]-self.cost_rate[i+1]\n",
    "                if self.if_rel_err:\n",
    "                    self.rel_err.append(relative_err(\n",
    "                        self.p, all_points=self.points))\n",
    "                    rel_diff = self.rel_err[i]-self.rel_err[i+1]\n",
    "\n",
    "                if self.if_rel_err:\n",
    "                    file.write('{},{:.8f},{:.8f},{:.8f},{:.8f}\\n'.format(\n",
    "                        i+1, self.cost_rate[i+1], cost_diff,\n",
    "                        self.rel_err[i+1], rel_diff))\n",
    "                else:\n",
    "                    file.write('{},{:.8f},{:.8f}\\n'.format(\n",
    "                        i+1, self.cost_rate[i+1], cost_diff))\n",
    "\n",
    "                if i % self.update_interval == 0:\n",
    "                    file.flush()\n",
    "\n",
    "                i += 1\n",
    "\n",
    "                \n",
    "    def save_result(self, output_name=''):\n",
    "        timestr = time.strftime(\"%Y%m%d-%H%M\")\n",
    "        np.savez('output/' + timestr + '_' +\n",
    "                 output_name + '_nn_params.npz', self.p)\n",
    "        np.savez('output/' + timestr + '_' + output_name +\n",
    "                 '_cost_rate.npz', self.cost_rate)\n",
    "        if self.if_rel_err:\n",
    "            np.savez('output/' + timestr + '_' +\n",
    "                     output_name + '_rel_err.npz', self.rel_err)"
   ]
  },
  {
   "cell_type": "code",
   "execution_count": null,
   "metadata": {
    "hidden": true
   },
   "outputs": [],
   "source": []
  },
  {
   "cell_type": "markdown",
   "metadata": {
    "heading_collapsed": true
   },
   "source": [
    "# Graphs"
   ]
  },
  {
   "cell_type": "code",
   "execution_count": 30,
   "metadata": {
    "hidden": true
   },
   "outputs": [],
   "source": [
    "%matplotlib notebook\n",
    "%matplotlib notebook"
   ]
  },
  {
   "cell_type": "markdown",
   "metadata": {
    "heading_collapsed": true,
    "hidden": true
   },
   "source": [
    "## Hidden Nodes"
   ]
  },
  {
   "cell_type": "code",
   "execution_count": 31,
   "metadata": {
    "hidden": true
   },
   "outputs": [],
   "source": [
    "def plot_nodes(a, save_name=None, save=True, zlim=True):\n",
    "    p = a.p\n",
    "    hmax = a.p[0][0].shape[0]\n",
    "    col = int(np.sqrt(hmax)) if int(np.sqrt(hmax)) < 10 else 10\n",
    "    row = np.ceil(hmax / col)\n",
    "    \n",
    "    d_x=0.1\n",
    "\n",
    "    fig = plt.figure(figsize=(col*3, row*3), dpi=100)\n",
    "    for h in range(1,hmax+1):\n",
    "        ax = fig.add_subplot(row,col,h, projection='3d')\n",
    "        x = y = np.arange(0, 1+d_x, d_x)\n",
    "        X, Y = np.meshgrid(x, y)\n",
    "\n",
    "        zs = np.array([p[1][h-1]*sig(z(x,y,p))[h-1] for x,y in zip(np.ravel(X), np.ravel(Y))])\n",
    "        Z = zs.reshape(X.shape)\n",
    "\n",
    "        ax.set_xlabel('x')\n",
    "        ax.set_ylabel('y')\n",
    "        if zlim:\n",
    "            ax.set_zlim(0,1)\n",
    "\n",
    "        ax.plot_surface(X, Y, Z, cmap=cm.coolwarm)\n",
    "        ax.title.set_text('HN: ' + str(h) + ', v=' + \"{:.4E}\".format(p[1][h-1]))\n",
    "        time.sleep(0.2)\n",
    "\n",
    "    if save==True:\n",
    "        if save_name is None: \n",
    "            plt.savefig('t'+str(T)+'_h'+str(hmax)+'_n'+str(a.nx)+'.png')\n",
    "        else:\n",
    "            plt.savefig(save_name)\n",
    "    else:\n",
    "        plt.show()"
   ]
  },
  {
   "cell_type": "markdown",
   "metadata": {
    "heading_collapsed": true,
    "hidden": true
   },
   "source": [
    "## Error vs Iterations"
   ]
  },
  {
   "cell_type": "code",
   "execution_count": 32,
   "metadata": {
    "hidden": true
   },
   "outputs": [],
   "source": [
    "def plot_iteration(arr, min_it=0, max_it=None):\n",
    "    plt.figure()\n",
    "    plt.plot(np.arange(len(arr[min_it:max_it])), np.array(arr[min_it:max_it]))\n",
    "    plt.show()"
   ]
  },
  {
   "cell_type": "markdown",
   "metadata": {
    "heading_collapsed": true,
    "hidden": true
   },
   "source": [
    "## Solution Accuracy on the domain"
   ]
  },
  {
   "cell_type": "code",
   "execution_count": 33,
   "metadata": {
    "hidden": true
   },
   "outputs": [],
   "source": [
    "def plot_fun(fun, zlim=False, title=None, return_ax=False, **kwargs):\n",
    "    d_x=0.01\n",
    "    fig = plt.figure()\n",
    "    ax = fig.add_subplot(111, projection='3d')\n",
    "    x = y = np.arange(0, 1.0+d_x, d_x)\n",
    "    X, Y = np.meshgrid(x, y)\n",
    "\n",
    "    zs = np.array([fun(x,y,**kwargs) for x,y in zip(np.ravel(X), np.ravel(Y))])\n",
    "    Z = zs.reshape(X.shape)\n",
    "\n",
    "    ax.plot_surface(X, Y, Z, cmap=cm.coolwarm_r)\n",
    "    # ax.ticklabel_format(style='sci', axis='z', scilimits=(0,0), useOffset=True, useMathText=True)\n",
    "\n",
    "\n",
    "    ax.set_xlabel('x')\n",
    "    ax.set_ylabel('y')\n",
    "    ax.title.set_text(title)\n",
    "    \n",
    "    if zlim:\n",
    "        ax.set_zlim(0,1)\n",
    "\n",
    "    if return_ax:\n",
    "        return ax\n",
    "    else:\n",
    "        plt.show()"
   ]
  },
  {
   "cell_type": "code",
   "execution_count": 34,
   "metadata": {
    "hidden": true
   },
   "outputs": [],
   "source": [
    "def plot_partitions(p):\n",
    "    plt.plot([0,0,1,1,0], [0,1,1,0,0], linewidth=3)\n",
    "\n",
    "    for HN in range(len(p[1])):\n",
    "        x = np.linspace(-1,2,500)\n",
    "        y = -(p[1][HN] + p[0][0][HN]*x) / p[0][1][HN]\n",
    "\n",
    "        plt.plot(x, y, label=HN)\n",
    "\n",
    "    plt.xlim(-1,2)\n",
    "    plt.ylim(-1,2)"
   ]
  },
  {
   "cell_type": "markdown",
   "metadata": {},
   "source": [
    "# Training"
   ]
  },
  {
   "cell_type": "code",
   "execution_count": 35,
   "metadata": {},
   "outputs": [],
   "source": [
    "K=10\n",
    "a = NNTrain(nx=60, hidden_nodes=75, alpha=1e-4, batch_size=50, update_interval=10, if_rel_err=True, output_file='out/out7.csv')"
   ]
  },
  {
   "cell_type": "code",
   "execution_count": null,
   "metadata": {},
   "outputs": [],
   "source": [
    "p=[]\n",
    "p.append(copy.deepcopy(a.p))\n",
    "a.train(100)"
   ]
  },
  {
   "cell_type": "code",
   "execution_count": null,
   "metadata": {
    "scrolled": true
   },
   "outputs": [],
   "source": [
    "thresh=1e-5\n",
    "\n",
    "for i in range(10000):\n",
    "    p.append(copy.deepcopy(a.p))\n",
    "    if np.mean([np.abs(s-t) for s, t in zip(a.cost_rate[-21:], a.cost_rate[-20:])]) < thresh:\n",
    "        break\n",
    "    a.train(100)"
   ]
  },
  {
   "cell_type": "markdown",
   "metadata": {},
   "source": [
    "Etc"
   ]
  },
  {
   "cell_type": "code",
   "execution_count": 39,
   "metadata": {},
   "outputs": [
    {
     "name": "stdout",
     "output_type": "stream",
     "text": [
      "relative error: 0.0007525949442626524\n"
     ]
    }
   ],
   "source": [
    "print('relative error:', relative_err(a.p, nx=100))"
   ]
  },
  {
   "cell_type": "code",
   "execution_count": 40,
   "metadata": {},
   "outputs": [
    {
     "data": {
      "application/javascript": [
       "/* Put everything inside the global mpl namespace */\n",
       "window.mpl = {};\n",
       "\n",
       "\n",
       "mpl.get_websocket_type = function() {\n",
       "    if (typeof(WebSocket) !== 'undefined') {\n",
       "        return WebSocket;\n",
       "    } else if (typeof(MozWebSocket) !== 'undefined') {\n",
       "        return MozWebSocket;\n",
       "    } else {\n",
       "        alert('Your browser does not have WebSocket support.' +\n",
       "              'Please try Chrome, Safari or Firefox ≥ 6. ' +\n",
       "              'Firefox 4 and 5 are also supported but you ' +\n",
       "              'have to enable WebSockets in about:config.');\n",
       "    };\n",
       "}\n",
       "\n",
       "mpl.figure = function(figure_id, websocket, ondownload, parent_element) {\n",
       "    this.id = figure_id;\n",
       "\n",
       "    this.ws = websocket;\n",
       "\n",
       "    this.supports_binary = (this.ws.binaryType != undefined);\n",
       "\n",
       "    if (!this.supports_binary) {\n",
       "        var warnings = document.getElementById(\"mpl-warnings\");\n",
       "        if (warnings) {\n",
       "            warnings.style.display = 'block';\n",
       "            warnings.textContent = (\n",
       "                \"This browser does not support binary websocket messages. \" +\n",
       "                    \"Performance may be slow.\");\n",
       "        }\n",
       "    }\n",
       "\n",
       "    this.imageObj = new Image();\n",
       "\n",
       "    this.context = undefined;\n",
       "    this.message = undefined;\n",
       "    this.canvas = undefined;\n",
       "    this.rubberband_canvas = undefined;\n",
       "    this.rubberband_context = undefined;\n",
       "    this.format_dropdown = undefined;\n",
       "\n",
       "    this.image_mode = 'full';\n",
       "\n",
       "    this.root = $('<div/>');\n",
       "    this._root_extra_style(this.root)\n",
       "    this.root.attr('style', 'display: inline-block');\n",
       "\n",
       "    $(parent_element).append(this.root);\n",
       "\n",
       "    this._init_header(this);\n",
       "    this._init_canvas(this);\n",
       "    this._init_toolbar(this);\n",
       "\n",
       "    var fig = this;\n",
       "\n",
       "    this.waiting = false;\n",
       "\n",
       "    this.ws.onopen =  function () {\n",
       "            fig.send_message(\"supports_binary\", {value: fig.supports_binary});\n",
       "            fig.send_message(\"send_image_mode\", {});\n",
       "            if (mpl.ratio != 1) {\n",
       "                fig.send_message(\"set_dpi_ratio\", {'dpi_ratio': mpl.ratio});\n",
       "            }\n",
       "            fig.send_message(\"refresh\", {});\n",
       "        }\n",
       "\n",
       "    this.imageObj.onload = function() {\n",
       "            if (fig.image_mode == 'full') {\n",
       "                // Full images could contain transparency (where diff images\n",
       "                // almost always do), so we need to clear the canvas so that\n",
       "                // there is no ghosting.\n",
       "                fig.context.clearRect(0, 0, fig.canvas.width, fig.canvas.height);\n",
       "            }\n",
       "            fig.context.drawImage(fig.imageObj, 0, 0);\n",
       "        };\n",
       "\n",
       "    this.imageObj.onunload = function() {\n",
       "        fig.ws.close();\n",
       "    }\n",
       "\n",
       "    this.ws.onmessage = this._make_on_message_function(this);\n",
       "\n",
       "    this.ondownload = ondownload;\n",
       "}\n",
       "\n",
       "mpl.figure.prototype._init_header = function() {\n",
       "    var titlebar = $(\n",
       "        '<div class=\"ui-dialog-titlebar ui-widget-header ui-corner-all ' +\n",
       "        'ui-helper-clearfix\"/>');\n",
       "    var titletext = $(\n",
       "        '<div class=\"ui-dialog-title\" style=\"width: 100%; ' +\n",
       "        'text-align: center; padding: 3px;\"/>');\n",
       "    titlebar.append(titletext)\n",
       "    this.root.append(titlebar);\n",
       "    this.header = titletext[0];\n",
       "}\n",
       "\n",
       "\n",
       "\n",
       "mpl.figure.prototype._canvas_extra_style = function(canvas_div) {\n",
       "\n",
       "}\n",
       "\n",
       "\n",
       "mpl.figure.prototype._root_extra_style = function(canvas_div) {\n",
       "\n",
       "}\n",
       "\n",
       "mpl.figure.prototype._init_canvas = function() {\n",
       "    var fig = this;\n",
       "\n",
       "    var canvas_div = $('<div/>');\n",
       "\n",
       "    canvas_div.attr('style', 'position: relative; clear: both; outline: 0');\n",
       "\n",
       "    function canvas_keyboard_event(event) {\n",
       "        return fig.key_event(event, event['data']);\n",
       "    }\n",
       "\n",
       "    canvas_div.keydown('key_press', canvas_keyboard_event);\n",
       "    canvas_div.keyup('key_release', canvas_keyboard_event);\n",
       "    this.canvas_div = canvas_div\n",
       "    this._canvas_extra_style(canvas_div)\n",
       "    this.root.append(canvas_div);\n",
       "\n",
       "    var canvas = $('<canvas/>');\n",
       "    canvas.addClass('mpl-canvas');\n",
       "    canvas.attr('style', \"left: 0; top: 0; z-index: 0; outline: 0\")\n",
       "\n",
       "    this.canvas = canvas[0];\n",
       "    this.context = canvas[0].getContext(\"2d\");\n",
       "\n",
       "    var backingStore = this.context.backingStorePixelRatio ||\n",
       "\tthis.context.webkitBackingStorePixelRatio ||\n",
       "\tthis.context.mozBackingStorePixelRatio ||\n",
       "\tthis.context.msBackingStorePixelRatio ||\n",
       "\tthis.context.oBackingStorePixelRatio ||\n",
       "\tthis.context.backingStorePixelRatio || 1;\n",
       "\n",
       "    mpl.ratio = (window.devicePixelRatio || 1) / backingStore;\n",
       "\n",
       "    var rubberband = $('<canvas/>');\n",
       "    rubberband.attr('style', \"position: absolute; left: 0; top: 0; z-index: 1;\")\n",
       "\n",
       "    var pass_mouse_events = true;\n",
       "\n",
       "    canvas_div.resizable({\n",
       "        start: function(event, ui) {\n",
       "            pass_mouse_events = false;\n",
       "        },\n",
       "        resize: function(event, ui) {\n",
       "            fig.request_resize(ui.size.width, ui.size.height);\n",
       "        },\n",
       "        stop: function(event, ui) {\n",
       "            pass_mouse_events = true;\n",
       "            fig.request_resize(ui.size.width, ui.size.height);\n",
       "        },\n",
       "    });\n",
       "\n",
       "    function mouse_event_fn(event) {\n",
       "        if (pass_mouse_events)\n",
       "            return fig.mouse_event(event, event['data']);\n",
       "    }\n",
       "\n",
       "    rubberband.mousedown('button_press', mouse_event_fn);\n",
       "    rubberband.mouseup('button_release', mouse_event_fn);\n",
       "    // Throttle sequential mouse events to 1 every 20ms.\n",
       "    rubberband.mousemove('motion_notify', mouse_event_fn);\n",
       "\n",
       "    rubberband.mouseenter('figure_enter', mouse_event_fn);\n",
       "    rubberband.mouseleave('figure_leave', mouse_event_fn);\n",
       "\n",
       "    canvas_div.on(\"wheel\", function (event) {\n",
       "        event = event.originalEvent;\n",
       "        event['data'] = 'scroll'\n",
       "        if (event.deltaY < 0) {\n",
       "            event.step = 1;\n",
       "        } else {\n",
       "            event.step = -1;\n",
       "        }\n",
       "        mouse_event_fn(event);\n",
       "    });\n",
       "\n",
       "    canvas_div.append(canvas);\n",
       "    canvas_div.append(rubberband);\n",
       "\n",
       "    this.rubberband = rubberband;\n",
       "    this.rubberband_canvas = rubberband[0];\n",
       "    this.rubberband_context = rubberband[0].getContext(\"2d\");\n",
       "    this.rubberband_context.strokeStyle = \"#000000\";\n",
       "\n",
       "    this._resize_canvas = function(width, height) {\n",
       "        // Keep the size of the canvas, canvas container, and rubber band\n",
       "        // canvas in synch.\n",
       "        canvas_div.css('width', width)\n",
       "        canvas_div.css('height', height)\n",
       "\n",
       "        canvas.attr('width', width * mpl.ratio);\n",
       "        canvas.attr('height', height * mpl.ratio);\n",
       "        canvas.attr('style', 'width: ' + width + 'px; height: ' + height + 'px;');\n",
       "\n",
       "        rubberband.attr('width', width);\n",
       "        rubberband.attr('height', height);\n",
       "    }\n",
       "\n",
       "    // Set the figure to an initial 600x600px, this will subsequently be updated\n",
       "    // upon first draw.\n",
       "    this._resize_canvas(600, 600);\n",
       "\n",
       "    // Disable right mouse context menu.\n",
       "    $(this.rubberband_canvas).bind(\"contextmenu\",function(e){\n",
       "        return false;\n",
       "    });\n",
       "\n",
       "    function set_focus () {\n",
       "        canvas.focus();\n",
       "        canvas_div.focus();\n",
       "    }\n",
       "\n",
       "    window.setTimeout(set_focus, 100);\n",
       "}\n",
       "\n",
       "mpl.figure.prototype._init_toolbar = function() {\n",
       "    var fig = this;\n",
       "\n",
       "    var nav_element = $('<div/>')\n",
       "    nav_element.attr('style', 'width: 100%');\n",
       "    this.root.append(nav_element);\n",
       "\n",
       "    // Define a callback function for later on.\n",
       "    function toolbar_event(event) {\n",
       "        return fig.toolbar_button_onclick(event['data']);\n",
       "    }\n",
       "    function toolbar_mouse_event(event) {\n",
       "        return fig.toolbar_button_onmouseover(event['data']);\n",
       "    }\n",
       "\n",
       "    for(var toolbar_ind in mpl.toolbar_items) {\n",
       "        var name = mpl.toolbar_items[toolbar_ind][0];\n",
       "        var tooltip = mpl.toolbar_items[toolbar_ind][1];\n",
       "        var image = mpl.toolbar_items[toolbar_ind][2];\n",
       "        var method_name = mpl.toolbar_items[toolbar_ind][3];\n",
       "\n",
       "        if (!name) {\n",
       "            // put a spacer in here.\n",
       "            continue;\n",
       "        }\n",
       "        var button = $('<button/>');\n",
       "        button.addClass('ui-button ui-widget ui-state-default ui-corner-all ' +\n",
       "                        'ui-button-icon-only');\n",
       "        button.attr('role', 'button');\n",
       "        button.attr('aria-disabled', 'false');\n",
       "        button.click(method_name, toolbar_event);\n",
       "        button.mouseover(tooltip, toolbar_mouse_event);\n",
       "\n",
       "        var icon_img = $('<span/>');\n",
       "        icon_img.addClass('ui-button-icon-primary ui-icon');\n",
       "        icon_img.addClass(image);\n",
       "        icon_img.addClass('ui-corner-all');\n",
       "\n",
       "        var tooltip_span = $('<span/>');\n",
       "        tooltip_span.addClass('ui-button-text');\n",
       "        tooltip_span.html(tooltip);\n",
       "\n",
       "        button.append(icon_img);\n",
       "        button.append(tooltip_span);\n",
       "\n",
       "        nav_element.append(button);\n",
       "    }\n",
       "\n",
       "    var fmt_picker_span = $('<span/>');\n",
       "\n",
       "    var fmt_picker = $('<select/>');\n",
       "    fmt_picker.addClass('mpl-toolbar-option ui-widget ui-widget-content');\n",
       "    fmt_picker_span.append(fmt_picker);\n",
       "    nav_element.append(fmt_picker_span);\n",
       "    this.format_dropdown = fmt_picker[0];\n",
       "\n",
       "    for (var ind in mpl.extensions) {\n",
       "        var fmt = mpl.extensions[ind];\n",
       "        var option = $(\n",
       "            '<option/>', {selected: fmt === mpl.default_extension}).html(fmt);\n",
       "        fmt_picker.append(option)\n",
       "    }\n",
       "\n",
       "    // Add hover states to the ui-buttons\n",
       "    $( \".ui-button\" ).hover(\n",
       "        function() { $(this).addClass(\"ui-state-hover\");},\n",
       "        function() { $(this).removeClass(\"ui-state-hover\");}\n",
       "    );\n",
       "\n",
       "    var status_bar = $('<span class=\"mpl-message\"/>');\n",
       "    nav_element.append(status_bar);\n",
       "    this.message = status_bar[0];\n",
       "}\n",
       "\n",
       "mpl.figure.prototype.request_resize = function(x_pixels, y_pixels) {\n",
       "    // Request matplotlib to resize the figure. Matplotlib will then trigger a resize in the client,\n",
       "    // which will in turn request a refresh of the image.\n",
       "    this.send_message('resize', {'width': x_pixels, 'height': y_pixels});\n",
       "}\n",
       "\n",
       "mpl.figure.prototype.send_message = function(type, properties) {\n",
       "    properties['type'] = type;\n",
       "    properties['figure_id'] = this.id;\n",
       "    this.ws.send(JSON.stringify(properties));\n",
       "}\n",
       "\n",
       "mpl.figure.prototype.send_draw_message = function() {\n",
       "    if (!this.waiting) {\n",
       "        this.waiting = true;\n",
       "        this.ws.send(JSON.stringify({type: \"draw\", figure_id: this.id}));\n",
       "    }\n",
       "}\n",
       "\n",
       "\n",
       "mpl.figure.prototype.handle_save = function(fig, msg) {\n",
       "    var format_dropdown = fig.format_dropdown;\n",
       "    var format = format_dropdown.options[format_dropdown.selectedIndex].value;\n",
       "    fig.ondownload(fig, format);\n",
       "}\n",
       "\n",
       "\n",
       "mpl.figure.prototype.handle_resize = function(fig, msg) {\n",
       "    var size = msg['size'];\n",
       "    if (size[0] != fig.canvas.width || size[1] != fig.canvas.height) {\n",
       "        fig._resize_canvas(size[0], size[1]);\n",
       "        fig.send_message(\"refresh\", {});\n",
       "    };\n",
       "}\n",
       "\n",
       "mpl.figure.prototype.handle_rubberband = function(fig, msg) {\n",
       "    var x0 = msg['x0'] / mpl.ratio;\n",
       "    var y0 = (fig.canvas.height - msg['y0']) / mpl.ratio;\n",
       "    var x1 = msg['x1'] / mpl.ratio;\n",
       "    var y1 = (fig.canvas.height - msg['y1']) / mpl.ratio;\n",
       "    x0 = Math.floor(x0) + 0.5;\n",
       "    y0 = Math.floor(y0) + 0.5;\n",
       "    x1 = Math.floor(x1) + 0.5;\n",
       "    y1 = Math.floor(y1) + 0.5;\n",
       "    var min_x = Math.min(x0, x1);\n",
       "    var min_y = Math.min(y0, y1);\n",
       "    var width = Math.abs(x1 - x0);\n",
       "    var height = Math.abs(y1 - y0);\n",
       "\n",
       "    fig.rubberband_context.clearRect(\n",
       "        0, 0, fig.canvas.width, fig.canvas.height);\n",
       "\n",
       "    fig.rubberband_context.strokeRect(min_x, min_y, width, height);\n",
       "}\n",
       "\n",
       "mpl.figure.prototype.handle_figure_label = function(fig, msg) {\n",
       "    // Updates the figure title.\n",
       "    fig.header.textContent = msg['label'];\n",
       "}\n",
       "\n",
       "mpl.figure.prototype.handle_cursor = function(fig, msg) {\n",
       "    var cursor = msg['cursor'];\n",
       "    switch(cursor)\n",
       "    {\n",
       "    case 0:\n",
       "        cursor = 'pointer';\n",
       "        break;\n",
       "    case 1:\n",
       "        cursor = 'default';\n",
       "        break;\n",
       "    case 2:\n",
       "        cursor = 'crosshair';\n",
       "        break;\n",
       "    case 3:\n",
       "        cursor = 'move';\n",
       "        break;\n",
       "    }\n",
       "    fig.rubberband_canvas.style.cursor = cursor;\n",
       "}\n",
       "\n",
       "mpl.figure.prototype.handle_message = function(fig, msg) {\n",
       "    fig.message.textContent = msg['message'];\n",
       "}\n",
       "\n",
       "mpl.figure.prototype.handle_draw = function(fig, msg) {\n",
       "    // Request the server to send over a new figure.\n",
       "    fig.send_draw_message();\n",
       "}\n",
       "\n",
       "mpl.figure.prototype.handle_image_mode = function(fig, msg) {\n",
       "    fig.image_mode = msg['mode'];\n",
       "}\n",
       "\n",
       "mpl.figure.prototype.updated_canvas_event = function() {\n",
       "    // Called whenever the canvas gets updated.\n",
       "    this.send_message(\"ack\", {});\n",
       "}\n",
       "\n",
       "// A function to construct a web socket function for onmessage handling.\n",
       "// Called in the figure constructor.\n",
       "mpl.figure.prototype._make_on_message_function = function(fig) {\n",
       "    return function socket_on_message(evt) {\n",
       "        if (evt.data instanceof Blob) {\n",
       "            /* FIXME: We get \"Resource interpreted as Image but\n",
       "             * transferred with MIME type text/plain:\" errors on\n",
       "             * Chrome.  But how to set the MIME type?  It doesn't seem\n",
       "             * to be part of the websocket stream */\n",
       "            evt.data.type = \"image/png\";\n",
       "\n",
       "            /* Free the memory for the previous frames */\n",
       "            if (fig.imageObj.src) {\n",
       "                (window.URL || window.webkitURL).revokeObjectURL(\n",
       "                    fig.imageObj.src);\n",
       "            }\n",
       "\n",
       "            fig.imageObj.src = (window.URL || window.webkitURL).createObjectURL(\n",
       "                evt.data);\n",
       "            fig.updated_canvas_event();\n",
       "            fig.waiting = false;\n",
       "            return;\n",
       "        }\n",
       "        else if (typeof evt.data === 'string' && evt.data.slice(0, 21) == \"data:image/png;base64\") {\n",
       "            fig.imageObj.src = evt.data;\n",
       "            fig.updated_canvas_event();\n",
       "            fig.waiting = false;\n",
       "            return;\n",
       "        }\n",
       "\n",
       "        var msg = JSON.parse(evt.data);\n",
       "        var msg_type = msg['type'];\n",
       "\n",
       "        // Call the  \"handle_{type}\" callback, which takes\n",
       "        // the figure and JSON message as its only arguments.\n",
       "        try {\n",
       "            var callback = fig[\"handle_\" + msg_type];\n",
       "        } catch (e) {\n",
       "            console.log(\"No handler for the '\" + msg_type + \"' message type: \", msg);\n",
       "            return;\n",
       "        }\n",
       "\n",
       "        if (callback) {\n",
       "            try {\n",
       "                // console.log(\"Handling '\" + msg_type + \"' message: \", msg);\n",
       "                callback(fig, msg);\n",
       "            } catch (e) {\n",
       "                console.log(\"Exception inside the 'handler_\" + msg_type + \"' callback:\", e, e.stack, msg);\n",
       "            }\n",
       "        }\n",
       "    };\n",
       "}\n",
       "\n",
       "// from http://stackoverflow.com/questions/1114465/getting-mouse-location-in-canvas\n",
       "mpl.findpos = function(e) {\n",
       "    //this section is from http://www.quirksmode.org/js/events_properties.html\n",
       "    var targ;\n",
       "    if (!e)\n",
       "        e = window.event;\n",
       "    if (e.target)\n",
       "        targ = e.target;\n",
       "    else if (e.srcElement)\n",
       "        targ = e.srcElement;\n",
       "    if (targ.nodeType == 3) // defeat Safari bug\n",
       "        targ = targ.parentNode;\n",
       "\n",
       "    // jQuery normalizes the pageX and pageY\n",
       "    // pageX,Y are the mouse positions relative to the document\n",
       "    // offset() returns the position of the element relative to the document\n",
       "    var x = e.pageX - $(targ).offset().left;\n",
       "    var y = e.pageY - $(targ).offset().top;\n",
       "\n",
       "    return {\"x\": x, \"y\": y};\n",
       "};\n",
       "\n",
       "/*\n",
       " * return a copy of an object with only non-object keys\n",
       " * we need this to avoid circular references\n",
       " * http://stackoverflow.com/a/24161582/3208463\n",
       " */\n",
       "function simpleKeys (original) {\n",
       "  return Object.keys(original).reduce(function (obj, key) {\n",
       "    if (typeof original[key] !== 'object')\n",
       "        obj[key] = original[key]\n",
       "    return obj;\n",
       "  }, {});\n",
       "}\n",
       "\n",
       "mpl.figure.prototype.mouse_event = function(event, name) {\n",
       "    var canvas_pos = mpl.findpos(event)\n",
       "\n",
       "    if (name === 'button_press')\n",
       "    {\n",
       "        this.canvas.focus();\n",
       "        this.canvas_div.focus();\n",
       "    }\n",
       "\n",
       "    var x = canvas_pos.x * mpl.ratio;\n",
       "    var y = canvas_pos.y * mpl.ratio;\n",
       "\n",
       "    this.send_message(name, {x: x, y: y, button: event.button,\n",
       "                             step: event.step,\n",
       "                             guiEvent: simpleKeys(event)});\n",
       "\n",
       "    /* This prevents the web browser from automatically changing to\n",
       "     * the text insertion cursor when the button is pressed.  We want\n",
       "     * to control all of the cursor setting manually through the\n",
       "     * 'cursor' event from matplotlib */\n",
       "    event.preventDefault();\n",
       "    return false;\n",
       "}\n",
       "\n",
       "mpl.figure.prototype._key_event_extra = function(event, name) {\n",
       "    // Handle any extra behaviour associated with a key event\n",
       "}\n",
       "\n",
       "mpl.figure.prototype.key_event = function(event, name) {\n",
       "\n",
       "    // Prevent repeat events\n",
       "    if (name == 'key_press')\n",
       "    {\n",
       "        if (event.which === this._key)\n",
       "            return;\n",
       "        else\n",
       "            this._key = event.which;\n",
       "    }\n",
       "    if (name == 'key_release')\n",
       "        this._key = null;\n",
       "\n",
       "    var value = '';\n",
       "    if (event.ctrlKey && event.which != 17)\n",
       "        value += \"ctrl+\";\n",
       "    if (event.altKey && event.which != 18)\n",
       "        value += \"alt+\";\n",
       "    if (event.shiftKey && event.which != 16)\n",
       "        value += \"shift+\";\n",
       "\n",
       "    value += 'k';\n",
       "    value += event.which.toString();\n",
       "\n",
       "    this._key_event_extra(event, name);\n",
       "\n",
       "    this.send_message(name, {key: value,\n",
       "                             guiEvent: simpleKeys(event)});\n",
       "    return false;\n",
       "}\n",
       "\n",
       "mpl.figure.prototype.toolbar_button_onclick = function(name) {\n",
       "    if (name == 'download') {\n",
       "        this.handle_save(this, null);\n",
       "    } else {\n",
       "        this.send_message(\"toolbar_button\", {name: name});\n",
       "    }\n",
       "};\n",
       "\n",
       "mpl.figure.prototype.toolbar_button_onmouseover = function(tooltip) {\n",
       "    this.message.textContent = tooltip;\n",
       "};\n",
       "mpl.toolbar_items = [[\"Home\", \"Reset original view\", \"fa fa-home icon-home\", \"home\"], [\"Back\", \"Back to previous view\", \"fa fa-arrow-left icon-arrow-left\", \"back\"], [\"Forward\", \"Forward to next view\", \"fa fa-arrow-right icon-arrow-right\", \"forward\"], [\"\", \"\", \"\", \"\"], [\"Pan\", \"Pan axes with left mouse, zoom with right\", \"fa fa-arrows icon-move\", \"pan\"], [\"Zoom\", \"Zoom to rectangle\", \"fa fa-square-o icon-check-empty\", \"zoom\"], [\"\", \"\", \"\", \"\"], [\"Download\", \"Download plot\", \"fa fa-floppy-o icon-save\", \"download\"]];\n",
       "\n",
       "mpl.extensions = [\"eps\", \"jpeg\", \"pdf\", \"png\", \"ps\", \"raw\", \"svg\", \"tif\"];\n",
       "\n",
       "mpl.default_extension = \"png\";var comm_websocket_adapter = function(comm) {\n",
       "    // Create a \"websocket\"-like object which calls the given IPython comm\n",
       "    // object with the appropriate methods. Currently this is a non binary\n",
       "    // socket, so there is still some room for performance tuning.\n",
       "    var ws = {};\n",
       "\n",
       "    ws.close = function() {\n",
       "        comm.close()\n",
       "    };\n",
       "    ws.send = function(m) {\n",
       "        //console.log('sending', m);\n",
       "        comm.send(m);\n",
       "    };\n",
       "    // Register the callback with on_msg.\n",
       "    comm.on_msg(function(msg) {\n",
       "        //console.log('receiving', msg['content']['data'], msg);\n",
       "        // Pass the mpl event to the overridden (by mpl) onmessage function.\n",
       "        ws.onmessage(msg['content']['data'])\n",
       "    });\n",
       "    return ws;\n",
       "}\n",
       "\n",
       "mpl.mpl_figure_comm = function(comm, msg) {\n",
       "    // This is the function which gets called when the mpl process\n",
       "    // starts-up an IPython Comm through the \"matplotlib\" channel.\n",
       "\n",
       "    var id = msg.content.data.id;\n",
       "    // Get hold of the div created by the display call when the Comm\n",
       "    // socket was opened in Python.\n",
       "    var element = $(\"#\" + id);\n",
       "    var ws_proxy = comm_websocket_adapter(comm)\n",
       "\n",
       "    function ondownload(figure, format) {\n",
       "        window.open(figure.imageObj.src);\n",
       "    }\n",
       "\n",
       "    var fig = new mpl.figure(id, ws_proxy,\n",
       "                           ondownload,\n",
       "                           element.get(0));\n",
       "\n",
       "    // Call onopen now - mpl needs it, as it is assuming we've passed it a real\n",
       "    // web socket which is closed, not our websocket->open comm proxy.\n",
       "    ws_proxy.onopen();\n",
       "\n",
       "    fig.parent_element = element.get(0);\n",
       "    fig.cell_info = mpl.find_output_cell(\"<div id='\" + id + \"'></div>\");\n",
       "    if (!fig.cell_info) {\n",
       "        console.error(\"Failed to find cell for figure\", id, fig);\n",
       "        return;\n",
       "    }\n",
       "\n",
       "    var output_index = fig.cell_info[2]\n",
       "    var cell = fig.cell_info[0];\n",
       "\n",
       "};\n",
       "\n",
       "mpl.figure.prototype.handle_close = function(fig, msg) {\n",
       "    var width = fig.canvas.width/mpl.ratio\n",
       "    fig.root.unbind('remove')\n",
       "\n",
       "    // Update the output cell to use the data from the current canvas.\n",
       "    fig.push_to_output();\n",
       "    var dataURL = fig.canvas.toDataURL();\n",
       "    // Re-enable the keyboard manager in IPython - without this line, in FF,\n",
       "    // the notebook keyboard shortcuts fail.\n",
       "    IPython.keyboard_manager.enable()\n",
       "    $(fig.parent_element).html('<img src=\"' + dataURL + '\" width=\"' + width + '\">');\n",
       "    fig.close_ws(fig, msg);\n",
       "}\n",
       "\n",
       "mpl.figure.prototype.close_ws = function(fig, msg){\n",
       "    fig.send_message('closing', msg);\n",
       "    // fig.ws.close()\n",
       "}\n",
       "\n",
       "mpl.figure.prototype.push_to_output = function(remove_interactive) {\n",
       "    // Turn the data on the canvas into data in the output cell.\n",
       "    var width = this.canvas.width/mpl.ratio\n",
       "    var dataURL = this.canvas.toDataURL();\n",
       "    this.cell_info[1]['text/html'] = '<img src=\"' + dataURL + '\" width=\"' + width + '\">';\n",
       "}\n",
       "\n",
       "mpl.figure.prototype.updated_canvas_event = function() {\n",
       "    // Tell IPython that the notebook contents must change.\n",
       "    IPython.notebook.set_dirty(true);\n",
       "    this.send_message(\"ack\", {});\n",
       "    var fig = this;\n",
       "    // Wait a second, then push the new image to the DOM so\n",
       "    // that it is saved nicely (might be nice to debounce this).\n",
       "    setTimeout(function () { fig.push_to_output() }, 1000);\n",
       "}\n",
       "\n",
       "mpl.figure.prototype._init_toolbar = function() {\n",
       "    var fig = this;\n",
       "\n",
       "    var nav_element = $('<div/>')\n",
       "    nav_element.attr('style', 'width: 100%');\n",
       "    this.root.append(nav_element);\n",
       "\n",
       "    // Define a callback function for later on.\n",
       "    function toolbar_event(event) {\n",
       "        return fig.toolbar_button_onclick(event['data']);\n",
       "    }\n",
       "    function toolbar_mouse_event(event) {\n",
       "        return fig.toolbar_button_onmouseover(event['data']);\n",
       "    }\n",
       "\n",
       "    for(var toolbar_ind in mpl.toolbar_items){\n",
       "        var name = mpl.toolbar_items[toolbar_ind][0];\n",
       "        var tooltip = mpl.toolbar_items[toolbar_ind][1];\n",
       "        var image = mpl.toolbar_items[toolbar_ind][2];\n",
       "        var method_name = mpl.toolbar_items[toolbar_ind][3];\n",
       "\n",
       "        if (!name) { continue; };\n",
       "\n",
       "        var button = $('<button class=\"btn btn-default\" href=\"#\" title=\"' + name + '\"><i class=\"fa ' + image + ' fa-lg\"></i></button>');\n",
       "        button.click(method_name, toolbar_event);\n",
       "        button.mouseover(tooltip, toolbar_mouse_event);\n",
       "        nav_element.append(button);\n",
       "    }\n",
       "\n",
       "    // Add the status bar.\n",
       "    var status_bar = $('<span class=\"mpl-message\" style=\"text-align:right; float: right;\"/>');\n",
       "    nav_element.append(status_bar);\n",
       "    this.message = status_bar[0];\n",
       "\n",
       "    // Add the close button to the window.\n",
       "    var buttongrp = $('<div class=\"btn-group inline pull-right\"></div>');\n",
       "    var button = $('<button class=\"btn btn-mini btn-primary\" href=\"#\" title=\"Stop Interaction\"><i class=\"fa fa-power-off icon-remove icon-large\"></i></button>');\n",
       "    button.click(function (evt) { fig.handle_close(fig, {}); } );\n",
       "    button.mouseover('Stop Interaction', toolbar_mouse_event);\n",
       "    buttongrp.append(button);\n",
       "    var titlebar = this.root.find($('.ui-dialog-titlebar'));\n",
       "    titlebar.prepend(buttongrp);\n",
       "}\n",
       "\n",
       "mpl.figure.prototype._root_extra_style = function(el){\n",
       "    var fig = this\n",
       "    el.on(\"remove\", function(){\n",
       "\tfig.close_ws(fig, {});\n",
       "    });\n",
       "}\n",
       "\n",
       "mpl.figure.prototype._canvas_extra_style = function(el){\n",
       "    // this is important to make the div 'focusable\n",
       "    el.attr('tabindex', 0)\n",
       "    // reach out to IPython and tell the keyboard manager to turn it's self\n",
       "    // off when our div gets focus\n",
       "\n",
       "    // location in version 3\n",
       "    if (IPython.notebook.keyboard_manager) {\n",
       "        IPython.notebook.keyboard_manager.register_events(el);\n",
       "    }\n",
       "    else {\n",
       "        // location in version 2\n",
       "        IPython.keyboard_manager.register_events(el);\n",
       "    }\n",
       "\n",
       "}\n",
       "\n",
       "mpl.figure.prototype._key_event_extra = function(event, name) {\n",
       "    var manager = IPython.notebook.keyboard_manager;\n",
       "    if (!manager)\n",
       "        manager = IPython.keyboard_manager;\n",
       "\n",
       "    // Check for shift+enter\n",
       "    if (event.shiftKey && event.which == 13) {\n",
       "        this.canvas_div.blur();\n",
       "        event.shiftKey = false;\n",
       "        // Send a \"J\" for go to next cell\n",
       "        event.which = 74;\n",
       "        event.keyCode = 74;\n",
       "        manager.command_mode();\n",
       "        manager.handle_keydown(event);\n",
       "    }\n",
       "}\n",
       "\n",
       "mpl.figure.prototype.handle_save = function(fig, msg) {\n",
       "    fig.ondownload(fig, null);\n",
       "}\n",
       "\n",
       "\n",
       "mpl.find_output_cell = function(html_output) {\n",
       "    // Return the cell and output element which can be found *uniquely* in the notebook.\n",
       "    // Note - this is a bit hacky, but it is done because the \"notebook_saving.Notebook\"\n",
       "    // IPython event is triggered only after the cells have been serialised, which for\n",
       "    // our purposes (turning an active figure into a static one), is too late.\n",
       "    var cells = IPython.notebook.get_cells();\n",
       "    var ncells = cells.length;\n",
       "    for (var i=0; i<ncells; i++) {\n",
       "        var cell = cells[i];\n",
       "        if (cell.cell_type === 'code'){\n",
       "            for (var j=0; j<cell.output_area.outputs.length; j++) {\n",
       "                var data = cell.output_area.outputs[j];\n",
       "                if (data.data) {\n",
       "                    // IPython >= 3 moved mimebundle to data attribute of output\n",
       "                    data = data.data;\n",
       "                }\n",
       "                if (data['text/html'] == html_output) {\n",
       "                    return [cell, data, j];\n",
       "                }\n",
       "            }\n",
       "        }\n",
       "    }\n",
       "}\n",
       "\n",
       "// Register the function which deals with the matplotlib target/channel.\n",
       "// The kernel may be null if the page has been refreshed.\n",
       "if (IPython.notebook.kernel != null) {\n",
       "    IPython.notebook.kernel.comm_manager.register_target('matplotlib', mpl.mpl_figure_comm);\n",
       "}\n"
      ],
      "text/plain": [
       "<IPython.core.display.Javascript object>"
      ]
     },
     "metadata": {},
     "output_type": "display_data"
    },
    {
     "data": {
      "text/html": [
       "<img src=\"data:image/png;base64,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\" width=\"431.818172458775\">"
      ],
      "text/plain": [
       "<IPython.core.display.HTML object>"
      ]
     },
     "metadata": {},
     "output_type": "display_data"
    }
   ],
   "source": [
    "plot_iteration(a.cost_rate, min_it=1000)"
   ]
  },
  {
   "cell_type": "code",
   "execution_count": 41,
   "metadata": {},
   "outputs": [
    {
     "data": {
      "application/javascript": [
       "/* Put everything inside the global mpl namespace */\n",
       "window.mpl = {};\n",
       "\n",
       "\n",
       "mpl.get_websocket_type = function() {\n",
       "    if (typeof(WebSocket) !== 'undefined') {\n",
       "        return WebSocket;\n",
       "    } else if (typeof(MozWebSocket) !== 'undefined') {\n",
       "        return MozWebSocket;\n",
       "    } else {\n",
       "        alert('Your browser does not have WebSocket support.' +\n",
       "              'Please try Chrome, Safari or Firefox ≥ 6. ' +\n",
       "              'Firefox 4 and 5 are also supported but you ' +\n",
       "              'have to enable WebSockets in about:config.');\n",
       "    };\n",
       "}\n",
       "\n",
       "mpl.figure = function(figure_id, websocket, ondownload, parent_element) {\n",
       "    this.id = figure_id;\n",
       "\n",
       "    this.ws = websocket;\n",
       "\n",
       "    this.supports_binary = (this.ws.binaryType != undefined);\n",
       "\n",
       "    if (!this.supports_binary) {\n",
       "        var warnings = document.getElementById(\"mpl-warnings\");\n",
       "        if (warnings) {\n",
       "            warnings.style.display = 'block';\n",
       "            warnings.textContent = (\n",
       "                \"This browser does not support binary websocket messages. \" +\n",
       "                    \"Performance may be slow.\");\n",
       "        }\n",
       "    }\n",
       "\n",
       "    this.imageObj = new Image();\n",
       "\n",
       "    this.context = undefined;\n",
       "    this.message = undefined;\n",
       "    this.canvas = undefined;\n",
       "    this.rubberband_canvas = undefined;\n",
       "    this.rubberband_context = undefined;\n",
       "    this.format_dropdown = undefined;\n",
       "\n",
       "    this.image_mode = 'full';\n",
       "\n",
       "    this.root = $('<div/>');\n",
       "    this._root_extra_style(this.root)\n",
       "    this.root.attr('style', 'display: inline-block');\n",
       "\n",
       "    $(parent_element).append(this.root);\n",
       "\n",
       "    this._init_header(this);\n",
       "    this._init_canvas(this);\n",
       "    this._init_toolbar(this);\n",
       "\n",
       "    var fig = this;\n",
       "\n",
       "    this.waiting = false;\n",
       "\n",
       "    this.ws.onopen =  function () {\n",
       "            fig.send_message(\"supports_binary\", {value: fig.supports_binary});\n",
       "            fig.send_message(\"send_image_mode\", {});\n",
       "            if (mpl.ratio != 1) {\n",
       "                fig.send_message(\"set_dpi_ratio\", {'dpi_ratio': mpl.ratio});\n",
       "            }\n",
       "            fig.send_message(\"refresh\", {});\n",
       "        }\n",
       "\n",
       "    this.imageObj.onload = function() {\n",
       "            if (fig.image_mode == 'full') {\n",
       "                // Full images could contain transparency (where diff images\n",
       "                // almost always do), so we need to clear the canvas so that\n",
       "                // there is no ghosting.\n",
       "                fig.context.clearRect(0, 0, fig.canvas.width, fig.canvas.height);\n",
       "            }\n",
       "            fig.context.drawImage(fig.imageObj, 0, 0);\n",
       "        };\n",
       "\n",
       "    this.imageObj.onunload = function() {\n",
       "        fig.ws.close();\n",
       "    }\n",
       "\n",
       "    this.ws.onmessage = this._make_on_message_function(this);\n",
       "\n",
       "    this.ondownload = ondownload;\n",
       "}\n",
       "\n",
       "mpl.figure.prototype._init_header = function() {\n",
       "    var titlebar = $(\n",
       "        '<div class=\"ui-dialog-titlebar ui-widget-header ui-corner-all ' +\n",
       "        'ui-helper-clearfix\"/>');\n",
       "    var titletext = $(\n",
       "        '<div class=\"ui-dialog-title\" style=\"width: 100%; ' +\n",
       "        'text-align: center; padding: 3px;\"/>');\n",
       "    titlebar.append(titletext)\n",
       "    this.root.append(titlebar);\n",
       "    this.header = titletext[0];\n",
       "}\n",
       "\n",
       "\n",
       "\n",
       "mpl.figure.prototype._canvas_extra_style = function(canvas_div) {\n",
       "\n",
       "}\n",
       "\n",
       "\n",
       "mpl.figure.prototype._root_extra_style = function(canvas_div) {\n",
       "\n",
       "}\n",
       "\n",
       "mpl.figure.prototype._init_canvas = function() {\n",
       "    var fig = this;\n",
       "\n",
       "    var canvas_div = $('<div/>');\n",
       "\n",
       "    canvas_div.attr('style', 'position: relative; clear: both; outline: 0');\n",
       "\n",
       "    function canvas_keyboard_event(event) {\n",
       "        return fig.key_event(event, event['data']);\n",
       "    }\n",
       "\n",
       "    canvas_div.keydown('key_press', canvas_keyboard_event);\n",
       "    canvas_div.keyup('key_release', canvas_keyboard_event);\n",
       "    this.canvas_div = canvas_div\n",
       "    this._canvas_extra_style(canvas_div)\n",
       "    this.root.append(canvas_div);\n",
       "\n",
       "    var canvas = $('<canvas/>');\n",
       "    canvas.addClass('mpl-canvas');\n",
       "    canvas.attr('style', \"left: 0; top: 0; z-index: 0; outline: 0\")\n",
       "\n",
       "    this.canvas = canvas[0];\n",
       "    this.context = canvas[0].getContext(\"2d\");\n",
       "\n",
       "    var backingStore = this.context.backingStorePixelRatio ||\n",
       "\tthis.context.webkitBackingStorePixelRatio ||\n",
       "\tthis.context.mozBackingStorePixelRatio ||\n",
       "\tthis.context.msBackingStorePixelRatio ||\n",
       "\tthis.context.oBackingStorePixelRatio ||\n",
       "\tthis.context.backingStorePixelRatio || 1;\n",
       "\n",
       "    mpl.ratio = (window.devicePixelRatio || 1) / backingStore;\n",
       "\n",
       "    var rubberband = $('<canvas/>');\n",
       "    rubberband.attr('style', \"position: absolute; left: 0; top: 0; z-index: 1;\")\n",
       "\n",
       "    var pass_mouse_events = true;\n",
       "\n",
       "    canvas_div.resizable({\n",
       "        start: function(event, ui) {\n",
       "            pass_mouse_events = false;\n",
       "        },\n",
       "        resize: function(event, ui) {\n",
       "            fig.request_resize(ui.size.width, ui.size.height);\n",
       "        },\n",
       "        stop: function(event, ui) {\n",
       "            pass_mouse_events = true;\n",
       "            fig.request_resize(ui.size.width, ui.size.height);\n",
       "        },\n",
       "    });\n",
       "\n",
       "    function mouse_event_fn(event) {\n",
       "        if (pass_mouse_events)\n",
       "            return fig.mouse_event(event, event['data']);\n",
       "    }\n",
       "\n",
       "    rubberband.mousedown('button_press', mouse_event_fn);\n",
       "    rubberband.mouseup('button_release', mouse_event_fn);\n",
       "    // Throttle sequential mouse events to 1 every 20ms.\n",
       "    rubberband.mousemove('motion_notify', mouse_event_fn);\n",
       "\n",
       "    rubberband.mouseenter('figure_enter', mouse_event_fn);\n",
       "    rubberband.mouseleave('figure_leave', mouse_event_fn);\n",
       "\n",
       "    canvas_div.on(\"wheel\", function (event) {\n",
       "        event = event.originalEvent;\n",
       "        event['data'] = 'scroll'\n",
       "        if (event.deltaY < 0) {\n",
       "            event.step = 1;\n",
       "        } else {\n",
       "            event.step = -1;\n",
       "        }\n",
       "        mouse_event_fn(event);\n",
       "    });\n",
       "\n",
       "    canvas_div.append(canvas);\n",
       "    canvas_div.append(rubberband);\n",
       "\n",
       "    this.rubberband = rubberband;\n",
       "    this.rubberband_canvas = rubberband[0];\n",
       "    this.rubberband_context = rubberband[0].getContext(\"2d\");\n",
       "    this.rubberband_context.strokeStyle = \"#000000\";\n",
       "\n",
       "    this._resize_canvas = function(width, height) {\n",
       "        // Keep the size of the canvas, canvas container, and rubber band\n",
       "        // canvas in synch.\n",
       "        canvas_div.css('width', width)\n",
       "        canvas_div.css('height', height)\n",
       "\n",
       "        canvas.attr('width', width * mpl.ratio);\n",
       "        canvas.attr('height', height * mpl.ratio);\n",
       "        canvas.attr('style', 'width: ' + width + 'px; height: ' + height + 'px;');\n",
       "\n",
       "        rubberband.attr('width', width);\n",
       "        rubberband.attr('height', height);\n",
       "    }\n",
       "\n",
       "    // Set the figure to an initial 600x600px, this will subsequently be updated\n",
       "    // upon first draw.\n",
       "    this._resize_canvas(600, 600);\n",
       "\n",
       "    // Disable right mouse context menu.\n",
       "    $(this.rubberband_canvas).bind(\"contextmenu\",function(e){\n",
       "        return false;\n",
       "    });\n",
       "\n",
       "    function set_focus () {\n",
       "        canvas.focus();\n",
       "        canvas_div.focus();\n",
       "    }\n",
       "\n",
       "    window.setTimeout(set_focus, 100);\n",
       "}\n",
       "\n",
       "mpl.figure.prototype._init_toolbar = function() {\n",
       "    var fig = this;\n",
       "\n",
       "    var nav_element = $('<div/>')\n",
       "    nav_element.attr('style', 'width: 100%');\n",
       "    this.root.append(nav_element);\n",
       "\n",
       "    // Define a callback function for later on.\n",
       "    function toolbar_event(event) {\n",
       "        return fig.toolbar_button_onclick(event['data']);\n",
       "    }\n",
       "    function toolbar_mouse_event(event) {\n",
       "        return fig.toolbar_button_onmouseover(event['data']);\n",
       "    }\n",
       "\n",
       "    for(var toolbar_ind in mpl.toolbar_items) {\n",
       "        var name = mpl.toolbar_items[toolbar_ind][0];\n",
       "        var tooltip = mpl.toolbar_items[toolbar_ind][1];\n",
       "        var image = mpl.toolbar_items[toolbar_ind][2];\n",
       "        var method_name = mpl.toolbar_items[toolbar_ind][3];\n",
       "\n",
       "        if (!name) {\n",
       "            // put a spacer in here.\n",
       "            continue;\n",
       "        }\n",
       "        var button = $('<button/>');\n",
       "        button.addClass('ui-button ui-widget ui-state-default ui-corner-all ' +\n",
       "                        'ui-button-icon-only');\n",
       "        button.attr('role', 'button');\n",
       "        button.attr('aria-disabled', 'false');\n",
       "        button.click(method_name, toolbar_event);\n",
       "        button.mouseover(tooltip, toolbar_mouse_event);\n",
       "\n",
       "        var icon_img = $('<span/>');\n",
       "        icon_img.addClass('ui-button-icon-primary ui-icon');\n",
       "        icon_img.addClass(image);\n",
       "        icon_img.addClass('ui-corner-all');\n",
       "\n",
       "        var tooltip_span = $('<span/>');\n",
       "        tooltip_span.addClass('ui-button-text');\n",
       "        tooltip_span.html(tooltip);\n",
       "\n",
       "        button.append(icon_img);\n",
       "        button.append(tooltip_span);\n",
       "\n",
       "        nav_element.append(button);\n",
       "    }\n",
       "\n",
       "    var fmt_picker_span = $('<span/>');\n",
       "\n",
       "    var fmt_picker = $('<select/>');\n",
       "    fmt_picker.addClass('mpl-toolbar-option ui-widget ui-widget-content');\n",
       "    fmt_picker_span.append(fmt_picker);\n",
       "    nav_element.append(fmt_picker_span);\n",
       "    this.format_dropdown = fmt_picker[0];\n",
       "\n",
       "    for (var ind in mpl.extensions) {\n",
       "        var fmt = mpl.extensions[ind];\n",
       "        var option = $(\n",
       "            '<option/>', {selected: fmt === mpl.default_extension}).html(fmt);\n",
       "        fmt_picker.append(option)\n",
       "    }\n",
       "\n",
       "    // Add hover states to the ui-buttons\n",
       "    $( \".ui-button\" ).hover(\n",
       "        function() { $(this).addClass(\"ui-state-hover\");},\n",
       "        function() { $(this).removeClass(\"ui-state-hover\");}\n",
       "    );\n",
       "\n",
       "    var status_bar = $('<span class=\"mpl-message\"/>');\n",
       "    nav_element.append(status_bar);\n",
       "    this.message = status_bar[0];\n",
       "}\n",
       "\n",
       "mpl.figure.prototype.request_resize = function(x_pixels, y_pixels) {\n",
       "    // Request matplotlib to resize the figure. Matplotlib will then trigger a resize in the client,\n",
       "    // which will in turn request a refresh of the image.\n",
       "    this.send_message('resize', {'width': x_pixels, 'height': y_pixels});\n",
       "}\n",
       "\n",
       "mpl.figure.prototype.send_message = function(type, properties) {\n",
       "    properties['type'] = type;\n",
       "    properties['figure_id'] = this.id;\n",
       "    this.ws.send(JSON.stringify(properties));\n",
       "}\n",
       "\n",
       "mpl.figure.prototype.send_draw_message = function() {\n",
       "    if (!this.waiting) {\n",
       "        this.waiting = true;\n",
       "        this.ws.send(JSON.stringify({type: \"draw\", figure_id: this.id}));\n",
       "    }\n",
       "}\n",
       "\n",
       "\n",
       "mpl.figure.prototype.handle_save = function(fig, msg) {\n",
       "    var format_dropdown = fig.format_dropdown;\n",
       "    var format = format_dropdown.options[format_dropdown.selectedIndex].value;\n",
       "    fig.ondownload(fig, format);\n",
       "}\n",
       "\n",
       "\n",
       "mpl.figure.prototype.handle_resize = function(fig, msg) {\n",
       "    var size = msg['size'];\n",
       "    if (size[0] != fig.canvas.width || size[1] != fig.canvas.height) {\n",
       "        fig._resize_canvas(size[0], size[1]);\n",
       "        fig.send_message(\"refresh\", {});\n",
       "    };\n",
       "}\n",
       "\n",
       "mpl.figure.prototype.handle_rubberband = function(fig, msg) {\n",
       "    var x0 = msg['x0'] / mpl.ratio;\n",
       "    var y0 = (fig.canvas.height - msg['y0']) / mpl.ratio;\n",
       "    var x1 = msg['x1'] / mpl.ratio;\n",
       "    var y1 = (fig.canvas.height - msg['y1']) / mpl.ratio;\n",
       "    x0 = Math.floor(x0) + 0.5;\n",
       "    y0 = Math.floor(y0) + 0.5;\n",
       "    x1 = Math.floor(x1) + 0.5;\n",
       "    y1 = Math.floor(y1) + 0.5;\n",
       "    var min_x = Math.min(x0, x1);\n",
       "    var min_y = Math.min(y0, y1);\n",
       "    var width = Math.abs(x1 - x0);\n",
       "    var height = Math.abs(y1 - y0);\n",
       "\n",
       "    fig.rubberband_context.clearRect(\n",
       "        0, 0, fig.canvas.width, fig.canvas.height);\n",
       "\n",
       "    fig.rubberband_context.strokeRect(min_x, min_y, width, height);\n",
       "}\n",
       "\n",
       "mpl.figure.prototype.handle_figure_label = function(fig, msg) {\n",
       "    // Updates the figure title.\n",
       "    fig.header.textContent = msg['label'];\n",
       "}\n",
       "\n",
       "mpl.figure.prototype.handle_cursor = function(fig, msg) {\n",
       "    var cursor = msg['cursor'];\n",
       "    switch(cursor)\n",
       "    {\n",
       "    case 0:\n",
       "        cursor = 'pointer';\n",
       "        break;\n",
       "    case 1:\n",
       "        cursor = 'default';\n",
       "        break;\n",
       "    case 2:\n",
       "        cursor = 'crosshair';\n",
       "        break;\n",
       "    case 3:\n",
       "        cursor = 'move';\n",
       "        break;\n",
       "    }\n",
       "    fig.rubberband_canvas.style.cursor = cursor;\n",
       "}\n",
       "\n",
       "mpl.figure.prototype.handle_message = function(fig, msg) {\n",
       "    fig.message.textContent = msg['message'];\n",
       "}\n",
       "\n",
       "mpl.figure.prototype.handle_draw = function(fig, msg) {\n",
       "    // Request the server to send over a new figure.\n",
       "    fig.send_draw_message();\n",
       "}\n",
       "\n",
       "mpl.figure.prototype.handle_image_mode = function(fig, msg) {\n",
       "    fig.image_mode = msg['mode'];\n",
       "}\n",
       "\n",
       "mpl.figure.prototype.updated_canvas_event = function() {\n",
       "    // Called whenever the canvas gets updated.\n",
       "    this.send_message(\"ack\", {});\n",
       "}\n",
       "\n",
       "// A function to construct a web socket function for onmessage handling.\n",
       "// Called in the figure constructor.\n",
       "mpl.figure.prototype._make_on_message_function = function(fig) {\n",
       "    return function socket_on_message(evt) {\n",
       "        if (evt.data instanceof Blob) {\n",
       "            /* FIXME: We get \"Resource interpreted as Image but\n",
       "             * transferred with MIME type text/plain:\" errors on\n",
       "             * Chrome.  But how to set the MIME type?  It doesn't seem\n",
       "             * to be part of the websocket stream */\n",
       "            evt.data.type = \"image/png\";\n",
       "\n",
       "            /* Free the memory for the previous frames */\n",
       "            if (fig.imageObj.src) {\n",
       "                (window.URL || window.webkitURL).revokeObjectURL(\n",
       "                    fig.imageObj.src);\n",
       "            }\n",
       "\n",
       "            fig.imageObj.src = (window.URL || window.webkitURL).createObjectURL(\n",
       "                evt.data);\n",
       "            fig.updated_canvas_event();\n",
       "            fig.waiting = false;\n",
       "            return;\n",
       "        }\n",
       "        else if (typeof evt.data === 'string' && evt.data.slice(0, 21) == \"data:image/png;base64\") {\n",
       "            fig.imageObj.src = evt.data;\n",
       "            fig.updated_canvas_event();\n",
       "            fig.waiting = false;\n",
       "            return;\n",
       "        }\n",
       "\n",
       "        var msg = JSON.parse(evt.data);\n",
       "        var msg_type = msg['type'];\n",
       "\n",
       "        // Call the  \"handle_{type}\" callback, which takes\n",
       "        // the figure and JSON message as its only arguments.\n",
       "        try {\n",
       "            var callback = fig[\"handle_\" + msg_type];\n",
       "        } catch (e) {\n",
       "            console.log(\"No handler for the '\" + msg_type + \"' message type: \", msg);\n",
       "            return;\n",
       "        }\n",
       "\n",
       "        if (callback) {\n",
       "            try {\n",
       "                // console.log(\"Handling '\" + msg_type + \"' message: \", msg);\n",
       "                callback(fig, msg);\n",
       "            } catch (e) {\n",
       "                console.log(\"Exception inside the 'handler_\" + msg_type + \"' callback:\", e, e.stack, msg);\n",
       "            }\n",
       "        }\n",
       "    };\n",
       "}\n",
       "\n",
       "// from http://stackoverflow.com/questions/1114465/getting-mouse-location-in-canvas\n",
       "mpl.findpos = function(e) {\n",
       "    //this section is from http://www.quirksmode.org/js/events_properties.html\n",
       "    var targ;\n",
       "    if (!e)\n",
       "        e = window.event;\n",
       "    if (e.target)\n",
       "        targ = e.target;\n",
       "    else if (e.srcElement)\n",
       "        targ = e.srcElement;\n",
       "    if (targ.nodeType == 3) // defeat Safari bug\n",
       "        targ = targ.parentNode;\n",
       "\n",
       "    // jQuery normalizes the pageX and pageY\n",
       "    // pageX,Y are the mouse positions relative to the document\n",
       "    // offset() returns the position of the element relative to the document\n",
       "    var x = e.pageX - $(targ).offset().left;\n",
       "    var y = e.pageY - $(targ).offset().top;\n",
       "\n",
       "    return {\"x\": x, \"y\": y};\n",
       "};\n",
       "\n",
       "/*\n",
       " * return a copy of an object with only non-object keys\n",
       " * we need this to avoid circular references\n",
       " * http://stackoverflow.com/a/24161582/3208463\n",
       " */\n",
       "function simpleKeys (original) {\n",
       "  return Object.keys(original).reduce(function (obj, key) {\n",
       "    if (typeof original[key] !== 'object')\n",
       "        obj[key] = original[key]\n",
       "    return obj;\n",
       "  }, {});\n",
       "}\n",
       "\n",
       "mpl.figure.prototype.mouse_event = function(event, name) {\n",
       "    var canvas_pos = mpl.findpos(event)\n",
       "\n",
       "    if (name === 'button_press')\n",
       "    {\n",
       "        this.canvas.focus();\n",
       "        this.canvas_div.focus();\n",
       "    }\n",
       "\n",
       "    var x = canvas_pos.x * mpl.ratio;\n",
       "    var y = canvas_pos.y * mpl.ratio;\n",
       "\n",
       "    this.send_message(name, {x: x, y: y, button: event.button,\n",
       "                             step: event.step,\n",
       "                             guiEvent: simpleKeys(event)});\n",
       "\n",
       "    /* This prevents the web browser from automatically changing to\n",
       "     * the text insertion cursor when the button is pressed.  We want\n",
       "     * to control all of the cursor setting manually through the\n",
       "     * 'cursor' event from matplotlib */\n",
       "    event.preventDefault();\n",
       "    return false;\n",
       "}\n",
       "\n",
       "mpl.figure.prototype._key_event_extra = function(event, name) {\n",
       "    // Handle any extra behaviour associated with a key event\n",
       "}\n",
       "\n",
       "mpl.figure.prototype.key_event = function(event, name) {\n",
       "\n",
       "    // Prevent repeat events\n",
       "    if (name == 'key_press')\n",
       "    {\n",
       "        if (event.which === this._key)\n",
       "            return;\n",
       "        else\n",
       "            this._key = event.which;\n",
       "    }\n",
       "    if (name == 'key_release')\n",
       "        this._key = null;\n",
       "\n",
       "    var value = '';\n",
       "    if (event.ctrlKey && event.which != 17)\n",
       "        value += \"ctrl+\";\n",
       "    if (event.altKey && event.which != 18)\n",
       "        value += \"alt+\";\n",
       "    if (event.shiftKey && event.which != 16)\n",
       "        value += \"shift+\";\n",
       "\n",
       "    value += 'k';\n",
       "    value += event.which.toString();\n",
       "\n",
       "    this._key_event_extra(event, name);\n",
       "\n",
       "    this.send_message(name, {key: value,\n",
       "                             guiEvent: simpleKeys(event)});\n",
       "    return false;\n",
       "}\n",
       "\n",
       "mpl.figure.prototype.toolbar_button_onclick = function(name) {\n",
       "    if (name == 'download') {\n",
       "        this.handle_save(this, null);\n",
       "    } else {\n",
       "        this.send_message(\"toolbar_button\", {name: name});\n",
       "    }\n",
       "};\n",
       "\n",
       "mpl.figure.prototype.toolbar_button_onmouseover = function(tooltip) {\n",
       "    this.message.textContent = tooltip;\n",
       "};\n",
       "mpl.toolbar_items = [[\"Home\", \"Reset original view\", \"fa fa-home icon-home\", \"home\"], [\"Back\", \"Back to previous view\", \"fa fa-arrow-left icon-arrow-left\", \"back\"], [\"Forward\", \"Forward to next view\", \"fa fa-arrow-right icon-arrow-right\", \"forward\"], [\"\", \"\", \"\", \"\"], [\"Pan\", \"Pan axes with left mouse, zoom with right\", \"fa fa-arrows icon-move\", \"pan\"], [\"Zoom\", \"Zoom to rectangle\", \"fa fa-square-o icon-check-empty\", \"zoom\"], [\"\", \"\", \"\", \"\"], [\"Download\", \"Download plot\", \"fa fa-floppy-o icon-save\", \"download\"]];\n",
       "\n",
       "mpl.extensions = [\"eps\", \"jpeg\", \"pdf\", \"png\", \"ps\", \"raw\", \"svg\", \"tif\"];\n",
       "\n",
       "mpl.default_extension = \"png\";var comm_websocket_adapter = function(comm) {\n",
       "    // Create a \"websocket\"-like object which calls the given IPython comm\n",
       "    // object with the appropriate methods. Currently this is a non binary\n",
       "    // socket, so there is still some room for performance tuning.\n",
       "    var ws = {};\n",
       "\n",
       "    ws.close = function() {\n",
       "        comm.close()\n",
       "    };\n",
       "    ws.send = function(m) {\n",
       "        //console.log('sending', m);\n",
       "        comm.send(m);\n",
       "    };\n",
       "    // Register the callback with on_msg.\n",
       "    comm.on_msg(function(msg) {\n",
       "        //console.log('receiving', msg['content']['data'], msg);\n",
       "        // Pass the mpl event to the overridden (by mpl) onmessage function.\n",
       "        ws.onmessage(msg['content']['data'])\n",
       "    });\n",
       "    return ws;\n",
       "}\n",
       "\n",
       "mpl.mpl_figure_comm = function(comm, msg) {\n",
       "    // This is the function which gets called when the mpl process\n",
       "    // starts-up an IPython Comm through the \"matplotlib\" channel.\n",
       "\n",
       "    var id = msg.content.data.id;\n",
       "    // Get hold of the div created by the display call when the Comm\n",
       "    // socket was opened in Python.\n",
       "    var element = $(\"#\" + id);\n",
       "    var ws_proxy = comm_websocket_adapter(comm)\n",
       "\n",
       "    function ondownload(figure, format) {\n",
       "        window.open(figure.imageObj.src);\n",
       "    }\n",
       "\n",
       "    var fig = new mpl.figure(id, ws_proxy,\n",
       "                           ondownload,\n",
       "                           element.get(0));\n",
       "\n",
       "    // Call onopen now - mpl needs it, as it is assuming we've passed it a real\n",
       "    // web socket which is closed, not our websocket->open comm proxy.\n",
       "    ws_proxy.onopen();\n",
       "\n",
       "    fig.parent_element = element.get(0);\n",
       "    fig.cell_info = mpl.find_output_cell(\"<div id='\" + id + \"'></div>\");\n",
       "    if (!fig.cell_info) {\n",
       "        console.error(\"Failed to find cell for figure\", id, fig);\n",
       "        return;\n",
       "    }\n",
       "\n",
       "    var output_index = fig.cell_info[2]\n",
       "    var cell = fig.cell_info[0];\n",
       "\n",
       "};\n",
       "\n",
       "mpl.figure.prototype.handle_close = function(fig, msg) {\n",
       "    var width = fig.canvas.width/mpl.ratio\n",
       "    fig.root.unbind('remove')\n",
       "\n",
       "    // Update the output cell to use the data from the current canvas.\n",
       "    fig.push_to_output();\n",
       "    var dataURL = fig.canvas.toDataURL();\n",
       "    // Re-enable the keyboard manager in IPython - without this line, in FF,\n",
       "    // the notebook keyboard shortcuts fail.\n",
       "    IPython.keyboard_manager.enable()\n",
       "    $(fig.parent_element).html('<img src=\"' + dataURL + '\" width=\"' + width + '\">');\n",
       "    fig.close_ws(fig, msg);\n",
       "}\n",
       "\n",
       "mpl.figure.prototype.close_ws = function(fig, msg){\n",
       "    fig.send_message('closing', msg);\n",
       "    // fig.ws.close()\n",
       "}\n",
       "\n",
       "mpl.figure.prototype.push_to_output = function(remove_interactive) {\n",
       "    // Turn the data on the canvas into data in the output cell.\n",
       "    var width = this.canvas.width/mpl.ratio\n",
       "    var dataURL = this.canvas.toDataURL();\n",
       "    this.cell_info[1]['text/html'] = '<img src=\"' + dataURL + '\" width=\"' + width + '\">';\n",
       "}\n",
       "\n",
       "mpl.figure.prototype.updated_canvas_event = function() {\n",
       "    // Tell IPython that the notebook contents must change.\n",
       "    IPython.notebook.set_dirty(true);\n",
       "    this.send_message(\"ack\", {});\n",
       "    var fig = this;\n",
       "    // Wait a second, then push the new image to the DOM so\n",
       "    // that it is saved nicely (might be nice to debounce this).\n",
       "    setTimeout(function () { fig.push_to_output() }, 1000);\n",
       "}\n",
       "\n",
       "mpl.figure.prototype._init_toolbar = function() {\n",
       "    var fig = this;\n",
       "\n",
       "    var nav_element = $('<div/>')\n",
       "    nav_element.attr('style', 'width: 100%');\n",
       "    this.root.append(nav_element);\n",
       "\n",
       "    // Define a callback function for later on.\n",
       "    function toolbar_event(event) {\n",
       "        return fig.toolbar_button_onclick(event['data']);\n",
       "    }\n",
       "    function toolbar_mouse_event(event) {\n",
       "        return fig.toolbar_button_onmouseover(event['data']);\n",
       "    }\n",
       "\n",
       "    for(var toolbar_ind in mpl.toolbar_items){\n",
       "        var name = mpl.toolbar_items[toolbar_ind][0];\n",
       "        var tooltip = mpl.toolbar_items[toolbar_ind][1];\n",
       "        var image = mpl.toolbar_items[toolbar_ind][2];\n",
       "        var method_name = mpl.toolbar_items[toolbar_ind][3];\n",
       "\n",
       "        if (!name) { continue; };\n",
       "\n",
       "        var button = $('<button class=\"btn btn-default\" href=\"#\" title=\"' + name + '\"><i class=\"fa ' + image + ' fa-lg\"></i></button>');\n",
       "        button.click(method_name, toolbar_event);\n",
       "        button.mouseover(tooltip, toolbar_mouse_event);\n",
       "        nav_element.append(button);\n",
       "    }\n",
       "\n",
       "    // Add the status bar.\n",
       "    var status_bar = $('<span class=\"mpl-message\" style=\"text-align:right; float: right;\"/>');\n",
       "    nav_element.append(status_bar);\n",
       "    this.message = status_bar[0];\n",
       "\n",
       "    // Add the close button to the window.\n",
       "    var buttongrp = $('<div class=\"btn-group inline pull-right\"></div>');\n",
       "    var button = $('<button class=\"btn btn-mini btn-primary\" href=\"#\" title=\"Stop Interaction\"><i class=\"fa fa-power-off icon-remove icon-large\"></i></button>');\n",
       "    button.click(function (evt) { fig.handle_close(fig, {}); } );\n",
       "    button.mouseover('Stop Interaction', toolbar_mouse_event);\n",
       "    buttongrp.append(button);\n",
       "    var titlebar = this.root.find($('.ui-dialog-titlebar'));\n",
       "    titlebar.prepend(buttongrp);\n",
       "}\n",
       "\n",
       "mpl.figure.prototype._root_extra_style = function(el){\n",
       "    var fig = this\n",
       "    el.on(\"remove\", function(){\n",
       "\tfig.close_ws(fig, {});\n",
       "    });\n",
       "}\n",
       "\n",
       "mpl.figure.prototype._canvas_extra_style = function(el){\n",
       "    // this is important to make the div 'focusable\n",
       "    el.attr('tabindex', 0)\n",
       "    // reach out to IPython and tell the keyboard manager to turn it's self\n",
       "    // off when our div gets focus\n",
       "\n",
       "    // location in version 3\n",
       "    if (IPython.notebook.keyboard_manager) {\n",
       "        IPython.notebook.keyboard_manager.register_events(el);\n",
       "    }\n",
       "    else {\n",
       "        // location in version 2\n",
       "        IPython.keyboard_manager.register_events(el);\n",
       "    }\n",
       "\n",
       "}\n",
       "\n",
       "mpl.figure.prototype._key_event_extra = function(event, name) {\n",
       "    var manager = IPython.notebook.keyboard_manager;\n",
       "    if (!manager)\n",
       "        manager = IPython.keyboard_manager;\n",
       "\n",
       "    // Check for shift+enter\n",
       "    if (event.shiftKey && event.which == 13) {\n",
       "        this.canvas_div.blur();\n",
       "        event.shiftKey = false;\n",
       "        // Send a \"J\" for go to next cell\n",
       "        event.which = 74;\n",
       "        event.keyCode = 74;\n",
       "        manager.command_mode();\n",
       "        manager.handle_keydown(event);\n",
       "    }\n",
       "}\n",
       "\n",
       "mpl.figure.prototype.handle_save = function(fig, msg) {\n",
       "    fig.ondownload(fig, null);\n",
       "}\n",
       "\n",
       "\n",
       "mpl.find_output_cell = function(html_output) {\n",
       "    // Return the cell and output element which can be found *uniquely* in the notebook.\n",
       "    // Note - this is a bit hacky, but it is done because the \"notebook_saving.Notebook\"\n",
       "    // IPython event is triggered only after the cells have been serialised, which for\n",
       "    // our purposes (turning an active figure into a static one), is too late.\n",
       "    var cells = IPython.notebook.get_cells();\n",
       "    var ncells = cells.length;\n",
       "    for (var i=0; i<ncells; i++) {\n",
       "        var cell = cells[i];\n",
       "        if (cell.cell_type === 'code'){\n",
       "            for (var j=0; j<cell.output_area.outputs.length; j++) {\n",
       "                var data = cell.output_area.outputs[j];\n",
       "                if (data.data) {\n",
       "                    // IPython >= 3 moved mimebundle to data attribute of output\n",
       "                    data = data.data;\n",
       "                }\n",
       "                if (data['text/html'] == html_output) {\n",
       "                    return [cell, data, j];\n",
       "                }\n",
       "            }\n",
       "        }\n",
       "    }\n",
       "}\n",
       "\n",
       "// Register the function which deals with the matplotlib target/channel.\n",
       "// The kernel may be null if the page has been refreshed.\n",
       "if (IPython.notebook.kernel != null) {\n",
       "    IPython.notebook.kernel.comm_manager.register_target('matplotlib', mpl.mpl_figure_comm);\n",
       "}\n"
      ],
      "text/plain": [
       "<IPython.core.display.Javascript object>"
      ]
     },
     "metadata": {},
     "output_type": "display_data"
    },
    {
     "data": {
      "text/html": [
       "<img src=\"data:image/png;base64,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\" width=\"431.818172458775\">"
      ],
      "text/plain": [
       "<IPython.core.display.HTML object>"
      ]
     },
     "metadata": {},
     "output_type": "display_data"
    }
   ],
   "source": [
    "plot_iteration(a.rel_err, min_it=1000)"
   ]
  },
  {
   "cell_type": "code",
   "execution_count": null,
   "metadata": {},
   "outputs": [],
   "source": []
  },
  {
   "cell_type": "code",
   "execution_count": null,
   "metadata": {},
   "outputs": [],
   "source": []
  },
  {
   "cell_type": "code",
   "execution_count": null,
   "metadata": {},
   "outputs": [],
   "source": []
  },
  {
   "cell_type": "code",
   "execution_count": null,
   "metadata": {},
   "outputs": [],
   "source": []
  },
  {
   "cell_type": "code",
   "execution_count": null,
   "metadata": {},
   "outputs": [],
   "source": []
  },
  {
   "cell_type": "code",
   "execution_count": null,
   "metadata": {},
   "outputs": [],
   "source": []
  },
  {
   "cell_type": "code",
   "execution_count": null,
   "metadata": {},
   "outputs": [],
   "source": []
  },
  {
   "cell_type": "code",
   "execution_count": null,
   "metadata": {},
   "outputs": [],
   "source": []
  },
  {
   "cell_type": "code",
   "execution_count": null,
   "metadata": {},
   "outputs": [],
   "source": []
  },
  {
   "cell_type": "code",
   "execution_count": null,
   "metadata": {},
   "outputs": [],
   "source": [
    "p1 = np.load('output/20191223-1714_eq1_1_nn_params.npz')['arr_0']\n",
    "p2 = np.load('output/20191223-1714_eq1_2_nn_params.npz')['arr_0']\n",
    "p3 = np.load('output/20191223-1714_eq1_3_nn_params.npz')['arr_0']\n",
    "p4 = np.load('output/20191223-1730_eq1_4_nn_params.npz')['arr_0']\n",
    "p5 = np.load('output/20191223-1730_eq1_5_nn_params.npz')['arr_0']\n",
    "p6 = np.load('output/20191223-1731_eq1_6_nn_params.npz')['arr_0']\n",
    "p7 = np.load('output/20191223-1731_eq1_7_nn_params.npz')['arr_0']"
   ]
  },
  {
   "cell_type": "code",
   "execution_count": null,
   "metadata": {},
   "outputs": [],
   "source": [
    "plot_partitions(p1)"
   ]
  },
  {
   "cell_type": "code",
   "execution_count": null,
   "metadata": {},
   "outputs": [],
   "source": []
  },
  {
   "cell_type": "code",
   "execution_count": null,
   "metadata": {},
   "outputs": [],
   "source": []
  },
  {
   "cell_type": "code",
   "execution_count": null,
   "metadata": {},
   "outputs": [],
   "source": []
  },
  {
   "cell_type": "code",
   "execution_count": null,
   "metadata": {},
   "outputs": [],
   "source": []
  },
  {
   "cell_type": "code",
   "execution_count": 42,
   "metadata": {},
   "outputs": [],
   "source": [
    "name_str = 'L97_eq1_7_v1'\n",
    "a.save_result(name_str)\n",
    "\n",
    "timestr = time.strftime(\"%Y%m%d-%H%M\")\n",
    "np.savez('output/'+ timestr + '_' + name_str + '_momentum.npz', a.m_t)\n",
    "np.savez('output/'+ timestr + '_' + name_str + '_p_list.npz', p)"
   ]
  },
  {
   "cell_type": "code",
   "execution_count": null,
   "metadata": {},
   "outputs": [],
   "source": [
    "name_str = '20200716-2122_eq1_1'\n",
    "\n",
    "a.p = np.load('output/' + name_str + '_v1_nn_params.npz')['arr_0']\n",
    "a.cost_rate = np.load('output/' + name_str + '_v1_cost_rate.npz')['arr_0']\n",
    "a.rel_err = np.load('output/' + name_str + '_v1_rel_err.npz')['arr_0']\n",
    "a.m_t = np.load('output/' + name_str + '_v1_momentum.npz')['arr_0']\n",
    "p = np.load('output/' + name_str + '_v1_p_list.npz')['arr_0']"
   ]
  },
  {
   "cell_type": "code",
   "execution_count": null,
   "metadata": {},
   "outputs": [],
   "source": []
  },
  {
   "cell_type": "code",
   "execution_count": null,
   "metadata": {},
   "outputs": [],
   "source": []
  }
 ],
 "metadata": {
  "kernelspec": {
   "display_name": "Python 3",
   "language": "python",
   "name": "python3"
  },
  "language_info": {
   "codemirror_mode": {
    "name": "ipython",
    "version": 3
   },
   "file_extension": ".py",
   "mimetype": "text/x-python",
   "name": "python",
   "nbconvert_exporter": "python",
   "pygments_lexer": "ipython3",
   "version": "3.6.7"
  },
  "notify_time": "30",
  "toc": {
   "base_numbering": 1,
   "nav_menu": {},
   "number_sections": true,
   "sideBar": true,
   "skip_h1_title": false,
   "title_cell": "Table of Contents",
   "title_sidebar": "Contents",
   "toc_cell": false,
   "toc_position": {
    "height": "calc(100% - 180px)",
    "left": "10px",
    "top": "150px",
    "width": "216.797px"
   },
   "toc_section_display": true,
   "toc_window_display": false
  },
  "varInspector": {
   "cols": {
    "lenName": 16,
    "lenType": 16,
    "lenVar": 40
   },
   "kernels_config": {
    "python": {
     "delete_cmd_postfix": "",
     "delete_cmd_prefix": "del ",
     "library": "var_list.py",
     "varRefreshCmd": "print(var_dic_list())"
    },
    "r": {
     "delete_cmd_postfix": ") ",
     "delete_cmd_prefix": "rm(",
     "library": "var_list.r",
     "varRefreshCmd": "cat(var_dic_list()) "
    }
   },
   "types_to_exclude": [
    "module",
    "function",
    "builtin_function_or_method",
    "instance",
    "_Feature"
   ],
   "window_display": false
  }
 },
 "nbformat": 4,
 "nbformat_minor": 2
}
