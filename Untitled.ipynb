{
 "cells": [
  {
   "cell_type": "code",
   "execution_count": 1,
   "metadata": {},
   "outputs": [],
   "source": [
    "import numpy as np\n",
    "import itertools\n",
    "import time\n",
    "from matplotlib import pyplot as plt\n",
    "from mpl_toolkits.mplot3d import Axes3D\n",
    "from matplotlib import cm"
   ]
  },
  {
   "cell_type": "code",
   "execution_count": 2,
   "metadata": {},
   "outputs": [],
   "source": [
    "%matplotlib notebook\n",
    "%matplotlib notebook"
   ]
  },
  {
   "cell_type": "code",
   "execution_count": null,
   "metadata": {},
   "outputs": [],
   "source": []
  },
  {
   "cell_type": "code",
   "execution_count": 19,
   "metadata": {},
   "outputs": [
    {
     "data": {
      "text/plain": [
       "[(0.01, 0),\n",
       " (0.01, 1),\n",
       " (0.016681005372000592, 0),\n",
       " (0.016681005372000592, 1),\n",
       " (0.027825594022071243, 0),\n",
       " (0.027825594022071243, 1),\n",
       " (0.046415888336127774, 0),\n",
       " (0.046415888336127774, 1),\n",
       " (0.0774263682681127, 0),\n",
       " (0.0774263682681127, 1),\n",
       " (0.1291549665014884, 0),\n",
       " (0.1291549665014884, 1),\n",
       " (0.21544346900318834, 0),\n",
       " (0.21544346900318834, 1),\n",
       " (0.3593813663804626, 0),\n",
       " (0.3593813663804626, 1),\n",
       " (0.5994842503189409, 0),\n",
       " (0.5994842503189409, 1),\n",
       " (1.0, 0),\n",
       " (1.0, 1),\n",
       " (0.99, 0),\n",
       " (0.99, 1),\n",
       " (0.9833189946279994, 0),\n",
       " (0.9833189946279994, 1),\n",
       " (0.9721744059779287, 0),\n",
       " (0.9721744059779287, 1),\n",
       " (0.9535841116638722, 0),\n",
       " (0.9535841116638722, 1),\n",
       " (0.9225736317318873, 0),\n",
       " (0.9225736317318873, 1),\n",
       " (0.8708450334985116, 0),\n",
       " (0.8708450334985116, 1),\n",
       " (0.7845565309968117, 0),\n",
       " (0.7845565309968117, 1),\n",
       " (0.6406186336195374, 0),\n",
       " (0.6406186336195374, 1),\n",
       " (0.4005157496810591, 0),\n",
       " (0.4005157496810591, 1),\n",
       " (0.0, 0),\n",
       " (0.0, 1),\n",
       " (0.01,),\n",
       " (0.016681005372000592,),\n",
       " (0.027825594022071243,),\n",
       " (0.046415888336127774,),\n",
       " (0.0774263682681127,),\n",
       " (0.1291549665014884,),\n",
       " (0.21544346900318834,),\n",
       " (0.3593813663804626,),\n",
       " (0.5994842503189409,),\n",
       " (1.0,),\n",
       " (0, 0.99),\n",
       " (0, 0.9833189946279994),\n",
       " (0, 0.9721744059779287),\n",
       " (0, 0.9535841116638722),\n",
       " (0, 0.9225736317318873),\n",
       " (0, 0.8708450334985116),\n",
       " (0, 0.7845565309968117),\n",
       " (0, 0.6406186336195374),\n",
       " (0, 0.4005157496810591),\n",
       " (0, 0.0),\n",
       " (1, 0.99),\n",
       " (1, 0.9833189946279994),\n",
       " (1, 0.9721744059779287),\n",
       " (1, 0.9535841116638722),\n",
       " (1, 0.9225736317318873),\n",
       " (1, 0.8708450334985116),\n",
       " (1, 0.7845565309968117),\n",
       " (1, 0.6406186336195374),\n",
       " (1, 0.4005157496810591),\n",
       " (1, 0.0)]"
      ]
     },
     "execution_count": 19,
     "metadata": {},
     "output_type": "execute_result"
    }
   ],
   "source": [
    "list(itertools.product(np.logspace(-2,0,10), [0,1])) + list(itertools.product(1-np.logspace(-2,0,10), [0,1])) + \\\n",
    "list(itertools.product(np.logspace(-2,0,10))) + list(itertools.product([0,1], 1-np.logspace(-2,0,10)))"
   ]
  },
  {
   "cell_type": "code",
   "execution_count": null,
   "metadata": {},
   "outputs": [],
   "source": []
  }
 ],
 "metadata": {
  "kernelspec": {
   "display_name": "Python 3",
   "language": "python",
   "name": "python3"
  },
  "language_info": {
   "codemirror_mode": {
    "name": "ipython",
    "version": 3
   },
   "file_extension": ".py",
   "mimetype": "text/x-python",
   "name": "python",
   "nbconvert_exporter": "python",
   "pygments_lexer": "ipython3",
   "version": "3.6.7"
  },
  "toc": {
   "base_numbering": 1,
   "nav_menu": {},
   "number_sections": true,
   "sideBar": true,
   "skip_h1_title": false,
   "title_cell": "Table of Contents",
   "title_sidebar": "Contents",
   "toc_cell": false,
   "toc_position": {},
   "toc_section_display": true,
   "toc_window_display": false
  },
  "varInspector": {
   "cols": {
    "lenName": 16,
    "lenType": 16,
    "lenVar": 40
   },
   "kernels_config": {
    "python": {
     "delete_cmd_postfix": "",
     "delete_cmd_prefix": "del ",
     "library": "var_list.py",
     "varRefreshCmd": "print(var_dic_list())"
    },
    "r": {
     "delete_cmd_postfix": ") ",
     "delete_cmd_prefix": "rm(",
     "library": "var_list.r",
     "varRefreshCmd": "cat(var_dic_list()) "
    }
   },
   "types_to_exclude": [
    "module",
    "function",
    "builtin_function_or_method",
    "instance",
    "_Feature"
   ],
   "window_display": false
  }
 },
 "nbformat": 4,
 "nbformat_minor": 2
}
