{
 "cells": [
  {
   "cell_type": "markdown",
   "metadata": {
    "heading_collapsed": true,
    "slideshow": {
     "slide_type": "-"
    }
   },
   "source": [
    "# Imports"
   ]
  },
  {
   "cell_type": "code",
   "execution_count": 1,
   "metadata": {
    "hidden": true
   },
   "outputs": [
    {
     "name": "stdout",
     "output_type": "stream",
     "text": [
      "Pixiedust database opened successfully\n"
     ]
    },
    {
     "data": {
      "text/html": [
       "\n",
       "        <div style=\"margin:10px\">\n",
       "            <a href=\"https://github.com/ibm-watson-data-lab/pixiedust\" target=\"_new\">\n",
       "                <img src=\"https://github.com/ibm-watson-data-lab/pixiedust/raw/master/docs/_static/pd_icon32.png\" style=\"float:left;margin-right:10px\"/>\n",
       "            </a>\n",
       "            <span>Pixiedust version 1.1.14</span>\n",
       "        </div>\n",
       "        "
      ],
      "text/plain": [
       "<IPython.core.display.HTML object>"
      ]
     },
     "metadata": {},
     "output_type": "display_data"
    },
    {
     "data": {
      "text/html": [
       "<div>Warning: You are not running the latest version of PixieDust. Current is 1.1.14, Latest is 1.1.17</div>"
      ],
      "text/plain": [
       "<IPython.core.display.HTML object>"
      ]
     },
     "metadata": {},
     "output_type": "display_data"
    },
    {
     "data": {
      "text/html": [
       "\n",
       "                <div>Please copy and run the following command in a new cell to upgrade: <span style=\"background-color:#ececec;font-family:monospace;padding:0 5px\">!pip install --user --upgrade pixiedust</span></div>\n",
       "            "
      ],
      "text/plain": [
       "<IPython.core.display.HTML object>"
      ]
     },
     "metadata": {},
     "output_type": "display_data"
    },
    {
     "data": {
      "text/html": [
       "<div>Please restart kernel after upgrading.</div>"
      ],
      "text/plain": [
       "<IPython.core.display.HTML object>"
      ]
     },
     "metadata": {},
     "output_type": "display_data"
    }
   ],
   "source": [
    "import numpy as np\n",
    "import itertools\n",
    "import time\n",
    "from matplotlib import pyplot as plt\n",
    "from mpl_toolkits.mplot3d import Axes3D\n",
    "from matplotlib import cm\n",
    "import pixiedust"
   ]
  },
  {
   "cell_type": "markdown",
   "metadata": {
    "heading_collapsed": true
   },
   "source": [
    "# Defining functions"
   ]
  },
  {
   "cell_type": "markdown",
   "metadata": {
    "heading_collapsed": true,
    "hidden": true
   },
   "source": [
    "## Sigmoid"
   ]
  },
  {
   "cell_type": "markdown",
   "metadata": {
    "hidden": true
   },
   "source": [
    "Sigmoid $\\sigma(x) = \\frac{1}{1+e^{-x}}$ and its derrivatives."
   ]
  },
  {
   "cell_type": "markdown",
   "metadata": {
    "hidden": true
   },
   "source": [
    "Sigmoid with parameter $t$\n",
    "$$ \\sigma_t(x) = \\frac{1}{1+e^{-tx}}$$"
   ]
  },
  {
   "cell_type": "code",
   "execution_count": 2,
   "metadata": {
    "hidden": true
   },
   "outputs": [],
   "source": [
    "T = 1"
   ]
  },
  {
   "cell_type": "code",
   "execution_count": 3,
   "metadata": {
    "hidden": true
   },
   "outputs": [],
   "source": [
    "def sig(x):\n",
    "    return 1 / (1 + np.exp(-T*x))\n",
    "\n",
    "def sig1(x):\n",
    "    return T * sig(x) * (1 - sig(x))\n",
    "\n",
    "def sig2(x):\n",
    "    return T * (sig1(x) - 2*sig(x)*sig1(x))\n",
    "\n",
    "def sig3(x):\n",
    "    return T * (sig2(x) - 2 * (sig1(x)**2 + sig(x) * sig2(x)))\n",
    "\n",
    "def sig_pr(x, k):\n",
    "    if k==0:\n",
    "        return sig(x)\n",
    "    if k==1:\n",
    "        return sig1(x)\n",
    "    if k==2:\n",
    "        return sig2(x)\n",
    "    if k==3:\n",
    "        return sig3(x)"
   ]
  },
  {
   "cell_type": "markdown",
   "metadata": {
    "heading_collapsed": true,
    "hidden": true
   },
   "source": [
    "## RHS"
   ]
  },
  {
   "cell_type": "markdown",
   "metadata": {
    "hidden": true
   },
   "source": [
    "The right side of the equation:  $\\Delta\\Psi(x,y) = 6 x (x-1) (1-2 y) + 2 y (y-1) (1-2 y)$"
   ]
  },
  {
   "cell_type": "code",
   "execution_count": 4,
   "metadata": {
    "hidden": true
   },
   "outputs": [],
   "source": [
    "K=1\n",
    "def f(x, y):\n",
    "    return -(np.cos(np.sqrt(x**2 + y**2)) / np.sqrt(x**2 + y**2)) + np.sin(np.sqrt(x**2 + y**2))"
   ]
  },
  {
   "cell_type": "markdown",
   "metadata": {
    "hidden": true
   },
   "source": [
    "The analytic solution is given by: $\\ \\Psi_a(x,y) = x (1-x) y (1-y) (1-2 y)$"
   ]
  },
  {
   "cell_type": "code",
   "execution_count": 5,
   "metadata": {
    "hidden": true
   },
   "outputs": [],
   "source": [
    "# def psi_a(x, y):\n",
    "#     return y * (1-y) * np.sin(np.pi * x)\n",
    "\n",
    "def psi_a(x, y):\n",
    "    return -np.sin(np.sqrt(x**2 + y**2))"
   ]
  },
  {
   "cell_type": "markdown",
   "metadata": {
    "hidden": true
   },
   "source": [
    "$$\\frac{\\partial}{\\partial x} \\Psi_a = (1-2x) y (1-y) (1-2 y)$$"
   ]
  },
  {
   "cell_type": "code",
   "execution_count": 6,
   "metadata": {
    "hidden": true
   },
   "outputs": [],
   "source": [
    "# def psi_a_dx(x,y):\n",
    "#     return K * (1-2*x)*y*(1-y)*(1-2*y)"
   ]
  },
  {
   "cell_type": "markdown",
   "metadata": {
    "hidden": true
   },
   "source": [
    "$$\\frac{\\partial}{\\partial y} \\Psi_a = x (1-x) (1-6y + 6y^2) $$"
   ]
  },
  {
   "cell_type": "code",
   "execution_count": 7,
   "metadata": {
    "hidden": true
   },
   "outputs": [],
   "source": [
    "# def psi_a_dy(x,y):\n",
    "#     return K * x*(1-x)*(1-6*y+6*(y**2))"
   ]
  },
  {
   "cell_type": "markdown",
   "metadata": {
    "heading_collapsed": true,
    "hidden": true
   },
   "source": [
    "## Neural Network"
   ]
  },
  {
   "cell_type": "markdown",
   "metadata": {
    "hidden": true
   },
   "source": [
    "The output of neural network $N(x,y,\\vec{p})$, where $\\vec{p} = [w, u, v]$:\n",
    "$$N = \\sum_i^H v_i \\sigma(z_i) \\text{, where } z_i = w_{i0} x + w_{i1} y + u_i$$"
   ]
  },
  {
   "cell_type": "code",
   "execution_count": 8,
   "metadata": {
    "code_folding": [],
    "hidden": true
   },
   "outputs": [],
   "source": [
    "def z(x, y, p):\n",
    "    z_x = np.multiply(x, p[0][0])\n",
    "    z_y = np.multiply(y, p[0][1])\n",
    "    z_ = np.array([z_x, z_y, p[1]]).sum(axis=0)\n",
    "    return z_\n",
    "\n",
    "def N(x, y, p):\n",
    "    return np.sum(np.multiply(sig(z(x,y,p)), p[2]))"
   ]
  },
  {
   "cell_type": "markdown",
   "metadata": {
    "hidden": true
   },
   "source": [
    "$$\\frac{\\partial^k N}{\\partial x_j^k} = \\sum_{i=1}^H v_i w_{ij}^k \\sigma^{(k)}$$"
   ]
  },
  {
   "cell_type": "code",
   "execution_count": 9,
   "metadata": {
    "code_folding": [],
    "hidden": true
   },
   "outputs": [],
   "source": [
    "def dN_dxj_k(x, y, p, j, k):\n",
    "    wj = p[0][j]\n",
    "    v = p[2]\n",
    "    z_ = z(x, y, p)\n",
    "    \n",
    "    return np.sum(v * (wj**k) * sig_pr(z_, k))"
   ]
  },
  {
   "cell_type": "markdown",
   "metadata": {
    "hidden": true
   },
   "source": [
    "$$\\frac{\\partial N}{\\partial w_j} = x_j v \\sigma '$$"
   ]
  },
  {
   "cell_type": "code",
   "execution_count": 10,
   "metadata": {
    "code_folding": [],
    "hidden": true
   },
   "outputs": [],
   "source": [
    "def dN_dwj(x, y, p, j):\n",
    "    xj = x if j==0 else y\n",
    "    v = p[2]\n",
    "    z_ = z(x, y, p)\n",
    "    return xj * v * sig1(z_)"
   ]
  },
  {
   "cell_type": "markdown",
   "metadata": {
    "hidden": true
   },
   "source": [
    "$$ \\frac{\\partial}{\\partial w_j} \\frac{\\partial N}{\\partial x_k} = x_j v w_k \\sigma'' + v_i \\sigma' \\quad\\text{ if } j = k$$\n",
    "\n",
    "$$ \\frac{\\partial}{\\partial w_j} \\frac{\\partial N}{\\partial x_k} = x_j v w_k \\sigma'' \\quad\\text{ if } j \\neq k$$"
   ]
  },
  {
   "cell_type": "code",
   "execution_count": 11,
   "metadata": {
    "code_folding": [],
    "hidden": true
   },
   "outputs": [],
   "source": [
    "def d_dwj_dN_dxk(x, y, p, j, k):\n",
    "    xj = x if j==0 else y\n",
    "    wk = p[0][k]\n",
    "    jk = 1 if j==k else 0\n",
    "    v = p[2]\n",
    "    z_ = z(x, y, p)\n",
    "    return xj * v * wk * sig2(z_) + jk * v * sig1(z_)"
   ]
  },
  {
   "cell_type": "markdown",
   "metadata": {
    "hidden": true
   },
   "source": [
    "$$ \\frac{\\partial}{\\partial w_j} \\frac{\\partial^2 N}{\\partial x_k^2} = x_j v w_k^2 \\sigma^{(3)} + 2 v w_k \\sigma'' \\quad\\text{ if } j = k $$\n",
    "\n",
    "$$ \\frac{\\partial}{\\partial w_j} \\frac{\\partial^2 N}{\\partial x_k^2} = x_j v w_k^2 \\sigma^{(3)} \\quad\\text{ if } j \\neq k $$"
   ]
  },
  {
   "cell_type": "code",
   "execution_count": 12,
   "metadata": {
    "code_folding": [],
    "hidden": true
   },
   "outputs": [],
   "source": [
    "def d_dwj_dN2_dxk2(x, y, p, j, k):\n",
    "    xj = x if j==0 else y\n",
    "    wk = p[0][k]\n",
    "    jk = 1 if j==k else 0\n",
    "    v = p[2]\n",
    "    z_ = z(x, y, p)\n",
    "    return xj * v * (wk**2) * sig3(z_) + jk * 2 * v * wk * sig2(z_)"
   ]
  },
  {
   "cell_type": "markdown",
   "metadata": {
    "hidden": true
   },
   "source": [
    "$$ \\frac{\\partial}{\\partial u} \\frac{\\partial^k}{\\partial x_j^k} N = v w_j^k \\sigma^{(k+1)} $$"
   ]
  },
  {
   "cell_type": "code",
   "execution_count": 13,
   "metadata": {
    "code_folding": [],
    "hidden": true
   },
   "outputs": [],
   "source": [
    "def d_du_dkN(x, y, p, j, k):\n",
    "    v = p[2]\n",
    "    wj = p[0][j]\n",
    "    z_ = z(x, y, p)\n",
    "    return v * (wj**k) * sig_pr(z_, k+1)"
   ]
  },
  {
   "cell_type": "markdown",
   "metadata": {
    "hidden": true
   },
   "source": [
    "$$ \\frac{\\partial}{\\partial v} \\frac{\\partial^k}{\\partial x_j^k} N = w_j^k \\sigma^{(k)} $$"
   ]
  },
  {
   "cell_type": "code",
   "execution_count": 14,
   "metadata": {
    "code_folding": [],
    "hidden": true
   },
   "outputs": [],
   "source": [
    "def d_dv_dkN(x, y, p, j, k):\n",
    "    wj = p[0][j]\n",
    "    z_ = z(x, y, p)\n",
    "    return (wj**k) * sig_pr(z_, k)"
   ]
  },
  {
   "cell_type": "markdown",
   "metadata": {
    "heading_collapsed": true,
    "hidden": true
   },
   "source": [
    "## Cost function"
   ]
  },
  {
   "cell_type": "markdown",
   "metadata": {
    "hidden": true
   },
   "source": [
    "$$E[\\vec{p}] = \\sum_{i \\in \\hat{D}} \\left\\{ \\frac{\\partial^2 N}{\\partial x^2} + \\frac{\\partial^2 N}{\\partial y^2} - f(x,y) \\right\\}^2 \n",
    "           +  \\sum_{i \\in \\partial \\hat{D}} N^2$$"
   ]
  },
  {
   "cell_type": "code",
   "execution_count": 15,
   "metadata": {
    "hidden": true
   },
   "outputs": [],
   "source": [
    "BC=1"
   ]
  },
  {
   "cell_type": "code",
   "execution_count": 16,
   "metadata": {
    "code_folding": [],
    "hidden": true
   },
   "outputs": [],
   "source": [
    "def error_term1(x, y, p):\n",
    "    return dN_dxj_k(x,y,p,0,2)  +  dN_dxj_k(x,y,p,1,2)  -  f(x,y)"
   ]
  },
  {
   "cell_type": "code",
   "execution_count": 17,
   "metadata": {
    "code_folding": [],
    "hidden": true
   },
   "outputs": [],
   "source": [
    "def cost(points, boundary_points, p):\n",
    "    et1 = []\n",
    "    et2 = []\n",
    "    for x, y in points:\n",
    "        err_sq = error_term1(x, y, p)**2\n",
    "        et1.append(err_sq)\n",
    "    \n",
    "    for x, y in boundary_points:\n",
    "        err_sq = N(x,y,p)**2\n",
    "        et2.append(err_sq)\n",
    "        \n",
    "    cost = sum(et1) + BC*sum(et2)\n",
    "    \n",
    "    return cost"
   ]
  },
  {
   "cell_type": "code",
   "execution_count": 18,
   "metadata": {
    "hidden": true
   },
   "outputs": [],
   "source": [
    "# def relative_err(all_points, p, dOmega):\n",
    "#     trial1 = np.sum(dOmega*np.array([np.linalg.norm(N(x,y,p) - psi_a(x,y))**2\n",
    "#                                      for x, y in all_points]))\n",
    "\n",
    "#     trial2 = np.sum([dOmega*((dN_dxj_k(x,y,p,0,1)-psi_a_dx(x,y))**2 +\n",
    "#                              (dN_dxj_k(x,y,p,1,1)-psi_a_dy(x,y))**2)\n",
    "#                      for x, y in all_points])\n",
    "\n",
    "#     ana1 = np.sum(dOmega*np.array([np.linalg.norm(psi_a(x,y))**2\n",
    "#                                          for x, y in all_points]))\n",
    "#     ana2 = np.sum([dOmega*(psi_a_dx(x,y)**2 + psi_a_dy(x,y)**2)\n",
    "#                    for x, y in all_points])\n",
    "    \n",
    "#     relative_err = (trial1 + trial2)**(1/2) / (ana1 + ana2)**(1/2)\n",
    "\n",
    "#     return relative_err\n",
    "\n",
    "# def relative_err(all_points, p, dOmega):\n",
    "#     #this abs error\n",
    "#     dx=0.3\n",
    "#     bx=0.1\n",
    "#     points, b_points = get_points(dx,bx)\n",
    "#     all_points = points + b_points\n",
    "#     abs_err = np.sum(np.array([np.linalg.norm(N(x,y,p) - psi_a(x,y))\n",
    "#                                      for x, y in all_points])) / len(all_points)\n",
    "#     return abs_err\n",
    "\n",
    "def relative_err(p, dx=0.3):\n",
    "    r = np.arange(np.pi, 2*np.pi+dx, dx)\n",
    "    th = np.arange(-np.pi, np.pi+dx, dx)\n",
    "    R, TH = np.meshgrid(r,th)\n",
    "\n",
    "    x = np.ravel(R*np.cos(TH))\n",
    "    y = np.ravel(R*np.sin(TH))\n",
    "    \n",
    "    all_points = list(zip(x,y))\n",
    "\n",
    "#     dOmega = area / len(all_points)\n",
    "    dOmega = 3 * np.pi**3 / len(all_points)\n",
    "\n",
    "    trial1 = np.sum(dOmega*np.array([np.linalg.norm(N(x,y,p) - psi_a(x,y))**2\n",
    "                                     for x, y in all_points]))\n",
    "\n",
    "    ana1 = np.sum(dOmega*np.array([np.linalg.norm(psi_a(x,y))**2\n",
    "                                         for x, y in all_points]))\n",
    "\n",
    "    rel_err = (trial1)**(1/2) / (ana1)**(1/2)\n",
    "    \n",
    "    return rel_err"
   ]
  },
  {
   "cell_type": "markdown",
   "metadata": {
    "heading_collapsed": true
   },
   "source": [
    "# Gradients"
   ]
  },
  {
   "cell_type": "markdown",
   "metadata": {
    "hidden": true
   },
   "source": [
    "$$ \\frac{\\partial E[\\vec{p}]}{\\partial w_j} = \\sum_{i \\in \\hat{D}} \\left\\{ 2 \\text{ (error_term1) } \\left( \\frac{\\partial}{\\partial w_j} \\frac{\\partial^2 N}{\\partial x^2} + \\frac{\\partial}{\\partial w_j} \\frac{\\partial^2 N}{\\partial y^2} \\right) \\right\\}  +  \\sum_{i \\in \\partial \\hat{D}} 2 N \\frac{\\partial N}{\\partial w_j}$$"
   ]
  },
  {
   "cell_type": "code",
   "execution_count": 19,
   "metadata": {
    "code_folding": [],
    "hidden": true
   },
   "outputs": [],
   "source": [
    "def dE_dwj(points, boundary_points, p, j):\n",
    "    t1 = []\n",
    "    t2 = []\n",
    "    for x, y in points:\n",
    "        tmp = 2 * error_term1(x,y,p) * (d_dwj_dN2_dxk2(x,y,p,j,0) + d_dwj_dN2_dxk2(x,y,p,j,1))\n",
    "        t1.append(tmp)\n",
    "        \n",
    "    for x, y in boundary_points:\n",
    "        tmp = 2 * N(x,y,p) * dN_dwj(x,y,p,j)\n",
    "        t2.append(tmp)\n",
    "    \n",
    "    grad = sum(t1) + BC*sum(t2)\n",
    "    \n",
    "    return grad"
   ]
  },
  {
   "cell_type": "markdown",
   "metadata": {
    "hidden": true
   },
   "source": [
    "$$ \\frac{\\partial E[\\vec{p}]}{\\partial u} = \\sum_{i \\in \\hat{D}} \\left\\{ 2 \\text{ (error_term1) } \\left( \\frac{\\partial}{\\partial u} \\frac{\\partial^2 N}{\\partial x^2} + \\frac{\\partial}{\\partial u} \\frac{\\partial^2 N}{\\partial y^2} \\right) \\right\\} +  \\sum_{i \\in \\partial \\hat{D}} 2 N \\frac{\\partial N}{\\partial u}$$"
   ]
  },
  {
   "cell_type": "code",
   "execution_count": 20,
   "metadata": {
    "code_folding": [],
    "hidden": true
   },
   "outputs": [],
   "source": [
    "def dE_du(points, boundary_points, p):\n",
    "    t1 = []\n",
    "    t2 = []\n",
    "    for x, y in points:\n",
    "        tmp = 2 * error_term1(x,y,p) * (d_du_dkN(x,y,p,0,2) + d_du_dkN(x,y,p,1,2))\n",
    "        t1.append(tmp)\n",
    "        \n",
    "    for x, y in boundary_points:\n",
    "        tmp = 2 * N(x,y,p) * d_du_dkN(x,y,p,0,0)\n",
    "        t2.append(tmp)\n",
    "    \n",
    "    grad = sum(t1) + BC*sum(t2)\n",
    "    \n",
    "    return grad"
   ]
  },
  {
   "cell_type": "markdown",
   "metadata": {
    "hidden": true
   },
   "source": [
    "$$ \\frac{\\partial E[\\vec{p}]}{\\partial v} = \\sum_{i \\in \\hat{D}} \\left\\{ 2 \\text{ (error_term1) } \\left( \\frac{\\partial}{\\partial v} \\frac{\\partial^2 N}{\\partial x^2} + \\frac{\\partial}{\\partial v} \\frac{\\partial^2 N}{\\partial y^2} \\right) \\right\\}  +  \\sum_{i \\in \\partial \\hat{D}} 2 N \\frac{\\partial N}{\\partial v}$$"
   ]
  },
  {
   "cell_type": "code",
   "execution_count": 21,
   "metadata": {
    "code_folding": [],
    "hidden": true
   },
   "outputs": [],
   "source": [
    "def dE_dv(points, boundary_points, p):\n",
    "    t1 = []\n",
    "    t2 = []\n",
    "    for x, y in points:\n",
    "        tmp = 2 * error_term1(x,y,p) * (d_dv_dkN(x,y,p,0,2) + d_dv_dkN(x,y,p,1,2))\n",
    "        t1.append(tmp)\n",
    "        \n",
    "    for x, y in boundary_points:\n",
    "        tmp = 2 * N(x,y,p) * d_dv_dkN(x,y,p,0,0)\n",
    "        t2.append(tmp)\n",
    "    \n",
    "    grad = sum(t1) + BC*sum(t2)\n",
    "    \n",
    "    return grad"
   ]
  },
  {
   "cell_type": "markdown",
   "metadata": {
    "heading_collapsed": true
   },
   "source": [
    "# NN class"
   ]
  },
  {
   "cell_type": "code",
   "execution_count": 22,
   "metadata": {
    "hidden": true
   },
   "outputs": [],
   "source": [
    "def get_points(dx,bx):\n",
    "    r = np.arange(np.pi, 2*np.pi+dx, dx)\n",
    "    th = np.arange(-np.pi, np.pi+dx, dx)\n",
    "    R, TH = np.meshgrid(r,th)\n",
    "\n",
    "    r_bound = np.array([np.pi, 2*np.pi])\n",
    "    th_bound = np.arange(-np.pi, np.pi+bx, bx)\n",
    "    R_bound, TH_bound = np.meshgrid(r_bound,th_bound)\n",
    "\n",
    "    x = np.ravel(R*np.cos(TH))\n",
    "    y = np.ravel(R*np.sin(TH))\n",
    "\n",
    "    x_bound = np.ravel(R_bound*np.cos(TH_bound))\n",
    "    y_bound = np.ravel(R_bound*np.sin(TH_bound))\n",
    "\n",
    "    boundary_points = list(zip(x_bound, y_bound))\n",
    "    points = [(a,b) for a, b in zip(x,y) if (a,b) not in boundary_points]\n",
    "\n",
    "    return points, boundary_points"
   ]
  },
  {
   "cell_type": "code",
   "execution_count": 23,
   "metadata": {
    "code_folding": [
     32,
     47,
     105
    ],
    "hidden": true
   },
   "outputs": [],
   "source": [
    "class NNTrain:\n",
    "    def __init__(self, dx=0.1, bx=0.08, hidden_nodes=10, alpha=0.01, \n",
    "                 beta_1=0.9, beta_2=0.999, epsilon=1e-8, update_interval=50,\n",
    "                 if_rel_err=False, output_file='output/output.csv'):\n",
    "        \n",
    "        self.output_file = output_file\n",
    "        self.training_started = False\n",
    "        self.hidden_nodes = hidden_nodes\n",
    "        self.alpha = alpha\n",
    "        self.beta_1 = beta_1\n",
    "        self.beta_2 = beta_2\n",
    "        self.epsilon = epsilon\n",
    "        self.update_interval = update_interval\n",
    "        self.points, self.boundary_points = get_points(dx,bx)\n",
    "        self.cost_rate = []\n",
    "        self.if_rel_err = if_rel_err\n",
    "        if self.if_rel_err:\n",
    "            self.rel_err = []\n",
    "        self.p = np.array([np.random.randn(2,hidden_nodes),\n",
    "                           np.random.randn(hidden_nodes),\n",
    "                           np.random.randn(hidden_nodes)])\n",
    "        self.m_t = np.array([np.zeros(hidden_nodes),\n",
    "                             np.zeros(hidden_nodes),\n",
    "                             np.zeros(hidden_nodes),\n",
    "                             np.zeros(hidden_nodes)])\n",
    "        self.v_t = np.array([np.zeros(hidden_nodes),\n",
    "                             np.zeros(hidden_nodes),\n",
    "                             np.zeros(hidden_nodes),\n",
    "                             np.zeros(hidden_nodes)])\n",
    "        self.if_continue = np.array([True, True, True, True])\n",
    "        \n",
    "        \n",
    "    def adam(self, t, w, g_t, theta_0):\n",
    "        self.m_t[w] = self.beta_1 * self.m_t[w] + (1-self.beta_1) * g_t\n",
    "        self.v_t[w] = self.beta_2 * self.v_t[w] + (1-self.beta_2) * (g_t * g_t)\n",
    "        \n",
    "        m_cap = self.m_t[w]/(1-(self.beta_1**t))\n",
    "        v_cap = self.v_t[w]/(1-(self.beta_2**t))\n",
    "        theta_0_prev = np.copy(theta_0)\n",
    "        theta_0 = theta_0 - (self.alpha*m_cap)/(np.sqrt(v_cap)+self.epsilon)\n",
    "        \n",
    "        if(np.all(theta_0 == theta_0_prev)):\n",
    "            self.if_continue[w] = False\n",
    "            \n",
    "        return theta_0\n",
    "        \n",
    "\n",
    "    def train(self, itr=1000):\n",
    "        if self.training_started:\n",
    "            mode='a'\n",
    "        else:\n",
    "            mode='w'\n",
    "        self.training_started=True\n",
    "        \n",
    "        with open(self.output_file, mode) as file:\n",
    "            if mode=='w':\n",
    "                if self.if_rel_err:\n",
    "                    file.write('Iteration,Cost,Cost Diff,Relative Error,Relative Error Diff\\n')\n",
    "                else:\n",
    "                    file.write('Iteration,Cost,Cost Diff\\n')\n",
    "            start=len(self.cost_rate)-1\n",
    "            if start<1:\n",
    "                start+=1\n",
    "                self.cost_rate.append(cost(self.points,self.boundary_points,self.p))\n",
    "                if self.if_rel_err:\n",
    "                    self.rel_err.append(relative_err(self.p, 0.4))\n",
    "\n",
    "            i = start\n",
    "            while i < start+itr:\n",
    "                if(not np.any(self.if_continue)):\n",
    "                    break\n",
    "                                    \n",
    "                #adam optimizer\n",
    "                g_w0 = dE_dwj(self.points, self.boundary_points, self.p, 0)\n",
    "                g_w1 = dE_dwj(self.points, self.boundary_points, self.p, 1)\n",
    "                g_u = dE_du(self.points, self.boundary_points, self.p)\n",
    "                g_v = dE_dv(self.points, self.boundary_points, self.p)\n",
    "                \n",
    "                if self.if_continue[0] :self.p[0][0] = self.adam(i+1, 0, g_w0, self.p[0][0])\n",
    "                if self.if_continue[1] :self.p[0][1] = self.adam(i+1, 1, g_w1, self.p[0][1])\n",
    "                if self.if_continue[2] :self.p[1] = self.adam(i+1, 2, g_u, self.p[1])\n",
    "                if self.if_continue[3] :self.p[2] = self.adam(i+1, 3, g_v, self.p[2])\n",
    "                \n",
    "                \n",
    "                self.cost_rate.append(cost(self.points,self.boundary_points,self.p))\n",
    "                cost_diff = self.cost_rate[i]-self.cost_rate[i+1]\n",
    "                if self.if_rel_err:\n",
    "                    self.rel_err.append(relative_err(self.p, 0.4))\n",
    "                    rel_diff = self.rel_err[i]-self.rel_err[i+1]\n",
    "\n",
    "                if self.if_rel_err:\n",
    "                    file.write('{},{:.8f},{:.8f},{:.8f},{:.8f}\\n'.format(\n",
    "                        i+1,self.cost_rate[i+1], cost_diff,\n",
    "                        self.rel_err[i+1], rel_diff))\n",
    "                else:\n",
    "                    file.write('{},{:.8f},{:.8f}\\n'.format(\n",
    "                        i+1,self.cost_rate[i+1],\n",
    "                        cost_diff))\n",
    "\n",
    "                if i%self.update_interval==0:\n",
    "                    file.flush()\n",
    "                    \n",
    "                i+=1\n",
    "                \n",
    "                \n",
    "    def save_result(self, output_name=''):\n",
    "        timestr = time.strftime(\"%Y%m%d-%H%M\")\n",
    "        np.savez('output/'+ timestr + '_' + output_name +'_nn_params.npz', self.p)\n",
    "        np.savez('output/'+ timestr + '_' + output_name +'_cost_rate.npz', self.cost_rate)\n",
    "        if self.if_rel_err:\n",
    "            np.savez('output/'+ timestr + '_' + output_name +'_rel_err.npz', self.rel_err)"
   ]
  },
  {
   "cell_type": "code",
   "execution_count": null,
   "metadata": {
    "hidden": true
   },
   "outputs": [],
   "source": []
  },
  {
   "cell_type": "markdown",
   "metadata": {
    "heading_collapsed": true
   },
   "source": [
    "# Graphs"
   ]
  },
  {
   "cell_type": "code",
   "execution_count": 24,
   "metadata": {
    "hidden": true
   },
   "outputs": [],
   "source": [
    "%matplotlib notebook\n",
    "%matplotlib notebook"
   ]
  },
  {
   "cell_type": "markdown",
   "metadata": {
    "heading_collapsed": true,
    "hidden": true
   },
   "source": [
    "## Hidden Nodes"
   ]
  },
  {
   "cell_type": "code",
   "execution_count": 25,
   "metadata": {
    "hidden": true
   },
   "outputs": [],
   "source": [
    "def plot_nodes(a, save_name=None, save=True, zlim=True):\n",
    "    p = a.p\n",
    "    hmax = a.p[0][0].shape[0]\n",
    "    col = int(np.sqrt(hmax)) if int(np.sqrt(hmax)) < 10 else 10\n",
    "    row = np.ceil(hmax / col)\n",
    "    \n",
    "    d_x=0.1\n",
    "\n",
    "    fig = plt.figure(figsize=(col*3, row*3), dpi=100)\n",
    "    for h in range(1,hmax+1):\n",
    "        ax = fig.add_subplot(row,col,h, projection='3d')\n",
    "        x = y = np.arange(0, 1+d_x, d_x)\n",
    "        X, Y = np.meshgrid(x, y)\n",
    "\n",
    "        zs = np.array([p[1][h-1]*sig(z(x,y,p))[h-1] for x,y in zip(np.ravel(X), np.ravel(Y))])\n",
    "        Z = zs.reshape(X.shape)\n",
    "\n",
    "        ax.set_xlabel('x')\n",
    "        ax.set_ylabel('y')\n",
    "        if zlim:\n",
    "            ax.set_zlim(0,1)\n",
    "\n",
    "        ax.plot_surface(X, Y, Z, cmap=cm.coolwarm)\n",
    "        ax.title.set_text('HN: ' + str(h) + ', v=' + \"{:.4E}\".format(p[1][h-1]))\n",
    "        time.sleep(0.2)\n",
    "\n",
    "    if save==True:\n",
    "        if save_name is None: \n",
    "            plt.savefig('t'+str(T)+'_h'+str(hmax)+'_n'+str(a.nx)+'.png')\n",
    "        else:\n",
    "            plt.savefig(save_name)\n",
    "    else:\n",
    "        plt.show()"
   ]
  },
  {
   "cell_type": "markdown",
   "metadata": {
    "heading_collapsed": true,
    "hidden": true
   },
   "source": [
    "## Error vs Iterations"
   ]
  },
  {
   "cell_type": "code",
   "execution_count": 26,
   "metadata": {
    "hidden": true
   },
   "outputs": [],
   "source": [
    "def plot_iteration(arr, min_it=0, max_it=None):\n",
    "    plt.figure()\n",
    "    plt.plot(np.arange(len(arr[min_it:max_it])), np.array(arr[min_it:max_it]))\n",
    "    plt.show()"
   ]
  },
  {
   "cell_type": "markdown",
   "metadata": {
    "heading_collapsed": true,
    "hidden": true
   },
   "source": [
    "## Solution Accuracy on the domain"
   ]
  },
  {
   "cell_type": "code",
   "execution_count": 27,
   "metadata": {
    "hidden": true
   },
   "outputs": [],
   "source": [
    "def accuracy(p):\n",
    "    d_x=0.01\n",
    "    fig = plt.figure()\n",
    "    ax = fig.add_subplot(111, projection='3d')\n",
    "    x = y = np.arange(0, 1.0+d_x, d_x)\n",
    "    X, Y = np.meshgrid(x, y)\n",
    "\n",
    "    zs = np.array([psi_a(x,y)-psi_t(x,y,p) for x,y in zip(np.ravel(X), np.ravel(Y))])\n",
    "    Z = zs.reshape(X.shape)\n",
    "\n",
    "    ax.plot_surface(X, Y, Z, cmap=cm.coolwarm_r)\n",
    "    # ax.ticklabel_format(style='sci', axis='z', scilimits=(0,0), useOffset=True, useMathText=True)\n",
    "\n",
    "\n",
    "    ax.set_xlabel('x')\n",
    "    ax.set_ylabel('y')\n",
    "#     ax.set_zlabel('Accuracy')\n",
    "\n",
    "\n",
    "    plt.show()"
   ]
  },
  {
   "cell_type": "code",
   "execution_count": 28,
   "metadata": {
    "hidden": true
   },
   "outputs": [],
   "source": [
    "def plot_fun(fun, title=None, return_ax=False, xlim=None, ylim=None, zlim=None, **kwargs):\n",
    "    dx=0.1\n",
    "\n",
    "    fig = plt.figure()\n",
    "    ax = fig.add_subplot(111, projection='3d')\n",
    "    \n",
    "    r = np.arange(np.pi, 2*np.pi+dx, dx)\n",
    "    th = np.arange(-np.pi, np.pi+dx, dx)\n",
    "    R, TH = np.meshgrid(r,th)\n",
    "    X = R*np.cos(TH)\n",
    "    Y = R*np.sin(TH)\n",
    "\n",
    "    zs = np.array([fun(x,y,**kwargs) for x,y in zip(np.ravel(X), np.ravel(Y))])\n",
    "    Z = zs.reshape(X.shape)\n",
    "\n",
    "    ax.plot_surface(X, Y, Z, cmap=cm.coolwarm_r)\n",
    "\n",
    "    ax.set_xlabel('x')\n",
    "    ax.set_ylabel('y')\n",
    "    ax.title.set_text(title)\n",
    "    \n",
    "    if xlim:\n",
    "        ax.set_xlim(xlim[0], xlim[1])\n",
    "    if ylim:\n",
    "        ax.set_ylim(ylim[0], ylim[1])\n",
    "    if zlim:\n",
    "        ax.set_zlim(zlim[0], zlim[1])\n",
    "\n",
    "    if return_ax:\n",
    "        return ax\n",
    "    else:\n",
    "        plt.show()"
   ]
  },
  {
   "cell_type": "code",
   "execution_count": null,
   "metadata": {
    "hidden": true
   },
   "outputs": [],
   "source": []
  },
  {
   "cell_type": "markdown",
   "metadata": {},
   "source": [
    "# Training"
   ]
  },
  {
   "cell_type": "markdown",
   "metadata": {},
   "source": [
    "Meta training"
   ]
  },
  {
   "cell_type": "code",
   "execution_count": 29,
   "metadata": {},
   "outputs": [],
   "source": [
    "a = NNTrain(dx=0.1,bx=0.01, hidden_nodes=1, alpha=0.01, update_interval=10, if_rel_err=False, output_file='out/out0.csv')"
   ]
  },
  {
   "cell_type": "code",
   "execution_count": null,
   "metadata": {},
   "outputs": [],
   "source": [
    "BC=1\n",
    "a.alpha=0.01\n",
    "a.train(100)"
   ]
  },
  {
   "cell_type": "code",
   "execution_count": null,
   "metadata": {},
   "outputs": [],
   "source": [
    "thresh=1e-4\n",
    "for i in range(10000):\n",
    "    if a.alpha < 1e-6:\n",
    "        break\n",
    "    if np.mean([np.absolute(s-t) for s, t in zip(a.cost_rate[-21:], a.cost_rate[-20:])]) < thresh:\n",
    "        BC=BC*10\n",
    "        a.alpha=a.alpha/10\n",
    "    a.train(100)"
   ]
  },
  {
   "cell_type": "markdown",
   "metadata": {},
   "source": [
    "Etc"
   ]
  },
  {
   "cell_type": "code",
   "execution_count": 43,
   "metadata": {},
   "outputs": [
    {
     "data": {
      "application/javascript": [
       "/* Put everything inside the global mpl namespace */\n",
       "window.mpl = {};\n",
       "\n",
       "\n",
       "mpl.get_websocket_type = function() {\n",
       "    if (typeof(WebSocket) !== 'undefined') {\n",
       "        return WebSocket;\n",
       "    } else if (typeof(MozWebSocket) !== 'undefined') {\n",
       "        return MozWebSocket;\n",
       "    } else {\n",
       "        alert('Your browser does not have WebSocket support.' +\n",
       "              'Please try Chrome, Safari or Firefox ≥ 6. ' +\n",
       "              'Firefox 4 and 5 are also supported but you ' +\n",
       "              'have to enable WebSockets in about:config.');\n",
       "    };\n",
       "}\n",
       "\n",
       "mpl.figure = function(figure_id, websocket, ondownload, parent_element) {\n",
       "    this.id = figure_id;\n",
       "\n",
       "    this.ws = websocket;\n",
       "\n",
       "    this.supports_binary = (this.ws.binaryType != undefined);\n",
       "\n",
       "    if (!this.supports_binary) {\n",
       "        var warnings = document.getElementById(\"mpl-warnings\");\n",
       "        if (warnings) {\n",
       "            warnings.style.display = 'block';\n",
       "            warnings.textContent = (\n",
       "                \"This browser does not support binary websocket messages. \" +\n",
       "                    \"Performance may be slow.\");\n",
       "        }\n",
       "    }\n",
       "\n",
       "    this.imageObj = new Image();\n",
       "\n",
       "    this.context = undefined;\n",
       "    this.message = undefined;\n",
       "    this.canvas = undefined;\n",
       "    this.rubberband_canvas = undefined;\n",
       "    this.rubberband_context = undefined;\n",
       "    this.format_dropdown = undefined;\n",
       "\n",
       "    this.image_mode = 'full';\n",
       "\n",
       "    this.root = $('<div/>');\n",
       "    this._root_extra_style(this.root)\n",
       "    this.root.attr('style', 'display: inline-block');\n",
       "\n",
       "    $(parent_element).append(this.root);\n",
       "\n",
       "    this._init_header(this);\n",
       "    this._init_canvas(this);\n",
       "    this._init_toolbar(this);\n",
       "\n",
       "    var fig = this;\n",
       "\n",
       "    this.waiting = false;\n",
       "\n",
       "    this.ws.onopen =  function () {\n",
       "            fig.send_message(\"supports_binary\", {value: fig.supports_binary});\n",
       "            fig.send_message(\"send_image_mode\", {});\n",
       "            if (mpl.ratio != 1) {\n",
       "                fig.send_message(\"set_dpi_ratio\", {'dpi_ratio': mpl.ratio});\n",
       "            }\n",
       "            fig.send_message(\"refresh\", {});\n",
       "        }\n",
       "\n",
       "    this.imageObj.onload = function() {\n",
       "            if (fig.image_mode == 'full') {\n",
       "                // Full images could contain transparency (where diff images\n",
       "                // almost always do), so we need to clear the canvas so that\n",
       "                // there is no ghosting.\n",
       "                fig.context.clearRect(0, 0, fig.canvas.width, fig.canvas.height);\n",
       "            }\n",
       "            fig.context.drawImage(fig.imageObj, 0, 0);\n",
       "        };\n",
       "\n",
       "    this.imageObj.onunload = function() {\n",
       "        fig.ws.close();\n",
       "    }\n",
       "\n",
       "    this.ws.onmessage = this._make_on_message_function(this);\n",
       "\n",
       "    this.ondownload = ondownload;\n",
       "}\n",
       "\n",
       "mpl.figure.prototype._init_header = function() {\n",
       "    var titlebar = $(\n",
       "        '<div class=\"ui-dialog-titlebar ui-widget-header ui-corner-all ' +\n",
       "        'ui-helper-clearfix\"/>');\n",
       "    var titletext = $(\n",
       "        '<div class=\"ui-dialog-title\" style=\"width: 100%; ' +\n",
       "        'text-align: center; padding: 3px;\"/>');\n",
       "    titlebar.append(titletext)\n",
       "    this.root.append(titlebar);\n",
       "    this.header = titletext[0];\n",
       "}\n",
       "\n",
       "\n",
       "\n",
       "mpl.figure.prototype._canvas_extra_style = function(canvas_div) {\n",
       "\n",
       "}\n",
       "\n",
       "\n",
       "mpl.figure.prototype._root_extra_style = function(canvas_div) {\n",
       "\n",
       "}\n",
       "\n",
       "mpl.figure.prototype._init_canvas = function() {\n",
       "    var fig = this;\n",
       "\n",
       "    var canvas_div = $('<div/>');\n",
       "\n",
       "    canvas_div.attr('style', 'position: relative; clear: both; outline: 0');\n",
       "\n",
       "    function canvas_keyboard_event(event) {\n",
       "        return fig.key_event(event, event['data']);\n",
       "    }\n",
       "\n",
       "    canvas_div.keydown('key_press', canvas_keyboard_event);\n",
       "    canvas_div.keyup('key_release', canvas_keyboard_event);\n",
       "    this.canvas_div = canvas_div\n",
       "    this._canvas_extra_style(canvas_div)\n",
       "    this.root.append(canvas_div);\n",
       "\n",
       "    var canvas = $('<canvas/>');\n",
       "    canvas.addClass('mpl-canvas');\n",
       "    canvas.attr('style', \"left: 0; top: 0; z-index: 0; outline: 0\")\n",
       "\n",
       "    this.canvas = canvas[0];\n",
       "    this.context = canvas[0].getContext(\"2d\");\n",
       "\n",
       "    var backingStore = this.context.backingStorePixelRatio ||\n",
       "\tthis.context.webkitBackingStorePixelRatio ||\n",
       "\tthis.context.mozBackingStorePixelRatio ||\n",
       "\tthis.context.msBackingStorePixelRatio ||\n",
       "\tthis.context.oBackingStorePixelRatio ||\n",
       "\tthis.context.backingStorePixelRatio || 1;\n",
       "\n",
       "    mpl.ratio = (window.devicePixelRatio || 1) / backingStore;\n",
       "\n",
       "    var rubberband = $('<canvas/>');\n",
       "    rubberband.attr('style', \"position: absolute; left: 0; top: 0; z-index: 1;\")\n",
       "\n",
       "    var pass_mouse_events = true;\n",
       "\n",
       "    canvas_div.resizable({\n",
       "        start: function(event, ui) {\n",
       "            pass_mouse_events = false;\n",
       "        },\n",
       "        resize: function(event, ui) {\n",
       "            fig.request_resize(ui.size.width, ui.size.height);\n",
       "        },\n",
       "        stop: function(event, ui) {\n",
       "            pass_mouse_events = true;\n",
       "            fig.request_resize(ui.size.width, ui.size.height);\n",
       "        },\n",
       "    });\n",
       "\n",
       "    function mouse_event_fn(event) {\n",
       "        if (pass_mouse_events)\n",
       "            return fig.mouse_event(event, event['data']);\n",
       "    }\n",
       "\n",
       "    rubberband.mousedown('button_press', mouse_event_fn);\n",
       "    rubberband.mouseup('button_release', mouse_event_fn);\n",
       "    // Throttle sequential mouse events to 1 every 20ms.\n",
       "    rubberband.mousemove('motion_notify', mouse_event_fn);\n",
       "\n",
       "    rubberband.mouseenter('figure_enter', mouse_event_fn);\n",
       "    rubberband.mouseleave('figure_leave', mouse_event_fn);\n",
       "\n",
       "    canvas_div.on(\"wheel\", function (event) {\n",
       "        event = event.originalEvent;\n",
       "        event['data'] = 'scroll'\n",
       "        if (event.deltaY < 0) {\n",
       "            event.step = 1;\n",
       "        } else {\n",
       "            event.step = -1;\n",
       "        }\n",
       "        mouse_event_fn(event);\n",
       "    });\n",
       "\n",
       "    canvas_div.append(canvas);\n",
       "    canvas_div.append(rubberband);\n",
       "\n",
       "    this.rubberband = rubberband;\n",
       "    this.rubberband_canvas = rubberband[0];\n",
       "    this.rubberband_context = rubberband[0].getContext(\"2d\");\n",
       "    this.rubberband_context.strokeStyle = \"#000000\";\n",
       "\n",
       "    this._resize_canvas = function(width, height) {\n",
       "        // Keep the size of the canvas, canvas container, and rubber band\n",
       "        // canvas in synch.\n",
       "        canvas_div.css('width', width)\n",
       "        canvas_div.css('height', height)\n",
       "\n",
       "        canvas.attr('width', width * mpl.ratio);\n",
       "        canvas.attr('height', height * mpl.ratio);\n",
       "        canvas.attr('style', 'width: ' + width + 'px; height: ' + height + 'px;');\n",
       "\n",
       "        rubberband.attr('width', width);\n",
       "        rubberband.attr('height', height);\n",
       "    }\n",
       "\n",
       "    // Set the figure to an initial 600x600px, this will subsequently be updated\n",
       "    // upon first draw.\n",
       "    this._resize_canvas(600, 600);\n",
       "\n",
       "    // Disable right mouse context menu.\n",
       "    $(this.rubberband_canvas).bind(\"contextmenu\",function(e){\n",
       "        return false;\n",
       "    });\n",
       "\n",
       "    function set_focus () {\n",
       "        canvas.focus();\n",
       "        canvas_div.focus();\n",
       "    }\n",
       "\n",
       "    window.setTimeout(set_focus, 100);\n",
       "}\n",
       "\n",
       "mpl.figure.prototype._init_toolbar = function() {\n",
       "    var fig = this;\n",
       "\n",
       "    var nav_element = $('<div/>')\n",
       "    nav_element.attr('style', 'width: 100%');\n",
       "    this.root.append(nav_element);\n",
       "\n",
       "    // Define a callback function for later on.\n",
       "    function toolbar_event(event) {\n",
       "        return fig.toolbar_button_onclick(event['data']);\n",
       "    }\n",
       "    function toolbar_mouse_event(event) {\n",
       "        return fig.toolbar_button_onmouseover(event['data']);\n",
       "    }\n",
       "\n",
       "    for(var toolbar_ind in mpl.toolbar_items) {\n",
       "        var name = mpl.toolbar_items[toolbar_ind][0];\n",
       "        var tooltip = mpl.toolbar_items[toolbar_ind][1];\n",
       "        var image = mpl.toolbar_items[toolbar_ind][2];\n",
       "        var method_name = mpl.toolbar_items[toolbar_ind][3];\n",
       "\n",
       "        if (!name) {\n",
       "            // put a spacer in here.\n",
       "            continue;\n",
       "        }\n",
       "        var button = $('<button/>');\n",
       "        button.addClass('ui-button ui-widget ui-state-default ui-corner-all ' +\n",
       "                        'ui-button-icon-only');\n",
       "        button.attr('role', 'button');\n",
       "        button.attr('aria-disabled', 'false');\n",
       "        button.click(method_name, toolbar_event);\n",
       "        button.mouseover(tooltip, toolbar_mouse_event);\n",
       "\n",
       "        var icon_img = $('<span/>');\n",
       "        icon_img.addClass('ui-button-icon-primary ui-icon');\n",
       "        icon_img.addClass(image);\n",
       "        icon_img.addClass('ui-corner-all');\n",
       "\n",
       "        var tooltip_span = $('<span/>');\n",
       "        tooltip_span.addClass('ui-button-text');\n",
       "        tooltip_span.html(tooltip);\n",
       "\n",
       "        button.append(icon_img);\n",
       "        button.append(tooltip_span);\n",
       "\n",
       "        nav_element.append(button);\n",
       "    }\n",
       "\n",
       "    var fmt_picker_span = $('<span/>');\n",
       "\n",
       "    var fmt_picker = $('<select/>');\n",
       "    fmt_picker.addClass('mpl-toolbar-option ui-widget ui-widget-content');\n",
       "    fmt_picker_span.append(fmt_picker);\n",
       "    nav_element.append(fmt_picker_span);\n",
       "    this.format_dropdown = fmt_picker[0];\n",
       "\n",
       "    for (var ind in mpl.extensions) {\n",
       "        var fmt = mpl.extensions[ind];\n",
       "        var option = $(\n",
       "            '<option/>', {selected: fmt === mpl.default_extension}).html(fmt);\n",
       "        fmt_picker.append(option)\n",
       "    }\n",
       "\n",
       "    // Add hover states to the ui-buttons\n",
       "    $( \".ui-button\" ).hover(\n",
       "        function() { $(this).addClass(\"ui-state-hover\");},\n",
       "        function() { $(this).removeClass(\"ui-state-hover\");}\n",
       "    );\n",
       "\n",
       "    var status_bar = $('<span class=\"mpl-message\"/>');\n",
       "    nav_element.append(status_bar);\n",
       "    this.message = status_bar[0];\n",
       "}\n",
       "\n",
       "mpl.figure.prototype.request_resize = function(x_pixels, y_pixels) {\n",
       "    // Request matplotlib to resize the figure. Matplotlib will then trigger a resize in the client,\n",
       "    // which will in turn request a refresh of the image.\n",
       "    this.send_message('resize', {'width': x_pixels, 'height': y_pixels});\n",
       "}\n",
       "\n",
       "mpl.figure.prototype.send_message = function(type, properties) {\n",
       "    properties['type'] = type;\n",
       "    properties['figure_id'] = this.id;\n",
       "    this.ws.send(JSON.stringify(properties));\n",
       "}\n",
       "\n",
       "mpl.figure.prototype.send_draw_message = function() {\n",
       "    if (!this.waiting) {\n",
       "        this.waiting = true;\n",
       "        this.ws.send(JSON.stringify({type: \"draw\", figure_id: this.id}));\n",
       "    }\n",
       "}\n",
       "\n",
       "\n",
       "mpl.figure.prototype.handle_save = function(fig, msg) {\n",
       "    var format_dropdown = fig.format_dropdown;\n",
       "    var format = format_dropdown.options[format_dropdown.selectedIndex].value;\n",
       "    fig.ondownload(fig, format);\n",
       "}\n",
       "\n",
       "\n",
       "mpl.figure.prototype.handle_resize = function(fig, msg) {\n",
       "    var size = msg['size'];\n",
       "    if (size[0] != fig.canvas.width || size[1] != fig.canvas.height) {\n",
       "        fig._resize_canvas(size[0], size[1]);\n",
       "        fig.send_message(\"refresh\", {});\n",
       "    };\n",
       "}\n",
       "\n",
       "mpl.figure.prototype.handle_rubberband = function(fig, msg) {\n",
       "    var x0 = msg['x0'] / mpl.ratio;\n",
       "    var y0 = (fig.canvas.height - msg['y0']) / mpl.ratio;\n",
       "    var x1 = msg['x1'] / mpl.ratio;\n",
       "    var y1 = (fig.canvas.height - msg['y1']) / mpl.ratio;\n",
       "    x0 = Math.floor(x0) + 0.5;\n",
       "    y0 = Math.floor(y0) + 0.5;\n",
       "    x1 = Math.floor(x1) + 0.5;\n",
       "    y1 = Math.floor(y1) + 0.5;\n",
       "    var min_x = Math.min(x0, x1);\n",
       "    var min_y = Math.min(y0, y1);\n",
       "    var width = Math.abs(x1 - x0);\n",
       "    var height = Math.abs(y1 - y0);\n",
       "\n",
       "    fig.rubberband_context.clearRect(\n",
       "        0, 0, fig.canvas.width, fig.canvas.height);\n",
       "\n",
       "    fig.rubberband_context.strokeRect(min_x, min_y, width, height);\n",
       "}\n",
       "\n",
       "mpl.figure.prototype.handle_figure_label = function(fig, msg) {\n",
       "    // Updates the figure title.\n",
       "    fig.header.textContent = msg['label'];\n",
       "}\n",
       "\n",
       "mpl.figure.prototype.handle_cursor = function(fig, msg) {\n",
       "    var cursor = msg['cursor'];\n",
       "    switch(cursor)\n",
       "    {\n",
       "    case 0:\n",
       "        cursor = 'pointer';\n",
       "        break;\n",
       "    case 1:\n",
       "        cursor = 'default';\n",
       "        break;\n",
       "    case 2:\n",
       "        cursor = 'crosshair';\n",
       "        break;\n",
       "    case 3:\n",
       "        cursor = 'move';\n",
       "        break;\n",
       "    }\n",
       "    fig.rubberband_canvas.style.cursor = cursor;\n",
       "}\n",
       "\n",
       "mpl.figure.prototype.handle_message = function(fig, msg) {\n",
       "    fig.message.textContent = msg['message'];\n",
       "}\n",
       "\n",
       "mpl.figure.prototype.handle_draw = function(fig, msg) {\n",
       "    // Request the server to send over a new figure.\n",
       "    fig.send_draw_message();\n",
       "}\n",
       "\n",
       "mpl.figure.prototype.handle_image_mode = function(fig, msg) {\n",
       "    fig.image_mode = msg['mode'];\n",
       "}\n",
       "\n",
       "mpl.figure.prototype.updated_canvas_event = function() {\n",
       "    // Called whenever the canvas gets updated.\n",
       "    this.send_message(\"ack\", {});\n",
       "}\n",
       "\n",
       "// A function to construct a web socket function for onmessage handling.\n",
       "// Called in the figure constructor.\n",
       "mpl.figure.prototype._make_on_message_function = function(fig) {\n",
       "    return function socket_on_message(evt) {\n",
       "        if (evt.data instanceof Blob) {\n",
       "            /* FIXME: We get \"Resource interpreted as Image but\n",
       "             * transferred with MIME type text/plain:\" errors on\n",
       "             * Chrome.  But how to set the MIME type?  It doesn't seem\n",
       "             * to be part of the websocket stream */\n",
       "            evt.data.type = \"image/png\";\n",
       "\n",
       "            /* Free the memory for the previous frames */\n",
       "            if (fig.imageObj.src) {\n",
       "                (window.URL || window.webkitURL).revokeObjectURL(\n",
       "                    fig.imageObj.src);\n",
       "            }\n",
       "\n",
       "            fig.imageObj.src = (window.URL || window.webkitURL).createObjectURL(\n",
       "                evt.data);\n",
       "            fig.updated_canvas_event();\n",
       "            fig.waiting = false;\n",
       "            return;\n",
       "        }\n",
       "        else if (typeof evt.data === 'string' && evt.data.slice(0, 21) == \"data:image/png;base64\") {\n",
       "            fig.imageObj.src = evt.data;\n",
       "            fig.updated_canvas_event();\n",
       "            fig.waiting = false;\n",
       "            return;\n",
       "        }\n",
       "\n",
       "        var msg = JSON.parse(evt.data);\n",
       "        var msg_type = msg['type'];\n",
       "\n",
       "        // Call the  \"handle_{type}\" callback, which takes\n",
       "        // the figure and JSON message as its only arguments.\n",
       "        try {\n",
       "            var callback = fig[\"handle_\" + msg_type];\n",
       "        } catch (e) {\n",
       "            console.log(\"No handler for the '\" + msg_type + \"' message type: \", msg);\n",
       "            return;\n",
       "        }\n",
       "\n",
       "        if (callback) {\n",
       "            try {\n",
       "                // console.log(\"Handling '\" + msg_type + \"' message: \", msg);\n",
       "                callback(fig, msg);\n",
       "            } catch (e) {\n",
       "                console.log(\"Exception inside the 'handler_\" + msg_type + \"' callback:\", e, e.stack, msg);\n",
       "            }\n",
       "        }\n",
       "    };\n",
       "}\n",
       "\n",
       "// from http://stackoverflow.com/questions/1114465/getting-mouse-location-in-canvas\n",
       "mpl.findpos = function(e) {\n",
       "    //this section is from http://www.quirksmode.org/js/events_properties.html\n",
       "    var targ;\n",
       "    if (!e)\n",
       "        e = window.event;\n",
       "    if (e.target)\n",
       "        targ = e.target;\n",
       "    else if (e.srcElement)\n",
       "        targ = e.srcElement;\n",
       "    if (targ.nodeType == 3) // defeat Safari bug\n",
       "        targ = targ.parentNode;\n",
       "\n",
       "    // jQuery normalizes the pageX and pageY\n",
       "    // pageX,Y are the mouse positions relative to the document\n",
       "    // offset() returns the position of the element relative to the document\n",
       "    var x = e.pageX - $(targ).offset().left;\n",
       "    var y = e.pageY - $(targ).offset().top;\n",
       "\n",
       "    return {\"x\": x, \"y\": y};\n",
       "};\n",
       "\n",
       "/*\n",
       " * return a copy of an object with only non-object keys\n",
       " * we need this to avoid circular references\n",
       " * http://stackoverflow.com/a/24161582/3208463\n",
       " */\n",
       "function simpleKeys (original) {\n",
       "  return Object.keys(original).reduce(function (obj, key) {\n",
       "    if (typeof original[key] !== 'object')\n",
       "        obj[key] = original[key]\n",
       "    return obj;\n",
       "  }, {});\n",
       "}\n",
       "\n",
       "mpl.figure.prototype.mouse_event = function(event, name) {\n",
       "    var canvas_pos = mpl.findpos(event)\n",
       "\n",
       "    if (name === 'button_press')\n",
       "    {\n",
       "        this.canvas.focus();\n",
       "        this.canvas_div.focus();\n",
       "    }\n",
       "\n",
       "    var x = canvas_pos.x * mpl.ratio;\n",
       "    var y = canvas_pos.y * mpl.ratio;\n",
       "\n",
       "    this.send_message(name, {x: x, y: y, button: event.button,\n",
       "                             step: event.step,\n",
       "                             guiEvent: simpleKeys(event)});\n",
       "\n",
       "    /* This prevents the web browser from automatically changing to\n",
       "     * the text insertion cursor when the button is pressed.  We want\n",
       "     * to control all of the cursor setting manually through the\n",
       "     * 'cursor' event from matplotlib */\n",
       "    event.preventDefault();\n",
       "    return false;\n",
       "}\n",
       "\n",
       "mpl.figure.prototype._key_event_extra = function(event, name) {\n",
       "    // Handle any extra behaviour associated with a key event\n",
       "}\n",
       "\n",
       "mpl.figure.prototype.key_event = function(event, name) {\n",
       "\n",
       "    // Prevent repeat events\n",
       "    if (name == 'key_press')\n",
       "    {\n",
       "        if (event.which === this._key)\n",
       "            return;\n",
       "        else\n",
       "            this._key = event.which;\n",
       "    }\n",
       "    if (name == 'key_release')\n",
       "        this._key = null;\n",
       "\n",
       "    var value = '';\n",
       "    if (event.ctrlKey && event.which != 17)\n",
       "        value += \"ctrl+\";\n",
       "    if (event.altKey && event.which != 18)\n",
       "        value += \"alt+\";\n",
       "    if (event.shiftKey && event.which != 16)\n",
       "        value += \"shift+\";\n",
       "\n",
       "    value += 'k';\n",
       "    value += event.which.toString();\n",
       "\n",
       "    this._key_event_extra(event, name);\n",
       "\n",
       "    this.send_message(name, {key: value,\n",
       "                             guiEvent: simpleKeys(event)});\n",
       "    return false;\n",
       "}\n",
       "\n",
       "mpl.figure.prototype.toolbar_button_onclick = function(name) {\n",
       "    if (name == 'download') {\n",
       "        this.handle_save(this, null);\n",
       "    } else {\n",
       "        this.send_message(\"toolbar_button\", {name: name});\n",
       "    }\n",
       "};\n",
       "\n",
       "mpl.figure.prototype.toolbar_button_onmouseover = function(tooltip) {\n",
       "    this.message.textContent = tooltip;\n",
       "};\n",
       "mpl.toolbar_items = [[\"Home\", \"Reset original view\", \"fa fa-home icon-home\", \"home\"], [\"Back\", \"Back to previous view\", \"fa fa-arrow-left icon-arrow-left\", \"back\"], [\"Forward\", \"Forward to next view\", \"fa fa-arrow-right icon-arrow-right\", \"forward\"], [\"\", \"\", \"\", \"\"], [\"Pan\", \"Pan axes with left mouse, zoom with right\", \"fa fa-arrows icon-move\", \"pan\"], [\"Zoom\", \"Zoom to rectangle\", \"fa fa-square-o icon-check-empty\", \"zoom\"], [\"\", \"\", \"\", \"\"], [\"Download\", \"Download plot\", \"fa fa-floppy-o icon-save\", \"download\"]];\n",
       "\n",
       "mpl.extensions = [\"eps\", \"jpeg\", \"pdf\", \"png\", \"ps\", \"raw\", \"svg\", \"tif\"];\n",
       "\n",
       "mpl.default_extension = \"png\";var comm_websocket_adapter = function(comm) {\n",
       "    // Create a \"websocket\"-like object which calls the given IPython comm\n",
       "    // object with the appropriate methods. Currently this is a non binary\n",
       "    // socket, so there is still some room for performance tuning.\n",
       "    var ws = {};\n",
       "\n",
       "    ws.close = function() {\n",
       "        comm.close()\n",
       "    };\n",
       "    ws.send = function(m) {\n",
       "        //console.log('sending', m);\n",
       "        comm.send(m);\n",
       "    };\n",
       "    // Register the callback with on_msg.\n",
       "    comm.on_msg(function(msg) {\n",
       "        //console.log('receiving', msg['content']['data'], msg);\n",
       "        // Pass the mpl event to the overridden (by mpl) onmessage function.\n",
       "        ws.onmessage(msg['content']['data'])\n",
       "    });\n",
       "    return ws;\n",
       "}\n",
       "\n",
       "mpl.mpl_figure_comm = function(comm, msg) {\n",
       "    // This is the function which gets called when the mpl process\n",
       "    // starts-up an IPython Comm through the \"matplotlib\" channel.\n",
       "\n",
       "    var id = msg.content.data.id;\n",
       "    // Get hold of the div created by the display call when the Comm\n",
       "    // socket was opened in Python.\n",
       "    var element = $(\"#\" + id);\n",
       "    var ws_proxy = comm_websocket_adapter(comm)\n",
       "\n",
       "    function ondownload(figure, format) {\n",
       "        window.open(figure.imageObj.src);\n",
       "    }\n",
       "\n",
       "    var fig = new mpl.figure(id, ws_proxy,\n",
       "                           ondownload,\n",
       "                           element.get(0));\n",
       "\n",
       "    // Call onopen now - mpl needs it, as it is assuming we've passed it a real\n",
       "    // web socket which is closed, not our websocket->open comm proxy.\n",
       "    ws_proxy.onopen();\n",
       "\n",
       "    fig.parent_element = element.get(0);\n",
       "    fig.cell_info = mpl.find_output_cell(\"<div id='\" + id + \"'></div>\");\n",
       "    if (!fig.cell_info) {\n",
       "        console.error(\"Failed to find cell for figure\", id, fig);\n",
       "        return;\n",
       "    }\n",
       "\n",
       "    var output_index = fig.cell_info[2]\n",
       "    var cell = fig.cell_info[0];\n",
       "\n",
       "};\n",
       "\n",
       "mpl.figure.prototype.handle_close = function(fig, msg) {\n",
       "    var width = fig.canvas.width/mpl.ratio\n",
       "    fig.root.unbind('remove')\n",
       "\n",
       "    // Update the output cell to use the data from the current canvas.\n",
       "    fig.push_to_output();\n",
       "    var dataURL = fig.canvas.toDataURL();\n",
       "    // Re-enable the keyboard manager in IPython - without this line, in FF,\n",
       "    // the notebook keyboard shortcuts fail.\n",
       "    IPython.keyboard_manager.enable()\n",
       "    $(fig.parent_element).html('<img src=\"' + dataURL + '\" width=\"' + width + '\">');\n",
       "    fig.close_ws(fig, msg);\n",
       "}\n",
       "\n",
       "mpl.figure.prototype.close_ws = function(fig, msg){\n",
       "    fig.send_message('closing', msg);\n",
       "    // fig.ws.close()\n",
       "}\n",
       "\n",
       "mpl.figure.prototype.push_to_output = function(remove_interactive) {\n",
       "    // Turn the data on the canvas into data in the output cell.\n",
       "    var width = this.canvas.width/mpl.ratio\n",
       "    var dataURL = this.canvas.toDataURL();\n",
       "    this.cell_info[1]['text/html'] = '<img src=\"' + dataURL + '\" width=\"' + width + '\">';\n",
       "}\n",
       "\n",
       "mpl.figure.prototype.updated_canvas_event = function() {\n",
       "    // Tell IPython that the notebook contents must change.\n",
       "    IPython.notebook.set_dirty(true);\n",
       "    this.send_message(\"ack\", {});\n",
       "    var fig = this;\n",
       "    // Wait a second, then push the new image to the DOM so\n",
       "    // that it is saved nicely (might be nice to debounce this).\n",
       "    setTimeout(function () { fig.push_to_output() }, 1000);\n",
       "}\n",
       "\n",
       "mpl.figure.prototype._init_toolbar = function() {\n",
       "    var fig = this;\n",
       "\n",
       "    var nav_element = $('<div/>')\n",
       "    nav_element.attr('style', 'width: 100%');\n",
       "    this.root.append(nav_element);\n",
       "\n",
       "    // Define a callback function for later on.\n",
       "    function toolbar_event(event) {\n",
       "        return fig.toolbar_button_onclick(event['data']);\n",
       "    }\n",
       "    function toolbar_mouse_event(event) {\n",
       "        return fig.toolbar_button_onmouseover(event['data']);\n",
       "    }\n",
       "\n",
       "    for(var toolbar_ind in mpl.toolbar_items){\n",
       "        var name = mpl.toolbar_items[toolbar_ind][0];\n",
       "        var tooltip = mpl.toolbar_items[toolbar_ind][1];\n",
       "        var image = mpl.toolbar_items[toolbar_ind][2];\n",
       "        var method_name = mpl.toolbar_items[toolbar_ind][3];\n",
       "\n",
       "        if (!name) { continue; };\n",
       "\n",
       "        var button = $('<button class=\"btn btn-default\" href=\"#\" title=\"' + name + '\"><i class=\"fa ' + image + ' fa-lg\"></i></button>');\n",
       "        button.click(method_name, toolbar_event);\n",
       "        button.mouseover(tooltip, toolbar_mouse_event);\n",
       "        nav_element.append(button);\n",
       "    }\n",
       "\n",
       "    // Add the status bar.\n",
       "    var status_bar = $('<span class=\"mpl-message\" style=\"text-align:right; float: right;\"/>');\n",
       "    nav_element.append(status_bar);\n",
       "    this.message = status_bar[0];\n",
       "\n",
       "    // Add the close button to the window.\n",
       "    var buttongrp = $('<div class=\"btn-group inline pull-right\"></div>');\n",
       "    var button = $('<button class=\"btn btn-mini btn-primary\" href=\"#\" title=\"Stop Interaction\"><i class=\"fa fa-power-off icon-remove icon-large\"></i></button>');\n",
       "    button.click(function (evt) { fig.handle_close(fig, {}); } );\n",
       "    button.mouseover('Stop Interaction', toolbar_mouse_event);\n",
       "    buttongrp.append(button);\n",
       "    var titlebar = this.root.find($('.ui-dialog-titlebar'));\n",
       "    titlebar.prepend(buttongrp);\n",
       "}\n",
       "\n",
       "mpl.figure.prototype._root_extra_style = function(el){\n",
       "    var fig = this\n",
       "    el.on(\"remove\", function(){\n",
       "\tfig.close_ws(fig, {});\n",
       "    });\n",
       "}\n",
       "\n",
       "mpl.figure.prototype._canvas_extra_style = function(el){\n",
       "    // this is important to make the div 'focusable\n",
       "    el.attr('tabindex', 0)\n",
       "    // reach out to IPython and tell the keyboard manager to turn it's self\n",
       "    // off when our div gets focus\n",
       "\n",
       "    // location in version 3\n",
       "    if (IPython.notebook.keyboard_manager) {\n",
       "        IPython.notebook.keyboard_manager.register_events(el);\n",
       "    }\n",
       "    else {\n",
       "        // location in version 2\n",
       "        IPython.keyboard_manager.register_events(el);\n",
       "    }\n",
       "\n",
       "}\n",
       "\n",
       "mpl.figure.prototype._key_event_extra = function(event, name) {\n",
       "    var manager = IPython.notebook.keyboard_manager;\n",
       "    if (!manager)\n",
       "        manager = IPython.keyboard_manager;\n",
       "\n",
       "    // Check for shift+enter\n",
       "    if (event.shiftKey && event.which == 13) {\n",
       "        this.canvas_div.blur();\n",
       "        event.shiftKey = false;\n",
       "        // Send a \"J\" for go to next cell\n",
       "        event.which = 74;\n",
       "        event.keyCode = 74;\n",
       "        manager.command_mode();\n",
       "        manager.handle_keydown(event);\n",
       "    }\n",
       "}\n",
       "\n",
       "mpl.figure.prototype.handle_save = function(fig, msg) {\n",
       "    fig.ondownload(fig, null);\n",
       "}\n",
       "\n",
       "\n",
       "mpl.find_output_cell = function(html_output) {\n",
       "    // Return the cell and output element which can be found *uniquely* in the notebook.\n",
       "    // Note - this is a bit hacky, but it is done because the \"notebook_saving.Notebook\"\n",
       "    // IPython event is triggered only after the cells have been serialised, which for\n",
       "    // our purposes (turning an active figure into a static one), is too late.\n",
       "    var cells = IPython.notebook.get_cells();\n",
       "    var ncells = cells.length;\n",
       "    for (var i=0; i<ncells; i++) {\n",
       "        var cell = cells[i];\n",
       "        if (cell.cell_type === 'code'){\n",
       "            for (var j=0; j<cell.output_area.outputs.length; j++) {\n",
       "                var data = cell.output_area.outputs[j];\n",
       "                if (data.data) {\n",
       "                    // IPython >= 3 moved mimebundle to data attribute of output\n",
       "                    data = data.data;\n",
       "                }\n",
       "                if (data['text/html'] == html_output) {\n",
       "                    return [cell, data, j];\n",
       "                }\n",
       "            }\n",
       "        }\n",
       "    }\n",
       "}\n",
       "\n",
       "// Register the function which deals with the matplotlib target/channel.\n",
       "// The kernel may be null if the page has been refreshed.\n",
       "if (IPython.notebook.kernel != null) {\n",
       "    IPython.notebook.kernel.comm_manager.register_target('matplotlib', mpl.mpl_figure_comm);\n",
       "}\n"
      ],
      "text/plain": [
       "<IPython.core.display.Javascript object>"
      ]
     },
     "metadata": {},
     "output_type": "display_data"
    },
    {
     "data": {
      "text/html": [
       "<img src=\"data:image/png;base64,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\" width=\"432\">"
      ],
      "text/plain": [
       "<IPython.core.display.HTML object>"
      ]
     },
     "metadata": {},
     "output_type": "display_data"
    }
   ],
   "source": [
    "plot_iteration(a.cost_rate)"
   ]
  },
  {
   "cell_type": "code",
   "execution_count": null,
   "metadata": {},
   "outputs": [],
   "source": []
  },
  {
   "cell_type": "code",
   "execution_count": null,
   "metadata": {},
   "outputs": [],
   "source": []
  },
  {
   "cell_type": "code",
   "execution_count": 44,
   "metadata": {},
   "outputs": [
    {
     "data": {
      "text/plain": [
       "1.0000125110493199"
      ]
     },
     "execution_count": 44,
     "metadata": {},
     "output_type": "execute_result"
    }
   ],
   "source": [
    "relative_err(a.p, 0.02)"
   ]
  },
  {
   "cell_type": "code",
   "execution_count": 45,
   "metadata": {},
   "outputs": [
    {
     "data": {
      "text/plain": [
       "1.000012954257893"
      ]
     },
     "execution_count": 45,
     "metadata": {},
     "output_type": "execute_result"
    }
   ],
   "source": [
    "relative_err(a.p, 0.05)"
   ]
  },
  {
   "cell_type": "code",
   "execution_count": null,
   "metadata": {},
   "outputs": [],
   "source": []
  },
  {
   "cell_type": "code",
   "execution_count": null,
   "metadata": {},
   "outputs": [],
   "source": [
    "plot_fun(N, p=a.p, zlim=(0,1.7))"
   ]
  },
  {
   "cell_type": "code",
   "execution_count": null,
   "metadata": {},
   "outputs": [],
   "source": []
  },
  {
   "cell_type": "code",
   "execution_count": 46,
   "metadata": {},
   "outputs": [],
   "source": [
    "a.save_result('eq2_0')"
   ]
  },
  {
   "cell_type": "code",
   "execution_count": null,
   "metadata": {},
   "outputs": [],
   "source": []
  }
 ],
 "metadata": {
  "kernelspec": {
   "display_name": "Python 3",
   "language": "python",
   "name": "python3"
  },
  "language_info": {
   "codemirror_mode": {
    "name": "ipython",
    "version": 3
   },
   "file_extension": ".py",
   "mimetype": "text/x-python",
   "name": "python",
   "nbconvert_exporter": "python",
   "pygments_lexer": "ipython3",
   "version": "3.6.7"
  },
  "notify_time": "30",
  "toc": {
   "base_numbering": 1,
   "nav_menu": {},
   "number_sections": true,
   "sideBar": true,
   "skip_h1_title": false,
   "title_cell": "Table of Contents",
   "title_sidebar": "Contents",
   "toc_cell": false,
   "toc_position": {
    "height": "calc(100% - 180px)",
    "left": "10px",
    "top": "150px",
    "width": "216.797px"
   },
   "toc_section_display": true,
   "toc_window_display": false
  },
  "varInspector": {
   "cols": {
    "lenName": 16,
    "lenType": 16,
    "lenVar": 40
   },
   "kernels_config": {
    "python": {
     "delete_cmd_postfix": "",
     "delete_cmd_prefix": "del ",
     "library": "var_list.py",
     "varRefreshCmd": "print(var_dic_list())"
    },
    "r": {
     "delete_cmd_postfix": ") ",
     "delete_cmd_prefix": "rm(",
     "library": "var_list.r",
     "varRefreshCmd": "cat(var_dic_list()) "
    }
   },
   "types_to_exclude": [
    "module",
    "function",
    "builtin_function_or_method",
    "instance",
    "_Feature"
   ],
   "window_display": false
  }
 },
 "nbformat": 4,
 "nbformat_minor": 2
}
