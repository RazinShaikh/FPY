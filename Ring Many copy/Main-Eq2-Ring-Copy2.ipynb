{
 "cells": [
  {
   "cell_type": "markdown",
   "metadata": {
    "heading_collapsed": true,
    "slideshow": {
     "slide_type": "-"
    }
   },
   "source": [
    "# Imports"
   ]
  },
  {
   "cell_type": "code",
   "execution_count": 1,
   "metadata": {
    "hidden": true
   },
   "outputs": [
    {
     "name": "stdout",
     "output_type": "stream",
     "text": [
      "Pixiedust database opened successfully\n"
     ]
    },
    {
     "data": {
      "text/html": [
       "\n",
       "        <div style=\"margin:10px\">\n",
       "            <a href=\"https://github.com/ibm-watson-data-lab/pixiedust\" target=\"_new\">\n",
       "                <img src=\"https://github.com/ibm-watson-data-lab/pixiedust/raw/master/docs/_static/pd_icon32.png\" style=\"float:left;margin-right:10px\"/>\n",
       "            </a>\n",
       "            <span>Pixiedust version 1.1.14</span>\n",
       "        </div>\n",
       "        "
      ],
      "text/plain": [
       "<IPython.core.display.HTML object>"
      ]
     },
     "metadata": {},
     "output_type": "display_data"
    },
    {
     "data": {
      "text/html": [
       "<div>Warning: You are not running the latest version of PixieDust. Current is 1.1.14, Latest is 1.1.18</div>"
      ],
      "text/plain": [
       "<IPython.core.display.HTML object>"
      ]
     },
     "metadata": {},
     "output_type": "display_data"
    },
    {
     "data": {
      "text/html": [
       "\n",
       "                <div>Please copy and run the following command in a new cell to upgrade: <span style=\"background-color:#ececec;font-family:monospace;padding:0 5px\">!pip install --user --upgrade pixiedust</span></div>\n",
       "            "
      ],
      "text/plain": [
       "<IPython.core.display.HTML object>"
      ]
     },
     "metadata": {},
     "output_type": "display_data"
    },
    {
     "data": {
      "text/html": [
       "<div>Please restart kernel after upgrading.</div>"
      ],
      "text/plain": [
       "<IPython.core.display.HTML object>"
      ]
     },
     "metadata": {},
     "output_type": "display_data"
    }
   ],
   "source": [
    "import numpy as np\n",
    "import itertools\n",
    "import time\n",
    "from matplotlib import pyplot as plt\n",
    "from mpl_toolkits.mplot3d import Axes3D\n",
    "from matplotlib import cm\n",
    "import pixiedust"
   ]
  },
  {
   "cell_type": "markdown",
   "metadata": {
    "heading_collapsed": true
   },
   "source": [
    "# Defining functions"
   ]
  },
  {
   "cell_type": "markdown",
   "metadata": {
    "heading_collapsed": true,
    "hidden": true
   },
   "source": [
    "## Sigmoid"
   ]
  },
  {
   "cell_type": "markdown",
   "metadata": {
    "hidden": true
   },
   "source": [
    "Sigmoid $\\sigma(x) = \\frac{1}{1+e^{-x}}$ and its derrivatives."
   ]
  },
  {
   "cell_type": "markdown",
   "metadata": {
    "hidden": true
   },
   "source": [
    "Sigmoid with parameter $t$\n",
    "$$ \\sigma_t(x) = \\frac{1}{1+e^{-tx}}$$"
   ]
  },
  {
   "cell_type": "code",
   "execution_count": 2,
   "metadata": {
    "hidden": true
   },
   "outputs": [],
   "source": [
    "T = 1"
   ]
  },
  {
   "cell_type": "code",
   "execution_count": 3,
   "metadata": {
    "hidden": true
   },
   "outputs": [],
   "source": [
    "def sig(x):\n",
    "    return 1 / (1 + np.exp(-T*x))\n",
    "\n",
    "def sig1(x):\n",
    "    return T * sig(x) * (1 - sig(x))\n",
    "\n",
    "def sig2(x):\n",
    "    return T * (sig1(x) - 2*sig(x)*sig1(x))\n",
    "\n",
    "def sig3(x):\n",
    "    return T * (sig2(x) - 2 * (sig1(x)**2 + sig(x) * sig2(x)))\n",
    "\n",
    "def sig_pr(x, k):\n",
    "    if k==0:\n",
    "        return sig(x)\n",
    "    if k==1:\n",
    "        return sig1(x)\n",
    "    if k==2:\n",
    "        return sig2(x)\n",
    "    if k==3:\n",
    "        return sig3(x)"
   ]
  },
  {
   "cell_type": "markdown",
   "metadata": {
    "heading_collapsed": true,
    "hidden": true
   },
   "source": [
    "## RHS"
   ]
  },
  {
   "cell_type": "markdown",
   "metadata": {
    "hidden": true
   },
   "source": [
    "The right side of the equation:  $\\Delta\\Psi(x,y) = 6 x (x-1) (1-2 y) + 2 y (y-1) (1-2 y)$"
   ]
  },
  {
   "cell_type": "code",
   "execution_count": 4,
   "metadata": {
    "hidden": true
   },
   "outputs": [],
   "source": [
    "K=1\n",
    "def f(x, y):\n",
    "    return -(np.cos(np.sqrt(x**2 + y**2)) / np.sqrt(x**2 + y**2)) + np.sin(np.sqrt(x**2 + y**2))"
   ]
  },
  {
   "cell_type": "markdown",
   "metadata": {
    "hidden": true
   },
   "source": [
    "The analytic solution is given by: $\\ \\Psi_a(x,y) = x (1-x) y (1-y) (1-2 y)$"
   ]
  },
  {
   "cell_type": "code",
   "execution_count": 5,
   "metadata": {
    "hidden": true
   },
   "outputs": [],
   "source": [
    "# def psi_a(x, y):\n",
    "#     return y * (1-y) * np.sin(np.pi * x)\n",
    "\n",
    "def psi_a(x, y):\n",
    "    return -np.sin(np.sqrt(x**2 + y**2))"
   ]
  },
  {
   "cell_type": "markdown",
   "metadata": {
    "hidden": true
   },
   "source": [
    "$$\\frac{\\partial}{\\partial x} \\Psi_a = (1-2x) y (1-y) (1-2 y)$$"
   ]
  },
  {
   "cell_type": "code",
   "execution_count": 6,
   "metadata": {
    "hidden": true
   },
   "outputs": [],
   "source": [
    "def psi_a_dx(x,y):\n",
    "    return -(x * np.cos(np.sqrt(x**2 + y**2))) / np.sqrt(x**2 + y**2)"
   ]
  },
  {
   "cell_type": "markdown",
   "metadata": {
    "hidden": true
   },
   "source": [
    "$$\\frac{\\partial}{\\partial y} \\Psi_a = x (1-x) (1-6y + 6y^2) $$"
   ]
  },
  {
   "cell_type": "code",
   "execution_count": 7,
   "metadata": {
    "hidden": true
   },
   "outputs": [],
   "source": [
    "def psi_a_dy(x,y):\n",
    "    return -(y * np.cos(np.sqrt(x**2 + y**2))) / np.sqrt(x**2 + y**2)"
   ]
  },
  {
   "cell_type": "markdown",
   "metadata": {
    "heading_collapsed": true,
    "hidden": true
   },
   "source": [
    "## Neural Network"
   ]
  },
  {
   "cell_type": "markdown",
   "metadata": {
    "hidden": true
   },
   "source": [
    "The output of neural network $N(x,y,\\vec{p})$, where $\\vec{p} = [w, u, v]$:\n",
    "$$N = \\sum_i^H v_i \\sigma(z_i) \\text{, where } z_i = w_{i0} x + w_{i1} y + u_i$$"
   ]
  },
  {
   "cell_type": "code",
   "execution_count": 8,
   "metadata": {
    "code_folding": [],
    "hidden": true
   },
   "outputs": [],
   "source": [
    "def z(x, y, p):\n",
    "    z_x = np.multiply(x, p[0][0])\n",
    "    z_y = np.multiply(y, p[0][1])\n",
    "    z_ = np.array([z_x, z_y, p[1]]).sum(axis=0)\n",
    "    return z_\n",
    "\n",
    "def N(x, y, p):\n",
    "    return np.sum(np.multiply(sig(z(x,y,p)), p[2]))"
   ]
  },
  {
   "cell_type": "markdown",
   "metadata": {
    "hidden": true
   },
   "source": [
    "$$\\frac{\\partial^k N}{\\partial x_j^k} = \\sum_{i=1}^H v_i w_{ij}^k \\sigma^{(k)}$$"
   ]
  },
  {
   "cell_type": "code",
   "execution_count": 9,
   "metadata": {
    "code_folding": [],
    "hidden": true
   },
   "outputs": [],
   "source": [
    "def dN_dxj_k(x, y, p, j, k):\n",
    "    wj = p[0][j]\n",
    "    v = p[2]\n",
    "    z_ = z(x, y, p)\n",
    "    \n",
    "    return np.sum(v * (wj**k) * sig_pr(z_, k))"
   ]
  },
  {
   "cell_type": "markdown",
   "metadata": {
    "hidden": true
   },
   "source": [
    "$$\\frac{\\partial N}{\\partial w_j} = x_j v \\sigma '$$"
   ]
  },
  {
   "cell_type": "code",
   "execution_count": 10,
   "metadata": {
    "code_folding": [],
    "hidden": true
   },
   "outputs": [],
   "source": [
    "def dN_dwj(x, y, p, j):\n",
    "    xj = x if j==0 else y\n",
    "    v = p[2]\n",
    "    z_ = z(x, y, p)\n",
    "    return xj * v * sig1(z_)"
   ]
  },
  {
   "cell_type": "markdown",
   "metadata": {
    "hidden": true
   },
   "source": [
    "$$ \\frac{\\partial}{\\partial w_j} \\frac{\\partial N}{\\partial x_k} = x_j v w_k \\sigma'' + v_i \\sigma' \\quad\\text{ if } j = k$$\n",
    "\n",
    "$$ \\frac{\\partial}{\\partial w_j} \\frac{\\partial N}{\\partial x_k} = x_j v w_k \\sigma'' \\quad\\text{ if } j \\neq k$$"
   ]
  },
  {
   "cell_type": "code",
   "execution_count": 11,
   "metadata": {
    "code_folding": [],
    "hidden": true
   },
   "outputs": [],
   "source": [
    "def d_dwj_dN_dxk(x, y, p, j, k):\n",
    "    xj = x if j==0 else y\n",
    "    wk = p[0][k]\n",
    "    jk = 1 if j==k else 0\n",
    "    v = p[2]\n",
    "    z_ = z(x, y, p)\n",
    "    return xj * v * wk * sig2(z_) + jk * v * sig1(z_)"
   ]
  },
  {
   "cell_type": "markdown",
   "metadata": {
    "hidden": true
   },
   "source": [
    "$$ \\frac{\\partial}{\\partial w_j} \\frac{\\partial^2 N}{\\partial x_k^2} = x_j v w_k^2 \\sigma^{(3)} + 2 v w_k \\sigma'' \\quad\\text{ if } j = k $$\n",
    "\n",
    "$$ \\frac{\\partial}{\\partial w_j} \\frac{\\partial^2 N}{\\partial x_k^2} = x_j v w_k^2 \\sigma^{(3)} \\quad\\text{ if } j \\neq k $$"
   ]
  },
  {
   "cell_type": "code",
   "execution_count": 12,
   "metadata": {
    "code_folding": [],
    "hidden": true
   },
   "outputs": [],
   "source": [
    "def d_dwj_dN2_dxk2(x, y, p, j, k):\n",
    "    xj = x if j==0 else y\n",
    "    wk = p[0][k]\n",
    "    jk = 1 if j==k else 0\n",
    "    v = p[2]\n",
    "    z_ = z(x, y, p)\n",
    "    return xj * v * (wk**2) * sig3(z_) + jk * 2 * v * wk * sig2(z_)"
   ]
  },
  {
   "cell_type": "markdown",
   "metadata": {
    "hidden": true
   },
   "source": [
    "$$ \\frac{\\partial}{\\partial u} \\frac{\\partial^k}{\\partial x_j^k} N = v w_j^k \\sigma^{(k+1)} $$"
   ]
  },
  {
   "cell_type": "code",
   "execution_count": 13,
   "metadata": {
    "code_folding": [],
    "hidden": true
   },
   "outputs": [],
   "source": [
    "def d_du_dkN(x, y, p, j, k):\n",
    "    v = p[2]\n",
    "    wj = p[0][j]\n",
    "    z_ = z(x, y, p)\n",
    "    return v * (wj**k) * sig_pr(z_, k+1)"
   ]
  },
  {
   "cell_type": "markdown",
   "metadata": {
    "hidden": true
   },
   "source": [
    "$$ \\frac{\\partial}{\\partial v} \\frac{\\partial^k}{\\partial x_j^k} N = w_j^k \\sigma^{(k)} $$"
   ]
  },
  {
   "cell_type": "code",
   "execution_count": 14,
   "metadata": {
    "code_folding": [],
    "hidden": true
   },
   "outputs": [],
   "source": [
    "def d_dv_dkN(x, y, p, j, k):\n",
    "    wj = p[0][j]\n",
    "    z_ = z(x, y, p)\n",
    "    return (wj**k) * sig_pr(z_, k)"
   ]
  },
  {
   "cell_type": "markdown",
   "metadata": {
    "hidden": true
   },
   "source": [
    "## Cost function"
   ]
  },
  {
   "cell_type": "markdown",
   "metadata": {
    "hidden": true
   },
   "source": [
    "$$E[\\vec{p}] = \\sum_{i \\in \\hat{D}} \\left\\{ \\frac{\\partial^2 N}{\\partial x^2} + \\frac{\\partial^2 N}{\\partial y^2} - f(x,y) \\right\\}^2 \n",
    "           +  \\sum_{i \\in \\partial \\hat{D}} N^2$$"
   ]
  },
  {
   "cell_type": "code",
   "execution_count": 15,
   "metadata": {
    "hidden": true
   },
   "outputs": [],
   "source": [
    "BC=1"
   ]
  },
  {
   "cell_type": "code",
   "execution_count": 16,
   "metadata": {
    "code_folding": [],
    "hidden": true
   },
   "outputs": [],
   "source": [
    "def error_term1(x, y, p):\n",
    "    return dN_dxj_k(x,y,p,0,2)  +  dN_dxj_k(x,y,p,1,2)  -  f(x,y)"
   ]
  },
  {
   "cell_type": "code",
   "execution_count": 17,
   "metadata": {
    "code_folding": [],
    "hidden": true
   },
   "outputs": [],
   "source": [
    "def cost(points, boundary_points, p):\n",
    "    et1 = []\n",
    "    et2 = []\n",
    "    for x, y in points:\n",
    "        err_sq = error_term1(x, y, p)**2\n",
    "        et1.append(err_sq)\n",
    "    \n",
    "    for x, y in boundary_points:\n",
    "        err_sq = N(x,y,p)**2\n",
    "        et2.append(err_sq)\n",
    "        \n",
    "    cost = sum(et1) + BC*sum(et2)\n",
    "    \n",
    "    return cost"
   ]
  },
  {
   "cell_type": "code",
   "execution_count": 18,
   "metadata": {
    "hidden": true
   },
   "outputs": [],
   "source": [
    "# def relative_err(all_points, p, dOmega):\n",
    "#     trial1 = np.sum(dOmega*np.array([np.linalg.norm(N(x,y,p) - psi_a(x,y))**2\n",
    "#                                      for x, y in all_points]))\n",
    "\n",
    "#     trial2 = np.sum([dOmega*((dN_dxj_k(x,y,p,0,1)-psi_a_dx(x,y))**2 +\n",
    "#                              (dN_dxj_k(x,y,p,1,1)-psi_a_dy(x,y))**2)\n",
    "#                      for x, y in all_points])\n",
    "\n",
    "#     ana1 = np.sum(dOmega*np.array([np.linalg.norm(psi_a(x,y))**2\n",
    "#                                          for x, y in all_points]))\n",
    "#     ana2 = np.sum([dOmega*(psi_a_dx(x,y)**2 + psi_a_dy(x,y)**2)\n",
    "#                    for x, y in all_points])\n",
    "    \n",
    "#     relative_err = (trial1 + trial2)**(1/2) / (ana1 + ana2)**(1/2)\n",
    "\n",
    "#     return relative_err\n",
    "\n",
    "# def relative_err(all_points, p, dOmega):\n",
    "#     #this abs error\n",
    "#     dx=0.3\n",
    "#     bx=0.1\n",
    "#     points, b_points = get_points(dx,bx)\n",
    "#     all_points = points + b_points\n",
    "#     abs_err = np.sum(np.array([np.linalg.norm(N(x,y,p) - psi_a(x,y))\n",
    "#                                      for x, y in all_points])) / len(all_points)\n",
    "#     return abs_err\n",
    "\n",
    "def relative_err(p, dx=0.3):\n",
    "    r = np.arange(np.pi, 2*np.pi+dx, dx)\n",
    "    th = np.arange(-np.pi, np.pi+dx, dx)\n",
    "    R, TH = np.meshgrid(r,th)\n",
    "\n",
    "    x = np.ravel(R*np.cos(TH))\n",
    "    y = np.ravel(R*np.sin(TH))\n",
    "    \n",
    "    all_points = list(zip(x,y))\n",
    "\n",
    "#     dOmega = area / len(all_points)\n",
    "    dOmega = 3 * np.pi**3 / len(all_points)\n",
    "\n",
    "    trial1 = np.sum(dOmega*np.array([np.linalg.norm(N(x,y,p) - psi_a(x,y))**2\n",
    "                                     for x, y in all_points]))\n",
    "\n",
    "    trial2 = np.sum([dOmega*((dN_dxj_k(x,y,p,0,1)-psi_a_dx(x,y))**2 +\n",
    "                             (dN_dxj_k(x,y,p,1,1)-psi_a_dy(x,y))**2)\n",
    "                     for x, y in all_points])\n",
    "\n",
    "    ana1 = np.sum(dOmega*np.array([np.linalg.norm(psi_a(x,y))**2\n",
    "                                         for x, y in all_points]))\n",
    "    ana2 = np.sum([dOmega*(psi_a_dx(x,y)**2 + psi_a_dy(x,y)**2)\n",
    "                   for x, y in all_points])\n",
    "    \n",
    "    rel_err = (trial1 + trial2)**(1/2) / (ana1 + ana2)**(1/2)\n",
    "    \n",
    "    return rel_err"
   ]
  },
  {
   "cell_type": "markdown",
   "metadata": {
    "heading_collapsed": true
   },
   "source": [
    "# Gradients"
   ]
  },
  {
   "cell_type": "markdown",
   "metadata": {
    "hidden": true
   },
   "source": [
    "$$ \\frac{\\partial E[\\vec{p}]}{\\partial w_j} = \\sum_{i \\in \\hat{D}} \\left\\{ 2 \\text{ (error_term1) } \\left( \\frac{\\partial}{\\partial w_j} \\frac{\\partial^2 N}{\\partial x^2} + \\frac{\\partial}{\\partial w_j} \\frac{\\partial^2 N}{\\partial y^2} \\right) \\right\\}  +  \\sum_{i \\in \\partial \\hat{D}} 2 N \\frac{\\partial N}{\\partial w_j}$$"
   ]
  },
  {
   "cell_type": "code",
   "execution_count": 19,
   "metadata": {
    "code_folding": [],
    "hidden": true
   },
   "outputs": [],
   "source": [
    "def dE_dwj(points, boundary_points, p, j):\n",
    "    t1 = []\n",
    "    t2 = []\n",
    "    for x, y in points:\n",
    "        tmp = 2 * error_term1(x,y,p) * (d_dwj_dN2_dxk2(x,y,p,j,0) + d_dwj_dN2_dxk2(x,y,p,j,1))\n",
    "        t1.append(tmp)\n",
    "        \n",
    "    for x, y in boundary_points:\n",
    "        tmp = 2 * N(x,y,p) * dN_dwj(x,y,p,j)\n",
    "        t2.append(tmp)\n",
    "    \n",
    "    grad = sum(t1) + BC*sum(t2)\n",
    "    \n",
    "    return grad"
   ]
  },
  {
   "cell_type": "markdown",
   "metadata": {
    "hidden": true
   },
   "source": [
    "$$ \\frac{\\partial E[\\vec{p}]}{\\partial u} = \\sum_{i \\in \\hat{D}} \\left\\{ 2 \\text{ (error_term1) } \\left( \\frac{\\partial}{\\partial u} \\frac{\\partial^2 N}{\\partial x^2} + \\frac{\\partial}{\\partial u} \\frac{\\partial^2 N}{\\partial y^2} \\right) \\right\\} +  \\sum_{i \\in \\partial \\hat{D}} 2 N \\frac{\\partial N}{\\partial u}$$"
   ]
  },
  {
   "cell_type": "code",
   "execution_count": 20,
   "metadata": {
    "code_folding": [],
    "hidden": true
   },
   "outputs": [],
   "source": [
    "def dE_du(points, boundary_points, p):\n",
    "    t1 = []\n",
    "    t2 = []\n",
    "    for x, y in points:\n",
    "        tmp = 2 * error_term1(x,y,p) * (d_du_dkN(x,y,p,0,2) + d_du_dkN(x,y,p,1,2))\n",
    "        t1.append(tmp)\n",
    "        \n",
    "    for x, y in boundary_points:\n",
    "        tmp = 2 * N(x,y,p) * d_du_dkN(x,y,p,0,0)\n",
    "        t2.append(tmp)\n",
    "    \n",
    "    grad = sum(t1) + BC*sum(t2)\n",
    "    \n",
    "    return grad"
   ]
  },
  {
   "cell_type": "markdown",
   "metadata": {
    "hidden": true
   },
   "source": [
    "$$ \\frac{\\partial E[\\vec{p}]}{\\partial v} = \\sum_{i \\in \\hat{D}} \\left\\{ 2 \\text{ (error_term1) } \\left( \\frac{\\partial}{\\partial v} \\frac{\\partial^2 N}{\\partial x^2} + \\frac{\\partial}{\\partial v} \\frac{\\partial^2 N}{\\partial y^2} \\right) \\right\\}  +  \\sum_{i \\in \\partial \\hat{D}} 2 N \\frac{\\partial N}{\\partial v}$$"
   ]
  },
  {
   "cell_type": "code",
   "execution_count": 21,
   "metadata": {
    "code_folding": [],
    "hidden": true
   },
   "outputs": [],
   "source": [
    "def dE_dv(points, boundary_points, p):\n",
    "    t1 = []\n",
    "    t2 = []\n",
    "    for x, y in points:\n",
    "        tmp = 2 * error_term1(x,y,p) * (d_dv_dkN(x,y,p,0,2) + d_dv_dkN(x,y,p,1,2))\n",
    "        t1.append(tmp)\n",
    "        \n",
    "    for x, y in boundary_points:\n",
    "        tmp = 2 * N(x,y,p) * d_dv_dkN(x,y,p,0,0)\n",
    "        t2.append(tmp)\n",
    "    \n",
    "    grad = sum(t1) + BC*sum(t2)\n",
    "    \n",
    "    return grad"
   ]
  },
  {
   "cell_type": "markdown",
   "metadata": {},
   "source": [
    "# NN class"
   ]
  },
  {
   "cell_type": "code",
   "execution_count": 22,
   "metadata": {},
   "outputs": [],
   "source": [
    "def get_points(dx,bx):\n",
    "    r = np.arange(np.pi, 2*np.pi+dx, dx)\n",
    "    th = np.arange(-np.pi, np.pi+dx, dx)\n",
    "    R, TH = np.meshgrid(r,th)\n",
    "\n",
    "    r_bound = np.array([np.pi, 2*np.pi])\n",
    "    th_bound = np.arange(-np.pi, np.pi+bx, bx)\n",
    "    R_bound, TH_bound = np.meshgrid(r_bound,th_bound)\n",
    "\n",
    "    x = np.ravel(R*np.cos(TH))\n",
    "    y = np.ravel(R*np.sin(TH))\n",
    "\n",
    "    x_bound = np.ravel(R_bound*np.cos(TH_bound))\n",
    "    y_bound = np.ravel(R_bound*np.sin(TH_bound))\n",
    "\n",
    "    boundary_points = list(zip(x_bound, y_bound))\n",
    "    points = [(a,b) for a, b in zip(x,y) if (a,b) not in boundary_points]\n",
    "\n",
    "    return points, boundary_points"
   ]
  },
  {
   "cell_type": "code",
   "execution_count": 23,
   "metadata": {
    "code_folding": [
     47,
     105
    ]
   },
   "outputs": [],
   "source": [
    "class NNTrain:\n",
    "    def __init__(self, dx=0.1, bx=0.08, hidden_nodes=10, alpha=0.01, \n",
    "                 beta_1=0.9, beta_2=0.999, epsilon=1e-8, update_interval=50,\n",
    "                 if_rel_err=False, output_file='output/output.csv'):\n",
    "        \n",
    "        self.output_file = output_file\n",
    "        self.training_started = False\n",
    "        self.hidden_nodes = hidden_nodes\n",
    "        self.alpha = alpha\n",
    "        self.beta_1 = beta_1\n",
    "        self.beta_2 = beta_2\n",
    "        self.epsilon = epsilon\n",
    "        self.update_interval = update_interval\n",
    "        self.points, self.boundary_points = get_points(dx,bx)\n",
    "        self.cost_rate = []\n",
    "        self.if_rel_err = if_rel_err\n",
    "        if self.if_rel_err:\n",
    "            self.rel_err = []\n",
    "        self.p = np.array([np.random.randn(2,hidden_nodes),\n",
    "                           np.random.randn(hidden_nodes),\n",
    "                           np.random.randn(hidden_nodes)])\n",
    "        self.m_t = np.array([np.zeros(hidden_nodes),\n",
    "                             np.zeros(hidden_nodes),\n",
    "                             np.zeros(hidden_nodes),\n",
    "                             np.zeros(hidden_nodes)])\n",
    "        self.v_t = np.array([np.zeros(hidden_nodes),\n",
    "                             np.zeros(hidden_nodes),\n",
    "                             np.zeros(hidden_nodes),\n",
    "                             np.zeros(hidden_nodes)])\n",
    "        self.if_continue = np.array([True, True, True, True])\n",
    "        \n",
    "        \n",
    "    def adam(self, t, w, g_t, theta_0):\n",
    "        self.m_t[w] = self.beta_1 * self.m_t[w] + (1-self.beta_1) * g_t\n",
    "        self.v_t[w] = self.beta_2 * self.v_t[w] + (1-self.beta_2) * (g_t * g_t)\n",
    "        \n",
    "        m_cap = self.m_t[w]/(1-(self.beta_1**t))\n",
    "        v_cap = self.v_t[w]/(1-(self.beta_2**t))\n",
    "        theta_0_prev = np.copy(theta_0)\n",
    "        theta_0 = theta_0 - (self.alpha*m_cap)/(np.sqrt(v_cap)+self.epsilon)\n",
    "        \n",
    "        if(np.all(theta_0 == theta_0_prev)):\n",
    "            self.if_continue[w] = False\n",
    "            \n",
    "        return theta_0\n",
    "        \n",
    "\n",
    "    def train(self, itr=1000):\n",
    "        if self.training_started:\n",
    "            mode='a'\n",
    "        else:\n",
    "            mode='w'\n",
    "        self.training_started=True\n",
    "        \n",
    "        with open(self.output_file, mode) as file:\n",
    "            if mode=='w':\n",
    "                if self.if_rel_err:\n",
    "                    file.write('Iteration,Cost,Cost Diff,Relative Error,Relative Error Diff\\n')\n",
    "                else:\n",
    "                    file.write('Iteration,Cost,Cost Diff\\n')\n",
    "            start=len(self.cost_rate)-1\n",
    "            if start<1:\n",
    "                start+=1\n",
    "                self.cost_rate.append(cost(self.points,self.boundary_points,self.p))\n",
    "                if self.if_rel_err:\n",
    "                    self.rel_err.append(relative_err(self.p, 0.4))\n",
    "\n",
    "            i = start\n",
    "            while i < start+itr:\n",
    "                if(not np.any(self.if_continue)):\n",
    "                    break\n",
    "                                    \n",
    "                #adam optimizer\n",
    "                g_w0 = dE_dwj(self.points, self.boundary_points, self.p, 0)\n",
    "                g_w1 = dE_dwj(self.points, self.boundary_points, self.p, 1)\n",
    "                g_u = dE_du(self.points, self.boundary_points, self.p)\n",
    "                g_v = dE_dv(self.points, self.boundary_points, self.p)\n",
    "                \n",
    "                if self.if_continue[0] :self.p[0][0] = self.adam(i+1, 0, g_w0, self.p[0][0])\n",
    "                if self.if_continue[1] :self.p[0][1] = self.adam(i+1, 1, g_w1, self.p[0][1])\n",
    "                if self.if_continue[2] :self.p[1] = self.adam(i+1, 2, g_u, self.p[1])\n",
    "                if self.if_continue[3] :self.p[2] = self.adam(i+1, 3, g_v, self.p[2])\n",
    "                \n",
    "                \n",
    "                self.cost_rate.append(cost(self.points,self.boundary_points,self.p))\n",
    "                cost_diff = self.cost_rate[i]-self.cost_rate[i+1]\n",
    "                if self.if_rel_err:\n",
    "                    self.rel_err.append(relative_err(self.p, 0.4))\n",
    "                    rel_diff = self.rel_err[i]-self.rel_err[i+1]\n",
    "\n",
    "                if self.if_rel_err:\n",
    "                    file.write('{},{:.8f},{:.8f},{:.8f},{:.8f}\\n'.format(\n",
    "                        i+1,self.cost_rate[i+1], cost_diff,\n",
    "                        self.rel_err[i+1], rel_diff))\n",
    "                else:\n",
    "                    file.write('{},{:.8f},{:.8f}\\n'.format(\n",
    "                        i+1,self.cost_rate[i+1],\n",
    "                        cost_diff))\n",
    "\n",
    "                if i%self.update_interval==0:\n",
    "                    file.flush()\n",
    "                    \n",
    "                i+=1\n",
    "                \n",
    "                \n",
    "    def save_result(self, output_name=''):\n",
    "        timestr = time.strftime(\"%Y%m%d-%H%M\")\n",
    "        np.savez('output/'+ timestr + '_' + output_name +'_nn_params.npz', self.p)\n",
    "        np.savez('output/'+ timestr + '_' + output_name +'_cost_rate.npz', self.cost_rate)\n",
    "        if self.if_rel_err:\n",
    "            np.savez('output/'+ timestr + '_' + output_name +'_rel_err.npz', self.rel_err)"
   ]
  },
  {
   "cell_type": "code",
   "execution_count": null,
   "metadata": {},
   "outputs": [],
   "source": []
  },
  {
   "cell_type": "markdown",
   "metadata": {
    "heading_collapsed": true
   },
   "source": [
    "# Graphs"
   ]
  },
  {
   "cell_type": "code",
   "execution_count": 24,
   "metadata": {
    "hidden": true
   },
   "outputs": [],
   "source": [
    "%matplotlib notebook\n",
    "%matplotlib notebook"
   ]
  },
  {
   "cell_type": "markdown",
   "metadata": {
    "heading_collapsed": true,
    "hidden": true
   },
   "source": [
    "## Hidden Nodes"
   ]
  },
  {
   "cell_type": "code",
   "execution_count": 25,
   "metadata": {
    "hidden": true
   },
   "outputs": [],
   "source": [
    "def plot_nodes(a, save_name=None, save=True, zlim=True):\n",
    "    p = a.p\n",
    "    hmax = a.p[0][0].shape[0]\n",
    "    col = int(np.sqrt(hmax)) if int(np.sqrt(hmax)) < 10 else 10\n",
    "    row = np.ceil(hmax / col)\n",
    "    \n",
    "    d_x=0.1\n",
    "\n",
    "    fig = plt.figure(figsize=(col*3, row*3), dpi=100)\n",
    "    for h in range(1,hmax+1):\n",
    "        ax = fig.add_subplot(row,col,h, projection='3d')\n",
    "        x = y = np.arange(0, 1+d_x, d_x)\n",
    "        X, Y = np.meshgrid(x, y)\n",
    "\n",
    "        zs = np.array([p[1][h-1]*sig(z(x,y,p))[h-1] for x,y in zip(np.ravel(X), np.ravel(Y))])\n",
    "        Z = zs.reshape(X.shape)\n",
    "\n",
    "        ax.set_xlabel('x')\n",
    "        ax.set_ylabel('y')\n",
    "        if zlim:\n",
    "            ax.set_zlim(0,1)\n",
    "\n",
    "        ax.plot_surface(X, Y, Z, cmap=cm.coolwarm)\n",
    "        ax.title.set_text('HN: ' + str(h) + ', v=' + \"{:.4E}\".format(p[1][h-1]))\n",
    "        time.sleep(0.2)\n",
    "\n",
    "    if save==True:\n",
    "        if save_name is None: \n",
    "            plt.savefig('t'+str(T)+'_h'+str(hmax)+'_n'+str(a.nx)+'.png')\n",
    "        else:\n",
    "            plt.savefig(save_name)\n",
    "    else:\n",
    "        plt.show()"
   ]
  },
  {
   "cell_type": "markdown",
   "metadata": {
    "heading_collapsed": true,
    "hidden": true
   },
   "source": [
    "## Error vs Iterations"
   ]
  },
  {
   "cell_type": "code",
   "execution_count": 26,
   "metadata": {
    "hidden": true
   },
   "outputs": [],
   "source": [
    "def plot_iteration(arr, min_it=0, max_it=None):\n",
    "    plt.figure()\n",
    "    plt.plot(np.arange(len(arr[min_it:max_it])), np.array(arr[min_it:max_it]))\n",
    "    plt.show()"
   ]
  },
  {
   "cell_type": "markdown",
   "metadata": {
    "heading_collapsed": true,
    "hidden": true
   },
   "source": [
    "## Solution Accuracy on the domain"
   ]
  },
  {
   "cell_type": "code",
   "execution_count": 27,
   "metadata": {
    "hidden": true
   },
   "outputs": [],
   "source": [
    "def accuracy(p):\n",
    "    d_x=0.01\n",
    "    fig = plt.figure()\n",
    "    ax = fig.add_subplot(111, projection='3d')\n",
    "    x = y = np.arange(0, 1.0+d_x, d_x)\n",
    "    X, Y = np.meshgrid(x, y)\n",
    "\n",
    "    zs = np.array([psi_a(x,y)-psi_t(x,y,p) for x,y in zip(np.ravel(X), np.ravel(Y))])\n",
    "    Z = zs.reshape(X.shape)\n",
    "\n",
    "    ax.plot_surface(X, Y, Z, cmap=cm.coolwarm_r)\n",
    "    # ax.ticklabel_format(style='sci', axis='z', scilimits=(0,0), useOffset=True, useMathText=True)\n",
    "\n",
    "\n",
    "    ax.set_xlabel('x')\n",
    "    ax.set_ylabel('y')\n",
    "#     ax.set_zlabel('Accuracy')\n",
    "\n",
    "\n",
    "    plt.show()"
   ]
  },
  {
   "cell_type": "code",
   "execution_count": 28,
   "metadata": {
    "hidden": true
   },
   "outputs": [],
   "source": [
    "def plot_fun(fun, title=None, return_ax=False, xlim=None, ylim=None, zlim=None, **kwargs):\n",
    "    dx=0.1\n",
    "\n",
    "    fig = plt.figure()\n",
    "    ax = fig.add_subplot(111, projection='3d')\n",
    "    \n",
    "    r = np.arange(np.pi, 2*np.pi+dx, dx)\n",
    "    th = np.arange(-np.pi, np.pi+dx, dx)\n",
    "    R, TH = np.meshgrid(r,th)\n",
    "    X = R*np.cos(TH)\n",
    "    Y = R*np.sin(TH)\n",
    "\n",
    "    zs = np.array([fun(x,y,**kwargs) for x,y in zip(np.ravel(X), np.ravel(Y))])\n",
    "    Z = zs.reshape(X.shape)\n",
    "\n",
    "    ax.plot_surface(X, Y, Z, cmap=cm.coolwarm_r)\n",
    "\n",
    "    ax.set_xlabel('x')\n",
    "    ax.set_ylabel('y')\n",
    "    ax.title.set_text(title)\n",
    "    \n",
    "    if xlim:\n",
    "        ax.set_xlim(xlim[0], xlim[1])\n",
    "    if ylim:\n",
    "        ax.set_ylim(ylim[0], ylim[1])\n",
    "    if zlim:\n",
    "        ax.set_zlim(zlim[0], zlim[1])\n",
    "\n",
    "    if return_ax:\n",
    "        return ax\n",
    "    else:\n",
    "        plt.show()"
   ]
  },
  {
   "cell_type": "code",
   "execution_count": null,
   "metadata": {
    "hidden": true
   },
   "outputs": [],
   "source": []
  },
  {
   "cell_type": "markdown",
   "metadata": {},
   "source": [
    "# Training"
   ]
  },
  {
   "cell_type": "markdown",
   "metadata": {},
   "source": [
    "Meta training"
   ]
  },
  {
   "cell_type": "code",
   "execution_count": null,
   "metadata": {},
   "outputs": [],
   "source": [
    "a = NNTrain(dx=0.1,bx=0.01, hidden_nodes=10, alpha=0.01, update_interval=10, if_rel_err=False, output_file='out/out2.csv')"
   ]
  },
  {
   "cell_type": "code",
   "execution_count": null,
   "metadata": {},
   "outputs": [],
   "source": [
    "BC=1\n",
    "a.alpha=0.01\n",
    "a.train(100)"
   ]
  },
  {
   "cell_type": "code",
   "execution_count": null,
   "metadata": {
    "scrolled": true
   },
   "outputs": [],
   "source": [
    "thresh=1e-4\n",
    "for i in range(10000):\n",
    "    if a.alpha < 1e-6:\n",
    "        break\n",
    "    if np.mean([np.absolute(s-t) for s, t in zip(a.cost_rate[-21:], a.cost_rate[-20:])]) < thresh:\n",
    "        BC=BC*10\n",
    "        a.alpha=a.alpha/10\n",
    "    a.train(100)"
   ]
  },
  {
   "cell_type": "markdown",
   "metadata": {},
   "source": [
    "Etc"
   ]
  },
  {
   "cell_type": "code",
   "execution_count": 48,
   "metadata": {},
   "outputs": [
    {
     "data": {
      "text/plain": [
       "0.17851115769438375"
      ]
     },
     "execution_count": 48,
     "metadata": {},
     "output_type": "execute_result"
    }
   ],
   "source": [
    "relative_err(a.p, 0.02)"
   ]
  },
  {
   "cell_type": "code",
   "execution_count": 33,
   "metadata": {},
   "outputs": [
    {
     "data": {
      "text/plain": [
       "0.1873096811589862"
      ]
     },
     "execution_count": 33,
     "metadata": {},
     "output_type": "execute_result"
    }
   ],
   "source": [
    "relative_err(a.p, 0.02)"
   ]
  },
  {
   "cell_type": "code",
   "execution_count": 47,
   "metadata": {},
   "outputs": [
    {
     "data": {
      "text/plain": [
       "0.17849145107703163"
      ]
     },
     "execution_count": 47,
     "metadata": {},
     "output_type": "execute_result"
    }
   ],
   "source": [
    "relative_err(a.p, 0.05)"
   ]
  },
  {
   "cell_type": "code",
   "execution_count": null,
   "metadata": {},
   "outputs": [],
   "source": []
  },
  {
   "cell_type": "code",
   "execution_count": null,
   "metadata": {},
   "outputs": [],
   "source": [
    "plot_fun(N, p=a.p, zlim=(0,1.7))"
   ]
  },
  {
   "cell_type": "code",
   "execution_count": null,
   "metadata": {},
   "outputs": [],
   "source": []
  },
  {
   "cell_type": "code",
   "execution_count": 49,
   "metadata": {},
   "outputs": [],
   "source": [
    "a.save_result('eq2_2')"
   ]
  },
  {
   "cell_type": "code",
   "execution_count": 31,
   "metadata": {},
   "outputs": [],
   "source": [
    "a.p = np.load('output/20191223-1732_eq2_2_nn_params.npz', allow_pickle=True)['arr_0']"
   ]
  },
  {
   "cell_type": "code",
   "execution_count": 37,
   "metadata": {},
   "outputs": [],
   "source": [
    "a.cost_rate = np.load('output/20191223-1732_eq2_2_cost_rate.npz', allow_pickle=True)['arr_0']"
   ]
  },
  {
   "cell_type": "code",
   "execution_count": 39,
   "metadata": {},
   "outputs": [
    {
     "data": {
      "application/javascript": [
       "/* Put everything inside the global mpl namespace */\n",
       "window.mpl = {};\n",
       "\n",
       "\n",
       "mpl.get_websocket_type = function() {\n",
       "    if (typeof(WebSocket) !== 'undefined') {\n",
       "        return WebSocket;\n",
       "    } else if (typeof(MozWebSocket) !== 'undefined') {\n",
       "        return MozWebSocket;\n",
       "    } else {\n",
       "        alert('Your browser does not have WebSocket support. ' +\n",
       "              'Please try Chrome, Safari or Firefox ≥ 6. ' +\n",
       "              'Firefox 4 and 5 are also supported but you ' +\n",
       "              'have to enable WebSockets in about:config.');\n",
       "    };\n",
       "}\n",
       "\n",
       "mpl.figure = function(figure_id, websocket, ondownload, parent_element) {\n",
       "    this.id = figure_id;\n",
       "\n",
       "    this.ws = websocket;\n",
       "\n",
       "    this.supports_binary = (this.ws.binaryType != undefined);\n",
       "\n",
       "    if (!this.supports_binary) {\n",
       "        var warnings = document.getElementById(\"mpl-warnings\");\n",
       "        if (warnings) {\n",
       "            warnings.style.display = 'block';\n",
       "            warnings.textContent = (\n",
       "                \"This browser does not support binary websocket messages. \" +\n",
       "                    \"Performance may be slow.\");\n",
       "        }\n",
       "    }\n",
       "\n",
       "    this.imageObj = new Image();\n",
       "\n",
       "    this.context = undefined;\n",
       "    this.message = undefined;\n",
       "    this.canvas = undefined;\n",
       "    this.rubberband_canvas = undefined;\n",
       "    this.rubberband_context = undefined;\n",
       "    this.format_dropdown = undefined;\n",
       "\n",
       "    this.image_mode = 'full';\n",
       "\n",
       "    this.root = $('<div/>');\n",
       "    this._root_extra_style(this.root)\n",
       "    this.root.attr('style', 'display: inline-block');\n",
       "\n",
       "    $(parent_element).append(this.root);\n",
       "\n",
       "    this._init_header(this);\n",
       "    this._init_canvas(this);\n",
       "    this._init_toolbar(this);\n",
       "\n",
       "    var fig = this;\n",
       "\n",
       "    this.waiting = false;\n",
       "\n",
       "    this.ws.onopen =  function () {\n",
       "            fig.send_message(\"supports_binary\", {value: fig.supports_binary});\n",
       "            fig.send_message(\"send_image_mode\", {});\n",
       "            if (mpl.ratio != 1) {\n",
       "                fig.send_message(\"set_dpi_ratio\", {'dpi_ratio': mpl.ratio});\n",
       "            }\n",
       "            fig.send_message(\"refresh\", {});\n",
       "        }\n",
       "\n",
       "    this.imageObj.onload = function() {\n",
       "            if (fig.image_mode == 'full') {\n",
       "                // Full images could contain transparency (where diff images\n",
       "                // almost always do), so we need to clear the canvas so that\n",
       "                // there is no ghosting.\n",
       "                fig.context.clearRect(0, 0, fig.canvas.width, fig.canvas.height);\n",
       "            }\n",
       "            fig.context.drawImage(fig.imageObj, 0, 0);\n",
       "        };\n",
       "\n",
       "    this.imageObj.onunload = function() {\n",
       "        fig.ws.close();\n",
       "    }\n",
       "\n",
       "    this.ws.onmessage = this._make_on_message_function(this);\n",
       "\n",
       "    this.ondownload = ondownload;\n",
       "}\n",
       "\n",
       "mpl.figure.prototype._init_header = function() {\n",
       "    var titlebar = $(\n",
       "        '<div class=\"ui-dialog-titlebar ui-widget-header ui-corner-all ' +\n",
       "        'ui-helper-clearfix\"/>');\n",
       "    var titletext = $(\n",
       "        '<div class=\"ui-dialog-title\" style=\"width: 100%; ' +\n",
       "        'text-align: center; padding: 3px;\"/>');\n",
       "    titlebar.append(titletext)\n",
       "    this.root.append(titlebar);\n",
       "    this.header = titletext[0];\n",
       "}\n",
       "\n",
       "\n",
       "\n",
       "mpl.figure.prototype._canvas_extra_style = function(canvas_div) {\n",
       "\n",
       "}\n",
       "\n",
       "\n",
       "mpl.figure.prototype._root_extra_style = function(canvas_div) {\n",
       "\n",
       "}\n",
       "\n",
       "mpl.figure.prototype._init_canvas = function() {\n",
       "    var fig = this;\n",
       "\n",
       "    var canvas_div = $('<div/>');\n",
       "\n",
       "    canvas_div.attr('style', 'position: relative; clear: both; outline: 0');\n",
       "\n",
       "    function canvas_keyboard_event(event) {\n",
       "        return fig.key_event(event, event['data']);\n",
       "    }\n",
       "\n",
       "    canvas_div.keydown('key_press', canvas_keyboard_event);\n",
       "    canvas_div.keyup('key_release', canvas_keyboard_event);\n",
       "    this.canvas_div = canvas_div\n",
       "    this._canvas_extra_style(canvas_div)\n",
       "    this.root.append(canvas_div);\n",
       "\n",
       "    var canvas = $('<canvas/>');\n",
       "    canvas.addClass('mpl-canvas');\n",
       "    canvas.attr('style', \"left: 0; top: 0; z-index: 0; outline: 0\")\n",
       "\n",
       "    this.canvas = canvas[0];\n",
       "    this.context = canvas[0].getContext(\"2d\");\n",
       "\n",
       "    var backingStore = this.context.backingStorePixelRatio ||\n",
       "\tthis.context.webkitBackingStorePixelRatio ||\n",
       "\tthis.context.mozBackingStorePixelRatio ||\n",
       "\tthis.context.msBackingStorePixelRatio ||\n",
       "\tthis.context.oBackingStorePixelRatio ||\n",
       "\tthis.context.backingStorePixelRatio || 1;\n",
       "\n",
       "    mpl.ratio = (window.devicePixelRatio || 1) / backingStore;\n",
       "\n",
       "    var rubberband = $('<canvas/>');\n",
       "    rubberband.attr('style', \"position: absolute; left: 0; top: 0; z-index: 1;\")\n",
       "\n",
       "    var pass_mouse_events = true;\n",
       "\n",
       "    canvas_div.resizable({\n",
       "        start: function(event, ui) {\n",
       "            pass_mouse_events = false;\n",
       "        },\n",
       "        resize: function(event, ui) {\n",
       "            fig.request_resize(ui.size.width, ui.size.height);\n",
       "        },\n",
       "        stop: function(event, ui) {\n",
       "            pass_mouse_events = true;\n",
       "            fig.request_resize(ui.size.width, ui.size.height);\n",
       "        },\n",
       "    });\n",
       "\n",
       "    function mouse_event_fn(event) {\n",
       "        if (pass_mouse_events)\n",
       "            return fig.mouse_event(event, event['data']);\n",
       "    }\n",
       "\n",
       "    rubberband.mousedown('button_press', mouse_event_fn);\n",
       "    rubberband.mouseup('button_release', mouse_event_fn);\n",
       "    // Throttle sequential mouse events to 1 every 20ms.\n",
       "    rubberband.mousemove('motion_notify', mouse_event_fn);\n",
       "\n",
       "    rubberband.mouseenter('figure_enter', mouse_event_fn);\n",
       "    rubberband.mouseleave('figure_leave', mouse_event_fn);\n",
       "\n",
       "    canvas_div.on(\"wheel\", function (event) {\n",
       "        event = event.originalEvent;\n",
       "        event['data'] = 'scroll'\n",
       "        if (event.deltaY < 0) {\n",
       "            event.step = 1;\n",
       "        } else {\n",
       "            event.step = -1;\n",
       "        }\n",
       "        mouse_event_fn(event);\n",
       "    });\n",
       "\n",
       "    canvas_div.append(canvas);\n",
       "    canvas_div.append(rubberband);\n",
       "\n",
       "    this.rubberband = rubberband;\n",
       "    this.rubberband_canvas = rubberband[0];\n",
       "    this.rubberband_context = rubberband[0].getContext(\"2d\");\n",
       "    this.rubberband_context.strokeStyle = \"#000000\";\n",
       "\n",
       "    this._resize_canvas = function(width, height) {\n",
       "        // Keep the size of the canvas, canvas container, and rubber band\n",
       "        // canvas in synch.\n",
       "        canvas_div.css('width', width)\n",
       "        canvas_div.css('height', height)\n",
       "\n",
       "        canvas.attr('width', width * mpl.ratio);\n",
       "        canvas.attr('height', height * mpl.ratio);\n",
       "        canvas.attr('style', 'width: ' + width + 'px; height: ' + height + 'px;');\n",
       "\n",
       "        rubberband.attr('width', width);\n",
       "        rubberband.attr('height', height);\n",
       "    }\n",
       "\n",
       "    // Set the figure to an initial 600x600px, this will subsequently be updated\n",
       "    // upon first draw.\n",
       "    this._resize_canvas(600, 600);\n",
       "\n",
       "    // Disable right mouse context menu.\n",
       "    $(this.rubberband_canvas).bind(\"contextmenu\",function(e){\n",
       "        return false;\n",
       "    });\n",
       "\n",
       "    function set_focus () {\n",
       "        canvas.focus();\n",
       "        canvas_div.focus();\n",
       "    }\n",
       "\n",
       "    window.setTimeout(set_focus, 100);\n",
       "}\n",
       "\n",
       "mpl.figure.prototype._init_toolbar = function() {\n",
       "    var fig = this;\n",
       "\n",
       "    var nav_element = $('<div/>');\n",
       "    nav_element.attr('style', 'width: 100%');\n",
       "    this.root.append(nav_element);\n",
       "\n",
       "    // Define a callback function for later on.\n",
       "    function toolbar_event(event) {\n",
       "        return fig.toolbar_button_onclick(event['data']);\n",
       "    }\n",
       "    function toolbar_mouse_event(event) {\n",
       "        return fig.toolbar_button_onmouseover(event['data']);\n",
       "    }\n",
       "\n",
       "    for(var toolbar_ind in mpl.toolbar_items) {\n",
       "        var name = mpl.toolbar_items[toolbar_ind][0];\n",
       "        var tooltip = mpl.toolbar_items[toolbar_ind][1];\n",
       "        var image = mpl.toolbar_items[toolbar_ind][2];\n",
       "        var method_name = mpl.toolbar_items[toolbar_ind][3];\n",
       "\n",
       "        if (!name) {\n",
       "            // put a spacer in here.\n",
       "            continue;\n",
       "        }\n",
       "        var button = $('<button/>');\n",
       "        button.addClass('ui-button ui-widget ui-state-default ui-corner-all ' +\n",
       "                        'ui-button-icon-only');\n",
       "        button.attr('role', 'button');\n",
       "        button.attr('aria-disabled', 'false');\n",
       "        button.click(method_name, toolbar_event);\n",
       "        button.mouseover(tooltip, toolbar_mouse_event);\n",
       "\n",
       "        var icon_img = $('<span/>');\n",
       "        icon_img.addClass('ui-button-icon-primary ui-icon');\n",
       "        icon_img.addClass(image);\n",
       "        icon_img.addClass('ui-corner-all');\n",
       "\n",
       "        var tooltip_span = $('<span/>');\n",
       "        tooltip_span.addClass('ui-button-text');\n",
       "        tooltip_span.html(tooltip);\n",
       "\n",
       "        button.append(icon_img);\n",
       "        button.append(tooltip_span);\n",
       "\n",
       "        nav_element.append(button);\n",
       "    }\n",
       "\n",
       "    var fmt_picker_span = $('<span/>');\n",
       "\n",
       "    var fmt_picker = $('<select/>');\n",
       "    fmt_picker.addClass('mpl-toolbar-option ui-widget ui-widget-content');\n",
       "    fmt_picker_span.append(fmt_picker);\n",
       "    nav_element.append(fmt_picker_span);\n",
       "    this.format_dropdown = fmt_picker[0];\n",
       "\n",
       "    for (var ind in mpl.extensions) {\n",
       "        var fmt = mpl.extensions[ind];\n",
       "        var option = $(\n",
       "            '<option/>', {selected: fmt === mpl.default_extension}).html(fmt);\n",
       "        fmt_picker.append(option);\n",
       "    }\n",
       "\n",
       "    // Add hover states to the ui-buttons\n",
       "    $( \".ui-button\" ).hover(\n",
       "        function() { $(this).addClass(\"ui-state-hover\");},\n",
       "        function() { $(this).removeClass(\"ui-state-hover\");}\n",
       "    );\n",
       "\n",
       "    var status_bar = $('<span class=\"mpl-message\"/>');\n",
       "    nav_element.append(status_bar);\n",
       "    this.message = status_bar[0];\n",
       "}\n",
       "\n",
       "mpl.figure.prototype.request_resize = function(x_pixels, y_pixels) {\n",
       "    // Request matplotlib to resize the figure. Matplotlib will then trigger a resize in the client,\n",
       "    // which will in turn request a refresh of the image.\n",
       "    this.send_message('resize', {'width': x_pixels, 'height': y_pixels});\n",
       "}\n",
       "\n",
       "mpl.figure.prototype.send_message = function(type, properties) {\n",
       "    properties['type'] = type;\n",
       "    properties['figure_id'] = this.id;\n",
       "    this.ws.send(JSON.stringify(properties));\n",
       "}\n",
       "\n",
       "mpl.figure.prototype.send_draw_message = function() {\n",
       "    if (!this.waiting) {\n",
       "        this.waiting = true;\n",
       "        this.ws.send(JSON.stringify({type: \"draw\", figure_id: this.id}));\n",
       "    }\n",
       "}\n",
       "\n",
       "\n",
       "mpl.figure.prototype.handle_save = function(fig, msg) {\n",
       "    var format_dropdown = fig.format_dropdown;\n",
       "    var format = format_dropdown.options[format_dropdown.selectedIndex].value;\n",
       "    fig.ondownload(fig, format);\n",
       "}\n",
       "\n",
       "\n",
       "mpl.figure.prototype.handle_resize = function(fig, msg) {\n",
       "    var size = msg['size'];\n",
       "    if (size[0] != fig.canvas.width || size[1] != fig.canvas.height) {\n",
       "        fig._resize_canvas(size[0], size[1]);\n",
       "        fig.send_message(\"refresh\", {});\n",
       "    };\n",
       "}\n",
       "\n",
       "mpl.figure.prototype.handle_rubberband = function(fig, msg) {\n",
       "    var x0 = msg['x0'] / mpl.ratio;\n",
       "    var y0 = (fig.canvas.height - msg['y0']) / mpl.ratio;\n",
       "    var x1 = msg['x1'] / mpl.ratio;\n",
       "    var y1 = (fig.canvas.height - msg['y1']) / mpl.ratio;\n",
       "    x0 = Math.floor(x0) + 0.5;\n",
       "    y0 = Math.floor(y0) + 0.5;\n",
       "    x1 = Math.floor(x1) + 0.5;\n",
       "    y1 = Math.floor(y1) + 0.5;\n",
       "    var min_x = Math.min(x0, x1);\n",
       "    var min_y = Math.min(y0, y1);\n",
       "    var width = Math.abs(x1 - x0);\n",
       "    var height = Math.abs(y1 - y0);\n",
       "\n",
       "    fig.rubberband_context.clearRect(\n",
       "        0, 0, fig.canvas.width / mpl.ratio, fig.canvas.height / mpl.ratio);\n",
       "\n",
       "    fig.rubberband_context.strokeRect(min_x, min_y, width, height);\n",
       "}\n",
       "\n",
       "mpl.figure.prototype.handle_figure_label = function(fig, msg) {\n",
       "    // Updates the figure title.\n",
       "    fig.header.textContent = msg['label'];\n",
       "}\n",
       "\n",
       "mpl.figure.prototype.handle_cursor = function(fig, msg) {\n",
       "    var cursor = msg['cursor'];\n",
       "    switch(cursor)\n",
       "    {\n",
       "    case 0:\n",
       "        cursor = 'pointer';\n",
       "        break;\n",
       "    case 1:\n",
       "        cursor = 'default';\n",
       "        break;\n",
       "    case 2:\n",
       "        cursor = 'crosshair';\n",
       "        break;\n",
       "    case 3:\n",
       "        cursor = 'move';\n",
       "        break;\n",
       "    }\n",
       "    fig.rubberband_canvas.style.cursor = cursor;\n",
       "}\n",
       "\n",
       "mpl.figure.prototype.handle_message = function(fig, msg) {\n",
       "    fig.message.textContent = msg['message'];\n",
       "}\n",
       "\n",
       "mpl.figure.prototype.handle_draw = function(fig, msg) {\n",
       "    // Request the server to send over a new figure.\n",
       "    fig.send_draw_message();\n",
       "}\n",
       "\n",
       "mpl.figure.prototype.handle_image_mode = function(fig, msg) {\n",
       "    fig.image_mode = msg['mode'];\n",
       "}\n",
       "\n",
       "mpl.figure.prototype.updated_canvas_event = function() {\n",
       "    // Called whenever the canvas gets updated.\n",
       "    this.send_message(\"ack\", {});\n",
       "}\n",
       "\n",
       "// A function to construct a web socket function for onmessage handling.\n",
       "// Called in the figure constructor.\n",
       "mpl.figure.prototype._make_on_message_function = function(fig) {\n",
       "    return function socket_on_message(evt) {\n",
       "        if (evt.data instanceof Blob) {\n",
       "            /* FIXME: We get \"Resource interpreted as Image but\n",
       "             * transferred with MIME type text/plain:\" errors on\n",
       "             * Chrome.  But how to set the MIME type?  It doesn't seem\n",
       "             * to be part of the websocket stream */\n",
       "            evt.data.type = \"image/png\";\n",
       "\n",
       "            /* Free the memory for the previous frames */\n",
       "            if (fig.imageObj.src) {\n",
       "                (window.URL || window.webkitURL).revokeObjectURL(\n",
       "                    fig.imageObj.src);\n",
       "            }\n",
       "\n",
       "            fig.imageObj.src = (window.URL || window.webkitURL).createObjectURL(\n",
       "                evt.data);\n",
       "            fig.updated_canvas_event();\n",
       "            fig.waiting = false;\n",
       "            return;\n",
       "        }\n",
       "        else if (typeof evt.data === 'string' && evt.data.slice(0, 21) == \"data:image/png;base64\") {\n",
       "            fig.imageObj.src = evt.data;\n",
       "            fig.updated_canvas_event();\n",
       "            fig.waiting = false;\n",
       "            return;\n",
       "        }\n",
       "\n",
       "        var msg = JSON.parse(evt.data);\n",
       "        var msg_type = msg['type'];\n",
       "\n",
       "        // Call the  \"handle_{type}\" callback, which takes\n",
       "        // the figure and JSON message as its only arguments.\n",
       "        try {\n",
       "            var callback = fig[\"handle_\" + msg_type];\n",
       "        } catch (e) {\n",
       "            console.log(\"No handler for the '\" + msg_type + \"' message type: \", msg);\n",
       "            return;\n",
       "        }\n",
       "\n",
       "        if (callback) {\n",
       "            try {\n",
       "                // console.log(\"Handling '\" + msg_type + \"' message: \", msg);\n",
       "                callback(fig, msg);\n",
       "            } catch (e) {\n",
       "                console.log(\"Exception inside the 'handler_\" + msg_type + \"' callback:\", e, e.stack, msg);\n",
       "            }\n",
       "        }\n",
       "    };\n",
       "}\n",
       "\n",
       "// from http://stackoverflow.com/questions/1114465/getting-mouse-location-in-canvas\n",
       "mpl.findpos = function(e) {\n",
       "    //this section is from http://www.quirksmode.org/js/events_properties.html\n",
       "    var targ;\n",
       "    if (!e)\n",
       "        e = window.event;\n",
       "    if (e.target)\n",
       "        targ = e.target;\n",
       "    else if (e.srcElement)\n",
       "        targ = e.srcElement;\n",
       "    if (targ.nodeType == 3) // defeat Safari bug\n",
       "        targ = targ.parentNode;\n",
       "\n",
       "    // jQuery normalizes the pageX and pageY\n",
       "    // pageX,Y are the mouse positions relative to the document\n",
       "    // offset() returns the position of the element relative to the document\n",
       "    var x = e.pageX - $(targ).offset().left;\n",
       "    var y = e.pageY - $(targ).offset().top;\n",
       "\n",
       "    return {\"x\": x, \"y\": y};\n",
       "};\n",
       "\n",
       "/*\n",
       " * return a copy of an object with only non-object keys\n",
       " * we need this to avoid circular references\n",
       " * http://stackoverflow.com/a/24161582/3208463\n",
       " */\n",
       "function simpleKeys (original) {\n",
       "  return Object.keys(original).reduce(function (obj, key) {\n",
       "    if (typeof original[key] !== 'object')\n",
       "        obj[key] = original[key]\n",
       "    return obj;\n",
       "  }, {});\n",
       "}\n",
       "\n",
       "mpl.figure.prototype.mouse_event = function(event, name) {\n",
       "    var canvas_pos = mpl.findpos(event)\n",
       "\n",
       "    if (name === 'button_press')\n",
       "    {\n",
       "        this.canvas.focus();\n",
       "        this.canvas_div.focus();\n",
       "    }\n",
       "\n",
       "    var x = canvas_pos.x * mpl.ratio;\n",
       "    var y = canvas_pos.y * mpl.ratio;\n",
       "\n",
       "    this.send_message(name, {x: x, y: y, button: event.button,\n",
       "                             step: event.step,\n",
       "                             guiEvent: simpleKeys(event)});\n",
       "\n",
       "    /* This prevents the web browser from automatically changing to\n",
       "     * the text insertion cursor when the button is pressed.  We want\n",
       "     * to control all of the cursor setting manually through the\n",
       "     * 'cursor' event from matplotlib */\n",
       "    event.preventDefault();\n",
       "    return false;\n",
       "}\n",
       "\n",
       "mpl.figure.prototype._key_event_extra = function(event, name) {\n",
       "    // Handle any extra behaviour associated with a key event\n",
       "}\n",
       "\n",
       "mpl.figure.prototype.key_event = function(event, name) {\n",
       "\n",
       "    // Prevent repeat events\n",
       "    if (name == 'key_press')\n",
       "    {\n",
       "        if (event.which === this._key)\n",
       "            return;\n",
       "        else\n",
       "            this._key = event.which;\n",
       "    }\n",
       "    if (name == 'key_release')\n",
       "        this._key = null;\n",
       "\n",
       "    var value = '';\n",
       "    if (event.ctrlKey && event.which != 17)\n",
       "        value += \"ctrl+\";\n",
       "    if (event.altKey && event.which != 18)\n",
       "        value += \"alt+\";\n",
       "    if (event.shiftKey && event.which != 16)\n",
       "        value += \"shift+\";\n",
       "\n",
       "    value += 'k';\n",
       "    value += event.which.toString();\n",
       "\n",
       "    this._key_event_extra(event, name);\n",
       "\n",
       "    this.send_message(name, {key: value,\n",
       "                             guiEvent: simpleKeys(event)});\n",
       "    return false;\n",
       "}\n",
       "\n",
       "mpl.figure.prototype.toolbar_button_onclick = function(name) {\n",
       "    if (name == 'download') {\n",
       "        this.handle_save(this, null);\n",
       "    } else {\n",
       "        this.send_message(\"toolbar_button\", {name: name});\n",
       "    }\n",
       "};\n",
       "\n",
       "mpl.figure.prototype.toolbar_button_onmouseover = function(tooltip) {\n",
       "    this.message.textContent = tooltip;\n",
       "};\n",
       "mpl.toolbar_items = [[\"Home\", \"Reset original view\", \"fa fa-home icon-home\", \"home\"], [\"Back\", \"Back to previous view\", \"fa fa-arrow-left icon-arrow-left\", \"back\"], [\"Forward\", \"Forward to next view\", \"fa fa-arrow-right icon-arrow-right\", \"forward\"], [\"\", \"\", \"\", \"\"], [\"Pan\", \"Pan axes with left mouse, zoom with right\", \"fa fa-arrows icon-move\", \"pan\"], [\"Zoom\", \"Zoom to rectangle\", \"fa fa-square-o icon-check-empty\", \"zoom\"], [\"\", \"\", \"\", \"\"], [\"Download\", \"Download plot\", \"fa fa-floppy-o icon-save\", \"download\"]];\n",
       "\n",
       "mpl.extensions = [\"eps\", \"jpeg\", \"pdf\", \"png\", \"ps\", \"raw\", \"svg\", \"tif\"];\n",
       "\n",
       "mpl.default_extension = \"png\";var comm_websocket_adapter = function(comm) {\n",
       "    // Create a \"websocket\"-like object which calls the given IPython comm\n",
       "    // object with the appropriate methods. Currently this is a non binary\n",
       "    // socket, so there is still some room for performance tuning.\n",
       "    var ws = {};\n",
       "\n",
       "    ws.close = function() {\n",
       "        comm.close()\n",
       "    };\n",
       "    ws.send = function(m) {\n",
       "        //console.log('sending', m);\n",
       "        comm.send(m);\n",
       "    };\n",
       "    // Register the callback with on_msg.\n",
       "    comm.on_msg(function(msg) {\n",
       "        //console.log('receiving', msg['content']['data'], msg);\n",
       "        // Pass the mpl event to the overridden (by mpl) onmessage function.\n",
       "        ws.onmessage(msg['content']['data'])\n",
       "    });\n",
       "    return ws;\n",
       "}\n",
       "\n",
       "mpl.mpl_figure_comm = function(comm, msg) {\n",
       "    // This is the function which gets called when the mpl process\n",
       "    // starts-up an IPython Comm through the \"matplotlib\" channel.\n",
       "\n",
       "    var id = msg.content.data.id;\n",
       "    // Get hold of the div created by the display call when the Comm\n",
       "    // socket was opened in Python.\n",
       "    var element = $(\"#\" + id);\n",
       "    var ws_proxy = comm_websocket_adapter(comm)\n",
       "\n",
       "    function ondownload(figure, format) {\n",
       "        window.open(figure.imageObj.src);\n",
       "    }\n",
       "\n",
       "    var fig = new mpl.figure(id, ws_proxy,\n",
       "                           ondownload,\n",
       "                           element.get(0));\n",
       "\n",
       "    // Call onopen now - mpl needs it, as it is assuming we've passed it a real\n",
       "    // web socket which is closed, not our websocket->open comm proxy.\n",
       "    ws_proxy.onopen();\n",
       "\n",
       "    fig.parent_element = element.get(0);\n",
       "    fig.cell_info = mpl.find_output_cell(\"<div id='\" + id + \"'></div>\");\n",
       "    if (!fig.cell_info) {\n",
       "        console.error(\"Failed to find cell for figure\", id, fig);\n",
       "        return;\n",
       "    }\n",
       "\n",
       "    var output_index = fig.cell_info[2]\n",
       "    var cell = fig.cell_info[0];\n",
       "\n",
       "};\n",
       "\n",
       "mpl.figure.prototype.handle_close = function(fig, msg) {\n",
       "    var width = fig.canvas.width/mpl.ratio\n",
       "    fig.root.unbind('remove')\n",
       "\n",
       "    // Update the output cell to use the data from the current canvas.\n",
       "    fig.push_to_output();\n",
       "    var dataURL = fig.canvas.toDataURL();\n",
       "    // Re-enable the keyboard manager in IPython - without this line, in FF,\n",
       "    // the notebook keyboard shortcuts fail.\n",
       "    IPython.keyboard_manager.enable()\n",
       "    $(fig.parent_element).html('<img src=\"' + dataURL + '\" width=\"' + width + '\">');\n",
       "    fig.close_ws(fig, msg);\n",
       "}\n",
       "\n",
       "mpl.figure.prototype.close_ws = function(fig, msg){\n",
       "    fig.send_message('closing', msg);\n",
       "    // fig.ws.close()\n",
       "}\n",
       "\n",
       "mpl.figure.prototype.push_to_output = function(remove_interactive) {\n",
       "    // Turn the data on the canvas into data in the output cell.\n",
       "    var width = this.canvas.width/mpl.ratio\n",
       "    var dataURL = this.canvas.toDataURL();\n",
       "    this.cell_info[1]['text/html'] = '<img src=\"' + dataURL + '\" width=\"' + width + '\">';\n",
       "}\n",
       "\n",
       "mpl.figure.prototype.updated_canvas_event = function() {\n",
       "    // Tell IPython that the notebook contents must change.\n",
       "    IPython.notebook.set_dirty(true);\n",
       "    this.send_message(\"ack\", {});\n",
       "    var fig = this;\n",
       "    // Wait a second, then push the new image to the DOM so\n",
       "    // that it is saved nicely (might be nice to debounce this).\n",
       "    setTimeout(function () { fig.push_to_output() }, 1000);\n",
       "}\n",
       "\n",
       "mpl.figure.prototype._init_toolbar = function() {\n",
       "    var fig = this;\n",
       "\n",
       "    var nav_element = $('<div/>');\n",
       "    nav_element.attr('style', 'width: 100%');\n",
       "    this.root.append(nav_element);\n",
       "\n",
       "    // Define a callback function for later on.\n",
       "    function toolbar_event(event) {\n",
       "        return fig.toolbar_button_onclick(event['data']);\n",
       "    }\n",
       "    function toolbar_mouse_event(event) {\n",
       "        return fig.toolbar_button_onmouseover(event['data']);\n",
       "    }\n",
       "\n",
       "    for(var toolbar_ind in mpl.toolbar_items){\n",
       "        var name = mpl.toolbar_items[toolbar_ind][0];\n",
       "        var tooltip = mpl.toolbar_items[toolbar_ind][1];\n",
       "        var image = mpl.toolbar_items[toolbar_ind][2];\n",
       "        var method_name = mpl.toolbar_items[toolbar_ind][3];\n",
       "\n",
       "        if (!name) { continue; };\n",
       "\n",
       "        var button = $('<button class=\"btn btn-default\" href=\"#\" title=\"' + name + '\"><i class=\"fa ' + image + ' fa-lg\"></i></button>');\n",
       "        button.click(method_name, toolbar_event);\n",
       "        button.mouseover(tooltip, toolbar_mouse_event);\n",
       "        nav_element.append(button);\n",
       "    }\n",
       "\n",
       "    // Add the status bar.\n",
       "    var status_bar = $('<span class=\"mpl-message\" style=\"text-align:right; float: right;\"/>');\n",
       "    nav_element.append(status_bar);\n",
       "    this.message = status_bar[0];\n",
       "\n",
       "    // Add the close button to the window.\n",
       "    var buttongrp = $('<div class=\"btn-group inline pull-right\"></div>');\n",
       "    var button = $('<button class=\"btn btn-mini btn-primary\" href=\"#\" title=\"Stop Interaction\"><i class=\"fa fa-power-off icon-remove icon-large\"></i></button>');\n",
       "    button.click(function (evt) { fig.handle_close(fig, {}); } );\n",
       "    button.mouseover('Stop Interaction', toolbar_mouse_event);\n",
       "    buttongrp.append(button);\n",
       "    var titlebar = this.root.find($('.ui-dialog-titlebar'));\n",
       "    titlebar.prepend(buttongrp);\n",
       "}\n",
       "\n",
       "mpl.figure.prototype._root_extra_style = function(el){\n",
       "    var fig = this\n",
       "    el.on(\"remove\", function(){\n",
       "\tfig.close_ws(fig, {});\n",
       "    });\n",
       "}\n",
       "\n",
       "mpl.figure.prototype._canvas_extra_style = function(el){\n",
       "    // this is important to make the div 'focusable\n",
       "    el.attr('tabindex', 0)\n",
       "    // reach out to IPython and tell the keyboard manager to turn it's self\n",
       "    // off when our div gets focus\n",
       "\n",
       "    // location in version 3\n",
       "    if (IPython.notebook.keyboard_manager) {\n",
       "        IPython.notebook.keyboard_manager.register_events(el);\n",
       "    }\n",
       "    else {\n",
       "        // location in version 2\n",
       "        IPython.keyboard_manager.register_events(el);\n",
       "    }\n",
       "\n",
       "}\n",
       "\n",
       "mpl.figure.prototype._key_event_extra = function(event, name) {\n",
       "    var manager = IPython.notebook.keyboard_manager;\n",
       "    if (!manager)\n",
       "        manager = IPython.keyboard_manager;\n",
       "\n",
       "    // Check for shift+enter\n",
       "    if (event.shiftKey && event.which == 13) {\n",
       "        this.canvas_div.blur();\n",
       "        // select the cell after this one\n",
       "        var index = IPython.notebook.find_cell_index(this.cell_info[0]);\n",
       "        IPython.notebook.select(index + 1);\n",
       "    }\n",
       "}\n",
       "\n",
       "mpl.figure.prototype.handle_save = function(fig, msg) {\n",
       "    fig.ondownload(fig, null);\n",
       "}\n",
       "\n",
       "\n",
       "mpl.find_output_cell = function(html_output) {\n",
       "    // Return the cell and output element which can be found *uniquely* in the notebook.\n",
       "    // Note - this is a bit hacky, but it is done because the \"notebook_saving.Notebook\"\n",
       "    // IPython event is triggered only after the cells have been serialised, which for\n",
       "    // our purposes (turning an active figure into a static one), is too late.\n",
       "    var cells = IPython.notebook.get_cells();\n",
       "    var ncells = cells.length;\n",
       "    for (var i=0; i<ncells; i++) {\n",
       "        var cell = cells[i];\n",
       "        if (cell.cell_type === 'code'){\n",
       "            for (var j=0; j<cell.output_area.outputs.length; j++) {\n",
       "                var data = cell.output_area.outputs[j];\n",
       "                if (data.data) {\n",
       "                    // IPython >= 3 moved mimebundle to data attribute of output\n",
       "                    data = data.data;\n",
       "                }\n",
       "                if (data['text/html'] == html_output) {\n",
       "                    return [cell, data, j];\n",
       "                }\n",
       "            }\n",
       "        }\n",
       "    }\n",
       "}\n",
       "\n",
       "// Register the function which deals with the matplotlib target/channel.\n",
       "// The kernel may be null if the page has been refreshed.\n",
       "if (IPython.notebook.kernel != null) {\n",
       "    IPython.notebook.kernel.comm_manager.register_target('matplotlib', mpl.mpl_figure_comm);\n",
       "}\n"
      ],
      "text/plain": [
       "<IPython.core.display.Javascript object>"
      ]
     },
     "metadata": {},
     "output_type": "display_data"
    },
    {
     "data": {
      "text/html": [
       "<img src=\"data:image/png;base64,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\" width=\"432\">"
      ],
      "text/plain": [
       "<IPython.core.display.HTML object>"
      ]
     },
     "metadata": {},
     "output_type": "display_data"
    }
   ],
   "source": [
    "plot_iteration(a.cost_rate, min_it=100)"
   ]
  },
  {
   "cell_type": "code",
   "execution_count": null,
   "metadata": {},
   "outputs": [],
   "source": []
  },
  {
   "cell_type": "code",
   "execution_count": null,
   "metadata": {},
   "outputs": [],
   "source": []
  },
  {
   "cell_type": "code",
   "execution_count": null,
   "metadata": {},
   "outputs": [],
   "source": []
  },
  {
   "cell_type": "code",
   "execution_count": null,
   "metadata": {},
   "outputs": [],
   "source": []
  }
 ],
 "metadata": {
  "kernelspec": {
   "display_name": "Python 3",
   "language": "python",
   "name": "python3"
  },
  "language_info": {
   "codemirror_mode": {
    "name": "ipython",
    "version": 3
   },
   "file_extension": ".py",
   "mimetype": "text/x-python",
   "name": "python",
   "nbconvert_exporter": "python",
   "pygments_lexer": "ipython3",
   "version": "3.6.3"
  },
  "notify_time": "30",
  "toc": {
   "base_numbering": 1,
   "nav_menu": {},
   "number_sections": true,
   "sideBar": true,
   "skip_h1_title": false,
   "title_cell": "Table of Contents",
   "title_sidebar": "Contents",
   "toc_cell": false,
   "toc_position": {
    "height": "calc(100% - 180px)",
    "left": "10px",
    "top": "150px",
    "width": "216.797px"
   },
   "toc_section_display": true,
   "toc_window_display": false
  },
  "varInspector": {
   "cols": {
    "lenName": 16,
    "lenType": 16,
    "lenVar": 40
   },
   "kernels_config": {
    "python": {
     "delete_cmd_postfix": "",
     "delete_cmd_prefix": "del ",
     "library": "var_list.py",
     "varRefreshCmd": "print(var_dic_list())"
    },
    "r": {
     "delete_cmd_postfix": ") ",
     "delete_cmd_prefix": "rm(",
     "library": "var_list.r",
     "varRefreshCmd": "cat(var_dic_list()) "
    }
   },
   "types_to_exclude": [
    "module",
    "function",
    "builtin_function_or_method",
    "instance",
    "_Feature"
   ],
   "window_display": false
  }
 },
 "nbformat": 4,
 "nbformat_minor": 2
}
