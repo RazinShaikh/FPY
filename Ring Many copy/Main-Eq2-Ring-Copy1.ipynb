{
 "cells": [
  {
   "cell_type": "markdown",
   "metadata": {
    "heading_collapsed": true,
    "slideshow": {
     "slide_type": "-"
    }
   },
   "source": [
    "# Imports"
   ]
  },
  {
   "cell_type": "code",
   "execution_count": 1,
   "metadata": {
    "hidden": true
   },
   "outputs": [
    {
     "name": "stdout",
     "output_type": "stream",
     "text": [
      "Pixiedust database opened successfully\n"
     ]
    },
    {
     "data": {
      "text/html": [
       "\n",
       "        <div style=\"margin:10px\">\n",
       "            <a href=\"https://github.com/ibm-watson-data-lab/pixiedust\" target=\"_new\">\n",
       "                <img src=\"https://github.com/ibm-watson-data-lab/pixiedust/raw/master/docs/_static/pd_icon32.png\" style=\"float:left;margin-right:10px\"/>\n",
       "            </a>\n",
       "            <span>Pixiedust version 1.1.14</span>\n",
       "        </div>\n",
       "        "
      ],
      "text/plain": [
       "<IPython.core.display.HTML object>"
      ]
     },
     "metadata": {},
     "output_type": "display_data"
    },
    {
     "data": {
      "text/html": [
       "<div>Warning: You are not running the latest version of PixieDust. Current is 1.1.14, Latest is 1.1.17</div>"
      ],
      "text/plain": [
       "<IPython.core.display.HTML object>"
      ]
     },
     "metadata": {},
     "output_type": "display_data"
    },
    {
     "data": {
      "text/html": [
       "\n",
       "                <div>Please copy and run the following command in a new cell to upgrade: <span style=\"background-color:#ececec;font-family:monospace;padding:0 5px\">!pip install --user --upgrade pixiedust</span></div>\n",
       "            "
      ],
      "text/plain": [
       "<IPython.core.display.HTML object>"
      ]
     },
     "metadata": {},
     "output_type": "display_data"
    },
    {
     "data": {
      "text/html": [
       "<div>Please restart kernel after upgrading.</div>"
      ],
      "text/plain": [
       "<IPython.core.display.HTML object>"
      ]
     },
     "metadata": {},
     "output_type": "display_data"
    }
   ],
   "source": [
    "import numpy as np\n",
    "import itertools\n",
    "import time\n",
    "from matplotlib import pyplot as plt\n",
    "from mpl_toolkits.mplot3d import Axes3D\n",
    "from matplotlib import cm\n",
    "import pixiedust"
   ]
  },
  {
   "cell_type": "markdown",
   "metadata": {
    "heading_collapsed": true
   },
   "source": [
    "# Defining functions"
   ]
  },
  {
   "cell_type": "markdown",
   "metadata": {
    "heading_collapsed": true,
    "hidden": true
   },
   "source": [
    "## Sigmoid"
   ]
  },
  {
   "cell_type": "markdown",
   "metadata": {
    "hidden": true
   },
   "source": [
    "Sigmoid $\\sigma(x) = \\frac{1}{1+e^{-x}}$ and its derrivatives."
   ]
  },
  {
   "cell_type": "markdown",
   "metadata": {
    "hidden": true
   },
   "source": [
    "Sigmoid with parameter $t$\n",
    "$$ \\sigma_t(x) = \\frac{1}{1+e^{-tx}}$$"
   ]
  },
  {
   "cell_type": "code",
   "execution_count": 2,
   "metadata": {
    "hidden": true
   },
   "outputs": [],
   "source": [
    "T = 1"
   ]
  },
  {
   "cell_type": "code",
   "execution_count": 3,
   "metadata": {
    "hidden": true
   },
   "outputs": [],
   "source": [
    "def sig(x):\n",
    "    return 1 / (1 + np.exp(-T*x))\n",
    "\n",
    "def sig1(x):\n",
    "    return T * sig(x) * (1 - sig(x))\n",
    "\n",
    "def sig2(x):\n",
    "    return T * (sig1(x) - 2*sig(x)*sig1(x))\n",
    "\n",
    "def sig3(x):\n",
    "    return T * (sig2(x) - 2 * (sig1(x)**2 + sig(x) * sig2(x)))\n",
    "\n",
    "def sig_pr(x, k):\n",
    "    if k==0:\n",
    "        return sig(x)\n",
    "    if k==1:\n",
    "        return sig1(x)\n",
    "    if k==2:\n",
    "        return sig2(x)\n",
    "    if k==3:\n",
    "        return sig3(x)"
   ]
  },
  {
   "cell_type": "markdown",
   "metadata": {
    "heading_collapsed": true,
    "hidden": true
   },
   "source": [
    "## RHS"
   ]
  },
  {
   "cell_type": "markdown",
   "metadata": {
    "hidden": true
   },
   "source": [
    "The right side of the equation:  $\\Delta\\Psi(x,y) = 6 x (x-1) (1-2 y) + 2 y (y-1) (1-2 y)$"
   ]
  },
  {
   "cell_type": "code",
   "execution_count": 4,
   "metadata": {
    "hidden": true
   },
   "outputs": [],
   "source": [
    "K=1\n",
    "def f(x, y):\n",
    "    return -(np.cos(np.sqrt(x**2 + y**2)) / np.sqrt(x**2 + y**2)) + np.sin(np.sqrt(x**2 + y**2))"
   ]
  },
  {
   "cell_type": "markdown",
   "metadata": {
    "hidden": true
   },
   "source": [
    "The analytic solution is given by: $\\ \\Psi_a(x,y) = x (1-x) y (1-y) (1-2 y)$"
   ]
  },
  {
   "cell_type": "code",
   "execution_count": 5,
   "metadata": {
    "hidden": true
   },
   "outputs": [],
   "source": [
    "# def psi_a(x, y):\n",
    "#     return y * (1-y) * np.sin(np.pi * x)\n",
    "\n",
    "def psi_a(x, y):\n",
    "    return -np.sin(np.sqrt(x**2 + y**2))"
   ]
  },
  {
   "cell_type": "markdown",
   "metadata": {
    "hidden": true
   },
   "source": [
    "$$\\frac{\\partial}{\\partial x} \\Psi_a = (1-2x) y (1-y) (1-2 y)$$"
   ]
  },
  {
   "cell_type": "code",
   "execution_count": 6,
   "metadata": {
    "hidden": true
   },
   "outputs": [],
   "source": [
    "# def psi_a_dx(x,y):\n",
    "#     return K * (1-2*x)*y*(1-y)*(1-2*y)"
   ]
  },
  {
   "cell_type": "markdown",
   "metadata": {
    "hidden": true
   },
   "source": [
    "$$\\frac{\\partial}{\\partial y} \\Psi_a = x (1-x) (1-6y + 6y^2) $$"
   ]
  },
  {
   "cell_type": "code",
   "execution_count": 7,
   "metadata": {
    "hidden": true
   },
   "outputs": [],
   "source": [
    "# def psi_a_dy(x,y):\n",
    "#     return K * x*(1-x)*(1-6*y+6*(y**2))"
   ]
  },
  {
   "cell_type": "markdown",
   "metadata": {
    "heading_collapsed": true,
    "hidden": true
   },
   "source": [
    "## Neural Network"
   ]
  },
  {
   "cell_type": "markdown",
   "metadata": {
    "hidden": true
   },
   "source": [
    "The output of neural network $N(x,y,\\vec{p})$, where $\\vec{p} = [w, u, v]$:\n",
    "$$N = \\sum_i^H v_i \\sigma(z_i) \\text{, where } z_i = w_{i0} x + w_{i1} y + u_i$$"
   ]
  },
  {
   "cell_type": "code",
   "execution_count": 8,
   "metadata": {
    "code_folding": [],
    "hidden": true
   },
   "outputs": [],
   "source": [
    "def z(x, y, p):\n",
    "    z_x = np.multiply(x, p[0][0])\n",
    "    z_y = np.multiply(y, p[0][1])\n",
    "    z_ = np.array([z_x, z_y, p[1]]).sum(axis=0)\n",
    "    return z_\n",
    "\n",
    "def N(x, y, p):\n",
    "    return np.sum(np.multiply(sig(z(x,y,p)), p[2]))"
   ]
  },
  {
   "cell_type": "markdown",
   "metadata": {
    "hidden": true
   },
   "source": [
    "$$\\frac{\\partial^k N}{\\partial x_j^k} = \\sum_{i=1}^H v_i w_{ij}^k \\sigma^{(k)}$$"
   ]
  },
  {
   "cell_type": "code",
   "execution_count": 9,
   "metadata": {
    "code_folding": [],
    "hidden": true
   },
   "outputs": [],
   "source": [
    "def dN_dxj_k(x, y, p, j, k):\n",
    "    wj = p[0][j]\n",
    "    v = p[2]\n",
    "    z_ = z(x, y, p)\n",
    "    \n",
    "    return np.sum(v * (wj**k) * sig_pr(z_, k))"
   ]
  },
  {
   "cell_type": "markdown",
   "metadata": {
    "hidden": true
   },
   "source": [
    "$$\\frac{\\partial N}{\\partial w_j} = x_j v \\sigma '$$"
   ]
  },
  {
   "cell_type": "code",
   "execution_count": 10,
   "metadata": {
    "code_folding": [],
    "hidden": true
   },
   "outputs": [],
   "source": [
    "def dN_dwj(x, y, p, j):\n",
    "    xj = x if j==0 else y\n",
    "    v = p[2]\n",
    "    z_ = z(x, y, p)\n",
    "    return xj * v * sig1(z_)"
   ]
  },
  {
   "cell_type": "markdown",
   "metadata": {
    "hidden": true
   },
   "source": [
    "$$ \\frac{\\partial}{\\partial w_j} \\frac{\\partial N}{\\partial x_k} = x_j v w_k \\sigma'' + v_i \\sigma' \\quad\\text{ if } j = k$$\n",
    "\n",
    "$$ \\frac{\\partial}{\\partial w_j} \\frac{\\partial N}{\\partial x_k} = x_j v w_k \\sigma'' \\quad\\text{ if } j \\neq k$$"
   ]
  },
  {
   "cell_type": "code",
   "execution_count": 11,
   "metadata": {
    "code_folding": [],
    "hidden": true
   },
   "outputs": [],
   "source": [
    "def d_dwj_dN_dxk(x, y, p, j, k):\n",
    "    xj = x if j==0 else y\n",
    "    wk = p[0][k]\n",
    "    jk = 1 if j==k else 0\n",
    "    v = p[2]\n",
    "    z_ = z(x, y, p)\n",
    "    return xj * v * wk * sig2(z_) + jk * v * sig1(z_)"
   ]
  },
  {
   "cell_type": "markdown",
   "metadata": {
    "hidden": true
   },
   "source": [
    "$$ \\frac{\\partial}{\\partial w_j} \\frac{\\partial^2 N}{\\partial x_k^2} = x_j v w_k^2 \\sigma^{(3)} + 2 v w_k \\sigma'' \\quad\\text{ if } j = k $$\n",
    "\n",
    "$$ \\frac{\\partial}{\\partial w_j} \\frac{\\partial^2 N}{\\partial x_k^2} = x_j v w_k^2 \\sigma^{(3)} \\quad\\text{ if } j \\neq k $$"
   ]
  },
  {
   "cell_type": "code",
   "execution_count": 12,
   "metadata": {
    "code_folding": [],
    "hidden": true
   },
   "outputs": [],
   "source": [
    "def d_dwj_dN2_dxk2(x, y, p, j, k):\n",
    "    xj = x if j==0 else y\n",
    "    wk = p[0][k]\n",
    "    jk = 1 if j==k else 0\n",
    "    v = p[2]\n",
    "    z_ = z(x, y, p)\n",
    "    return xj * v * (wk**2) * sig3(z_) + jk * 2 * v * wk * sig2(z_)"
   ]
  },
  {
   "cell_type": "markdown",
   "metadata": {
    "hidden": true
   },
   "source": [
    "$$ \\frac{\\partial}{\\partial u} \\frac{\\partial^k}{\\partial x_j^k} N = v w_j^k \\sigma^{(k+1)} $$"
   ]
  },
  {
   "cell_type": "code",
   "execution_count": 13,
   "metadata": {
    "code_folding": [],
    "hidden": true
   },
   "outputs": [],
   "source": [
    "def d_du_dkN(x, y, p, j, k):\n",
    "    v = p[2]\n",
    "    wj = p[0][j]\n",
    "    z_ = z(x, y, p)\n",
    "    return v * (wj**k) * sig_pr(z_, k+1)"
   ]
  },
  {
   "cell_type": "markdown",
   "metadata": {
    "hidden": true
   },
   "source": [
    "$$ \\frac{\\partial}{\\partial v} \\frac{\\partial^k}{\\partial x_j^k} N = w_j^k \\sigma^{(k)} $$"
   ]
  },
  {
   "cell_type": "code",
   "execution_count": 14,
   "metadata": {
    "code_folding": [],
    "hidden": true
   },
   "outputs": [],
   "source": [
    "def d_dv_dkN(x, y, p, j, k):\n",
    "    wj = p[0][j]\n",
    "    z_ = z(x, y, p)\n",
    "    return (wj**k) * sig_pr(z_, k)"
   ]
  },
  {
   "cell_type": "markdown",
   "metadata": {
    "heading_collapsed": true,
    "hidden": true
   },
   "source": [
    "## Cost function"
   ]
  },
  {
   "cell_type": "markdown",
   "metadata": {
    "hidden": true
   },
   "source": [
    "$$E[\\vec{p}] = \\sum_{i \\in \\hat{D}} \\left\\{ \\frac{\\partial^2 N}{\\partial x^2} + \\frac{\\partial^2 N}{\\partial y^2} - f(x,y) \\right\\}^2 \n",
    "           +  \\sum_{i \\in \\partial \\hat{D}} N^2$$"
   ]
  },
  {
   "cell_type": "code",
   "execution_count": 15,
   "metadata": {
    "hidden": true
   },
   "outputs": [],
   "source": [
    "BC=1"
   ]
  },
  {
   "cell_type": "code",
   "execution_count": 16,
   "metadata": {
    "code_folding": [],
    "hidden": true
   },
   "outputs": [],
   "source": [
    "def error_term1(x, y, p):\n",
    "    return dN_dxj_k(x,y,p,0,2)  +  dN_dxj_k(x,y,p,1,2)  -  f(x,y)"
   ]
  },
  {
   "cell_type": "code",
   "execution_count": 17,
   "metadata": {
    "code_folding": [],
    "hidden": true
   },
   "outputs": [],
   "source": [
    "def cost(points, boundary_points, p):\n",
    "    et1 = []\n",
    "    et2 = []\n",
    "    for x, y in points:\n",
    "        err_sq = error_term1(x, y, p)**2\n",
    "        et1.append(err_sq)\n",
    "    \n",
    "    for x, y in boundary_points:\n",
    "        err_sq = N(x,y,p)**2\n",
    "        et2.append(err_sq)\n",
    "        \n",
    "    cost = sum(et1) + BC*sum(et2)\n",
    "    \n",
    "    return cost"
   ]
  },
  {
   "cell_type": "code",
   "execution_count": 18,
   "metadata": {
    "hidden": true
   },
   "outputs": [],
   "source": [
    "# def relative_err(all_points, p, dOmega):\n",
    "#     trial1 = np.sum(dOmega*np.array([np.linalg.norm(N(x,y,p) - psi_a(x,y))**2\n",
    "#                                      for x, y in all_points]))\n",
    "\n",
    "#     trial2 = np.sum([dOmega*((dN_dxj_k(x,y,p,0,1)-psi_a_dx(x,y))**2 +\n",
    "#                              (dN_dxj_k(x,y,p,1,1)-psi_a_dy(x,y))**2)\n",
    "#                      for x, y in all_points])\n",
    "\n",
    "#     ana1 = np.sum(dOmega*np.array([np.linalg.norm(psi_a(x,y))**2\n",
    "#                                          for x, y in all_points]))\n",
    "#     ana2 = np.sum([dOmega*(psi_a_dx(x,y)**2 + psi_a_dy(x,y)**2)\n",
    "#                    for x, y in all_points])\n",
    "    \n",
    "#     relative_err = (trial1 + trial2)**(1/2) / (ana1 + ana2)**(1/2)\n",
    "\n",
    "#     return relative_err\n",
    "\n",
    "# def relative_err(all_points, p, dOmega):\n",
    "#     #this abs error\n",
    "#     dx=0.3\n",
    "#     bx=0.1\n",
    "#     points, b_points = get_points(dx,bx)\n",
    "#     all_points = points + b_points\n",
    "#     abs_err = np.sum(np.array([np.linalg.norm(N(x,y,p) - psi_a(x,y))\n",
    "#                                      for x, y in all_points])) / len(all_points)\n",
    "#     return abs_err\n",
    "\n",
    "def relative_err(p, dx=0.3):\n",
    "    r = np.arange(np.pi, 2*np.pi+dx, dx)\n",
    "    th = np.arange(-np.pi, np.pi+dx, dx)\n",
    "    R, TH = np.meshgrid(r,th)\n",
    "\n",
    "    x = np.ravel(R*np.cos(TH))\n",
    "    y = np.ravel(R*np.sin(TH))\n",
    "    \n",
    "    all_points = list(zip(x,y))\n",
    "\n",
    "#     dOmega = area / len(all_points)\n",
    "    dOmega = 3 * np.pi**3 / len(all_points)\n",
    "\n",
    "    trial1 = np.sum(dOmega*np.array([np.linalg.norm(N(x,y,p) - psi_a(x,y))**2\n",
    "                                     for x, y in all_points]))\n",
    "\n",
    "    ana1 = np.sum(dOmega*np.array([np.linalg.norm(psi_a(x,y))**2\n",
    "                                         for x, y in all_points]))\n",
    "\n",
    "    rel_err = (trial1)**(1/2) / (ana1)**(1/2)\n",
    "    \n",
    "    return rel_err"
   ]
  },
  {
   "cell_type": "markdown",
   "metadata": {
    "heading_collapsed": true
   },
   "source": [
    "# Gradients"
   ]
  },
  {
   "cell_type": "markdown",
   "metadata": {
    "hidden": true
   },
   "source": [
    "$$ \\frac{\\partial E[\\vec{p}]}{\\partial w_j} = \\sum_{i \\in \\hat{D}} \\left\\{ 2 \\text{ (error_term1) } \\left( \\frac{\\partial}{\\partial w_j} \\frac{\\partial^2 N}{\\partial x^2} + \\frac{\\partial}{\\partial w_j} \\frac{\\partial^2 N}{\\partial y^2} \\right) \\right\\}  +  \\sum_{i \\in \\partial \\hat{D}} 2 N \\frac{\\partial N}{\\partial w_j}$$"
   ]
  },
  {
   "cell_type": "code",
   "execution_count": 19,
   "metadata": {
    "code_folding": [],
    "hidden": true
   },
   "outputs": [],
   "source": [
    "def dE_dwj(points, boundary_points, p, j):\n",
    "    t1 = []\n",
    "    t2 = []\n",
    "    for x, y in points:\n",
    "        tmp = 2 * error_term1(x,y,p) * (d_dwj_dN2_dxk2(x,y,p,j,0) + d_dwj_dN2_dxk2(x,y,p,j,1))\n",
    "        t1.append(tmp)\n",
    "        \n",
    "    for x, y in boundary_points:\n",
    "        tmp = 2 * N(x,y,p) * dN_dwj(x,y,p,j)\n",
    "        t2.append(tmp)\n",
    "    \n",
    "    grad = sum(t1) + BC*sum(t2)\n",
    "    \n",
    "    return grad"
   ]
  },
  {
   "cell_type": "markdown",
   "metadata": {
    "hidden": true
   },
   "source": [
    "$$ \\frac{\\partial E[\\vec{p}]}{\\partial u} = \\sum_{i \\in \\hat{D}} \\left\\{ 2 \\text{ (error_term1) } \\left( \\frac{\\partial}{\\partial u} \\frac{\\partial^2 N}{\\partial x^2} + \\frac{\\partial}{\\partial u} \\frac{\\partial^2 N}{\\partial y^2} \\right) \\right\\} +  \\sum_{i \\in \\partial \\hat{D}} 2 N \\frac{\\partial N}{\\partial u}$$"
   ]
  },
  {
   "cell_type": "code",
   "execution_count": 20,
   "metadata": {
    "code_folding": [],
    "hidden": true
   },
   "outputs": [],
   "source": [
    "def dE_du(points, boundary_points, p):\n",
    "    t1 = []\n",
    "    t2 = []\n",
    "    for x, y in points:\n",
    "        tmp = 2 * error_term1(x,y,p) * (d_du_dkN(x,y,p,0,2) + d_du_dkN(x,y,p,1,2))\n",
    "        t1.append(tmp)\n",
    "        \n",
    "    for x, y in boundary_points:\n",
    "        tmp = 2 * N(x,y,p) * d_du_dkN(x,y,p,0,0)\n",
    "        t2.append(tmp)\n",
    "    \n",
    "    grad = sum(t1) + BC*sum(t2)\n",
    "    \n",
    "    return grad"
   ]
  },
  {
   "cell_type": "markdown",
   "metadata": {
    "hidden": true
   },
   "source": [
    "$$ \\frac{\\partial E[\\vec{p}]}{\\partial v} = \\sum_{i \\in \\hat{D}} \\left\\{ 2 \\text{ (error_term1) } \\left( \\frac{\\partial}{\\partial v} \\frac{\\partial^2 N}{\\partial x^2} + \\frac{\\partial}{\\partial v} \\frac{\\partial^2 N}{\\partial y^2} \\right) \\right\\}  +  \\sum_{i \\in \\partial \\hat{D}} 2 N \\frac{\\partial N}{\\partial v}$$"
   ]
  },
  {
   "cell_type": "code",
   "execution_count": 21,
   "metadata": {
    "code_folding": [],
    "hidden": true
   },
   "outputs": [],
   "source": [
    "def dE_dv(points, boundary_points, p):\n",
    "    t1 = []\n",
    "    t2 = []\n",
    "    for x, y in points:\n",
    "        tmp = 2 * error_term1(x,y,p) * (d_dv_dkN(x,y,p,0,2) + d_dv_dkN(x,y,p,1,2))\n",
    "        t1.append(tmp)\n",
    "        \n",
    "    for x, y in boundary_points:\n",
    "        tmp = 2 * N(x,y,p) * d_dv_dkN(x,y,p,0,0)\n",
    "        t2.append(tmp)\n",
    "    \n",
    "    grad = sum(t1) + BC*sum(t2)\n",
    "    \n",
    "    return grad"
   ]
  },
  {
   "cell_type": "markdown",
   "metadata": {
    "heading_collapsed": true
   },
   "source": [
    "# NN class"
   ]
  },
  {
   "cell_type": "code",
   "execution_count": 22,
   "metadata": {
    "hidden": true
   },
   "outputs": [],
   "source": [
    "def get_points(dx,bx):\n",
    "    r = np.arange(np.pi, 2*np.pi+dx, dx)\n",
    "    th = np.arange(-np.pi, np.pi+dx, dx)\n",
    "    R, TH = np.meshgrid(r,th)\n",
    "\n",
    "    r_bound = np.array([np.pi, 2*np.pi])\n",
    "    th_bound = np.arange(-np.pi, np.pi+bx, bx)\n",
    "    R_bound, TH_bound = np.meshgrid(r_bound,th_bound)\n",
    "\n",
    "    x = np.ravel(R*np.cos(TH))\n",
    "    y = np.ravel(R*np.sin(TH))\n",
    "\n",
    "    x_bound = np.ravel(R_bound*np.cos(TH_bound))\n",
    "    y_bound = np.ravel(R_bound*np.sin(TH_bound))\n",
    "\n",
    "    boundary_points = list(zip(x_bound, y_bound))\n",
    "    points = [(a,b) for a, b in zip(x,y) if (a,b) not in boundary_points]\n",
    "\n",
    "    return points, boundary_points"
   ]
  },
  {
   "cell_type": "code",
   "execution_count": 23,
   "metadata": {
    "code_folding": [
     32,
     47,
     105
    ],
    "hidden": true
   },
   "outputs": [],
   "source": [
    "class NNTrain:\n",
    "    def __init__(self, dx=0.1, bx=0.08, hidden_nodes=10, alpha=0.01, \n",
    "                 beta_1=0.9, beta_2=0.999, epsilon=1e-8, update_interval=50,\n",
    "                 if_rel_err=False, output_file='output/output.csv'):\n",
    "        \n",
    "        self.output_file = output_file\n",
    "        self.training_started = False\n",
    "        self.hidden_nodes = hidden_nodes\n",
    "        self.alpha = alpha\n",
    "        self.beta_1 = beta_1\n",
    "        self.beta_2 = beta_2\n",
    "        self.epsilon = epsilon\n",
    "        self.update_interval = update_interval\n",
    "        self.points, self.boundary_points = get_points(dx,bx)\n",
    "        self.cost_rate = []\n",
    "        self.if_rel_err = if_rel_err\n",
    "        if self.if_rel_err:\n",
    "            self.rel_err = []\n",
    "        self.p = np.array([np.random.randn(2,hidden_nodes),\n",
    "                           np.random.randn(hidden_nodes),\n",
    "                           np.random.randn(hidden_nodes)])\n",
    "        self.m_t = np.array([np.zeros(hidden_nodes),\n",
    "                             np.zeros(hidden_nodes),\n",
    "                             np.zeros(hidden_nodes),\n",
    "                             np.zeros(hidden_nodes)])\n",
    "        self.v_t = np.array([np.zeros(hidden_nodes),\n",
    "                             np.zeros(hidden_nodes),\n",
    "                             np.zeros(hidden_nodes),\n",
    "                             np.zeros(hidden_nodes)])\n",
    "        self.if_continue = np.array([True, True, True, True])\n",
    "        \n",
    "        \n",
    "    def adam(self, t, w, g_t, theta_0):\n",
    "        self.m_t[w] = self.beta_1 * self.m_t[w] + (1-self.beta_1) * g_t\n",
    "        self.v_t[w] = self.beta_2 * self.v_t[w] + (1-self.beta_2) * (g_t * g_t)\n",
    "        \n",
    "        m_cap = self.m_t[w]/(1-(self.beta_1**t))\n",
    "        v_cap = self.v_t[w]/(1-(self.beta_2**t))\n",
    "        theta_0_prev = np.copy(theta_0)\n",
    "        theta_0 = theta_0 - (self.alpha*m_cap)/(np.sqrt(v_cap)+self.epsilon)\n",
    "        \n",
    "        if(np.all(theta_0 == theta_0_prev)):\n",
    "            self.if_continue[w] = False\n",
    "            \n",
    "        return theta_0\n",
    "        \n",
    "\n",
    "    def train(self, itr=1000):\n",
    "        if self.training_started:\n",
    "            mode='a'\n",
    "        else:\n",
    "            mode='w'\n",
    "        self.training_started=True\n",
    "        \n",
    "        with open(self.output_file, mode) as file:\n",
    "            if mode=='w':\n",
    "                if self.if_rel_err:\n",
    "                    file.write('Iteration,Cost,Cost Diff,Relative Error,Relative Error Diff\\n')\n",
    "                else:\n",
    "                    file.write('Iteration,Cost,Cost Diff\\n')\n",
    "            start=len(self.cost_rate)-1\n",
    "            if start<1:\n",
    "                start+=1\n",
    "                self.cost_rate.append(cost(self.points,self.boundary_points,self.p))\n",
    "                if self.if_rel_err:\n",
    "                    self.rel_err.append(relative_err(self.p, 0.4))\n",
    "\n",
    "            i = start\n",
    "            while i < start+itr:\n",
    "                if(not np.any(self.if_continue)):\n",
    "                    break\n",
    "                                    \n",
    "                #adam optimizer\n",
    "                g_w0 = dE_dwj(self.points, self.boundary_points, self.p, 0)\n",
    "                g_w1 = dE_dwj(self.points, self.boundary_points, self.p, 1)\n",
    "                g_u = dE_du(self.points, self.boundary_points, self.p)\n",
    "                g_v = dE_dv(self.points, self.boundary_points, self.p)\n",
    "                \n",
    "                if self.if_continue[0] :self.p[0][0] = self.adam(i+1, 0, g_w0, self.p[0][0])\n",
    "                if self.if_continue[1] :self.p[0][1] = self.adam(i+1, 1, g_w1, self.p[0][1])\n",
    "                if self.if_continue[2] :self.p[1] = self.adam(i+1, 2, g_u, self.p[1])\n",
    "                if self.if_continue[3] :self.p[2] = self.adam(i+1, 3, g_v, self.p[2])\n",
    "                \n",
    "                \n",
    "                self.cost_rate.append(cost(self.points,self.boundary_points,self.p))\n",
    "                cost_diff = self.cost_rate[i]-self.cost_rate[i+1]\n",
    "                if self.if_rel_err:\n",
    "                    self.rel_err.append(relative_err(self.p, 0.4))\n",
    "                    rel_diff = self.rel_err[i]-self.rel_err[i+1]\n",
    "\n",
    "                if self.if_rel_err:\n",
    "                    file.write('{},{:.8f},{:.8f},{:.8f},{:.8f}\\n'.format(\n",
    "                        i+1,self.cost_rate[i+1], cost_diff,\n",
    "                        self.rel_err[i+1], rel_diff))\n",
    "                else:\n",
    "                    file.write('{},{:.8f},{:.8f}\\n'.format(\n",
    "                        i+1,self.cost_rate[i+1],\n",
    "                        cost_diff))\n",
    "\n",
    "                if i%self.update_interval==0:\n",
    "                    file.flush()\n",
    "                    \n",
    "                i+=1\n",
    "                \n",
    "                \n",
    "    def save_result(self, output_name=''):\n",
    "        timestr = time.strftime(\"%Y%m%d-%H%M\")\n",
    "        np.savez('output/'+ timestr + '_' + output_name +'_nn_params.npz', self.p)\n",
    "        np.savez('output/'+ timestr + '_' + output_name +'_cost_rate.npz', self.cost_rate)\n",
    "        if self.if_rel_err:\n",
    "            np.savez('output/'+ timestr + '_' + output_name +'_rel_err.npz', self.rel_err)"
   ]
  },
  {
   "cell_type": "code",
   "execution_count": null,
   "metadata": {
    "hidden": true
   },
   "outputs": [],
   "source": []
  },
  {
   "cell_type": "markdown",
   "metadata": {
    "heading_collapsed": true
   },
   "source": [
    "# Graphs"
   ]
  },
  {
   "cell_type": "code",
   "execution_count": 24,
   "metadata": {
    "hidden": true
   },
   "outputs": [],
   "source": [
    "%matplotlib notebook\n",
    "%matplotlib notebook"
   ]
  },
  {
   "cell_type": "markdown",
   "metadata": {
    "heading_collapsed": true,
    "hidden": true
   },
   "source": [
    "## Hidden Nodes"
   ]
  },
  {
   "cell_type": "code",
   "execution_count": 25,
   "metadata": {
    "hidden": true
   },
   "outputs": [],
   "source": [
    "def plot_nodes(a, save_name=None, save=True, zlim=True):\n",
    "    p = a.p\n",
    "    hmax = a.p[0][0].shape[0]\n",
    "    col = int(np.sqrt(hmax)) if int(np.sqrt(hmax)) < 10 else 10\n",
    "    row = np.ceil(hmax / col)\n",
    "    \n",
    "    d_x=0.1\n",
    "\n",
    "    fig = plt.figure(figsize=(col*3, row*3), dpi=100)\n",
    "    for h in range(1,hmax+1):\n",
    "        ax = fig.add_subplot(row,col,h, projection='3d')\n",
    "        x = y = np.arange(0, 1+d_x, d_x)\n",
    "        X, Y = np.meshgrid(x, y)\n",
    "\n",
    "        zs = np.array([p[1][h-1]*sig(z(x,y,p))[h-1] for x,y in zip(np.ravel(X), np.ravel(Y))])\n",
    "        Z = zs.reshape(X.shape)\n",
    "\n",
    "        ax.set_xlabel('x')\n",
    "        ax.set_ylabel('y')\n",
    "        if zlim:\n",
    "            ax.set_zlim(0,1)\n",
    "\n",
    "        ax.plot_surface(X, Y, Z, cmap=cm.coolwarm)\n",
    "        ax.title.set_text('HN: ' + str(h) + ', v=' + \"{:.4E}\".format(p[1][h-1]))\n",
    "        time.sleep(0.2)\n",
    "\n",
    "    if save==True:\n",
    "        if save_name is None: \n",
    "            plt.savefig('t'+str(T)+'_h'+str(hmax)+'_n'+str(a.nx)+'.png')\n",
    "        else:\n",
    "            plt.savefig(save_name)\n",
    "    else:\n",
    "        plt.show()"
   ]
  },
  {
   "cell_type": "markdown",
   "metadata": {
    "heading_collapsed": true,
    "hidden": true
   },
   "source": [
    "## Error vs Iterations"
   ]
  },
  {
   "cell_type": "code",
   "execution_count": 26,
   "metadata": {
    "hidden": true
   },
   "outputs": [],
   "source": [
    "def plot_iteration(arr, min_it=0, max_it=None):\n",
    "    plt.figure()\n",
    "    plt.plot(np.arange(len(arr[min_it:max_it])), np.array(arr[min_it:max_it]))\n",
    "    plt.show()"
   ]
  },
  {
   "cell_type": "markdown",
   "metadata": {
    "heading_collapsed": true,
    "hidden": true
   },
   "source": [
    "## Solution Accuracy on the domain"
   ]
  },
  {
   "cell_type": "code",
   "execution_count": 27,
   "metadata": {
    "hidden": true
   },
   "outputs": [],
   "source": [
    "def accuracy(p):\n",
    "    d_x=0.01\n",
    "    fig = plt.figure()\n",
    "    ax = fig.add_subplot(111, projection='3d')\n",
    "    x = y = np.arange(0, 1.0+d_x, d_x)\n",
    "    X, Y = np.meshgrid(x, y)\n",
    "\n",
    "    zs = np.array([psi_a(x,y)-psi_t(x,y,p) for x,y in zip(np.ravel(X), np.ravel(Y))])\n",
    "    Z = zs.reshape(X.shape)\n",
    "\n",
    "    ax.plot_surface(X, Y, Z, cmap=cm.coolwarm_r)\n",
    "    # ax.ticklabel_format(style='sci', axis='z', scilimits=(0,0), useOffset=True, useMathText=True)\n",
    "\n",
    "\n",
    "    ax.set_xlabel('x')\n",
    "    ax.set_ylabel('y')\n",
    "#     ax.set_zlabel('Accuracy')\n",
    "\n",
    "\n",
    "    plt.show()"
   ]
  },
  {
   "cell_type": "code",
   "execution_count": 28,
   "metadata": {
    "hidden": true
   },
   "outputs": [],
   "source": [
    "def plot_fun(fun, title=None, return_ax=False, xlim=None, ylim=None, zlim=None, **kwargs):\n",
    "    dx=0.1\n",
    "\n",
    "    fig = plt.figure()\n",
    "    ax = fig.add_subplot(111, projection='3d')\n",
    "    \n",
    "    r = np.arange(np.pi, 2*np.pi+dx, dx)\n",
    "    th = np.arange(-np.pi, np.pi+dx, dx)\n",
    "    R, TH = np.meshgrid(r,th)\n",
    "    X = R*np.cos(TH)\n",
    "    Y = R*np.sin(TH)\n",
    "\n",
    "    zs = np.array([fun(x,y,**kwargs) for x,y in zip(np.ravel(X), np.ravel(Y))])\n",
    "    Z = zs.reshape(X.shape)\n",
    "\n",
    "    ax.plot_surface(X, Y, Z, cmap=cm.coolwarm_r)\n",
    "\n",
    "    ax.set_xlabel('x')\n",
    "    ax.set_ylabel('y')\n",
    "    ax.title.set_text(title)\n",
    "    \n",
    "    if xlim:\n",
    "        ax.set_xlim(xlim[0], xlim[1])\n",
    "    if ylim:\n",
    "        ax.set_ylim(ylim[0], ylim[1])\n",
    "    if zlim:\n",
    "        ax.set_zlim(zlim[0], zlim[1])\n",
    "\n",
    "    if return_ax:\n",
    "        return ax\n",
    "    else:\n",
    "        plt.show()"
   ]
  },
  {
   "cell_type": "code",
   "execution_count": null,
   "metadata": {
    "hidden": true
   },
   "outputs": [],
   "source": []
  },
  {
   "cell_type": "markdown",
   "metadata": {},
   "source": [
    "# Training"
   ]
  },
  {
   "cell_type": "markdown",
   "metadata": {},
   "source": [
    "Meta training"
   ]
  },
  {
   "cell_type": "code",
   "execution_count": 29,
   "metadata": {},
   "outputs": [],
   "source": [
    "a = NNTrain(dx=0.1,bx=0.01, hidden_nodes=4, alpha=0.01, update_interval=10, if_rel_err=False, output_file='out/out1.csv')"
   ]
  },
  {
   "cell_type": "code",
   "execution_count": 57,
   "metadata": {},
   "outputs": [],
   "source": [
    "BC=1\n",
    "a.alpha=0.01\n",
    "a.train(100)"
   ]
  },
  {
   "cell_type": "code",
   "execution_count": null,
   "metadata": {
    "scrolled": true
   },
   "outputs": [],
   "source": [
    "thresh=1e-4\n",
    "for i in range(10000):\n",
    "    if a.alpha < 1e-6:\n",
    "        break\n",
    "    if np.mean([np.absolute(s-t) for s, t in zip(a.cost_rate[-21:], a.cost_rate[-20:])]) < thresh:\n",
    "        BC=BC*10\n",
    "        a.alpha=a.alpha/10\n",
    "    a.train(100)"
   ]
  },
  {
   "cell_type": "markdown",
   "metadata": {},
   "source": [
    "Etc"
   ]
  },
  {
   "cell_type": "code",
   "execution_count": 53,
   "metadata": {
    "scrolled": false
   },
   "outputs": [
    {
     "data": {
      "application/javascript": [
       "/* Put everything inside the global mpl namespace */\n",
       "window.mpl = {};\n",
       "\n",
       "\n",
       "mpl.get_websocket_type = function() {\n",
       "    if (typeof(WebSocket) !== 'undefined') {\n",
       "        return WebSocket;\n",
       "    } else if (typeof(MozWebSocket) !== 'undefined') {\n",
       "        return MozWebSocket;\n",
       "    } else {\n",
       "        alert('Your browser does not have WebSocket support.' +\n",
       "              'Please try Chrome, Safari or Firefox ≥ 6. ' +\n",
       "              'Firefox 4 and 5 are also supported but you ' +\n",
       "              'have to enable WebSockets in about:config.');\n",
       "    };\n",
       "}\n",
       "\n",
       "mpl.figure = function(figure_id, websocket, ondownload, parent_element) {\n",
       "    this.id = figure_id;\n",
       "\n",
       "    this.ws = websocket;\n",
       "\n",
       "    this.supports_binary = (this.ws.binaryType != undefined);\n",
       "\n",
       "    if (!this.supports_binary) {\n",
       "        var warnings = document.getElementById(\"mpl-warnings\");\n",
       "        if (warnings) {\n",
       "            warnings.style.display = 'block';\n",
       "            warnings.textContent = (\n",
       "                \"This browser does not support binary websocket messages. \" +\n",
       "                    \"Performance may be slow.\");\n",
       "        }\n",
       "    }\n",
       "\n",
       "    this.imageObj = new Image();\n",
       "\n",
       "    this.context = undefined;\n",
       "    this.message = undefined;\n",
       "    this.canvas = undefined;\n",
       "    this.rubberband_canvas = undefined;\n",
       "    this.rubberband_context = undefined;\n",
       "    this.format_dropdown = undefined;\n",
       "\n",
       "    this.image_mode = 'full';\n",
       "\n",
       "    this.root = $('<div/>');\n",
       "    this._root_extra_style(this.root)\n",
       "    this.root.attr('style', 'display: inline-block');\n",
       "\n",
       "    $(parent_element).append(this.root);\n",
       "\n",
       "    this._init_header(this);\n",
       "    this._init_canvas(this);\n",
       "    this._init_toolbar(this);\n",
       "\n",
       "    var fig = this;\n",
       "\n",
       "    this.waiting = false;\n",
       "\n",
       "    this.ws.onopen =  function () {\n",
       "            fig.send_message(\"supports_binary\", {value: fig.supports_binary});\n",
       "            fig.send_message(\"send_image_mode\", {});\n",
       "            if (mpl.ratio != 1) {\n",
       "                fig.send_message(\"set_dpi_ratio\", {'dpi_ratio': mpl.ratio});\n",
       "            }\n",
       "            fig.send_message(\"refresh\", {});\n",
       "        }\n",
       "\n",
       "    this.imageObj.onload = function() {\n",
       "            if (fig.image_mode == 'full') {\n",
       "                // Full images could contain transparency (where diff images\n",
       "                // almost always do), so we need to clear the canvas so that\n",
       "                // there is no ghosting.\n",
       "                fig.context.clearRect(0, 0, fig.canvas.width, fig.canvas.height);\n",
       "            }\n",
       "            fig.context.drawImage(fig.imageObj, 0, 0);\n",
       "        };\n",
       "\n",
       "    this.imageObj.onunload = function() {\n",
       "        fig.ws.close();\n",
       "    }\n",
       "\n",
       "    this.ws.onmessage = this._make_on_message_function(this);\n",
       "\n",
       "    this.ondownload = ondownload;\n",
       "}\n",
       "\n",
       "mpl.figure.prototype._init_header = function() {\n",
       "    var titlebar = $(\n",
       "        '<div class=\"ui-dialog-titlebar ui-widget-header ui-corner-all ' +\n",
       "        'ui-helper-clearfix\"/>');\n",
       "    var titletext = $(\n",
       "        '<div class=\"ui-dialog-title\" style=\"width: 100%; ' +\n",
       "        'text-align: center; padding: 3px;\"/>');\n",
       "    titlebar.append(titletext)\n",
       "    this.root.append(titlebar);\n",
       "    this.header = titletext[0];\n",
       "}\n",
       "\n",
       "\n",
       "\n",
       "mpl.figure.prototype._canvas_extra_style = function(canvas_div) {\n",
       "\n",
       "}\n",
       "\n",
       "\n",
       "mpl.figure.prototype._root_extra_style = function(canvas_div) {\n",
       "\n",
       "}\n",
       "\n",
       "mpl.figure.prototype._init_canvas = function() {\n",
       "    var fig = this;\n",
       "\n",
       "    var canvas_div = $('<div/>');\n",
       "\n",
       "    canvas_div.attr('style', 'position: relative; clear: both; outline: 0');\n",
       "\n",
       "    function canvas_keyboard_event(event) {\n",
       "        return fig.key_event(event, event['data']);\n",
       "    }\n",
       "\n",
       "    canvas_div.keydown('key_press', canvas_keyboard_event);\n",
       "    canvas_div.keyup('key_release', canvas_keyboard_event);\n",
       "    this.canvas_div = canvas_div\n",
       "    this._canvas_extra_style(canvas_div)\n",
       "    this.root.append(canvas_div);\n",
       "\n",
       "    var canvas = $('<canvas/>');\n",
       "    canvas.addClass('mpl-canvas');\n",
       "    canvas.attr('style', \"left: 0; top: 0; z-index: 0; outline: 0\")\n",
       "\n",
       "    this.canvas = canvas[0];\n",
       "    this.context = canvas[0].getContext(\"2d\");\n",
       "\n",
       "    var backingStore = this.context.backingStorePixelRatio ||\n",
       "\tthis.context.webkitBackingStorePixelRatio ||\n",
       "\tthis.context.mozBackingStorePixelRatio ||\n",
       "\tthis.context.msBackingStorePixelRatio ||\n",
       "\tthis.context.oBackingStorePixelRatio ||\n",
       "\tthis.context.backingStorePixelRatio || 1;\n",
       "\n",
       "    mpl.ratio = (window.devicePixelRatio || 1) / backingStore;\n",
       "\n",
       "    var rubberband = $('<canvas/>');\n",
       "    rubberband.attr('style', \"position: absolute; left: 0; top: 0; z-index: 1;\")\n",
       "\n",
       "    var pass_mouse_events = true;\n",
       "\n",
       "    canvas_div.resizable({\n",
       "        start: function(event, ui) {\n",
       "            pass_mouse_events = false;\n",
       "        },\n",
       "        resize: function(event, ui) {\n",
       "            fig.request_resize(ui.size.width, ui.size.height);\n",
       "        },\n",
       "        stop: function(event, ui) {\n",
       "            pass_mouse_events = true;\n",
       "            fig.request_resize(ui.size.width, ui.size.height);\n",
       "        },\n",
       "    });\n",
       "\n",
       "    function mouse_event_fn(event) {\n",
       "        if (pass_mouse_events)\n",
       "            return fig.mouse_event(event, event['data']);\n",
       "    }\n",
       "\n",
       "    rubberband.mousedown('button_press', mouse_event_fn);\n",
       "    rubberband.mouseup('button_release', mouse_event_fn);\n",
       "    // Throttle sequential mouse events to 1 every 20ms.\n",
       "    rubberband.mousemove('motion_notify', mouse_event_fn);\n",
       "\n",
       "    rubberband.mouseenter('figure_enter', mouse_event_fn);\n",
       "    rubberband.mouseleave('figure_leave', mouse_event_fn);\n",
       "\n",
       "    canvas_div.on(\"wheel\", function (event) {\n",
       "        event = event.originalEvent;\n",
       "        event['data'] = 'scroll'\n",
       "        if (event.deltaY < 0) {\n",
       "            event.step = 1;\n",
       "        } else {\n",
       "            event.step = -1;\n",
       "        }\n",
       "        mouse_event_fn(event);\n",
       "    });\n",
       "\n",
       "    canvas_div.append(canvas);\n",
       "    canvas_div.append(rubberband);\n",
       "\n",
       "    this.rubberband = rubberband;\n",
       "    this.rubberband_canvas = rubberband[0];\n",
       "    this.rubberband_context = rubberband[0].getContext(\"2d\");\n",
       "    this.rubberband_context.strokeStyle = \"#000000\";\n",
       "\n",
       "    this._resize_canvas = function(width, height) {\n",
       "        // Keep the size of the canvas, canvas container, and rubber band\n",
       "        // canvas in synch.\n",
       "        canvas_div.css('width', width)\n",
       "        canvas_div.css('height', height)\n",
       "\n",
       "        canvas.attr('width', width * mpl.ratio);\n",
       "        canvas.attr('height', height * mpl.ratio);\n",
       "        canvas.attr('style', 'width: ' + width + 'px; height: ' + height + 'px;');\n",
       "\n",
       "        rubberband.attr('width', width);\n",
       "        rubberband.attr('height', height);\n",
       "    }\n",
       "\n",
       "    // Set the figure to an initial 600x600px, this will subsequently be updated\n",
       "    // upon first draw.\n",
       "    this._resize_canvas(600, 600);\n",
       "\n",
       "    // Disable right mouse context menu.\n",
       "    $(this.rubberband_canvas).bind(\"contextmenu\",function(e){\n",
       "        return false;\n",
       "    });\n",
       "\n",
       "    function set_focus () {\n",
       "        canvas.focus();\n",
       "        canvas_div.focus();\n",
       "    }\n",
       "\n",
       "    window.setTimeout(set_focus, 100);\n",
       "}\n",
       "\n",
       "mpl.figure.prototype._init_toolbar = function() {\n",
       "    var fig = this;\n",
       "\n",
       "    var nav_element = $('<div/>')\n",
       "    nav_element.attr('style', 'width: 100%');\n",
       "    this.root.append(nav_element);\n",
       "\n",
       "    // Define a callback function for later on.\n",
       "    function toolbar_event(event) {\n",
       "        return fig.toolbar_button_onclick(event['data']);\n",
       "    }\n",
       "    function toolbar_mouse_event(event) {\n",
       "        return fig.toolbar_button_onmouseover(event['data']);\n",
       "    }\n",
       "\n",
       "    for(var toolbar_ind in mpl.toolbar_items) {\n",
       "        var name = mpl.toolbar_items[toolbar_ind][0];\n",
       "        var tooltip = mpl.toolbar_items[toolbar_ind][1];\n",
       "        var image = mpl.toolbar_items[toolbar_ind][2];\n",
       "        var method_name = mpl.toolbar_items[toolbar_ind][3];\n",
       "\n",
       "        if (!name) {\n",
       "            // put a spacer in here.\n",
       "            continue;\n",
       "        }\n",
       "        var button = $('<button/>');\n",
       "        button.addClass('ui-button ui-widget ui-state-default ui-corner-all ' +\n",
       "                        'ui-button-icon-only');\n",
       "        button.attr('role', 'button');\n",
       "        button.attr('aria-disabled', 'false');\n",
       "        button.click(method_name, toolbar_event);\n",
       "        button.mouseover(tooltip, toolbar_mouse_event);\n",
       "\n",
       "        var icon_img = $('<span/>');\n",
       "        icon_img.addClass('ui-button-icon-primary ui-icon');\n",
       "        icon_img.addClass(image);\n",
       "        icon_img.addClass('ui-corner-all');\n",
       "\n",
       "        var tooltip_span = $('<span/>');\n",
       "        tooltip_span.addClass('ui-button-text');\n",
       "        tooltip_span.html(tooltip);\n",
       "\n",
       "        button.append(icon_img);\n",
       "        button.append(tooltip_span);\n",
       "\n",
       "        nav_element.append(button);\n",
       "    }\n",
       "\n",
       "    var fmt_picker_span = $('<span/>');\n",
       "\n",
       "    var fmt_picker = $('<select/>');\n",
       "    fmt_picker.addClass('mpl-toolbar-option ui-widget ui-widget-content');\n",
       "    fmt_picker_span.append(fmt_picker);\n",
       "    nav_element.append(fmt_picker_span);\n",
       "    this.format_dropdown = fmt_picker[0];\n",
       "\n",
       "    for (var ind in mpl.extensions) {\n",
       "        var fmt = mpl.extensions[ind];\n",
       "        var option = $(\n",
       "            '<option/>', {selected: fmt === mpl.default_extension}).html(fmt);\n",
       "        fmt_picker.append(option)\n",
       "    }\n",
       "\n",
       "    // Add hover states to the ui-buttons\n",
       "    $( \".ui-button\" ).hover(\n",
       "        function() { $(this).addClass(\"ui-state-hover\");},\n",
       "        function() { $(this).removeClass(\"ui-state-hover\");}\n",
       "    );\n",
       "\n",
       "    var status_bar = $('<span class=\"mpl-message\"/>');\n",
       "    nav_element.append(status_bar);\n",
       "    this.message = status_bar[0];\n",
       "}\n",
       "\n",
       "mpl.figure.prototype.request_resize = function(x_pixels, y_pixels) {\n",
       "    // Request matplotlib to resize the figure. Matplotlib will then trigger a resize in the client,\n",
       "    // which will in turn request a refresh of the image.\n",
       "    this.send_message('resize', {'width': x_pixels, 'height': y_pixels});\n",
       "}\n",
       "\n",
       "mpl.figure.prototype.send_message = function(type, properties) {\n",
       "    properties['type'] = type;\n",
       "    properties['figure_id'] = this.id;\n",
       "    this.ws.send(JSON.stringify(properties));\n",
       "}\n",
       "\n",
       "mpl.figure.prototype.send_draw_message = function() {\n",
       "    if (!this.waiting) {\n",
       "        this.waiting = true;\n",
       "        this.ws.send(JSON.stringify({type: \"draw\", figure_id: this.id}));\n",
       "    }\n",
       "}\n",
       "\n",
       "\n",
       "mpl.figure.prototype.handle_save = function(fig, msg) {\n",
       "    var format_dropdown = fig.format_dropdown;\n",
       "    var format = format_dropdown.options[format_dropdown.selectedIndex].value;\n",
       "    fig.ondownload(fig, format);\n",
       "}\n",
       "\n",
       "\n",
       "mpl.figure.prototype.handle_resize = function(fig, msg) {\n",
       "    var size = msg['size'];\n",
       "    if (size[0] != fig.canvas.width || size[1] != fig.canvas.height) {\n",
       "        fig._resize_canvas(size[0], size[1]);\n",
       "        fig.send_message(\"refresh\", {});\n",
       "    };\n",
       "}\n",
       "\n",
       "mpl.figure.prototype.handle_rubberband = function(fig, msg) {\n",
       "    var x0 = msg['x0'] / mpl.ratio;\n",
       "    var y0 = (fig.canvas.height - msg['y0']) / mpl.ratio;\n",
       "    var x1 = msg['x1'] / mpl.ratio;\n",
       "    var y1 = (fig.canvas.height - msg['y1']) / mpl.ratio;\n",
       "    x0 = Math.floor(x0) + 0.5;\n",
       "    y0 = Math.floor(y0) + 0.5;\n",
       "    x1 = Math.floor(x1) + 0.5;\n",
       "    y1 = Math.floor(y1) + 0.5;\n",
       "    var min_x = Math.min(x0, x1);\n",
       "    var min_y = Math.min(y0, y1);\n",
       "    var width = Math.abs(x1 - x0);\n",
       "    var height = Math.abs(y1 - y0);\n",
       "\n",
       "    fig.rubberband_context.clearRect(\n",
       "        0, 0, fig.canvas.width, fig.canvas.height);\n",
       "\n",
       "    fig.rubberband_context.strokeRect(min_x, min_y, width, height);\n",
       "}\n",
       "\n",
       "mpl.figure.prototype.handle_figure_label = function(fig, msg) {\n",
       "    // Updates the figure title.\n",
       "    fig.header.textContent = msg['label'];\n",
       "}\n",
       "\n",
       "mpl.figure.prototype.handle_cursor = function(fig, msg) {\n",
       "    var cursor = msg['cursor'];\n",
       "    switch(cursor)\n",
       "    {\n",
       "    case 0:\n",
       "        cursor = 'pointer';\n",
       "        break;\n",
       "    case 1:\n",
       "        cursor = 'default';\n",
       "        break;\n",
       "    case 2:\n",
       "        cursor = 'crosshair';\n",
       "        break;\n",
       "    case 3:\n",
       "        cursor = 'move';\n",
       "        break;\n",
       "    }\n",
       "    fig.rubberband_canvas.style.cursor = cursor;\n",
       "}\n",
       "\n",
       "mpl.figure.prototype.handle_message = function(fig, msg) {\n",
       "    fig.message.textContent = msg['message'];\n",
       "}\n",
       "\n",
       "mpl.figure.prototype.handle_draw = function(fig, msg) {\n",
       "    // Request the server to send over a new figure.\n",
       "    fig.send_draw_message();\n",
       "}\n",
       "\n",
       "mpl.figure.prototype.handle_image_mode = function(fig, msg) {\n",
       "    fig.image_mode = msg['mode'];\n",
       "}\n",
       "\n",
       "mpl.figure.prototype.updated_canvas_event = function() {\n",
       "    // Called whenever the canvas gets updated.\n",
       "    this.send_message(\"ack\", {});\n",
       "}\n",
       "\n",
       "// A function to construct a web socket function for onmessage handling.\n",
       "// Called in the figure constructor.\n",
       "mpl.figure.prototype._make_on_message_function = function(fig) {\n",
       "    return function socket_on_message(evt) {\n",
       "        if (evt.data instanceof Blob) {\n",
       "            /* FIXME: We get \"Resource interpreted as Image but\n",
       "             * transferred with MIME type text/plain:\" errors on\n",
       "             * Chrome.  But how to set the MIME type?  It doesn't seem\n",
       "             * to be part of the websocket stream */\n",
       "            evt.data.type = \"image/png\";\n",
       "\n",
       "            /* Free the memory for the previous frames */\n",
       "            if (fig.imageObj.src) {\n",
       "                (window.URL || window.webkitURL).revokeObjectURL(\n",
       "                    fig.imageObj.src);\n",
       "            }\n",
       "\n",
       "            fig.imageObj.src = (window.URL || window.webkitURL).createObjectURL(\n",
       "                evt.data);\n",
       "            fig.updated_canvas_event();\n",
       "            fig.waiting = false;\n",
       "            return;\n",
       "        }\n",
       "        else if (typeof evt.data === 'string' && evt.data.slice(0, 21) == \"data:image/png;base64\") {\n",
       "            fig.imageObj.src = evt.data;\n",
       "            fig.updated_canvas_event();\n",
       "            fig.waiting = false;\n",
       "            return;\n",
       "        }\n",
       "\n",
       "        var msg = JSON.parse(evt.data);\n",
       "        var msg_type = msg['type'];\n",
       "\n",
       "        // Call the  \"handle_{type}\" callback, which takes\n",
       "        // the figure and JSON message as its only arguments.\n",
       "        try {\n",
       "            var callback = fig[\"handle_\" + msg_type];\n",
       "        } catch (e) {\n",
       "            console.log(\"No handler for the '\" + msg_type + \"' message type: \", msg);\n",
       "            return;\n",
       "        }\n",
       "\n",
       "        if (callback) {\n",
       "            try {\n",
       "                // console.log(\"Handling '\" + msg_type + \"' message: \", msg);\n",
       "                callback(fig, msg);\n",
       "            } catch (e) {\n",
       "                console.log(\"Exception inside the 'handler_\" + msg_type + \"' callback:\", e, e.stack, msg);\n",
       "            }\n",
       "        }\n",
       "    };\n",
       "}\n",
       "\n",
       "// from http://stackoverflow.com/questions/1114465/getting-mouse-location-in-canvas\n",
       "mpl.findpos = function(e) {\n",
       "    //this section is from http://www.quirksmode.org/js/events_properties.html\n",
       "    var targ;\n",
       "    if (!e)\n",
       "        e = window.event;\n",
       "    if (e.target)\n",
       "        targ = e.target;\n",
       "    else if (e.srcElement)\n",
       "        targ = e.srcElement;\n",
       "    if (targ.nodeType == 3) // defeat Safari bug\n",
       "        targ = targ.parentNode;\n",
       "\n",
       "    // jQuery normalizes the pageX and pageY\n",
       "    // pageX,Y are the mouse positions relative to the document\n",
       "    // offset() returns the position of the element relative to the document\n",
       "    var x = e.pageX - $(targ).offset().left;\n",
       "    var y = e.pageY - $(targ).offset().top;\n",
       "\n",
       "    return {\"x\": x, \"y\": y};\n",
       "};\n",
       "\n",
       "/*\n",
       " * return a copy of an object with only non-object keys\n",
       " * we need this to avoid circular references\n",
       " * http://stackoverflow.com/a/24161582/3208463\n",
       " */\n",
       "function simpleKeys (original) {\n",
       "  return Object.keys(original).reduce(function (obj, key) {\n",
       "    if (typeof original[key] !== 'object')\n",
       "        obj[key] = original[key]\n",
       "    return obj;\n",
       "  }, {});\n",
       "}\n",
       "\n",
       "mpl.figure.prototype.mouse_event = function(event, name) {\n",
       "    var canvas_pos = mpl.findpos(event)\n",
       "\n",
       "    if (name === 'button_press')\n",
       "    {\n",
       "        this.canvas.focus();\n",
       "        this.canvas_div.focus();\n",
       "    }\n",
       "\n",
       "    var x = canvas_pos.x * mpl.ratio;\n",
       "    var y = canvas_pos.y * mpl.ratio;\n",
       "\n",
       "    this.send_message(name, {x: x, y: y, button: event.button,\n",
       "                             step: event.step,\n",
       "                             guiEvent: simpleKeys(event)});\n",
       "\n",
       "    /* This prevents the web browser from automatically changing to\n",
       "     * the text insertion cursor when the button is pressed.  We want\n",
       "     * to control all of the cursor setting manually through the\n",
       "     * 'cursor' event from matplotlib */\n",
       "    event.preventDefault();\n",
       "    return false;\n",
       "}\n",
       "\n",
       "mpl.figure.prototype._key_event_extra = function(event, name) {\n",
       "    // Handle any extra behaviour associated with a key event\n",
       "}\n",
       "\n",
       "mpl.figure.prototype.key_event = function(event, name) {\n",
       "\n",
       "    // Prevent repeat events\n",
       "    if (name == 'key_press')\n",
       "    {\n",
       "        if (event.which === this._key)\n",
       "            return;\n",
       "        else\n",
       "            this._key = event.which;\n",
       "    }\n",
       "    if (name == 'key_release')\n",
       "        this._key = null;\n",
       "\n",
       "    var value = '';\n",
       "    if (event.ctrlKey && event.which != 17)\n",
       "        value += \"ctrl+\";\n",
       "    if (event.altKey && event.which != 18)\n",
       "        value += \"alt+\";\n",
       "    if (event.shiftKey && event.which != 16)\n",
       "        value += \"shift+\";\n",
       "\n",
       "    value += 'k';\n",
       "    value += event.which.toString();\n",
       "\n",
       "    this._key_event_extra(event, name);\n",
       "\n",
       "    this.send_message(name, {key: value,\n",
       "                             guiEvent: simpleKeys(event)});\n",
       "    return false;\n",
       "}\n",
       "\n",
       "mpl.figure.prototype.toolbar_button_onclick = function(name) {\n",
       "    if (name == 'download') {\n",
       "        this.handle_save(this, null);\n",
       "    } else {\n",
       "        this.send_message(\"toolbar_button\", {name: name});\n",
       "    }\n",
       "};\n",
       "\n",
       "mpl.figure.prototype.toolbar_button_onmouseover = function(tooltip) {\n",
       "    this.message.textContent = tooltip;\n",
       "};\n",
       "mpl.toolbar_items = [[\"Home\", \"Reset original view\", \"fa fa-home icon-home\", \"home\"], [\"Back\", \"Back to previous view\", \"fa fa-arrow-left icon-arrow-left\", \"back\"], [\"Forward\", \"Forward to next view\", \"fa fa-arrow-right icon-arrow-right\", \"forward\"], [\"\", \"\", \"\", \"\"], [\"Pan\", \"Pan axes with left mouse, zoom with right\", \"fa fa-arrows icon-move\", \"pan\"], [\"Zoom\", \"Zoom to rectangle\", \"fa fa-square-o icon-check-empty\", \"zoom\"], [\"\", \"\", \"\", \"\"], [\"Download\", \"Download plot\", \"fa fa-floppy-o icon-save\", \"download\"]];\n",
       "\n",
       "mpl.extensions = [\"eps\", \"jpeg\", \"pdf\", \"png\", \"ps\", \"raw\", \"svg\", \"tif\"];\n",
       "\n",
       "mpl.default_extension = \"png\";var comm_websocket_adapter = function(comm) {\n",
       "    // Create a \"websocket\"-like object which calls the given IPython comm\n",
       "    // object with the appropriate methods. Currently this is a non binary\n",
       "    // socket, so there is still some room for performance tuning.\n",
       "    var ws = {};\n",
       "\n",
       "    ws.close = function() {\n",
       "        comm.close()\n",
       "    };\n",
       "    ws.send = function(m) {\n",
       "        //console.log('sending', m);\n",
       "        comm.send(m);\n",
       "    };\n",
       "    // Register the callback with on_msg.\n",
       "    comm.on_msg(function(msg) {\n",
       "        //console.log('receiving', msg['content']['data'], msg);\n",
       "        // Pass the mpl event to the overridden (by mpl) onmessage function.\n",
       "        ws.onmessage(msg['content']['data'])\n",
       "    });\n",
       "    return ws;\n",
       "}\n",
       "\n",
       "mpl.mpl_figure_comm = function(comm, msg) {\n",
       "    // This is the function which gets called when the mpl process\n",
       "    // starts-up an IPython Comm through the \"matplotlib\" channel.\n",
       "\n",
       "    var id = msg.content.data.id;\n",
       "    // Get hold of the div created by the display call when the Comm\n",
       "    // socket was opened in Python.\n",
       "    var element = $(\"#\" + id);\n",
       "    var ws_proxy = comm_websocket_adapter(comm)\n",
       "\n",
       "    function ondownload(figure, format) {\n",
       "        window.open(figure.imageObj.src);\n",
       "    }\n",
       "\n",
       "    var fig = new mpl.figure(id, ws_proxy,\n",
       "                           ondownload,\n",
       "                           element.get(0));\n",
       "\n",
       "    // Call onopen now - mpl needs it, as it is assuming we've passed it a real\n",
       "    // web socket which is closed, not our websocket->open comm proxy.\n",
       "    ws_proxy.onopen();\n",
       "\n",
       "    fig.parent_element = element.get(0);\n",
       "    fig.cell_info = mpl.find_output_cell(\"<div id='\" + id + \"'></div>\");\n",
       "    if (!fig.cell_info) {\n",
       "        console.error(\"Failed to find cell for figure\", id, fig);\n",
       "        return;\n",
       "    }\n",
       "\n",
       "    var output_index = fig.cell_info[2]\n",
       "    var cell = fig.cell_info[0];\n",
       "\n",
       "};\n",
       "\n",
       "mpl.figure.prototype.handle_close = function(fig, msg) {\n",
       "    var width = fig.canvas.width/mpl.ratio\n",
       "    fig.root.unbind('remove')\n",
       "\n",
       "    // Update the output cell to use the data from the current canvas.\n",
       "    fig.push_to_output();\n",
       "    var dataURL = fig.canvas.toDataURL();\n",
       "    // Re-enable the keyboard manager in IPython - without this line, in FF,\n",
       "    // the notebook keyboard shortcuts fail.\n",
       "    IPython.keyboard_manager.enable()\n",
       "    $(fig.parent_element).html('<img src=\"' + dataURL + '\" width=\"' + width + '\">');\n",
       "    fig.close_ws(fig, msg);\n",
       "}\n",
       "\n",
       "mpl.figure.prototype.close_ws = function(fig, msg){\n",
       "    fig.send_message('closing', msg);\n",
       "    // fig.ws.close()\n",
       "}\n",
       "\n",
       "mpl.figure.prototype.push_to_output = function(remove_interactive) {\n",
       "    // Turn the data on the canvas into data in the output cell.\n",
       "    var width = this.canvas.width/mpl.ratio\n",
       "    var dataURL = this.canvas.toDataURL();\n",
       "    this.cell_info[1]['text/html'] = '<img src=\"' + dataURL + '\" width=\"' + width + '\">';\n",
       "}\n",
       "\n",
       "mpl.figure.prototype.updated_canvas_event = function() {\n",
       "    // Tell IPython that the notebook contents must change.\n",
       "    IPython.notebook.set_dirty(true);\n",
       "    this.send_message(\"ack\", {});\n",
       "    var fig = this;\n",
       "    // Wait a second, then push the new image to the DOM so\n",
       "    // that it is saved nicely (might be nice to debounce this).\n",
       "    setTimeout(function () { fig.push_to_output() }, 1000);\n",
       "}\n",
       "\n",
       "mpl.figure.prototype._init_toolbar = function() {\n",
       "    var fig = this;\n",
       "\n",
       "    var nav_element = $('<div/>')\n",
       "    nav_element.attr('style', 'width: 100%');\n",
       "    this.root.append(nav_element);\n",
       "\n",
       "    // Define a callback function for later on.\n",
       "    function toolbar_event(event) {\n",
       "        return fig.toolbar_button_onclick(event['data']);\n",
       "    }\n",
       "    function toolbar_mouse_event(event) {\n",
       "        return fig.toolbar_button_onmouseover(event['data']);\n",
       "    }\n",
       "\n",
       "    for(var toolbar_ind in mpl.toolbar_items){\n",
       "        var name = mpl.toolbar_items[toolbar_ind][0];\n",
       "        var tooltip = mpl.toolbar_items[toolbar_ind][1];\n",
       "        var image = mpl.toolbar_items[toolbar_ind][2];\n",
       "        var method_name = mpl.toolbar_items[toolbar_ind][3];\n",
       "\n",
       "        if (!name) { continue; };\n",
       "\n",
       "        var button = $('<button class=\"btn btn-default\" href=\"#\" title=\"' + name + '\"><i class=\"fa ' + image + ' fa-lg\"></i></button>');\n",
       "        button.click(method_name, toolbar_event);\n",
       "        button.mouseover(tooltip, toolbar_mouse_event);\n",
       "        nav_element.append(button);\n",
       "    }\n",
       "\n",
       "    // Add the status bar.\n",
       "    var status_bar = $('<span class=\"mpl-message\" style=\"text-align:right; float: right;\"/>');\n",
       "    nav_element.append(status_bar);\n",
       "    this.message = status_bar[0];\n",
       "\n",
       "    // Add the close button to the window.\n",
       "    var buttongrp = $('<div class=\"btn-group inline pull-right\"></div>');\n",
       "    var button = $('<button class=\"btn btn-mini btn-primary\" href=\"#\" title=\"Stop Interaction\"><i class=\"fa fa-power-off icon-remove icon-large\"></i></button>');\n",
       "    button.click(function (evt) { fig.handle_close(fig, {}); } );\n",
       "    button.mouseover('Stop Interaction', toolbar_mouse_event);\n",
       "    buttongrp.append(button);\n",
       "    var titlebar = this.root.find($('.ui-dialog-titlebar'));\n",
       "    titlebar.prepend(buttongrp);\n",
       "}\n",
       "\n",
       "mpl.figure.prototype._root_extra_style = function(el){\n",
       "    var fig = this\n",
       "    el.on(\"remove\", function(){\n",
       "\tfig.close_ws(fig, {});\n",
       "    });\n",
       "}\n",
       "\n",
       "mpl.figure.prototype._canvas_extra_style = function(el){\n",
       "    // this is important to make the div 'focusable\n",
       "    el.attr('tabindex', 0)\n",
       "    // reach out to IPython and tell the keyboard manager to turn it's self\n",
       "    // off when our div gets focus\n",
       "\n",
       "    // location in version 3\n",
       "    if (IPython.notebook.keyboard_manager) {\n",
       "        IPython.notebook.keyboard_manager.register_events(el);\n",
       "    }\n",
       "    else {\n",
       "        // location in version 2\n",
       "        IPython.keyboard_manager.register_events(el);\n",
       "    }\n",
       "\n",
       "}\n",
       "\n",
       "mpl.figure.prototype._key_event_extra = function(event, name) {\n",
       "    var manager = IPython.notebook.keyboard_manager;\n",
       "    if (!manager)\n",
       "        manager = IPython.keyboard_manager;\n",
       "\n",
       "    // Check for shift+enter\n",
       "    if (event.shiftKey && event.which == 13) {\n",
       "        this.canvas_div.blur();\n",
       "        event.shiftKey = false;\n",
       "        // Send a \"J\" for go to next cell\n",
       "        event.which = 74;\n",
       "        event.keyCode = 74;\n",
       "        manager.command_mode();\n",
       "        manager.handle_keydown(event);\n",
       "    }\n",
       "}\n",
       "\n",
       "mpl.figure.prototype.handle_save = function(fig, msg) {\n",
       "    fig.ondownload(fig, null);\n",
       "}\n",
       "\n",
       "\n",
       "mpl.find_output_cell = function(html_output) {\n",
       "    // Return the cell and output element which can be found *uniquely* in the notebook.\n",
       "    // Note - this is a bit hacky, but it is done because the \"notebook_saving.Notebook\"\n",
       "    // IPython event is triggered only after the cells have been serialised, which for\n",
       "    // our purposes (turning an active figure into a static one), is too late.\n",
       "    var cells = IPython.notebook.get_cells();\n",
       "    var ncells = cells.length;\n",
       "    for (var i=0; i<ncells; i++) {\n",
       "        var cell = cells[i];\n",
       "        if (cell.cell_type === 'code'){\n",
       "            for (var j=0; j<cell.output_area.outputs.length; j++) {\n",
       "                var data = cell.output_area.outputs[j];\n",
       "                if (data.data) {\n",
       "                    // IPython >= 3 moved mimebundle to data attribute of output\n",
       "                    data = data.data;\n",
       "                }\n",
       "                if (data['text/html'] == html_output) {\n",
       "                    return [cell, data, j];\n",
       "                }\n",
       "            }\n",
       "        }\n",
       "    }\n",
       "}\n",
       "\n",
       "// Register the function which deals with the matplotlib target/channel.\n",
       "// The kernel may be null if the page has been refreshed.\n",
       "if (IPython.notebook.kernel != null) {\n",
       "    IPython.notebook.kernel.comm_manager.register_target('matplotlib', mpl.mpl_figure_comm);\n",
       "}\n"
      ],
      "text/plain": [
       "<IPython.core.display.Javascript object>"
      ]
     },
     "metadata": {},
     "output_type": "display_data"
    },
    {
     "data": {
      "text/html": [
       "<img src=\"data:image/png;base64,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\" width=\"432\">"
      ],
      "text/plain": [
       "<IPython.core.display.HTML object>"
      ]
     },
     "metadata": {},
     "output_type": "display_data"
    }
   ],
   "source": [
    "plot_iteration(a.cost_rate)"
   ]
  },
  {
   "cell_type": "code",
   "execution_count": 56,
   "metadata": {},
   "outputs": [
    {
     "data": {
      "text/plain": [
       "100000"
      ]
     },
     "execution_count": 56,
     "metadata": {},
     "output_type": "execute_result"
    }
   ],
   "source": [
    "BC"
   ]
  },
  {
   "cell_type": "code",
   "execution_count": 52,
   "metadata": {
    "scrolled": true
   },
   "outputs": [
    {
     "data": {
      "text/plain": [
       "0.9999144261405561"
      ]
     },
     "execution_count": 52,
     "metadata": {},
     "output_type": "execute_result"
    }
   ],
   "source": [
    "relative_err(a.p, 0.05)"
   ]
  },
  {
   "cell_type": "code",
   "execution_count": 49,
   "metadata": {},
   "outputs": [
    {
     "data": {
      "text/plain": [
       "56675"
      ]
     },
     "execution_count": 49,
     "metadata": {},
     "output_type": "execute_result"
    }
   ],
   "source": [
    "len(a.cost_rate)"
   ]
  },
  {
   "cell_type": "code",
   "execution_count": null,
   "metadata": {},
   "outputs": [],
   "source": [
    "plot_fun(N, p=a.p, zlim=(0,1.7))"
   ]
  },
  {
   "cell_type": "code",
   "execution_count": null,
   "metadata": {},
   "outputs": [],
   "source": []
  },
  {
   "cell_type": "code",
   "execution_count": 58,
   "metadata": {},
   "outputs": [],
   "source": [
    "a.save_result('eq2_1')"
   ]
  },
  {
   "cell_type": "code",
   "execution_count": null,
   "metadata": {},
   "outputs": [],
   "source": []
  }
 ],
 "metadata": {
  "kernelspec": {
   "display_name": "Python 3",
   "language": "python",
   "name": "python3"
  },
  "language_info": {
   "codemirror_mode": {
    "name": "ipython",
    "version": 3
   },
   "file_extension": ".py",
   "mimetype": "text/x-python",
   "name": "python",
   "nbconvert_exporter": "python",
   "pygments_lexer": "ipython3",
   "version": "3.6.7"
  },
  "notify_time": "30",
  "toc": {
   "base_numbering": 1,
   "nav_menu": {},
   "number_sections": true,
   "sideBar": true,
   "skip_h1_title": false,
   "title_cell": "Table of Contents",
   "title_sidebar": "Contents",
   "toc_cell": false,
   "toc_position": {
    "height": "calc(100% - 180px)",
    "left": "10px",
    "top": "150px",
    "width": "216.797px"
   },
   "toc_section_display": true,
   "toc_window_display": false
  },
  "varInspector": {
   "cols": {
    "lenName": 16,
    "lenType": 16,
    "lenVar": 40
   },
   "kernels_config": {
    "python": {
     "delete_cmd_postfix": "",
     "delete_cmd_prefix": "del ",
     "library": "var_list.py",
     "varRefreshCmd": "print(var_dic_list())"
    },
    "r": {
     "delete_cmd_postfix": ") ",
     "delete_cmd_prefix": "rm(",
     "library": "var_list.r",
     "varRefreshCmd": "cat(var_dic_list()) "
    }
   },
   "types_to_exclude": [
    "module",
    "function",
    "builtin_function_or_method",
    "instance",
    "_Feature"
   ],
   "window_display": false
  }
 },
 "nbformat": 4,
 "nbformat_minor": 2
}
