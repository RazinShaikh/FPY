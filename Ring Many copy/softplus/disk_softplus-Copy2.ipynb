{
 "cells": [
  {
   "cell_type": "code",
   "execution_count": 5,
   "metadata": {},
   "outputs": [],
   "source": [
    "import copy\n",
    "import numpy as np\n",
    "import time\n",
    "from neural_network import NNTrain, get_p\n",
    "import nn_functions as nn\n",
    "from nn_functions import relative_err_without_points as rel_err\n",
    "from plots import plot_fun, plot_iteration, animate_p\n",
    "from itertools import product\n",
    "%matplotlib notebook\n",
    "%matplotlib notebook"
   ]
  },
  {
   "cell_type": "code",
   "execution_count": 2,
   "metadata": {},
   "outputs": [],
   "source": [
    "a = NNTrain(dx=0.1, bx=0.01, hidden_nodes=15, alpha=1e-3, bc=1, batch_size=32)"
   ]
  },
  {
   "cell_type": "code",
   "execution_count": 3,
   "metadata": {
    "scrolled": true
   },
   "outputs": [],
   "source": [
    "p=[]\n",
    "p.append(copy.deepcopy(get_p(a)))\n",
    "a.train(100)"
   ]
  },
  {
   "cell_type": "code",
   "execution_count": null,
   "metadata": {
    "scrolled": true
   },
   "outputs": [],
   "source": [
    "bc_multiplier = 5\n",
    "thresh = 1e-6\n",
    "\n",
    "for i in range(100000):\n",
    "    p.append(copy.deepcopy(get_p(a)))\n",
    "    if a.alpha < 1e-9  or a.bc > 100000:\n",
    "        break\n",
    "    if np.abs(np.mean([s-t for s, t in zip(a.cost_rate[-101:], a.cost_rate[-100:])])) < thresh:\n",
    "        a.bc *= bc_multiplier\n",
    "        a.alpha /= bc_multiplier\n",
    "    a.train(100)"
   ]
  },
  {
   "cell_type": "code",
   "execution_count": 15,
   "metadata": {},
   "outputs": [],
   "source": [
    "a.bc *= bc_multiplier\n",
    "a.alpha /= bc_multiplier"
   ]
  },
  {
   "cell_type": "code",
   "execution_count": 18,
   "metadata": {},
   "outputs": [
    {
     "name": "stdout",
     "output_type": "stream",
     "text": [
      "alpha: 0.0002\n",
      "BC: 5\n",
      "relative error: 0.9931690191017352\n",
      "number of iterations: 41713\n"
     ]
    }
   ],
   "source": [
    "print('alpha:', a.alpha)\n",
    "print('BC:', a.bc)\n",
    "print('relative error:', rel_err(a.p00, a.p01, a.p1, a.p2, dx=0.02))\n",
    "print('number of iterations:', len(a.cost_rate))"
   ]
  },
  {
   "cell_type": "code",
   "execution_count": null,
   "metadata": {},
   "outputs": [],
   "source": [
    "plot_iteration(a.cost_rate, min_it=1)"
   ]
  },
  {
   "cell_type": "code",
   "execution_count": null,
   "metadata": {},
   "outputs": [],
   "source": [
    "plot_iteration(a.rel_err, min_it=1)"
   ]
  },
  {
   "cell_type": "code",
   "execution_count": null,
   "metadata": {},
   "outputs": [],
   "source": [
    "plot_fun(nn.N, p00=a.p00, p01=a.p01, p1=a.p1, p2=a.p2)"
   ]
  },
  {
   "cell_type": "code",
   "execution_count": null,
   "metadata": {},
   "outputs": [],
   "source": [
    "plot_fun(nn.psi_a)"
   ]
  },
  {
   "cell_type": "code",
   "execution_count": null,
   "metadata": {},
   "outputs": [],
   "source": []
  },
  {
   "cell_type": "markdown",
   "metadata": {},
   "source": [
    "### Load parameters"
   ]
  },
  {
   "cell_type": "code",
   "execution_count": null,
   "metadata": {},
   "outputs": [],
   "source": [
    "name_str = '20200817-2017_eq1_1_v6'\n",
    "\n",
    "par = np.load('output/' + name_str + '_nn_params.npz', allow_pickle=True)['arr_0']\n",
    "a.p00 = par[0][0]\n",
    "a.p01 = par[0][1]\n",
    "a.p1 = par[1]\n",
    "a.p2 = par[2]\n",
    "a.cost_rate = list(np.load('output/' + name_str + '_cost_rate.npz')['arr_0'])\n",
    "a.rel_err = list(np.load('output/' + name_str + '_rel_err.npz')['arr_0'])\n",
    "a.m_t = np.load('output/' + name_str + '_momentum.npz')['arr_0']"
   ]
  },
  {
   "cell_type": "code",
   "execution_count": 25,
   "metadata": {},
   "outputs": [],
   "source": [
    "output_name = 'disk_soft_0_v1'\n",
    "timestr = time.strftime(\"%Y%m%d-%H%M\")\n",
    "\n",
    "a.save_result(output_name)\n",
    "\n",
    "np.savez('output/'+ timestr + '_' + output_name +'_p_list.npz', p)"
   ]
  },
  {
   "cell_type": "code",
   "execution_count": null,
   "metadata": {},
   "outputs": [],
   "source": []
  }
 ],
 "metadata": {
  "kernelspec": {
   "display_name": "Python 3",
   "language": "python",
   "name": "python3"
  },
  "language_info": {
   "codemirror_mode": {
    "name": "ipython",
    "version": 3
   },
   "file_extension": ".py",
   "mimetype": "text/x-python",
   "name": "python",
   "nbconvert_exporter": "python",
   "pygments_lexer": "ipython3",
   "version": "3.6.3"
  },
  "toc": {
   "base_numbering": 1,
   "nav_menu": {},
   "number_sections": true,
   "sideBar": true,
   "skip_h1_title": false,
   "title_cell": "Table of Contents",
   "title_sidebar": "Contents",
   "toc_cell": false,
   "toc_position": {},
   "toc_section_display": true,
   "toc_window_display": false
  },
  "varInspector": {
   "cols": {
    "lenName": 16,
    "lenType": 16,
    "lenVar": 40
   },
   "kernels_config": {
    "python": {
     "delete_cmd_postfix": "",
     "delete_cmd_prefix": "del ",
     "library": "var_list.py",
     "varRefreshCmd": "print(var_dic_list())"
    },
    "r": {
     "delete_cmd_postfix": ") ",
     "delete_cmd_prefix": "rm(",
     "library": "var_list.r",
     "varRefreshCmd": "cat(var_dic_list()) "
    }
   },
   "types_to_exclude": [
    "module",
    "function",
    "builtin_function_or_method",
    "instance",
    "_Feature"
   ],
   "window_display": false
  }
 },
 "nbformat": 4,
 "nbformat_minor": 2
}
