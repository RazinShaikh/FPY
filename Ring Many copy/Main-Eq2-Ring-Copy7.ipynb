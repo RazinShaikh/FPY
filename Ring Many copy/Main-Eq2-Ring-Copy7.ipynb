{
 "cells": [
  {
   "cell_type": "markdown",
   "metadata": {
    "heading_collapsed": true,
    "slideshow": {
     "slide_type": "-"
    }
   },
   "source": [
    "# Imports"
   ]
  },
  {
   "cell_type": "code",
   "execution_count": 1,
   "metadata": {
    "hidden": true
   },
   "outputs": [
    {
     "name": "stdout",
     "output_type": "stream",
     "text": [
      "Pixiedust database opened successfully\n"
     ]
    },
    {
     "data": {
      "text/html": [
       "\n",
       "        <div style=\"margin:10px\">\n",
       "            <a href=\"https://github.com/ibm-watson-data-lab/pixiedust\" target=\"_new\">\n",
       "                <img src=\"https://github.com/ibm-watson-data-lab/pixiedust/raw/master/docs/_static/pd_icon32.png\" style=\"float:left;margin-right:10px\"/>\n",
       "            </a>\n",
       "            <span>Pixiedust version 1.1.14</span>\n",
       "        </div>\n",
       "        "
      ],
      "text/plain": [
       "<IPython.core.display.HTML object>"
      ]
     },
     "metadata": {},
     "output_type": "display_data"
    },
    {
     "data": {
      "text/html": [
       "<div>Warning: You are not running the latest version of PixieDust. Current is 1.1.14, Latest is 1.1.17</div>"
      ],
      "text/plain": [
       "<IPython.core.display.HTML object>"
      ]
     },
     "metadata": {},
     "output_type": "display_data"
    },
    {
     "data": {
      "text/html": [
       "\n",
       "                <div>Please copy and run the following command in a new cell to upgrade: <span style=\"background-color:#ececec;font-family:monospace;padding:0 5px\">!pip install --user --upgrade pixiedust</span></div>\n",
       "            "
      ],
      "text/plain": [
       "<IPython.core.display.HTML object>"
      ]
     },
     "metadata": {},
     "output_type": "display_data"
    },
    {
     "data": {
      "text/html": [
       "<div>Please restart kernel after upgrading.</div>"
      ],
      "text/plain": [
       "<IPython.core.display.HTML object>"
      ]
     },
     "metadata": {},
     "output_type": "display_data"
    }
   ],
   "source": [
    "import numpy as np\n",
    "import itertools\n",
    "import time\n",
    "from matplotlib import pyplot as plt\n",
    "from mpl_toolkits.mplot3d import Axes3D\n",
    "from matplotlib import cm\n",
    "import pixiedust"
   ]
  },
  {
   "cell_type": "markdown",
   "metadata": {
    "heading_collapsed": true
   },
   "source": [
    "# Defining functions"
   ]
  },
  {
   "cell_type": "markdown",
   "metadata": {
    "heading_collapsed": true,
    "hidden": true
   },
   "source": [
    "## Sigmoid"
   ]
  },
  {
   "cell_type": "markdown",
   "metadata": {
    "hidden": true
   },
   "source": [
    "Sigmoid $\\sigma(x) = \\frac{1}{1+e^{-x}}$ and its derrivatives."
   ]
  },
  {
   "cell_type": "markdown",
   "metadata": {
    "hidden": true
   },
   "source": [
    "Sigmoid with parameter $t$\n",
    "$$ \\sigma_t(x) = \\frac{1}{1+e^{-tx}}$$"
   ]
  },
  {
   "cell_type": "code",
   "execution_count": 2,
   "metadata": {
    "hidden": true
   },
   "outputs": [],
   "source": [
    "T = 1"
   ]
  },
  {
   "cell_type": "code",
   "execution_count": 3,
   "metadata": {
    "hidden": true
   },
   "outputs": [],
   "source": [
    "def sig(x):\n",
    "    return 1 / (1 + np.exp(-T*x))\n",
    "\n",
    "def sig1(x):\n",
    "    return T * sig(x) * (1 - sig(x))\n",
    "\n",
    "def sig2(x):\n",
    "    return T * (sig1(x) - 2*sig(x)*sig1(x))\n",
    "\n",
    "def sig3(x):\n",
    "    return T * (sig2(x) - 2 * (sig1(x)**2 + sig(x) * sig2(x)))\n",
    "\n",
    "def sig_pr(x, k):\n",
    "    if k==0:\n",
    "        return sig(x)\n",
    "    if k==1:\n",
    "        return sig1(x)\n",
    "    if k==2:\n",
    "        return sig2(x)\n",
    "    if k==3:\n",
    "        return sig3(x)"
   ]
  },
  {
   "cell_type": "markdown",
   "metadata": {
    "heading_collapsed": true,
    "hidden": true
   },
   "source": [
    "## RHS"
   ]
  },
  {
   "cell_type": "markdown",
   "metadata": {
    "hidden": true
   },
   "source": [
    "The right side of the equation:  $\\Delta\\Psi(x,y) = 6 x (x-1) (1-2 y) + 2 y (y-1) (1-2 y)$"
   ]
  },
  {
   "cell_type": "code",
   "execution_count": 4,
   "metadata": {
    "hidden": true
   },
   "outputs": [],
   "source": [
    "K=1\n",
    "def f(x, y):\n",
    "    return -(np.cos(np.sqrt(x**2 + y**2)) / np.sqrt(x**2 + y**2)) + np.sin(np.sqrt(x**2 + y**2))"
   ]
  },
  {
   "cell_type": "markdown",
   "metadata": {
    "hidden": true
   },
   "source": [
    "The analytic solution is given by: $\\ \\Psi_a(x,y) = x (1-x) y (1-y) (1-2 y)$"
   ]
  },
  {
   "cell_type": "code",
   "execution_count": 5,
   "metadata": {
    "hidden": true
   },
   "outputs": [],
   "source": [
    "# def psi_a(x, y):\n",
    "#     return y * (1-y) * np.sin(np.pi * x)\n",
    "\n",
    "def psi_a(x, y):\n",
    "    return -np.sin(np.sqrt(x**2 + y**2))"
   ]
  },
  {
   "cell_type": "markdown",
   "metadata": {
    "hidden": true
   },
   "source": [
    "$$\\frac{\\partial}{\\partial x} \\Psi_a = (1-2x) y (1-y) (1-2 y)$$"
   ]
  },
  {
   "cell_type": "code",
   "execution_count": 6,
   "metadata": {
    "hidden": true
   },
   "outputs": [],
   "source": [
    "# def psi_a_dx(x,y):\n",
    "#     return K * (1-2*x)*y*(1-y)*(1-2*y)"
   ]
  },
  {
   "cell_type": "markdown",
   "metadata": {
    "hidden": true
   },
   "source": [
    "$$\\frac{\\partial}{\\partial y} \\Psi_a = x (1-x) (1-6y + 6y^2) $$"
   ]
  },
  {
   "cell_type": "code",
   "execution_count": 7,
   "metadata": {
    "hidden": true
   },
   "outputs": [],
   "source": [
    "# def psi_a_dy(x,y):\n",
    "#     return K * x*(1-x)*(1-6*y+6*(y**2))"
   ]
  },
  {
   "cell_type": "markdown",
   "metadata": {
    "heading_collapsed": true,
    "hidden": true
   },
   "source": [
    "## Neural Network"
   ]
  },
  {
   "cell_type": "markdown",
   "metadata": {
    "hidden": true
   },
   "source": [
    "The output of neural network $N(x,y,\\vec{p})$, where $\\vec{p} = [w, u, v]$:\n",
    "$$N = \\sum_i^H v_i \\sigma(z_i) \\text{, where } z_i = w_{i0} x + w_{i1} y + u_i$$"
   ]
  },
  {
   "cell_type": "code",
   "execution_count": 8,
   "metadata": {
    "code_folding": [],
    "hidden": true
   },
   "outputs": [],
   "source": [
    "def z(x, y, p):\n",
    "    z_x = np.multiply(x, p[0][0])\n",
    "    z_y = np.multiply(y, p[0][1])\n",
    "    z_ = np.array([z_x, z_y, p[1]]).sum(axis=0)\n",
    "    return z_\n",
    "\n",
    "def N(x, y, p):\n",
    "    return np.sum(np.multiply(sig(z(x,y,p)), p[2]))"
   ]
  },
  {
   "cell_type": "markdown",
   "metadata": {
    "hidden": true
   },
   "source": [
    "$$\\frac{\\partial^k N}{\\partial x_j^k} = \\sum_{i=1}^H v_i w_{ij}^k \\sigma^{(k)}$$"
   ]
  },
  {
   "cell_type": "code",
   "execution_count": 9,
   "metadata": {
    "code_folding": [],
    "hidden": true
   },
   "outputs": [],
   "source": [
    "def dN_dxj_k(x, y, p, j, k):\n",
    "    wj = p[0][j]\n",
    "    v = p[2]\n",
    "    z_ = z(x, y, p)\n",
    "    \n",
    "    return np.sum(v * (wj**k) * sig_pr(z_, k))"
   ]
  },
  {
   "cell_type": "markdown",
   "metadata": {
    "hidden": true
   },
   "source": [
    "$$\\frac{\\partial N}{\\partial w_j} = x_j v \\sigma '$$"
   ]
  },
  {
   "cell_type": "code",
   "execution_count": 10,
   "metadata": {
    "code_folding": [],
    "hidden": true
   },
   "outputs": [],
   "source": [
    "def dN_dwj(x, y, p, j):\n",
    "    xj = x if j==0 else y\n",
    "    v = p[2]\n",
    "    z_ = z(x, y, p)\n",
    "    return xj * v * sig1(z_)"
   ]
  },
  {
   "cell_type": "markdown",
   "metadata": {
    "hidden": true
   },
   "source": [
    "$$ \\frac{\\partial}{\\partial w_j} \\frac{\\partial N}{\\partial x_k} = x_j v w_k \\sigma'' + v_i \\sigma' \\quad\\text{ if } j = k$$\n",
    "\n",
    "$$ \\frac{\\partial}{\\partial w_j} \\frac{\\partial N}{\\partial x_k} = x_j v w_k \\sigma'' \\quad\\text{ if } j \\neq k$$"
   ]
  },
  {
   "cell_type": "code",
   "execution_count": 11,
   "metadata": {
    "code_folding": [],
    "hidden": true
   },
   "outputs": [],
   "source": [
    "def d_dwj_dN_dxk(x, y, p, j, k):\n",
    "    xj = x if j==0 else y\n",
    "    wk = p[0][k]\n",
    "    jk = 1 if j==k else 0\n",
    "    v = p[2]\n",
    "    z_ = z(x, y, p)\n",
    "    return xj * v * wk * sig2(z_) + jk * v * sig1(z_)"
   ]
  },
  {
   "cell_type": "markdown",
   "metadata": {
    "hidden": true
   },
   "source": [
    "$$ \\frac{\\partial}{\\partial w_j} \\frac{\\partial^2 N}{\\partial x_k^2} = x_j v w_k^2 \\sigma^{(3)} + 2 v w_k \\sigma'' \\quad\\text{ if } j = k $$\n",
    "\n",
    "$$ \\frac{\\partial}{\\partial w_j} \\frac{\\partial^2 N}{\\partial x_k^2} = x_j v w_k^2 \\sigma^{(3)} \\quad\\text{ if } j \\neq k $$"
   ]
  },
  {
   "cell_type": "code",
   "execution_count": 12,
   "metadata": {
    "code_folding": [],
    "hidden": true
   },
   "outputs": [],
   "source": [
    "def d_dwj_dN2_dxk2(x, y, p, j, k):\n",
    "    xj = x if j==0 else y\n",
    "    wk = p[0][k]\n",
    "    jk = 1 if j==k else 0\n",
    "    v = p[2]\n",
    "    z_ = z(x, y, p)\n",
    "    return xj * v * (wk**2) * sig3(z_) + jk * 2 * v * wk * sig2(z_)"
   ]
  },
  {
   "cell_type": "markdown",
   "metadata": {
    "hidden": true
   },
   "source": [
    "$$ \\frac{\\partial}{\\partial u} \\frac{\\partial^k}{\\partial x_j^k} N = v w_j^k \\sigma^{(k+1)} $$"
   ]
  },
  {
   "cell_type": "code",
   "execution_count": 13,
   "metadata": {
    "code_folding": [],
    "hidden": true
   },
   "outputs": [],
   "source": [
    "def d_du_dkN(x, y, p, j, k):\n",
    "    v = p[2]\n",
    "    wj = p[0][j]\n",
    "    z_ = z(x, y, p)\n",
    "    return v * (wj**k) * sig_pr(z_, k+1)"
   ]
  },
  {
   "cell_type": "markdown",
   "metadata": {
    "hidden": true
   },
   "source": [
    "$$ \\frac{\\partial}{\\partial v} \\frac{\\partial^k}{\\partial x_j^k} N = w_j^k \\sigma^{(k)} $$"
   ]
  },
  {
   "cell_type": "code",
   "execution_count": 14,
   "metadata": {
    "code_folding": [],
    "hidden": true
   },
   "outputs": [],
   "source": [
    "def d_dv_dkN(x, y, p, j, k):\n",
    "    wj = p[0][j]\n",
    "    z_ = z(x, y, p)\n",
    "    return (wj**k) * sig_pr(z_, k)"
   ]
  },
  {
   "cell_type": "markdown",
   "metadata": {
    "heading_collapsed": true,
    "hidden": true
   },
   "source": [
    "## Cost function"
   ]
  },
  {
   "cell_type": "markdown",
   "metadata": {
    "hidden": true
   },
   "source": [
    "$$E[\\vec{p}] = \\sum_{i \\in \\hat{D}} \\left\\{ \\frac{\\partial^2 N}{\\partial x^2} + \\frac{\\partial^2 N}{\\partial y^2} - f(x,y) \\right\\}^2 \n",
    "           +  \\sum_{i \\in \\partial \\hat{D}} N^2$$"
   ]
  },
  {
   "cell_type": "code",
   "execution_count": 15,
   "metadata": {
    "hidden": true
   },
   "outputs": [],
   "source": [
    "BC=1"
   ]
  },
  {
   "cell_type": "code",
   "execution_count": 16,
   "metadata": {
    "code_folding": [],
    "hidden": true
   },
   "outputs": [],
   "source": [
    "def error_term1(x, y, p):\n",
    "    return dN_dxj_k(x,y,p,0,2)  +  dN_dxj_k(x,y,p,1,2)  -  f(x,y)"
   ]
  },
  {
   "cell_type": "code",
   "execution_count": 17,
   "metadata": {
    "code_folding": [],
    "hidden": true
   },
   "outputs": [],
   "source": [
    "def cost(points, boundary_points, p):\n",
    "    et1 = []\n",
    "    et2 = []\n",
    "    for x, y in points:\n",
    "        err_sq = error_term1(x, y, p)**2\n",
    "        et1.append(err_sq)\n",
    "    \n",
    "    for x, y in boundary_points:\n",
    "        err_sq = N(x,y,p)**2\n",
    "        et2.append(err_sq)\n",
    "        \n",
    "    cost = sum(et1) + BC*sum(et2)\n",
    "    \n",
    "    return cost"
   ]
  },
  {
   "cell_type": "code",
   "execution_count": 18,
   "metadata": {
    "hidden": true
   },
   "outputs": [],
   "source": [
    "# def relative_err(all_points, p, dOmega):\n",
    "#     trial1 = np.sum(dOmega*np.array([np.linalg.norm(N(x,y,p) - psi_a(x,y))**2\n",
    "#                                      for x, y in all_points]))\n",
    "\n",
    "#     trial2 = np.sum([dOmega*((dN_dxj_k(x,y,p,0,1)-psi_a_dx(x,y))**2 +\n",
    "#                              (dN_dxj_k(x,y,p,1,1)-psi_a_dy(x,y))**2)\n",
    "#                      for x, y in all_points])\n",
    "\n",
    "#     ana1 = np.sum(dOmega*np.array([np.linalg.norm(psi_a(x,y))**2\n",
    "#                                          for x, y in all_points]))\n",
    "#     ana2 = np.sum([dOmega*(psi_a_dx(x,y)**2 + psi_a_dy(x,y)**2)\n",
    "#                    for x, y in all_points])\n",
    "    \n",
    "#     relative_err = (trial1 + trial2)**(1/2) / (ana1 + ana2)**(1/2)\n",
    "\n",
    "#     return relative_err\n",
    "\n",
    "# def relative_err(all_points, p, dOmega):\n",
    "#     #this abs error\n",
    "#     dx=0.3\n",
    "#     bx=0.1\n",
    "#     points, b_points = get_points(dx,bx)\n",
    "#     all_points = points + b_points\n",
    "#     abs_err = np.sum(np.array([np.linalg.norm(N(x,y,p) - psi_a(x,y))\n",
    "#                                      for x, y in all_points])) / len(all_points)\n",
    "#     return abs_err\n",
    "\n",
    "def relative_err(p, dx=0.3):\n",
    "    r = np.arange(np.pi, 2*np.pi+dx, dx)\n",
    "    th = np.arange(-np.pi, np.pi+dx, dx)\n",
    "    R, TH = np.meshgrid(r,th)\n",
    "\n",
    "    x = np.ravel(R*np.cos(TH))\n",
    "    y = np.ravel(R*np.sin(TH))\n",
    "    \n",
    "    all_points = list(zip(x,y))\n",
    "\n",
    "#     dOmega = area / len(all_points)\n",
    "    dOmega = 3 * np.pi**3 / len(all_points)\n",
    "\n",
    "    trial1 = np.sum(dOmega*np.array([np.linalg.norm(N(x,y,p) - psi_a(x,y))**2\n",
    "                                     for x, y in all_points]))\n",
    "\n",
    "    ana1 = np.sum(dOmega*np.array([np.linalg.norm(psi_a(x,y))**2\n",
    "                                         for x, y in all_points]))\n",
    "\n",
    "    rel_err = (trial1)**(1/2) / (ana1)**(1/2)\n",
    "    \n",
    "    return rel_err"
   ]
  },
  {
   "cell_type": "markdown",
   "metadata": {
    "heading_collapsed": true
   },
   "source": [
    "# Gradients"
   ]
  },
  {
   "cell_type": "markdown",
   "metadata": {
    "hidden": true
   },
   "source": [
    "$$ \\frac{\\partial E[\\vec{p}]}{\\partial w_j} = \\sum_{i \\in \\hat{D}} \\left\\{ 2 \\text{ (error_term1) } \\left( \\frac{\\partial}{\\partial w_j} \\frac{\\partial^2 N}{\\partial x^2} + \\frac{\\partial}{\\partial w_j} \\frac{\\partial^2 N}{\\partial y^2} \\right) \\right\\}  +  \\sum_{i \\in \\partial \\hat{D}} 2 N \\frac{\\partial N}{\\partial w_j}$$"
   ]
  },
  {
   "cell_type": "code",
   "execution_count": 19,
   "metadata": {
    "code_folding": [],
    "hidden": true
   },
   "outputs": [],
   "source": [
    "def dE_dwj(points, boundary_points, p, j):\n",
    "    t1 = []\n",
    "    t2 = []\n",
    "    for x, y in points:\n",
    "        tmp = 2 * error_term1(x,y,p) * (d_dwj_dN2_dxk2(x,y,p,j,0) + d_dwj_dN2_dxk2(x,y,p,j,1))\n",
    "        t1.append(tmp)\n",
    "        \n",
    "    for x, y in boundary_points:\n",
    "        tmp = 2 * N(x,y,p) * dN_dwj(x,y,p,j)\n",
    "        t2.append(tmp)\n",
    "    \n",
    "    grad = sum(t1) + BC*sum(t2)\n",
    "    \n",
    "    return grad"
   ]
  },
  {
   "cell_type": "markdown",
   "metadata": {
    "hidden": true
   },
   "source": [
    "$$ \\frac{\\partial E[\\vec{p}]}{\\partial u} = \\sum_{i \\in \\hat{D}} \\left\\{ 2 \\text{ (error_term1) } \\left( \\frac{\\partial}{\\partial u} \\frac{\\partial^2 N}{\\partial x^2} + \\frac{\\partial}{\\partial u} \\frac{\\partial^2 N}{\\partial y^2} \\right) \\right\\} +  \\sum_{i \\in \\partial \\hat{D}} 2 N \\frac{\\partial N}{\\partial u}$$"
   ]
  },
  {
   "cell_type": "code",
   "execution_count": 20,
   "metadata": {
    "code_folding": [],
    "hidden": true
   },
   "outputs": [],
   "source": [
    "def dE_du(points, boundary_points, p):\n",
    "    t1 = []\n",
    "    t2 = []\n",
    "    for x, y in points:\n",
    "        tmp = 2 * error_term1(x,y,p) * (d_du_dkN(x,y,p,0,2) + d_du_dkN(x,y,p,1,2))\n",
    "        t1.append(tmp)\n",
    "        \n",
    "    for x, y in boundary_points:\n",
    "        tmp = 2 * N(x,y,p) * d_du_dkN(x,y,p,0,0)\n",
    "        t2.append(tmp)\n",
    "    \n",
    "    grad = sum(t1) + BC*sum(t2)\n",
    "    \n",
    "    return grad"
   ]
  },
  {
   "cell_type": "markdown",
   "metadata": {
    "hidden": true
   },
   "source": [
    "$$ \\frac{\\partial E[\\vec{p}]}{\\partial v} = \\sum_{i \\in \\hat{D}} \\left\\{ 2 \\text{ (error_term1) } \\left( \\frac{\\partial}{\\partial v} \\frac{\\partial^2 N}{\\partial x^2} + \\frac{\\partial}{\\partial v} \\frac{\\partial^2 N}{\\partial y^2} \\right) \\right\\}  +  \\sum_{i \\in \\partial \\hat{D}} 2 N \\frac{\\partial N}{\\partial v}$$"
   ]
  },
  {
   "cell_type": "code",
   "execution_count": 21,
   "metadata": {
    "code_folding": [],
    "hidden": true
   },
   "outputs": [],
   "source": [
    "def dE_dv(points, boundary_points, p):\n",
    "    t1 = []\n",
    "    t2 = []\n",
    "    for x, y in points:\n",
    "        tmp = 2 * error_term1(x,y,p) * (d_dv_dkN(x,y,p,0,2) + d_dv_dkN(x,y,p,1,2))\n",
    "        t1.append(tmp)\n",
    "        \n",
    "    for x, y in boundary_points:\n",
    "        tmp = 2 * N(x,y,p) * d_dv_dkN(x,y,p,0,0)\n",
    "        t2.append(tmp)\n",
    "    \n",
    "    grad = sum(t1) + BC*sum(t2)\n",
    "    \n",
    "    return grad"
   ]
  },
  {
   "cell_type": "markdown",
   "metadata": {},
   "source": [
    "# NN class"
   ]
  },
  {
   "cell_type": "code",
   "execution_count": 22,
   "metadata": {
    "code_folding": [
     0
    ]
   },
   "outputs": [],
   "source": [
    "def get_points(dx,bx):\n",
    "    r = np.arange(np.pi, 2*np.pi+dx, dx)\n",
    "    th = np.arange(-np.pi, np.pi+dx, dx)\n",
    "    R, TH = np.meshgrid(r,th)\n",
    "\n",
    "    r_bound = np.array([np.pi, 2*np.pi])\n",
    "    th_bound = np.arange(-np.pi, np.pi+bx, bx)\n",
    "    R_bound, TH_bound = np.meshgrid(r_bound,th_bound)\n",
    "\n",
    "    x = np.ravel(R*np.cos(TH))\n",
    "    y = np.ravel(R*np.sin(TH))\n",
    "\n",
    "    x_bound = np.ravel(R_bound*np.cos(TH_bound))\n",
    "    y_bound = np.ravel(R_bound*np.sin(TH_bound))\n",
    "\n",
    "    boundary_points = list(zip(x_bound, y_bound))\n",
    "    points = [(a,b) for a, b in zip(x,y) if (a,b) not in boundary_points]\n",
    "\n",
    "    return points, boundary_points"
   ]
  },
  {
   "cell_type": "code",
   "execution_count": 23,
   "metadata": {
    "code_folding": [
     47,
     105
    ]
   },
   "outputs": [],
   "source": [
    "class NNTrain:\n",
    "    def __init__(self, dx=0.1, bx=0.08, hidden_nodes=10, alpha=0.01, \n",
    "                 beta_1=0.9, beta_2=0.999, epsilon=1e-8, update_interval=50,\n",
    "                 if_rel_err=False, output_file='output/output.csv'):\n",
    "        \n",
    "        self.output_file = output_file\n",
    "        self.training_started = False\n",
    "        self.hidden_nodes = hidden_nodes\n",
    "        self.alpha = alpha\n",
    "        self.beta_1 = beta_1\n",
    "        self.beta_2 = beta_2\n",
    "        self.epsilon = epsilon\n",
    "        self.update_interval = update_interval\n",
    "        self.points, self.boundary_points = get_points(dx,bx)\n",
    "        self.cost_rate = []\n",
    "        self.if_rel_err = if_rel_err\n",
    "        if self.if_rel_err:\n",
    "            self.rel_err = []\n",
    "        self.p = np.array([np.random.randn(2,hidden_nodes),\n",
    "                           np.random.randn(hidden_nodes),\n",
    "                           np.random.randn(hidden_nodes)])\n",
    "        self.m_t = np.array([np.zeros(hidden_nodes),\n",
    "                             np.zeros(hidden_nodes),\n",
    "                             np.zeros(hidden_nodes),\n",
    "                             np.zeros(hidden_nodes)])\n",
    "        self.v_t = np.array([np.zeros(hidden_nodes),\n",
    "                             np.zeros(hidden_nodes),\n",
    "                             np.zeros(hidden_nodes),\n",
    "                             np.zeros(hidden_nodes)])\n",
    "        self.if_continue = np.array([True, True, True, True])\n",
    "        \n",
    "        \n",
    "    def adam(self, t, w, g_t, theta_0):\n",
    "        self.m_t[w] = self.beta_1 * self.m_t[w] + (1-self.beta_1) * g_t\n",
    "        self.v_t[w] = self.beta_2 * self.v_t[w] + (1-self.beta_2) * (g_t * g_t)\n",
    "        \n",
    "        m_cap = self.m_t[w]/(1-(self.beta_1**t))\n",
    "        v_cap = self.v_t[w]/(1-(self.beta_2**t))\n",
    "        theta_0_prev = np.copy(theta_0)\n",
    "        theta_0 = theta_0 - (self.alpha*m_cap)/(np.sqrt(v_cap)+self.epsilon)\n",
    "        \n",
    "        if(np.all(theta_0 == theta_0_prev)):\n",
    "            self.if_continue[w] = False\n",
    "            \n",
    "        return theta_0\n",
    "        \n",
    "\n",
    "    def train(self, itr=1000):\n",
    "        if self.training_started:\n",
    "            mode='a'\n",
    "        else:\n",
    "            mode='w'\n",
    "        self.training_started=True\n",
    "        \n",
    "        with open(self.output_file, mode) as file:\n",
    "            if mode=='w':\n",
    "                if self.if_rel_err:\n",
    "                    file.write('Iteration,Cost,Cost Diff,Relative Error,Relative Error Diff\\n')\n",
    "                else:\n",
    "                    file.write('Iteration,Cost,Cost Diff\\n')\n",
    "            start=len(self.cost_rate)-1\n",
    "            if start<1:\n",
    "                start+=1\n",
    "                self.cost_rate.append(cost(self.points,self.boundary_points,self.p))\n",
    "                if self.if_rel_err:\n",
    "                    self.rel_err.append(relative_err(self.p, 0.4))\n",
    "\n",
    "            i = start\n",
    "            while i < start+itr:\n",
    "                if(not np.any(self.if_continue)):\n",
    "                    break\n",
    "                                    \n",
    "                #adam optimizer\n",
    "                g_w0 = dE_dwj(self.points, self.boundary_points, self.p, 0)\n",
    "                g_w1 = dE_dwj(self.points, self.boundary_points, self.p, 1)\n",
    "                g_u = dE_du(self.points, self.boundary_points, self.p)\n",
    "                g_v = dE_dv(self.points, self.boundary_points, self.p)\n",
    "                \n",
    "                if self.if_continue[0] :self.p[0][0] = self.adam(i+1, 0, g_w0, self.p[0][0])\n",
    "                if self.if_continue[1] :self.p[0][1] = self.adam(i+1, 1, g_w1, self.p[0][1])\n",
    "                if self.if_continue[2] :self.p[1] = self.adam(i+1, 2, g_u, self.p[1])\n",
    "                if self.if_continue[3] :self.p[2] = self.adam(i+1, 3, g_v, self.p[2])\n",
    "                \n",
    "                \n",
    "                self.cost_rate.append(cost(self.points,self.boundary_points,self.p))\n",
    "                cost_diff = self.cost_rate[i]-self.cost_rate[i+1]\n",
    "                if self.if_rel_err:\n",
    "                    self.rel_err.append(relative_err(self.p, 0.4))\n",
    "                    rel_diff = self.rel_err[i]-self.rel_err[i+1]\n",
    "\n",
    "                if self.if_rel_err:\n",
    "                    file.write('{},{:.8f},{:.8f},{:.8f},{:.8f}\\n'.format(\n",
    "                        i+1,self.cost_rate[i+1], cost_diff,\n",
    "                        self.rel_err[i+1], rel_diff))\n",
    "                else:\n",
    "                    file.write('{},{:.8f},{:.8f}\\n'.format(\n",
    "                        i+1,self.cost_rate[i+1],\n",
    "                        cost_diff))\n",
    "\n",
    "                if i%self.update_interval==0:\n",
    "                    file.flush()\n",
    "                    \n",
    "                i+=1\n",
    "                \n",
    "                \n",
    "    def save_result(self, output_name=''):\n",
    "        timestr = time.strftime(\"%Y%m%d-%H%M\")\n",
    "        np.savez('output/'+ timestr + '_' + output_name +'_nn_params.npz', self.p)\n",
    "        np.savez('output/'+ timestr + '_' + output_name +'_cost_rate.npz', self.cost_rate)\n",
    "        if self.if_rel_err:\n",
    "            np.savez('output/'+ timestr + '_' + output_name +'_rel_err.npz', self.rel_err)"
   ]
  },
  {
   "cell_type": "code",
   "execution_count": null,
   "metadata": {},
   "outputs": [],
   "source": []
  },
  {
   "cell_type": "markdown",
   "metadata": {
    "heading_collapsed": true
   },
   "source": [
    "# Graphs"
   ]
  },
  {
   "cell_type": "code",
   "execution_count": 24,
   "metadata": {
    "hidden": true
   },
   "outputs": [],
   "source": [
    "%matplotlib notebook\n",
    "%matplotlib notebook"
   ]
  },
  {
   "cell_type": "markdown",
   "metadata": {
    "heading_collapsed": true,
    "hidden": true
   },
   "source": [
    "## Hidden Nodes"
   ]
  },
  {
   "cell_type": "code",
   "execution_count": 25,
   "metadata": {
    "hidden": true
   },
   "outputs": [],
   "source": [
    "def plot_nodes(a, save_name=None, save=True, zlim=True):\n",
    "    p = a.p\n",
    "    hmax = a.p[0][0].shape[0]\n",
    "    col = int(np.sqrt(hmax)) if int(np.sqrt(hmax)) < 10 else 10\n",
    "    row = np.ceil(hmax / col)\n",
    "    \n",
    "    d_x=0.1\n",
    "\n",
    "    fig = plt.figure(figsize=(col*3, row*3), dpi=100)\n",
    "    for h in range(1,hmax+1):\n",
    "        ax = fig.add_subplot(row,col,h, projection='3d')\n",
    "        x = y = np.arange(0, 1+d_x, d_x)\n",
    "        X, Y = np.meshgrid(x, y)\n",
    "\n",
    "        zs = np.array([p[1][h-1]*sig(z(x,y,p))[h-1] for x,y in zip(np.ravel(X), np.ravel(Y))])\n",
    "        Z = zs.reshape(X.shape)\n",
    "\n",
    "        ax.set_xlabel('x')\n",
    "        ax.set_ylabel('y')\n",
    "        if zlim:\n",
    "            ax.set_zlim(0,1)\n",
    "\n",
    "        ax.plot_surface(X, Y, Z, cmap=cm.coolwarm)\n",
    "        ax.title.set_text('HN: ' + str(h) + ', v=' + \"{:.4E}\".format(p[1][h-1]))\n",
    "        time.sleep(0.2)\n",
    "\n",
    "    if save==True:\n",
    "        if save_name is None: \n",
    "            plt.savefig('t'+str(T)+'_h'+str(hmax)+'_n'+str(a.nx)+'.png')\n",
    "        else:\n",
    "            plt.savefig(save_name)\n",
    "    else:\n",
    "        plt.show()"
   ]
  },
  {
   "cell_type": "markdown",
   "metadata": {
    "heading_collapsed": true,
    "hidden": true
   },
   "source": [
    "## Error vs Iterations"
   ]
  },
  {
   "cell_type": "code",
   "execution_count": 26,
   "metadata": {
    "hidden": true
   },
   "outputs": [],
   "source": [
    "def plot_iteration(arr, min_it=0, max_it=None):\n",
    "    plt.figure()\n",
    "    plt.plot(np.arange(len(arr[min_it:max_it])), np.array(arr[min_it:max_it]))\n",
    "    plt.show()"
   ]
  },
  {
   "cell_type": "markdown",
   "metadata": {
    "heading_collapsed": true,
    "hidden": true
   },
   "source": [
    "## Solution Accuracy on the domain"
   ]
  },
  {
   "cell_type": "code",
   "execution_count": 27,
   "metadata": {
    "hidden": true
   },
   "outputs": [],
   "source": [
    "def accuracy(p):\n",
    "    d_x=0.01\n",
    "    fig = plt.figure()\n",
    "    ax = fig.add_subplot(111, projection='3d')\n",
    "    x = y = np.arange(0, 1.0+d_x, d_x)\n",
    "    X, Y = np.meshgrid(x, y)\n",
    "\n",
    "    zs = np.array([psi_a(x,y)-psi_t(x,y,p) for x,y in zip(np.ravel(X), np.ravel(Y))])\n",
    "    Z = zs.reshape(X.shape)\n",
    "\n",
    "    ax.plot_surface(X, Y, Z, cmap=cm.coolwarm_r)\n",
    "    # ax.ticklabel_format(style='sci', axis='z', scilimits=(0,0), useOffset=True, useMathText=True)\n",
    "\n",
    "\n",
    "    ax.set_xlabel('x')\n",
    "    ax.set_ylabel('y')\n",
    "#     ax.set_zlabel('Accuracy')\n",
    "\n",
    "\n",
    "    plt.show()"
   ]
  },
  {
   "cell_type": "code",
   "execution_count": 28,
   "metadata": {
    "hidden": true
   },
   "outputs": [],
   "source": [
    "def plot_fun(fun, title=None, return_ax=False, xlim=None, ylim=None, zlim=None, **kwargs):\n",
    "    dx=0.1\n",
    "\n",
    "    fig = plt.figure()\n",
    "    ax = fig.add_subplot(111, projection='3d')\n",
    "    \n",
    "    r = np.arange(np.pi, 2*np.pi+dx, dx)\n",
    "    th = np.arange(-np.pi, np.pi+dx, dx)\n",
    "    R, TH = np.meshgrid(r,th)\n",
    "    X = R*np.cos(TH)\n",
    "    Y = R*np.sin(TH)\n",
    "\n",
    "    zs = np.array([fun(x,y,**kwargs) for x,y in zip(np.ravel(X), np.ravel(Y))])\n",
    "    Z = zs.reshape(X.shape)\n",
    "\n",
    "    ax.plot_surface(X, Y, Z, cmap=cm.coolwarm_r)\n",
    "\n",
    "    ax.set_xlabel('x')\n",
    "    ax.set_ylabel('y')\n",
    "    ax.title.set_text(title)\n",
    "    \n",
    "    if xlim:\n",
    "        ax.set_xlim(xlim[0], xlim[1])\n",
    "    if ylim:\n",
    "        ax.set_ylim(ylim[0], ylim[1])\n",
    "    if zlim:\n",
    "        ax.set_zlim(zlim[0], zlim[1])\n",
    "\n",
    "    if return_ax:\n",
    "        return ax\n",
    "    else:\n",
    "        plt.show()"
   ]
  },
  {
   "cell_type": "code",
   "execution_count": null,
   "metadata": {
    "hidden": true
   },
   "outputs": [],
   "source": []
  },
  {
   "cell_type": "markdown",
   "metadata": {},
   "source": [
    "# Training"
   ]
  },
  {
   "cell_type": "markdown",
   "metadata": {},
   "source": [
    "Meta training"
   ]
  },
  {
   "cell_type": "code",
   "execution_count": 29,
   "metadata": {},
   "outputs": [],
   "source": [
    "a = NNTrain(dx=0.1,bx=0.01, hidden_nodes=50, alpha=0.01, update_interval=10, if_rel_err=False, output_file='out/out7.csv')"
   ]
  },
  {
   "cell_type": "code",
   "execution_count": 52,
   "metadata": {},
   "outputs": [],
   "source": [
    "BC=1\n",
    "a.alpha=0.001\n",
    "a.train(100)"
   ]
  },
  {
   "cell_type": "code",
   "execution_count": null,
   "metadata": {},
   "outputs": [],
   "source": [
    "thresh=1e-4\n",
    "for i in range(10000):\n",
    "    if a.alpha < 1e-6:\n",
    "        break\n",
    "    if np.mean([np.absolute(s-t) for s, t in zip(a.cost_rate[-21:], a.cost_rate[-20:])]) < thresh:\n",
    "        BC=BC*10\n",
    "        a.alpha=a.alpha/10\n",
    "    a.train(100)"
   ]
  },
  {
   "cell_type": "markdown",
   "metadata": {},
   "source": [
    "Etc"
   ]
  },
  {
   "cell_type": "code",
   "execution_count": 51,
   "metadata": {},
   "outputs": [
    {
     "data": {
      "text/plain": [
       "1"
      ]
     },
     "execution_count": 51,
     "metadata": {},
     "output_type": "execute_result"
    }
   ],
   "source": [
    "BC"
   ]
  },
  {
   "cell_type": "code",
   "execution_count": 50,
   "metadata": {},
   "outputs": [
    {
     "data": {
      "text/plain": [
       "0.01"
      ]
     },
     "execution_count": 50,
     "metadata": {},
     "output_type": "execute_result"
    }
   ],
   "source": [
    "a.alpha"
   ]
  },
  {
   "cell_type": "code",
   "execution_count": 49,
   "metadata": {},
   "outputs": [
    {
     "data": {
      "application/javascript": [
       "/* Put everything inside the global mpl namespace */\n",
       "window.mpl = {};\n",
       "\n",
       "\n",
       "mpl.get_websocket_type = function() {\n",
       "    if (typeof(WebSocket) !== 'undefined') {\n",
       "        return WebSocket;\n",
       "    } else if (typeof(MozWebSocket) !== 'undefined') {\n",
       "        return MozWebSocket;\n",
       "    } else {\n",
       "        alert('Your browser does not have WebSocket support.' +\n",
       "              'Please try Chrome, Safari or Firefox ≥ 6. ' +\n",
       "              'Firefox 4 and 5 are also supported but you ' +\n",
       "              'have to enable WebSockets in about:config.');\n",
       "    };\n",
       "}\n",
       "\n",
       "mpl.figure = function(figure_id, websocket, ondownload, parent_element) {\n",
       "    this.id = figure_id;\n",
       "\n",
       "    this.ws = websocket;\n",
       "\n",
       "    this.supports_binary = (this.ws.binaryType != undefined);\n",
       "\n",
       "    if (!this.supports_binary) {\n",
       "        var warnings = document.getElementById(\"mpl-warnings\");\n",
       "        if (warnings) {\n",
       "            warnings.style.display = 'block';\n",
       "            warnings.textContent = (\n",
       "                \"This browser does not support binary websocket messages. \" +\n",
       "                    \"Performance may be slow.\");\n",
       "        }\n",
       "    }\n",
       "\n",
       "    this.imageObj = new Image();\n",
       "\n",
       "    this.context = undefined;\n",
       "    this.message = undefined;\n",
       "    this.canvas = undefined;\n",
       "    this.rubberband_canvas = undefined;\n",
       "    this.rubberband_context = undefined;\n",
       "    this.format_dropdown = undefined;\n",
       "\n",
       "    this.image_mode = 'full';\n",
       "\n",
       "    this.root = $('<div/>');\n",
       "    this._root_extra_style(this.root)\n",
       "    this.root.attr('style', 'display: inline-block');\n",
       "\n",
       "    $(parent_element).append(this.root);\n",
       "\n",
       "    this._init_header(this);\n",
       "    this._init_canvas(this);\n",
       "    this._init_toolbar(this);\n",
       "\n",
       "    var fig = this;\n",
       "\n",
       "    this.waiting = false;\n",
       "\n",
       "    this.ws.onopen =  function () {\n",
       "            fig.send_message(\"supports_binary\", {value: fig.supports_binary});\n",
       "            fig.send_message(\"send_image_mode\", {});\n",
       "            if (mpl.ratio != 1) {\n",
       "                fig.send_message(\"set_dpi_ratio\", {'dpi_ratio': mpl.ratio});\n",
       "            }\n",
       "            fig.send_message(\"refresh\", {});\n",
       "        }\n",
       "\n",
       "    this.imageObj.onload = function() {\n",
       "            if (fig.image_mode == 'full') {\n",
       "                // Full images could contain transparency (where diff images\n",
       "                // almost always do), so we need to clear the canvas so that\n",
       "                // there is no ghosting.\n",
       "                fig.context.clearRect(0, 0, fig.canvas.width, fig.canvas.height);\n",
       "            }\n",
       "            fig.context.drawImage(fig.imageObj, 0, 0);\n",
       "        };\n",
       "\n",
       "    this.imageObj.onunload = function() {\n",
       "        fig.ws.close();\n",
       "    }\n",
       "\n",
       "    this.ws.onmessage = this._make_on_message_function(this);\n",
       "\n",
       "    this.ondownload = ondownload;\n",
       "}\n",
       "\n",
       "mpl.figure.prototype._init_header = function() {\n",
       "    var titlebar = $(\n",
       "        '<div class=\"ui-dialog-titlebar ui-widget-header ui-corner-all ' +\n",
       "        'ui-helper-clearfix\"/>');\n",
       "    var titletext = $(\n",
       "        '<div class=\"ui-dialog-title\" style=\"width: 100%; ' +\n",
       "        'text-align: center; padding: 3px;\"/>');\n",
       "    titlebar.append(titletext)\n",
       "    this.root.append(titlebar);\n",
       "    this.header = titletext[0];\n",
       "}\n",
       "\n",
       "\n",
       "\n",
       "mpl.figure.prototype._canvas_extra_style = function(canvas_div) {\n",
       "\n",
       "}\n",
       "\n",
       "\n",
       "mpl.figure.prototype._root_extra_style = function(canvas_div) {\n",
       "\n",
       "}\n",
       "\n",
       "mpl.figure.prototype._init_canvas = function() {\n",
       "    var fig = this;\n",
       "\n",
       "    var canvas_div = $('<div/>');\n",
       "\n",
       "    canvas_div.attr('style', 'position: relative; clear: both; outline: 0');\n",
       "\n",
       "    function canvas_keyboard_event(event) {\n",
       "        return fig.key_event(event, event['data']);\n",
       "    }\n",
       "\n",
       "    canvas_div.keydown('key_press', canvas_keyboard_event);\n",
       "    canvas_div.keyup('key_release', canvas_keyboard_event);\n",
       "    this.canvas_div = canvas_div\n",
       "    this._canvas_extra_style(canvas_div)\n",
       "    this.root.append(canvas_div);\n",
       "\n",
       "    var canvas = $('<canvas/>');\n",
       "    canvas.addClass('mpl-canvas');\n",
       "    canvas.attr('style', \"left: 0; top: 0; z-index: 0; outline: 0\")\n",
       "\n",
       "    this.canvas = canvas[0];\n",
       "    this.context = canvas[0].getContext(\"2d\");\n",
       "\n",
       "    var backingStore = this.context.backingStorePixelRatio ||\n",
       "\tthis.context.webkitBackingStorePixelRatio ||\n",
       "\tthis.context.mozBackingStorePixelRatio ||\n",
       "\tthis.context.msBackingStorePixelRatio ||\n",
       "\tthis.context.oBackingStorePixelRatio ||\n",
       "\tthis.context.backingStorePixelRatio || 1;\n",
       "\n",
       "    mpl.ratio = (window.devicePixelRatio || 1) / backingStore;\n",
       "\n",
       "    var rubberband = $('<canvas/>');\n",
       "    rubberband.attr('style', \"position: absolute; left: 0; top: 0; z-index: 1;\")\n",
       "\n",
       "    var pass_mouse_events = true;\n",
       "\n",
       "    canvas_div.resizable({\n",
       "        start: function(event, ui) {\n",
       "            pass_mouse_events = false;\n",
       "        },\n",
       "        resize: function(event, ui) {\n",
       "            fig.request_resize(ui.size.width, ui.size.height);\n",
       "        },\n",
       "        stop: function(event, ui) {\n",
       "            pass_mouse_events = true;\n",
       "            fig.request_resize(ui.size.width, ui.size.height);\n",
       "        },\n",
       "    });\n",
       "\n",
       "    function mouse_event_fn(event) {\n",
       "        if (pass_mouse_events)\n",
       "            return fig.mouse_event(event, event['data']);\n",
       "    }\n",
       "\n",
       "    rubberband.mousedown('button_press', mouse_event_fn);\n",
       "    rubberband.mouseup('button_release', mouse_event_fn);\n",
       "    // Throttle sequential mouse events to 1 every 20ms.\n",
       "    rubberband.mousemove('motion_notify', mouse_event_fn);\n",
       "\n",
       "    rubberband.mouseenter('figure_enter', mouse_event_fn);\n",
       "    rubberband.mouseleave('figure_leave', mouse_event_fn);\n",
       "\n",
       "    canvas_div.on(\"wheel\", function (event) {\n",
       "        event = event.originalEvent;\n",
       "        event['data'] = 'scroll'\n",
       "        if (event.deltaY < 0) {\n",
       "            event.step = 1;\n",
       "        } else {\n",
       "            event.step = -1;\n",
       "        }\n",
       "        mouse_event_fn(event);\n",
       "    });\n",
       "\n",
       "    canvas_div.append(canvas);\n",
       "    canvas_div.append(rubberband);\n",
       "\n",
       "    this.rubberband = rubberband;\n",
       "    this.rubberband_canvas = rubberband[0];\n",
       "    this.rubberband_context = rubberband[0].getContext(\"2d\");\n",
       "    this.rubberband_context.strokeStyle = \"#000000\";\n",
       "\n",
       "    this._resize_canvas = function(width, height) {\n",
       "        // Keep the size of the canvas, canvas container, and rubber band\n",
       "        // canvas in synch.\n",
       "        canvas_div.css('width', width)\n",
       "        canvas_div.css('height', height)\n",
       "\n",
       "        canvas.attr('width', width * mpl.ratio);\n",
       "        canvas.attr('height', height * mpl.ratio);\n",
       "        canvas.attr('style', 'width: ' + width + 'px; height: ' + height + 'px;');\n",
       "\n",
       "        rubberband.attr('width', width);\n",
       "        rubberband.attr('height', height);\n",
       "    }\n",
       "\n",
       "    // Set the figure to an initial 600x600px, this will subsequently be updated\n",
       "    // upon first draw.\n",
       "    this._resize_canvas(600, 600);\n",
       "\n",
       "    // Disable right mouse context menu.\n",
       "    $(this.rubberband_canvas).bind(\"contextmenu\",function(e){\n",
       "        return false;\n",
       "    });\n",
       "\n",
       "    function set_focus () {\n",
       "        canvas.focus();\n",
       "        canvas_div.focus();\n",
       "    }\n",
       "\n",
       "    window.setTimeout(set_focus, 100);\n",
       "}\n",
       "\n",
       "mpl.figure.prototype._init_toolbar = function() {\n",
       "    var fig = this;\n",
       "\n",
       "    var nav_element = $('<div/>')\n",
       "    nav_element.attr('style', 'width: 100%');\n",
       "    this.root.append(nav_element);\n",
       "\n",
       "    // Define a callback function for later on.\n",
       "    function toolbar_event(event) {\n",
       "        return fig.toolbar_button_onclick(event['data']);\n",
       "    }\n",
       "    function toolbar_mouse_event(event) {\n",
       "        return fig.toolbar_button_onmouseover(event['data']);\n",
       "    }\n",
       "\n",
       "    for(var toolbar_ind in mpl.toolbar_items) {\n",
       "        var name = mpl.toolbar_items[toolbar_ind][0];\n",
       "        var tooltip = mpl.toolbar_items[toolbar_ind][1];\n",
       "        var image = mpl.toolbar_items[toolbar_ind][2];\n",
       "        var method_name = mpl.toolbar_items[toolbar_ind][3];\n",
       "\n",
       "        if (!name) {\n",
       "            // put a spacer in here.\n",
       "            continue;\n",
       "        }\n",
       "        var button = $('<button/>');\n",
       "        button.addClass('ui-button ui-widget ui-state-default ui-corner-all ' +\n",
       "                        'ui-button-icon-only');\n",
       "        button.attr('role', 'button');\n",
       "        button.attr('aria-disabled', 'false');\n",
       "        button.click(method_name, toolbar_event);\n",
       "        button.mouseover(tooltip, toolbar_mouse_event);\n",
       "\n",
       "        var icon_img = $('<span/>');\n",
       "        icon_img.addClass('ui-button-icon-primary ui-icon');\n",
       "        icon_img.addClass(image);\n",
       "        icon_img.addClass('ui-corner-all');\n",
       "\n",
       "        var tooltip_span = $('<span/>');\n",
       "        tooltip_span.addClass('ui-button-text');\n",
       "        tooltip_span.html(tooltip);\n",
       "\n",
       "        button.append(icon_img);\n",
       "        button.append(tooltip_span);\n",
       "\n",
       "        nav_element.append(button);\n",
       "    }\n",
       "\n",
       "    var fmt_picker_span = $('<span/>');\n",
       "\n",
       "    var fmt_picker = $('<select/>');\n",
       "    fmt_picker.addClass('mpl-toolbar-option ui-widget ui-widget-content');\n",
       "    fmt_picker_span.append(fmt_picker);\n",
       "    nav_element.append(fmt_picker_span);\n",
       "    this.format_dropdown = fmt_picker[0];\n",
       "\n",
       "    for (var ind in mpl.extensions) {\n",
       "        var fmt = mpl.extensions[ind];\n",
       "        var option = $(\n",
       "            '<option/>', {selected: fmt === mpl.default_extension}).html(fmt);\n",
       "        fmt_picker.append(option)\n",
       "    }\n",
       "\n",
       "    // Add hover states to the ui-buttons\n",
       "    $( \".ui-button\" ).hover(\n",
       "        function() { $(this).addClass(\"ui-state-hover\");},\n",
       "        function() { $(this).removeClass(\"ui-state-hover\");}\n",
       "    );\n",
       "\n",
       "    var status_bar = $('<span class=\"mpl-message\"/>');\n",
       "    nav_element.append(status_bar);\n",
       "    this.message = status_bar[0];\n",
       "}\n",
       "\n",
       "mpl.figure.prototype.request_resize = function(x_pixels, y_pixels) {\n",
       "    // Request matplotlib to resize the figure. Matplotlib will then trigger a resize in the client,\n",
       "    // which will in turn request a refresh of the image.\n",
       "    this.send_message('resize', {'width': x_pixels, 'height': y_pixels});\n",
       "}\n",
       "\n",
       "mpl.figure.prototype.send_message = function(type, properties) {\n",
       "    properties['type'] = type;\n",
       "    properties['figure_id'] = this.id;\n",
       "    this.ws.send(JSON.stringify(properties));\n",
       "}\n",
       "\n",
       "mpl.figure.prototype.send_draw_message = function() {\n",
       "    if (!this.waiting) {\n",
       "        this.waiting = true;\n",
       "        this.ws.send(JSON.stringify({type: \"draw\", figure_id: this.id}));\n",
       "    }\n",
       "}\n",
       "\n",
       "\n",
       "mpl.figure.prototype.handle_save = function(fig, msg) {\n",
       "    var format_dropdown = fig.format_dropdown;\n",
       "    var format = format_dropdown.options[format_dropdown.selectedIndex].value;\n",
       "    fig.ondownload(fig, format);\n",
       "}\n",
       "\n",
       "\n",
       "mpl.figure.prototype.handle_resize = function(fig, msg) {\n",
       "    var size = msg['size'];\n",
       "    if (size[0] != fig.canvas.width || size[1] != fig.canvas.height) {\n",
       "        fig._resize_canvas(size[0], size[1]);\n",
       "        fig.send_message(\"refresh\", {});\n",
       "    };\n",
       "}\n",
       "\n",
       "mpl.figure.prototype.handle_rubberband = function(fig, msg) {\n",
       "    var x0 = msg['x0'] / mpl.ratio;\n",
       "    var y0 = (fig.canvas.height - msg['y0']) / mpl.ratio;\n",
       "    var x1 = msg['x1'] / mpl.ratio;\n",
       "    var y1 = (fig.canvas.height - msg['y1']) / mpl.ratio;\n",
       "    x0 = Math.floor(x0) + 0.5;\n",
       "    y0 = Math.floor(y0) + 0.5;\n",
       "    x1 = Math.floor(x1) + 0.5;\n",
       "    y1 = Math.floor(y1) + 0.5;\n",
       "    var min_x = Math.min(x0, x1);\n",
       "    var min_y = Math.min(y0, y1);\n",
       "    var width = Math.abs(x1 - x0);\n",
       "    var height = Math.abs(y1 - y0);\n",
       "\n",
       "    fig.rubberband_context.clearRect(\n",
       "        0, 0, fig.canvas.width, fig.canvas.height);\n",
       "\n",
       "    fig.rubberband_context.strokeRect(min_x, min_y, width, height);\n",
       "}\n",
       "\n",
       "mpl.figure.prototype.handle_figure_label = function(fig, msg) {\n",
       "    // Updates the figure title.\n",
       "    fig.header.textContent = msg['label'];\n",
       "}\n",
       "\n",
       "mpl.figure.prototype.handle_cursor = function(fig, msg) {\n",
       "    var cursor = msg['cursor'];\n",
       "    switch(cursor)\n",
       "    {\n",
       "    case 0:\n",
       "        cursor = 'pointer';\n",
       "        break;\n",
       "    case 1:\n",
       "        cursor = 'default';\n",
       "        break;\n",
       "    case 2:\n",
       "        cursor = 'crosshair';\n",
       "        break;\n",
       "    case 3:\n",
       "        cursor = 'move';\n",
       "        break;\n",
       "    }\n",
       "    fig.rubberband_canvas.style.cursor = cursor;\n",
       "}\n",
       "\n",
       "mpl.figure.prototype.handle_message = function(fig, msg) {\n",
       "    fig.message.textContent = msg['message'];\n",
       "}\n",
       "\n",
       "mpl.figure.prototype.handle_draw = function(fig, msg) {\n",
       "    // Request the server to send over a new figure.\n",
       "    fig.send_draw_message();\n",
       "}\n",
       "\n",
       "mpl.figure.prototype.handle_image_mode = function(fig, msg) {\n",
       "    fig.image_mode = msg['mode'];\n",
       "}\n",
       "\n",
       "mpl.figure.prototype.updated_canvas_event = function() {\n",
       "    // Called whenever the canvas gets updated.\n",
       "    this.send_message(\"ack\", {});\n",
       "}\n",
       "\n",
       "// A function to construct a web socket function for onmessage handling.\n",
       "// Called in the figure constructor.\n",
       "mpl.figure.prototype._make_on_message_function = function(fig) {\n",
       "    return function socket_on_message(evt) {\n",
       "        if (evt.data instanceof Blob) {\n",
       "            /* FIXME: We get \"Resource interpreted as Image but\n",
       "             * transferred with MIME type text/plain:\" errors on\n",
       "             * Chrome.  But how to set the MIME type?  It doesn't seem\n",
       "             * to be part of the websocket stream */\n",
       "            evt.data.type = \"image/png\";\n",
       "\n",
       "            /* Free the memory for the previous frames */\n",
       "            if (fig.imageObj.src) {\n",
       "                (window.URL || window.webkitURL).revokeObjectURL(\n",
       "                    fig.imageObj.src);\n",
       "            }\n",
       "\n",
       "            fig.imageObj.src = (window.URL || window.webkitURL).createObjectURL(\n",
       "                evt.data);\n",
       "            fig.updated_canvas_event();\n",
       "            fig.waiting = false;\n",
       "            return;\n",
       "        }\n",
       "        else if (typeof evt.data === 'string' && evt.data.slice(0, 21) == \"data:image/png;base64\") {\n",
       "            fig.imageObj.src = evt.data;\n",
       "            fig.updated_canvas_event();\n",
       "            fig.waiting = false;\n",
       "            return;\n",
       "        }\n",
       "\n",
       "        var msg = JSON.parse(evt.data);\n",
       "        var msg_type = msg['type'];\n",
       "\n",
       "        // Call the  \"handle_{type}\" callback, which takes\n",
       "        // the figure and JSON message as its only arguments.\n",
       "        try {\n",
       "            var callback = fig[\"handle_\" + msg_type];\n",
       "        } catch (e) {\n",
       "            console.log(\"No handler for the '\" + msg_type + \"' message type: \", msg);\n",
       "            return;\n",
       "        }\n",
       "\n",
       "        if (callback) {\n",
       "            try {\n",
       "                // console.log(\"Handling '\" + msg_type + \"' message: \", msg);\n",
       "                callback(fig, msg);\n",
       "            } catch (e) {\n",
       "                console.log(\"Exception inside the 'handler_\" + msg_type + \"' callback:\", e, e.stack, msg);\n",
       "            }\n",
       "        }\n",
       "    };\n",
       "}\n",
       "\n",
       "// from http://stackoverflow.com/questions/1114465/getting-mouse-location-in-canvas\n",
       "mpl.findpos = function(e) {\n",
       "    //this section is from http://www.quirksmode.org/js/events_properties.html\n",
       "    var targ;\n",
       "    if (!e)\n",
       "        e = window.event;\n",
       "    if (e.target)\n",
       "        targ = e.target;\n",
       "    else if (e.srcElement)\n",
       "        targ = e.srcElement;\n",
       "    if (targ.nodeType == 3) // defeat Safari bug\n",
       "        targ = targ.parentNode;\n",
       "\n",
       "    // jQuery normalizes the pageX and pageY\n",
       "    // pageX,Y are the mouse positions relative to the document\n",
       "    // offset() returns the position of the element relative to the document\n",
       "    var x = e.pageX - $(targ).offset().left;\n",
       "    var y = e.pageY - $(targ).offset().top;\n",
       "\n",
       "    return {\"x\": x, \"y\": y};\n",
       "};\n",
       "\n",
       "/*\n",
       " * return a copy of an object with only non-object keys\n",
       " * we need this to avoid circular references\n",
       " * http://stackoverflow.com/a/24161582/3208463\n",
       " */\n",
       "function simpleKeys (original) {\n",
       "  return Object.keys(original).reduce(function (obj, key) {\n",
       "    if (typeof original[key] !== 'object')\n",
       "        obj[key] = original[key]\n",
       "    return obj;\n",
       "  }, {});\n",
       "}\n",
       "\n",
       "mpl.figure.prototype.mouse_event = function(event, name) {\n",
       "    var canvas_pos = mpl.findpos(event)\n",
       "\n",
       "    if (name === 'button_press')\n",
       "    {\n",
       "        this.canvas.focus();\n",
       "        this.canvas_div.focus();\n",
       "    }\n",
       "\n",
       "    var x = canvas_pos.x * mpl.ratio;\n",
       "    var y = canvas_pos.y * mpl.ratio;\n",
       "\n",
       "    this.send_message(name, {x: x, y: y, button: event.button,\n",
       "                             step: event.step,\n",
       "                             guiEvent: simpleKeys(event)});\n",
       "\n",
       "    /* This prevents the web browser from automatically changing to\n",
       "     * the text insertion cursor when the button is pressed.  We want\n",
       "     * to control all of the cursor setting manually through the\n",
       "     * 'cursor' event from matplotlib */\n",
       "    event.preventDefault();\n",
       "    return false;\n",
       "}\n",
       "\n",
       "mpl.figure.prototype._key_event_extra = function(event, name) {\n",
       "    // Handle any extra behaviour associated with a key event\n",
       "}\n",
       "\n",
       "mpl.figure.prototype.key_event = function(event, name) {\n",
       "\n",
       "    // Prevent repeat events\n",
       "    if (name == 'key_press')\n",
       "    {\n",
       "        if (event.which === this._key)\n",
       "            return;\n",
       "        else\n",
       "            this._key = event.which;\n",
       "    }\n",
       "    if (name == 'key_release')\n",
       "        this._key = null;\n",
       "\n",
       "    var value = '';\n",
       "    if (event.ctrlKey && event.which != 17)\n",
       "        value += \"ctrl+\";\n",
       "    if (event.altKey && event.which != 18)\n",
       "        value += \"alt+\";\n",
       "    if (event.shiftKey && event.which != 16)\n",
       "        value += \"shift+\";\n",
       "\n",
       "    value += 'k';\n",
       "    value += event.which.toString();\n",
       "\n",
       "    this._key_event_extra(event, name);\n",
       "\n",
       "    this.send_message(name, {key: value,\n",
       "                             guiEvent: simpleKeys(event)});\n",
       "    return false;\n",
       "}\n",
       "\n",
       "mpl.figure.prototype.toolbar_button_onclick = function(name) {\n",
       "    if (name == 'download') {\n",
       "        this.handle_save(this, null);\n",
       "    } else {\n",
       "        this.send_message(\"toolbar_button\", {name: name});\n",
       "    }\n",
       "};\n",
       "\n",
       "mpl.figure.prototype.toolbar_button_onmouseover = function(tooltip) {\n",
       "    this.message.textContent = tooltip;\n",
       "};\n",
       "mpl.toolbar_items = [[\"Home\", \"Reset original view\", \"fa fa-home icon-home\", \"home\"], [\"Back\", \"Back to previous view\", \"fa fa-arrow-left icon-arrow-left\", \"back\"], [\"Forward\", \"Forward to next view\", \"fa fa-arrow-right icon-arrow-right\", \"forward\"], [\"\", \"\", \"\", \"\"], [\"Pan\", \"Pan axes with left mouse, zoom with right\", \"fa fa-arrows icon-move\", \"pan\"], [\"Zoom\", \"Zoom to rectangle\", \"fa fa-square-o icon-check-empty\", \"zoom\"], [\"\", \"\", \"\", \"\"], [\"Download\", \"Download plot\", \"fa fa-floppy-o icon-save\", \"download\"]];\n",
       "\n",
       "mpl.extensions = [\"eps\", \"jpeg\", \"pdf\", \"png\", \"ps\", \"raw\", \"svg\", \"tif\"];\n",
       "\n",
       "mpl.default_extension = \"png\";var comm_websocket_adapter = function(comm) {\n",
       "    // Create a \"websocket\"-like object which calls the given IPython comm\n",
       "    // object with the appropriate methods. Currently this is a non binary\n",
       "    // socket, so there is still some room for performance tuning.\n",
       "    var ws = {};\n",
       "\n",
       "    ws.close = function() {\n",
       "        comm.close()\n",
       "    };\n",
       "    ws.send = function(m) {\n",
       "        //console.log('sending', m);\n",
       "        comm.send(m);\n",
       "    };\n",
       "    // Register the callback with on_msg.\n",
       "    comm.on_msg(function(msg) {\n",
       "        //console.log('receiving', msg['content']['data'], msg);\n",
       "        // Pass the mpl event to the overridden (by mpl) onmessage function.\n",
       "        ws.onmessage(msg['content']['data'])\n",
       "    });\n",
       "    return ws;\n",
       "}\n",
       "\n",
       "mpl.mpl_figure_comm = function(comm, msg) {\n",
       "    // This is the function which gets called when the mpl process\n",
       "    // starts-up an IPython Comm through the \"matplotlib\" channel.\n",
       "\n",
       "    var id = msg.content.data.id;\n",
       "    // Get hold of the div created by the display call when the Comm\n",
       "    // socket was opened in Python.\n",
       "    var element = $(\"#\" + id);\n",
       "    var ws_proxy = comm_websocket_adapter(comm)\n",
       "\n",
       "    function ondownload(figure, format) {\n",
       "        window.open(figure.imageObj.src);\n",
       "    }\n",
       "\n",
       "    var fig = new mpl.figure(id, ws_proxy,\n",
       "                           ondownload,\n",
       "                           element.get(0));\n",
       "\n",
       "    // Call onopen now - mpl needs it, as it is assuming we've passed it a real\n",
       "    // web socket which is closed, not our websocket->open comm proxy.\n",
       "    ws_proxy.onopen();\n",
       "\n",
       "    fig.parent_element = element.get(0);\n",
       "    fig.cell_info = mpl.find_output_cell(\"<div id='\" + id + \"'></div>\");\n",
       "    if (!fig.cell_info) {\n",
       "        console.error(\"Failed to find cell for figure\", id, fig);\n",
       "        return;\n",
       "    }\n",
       "\n",
       "    var output_index = fig.cell_info[2]\n",
       "    var cell = fig.cell_info[0];\n",
       "\n",
       "};\n",
       "\n",
       "mpl.figure.prototype.handle_close = function(fig, msg) {\n",
       "    var width = fig.canvas.width/mpl.ratio\n",
       "    fig.root.unbind('remove')\n",
       "\n",
       "    // Update the output cell to use the data from the current canvas.\n",
       "    fig.push_to_output();\n",
       "    var dataURL = fig.canvas.toDataURL();\n",
       "    // Re-enable the keyboard manager in IPython - without this line, in FF,\n",
       "    // the notebook keyboard shortcuts fail.\n",
       "    IPython.keyboard_manager.enable()\n",
       "    $(fig.parent_element).html('<img src=\"' + dataURL + '\" width=\"' + width + '\">');\n",
       "    fig.close_ws(fig, msg);\n",
       "}\n",
       "\n",
       "mpl.figure.prototype.close_ws = function(fig, msg){\n",
       "    fig.send_message('closing', msg);\n",
       "    // fig.ws.close()\n",
       "}\n",
       "\n",
       "mpl.figure.prototype.push_to_output = function(remove_interactive) {\n",
       "    // Turn the data on the canvas into data in the output cell.\n",
       "    var width = this.canvas.width/mpl.ratio\n",
       "    var dataURL = this.canvas.toDataURL();\n",
       "    this.cell_info[1]['text/html'] = '<img src=\"' + dataURL + '\" width=\"' + width + '\">';\n",
       "}\n",
       "\n",
       "mpl.figure.prototype.updated_canvas_event = function() {\n",
       "    // Tell IPython that the notebook contents must change.\n",
       "    IPython.notebook.set_dirty(true);\n",
       "    this.send_message(\"ack\", {});\n",
       "    var fig = this;\n",
       "    // Wait a second, then push the new image to the DOM so\n",
       "    // that it is saved nicely (might be nice to debounce this).\n",
       "    setTimeout(function () { fig.push_to_output() }, 1000);\n",
       "}\n",
       "\n",
       "mpl.figure.prototype._init_toolbar = function() {\n",
       "    var fig = this;\n",
       "\n",
       "    var nav_element = $('<div/>')\n",
       "    nav_element.attr('style', 'width: 100%');\n",
       "    this.root.append(nav_element);\n",
       "\n",
       "    // Define a callback function for later on.\n",
       "    function toolbar_event(event) {\n",
       "        return fig.toolbar_button_onclick(event['data']);\n",
       "    }\n",
       "    function toolbar_mouse_event(event) {\n",
       "        return fig.toolbar_button_onmouseover(event['data']);\n",
       "    }\n",
       "\n",
       "    for(var toolbar_ind in mpl.toolbar_items){\n",
       "        var name = mpl.toolbar_items[toolbar_ind][0];\n",
       "        var tooltip = mpl.toolbar_items[toolbar_ind][1];\n",
       "        var image = mpl.toolbar_items[toolbar_ind][2];\n",
       "        var method_name = mpl.toolbar_items[toolbar_ind][3];\n",
       "\n",
       "        if (!name) { continue; };\n",
       "\n",
       "        var button = $('<button class=\"btn btn-default\" href=\"#\" title=\"' + name + '\"><i class=\"fa ' + image + ' fa-lg\"></i></button>');\n",
       "        button.click(method_name, toolbar_event);\n",
       "        button.mouseover(tooltip, toolbar_mouse_event);\n",
       "        nav_element.append(button);\n",
       "    }\n",
       "\n",
       "    // Add the status bar.\n",
       "    var status_bar = $('<span class=\"mpl-message\" style=\"text-align:right; float: right;\"/>');\n",
       "    nav_element.append(status_bar);\n",
       "    this.message = status_bar[0];\n",
       "\n",
       "    // Add the close button to the window.\n",
       "    var buttongrp = $('<div class=\"btn-group inline pull-right\"></div>');\n",
       "    var button = $('<button class=\"btn btn-mini btn-primary\" href=\"#\" title=\"Stop Interaction\"><i class=\"fa fa-power-off icon-remove icon-large\"></i></button>');\n",
       "    button.click(function (evt) { fig.handle_close(fig, {}); } );\n",
       "    button.mouseover('Stop Interaction', toolbar_mouse_event);\n",
       "    buttongrp.append(button);\n",
       "    var titlebar = this.root.find($('.ui-dialog-titlebar'));\n",
       "    titlebar.prepend(buttongrp);\n",
       "}\n",
       "\n",
       "mpl.figure.prototype._root_extra_style = function(el){\n",
       "    var fig = this\n",
       "    el.on(\"remove\", function(){\n",
       "\tfig.close_ws(fig, {});\n",
       "    });\n",
       "}\n",
       "\n",
       "mpl.figure.prototype._canvas_extra_style = function(el){\n",
       "    // this is important to make the div 'focusable\n",
       "    el.attr('tabindex', 0)\n",
       "    // reach out to IPython and tell the keyboard manager to turn it's self\n",
       "    // off when our div gets focus\n",
       "\n",
       "    // location in version 3\n",
       "    if (IPython.notebook.keyboard_manager) {\n",
       "        IPython.notebook.keyboard_manager.register_events(el);\n",
       "    }\n",
       "    else {\n",
       "        // location in version 2\n",
       "        IPython.keyboard_manager.register_events(el);\n",
       "    }\n",
       "\n",
       "}\n",
       "\n",
       "mpl.figure.prototype._key_event_extra = function(event, name) {\n",
       "    var manager = IPython.notebook.keyboard_manager;\n",
       "    if (!manager)\n",
       "        manager = IPython.keyboard_manager;\n",
       "\n",
       "    // Check for shift+enter\n",
       "    if (event.shiftKey && event.which == 13) {\n",
       "        this.canvas_div.blur();\n",
       "        event.shiftKey = false;\n",
       "        // Send a \"J\" for go to next cell\n",
       "        event.which = 74;\n",
       "        event.keyCode = 74;\n",
       "        manager.command_mode();\n",
       "        manager.handle_keydown(event);\n",
       "    }\n",
       "}\n",
       "\n",
       "mpl.figure.prototype.handle_save = function(fig, msg) {\n",
       "    fig.ondownload(fig, null);\n",
       "}\n",
       "\n",
       "\n",
       "mpl.find_output_cell = function(html_output) {\n",
       "    // Return the cell and output element which can be found *uniquely* in the notebook.\n",
       "    // Note - this is a bit hacky, but it is done because the \"notebook_saving.Notebook\"\n",
       "    // IPython event is triggered only after the cells have been serialised, which for\n",
       "    // our purposes (turning an active figure into a static one), is too late.\n",
       "    var cells = IPython.notebook.get_cells();\n",
       "    var ncells = cells.length;\n",
       "    for (var i=0; i<ncells; i++) {\n",
       "        var cell = cells[i];\n",
       "        if (cell.cell_type === 'code'){\n",
       "            for (var j=0; j<cell.output_area.outputs.length; j++) {\n",
       "                var data = cell.output_area.outputs[j];\n",
       "                if (data.data) {\n",
       "                    // IPython >= 3 moved mimebundle to data attribute of output\n",
       "                    data = data.data;\n",
       "                }\n",
       "                if (data['text/html'] == html_output) {\n",
       "                    return [cell, data, j];\n",
       "                }\n",
       "            }\n",
       "        }\n",
       "    }\n",
       "}\n",
       "\n",
       "// Register the function which deals with the matplotlib target/channel.\n",
       "// The kernel may be null if the page has been refreshed.\n",
       "if (IPython.notebook.kernel != null) {\n",
       "    IPython.notebook.kernel.comm_manager.register_target('matplotlib', mpl.mpl_figure_comm);\n",
       "}\n"
      ],
      "text/plain": [
       "<IPython.core.display.Javascript object>"
      ]
     },
     "metadata": {},
     "output_type": "display_data"
    },
    {
     "data": {
      "text/html": [
       "<img src=\"data:image/png;base64,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\" width=\"432\">"
      ],
      "text/plain": [
       "<IPython.core.display.HTML object>"
      ]
     },
     "metadata": {},
     "output_type": "display_data"
    }
   ],
   "source": [
    "plot_iteration(a.cost_rate, min_it=30000)"
   ]
  },
  {
   "cell_type": "code",
   "execution_count": 54,
   "metadata": {},
   "outputs": [
    {
     "data": {
      "text/plain": [
       "0.005950897288437495"
      ]
     },
     "execution_count": 54,
     "metadata": {},
     "output_type": "execute_result"
    }
   ],
   "source": [
    "relative_err(a.p, 0.05)"
   ]
  },
  {
   "cell_type": "code",
   "execution_count": 55,
   "metadata": {},
   "outputs": [
    {
     "data": {
      "text/plain": [
       "0.0059632495746254535"
      ]
     },
     "execution_count": 55,
     "metadata": {},
     "output_type": "execute_result"
    }
   ],
   "source": [
    "relative_err(a.p, 0.02)"
   ]
  },
  {
   "cell_type": "code",
   "execution_count": 32,
   "metadata": {},
   "outputs": [
    {
     "data": {
      "text/plain": [
       "0.0044645257076617135"
      ]
     },
     "execution_count": 32,
     "metadata": {},
     "output_type": "execute_result"
    }
   ],
   "source": [
    "relative_err(a.p, 0.05)"
   ]
  },
  {
   "cell_type": "code",
   "execution_count": null,
   "metadata": {},
   "outputs": [],
   "source": []
  },
  {
   "cell_type": "code",
   "execution_count": null,
   "metadata": {},
   "outputs": [],
   "source": [
    "plot_fun(N, p=a.p, zlim=(0,1.7))"
   ]
  },
  {
   "cell_type": "code",
   "execution_count": null,
   "metadata": {},
   "outputs": [],
   "source": []
  },
  {
   "cell_type": "code",
   "execution_count": 56,
   "metadata": {},
   "outputs": [],
   "source": [
    "a.save_result('eq2_7')"
   ]
  },
  {
   "cell_type": "code",
   "execution_count": null,
   "metadata": {},
   "outputs": [],
   "source": []
  }
 ],
 "metadata": {
  "kernelspec": {
   "display_name": "Python 3",
   "language": "python",
   "name": "python3"
  },
  "language_info": {
   "codemirror_mode": {
    "name": "ipython",
    "version": 3
   },
   "file_extension": ".py",
   "mimetype": "text/x-python",
   "name": "python",
   "nbconvert_exporter": "python",
   "pygments_lexer": "ipython3",
   "version": "3.6.7"
  },
  "notify_time": "30",
  "toc": {
   "base_numbering": 1,
   "nav_menu": {},
   "number_sections": true,
   "sideBar": true,
   "skip_h1_title": false,
   "title_cell": "Table of Contents",
   "title_sidebar": "Contents",
   "toc_cell": false,
   "toc_position": {
    "height": "calc(100% - 180px)",
    "left": "10px",
    "top": "150px",
    "width": "216.797px"
   },
   "toc_section_display": true,
   "toc_window_display": false
  },
  "varInspector": {
   "cols": {
    "lenName": 16,
    "lenType": 16,
    "lenVar": 40
   },
   "kernels_config": {
    "python": {
     "delete_cmd_postfix": "",
     "delete_cmd_prefix": "del ",
     "library": "var_list.py",
     "varRefreshCmd": "print(var_dic_list())"
    },
    "r": {
     "delete_cmd_postfix": ") ",
     "delete_cmd_prefix": "rm(",
     "library": "var_list.r",
     "varRefreshCmd": "cat(var_dic_list()) "
    }
   },
   "types_to_exclude": [
    "module",
    "function",
    "builtin_function_or_method",
    "instance",
    "_Feature"
   ],
   "window_display": false
  }
 },
 "nbformat": 4,
 "nbformat_minor": 2
}
