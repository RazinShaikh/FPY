{
 "cells": [
  {
   "cell_type": "markdown",
   "metadata": {
    "heading_collapsed": true,
    "slideshow": {
     "slide_type": "-"
    }
   },
   "source": [
    "# Imports"
   ]
  },
  {
   "cell_type": "code",
   "execution_count": 1,
   "metadata": {
    "hidden": true
   },
   "outputs": [
    {
     "name": "stdout",
     "output_type": "stream",
     "text": [
      "Pixiedust database opened successfully\n"
     ]
    },
    {
     "data": {
      "text/html": [
       "\n",
       "        <div style=\"margin:10px\">\n",
       "            <a href=\"https://github.com/ibm-watson-data-lab/pixiedust\" target=\"_new\">\n",
       "                <img src=\"https://github.com/ibm-watson-data-lab/pixiedust/raw/master/docs/_static/pd_icon32.png\" style=\"float:left;margin-right:10px\"/>\n",
       "            </a>\n",
       "            <span>Pixiedust version 1.1.14</span>\n",
       "        </div>\n",
       "        "
      ],
      "text/plain": [
       "<IPython.core.display.HTML object>"
      ]
     },
     "metadata": {},
     "output_type": "display_data"
    },
    {
     "data": {
      "text/html": [
       "<div>Warning: You are not running the latest version of PixieDust. Current is 1.1.14, Latest is 1.1.18</div>"
      ],
      "text/plain": [
       "<IPython.core.display.HTML object>"
      ]
     },
     "metadata": {},
     "output_type": "display_data"
    },
    {
     "data": {
      "text/html": [
       "\n",
       "                <div>Please copy and run the following command in a new cell to upgrade: <span style=\"background-color:#ececec;font-family:monospace;padding:0 5px\">!pip install --user --upgrade pixiedust</span></div>\n",
       "            "
      ],
      "text/plain": [
       "<IPython.core.display.HTML object>"
      ]
     },
     "metadata": {},
     "output_type": "display_data"
    },
    {
     "data": {
      "text/html": [
       "<div>Please restart kernel after upgrading.</div>"
      ],
      "text/plain": [
       "<IPython.core.display.HTML object>"
      ]
     },
     "metadata": {},
     "output_type": "display_data"
    }
   ],
   "source": [
    "import numpy as np\n",
    "import itertools\n",
    "import time\n",
    "from matplotlib import pyplot as plt\n",
    "from mpl_toolkits.mplot3d import Axes3D\n",
    "from matplotlib import cm\n",
    "import pixiedust"
   ]
  },
  {
   "cell_type": "markdown",
   "metadata": {
    "heading_collapsed": true
   },
   "source": [
    "# Defining functions"
   ]
  },
  {
   "cell_type": "markdown",
   "metadata": {
    "heading_collapsed": true,
    "hidden": true
   },
   "source": [
    "## Sigmoid"
   ]
  },
  {
   "cell_type": "markdown",
   "metadata": {
    "hidden": true
   },
   "source": [
    "Sigmoid $\\sigma(x) = \\frac{1}{1+e^{-x}}$ and its derrivatives."
   ]
  },
  {
   "cell_type": "markdown",
   "metadata": {
    "hidden": true
   },
   "source": [
    "Sigmoid with parameter $t$\n",
    "$$ \\sigma_t(x) = \\frac{1}{1+e^{-tx}}$$"
   ]
  },
  {
   "cell_type": "code",
   "execution_count": 2,
   "metadata": {
    "hidden": true
   },
   "outputs": [],
   "source": [
    "T = 1"
   ]
  },
  {
   "cell_type": "code",
   "execution_count": 3,
   "metadata": {
    "hidden": true
   },
   "outputs": [],
   "source": [
    "def sig(x):\n",
    "    return 1 / (1 + np.exp(-T*x))\n",
    "\n",
    "def sig1(x):\n",
    "    return T * sig(x) * (1 - sig(x))\n",
    "\n",
    "def sig2(x):\n",
    "    return T * (sig1(x) - 2*sig(x)*sig1(x))\n",
    "\n",
    "def sig3(x):\n",
    "    return T * (sig2(x) - 2 * (sig1(x)**2 + sig(x) * sig2(x)))\n",
    "\n",
    "def sig_pr(x, k):\n",
    "    if k==0:\n",
    "        return sig(x)\n",
    "    if k==1:\n",
    "        return sig1(x)\n",
    "    if k==2:\n",
    "        return sig2(x)\n",
    "    if k==3:\n",
    "        return sig3(x)"
   ]
  },
  {
   "cell_type": "markdown",
   "metadata": {
    "heading_collapsed": true,
    "hidden": true
   },
   "source": [
    "## RHS"
   ]
  },
  {
   "cell_type": "markdown",
   "metadata": {
    "hidden": true
   },
   "source": [
    "The right side of the equation:  $\\Delta\\Psi(x,y) = 6 x (x-1) (1-2 y) + 2 y (y-1) (1-2 y)$"
   ]
  },
  {
   "cell_type": "code",
   "execution_count": 4,
   "metadata": {
    "hidden": true
   },
   "outputs": [],
   "source": [
    "K=1\n",
    "def f(x, y):\n",
    "    return -(np.cos(np.sqrt(x**2 + y**2)) / np.sqrt(x**2 + y**2)) + np.sin(np.sqrt(x**2 + y**2))"
   ]
  },
  {
   "cell_type": "markdown",
   "metadata": {
    "hidden": true
   },
   "source": [
    "The analytic solution is given by: $\\ \\Psi_a(x,y) = x (1-x) y (1-y) (1-2 y)$"
   ]
  },
  {
   "cell_type": "code",
   "execution_count": 5,
   "metadata": {
    "hidden": true
   },
   "outputs": [],
   "source": [
    "# def psi_a(x, y):\n",
    "#     return y * (1-y) * np.sin(np.pi * x)\n",
    "\n",
    "def psi_a(x, y):\n",
    "    return -np.sin(np.sqrt(x**2 + y**2))"
   ]
  },
  {
   "cell_type": "markdown",
   "metadata": {
    "hidden": true
   },
   "source": [
    "$$\\frac{\\partial}{\\partial x} \\Psi_a = (1-2x) y (1-y) (1-2 y)$$"
   ]
  },
  {
   "cell_type": "code",
   "execution_count": 6,
   "metadata": {
    "hidden": true
   },
   "outputs": [],
   "source": [
    "def psi_a_dx(x,y):\n",
    "    return -(x * np.cos(np.sqrt(x**2 + y**2))) / np.sqrt(x**2 + y**2)"
   ]
  },
  {
   "cell_type": "markdown",
   "metadata": {
    "hidden": true
   },
   "source": [
    "$$\\frac{\\partial}{\\partial y} \\Psi_a = x (1-x) (1-6y + 6y^2) $$"
   ]
  },
  {
   "cell_type": "code",
   "execution_count": 7,
   "metadata": {
    "hidden": true
   },
   "outputs": [],
   "source": [
    "def psi_a_dy(x,y):\n",
    "    return -(y * np.cos(np.sqrt(x**2 + y**2))) / np.sqrt(x**2 + y**2)"
   ]
  },
  {
   "cell_type": "markdown",
   "metadata": {
    "heading_collapsed": true,
    "hidden": true
   },
   "source": [
    "## Neural Network"
   ]
  },
  {
   "cell_type": "markdown",
   "metadata": {
    "hidden": true
   },
   "source": [
    "The output of neural network $N(x,y,\\vec{p})$, where $\\vec{p} = [w, u, v]$:\n",
    "$$N = \\sum_i^H v_i \\sigma(z_i) \\text{, where } z_i = w_{i0} x + w_{i1} y + u_i$$"
   ]
  },
  {
   "cell_type": "code",
   "execution_count": 8,
   "metadata": {
    "code_folding": [],
    "hidden": true
   },
   "outputs": [],
   "source": [
    "def z(x, y, p):\n",
    "    z_x = np.multiply(x, p[0][0])\n",
    "    z_y = np.multiply(y, p[0][1])\n",
    "    z_ = np.array([z_x, z_y, p[1]]).sum(axis=0)\n",
    "    return z_\n",
    "\n",
    "def N(x, y, p):\n",
    "    return np.sum(np.multiply(sig(z(x,y,p)), p[2]))"
   ]
  },
  {
   "cell_type": "markdown",
   "metadata": {
    "hidden": true
   },
   "source": [
    "$$\\frac{\\partial^k N}{\\partial x_j^k} = \\sum_{i=1}^H v_i w_{ij}^k \\sigma^{(k)}$$"
   ]
  },
  {
   "cell_type": "code",
   "execution_count": 9,
   "metadata": {
    "code_folding": [],
    "hidden": true
   },
   "outputs": [],
   "source": [
    "def dN_dxj_k(x, y, p, j, k):\n",
    "    wj = p[0][j]\n",
    "    v = p[2]\n",
    "    z_ = z(x, y, p)\n",
    "    \n",
    "    return np.sum(v * (wj**k) * sig_pr(z_, k))"
   ]
  },
  {
   "cell_type": "markdown",
   "metadata": {
    "hidden": true
   },
   "source": [
    "$$\\frac{\\partial N}{\\partial w_j} = x_j v \\sigma '$$"
   ]
  },
  {
   "cell_type": "code",
   "execution_count": 10,
   "metadata": {
    "code_folding": [],
    "hidden": true
   },
   "outputs": [],
   "source": [
    "def dN_dwj(x, y, p, j):\n",
    "    xj = x if j==0 else y\n",
    "    v = p[2]\n",
    "    z_ = z(x, y, p)\n",
    "    return xj * v * sig1(z_)"
   ]
  },
  {
   "cell_type": "markdown",
   "metadata": {
    "hidden": true
   },
   "source": [
    "$$ \\frac{\\partial}{\\partial w_j} \\frac{\\partial N}{\\partial x_k} = x_j v w_k \\sigma'' + v_i \\sigma' \\quad\\text{ if } j = k$$\n",
    "\n",
    "$$ \\frac{\\partial}{\\partial w_j} \\frac{\\partial N}{\\partial x_k} = x_j v w_k \\sigma'' \\quad\\text{ if } j \\neq k$$"
   ]
  },
  {
   "cell_type": "code",
   "execution_count": 11,
   "metadata": {
    "code_folding": [],
    "hidden": true
   },
   "outputs": [],
   "source": [
    "def d_dwj_dN_dxk(x, y, p, j, k):\n",
    "    xj = x if j==0 else y\n",
    "    wk = p[0][k]\n",
    "    jk = 1 if j==k else 0\n",
    "    v = p[2]\n",
    "    z_ = z(x, y, p)\n",
    "    return xj * v * wk * sig2(z_) + jk * v * sig1(z_)"
   ]
  },
  {
   "cell_type": "markdown",
   "metadata": {
    "hidden": true
   },
   "source": [
    "$$ \\frac{\\partial}{\\partial w_j} \\frac{\\partial^2 N}{\\partial x_k^2} = x_j v w_k^2 \\sigma^{(3)} + 2 v w_k \\sigma'' \\quad\\text{ if } j = k $$\n",
    "\n",
    "$$ \\frac{\\partial}{\\partial w_j} \\frac{\\partial^2 N}{\\partial x_k^2} = x_j v w_k^2 \\sigma^{(3)} \\quad\\text{ if } j \\neq k $$"
   ]
  },
  {
   "cell_type": "code",
   "execution_count": 12,
   "metadata": {
    "code_folding": [],
    "hidden": true
   },
   "outputs": [],
   "source": [
    "def d_dwj_dN2_dxk2(x, y, p, j, k):\n",
    "    xj = x if j==0 else y\n",
    "    wk = p[0][k]\n",
    "    jk = 1 if j==k else 0\n",
    "    v = p[2]\n",
    "    z_ = z(x, y, p)\n",
    "    return xj * v * (wk**2) * sig3(z_) + jk * 2 * v * wk * sig2(z_)"
   ]
  },
  {
   "cell_type": "markdown",
   "metadata": {
    "hidden": true
   },
   "source": [
    "$$ \\frac{\\partial}{\\partial u} \\frac{\\partial^k}{\\partial x_j^k} N = v w_j^k \\sigma^{(k+1)} $$"
   ]
  },
  {
   "cell_type": "code",
   "execution_count": 13,
   "metadata": {
    "code_folding": [],
    "hidden": true
   },
   "outputs": [],
   "source": [
    "def d_du_dkN(x, y, p, j, k):\n",
    "    v = p[2]\n",
    "    wj = p[0][j]\n",
    "    z_ = z(x, y, p)\n",
    "    return v * (wj**k) * sig_pr(z_, k+1)"
   ]
  },
  {
   "cell_type": "markdown",
   "metadata": {
    "hidden": true
   },
   "source": [
    "$$ \\frac{\\partial}{\\partial v} \\frac{\\partial^k}{\\partial x_j^k} N = w_j^k \\sigma^{(k)} $$"
   ]
  },
  {
   "cell_type": "code",
   "execution_count": 14,
   "metadata": {
    "code_folding": [],
    "hidden": true
   },
   "outputs": [],
   "source": [
    "def d_dv_dkN(x, y, p, j, k):\n",
    "    wj = p[0][j]\n",
    "    z_ = z(x, y, p)\n",
    "    return (wj**k) * sig_pr(z_, k)"
   ]
  },
  {
   "cell_type": "markdown",
   "metadata": {
    "hidden": true
   },
   "source": [
    "## Cost function"
   ]
  },
  {
   "cell_type": "markdown",
   "metadata": {
    "hidden": true
   },
   "source": [
    "$$E[\\vec{p}] = \\sum_{i \\in \\hat{D}} \\left\\{ \\frac{\\partial^2 N}{\\partial x^2} + \\frac{\\partial^2 N}{\\partial y^2} - f(x,y) \\right\\}^2 \n",
    "           +  \\sum_{i \\in \\partial \\hat{D}} N^2$$"
   ]
  },
  {
   "cell_type": "code",
   "execution_count": 15,
   "metadata": {
    "hidden": true
   },
   "outputs": [],
   "source": [
    "BC=1"
   ]
  },
  {
   "cell_type": "code",
   "execution_count": 16,
   "metadata": {
    "code_folding": [],
    "hidden": true
   },
   "outputs": [],
   "source": [
    "def error_term1(x, y, p):\n",
    "    return dN_dxj_k(x,y,p,0,2)  +  dN_dxj_k(x,y,p,1,2)  -  f(x,y)"
   ]
  },
  {
   "cell_type": "code",
   "execution_count": 17,
   "metadata": {
    "code_folding": [],
    "hidden": true
   },
   "outputs": [],
   "source": [
    "def cost(points, boundary_points, p):\n",
    "    et1 = []\n",
    "    et2 = []\n",
    "    for x, y in points:\n",
    "        err_sq = error_term1(x, y, p)**2\n",
    "        et1.append(err_sq)\n",
    "    \n",
    "    for x, y in boundary_points:\n",
    "        err_sq = N(x,y,p)**2\n",
    "        et2.append(err_sq)\n",
    "        \n",
    "    cost = sum(et1) + BC*sum(et2)\n",
    "    \n",
    "    return cost"
   ]
  },
  {
   "cell_type": "code",
   "execution_count": 18,
   "metadata": {
    "hidden": true
   },
   "outputs": [],
   "source": [
    "# def relative_err(all_points, p, dOmega):\n",
    "#     trial1 = np.sum(dOmega*np.array([np.linalg.norm(N(x,y,p) - psi_a(x,y))**2\n",
    "#                                      for x, y in all_points]))\n",
    "\n",
    "#     trial2 = np.sum([dOmega*((dN_dxj_k(x,y,p,0,1)-psi_a_dx(x,y))**2 +\n",
    "#                              (dN_dxj_k(x,y,p,1,1)-psi_a_dy(x,y))**2)\n",
    "#                      for x, y in all_points])\n",
    "\n",
    "#     ana1 = np.sum(dOmega*np.array([np.linalg.norm(psi_a(x,y))**2\n",
    "#                                          for x, y in all_points]))\n",
    "#     ana2 = np.sum([dOmega*(psi_a_dx(x,y)**2 + psi_a_dy(x,y)**2)\n",
    "#                    for x, y in all_points])\n",
    "    \n",
    "#     relative_err = (trial1 + trial2)**(1/2) / (ana1 + ana2)**(1/2)\n",
    "\n",
    "#     return relative_err\n",
    "\n",
    "# def relative_err(all_points, p, dOmega):\n",
    "#     #this abs error\n",
    "#     dx=0.3\n",
    "#     bx=0.1\n",
    "#     points, b_points = get_points(dx,bx)\n",
    "#     all_points = points + b_points\n",
    "#     abs_err = np.sum(np.array([np.linalg.norm(N(x,y,p) - psi_a(x,y))\n",
    "#                                      for x, y in all_points])) / len(all_points)\n",
    "#     return abs_err\n",
    "\n",
    "def relative_err(p, dx=0.3):\n",
    "    r = np.arange(np.pi, 2*np.pi+dx, dx)\n",
    "    th = np.arange(-np.pi, np.pi+dx, dx)\n",
    "    R, TH = np.meshgrid(r,th)\n",
    "\n",
    "    x = np.ravel(R*np.cos(TH))\n",
    "    y = np.ravel(R*np.sin(TH))\n",
    "    \n",
    "    all_points = list(zip(x,y))\n",
    "\n",
    "#     dOmega = area / len(all_points)\n",
    "    dOmega = 3 * np.pi**3 / len(all_points)\n",
    "\n",
    "    trial1 = np.sum(dOmega*np.array([np.linalg.norm(N(x,y,p) - psi_a(x,y))**2\n",
    "                                     for x, y in all_points]))\n",
    "\n",
    "    trial2 = np.sum([dOmega*((dN_dxj_k(x,y,p,0,1)-psi_a_dx(x,y))**2 +\n",
    "                             (dN_dxj_k(x,y,p,1,1)-psi_a_dy(x,y))**2)\n",
    "                     for x, y in all_points])\n",
    "\n",
    "    ana1 = np.sum(dOmega*np.array([np.linalg.norm(psi_a(x,y))**2\n",
    "                                         for x, y in all_points]))\n",
    "    ana2 = np.sum([dOmega*(psi_a_dx(x,y)**2 + psi_a_dy(x,y)**2)\n",
    "                   for x, y in all_points])\n",
    "    \n",
    "    rel_err = (trial1 + trial2)**(1/2) / (ana1 + ana2)**(1/2)\n",
    "    \n",
    "    return rel_err"
   ]
  },
  {
   "cell_type": "markdown",
   "metadata": {
    "heading_collapsed": true
   },
   "source": [
    "# Gradients"
   ]
  },
  {
   "cell_type": "markdown",
   "metadata": {
    "hidden": true
   },
   "source": [
    "$$ \\frac{\\partial E[\\vec{p}]}{\\partial w_j} = \\sum_{i \\in \\hat{D}} \\left\\{ 2 \\text{ (error_term1) } \\left( \\frac{\\partial}{\\partial w_j} \\frac{\\partial^2 N}{\\partial x^2} + \\frac{\\partial}{\\partial w_j} \\frac{\\partial^2 N}{\\partial y^2} \\right) \\right\\}  +  \\sum_{i \\in \\partial \\hat{D}} 2 N \\frac{\\partial N}{\\partial w_j}$$"
   ]
  },
  {
   "cell_type": "code",
   "execution_count": 19,
   "metadata": {
    "code_folding": [],
    "hidden": true
   },
   "outputs": [],
   "source": [
    "def dE_dwj(points, boundary_points, p, j):\n",
    "    t1 = []\n",
    "    t2 = []\n",
    "    for x, y in points:\n",
    "        tmp = 2 * error_term1(x,y,p) * (d_dwj_dN2_dxk2(x,y,p,j,0) + d_dwj_dN2_dxk2(x,y,p,j,1))\n",
    "        t1.append(tmp)\n",
    "        \n",
    "    for x, y in boundary_points:\n",
    "        tmp = 2 * N(x,y,p) * dN_dwj(x,y,p,j)\n",
    "        t2.append(tmp)\n",
    "    \n",
    "    grad = sum(t1) + BC*sum(t2)\n",
    "    \n",
    "    return grad"
   ]
  },
  {
   "cell_type": "markdown",
   "metadata": {
    "hidden": true
   },
   "source": [
    "$$ \\frac{\\partial E[\\vec{p}]}{\\partial u} = \\sum_{i \\in \\hat{D}} \\left\\{ 2 \\text{ (error_term1) } \\left( \\frac{\\partial}{\\partial u} \\frac{\\partial^2 N}{\\partial x^2} + \\frac{\\partial}{\\partial u} \\frac{\\partial^2 N}{\\partial y^2} \\right) \\right\\} +  \\sum_{i \\in \\partial \\hat{D}} 2 N \\frac{\\partial N}{\\partial u}$$"
   ]
  },
  {
   "cell_type": "code",
   "execution_count": 20,
   "metadata": {
    "code_folding": [],
    "hidden": true
   },
   "outputs": [],
   "source": [
    "def dE_du(points, boundary_points, p):\n",
    "    t1 = []\n",
    "    t2 = []\n",
    "    for x, y in points:\n",
    "        tmp = 2 * error_term1(x,y,p) * (d_du_dkN(x,y,p,0,2) + d_du_dkN(x,y,p,1,2))\n",
    "        t1.append(tmp)\n",
    "        \n",
    "    for x, y in boundary_points:\n",
    "        tmp = 2 * N(x,y,p) * d_du_dkN(x,y,p,0,0)\n",
    "        t2.append(tmp)\n",
    "    \n",
    "    grad = sum(t1) + BC*sum(t2)\n",
    "    \n",
    "    return grad"
   ]
  },
  {
   "cell_type": "markdown",
   "metadata": {
    "hidden": true
   },
   "source": [
    "$$ \\frac{\\partial E[\\vec{p}]}{\\partial v} = \\sum_{i \\in \\hat{D}} \\left\\{ 2 \\text{ (error_term1) } \\left( \\frac{\\partial}{\\partial v} \\frac{\\partial^2 N}{\\partial x^2} + \\frac{\\partial}{\\partial v} \\frac{\\partial^2 N}{\\partial y^2} \\right) \\right\\}  +  \\sum_{i \\in \\partial \\hat{D}} 2 N \\frac{\\partial N}{\\partial v}$$"
   ]
  },
  {
   "cell_type": "code",
   "execution_count": 21,
   "metadata": {
    "code_folding": [],
    "hidden": true
   },
   "outputs": [],
   "source": [
    "def dE_dv(points, boundary_points, p):\n",
    "    t1 = []\n",
    "    t2 = []\n",
    "    for x, y in points:\n",
    "        tmp = 2 * error_term1(x,y,p) * (d_dv_dkN(x,y,p,0,2) + d_dv_dkN(x,y,p,1,2))\n",
    "        t1.append(tmp)\n",
    "        \n",
    "    for x, y in boundary_points:\n",
    "        tmp = 2 * N(x,y,p) * d_dv_dkN(x,y,p,0,0)\n",
    "        t2.append(tmp)\n",
    "    \n",
    "    grad = sum(t1) + BC*sum(t2)\n",
    "    \n",
    "    return grad"
   ]
  },
  {
   "cell_type": "markdown",
   "metadata": {
    "heading_collapsed": true
   },
   "source": [
    "# NN class"
   ]
  },
  {
   "cell_type": "code",
   "execution_count": 22,
   "metadata": {
    "hidden": true
   },
   "outputs": [],
   "source": [
    "def get_points(dx,bx):\n",
    "    r = np.arange(np.pi, 2*np.pi+dx, dx)\n",
    "    th = np.arange(-np.pi, np.pi+dx, dx)\n",
    "    R, TH = np.meshgrid(r,th)\n",
    "\n",
    "    r_bound = np.array([np.pi, 2*np.pi])\n",
    "    th_bound = np.arange(-np.pi, np.pi+bx, bx)\n",
    "    R_bound, TH_bound = np.meshgrid(r_bound,th_bound)\n",
    "\n",
    "    x = np.ravel(R*np.cos(TH))\n",
    "    y = np.ravel(R*np.sin(TH))\n",
    "\n",
    "    x_bound = np.ravel(R_bound*np.cos(TH_bound))\n",
    "    y_bound = np.ravel(R_bound*np.sin(TH_bound))\n",
    "\n",
    "    boundary_points = list(zip(x_bound, y_bound))\n",
    "    points = [(a,b) for a, b in zip(x,y) if (a,b) not in boundary_points]\n",
    "\n",
    "    return points, boundary_points"
   ]
  },
  {
   "cell_type": "code",
   "execution_count": 23,
   "metadata": {
    "code_folding": [
     32,
     47,
     105
    ],
    "hidden": true
   },
   "outputs": [],
   "source": [
    "class NNTrain:\n",
    "    def __init__(self, dx=0.1, bx=0.08, hidden_nodes=10, alpha=0.01, \n",
    "                 beta_1=0.9, beta_2=0.999, epsilon=1e-8, update_interval=50,\n",
    "                 if_rel_err=False, output_file='output/output.csv'):\n",
    "        \n",
    "        self.output_file = output_file\n",
    "        self.training_started = False\n",
    "        self.hidden_nodes = hidden_nodes\n",
    "        self.alpha = alpha\n",
    "        self.beta_1 = beta_1\n",
    "        self.beta_2 = beta_2\n",
    "        self.epsilon = epsilon\n",
    "        self.update_interval = update_interval\n",
    "        self.points, self.boundary_points = get_points(dx,bx)\n",
    "        self.cost_rate = []\n",
    "        self.if_rel_err = if_rel_err\n",
    "        if self.if_rel_err:\n",
    "            self.rel_err = []\n",
    "        self.p = np.array([np.random.randn(2,hidden_nodes),\n",
    "                           np.random.randn(hidden_nodes),\n",
    "                           np.random.randn(hidden_nodes)])\n",
    "        self.m_t = np.array([np.zeros(hidden_nodes),\n",
    "                             np.zeros(hidden_nodes),\n",
    "                             np.zeros(hidden_nodes),\n",
    "                             np.zeros(hidden_nodes)])\n",
    "        self.v_t = np.array([np.zeros(hidden_nodes),\n",
    "                             np.zeros(hidden_nodes),\n",
    "                             np.zeros(hidden_nodes),\n",
    "                             np.zeros(hidden_nodes)])\n",
    "        self.if_continue = np.array([True, True, True, True])\n",
    "        \n",
    "        \n",
    "    def adam(self, t, w, g_t, theta_0):\n",
    "        self.m_t[w] = self.beta_1 * self.m_t[w] + (1-self.beta_1) * g_t\n",
    "        self.v_t[w] = self.beta_2 * self.v_t[w] + (1-self.beta_2) * (g_t * g_t)\n",
    "        \n",
    "        m_cap = self.m_t[w]/(1-(self.beta_1**t))\n",
    "        v_cap = self.v_t[w]/(1-(self.beta_2**t))\n",
    "        theta_0_prev = np.copy(theta_0)\n",
    "        theta_0 = theta_0 - (self.alpha*m_cap)/(np.sqrt(v_cap)+self.epsilon)\n",
    "        \n",
    "        if(np.all(theta_0 == theta_0_prev)):\n",
    "            self.if_continue[w] = False\n",
    "            \n",
    "        return theta_0\n",
    "        \n",
    "\n",
    "    def train(self, itr=1000):\n",
    "        if self.training_started:\n",
    "            mode='a'\n",
    "        else:\n",
    "            mode='w'\n",
    "        self.training_started=True\n",
    "        \n",
    "        with open(self.output_file, mode) as file:\n",
    "            if mode=='w':\n",
    "                if self.if_rel_err:\n",
    "                    file.write('Iteration,Cost,Cost Diff,Relative Error,Relative Error Diff\\n')\n",
    "                else:\n",
    "                    file.write('Iteration,Cost,Cost Diff\\n')\n",
    "            start=len(self.cost_rate)-1\n",
    "            if start<1:\n",
    "                start+=1\n",
    "                self.cost_rate.append(cost(self.points,self.boundary_points,self.p))\n",
    "                if self.if_rel_err:\n",
    "                    self.rel_err.append(relative_err(self.p, 0.4))\n",
    "\n",
    "            i = start\n",
    "            while i < start+itr:\n",
    "                if(not np.any(self.if_continue)):\n",
    "                    break\n",
    "                                    \n",
    "                #adam optimizer\n",
    "                g_w0 = dE_dwj(self.points, self.boundary_points, self.p, 0)\n",
    "                g_w1 = dE_dwj(self.points, self.boundary_points, self.p, 1)\n",
    "                g_u = dE_du(self.points, self.boundary_points, self.p)\n",
    "                g_v = dE_dv(self.points, self.boundary_points, self.p)\n",
    "                \n",
    "                if self.if_continue[0] :self.p[0][0] = self.adam(i+1, 0, g_w0, self.p[0][0])\n",
    "                if self.if_continue[1] :self.p[0][1] = self.adam(i+1, 1, g_w1, self.p[0][1])\n",
    "                if self.if_continue[2] :self.p[1] = self.adam(i+1, 2, g_u, self.p[1])\n",
    "                if self.if_continue[3] :self.p[2] = self.adam(i+1, 3, g_v, self.p[2])\n",
    "                \n",
    "                \n",
    "                self.cost_rate.append(cost(self.points,self.boundary_points,self.p))\n",
    "                cost_diff = self.cost_rate[i]-self.cost_rate[i+1]\n",
    "                if self.if_rel_err:\n",
    "                    self.rel_err.append(relative_err(self.p, 0.4))\n",
    "                    rel_diff = self.rel_err[i]-self.rel_err[i+1]\n",
    "\n",
    "                if self.if_rel_err:\n",
    "                    file.write('{},{:.8f},{:.8f},{:.8f},{:.8f}\\n'.format(\n",
    "                        i+1,self.cost_rate[i+1], cost_diff,\n",
    "                        self.rel_err[i+1], rel_diff))\n",
    "                else:\n",
    "                    file.write('{},{:.8f},{:.8f}\\n'.format(\n",
    "                        i+1,self.cost_rate[i+1],\n",
    "                        cost_diff))\n",
    "\n",
    "                if i%self.update_interval==0:\n",
    "                    file.flush()\n",
    "                    \n",
    "                i+=1\n",
    "                \n",
    "                \n",
    "    def save_result(self, output_name=''):\n",
    "        timestr = time.strftime(\"%Y%m%d-%H%M\")\n",
    "        np.savez('output/'+ timestr + '_' + output_name +'_nn_params.npz', self.p)\n",
    "        np.savez('output/'+ timestr + '_' + output_name +'_cost_rate.npz', self.cost_rate)\n",
    "        if self.if_rel_err:\n",
    "            np.savez('output/'+ timestr + '_' + output_name +'_rel_err.npz', self.rel_err)"
   ]
  },
  {
   "cell_type": "code",
   "execution_count": null,
   "metadata": {
    "hidden": true
   },
   "outputs": [],
   "source": []
  },
  {
   "cell_type": "markdown",
   "metadata": {
    "heading_collapsed": true
   },
   "source": [
    "# Graphs"
   ]
  },
  {
   "cell_type": "code",
   "execution_count": 24,
   "metadata": {
    "hidden": true
   },
   "outputs": [],
   "source": [
    "%matplotlib notebook\n",
    "%matplotlib notebook"
   ]
  },
  {
   "cell_type": "markdown",
   "metadata": {
    "heading_collapsed": true,
    "hidden": true
   },
   "source": [
    "## Hidden Nodes"
   ]
  },
  {
   "cell_type": "code",
   "execution_count": 25,
   "metadata": {
    "hidden": true
   },
   "outputs": [],
   "source": [
    "def plot_nodes(a, save_name=None, save=True, zlim=True):\n",
    "    p = a.p\n",
    "    hmax = a.p[0][0].shape[0]\n",
    "    col = int(np.sqrt(hmax)) if int(np.sqrt(hmax)) < 10 else 10\n",
    "    row = np.ceil(hmax / col)\n",
    "    \n",
    "    d_x=0.1\n",
    "\n",
    "    fig = plt.figure(figsize=(col*3, row*3), dpi=100)\n",
    "    for h in range(1,hmax+1):\n",
    "        ax = fig.add_subplot(row,col,h, projection='3d')\n",
    "        x = y = np.arange(0, 1+d_x, d_x)\n",
    "        X, Y = np.meshgrid(x, y)\n",
    "\n",
    "        zs = np.array([p[1][h-1]*sig(z(x,y,p))[h-1] for x,y in zip(np.ravel(X), np.ravel(Y))])\n",
    "        Z = zs.reshape(X.shape)\n",
    "\n",
    "        ax.set_xlabel('x')\n",
    "        ax.set_ylabel('y')\n",
    "        if zlim:\n",
    "            ax.set_zlim(0,1)\n",
    "\n",
    "        ax.plot_surface(X, Y, Z, cmap=cm.coolwarm)\n",
    "        ax.title.set_text('HN: ' + str(h) + ', v=' + \"{:.4E}\".format(p[1][h-1]))\n",
    "        time.sleep(0.2)\n",
    "\n",
    "    if save==True:\n",
    "        if save_name is None: \n",
    "            plt.savefig('t'+str(T)+'_h'+str(hmax)+'_n'+str(a.nx)+'.png')\n",
    "        else:\n",
    "            plt.savefig(save_name)\n",
    "    else:\n",
    "        plt.show()"
   ]
  },
  {
   "cell_type": "markdown",
   "metadata": {
    "heading_collapsed": true,
    "hidden": true
   },
   "source": [
    "## Error vs Iterations"
   ]
  },
  {
   "cell_type": "code",
   "execution_count": 26,
   "metadata": {
    "hidden": true
   },
   "outputs": [],
   "source": [
    "def plot_iteration(arr, min_it=0, max_it=None):\n",
    "    plt.figure()\n",
    "    plt.plot(np.arange(len(arr[min_it:max_it])), np.array(arr[min_it:max_it]))\n",
    "    plt.show()"
   ]
  },
  {
   "cell_type": "markdown",
   "metadata": {
    "heading_collapsed": true,
    "hidden": true
   },
   "source": [
    "## Solution Accuracy on the domain"
   ]
  },
  {
   "cell_type": "code",
   "execution_count": 27,
   "metadata": {
    "hidden": true
   },
   "outputs": [],
   "source": [
    "def accuracy(p):\n",
    "    d_x=0.01\n",
    "    fig = plt.figure()\n",
    "    ax = fig.add_subplot(111, projection='3d')\n",
    "    x = y = np.arange(0, 1.0+d_x, d_x)\n",
    "    X, Y = np.meshgrid(x, y)\n",
    "\n",
    "    zs = np.array([psi_a(x,y)-psi_t(x,y,p) for x,y in zip(np.ravel(X), np.ravel(Y))])\n",
    "    Z = zs.reshape(X.shape)\n",
    "\n",
    "    ax.plot_surface(X, Y, Z, cmap=cm.coolwarm_r)\n",
    "    # ax.ticklabel_format(style='sci', axis='z', scilimits=(0,0), useOffset=True, useMathText=True)\n",
    "\n",
    "\n",
    "    ax.set_xlabel('x')\n",
    "    ax.set_ylabel('y')\n",
    "#     ax.set_zlabel('Accuracy')\n",
    "\n",
    "\n",
    "    plt.show()"
   ]
  },
  {
   "cell_type": "code",
   "execution_count": 28,
   "metadata": {
    "hidden": true
   },
   "outputs": [],
   "source": [
    "def plot_fun(fun, title=None, return_ax=False, xlim=None, ylim=None, zlim=None, **kwargs):\n",
    "    dx=0.1\n",
    "\n",
    "    fig = plt.figure()\n",
    "    ax = fig.add_subplot(111, projection='3d')\n",
    "    \n",
    "    r = np.arange(np.pi, 2*np.pi+dx, dx)\n",
    "    th = np.arange(-np.pi, np.pi+dx, dx)\n",
    "    R, TH = np.meshgrid(r,th)\n",
    "    X = R*np.cos(TH)\n",
    "    Y = R*np.sin(TH)\n",
    "\n",
    "    zs = np.array([fun(x,y,**kwargs) for x,y in zip(np.ravel(X), np.ravel(Y))])\n",
    "    Z = zs.reshape(X.shape)\n",
    "\n",
    "    ax.plot_surface(X, Y, Z, cmap=cm.coolwarm_r)\n",
    "\n",
    "    ax.set_xlabel('x')\n",
    "    ax.set_ylabel('y')\n",
    "    ax.title.set_text(title)\n",
    "    \n",
    "    if xlim:\n",
    "        ax.set_xlim(xlim[0], xlim[1])\n",
    "    if ylim:\n",
    "        ax.set_ylim(ylim[0], ylim[1])\n",
    "    if zlim:\n",
    "        ax.set_zlim(zlim[0], zlim[1])\n",
    "\n",
    "    if return_ax:\n",
    "        return ax\n",
    "    else:\n",
    "        plt.show()"
   ]
  },
  {
   "cell_type": "code",
   "execution_count": null,
   "metadata": {
    "hidden": true
   },
   "outputs": [],
   "source": []
  },
  {
   "cell_type": "markdown",
   "metadata": {},
   "source": [
    "# Training"
   ]
  },
  {
   "cell_type": "markdown",
   "metadata": {},
   "source": [
    "Meta training"
   ]
  },
  {
   "cell_type": "code",
   "execution_count": 29,
   "metadata": {},
   "outputs": [],
   "source": [
    "a = NNTrain(dx=0.1,bx=0.01, hidden_nodes=40, alpha=0.01, update_interval=10, if_rel_err=False, output_file='out/out6.csv')"
   ]
  },
  {
   "cell_type": "code",
   "execution_count": null,
   "metadata": {},
   "outputs": [],
   "source": [
    "BC=1\n",
    "a.alpha=0.01\n",
    "a.train(100)"
   ]
  },
  {
   "cell_type": "code",
   "execution_count": null,
   "metadata": {},
   "outputs": [],
   "source": [
    "thresh=1e-4\n",
    "for i in range(10000):\n",
    "    if a.alpha < 1e-6:\n",
    "        break\n",
    "    if np.mean([np.absolute(s-t) for s, t in zip(a.cost_rate[-21:], a.cost_rate[-20:])]) < thresh:\n",
    "        BC=BC*10\n",
    "        a.alpha=a.alpha/10\n",
    "    a.train(100)"
   ]
  },
  {
   "cell_type": "markdown",
   "metadata": {},
   "source": [
    "Etc"
   ]
  },
  {
   "cell_type": "code",
   "execution_count": 39,
   "metadata": {},
   "outputs": [],
   "source": [
    "a.alpha =0.0005"
   ]
  },
  {
   "cell_type": "code",
   "execution_count": null,
   "metadata": {},
   "outputs": [],
   "source": []
  },
  {
   "cell_type": "code",
   "execution_count": 48,
   "metadata": {},
   "outputs": [
    {
     "data": {
      "application/javascript": [
       "/* Put everything inside the global mpl namespace */\n",
       "window.mpl = {};\n",
       "\n",
       "\n",
       "mpl.get_websocket_type = function() {\n",
       "    if (typeof(WebSocket) !== 'undefined') {\n",
       "        return WebSocket;\n",
       "    } else if (typeof(MozWebSocket) !== 'undefined') {\n",
       "        return MozWebSocket;\n",
       "    } else {\n",
       "        alert('Your browser does not have WebSocket support.' +\n",
       "              'Please try Chrome, Safari or Firefox ≥ 6. ' +\n",
       "              'Firefox 4 and 5 are also supported but you ' +\n",
       "              'have to enable WebSockets in about:config.');\n",
       "    };\n",
       "}\n",
       "\n",
       "mpl.figure = function(figure_id, websocket, ondownload, parent_element) {\n",
       "    this.id = figure_id;\n",
       "\n",
       "    this.ws = websocket;\n",
       "\n",
       "    this.supports_binary = (this.ws.binaryType != undefined);\n",
       "\n",
       "    if (!this.supports_binary) {\n",
       "        var warnings = document.getElementById(\"mpl-warnings\");\n",
       "        if (warnings) {\n",
       "            warnings.style.display = 'block';\n",
       "            warnings.textContent = (\n",
       "                \"This browser does not support binary websocket messages. \" +\n",
       "                    \"Performance may be slow.\");\n",
       "        }\n",
       "    }\n",
       "\n",
       "    this.imageObj = new Image();\n",
       "\n",
       "    this.context = undefined;\n",
       "    this.message = undefined;\n",
       "    this.canvas = undefined;\n",
       "    this.rubberband_canvas = undefined;\n",
       "    this.rubberband_context = undefined;\n",
       "    this.format_dropdown = undefined;\n",
       "\n",
       "    this.image_mode = 'full';\n",
       "\n",
       "    this.root = $('<div/>');\n",
       "    this._root_extra_style(this.root)\n",
       "    this.root.attr('style', 'display: inline-block');\n",
       "\n",
       "    $(parent_element).append(this.root);\n",
       "\n",
       "    this._init_header(this);\n",
       "    this._init_canvas(this);\n",
       "    this._init_toolbar(this);\n",
       "\n",
       "    var fig = this;\n",
       "\n",
       "    this.waiting = false;\n",
       "\n",
       "    this.ws.onopen =  function () {\n",
       "            fig.send_message(\"supports_binary\", {value: fig.supports_binary});\n",
       "            fig.send_message(\"send_image_mode\", {});\n",
       "            if (mpl.ratio != 1) {\n",
       "                fig.send_message(\"set_dpi_ratio\", {'dpi_ratio': mpl.ratio});\n",
       "            }\n",
       "            fig.send_message(\"refresh\", {});\n",
       "        }\n",
       "\n",
       "    this.imageObj.onload = function() {\n",
       "            if (fig.image_mode == 'full') {\n",
       "                // Full images could contain transparency (where diff images\n",
       "                // almost always do), so we need to clear the canvas so that\n",
       "                // there is no ghosting.\n",
       "                fig.context.clearRect(0, 0, fig.canvas.width, fig.canvas.height);\n",
       "            }\n",
       "            fig.context.drawImage(fig.imageObj, 0, 0);\n",
       "        };\n",
       "\n",
       "    this.imageObj.onunload = function() {\n",
       "        fig.ws.close();\n",
       "    }\n",
       "\n",
       "    this.ws.onmessage = this._make_on_message_function(this);\n",
       "\n",
       "    this.ondownload = ondownload;\n",
       "}\n",
       "\n",
       "mpl.figure.prototype._init_header = function() {\n",
       "    var titlebar = $(\n",
       "        '<div class=\"ui-dialog-titlebar ui-widget-header ui-corner-all ' +\n",
       "        'ui-helper-clearfix\"/>');\n",
       "    var titletext = $(\n",
       "        '<div class=\"ui-dialog-title\" style=\"width: 100%; ' +\n",
       "        'text-align: center; padding: 3px;\"/>');\n",
       "    titlebar.append(titletext)\n",
       "    this.root.append(titlebar);\n",
       "    this.header = titletext[0];\n",
       "}\n",
       "\n",
       "\n",
       "\n",
       "mpl.figure.prototype._canvas_extra_style = function(canvas_div) {\n",
       "\n",
       "}\n",
       "\n",
       "\n",
       "mpl.figure.prototype._root_extra_style = function(canvas_div) {\n",
       "\n",
       "}\n",
       "\n",
       "mpl.figure.prototype._init_canvas = function() {\n",
       "    var fig = this;\n",
       "\n",
       "    var canvas_div = $('<div/>');\n",
       "\n",
       "    canvas_div.attr('style', 'position: relative; clear: both; outline: 0');\n",
       "\n",
       "    function canvas_keyboard_event(event) {\n",
       "        return fig.key_event(event, event['data']);\n",
       "    }\n",
       "\n",
       "    canvas_div.keydown('key_press', canvas_keyboard_event);\n",
       "    canvas_div.keyup('key_release', canvas_keyboard_event);\n",
       "    this.canvas_div = canvas_div\n",
       "    this._canvas_extra_style(canvas_div)\n",
       "    this.root.append(canvas_div);\n",
       "\n",
       "    var canvas = $('<canvas/>');\n",
       "    canvas.addClass('mpl-canvas');\n",
       "    canvas.attr('style', \"left: 0; top: 0; z-index: 0; outline: 0\")\n",
       "\n",
       "    this.canvas = canvas[0];\n",
       "    this.context = canvas[0].getContext(\"2d\");\n",
       "\n",
       "    var backingStore = this.context.backingStorePixelRatio ||\n",
       "\tthis.context.webkitBackingStorePixelRatio ||\n",
       "\tthis.context.mozBackingStorePixelRatio ||\n",
       "\tthis.context.msBackingStorePixelRatio ||\n",
       "\tthis.context.oBackingStorePixelRatio ||\n",
       "\tthis.context.backingStorePixelRatio || 1;\n",
       "\n",
       "    mpl.ratio = (window.devicePixelRatio || 1) / backingStore;\n",
       "\n",
       "    var rubberband = $('<canvas/>');\n",
       "    rubberband.attr('style', \"position: absolute; left: 0; top: 0; z-index: 1;\")\n",
       "\n",
       "    var pass_mouse_events = true;\n",
       "\n",
       "    canvas_div.resizable({\n",
       "        start: function(event, ui) {\n",
       "            pass_mouse_events = false;\n",
       "        },\n",
       "        resize: function(event, ui) {\n",
       "            fig.request_resize(ui.size.width, ui.size.height);\n",
       "        },\n",
       "        stop: function(event, ui) {\n",
       "            pass_mouse_events = true;\n",
       "            fig.request_resize(ui.size.width, ui.size.height);\n",
       "        },\n",
       "    });\n",
       "\n",
       "    function mouse_event_fn(event) {\n",
       "        if (pass_mouse_events)\n",
       "            return fig.mouse_event(event, event['data']);\n",
       "    }\n",
       "\n",
       "    rubberband.mousedown('button_press', mouse_event_fn);\n",
       "    rubberband.mouseup('button_release', mouse_event_fn);\n",
       "    // Throttle sequential mouse events to 1 every 20ms.\n",
       "    rubberband.mousemove('motion_notify', mouse_event_fn);\n",
       "\n",
       "    rubberband.mouseenter('figure_enter', mouse_event_fn);\n",
       "    rubberband.mouseleave('figure_leave', mouse_event_fn);\n",
       "\n",
       "    canvas_div.on(\"wheel\", function (event) {\n",
       "        event = event.originalEvent;\n",
       "        event['data'] = 'scroll'\n",
       "        if (event.deltaY < 0) {\n",
       "            event.step = 1;\n",
       "        } else {\n",
       "            event.step = -1;\n",
       "        }\n",
       "        mouse_event_fn(event);\n",
       "    });\n",
       "\n",
       "    canvas_div.append(canvas);\n",
       "    canvas_div.append(rubberband);\n",
       "\n",
       "    this.rubberband = rubberband;\n",
       "    this.rubberband_canvas = rubberband[0];\n",
       "    this.rubberband_context = rubberband[0].getContext(\"2d\");\n",
       "    this.rubberband_context.strokeStyle = \"#000000\";\n",
       "\n",
       "    this._resize_canvas = function(width, height) {\n",
       "        // Keep the size of the canvas, canvas container, and rubber band\n",
       "        // canvas in synch.\n",
       "        canvas_div.css('width', width)\n",
       "        canvas_div.css('height', height)\n",
       "\n",
       "        canvas.attr('width', width * mpl.ratio);\n",
       "        canvas.attr('height', height * mpl.ratio);\n",
       "        canvas.attr('style', 'width: ' + width + 'px; height: ' + height + 'px;');\n",
       "\n",
       "        rubberband.attr('width', width);\n",
       "        rubberband.attr('height', height);\n",
       "    }\n",
       "\n",
       "    // Set the figure to an initial 600x600px, this will subsequently be updated\n",
       "    // upon first draw.\n",
       "    this._resize_canvas(600, 600);\n",
       "\n",
       "    // Disable right mouse context menu.\n",
       "    $(this.rubberband_canvas).bind(\"contextmenu\",function(e){\n",
       "        return false;\n",
       "    });\n",
       "\n",
       "    function set_focus () {\n",
       "        canvas.focus();\n",
       "        canvas_div.focus();\n",
       "    }\n",
       "\n",
       "    window.setTimeout(set_focus, 100);\n",
       "}\n",
       "\n",
       "mpl.figure.prototype._init_toolbar = function() {\n",
       "    var fig = this;\n",
       "\n",
       "    var nav_element = $('<div/>')\n",
       "    nav_element.attr('style', 'width: 100%');\n",
       "    this.root.append(nav_element);\n",
       "\n",
       "    // Define a callback function for later on.\n",
       "    function toolbar_event(event) {\n",
       "        return fig.toolbar_button_onclick(event['data']);\n",
       "    }\n",
       "    function toolbar_mouse_event(event) {\n",
       "        return fig.toolbar_button_onmouseover(event['data']);\n",
       "    }\n",
       "\n",
       "    for(var toolbar_ind in mpl.toolbar_items) {\n",
       "        var name = mpl.toolbar_items[toolbar_ind][0];\n",
       "        var tooltip = mpl.toolbar_items[toolbar_ind][1];\n",
       "        var image = mpl.toolbar_items[toolbar_ind][2];\n",
       "        var method_name = mpl.toolbar_items[toolbar_ind][3];\n",
       "\n",
       "        if (!name) {\n",
       "            // put a spacer in here.\n",
       "            continue;\n",
       "        }\n",
       "        var button = $('<button/>');\n",
       "        button.addClass('ui-button ui-widget ui-state-default ui-corner-all ' +\n",
       "                        'ui-button-icon-only');\n",
       "        button.attr('role', 'button');\n",
       "        button.attr('aria-disabled', 'false');\n",
       "        button.click(method_name, toolbar_event);\n",
       "        button.mouseover(tooltip, toolbar_mouse_event);\n",
       "\n",
       "        var icon_img = $('<span/>');\n",
       "        icon_img.addClass('ui-button-icon-primary ui-icon');\n",
       "        icon_img.addClass(image);\n",
       "        icon_img.addClass('ui-corner-all');\n",
       "\n",
       "        var tooltip_span = $('<span/>');\n",
       "        tooltip_span.addClass('ui-button-text');\n",
       "        tooltip_span.html(tooltip);\n",
       "\n",
       "        button.append(icon_img);\n",
       "        button.append(tooltip_span);\n",
       "\n",
       "        nav_element.append(button);\n",
       "    }\n",
       "\n",
       "    var fmt_picker_span = $('<span/>');\n",
       "\n",
       "    var fmt_picker = $('<select/>');\n",
       "    fmt_picker.addClass('mpl-toolbar-option ui-widget ui-widget-content');\n",
       "    fmt_picker_span.append(fmt_picker);\n",
       "    nav_element.append(fmt_picker_span);\n",
       "    this.format_dropdown = fmt_picker[0];\n",
       "\n",
       "    for (var ind in mpl.extensions) {\n",
       "        var fmt = mpl.extensions[ind];\n",
       "        var option = $(\n",
       "            '<option/>', {selected: fmt === mpl.default_extension}).html(fmt);\n",
       "        fmt_picker.append(option)\n",
       "    }\n",
       "\n",
       "    // Add hover states to the ui-buttons\n",
       "    $( \".ui-button\" ).hover(\n",
       "        function() { $(this).addClass(\"ui-state-hover\");},\n",
       "        function() { $(this).removeClass(\"ui-state-hover\");}\n",
       "    );\n",
       "\n",
       "    var status_bar = $('<span class=\"mpl-message\"/>');\n",
       "    nav_element.append(status_bar);\n",
       "    this.message = status_bar[0];\n",
       "}\n",
       "\n",
       "mpl.figure.prototype.request_resize = function(x_pixels, y_pixels) {\n",
       "    // Request matplotlib to resize the figure. Matplotlib will then trigger a resize in the client,\n",
       "    // which will in turn request a refresh of the image.\n",
       "    this.send_message('resize', {'width': x_pixels, 'height': y_pixels});\n",
       "}\n",
       "\n",
       "mpl.figure.prototype.send_message = function(type, properties) {\n",
       "    properties['type'] = type;\n",
       "    properties['figure_id'] = this.id;\n",
       "    this.ws.send(JSON.stringify(properties));\n",
       "}\n",
       "\n",
       "mpl.figure.prototype.send_draw_message = function() {\n",
       "    if (!this.waiting) {\n",
       "        this.waiting = true;\n",
       "        this.ws.send(JSON.stringify({type: \"draw\", figure_id: this.id}));\n",
       "    }\n",
       "}\n",
       "\n",
       "\n",
       "mpl.figure.prototype.handle_save = function(fig, msg) {\n",
       "    var format_dropdown = fig.format_dropdown;\n",
       "    var format = format_dropdown.options[format_dropdown.selectedIndex].value;\n",
       "    fig.ondownload(fig, format);\n",
       "}\n",
       "\n",
       "\n",
       "mpl.figure.prototype.handle_resize = function(fig, msg) {\n",
       "    var size = msg['size'];\n",
       "    if (size[0] != fig.canvas.width || size[1] != fig.canvas.height) {\n",
       "        fig._resize_canvas(size[0], size[1]);\n",
       "        fig.send_message(\"refresh\", {});\n",
       "    };\n",
       "}\n",
       "\n",
       "mpl.figure.prototype.handle_rubberband = function(fig, msg) {\n",
       "    var x0 = msg['x0'] / mpl.ratio;\n",
       "    var y0 = (fig.canvas.height - msg['y0']) / mpl.ratio;\n",
       "    var x1 = msg['x1'] / mpl.ratio;\n",
       "    var y1 = (fig.canvas.height - msg['y1']) / mpl.ratio;\n",
       "    x0 = Math.floor(x0) + 0.5;\n",
       "    y0 = Math.floor(y0) + 0.5;\n",
       "    x1 = Math.floor(x1) + 0.5;\n",
       "    y1 = Math.floor(y1) + 0.5;\n",
       "    var min_x = Math.min(x0, x1);\n",
       "    var min_y = Math.min(y0, y1);\n",
       "    var width = Math.abs(x1 - x0);\n",
       "    var height = Math.abs(y1 - y0);\n",
       "\n",
       "    fig.rubberband_context.clearRect(\n",
       "        0, 0, fig.canvas.width, fig.canvas.height);\n",
       "\n",
       "    fig.rubberband_context.strokeRect(min_x, min_y, width, height);\n",
       "}\n",
       "\n",
       "mpl.figure.prototype.handle_figure_label = function(fig, msg) {\n",
       "    // Updates the figure title.\n",
       "    fig.header.textContent = msg['label'];\n",
       "}\n",
       "\n",
       "mpl.figure.prototype.handle_cursor = function(fig, msg) {\n",
       "    var cursor = msg['cursor'];\n",
       "    switch(cursor)\n",
       "    {\n",
       "    case 0:\n",
       "        cursor = 'pointer';\n",
       "        break;\n",
       "    case 1:\n",
       "        cursor = 'default';\n",
       "        break;\n",
       "    case 2:\n",
       "        cursor = 'crosshair';\n",
       "        break;\n",
       "    case 3:\n",
       "        cursor = 'move';\n",
       "        break;\n",
       "    }\n",
       "    fig.rubberband_canvas.style.cursor = cursor;\n",
       "}\n",
       "\n",
       "mpl.figure.prototype.handle_message = function(fig, msg) {\n",
       "    fig.message.textContent = msg['message'];\n",
       "}\n",
       "\n",
       "mpl.figure.prototype.handle_draw = function(fig, msg) {\n",
       "    // Request the server to send over a new figure.\n",
       "    fig.send_draw_message();\n",
       "}\n",
       "\n",
       "mpl.figure.prototype.handle_image_mode = function(fig, msg) {\n",
       "    fig.image_mode = msg['mode'];\n",
       "}\n",
       "\n",
       "mpl.figure.prototype.updated_canvas_event = function() {\n",
       "    // Called whenever the canvas gets updated.\n",
       "    this.send_message(\"ack\", {});\n",
       "}\n",
       "\n",
       "// A function to construct a web socket function for onmessage handling.\n",
       "// Called in the figure constructor.\n",
       "mpl.figure.prototype._make_on_message_function = function(fig) {\n",
       "    return function socket_on_message(evt) {\n",
       "        if (evt.data instanceof Blob) {\n",
       "            /* FIXME: We get \"Resource interpreted as Image but\n",
       "             * transferred with MIME type text/plain:\" errors on\n",
       "             * Chrome.  But how to set the MIME type?  It doesn't seem\n",
       "             * to be part of the websocket stream */\n",
       "            evt.data.type = \"image/png\";\n",
       "\n",
       "            /* Free the memory for the previous frames */\n",
       "            if (fig.imageObj.src) {\n",
       "                (window.URL || window.webkitURL).revokeObjectURL(\n",
       "                    fig.imageObj.src);\n",
       "            }\n",
       "\n",
       "            fig.imageObj.src = (window.URL || window.webkitURL).createObjectURL(\n",
       "                evt.data);\n",
       "            fig.updated_canvas_event();\n",
       "            fig.waiting = false;\n",
       "            return;\n",
       "        }\n",
       "        else if (typeof evt.data === 'string' && evt.data.slice(0, 21) == \"data:image/png;base64\") {\n",
       "            fig.imageObj.src = evt.data;\n",
       "            fig.updated_canvas_event();\n",
       "            fig.waiting = false;\n",
       "            return;\n",
       "        }\n",
       "\n",
       "        var msg = JSON.parse(evt.data);\n",
       "        var msg_type = msg['type'];\n",
       "\n",
       "        // Call the  \"handle_{type}\" callback, which takes\n",
       "        // the figure and JSON message as its only arguments.\n",
       "        try {\n",
       "            var callback = fig[\"handle_\" + msg_type];\n",
       "        } catch (e) {\n",
       "            console.log(\"No handler for the '\" + msg_type + \"' message type: \", msg);\n",
       "            return;\n",
       "        }\n",
       "\n",
       "        if (callback) {\n",
       "            try {\n",
       "                // console.log(\"Handling '\" + msg_type + \"' message: \", msg);\n",
       "                callback(fig, msg);\n",
       "            } catch (e) {\n",
       "                console.log(\"Exception inside the 'handler_\" + msg_type + \"' callback:\", e, e.stack, msg);\n",
       "            }\n",
       "        }\n",
       "    };\n",
       "}\n",
       "\n",
       "// from http://stackoverflow.com/questions/1114465/getting-mouse-location-in-canvas\n",
       "mpl.findpos = function(e) {\n",
       "    //this section is from http://www.quirksmode.org/js/events_properties.html\n",
       "    var targ;\n",
       "    if (!e)\n",
       "        e = window.event;\n",
       "    if (e.target)\n",
       "        targ = e.target;\n",
       "    else if (e.srcElement)\n",
       "        targ = e.srcElement;\n",
       "    if (targ.nodeType == 3) // defeat Safari bug\n",
       "        targ = targ.parentNode;\n",
       "\n",
       "    // jQuery normalizes the pageX and pageY\n",
       "    // pageX,Y are the mouse positions relative to the document\n",
       "    // offset() returns the position of the element relative to the document\n",
       "    var x = e.pageX - $(targ).offset().left;\n",
       "    var y = e.pageY - $(targ).offset().top;\n",
       "\n",
       "    return {\"x\": x, \"y\": y};\n",
       "};\n",
       "\n",
       "/*\n",
       " * return a copy of an object with only non-object keys\n",
       " * we need this to avoid circular references\n",
       " * http://stackoverflow.com/a/24161582/3208463\n",
       " */\n",
       "function simpleKeys (original) {\n",
       "  return Object.keys(original).reduce(function (obj, key) {\n",
       "    if (typeof original[key] !== 'object')\n",
       "        obj[key] = original[key]\n",
       "    return obj;\n",
       "  }, {});\n",
       "}\n",
       "\n",
       "mpl.figure.prototype.mouse_event = function(event, name) {\n",
       "    var canvas_pos = mpl.findpos(event)\n",
       "\n",
       "    if (name === 'button_press')\n",
       "    {\n",
       "        this.canvas.focus();\n",
       "        this.canvas_div.focus();\n",
       "    }\n",
       "\n",
       "    var x = canvas_pos.x * mpl.ratio;\n",
       "    var y = canvas_pos.y * mpl.ratio;\n",
       "\n",
       "    this.send_message(name, {x: x, y: y, button: event.button,\n",
       "                             step: event.step,\n",
       "                             guiEvent: simpleKeys(event)});\n",
       "\n",
       "    /* This prevents the web browser from automatically changing to\n",
       "     * the text insertion cursor when the button is pressed.  We want\n",
       "     * to control all of the cursor setting manually through the\n",
       "     * 'cursor' event from matplotlib */\n",
       "    event.preventDefault();\n",
       "    return false;\n",
       "}\n",
       "\n",
       "mpl.figure.prototype._key_event_extra = function(event, name) {\n",
       "    // Handle any extra behaviour associated with a key event\n",
       "}\n",
       "\n",
       "mpl.figure.prototype.key_event = function(event, name) {\n",
       "\n",
       "    // Prevent repeat events\n",
       "    if (name == 'key_press')\n",
       "    {\n",
       "        if (event.which === this._key)\n",
       "            return;\n",
       "        else\n",
       "            this._key = event.which;\n",
       "    }\n",
       "    if (name == 'key_release')\n",
       "        this._key = null;\n",
       "\n",
       "    var value = '';\n",
       "    if (event.ctrlKey && event.which != 17)\n",
       "        value += \"ctrl+\";\n",
       "    if (event.altKey && event.which != 18)\n",
       "        value += \"alt+\";\n",
       "    if (event.shiftKey && event.which != 16)\n",
       "        value += \"shift+\";\n",
       "\n",
       "    value += 'k';\n",
       "    value += event.which.toString();\n",
       "\n",
       "    this._key_event_extra(event, name);\n",
       "\n",
       "    this.send_message(name, {key: value,\n",
       "                             guiEvent: simpleKeys(event)});\n",
       "    return false;\n",
       "}\n",
       "\n",
       "mpl.figure.prototype.toolbar_button_onclick = function(name) {\n",
       "    if (name == 'download') {\n",
       "        this.handle_save(this, null);\n",
       "    } else {\n",
       "        this.send_message(\"toolbar_button\", {name: name});\n",
       "    }\n",
       "};\n",
       "\n",
       "mpl.figure.prototype.toolbar_button_onmouseover = function(tooltip) {\n",
       "    this.message.textContent = tooltip;\n",
       "};\n",
       "mpl.toolbar_items = [[\"Home\", \"Reset original view\", \"fa fa-home icon-home\", \"home\"], [\"Back\", \"Back to previous view\", \"fa fa-arrow-left icon-arrow-left\", \"back\"], [\"Forward\", \"Forward to next view\", \"fa fa-arrow-right icon-arrow-right\", \"forward\"], [\"\", \"\", \"\", \"\"], [\"Pan\", \"Pan axes with left mouse, zoom with right\", \"fa fa-arrows icon-move\", \"pan\"], [\"Zoom\", \"Zoom to rectangle\", \"fa fa-square-o icon-check-empty\", \"zoom\"], [\"\", \"\", \"\", \"\"], [\"Download\", \"Download plot\", \"fa fa-floppy-o icon-save\", \"download\"]];\n",
       "\n",
       "mpl.extensions = [\"eps\", \"jpeg\", \"pdf\", \"png\", \"ps\", \"raw\", \"svg\", \"tif\"];\n",
       "\n",
       "mpl.default_extension = \"png\";var comm_websocket_adapter = function(comm) {\n",
       "    // Create a \"websocket\"-like object which calls the given IPython comm\n",
       "    // object with the appropriate methods. Currently this is a non binary\n",
       "    // socket, so there is still some room for performance tuning.\n",
       "    var ws = {};\n",
       "\n",
       "    ws.close = function() {\n",
       "        comm.close()\n",
       "    };\n",
       "    ws.send = function(m) {\n",
       "        //console.log('sending', m);\n",
       "        comm.send(m);\n",
       "    };\n",
       "    // Register the callback with on_msg.\n",
       "    comm.on_msg(function(msg) {\n",
       "        //console.log('receiving', msg['content']['data'], msg);\n",
       "        // Pass the mpl event to the overridden (by mpl) onmessage function.\n",
       "        ws.onmessage(msg['content']['data'])\n",
       "    });\n",
       "    return ws;\n",
       "}\n",
       "\n",
       "mpl.mpl_figure_comm = function(comm, msg) {\n",
       "    // This is the function which gets called when the mpl process\n",
       "    // starts-up an IPython Comm through the \"matplotlib\" channel.\n",
       "\n",
       "    var id = msg.content.data.id;\n",
       "    // Get hold of the div created by the display call when the Comm\n",
       "    // socket was opened in Python.\n",
       "    var element = $(\"#\" + id);\n",
       "    var ws_proxy = comm_websocket_adapter(comm)\n",
       "\n",
       "    function ondownload(figure, format) {\n",
       "        window.open(figure.imageObj.src);\n",
       "    }\n",
       "\n",
       "    var fig = new mpl.figure(id, ws_proxy,\n",
       "                           ondownload,\n",
       "                           element.get(0));\n",
       "\n",
       "    // Call onopen now - mpl needs it, as it is assuming we've passed it a real\n",
       "    // web socket which is closed, not our websocket->open comm proxy.\n",
       "    ws_proxy.onopen();\n",
       "\n",
       "    fig.parent_element = element.get(0);\n",
       "    fig.cell_info = mpl.find_output_cell(\"<div id='\" + id + \"'></div>\");\n",
       "    if (!fig.cell_info) {\n",
       "        console.error(\"Failed to find cell for figure\", id, fig);\n",
       "        return;\n",
       "    }\n",
       "\n",
       "    var output_index = fig.cell_info[2]\n",
       "    var cell = fig.cell_info[0];\n",
       "\n",
       "};\n",
       "\n",
       "mpl.figure.prototype.handle_close = function(fig, msg) {\n",
       "    var width = fig.canvas.width/mpl.ratio\n",
       "    fig.root.unbind('remove')\n",
       "\n",
       "    // Update the output cell to use the data from the current canvas.\n",
       "    fig.push_to_output();\n",
       "    var dataURL = fig.canvas.toDataURL();\n",
       "    // Re-enable the keyboard manager in IPython - without this line, in FF,\n",
       "    // the notebook keyboard shortcuts fail.\n",
       "    IPython.keyboard_manager.enable()\n",
       "    $(fig.parent_element).html('<img src=\"' + dataURL + '\" width=\"' + width + '\">');\n",
       "    fig.close_ws(fig, msg);\n",
       "}\n",
       "\n",
       "mpl.figure.prototype.close_ws = function(fig, msg){\n",
       "    fig.send_message('closing', msg);\n",
       "    // fig.ws.close()\n",
       "}\n",
       "\n",
       "mpl.figure.prototype.push_to_output = function(remove_interactive) {\n",
       "    // Turn the data on the canvas into data in the output cell.\n",
       "    var width = this.canvas.width/mpl.ratio\n",
       "    var dataURL = this.canvas.toDataURL();\n",
       "    this.cell_info[1]['text/html'] = '<img src=\"' + dataURL + '\" width=\"' + width + '\">';\n",
       "}\n",
       "\n",
       "mpl.figure.prototype.updated_canvas_event = function() {\n",
       "    // Tell IPython that the notebook contents must change.\n",
       "    IPython.notebook.set_dirty(true);\n",
       "    this.send_message(\"ack\", {});\n",
       "    var fig = this;\n",
       "    // Wait a second, then push the new image to the DOM so\n",
       "    // that it is saved nicely (might be nice to debounce this).\n",
       "    setTimeout(function () { fig.push_to_output() }, 1000);\n",
       "}\n",
       "\n",
       "mpl.figure.prototype._init_toolbar = function() {\n",
       "    var fig = this;\n",
       "\n",
       "    var nav_element = $('<div/>')\n",
       "    nav_element.attr('style', 'width: 100%');\n",
       "    this.root.append(nav_element);\n",
       "\n",
       "    // Define a callback function for later on.\n",
       "    function toolbar_event(event) {\n",
       "        return fig.toolbar_button_onclick(event['data']);\n",
       "    }\n",
       "    function toolbar_mouse_event(event) {\n",
       "        return fig.toolbar_button_onmouseover(event['data']);\n",
       "    }\n",
       "\n",
       "    for(var toolbar_ind in mpl.toolbar_items){\n",
       "        var name = mpl.toolbar_items[toolbar_ind][0];\n",
       "        var tooltip = mpl.toolbar_items[toolbar_ind][1];\n",
       "        var image = mpl.toolbar_items[toolbar_ind][2];\n",
       "        var method_name = mpl.toolbar_items[toolbar_ind][3];\n",
       "\n",
       "        if (!name) { continue; };\n",
       "\n",
       "        var button = $('<button class=\"btn btn-default\" href=\"#\" title=\"' + name + '\"><i class=\"fa ' + image + ' fa-lg\"></i></button>');\n",
       "        button.click(method_name, toolbar_event);\n",
       "        button.mouseover(tooltip, toolbar_mouse_event);\n",
       "        nav_element.append(button);\n",
       "    }\n",
       "\n",
       "    // Add the status bar.\n",
       "    var status_bar = $('<span class=\"mpl-message\" style=\"text-align:right; float: right;\"/>');\n",
       "    nav_element.append(status_bar);\n",
       "    this.message = status_bar[0];\n",
       "\n",
       "    // Add the close button to the window.\n",
       "    var buttongrp = $('<div class=\"btn-group inline pull-right\"></div>');\n",
       "    var button = $('<button class=\"btn btn-mini btn-primary\" href=\"#\" title=\"Stop Interaction\"><i class=\"fa fa-power-off icon-remove icon-large\"></i></button>');\n",
       "    button.click(function (evt) { fig.handle_close(fig, {}); } );\n",
       "    button.mouseover('Stop Interaction', toolbar_mouse_event);\n",
       "    buttongrp.append(button);\n",
       "    var titlebar = this.root.find($('.ui-dialog-titlebar'));\n",
       "    titlebar.prepend(buttongrp);\n",
       "}\n",
       "\n",
       "mpl.figure.prototype._root_extra_style = function(el){\n",
       "    var fig = this\n",
       "    el.on(\"remove\", function(){\n",
       "\tfig.close_ws(fig, {});\n",
       "    });\n",
       "}\n",
       "\n",
       "mpl.figure.prototype._canvas_extra_style = function(el){\n",
       "    // this is important to make the div 'focusable\n",
       "    el.attr('tabindex', 0)\n",
       "    // reach out to IPython and tell the keyboard manager to turn it's self\n",
       "    // off when our div gets focus\n",
       "\n",
       "    // location in version 3\n",
       "    if (IPython.notebook.keyboard_manager) {\n",
       "        IPython.notebook.keyboard_manager.register_events(el);\n",
       "    }\n",
       "    else {\n",
       "        // location in version 2\n",
       "        IPython.keyboard_manager.register_events(el);\n",
       "    }\n",
       "\n",
       "}\n",
       "\n",
       "mpl.figure.prototype._key_event_extra = function(event, name) {\n",
       "    var manager = IPython.notebook.keyboard_manager;\n",
       "    if (!manager)\n",
       "        manager = IPython.keyboard_manager;\n",
       "\n",
       "    // Check for shift+enter\n",
       "    if (event.shiftKey && event.which == 13) {\n",
       "        this.canvas_div.blur();\n",
       "        event.shiftKey = false;\n",
       "        // Send a \"J\" for go to next cell\n",
       "        event.which = 74;\n",
       "        event.keyCode = 74;\n",
       "        manager.command_mode();\n",
       "        manager.handle_keydown(event);\n",
       "    }\n",
       "}\n",
       "\n",
       "mpl.figure.prototype.handle_save = function(fig, msg) {\n",
       "    fig.ondownload(fig, null);\n",
       "}\n",
       "\n",
       "\n",
       "mpl.find_output_cell = function(html_output) {\n",
       "    // Return the cell and output element which can be found *uniquely* in the notebook.\n",
       "    // Note - this is a bit hacky, but it is done because the \"notebook_saving.Notebook\"\n",
       "    // IPython event is triggered only after the cells have been serialised, which for\n",
       "    // our purposes (turning an active figure into a static one), is too late.\n",
       "    var cells = IPython.notebook.get_cells();\n",
       "    var ncells = cells.length;\n",
       "    for (var i=0; i<ncells; i++) {\n",
       "        var cell = cells[i];\n",
       "        if (cell.cell_type === 'code'){\n",
       "            for (var j=0; j<cell.output_area.outputs.length; j++) {\n",
       "                var data = cell.output_area.outputs[j];\n",
       "                if (data.data) {\n",
       "                    // IPython >= 3 moved mimebundle to data attribute of output\n",
       "                    data = data.data;\n",
       "                }\n",
       "                if (data['text/html'] == html_output) {\n",
       "                    return [cell, data, j];\n",
       "                }\n",
       "            }\n",
       "        }\n",
       "    }\n",
       "}\n",
       "\n",
       "// Register the function which deals with the matplotlib target/channel.\n",
       "// The kernel may be null if the page has been refreshed.\n",
       "if (IPython.notebook.kernel != null) {\n",
       "    IPython.notebook.kernel.comm_manager.register_target('matplotlib', mpl.mpl_figure_comm);\n",
       "}\n"
      ],
      "text/plain": [
       "<IPython.core.display.Javascript object>"
      ]
     },
     "metadata": {},
     "output_type": "display_data"
    },
    {
     "data": {
      "text/html": [
       "<img src=\"data:image/png;base64,iVBORw0KGgoAAAANSUhEUgAAA2AAAAJACAYAAADrSQUmAAAgAElEQVR4XuydB7RVxdmGX3oTEFBAelMBpSsqYEXEllhijzG2mGb8E2NM7L3EGkuqLTExJia22AvFjigoFlCqFQWlW5D6rznce9n3cMous8uc++y1XCbePWU/35zynJn5pp64IAABCEAAAhCAAAQgAAEIQCARAvUSaYVGIAABCEAAAhCAAAQgAAEIQEAIGIMAAhCAAAQgAAEIQAACEIBAQgQQsIRA0wwEIAABCEAAAhCAAAQgAAEEjDEAAQhAAAIQgAAEIAABCEAgIQIIWEKgaQYCEIAABCAAAQhAAAIQgAACxhiAAAQgAAEIQAACEIAABCCQEAEELCHQNAMBCEAAAhCAAAQgAAEIQAABYwxAAAIQgAAEIAABCEAAAhBIiAAClhBomoEABCAAAQhAAAIQgAAEIICAMQYgAAEIQAACEIAABCAAAQgkRAABSwg0zUAAAhCAAAQgAAEIQAACEEDAGAMQgAAEIAABCEAAAhCAAAQSIoCAJQSaZiAAAQhAAAIQgAAEIAABCCBgjAEIQAACEIAABCAAAQhAAAIJEUDAEgJNMxCAAAQgAAEIQAACEIAABBAwxgAEIAABCEAAAhCAAAQgAIGECCBgCYGmGQhAAAIQgAAEIAABCEAAAggYYwACEIAABCAAAQhAAAIQgEBCBBCwhEDTDAQgAAEIQAACEIAABCAAAQSMMQABCEAAAhCAAAQgAAEIQCAhAghYQqBpBgIQgAAEIAABCEAAAhCAAALGGIAABCAAAQhAAAIQgAAEIJAQAQQsIdA0AwEIQAACEIAABCAAAQhAAAFjDEAAAhCAAAQgAAEIQAACEEiIAAKWEGiagQAEIAABCEAAAhCAAAQggIAxBiAAAQhAAAIQgAAEIAABCCREAAFLCDTNQAACEIAABCAAAQhAAAIQQMAYAxCAAAQgAAEIQAACEIAABBIigIAlBJpmIAABCEAAAhCAAAQgAAEIIGCMAQhAAAIQgAAEIAABCEAAAgkRQMASAk0zEIAABCAAAQhAAAIQgAAEEDDGAAQgAAEIQAACEIAABCAAgYQIIGAJgaYZCEAAAhCAAAQgAAEIQAACCBhjAAIQgAAEIAABCEAAAhCAQEIEELCEQNMMBCAAAQhAAAIQgAAEIAABBIwxAAEIQAACEIAABCAAAQhAICECCFhCoGkGAhCAAAQgAAEIQAACEIAAAsYYgAAEIAABCEAAAhCAAAQgkBABBCwh0DQDAQhAAAIQgAAEIAABCEAAAWMMQAACEIAABCAAAQhAAAIQSIgAApYQaJqBAAQgAAEIQAACEIAABCCAgDEGIAABCEAAAhCAAAQgAAEIJEQAAUsINM1AAAIQgAAEIAABCEAAAhBAwBgDEIAABCAAAQhAAAIQgAAEEiKAgCUEmmYgAAEIQAACEIAABCAAAQggYIwBCEAAAhCAAAQgAAEIQAACCRFAwBICTTMQgAAEIAABCEAAAhCAAAQQMMYABCAAAQhAAAIQgAAEIACBhAggYAmBphkIQAACEIAABCAAAQhAAAIIGGMAAhCAAAQgAAEIQAACEIBAQgQQsIRA0wwEIAABCEAAAhCAAAQgAAEEjDEAAQhAAAIQgAAEIAABCEAgIQIIWEKgaQYCEIAABCAAAQhAAAIQgAACxhiAAAQgAAEIQAACEIAABCCQEAEELCHQNAMBCEAAAhCAAAQgAAEIQAABYwxAAAIQgAAEIAABCEAAAhBIiAAClhBomoEABCAAAQhAAAIQgAAEIICAMQYgAAEIQAACEIAABCAAAQgkRAABSwg0zUAAAhCAAAQgAAEIQAACEEDAGAMQgAAEIAABCEAAAhCAAAQSIoCAJQSaZiAAAQhAAAIQgAAEIAABCCBgjAEIQAACEIAABCAAAQhAAAIJEUDAEgJNMxCAAAQgAAEIQAACEIAABBAwxgAEIAABCEAAAhCAAAQgAIGECCBgCYGmGQhAAAIQgAAEIAABCEAAAggYYwACEIAABCAAAQhAAAIQgEBCBBCwhEDTDAQgAAEIQAACEIAABCAAAQTMrTEwT1IrSe+51W16CwEIQAACEIAABCDgGIEekpZL6ulYvzPfXQQs8yGq1cFFzZo1a9uvXz+3ek1vIQABCEAAAhCAAAScIjBjxgx9/fXXiyW1c6rjDnQWAXMgSJ4uThk6dOjQKVOmuNVregsBCEAAAhCAAAQg4BSBYcOGaerUqVMlDXOq4w50FgFzIEgImFtBorcQgAAEIAABCEDAdQIIWHwRRMDiYxtHzcyAxUGVOiEAAQhAAAIQgAAEahFAwOIbEAhYfGzjqBkBi4MqdUIAAhCAAAQgAAEIIGAJjQEELCHQlppBwCyBpBoIQAACEIAABCAAgeIEmAGLb3QgYPGxjaNmBCwOqtQJAQhAAAIQgAAEIMAMWEJjAAFLCLSlZhAwSyCpBgIQgAAEIAABCECAGbA0xgAClgb18G0iYOHZURICEIAABCAAAQhAwCcBliD6BBXiNgQsBLQUiyBgKcKnaQhAAAIQgAAEIFBXCCBg8UUaAYuPbRw1I2BxUKVOCEAAAhCAAAQgAIFaBBCw+AYEAhYf2zhqRsDioEqdEIAABCAAAQhAAAIIWEJjAAFLCLSlZhAwSyCpBgIQgAAEIAABCECgOAFmwOIbHQhYfGzjqBkBi4MqdUIAAhCAAAQgAAEIMAOW0BhAwBICbakZBMwSSKqBAAQgAAEIQAACEGAGLI0xgIClQT18mwhYeHaUhAAEIAABCEAAAhDwSYAliD5BhbgNAQsBLcUiCFiK8GkaAhCAAAQgAAEI1BUCCFh8kUbA4mMbR80IWBxUqRMCEIAABCAAAQhAoBYBBCy+AYGAxcc2jpoRsDioUicEIAABCEAAAhDIEIGpHyzR+BkLdfgOXdS9XYtUeoaAxYcdAYuPbRw1I2BxUKVOCEAAAhCAAAQgkBEC36xZq+GXjdOyr1er95YtNO6Xe6TSMwQsPuwIWHxs46gZAYuDKnVCAAIQgAAEIACBjBD4eOnXGnnl+JreTD1vjNq2aJx47xCw+JAjYPGxjaNmBCwOqtQJAQhAAAIQgAAEMkLg02UrtfMV42p6c8fxO2rPvu0T7x0CFh9yBCw+tnHUjIDFQZU6IQABCEAAAhCAQEYI5AvYaaO31uljtkm8dwhYfMgRsPjYxlEzAhYHVeqEAAQgAAEIQAACGSGQL2C7br2F/n7STon3DgGLDzkCFh/bOGpGwOKgSp0QgAAEIAABCEAgIwTyBaxF4waaev4YNWnYINEeImDx4UbA4mMbR80IWBxUqRMCEIAABCAAAQhkhEC+gJlupbEPDAGLb0AgYPGxjaNmBCwOqtQJAQhAAAIQgAAEMkKgkIAdtWNXXfmdgYn2EAGLDzcCFh/bOGpGwOKgSp0QgAAEIAABCEAgIwQKCVj7lk308tmjVa9ecl/dEbD4BkRyUYzvGepSzQhYXYo2zwoBCEAAAhCAQJ0jkC9gVx82UHv366A2CZ8FhoDFN/QQsNJsD5O0u6TBkgZJainpLknH+gzJrZJOqrp3a0mzfZYrdhsCFhEgxSEAAQhAAAIQgECWCXgFrEMrM/O1dyrdRcDiw46AlWb7epV4fSHpI0l9AwjYtyT9T5Ipu5kkBCy+cUzNEIAABCAAAQhAoCIIIGAVEcaSD4GAlY7xnlXiZWauzEzYBJ8CtqWkNyVNlNSxqiwCVvmvJ54QAhCAAAQgAAEIRCKAgEXC50RhBMx/mPYIIGD3S9pF0naS7kXA/EPmTghAAAIQgAAEIFCXCSBglR99BMx/jP0K2PHmuAZJB0t6sGoWzMyeMQPmnzV3QgACEIAABCAAgTpJAAGr/LAjYP5j7EfAukt6o2rv1/eqqjbLEBEw/5y5EwIQgAAEIAABCNRZAghY5YceAfMf43ICVl/S+KqZru0lLYkgYFOKdKvv0KFDm0+ZUuzP/h+GOyEAAQhAAAIQgAAEskcAActeTGz3CAHzT7ScgP1S0jWSDpD0qKfaMDNgCJj/uHAnBCAAAQhAAAIQqBgCCFjFhLLogyBg/mNcSsC2qVp6+E9JJ+ZVGUbAivWKc8D8x4s7IQABCEAAAhCAgHMEEDDnQha4wwiYf2SlBMwk3DCZD/1ch0h6wM+NBe5BwEKCoxgEIAABCEAAAhBwgQAC5kKUovURAfPPr5SADZZ0apGqzJJEcxbYfyQtl3SzJHPAc5gLAQtDjTIQgAAEIAABCEDAEQIImCOBitBNBMw/vHJ7wIrVxBJE/4y5EwIQgAAEIAABCNRpAghY5YcfASsdY7O00PxjLjOLNVbSXEnPVf23zyWdUWaYIGCV/zriCSEAAQhAAAIQgIAVAgiYFYyZrgQBKx2eCyVdUOKW9yX1QMAyPcbpHAQgAAEIQAACEHCGAALmTKhCdxQBC40ulYLsAUsFO41CAAIQgAAEIACBZAggYMlwTrMVBCxN+sHbRsCCM6MEBCAAAQhAAAIQcIYAAuZMqEJ3FAELjS6VgghYKthpFAIQgAAEIAABCCRDAAFLhnOarSBgadIP3jYCFpwZJSAAAQhAAAIQgIAzBBAwZ0IVuqMIWGh0qRREwFLBTqMQgAAEIAABCEAgGQIIWDKc02wFAUuTfvC2EbDgzCgBAQhAAAIQgAAEnCGAgDkTqtAdRcBCo0ulIAKWCnYahQAEIAABCEAAAskQQMCS4ZxmKwhYmvSDt42ABWdGCQhAAAIQgAAEIOAMAQTMmVCF7igCFhpdKgURsFSw0ygEIAABCEAAAhBIhgAClgznNFtBwNKkH7xtBCw4M0pAAAIQgAAEIAABZwggYM6EKnRHEbDQ6FIpiIClgp1GIQABCEAAAhCAQDIEELBkOKfZCgKWJv3gbSNgwZlRAgIQgAAEIAABCDhDAAFzJlShO4qAhUaXSkEELBXsNAoBCEAAAhCAAASSIYCAJcM5zVYQsDTpB28bAQvOjBIQgAAEIAABCEDAGQIImDOhCt1RBCw0ulQKImCpYKdRCEAAAhCAAAQgkAwBBCwZzmm2goClST942whYcGaUgAAEIAABCEAAAs4QQMCcCVXojiJgodGlUhABSwU7jUIAAhCAAAQgAIFkCCBgyXBOsxUELE36wdtGwIIzowQEIAABCEAAAhBwhgAC5kyoQncUAQuNLpWCCFgq2GkUAhCAAAQgAAEIJEMAAUuGc5qtIGBp0g/eNgIWnBklIAABCEAAAhCAgDMEEDBnQhW6owhYaHSpFETAUsFOoxCAAAQgAAEIQCAZAghYMpzTbAUBS5N+8LYRsODMKAEBCEAAAhCAAAScIYCAOROq0B1FwEKjS6UgApYKdhqFAAQgAAEIQAACyRBAwJLhnGYrCFia9IO3jYAFZ0YJCEAAAhCAAAQg4AwBBMyZUIXuKAIWGl0qBRGwVLDTKAQgAAEIQAACEEiGAAKWDOc0W0HA0qQfvG0ELDgzSkAAAhCAAAQgAAFnCCBgzoQqdEcRsNDoUimIgKWCnUYhAAEIQAACEIBAMgQQsGQ4p9kKApYm/eBtI2DBmVECAhCAAAQgAAEIOEMAAXMmVKE7ioCFRpdKQQQsFew0CgEIQAACEIAABJIhgIAlwznNVhCwNOkHbxsBC86MEhCAAAQgAAEIQMAZAgiYM6EK3VEELDS6VAoiYKlgp1EIQAACEIAABCCQDAEELBnOabaCgKVJP3jbCFhwZpSAAAQgAAEIQAACzhBAwJwJVeiOImCh0aVSEAFLBTuNQgACEIAABCAAgWQIIGDJcE6zFQQsTfrB20bAgjOjBAQgAAEIQAACEHCGAALmTKhCdxQBC40ulYIIWCrYaRQCEIAABCAAAQgkQwABS4Zzmq0gYGnSD942AhacGSUgAAEIQAACEICAMwQQMGdCFbqjCFhodKkURMBSwU6jEIAABCAAAQhAIBkCCFgynNNsBQFLk37wthGw4MwoAQEIQAACEIAABJwhgIA5E6rQHUXAQqNLpSAClgp2GoUABCAAAQhAAALJEEDAkuGcZisIWJr0g7eNgAVnRgkIQAACEIAABCDgDIFPln2tXa4Yn+tvh1ZN9PLZe6fS92HDhmnq1KlTJQ1LpQMV3CgC5lZwETC34kVvIQABCEAAAhCAQCACXgHr2KqpJp09OlB5WzcjYLZIbloPAhYf2zhqRsDioEqdEIAABCAAAQhAICMEELCMBCLGbiBgMcKNoWoELAaoVAkBCEAAAhCAAASyQgABy0ok4usHAhYf2zhqRsDioEqdEIAABCAAAQhAICMEELCMBCLGbiBgMcKNoWoELAaoVAkBCEAAAhCAAASyQgABy0ok4usHAhYf2zhqRsDioEqdEIAABCAAAQhAICMEELCMBCLGbiBgMcKNoWoELAaoVAkBCEAAAhCAAASyQgABy0ok4usHAhYf2zhqRsDioEqdEIAABCAAAQhAICMEELCMBCLGbiBgMcKNoWoELAaoVAkBCEAAAhCAAASyQgABy0ok4usHAhYf2zhqRsDioEqdEIAABCAAAQhAICMEELCMBCLGbiBgMcKNoWoELAaoVAkBCEAAAhCAAASyQgABy0ok4usHAlaa7WGSdpc0WNIgSS0l3SXp2ALFtpZ0qKSxksz/7iBpiaRJkn4naYKFMCJgFiBSBQQgAAEIQAACEMgqAQQsq5Gx1y8ErDTL16vE6wtJH0nqW0LA/iXpSEnTJT0vabGkbSV9W1IDSf8n6caIoUPAIgKkOAQgAAEIQAACEMgyAQQsy9Gx0zcErDTHPavEa3bVTJiZxSo2A3a8pGmSXsur0sygPSVpvaQekj6JEDoELAI8ikIAAhCAAAQgAIGsE0DAsh6h6P1DwPwz3KNqGWExAStV05OSxkgySxrv9d/kJnciYBHgURQCEIAABCAAAQhknQAClvUIRe8fAuafYRQBe0TS/pIOlvSg/yYRsAisKAoBCEAAAhCAAAScI4CAOReywB1GwPwjCytg3SW9K2mtpC5ViTnKtTqlyA19hw4d2nzKlGJ/Llctf4cABCAAAQhAAAIQyDIBBCzL0bHTNwTMP8cwAtZE0jhJIyWdKelqn80hYD5BcRsEIAABCEAAAhCoJAIIWCVFs/CzIGD+YxxUwEzmw7slHS7p35KOrkrE4b/FTe9kD1gUepSFAAQgAAEIQAACGSeAgGU8QBa6h4D5hxhEwIx8/UPSUZLukfRdSWv8N1X0TgTMAkSqgAAEIAABCEAAAlklgIBlNTL2+oWA+WfpV8AaVaWqNzNf/5R0XNX+L/8tFb8TAbNBkTogAAEIQAACEIBARgkgYBkNjMVuIWD+YfoRsMZVM14HSbpT0gmS1vlvouydCFhZRNwAAQhAAAIQgAAE3CWAgLkbO789R8D8kpLKCZhJuHFfVbr52ySdYlm+TE8RMP/x4k4IQAACEIAABCDgHAEEzLmQBe4wAlYamTm3y/xjro6SxkqaK+m5qv/2uaQzqv73HZKOl2T+2x+KJNyYKMn8E/ZCwMKSoxwEIAABCEAAAhBwgAAC5kCQInYRASsN8EJJF5S45X1JPar+bsRq9zLxuEiSqTPshYCFJUc5CEAAAhCAAAQg4AABBMyBIEXsIgIWEWDCxRGwhIHTHAQgAAEIQAACEEiSAAKWJO102kLA0uEetlUELCw5ykEAAhCAAAQgAAEHCCBgDgQpYhcRsIgAEy6OgCUMnOYgAAEIQAACEIBAkgQQsCRpp9MWApYO97CtImBhyVEOAhCAAAQgAAEIOEAAAXMgSBG7iIBFBJhwcQQsYeA0BwEIQAACEIAABJIkgIAlSTudthCwdLiHbRUBC0uOchCAAAQgAAEIQMABAgiYA0GK2EUELCLAhIsjYAkDpzkIQAACEIAABCCQJAEELEna6bSFgKXDPWyrCFhYcpSDAAQgAAEIQAACDhBAwBwIUsQuImARASZcHAFLGDjNQQACEIAABCAAgSQJIGBJ0k6nLQQsHe5hW0XAwpKjHAQgAAEIQAACEHCAAALmQJAidhEBiwgw4eIIWMLAaQ4CEIAABCAAAQgkSQABS5J2Om0hYOlwD9sqAhaWHOUgAAEIQAACEICAAwQQMAeCFLGLCFhEgAkXR8ASBk5zEIAABCAAAQhAIEkCCFiStNNpCwFLh3vYVhGwsOQoBwEIQAACEIAABBwggIA5EKSIXUTAIgJMuDgCljBwmoMABCAAAQhAAAJJEkDAkqSdTlsIWDrcw7aKgIUlRzkIQAACEIAABCDgAAEEzIEgRewiAhYRYMLFEbCEgdMcBCAAAQhAAAIQSJIAApYk7XTaQsDS4R62VQQsLDnKQQACEIAABCAAAQcIIGAOBCliFxGwiAATLo6AJQyc5iAAAQhAAAIQgECSBBCwJGmn0xYClg73sK0iYGHJUQ4CEIAABCAAAQg4QAABcyBIEbuIgEUEmHBxBCxh4DQHAQhAAAIQgAAEkiSAgCVJO522ELB0uIdtFQELS45yEIAABCAAAQhAwAECCJgDQYrYRQQsIsCEiyNgCQOnOQhAAAIQgAAEIJAkAQQsSdrptIWApcM9bKsIWFhylIMABCAAAQhAAAIOEEDAHAhSxC4iYBEBJlwcAUsYOM1BAAIQgAAEIACBJAkgYEnSTqctBCwd7mFbRcDCkqMcBCAAAQhAAAIQcIAAAuZAkCJ2EQGLCDDh4ghYwsBpDgIQgAAEIAABCCRJAAFLknY6bSFg6XAP2yoCFpYc5SAAAQhAAAIQgIADBBAwB4IUsYsIWESACRdHwBIGTnMQgAAEIAABCEAgSQIIWJK002kLAUuHe9hWEbCw5CgHAQhAAAIQgAAEHCCAgDkQpIhdRMAiAky4OAKWMHCagwAEIAABCEAAAkkSQMCSpJ1OWwhYOtzDtoqAhSVHOQhAAAIQgAAEIOAAAQTMgSBF7CICFhFgwsURsISB0xwEIAABCEAAAhBIkgACliTtdNpCwNLhHrZVBCwsOcpBAAIQgAAEIAABBwggYA4EKWIXEbCIABMujoAlDJzmIAABCEAAAhCAQJIEELAkaafTFgKWDvewrSJgYclRDgIQgAAEIAABCDhAAAFzIEgRu4iARQSYcHEELGHgNAcBCEAAAhCAAASSJICAJUk7nbYQsHS4h20VAQtLjnIQgAAEIAABCEDAAQLzl36tEVeOz/W0Y6ummnT26FR6PWzYME2dOnWqpGGpdKCCG0XA3AouAuZWvOgtBCAAAQhAAAIQCETAK2BbtW6ql85CwAIBdOBmBMyBIHm6iIC5FS96CwEIQAACEIAABAIRQMAC4XLyZgTMrbAhYG7Fi95CAAIQgAAEIACBQAQQsEC4nLwZAXMrbAiYW/GitxCAAAQgAAEIQCAQAQQsEC4nb0bA3AobAuZWvOgtBCAAAQhAAAIQCEQAAQuEy8mbETC3woaAuRUvegsBCEAAAhCAAAQCEUDAAuFy8mYEzK2wIWBuxYveQgACEIAABCAAgUAEELBAuJy8GQFzK2wImFvxorcQgAAEIAABCEAgEAEELBAuJ29GwNwKGwLmVrzoLQQgAAEIQAACEAhEAAELhMvJmxEwt8KGgLkVL3oLAQhAAAIQgAAEAhFAwALhcvJmBMytsCFgbsWL3kIAAhCAAAQgAIFABBCwQLicvBkBcytsCJhb8aK3EIAABCAAAQhAIBABBCwQLidvRsBKh+0wSbtLGixpkKSWku6SdGyJYiMknStpZ0nNJM2SdLukmyStjThKELCIACkOAQhAAAIQgAAEskwAActydOz0DQErzfH1KvH6QtJHkvqWEbCDJN0raaWkf0taLOlbkraV9F9Jh0cMGwIWESDFIQABCEAAAhCAQJYJIGBZjo6dviFgpTnuWSVes6tmwiaUELBWksx9rSWNlPRqVdVNJY2XtIukoyX9K0LoELAI8CgKAQhAAAIQgAAEsk4AAct6hKL3DwHzz3APSaUE7ERJt0m6U9L386rdS9I4Sc9WiZz/VmvfiYCFJUc5CEAAAhCAAAQg4AABBMyBIEXsIgLmH2A5AfuHpO9KOkbS3XnVNpS0TFJjSZtJ+sZ/s7XuRMBCgqMYBCAAAQhAAAIQcIEAAuZClKL1EQHzz6+cgL0iaYeqf6YUqPYtSdtJ6i9phv9mEbCQrCgGAQhAAAIQgAAEnCOAgDkXssAdRsD8IysnYDMlbV31j9kLln+9IMlkSDT/vFSm2UICZ4r0HTp0aPMpU4r92f/DcCcEIAABCEAAAhCAQPYIIGDZi4ntHiFg/okiYP5ZcScEIAABCEAAAhCAQAgCCFgIaI4VQcD8B6ycgLEE0T9L7oQABCAAAQhAAAIQKEAAAav8YYGA+Y9xOQEjCYd/ltwJAQhAAAIQgAAEIICA1ckxgID5D3s5ASMNvX+W3AkBCEAAAhCAAAQggIDVyTGAgPkPezkBMwcxz5Fk/s1BzP65cicEIAABCEAAAhCAQBUBliBW/lBAwErH+GBJ5h9zdZQ0VtJcSc9V/bfPJZ3hqcLc+19JKyX9S9JiSd+WtG3Vfz9C0voIw4pzwCLAoygEIAABCEAAAhDIOgEELOsRit4/BKw0wwslXVDilvcl9cj7u5n9OkfSLpKaSjIp6W+XdKOktRFDhoBFBEhxCEAAAhCAAAQgkGUCCFiWo2OnbwiYHY5J1YKAJUWadiAAAQhAAAIQgEAKBBCwFKAn3CQCljDwiM0hYBEBUhwCEIAABCAAAQhkmQACluXo2OkbAmaHY1K1IGBJkaYdCEAAAhCAAAQgkAIBBCwF6Ak3iYAlDDxicwhYRIAUhwAEIAABCEAAAlkmgIBlOTp2+oaA2eGYVC0IWFKkaQcCEIAABCAAAQikQAABSwF6wk0iYAkDj9gcAhYRIMUhAAEIQAACEIBAlgkgYFmOjp2+IWB2OCZVCwKWFGnagQAEIAABCEAAAikQQMBSgJ5wkwhYwsAjNoeARQRIcQhAAAIQgAAEIJBlAghYlqNjp28ImB2OSdWCgCVFmpp1ZKgAACAASURBVHYgAAEIQAACEIBACgQQsBSgJ9wkApYw8IjNIWARAVIcAhCAAAQgAAEIZJkAApbl6NjpGwJmh2NStSBgSZGmHQhAAAIQgAAEIJACAQQsBegJN4mAJQw8YnMIWESAFIcABCAAAQhAAAJZJoCAZTk6dvqGgNnhmFQtCJgl0itXr9XtL8xTo/r1dfzIHmrUoL6lmqkGAhCAAAQgAAEIhCeAgIVn50pJBMyVSG3oJwJmKV5/mDhbVz3+bq62Sw/eXsfu3N1SzVQDAQhAAAIQgAAEwhNAwMKzc6UkAuZKpBAwq5Hq8ZtHaupr2aSh3rxorNX6qQwCEIAABCAAAQiEIYCAhaHmVhkEzK14MQNmKV4ImCWQVAMBCEAAAhCAgFUCCJhVnJmsDAHLZFiKdgoBsxQvBMwSSKqBAAQgAAEIQMAqAQTMKs5MVoaAZTIsCFjcYUHA4iZM/RCAAAQgAAEIhCGAgIWh5lYZBMyteDEDZileCJglkFQDAQhAAAIQgIBVAgiYVZyZrAwBy2RYmAGLOywIWNyEqR8CEIAABCAAgTAEELAw1Nwqg4C5FS9mwCzFCwGzBJJqIAABCEAAAhCwSgABs4ozk5UhYJkMCzNgcYcFAYubMPVDAAIQgAAEIBCGAAIWhppbZRAwt+LFDJileCFglkBSDQQgAAEIQAACVgkgYFZxZrIyBCyTYWEGLO6w1BKwpg315oUcxBw3c+qHAAQgAAEIQKA8AQSsPCPX70DA3IogM2CW4oWAWQJJNRCAAAQgAAEIWCWAgFnFmcnKELBMhoUZsLjDgoDFTZj6IQABCEAAAhAIQwABC0PNrTIImFvxYgbMUrwQMEsgqQYCEIAABCAAAasEEDCrODNZGQKWybAwAxZ3WBCwuAlTPwQgAAEIQAACYQggYGGouVUGAXMrXsyAWYoXWRAtgaQaCEAAAhCAAASsEkDArOLMZGUIWCbDwgxY3GFBwOImTP0QgAAEIAABCIQhgICFoeZWGQTMrXgxA2YpXgiYJZBUAwEIQAACEICAVQIImFWcmawMActkWJgBizss7AGLmzD1QwACEIAABCAQhgACFoaaW2UQMLfixQyYpXghYJZAUg0EIAABCEAAAlYJIGBWcWayMgQsk2FhBizusCBgcROmfghAAAIQgAAEwhBAwMJQc6sMAuZWvJgBsxQvBMwSSKqBAAQgAAEIQMAqAQTMKs5MVoaAZTIszIDFHRYELG7C1A8BCEAAAhCAQBgCHy/9WiOvHJ8rulXrpnrprNFhqolcZtiwYZo6depUScMiV0YFtQggYG4NCGbALMULAbMEkmogAAEIQAACELBKAAGzijOTlSFgmQwLM2BxhwUBi5sw9UMAAhCAAAQgEIaAV8A6tW6qF5kBC4Mx02UQsEyHZ5POMQNmKV4ImCWQVAMBCEAAAhCAgFUCCJhVnJmsDAHLZFiYAYs7LF4Ba9W0od64cGzcTVI/BCAAAQhAAAIQKEsAASuLyPkbEDC3QsgMmKV4IWCWQFINBCAAAQhAAAJWCSBgVnFmsjIELJNhYQYs7rAgYHETpn4IQAACEIAABMIQQMDCUHOrDALmVryYAbMULwTMEkiqgQAEIAABCEDAKgEEzCrOTFaGgGUyLMyAxR0WknDETZj6IQABCEAAAhAIQwABC0PNrTIImFvxYgbMUrwQMEsgqQYCEIAABCAAAasEEDCrODNZGQKWybAwAxZ3WBCwuAlTPwQgAAEIQAACYQggYGGouVUGAXMrXsyAWYoXAmYJJNU4S2D2whW6e/KHGtO/g3bu1c7Z56DjEIAABCqNAAJWaRHd9HkQMLdijIBZihcCZgkk1ThLYMfLntZnK77J9X/6xWPVvHFDZ5+FjkMAAhCoJAIIWCVFs/CzIGBuxRgBsxQvsiBaAkk1zhLwvgYe/tkobd+5tbPPQschAAEIVBIBBKySoomAVUI0ETBLUUTALIGkGmcJIGDOho6OQwACFU4AAavwAEtiBsytGCNgluKFgFkCSTXOEkDAnA0dHYcABCqcAAJW4QFGwGIL8AGS/k9Sf0lmd/snkqZIuk7SSxFaRcAiwPMWRcAsgaQaZwkgYM6Gjo5DAAIVTgABq/AAI2CxBPi3ks6UtEjSA5I+l9RH0rclmV3ux0n6R8iWEbCQ4PKLIWCWQFKNswQQMGdDR8chAIEKJ4CAVXiAETDrAe4o6WNJn0kaKGmhp4U9JY2XNE9Sr5AtI2AhwSFglsBRTcUQQMAqJpQ8CAQgUGEEELAKC2iBx2EPmN0Y7yRpkqT/STqoQNXLq6S3ZchmEbCQ4BAwS+CopmIIIGAVE0oeBAIQqDACCFiFBRQBiz2gbav2ey2WNKBq+WF1o7tJeqZqWeIhIXuCgIUEh4BZAkc1FUMAAauYUPIgEIBAhRFAwCosoAhYIgH9eVWyDbP3y+wBM3vBelftAXtW0rF5SxMLdcok7Ch09R06dGjzKVOK/TmR56uIRrxfPls3a6RpF+xTEc/FQ0DALwEEzC8pu/etXbdeq9euU9NGDexWTG0QgEDFEEDAKiaURR+EJYjxxPhgSbdLauOpfrakCyT900eTCJgPSFFuQcCi0KNsJRBAwJKP4qIvvtG3b35BX65aoztPHK6BXTZPvhMZa/HTZSs14d2FGt23vdq3apqx3tEdCKRDAAFLh3uSrSJg9mmbDIiXS7pR0s2SPpXUV9IVksw0y9VVWRLDtMwSxDDUCpRBwCyBpBpnCSBgyYfu5/96TQ+8Pj/XMDPv0vr163XgTc/r7fnLNbjr5nrgpyOTDwotQiCDBBCwDAbFcpcQMLtA95A0QdL9kg7Nq7q5pJmStpK0taS5IZpGwEJAK1SENPSWQFKNswQQsORDN/b6Z/XughU1Db93pTkysu5eZinm1uc8Bo+6OwR48iIEELDKHxoImN0YXyPpl5JOk3RTgarvk2QScBwm6d4QTSNgIaAhYJagUU1FEUDAkg8nAlabOQKW/BikRTcIIGBuxClKLxGwKPQ2LWuk61RJl0g6v0DVz0kaVZWQ46EQTSNgIaAhYJagUY2zBBauWKlvVq9T17ZmIn7DhYAlH04EDAFLftTRoosEEDAXoxaszwhYMF7l7j5C0r8lLZA0rOpQ5uoy+0l6RNI3krpUZUcsV1/+3xGwoMSK3M8SREsgqSbzBOZ89oX2/d2zWrNuvf5+4k4atfUWCFhKUUPAELCUhh7NOkYAAXMsYCG6i4CFgFaiSH1JT0jaW5JZ6G/2gpkkHP0kHVh1CLNJU39DyGYRsJDg8oshYJZAUk3mCRzyhxf02gdLa/pZve+IGbDkQ4eAIWDJjzpadJEAAuZi1IL1GQELxsvP3Y0k/VTSUZL6SzJrfszBzJOrMiM+6aeSIvdkTsBWrl6rW56dq/r16+nkXXuqSUM3zrYhC2KEUUhRpwiM+u14fbTkawQsA1Hb5/pnNHPBF5vEIgNdS6ULq9as0zbnkoQjFfg0mmkCCFimw2OlcwiYFYyJVZI5Afv9hNm6+ol3cwDOP7C/ThzVMzEYURrKkoCZVMzmzbZLm437c6I8G2Uh4CWAgGVnPFSSgI1/Z4GenrFQ39+lh7bt2DIUZAQsFDYK1QECCFjlBxkBcyvGmRMwr8g0aVhf715qtrpl/8qSgB13+2Q9O/MznTyqp8490EyackHAHgEEzB7LqDVVioAt/WqVBl/8VA5Hm+aN9Nr55ojL4BcCFpwZJeoGAQSs8uOMgLkVYwTMUryyImDvL/pSu189seap6vq5QJbCSzUeAghYdoZDpQjYpLmLdNRfJkV+30LAsjM26Um2CCBg2YpHHL1BwOKgGl+dCJgltlkRsHc+Xa59f2dOJ9hwIWCWAkw1NQT8CNgjp43Sdp1aQy1mAghYbcAIWMwDjuqdJYCAORs63x1HwHyjysSNCJilMCBglkBSTeYJjLxyfG6PYb7kkwUx+dAhYAhY8qOOFl0kgIC5GLVgfUbAgvFK+24EzFIEEDBLIKkm8wQQsOyEaMx1z2jWQvezINpagvjNmrXa9tzHN/lxIDsRoycQSIcAApYO9yRbRcCSpB29LQQsOsNcDQiYJZBUk3kCCFh2QoSA1Y4FApadsUlPskUAActWPOLoDQIWB9X46sy0gDVtVF/vXEIWxCDhn/HJcu13A3vAgjDj3mAEELBgvOK8GwFDwOIcX9RdOQQQsMqJZbEnQcDcijECZile3hmwzZs30ush0yhH7Q4CFpUg5csRQMDKEUru7+wBQ8CSG2205DIBBMzl6PnrOwLmj1NW7sq0gHEOWPBhgoAFZ0aJYAQQsGC84ry7UgTspTmLdPQtpKGPc6xQd90mgIBVfvwRMLdijIBZildW9oAhYJYCGrEa82H3i3+/rs2aNNSNRw/J/btSLgQsO5GslCWICFh2xhQ9qUwCCFhlxtX7VAiYWzFGwCzFCwGzBLJCqjnmlkl6cc6i3NMcP6KHLvz2dhXyZBIClp1QVoqAkQUxO2OKnlQmAQSsMuOKgLkb10wLGEk4gg+s6fOXa/8bScIRnJzdEl4h77x5M73wm73sNpBibQhYivDzmkbAagMhC2J2xiY9yRYBBCxb8YijN8yAxUE1vjoRMEtsszIDhoBZCmjEauq6gD1y2iht16l1RIoUL0cAAUPAyo0R/g4BQwABq/xxgIC5FWMEzFK8EDBLICukmrouYA//bJS274yAxT2cETAELO4xRv2VQQABq4w4lnoKBMytGCNgluKFgFkCWSHVIGAIWBJDGQFDwJIYZ7ThPgEEzP0YlnsCBKwcoWz9HQGzFA9XzwFbuXqtXn1viXbo0UZNGzWwRINqEDAELI5XgXm9muM56tXb8FG793XPaPbCL2qaeu/KA+JoNvY6bWVBZA9Y7KHy1cBzsz7TZY/M0J592+vX+/b1VYab4iWAgMXLNwu1I2BZiIL/PiBg/lmVvNNVAavO1jeyTzvddfLOlmhQDQKGgNl+FZgvtT/+x1R12ryp/nfqqNwPJghYbcpGUPue97jzQmp77CRdn/f976FTR2lAF5YjJx2D/PYQsLQjEH/7CFj8jG22gIBZopkVAQuShGPtuvXqffajfFmxNAa81SBgCJjtYeUdUz/fe2v9fO9tELA8yAiY7VEXrj7vWL3y0AE6ani3cBVRyhoBBMwaysxWhIBlNjQFO4aAWYoXAmYJZIVUg4AhYLaHsndMHTS4k244aggChoDZHmZW6vOO1XMP6KeTd+1lpV4qCU8AAQvPzpWSCJgrkdrQTwTMUrwQMEsgK6QaBAwBsz2UEbDyRJkBK88oiTu8Y/X0MdvotNFbJ9EsbZQggIBV/vBAwNyKMQJmKV4ImCWQFVINAoaA2R7KlSxgk+Yu0lF/mVSDLGwyEQTM9qgLV593rJ6yWy+dvX+/cBVRyhoBBMwaysxWhIBlNjQFO5ZpAWvWqIFmXLKvE0QRMCfClFgnETAEzPZgy5qAfbj4K7XbrLGaN24Y+VERsMgIM1WBd6wePbybrjh0QKb6Vxc7g4BVftQRMLdijIBZildWBOzt+ct0wI3P+/olec3adepzzmO+7rWEqc5UU9cF7JHTRmm7TmQ+szngsyRgD77+sf7vX69r8+aN9OyZe6pV00aRHhUBi4Qvc4W9Y/VbgzrppqOHZK6Pda1DCFjlRxwBcyvGCJileCFglkBWSDUIGAJmeyh7x9TBgzvpdykm4fD25eRRPXXugf0jPa6tc8BYghgpDNYKe8fHnttuqTtOGG6tbioKRwABC8fNpVIImEvRIgmHtWghYNZQVkRFdV3AHv4ZSxBtD+SsCtghQzrr+iMHR3rcLAjYE29/qlffW6zjR/ZU582bRXqeul7YO1Z37NFG//nRiLqOJPXnR8BSD0HsHUDAYkdstYFMz4A1bVRf71yyn9UHjqsyBCwusm7Wi4AhYOvXr9fzsz/PDeBRfbZQvXrRPh4RsPLvBWFnwMx+tl2vmpBrYGi3zXXfT0aWb4w7ihLwjtW+HVvq8Z/vBq2UCSBgKQcggeajfcIk0EGaqEUAAbM0IBAwSyArpBoEDAGb8O5CnXDHK7kR/dcTdtQe27aPNLoRsPL4wgrY7c/P08UPT69pIGwWxvI9rBt3eMdqlzbN9Pyv96obD57hp0TAMhwcS11DwCyBTKiaTAsYWRCDjwKScARnFkcJBAwB63XWI1q3fsPoalC/nuZcvn+koVZIwEZfO1FzPvsycXHw9qUSliAiYJGG5iaFs/KDpN2ncrs2BMzt+PnpPQLmh1J27kHALMUiKx84CJilgEasBgFDwLxjwAynqLMqCFj5FyUzYOUZJXGHd6w2rF9PsyP++JBEnyu9DQSs0iMsIWBuxRgBsxSvtATMvKle9fg76tGuhX6+99aa/sly0tBbimmUaip5Cc7IK8fLjLvqq1osvM9MEg4JAfP/Cko7DT0zYP5j5efObc99TN+sWZf4zKyfvtXVexCwyo88AuZWjBEwS/Hyftlq07yRXjt/H0s1l67m8D+9qFfeW5K76U/HDlPXts0QsETIl26kkmfARlwxTvOXrUTAyoyzuiJghw7prOsiZkFEwDLwpmWxC8XeIyw2QVUBCSBgAYE5eDsC5lbQEDBL8UpLwLztmgMvf7R7LwTMUkyjVIOAsQSxrghYJewBu+35ebqEJBxR3vJqlR1z3TOatfCLmv/29kVj1aJJQ2v1U1FwAghYcGaulUDA3IpY6gL2xkdLdfo903JL6P507FD1OeexGoLNGzfQ9Iv3dYJoVgTsh7v10oE3Pb/J7EQhiKvXrtPWHt5R96g4EaiEOlnXBeyR0ziIGQHz/2JL+xwwBMx/rPzcuc/1z2jmgo0C9uyv9lS3ds39FOWemAh8tOQrjfrthqMWOrVuqhfPGh1TS6WrHTZsmKZOnTpV0rBUOlDBjSJgbgU3dQEbcMETWvHNmhy1C77VXxc9tDEVcNAsiHM++0IT3/1MBw7cSh1aNU00EghYorgz3xgChoB5x4A5AmzeFQdEGreFknDsde1Eza3DWRBnLlihuya9rzH9O2rU1lvo61Vr1e/8x339AOUNBgIWaWhuUjhfwO77yQgN7dbGbiPUFogAAhYIl5M3I2BuhS11ActfQvfQtPk1BIMI2Jq16zT88nFa/OUq7dC9jf774xGxRmLhipV6ee5i7dm3vTZr0rDWhvsk94Dl82MGLNaw+668kgWMJBz+hkGcM2DVy/7quoANufhJLflqdS4gb100Vg3q1UPA/A3PWO/KF7C/fG+Y9tmuY6xtUnlpAl4B67x5M73wm3TOZmMGLL6RioDFxzaOmitGwGYvXKG9r3s28C+fYaCuW7dee147Ue8v+kr7bd9Rfzx2GAIWBmQFlyELInvAEDD/L/CwSxC9jB86dZT6tN8MAfOPPbY78wXs8kMG6JidusXWHhWXJ4CAlWfk+h0ImFsRRMBCxGv6/OXa/8bnasleFpYgfntQJ53CHrAQEbVfBAFDwKIK2FPTF+ip6Z/q+BE91b9Tq1o/8mRpBsxGFsS4BGzeFfurnln/WeZiCWI5QsH+ni9gp+7ZR2eM3TZYJdxtlQACZhVnJisr/06XyW7X2U5lWsCCJOFIcgbsrY+XbZLowvtlq22Lxpp63phEBlWUJYir1qzTNuduTHpCEg57IatkASMNvb9xEkXAln61SoMvfirXUIvGDfT2xfsWFLDR107UnJT3gIURsLXr1mvqB0vUf6tWuex4CJi/MeXKXfkCdtDgTrrhqCGudL8i+4mAVWRYaz0UAuZWjCtGwGYtWKEx1yezBLGcgLmyByxfwPz+WuzWEE+nt5UkYBPeXaibx8+WmWH9/ogeQsD8jakoSTgmz1usI/78UtFZdtdnwM65/03d9fIH6rVlCz39i9318rzFOvqWSbWe1w/lcksQ/b6nMQPmh7b/e/IFbGi3zXXfT0b6r4A7rRNAwKwjzVyFCFjmQlKyQwhYiHghYCGg1bEilSRg3md55Zy9ddDNz3MQs4/xHKeAVc86ZSEJR5gZMC+be364i8yMmA0B692+hfqf/0RNdBAwHwM1hlvyBax9yyaafM7eMbRElX4JIGB+Sbl7HwLmVuwQsBDxyqqABd0DxgxYiOD7LFKpAmYSHfzw768iYD7GQV0RsDAHMXvZ3HXyTqpfrx4C5mNMuXJLvoCZfr9zyb5q2qiBK49Qcf1EwCoupJs8EALmVowRsBLxum/qR7rq8Xd18JDO+s1+fWvuRMDcGuRp9BYBIwkHAlb8lYeApfGulFybhQTs0dN2zSWT4UqHAAKWDvckW0XAkqQdva1MCZiZwfmf5xywIEk44tgD5v2SYM7MMGdnmKtSBOybNWu17bkbDy31u1wn+rCr/BrquoA9choHMccpYK7vAcuagN363Fxd+siMmjcmEhJFe48uJGDXHzlIhwzpEq1iSocmgICFRudMQQTMmVDlOpopAfvWoE7yHsScJQF78KcjNajr5r4ELK0siEGXICJg8b1YETAEDAFzZwYMAbP7XlhIwH64ey+dtV8/uw1Rm28CCJhvVM7eiIC5FToErES8vF+gEDC3Bnbava1kATvl76/qk2UrN5kt8D4zM2CqlTbeHEU174oDfA9L31kQr5mouZ9/mfjMjTfWUZNwZGEPGALme2j6urGQgO2+zZb624nDfZXnJvsEEDD7TLNWIwKWtYiU7k/FCNjMBSu0j+U09FkRsJWr1+pfkz9Qq2aNZJYeeQ8W9faRGbDsvPgqVcAe/tko/eDO8gJm7tu+c+vsBCSFnsQ5A1aTBREBq4msSRBj0tpvd0HwLIgImN0XSCEB22KzJnrlnNG+Dsa22xtqMwQQsMofBwiYWzHOlIBF2QNWyQL2h4mzc8lAzHXb93fQ6H4dakYZApbNF1ylChhZEP2PNwSsOKs49oAZ6e+5RTgB4xww/+Paz51jrntGsxZ+scmtE8/YQz22aOGnCu6xTAABsww0g9UhYBkMSokuIWAl4GRlBszbj95bttC4X+5hRcDMzFrf80jCEcdL1huzrm2b6bkz94qjmUTq9D4LAuYfOQLmjoAxA+Z/XPu50ytgJnnVx0u/zhW7+rCBOnyHrn6q4B7LBBAwy0AzWB0ClsGguCJg+Uk4WjRuoLcv3tcX0UqeAQsiYD/YtZe+dfPzNcxKZfPKF7C5l++v+vV5CfsacGVuclnApry/WNM+XKbvDO2i1s0b1drLlJaAvTRnkeZ9/qUOHtJJzRs3tBGi2OvwjgHzsppbYg/Yoi++0RWPvaPWzRrljrx47YOlOuLPL9V6HRfad7VXFpYgDu2s644YHIhn1mbAELBA4St7s1fADh7cSQ+8Pj9X5ogduuiqwwaVLc8N9gkgYPaZZq1Gvr3FF5HRkk6VtIukNpIWSXpT0g2SHg3ZbKZmwKJkQUTApIMGd9LJoxCwkK8Fq8VcFbCFK1Zq+GXjciyMgF17xKBaAmaWeZ1yZ7IHMRvx2vOaibk+/WSP3jpz341n8lkNmuXKggjYaXe/VnMEx7kH9NPALpu7I2BDOuu6I8ML2D9P3im3L+joWyb5+uHIG6b82Vn2gFkexCGr8wrY5YcM0Nn3m68q0latm+rF3+zFPrCQXKMUQ8Ci0HOjLAIWT5yukvQrs49S0mOSPpe0paRhkp6WdGbIZjMlYFneA/a/U0fmvhSZq9w5YO1aNNaU88aEDMmmxfzOgCFg1pBHrsjVPWC/nzBbVz+xYb+hucwMqvdZ0kjCcfo9r+u+qR8H/nIeOYgRKwiyBDH/NX7FoQNLC1jVrFMmZsAQsIgjpfKKewXMHMB8zK2TtPSr1bkHNbPoA7rU7QQ9aUQcAUuDerJtImD2ef9A0l8k/U3SKZJW5TXRSNKGd7bgFwJWglnYPWBxClif9pvp6dN3r+m1t48IWPAXQFwlEDB7WRARsE1F+NAKEjCbaeh7btlC23uyIPpdVs0SRLvvhF4Be/IXu+lPE+fovtc2/Ihy2l59dPo+29ptkNrKEkDAyiJy/gYEzG4Im0j6UJLZwbp1AfmK2prTArZu3Xq9PG+x+nZsqYUrvtHY3z1r9VfyLApYuSQc7AGL+pKwU76uC5jNc8AQMASs2Ksyf3bWZNjzI2Bm/+u9Uz9S+5ZNNaZ/ByFgdt73qmvJF7A5C7/Qj++amvtz93bNZbIheo9Tsds6tRUigIBV/rhAwOzG+EAzYy/pd1VLEMdK2l6SOQV1sqSNu7TDtZtpASuXhOOqx9/RHybOkZlxuuOEHfXtm1/IhIC1bdFYU1NYgmiWcCJg4V4Itku5ugfM1hJEBCzYQcze8WL2MV1xyAAd+Zfae6JqJeFgBiz3kg0rYDeNm6Vrn5qZq+PeH4/Qax8s0aWPzLD6+XHPKx/qsbc+0Y/36KPhPdvafovJdH35Ata1TXMNv/xprVi5Jtfvu3+ws3bp3S7Tz1BpnUPAKi2imz4PAmY3xhdJOl/SlZKMjBn58l5myucwSZ+FbNZpAfN++J4wsofueOE9qx+g3vqD7AFLS8BYghjyVRBDMQRslLbrZGefRyXMgJXLghhYwKr2XUXZA2ZSg//gb6+qUcP6ufMFzUG5fq9CMui3bL44mSQcqicdc8vLgd+/wwqYt5yRo336d7AqYAuXr9TwyzckszFXqWy0Qbi5cm++gG3ToaXOe+At/X3S+7lHMD8W3nj0EFcepyL6iYBVRBhLPgQCZjfGf5T0I0lrJU03ScAkvS6pp6RrJO0j6RlJGw+GKtz+lCLd6jt06NDmU6YU+7PdhylUm/eDMD8JR7kZMG/Z7+7UTXe9/IHVD7wsChh7wOIfkzZaQMAQsCBZEAMn4bAgYEf/ZZJemmuS6UoHDNxKvz9maNGh/+6nK/SfVz/UfgO20rDubWrNPFXvRwvyuvE+byUK2KS5i3RU3gxmED6u31tIwLzJqxrUr6cJv9xD3do1d/1Rnek/AuZMqEJ3FAELja5gwT9XJd74RpLJxIdmKgAAIABJREFUvbxxikcy71wmXVkXSSPKLEeseAE7Zqdu+mdGBIwkHHZfBC7WVtcFzGRL3L5z3ZsB+2zFN2rTvJEaNqhfS1KCzICZfZ5+syCa9PwmTX/1FWSmxTtGWzZpqDcvMivcC18DLnhCK77ZsHxs5qX7aZtzTTLeDZcNAbORht6MObO/aMCFT9b0rVgSjrhnwBCwZzRr4Re5OJgkHGYGzFzH3DJJL87ZIP1HD++mKw4d4OLbu5N9RsCcDFugTiNggXCVvfm3VSnmzWYAc/5X/nWrpJMk/bzqPLCyFebdUDFLEIPOgJnlN3+cODu3TMp8EBS6is2AvfnRsk0OO/be64qAfb1qrfqd/3jZLytBBxX3196b0rVtMz135l5OYLG1B8ymgP3ynmm5hAnVVxDJSBL6vVM+0q/+O01d2jTXU6fvpm3P3fjaqldPmlfiIOb8JYhX+kxDn5SAefs36azR2vmKjcvrogqYrSyIoQWsR1vts53dJYgIWGEBe3HO5zVLTRvWr6fHf76r+rTfIGdc8RJAwOLlm4XaETC7UThR0m2SzCf5fgWqvlrSGZLOqtonFrT1Oitgh//pRb3y3pIcrwd+OlKDu24448t7hRWwpo3q651LCoUraHg23O/tR6kliAcP7qQTR/X0nYwEAQsXDz+lmAGzNwPmioB5Y24OU/YmdahoAYt4DlglCthLcxaFOljaz3uLC/cUWoJo+r1+/frc0kyTvdhco/psob+fNJyMiAkEFQFLAHLKTSBgdgPQXdK8qlT0Zt/XurzqzTqQfSUdJenfIZquswLm/bJ0ym69dPb+/awJmKnI5q/0fgXMJOE4KYKAzbl8f5m1+VzRCXhj1q1tcz175p7RK02ghizOgLmShMMb8x/u3kt/fmZuTcSCLEEMkgUxEzNgEQXM7AGrtCWICFjhGTDzgpg+f7kOvOk5rVu/4eVx3RGDdOhQs5OCK04CCFicdLNRN9/e7MfhQZM0SNLpkq73VG8ScJiZsWVmkqTq30FbR8DMJruAAubdTFwtW94vXwhY0GFYefenOQP2zZq1mvL+Eg3t1kZNGzUIBDctAfvymzVatWad2rRovEl/EbDi54BZE7CmDfXmhcX3gMW5BBEBC/QSdeLmYjNg1Z2/8H9v668vbtjSvlmThnrs/3ZV17Yk5IgzuAhYnHSzUTcCZj8O5qehFyV1lWQW3r9WlQXxYDOjXzX7dW/IZhGwEAJWbg8YAhZyNFZQsTQF7LjbJ+vZmZ9pZJ92uuvknQNRTUPAPlz8lfa/4Tl9s3adzHK0HXvUPjPJxSWIUWfAyu0B+87QLrr2iEGqFAGzlYY+VBIOn3vAzMzNRQ+9rf6dWun8A/uXXDbHDFjxGTDzhvTFN2t0wI3P6f1FX+XenwZ13Vz/PmXnwD8YBXpzq+M3I2CVPwAQsHhivGXVeWBmJmwrScslPSfpiqoDmcO2ioBJ+uFuvXRWwksQ165br+dmfaYtWzYpe16S98v81u0301On714Tb+/fgi5B/GrVGvU//4maukotQTRr9297fp4+WvK1Tt2rT6Azg8IOTpfLpSlg3rZnX7ZfLiOf38uWgAU5iPl7t72s52Z9nutik4b19e6ltfdPuihgP9q9t/70zJwa7EGXIPoVsD2unqD3qr7EBv3hJ0gWRO+9L589Wjt5zriKmoTDZhp6k9Z8YNAsiD4FbMjFT2rJV6tzMf3z94Zp7HYdi76sELDSAmbAvf7hUh32xxe1pmotojmG5oajBrMfzO+bdcD7ELCAwBy8HQFzK2iZEjAjEA++Pr+GoFma8FaJ1MjeLwVB09CnvQfMpMw/+/43c8867pe7q/eWmxUdOX4FLGgSjiAC9vT0BTr5zldzfdxv+47647HDUh/pb89fpt89PUsje7fT8SPNFsnsXFkRsKD7+tIQsN2umqAPFm/4JbyQRCBgmy5BrJ4BS0PAbGdBzIKAjenfQZc9OqPoGDR/8L6mTxzZU+d/qz8CVoRAuSWI1cVuf36eLn7YHHG64TJczzuwHxIWw0cZAhYD1IxViYBlLCBlupMpAcs/iDlLAvbQqaM0oMuGc41sLEH0fpjvurXJBLVTpgXspL++onHvLCz5BSXpob/9BU/klrKYy3vWTNL9KNReJQvYyX97VZ8uX7nJWPA+c5AZsLogYCa5jZHhYletNPRbmHPABujIvIN8vfdYF7CU94D5XYL45Nuf6vYX5uWODjlocOdaUmTS0IeaAevZVmP6IWA23zf9CphZWXHOA2/VOsPTHClzyUHbqz4JoWyGRAiYVZyZrAwBy2RYinaqYgQs6DlgtTKWpbAE0dv+zr3a6l+nFDrmbUPcsjADduJfX9H4jAmYl4v5wlrsPLc0XpJpZkH0th3HDJhtAdv1qvH6cPHXReW+zs2AOSZg1TIY5HXmHaNBknB4y+UfCF1IwIqNf289w30uQczqDNj9r32kWQu+yGXAbbdZkyBhiO1evwJmOrB67Tqd+s+peuLtBTX9OXRIZ1112MBAy6dje5gKqRgBq5BAlngMBMytGGdawFo0bqC3LzZZ9gtf3g9EBEyKcw8YAhbshV3XBSzIQcwIWO0fWUwaer97wNJIwhHHHjC/aei9r6s3Ltyn1n6vLAmY98Bh885h81gS7zuRdzVGVpaGm/4FETBz/5q163TGf6bpAc8WhL36ts/tCWvZtFGwN1/uLkgAAav8gYGAuRXjTAlY/h6wIAIWZQ9YGkk44pgBCypgJvX3dhf4S8Jxwh2TNeHdz4rOUqQx7JkBK//DhO0ZMLO08KS/ll+CWKkCZn6tf2jafDVr1ED7bt+x1l4V73h0LQlHq6YN9YbPNPR+Bcx8qTZLL41c5V82ZsDSFDAz23TegcX3gCUlYGYfsdlPXH3FJXpB39+DCpip3ySmOveBN3X35A9rmuvTfjPdetwO6rFFi6Bd4P48AghY5Q8JBMytGCNgPrMgxrkHLK0liJUkYFceOkBHDe+W2qvPnGF150vvad369fr+iB7a9lxzRN+GK+mDmLOwBDGqgL08d5Gen/25jtyxq65/apbunfpRJr5k/mvyB/rNfRuS59xx/I7as2/7mn5ZE7AtWujK7wzUEX9+qdYzZ2UPmB8Bm/HJch1/x+TcGU///dGITc53i0vAzFlSgy56soabryWIPdtqn/4ddOkj9pJwJCVg5z/4lu586f1MvDa8b75hBMyUN3vCrnriXf1x4sYMoq2bNdI1hw+SSZTCFZ4AAhaenSslETBXIrWhn5kSMD9JOMwb9NzPv1TPdi3U6+xHa2jHvQTRFQE7YWRPHfT7F3x9ICNgwV6ssxas0GcrvtEuvdtt8qv+3ye9r/MeeCtX4bkH9Kv1ZS5JATOvj55nbXxd2J4BM2LlZw9YFAGbdsE+NV+iB3Zpra3bt8yMgHnFwRwh8co5e/sSsEpKwuFHwEZcMU7zl21I1GL281x35OBaL7Z8AfObhKPcEsRQAtajbe7Lvc0siC/O/lzH3Pqyr/fhYO9Cte/2Hmhs/uLyDJj3yR547WOdee8bucPZq6/v7dxd5xzQj7PCQg4YBCwkOIeKIWAOBctFATv9ntd139SPtXe/9np6xsasfJGWIO7eS2ft12+TyHk/7P936kgN7LJ57p43Plqqb99cW3K89/r5IPTev0uvdrr7lOIH5gZJwhFFwEqdGVXXlyDO+/zL3KG35vrtdwboyB1rz7Ztc85jWrV245cF72DKooB9vWptLptc00YN9P1dutdsdveThj5uATNLjqqPPDAcTZKHrMyA+RWwH+/Ru9av+HVNwLycem/ZQuN+uQcCFsN3g0sfnq5bn58Xu+gF7XrYGTBvO9M+XKof/WOKPqkSefM3cw6mOYC8+rM4aL/q8v0IWOVHHwFzK8aZmgHzcw5YvuhU4zYZ8O6e7H8tfK0siAhYDmMpATPLiSbW4T1gx90+Wc/OLL4HLqsCViymv3t6Zu4MNXOZbGNH7NA197+zKGCHDeui/07JxhLEShWwKHvACmVBrHQBy8oesCsenaE/Pzu3IgXMPNTSr1bp1/e+UStDoslOf9wuPXT6PtuoFQk6fH/jRMB8o3L2RgTMrdBVjIDFPQMW5xJEWzNghwzprONH9PC9BNGcoWXO0qq+XBawuPeAmf04k+ctLvpFZ+tzHtXqtesLvvrTnAErFlPvF+QOrZro5bM3LKUrJ2B+k3AEOQds1G/H66MlG9PQMwNWfg+YkVKzL8bWQcxxCpjJ6ji+wmbACgmY+YL7yBufaO/+HbRg+Uodc0v8SxCvevwd/cGzX6pSliB630gL7Qszf2/fsonO2r+vDhrUmTPDfHzvRMB8QHL8FgTMrQAiYCYJh48ZsKwI2DYdNtOTv9i9ZpR5v0gfPLiTgixBDCJg3799sp4pMQOUxrD3PjsCtiEC69atr7U3EgGzOzLDzoCZX+3nXnFA0c546+3lIwlHtYDtfvUEvb/oq1AzIN42XRSwNy/cRwMu3Jhww+w7TGoPWCEBq152165FY91w1BAde1v8Anbtk+/qpvGzQ8Xf7iujdm02liDm9++9z7/UeQ++pedmfV7rT2af6LkH9Nfwnm3jfCTn60bAnA9h2QdAwMoiytQNFSNgcS9B9ApYmnvAygnY8SN76mCfSTgQMP+vRVdmwFwUsPxzwCpxBqySBGzy2aM1/PJxNS+eyEsQf7BTri4/M0ZeaSwoYG2aa9DFAbMghkjCcfKonjo3Lw29t283HT1EP7v7tdjFyLuU2DRWiTNg+bNhD7/xiS5+eHouIZL32ne7jvr1fn3Vk5T1BT/YEDD/n/eu3omAuRW5ihGwJJcgImDlP+iXfbVarZo1LHgGkK2XiPcLT6HEGLbaMfW4KmCzLttPjRrU3wSFl13HVk016ezRuXuyuASRPWAbXm/emIWdAbvuqZl67YMl+vW+fXXgTc/XjIsoM2CHDu2s644onuWw7BJEBwWs0AxYGgJ28/hZuubJmbGLXtD30jhmwLx9WLFytf70zBzd8ty8WpkSTbIbs5f8p3v2Ue8tNwva7Yq+HwGr6PDmHg4BcyvGCFiIJYi2BWxE73b65w/8ZUF0YQbspnGzdN3TM7V3vw665bgdYntFsARxU7T5M2B+BCzre8DiFLC3Pl6mm8bP0m7bbKnv7tS97Fj1jjmzB2VykTT0cWdBDCNg5my1I/8yKfeM5nwuMwNefaUqYCfvlPvm4NIMWFYEzEjIlY+9kzkB2/u6ZzR74Re5fj35i920TYeWZV9bYW74eOnXuvrxd/TA6/NrFTczzvsN2Eo/2LWXBnfdkL24rl8IWOWPAATMrRg7I2DmF69mjRqozzmPFSTs8hLEYgK2eu263OyF90tfKQEzSTjMIcB+lyAapt49FKWScATZA+bt79On76Y+7eP58HVFwLq3a65nfrVnIu8Ma9etV2/P+XhxCNiJf31FC5ZvXP5TvezJGw+bSTjiFLBtz31M31SdNTTxjD3Uo8zyJb8C9pM9etdKjhA0DX25g5gPH9ZFVx8+SEH2gOXPlngHZBQBi7wEsY4LmMn099C0+RrWva36d2oV6H3itufn6ZKHp2dawJ76xW7aOiYBq37w1z9cqmueeDd3eHv+tUP3Njp5154a07+jzOuwrl4IWOVHvu6Objdj64SAPTfrM/3gzlfVtnnjmsM983FHEbAf7d5bv9mv7yYR9H7ZijMJRyEBMwf7Xv7IDB0wcKtaKbjLCViQLIhBBKxcGnYvPC+3+38yQkO6tYnl1eHKEsSsC1jQJYiVJGDeMXTDUYN10ODOJccqAiblH8RsRcDMHjAfBxdX4h4ws1fMCFjjhvU19bwxudlJv9edL72n8x98u84LWDWAKe8v1o3jZtdKGFX9t65tm+nEkT11+A5dAzH2G4us34eAZT1C0fuHgEVnmGQNmRawlk0a6s2LxtaaASoGx6+AzVywQh1aNdWgizZu1A4qYEksQSx23lk5AYtrBgwBC5+GHgEr/ZZWLg19nDNgWRQwk0Tgt98ZmNt3WH0V2wO221UT9MFif1kQzdLga5/auF/IG5XWzRpp2gX7FA2Ul1PQJBy+9oCtj0fA/GQBHZ5yEo6gY9AbpH++/IHOvv9NBCxv5L49f5nM7KAR2/zjQZo3bqBvDeykI4d31ZCum8e6TznJL3Pl2kLAyhFy/+8ImFsxrFMC9o9J7+vcB96SWW6zfOXG/Q8uCdi2HVrqiV/sVjPKvB/eUZcgFluuZhpDwNwQsDVr19Vapjvz0v1yv6znX1GScDADtoFmqT1gUZYgGgEzxypU79cybSFgG5iXmwHr0qaZBl/8VM1w9ytge/dvr8sfLb2Xytu2zSyIUQTsnlc/1Jn/fQMBK/K969NlK2VmCe96+QMt+3r1JneZHzQPGdIll7ij0+bN3Pr2FrC3CFhAYA7ejoC5FbQ6JWDFZpVcErA4Z8BcELBJcxfp2Zmfycx47nrVhJpX21VmxmDHrrG9+lzJghi3gD162q464a+TK2YPWNAvv0ktQbzCp4DZ2gMWZAbM+hJEkwXR0gxYXROw+1/7SL/49zQErMw7/1er1ujeqR/rzhff06yq5CDeIvXqSTv1bKuDB3fOJe8wr4dKuxCwSovops+DgLkV40wLmFkL/5bFJYhRBMwc8rl959a56NpegjiyTzvddXLtLIjlliCuX78+t3QiygzY8pWrNdBzkGkpAfvebS/XOgCz1Hkz3j498NOR1rJQmV8wq5eO9u3YUu98uqLm1ZZ2Gvo+Zz+qNevWF3z1d2vbXM+emUwSjrgFzCTXOOmvr+rT5Ss3+dLnjbsRtVIJBcxSYLN8aux2HXXGf6bJZDOrvvLPAQuzBHHuZ1+oSaMG6lzmV+0sCliQGbAgAmZrCWJQAategrhwxUq1bNJIzRo3qPW+9c8SArZy9drcmU8rVq7R+Qf2146XPV0zTgqdA1bXBMwssUvivLGgX2u8WRCTSMLht3/mc3PqB0v171c+0EPTPtHXq9cWLGo+k48Z3l179t1SzRv735Pntx9p3IeApUE92TYRsGR5R20tUwJ28OBOtdLJVpqAmTf/tz5ero6tm9b6IlEoCUcxATNLEI/csatuHD9Lx+3cXTeOn10zBoIuQXRNwCa8u1An3PFKwTGfZQFLcg9YVgTMm7SmUMCGXPyklny1YUlQuxaNtejLVdYEzCTt+d5tk2USnj36f7uqb8fimeWyKmDl9oCFyYJoS8Dy94BVp8T3xtnL1QjYuQf00yl3TlGLJg01/pe7a9ilG0WqlIB5MzfuP6CjHn3z05pmzI9z21/wRM3/Nz+S1TUBe/ytT/Sjf0zd5MeQqF8MopbPqoB5n8scw/Dk25/q/tc+1guzP1eh38+aNKyvUX220Jj+HTS6Xwdt2bJJVDSplUfAUkOfWMMIWGKorTSUaQGznYSjmNSYM3vMwaT5V7EsiGFnwKo3TJs39erU16bNoAL27oKNMz/ePtdlASu1BNF80LZo3CDSZusoSxCTFDBzdMHWnqMa3r10XzVp2KDk2I4jC2KhPTLFvqDndy7qDJj3dWtmSh//+cY9k6Ve4zcePUTfHtSp5BtrEksQ/SThyJKAlcuCaARs7mdf1nDNn9EsJWD5SUa8wbEpYOYL9mWPzigpMlncA/bU9AW5DMHV19zL91f9DKRad0HAvGNp4fKV+t+0+brjhfdqzcZ77zHLFM2ZYmasjOnXIfbU+la+4XkqQcBsE81efQhY9mJSqkcVJGBddffkD31/gHqhJLUHrJgABlmCaGbASgnYcbt01yF/eLEkB/MlvXrphUtLECe8s1An/LXwDFgxAXv4jfk6/Z5p6r3lZvrfqSNz56qFucoJWKkliKUEzMTif6/PV6OG9XXggK0if3mKW8D87gEr9KU8rIAZ2fjPlI9KjulidXsPmS4U9ygzYPl1e+v66Z699fsJc2qabFi/nmZfvn/Roect62cJYrWAuZIF0Stg5v3uhdmLaliEFbBCSxDNktMhlwRLwrFjjza5L9UuJuHIF7BiP7iEec+LUsY1AfM+q1lpMW7GAk2et1gzF2w4TLrQZX7c2X3bLTWy9xbasUfb3NLaLF8IWJajY6dvCJgdjknVkikBM5mIHvScaB9sBixeAbOxByxuATt0SGd9r4yAmX1U+/7uWS35apWuO2KwfnLXxuUrWd8DFkbAvMwvPXh7Hbtz91qvrU+Wfa3rn5qp7u1ayGSuM/vqCl1xCdg9r3yoM+/dkMXsT8cO077bd4z02s+KgBValuZXwG77/g466W8bf9UPugfMG3MbAmZ+HX/ojU+029ZbaMz1z9Y8RlwC1muLFiqXhMO2gG3evJFePz++NPRhBWzXq8brw8Ub9wd6x1CaAvaDXXvqnAP613qtesfdTUcP8b03K+iPAN5G8wXs7YvG5pZ5pn25LGBedu8v+lKGsfnnlfcWF1ymaO5v3KC+hnbfPLdccUSfLTSwc2s1DPljX1yxQ8DiIpudehGw7MTCT08qSMC66e7JH9Q8c6EkEVGWIHoFbNqHS3XQ71+o1VZ+3UHaT3IG7LwH3pI55LnQlbSArVu3Xs/P/jz3hWFot/LnsUQVMDMr8auxtZeafvfWSTW/xpulb3v375CogHnHjTke4Y0Lx/p53Ra9JysCZnMGLCkBK7YEsVq+WzZtmEsGUX0hYBtIBF2CGGQGrJSAFVqCGGYGzJwD5moa+nwBm3b+PmrdPP0MfpUiYN432iVfrpKZHTPMx81YqFVr1xV9HzY/Hu/Uq51G9WmnkX22UJ/2m0VaAh/pQ6GqMAJmg2K260DAsh2f/N5lSsDyk3AEmwFDwMwesPwliPl7AvKzGXoHRNICZpYHnvrP13JduP8nIzSkW5uSr544BMwrQN8a1Enml+tCV1wzYLYFbNWaddrm3MdqHsH2HrA0liCmLWDFfrgpJWCn7tlHN0/YmCCnQf16muNzCaKfGbAjduiiqw4bpPxDrEtlJ40rCYcNAVu/XvrurS9v8gOaTQF7evoCPf72pzp+RA8deNPzNW3FIWBG5k+7e8N7m7n8Zo294ajBOmhwZ9/fIvIF7NVz99YWm6WfKKISBcwblBUrV2vS3MW55B3mn0Kp7b33mzMDjYiZf8ye7zTOHEPAfL+snL0RAXMrdAiYpPwkHDM+Wa6ubZtvkmGrOg29SzNg0y8eWyuNbtIC9uBPR2pQ180Lviq8X2z9JKpwVcB6tGuuib8qnIY+bgF755J91bSR/yQcf5g4W1c9/m6tL4756eX9nAN26NDOuSWuxa5iUmPut7kE0ZtgpFBfvP0oNgMWRsDy94AFETA/STiqBczPzHv1c8clYH6yIHqXIJovoC/Oqb0HLG4B8x5hYfbjeY+MCLMHrNwSxLQEbNJZo3NZdtO+Kl3A8vkuWL5SL84xMrYoJ2SfLNt4TEehWJiZ2h16tNEOPdrKjL9t2reMvP+3XMwRsHKE3P87AuZWDBGwPAG75dm5uWxYW2zWWJ9/sTE1tqt7wKIKmEmdv3bdeh1/xyu55YJBf9H1K2DmA+mF3+xV8tUTt4CZDHjmi1OhK8oMWFQBMzG4cdxsfbD4K50xdhtt1brZJl388zNzcl9qTxu9tb7zx41JWIIK2O8nzNbVT0QXsKwsQcyKgAVNwlEuDb1tAYuyB8wFAcv/0cz7AjJfgPfu10FXPPbOJu9vf3l2jp58e4FOH7ONjvHM0JUTsLT2gD135p65Hw/TvuqagHl5m/freZ9/WTU7tignZss9S5cLxcYsbx7WvU0umcfQbm00sEtr63v5ELC0XxXxt4+Axc/YZgsVJGDhk3B4Z8CK/dod5x4ws3H3HyfvVCuuxfqRfwCxt1ChJBwzLt63Vnam426frGdnflZwDM28dD81brgxS6BZ837Yn16USeNuJMwrpH6X1CQmYIcN1BE7dN3kubwczbKwM8ZuW5RzXAJWanbPzwzYY29+oh9XJUspNFbenr9MB9y4YUmVySFiZhOqLz8CtlXrpnrprNG5In4E7Pg7Jmvhim82+bLqfZYoSThspqF3UcCCLEEMMgN247hZuu6pmQVf+8UEzOzTNGnNve1MPme0hl82rqaeOAUsf4mlt/OF9oCZpV1DC2RBLCVgZgni6H7tNxEwk4Bh96snFuSVVQEzZ6z12nIzm98RQtVVlwUsH5j57DTv0eYHzBdnL9KU95cUPQC6uqw5SWCbDi1zae/NCpIBnVvn/r/38zloYBCwoMTcux8BcytmCJiUy353ZtU5YGkImK0kHIUELP8LeBAB++U903Tv1I3pv71DOw0BG//OAp34143Z8bz9uaoCBKx1s0aadsGmmehOufNVPTl9wSbCU/0fTFIVk1yl0BWHgB1z6yQtrTpE2bRZPRZsCZhrSxC/XrU29yNHvux794AFmQHLgoCZZC5mufLshV/qxqMH65hbNu7PyhewoHvAdunVTi/N9bcEMaqAVe9rff3DpTrYkzjJ+1opJmCl3m/KCVhaSxCf/MVuuS/qaV8IWPEImNeW2ebwyntL9Op7i3P//vyLjT9oFStp5KvfVq1yGRYHdGmdmyXrs+VmvrMtImBpvyribx8Bi5+xzRYQMASsZjzlz4CNvnai5ngOUC0lYGbZhfmSYz78t7vgiZpbzdlbA7uU3wPmZwliXRUwc9Cq2WxffeXL799fek/nPfh2WQEz6dRvGj9bPbZooUsenl5zf9AZsP1vfK5WW3VZwEb12VIPvv6xTt9nm1p75/KTcGRBwErtAcufAbvjhXm66KGNY8Qb8Mlnj9bwyzfOgEUVsLt/sLPWrV9fMAlHVgXslN166ez9+9V6HeTvJ0wjCccjp43Sdp1a2/yOEKouBMw/NvPZ+f6ir/Tq+xuE7LUPlmrmwhW1VjIUq61po/rqb6Ssy+a52bL+nVrJ/IBTKAU+AuY/Jq7eiYC5FTkELAMCZmsJYqEsiFFmwPa6dqK8m+dLCdihaUsPAAAgAElEQVSlD0/Xrc/PU7e2zXN7laqvLC1BLJSG3vulyZxDd8NR4faA9T770dwyzUKX3yWIxWbAbAnYiX99RePfWbhJF4MI2GP/t6v2u8EdAfM+W6HYREnCUeqtPosCVmoJYpvmjfSa5xyw39z7hv71ysaD7eMUMHMQc7EkHEkJWKE09FFmwNLaA+Ynm2wSX1EQsGiUzbL/Nz9alvtR882Pl+qNj5bpoyWFz8PLb8nMlJmtCv06tsoJmfnH/H+TiGbUbyfkbvfzg2e0JyheetiwYZo6dao5gHRYXG3U1XoRMLcin20Ba9pQb144ttbSnmJ4jx4efg9Y2ksQbQmYWYJ47C7ddegfiidhCLIEMYiAFVu66VfAurRppud/XToJR9QZsDACtmbtutx5LyYJyeR5i2uGX/4sVCkB85uEI7SA+VyCWCxGWRcwM8PiXQpbavmrCZD3OYMImPnSbI4iyL9KZWws9n4UVcCu/M5AmcQv1Zd5Zm8/wiThCLIH7Nf/fUP/frWIgEXcA7Zzr7a5FN7VV1gBK3QQc/4eML9LEJMWMLPkzGTL22Ob9hp08ZM1LKKmoTezibv0bpf6txAEzH4IFn+5Sm9+vExvfrRByMz/Lpdt0dsL815YfT8CZj8+WagRActCFPz3IVMCZmZw7n/t45rem8xA/gWs+Dlg42Ys0EtzFuVmaApdCNgGKvlLEG0ImN8liEkIWLkkHPkzYCYJyQE3PpfLYPX16rW1ZrgyJWA+lyDaEDBzDljSSxBtC5g5TPWPE+fIvN+cdd+bNW8JQdPQl3qbjSpgVxw6QEf+ZVJRATtyh6767WEDN/lxqpScuihgI68cr4+XFv7lP1/AzPI7kyHUm4TDr4AVSsIRZQas1B4ws+Rs/xufz+0Dyj+UOqqA3XHCjtpz2/b+vwHEdCcCFhPYvGoXrliptz5ellu2OH3+8tyYml8mBb6pAgFLJj5Jt4KAJU08WnsVL2CfLlupna/YuF+hEC7vzEixL6netfW2zwGzOQP23Z2710pDnn8Qb6AZsGsmau7nXxYcYflf9IpxsylgpdLQX33YQB0eMQtivoCd8Z9p+u8Uf0lIbMyAFctEZ2sJYpICdviwLrr68EFF352CnANmW8CKtV2XBSx/CWJWZsCCCpjJejns0qdrxl21gL32wRId4lkZ4B2YYZJwRNkDtvSrVRp88VMFXxtRBeyP3x2q/QZsFe1bgYXSCJgFiCGrMD8cGhGbXv3P/OWavfCLWmff7br1Fvr7SbUzL4dsLnAxliAGRua7AALmG1Umbsy2gDVpqDcvirYE8Z5XP9SZ/32jJGw/M2DuCFg3feePG5cuVZKAlfpF2oaAHTy4k37n2QN20O9fkJHtQleQGTBzsO6EM/YoWI9XBuIQMO8xBEkKWJQ09DazIBZagliMQ5aWICY9AxargG3RotYPOTv1bKuXPct5zbI5s3/y2Ns2Zlqsfn0FETBzVIiJd9YFzHxBHuJJle99Y4gqYNcfOUiHDOmS+pcLBCz1ENTqwDdr1uYkzMySmb1gZva/3WZNUukkAhYfdgQsPrZx1IyA+UzC4YSADe2s7+5UWsC+f/tkPePzHLC9MjYDhoBteAsIkgXRtoBVQhKOJATsZ3v1yWWcrL5sZ0G0vQQxVgHbskWtZD51XcDMXh7vMkmbAnb5IQN0zE7d4viuEKhOBCwQrjp1MwIWX7gRsPjYxlFztgUs0B6wwkk47nnlQ515b+kZsKBLEPPPlMnfIF/oS7L5b8W++BVaDhDqIOahnXXM8G467E8bZ8DysyCWErD82TIbAvbQqaNyZ5YUurzPGHUPGDNghdPQ+xGwTq2b6kWfBzH7FbA0liCazGHm2t5zDEJaM2BxC9hRO3aVSdRh6yDmfAE787/TdM+rhZffRj2I2ZaAvXHhPhp44cYEFq7MgMUpYOcd2F8njeoZx3eFQHUiYIFw1ambEbD4wo2Axcc2jporVsBeP3+MNm/eWHVNwI7asVut7GlBBCxflva8ZqLmRdwDZkPAzP6Nv734npo3aah/vvxBwddBHAJmDm41sl3oCrIE0W8WRBeWIPoVsEJLEL/8Zo2enrFAQ7u10a5XbUiHXOi69bgddPKdGw/c9rMHbOaCFbnsnybBwZer1tZU65XL6v+YxgxYowb1NOuy/Ys+s7dPfg5iPmDgVvr9MUN9CZjhPn/p13rsrU913VMzC/ah0gVs6gdLamWH9UIwe8D26tdeVz72Ts1/Nq/vUntOo+wBKyVgvztysA4e0tn3Z705H9DsEa2+fjV2W/10zz6+y8d1IwIWF1n360XA4oshAhYf2zhqrlgBe+WcvbVlyyaxCFiYJBwmnXmfcx4rGENrM2BDOuuo4eEF7N4f76Jh3dvW9DErAuYnDbgfATOzEr/cZ9taMfDWbdbFX3/k4Jq/2xKwqHvATv7bqzlxqb6CLEGcfvFYNW/cMFfUxh6wKAL2q/9M03+mfKR2LRpr0ZerrArYPtc/o5kLvtikTicFbMsWuuKQ0lkQzYP6mXn/etXanOyatOdGspZ8tTo2AVu5em3uuACTCOOkv22Ugl4xLUHMnwEzy8SLJeEII2ClljxnVcAKvcfF8cWhXJ0IWDlCdffvCFh8sUfA4mMbR80ImCRvevI4siD+7O7XZFLhf+X5Zd4bzOwI2AgN694GAasiEETAep31iIqcw6ysC1hSSxD9iLRBn5+Ew88MWLG6gwjYzccM0YED7ZwDdtpefXSjZw+Y7RkwvwJ2y7NzddmjM8p+dtiYAbt5/Cxd8+SmM2z5Aja8Z9taZ+qFTcJRSMA6tGqqHQpkQUxawEodxGxzCeKTb3+qU/4+pSa+P9i1p845oH/ZeMd9AwIWN2F360fA4osdAhYf2zhqzpSAmYOE77N0DpjtGTBz/pE5Ud5cQfaAlUp/XB1QawI2tLPM5nzv+UFBliDe/5MRGtLNTQG75vBBMsve8i/vF/M4Z8BsCFj+l+DqZ4l7BixrAhZmCaINAbOZBTHuPWB+BezaJ9+tlQyk2IdI/tirnq0sdL95b93xso2p3quXmxaLgQsCVugcsFJLEH+4Wy+dtX+/Wni8z1/qHDCbSxDzBezo4V11xaED4/iuEKhOBCwQrjp1MwIWX7gRsPjYxlFzpgQs/yDmVk0b6o0Lw6WhT1LAzDKv/uc/USs+1cvEHn/rE/3oH1NLxs6mgB2xQ1cd5TnANYiAPfDTkRrcdfOavu5x9QS9t+irgn33ew5YoT1gJg3zuwtW1Opn17bN9NyZe9W09fLcRbph3Czt3a+DLn54etmxn+UliGZPz3gfaegrScCO2KGLrjqs9jlgfmfAbApYoQNH/e4BW712nRo1qF906WapQemagLVt0VhTzxtT80ixCliPtpr83uKatkrNgI24YlzRg2WnXbCPBl20MQmHWYIYagasZ1vt1TfYHrCsCtj+AzrqD98dVvb9Mu4bELC4CbtbPwIWX+wQsPjYxlFzpgWsZYAsiCYr2L9e+bCGURABM0sQR/Rup3+8/L4effPTgpyrZ8DMnorpnyyrddZW/i/C1b9Om38nLWCHD+uqo2+ZVPMM+QJW6iDmB386UoNiFjBzHok52+fzL2rvAcoXML9f1qsfNF/ATDKG/2/vPMCkpro3/tI7SEcElN5EOqggHcH6fSo2RMWOvfeOYO8NG9h7/fzbpal0QUCkI9KUDtLrwv85w2Qnk00mN5ncmWT3vc+zj7J7c3LzuzczeXPOPUdCAqVAstHcPGDigX3StAfslBfHY/oytSQcqTxg+U2AXfP+dCxck9hvZYhx85zZZUFUndMgBZjfEETZ/3PtBzPQuHo5TF260fNnr1WAZSsEUdUD5kWAOWVBdJrf+lXL4M+1iYLuXkIQ0xVgC4Ych+JFC2Pa0o1JBerNEyrj8SrAdO0B81oHzOoB69SgMt69+EjP6zXoAyjAgiaaf+xRgOmbSwowfWx1WM43AkxCL96fkleAffjrMtz66ayU7ESAPT8mUbPHrrMIsB17cjBwxBRsiae7NvqlFmCrMOidRIy+ne0gPWASDtT/1URBUy8CzPBW/bJwLd4YvwSj5q1x5ObXA/bJtBW46eOZeeymK8DMIYiSjvzMlydi/dbdWLV5Z74XYG9NXIJ7/mefhn72/X1QpkTqJBxeQxCv/WB6UsKL/CjAVMWi0w2S1h6wAJNweBVgL45dhP9N/wf/bNqBLTsPpPW3NqsAM8S2sgDLoAdMSYBpyIIoQkoEvNHMn5c694A1r1keX19zjI5nBU82ez4xNld0/3h9FzSsXs7T8eycfwlQgOmbWwowfWx1WA6VANOxB0xFgFnfVjsJsNOGTYiJMGsLkwesX5ta6P+aswBLVQdM6ugcfkgFpZArvwLsnUlLcdcXf+RhaK0D5vUB2CzAHvhqDoaP+yvPOaLmAduycw/GL1qHEeOWJIVsWdlnUoB9d90xEA+YOeNgmAWYlxBEcxIOr+vPutiiKMAkw2XHB0e5fs9YP+/SFWAfXHokJNzz3OFT8giWoDxgbkk4ujephke+U09D7xaCmEqArd+6C21NiULMwNP1gNmtd9cJ1dDBLMBG3tAFDapRgGnAHEmTFGD6po0CTB9bHZbzkQDz7wFTFWDHP/uL7RxkUoA1Pbg85q7cbDuOU9scAjcBlioEUfZQNK8ZfQF2+ksT8OuSvGFjYRJgUtds7Pw1GDN/be5cWsPAznplIiYtTuyVsXubLr97e+IS3J2GB8z80PbCmEV47Pv5SQ/CZjGSDQEm6/qz3/629SYYv3QSTAVdgD3+/XxX774wlLX3+sD2+M8L412/Z7wm4cgTgmjxgAUpwKqVK5mUIETVA5auAJOQ57q3J8KdsyXAypYoij/u7+M6h7o7UIDpJhxd+xRg+uaOAkwfWx2WKcAA5CcBJim7z0nhAUslwIx9bipv/1U9YIZXzVi8Th6wdEMQnzi9JU6LZ0EMuwBbvHYrejzxU5772SrAnOYhCh6wIJNwFDgBVqUMHjo1mDpgYRRg7Q+rmPSCJJUAO+qhUVi5KRFGbL5pZt5zLFoOTk7C4UuA1a2E7o3T84CFRYAJn/lD+qJE0SI6nheUbVKAKaMqcB0pwPRNOQWYPrY6LIdagAWRBTGoEES7ArTGhITJA3Zq61oYMDwRgjh3cF+UKp74Mk4lwOQaxcOWDQEWZAiikwCTsLAbUhRizlQSjv/N+Dtpf4ixjqIgwGSNqOwBS0eAvXpeO1zyVqKQbzp1wLLmAevZEM+OWpj7mV28SGEsGHqc42e4+Z6TpC3ZEGAjBraH1L5za+l6wCjA9IUgytz9dHM3HFq5jNs0av07BZhWvJE2TgGmb/oowPSx1WE51AJMLlje9qsIAmsSjql39UKVsiXwwZRluO2z1Ek4VDxgfgXYt7NW4vJ31dPQ3/n5LEz+awMWmbLMmSfeLQRRUvmb91J4EWAjb+iKBtXKKvEOmwfMvAfMtwBrcwiePKNVLm4vWRDr3v419u+3v0WtWRCDEmA5+/Zjwp/r8OtfG5KK/ppHoZKEw0sIoqoASycLYr4QYJZCzJ4EWIBJOFQ9YJXLFMfwLAqw3Xv3QV4OGc34fMmUB6xb46p49Lvk0FsvdcD27duPeqaMq6lCENdt3ZVULNp8v6a7B0xsvXdxRxzdoIqO5wVlmxRgyqgKXEcKMH1TTgGmj60Oy/lIgNXB+1OW5TIy0tBnQoCJ2Gtn2VRtPEB4EWCScMEcPmg34U1qlMO8VVts14J4Cv7TqmbSg4xZgK3ZvBPXfDDddl+RGJxwWw/UPKhUJAWYSgiiqwfMIsBOfXE8flNMQ59SgFUtg9E3dsuds6AE2GPfz8MLY/5M+bkg+0FkX4g0lX1SYdgDZhVgBS4EMWICzGsSjnaHVkxK7S8hiEEIMAmhrlquhMMesA1JpUPMN42koc9PAsypJqKOBwgnmxRgmaQdrXNRgOmbLwowfWwNywNk3338H5cAeC2NU4ZLgFk228t1qXrATmhxML6etTKPAFMJQbRmLLPj6dcD5qUO2Gu/LMaQr+emnE43AXZyq5qQTIdGMwTYlzP/wXUfTI/VxnJq2RRgdSqVxs+3dM8dmorX03wdOgSYFw9YyjpgmgSYCiMdAuzq99zrgKUTgmitA5YpAfZC/zY44YiDU4pV1c/aaywhiE51wMSLKeKj6T3f5ZquF4AAW7tlF2S/5Y9zVmOOQ9Ie87VI+Ovw89vhlBcnuF5iulkQ7QSYUxZELx6wdARYunvAvHjAdGZBlMm7tmdDXN+7kes86uxAAaaTbrRtU4Dpmz8KMH1sxXJtABJPJ5t6ygLIVwLMutfDiwCzYs+kByzVHjAVD1iXRlXx1oUdEIQAc/KAqTysj7+tByQcTaVv0CGIYRNgkgJeQjlnLFcrxJwND5jKPAUtwORFhEoh5nQEWLY8YJkWYJt37sGJz46D1IWS2nVGEwH24CktcNYriYLqdi+inH4ndi5+cypGzl2t/G0UVgF25IOjkmr5mS9oxj290Wrwj7m/kiyu4gHrMDSRSj+RBTG1B8yzAOtaD7cf1zT33CKkzUXfnzqzJa7/MFHv0Px5qTsE8bjDa2DYgLbKc6+jIwWYDqr5wyYFmL55pADTy1a+beoC+AzATRRgzrAzuQcs3RDEIAXYJV3qou/TiXT5hgdM5WE9ygLsyTNa4tQ2tWILwu8eMHkB8MQZLfHx1OW44/NZ2JPj7C60ClAvAuyL6X/jug8TRVqNVSz7cKbd3Tt3UbtlQVSZUx0CTCUJx5ntauORfkck3aAq45UDCooAu+/L2XhjwpI8H2JBCDBV1ua191oIPWCZEmB2IYij563GhW8kksGYJ+oyHwLs3+27Y/NdrmQxSK1CuxbEHjDryyx9jyTOlinAskE9GuekANM3TxRg+theC+ApALKZpAeAe/ObAOvXthY+mbYiiaBqCKIVuxcPWLohiGEWYHMG90Hp4kWVvFpRFmBBhCAaAkzl4VWHAPOaBVFlnEELMNU6YPSAuWdBPOe1SRi/aH3kBZh8bksSHKf1KIl9zEmFrCGIH156JHY5JOHITwLs5o9n4mPL95t18oMQYGJTUvRXKF1M39OIi2UKsKyhD/2JKcD0TREFmB62EusgqfReAnA9gPvyowA7un5lTPgz+YEkLAJMHjzNniXzNFOAOSd4UK0DlpEQxJ4NcYNlb4T5oTFMAsxaV8i83gzxly0BpnsPWH7wgMk+nGdc0tCnEmBD/9sCZ7/qPwRRZW2Y15R4X/16wLwKsLaHVsS0pYlC6UEJMNkDVqVccdsQxKlLNqDfSxNtv519JeGweMD25uxDgzu/zbX/9Jmtkrzcqt9jQQmwF89pg+NbHNjPmI1GAZYN6tE4JwWYvnmiAAueraQwk2/icgAkR/YOHwJsmsOwmrRp06b0tGlOfw7+YqwW3R4UVL+4rHaDDkH0K8C+mbUSV7ikodcZgujFAzbu1u6oVbG0krcszHvA+g2bkJRlzVgbkhghDALs8+krkvaHGOMzhyCGVYCFbQ+Y7J0aNXe1bV014eqlDpj5odXtc8ntk9GahMMuDX3YBNir57fDqQpJOKbc2TNJ5LhlQbR6wKIiwLyEIFoFmN0eMJU19ezZrXFyy5puyyv37z/MXoVL3877/W1XBkLZaAAdKcACgJhPTVCA6ZtYCrDg2Q4GcCeAzgCMV3hePWAFToBJCKLUSHp+9CIsdKipZUzVVd0b4Pkxi1LOHAVYMh5VASYb45vXrJB7sGRmu+uLP/KwTtcDZt4D5leAub3JNw/aSwhi/aplMMqUhl5FgFmzqtmdW+WBbtZ9x8b2nEgLIg29qgAzvInmcauMV/p78YBd+e5vSdlPrQvLWuA7FYcwCbB0k3CosjZ4VSlbHK+cFz4B1vHBkVi9eZftZ7M1CUfMA1a2ODo8mEjCMX9IX5QoWgR+PGDZEGDpeMDk2tdt3R1jJaUnJt/RE2XiJSiCfyxJbZECLNPEo3M+CjB9c0UBFizbjgDGA3gSwC0m014FmNOoQpWG3m6Qfj1g8iZRsrWptCu713etp+RHgC1YvQX9X50MyXqVqnVtVBVvBpQF8eJj6uK4ZxJJOKLiATu0cmn8dLP/NPTZFmCpHnj9CDBrVrVMCLAl67bh099W4LnRiZcR1vtPVYDJeFVFuvXe8CLA3IRGmD1g/V+dlCfkWlhIEo5shCBmygPWps5BSfX1UoUgphJg0+/ujdYPJLIgZlOASRr9hqYQRPk8uuGj5CyIbmtV5j4dAdaraTUsWb89d7/d3Sc2w0WdJWdX5hsFWOaZR+WMFGD6ZooCLDi2Eno4G0AOgNYAzE/xFGAunA+rXDr2ZaTSdAmwdkN+zH0jmQkBJh4c+cI1C7DZ9/eJvQVV+fLPRAji25OW4m4bD1gmBJhdfRwzl3Q8YKoCbM2WnRgxbgle+ilvAWVzCGKmBdilXerh3i/l4ya5WQWYvIhQ2QOWjgB75dy2SWFVp7Y+BJ9N/zt3YGZh57auzQJs++69WLVpJ3o88ZPt7RikB0xlD9jZr0zCxMV5k3CIYB+ShT1g2RRgO/fuS6pfaMxxqiQcFGDA97NX4bJ4CGKvptVxTMMqufdxhVLFMOambpDkPpluFGCZJh6d81GA6ZsrCrDg2B4EILFTObXdZwBc5+PU+dYD5kWAXdGtPl4cm/eB2MwzlQds2l290HbIyCT8Xjx3QXnAwijAzCGI8pZYQkLNyQkMaEEKMKc09DoFWKo09IYHbOWmHej66Fjsztlne6tKCNHUuw6kobfuKTEf4CUJh2oI4t//ytbSvC0bHrAgBZgRgrhjdw6OeXR0yhciQQow62eK3R4wJwGWLQ+YhCCeNsy9EHO6e8DsPGBOAiwoD9ivSzbg9BRJOOQz+LHv5yeJ/FQhiIO61sdtxzXJ7W/1gElW1hs/9u4Bs+4B27RjD0RIOTWzAOvdrDqe798avZ/8Gcs2HHj52L1xVQw/vz0KF87soxkFmI+nsQJyCAWYvonO7F2u7zrCYLkUgOccBtIm7hUbB0C+NSQO40Mfg863Akze+kmBU5UmXqPh4/5K2XXg0YfZ1uyRg5yyILq9nTdO6EWANa5eDvNXb7Edq+y7sYYgevGA/XJLd9SuFGwSDkOA7dyTg95P/YTlG+wf9IMUYE57wNwEmFsyATsRZPxOxQN2xbvT8M2sVY7rjALsAJo8AqzNIfjsN38eMEOAvTBmUdIDtt0kBCnAihctjN17E0LbqwAb8t/DY+HLRvNaiFn1s8ewL2vv5XPb4rRh9pkCzbzSFWCt6xyE6csSBc4zEYKYSoB1rFsJkgjJKsAkuctFb9rXAbMKMJnrRnclsiAGIcCu/3AGPp/+N0TM39I3IfbMc2EVYBK+O2b+Glzw+q+53c7uUAcPnnI4ChXK3OMZBZjKk0fB7EMBpm/eM3eH67uGKFhmCGKIZikIAXZVjwaOb2jNl9qoelksWL1VWYD9cH0XNKpeTikEUacAe+2XxRjy9VzHWROP5VjNe8CyLcCc9vyYH4IND5j1jbqd+FN5yM4XHrAABNiD38zFKz8vTvmpIQKsxSEVYkk9Hv52XqCfMF4EmHhMH6AAi/HvMHQk1myx30PrJQTRjwcslQCzFmK2CjC/e8AMD9j6rbuSoiqs+ymNxWknwORvD307Fy//lFjvJ7WsiUdPOwKlihcJdF07GaMAywjmSJ6EAkzftFGA6WNrtkwBlhnOSmdJV4BJ3P4vC9cpncurAHvnoo7o3LCKsgATj0Hd279xHYvxQLBt116MTJEG3PCADf16Dl79xdnLmK4Ak7TPp7SuFRu3kwfsul4NcV2vRknXZhYxuj1g2RJgc/7ZHMvy6bTGZJ+UaghiVvaAZVCAiRfkr3XbXNe/1w52AuysVyZi0uINeUxlYw+YeMBeGtDWsVaWeZBT7uiZlGnQ7b6xpqH34gHzKsAqly2OjqYsiPMe6IuSxYogagLsn3934OiHR+di9yrAZA+pFH42751sdnB5PHlmSzSpUd7r8vXcnwLMM7ICcwAFmL6ppgDTx5YCLDNsPZ8l3T1gUgh0yl95H8TsBpJKgMkesAs71cXxzyayIL59UQcc07CqNgEmmSa/nPmPIzOvAuz3Ff9CwsW+n73a0zyoCLBsecDkAXTkDV3htOfHuFBzCKL1jboZhpc9YL/fdyyOuO+HlCy9CLBMZEHUsQdMxQM27Jw2uNylZp+nRWnqLCGJC4Ycl3S4kwCT9TL4P80zHIJYAi8NaJMVAfbRZUdhx54c2yQcXveAWQWYhOTJ3qigBZjuEMRZKzbhpOdlh8GB5lWAyTGyj1QS67w7eVmuHXkRINEWknRHhKmuRgGmi2z07VKA6ZtDCjB9bHVYzrd7wHTAcrKZrgdM9iBM1iTAJL297DFTCVcbdWNX1K1cBvXuUPeAudmV1NDNapaHqges/h3fQN7eem0iwI5vcTCufX8Gvpttv8/KTYCd0a4WHu3XUomVlxTrfgTYrr05aHzXd7YYKMBOyOXitv6MPWAUYKnvKBH/wwa0VQqD9uoBa1itbFItRqsHLJUAS+UB++3u3mhjSUNvFWBST61/xzqxF1xnvGy/vy2IPWDW+/Xx01viJp9JOH79awMkW6zdSxfrLDqFIJr7ia0HvpqTtCexZoWSsX1lEppYREOCDgowr99gBac/BZi+uaYA08dWh2UKsACoilfAnPrdeGPp9nBonFqnB+z1C9qje+NqSqLimh4NcG2vRhAR5NZURYAhwIZ8NQevpUh0YoQgqjKzjk8E2D//7kyZaMEagmgtdqxLgElWu9E3dvPkAaMAS9SOTycNfZgF2JkvT7R98aLiAZOU46+d3y7Pfa16X1rvn0wKsFa1D8KM5YkkHBRgidl47uzWuNqmfqUfD5h5jheu3hIThDNXbEqa+rpVyuCyLvVwSptDYgWrg2oUYEGRzH92KMD0zSkFmD62OgRlHvEAACAASURBVCxTgAVAVTY33/Lp73neWKqKiQ6HVcKUJXpCEF8f2B7dm6gJsEuOqYvbjmsaWQH2/pTlKUM5zQJs7Pw1uPGjmVhvypTpR4D9u303ho39Ey+7JHiQByj3EMQSsYya0iRrZJO7w+kBk3TeW3ftzV3vTg/9XryE5psnyBDE2pVK4ZdbeiDrHrAihbFgaHIIYkoBdnJz9H/NOQtin+bV8fK5+UOASRZEpzT0Xjxg8iJMst+a94ANPeVwnNPxUF8esJFzVuPit+yzIF7erT5uNWUmDNIDJmHd1pauABN7EpL44dTlePKHBUmfe/K3quVKQD7/zmpfJ5YJN91GAZYuwfx7PAWYvrmlANPHVodlCrAAqKYrwNofVhG/LlEr+WYN5zEP/5TWh+CSY+ol7QEbMbAdejSpruQBEwEmDxUN7kykU3bCo/qmPZMesPcnL08pZM0CzE4c+xFgstH942krXFeR8HLa82McbN4DFmYBZuftlWuwMg1MgNkk4ZAH3nEL1zmmCTeYUoC5Ls1YhyplS0CyQDqF6ZmtWEMQ3e4b62eW1QNmJ8CM5BmZEGASgWBXByyVALPuAbPer+mEIOoSYMYcbtm5J5YR9I0JS7BlZ+JFivH3zg2q4ORWNdGnWQ1UKO1cgyzVyqIAU7vvCmIvCjB9s04Bpo+tDssUYAFQTVeASQ2spesPFM50a9aMYtb+kvTihGcTm7eHn98OPZuqCzDZF9BQgwCTPQipaq1JKMyYm7opCUU7Rk+f2QrvTl6aUsi6CbAz29XGI/2OUBqDqgA1xlrQBViqpCLW+ZR6VJe9nToE8boPpuOLGc7JX/wIMElCMeid39xuQV9/t0vC4eQBE8Fyv0sSjuA9YCXwQv/WOPOVSa7Xl64Aa1n7IMy0hCBu370XA021q4wXN14FWMXSxXHkQ6Nyr0HFA+YkwLzUAYuSADMLMUnQMWLcX7ap/osWLoRODarg+BY10LVRNRQuDMz+e3Psd7KeKcBcbxV2sCFAAaZvWVCA6WOrwzIFWABU0xVgXobgVYC9dl479GqWPQEmYUFNDy4f2wSuU4DJHrD3Ji9LKcCu79UI1/ZqGMNt5wHLvgBLhCDu2J2DpvdkJgRR9kmt2GhfINtaANhpv6MdU0OkyrwM/mo2du5JFCZOteZVBJhqeK8XD1imBZh4m+yyn8YEWMZDENUF2OQ7eiaF+bndN1YPmC4BJqJNQhDtBNjkxesdxaVTEo5seMCc9oD99dDxtoWUVZJwuH2/SM3BUXPX4INfl+GnBWuxXyEH0sx7j0WFUs7eMXrA3KgX3L9TgOmbewowfWx1WKYAC4BqJgVYqhBEuRSrB8xIw6zywCohiDf3aYJGdwUXgmgIsMH/NwcjxjvXAUvXAxaEADurfW08fFo2PWDBCzB5UGp5f+o09LoFmMraM9+GOgSYWxZOOX+m09A7CTApNXHfSZneA1YCz/dvjbMUPGBREmBD/ns4Bhx5KIIWYNY9YFYP2GP9jsDNnyT2BVtfZDh97TgJsEVDj0PRInm9TkEIMPNYpB7g17//g69nrUryUtqNVyI3pHC58dP8kAooU7wIflm0Dpe8ORV749lsR97QBQ2qlQvgm5Ym8gMBCjB9s0gBpo+tDssUYAFQzaQA8+oBk4fZPs1rKIXV6RBgIggLFyqUJ0ukFXtBEGBOIWcGC9mHYyThkJCsZvd8b7s6vYQ/RlGAqSThUBV1dSqVxs+3dHctgyCgZQ/UFRmsAxY2ASYP/2e/6h6CqEOAWeuAqYQgWusvysseawhiOgLsxzmrcYliEg6rAHu03xG4JUABNn9IX9sshUELMPMHzoqN2/HtrFUYu2ANxi9a7/ubkgLMN7p8eSAFmL5ppQDTx1aHZQqwAKiGWYBJWJVkQXSqKWW+fBFgN/VprNRXVQSITdlnsH13TkrS9aqUweg094C9M2kppi51TmbiFoIooZLyEKfycK96/cZFS383AVa6eBHMGdw3dkhBFmBBesAMAeZWBiErAuylibZJY8QDdu9JzXGOKQuitaC29Pnh+q4BpqEvgYwJsFoVktKh26WhD7sAu6Jb/VgdLaMFJcCePbs17JJwzB3cF6WK500Tr1OAmT+w5fPo7Fcn53rFihUphD05CrGKACjAAnjIyEcmKMD0TSYFmD62OixTgAVA1fq2U0yqhpwEcPokE19d3RknPpdIwiEC7MuZ/+CbWfbFia0C7MZjGzumPzf3VRUg3RpXxdj5a5UuMx1mkoTDTYDd0LsRrunpvAfMy7ypXr8XAWacXx7mZM7Mb9D9sJdjougBy5YAe6F/G1z5XuaScJzhQYDNuKc3Wg3+Mek+srtfvK5Lw6B4X589uxX6v5pIfe9001o9YG6hu3n2gFkE2MeDjsK2Xd6TcFg9YN9ddwwOKpW8B0zVA3ZMwyp4/IcFuZcsHFPtAbMKMOueTb8hiM+c1QrXfjAjD/o/7u+DsiWK5vl9pgSY9cSShXT+qi2Y9fcmzFqxKfZf+bcRdmjuL/NUuWwJpe8Adsr/BCjA9M0xBZg+tjosU4AFQDWTHjC34VoFmJd9LeKtuqF3Y8fkD35EQJgE2Nkd6uCuE5rGPAvmQrDW69LlAXMKObOe322/nJeH7PwgwE5uWTMmSM1iVmWOpL94wD4ZdBROeG4c1m7ZlfL2kT1QV72XtwaT2z2n8vcSRQtj/pDkOmCnvzTBNmmM3R4wu3kMXICd1Sqp9lg2BZiELjevWQGpsiDaCTBJDHHUQ6Nzh24IsEmL1zvub5MkHHYCLFUIolmAfTtrJf434x98NzvxkstvCKKTAHNKepEtAWa3NuTF0ZyVm3HqixNif+7RpBqObVYdZ3Woo3KLsE8BIUABpm+iKcD0sdVhOSsCbOn6bRg9bw36Hl4j6cvS7gLT8YroAGZnM8wCzMtb/Ys718XAToeh8yNjXNHNuu9YbNqxx7VvpgSYPLi8NXEppqUIQZSLurRLvVgNHKemut6k34Ztu9HmgWSvRCq7qgLMTVxkU4BJaNjxz/6SdJmpCjFLwWtzenHXhQXA6gE7qWVN/J9PASYJRooULqRU5kGnALNLQ+8kwBpXL4d7TmqWMgRROAYpwKQQ7zNn+hNgB1coiYm393QM3RVBuWD11typP6JWBfy+YlPuvyUE0ZqG3hBgqe4FqwD7/rouKF+qaEYF2MZtu9Ha5jMgaAE2/e7eqFimeJ7bJ0wCTOXeZh8SoADTtwYowPSx1WE54wJs37796Pb4WCzbsB2t6xyE6cv+TXldqg/EOuCo2gyzALMbm9N1ndOxDj6aulwptr9ciaLYunuva8ri7o2rYkwGQhAf+O/huPuLP1ynrO2hFVOKNNX1Nvv+PjjqoVHYbFPI1OlFglPImbm/yvmDFmCVyxTH+m27bdmlk4ZeHhrtHk7dJskqwE484mB89fvK3MNUGLmdw+7vThno/NhyWgPG7x/6Zi5edngRIALszhOa4rwRU3LNWPeA6RBgEsZr3nfmdN2Tbu+ZlOrdaSzG8dYsmyoCzNgDlq4Ak8+Fc488FG4eMCk+/MSPySGIqTxgV3avH8sYK2UE7IpX+xVgMgfXfZg3BFGS80iYqLVRgAV1d9JOpghQgOkjTQGmj60OyxkXYGs270SHBxOFMt0uStfDltt5vfxdwtqGfD036ZBsjdsagtjhsEq2G/3trq9QIbgKKi9cvPZNh5l4OXLiaY9TnddNgKlmwrumRwM8O3qR8iXKtWVFgN1zLFoOTp2GPtVFWOdE9tn0fVrNA/bmhR1wvklEqMKyCrBq5UokFYpNZ52kGoNTAgTVcbv1M4SzeGlPG3YgTMuuiWAR4XCBqTCx7hBE8YA9dUYrDBjuvgfMqwCzXqOdANu2e2/S9ap4wESUtBsyMte8nQcsawLstCNwy6fe09BLOY3rP5yZZ1lMubMnqpUrGdtntXnnHrQ7tGKsLth3f6zCoHcOFC3v3aw6pOwIGwmEmQAFmL7ZoQDTx1aH5cwLsC070WGougCTApR1b/9Gx7UHZlPqoSxdvz2UAkxi8H+Yszqwa9VpSNeDtXnMbgJM1/XJtTmFnJnPqcJg8YPH490py5Q8fjPzgQArWaxwUhFnFUZ+5nHAkXXwzqRlfg5VOsYQYG9PXIK7/zc75TFSQP1iUwp0LwJs//79nj8zsynAJAnH1l16BJixB2zin+sdU+wfWa8SOtX35gG7qnuDWMZYRw+YTwF2z4nNMPirOXnWhojejdt355bzkHDZE4+omSTA5LP+FQowpXuRnbJHgAJMH3sKMH1sdVjOuABbt3VX0ltLt4v65ZbuOOZR9z1JbnZ0/r12pVJYvmFHKAXYI6e1wK2fztJ5+YHZ1vVgbR6gvDlOlao+sIuxGApSgKl66WQIdtnzvFyjdU7Ey9Dn6Z/zrHX5hTVczK8H7KUBbXPf6ovdTAkwL1z89PUiwF4f2B4XvPFr7mnshLTTHrD1W3ehrckzpDJWEWBPntES5w5PhD06HRe0B+ytCzsgZ//+tD1gX17VCXId5iQchgfMqwCTF38j565xrANmCDCnAs/W0G/VzzbJdChi1NrG39YDg96eFss2aDSxafaAUYCprHT2yTYBCjB9M0ABpo+tDssZF2B7cvah4Z3fKl+LZDDr99JE5f7Z6Gjd4yBjUP3CDXq8/3dVZ5z0fCINfZQE2OOnt8RNH+cNvwmSUbYE2JzBfRwLK5uvT2W9S9Hqv9ZtU8KSbmKJbIQgSumEQe8k0sGXKlYEUqjX/ODplqhECU6GOwlL8U69Pn6JrZfDPJzPrjg6N5uc/N5LGnq/AuyJ01sm7TvLlADrULcSLu9WP20BdkKLg2N7545+OJEFUVWAHV2/Cp407QETASZ7wC59+0B4n7XpEmBOzEcMbIchX83FYtN9TwGW4RuYpwuEAAVYIBhtjVCA6WOrw3LGBZhchJeHp1v7NsEj383Tce2B2TzkoFL4+99weMDkLfDJz4/PvbaHTm2B2z+LhgcssAlJYaj9YRVtU3/rPrc1kYTu8xn2JQTrLoXkJE7jsYYA331iMzxgCZFySgri3wOWLMAkhfuuvfsiL8BEhPcbNjGWqtutWQWYXUITJw+Y1ygDGYt4jrIlwKQAuXh1zdky/ewBk+Qlr1/Q3rMAk+uXIu1PjUwk4ZAw35FzUwuwizrXxY0fz4xl9LU2vx4wp3Xxyrlt8eA3c7HEFOpOAeZ2F/HvYSRAAaZvVijA9LHVYTkrAszsBUuVgU3HBeuwGSYB9r8rO+E/LyQE2IOntMAdn1OAGfOeLQGmY92p2Bx6yuG483P37JBOtuRBtN4diT2Y4mX4elYiI6EcZ3h2rHs137igvecU9GLPWrtOUrjvNgkwecg2J6hQ4RCGPoO61sdLP/2pNBSrAPvt7t55Sh4EKcAk0YnUtrrv//LuP7IOOOgQxDLFi+D5c9qk7QFrUqMcRgzMjAC7ukeDWCZfqf9l16yRB+lGRMi9dO+Xs5P2GlOAKd1K7BQyAhRg+iaEAkwfWx2WsyLArBeyatPOPGmNdVxsJm2m+4Xrd6xfXNkJ/zUJsHQfwP2OI6zHFTQBJumyXxij9tBvN2d/Png86psE2IWd6mLE+L+SugYtwKx73IoXKYzdOQkPWFjXltu4pNjvLwvXuXWL/f3Ty49OypRorXllCF9rNIHMhR8PmDXTZKpBTry9R576jV4+76xZEKWkxbP9W2sRYP9pVRPPnNUaE/5ch/6vOmd4vKF3o6QQRDcPmAiw51JkQQ1agEk9R4kEEdFnNAowpVuJnUJGgAJM34RQgOljq8NyKASY+cJ27M7Br0s25O5FUE0vrgNOOja9PJCkcx7rsZ9fcTROeTGR4lq1PlaQYwizrWztAQszk1RjswowO++TbgFWrEghpdp0YWecjgCzplwPWoB5YRcWAfbrnb3QfmgiDb2dB0zCV+cPOc5VgFlDEGXdj0oRguhWhuK+k5oleRPT/T6QkMbnxixMSvZEAeZl1bJvWAhQgOmbCQowfWx1WA6dALNe5Pbde/HH35vx6bQV+HDqch0MtNjMVvp8a+jSA/9p7pryWguAkBqtUrY41m21Lzoc0iFndViLhh6HBqakOV4EmN89YPK2/8r3Ekk4KMAAq9hIJcDWbtmVJEyCXkATbuuRtM/KaSxO583jAStZFFKDzRxWKi+SWtepmHK/sNTGMpc0EQE2fGB7dDIl4RDv6bwH+sa8W8+Pca7bd12vhnh65MLcIYsAkz1glzkk4XATYK1qH4QZy//Ntbdw6HGekk9Z2d17UjMMH/cXVmxM7DWmAAt6ZdNeJghQgOmjTAGmj60Oy6EXYNaL3rdvf24NpINKF8O/2/fo4JK2TavnIG2DigasoUuD/9Mc97jUHFI0zW4FkID1wdGaHt14+Jb70rxXTH7vdw+YVYAVLVwIexWKbId9erx5wI7CacMS2V/DJMCsCSbSFWDlSxbFMxYBJlkRJQFTqoRNKgJMxPvVPRomhRfarRPPAqxnQzw7KiHYrDatItP6uex1rd50bCO8P2V5UrInCjCvFNk/DAQowPTNAgWYPrY6LEdOgNlB2LknB/NWbcHPC9a6ftHqgGhnc/6Qvmh813eZOl3ueaxf9NZQmIwPiCeMNAGrABt+fjtc9ObUpGuSB8EgBZg1dX7hQkA+0F9IR4BZxYaT6JG50O0Bc0rEoprd1ipOKpQqhqfPbJVU9+zSLvVwx/FNUwowqY1l9nZJFsQRFyR7wFS9p9f2bIhnTIJKPL+j5q1x9oC5CLCWtSpg5opEzS5rZILXDwXZe/ndHyvxz6aduYdSgHmlyP5hIEABpm8WKMD0sdVhOV8IMDswOfv2Y9XmnbFClda02TpAWm2q1n0KeiyfXp785vyeE5u51hwKegy0l38ILBhyHBrdlajb99p57XDxW3oFWMXSxbDR5NkuVAjYvz/6TDs3qIJxi1STcCTfx1Pu6IkOD47KI3ztknDoFmCS2MKa/c/LHierAKtUpngsBb658LSKALvz+KYY+s3cXCZ2IYiq3tNrLIJKBJgUYh70jn0dsAs6HRar5+bUWtY+CDNNIYjWvbleV/PR9Stj8dptse80o1GAeaXI/mEgQAGmbxYowPSx1WE53wowO1h7c/Zh7Py1sQdI+bIWr5muNvKGLuj15M+6zDvatRbytavblPFB8YSRJWD15L56XjtcoijA/O4Biywsl4F7EWDW+3jyHT3RUVGArdmyM2lvVNA8T21zCD777e8ks/ef3DyWJl2lWQWY7Mt8rJ93AXZzn8Z47Pv5uae084CpJnGyCjDx/EoSDnNBcJVrM/pYBZg1O60XW9K3bImikGvZtCMRck8B5pUi+4eBAAWYvlmgANPHVoflAiXA7ABu3LYbc1duxrCf/lROEa0yEda0xirHBNHn40FH4fSXEntHLjmmLl79JTlteBDnoY2CQcAqwKQg7KWWxAROIYhvX9QB5w6fUjBAKVxlOgJMtfaWzIVuAdavbS18Mm2FwhXbd7EKMCkCLfvKvHrAVASYqvfUGoIoAmzknNW4/N1EMhgvF2xNwiEePinaHGSjAAuSJm1ligAFmD7SFGD62OqwXOAFmB1UI4QnzEk+nBbDR5cdhTNeTggwHYuGNgsOAckg1+TuxF7Gx09viZssD5LyICghv+Z6YULonYs6YsBw59pLBYfigStNR4Cppn6PCbDNO/OEKwbJ+vS2tfBxgAJMapA90u+IpCyIKiGIkpji8R8W5F6aeMCGD2yHzo+Myf2dqgCz84D9OGc1rghIgAXJ37BFAaaDKm3qJkABpo8wBZg+tjosU4ApUJUkH7P/2Yxr3p+elIVK4dCMd/nw0iNx5iuTMn5enjB/ErAKMPFWyAsKc6MAU5v7Tg0qY/yi9UqdrZ5s1dTvURRgNcqXxEOntkjygInn/s4TmqVMwqEiwJRgA7CmlZekGWe9PMl3AXCrB0x1HF76UYB5ocW+YSFAAaZvJijA9LHVYZkCzCfVf7fvRqvBP8aOlkxbFUsXxxrLg6lP02kd9sGlR+IsCrC0GPLgBIGvr+mME54dlxKJkwB79+KOOOc1esAMeOkIMGvGP7Fpl/hCfrd68848+8WCXNNntKuFj6YGF4JYs0JJDD0lfQEm1/jLLd1xzKMJD5jqdbvV9VK1Y/RrXecgTF+WqAPm9XhrfykovWvvvqRfDzz6MOzfvx9vTlwa+/2xzarjlfPapXsqHk8CWglQgOnDSwGmj60OyxRgAVKVotEdh47Cll170fbQipi2dGOA1tVMvX/JkTj7VXrA1GixlxsBFUHvJMDeu7gj+lOA5SJOR4CNu7V7UmhdNgXYme1q48Opy92WjuPfmx1cHnNWbs79e/GihfHygLZpe8DSEWBX92iA50Y7F2r2erFBesCqlC2B585u7fq5TgHmdZbYPxsEKMD0UacA08dWh2UKMB1UTTYlyUebIT9mLI02H3o1T2gBM68i6B0F2CUd0f9VesCMJSOpxCf8qRaCaN3LOfrGrujxxE9Jq8/JA7Zq004c+VByyvogl226AsxuLNYC3xd3rou7TvQWgih2f765O7o85t0DdlX3Bnh+TDgFmIT9SiFuN8+m1Gd74Zw2QU41bZFA4AQowAJHmmuQAkwfWx2WKcB0UHWx+d7kZShSGLj101mBn90uTXjgJ6HBAkPgPQURJUJASjw0uDNRL0wAqXjPCgxIAOkIsOt6NcTTIxeGQoClmwVRRYDVrVIGY27q5mkPmNj96eZu6PrYWM/LKgoCzLiohau3xMIbpy//F9OXbcSC1VtQqFAhvNC/DfoeXsPztfMAEsgkAQowfbQpwPSx1WGZAkwHVY829+3bH9s/9uSP89PaW+HxtOxOAq4EVPZxiQDbvXdfUsFmMcyEMMl40xFgl3Wph5d/XhwKAea6aHx0GDGwHS58I2+Bb2uhabPpG3s3whM/JrIgpiPAgg5BtNYB84Ek9xDDA+ZkY9uuvZA65VIrjI0Ewk6AAkzfDFGA6WOrwzIFmA6qAdmUej5P/bgQDaqVxQNfzQnIKs2QgDqB185rFytcnqotfvB47Nm3D43vSqSrpwDLS8yLALOKV7t6fk4hiCs37cBRD41Wn+QQ9Bx+fjtc9Gb6AmzsTd3Q7fHse8Cstc7SQewmwNKxzWNJINMEKMD0EacA08dWh2UKMB1UNdvcumsvFq3Ziv++MB5BvmnVPGyajyCB4w6vgW//WJVy5H/c3wdFCxdKqhcmB7AmXTK2dATYhZ3qYsT45ILqTgLsn3934OiHoyXA7IS+3fWZifZtXgPfzU5emxK22N2HALuye328MObPwO7QIAWY1EmbcmevwMZGQySQTQIUYProU4DpY6vDMgWYDqpZsrlrbw42btuDjdt34+I3p8ZqlpUrWRQSnyKZGdlIwCuBHk2qYfS8NSkPm3XfsShauDCa3pPsAbPWsvJ67vzW/6h6lTFxsVoSDqsHTFKOvzFhSRISO4EiddvWb9uNThETYHZ7V90EmN36sEtWorKOKMBUKLEPCaRPgAIsfYZOFijA9LHVYZkCTAfVkNrck7MPH/y6HCWLFsbNn/weG+WAI+vgnUnLQjpiDivbBLo2qoqfFqxNOYwZ9/SGpBJvds/3Sf0+GXQU+r00MduXEJrzexFg1gQm3RtXxZj5yfNgJ1Am3d4Te/fty5OyPjQQHAbyyrltcenb01wFptt1+BVgV3SrjxfHBucBq1elDBav2+Y2XKW/0wOmhImdIkKAAkzfRFGA6WOrwzIFmA6qEbe5accezPlnM276eCZOb1crN/uabPKW8Ec2EjATkP07HetVxuH3JguwTy8/CqcNowAzWB1coSRWbtqptHhU0/9bk1SIAJMXLX6KESsNTFOnl89ti8sCEGCjbuyKnpZ0/SpDvrxbfQwLUICpnFO1DwWYKin2iwIBCjB9s0QBpo+tDssUYDqoFiCb+/fvx449ObE9aRL6dPPHv+OcjnXwzKgDKbMLFQK6N3YPYytAyPLdpT5zVitIqGKL+35IujYKMP9TrVLPz8kDFkUB9tKAthj0TvoesJE3dEWvJ5PrpanMwmVd6+Hln5KzTKocl4k+1cuXwOQ7uAcsE6x5Dv0EKMD0MaYA08dWh2UKMB1UadMTgT/+3oTtu3NQu1IpfDptBf5cuw2fT//bkw12zh6Bh09tgeNaHIyW9ycLMCbh8D8n71zUEQOGJ4pY24Uv2gmwz684GpXLlPBVjNj/aNM/8qUBbTDond+SDPnZAzbyhi7o9eTPngdkl+bfsxFNB1CAaQJLs1khQAGmDzsFmD62OixTgOmgSpsZJyAJSIoXKRwTclOWbIB8EN3w0Ux0a1w1Vqj0j783o92hFVG7UmmKu4BnR/aJ3X1i0zwPvipenICHkm/MvXlhB5w/Ykru9bQ9tCKmLd3oKlCeOrMl2tSp6KsYcTbhDTunDS5/N30B9uP1XdD7Ke8CzC7NfzZ5mM9NARaWmeA4giBAARYERXsbFGD62OqwTAGmgypt5gsCOfv2xxIabN+Vg7Vbd6FwIeDjaStQrkRRdKhbGZXKFHcMdzq2WXX8MGd1LofKZYrHQjTZSECFwOsXtMcFr/+asqudh0gEWOvaFX3VwlIZl64+L57TBldkUYBd1Lkuho9LTvOv61q92q1RviQm3dHT62HsTwKhJEABpm9aKMD0sdVhmQJMB1XaJAEFAvv27Y8VMBbPnXg39uTsR+Ma5TBj+UZIIpQ3JyzFjOX/xiz1a1sLn0xbEfv/nk2qYZRLaniF07NLiAk81u+I3EylTsO0E2B3HN8EvZvV8FULK5s4XujfBle+l74H7Ifru+BYHx4w8/2VTQ5256YAC9uMcDzpEKAAS4de6mMpwPSx1WGZAkwHVdokgRARkEQp+/YDqzfvRJniRfHFjL/RqHq5WI24q977Dcc2r4HDD6mA+as2x4rRntDiYHw9a2XsCno1jMD8twAAF7dJREFUrY4qZYvHxN/effshmTDbHVYRYy0p0enhy/yEW2uFGSP46urOOPG5cZkfUBpnfL5/a1z13vQkC372gH1/XRf0edp7CKJKvbs0Li+tQynA0sLHg0NGgAJM34RQgOljq8MyBZgOqrRJAgWYgAg+2Ysn2fiKFikc24+3bdfeWEHnw6qUiWW7u75Xo1h9MfmdiLyyJYrgixn/2FIrVaxILNMmW/4l8OQZLWN7Ns3NjwDzKz57Na2GkXNTFxzPFn0KsGyR53l1EKAA00H1gE0KMH1sdVimANNBlTZJgASyQmD33n3YsnMPShYrEkvGUrJoEVQuWxwi4n5dsgEPfzsPzWqWx2GVy+CNCUsw8OjDYv9lCx+BYxpWwS8L13kaWN/mNfDd7FWejpHOp7WphU9/OxDiG7Ym9eMm3s49YGGbF47HHwEKMH/cVI6iAFOhFJ4+FGDhmQuOhARIIMIExPMnbfPOvdixOwf79u+P1cGbvuxflCpeJCYCRRiKt+/72avx2PfzUbdKGfy1blvsuA51K2HKXxti/39Bp8Mg5j6aujzmTRQxUrhQoZjX0GiNqpeNhYUuXnvgeKOVKFoYBxLIHBgPW7QJUIBFe/44+mQCFGD6VgQFmD62OixTgOmgSpskQAIkEAIC4hGU8E0JB126fhvKliiGeas2Y+HqrTiyXmXs3JODi9+aGhN//TvUgYi3NycuwaTFG3D/yc1x75ezY1dxdY8GeG70otwrOu+oQ/HWxKXKVyiJZnbn7FPuz44JAhRgXA35iQAFmL7ZpADTx1aHZQowHVRpkwRIgARIwJaAiD5pIsqkvIN4+OTBoUSxwihSuBC++2MVGlQtiz37JHnMfpQvWRTvTl6GNZt34eRWNXHLJ7/Hju/coAra1DkIz8aF4SEHlcKJLQ9GTs5+vGZKKW8tCRG1aZH6hZ9cfnTUhs3xkoAtAQowfQuDAixYtpUBnALgBAAtABwCQIoJzQLwevwnndeKFGDBzhetkQAJkAAJ5BMCUipC2r879sRqApYuXhSL126N/a508SKoXKYE5q7ajCXrtsd+X6NCSQz5ei7uOqEpypcshls+PSAWxYP445zVmLdqSx4y9aqWSQojPbllTXw580BCmgbVyuK5s1uj6cHl8wlRXkZBJ0ABpm8FUIAFy3YQgGEAJCf0GADLAFQHcCqACgA+BXA6AL/B/hRgwc4XrZEACZAACZAACZAACdgQoADTtywowIJl2wNAGQBfAzB7umoAmAKgttRojQsxP2emAPNDjceQAAmQAAmQAAmQAAl4IkAB5gmXp84UYJ5wpdX5DgBDATwvEQ4+LVGA+QTHw0iABEiABEiABEiABNQJUICps/LakwLMKzH//W8G8CiApwFc79MMBZhPcDyMBEiABEiABEiABEhAnQAFmDorrz0pwLwS89e/KIDpAA4H0BfA9/7MgALMJzgeRgIkQAIkQAIkQAIkoE6AAkydldeeFGBeifnr/ziAGwF8E8+Q6GZlmkOHJm3atCk9bZrTn93M8u8kQAIkQAIkQAIkQAIk4E6AAsydkd8eFGB+yakfdw2AZwDMA9AJwAaFQynAFCCxCwmQAAmQAAmQAAmQgB4CFGB6uIpVCjB9bMXyVQCeAzAHQE8Aq9I8HUMQ0wTIw0mABEiABEiABEiABNwJUIC5M/LbgwLMLzn3464D8BSAP+Lia437Ia49KMBcEbEDCZAACZAACZAACZBAugQowNIl6Hw8BZgetrcCeBjADAC9AawL6DQUYAGBpBkSIAESIAESIAESIAFnAhRg+lYHBVjwbO8GMBiA7OM6VnHPl+ooKMBUSbEfCZAACZAACZAACZCAbwIUYL7RuR5IAeaKyFOH8wG8ASAnvvdrk83RS+J9PBmOd6YA80ONx5AACZAACZAACZAACXgiQAHmCZenzhRgnnC5dr4PwL0uvX4C0M3Vkn0HCjCf4HgYCZAACZAACZAACZCAOgEKMHVWXntSgHkllt3+FGDZ5c+zkwAJkAAJkAAJkECBIEABpm+aKcD0sdVhmQJMB1XaJAESIAESIAESIAESSCJAAaZvQVCA6WOrwzIFmA6qtEkCJEACJEACJEACJEABlqE1QAGWIdABnYYCLCCQNEMCJEACJEACJEACJOBMgB4wfauDAkwfWx2W15cqVapS06ZNddimTRIgARIgARIgARIgARKIEZg7dy527NixAUBlIgmWAAVYsDx1W/sLQHkAkso+k61J/GTzMnnSAnguctY/6WRMxvoJ6D8D17F+xnIGctbPmYzDzfgwAJsB1NU/zIJ1BgqwgjXffq9WikpLa+vXAI9TIkDOSpjS6kTGaeFTOpiMlTCl1YmM08KnfDA5K6Py3ZGMfaNTPpCMlVFlriMFWOZYR/lMvHkzM3vkrJ8zGZOxfgL6z8B1rJ+xnIGc9XMmYzLWTyCEZ6AAC+GkhHBI/IDMzKSQs37OZEzG+gnoPwPXsX7GFGBknBkC+s/Czwv9jD2fgQLMM7ICeQBv3sxMOznr50zGZKyfgP4zcB3rZ0wBRsaZIaD/LPy80M/Y8xkowDwjK5AH8ObNzLSTs37OZEzG+gnoPwPXsX7GFGBknBkC+s/Czwv9jD2fgQLMM7ICeQBv3sxMOznr50zGZKyfgP4zcB3rZ0wBRsaZIaD/LPy80M/Y8xkowDwj4wEkQAIkQAIkQAIkQAIkQAIk4I8ABZg/bjyKBEiABEiABEiABEiABEiABDwToADzjIwHkAAJkAAJkAAJkAAJkAAJkIA/AhRg/rjxKBIgARIgARIgARIgARIgARLwTIACzDMyHkACJEACJEACJEACJEACJEAC/ghQgPnjxqNIgARIgARIgARIgARIgARIwDMBCjDPyHgACZAACZAACZAACZAACZAACfgjQAHmjxuPIgESIAESIAESIAESIAESIAHPBCjAPCMrUAfUAjAYQF8AlQGsBPAFgPsBbCxQJBIXuwTAoQ7XvhpADZu/HQ3gLgBHAigFYCGAEQCeA5DjYOtEADcBaA2gCIDZAF4E8GYK7ucDuBJAs7jd6QAeB/BVSOeqH4CuAFoBaAmgHIB3AQxIMd6wspQ5ugbABQAaAtgBYBKAIQAmZJG/F8aHAfgrxVg/BHCWw9+9rj0/vOTeuS0+BrkHNwMYC+BeAHOzyFg+G08BcAKAFgAOAbAbwCwAr8d/9kXoc8HP3OjG75Ux17K/GXkEQDsAjQBUiX+OLY1/7z8PYD3XsT+wlqO8cOZaDgR5+IxQgIVvTsIyovrxB8dqAP4HYB6ADgC6A5gPoJPDh3FYxq9rHCLADgLwtM0JtsYFj/lP/wHwKYCdAOQBdgOAkwA0BvAJgNNt7FwVF2fyZSfHyMOcPEiLIH4iLsysh4nQuhHAirjd4vEH1UoArgYgX55hazPiwku4ybibuAiwsLKUz9GP4nMk98b/ARDuZwIoCeC0+D2UDf5eGBtf9DPjD1zW8f4RX1vprj0/vEoAGBX/3JkKYDSA2vH7R+6PHgAmZwMwgEEAhsVfUI0BsAxAdQCnAqgQv//lPt9vGh/XsrfJ8sqYa9kbX6O33Eu/AZgDYA2AMvEXhyLK/on//3KuY39wTUd54cy1nDbucBqgAAvnvIRhVN8DODb+Vl88NUZ7EsD1AF6OP3iEYayZHIMIMGnyoejWygNYFH8IE8EqD47S5KFcHiCPAnA2gA9MhsSuiN1tANoCMM5XEcCvAEQYixdooukY+fd4AH8CaG/yToqtafEvURE3hi23cWfq7yLmRXgJI/GEycOrkwcszCxlDt+Lv7DoGRfbwlDmYhyATfF525IpsKbzeGFsfNGLl3Wg4lj9rD0/vG4H8GBcAIqwNTxKImTEKy8PjOJ9svM0KV6K724i/uRB9WvL+cUbPiUuFOUFiryIkca17B21V8Zcy94ZG99N8rLQ2oYCuCP+ouEKrmN/cE1HyTOAKmeu5bRxh9MABVg45yXbo5KHfHkolgd2+X/zQ42EiUkooqwd8Y6JUChIzYsAuxDAcABvAZAQLXOTBwp5o/9zXHwYf5OQz7vjoZ8SWmVuTvbE/rkA5O8S8mRuqeyFad66uQiwMLOUOTwm7oUREWluqeYm0/zdGPv5ovez9rzyks8aue/qAKhnEyaZyl6mGVvPJw+t8vAqHmjxREvjWg52VuwYcy0Hy1hCxMWbPhJAb67jYOGarNlx5lrWhju7hinAsss/rGe/GMCrAF4BcJnNIA3vWK+4iAjrdegYlzwISjjUzfEHQhGgv8eFlHU/1zsAzgHQH8D7lsEUjXtGJFSwLIBd8b+Lx0S8ZVYvl/z54HgYiHiNJPzKaPJv2XdSMy6OzacSL5vsQRK7IhLC2tzEQVhZyptMCaGU+ZNws70WwIa3R8YvIjmbzY2x8UX/Y9xbI/tuJAxWvK2yxu2a17Xnh1eD+L7JBfHQXes4DO+Y7LeTlxdhavI58Wg8ZFkiB6RxLQc7Q3aMuZaDZSx7mB8AIBEwEurOdRwsX8OaHWeuZT2ss26VAizrUxDKATwW32ckSSBkz5G1ydtcSfYgoQiy96EgNackHJK8QBIw/GSCISGDEjsvPxIKaG2yp6Z5PGmGkURgbXzzs2yAttvwLA/7Eu4kP9vj/5XfyY94J61N7IhNieeXfSlhbW7iIKwsZf5kHuVHQuCsTeZexi6haB2zDN+NcarN3pLsQry4sr/JaLIGva49P7wkuYUkkpEf2T9pbRLe93F8H56EJ4alyUsWSYRzeDyRkby4ksa1HNwMOTHmWk6PsXz3y4tBeakkn2Gd4y9h5KWrfJ9wHafH1zhahTPXcjCsQ2eFAix0UxKKAYnn65L4z2s2IzLiwSX046FQjDhzg5CwwF/iWQllT4+EREnSjEvjMd3icZIkBtLkjb1kxJMfCem0Ntm3JZ4us7dLNucWi/9YvSly/N9xT5fh7ZL/yu/kR5J0WJvYEpvyI567sDY3cRBWlsYeKJlLeUixNpl7GbuT9yaT8+HGWEKKZS3LnqrF8YEdAeC+ePIdWcOSsdIIO/az9vzwEg+y7A102h8oIVE/xH/6ZBKoy7mMxDjfxDMkGt25loObJCfGXMvpMV5leWH3XXxfqGT65TpOj635aBXOXMvB8Q6VJQqwUE1HaAZDAeZ9KowHAXl4lZTU0sL6oOX96vQf4SYOwsrSj6DQT9P+DG6MncYlXgYJYRUP3nUAnol3pABznkkpSSCcJKGOhBRL9lM+uAa78lMx5loOhrVETchn3MPxCAspjyJZEsP8/Ralz2RjllJx5loOZi2HzgoFWOimJBQDYgii92kw9qnIg5bsnZEW1lAj71en/wg3cRBWln5C6vTTDFaAiTVjX+hn8bT68juGINpzNspISGZGyYopb7nNjWs5/TvAjXGqM3Ate+cvdffkJZjUsJSQ2jB/v0XpM9k6E3acuZa9r9dIHEEBFolpyvggmYTDO3KJlf83noxBEg1IC+tme+9Xp/8INwEWVpZ+kkropxm8ADPSvcs+JinMbjQm4UhmLR7Cp+J7AkV8yd5La+NaTu8OUGGc6gxcy/74y35GCUGuCmBdiL/fovSZbDcTVs5cy/7Wa+iPogAL/RRlZYBMQ+8du+w9kTh5SabRLH54mNNNe79CvUe4CbAws/SaVl0vSWfrboxTjUv2et5mqQMk/ZmGPkHt1niolqTrln1p8pBq17iW/d8Bqoy5lv0zdjpS9n/JfiQpMr+R5RSCBxy3aOXMtawNdXYNU4Bll3+Yz85CzHlnp2k8C5y19plkKZLU3RKGeGe8YKwcLQVXpTiy/Fe1EHPduIgrCIWYzYTdxEGYWaoUFpa1sTnLN7wb4zbxWj/WYsbiyZEiw5LERdaxlDUwmq5CzFZeYS7ELCyM2n2S7VQK2Jv3fFmnnWvZ343ghTHXsnfGjQDIw78Ujje3wvEU9JJ0S+59+QwI+/dbmD+TvXLmWva+liNxBAVYJKYpK4MUL5h82Mobr//FRYFswu8ejwWXBy+7NOlZGWyGTirZ4KQGing8lgKQLIjCSdJkS9iDZDuTBByScdBo/wXwSTxD4gfxB7OT4/WM5PdnANhvGb8UbH02zvfDuD1JtS1ZDqUsgKSutTb5/Q0AJCRM7Ep9MUnJLfvRxJ6UDghbEzbyI60GAPEiSvY9yTIpTTwI5msNK0v5HP0IgMyRJF34vzh34S/r4rT4PZQN/l4YS6p5ydoo972sI2mSBVGKhkuTB2CptZXu2vPDS8Tf6HhCgKnx+oNSmPn0+P0hY5ycDcDx9PxvAJA6gM/ZPMDKsKR8hfQxGteyt8mSEgheGHMte+MrvSW0UzzdknBHyqrI97skh+gaz/YrexnlZYzsbeQ69s7XOMIrZ65l/6xDfSQFWKinJ+uDk2K/g+N7PuRBfiWAzwHcHw9ByPoAMzwA+SIaBKB1XDBIEgLZ9yUhR2/Hf6xiSoYobwzFMyYp6uWBXNJ5j4iLLGvxZuOSpN6RiA95+yVvIOVLT0TUmymueWC8PpuEQIoXQ7JVSUIVqZ8UxiaCVtL6OzURueJdNLewspRMgSJ0JbxMvDc74wWMRbCYPUaZngcvjC+Kv0CQTfZSP05KGMgbcSnELGvPEMZ21+B17fnhVToeBilvt0V8iUdRHk5kDZkfCsPGWMYj9QHFA8m17G923NaxlTHXsnfOct/L95uU05CXfQfFS05I8g3xgMtLQTvPLj+TvbH2yplr2RvfyPSmAIvMVHGgJEACJEACJEACJEACJEACUSdAARb1GeT4SYAESIAESIAESIAESIAEIkOAAiwyU8WBkgAJkAAJkAAJkAAJkAAJRJ0ABVjUZ5DjJwESIAESIAESIAESIAESiAwBCrDITBUHSgIkQAIkQAIkQAIkQAIkEHUCFGBRn0GOnwRIgARIgARIgARIgARIIDIEKMAiM1UcKAmQAAmQAAmQAAmQAAmQQNQJUIBFfQY5fhIgARIgARIgARIgARIggcgQoACLzFRxoCRAAiRAAiRAAiRAAiRAAlEnQAEW9Rnk+EmABEiABEiABEiABEiABCJDgAIsMlPFgZIACZAACZAACZAACZAACUSdAAVY1GeQ4ycBEiABEiABEiABEiABEogMAQqwyEwVB0oCJEACJEACJEACJEACJBB1AhRgUZ9Bjp8ESIAESIAESIAESIAESCAyBCjAIjNVHCgJkAAJkAAJkAAJkAAJkEDUCVCARX0GOX4SIAESIAESIAESIAESIIHIEKAAi8xUcaAkQAIkQAIkQAIkQAIkQAJRJ0ABFvUZ5PhJgARIgARIgARIgARIgAQiQ4ACLDJTxYGSAAmQAAmQAAmQAAmQAAlEnQAFWNRnkOMnARIgARIgARIgARIgARKIDAEKsMhMFQdKAiRAAiRAAiRAAiRAAiQQdQIUYFGfQY6fBEiABEiABEiABEiABEggMgQowCIzVRwoCZAACZAACZAACZAACZBA1AlQgEV9Bjl+EiABEiABEiABEiABEiCByBCgAIvMVHGgJEACJEACJEACJEACJEACUSdAARb1GeT4SYAESIAESIAESIAESIAEIkOAAiwyU8WBkgAJkAAJkAAJkAAJkAAJRJ0ABVjUZ5DjJwESIAESIAESIAESIAESiAwBCrDITBUHSgIkQAIkQAIkQAIkQAIkEHUCFGBRn0GOnwRIgARIgARIgARIgARIIDIEKMAiM1UcKAmQAAmQAAmQAAmQAAmQQNQJUIBFfQY5fhIgARIgARIgARIgARIggcgQoACLzFRxoCRAAiRAAiRAAiRAAiRAAlEnQAEW9Rnk+EmABEiABEiABEiABEiABCJDgAIsMlPFgZIACZAACZAACZAACZAACUSdAAVY1GeQ4ycBEiABEiABEiABEiABEogMAQqwyEwVB0oCJEACJEACJEACJEACJBB1AhRgUZ9Bjp8ESIAESIAESIAESIAESCAyBCjAIjNVHCgJkAAJkAAJkAAJkAAJkEDUCVCARX0GOX4SIAESIAESIAESIAESIIHIEKAAi8xUcaAkQAIkQAIkQAIkQAIkQAJRJ0ABFvUZ5PhJgARIgARIgARIgARIgAQiQ4ACLDJTxYGSAAmQAAmQAAmQAAmQAAlEncD/Azl18v2tIZuhAAAAAElFTkSuQmCC\" width=\"432\">"
      ],
      "text/plain": [
       "<IPython.core.display.HTML object>"
      ]
     },
     "metadata": {},
     "output_type": "display_data"
    }
   ],
   "source": [
    "plot_iteration(a.cost_rate, min_it=10000)"
   ]
  },
  {
   "cell_type": "code",
   "execution_count": 46,
   "metadata": {},
   "outputs": [
    {
     "data": {
      "text/plain": [
       "14.277618606350657"
      ]
     },
     "execution_count": 46,
     "metadata": {},
     "output_type": "execute_result"
    }
   ],
   "source": [
    "a.cost_rate[-1]"
   ]
  },
  {
   "cell_type": "code",
   "execution_count": 47,
   "metadata": {},
   "outputs": [
    {
     "data": {
      "text/plain": [
       "2.2287101659886552"
      ]
     },
     "execution_count": 47,
     "metadata": {},
     "output_type": "execute_result"
    }
   ],
   "source": [
    "min(a.cost_rate)"
   ]
  },
  {
   "cell_type": "code",
   "execution_count": null,
   "metadata": {},
   "outputs": [],
   "source": []
  },
  {
   "cell_type": "code",
   "execution_count": 42,
   "metadata": {},
   "outputs": [
    {
     "data": {
      "text/plain": [
       "0.01203447493890826"
      ]
     },
     "execution_count": 42,
     "metadata": {},
     "output_type": "execute_result"
    }
   ],
   "source": [
    "relative_err(a.p, 0.02)"
   ]
  },
  {
   "cell_type": "code",
   "execution_count": 31,
   "metadata": {},
   "outputs": [
    {
     "data": {
      "text/plain": [
       "0.016189081629364707"
      ]
     },
     "execution_count": 31,
     "metadata": {},
     "output_type": "execute_result"
    }
   ],
   "source": [
    "relative_err(a.p, 0.02)"
   ]
  },
  {
   "cell_type": "code",
   "execution_count": 32,
   "metadata": {},
   "outputs": [
    {
     "data": {
      "text/plain": [
       "0.00828913895102905"
      ]
     },
     "execution_count": 32,
     "metadata": {},
     "output_type": "execute_result"
    }
   ],
   "source": [
    "relative_err(a.p, 0.05)"
   ]
  },
  {
   "cell_type": "code",
   "execution_count": null,
   "metadata": {},
   "outputs": [],
   "source": []
  },
  {
   "cell_type": "code",
   "execution_count": null,
   "metadata": {},
   "outputs": [],
   "source": [
    "plot_fun(N, p=a.p, zlim=(0,1.7))"
   ]
  },
  {
   "cell_type": "code",
   "execution_count": null,
   "metadata": {},
   "outputs": [],
   "source": []
  },
  {
   "cell_type": "code",
   "execution_count": 49,
   "metadata": {},
   "outputs": [],
   "source": [
    "a.save_result('eq2_6')"
   ]
  },
  {
   "cell_type": "code",
   "execution_count": 30,
   "metadata": {},
   "outputs": [],
   "source": [
    "a.p = np.load('output/20191223-1733_eq2_6_nn_params.npz')['arr_0']"
   ]
  },
  {
   "cell_type": "code",
   "execution_count": null,
   "metadata": {},
   "outputs": [],
   "source": []
  },
  {
   "cell_type": "code",
   "execution_count": null,
   "metadata": {},
   "outputs": [],
   "source": []
  }
 ],
 "metadata": {
  "kernelspec": {
   "display_name": "Python 3",
   "language": "python",
   "name": "python3"
  },
  "language_info": {
   "codemirror_mode": {
    "name": "ipython",
    "version": 3
   },
   "file_extension": ".py",
   "mimetype": "text/x-python",
   "name": "python",
   "nbconvert_exporter": "python",
   "pygments_lexer": "ipython3",
   "version": "3.6.7"
  },
  "notify_time": "30",
  "toc": {
   "base_numbering": 1,
   "nav_menu": {},
   "number_sections": true,
   "sideBar": true,
   "skip_h1_title": false,
   "title_cell": "Table of Contents",
   "title_sidebar": "Contents",
   "toc_cell": false,
   "toc_position": {
    "height": "calc(100% - 180px)",
    "left": "10px",
    "top": "150px",
    "width": "216.797px"
   },
   "toc_section_display": true,
   "toc_window_display": false
  },
  "varInspector": {
   "cols": {
    "lenName": 16,
    "lenType": 16,
    "lenVar": 40
   },
   "kernels_config": {
    "python": {
     "delete_cmd_postfix": "",
     "delete_cmd_prefix": "del ",
     "library": "var_list.py",
     "varRefreshCmd": "print(var_dic_list())"
    },
    "r": {
     "delete_cmd_postfix": ") ",
     "delete_cmd_prefix": "rm(",
     "library": "var_list.r",
     "varRefreshCmd": "cat(var_dic_list()) "
    }
   },
   "types_to_exclude": [
    "module",
    "function",
    "builtin_function_or_method",
    "instance",
    "_Feature"
   ],
   "window_display": false
  }
 },
 "nbformat": 4,
 "nbformat_minor": 2
}
