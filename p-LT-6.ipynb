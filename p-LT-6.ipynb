{
 "cells": [
  {
   "cell_type": "markdown",
   "metadata": {
    "slideshow": {
     "slide_type": "-"
    }
   },
   "source": [
    "# Imports"
   ]
  },
  {
   "cell_type": "code",
   "execution_count": 161,
   "metadata": {
    "ExecuteTime": {
     "end_time": "2018-12-28T10:18:37.752347Z",
     "start_time": "2018-12-28T10:18:37.743196Z"
    },
    "init_cell": true
   },
   "outputs": [],
   "source": [
    "import numpy as np\n",
    "import itertools\n",
    "\n",
    "%matplotlib inline\n",
    "from matplotlib import pyplot as plt\n",
    "from mpl_toolkits.mplot3d import Axes3D\n",
    "from matplotlib import cm"
   ]
  },
  {
   "cell_type": "markdown",
   "metadata": {},
   "source": [
    "Defining Latex Macros. DO NOT DELETE THIS CELL\n",
    "$\\newcommand\\p[2]{\\frac{\\partial #1}{\\partial #2}}$"
   ]
  },
  {
   "cell_type": "markdown",
   "metadata": {},
   "source": [
    "# Introduction"
   ]
  },
  {
   "cell_type": "markdown",
   "metadata": {},
   "source": [
    "Consider the following $p$-Laplacian equation:\n",
    "\n",
    "$$\\Delta_p \\Psi(x,y)=\\pi ^2 (y-1) y \\left(3 \\pi ^2 y^4-6 \\pi ^2 y^3+3 \\left(\\pi ^2-6\\right) y^2+18 y-4\\right) \\sin (\\pi  x) \\cos ^2(\\pi  x)+\\left(\\pi ^2 (y-1) y-6\\right) (1-2 y)^2 \\sin ^3(\\pi  x)$$\n",
    "\n",
    "$x \\in [0,1],\\ y \\in [0,1]$ with *Dirichlet* BC: $\\Psi(0,y) = 0$, $\\Psi(1,y) = 0$, $\\Psi(x,0) = 0$ and $\\Psi(x,1) = 0$.\n",
    "\n",
    "For this case, we will take $p=4$."
   ]
  },
  {
   "cell_type": "markdown",
   "metadata": {},
   "source": [
    "$$\\Delta_p \\Psi(x,y) = f(x,y)$$"
   ]
  },
  {
   "cell_type": "markdown",
   "metadata": {},
   "source": [
    "# Defining functions"
   ]
  },
  {
   "cell_type": "code",
   "execution_count": 162,
   "metadata": {
    "ExecuteTime": {
     "end_time": "2018-12-28T10:18:37.795879Z",
     "start_time": "2018-12-28T10:18:37.754750Z"
    },
    "init_cell": true
   },
   "outputs": [],
   "source": [
    "def f(x, y):\n",
    "    return np.pi**2 * (y-1)*y*(3*np.pi**2*y**4 - 6*np.pi**2*y**3 + 3*(np.pi**2-6)*y**2 + 18*y - 4)*np.sin(np.pi*x)*np.cos(np.pi*x)**2   +   (np.pi**2*(y-1)*y - 6)*(1-2*y)**2*np.sin(np.pi*x)**3"
   ]
  },
  {
   "cell_type": "markdown",
   "metadata": {},
   "source": [
    "The analytic solution is given by: $\\Psi_a(x,y) = y (1-y) \\sin(\\pi  x)$"
   ]
  },
  {
   "cell_type": "code",
   "execution_count": 163,
   "metadata": {
    "ExecuteTime": {
     "end_time": "2018-12-28T10:18:37.802462Z",
     "start_time": "2018-12-28T10:18:37.797725Z"
    },
    "init_cell": true
   },
   "outputs": [],
   "source": [
    "def psi_a(x, y):\n",
    "    return y * (1-y) * np.sin(np.pi * x)"
   ]
  },
  {
   "cell_type": "code",
   "execution_count": 164,
   "metadata": {
    "ExecuteTime": {
     "end_time": "2018-12-28T10:18:37.832925Z",
     "start_time": "2018-12-28T10:18:37.805781Z"
    },
    "init_cell": true
   },
   "outputs": [],
   "source": [
    "# -π (y - 1) y cos(π x)\n",
    "def psi_a_dx(x, y):\n",
    "    return -np.pi*(y-1)*y*np.cos(np.pi*x)"
   ]
  },
  {
   "cell_type": "code",
   "execution_count": 165,
   "metadata": {
    "ExecuteTime": {
     "end_time": "2018-12-28T10:18:37.841968Z",
     "start_time": "2018-12-28T10:18:37.837482Z"
    },
    "init_cell": true
   },
   "outputs": [],
   "source": [
    "# (1 - 2 y) sin(π x)\n",
    "def psi_a_dy(x,y):\n",
    "    return (1-2*y)*np.sin(np.pi*x)"
   ]
  },
  {
   "cell_type": "markdown",
   "metadata": {},
   "source": [
    "Sigmoid $\\sigma(x) = \\frac{1}{1+e^{-x}}$ and its derrivatives."
   ]
  },
  {
   "cell_type": "code",
   "execution_count": 166,
   "metadata": {
    "ExecuteTime": {
     "end_time": "2018-12-28T10:18:37.867149Z",
     "start_time": "2018-12-28T10:18:37.843999Z"
    },
    "init_cell": true
   },
   "outputs": [],
   "source": [
    "#sigmoid\n",
    "def sig(x):\n",
    "    return 1 / (1 + np.exp(-x))\n",
    "\n",
    "def sig1(x):\n",
    "    return sig(x) * (1 - sig(x))\n",
    "\n",
    "def sig2(x):\n",
    "    return sig1(x) - 2 * sig(x) * sig1(x)\n",
    "\n",
    "def sig3(x):\n",
    "    return sig2(x) - 2 * (sig1(x)**2 + sig(x) * sig2(x))\n",
    "\n",
    "def sig_pr(x, k):\n",
    "    if k==0:\n",
    "        return sig(x)\n",
    "    if k==1:\n",
    "        return sig1(x)\n",
    "    if k==2:\n",
    "        return sig2(x)\n",
    "    if k==3:\n",
    "        return sig3(x)"
   ]
  },
  {
   "cell_type": "markdown",
   "metadata": {},
   "source": [
    "## Neural network and its derivatives"
   ]
  },
  {
   "cell_type": "markdown",
   "metadata": {},
   "source": [
    "The output of neural network $N(x,y,\\vec{p})$, where $\\vec{p} = [w, u, v]$:\n",
    "$$N = \\sum_i^H v_i \\sigma(z_i) \\text{, where } z_i = w_{i0} x + w_{i1} y + u_i$$"
   ]
  },
  {
   "cell_type": "code",
   "execution_count": 167,
   "metadata": {
    "ExecuteTime": {
     "end_time": "2018-12-28T10:18:37.896104Z",
     "start_time": "2018-12-28T10:18:37.870721Z"
    },
    "init_cell": true
   },
   "outputs": [],
   "source": [
    "def z(x, y, p):\n",
    "    z_x = np.multiply(x, p[0][0])\n",
    "    z_y = np.multiply(y, p[0][1])\n",
    "    z_ = np.array([z_x, z_y, p[1]]).sum(axis=0)\n",
    "    return z_\n",
    "\n",
    "def N(x, y, p):\n",
    "    return np.sum(np.multiply(sig(z(x,y,p)), p[2]))"
   ]
  },
  {
   "cell_type": "markdown",
   "metadata": {},
   "source": [
    "$$\\p{^k N}{ x_j^k} = \\sum_{i=1}^H v_i w_{ij}^k \\sigma^{(k)}$$"
   ]
  },
  {
   "cell_type": "code",
   "execution_count": 168,
   "metadata": {
    "ExecuteTime": {
     "end_time": "2018-12-28T10:18:37.904313Z",
     "start_time": "2018-12-28T10:18:37.898746Z"
    },
    "init_cell": true
   },
   "outputs": [],
   "source": [
    "def dN_dxj_k(x, y, p, j, k):\n",
    "    wj = p[0][j]\n",
    "    v = p[2]\n",
    "    z_ = z(x, y, p)\n",
    "    \n",
    "    return np.sum(v * (wj**k) * sig_pr(z_, k))"
   ]
  },
  {
   "cell_type": "markdown",
   "metadata": {},
   "source": [
    "$$\\p{}{ x_1}\\p{}{ x_2} N = \\sum_{i=1}^H v_i w_{i1} w_{i2} \\sigma''$$"
   ]
  },
  {
   "cell_type": "code",
   "execution_count": 169,
   "metadata": {
    "ExecuteTime": {
     "end_time": "2018-12-28T10:18:37.911617Z",
     "start_time": "2018-12-28T10:18:37.906544Z"
    },
    "init_cell": true
   },
   "outputs": [],
   "source": [
    "def dN_dx1_dx2(x, y, p):\n",
    "    w1 = p[0][0]\n",
    "    w2 = p[0][1]\n",
    "    v = p[2]\n",
    "    z_ = z(x, y, p)\n",
    "    \n",
    "    return np.sum(v * w1 * w2 * sig_pr(z_, 2))"
   ]
  },
  {
   "cell_type": "markdown",
   "metadata": {},
   "source": [
    "$$\\p{N}{w_j} = x_j v \\sigma '$$"
   ]
  },
  {
   "cell_type": "code",
   "execution_count": 170,
   "metadata": {
    "ExecuteTime": {
     "end_time": "2018-12-28T10:18:37.917765Z",
     "start_time": "2018-12-28T10:18:37.913738Z"
    },
    "init_cell": true
   },
   "outputs": [],
   "source": [
    "def dN_dwj(x, y, p, j):\n",
    "    xj = x if j==0 else y\n",
    "    v = p[2]\n",
    "    z_ = z(x, y, p)\n",
    "    return xj * v * sig1(z_)"
   ]
  },
  {
   "cell_type": "markdown",
   "metadata": {},
   "source": [
    "$$ \\p{}{ w_j} \\p{ N}{ x_k} = x_j v w_k \\sigma'' + v_i \\sigma' \\quad\\text{ if } j = k$$\n",
    "\n",
    "$$ \\p{}{ w_j} \\p{ N}{ x_k} = x_j v w_k \\sigma'' \\quad\\text{ if } j \\neq k$$"
   ]
  },
  {
   "cell_type": "code",
   "execution_count": 171,
   "metadata": {
    "ExecuteTime": {
     "end_time": "2018-12-28T10:18:37.924239Z",
     "start_time": "2018-12-28T10:18:37.919645Z"
    },
    "init_cell": true
   },
   "outputs": [],
   "source": [
    "def d_dwj_dN_dxk(x, y, p, j, k):\n",
    "    xj = x if j==0 else y\n",
    "    wk = p[0][k]\n",
    "    jk = 1 if j==k else 0\n",
    "    v = p[2]\n",
    "    z_ = z(x, y, p)\n",
    "    return xj * v * wk * sig2(z_) + jk * v * sig1(z_)"
   ]
  },
  {
   "cell_type": "markdown",
   "metadata": {},
   "source": [
    "$$ \\p{}{ w_j} \\p{^2 N}{ x_k^2} = x_j v w_k^2 \\sigma^{(3)} + 2 v w_k \\sigma'' \\quad\\text{ if } j = k $$\n",
    "\n",
    "$$ \\p{}{ w_j} \\p{^2 N}{ x_k^2} = x_j v w_k^2 \\sigma^{(3)} \\quad\\text{ if } j \\neq k $$"
   ]
  },
  {
   "cell_type": "code",
   "execution_count": 172,
   "metadata": {
    "ExecuteTime": {
     "end_time": "2018-12-28T10:18:37.930999Z",
     "start_time": "2018-12-28T10:18:37.926145Z"
    },
    "init_cell": true
   },
   "outputs": [],
   "source": [
    "def d_dwj_dN2_dxk2(x, y, p, j, k):\n",
    "    xj = x if j==0 else y\n",
    "    wk = p[0][k]\n",
    "    jk = 1 if j==k else 0\n",
    "    v = p[2]\n",
    "    z_ = z(x, y, p)\n",
    "    return xj * v * (wk**2) * sig3(z_) + jk * 2 * v * wk * sig2(z_)"
   ]
  },
  {
   "cell_type": "markdown",
   "metadata": {},
   "source": [
    "$$ \\p{}{ w_j}\\p{}{ x_1}\\p{}{ x_2} N = x_j v w_1 w_2 \\sigma^{(3)} + v w_{not j} \\sigma'' $$"
   ]
  },
  {
   "cell_type": "code",
   "execution_count": 173,
   "metadata": {
    "ExecuteTime": {
     "end_time": "2018-12-28T10:18:37.950644Z",
     "start_time": "2018-12-28T10:18:37.932875Z"
    },
    "init_cell": true
   },
   "outputs": [],
   "source": [
    "def d_dwj_d_dx1_dN_dx2(x, y, p, j):\n",
    "    w1 = p[0][0]\n",
    "    w2 = p[0][1]\n",
    "    w_not_j = p[0][1-j]\n",
    "    xj = x if j==0 else y\n",
    "    v = p[2]\n",
    "    z_ = z(x, y, p)\n",
    "    \n",
    "    return xj*v*w1*w2*sig_pr(z_,3) + v*w_not_j*sig_pr(z_, 2)"
   ]
  },
  {
   "cell_type": "markdown",
   "metadata": {},
   "source": [
    "$$ \\p{}{u}\\p{}{x_1}\\p{}{x_2} N = v w_1 w_2 \\sigma^{(3)}$$"
   ]
  },
  {
   "cell_type": "code",
   "execution_count": 174,
   "metadata": {
    "ExecuteTime": {
     "end_time": "2018-12-28T10:18:38.007280Z",
     "start_time": "2018-12-28T10:18:37.952530Z"
    },
    "init_cell": true
   },
   "outputs": [],
   "source": [
    "def d_du_d_dx1_dN_dx2(x, y, p):\n",
    "    w1 = p[0][0]\n",
    "    w2 = p[0][1]\n",
    "    v = p[2]\n",
    "    z_ = z(x, y, p)\n",
    "    \n",
    "    return v*w1*w2*sig_pr(z_, 3)"
   ]
  },
  {
   "cell_type": "markdown",
   "metadata": {},
   "source": [
    "$$ \\p{}{v}\\p{}{x_1}\\p{}{x_2} N = w_1 w_2 \\sigma''$$"
   ]
  },
  {
   "cell_type": "code",
   "execution_count": 175,
   "metadata": {
    "ExecuteTime": {
     "end_time": "2018-12-28T10:18:38.017194Z",
     "start_time": "2018-12-28T10:18:38.010935Z"
    },
    "init_cell": true
   },
   "outputs": [],
   "source": [
    "def d_dv_d_dx1_dN_dx2(x, y, p):\n",
    "    w1 = p[0][0]\n",
    "    w2 = p[0][1]\n",
    "    z_ = z(x, y, p)\n",
    "    \n",
    "    return w1*w2*sig_pr(z_, 2)"
   ]
  },
  {
   "cell_type": "markdown",
   "metadata": {},
   "source": [
    "$$ \\p{}{ u} \\p{^k}{ x_j^k} N = v w_j^k \\sigma^{(k+1)} $$"
   ]
  },
  {
   "cell_type": "code",
   "execution_count": 176,
   "metadata": {
    "ExecuteTime": {
     "end_time": "2018-12-28T10:18:38.041890Z",
     "start_time": "2018-12-28T10:18:38.019002Z"
    },
    "init_cell": true
   },
   "outputs": [],
   "source": [
    "def d_du_dkN(x, y, p, j, k):\n",
    "    v = p[2]\n",
    "    wj = p[0][j]\n",
    "    z_ = z(x, y, p)\n",
    "    return v * (wj**k) * sig_pr(z_, k+1)"
   ]
  },
  {
   "cell_type": "markdown",
   "metadata": {},
   "source": [
    "$$ \\p{}{ v} \\p{^k}{ x_j^k} N = w_j^k \\sigma^{(k)} $$"
   ]
  },
  {
   "cell_type": "code",
   "execution_count": 177,
   "metadata": {
    "ExecuteTime": {
     "end_time": "2018-12-28T10:18:38.049273Z",
     "start_time": "2018-12-28T10:18:38.044032Z"
    },
    "init_cell": true
   },
   "outputs": [],
   "source": [
    "def d_dv_dkN(x, y, p, j, k):\n",
    "    wj = p[0][j]\n",
    "    z_ = z(x, y, p)\n",
    "    return (wj**k) * sig_pr(z_, k)"
   ]
  },
  {
   "cell_type": "markdown",
   "metadata": {},
   "source": [
    "## Trial solution and its derivatives"
   ]
  },
  {
   "cell_type": "markdown",
   "metadata": {},
   "source": [
    "The trial solution is given by: $$\\Psi_t(x,y) = x(1-x)y(1-y)N(x,y,\\vec{p})$$"
   ]
  },
  {
   "cell_type": "code",
   "execution_count": 178,
   "metadata": {
    "ExecuteTime": {
     "end_time": "2018-12-28T10:18:38.059995Z",
     "start_time": "2018-12-28T10:18:38.056642Z"
    },
    "init_cell": true
   },
   "outputs": [],
   "source": [
    "def psi_t(x, y, p):\n",
    "    return x * (1-x) * y * (1-y) * N(x, y, p)"
   ]
  },
  {
   "cell_type": "markdown",
   "metadata": {},
   "source": [
    "$$\\p{\\Psi_t}{x_j} = y_j(1-y_j)\\left[ (1-2x_j)N + x_j(1-x_j) \\p{N}{x_j} \\right]$$"
   ]
  },
  {
   "cell_type": "code",
   "execution_count": 179,
   "metadata": {
    "ExecuteTime": {
     "end_time": "2018-12-28T10:18:38.083248Z",
     "start_time": "2018-12-28T10:18:38.063207Z"
    },
    "init_cell": true
   },
   "outputs": [],
   "source": [
    "def dPsi_dxj(x, y, p, j):\n",
    "    xj = x if j==0 else y\n",
    "    yj = y if j==0 else x\n",
    "    return yj*(1-yj)*( (1-2*xj)*N(x,y,p) + xj*(1-xj)*dN_dxj_k(x,y,p,j,1) )"
   ]
  },
  {
   "cell_type": "markdown",
   "metadata": {},
   "source": [
    "$$\\p{^2 \\Psi_t}{ x_j^2} = y_j(1-y_j)\\left[ -2N + (2-4x_j) \\p{ N}{ x_j} + x_j (1-x_j) \\p{^2 N}{ x_j^2} \\right]$$"
   ]
  },
  {
   "cell_type": "code",
   "execution_count": 180,
   "metadata": {
    "ExecuteTime": {
     "end_time": "2018-12-28T10:18:38.106785Z",
     "start_time": "2018-12-28T10:18:38.085172Z"
    },
    "init_cell": true
   },
   "outputs": [],
   "source": [
    "def dPsi2_dxj2(x, y, p, j):\n",
    "    xj = x if j==0 else y\n",
    "    yj = y if j==0 else x\n",
    "    return yj*(1-yj)*(-2*N(x,y,p) + (2-4*xj)*dN_dxj_k(x,y,p,j,1) + xj*(1-xj)*dN_dxj_k(x,y,p,j,2))"
   ]
  },
  {
   "cell_type": "markdown",
   "metadata": {},
   "source": [
    "$$\\p{}{ y_j}\\p{ \\Psi_t}{ x_j} = (1-2y_j)\\left[ (1-2x_j)N + x_j(1-x_j) \\p{ N}{ x_j}\\right] + y_j(1-y_j) \\left[ (1-2x_j)\\p{ N}{ y_j} + x_j(1-x_j) \\p{}{ y_j} \\p{ N}{ x_j} \\right] $$"
   ]
  },
  {
   "cell_type": "code",
   "execution_count": 181,
   "metadata": {
    "ExecuteTime": {
     "end_time": "2018-12-28T10:18:38.114576Z",
     "start_time": "2018-12-28T10:18:38.108675Z"
    },
    "init_cell": true
   },
   "outputs": [],
   "source": [
    "def d_dy_dPsi_dx(x, y, p, j):\n",
    "    xj = x if j==0 else y\n",
    "    yj = y if j==0 else x\n",
    "    return (1-2*yj)*( (1-2*xj)*N(x,y,p) + xj*(1-xj)*dN_dxj_k(x,y,p,j,1) )  +  yj*(1-yj)*((1-2*xj)*dN_dxj_k(x,y,p,1-j,1) + xj*(1-xj)*dN_dx1_dx2(x,y,p))"
   ]
  },
  {
   "cell_type": "markdown",
   "metadata": {},
   "source": [
    "$$ |\\nabla \\Psi| = \\left[ \\left(\\p{\\Psi}{x}\\right)^2 + \\left(\\p{\\Psi}{y}\\right)^2 \\right]^{\\frac{1}{2}} $$"
   ]
  },
  {
   "cell_type": "markdown",
   "metadata": {},
   "source": [
    "$$\\p{}{v}|\\nabla \\Psi|^{P} = (P) |\\nabla \\Psi|^{P-2} \\left[\\p{ \\Psi}{ x} \\left(\\p{}{v}\\p{ \\Psi}{ x}\\right) + \\p{ \\Psi}{ y} \\left(\\p{}{v}\\p{ \\Psi}{ y}\\right) \\right]$$"
   ]
  },
  {
   "cell_type": "code",
   "execution_count": 182,
   "metadata": {
    "ExecuteTime": {
     "end_time": "2018-12-28T10:18:38.120643Z",
     "start_time": "2018-12-28T10:18:38.116519Z"
    },
    "hide_input": true,
    "init_cell": true
   },
   "outputs": [],
   "source": [
    "def norm_psi(x, y, p):\n",
    "    ans = np.sqrt(dPsi_dxj(x,y,p,0)**2 + dPsi_dxj(x,y,p,1)**2)\n",
    "#     ans = 1e-8 if ans<1e-8 else ans\n",
    "    ans = np.inf if ans==0 else ans\n",
    "    return ans"
   ]
  },
  {
   "cell_type": "markdown",
   "metadata": {},
   "source": [
    "$$\\p{}{x_j}|\\nabla \\Psi|^{p-2} = (p-2) |\\nabla \\Psi|^{p-4} \\left(\\p{\\Psi}{x_j} \\p{^2 \\Psi}{x_j^2} + \\p{\\Psi}{y_j} \\left( \\p{}{x_j} \\p{\\Psi}{y_j} \\right) \\right)$$"
   ]
  },
  {
   "cell_type": "code",
   "execution_count": 183,
   "metadata": {
    "ExecuteTime": {
     "end_time": "2018-12-28T10:18:38.127099Z",
     "start_time": "2018-12-28T10:18:38.122389Z"
    },
    "hide_input": true,
    "init_cell": true
   },
   "outputs": [],
   "source": [
    "def dNormPsi_dxj(x, y, p, j, pLap):\n",
    "    return (pLap-2)*(norm_psi(x,y,p)**(pLap-4))*( dPsi_dxj(x,y,p,j)*dPsi2_dxj2(x,y,p,j) + dPsi_dxj(x,y,p,1-j)* d_dy_dPsi_dx(x,y,p,1-j))"
   ]
  },
  {
   "cell_type": "markdown",
   "metadata": {},
   "source": [
    "$$\\p{}{ w_j} \\p{ \\Psi_t}{ x_k} = y_k(1-y_k)\\left[ (1-2x)\\p{ N}{ w_j} + x(1-x) \\p{}{ w_j} \\p{ N}{ x_k} \\right]$$"
   ]
  },
  {
   "cell_type": "code",
   "execution_count": 184,
   "metadata": {
    "ExecuteTime": {
     "end_time": "2018-12-28T10:18:38.133693Z",
     "start_time": "2018-12-28T10:18:38.129032Z"
    },
    "init_cell": true
   },
   "outputs": [],
   "source": [
    "def d_dwj_dPsi_dxk(x, y, p, j, k):\n",
    "    xj = x if k==0 else y\n",
    "    yj = y if k==0 else x\n",
    "    return yj*(1-yj)*( (1-2*xj)*dN_dwj(x,y,p,j) + xj*(1-xj)*d_dwj_dN_dxk(x,y,p,j,k) )"
   ]
  },
  {
   "cell_type": "markdown",
   "metadata": {},
   "source": [
    "$$\\p{}{ u} \\p{ \\Psi_t}{ x_k} = y_k(1-y_k)\\left[ (1-2x)\\p{ N}{ u} + x(1-x) \\p{}{ u} \\p{ N}{ x_k} \\right]$$"
   ]
  },
  {
   "cell_type": "code",
   "execution_count": 185,
   "metadata": {
    "ExecuteTime": {
     "end_time": "2018-12-28T10:18:38.140221Z",
     "start_time": "2018-12-28T10:18:38.135575Z"
    },
    "init_cell": true
   },
   "outputs": [],
   "source": [
    "def d_du_dPsi_dxk(x, y, p, k):\n",
    "    xj = x if k==0 else y\n",
    "    yj = y if k==0 else x\n",
    "    return yj*(1-yj)*( (1-2*xj)*d_du_dkN(x,y,p,k,0) + xj*(1-xj)*d_du_dkN(x,y,p,k,1) )"
   ]
  },
  {
   "cell_type": "markdown",
   "metadata": {},
   "source": [
    "$$\\p{}{v} \\p{ \\Psi_t}{ x_k} = y_k(1-y_k)\\left[ (1-2x)\\p{ N}{v} + x(1-x) \\p{}{v} \\p{ N}{ x_k} \\right]$$"
   ]
  },
  {
   "cell_type": "code",
   "execution_count": 186,
   "metadata": {
    "ExecuteTime": {
     "end_time": "2018-12-28T10:18:38.146675Z",
     "start_time": "2018-12-28T10:18:38.141997Z"
    },
    "init_cell": true
   },
   "outputs": [],
   "source": [
    "def d_dv_dPsi_dxk(x, y, p, k):\n",
    "    xj = x if k==0 else y\n",
    "    yj = y if k==0 else x\n",
    "    return yj*(1-yj)*( (1-2*xj)*d_dv_dkN(x,y,p,k,0) + xj*(1-xj)*d_dv_dkN(x,y,p,k,1) )"
   ]
  },
  {
   "cell_type": "markdown",
   "metadata": {},
   "source": [
    "$$ \\p{}{ w_j} \\p{^2 \\Psi_t}{ x_k^2} = y_k(1-y_k)\\left[ -2 \\p{ N}{ w_j} + (2-4x_k) \\p{}{ w_j}\\p{ N}{ x_k} + x_k (1-x_k) \\p{}{ w_j}\\p{^2 N}{ x_k^2} \\right]$$"
   ]
  },
  {
   "cell_type": "code",
   "execution_count": 187,
   "metadata": {
    "ExecuteTime": {
     "end_time": "2018-12-28T10:18:38.165925Z",
     "start_time": "2018-12-28T10:18:38.148548Z"
    },
    "init_cell": true
   },
   "outputs": [],
   "source": [
    "def d_dwj_dPsi2_dxk2(x, y, p, j, k):\n",
    "    xk = x if k==0 else y\n",
    "    yk = y if k==0 else x\n",
    "    return yk*(1-yk)*(-2*dN_dwj(x,y,p,j) + (2-4*xk)*d_dwj_dN_dxk(x,y,p,j,k) + xk*(1-xk)*d_dwj_dN2_dxk2(x,y,p,j,k))"
   ]
  },
  {
   "cell_type": "markdown",
   "metadata": {},
   "source": [
    "$$ \\p{}{ u} \\p{^2 \\Psi_t}{ x_k^2} = y_k(1-y_k)\\left[ -2 \\p{ N}{ u} + (2-4x_k) \\p{}{ u}\\p{ N}{ x_k} + x_k (1-x_k) \\p{}{ u}\\p{^2 N}{ x_k^2} \\right]$$"
   ]
  },
  {
   "cell_type": "code",
   "execution_count": 188,
   "metadata": {
    "ExecuteTime": {
     "end_time": "2018-12-28T10:18:38.183087Z",
     "start_time": "2018-12-28T10:18:38.168661Z"
    },
    "init_cell": true
   },
   "outputs": [],
   "source": [
    "def d_du_dPsi2_dxk2(x, y, p, k):\n",
    "    xk = x if k==0 else y\n",
    "    yk = y if k==0 else x\n",
    "    return yk*(1-yk)*(-2*d_du_dkN(x,y,p,k,0) + (2-4*xk)*d_du_dkN(x,y,p,k,1) + xk*(1-xk)*d_du_dkN(x,y,p,k,2))"
   ]
  },
  {
   "cell_type": "markdown",
   "metadata": {},
   "source": [
    "$$ \\p{}{v} \\p{^2 \\Psi_t}{ x_k^2} = y_k(1-y_k)\\left[ -2 \\p{ N}{v} + (2-4x_k) \\p{}{v}\\p{ N}{ x_k} + x_k (1-x_k) \\p{}{v}\\p{^2 N}{ x_k^2} \\right]$$"
   ]
  },
  {
   "cell_type": "code",
   "execution_count": 189,
   "metadata": {
    "ExecuteTime": {
     "end_time": "2018-12-28T10:18:38.199773Z",
     "start_time": "2018-12-28T10:18:38.185022Z"
    },
    "init_cell": true
   },
   "outputs": [],
   "source": [
    "def d_dv_dPsi2_dxk2(x, y, p, k):\n",
    "    xk = x if k==0 else y\n",
    "    yk = y if k==0 else x\n",
    "    return yk*(1-yk)*(-2*d_dv_dkN(x,y,p,k,0) + (2-4*xk)*d_dv_dkN(x,y,p,k,1) + xk*(1-xk)*d_dv_dkN(x,y,p,k,2))"
   ]
  },
  {
   "cell_type": "markdown",
   "metadata": {},
   "source": [
    "$$\\p{}{ w_j}|\\nabla \\Psi|^{P} = (P) |\\nabla \\Psi|^{P-2} \\left[\\p{ \\Psi}{ x} \\left(\\p{}{ w_j}\\p{ \\Psi}{ x}\\right) + \\p{ \\Psi}{ y} \\left(\\p{}{ w_j}\\p{ \\Psi}{ y}\\right) \\right]$$"
   ]
  },
  {
   "cell_type": "code",
   "execution_count": 190,
   "metadata": {
    "ExecuteTime": {
     "end_time": "2018-12-28T10:18:38.216711Z",
     "start_time": "2018-12-28T10:18:38.202027Z"
    },
    "init_cell": true
   },
   "outputs": [],
   "source": [
    "def dNormPsiP_dwj(x, y, p, j, P):\n",
    "    return P*norm_psi(x,y,p)**(P-2)*(dPsi_dxj(x,y,p,0)*d_dwj_dPsi_dxk(x,y,p,j,0) + dPsi_dxj(x,y,p,1)*d_dwj_dPsi_dxk(x,y,p,j,1))"
   ]
  },
  {
   "cell_type": "markdown",
   "metadata": {},
   "source": [
    "$$\\p{}{ u}|\\nabla \\Psi|^{P} = (P) |\\nabla \\Psi|^{P-2} \\left[\\p{ \\Psi}{ x} \\left(\\p{}{ u}\\p{ \\Psi}{ x}\\right) + \\p{ \\Psi}{ y} \\left(\\p{}{ u}\\p{ \\Psi}{ y}\\right) \\right]$$"
   ]
  },
  {
   "cell_type": "code",
   "execution_count": 191,
   "metadata": {
    "ExecuteTime": {
     "end_time": "2018-12-28T10:18:38.233723Z",
     "start_time": "2018-12-28T10:18:38.219388Z"
    },
    "init_cell": true
   },
   "outputs": [],
   "source": [
    "def dNormPsiP_du(x, y, p, P):\n",
    "    return P*norm_psi(x,y,p)**(P-2)*(dPsi_dxj(x,y,p,0)*d_du_dPsi_dxk(x,y,p,0) + dPsi_dxj(x,y,p,1)*d_du_dPsi_dxk(x,y,p,1))"
   ]
  },
  {
   "cell_type": "markdown",
   "metadata": {},
   "source": [
    "$$\\p{}{v}|\\nabla \\Psi|^{P} = (P) |\\nabla \\Psi|^{P-2} \\left[\\p{ \\Psi}{ x} \\left(\\p{}{v}\\p{ \\Psi}{ x}\\right) + \\p{ \\Psi}{ y} \\left(\\p{}{v}\\p{ \\Psi}{ y}\\right) \\right]$$"
   ]
  },
  {
   "cell_type": "code",
   "execution_count": 192,
   "metadata": {
    "ExecuteTime": {
     "end_time": "2018-12-28T10:18:38.269217Z",
     "start_time": "2018-12-28T10:18:38.236953Z"
    },
    "init_cell": true
   },
   "outputs": [],
   "source": [
    "def dNormPsiP_dv(x, y, p, P):\n",
    "    return P*norm_psi(x,y,p)**(P-2)*(dPsi_dxj(x,y,p,0)*d_dv_dPsi_dxk(x,y,p,0) + dPsi_dxj(x,y,p,1)*d_dv_dPsi_dxk(x,y,p,1))"
   ]
  },
  {
   "cell_type": "markdown",
   "metadata": {},
   "source": [
    "$$ \\p{}{ w_j}\\p{}{ y_k}\\p{ \\Psi_t}{ x_k} = (1-2y_k)\\left[ (1-2x_k) \\p{ N}{ w_j} + x_k(1-x_k) \\p{}{ w_j}\\p{ N}{ x_k}\\right] + y_k(1-y_k) \\left[ (1-2x_k)\\p{}{ w_j}\\p{ N}{ y_k} + x_k(1-x_k) \\p{}{ w_j}\\p{}{ y_k} \\p{ N}{ x_k} \\right] $$"
   ]
  },
  {
   "cell_type": "code",
   "execution_count": 193,
   "metadata": {
    "ExecuteTime": {
     "end_time": "2018-12-28T10:18:38.283111Z",
     "start_time": "2018-12-28T10:18:38.273731Z"
    },
    "init_cell": true
   },
   "outputs": [],
   "source": [
    "def d_dwj_d_dyk_dPsi_dxk(x, y, p, j, k):\n",
    "    xk = x if k==0 else y\n",
    "    yk = y if k==0 else x\n",
    "    term1 = (1-2*yk)*((1-2*xk)*dN_dwj(x,y,p,j) + xk*(1-xk)*d_dwj_dN_dxk(x,y,p,j,k))\n",
    "    term2 = yk*(1-yk)*((1-2*xk)*d_dwj_dN_dxk(x,y,p,j,1-k) + xk*(1-xk)*d_dwj_d_dx1_dN_dx2(x,y,p,j))\n",
    "    \n",
    "    return term1 + term2"
   ]
  },
  {
   "cell_type": "markdown",
   "metadata": {},
   "source": [
    "$$ \\p{}{ u}\\p{}{ y_k}\\p{ \\Psi_t}{ x_k} = (1-2y_k)\\left[ (1-2x_k) \\p{ N}{ u} + x_k(1-x_k) \\p{}{ u}\\p{ N}{ x_k}\\right] + y_k(1-y_k) \\left[ (1-2x_k)\\p{}{ u}\\p{ N}{ y_k} + x_k(1-x_k) \\p{}{ u}\\p{}{ y_k} \\p{ N}{ x_k} \\right] $$"
   ]
  },
  {
   "cell_type": "code",
   "execution_count": 194,
   "metadata": {
    "ExecuteTime": {
     "end_time": "2018-12-28T10:18:38.291409Z",
     "start_time": "2018-12-28T10:18:38.285153Z"
    },
    "init_cell": true
   },
   "outputs": [],
   "source": [
    "def d_du_d_dyk_dPsi_dxk(x, y, p, k):\n",
    "    xk = x if k==0 else y\n",
    "    yk = y if k==0 else x\n",
    "    term1 = (1-2*yk)*((1-2*xk)*d_du_dkN(x,y,p,k,0) + xk*(1-xk)*d_du_dkN(x,y,p,k,1))\n",
    "    term2 = yk*(1-yk)*((1-2*xk)*d_du_dkN(x,y,p,1-k,1) + xk*(1-xk)*d_du_d_dx1_dN_dx2(x,y,p))\n",
    "    \n",
    "    return term1 + term2"
   ]
  },
  {
   "cell_type": "markdown",
   "metadata": {},
   "source": [
    "$$ \\p{}{v}\\p{}{ y_k}\\p{ \\Psi_t}{ x_k} = (1-2y_k)\\left[ (1-2x_k) \\p{ N}{v} + x_k(1-x_k) \\p{}{v}\\p{ N}{ x_k}\\right] + y_k(1-y_k) \\left[ (1-2x_k)\\p{}{v}\\p{ N}{ y_k} + x_k(1-x_k) \\p{}{v}\\p{}{ y_k} \\p{ N}{ x_k} \\right] $$"
   ]
  },
  {
   "cell_type": "code",
   "execution_count": 195,
   "metadata": {
    "ExecuteTime": {
     "end_time": "2018-12-28T10:18:38.299895Z",
     "start_time": "2018-12-28T10:18:38.294294Z"
    },
    "init_cell": true
   },
   "outputs": [],
   "source": [
    "def d_dv_d_dyk_dPsi_dxk(x, y, p, k):\n",
    "    xk = x if k==0 else y\n",
    "    yk = y if k==0 else x\n",
    "    term1 = (1-2*yk)*((1-2*xk)*d_dv_dkN(x,y,p,k,0) + xk*(1-xk)*d_dv_dkN(x,y,p,k,1))\n",
    "    term2 = yk*(1-yk)*((1-2*xk)*d_dv_dkN(x,y,p,1-k,1) + xk*(1-xk)*d_dv_d_dx1_dN_dx2(x,y,p))\n",
    "    \n",
    "    return term1 + term2"
   ]
  },
  {
   "cell_type": "markdown",
   "metadata": {},
   "source": [
    "$$ \\p{}{w_j} \\left(\\p{\\Psi}{x_k} \\p{^2 \\Psi}{x_k^2} + \\p{\\Psi}{y_k} \\left( \\p{}{x_k} \\p{\\Psi}{y_k} \\right) \\right) = \\left(\\p{}{w_j}\\p{\\Psi}{x_k}\\right) \\p{^2\\Psi}{x_k^2} + \\p{\\Psi}{x_k} \\left(\\p{}{w_j}\\p{^2\\Psi}{x_k^2}\\right) + \\left(\\p{}{w_j}\\p{\\Psi}{y_k}\\right) \\left( \\p{}{x_k}\\p{\\Psi}{y_k} \\right) + \\p{\\Psi}{y_k}\\left( \\p{}{w_j}\\p{}{x_k}\\p{\\Psi}{y_k} \\right) $$"
   ]
  },
  {
   "cell_type": "code",
   "execution_count": 196,
   "metadata": {
    "ExecuteTime": {
     "end_time": "2018-12-28T10:18:38.307843Z",
     "start_time": "2018-12-28T10:18:38.301965Z"
    },
    "init_cell": true
   },
   "outputs": [],
   "source": [
    "def d_dwj_bracket_k(x, y, p, j, k):\n",
    "    term1 = d_dwj_dPsi_dxk(x,y,p,j,k) * dPsi2_dxj2(x,y,p,k)\n",
    "    term2 = dPsi_dxj(x,y,p,k) * d_dwj_dPsi2_dxk2(x,y,p,j,k)\n",
    "    term3 = d_dwj_dPsi_dxk(x,y,p,j,1-k) * d_dy_dPsi_dx(x,y,p,1-k)\n",
    "    term4 = dPsi_dxj(x,y,p,1-k) * d_dwj_d_dyk_dPsi_dxk(x,y,p,j,1-k)\n",
    "    \n",
    "    return term1 + term2 + term3 + term4"
   ]
  },
  {
   "cell_type": "markdown",
   "metadata": {},
   "source": [
    "$$ \\p{}{u} \\left(\\p{\\Psi}{x_k} \\p{^2 \\Psi}{x_k^2} + \\p{\\Psi}{y_k} \\left( \\p{}{x_k} \\p{\\Psi}{y_k} \\right) \\right) = \\left(\\p{}{u}\\p{\\Psi}{x_k}\\right) \\p{^2\\Psi}{x_k^2} + \\p{\\Psi}{x_k} \\left(\\p{}{u}\\p{^2\\Psi}{x_k^2}\\right) + \\left(\\p{}{u}\\p{\\Psi}{y_k}\\right) \\left( \\p{}{x_k}\\p{\\Psi}{y_k} \\right) + \\p{\\Psi}{y_k}\\left( \\p{}{u}\\p{}{x_k}\\p{\\Psi}{y_k} \\right) $$"
   ]
  },
  {
   "cell_type": "code",
   "execution_count": 197,
   "metadata": {
    "ExecuteTime": {
     "end_time": "2018-12-28T10:18:38.324202Z",
     "start_time": "2018-12-28T10:18:38.309875Z"
    },
    "init_cell": true
   },
   "outputs": [],
   "source": [
    "def d_du_bracket_k(x, y, p, k):\n",
    "    term1 = d_du_dPsi_dxk(x,y,p,k) * dPsi2_dxj2(x,y,p,k)\n",
    "    term2 = dPsi_dxj(x,y,p,k) * d_du_dPsi2_dxk2(x,y,p,k)\n",
    "    term3 = d_du_dPsi_dxk(x,y,p,1-k) * d_dy_dPsi_dx(x,y,p,1-k)\n",
    "    term4 = dPsi_dxj(x,y,p,1-k) * d_du_d_dyk_dPsi_dxk(x,y,p,1-k)\n",
    "    \n",
    "    return term1 + term2 + term3 + term4"
   ]
  },
  {
   "cell_type": "markdown",
   "metadata": {},
   "source": [
    "$$ \\p{}{v} \\left(\\p{\\Psi}{x_k} \\p{^2 \\Psi}{x_k^2} + \\p{\\Psi}{y_k} \\left( \\p{}{x_k} \\p{\\Psi}{y_k} \\right) \\right) = \\left(\\p{}{v}\\p{\\Psi}{x_k}\\right) \\p{^2\\Psi}{x_k^2} + \\p{\\Psi}{x_k} \\left(\\p{}{v}\\p{^2\\Psi}{x_k^2}\\right) + \\left(\\p{}{v}\\p{\\Psi}{y_k}\\right) \\left( \\p{}{x_k}\\p{\\Psi}{y_k} \\right) + \\p{\\Psi}{y_k}\\left( \\p{}{v}\\p{}{x_k}\\p{\\Psi}{y_k} \\right) $$"
   ]
  },
  {
   "cell_type": "code",
   "execution_count": 198,
   "metadata": {
    "ExecuteTime": {
     "end_time": "2018-12-28T10:18:38.334057Z",
     "start_time": "2018-12-28T10:18:38.326582Z"
    },
    "init_cell": true
   },
   "outputs": [],
   "source": [
    "def d_dv_bracket_k(x, y, p, k):\n",
    "    term1 = d_dv_dPsi_dxk(x,y,p,k) * dPsi2_dxj2(x,y,p,k)\n",
    "    term2 = dPsi_dxj(x,y,p,k) * d_dv_dPsi2_dxk2(x,y,p,k)\n",
    "    term3 = d_dv_dPsi_dxk(x,y,p,1-k) * d_dy_dPsi_dx(x,y,p,1-k)\n",
    "    term4 = dPsi_dxj(x,y,p,1-k) * d_dv_d_dyk_dPsi_dxk(x,y,p,1-k)\n",
    "    \n",
    "    return term1 + term2 + term3 + term4"
   ]
  },
  {
   "cell_type": "markdown",
   "metadata": {},
   "source": [
    "$$ \\p{}{w_j}\\p{}{x_k}|\\nabla \\Psi|^{p-2} = (p-2)\\left[ \\p{}{w_j}|\\nabla \\Psi|^{p-4} \\left(\\p{\\Psi}{x_k} \\p{^2 \\Psi}{x_k^2} + \\p{\\Psi}{y_k} \\left( \\p{}{x_k} \\p{\\Psi}{y_k} \\right) \\right)  +  |\\nabla \\Psi|^{p-4} \\p{}{w_j} \\left(\\p{\\Psi}{x_k} \\p{^2 \\Psi}{x_k^2} + \\p{\\Psi}{y_k} \\left( \\p{}{x_k} \\p{\\Psi}{y_k} \\right) \\right) \\right] $$"
   ]
  },
  {
   "cell_type": "code",
   "execution_count": 199,
   "metadata": {
    "ExecuteTime": {
     "end_time": "2018-12-28T10:18:38.376107Z",
     "start_time": "2018-12-28T10:18:38.335844Z"
    },
    "init_cell": true
   },
   "outputs": [],
   "source": [
    "def d_dwj_dNormPsi_dxk(x, y, p, j, k, pLap):\n",
    "    term1 = dNormPsiP_dwj(x,y,p,j,pLap-4) * (dPsi_dxj(x,y,p,k)*dPsi2_dxj2(x,y,p,k) + dPsi_dxj(x,y,p,1-k)*d_dy_dPsi_dx(x,y,p,1-k))\n",
    "    term2 = norm_psi(x,y,p)**(pLap-4) * d_dwj_bracket_k(x,y,p,j,k)\n",
    "    \n",
    "    return (pLap-2)*(term1 + term2)"
   ]
  },
  {
   "cell_type": "markdown",
   "metadata": {},
   "source": [
    "$$ \\p{}{u}\\p{}{x_k}|\\nabla \\Psi|^{p-2} = (p-2)\\left[ \\p{}{u}|\\nabla \\Psi|^{p-4} \\left(\\p{\\Psi}{x_k} \\p{^2 \\Psi}{x_k^2} + \\p{\\Psi}{y_k} \\left( \\p{}{x_k} \\p{\\Psi}{y_k} \\right) \\right)  +  |\\nabla \\Psi|^{p-4} \\p{}{u} \\left(\\p{\\Psi}{x_k} \\p{^2 \\Psi}{x_k^2} + \\p{\\Psi}{y_k} \\left( \\p{}{x_k} \\p{\\Psi}{y_k} \\right) \\right) \\right] $$"
   ]
  },
  {
   "cell_type": "code",
   "execution_count": 200,
   "metadata": {
    "ExecuteTime": {
     "end_time": "2018-12-28T10:18:38.387611Z",
     "start_time": "2018-12-28T10:18:38.379299Z"
    },
    "init_cell": true
   },
   "outputs": [],
   "source": [
    "def d_du_dNormPsi_dxk(x, y, p, k, pLap):\n",
    "    term1 = dNormPsiP_du(x,y,p,pLap-4) * (dPsi_dxj(x,y,p,k)*dPsi2_dxj2(x,y,p,k) + dPsi_dxj(x,y,p,1-k)*d_dy_dPsi_dx(x,y,p,1-k))\n",
    "    term2 = norm_psi(x,y,p)**(pLap-4) * d_du_bracket_k(x,y,p,k)\n",
    "    \n",
    "    return (pLap-2)*(term1 + term2)"
   ]
  },
  {
   "cell_type": "markdown",
   "metadata": {},
   "source": [
    "$$ \\p{}{v}\\p{}{x_k}|\\nabla \\Psi|^{p-2} = (p-2)\\left[ \\p{}{v}|\\nabla \\Psi|^{p-4} \\left(\\p{\\Psi}{x_k} \\p{^2 \\Psi}{x_k^2} + \\p{\\Psi}{y_k} \\left( \\p{}{x_k} \\p{\\Psi}{y_k} \\right) \\right)  +  |\\nabla \\Psi|^{p-4} \\p{}{v} \\left(\\p{\\Psi}{x_k} \\p{^2 \\Psi}{x_k^2} + \\p{\\Psi}{y_k} \\left( \\p{}{x_k} \\p{\\Psi}{y_k} \\right) \\right) \\right] $$"
   ]
  },
  {
   "cell_type": "code",
   "execution_count": 201,
   "metadata": {
    "ExecuteTime": {
     "end_time": "2018-12-28T10:18:38.395293Z",
     "start_time": "2018-12-28T10:18:38.389608Z"
    },
    "init_cell": true
   },
   "outputs": [],
   "source": [
    "def d_dv_dNormPsi_dxk(x, y, p, k, pLap):\n",
    "    term1 = dNormPsiP_dv(x,y,p,pLap-4) * (dPsi_dxj(x,y,p,k)*dPsi2_dxj2(x,y,p,k) + dPsi_dxj(x,y,p,1-k)*d_dy_dPsi_dx(x,y,p,1-k))\n",
    "    term2 = norm_psi(x,y,p)**(pLap-4) * d_dv_bracket_k(x,y,p,k)\n",
    "    \n",
    "    return (pLap-2)*(term1 + term2)"
   ]
  },
  {
   "cell_type": "markdown",
   "metadata": {},
   "source": [
    "$$ \\p{}{w_j} \\left( \\p{}{x_k}|\\nabla \\Psi|^{p-2} \\p{\\Psi}{x_k} \\right) = \\left(\\p{}{w_j}\\p{}{x_k}|\\nabla \\Psi|^{p-2}\\right) \\p{\\Psi}{x_k} + \\p{}{x_k}|\\nabla \\Psi|^{p-2} \\left( \\p{}{w_j}\\p{\\Psi}{x_k} \\right) $$"
   ]
  },
  {
   "cell_type": "code",
   "execution_count": 202,
   "metadata": {
    "ExecuteTime": {
     "end_time": "2018-12-28T10:18:38.402579Z",
     "start_time": "2018-12-28T10:18:38.397344Z"
    },
    "init_cell": true
   },
   "outputs": [],
   "source": [
    "def d_dwj_dNormPsi_dxk_dPsi_dxk(x, y, p, j, k, pLap):\n",
    "    term1 = d_dwj_dNormPsi_dxk(x, y, p, j, k, pLap) * dPsi_dxj(x, y, p, k)\n",
    "    term2 = dNormPsi_dxj(x, y, p, k, pLap) * d_dwj_dPsi_dxk(x, y, p, j, k)\n",
    "    \n",
    "    return term1 + term2"
   ]
  },
  {
   "cell_type": "markdown",
   "metadata": {},
   "source": [
    "$$ \\p{}{u} \\left( \\p{}{x_k}|\\nabla \\Psi|^{p-2} \\p{\\Psi}{x_k} \\right) = \\left(\\p{}{u}\\p{}{x_k}|\\nabla \\Psi|^{p-2}\\right) \\p{\\Psi}{x_k} + \\p{}{x_k}|\\nabla \\Psi|^{p-2} \\left( \\p{}{u}\\p{\\Psi}{x_k} \\right) $$"
   ]
  },
  {
   "cell_type": "code",
   "execution_count": 203,
   "metadata": {
    "ExecuteTime": {
     "end_time": "2018-12-28T10:18:38.449466Z",
     "start_time": "2018-12-28T10:18:38.404690Z"
    },
    "init_cell": true
   },
   "outputs": [],
   "source": [
    "def d_du_dNormPsi_dxk_dPsi_dxk(x, y, p, k, pLap):\n",
    "    term1 = d_du_dNormPsi_dxk(x, y, p, k, pLap) * dPsi_dxj(x, y, p, k)\n",
    "    term2 = dNormPsi_dxj(x, y, p, k, pLap) * d_du_dPsi_dxk(x, y, p, k)\n",
    "    \n",
    "    return term1 + term2"
   ]
  },
  {
   "cell_type": "markdown",
   "metadata": {},
   "source": [
    "$$ \\p{}{v} \\left( \\p{}{x_k}|\\nabla \\Psi|^{p-2} \\p{\\Psi}{x_k} \\right) = \\left(\\p{}{v}\\p{}{x_k}|\\nabla \\Psi|^{p-2}\\right) \\p{\\Psi}{x_k} + \\p{}{x_k}|\\nabla \\Psi|^{p-2} \\left( \\p{}{v}\\p{\\Psi}{x_k} \\right) $$"
   ]
  },
  {
   "cell_type": "code",
   "execution_count": 204,
   "metadata": {
    "ExecuteTime": {
     "end_time": "2018-12-28T10:18:38.460874Z",
     "start_time": "2018-12-28T10:18:38.452745Z"
    },
    "init_cell": true
   },
   "outputs": [],
   "source": [
    "def d_dv_dNormPsi_dxk_dPsi_dxk(x, y, p, k, pLap):\n",
    "    term1 = d_dv_dNormPsi_dxk(x, y, p, k, pLap) * dPsi_dxj(x, y, p, k)\n",
    "    term2 = dNormPsi_dxj(x, y, p, k, pLap) * d_dv_dPsi_dxk(x, y, p, k)\n",
    "    \n",
    "    return term1 + term2"
   ]
  },
  {
   "cell_type": "markdown",
   "metadata": {},
   "source": [
    "$$ \\p{}{w_j} \\left( |\\nabla \\Psi|^{p-2} \\p{^2 \\Psi}{x_k^2} \\right) = \\p{}{w_j}|\\nabla \\Psi|^{p-2} \\p{^2 \\Psi}{x_k^2} + |\\nabla \\Psi|^{p-2} \\left( \\p{}{w_j} \\p{^2 \\Psi}{x_k^2} \\right) $$"
   ]
  },
  {
   "cell_type": "code",
   "execution_count": 205,
   "metadata": {
    "ExecuteTime": {
     "end_time": "2018-12-28T10:18:38.467286Z",
     "start_time": "2018-12-28T10:18:38.462783Z"
    },
    "init_cell": true
   },
   "outputs": [],
   "source": [
    "def d_dwj_NormPsi_dPsi2_dxk2(x, y, p, j, k, pLap):\n",
    "    term1 = dNormPsiP_dwj(x,y,p,j,pLap-2) * dPsi2_dxj2(x,y,p,k)\n",
    "    term2 = norm_psi(x,y,p)**(pLap-2) * d_dwj_dPsi2_dxk2(x,y,p,j,k)\n",
    "    return term1 + term2"
   ]
  },
  {
   "cell_type": "markdown",
   "metadata": {},
   "source": [
    "$$ \\p{}{u} \\left( |\\nabla \\Psi|^{p-2} \\p{^2 \\Psi}{x_k^2} \\right) = \\p{}{u}|\\nabla \\Psi|^{p-2} \\p{^2 \\Psi}{x_k^2} + |\\nabla \\Psi|^{p-2} \\left( \\p{}{u} \\p{^2 \\Psi}{x_k^2} \\right) $$"
   ]
  },
  {
   "cell_type": "code",
   "execution_count": 206,
   "metadata": {
    "ExecuteTime": {
     "end_time": "2018-12-28T10:18:38.496716Z",
     "start_time": "2018-12-28T10:18:38.469294Z"
    },
    "init_cell": true
   },
   "outputs": [],
   "source": [
    "def d_du_NormPsi_dPsi2_dxk2(x, y, p, k, pLap):\n",
    "    term1 = dNormPsiP_du(x,y,p,pLap-2) * dPsi2_dxj2(x,y,p,k)\n",
    "    term2 = norm_psi(x,y,p)**(pLap-2) * d_du_dPsi2_dxk2(x,y,p,k)\n",
    "    return term1 + term2"
   ]
  },
  {
   "cell_type": "markdown",
   "metadata": {},
   "source": [
    "$$ \\p{}{v} \\left( |\\nabla \\Psi|^{p-2} \\p{^2 \\Psi}{x_k^2} \\right) = \\p{}{v}|\\nabla \\Psi|^{p-2} \\p{^2 \\Psi}{x_k^2} + |\\nabla \\Psi|^{p-2} \\left( \\p{}{v} \\p{^2 \\Psi}{x_k^2} \\right) $$"
   ]
  },
  {
   "cell_type": "code",
   "execution_count": 207,
   "metadata": {
    "ExecuteTime": {
     "end_time": "2018-12-28T10:18:38.505888Z",
     "start_time": "2018-12-28T10:18:38.499737Z"
    },
    "init_cell": true
   },
   "outputs": [],
   "source": [
    "def d_dv_NormPsi_dPsi2_dxk2(x, y, p, k, pLap):\n",
    "    term1 = dNormPsiP_dv(x,y,p,pLap-2) * dPsi2_dxj2(x,y,p,k)\n",
    "    term2 = norm_psi(x,y,p)**(pLap-2) * d_dv_dPsi2_dxk2(x,y,p,k)\n",
    "    return term1 + term2"
   ]
  },
  {
   "cell_type": "markdown",
   "metadata": {},
   "source": [
    "## Cost function"
   ]
  },
  {
   "cell_type": "markdown",
   "metadata": {},
   "source": [
    "$$E[\\vec{p}] = \\sum_i \\left\\{ \\p{}{ x}|\\nabla \\Psi|^{p-2} \\p{\\Psi}{ x} + |\\nabla \\Psi|^{p-2} \\p{^2 \\Psi}{ x^2} + \\p{}{ y}|\\nabla \\Psi|^{p-2} \\p{\\Psi}{ y} + |\\nabla \\Psi|^{p-2} \\p{^2 \\Psi}{ y^2} - f(x_i,y_i) \\right\\}^2$$"
   ]
  },
  {
   "cell_type": "code",
   "execution_count": 208,
   "metadata": {
    "ExecuteTime": {
     "end_time": "2018-12-28T10:18:38.513889Z",
     "start_time": "2018-12-28T10:18:38.508307Z"
    },
    "init_cell": true
   },
   "outputs": [],
   "source": [
    "def error(x, y, p, pLap):\n",
    "    term1 = dNormPsi_dxj(x,y,p,0,pLap) * dPsi_dxj(x,y,p,0)\n",
    "    term2 = norm_psi(x,y,p)**(pLap-2) * dPsi2_dxj2(x,y,p,0)\n",
    "    term3 = dNormPsi_dxj(x,y,p,1,pLap) * dPsi_dxj(x,y,p,1)\n",
    "    term4 = norm_psi(x,y,p)**(pLap-2) * dPsi2_dxj2(x,y,p,1)\n",
    "    return term1 + term2 + term3 + term4 - f(x,y)"
   ]
  },
  {
   "cell_type": "code",
   "execution_count": 209,
   "metadata": {
    "ExecuteTime": {
     "end_time": "2018-12-28T10:18:38.520401Z",
     "start_time": "2018-12-28T10:18:38.516005Z"
    },
    "init_cell": true
   },
   "outputs": [],
   "source": [
    "def cost(p):\n",
    "    pLap=10\n",
    "    loss = []\n",
    "    for x, y in points:\n",
    "        err_sq = error(x, y, p, pLap)**2\n",
    "        loss.append(err_sq)\n",
    "\n",
    "    return sum(loss)"
   ]
  },
  {
   "cell_type": "markdown",
   "metadata": {},
   "source": [
    "## Gradients"
   ]
  },
  {
   "cell_type": "markdown",
   "metadata": {},
   "source": [
    "$$ \\p{ E[\\vec{p}]}{ w_j} = 2 \\text{ (error) } \\left\\{ \\p{}{w_j} \\left( \\p{}{x}|\\nabla \\Psi|^{p-2} \\p{\\Psi}{x} \\right) + \\p{}{w_j} \\left( |\\nabla \\Psi|^{p-2} \\p{^2 \\Psi}{x^2} \\right) + \\p{}{w_j} \\left( \\p{}{y}|\\nabla \\Psi|^{p-2} \\p{\\Psi}{y} \\right) + \\p{}{w_j} \\left( |\\nabla \\Psi|^{p-2} \\p{^2 \\Psi}{y^2} \\right)  \\right\\} $$"
   ]
  },
  {
   "cell_type": "code",
   "execution_count": 210,
   "metadata": {
    "ExecuteTime": {
     "end_time": "2018-12-28T10:18:38.527547Z",
     "start_time": "2018-12-28T10:18:38.522218Z"
    },
    "init_cell": true
   },
   "outputs": [],
   "source": [
    "def dE_dwj(x, y, p, j, pLap):\n",
    "    term1 = d_dwj_dNormPsi_dxk_dPsi_dxk(x,y,p,j,0,pLap)\n",
    "    term2 = d_dwj_NormPsi_dPsi2_dxk2(x,y,p,j,0,pLap)\n",
    "    term3 = d_dwj_dNormPsi_dxk_dPsi_dxk(x,y,p,j,1,pLap)\n",
    "    term4 = d_dwj_NormPsi_dPsi2_dxk2(x,y,p,j,1,pLap)\n",
    "    \n",
    "    return 2 * error(x,y,p,pLap) * (term1 + term2 + term3 + term4)"
   ]
  },
  {
   "cell_type": "markdown",
   "metadata": {},
   "source": [
    "$$\\p{ E[\\vec{p}]}{u}  = 2 \\text{ (error) } \\left\\{ \\p{}{u} \\left( \\p{}{x}|\\nabla \\Psi|^{p-2} \\p{\\Psi}{x} \\right) + \\p{}{u} \\left( |\\nabla \\Psi|^{p-2} \\p{^2 \\Psi}{x^2} \\right) + \\p{}{u} \\left( \\p{}{y}|\\nabla \\Psi|^{p-2} \\p{\\Psi}{y} \\right) + \\p{}{u} \\left( |\\nabla \\Psi|^{p-2} \\p{^2 \\Psi}{y^2} \\right)  \\right\\}$$"
   ]
  },
  {
   "cell_type": "code",
   "execution_count": 211,
   "metadata": {
    "ExecuteTime": {
     "end_time": "2018-12-28T10:18:38.535075Z",
     "start_time": "2018-12-28T10:18:38.529558Z"
    },
    "init_cell": true
   },
   "outputs": [],
   "source": [
    "def dE_du(x, y, p, pLap):\n",
    "    term1 = d_du_dNormPsi_dxk_dPsi_dxk(x,y,p,0,pLap)\n",
    "    term2 = d_du_NormPsi_dPsi2_dxk2(x,y,p,0,pLap)\n",
    "    term3 = d_du_dNormPsi_dxk_dPsi_dxk(x,y,p,1,pLap)\n",
    "    term4 = d_du_NormPsi_dPsi2_dxk2(x,y,p,1,pLap)\n",
    "    \n",
    "    return 2 * error(x,y,p,pLap) * (term1 + term2 + term3 + term4)"
   ]
  },
  {
   "cell_type": "markdown",
   "metadata": {},
   "source": [
    "$$\\p{ E[\\vec{p}]}{v}  = 2 \\text{ (error) } \\left\\{ \\p{}{v} \\left( \\p{}{x}|\\nabla \\Psi|^{p-2} \\p{\\Psi}{x} \\right) + \\p{}{v} \\left( |\\nabla \\Psi|^{p-2} \\p{^2 \\Psi}{x^2} \\right) + \\p{}{v} \\left( \\p{}{y}|\\nabla \\Psi|^{p-2} \\p{\\Psi}{y} \\right) + \\p{}{v} \\left( |\\nabla \\Psi|^{p-2} \\p{^2 \\Psi}{y^2} \\right)  \\right\\}$$"
   ]
  },
  {
   "cell_type": "code",
   "execution_count": 212,
   "metadata": {
    "ExecuteTime": {
     "end_time": "2018-12-28T10:18:38.542474Z",
     "start_time": "2018-12-28T10:18:38.536959Z"
    },
    "init_cell": true
   },
   "outputs": [],
   "source": [
    "def dE_dv(x, y, p, pLap):\n",
    "    term1 = d_dv_dNormPsi_dxk_dPsi_dxk(x,y,p,0,pLap)\n",
    "    term2 = d_dv_NormPsi_dPsi2_dxk2(x,y,p,0,pLap)\n",
    "    term3 = d_dv_dNormPsi_dxk_dPsi_dxk(x,y,p,1,pLap)\n",
    "    term4 = d_dv_NormPsi_dPsi2_dxk2(x,y,p,1,pLap)\n",
    "    \n",
    "    return 2 * error(x,y,p,pLap) * (term1 + term2 + term3 + term4)"
   ]
  },
  {
   "cell_type": "markdown",
   "metadata": {},
   "source": [
    "# Training"
   ]
  },
  {
   "cell_type": "markdown",
   "metadata": {},
   "source": [
    "### Initialization"
   ]
  },
  {
   "cell_type": "code",
   "execution_count": 213,
   "metadata": {
    "ExecuteTime": {
     "end_time": "2018-12-28T10:18:38.550983Z",
     "start_time": "2018-12-28T10:18:38.544366Z"
    },
    "init_cell": true
   },
   "outputs": [],
   "source": [
    "np.random.seed(10)\n",
    "\n",
    "nx = 10\n",
    "dx = 1. / nx\n",
    "pts = (np.linspace(0, 1, nx), np.linspace(0, 1, nx))\n",
    "points = list(itertools.product(pts[0], pts[1]))\n",
    "\n",
    "no_of_nodes = 10\n",
    "\n",
    "p = np.array([np.random.randn(2,no_of_nodes), np.random.randn(no_of_nodes), np.random.randn(no_of_nodes)])\n",
    "\n",
    "# original_p = np.empty_like(p)\n",
    "# np.copyto(original_p, p)\n",
    "\n",
    "pLap = 4"
   ]
  },
  {
   "cell_type": "code",
   "execution_count": 56,
   "metadata": {
    "ExecuteTime": {
     "end_time": "2018-12-18T03:59:00.918878Z",
     "start_time": "2018-12-18T03:59:00.894556Z"
    }
   },
   "outputs": [
    {
     "ename": "FloatingPointError",
     "evalue": "invalid value encountered in double_scalars",
     "output_type": "error",
     "traceback": [
      "\u001b[0;31m---------------------------------------------------------------------------\u001b[0m",
      "\u001b[0;31mFloatingPointError\u001b[0m                        Traceback (most recent call last)",
      "\u001b[0;32m<ipython-input-56-0b742339aa38>\u001b[0m in \u001b[0;36m<module>\u001b[0;34m\u001b[0m\n\u001b[0;32m----> 1\u001b[0;31m \u001b[0mcost\u001b[0m\u001b[0;34m(\u001b[0m\u001b[0mp\u001b[0m\u001b[0;34m)\u001b[0m\u001b[0;34m\u001b[0m\u001b[0;34m\u001b[0m\u001b[0m\n\u001b[0m",
      "\u001b[0;32m<ipython-input-49-6329c55feaed>\u001b[0m in \u001b[0;36mcost\u001b[0;34m(p)\u001b[0m\n\u001b[1;32m      3\u001b[0m     \u001b[0mloss\u001b[0m \u001b[0;34m=\u001b[0m \u001b[0;34m[\u001b[0m\u001b[0;34m]\u001b[0m\u001b[0;34m\u001b[0m\u001b[0;34m\u001b[0m\u001b[0m\n\u001b[1;32m      4\u001b[0m     \u001b[0;32mfor\u001b[0m \u001b[0mx\u001b[0m\u001b[0;34m,\u001b[0m \u001b[0my\u001b[0m \u001b[0;32min\u001b[0m \u001b[0mpoints\u001b[0m\u001b[0;34m:\u001b[0m\u001b[0;34m\u001b[0m\u001b[0;34m\u001b[0m\u001b[0m\n\u001b[0;32m----> 5\u001b[0;31m         \u001b[0merr_sq\u001b[0m \u001b[0;34m=\u001b[0m \u001b[0merror\u001b[0m\u001b[0;34m(\u001b[0m\u001b[0mx\u001b[0m\u001b[0;34m,\u001b[0m \u001b[0my\u001b[0m\u001b[0;34m,\u001b[0m \u001b[0mp\u001b[0m\u001b[0;34m,\u001b[0m \u001b[0mpLap\u001b[0m\u001b[0;34m)\u001b[0m\u001b[0;34m**\u001b[0m\u001b[0;36m2\u001b[0m\u001b[0;34m\u001b[0m\u001b[0;34m\u001b[0m\u001b[0m\n\u001b[0m\u001b[1;32m      6\u001b[0m         \u001b[0mloss\u001b[0m\u001b[0;34m.\u001b[0m\u001b[0mappend\u001b[0m\u001b[0;34m(\u001b[0m\u001b[0merr_sq\u001b[0m\u001b[0;34m)\u001b[0m\u001b[0;34m\u001b[0m\u001b[0;34m\u001b[0m\u001b[0m\n\u001b[1;32m      7\u001b[0m \u001b[0;34m\u001b[0m\u001b[0m\n",
      "\u001b[0;32m<ipython-input-48-a0325a7a786c>\u001b[0m in \u001b[0;36merror\u001b[0;34m(x, y, p, pLap)\u001b[0m\n\u001b[1;32m      1\u001b[0m \u001b[0;32mdef\u001b[0m \u001b[0merror\u001b[0m\u001b[0;34m(\u001b[0m\u001b[0mx\u001b[0m\u001b[0;34m,\u001b[0m \u001b[0my\u001b[0m\u001b[0;34m,\u001b[0m \u001b[0mp\u001b[0m\u001b[0;34m,\u001b[0m \u001b[0mpLap\u001b[0m\u001b[0;34m)\u001b[0m\u001b[0;34m:\u001b[0m\u001b[0;34m\u001b[0m\u001b[0;34m\u001b[0m\u001b[0m\n\u001b[0;32m----> 2\u001b[0;31m     \u001b[0mterm1\u001b[0m \u001b[0;34m=\u001b[0m \u001b[0mdNormPsi_dxj\u001b[0m\u001b[0;34m(\u001b[0m\u001b[0mx\u001b[0m\u001b[0;34m,\u001b[0m\u001b[0my\u001b[0m\u001b[0;34m,\u001b[0m\u001b[0mp\u001b[0m\u001b[0;34m,\u001b[0m\u001b[0;36m0\u001b[0m\u001b[0;34m,\u001b[0m\u001b[0mpLap\u001b[0m\u001b[0;34m)\u001b[0m \u001b[0;34m*\u001b[0m \u001b[0mdPsi_dxj\u001b[0m\u001b[0;34m(\u001b[0m\u001b[0mx\u001b[0m\u001b[0;34m,\u001b[0m\u001b[0my\u001b[0m\u001b[0;34m,\u001b[0m\u001b[0mp\u001b[0m\u001b[0;34m,\u001b[0m\u001b[0;36m0\u001b[0m\u001b[0;34m)\u001b[0m\u001b[0;34m\u001b[0m\u001b[0;34m\u001b[0m\u001b[0m\n\u001b[0m\u001b[1;32m      3\u001b[0m     \u001b[0mterm2\u001b[0m \u001b[0;34m=\u001b[0m \u001b[0mnorm_psi\u001b[0m\u001b[0;34m(\u001b[0m\u001b[0mx\u001b[0m\u001b[0;34m,\u001b[0m\u001b[0my\u001b[0m\u001b[0;34m,\u001b[0m\u001b[0mp\u001b[0m\u001b[0;34m)\u001b[0m\u001b[0;34m**\u001b[0m\u001b[0;34m(\u001b[0m\u001b[0mpLap\u001b[0m\u001b[0;34m-\u001b[0m\u001b[0;36m2\u001b[0m\u001b[0;34m)\u001b[0m \u001b[0;34m*\u001b[0m \u001b[0mdPsi2_dxj2\u001b[0m\u001b[0;34m(\u001b[0m\u001b[0mx\u001b[0m\u001b[0;34m,\u001b[0m\u001b[0my\u001b[0m\u001b[0;34m,\u001b[0m\u001b[0mp\u001b[0m\u001b[0;34m,\u001b[0m\u001b[0;36m0\u001b[0m\u001b[0;34m)\u001b[0m\u001b[0;34m\u001b[0m\u001b[0;34m\u001b[0m\u001b[0m\n\u001b[1;32m      4\u001b[0m     \u001b[0mterm3\u001b[0m \u001b[0;34m=\u001b[0m \u001b[0mdNormPsi_dxj\u001b[0m\u001b[0;34m(\u001b[0m\u001b[0mx\u001b[0m\u001b[0;34m,\u001b[0m\u001b[0my\u001b[0m\u001b[0;34m,\u001b[0m\u001b[0mp\u001b[0m\u001b[0;34m,\u001b[0m\u001b[0;36m1\u001b[0m\u001b[0;34m,\u001b[0m\u001b[0mpLap\u001b[0m\u001b[0;34m)\u001b[0m \u001b[0;34m*\u001b[0m \u001b[0mdPsi_dxj\u001b[0m\u001b[0;34m(\u001b[0m\u001b[0mx\u001b[0m\u001b[0;34m,\u001b[0m\u001b[0my\u001b[0m\u001b[0;34m,\u001b[0m\u001b[0mp\u001b[0m\u001b[0;34m,\u001b[0m\u001b[0;36m1\u001b[0m\u001b[0;34m)\u001b[0m\u001b[0;34m\u001b[0m\u001b[0;34m\u001b[0m\u001b[0m\n\u001b[1;32m      5\u001b[0m     \u001b[0mterm4\u001b[0m \u001b[0;34m=\u001b[0m \u001b[0mnorm_psi\u001b[0m\u001b[0;34m(\u001b[0m\u001b[0mx\u001b[0m\u001b[0;34m,\u001b[0m\u001b[0my\u001b[0m\u001b[0;34m,\u001b[0m\u001b[0mp\u001b[0m\u001b[0;34m)\u001b[0m\u001b[0;34m**\u001b[0m\u001b[0;34m(\u001b[0m\u001b[0mpLap\u001b[0m\u001b[0;34m-\u001b[0m\u001b[0;36m2\u001b[0m\u001b[0;34m)\u001b[0m \u001b[0;34m*\u001b[0m \u001b[0mdPsi2_dxj2\u001b[0m\u001b[0;34m(\u001b[0m\u001b[0mx\u001b[0m\u001b[0;34m,\u001b[0m\u001b[0my\u001b[0m\u001b[0;34m,\u001b[0m\u001b[0mp\u001b[0m\u001b[0;34m,\u001b[0m\u001b[0;36m1\u001b[0m\u001b[0;34m)\u001b[0m\u001b[0;34m\u001b[0m\u001b[0;34m\u001b[0m\u001b[0m\n",
      "\u001b[0;32m<ipython-input-23-7b0a0140632f>\u001b[0m in \u001b[0;36mdNormPsi_dxj\u001b[0;34m(x, y, p, j, pLap)\u001b[0m\n\u001b[1;32m      1\u001b[0m \u001b[0;32mdef\u001b[0m \u001b[0mdNormPsi_dxj\u001b[0m\u001b[0;34m(\u001b[0m\u001b[0mx\u001b[0m\u001b[0;34m,\u001b[0m \u001b[0my\u001b[0m\u001b[0;34m,\u001b[0m \u001b[0mp\u001b[0m\u001b[0;34m,\u001b[0m \u001b[0mj\u001b[0m\u001b[0;34m,\u001b[0m \u001b[0mpLap\u001b[0m\u001b[0;34m)\u001b[0m\u001b[0;34m:\u001b[0m\u001b[0;34m\u001b[0m\u001b[0;34m\u001b[0m\u001b[0m\n\u001b[0;32m----> 2\u001b[0;31m     \u001b[0;32mreturn\u001b[0m \u001b[0;34m(\u001b[0m\u001b[0mpLap\u001b[0m\u001b[0;34m-\u001b[0m\u001b[0;36m2\u001b[0m\u001b[0;34m)\u001b[0m\u001b[0;34m*\u001b[0m\u001b[0;34m(\u001b[0m\u001b[0mnorm_psi\u001b[0m\u001b[0;34m(\u001b[0m\u001b[0mx\u001b[0m\u001b[0;34m,\u001b[0m\u001b[0my\u001b[0m\u001b[0;34m,\u001b[0m\u001b[0mp\u001b[0m\u001b[0;34m)\u001b[0m\u001b[0;34m**\u001b[0m\u001b[0;34m(\u001b[0m\u001b[0mpLap\u001b[0m\u001b[0;34m-\u001b[0m\u001b[0;36m4\u001b[0m\u001b[0;34m)\u001b[0m\u001b[0;34m)\u001b[0m\u001b[0;34m*\u001b[0m\u001b[0;34m(\u001b[0m \u001b[0mdPsi_dxj\u001b[0m\u001b[0;34m(\u001b[0m\u001b[0mx\u001b[0m\u001b[0;34m,\u001b[0m\u001b[0my\u001b[0m\u001b[0;34m,\u001b[0m\u001b[0mp\u001b[0m\u001b[0;34m,\u001b[0m\u001b[0mj\u001b[0m\u001b[0;34m)\u001b[0m\u001b[0;34m*\u001b[0m\u001b[0mdPsi2_dxj2\u001b[0m\u001b[0;34m(\u001b[0m\u001b[0mx\u001b[0m\u001b[0;34m,\u001b[0m\u001b[0my\u001b[0m\u001b[0;34m,\u001b[0m\u001b[0mp\u001b[0m\u001b[0;34m,\u001b[0m\u001b[0mj\u001b[0m\u001b[0;34m)\u001b[0m \u001b[0;34m+\u001b[0m \u001b[0mdPsi_dxj\u001b[0m\u001b[0;34m(\u001b[0m\u001b[0mx\u001b[0m\u001b[0;34m,\u001b[0m\u001b[0my\u001b[0m\u001b[0;34m,\u001b[0m\u001b[0mp\u001b[0m\u001b[0;34m,\u001b[0m\u001b[0;36m1\u001b[0m\u001b[0;34m-\u001b[0m\u001b[0mj\u001b[0m\u001b[0;34m)\u001b[0m\u001b[0;34m*\u001b[0m \u001b[0md_dy_dPsi_dx\u001b[0m\u001b[0;34m(\u001b[0m\u001b[0mx\u001b[0m\u001b[0;34m,\u001b[0m\u001b[0my\u001b[0m\u001b[0;34m,\u001b[0m\u001b[0mp\u001b[0m\u001b[0;34m,\u001b[0m\u001b[0;36m1\u001b[0m\u001b[0;34m-\u001b[0m\u001b[0mj\u001b[0m\u001b[0;34m)\u001b[0m\u001b[0;34m)\u001b[0m\u001b[0;34m\u001b[0m\u001b[0;34m\u001b[0m\u001b[0m\n\u001b[0m",
      "\u001b[0;31mFloatingPointError\u001b[0m: invalid value encountered in double_scalars"
     ]
    }
   ],
   "source": [
    "cost(p)"
   ]
  },
  {
   "cell_type": "code",
   "execution_count": 58,
   "metadata": {
    "ExecuteTime": {
     "end_time": "2018-12-18T03:59:27.983025Z",
     "start_time": "2018-12-18T03:59:27.963199Z"
    }
   },
   "outputs": [
    {
     "ename": "FloatingPointError",
     "evalue": "invalid value encountered in double_scalars",
     "output_type": "error",
     "traceback": [
      "\u001b[0;31m---------------------------------------------------------------------------\u001b[0m",
      "\u001b[0;31mFloatingPointError\u001b[0m                        Traceback (most recent call last)",
      "\u001b[0;32m<ipython-input-58-051197b5e1ee>\u001b[0m in \u001b[0;36m<module>\u001b[0;34m\u001b[0m\n\u001b[0;32m----> 1\u001b[0;31m \u001b[0merror\u001b[0m\u001b[0;34m(\u001b[0m\u001b[0;36m0\u001b[0m\u001b[0;34m,\u001b[0m\u001b[0;36m0\u001b[0m\u001b[0;34m,\u001b[0m \u001b[0mp\u001b[0m\u001b[0;34m,\u001b[0m\u001b[0mpLap\u001b[0m\u001b[0;34m)\u001b[0m\u001b[0;34m\u001b[0m\u001b[0;34m\u001b[0m\u001b[0m\n\u001b[0m",
      "\u001b[0;32m<ipython-input-48-a0325a7a786c>\u001b[0m in \u001b[0;36merror\u001b[0;34m(x, y, p, pLap)\u001b[0m\n\u001b[1;32m      1\u001b[0m \u001b[0;32mdef\u001b[0m \u001b[0merror\u001b[0m\u001b[0;34m(\u001b[0m\u001b[0mx\u001b[0m\u001b[0;34m,\u001b[0m \u001b[0my\u001b[0m\u001b[0;34m,\u001b[0m \u001b[0mp\u001b[0m\u001b[0;34m,\u001b[0m \u001b[0mpLap\u001b[0m\u001b[0;34m)\u001b[0m\u001b[0;34m:\u001b[0m\u001b[0;34m\u001b[0m\u001b[0;34m\u001b[0m\u001b[0m\n\u001b[1;32m      2\u001b[0m     \u001b[0mterm1\u001b[0m \u001b[0;34m=\u001b[0m \u001b[0mdNormPsi_dxj\u001b[0m\u001b[0;34m(\u001b[0m\u001b[0mx\u001b[0m\u001b[0;34m,\u001b[0m\u001b[0my\u001b[0m\u001b[0;34m,\u001b[0m\u001b[0mp\u001b[0m\u001b[0;34m,\u001b[0m\u001b[0;36m0\u001b[0m\u001b[0;34m,\u001b[0m\u001b[0mpLap\u001b[0m\u001b[0;34m)\u001b[0m \u001b[0;34m*\u001b[0m \u001b[0mdPsi_dxj\u001b[0m\u001b[0;34m(\u001b[0m\u001b[0mx\u001b[0m\u001b[0;34m,\u001b[0m\u001b[0my\u001b[0m\u001b[0;34m,\u001b[0m\u001b[0mp\u001b[0m\u001b[0;34m,\u001b[0m\u001b[0;36m0\u001b[0m\u001b[0;34m)\u001b[0m\u001b[0;34m\u001b[0m\u001b[0;34m\u001b[0m\u001b[0m\n\u001b[0;32m----> 3\u001b[0;31m     \u001b[0mterm2\u001b[0m \u001b[0;34m=\u001b[0m \u001b[0mnorm_psi\u001b[0m\u001b[0;34m(\u001b[0m\u001b[0mx\u001b[0m\u001b[0;34m,\u001b[0m\u001b[0my\u001b[0m\u001b[0;34m,\u001b[0m\u001b[0mp\u001b[0m\u001b[0;34m)\u001b[0m\u001b[0;34m**\u001b[0m\u001b[0;34m(\u001b[0m\u001b[0mpLap\u001b[0m\u001b[0;34m-\u001b[0m\u001b[0;36m2\u001b[0m\u001b[0;34m)\u001b[0m \u001b[0;34m*\u001b[0m \u001b[0mdPsi2_dxj2\u001b[0m\u001b[0;34m(\u001b[0m\u001b[0mx\u001b[0m\u001b[0;34m,\u001b[0m\u001b[0my\u001b[0m\u001b[0;34m,\u001b[0m\u001b[0mp\u001b[0m\u001b[0;34m,\u001b[0m\u001b[0;36m0\u001b[0m\u001b[0;34m)\u001b[0m\u001b[0;34m\u001b[0m\u001b[0;34m\u001b[0m\u001b[0m\n\u001b[0m\u001b[1;32m      4\u001b[0m     \u001b[0mterm3\u001b[0m \u001b[0;34m=\u001b[0m \u001b[0mdNormPsi_dxj\u001b[0m\u001b[0;34m(\u001b[0m\u001b[0mx\u001b[0m\u001b[0;34m,\u001b[0m\u001b[0my\u001b[0m\u001b[0;34m,\u001b[0m\u001b[0mp\u001b[0m\u001b[0;34m,\u001b[0m\u001b[0;36m1\u001b[0m\u001b[0;34m,\u001b[0m\u001b[0mpLap\u001b[0m\u001b[0;34m)\u001b[0m \u001b[0;34m*\u001b[0m \u001b[0mdPsi_dxj\u001b[0m\u001b[0;34m(\u001b[0m\u001b[0mx\u001b[0m\u001b[0;34m,\u001b[0m\u001b[0my\u001b[0m\u001b[0;34m,\u001b[0m\u001b[0mp\u001b[0m\u001b[0;34m,\u001b[0m\u001b[0;36m1\u001b[0m\u001b[0;34m)\u001b[0m\u001b[0;34m\u001b[0m\u001b[0;34m\u001b[0m\u001b[0m\n\u001b[1;32m      5\u001b[0m     \u001b[0mterm4\u001b[0m \u001b[0;34m=\u001b[0m \u001b[0mnorm_psi\u001b[0m\u001b[0;34m(\u001b[0m\u001b[0mx\u001b[0m\u001b[0;34m,\u001b[0m\u001b[0my\u001b[0m\u001b[0;34m,\u001b[0m\u001b[0mp\u001b[0m\u001b[0;34m)\u001b[0m\u001b[0;34m**\u001b[0m\u001b[0;34m(\u001b[0m\u001b[0mpLap\u001b[0m\u001b[0;34m-\u001b[0m\u001b[0;36m2\u001b[0m\u001b[0;34m)\u001b[0m \u001b[0;34m*\u001b[0m \u001b[0mdPsi2_dxj2\u001b[0m\u001b[0;34m(\u001b[0m\u001b[0mx\u001b[0m\u001b[0;34m,\u001b[0m\u001b[0my\u001b[0m\u001b[0;34m,\u001b[0m\u001b[0mp\u001b[0m\u001b[0;34m,\u001b[0m\u001b[0;36m1\u001b[0m\u001b[0;34m)\u001b[0m\u001b[0;34m\u001b[0m\u001b[0;34m\u001b[0m\u001b[0m\n",
      "\u001b[0;31mFloatingPointError\u001b[0m: invalid value encountered in double_scalars"
     ]
    }
   ],
   "source": [
    "error(0,0, p,pLap)"
   ]
  },
  {
   "cell_type": "code",
   "execution_count": 62,
   "metadata": {
    "ExecuteTime": {
     "end_time": "2018-12-18T04:02:38.034946Z",
     "start_time": "2018-12-18T04:02:38.025569Z"
    }
   },
   "outputs": [
    {
     "ename": "ZeroDivisionError",
     "evalue": "0.0 cannot be raised to a negative power",
     "output_type": "error",
     "traceback": [
      "\u001b[0;31m---------------------------------------------------------------------------\u001b[0m",
      "\u001b[0;31mZeroDivisionError\u001b[0m                         Traceback (most recent call last)",
      "\u001b[0;32m<ipython-input-62-9073f1278412>\u001b[0m in \u001b[0;36m<module>\u001b[0;34m\u001b[0m\n\u001b[0;32m----> 1\u001b[0;31m \u001b[0;36m0.\u001b[0m\u001b[0;34m**\u001b[0m\u001b[0;34m(\u001b[0m\u001b[0;34m-\u001b[0m\u001b[0;36m2\u001b[0m\u001b[0;34m)\u001b[0m\u001b[0;34m\u001b[0m\u001b[0;34m\u001b[0m\u001b[0m\n\u001b[0m",
      "\u001b[0;31mZeroDivisionError\u001b[0m: 0.0 cannot be raised to a negative power"
     ]
    }
   ],
   "source": [
    "0.**(-2)"
   ]
  },
  {
   "cell_type": "markdown",
   "metadata": {},
   "source": [
    "### Stochastic Gradient Descent"
   ]
  },
  {
   "cell_type": "code",
   "execution_count": 55,
   "metadata": {
    "ExecuteTime": {
     "end_time": "2018-12-18T03:58:39.561069Z",
     "start_time": "2018-12-18T03:58:39.525641Z"
    },
    "pixiedust": {
     "displayParams": {}
    },
    "scrolled": true
   },
   "outputs": [
    {
     "ename": "FloatingPointError",
     "evalue": "invalid value encountered in double_scalars",
     "output_type": "error",
     "traceback": [
      "\u001b[0;31m---------------------------------------------------------------------------\u001b[0m",
      "\u001b[0;31mFloatingPointError\u001b[0m                        Traceback (most recent call last)",
      "\u001b[0;32m<ipython-input-55-596a29613c74>\u001b[0m in \u001b[0;36m<module>\u001b[0;34m\u001b[0m\n\u001b[1;32m     16\u001b[0m \u001b[0mstart\u001b[0m\u001b[0;34m=\u001b[0m\u001b[0mlen\u001b[0m\u001b[0;34m(\u001b[0m\u001b[0merr_rate\u001b[0m\u001b[0;34m)\u001b[0m\u001b[0;34m-\u001b[0m\u001b[0;36m1\u001b[0m\u001b[0;34m\u001b[0m\u001b[0;34m\u001b[0m\u001b[0m\n\u001b[1;32m     17\u001b[0m \u001b[0;32mif\u001b[0m \u001b[0mstart\u001b[0m\u001b[0;34m<\u001b[0m\u001b[0;36m1\u001b[0m\u001b[0;34m:\u001b[0m\u001b[0;34m\u001b[0m\u001b[0;34m\u001b[0m\u001b[0m\n\u001b[0;32m---> 18\u001b[0;31m     \u001b[0merr_rate\u001b[0m\u001b[0;34m.\u001b[0m\u001b[0mappend\u001b[0m\u001b[0;34m(\u001b[0m\u001b[0mcost\u001b[0m\u001b[0;34m(\u001b[0m\u001b[0mp\u001b[0m\u001b[0;34m)\u001b[0m\u001b[0;34m)\u001b[0m\u001b[0;34m\u001b[0m\u001b[0;34m\u001b[0m\u001b[0m\n\u001b[0m\u001b[1;32m     19\u001b[0m \u001b[0;34m\u001b[0m\u001b[0m\n\u001b[1;32m     20\u001b[0m \u001b[0;32mfor\u001b[0m \u001b[0mi\u001b[0m \u001b[0;32min\u001b[0m \u001b[0mrange\u001b[0m\u001b[0;34m(\u001b[0m\u001b[0mstart\u001b[0m\u001b[0;34m,\u001b[0m \u001b[0mstart\u001b[0m\u001b[0;34m+\u001b[0m\u001b[0mitr\u001b[0m\u001b[0;34m)\u001b[0m\u001b[0;34m:\u001b[0m\u001b[0;34m\u001b[0m\u001b[0;34m\u001b[0m\u001b[0m\n",
      "\u001b[0;32m<ipython-input-49-6329c55feaed>\u001b[0m in \u001b[0;36mcost\u001b[0;34m(p)\u001b[0m\n\u001b[1;32m      3\u001b[0m     \u001b[0mloss\u001b[0m \u001b[0;34m=\u001b[0m \u001b[0;34m[\u001b[0m\u001b[0;34m]\u001b[0m\u001b[0;34m\u001b[0m\u001b[0;34m\u001b[0m\u001b[0m\n\u001b[1;32m      4\u001b[0m     \u001b[0;32mfor\u001b[0m \u001b[0mx\u001b[0m\u001b[0;34m,\u001b[0m \u001b[0my\u001b[0m \u001b[0;32min\u001b[0m \u001b[0mpoints\u001b[0m\u001b[0;34m:\u001b[0m\u001b[0;34m\u001b[0m\u001b[0;34m\u001b[0m\u001b[0m\n\u001b[0;32m----> 5\u001b[0;31m         \u001b[0merr_sq\u001b[0m \u001b[0;34m=\u001b[0m \u001b[0merror\u001b[0m\u001b[0;34m(\u001b[0m\u001b[0mx\u001b[0m\u001b[0;34m,\u001b[0m \u001b[0my\u001b[0m\u001b[0;34m,\u001b[0m \u001b[0mp\u001b[0m\u001b[0;34m,\u001b[0m \u001b[0mpLap\u001b[0m\u001b[0;34m)\u001b[0m\u001b[0;34m**\u001b[0m\u001b[0;36m2\u001b[0m\u001b[0;34m\u001b[0m\u001b[0;34m\u001b[0m\u001b[0m\n\u001b[0m\u001b[1;32m      6\u001b[0m         \u001b[0mloss\u001b[0m\u001b[0;34m.\u001b[0m\u001b[0mappend\u001b[0m\u001b[0;34m(\u001b[0m\u001b[0merr_sq\u001b[0m\u001b[0;34m)\u001b[0m\u001b[0;34m\u001b[0m\u001b[0;34m\u001b[0m\u001b[0m\n\u001b[1;32m      7\u001b[0m \u001b[0;34m\u001b[0m\u001b[0m\n",
      "\u001b[0;32m<ipython-input-48-a0325a7a786c>\u001b[0m in \u001b[0;36merror\u001b[0;34m(x, y, p, pLap)\u001b[0m\n\u001b[1;32m      1\u001b[0m \u001b[0;32mdef\u001b[0m \u001b[0merror\u001b[0m\u001b[0;34m(\u001b[0m\u001b[0mx\u001b[0m\u001b[0;34m,\u001b[0m \u001b[0my\u001b[0m\u001b[0;34m,\u001b[0m \u001b[0mp\u001b[0m\u001b[0;34m,\u001b[0m \u001b[0mpLap\u001b[0m\u001b[0;34m)\u001b[0m\u001b[0;34m:\u001b[0m\u001b[0;34m\u001b[0m\u001b[0;34m\u001b[0m\u001b[0m\n\u001b[0;32m----> 2\u001b[0;31m     \u001b[0mterm1\u001b[0m \u001b[0;34m=\u001b[0m \u001b[0mdNormPsi_dxj\u001b[0m\u001b[0;34m(\u001b[0m\u001b[0mx\u001b[0m\u001b[0;34m,\u001b[0m\u001b[0my\u001b[0m\u001b[0;34m,\u001b[0m\u001b[0mp\u001b[0m\u001b[0;34m,\u001b[0m\u001b[0;36m0\u001b[0m\u001b[0;34m,\u001b[0m\u001b[0mpLap\u001b[0m\u001b[0;34m)\u001b[0m \u001b[0;34m*\u001b[0m \u001b[0mdPsi_dxj\u001b[0m\u001b[0;34m(\u001b[0m\u001b[0mx\u001b[0m\u001b[0;34m,\u001b[0m\u001b[0my\u001b[0m\u001b[0;34m,\u001b[0m\u001b[0mp\u001b[0m\u001b[0;34m,\u001b[0m\u001b[0;36m0\u001b[0m\u001b[0;34m)\u001b[0m\u001b[0;34m\u001b[0m\u001b[0;34m\u001b[0m\u001b[0m\n\u001b[0m\u001b[1;32m      3\u001b[0m     \u001b[0mterm2\u001b[0m \u001b[0;34m=\u001b[0m \u001b[0mnorm_psi\u001b[0m\u001b[0;34m(\u001b[0m\u001b[0mx\u001b[0m\u001b[0;34m,\u001b[0m\u001b[0my\u001b[0m\u001b[0;34m,\u001b[0m\u001b[0mp\u001b[0m\u001b[0;34m)\u001b[0m\u001b[0;34m**\u001b[0m\u001b[0;34m(\u001b[0m\u001b[0mpLap\u001b[0m\u001b[0;34m-\u001b[0m\u001b[0;36m2\u001b[0m\u001b[0;34m)\u001b[0m \u001b[0;34m*\u001b[0m \u001b[0mdPsi2_dxj2\u001b[0m\u001b[0;34m(\u001b[0m\u001b[0mx\u001b[0m\u001b[0;34m,\u001b[0m\u001b[0my\u001b[0m\u001b[0;34m,\u001b[0m\u001b[0mp\u001b[0m\u001b[0;34m,\u001b[0m\u001b[0;36m0\u001b[0m\u001b[0;34m)\u001b[0m\u001b[0;34m\u001b[0m\u001b[0;34m\u001b[0m\u001b[0m\n\u001b[1;32m      4\u001b[0m     \u001b[0mterm3\u001b[0m \u001b[0;34m=\u001b[0m \u001b[0mdNormPsi_dxj\u001b[0m\u001b[0;34m(\u001b[0m\u001b[0mx\u001b[0m\u001b[0;34m,\u001b[0m\u001b[0my\u001b[0m\u001b[0;34m,\u001b[0m\u001b[0mp\u001b[0m\u001b[0;34m,\u001b[0m\u001b[0;36m1\u001b[0m\u001b[0;34m,\u001b[0m\u001b[0mpLap\u001b[0m\u001b[0;34m)\u001b[0m \u001b[0;34m*\u001b[0m \u001b[0mdPsi_dxj\u001b[0m\u001b[0;34m(\u001b[0m\u001b[0mx\u001b[0m\u001b[0;34m,\u001b[0m\u001b[0my\u001b[0m\u001b[0;34m,\u001b[0m\u001b[0mp\u001b[0m\u001b[0;34m,\u001b[0m\u001b[0;36m1\u001b[0m\u001b[0;34m)\u001b[0m\u001b[0;34m\u001b[0m\u001b[0;34m\u001b[0m\u001b[0m\n\u001b[1;32m      5\u001b[0m     \u001b[0mterm4\u001b[0m \u001b[0;34m=\u001b[0m \u001b[0mnorm_psi\u001b[0m\u001b[0;34m(\u001b[0m\u001b[0mx\u001b[0m\u001b[0;34m,\u001b[0m\u001b[0my\u001b[0m\u001b[0;34m,\u001b[0m\u001b[0mp\u001b[0m\u001b[0;34m)\u001b[0m\u001b[0;34m**\u001b[0m\u001b[0;34m(\u001b[0m\u001b[0mpLap\u001b[0m\u001b[0;34m-\u001b[0m\u001b[0;36m2\u001b[0m\u001b[0;34m)\u001b[0m \u001b[0;34m*\u001b[0m \u001b[0mdPsi2_dxj2\u001b[0m\u001b[0;34m(\u001b[0m\u001b[0mx\u001b[0m\u001b[0;34m,\u001b[0m\u001b[0my\u001b[0m\u001b[0;34m,\u001b[0m\u001b[0mp\u001b[0m\u001b[0;34m,\u001b[0m\u001b[0;36m1\u001b[0m\u001b[0;34m)\u001b[0m\u001b[0;34m\u001b[0m\u001b[0;34m\u001b[0m\u001b[0m\n",
      "\u001b[0;32m<ipython-input-23-7b0a0140632f>\u001b[0m in \u001b[0;36mdNormPsi_dxj\u001b[0;34m(x, y, p, j, pLap)\u001b[0m\n\u001b[1;32m      1\u001b[0m \u001b[0;32mdef\u001b[0m \u001b[0mdNormPsi_dxj\u001b[0m\u001b[0;34m(\u001b[0m\u001b[0mx\u001b[0m\u001b[0;34m,\u001b[0m \u001b[0my\u001b[0m\u001b[0;34m,\u001b[0m \u001b[0mp\u001b[0m\u001b[0;34m,\u001b[0m \u001b[0mj\u001b[0m\u001b[0;34m,\u001b[0m \u001b[0mpLap\u001b[0m\u001b[0;34m)\u001b[0m\u001b[0;34m:\u001b[0m\u001b[0;34m\u001b[0m\u001b[0;34m\u001b[0m\u001b[0m\n\u001b[0;32m----> 2\u001b[0;31m     \u001b[0;32mreturn\u001b[0m \u001b[0;34m(\u001b[0m\u001b[0mpLap\u001b[0m\u001b[0;34m-\u001b[0m\u001b[0;36m2\u001b[0m\u001b[0;34m)\u001b[0m\u001b[0;34m*\u001b[0m\u001b[0;34m(\u001b[0m\u001b[0mnorm_psi\u001b[0m\u001b[0;34m(\u001b[0m\u001b[0mx\u001b[0m\u001b[0;34m,\u001b[0m\u001b[0my\u001b[0m\u001b[0;34m,\u001b[0m\u001b[0mp\u001b[0m\u001b[0;34m)\u001b[0m\u001b[0;34m**\u001b[0m\u001b[0;34m(\u001b[0m\u001b[0mpLap\u001b[0m\u001b[0;34m-\u001b[0m\u001b[0;36m4\u001b[0m\u001b[0;34m)\u001b[0m\u001b[0;34m)\u001b[0m\u001b[0;34m*\u001b[0m\u001b[0;34m(\u001b[0m \u001b[0mdPsi_dxj\u001b[0m\u001b[0;34m(\u001b[0m\u001b[0mx\u001b[0m\u001b[0;34m,\u001b[0m\u001b[0my\u001b[0m\u001b[0;34m,\u001b[0m\u001b[0mp\u001b[0m\u001b[0;34m,\u001b[0m\u001b[0mj\u001b[0m\u001b[0;34m)\u001b[0m\u001b[0;34m*\u001b[0m\u001b[0mdPsi2_dxj2\u001b[0m\u001b[0;34m(\u001b[0m\u001b[0mx\u001b[0m\u001b[0;34m,\u001b[0m\u001b[0my\u001b[0m\u001b[0;34m,\u001b[0m\u001b[0mp\u001b[0m\u001b[0;34m,\u001b[0m\u001b[0mj\u001b[0m\u001b[0;34m)\u001b[0m \u001b[0;34m+\u001b[0m \u001b[0mdPsi_dxj\u001b[0m\u001b[0;34m(\u001b[0m\u001b[0mx\u001b[0m\u001b[0;34m,\u001b[0m\u001b[0my\u001b[0m\u001b[0;34m,\u001b[0m\u001b[0mp\u001b[0m\u001b[0;34m,\u001b[0m\u001b[0;36m1\u001b[0m\u001b[0;34m-\u001b[0m\u001b[0mj\u001b[0m\u001b[0;34m)\u001b[0m\u001b[0;34m*\u001b[0m \u001b[0md_dy_dPsi_dx\u001b[0m\u001b[0;34m(\u001b[0m\u001b[0mx\u001b[0m\u001b[0;34m,\u001b[0m\u001b[0my\u001b[0m\u001b[0;34m,\u001b[0m\u001b[0mp\u001b[0m\u001b[0;34m,\u001b[0m\u001b[0;36m1\u001b[0m\u001b[0;34m-\u001b[0m\u001b[0mj\u001b[0m\u001b[0;34m)\u001b[0m\u001b[0;34m)\u001b[0m\u001b[0;34m\u001b[0m\u001b[0;34m\u001b[0m\u001b[0m\n\u001b[0m",
      "\u001b[0;31mFloatingPointError\u001b[0m: invalid value encountered in double_scalars"
     ]
    }
   ],
   "source": [
    "# %%pixie_debugger\n",
    "\n",
    "file = open('output/output.txt', 'w')\n",
    "\n",
    "# lr = 0.000050000\n",
    "lr = 0.00010000\n",
    "\n",
    "itr = 10000\n",
    "\n",
    "err_rate = []\n",
    "\n",
    "grw0 = grw1 = gru = grv = []\n",
    "\n",
    "np.seterr(all='raise')\n",
    "\n",
    "start=len(err_rate)-1\n",
    "if start<1:\n",
    "    err_rate.append(cost(p))\n",
    "\n",
    "for i in range(start, start+itr):\n",
    "    np.random.shuffle(points)\n",
    "    for x, y in points: \n",
    "        p[0][0] -= lr * dE_dwj(x, y, p, 0, pLap)\n",
    "        p[0][1] -= lr * dE_dwj(x, y, p, 1, pLap)\n",
    "        p[1] -= lr * dE_du(x, y, p, pLap)\n",
    "        p[2] -= lr * dE_dv(x, y, p, pLap)\n",
    "\n",
    "    err_rate.append(cost(p))\n",
    "\n",
    "    file.write('Iteration:{} Cost:{} Improvement:{}'.format(i+1,cost(p), err_rate[i]-err_rate[i+1]) + '\\n')\n",
    "    \n",
    "    if i%50==0:\n",
    "        file.flush()\n",
    "\n",
    "file.close()\n",
    "\n",
    "np.savez(\"output/nn_params.npz\", p)\n",
    "np.savez(\"output/err_rate.npz\", err_rate)"
   ]
  },
  {
   "cell_type": "markdown",
   "metadata": {},
   "source": [
    "### Save the result"
   ]
  },
  {
   "cell_type": "code",
   "execution_count": 181,
   "metadata": {
    "ExecuteTime": {
     "end_time": "2018-12-18T03:56:40.985164Z",
     "start_time": "2018-12-18T03:56:40.973518Z"
    }
   },
   "outputs": [],
   "source": [
    "np.savez(\"output/nn_params.npz\", p)\n",
    "np.savez(\"output/err_rate.npz\", err_rate)"
   ]
  },
  {
   "cell_type": "code",
   "execution_count": 67,
   "metadata": {},
   "outputs": [],
   "source": [
    "p = np.load(\"output/nn_params.npz\")['arr_0']\n",
    "err_rate = np.load(\"output/err_rate.npz\")['arr_0']"
   ]
  },
  {
   "cell_type": "markdown",
   "metadata": {},
   "source": [
    "# Graphs"
   ]
  },
  {
   "cell_type": "markdown",
   "metadata": {},
   "source": [
    "### Error vs Iterations"
   ]
  },
  {
   "cell_type": "code",
   "execution_count": 168,
   "metadata": {
    "ExecuteTime": {
     "end_time": "2018-12-18T03:42:05.652494Z",
     "start_time": "2018-12-18T03:42:05.642667Z"
    }
   },
   "outputs": [],
   "source": [
    "def plot_cost(err_rate, min_it=0, max_it=None):\n",
    "#     %matplotlib tk\n",
    "#     plt.figure()\n",
    "    plt.gca().ticklabel_format(useOffset=False)\n",
    "    plt.gca().set_xlabel('Iterations')\n",
    "    plt.gca().set_ylabel('Cost')\n",
    "    plt.plot(np.arange(len(err_rate[min_it:max_it])), np.array(err_rate[min_it:max_it]))\n",
    "#     plt.ticklabel_format(style='plain', axis='y')\n",
    "#     plt.show()\n",
    "    plt.pause(0.1)\n",
    "    plt.draw()"
   ]
  },
  {
   "cell_type": "code",
   "execution_count": 169,
   "metadata": {
    "ExecuteTime": {
     "end_time": "2018-12-18T03:42:06.858527Z",
     "start_time": "2018-12-18T03:42:06.545575Z"
    }
   },
   "outputs": [
    {
     "data": {
      "image/png": "[encoded data removed]",
      "text/plain": [
       "<Figure size 432x288 with 1 Axes>"
      ]
     },
     "metadata": {
      "needs_background": "light"
     },
     "output_type": "display_data"
    },
    {
     "data": {
      "text/plain": [
       "<Figure size 432x288 with 0 Axes>"
      ]
     },
     "metadata": {},
     "output_type": "display_data"
    }
   ],
   "source": [
    "plot_cost(err_rate)"
   ]
  },
  {
   "cell_type": "code",
   "execution_count": 54,
   "metadata": {
    "ExecuteTime": {
     "end_time": "2018-12-18T11:36:11.562897Z",
     "start_time": "2018-12-18T11:36:11.559612Z"
    }
   },
   "outputs": [
    {
     "name": "stdout",
     "output_type": "stream",
     "text": [
      "h\n"
     ]
    }
   ],
   "source": [
    "print('h')"
   ]
  },
  {
   "cell_type": "code",
   "execution_count": null,
   "metadata": {},
   "outputs": [],
   "source": []
  },
  {
   "cell_type": "code",
   "execution_count": null,
   "metadata": {},
   "outputs": [],
   "source": []
  },
  {
   "cell_type": "code",
   "execution_count": null,
   "metadata": {},
   "outputs": [],
   "source": []
  },
  {
   "cell_type": "code",
   "execution_count": null,
   "metadata": {},
   "outputs": [],
   "source": []
  },
  {
   "cell_type": "code",
   "execution_count": 170,
   "metadata": {
    "ExecuteTime": {
     "end_time": "2018-12-18T03:44:30.556097Z",
     "start_time": "2018-12-18T03:44:30.538909Z"
    }
   },
   "outputs": [],
   "source": [
    "a = np.sum(0.01*np.array([np.linalg.norm(psi_t(x,y,p) - psi_a(x,y))**pLap for x, y in points]))**(1/pLap)"
   ]
  },
  {
   "cell_type": "code",
   "execution_count": 171,
   "metadata": {
    "ExecuteTime": {
     "end_time": "2018-12-18T03:44:31.596633Z",
     "start_time": "2018-12-18T03:44:31.559735Z"
    }
   },
   "outputs": [],
   "source": [
    "b = np.sum([0.01*((dPsi_dxj(x,y,p,0)-psi_a_dx(x,y))**2 + (dPsi_dxj(x,y,p,1)-psi_a_dy(x,y))**2)**(pLap/2) for x, y in points])**(1/pLap)"
   ]
  },
  {
   "cell_type": "code",
   "execution_count": 172,
   "metadata": {
    "ExecuteTime": {
     "end_time": "2018-12-18T03:44:32.497561Z",
     "start_time": "2018-12-18T03:44:32.488357Z"
    }
   },
   "outputs": [
    {
     "data": {
      "text/plain": [
       "0.6105266347865064"
      ]
     },
     "execution_count": 172,
     "metadata": {},
     "output_type": "execute_result"
    }
   ],
   "source": [
    "a+b"
   ]
  },
  {
   "cell_type": "code",
   "execution_count": 173,
   "metadata": {
    "ExecuteTime": {
     "end_time": "2018-12-18T03:44:34.546811Z",
     "start_time": "2018-12-18T03:44:34.538767Z"
    }
   },
   "outputs": [],
   "source": [
    "norm_psi_a = np.sum(0.01*np.array([np.linalg.norm(psi_a(x,y))**pLap for x, y in points]))**(1/pLap) + np.sum([0.01*(psi_a_dx(x,y)**2 + psi_a_dy(x,y)**2)**(pLap/2) for x, y in points])**(1/pLap)"
   ]
  },
  {
   "cell_type": "code",
   "execution_count": 174,
   "metadata": {
    "ExecuteTime": {
     "end_time": "2018-12-18T03:44:35.498979Z",
     "start_time": "2018-12-18T03:44:35.493146Z"
    }
   },
   "outputs": [
    {
     "data": {
      "text/plain": [
       "0.7901508312432248"
      ]
     },
     "execution_count": 174,
     "metadata": {},
     "output_type": "execute_result"
    }
   ],
   "source": [
    "norm_psi_a"
   ]
  },
  {
   "cell_type": "code",
   "execution_count": 175,
   "metadata": {
    "ExecuteTime": {
     "end_time": "2018-12-18T03:44:38.666354Z",
     "start_time": "2018-12-18T03:44:38.657611Z"
    }
   },
   "outputs": [
    {
     "data": {
      "text/plain": [
       "0.7726710023526807"
      ]
     },
     "execution_count": 175,
     "metadata": {},
     "output_type": "execute_result"
    }
   ],
   "source": [
    "(a+b)/norm_psi_a"
   ]
  },
  {
   "cell_type": "code",
   "execution_count": null,
   "metadata": {},
   "outputs": [],
   "source": []
  },
  {
   "cell_type": "code",
   "execution_count": null,
   "metadata": {},
   "outputs": [],
   "source": []
  },
  {
   "cell_type": "markdown",
   "metadata": {},
   "source": [
    "### Solution Accuracy on the domain"
   ]
  },
  {
   "cell_type": "code",
   "execution_count": 176,
   "metadata": {
    "ExecuteTime": {
     "end_time": "2018-12-18T03:44:51.443396Z",
     "start_time": "2018-12-18T03:44:49.789810Z"
    },
    "scrolled": true
   },
   "outputs": [
    {
     "ename": "TypeError",
     "evalue": "ticklabel_format() got an unexpected keyword argument 'useMathText'",
     "output_type": "error",
     "traceback": [
      "\u001b[0;31m---------------------------------------------------------------------------\u001b[0m",
      "\u001b[0;31mTypeError\u001b[0m                                 Traceback (most recent call last)",
      "\u001b[0;32m<ipython-input-176-394bba34e910>\u001b[0m in \u001b[0;36m<module>\u001b[0;34m\u001b[0m\n\u001b[1;32m     10\u001b[0m \u001b[0;34m\u001b[0m\u001b[0m\n\u001b[1;32m     11\u001b[0m \u001b[0max\u001b[0m\u001b[0;34m.\u001b[0m\u001b[0mplot_surface\u001b[0m\u001b[0;34m(\u001b[0m\u001b[0mX\u001b[0m\u001b[0;34m,\u001b[0m \u001b[0mY\u001b[0m\u001b[0;34m,\u001b[0m \u001b[0mZ\u001b[0m\u001b[0;34m,\u001b[0m \u001b[0mcmap\u001b[0m\u001b[0;34m=\u001b[0m\u001b[0mcm\u001b[0m\u001b[0;34m.\u001b[0m\u001b[0mcoolwarm\u001b[0m\u001b[0;34m)\u001b[0m\u001b[0;34m\u001b[0m\u001b[0;34m\u001b[0m\u001b[0m\n\u001b[0;32m---> 12\u001b[0;31m \u001b[0max\u001b[0m\u001b[0;34m.\u001b[0m\u001b[0mticklabel_format\u001b[0m\u001b[0;34m(\u001b[0m\u001b[0mstyle\u001b[0m\u001b[0;34m=\u001b[0m\u001b[0;34m'sci'\u001b[0m\u001b[0;34m,\u001b[0m \u001b[0maxis\u001b[0m\u001b[0;34m=\u001b[0m\u001b[0;34m'z'\u001b[0m\u001b[0;34m,\u001b[0m \u001b[0mscilimits\u001b[0m\u001b[0;34m=\u001b[0m\u001b[0;34m(\u001b[0m\u001b[0;36m0\u001b[0m\u001b[0;34m,\u001b[0m\u001b[0;36m0\u001b[0m\u001b[0;34m)\u001b[0m\u001b[0;34m,\u001b[0m \u001b[0museOffset\u001b[0m\u001b[0;34m=\u001b[0m\u001b[0;32mTrue\u001b[0m\u001b[0;34m,\u001b[0m \u001b[0museMathText\u001b[0m\u001b[0;34m=\u001b[0m\u001b[0;32mTrue\u001b[0m\u001b[0;34m)\u001b[0m\u001b[0;34m\u001b[0m\u001b[0;34m\u001b[0m\u001b[0m\n\u001b[0m\u001b[1;32m     13\u001b[0m \u001b[0;34m\u001b[0m\u001b[0m\n\u001b[1;32m     14\u001b[0m \u001b[0;34m\u001b[0m\u001b[0m\n",
      "\u001b[0;31mTypeError\u001b[0m: ticklabel_format() got an unexpected keyword argument 'useMathText'"
     ]
    },
    {
     "data": {
      "image/png": "[encoded data removed]",
      "text/plain": [
       "<Figure size 432x288 with 1 Axes>"
      ]
     },
     "metadata": {
      "needs_background": "light"
     },
     "output_type": "display_data"
    }
   ],
   "source": [
    "d_x=0.01\n",
    "\n",
    "fig = plt.figure()\n",
    "ax = fig.add_subplot(111, projection='3d')\n",
    "x = y = np.arange(0, 1+d_x, d_x)\n",
    "X, Y = np.meshgrid(x, y)\n",
    "\n",
    "zs = np.array([psi_a_dy(x,y)-dPsi_dxj(x,y,p,1) for x,y in zip(np.ravel(X), np.ravel(Y))])\n",
    "Z = zs.reshape(X.shape)\n",
    "\n",
    "ax.plot_surface(X, Y, Z, cmap=cm.coolwarm)\n",
    "ax.ticklabel_format(style='sci', axis='z', scilimits=(0,0), useOffset=True, useMathText=True)\n",
    "\n",
    "\n",
    "ax.set_xlabel('x')\n",
    "ax.set_ylabel('y')\n",
    "ax.set_zlabel('Accuracy')\n",
    "\n",
    "# plt.title(r\"$\\frac{\\partial \\Psi_a}{\\partial y} - \\frac{\\partial \\Psi_t}{\\partial y}$\")\n",
    "\n",
    "plt.show()"
   ]
  },
  {
   "cell_type": "code",
   "execution_count": null,
   "metadata": {},
   "outputs": [],
   "source": []
  }
 ],
 "metadata": {
  "celltoolbar": "Initialization Cell",
  "kernelspec": {
   "display_name": "Python 3",
   "language": "python",
   "name": "python3"
  },
  "language_info": {
   "codemirror_mode": {
    "name": "ipython",
    "version": 3
   },
   "file_extension": ".py",
   "mimetype": "text/x-python",
   "name": "python",
   "nbconvert_exporter": "python",
   "pygments_lexer": "ipython3",
   "version": "3.6.7"
  },
  "toc": {
   "base_numbering": 1,
   "nav_menu": {},
   "number_sections": true,
   "sideBar": true,
   "skip_h1_title": false,
   "title_cell": "Table of Contents",
   "title_sidebar": "Contents",
   "toc_cell": false,
   "toc_position": {
    "height": "calc(100% - 180px)",
    "left": "10px",
    "top": "150px",
    "width": "230px"
   },
   "toc_section_display": true,
   "toc_window_display": false
  },
  "varInspector": {
   "cols": {
    "lenName": 16,
    "lenType": 16,
    "lenVar": 40
   },
   "kernels_config": {
    "python": {
     "delete_cmd_postfix": "",
     "delete_cmd_prefix": "del ",
     "library": "var_list.py",
     "varRefreshCmd": "print(var_dic_list())"
    },
    "r": {
     "delete_cmd_postfix": ") ",
     "delete_cmd_prefix": "rm(",
     "library": "var_list.r",
     "varRefreshCmd": "cat(var_dic_list()) "
    }
   },
   "types_to_exclude": [
    "module",
    "function",
    "builtin_function_or_method",
    "instance",
    "_Feature"
   ],
   "window_display": false
  }
 },
 "nbformat": 4,
 "nbformat_minor": 2
}
