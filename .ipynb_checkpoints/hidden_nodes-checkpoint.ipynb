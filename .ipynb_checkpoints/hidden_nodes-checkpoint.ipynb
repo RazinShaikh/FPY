{
 "cells": [
  {
   "cell_type": "markdown",
   "metadata": {
    "heading_collapsed": true,
    "slideshow": {
     "slide_type": "-"
    }
   },
   "source": [
    "# Imports"
   ]
  },
  {
   "cell_type": "code",
   "execution_count": 40,
   "metadata": {
    "hidden": true
   },
   "outputs": [],
   "source": [
    "import numpy as np\n",
    "import itertools\n",
    "import time\n",
    "from matplotlib import pyplot as plt\n",
    "from mpl_toolkits.mplot3d import Axes3D\n",
    "from matplotlib import cm"
   ]
  },
  {
   "cell_type": "markdown",
   "metadata": {
    "heading_collapsed": true
   },
   "source": [
    "# Introduction"
   ]
  },
  {
   "cell_type": "markdown",
   "metadata": {
    "hidden": true
   },
   "source": [
    "Consider the following equation:\n",
    "$$\\Delta_p \\Psi(x,y)=-\\pi ^2 (1-y) y \\sin (\\pi  x)-2 \\sin (\\pi  x)$$\n",
    "\n",
    "$x \\in [0,1],\\ y \\in [0,1]$ with *Dirichlet* BC: $\\Psi(0,y) = 0$, $\\Psi(1,y) = 0$, $\\Psi(x,0) = 0$ and $\\Psi(x,1) = 0$.\n",
    "\n",
    "For this first attempt, we will take $p=2$."
   ]
  },
  {
   "cell_type": "markdown",
   "metadata": {
    "heading_collapsed": true
   },
   "source": [
    "# Defining functions"
   ]
  },
  {
   "cell_type": "markdown",
   "metadata": {
    "hidden": true
   },
   "source": [
    "Sigmoid $\\sigma(x) = \\frac{1}{1+e^{-x}}$ and its derrivatives."
   ]
  },
  {
   "cell_type": "markdown",
   "metadata": {
    "hidden": true
   },
   "source": [
    "Sigmoid with parameter $t$\n",
    "$$ \\sigma_t(x) = \\frac{1}{1+e^{-tx}}$$"
   ]
  },
  {
   "cell_type": "code",
   "execution_count": 71,
   "metadata": {
    "hidden": true
   },
   "outputs": [],
   "source": [
    "T = 1"
   ]
  },
  {
   "cell_type": "code",
   "execution_count": 72,
   "metadata": {
    "hidden": true
   },
   "outputs": [],
   "source": [
    "def sig(x):\n",
    "    return 1 / (1 + np.exp(-T*x))\n",
    "\n",
    "def sig1(x):\n",
    "    return T * sig(x) * (1 - sig(x))\n",
    "\n",
    "def sig2(x):\n",
    "    return T * (sig1(x) - 2*sig(x)*sig1(x))\n",
    "\n",
    "def sig3(x):\n",
    "    return T * (sig2(x) - 2 * (sig1(x)**2 + sig(x) * sig2(x)))\n",
    "\n",
    "def sig_pr(x, k):\n",
    "    if k==0:\n",
    "        return sig(x)\n",
    "    if k==1:\n",
    "        return sig1(x)\n",
    "    if k==2:\n",
    "        return sig2(x)\n",
    "    if k==3:\n",
    "        return sig3(x)"
   ]
  },
  {
   "cell_type": "markdown",
   "metadata": {
    "hidden": true
   },
   "source": [
    "The right side of the equation:  $f(x,y) = -\\pi ^2 (1-y) y \\sin (\\pi  x)-2 \\sin (\\pi  x)$"
   ]
  },
  {
   "cell_type": "markdown",
   "metadata": {
    "hidden": true
   },
   "source": [
    "$$f(x,y) = 6 x (x-1) (1-2 y) + 2 y (y-1) (1-2 y)$$"
   ]
  },
  {
   "cell_type": "code",
   "execution_count": 315,
   "metadata": {
    "hidden": true
   },
   "outputs": [],
   "source": [
    "# def f(x, y):\n",
    "#     return -np.pi**2 * (1-y) * y * np.sin(np.pi * x) - 2 * np.sin(np.pi * x)\n",
    "\n",
    "def f(x, y):\n",
    "    return 6*(x-1)*x*(1-2*y) + 2*(y-1)*y*(1-2*y)"
   ]
  },
  {
   "cell_type": "markdown",
   "metadata": {
    "hidden": true
   },
   "source": [
    "The analytic solution is given by: $\\Psi_a(x,y) = y (1-y) \\sin(\\pi  x)$"
   ]
  },
  {
   "cell_type": "markdown",
   "metadata": {
    "hidden": true
   },
   "source": [
    "$$\\Psi_a(x,y) = x (1-x) y (1-y) (1-2 y)$$"
   ]
  },
  {
   "cell_type": "code",
   "execution_count": 316,
   "metadata": {
    "hidden": true
   },
   "outputs": [],
   "source": [
    "# def psi_a(x, y):\n",
    "#     return y * (1-y) * np.sin(np.pi * x)\n",
    "\n",
    "def psi_a(x, y):\n",
    "    return x*(1-x)*y*(1-y)*(1-2*y)"
   ]
  },
  {
   "cell_type": "markdown",
   "metadata": {
    "hidden": true
   },
   "source": [
    "The output of neural network $N(x,y,\\vec{p})$, where $\\vec{p} = [w, u, v]$:\n",
    "$$N = \\sum_i^H v_i \\sigma(z_i) \\text{, where } z_i = w_{i0} x + w_{i1} y + u_i$$"
   ]
  },
  {
   "cell_type": "code",
   "execution_count": 44,
   "metadata": {
    "hidden": true
   },
   "outputs": [],
   "source": [
    "def z(x, y, p):\n",
    "    z_x = np.multiply(x, p[0][0])\n",
    "    z_y = np.multiply(y, p[0][1])\n",
    "    z_ = np.array([z_x, z_y, p[1]]).sum(axis=0)\n",
    "    return z_\n",
    "\n",
    "def N(x, y, p):\n",
    "    return np.sum(np.multiply(sig(z(x,y,p)), p[2]))"
   ]
  },
  {
   "cell_type": "markdown",
   "metadata": {
    "hidden": true
   },
   "source": [
    "$$\\frac{\\partial^k N}{\\partial x_j^k} = \\sum_{i=1}^H v_i w_{ij}^k \\sigma^{(k)}$$"
   ]
  },
  {
   "cell_type": "code",
   "execution_count": 45,
   "metadata": {
    "hidden": true
   },
   "outputs": [],
   "source": [
    "def dN_dxj_k(x, y, p, j, k):\n",
    "    wj = p[0][j]\n",
    "    v = p[2]\n",
    "    z_ = z(x, y, p)\n",
    "    \n",
    "    return np.sum(v * (wj**k) * sig_pr(z_, k))"
   ]
  },
  {
   "cell_type": "markdown",
   "metadata": {
    "hidden": true
   },
   "source": [
    "$$\\frac{\\partial N}{\\partial w_j} = x_j v \\sigma '$$"
   ]
  },
  {
   "cell_type": "code",
   "execution_count": 46,
   "metadata": {
    "hidden": true
   },
   "outputs": [],
   "source": [
    "def dN_dwj(x, y, p, j):\n",
    "    xj = x if j==0 else y\n",
    "    v = p[2]\n",
    "    z_ = z(x, y, p)\n",
    "    return xj * v * sig1(z_)"
   ]
  },
  {
   "cell_type": "markdown",
   "metadata": {
    "hidden": true
   },
   "source": [
    "$$ \\frac{\\partial}{\\partial w_j} \\frac{\\partial N}{\\partial x_k} = x_j v w_k \\sigma'' + v_i \\sigma' \\quad\\text{ if } j = k$$\n",
    "\n",
    "$$ \\frac{\\partial}{\\partial w_j} \\frac{\\partial N}{\\partial x_k} = x_j v w_k \\sigma'' \\quad\\text{ if } j \\neq k$$"
   ]
  },
  {
   "cell_type": "code",
   "execution_count": 47,
   "metadata": {
    "hidden": true
   },
   "outputs": [],
   "source": [
    "def d_dwj_dN_dxk(x, y, p, j, k):\n",
    "    xj = x if j==0 else y\n",
    "    wk = p[0][k]\n",
    "    jk = 1 if j==k else 0\n",
    "    v = p[2]\n",
    "    z_ = z(x, y, p)\n",
    "    return xj * v * wk * sig2(z_) + jk * v * sig1(z_)"
   ]
  },
  {
   "cell_type": "markdown",
   "metadata": {
    "hidden": true
   },
   "source": [
    "$$ \\frac{\\partial}{\\partial w_j} \\frac{\\partial^2 N}{\\partial x_k^2} = x_j v w_k^2 \\sigma^{(3)} + 2 v w_k \\sigma'' \\quad\\text{ if } j = k $$\n",
    "\n",
    "$$ \\frac{\\partial}{\\partial w_j} \\frac{\\partial^2 N}{\\partial x_k^2} = x_j v w_k^2 \\sigma^{(3)} \\quad\\text{ if } j \\neq k $$"
   ]
  },
  {
   "cell_type": "code",
   "execution_count": 48,
   "metadata": {
    "hidden": true
   },
   "outputs": [],
   "source": [
    "def d_dwj_dN2_dxk2(x, y, p, j, k):\n",
    "    xj = x if j==0 else y\n",
    "    wk = p[0][k]\n",
    "    jk = 1 if j==k else 0\n",
    "    v = p[2]\n",
    "    z_ = z(x, y, p)\n",
    "    return xj * v * (wk**2) * sig3(z_) + jk * 2 * v * wk * sig2(z_)"
   ]
  },
  {
   "cell_type": "markdown",
   "metadata": {
    "hidden": true
   },
   "source": [
    "$$ \\frac{\\partial}{\\partial u} \\frac{\\partial^k}{\\partial x_j^k} N = v w_j^k \\sigma^{(k+1)} $$"
   ]
  },
  {
   "cell_type": "code",
   "execution_count": 49,
   "metadata": {
    "hidden": true
   },
   "outputs": [],
   "source": [
    "def d_du_dkN(x, y, p, j, k):\n",
    "    v = p[2]\n",
    "    wj = p[0][j]\n",
    "    z_ = z(x, y, p)\n",
    "    return v * (wj**k) * sig_pr(z_, k+1)"
   ]
  },
  {
   "cell_type": "markdown",
   "metadata": {
    "hidden": true
   },
   "source": [
    "$$ \\frac{\\partial}{\\partial v} \\frac{\\partial^k}{\\partial x_j^k} N = w_j^k \\sigma^{(k)} $$"
   ]
  },
  {
   "cell_type": "code",
   "execution_count": 50,
   "metadata": {
    "hidden": true
   },
   "outputs": [],
   "source": [
    "def d_dv_dkN(x, y, p, j, k):\n",
    "    wj = p[0][j]\n",
    "    z_ = z(x, y, p)\n",
    "    return (wj**k) * sig_pr(z_, k)"
   ]
  },
  {
   "cell_type": "markdown",
   "metadata": {
    "hidden": true
   },
   "source": [
    "## Trial solution"
   ]
  },
  {
   "cell_type": "markdown",
   "metadata": {
    "hidden": true
   },
   "source": [
    "The trial solution is given by: $$\\Psi_t(x,y) = x(1-x)y(1-y)N(x,y,\\vec{p})$$"
   ]
  },
  {
   "cell_type": "code",
   "execution_count": 51,
   "metadata": {
    "hidden": true
   },
   "outputs": [],
   "source": [
    "def psi_t(x, y, p):\n",
    "    return x * (1-x) * y * (1-y) * N(x, y, p)"
   ]
  },
  {
   "cell_type": "markdown",
   "metadata": {
    "hidden": true
   },
   "source": [
    "$$\\frac{\\partial^2 \\Psi_t}{\\partial x_j^2} = y_j(1-y_j)\\left[ -2N + (2-4x_j) \\frac{\\partial N}{\\partial x_j} + x_j (1-x_j) \\frac{\\partial^2 N}{\\partial x_j^2} \\right]$$"
   ]
  },
  {
   "cell_type": "code",
   "execution_count": 52,
   "metadata": {
    "hidden": true
   },
   "outputs": [],
   "source": [
    "def dPsi2_dxj2(x, y, p, j):\n",
    "    xj = x if j==0 else y\n",
    "    yj = y if j==0 else x\n",
    "    return yj*(1-yj)*(-2*N(x,y,p) + (2-4*xj)*dN_dxj_k(x,y,p,j,1) + xj*(1-xj)*dN_dxj_k(x,y,p,j,2))"
   ]
  },
  {
   "cell_type": "markdown",
   "metadata": {
    "hidden": true
   },
   "source": [
    "## Cost function"
   ]
  },
  {
   "cell_type": "markdown",
   "metadata": {
    "hidden": true
   },
   "source": [
    "$$E[\\vec{p}] = \\sum_i \\left\\{ \\frac{\\partial \\Psi_t(x_i,y_i)^2}{\\partial x^2} + \\frac{\\partial \\Psi_t(x_i,y_i)^2}{\\partial y^2} - f(x_i,y_i) \\right\\}^2$$"
   ]
  },
  {
   "cell_type": "code",
   "execution_count": 53,
   "metadata": {
    "hidden": true
   },
   "outputs": [],
   "source": [
    "def error(x, y, p):\n",
    "    return dPsi2_dxj2(x, y, p, 0) + dPsi2_dxj2(x, y, p, 1) - f(x, y)"
   ]
  },
  {
   "cell_type": "code",
   "execution_count": 54,
   "metadata": {
    "hidden": true
   },
   "outputs": [],
   "source": [
    "def cost(pairs, p):\n",
    "    loss = []\n",
    "    for x, y in pairs:\n",
    "        err_sq = error(x, y, p)**2\n",
    "        loss.append(err_sq)\n",
    "    return sum(loss)"
   ]
  },
  {
   "cell_type": "markdown",
   "metadata": {
    "heading_collapsed": true
   },
   "source": [
    "# Gradients"
   ]
  },
  {
   "cell_type": "markdown",
   "metadata": {
    "hidden": true
   },
   "source": [
    "To find the gradients, we first need to find $\\frac{\\partial}{\\partial w_j} \\frac{\\partial^2 \\Psi_t}{\\partial x_k^2}$ , $\\frac{\\partial}{\\partial u} \\frac{\\partial^2 \\Psi_t}{\\partial x_k^2}$ and $\\frac{\\partial}{\\partial v} \\frac{\\partial^2 \\Psi_t}{\\partial x_k^2}$ ."
   ]
  },
  {
   "cell_type": "markdown",
   "metadata": {
    "hidden": true
   },
   "source": [
    "$$\\frac{\\partial}{\\partial w_j} \\frac{\\partial^2 \\Psi_t}{\\partial x_k^2} = y_k(1-y_k)\\left[ -2\\frac{\\partial N}{\\partial w_j} + (2-4x_k) \\frac{\\partial}{\\partial w_j} \\frac{\\partial N}{\\partial x_k} + x_k(1-x_k) \\frac{\\partial}{\\partial w_j} \\frac{\\partial^2 N}{\\partial x_k^2} \\right]$$"
   ]
  },
  {
   "cell_type": "code",
   "execution_count": 55,
   "metadata": {
    "hidden": true
   },
   "outputs": [],
   "source": [
    "def d_dwj_dPsi2_dxk2(x, y, p, j, k):\n",
    "    xj = x if k==0 else y\n",
    "    yj = y if k==0 else x\n",
    "    return yj*(1-yj)*(-2*dN_dwj(x,y,p,j) + (2-4*xj)*d_dwj_dN_dxk(x,y,p,j,k) + xj*(1-xj)*d_dwj_dN2_dxk2(x,y,p,j,k))"
   ]
  },
  {
   "cell_type": "markdown",
   "metadata": {
    "hidden": true
   },
   "source": [
    "$$\\frac{\\partial}{\\partial u} \\frac{\\partial^2 \\Psi_t}{\\partial x_k^2} = y_k(1-y_k)\\left[ -2\\frac{\\partial N}{\\partial u} + (2-4x_k) \\frac{\\partial}{\\partial u} \\frac{\\partial N}{\\partial x_k} + x_k(1-x_k) \\frac{\\partial}{\\partial u} \\frac{\\partial^2 N}{\\partial x_k^2} \\right]$$"
   ]
  },
  {
   "cell_type": "code",
   "execution_count": 56,
   "metadata": {
    "hidden": true
   },
   "outputs": [],
   "source": [
    "def d_du_dPsi2_dxk2(x, y, p, k):\n",
    "    xj = x if k==0 else y\n",
    "    yj = y if k==0 else x\n",
    "    return yj*(1-yj)*(-2*d_du_dkN(x,y,p,k,0) + (2-4*xj)*d_du_dkN(x,y,p,k,1) + xj*(1-xj)*d_du_dkN(x,y,p,k,2))"
   ]
  },
  {
   "cell_type": "markdown",
   "metadata": {
    "hidden": true
   },
   "source": [
    "$$\\frac{\\partial}{\\partial v} \\frac{\\partial^2 \\Psi_t}{\\partial x_k^2} = y_k(1-y_k)\\left[ -2\\frac{\\partial N}{\\partial v} + (2-4x_k) \\frac{\\partial}{\\partial v} \\frac{\\partial N}{\\partial x_k} + x_k(1-x_k) \\frac{\\partial}{\\partial v} \\frac{\\partial^2 N}{\\partial x_k^2} \\right]$$"
   ]
  },
  {
   "cell_type": "code",
   "execution_count": 57,
   "metadata": {
    "hidden": true
   },
   "outputs": [],
   "source": [
    "def d_dv_dPsi2_dxk2(x, y, p, k):\n",
    "    xj = x if k==0 else y\n",
    "    yj = y if k==0 else x\n",
    "    return yj*(1-yj)*(-2*d_dv_dkN(x,y,p,k,0) + (2-4*xj)*d_dv_dkN(x,y,p,k,1) + xj*(1-xj)*d_dv_dkN(x,y,p,k,2))"
   ]
  },
  {
   "cell_type": "markdown",
   "metadata": {
    "hidden": true
   },
   "source": [
    "$$ \\frac{\\partial E[\\vec{p}]}{\\partial w_j} = 2 \\text{ (error) } \\left( \\frac{\\partial}{\\partial w_j} \\frac{\\partial \\Psi_t^2}{\\partial x^2} + \\frac{\\partial}{\\partial w_j} \\frac{\\partial \\Psi_t^2}{\\partial y^2} \\right) $$"
   ]
  },
  {
   "cell_type": "code",
   "execution_count": 58,
   "metadata": {
    "hidden": true
   },
   "outputs": [],
   "source": [
    "def dE_dwj(x, y, p, j):\n",
    "    return 2 * error(x,y,p) * (d_dwj_dPsi2_dxk2(x,y,p,j,0) + d_dwj_dPsi2_dxk2(x,y,p,j,1))"
   ]
  },
  {
   "cell_type": "markdown",
   "metadata": {
    "hidden": true
   },
   "source": [
    "$$ \\frac{\\partial E[\\vec{p}]}{\\partial u} = 2 \\text{ (error) } \\left( \\frac{\\partial}{\\partial u} \\frac{\\partial \\Psi_t^2}{\\partial x^2} + \\frac{\\partial}{\\partial u} \\frac{\\partial \\Psi_t^2}{\\partial y^2} \\right) $$"
   ]
  },
  {
   "cell_type": "code",
   "execution_count": 59,
   "metadata": {
    "hidden": true
   },
   "outputs": [],
   "source": [
    "def dE_du(x, y, p):\n",
    "    return 2 * error(x,y,p) * (d_du_dPsi2_dxk2(x,y,p,0) + d_du_dPsi2_dxk2(x,y,p,1))"
   ]
  },
  {
   "cell_type": "markdown",
   "metadata": {
    "hidden": true
   },
   "source": [
    "$$ \\frac{\\partial E[\\vec{p}]}{\\partial v} = 2 \\text{ (error) } \\left( \\frac{\\partial}{\\partial v} \\frac{\\partial \\Psi_t^2}{\\partial x^2} + \\frac{\\partial}{\\partial v} \\frac{\\partial \\Psi_t^2}{\\partial y^2} \\right) $$"
   ]
  },
  {
   "cell_type": "code",
   "execution_count": 60,
   "metadata": {
    "hidden": true
   },
   "outputs": [],
   "source": [
    "def dE_dv(x, y, p):\n",
    "    return 2 * error(x,y,p) * (d_dv_dPsi2_dxk2(x,y,p,0) + d_dv_dPsi2_dxk2(x,y,p,1))"
   ]
  },
  {
   "cell_type": "markdown",
   "metadata": {},
   "source": [
    "# Training"
   ]
  },
  {
   "cell_type": "code",
   "execution_count": 207,
   "metadata": {
    "code_folding": [
     1,
     15,
     50
    ]
   },
   "outputs": [],
   "source": [
    "class NNTrain:\n",
    "    def __init__(self, nx=10, hidden_nodes=10, lr=0.1, update_interval=50):\n",
    "        self.training_started = False\n",
    "        self.nx = nx\n",
    "        self.hidden_nodes = hidden_nodes\n",
    "        self.lr = lr\n",
    "        self.update_interval = update_interval\n",
    "        self.points = list(itertools.product(np.linspace(0, 1, nx), \n",
    "                                             np.linspace(0, 1, nx)))\n",
    "        self.cost_rate = []\n",
    "        self.p = np.array([np.random.randn(2,hidden_nodes),\n",
    "                           np.random.randn(hidden_nodes),\n",
    "                           np.random.randn(hidden_nodes)])\n",
    "\n",
    "        \n",
    "    def train(self, itr=1000):\n",
    "        if self.training_started:\n",
    "            mode='a'\n",
    "        else:\n",
    "            mode='w'\n",
    "        self.training_started=True\n",
    "        \n",
    "        with open('output/output.csv', mode) as file:\n",
    "            if mode=='w':\n",
    "                file.write('Iteration,Cost,Cost Diff\\n')\n",
    "            start=len(self.cost_rate)-1\n",
    "            if start<1:\n",
    "                start+=1\n",
    "                self.cost_rate.append(cost(self.points, self.p))\n",
    "\n",
    "            i = start\n",
    "            while i < start+itr:\n",
    "                np.random.shuffle(self.points)\n",
    "                for x, y in self.points: \n",
    "                    self.p[0][0] -= self.lr * dE_dwj(x, y, self.p, 0)\n",
    "                    self.p[0][1] -= self.lr * dE_dwj(x, y, self.p, 1)\n",
    "                    self.p[1] -= self.lr * dE_du(x, y, self.p)\n",
    "                    self.p[2] -= self.lr * dE_dv(x, y, self.p)\n",
    "                self.cost_rate.append(cost(self.points,self.p))\n",
    "                cost_diff = self.cost_rate[i]-self.cost_rate[i+1]\n",
    "\n",
    "                file.write('{},{:.8f},{:.8f}\\n'.format(\n",
    "                    i+1,self.cost_rate[i+1],\n",
    "                    self.cost_rate[i]-self.cost_rate[i+1]))\n",
    "\n",
    "                if i%self.update_interval==0:\n",
    "                    file.flush()\n",
    "                    \n",
    "                i+=1\n",
    "                \n",
    "    def save_result(self, output_name=''):\n",
    "        timestr = time.strftime(\"%Y%m%d-%H%M\")\n",
    "        np.savez('output/'+ timestr + '_' + output_name +'_nn_params.npz', self.p)\n",
    "        np.savez('output/'+ timestr + '_' + output_name +'_cost_rate.npz', self.cost_rate)"
   ]
  },
  {
   "cell_type": "code",
   "execution_count": null,
   "metadata": {},
   "outputs": [],
   "source": []
  },
  {
   "cell_type": "code",
   "execution_count": 562,
   "metadata": {},
   "outputs": [],
   "source": [
    "T=500\n",
    "test4 = NNTrain(nx=10, hidden_nodes=150, lr=0.00001, update_interval=10)"
   ]
  },
  {
   "cell_type": "code",
   "execution_count": 569,
   "metadata": {},
   "outputs": [],
   "source": [
    "test4.lr=0.0001"
   ]
  },
  {
   "cell_type": "code",
   "execution_count": 573,
   "metadata": {
    "scrolled": true
   },
   "outputs": [
    {
     "name": "stderr",
     "output_type": "stream",
     "text": [
      "/home/zy22577/.local/lib/python3.6/site-packages/ipykernel_launcher.py:2: RuntimeWarning: overflow encountered in exp\n",
      "  \n",
      "/home/zy22577/.local/lib/python3.6/site-packages/ipykernel_launcher.py:2: RuntimeWarning: underflow encountered in exp\n",
      "  \n",
      "/home/zy22577/.local/lib/python3.6/site-packages/ipykernel_launcher.py:8: RuntimeWarning: underflow encountered in multiply\n",
      "  \n",
      "/home/zy22577/.local/lib/python3.6/site-packages/ipykernel_launcher.py:11: RuntimeWarning: underflow encountered in square\n",
      "  # This is added back by InteractiveShellApp.init_path()\n",
      "/home/zy22577/.local/lib/python3.6/site-packages/ipykernel_launcher.py:11: RuntimeWarning: underflow encountered in multiply\n",
      "  # This is added back by InteractiveShellApp.init_path()\n",
      "/home/zy22577/.local/lib/python3.6/site-packages/ipykernel_launcher.py:35: RuntimeWarning: underflow encountered in multiply\n",
      "/home/zy22577/.local/lib/python3.6/site-packages/ipykernel_launcher.py:36: RuntimeWarning: underflow encountered in multiply\n",
      "/home/zy22577/.local/lib/python3.6/site-packages/ipykernel_launcher.py:37: RuntimeWarning: underflow encountered in multiply\n",
      "/home/zy22577/.local/lib/python3.6/site-packages/ipykernel_launcher.py:2: RuntimeWarning: underflow encountered in multiply\n",
      "  \n",
      "/home/zy22577/.local/lib/python3.6/site-packages/ipykernel_launcher.py:38: RuntimeWarning: underflow encountered in multiply\n",
      "/home/zy22577/.local/lib/python3.6/site-packages/ipykernel_launcher.py:2: RuntimeWarning: underflow encountered in true_divide\n",
      "  \n",
      "/home/zy22577/.local/lib/python3.6/site-packages/ipykernel_launcher.py:6: RuntimeWarning: underflow encountered in multiply\n",
      "  \n",
      "/home/zy22577/.local/lib/python3.6/site-packages/ipykernel_launcher.py:4: RuntimeWarning: underflow encountered in multiply\n",
      "  after removing the cwd from sys.path.\n"
     ]
    }
   ],
   "source": [
    "test4.train(itr=20000)"
   ]
  },
  {
   "cell_type": "code",
   "execution_count": 572,
   "metadata": {},
   "outputs": [],
   "source": [
    "test4.save_result('t500_h150')"
   ]
  },
  {
   "cell_type": "code",
   "execution_count": null,
   "metadata": {},
   "outputs": [],
   "source": []
  },
  {
   "cell_type": "code",
   "execution_count": null,
   "metadata": {},
   "outputs": [],
   "source": [
    "test4.train(itr=30000)"
   ]
  },
  {
   "cell_type": "code",
   "execution_count": null,
   "metadata": {},
   "outputs": [],
   "source": []
  },
  {
   "cell_type": "code",
   "execution_count": 1,
   "metadata": {},
   "outputs": [
    {
     "name": "stdout",
     "output_type": "stream",
     "text": [
      "hi\n"
     ]
    }
   ],
   "source": [
    "print('hi')"
   ]
  },
  {
   "cell_type": "code",
   "execution_count": null,
   "metadata": {},
   "outputs": [],
   "source": []
  },
  {
   "cell_type": "code",
   "execution_count": null,
   "metadata": {},
   "outputs": [],
   "source": []
  },
  {
   "cell_type": "code",
   "execution_count": null,
   "metadata": {},
   "outputs": [],
   "source": []
  },
  {
   "cell_type": "code",
   "execution_count": null,
   "metadata": {},
   "outputs": [],
   "source": []
  },
  {
   "cell_type": "code",
   "execution_count": null,
   "metadata": {},
   "outputs": [],
   "source": []
  },
  {
   "cell_type": "code",
   "execution_count": null,
   "metadata": {},
   "outputs": [],
   "source": []
  },
  {
   "cell_type": "code",
   "execution_count": null,
   "metadata": {},
   "outputs": [],
   "source": []
  },
  {
   "cell_type": "code",
   "execution_count": 241,
   "metadata": {},
   "outputs": [],
   "source": [
    "x=0.5\n",
    "y=0.5"
   ]
  },
  {
   "cell_type": "code",
   "execution_count": 242,
   "metadata": {},
   "outputs": [
    {
     "data": {
      "text/plain": [
       "array([-0.54801463, -0.77571897,  0.86105933,  3.68096421, -0.52271144,\n",
       "        1.39252321,  0.2243162 ,  1.15882455, -0.77721872,  1.21582226,\n",
       "        1.22462861,  0.95501533, -1.62058689, -0.83696069, -1.77586623,\n",
       "       -0.38197056])"
      ]
     },
     "execution_count": 242,
     "metadata": {},
     "output_type": "execute_result"
    }
   ],
   "source": [
    "test4.p[2]"
   ]
  },
  {
   "cell_type": "code",
   "execution_count": 243,
   "metadata": {},
   "outputs": [
    {
     "data": {
      "text/plain": [
       "array([5.50532628e-024, 6.68494414e-062, 8.18185867e-052, 1.00000000e+000,\n",
       "       4.91066812e-055, 5.93948576e-023, 1.85171920e-039, 2.73964290e-057,\n",
       "       1.14859536e-046, 1.00000000e+000, 1.00000000e+000, 1.00000000e+000,\n",
       "       1.00000000e+000, 8.95503651e-180, 1.00000000e+000, 6.04616340e-017])"
      ]
     },
     "execution_count": 243,
     "metadata": {},
     "output_type": "execute_result"
    }
   ],
   "source": [
    "sig(z(x,y,test4.p))"
   ]
  },
  {
   "cell_type": "code",
   "execution_count": 244,
   "metadata": {},
   "outputs": [
    {
     "data": {
      "text/plain": [
       "array([5.50532628e-024, 6.68494414e-062, 8.18185867e-052, 1.00000000e+000,\n",
       "       4.91066812e-055, 5.93948576e-023, 1.85171920e-039, 2.73964290e-057,\n",
       "       1.14859536e-046, 1.00000000e+000, 1.00000000e+000, 1.00000000e+000,\n",
       "       1.00000000e+000, 8.95503651e-180, 1.00000000e+000, 6.04616340e-017])"
      ]
     },
     "execution_count": 244,
     "metadata": {},
     "output_type": "execute_result"
    }
   ],
   "source": [
    "sig(z(x,y,test4.p))"
   ]
  },
  {
   "cell_type": "code",
   "execution_count": 245,
   "metadata": {},
   "outputs": [
    {
     "data": {
      "text/plain": [
       "array([-3.01699937e-024, -5.18563801e-062,  7.04506573e-052,\n",
       "        3.68096421e+000, -2.56686241e-055,  8.27087176e-023,\n",
       "        4.15370621e-040,  3.17476545e-057, -8.92709813e-047,\n",
       "        1.21582226e+000,  1.22462861e+000,  9.55015330e-001,\n",
       "       -1.62058689e+000, -7.49501351e-180, -1.77586623e+000,\n",
       "       -2.30945639e-017])"
      ]
     },
     "execution_count": 245,
     "metadata": {},
     "output_type": "execute_result"
    }
   ],
   "source": [
    "sig(z(x,y,test4.p)) * test4.p[2]"
   ]
  },
  {
   "cell_type": "code",
   "execution_count": 246,
   "metadata": {},
   "outputs": [
    {
     "data": {
      "text/plain": [
       "3.6799772986039136"
      ]
     },
     "execution_count": 246,
     "metadata": {},
     "output_type": "execute_result"
    }
   ],
   "source": [
    "sum(sig(z(x,y,test4.p)) * test4.p[2])"
   ]
  },
  {
   "cell_type": "code",
   "execution_count": 247,
   "metadata": {},
   "outputs": [
    {
     "data": {
      "text/plain": [
       "3.679977298603914"
      ]
     },
     "execution_count": 247,
     "metadata": {},
     "output_type": "execute_result"
    }
   ],
   "source": [
    "N(x,y,test4.p)"
   ]
  },
  {
   "cell_type": "code",
   "execution_count": 248,
   "metadata": {},
   "outputs": [
    {
     "data": {
      "text/plain": [
       "0.25"
      ]
     },
     "execution_count": 248,
     "metadata": {},
     "output_type": "execute_result"
    }
   ],
   "source": [
    "psi_a(x,y)"
   ]
  },
  {
   "cell_type": "code",
   "execution_count": 249,
   "metadata": {},
   "outputs": [
    {
     "data": {
      "text/plain": [
       "0.22999858116274463"
      ]
     },
     "execution_count": 249,
     "metadata": {},
     "output_type": "execute_result"
    }
   ],
   "source": [
    "psi_t(x,y,test4.p)"
   ]
  },
  {
   "cell_type": "code",
   "execution_count": null,
   "metadata": {},
   "outputs": [],
   "source": []
  },
  {
   "cell_type": "code",
   "execution_count": null,
   "metadata": {},
   "outputs": [],
   "source": []
  },
  {
   "cell_type": "code",
   "execution_count": null,
   "metadata": {},
   "outputs": [],
   "source": []
  },
  {
   "cell_type": "code",
   "execution_count": null,
   "metadata": {},
   "outputs": [],
   "source": []
  },
  {
   "cell_type": "code",
   "execution_count": null,
   "metadata": {},
   "outputs": [],
   "source": []
  },
  {
   "cell_type": "code",
   "execution_count": null,
   "metadata": {},
   "outputs": [],
   "source": []
  },
  {
   "cell_type": "code",
   "execution_count": null,
   "metadata": {},
   "outputs": [],
   "source": []
  },
  {
   "cell_type": "markdown",
   "metadata": {},
   "source": [
    "# Graphs"
   ]
  },
  {
   "cell_type": "code",
   "execution_count": 66,
   "metadata": {},
   "outputs": [],
   "source": [
    "%matplotlib notebook\n",
    "%matplotlib notebook"
   ]
  },
  {
   "cell_type": "markdown",
   "metadata": {},
   "source": [
    "## Hidden Nodes"
   ]
  },
  {
   "cell_type": "code",
   "execution_count": 334,
   "metadata": {},
   "outputs": [],
   "source": [
    "def plot_nodes(p, hmax=10, row=3, col=4):\n",
    "    d_x=0.1\n",
    "\n",
    "    fig = plt.figure(figsize=(col*3, row*3), dpi=500)\n",
    "    for h in range(1,hmax+1):\n",
    "        ax = fig.add_subplot(row,col,h, projection='3d')\n",
    "        x = y = np.arange(0, 1+d_x, d_x)\n",
    "        X, Y = np.meshgrid(x, y)\n",
    "\n",
    "        zs = np.array([sig(z(x,y,p))[h-1] for x,y in zip(np.ravel(X), np.ravel(Y))])\n",
    "        Z = zs.reshape(X.shape)\n",
    "\n",
    "        ax.set_xlabel('x')\n",
    "        ax.set_ylabel('y')\n",
    "        ax.set_zlim(0,1)\n",
    "\n",
    "        ax.plot_surface(X, Y, Z, cmap=cm.coolwarm)\n",
    "        ax.title.set_text('Hidden Node: ' + str(h))\n",
    "        time.sleep(0.2)\n",
    "\n",
    "    plt.savefig('all.png')"
   ]
  },
  {
   "cell_type": "markdown",
   "metadata": {},
   "source": [
    "## Error vs Iterations"
   ]
  },
  {
   "cell_type": "code",
   "execution_count": 534,
   "metadata": {},
   "outputs": [],
   "source": [
    "def plot_iteration(arr, min_it=0, max_it=None):\n",
    "    plt.figure()\n",
    "    plt.plot(np.arange(len(arr[min_it:max_it])), np.array(arr[min_it:max_it]))\n",
    "    plt.show()"
   ]
  },
  {
   "cell_type": "markdown",
   "metadata": {},
   "source": [
    "## Solution Accuracy on the domain"
   ]
  },
  {
   "cell_type": "code",
   "execution_count": 97,
   "metadata": {},
   "outputs": [],
   "source": [
    "def accuracy(p):\n",
    "    d_x=0.01\n",
    "    fig = plt.figure()\n",
    "    ax = fig.add_subplot(111, projection='3d')\n",
    "    x = y = np.arange(0, 1.0+d_x, d_x)\n",
    "    X, Y = np.meshgrid(x, y)\n",
    "\n",
    "    zs = np.array([psi_a(x,y)-psi_t(x,y,p) for x,y in zip(np.ravel(X), np.ravel(Y))])\n",
    "    Z = zs.reshape(X.shape)\n",
    "\n",
    "    ax.plot_surface(X, Y, Z, cmap=cm.coolwarm_r)\n",
    "    # ax.ticklabel_format(style='sci', axis='z', scilimits=(0,0), useOffset=True, useMathText=True)\n",
    "\n",
    "\n",
    "    ax.set_xlabel('x')\n",
    "    ax.set_ylabel('y')\n",
    "#     ax.set_zlabel('Accuracy')\n",
    "\n",
    "\n",
    "    plt.show()"
   ]
  },
  {
   "cell_type": "code",
   "execution_count": 429,
   "metadata": {},
   "outputs": [],
   "source": [
    "def plot_fun(fun, zlim=False, title=None, **kwargs):\n",
    "    d_x=0.01\n",
    "    fig = plt.figure()\n",
    "    ax = fig.add_subplot(111, projection='3d')\n",
    "    x = y = np.arange(0, 1.0+d_x, d_x)\n",
    "    X, Y = np.meshgrid(x, y)\n",
    "\n",
    "    zs = np.array([fun(x,y,**kwargs) for x,y in zip(np.ravel(X), np.ravel(Y))])\n",
    "    Z = zs.reshape(X.shape)\n",
    "\n",
    "    ax.plot_surface(X, Y, Z, cmap=cm.coolwarm_r)\n",
    "    # ax.ticklabel_format(style='sci', axis='z', scilimits=(0,0), useOffset=True, useMathText=True)\n",
    "\n",
    "\n",
    "    ax.set_xlabel('x')\n",
    "    ax.set_ylabel('y')\n",
    "    ax.title.set_text(title)\n",
    "    \n",
    "    if zlim:\n",
    "        ax.set_zlim(0,1)\n",
    "\n",
    "\n",
    "    plt.show()"
   ]
  },
  {
   "cell_type": "code",
   "execution_count": null,
   "metadata": {},
   "outputs": [],
   "source": []
  }
 ],
 "metadata": {
  "kernelspec": {
   "display_name": "Python 3",
   "language": "python",
   "name": "python3"
  },
  "language_info": {
   "codemirror_mode": {
    "name": "ipython",
    "version": 3
   },
   "file_extension": ".py",
   "mimetype": "text/x-python",
   "name": "python",
   "nbconvert_exporter": "python",
   "pygments_lexer": "ipython3",
   "version": "3.6.7"
  },
  "notify_time": "30",
  "toc": {
   "base_numbering": 1,
   "nav_menu": {},
   "number_sections": true,
   "sideBar": true,
   "skip_h1_title": false,
   "title_cell": "Table of Contents",
   "title_sidebar": "Contents",
   "toc_cell": false,
   "toc_position": {
    "height": "calc(100% - 180px)",
    "left": "10px",
    "top": "150px",
    "width": "216.797px"
   },
   "toc_section_display": true,
   "toc_window_display": false
  },
  "varInspector": {
   "cols": {
    "lenName": 16,
    "lenType": 16,
    "lenVar": 40
   },
   "kernels_config": {
    "python": {
     "delete_cmd_postfix": "",
     "delete_cmd_prefix": "del ",
     "library": "var_list.py",
     "varRefreshCmd": "print(var_dic_list())"
    },
    "r": {
     "delete_cmd_postfix": ") ",
     "delete_cmd_prefix": "rm(",
     "library": "var_list.r",
     "varRefreshCmd": "cat(var_dic_list()) "
    }
   },
   "types_to_exclude": [
    "module",
    "function",
    "builtin_function_or_method",
    "instance",
    "_Feature"
   ],
   "window_display": false
  }
 },
 "nbformat": 4,
 "nbformat_minor": 2
}
