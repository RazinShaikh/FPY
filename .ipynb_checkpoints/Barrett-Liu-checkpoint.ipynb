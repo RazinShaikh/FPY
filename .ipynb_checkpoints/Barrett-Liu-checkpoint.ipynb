{
 "cells": [
  {
   "cell_type": "markdown",
   "metadata": {
    "slideshow": {
     "slide_type": "-"
    }
   },
   "source": [
    "# Imports"
   ]
  },
  {
   "cell_type": "code",
   "execution_count": 1,
   "metadata": {
    "ExecuteTime": {
     "end_time": "2018-12-28T13:08:31.230531Z",
     "start_time": "2018-12-28T13:08:30.924756Z"
    }
   },
   "outputs": [],
   "source": [
    "import numpy as np\n",
    "import itertools\n",
    "from scipy import optimize\n",
    "from scipy.optimize import OptimizeResult\n",
    "%matplotlib inline\n",
    "from matplotlib import pyplot as plt\n",
    "from mpl_toolkits.mplot3d import Axes3D\n",
    "from matplotlib import cm\n",
    "\n",
    "# import pixiedust"
   ]
  },
  {
   "cell_type": "markdown",
   "metadata": {},
   "source": [
    "Defining Latex Macros. DO NOT DELETE THIS CELL\n",
    "$\\newcommand\\p[2]{\\frac{\\partial #1}{\\partial #2}}$"
   ]
  },
  {
   "cell_type": "markdown",
   "metadata": {},
   "source": [
    "# Introduction"
   ]
  },
  {
   "cell_type": "markdown",
   "metadata": {},
   "source": [
    "Consider the following $p$-Laplacian equation:\n",
    "\n",
    "$$\\Delta_p \\Psi(x,y)=\\pi ^2 (y-1) y \\left(3 \\pi ^2 y^4-6 \\pi ^2 y^3+3 \\left(\\pi ^2-6\\right) y^2+18 y-4\\right) \\sin (\\pi  x) \\cos ^2(\\pi  x)+\\left(\\pi ^2 (y-1) y-6\\right) (1-2 y)^2 \\sin ^3(\\pi  x)$$\n",
    "\n",
    "$x \\in [0,1],\\ y \\in [0,1]$ with *Dirichlet* BC: $\\Psi(0,y) = 0$, $\\Psi(1,y) = 0$, $\\Psi(x,0) = 0$ and $\\Psi(x,1) = 0$.\n",
    "\n",
    "For this case, we will take $p=4$."
   ]
  },
  {
   "cell_type": "markdown",
   "metadata": {},
   "source": [
    "$$\\Delta_p \\Psi(x,y) = f(x,y)$$"
   ]
  },
  {
   "cell_type": "markdown",
   "metadata": {},
   "source": [
    "# Defining functions"
   ]
  },
  {
   "cell_type": "code",
   "execution_count": 2,
   "metadata": {
    "ExecuteTime": {
     "end_time": "2018-12-28T13:08:31.239546Z",
     "start_time": "2018-12-28T13:08:31.233306Z"
    }
   },
   "outputs": [],
   "source": [
    "def f(x, y):\n",
    "    return np.pi**2 * (y-1)*y*(3*np.pi**2*y**4 - 6*np.pi**2*y**3 + 3*(np.pi**2-6)*y**2 + 18*y - 4)*np.sin(np.pi*x)*np.cos(np.pi*x)**2   +   (np.pi**2*(y-1)*y - 6)*(1-2*y)**2*np.sin(np.pi*x)**3"
   ]
  },
  {
   "cell_type": "markdown",
   "metadata": {},
   "source": [
    "The analytic solution is given by: $\\Psi_a(x,y) = y (1-y) \\sin(\\pi  x)$"
   ]
  },
  {
   "cell_type": "code",
   "execution_count": 3,
   "metadata": {
    "ExecuteTime": {
     "end_time": "2018-12-28T13:08:31.260687Z",
     "start_time": "2018-12-28T13:08:31.241808Z"
    }
   },
   "outputs": [],
   "source": [
    "def psi_a(x, y):\n",
    "    return y * (1-y) * np.sin(np.pi * x)"
   ]
  },
  {
   "cell_type": "code",
   "execution_count": 4,
   "metadata": {
    "ExecuteTime": {
     "end_time": "2018-12-28T13:08:31.270296Z",
     "start_time": "2018-12-28T13:08:31.265447Z"
    }
   },
   "outputs": [],
   "source": [
    "# -π (y - 1) y cos(π x)\n",
    "def psi_a_dx(x, y):\n",
    "    return -np.pi*(y-1)*y*np.cos(np.pi*x)"
   ]
  },
  {
   "cell_type": "code",
   "execution_count": 5,
   "metadata": {
    "ExecuteTime": {
     "end_time": "2018-12-28T13:08:31.279460Z",
     "start_time": "2018-12-28T13:08:31.275097Z"
    }
   },
   "outputs": [],
   "source": [
    "# (1 - 2 y) sin(π x)\n",
    "def psi_a_dy(x,y):\n",
    "    return (1-2*y)*np.sin(np.pi*x)"
   ]
  },
  {
   "cell_type": "markdown",
   "metadata": {},
   "source": [
    "Sigmoid $\\sigma(x) = \\frac{1}{1+e^{-x}}$ and its derrivatives."
   ]
  },
  {
   "cell_type": "code",
   "execution_count": 6,
   "metadata": {
    "ExecuteTime": {
     "end_time": "2018-12-28T13:08:31.288808Z",
     "start_time": "2018-12-28T13:08:31.281594Z"
    }
   },
   "outputs": [],
   "source": [
    "#sigmoid\n",
    "def sig(x):\n",
    "    return 1 / (1 + np.exp(-x))\n",
    "\n",
    "def sig1(x):\n",
    "    return sig(x) * (1 - sig(x))\n",
    "\n",
    "def sig2(x):\n",
    "    return sig1(x) - 2 * sig(x) * sig1(x)\n",
    "\n",
    "def sig3(x):\n",
    "    return sig2(x) - 2 * (sig1(x)**2 + sig(x) * sig2(x))\n",
    "\n",
    "def sig_pr(x, k):\n",
    "    if k==0:\n",
    "        return sig(x)\n",
    "    if k==1:\n",
    "        return sig1(x)\n",
    "    if k==2:\n",
    "        return sig2(x)\n",
    "    if k==3:\n",
    "        return sig3(x)"
   ]
  },
  {
   "cell_type": "markdown",
   "metadata": {},
   "source": [
    "## Neural network and its derivatives"
   ]
  },
  {
   "cell_type": "markdown",
   "metadata": {},
   "source": [
    "The output of neural network $N(x,y,\\vec{p})$, where $\\vec{p} = [w, u, v]$:\n",
    "$$N = \\sum_i^H v_i \\sigma(z_i) \\text{, where } z_i = w_{i0} x + w_{i1} y + u_i$$"
   ]
  },
  {
   "cell_type": "code",
   "execution_count": 7,
   "metadata": {
    "ExecuteTime": {
     "end_time": "2018-12-28T13:08:31.296791Z",
     "start_time": "2018-12-28T13:08:31.290992Z"
    }
   },
   "outputs": [],
   "source": [
    "def z(x, y, p):\n",
    "    z_x = np.multiply(x, p[0][0])\n",
    "    z_y = np.multiply(y, p[0][1])\n",
    "    z_ = np.array([z_x, z_y, p[1]]).sum(axis=0)\n",
    "    return z_\n",
    "\n",
    "def N(x, y, p):\n",
    "    return np.sum(np.multiply(sig(z(x,y,p)), p[2]))"
   ]
  },
  {
   "cell_type": "markdown",
   "metadata": {},
   "source": [
    "$$\\p{^k N}{ x_j^k} = \\sum_{i=1}^H v_i w_{ij}^k \\sigma^{(k)}$$"
   ]
  },
  {
   "cell_type": "code",
   "execution_count": 8,
   "metadata": {
    "ExecuteTime": {
     "end_time": "2018-12-28T13:08:31.303329Z",
     "start_time": "2018-12-28T13:08:31.299058Z"
    }
   },
   "outputs": [],
   "source": [
    "def dN_dxj_k(x, y, p, j, k):\n",
    "    wj = p[0][j]\n",
    "    v = p[2]\n",
    "    z_ = z(x, y, p)\n",
    "    \n",
    "    return np.sum(v * (wj**k) * sig_pr(z_, k))"
   ]
  },
  {
   "cell_type": "markdown",
   "metadata": {},
   "source": [
    "$$\\p{}{ x_1}\\p{}{ x_2} N = \\sum_{i=1}^H v_i w_{i1} w_{i2} \\sigma''$$"
   ]
  },
  {
   "cell_type": "code",
   "execution_count": 9,
   "metadata": {
    "ExecuteTime": {
     "end_time": "2018-12-28T13:08:31.328156Z",
     "start_time": "2018-12-28T13:08:31.305394Z"
    }
   },
   "outputs": [],
   "source": [
    "def dN_dx1_dx2(x, y, p):\n",
    "    w1 = p[0][0]\n",
    "    w2 = p[0][1]\n",
    "    v = p[2]\n",
    "    z_ = z(x, y, p)\n",
    "    \n",
    "    return np.sum(v * w1 * w2 * sig_pr(z_, 2))"
   ]
  },
  {
   "cell_type": "markdown",
   "metadata": {},
   "source": [
    "$$\\p{N}{w_j} = x_j v \\sigma '$$"
   ]
  },
  {
   "cell_type": "code",
   "execution_count": 10,
   "metadata": {
    "ExecuteTime": {
     "end_time": "2018-12-28T13:08:31.337077Z",
     "start_time": "2018-12-28T13:08:31.331428Z"
    }
   },
   "outputs": [],
   "source": [
    "def dN_dwj(x, y, p, j):\n",
    "    xj = x if j==0 else y\n",
    "    v = p[2]\n",
    "    z_ = z(x, y, p)\n",
    "    return xj * v * sig1(z_)"
   ]
  },
  {
   "cell_type": "markdown",
   "metadata": {},
   "source": [
    "$$ \\p{}{ w_j} \\p{ N}{ x_k} = x_j v w_k \\sigma'' + v_i \\sigma' \\quad\\text{ if } j = k$$\n",
    "\n",
    "$$ \\p{}{ w_j} \\p{ N}{ x_k} = x_j v w_k \\sigma'' \\quad\\text{ if } j \\neq k$$"
   ]
  },
  {
   "cell_type": "code",
   "execution_count": 11,
   "metadata": {
    "ExecuteTime": {
     "end_time": "2018-12-28T13:08:31.345553Z",
     "start_time": "2018-12-28T13:08:31.340216Z"
    }
   },
   "outputs": [],
   "source": [
    "def d_dwj_dN_dxk(x, y, p, j, k):\n",
    "    xj = x if j==0 else y\n",
    "    wk = p[0][k]\n",
    "    jk = 1 if j==k else 0\n",
    "    v = p[2]\n",
    "    z_ = z(x, y, p)\n",
    "    return xj * v * wk * sig2(z_) + jk * v * sig1(z_)"
   ]
  },
  {
   "cell_type": "markdown",
   "metadata": {},
   "source": [
    "$$ \\p{}{ w_j} \\p{^2 N}{ x_k^2} = x_j v w_k^2 \\sigma^{(3)} + 2 v w_k \\sigma'' \\quad\\text{ if } j = k $$\n",
    "\n",
    "$$ \\p{}{ w_j} \\p{^2 N}{ x_k^2} = x_j v w_k^2 \\sigma^{(3)} \\quad\\text{ if } j \\neq k $$"
   ]
  },
  {
   "cell_type": "code",
   "execution_count": 12,
   "metadata": {
    "ExecuteTime": {
     "end_time": "2018-12-28T13:08:31.352889Z",
     "start_time": "2018-12-28T13:08:31.347788Z"
    }
   },
   "outputs": [],
   "source": [
    "def d_dwj_dN2_dxk2(x, y, p, j, k):\n",
    "    xj = x if j==0 else y\n",
    "    wk = p[0][k]\n",
    "    jk = 1 if j==k else 0\n",
    "    v = p[2]\n",
    "    z_ = z(x, y, p)\n",
    "    return xj * v * (wk**2) * sig3(z_) + jk * 2 * v * wk * sig2(z_)"
   ]
  },
  {
   "cell_type": "markdown",
   "metadata": {},
   "source": [
    "$$ \\p{}{ w_j}\\p{}{ x_1}\\p{}{ x_2} N = x_j v w_1 w_2 \\sigma^{(3)} + v w_{not j} \\sigma'' $$"
   ]
  },
  {
   "cell_type": "code",
   "execution_count": 13,
   "metadata": {
    "ExecuteTime": {
     "end_time": "2018-12-28T13:08:31.360071Z",
     "start_time": "2018-12-28T13:08:31.354697Z"
    }
   },
   "outputs": [],
   "source": [
    "def d_dwj_d_dx1_dN_dx2(x, y, p, j):\n",
    "    w1 = p[0][0]\n",
    "    w2 = p[0][1]\n",
    "    w_not_j = p[0][1-j]\n",
    "    xj = x if j==0 else y\n",
    "    v = p[2]\n",
    "    z_ = z(x, y, p)\n",
    "    \n",
    "    return xj*v*w1*w2*sig_pr(z_,3) + v*w_not_j*sig_pr(z_, 2)"
   ]
  },
  {
   "cell_type": "markdown",
   "metadata": {},
   "source": [
    "$$ \\p{}{u}\\p{}{x_1}\\p{}{x_2} N = v w_1 w_2 \\sigma^{(3)}$$"
   ]
  },
  {
   "cell_type": "code",
   "execution_count": 14,
   "metadata": {
    "ExecuteTime": {
     "end_time": "2018-12-28T13:08:31.366290Z",
     "start_time": "2018-12-28T13:08:31.361960Z"
    }
   },
   "outputs": [],
   "source": [
    "def d_du_d_dx1_dN_dx2(x, y, p):\n",
    "    w1 = p[0][0]\n",
    "    w2 = p[0][1]\n",
    "    v = p[2]\n",
    "    z_ = z(x, y, p)\n",
    "    \n",
    "    return v*w1*w2*sig_pr(z_, 3)"
   ]
  },
  {
   "cell_type": "markdown",
   "metadata": {},
   "source": [
    "$$ \\p{}{v}\\p{}{x_1}\\p{}{x_2} N = w_1 w_2 \\sigma''$$"
   ]
  },
  {
   "cell_type": "code",
   "execution_count": 15,
   "metadata": {
    "ExecuteTime": {
     "end_time": "2018-12-28T13:08:31.372091Z",
     "start_time": "2018-12-28T13:08:31.368193Z"
    }
   },
   "outputs": [],
   "source": [
    "def d_dv_d_dx1_dN_dx2(x, y, p):\n",
    "    w1 = p[0][0]\n",
    "    w2 = p[0][1]\n",
    "    z_ = z(x, y, p)\n",
    "    \n",
    "    return w1*w2*sig_pr(z_, 2)"
   ]
  },
  {
   "cell_type": "markdown",
   "metadata": {},
   "source": [
    "$$ \\p{}{ u} \\p{^k}{ x_j^k} N = v w_j^k \\sigma^{(k+1)} $$"
   ]
  },
  {
   "cell_type": "code",
   "execution_count": 16,
   "metadata": {
    "ExecuteTime": {
     "end_time": "2018-12-28T13:08:31.378340Z",
     "start_time": "2018-12-28T13:08:31.374123Z"
    }
   },
   "outputs": [],
   "source": [
    "def d_du_dkN(x, y, p, j, k):\n",
    "    v = p[2]\n",
    "    wj = p[0][j]\n",
    "    z_ = z(x, y, p)\n",
    "    return v * (wj**k) * sig_pr(z_, k+1)"
   ]
  },
  {
   "cell_type": "markdown",
   "metadata": {},
   "source": [
    "$$ \\p{}{ v} \\p{^k}{ x_j^k} N = w_j^k \\sigma^{(k)} $$"
   ]
  },
  {
   "cell_type": "code",
   "execution_count": 17,
   "metadata": {
    "ExecuteTime": {
     "end_time": "2018-12-28T13:08:31.383919Z",
     "start_time": "2018-12-28T13:08:31.380167Z"
    }
   },
   "outputs": [],
   "source": [
    "def d_dv_dkN(x, y, p, j, k):\n",
    "    wj = p[0][j]\n",
    "    z_ = z(x, y, p)\n",
    "    return (wj**k) * sig_pr(z_, k)"
   ]
  },
  {
   "cell_type": "markdown",
   "metadata": {},
   "source": [
    "## Trial solution and its derivatives"
   ]
  },
  {
   "cell_type": "markdown",
   "metadata": {
    "ExecuteTime": {
     "end_time": "2018-12-28T11:31:45.918413Z",
     "start_time": "2018-12-28T11:31:45.910584Z"
    }
   },
   "source": [
    "The trial solution is given by: $$\\Psi_t(x,y) = x(1-x)y(1-y)N(x,y,\\vec{p})$$"
   ]
  },
  {
   "cell_type": "code",
   "execution_count": 18,
   "metadata": {
    "ExecuteTime": {
     "end_time": "2018-12-28T13:08:31.393439Z",
     "start_time": "2018-12-28T13:08:31.390155Z"
    }
   },
   "outputs": [],
   "source": [
    "def psi_t(x, y, p):\n",
    "    return x * (1-x) * y * (1-y) * N(x, y, p)"
   ]
  },
  {
   "cell_type": "markdown",
   "metadata": {
    "ExecuteTime": {
     "end_time": "2018-12-28T11:31:45.918413Z",
     "start_time": "2018-12-28T11:31:45.910584Z"
    }
   },
   "source": [
    "$$\\p{\\Psi_t}{w_j} = x(1-x)y(1-y)\\p{N}{w_j}$$"
   ]
  },
  {
   "cell_type": "code",
   "execution_count": 19,
   "metadata": {
    "ExecuteTime": {
     "end_time": "2018-12-28T13:08:31.400081Z",
     "start_time": "2018-12-28T13:08:31.396731Z"
    }
   },
   "outputs": [],
   "source": [
    "def dPsi_dwj(x, y, p, j):\n",
    "    return x * (1-x) * y * (1-y) * dN_dwj(x, y, p, j)"
   ]
  },
  {
   "cell_type": "markdown",
   "metadata": {
    "ExecuteTime": {
     "end_time": "2018-12-28T11:31:45.918413Z",
     "start_time": "2018-12-28T11:31:45.910584Z"
    }
   },
   "source": [
    "$$\\p{\\Psi_t}{u} = x(1-x)y(1-y)\\p{N}{u}$$"
   ]
  },
  {
   "cell_type": "code",
   "execution_count": 20,
   "metadata": {
    "ExecuteTime": {
     "end_time": "2018-12-28T13:08:31.405455Z",
     "start_time": "2018-12-28T13:08:31.401915Z"
    }
   },
   "outputs": [],
   "source": [
    "def dPsi_du(x, y, p):\n",
    "    return x * (1-x) * y * (1-y) * d_du_dkN(x, y, p, 0, 0)"
   ]
  },
  {
   "cell_type": "markdown",
   "metadata": {
    "ExecuteTime": {
     "end_time": "2018-12-28T11:31:45.918413Z",
     "start_time": "2018-12-28T11:31:45.910584Z"
    }
   },
   "source": [
    "$$\\p{\\Psi_t}{v} = x(1-x)y(1-y)\\p{N}{v}$$"
   ]
  },
  {
   "cell_type": "code",
   "execution_count": 21,
   "metadata": {
    "ExecuteTime": {
     "end_time": "2018-12-28T13:08:31.410838Z",
     "start_time": "2018-12-28T13:08:31.407315Z"
    }
   },
   "outputs": [],
   "source": [
    "def dPsi_dv(x, y, p):\n",
    "    return x * (1-x) * y * (1-y) * d_dv_dkN(x, y, p, 0, 0)"
   ]
  },
  {
   "cell_type": "markdown",
   "metadata": {},
   "source": [
    "$$\\p{\\Psi_t}{x_j} = y_j(1-y_j)\\left[ (1-2x_j)N + x_j(1-x_j) \\p{N}{x_j} \\right]$$"
   ]
  },
  {
   "cell_type": "code",
   "execution_count": 22,
   "metadata": {
    "ExecuteTime": {
     "end_time": "2018-12-28T13:08:31.417240Z",
     "start_time": "2018-12-28T13:08:31.412745Z"
    }
   },
   "outputs": [],
   "source": [
    "def dPsi_dxj(x, y, p, j):\n",
    "    xj = x if j==0 else y\n",
    "    yj = y if j==0 else x\n",
    "    return yj*(1-yj)*( (1-2*xj)*N(x,y,p) + xj*(1-xj)*dN_dxj_k(x,y,p,j,1) )"
   ]
  },
  {
   "cell_type": "markdown",
   "metadata": {},
   "source": [
    "$$\\p{^2 \\Psi_t}{ x_j^2} = y_j(1-y_j)\\left[ -2N + (2-4x_j) \\p{ N}{ x_j} + x_j (1-x_j) \\p{^2 N}{ x_j^2} \\right]$$"
   ]
  },
  {
   "cell_type": "code",
   "execution_count": 23,
   "metadata": {
    "ExecuteTime": {
     "end_time": "2018-12-28T13:08:31.423889Z",
     "start_time": "2018-12-28T13:08:31.419133Z"
    }
   },
   "outputs": [],
   "source": [
    "def dPsi2_dxj2(x, y, p, j):\n",
    "    xj = x if j==0 else y\n",
    "    yj = y if j==0 else x\n",
    "    return yj*(1-yj)*(-2*N(x,y,p) + (2-4*xj)*dN_dxj_k(x,y,p,j,1) + xj*(1-xj)*dN_dxj_k(x,y,p,j,2))"
   ]
  },
  {
   "cell_type": "markdown",
   "metadata": {},
   "source": [
    "$$\\p{}{ y_j}\\p{ \\Psi_t}{ x_j} = (1-2y_j)\\left[ (1-2x_j)N + x_j(1-x_j) \\p{ N}{ x_j}\\right] + y_j(1-y_j) \\left[ (1-2x_j)\\p{ N}{ y_j} + x_j(1-x_j) \\p{}{ y_j} \\p{ N}{ x_j} \\right] $$"
   ]
  },
  {
   "cell_type": "code",
   "execution_count": 24,
   "metadata": {
    "ExecuteTime": {
     "end_time": "2018-12-28T13:08:31.431367Z",
     "start_time": "2018-12-28T13:08:31.425729Z"
    }
   },
   "outputs": [],
   "source": [
    "def d_dy_dPsi_dx(x, y, p, j):\n",
    "    xj = x if j==0 else y\n",
    "    yj = y if j==0 else x\n",
    "    return (1-2*yj)*( (1-2*xj)*N(x,y,p) + xj*(1-xj)*dN_dxj_k(x,y,p,j,1) )  +  yj*(1-yj)*((1-2*xj)*dN_dxj_k(x,y,p,1-j,1) + xj*(1-xj)*dN_dx1_dx2(x,y,p))"
   ]
  },
  {
   "cell_type": "markdown",
   "metadata": {},
   "source": [
    "$$ |\\nabla \\Psi| = \\left[ \\left(\\p{\\Psi}{x}\\right)^2 + \\left(\\p{\\Psi}{y}\\right)^2 \\right]^{\\frac{1}{2}} $$"
   ]
  },
  {
   "cell_type": "code",
   "execution_count": 25,
   "metadata": {
    "ExecuteTime": {
     "end_time": "2018-12-28T13:08:31.436889Z",
     "start_time": "2018-12-28T13:08:31.433248Z"
    }
   },
   "outputs": [],
   "source": [
    "def norm_psi(x, y, p):\n",
    "    return np.sqrt(dPsi_dxj(x,y,p,0)**2 + dPsi_dxj(x,y,p,1)**2)"
   ]
  },
  {
   "cell_type": "markdown",
   "metadata": {},
   "source": [
    "$$\\p{}{x_j}|\\nabla \\Psi|^{p-2} = (p-2) |\\nabla \\Psi|^{p-4} \\left(\\p{\\Psi}{x_j} \\p{^2 \\Psi}{x_j^2} + \\p{\\Psi}{y_j} \\left( \\p{}{x_j} \\p{\\Psi}{y_j} \\right) \\right)$$"
   ]
  },
  {
   "cell_type": "code",
   "execution_count": 26,
   "metadata": {
    "ExecuteTime": {
     "end_time": "2018-12-28T13:08:31.443525Z",
     "start_time": "2018-12-28T13:08:31.438679Z"
    }
   },
   "outputs": [],
   "source": [
    "def dNormPsi_dxj(x, y, p, j, pLap):\n",
    "    return (pLap-2)*(norm_psi(x,y,p)**(pLap-4))*( dPsi_dxj(x,y,p,j)*dPsi2_dxj2(x,y,p,j) + dPsi_dxj(x,y,p,1-j)* d_dy_dPsi_dx(x,y,p,1-j))"
   ]
  },
  {
   "cell_type": "markdown",
   "metadata": {},
   "source": [
    "$$\\p{}{ w_j} \\p{ \\Psi_t}{ x_k} = y_k(1-y_k)\\left[ (1-2x)\\p{ N}{ w_j} + x(1-x) \\p{}{ w_j} \\p{ N}{ x_k} \\right]$$"
   ]
  },
  {
   "cell_type": "code",
   "execution_count": 27,
   "metadata": {
    "ExecuteTime": {
     "end_time": "2018-12-28T13:08:31.450292Z",
     "start_time": "2018-12-28T13:08:31.445373Z"
    }
   },
   "outputs": [],
   "source": [
    "def d_dwj_dPsi_dxk(x, y, p, j, k):\n",
    "    xj = x if k==0 else y\n",
    "    yj = y if k==0 else x\n",
    "    return yj*(1-yj)*( (1-2*xj)*dN_dwj(x,y,p,j) + xj*(1-xj)*d_dwj_dN_dxk(x,y,p,j,k) )"
   ]
  },
  {
   "cell_type": "markdown",
   "metadata": {},
   "source": [
    "$$\\p{}{ u} \\p{ \\Psi_t}{ x_k} = y_k(1-y_k)\\left[ (1-2x)\\p{ N}{ u} + x(1-x) \\p{}{ u} \\p{ N}{ x_k} \\right]$$"
   ]
  },
  {
   "cell_type": "code",
   "execution_count": 28,
   "metadata": {
    "ExecuteTime": {
     "end_time": "2018-12-28T13:08:31.456748Z",
     "start_time": "2018-12-28T13:08:31.452238Z"
    }
   },
   "outputs": [],
   "source": [
    "def d_du_dPsi_dxk(x, y, p, k):\n",
    "    xj = x if k==0 else y\n",
    "    yj = y if k==0 else x\n",
    "    return yj*(1-yj)*( (1-2*xj)*d_du_dkN(x,y,p,k,0) + xj*(1-xj)*d_du_dkN(x,y,p,k,1) )"
   ]
  },
  {
   "cell_type": "markdown",
   "metadata": {},
   "source": [
    "$$\\p{}{v} \\p{ \\Psi_t}{ x_k} = y_k(1-y_k)\\left[ (1-2x)\\p{ N}{v} + x(1-x) \\p{}{v} \\p{ N}{ x_k} \\right]$$"
   ]
  },
  {
   "cell_type": "code",
   "execution_count": 29,
   "metadata": {
    "ExecuteTime": {
     "end_time": "2018-12-28T13:08:31.463363Z",
     "start_time": "2018-12-28T13:08:31.458614Z"
    }
   },
   "outputs": [],
   "source": [
    "def d_dv_dPsi_dxk(x, y, p, k):\n",
    "    xj = x if k==0 else y\n",
    "    yj = y if k==0 else x\n",
    "    return yj*(1-yj)*( (1-2*xj)*d_dv_dkN(x,y,p,k,0) + xj*(1-xj)*d_dv_dkN(x,y,p,k,1) )"
   ]
  },
  {
   "cell_type": "markdown",
   "metadata": {},
   "source": [
    "$$ \\p{}{ w_j} \\p{^2 \\Psi_t}{ x_k^2} = y_k(1-y_k)\\left[ -2 \\p{ N}{ w_j} + (2-4x_k) \\p{}{ w_j}\\p{ N}{ x_k} + x_k (1-x_k) \\p{}{ w_j}\\p{^2 N}{ x_k^2} \\right]$$"
   ]
  },
  {
   "cell_type": "code",
   "execution_count": 30,
   "metadata": {
    "ExecuteTime": {
     "end_time": "2018-12-28T13:08:31.470226Z",
     "start_time": "2018-12-28T13:08:31.465293Z"
    }
   },
   "outputs": [],
   "source": [
    "def d_dwj_dPsi2_dxk2(x, y, p, j, k):\n",
    "    xk = x if k==0 else y\n",
    "    yk = y if k==0 else x\n",
    "    return yk*(1-yk)*(-2*dN_dwj(x,y,p,j) + (2-4*xk)*d_dwj_dN_dxk(x,y,p,j,k) + xk*(1-xk)*d_dwj_dN2_dxk2(x,y,p,j,k))"
   ]
  },
  {
   "cell_type": "markdown",
   "metadata": {},
   "source": [
    "$$ \\p{}{ u} \\p{^2 \\Psi_t}{ x_k^2} = y_k(1-y_k)\\left[ -2 \\p{ N}{ u} + (2-4x_k) \\p{}{ u}\\p{ N}{ x_k} + x_k (1-x_k) \\p{}{ u}\\p{^2 N}{ x_k^2} \\right]$$"
   ]
  },
  {
   "cell_type": "code",
   "execution_count": 31,
   "metadata": {
    "ExecuteTime": {
     "end_time": "2018-12-28T13:08:31.476950Z",
     "start_time": "2018-12-28T13:08:31.472092Z"
    }
   },
   "outputs": [],
   "source": [
    "def d_du_dPsi2_dxk2(x, y, p, k):\n",
    "    xk = x if k==0 else y\n",
    "    yk = y if k==0 else x\n",
    "    return yk*(1-yk)*(-2*d_du_dkN(x,y,p,k,0) + (2-4*xk)*d_du_dkN(x,y,p,k,1) + xk*(1-xk)*d_du_dkN(x,y,p,k,2))"
   ]
  },
  {
   "cell_type": "markdown",
   "metadata": {},
   "source": [
    "$$ \\p{}{v} \\p{^2 \\Psi_t}{ x_k^2} = y_k(1-y_k)\\left[ -2 \\p{ N}{v} + (2-4x_k) \\p{}{v}\\p{ N}{ x_k} + x_k (1-x_k) \\p{}{v}\\p{^2 N}{ x_k^2} \\right]$$"
   ]
  },
  {
   "cell_type": "code",
   "execution_count": 32,
   "metadata": {
    "ExecuteTime": {
     "end_time": "2018-12-28T13:08:31.483933Z",
     "start_time": "2018-12-28T13:08:31.478868Z"
    }
   },
   "outputs": [],
   "source": [
    "def d_dv_dPsi2_dxk2(x, y, p, k):\n",
    "    xk = x if k==0 else y\n",
    "    yk = y if k==0 else x\n",
    "    return yk*(1-yk)*(-2*d_dv_dkN(x,y,p,k,0) + (2-4*xk)*d_dv_dkN(x,y,p,k,1) + xk*(1-xk)*d_dv_dkN(x,y,p,k,2))"
   ]
  },
  {
   "cell_type": "markdown",
   "metadata": {},
   "source": [
    "$$\\p{}{ w_j}|\\nabla \\Psi|^{P} = (P) |\\nabla \\Psi|^{P-2} \\left[\\p{ \\Psi}{ x} \\left(\\p{}{ w_j}\\p{ \\Psi}{ x}\\right) + \\p{ \\Psi}{ y} \\left(\\p{}{ w_j}\\p{ \\Psi}{ y}\\right) \\right]$$"
   ]
  },
  {
   "cell_type": "code",
   "execution_count": 33,
   "metadata": {
    "ExecuteTime": {
     "end_time": "2018-12-28T13:08:31.490330Z",
     "start_time": "2018-12-28T13:08:31.485796Z"
    }
   },
   "outputs": [],
   "source": [
    "def dNormPsiP_dwj(x, y, p, j, P):\n",
    "    return P*norm_psi(x,y,p)**(P-2)*(dPsi_dxj(x,y,p,0)*d_dwj_dPsi_dxk(x,y,p,j,0) + dPsi_dxj(x,y,p,1)*d_dwj_dPsi_dxk(x,y,p,j,1))"
   ]
  },
  {
   "cell_type": "markdown",
   "metadata": {},
   "source": [
    "$$\\p{}{ u}|\\nabla \\Psi|^{P} = (P) |\\nabla \\Psi|^{P-2} \\left[\\p{ \\Psi}{ x} \\left(\\p{}{ u}\\p{ \\Psi}{ x}\\right) + \\p{ \\Psi}{ y} \\left(\\p{}{ u}\\p{ \\Psi}{ y}\\right) \\right]$$"
   ]
  },
  {
   "cell_type": "code",
   "execution_count": 34,
   "metadata": {
    "ExecuteTime": {
     "end_time": "2018-12-28T13:08:31.496441Z",
     "start_time": "2018-12-28T13:08:31.492159Z"
    }
   },
   "outputs": [],
   "source": [
    "def dNormPsiP_du(x, y, p, P):\n",
    "    return P*norm_psi(x,y,p)**(P-2)*(dPsi_dxj(x,y,p,0)*d_du_dPsi_dxk(x,y,p,0) + dPsi_dxj(x,y,p,1)*d_du_dPsi_dxk(x,y,p,1))"
   ]
  },
  {
   "cell_type": "markdown",
   "metadata": {},
   "source": [
    "$$\\p{}{v}|\\nabla \\Psi|^{P} = (P) |\\nabla \\Psi|^{P-2} \\left[\\p{ \\Psi}{ x} \\left(\\p{}{v}\\p{ \\Psi}{ x}\\right) + \\p{ \\Psi}{ y} \\left(\\p{}{v}\\p{ \\Psi}{ y}\\right) \\right]$$"
   ]
  },
  {
   "cell_type": "code",
   "execution_count": 35,
   "metadata": {
    "ExecuteTime": {
     "end_time": "2018-12-28T13:08:31.502677Z",
     "start_time": "2018-12-28T13:08:31.498283Z"
    }
   },
   "outputs": [],
   "source": [
    "def dNormPsiP_dv(x, y, p, P):\n",
    "    return P*norm_psi(x,y,p)**(P-2)*(dPsi_dxj(x,y,p,0)*d_dv_dPsi_dxk(x,y,p,0) + dPsi_dxj(x,y,p,1)*d_dv_dPsi_dxk(x,y,p,1))"
   ]
  },
  {
   "cell_type": "markdown",
   "metadata": {},
   "source": [
    "$$ \\p{}{ w_j}\\p{}{ y_k}\\p{ \\Psi_t}{ x_k} = (1-2y_k)\\left[ (1-2x_k) \\p{ N}{ w_j} + x_k(1-x_k) \\p{}{ w_j}\\p{ N}{ x_k}\\right] + y_k(1-y_k) \\left[ (1-2x_k)\\p{}{ w_j}\\p{ N}{ y_k} + x_k(1-x_k) \\p{}{ w_j}\\p{}{ y_k} \\p{ N}{ x_k} \\right] $$"
   ]
  },
  {
   "cell_type": "code",
   "execution_count": 36,
   "metadata": {
    "ExecuteTime": {
     "end_time": "2018-12-28T13:08:31.510636Z",
     "start_time": "2018-12-28T13:08:31.504530Z"
    }
   },
   "outputs": [],
   "source": [
    "def d_dwj_d_dyk_dPsi_dxk(x, y, p, j, k):\n",
    "    xk = x if k==0 else y\n",
    "    yk = y if k==0 else x\n",
    "    term1 = (1-2*yk)*((1-2*xk)*dN_dwj(x,y,p,j) + xk*(1-xk)*d_dwj_dN_dxk(x,y,p,j,k))\n",
    "    term2 = yk*(1-yk)*((1-2*xk)*d_dwj_dN_dxk(x,y,p,j,1-k) + xk*(1-xk)*d_dwj_d_dx1_dN_dx2(x,y,p,j))\n",
    "    \n",
    "    return term1 + term2"
   ]
  },
  {
   "cell_type": "markdown",
   "metadata": {},
   "source": [
    "$$ \\p{}{ u}\\p{}{ y_k}\\p{ \\Psi_t}{ x_k} = (1-2y_k)\\left[ (1-2x_k) \\p{ N}{ u} + x_k(1-x_k) \\p{}{ u}\\p{ N}{ x_k}\\right] + y_k(1-y_k) \\left[ (1-2x_k)\\p{}{ u}\\p{ N}{ y_k} + x_k(1-x_k) \\p{}{ u}\\p{}{ y_k} \\p{ N}{ x_k} \\right] $$"
   ]
  },
  {
   "cell_type": "code",
   "execution_count": 37,
   "metadata": {
    "ExecuteTime": {
     "end_time": "2018-12-28T13:08:31.524268Z",
     "start_time": "2018-12-28T13:08:31.512613Z"
    }
   },
   "outputs": [],
   "source": [
    "def d_du_d_dyk_dPsi_dxk(x, y, p, k):\n",
    "    xk = x if k==0 else y\n",
    "    yk = y if k==0 else x\n",
    "    term1 = (1-2*yk)*((1-2*xk)*d_du_dkN(x,y,p,k,0) + xk*(1-xk)*d_du_dkN(x,y,p,k,1))\n",
    "    term2 = yk*(1-yk)*((1-2*xk)*d_du_dkN(x,y,p,1-k,1) + xk*(1-xk)*d_du_d_dx1_dN_dx2(x,y,p))\n",
    "    \n",
    "    return term1 + term2"
   ]
  },
  {
   "cell_type": "markdown",
   "metadata": {},
   "source": [
    "$$ \\p{}{v}\\p{}{ y_k}\\p{ \\Psi_t}{ x_k} = (1-2y_k)\\left[ (1-2x_k) \\p{ N}{v} + x_k(1-x_k) \\p{}{v}\\p{ N}{ x_k}\\right] + y_k(1-y_k) \\left[ (1-2x_k)\\p{}{v}\\p{ N}{ y_k} + x_k(1-x_k) \\p{}{v}\\p{}{ y_k} \\p{ N}{ x_k} \\right] $$"
   ]
  },
  {
   "cell_type": "code",
   "execution_count": 38,
   "metadata": {
    "ExecuteTime": {
     "end_time": "2018-12-28T13:08:31.584962Z",
     "start_time": "2018-12-28T13:08:31.526652Z"
    }
   },
   "outputs": [],
   "source": [
    "def d_dv_d_dyk_dPsi_dxk(x, y, p, k):\n",
    "    xk = x if k==0 else y\n",
    "    yk = y if k==0 else x\n",
    "    term1 = (1-2*yk)*((1-2*xk)*d_dv_dkN(x,y,p,k,0) + xk*(1-xk)*d_dv_dkN(x,y,p,k,1))\n",
    "    term2 = yk*(1-yk)*((1-2*xk)*d_dv_dkN(x,y,p,1-k,1) + xk*(1-xk)*d_dv_d_dx1_dN_dx2(x,y,p))\n",
    "    \n",
    "    return term1 + term2"
   ]
  },
  {
   "cell_type": "markdown",
   "metadata": {},
   "source": [
    "$$ \\p{}{w_j} \\left(\\p{\\Psi}{x_k} \\p{^2 \\Psi}{x_k^2} + \\p{\\Psi}{y_k} \\left( \\p{}{x_k} \\p{\\Psi}{y_k} \\right) \\right) = \\left(\\p{}{w_j}\\p{\\Psi}{x_k}\\right) \\p{^2\\Psi}{x_k^2} + \\p{\\Psi}{x_k} \\left(\\p{}{w_j}\\p{^2\\Psi}{x_k^2}\\right) + \\left(\\p{}{w_j}\\p{\\Psi}{y_k}\\right) \\left( \\p{}{x_k}\\p{\\Psi}{y_k} \\right) + \\p{\\Psi}{y_k}\\left( \\p{}{w_j}\\p{}{x_k}\\p{\\Psi}{y_k} \\right) $$"
   ]
  },
  {
   "cell_type": "code",
   "execution_count": 39,
   "metadata": {
    "ExecuteTime": {
     "end_time": "2018-12-28T13:08:31.609063Z",
     "start_time": "2018-12-28T13:08:31.588241Z"
    }
   },
   "outputs": [],
   "source": [
    "def d_dwj_bracket_k(x, y, p, j, k):\n",
    "    term1 = d_dwj_dPsi_dxk(x,y,p,j,k) * dPsi2_dxj2(x,y,p,k)\n",
    "    term2 = dPsi_dxj(x,y,p,k) * d_dwj_dPsi2_dxk2(x,y,p,j,k)\n",
    "    term3 = d_dwj_dPsi_dxk(x,y,p,j,1-k) * d_dy_dPsi_dx(x,y,p,1-k)\n",
    "    term4 = dPsi_dxj(x,y,p,1-k) * d_dwj_d_dyk_dPsi_dxk(x,y,p,j,1-k)\n",
    "    \n",
    "    return term1 + term2 + term3 + term4"
   ]
  },
  {
   "cell_type": "markdown",
   "metadata": {},
   "source": [
    "$$ \\p{}{u} \\left(\\p{\\Psi}{x_k} \\p{^2 \\Psi}{x_k^2} + \\p{\\Psi}{y_k} \\left( \\p{}{x_k} \\p{\\Psi}{y_k} \\right) \\right) = \\left(\\p{}{u}\\p{\\Psi}{x_k}\\right) \\p{^2\\Psi}{x_k^2} + \\p{\\Psi}{x_k} \\left(\\p{}{u}\\p{^2\\Psi}{x_k^2}\\right) + \\left(\\p{}{u}\\p{\\Psi}{y_k}\\right) \\left( \\p{}{x_k}\\p{\\Psi}{y_k} \\right) + \\p{\\Psi}{y_k}\\left( \\p{}{u}\\p{}{x_k}\\p{\\Psi}{y_k} \\right) $$"
   ]
  },
  {
   "cell_type": "code",
   "execution_count": 40,
   "metadata": {
    "ExecuteTime": {
     "end_time": "2018-12-28T13:08:31.620324Z",
     "start_time": "2018-12-28T13:08:31.612153Z"
    }
   },
   "outputs": [],
   "source": [
    "def d_du_bracket_k(x, y, p, k):\n",
    "    term1 = d_du_dPsi_dxk(x,y,p,k) * dPsi2_dxj2(x,y,p,k)\n",
    "    term2 = dPsi_dxj(x,y,p,k) * d_du_dPsi2_dxk2(x,y,p,k)\n",
    "    term3 = d_du_dPsi_dxk(x,y,p,1-k) * d_dy_dPsi_dx(x,y,p,1-k)\n",
    "    term4 = dPsi_dxj(x,y,p,1-k) * d_du_d_dyk_dPsi_dxk(x,y,p,1-k)\n",
    "    \n",
    "    return term1 + term2 + term3 + term4"
   ]
  },
  {
   "cell_type": "markdown",
   "metadata": {},
   "source": [
    "$$ \\p{}{v} \\left(\\p{\\Psi}{x_k} \\p{^2 \\Psi}{x_k^2} + \\p{\\Psi}{y_k} \\left( \\p{}{x_k} \\p{\\Psi}{y_k} \\right) \\right) = \\left(\\p{}{v}\\p{\\Psi}{x_k}\\right) \\p{^2\\Psi}{x_k^2} + \\p{\\Psi}{x_k} \\left(\\p{}{v}\\p{^2\\Psi}{x_k^2}\\right) + \\left(\\p{}{v}\\p{\\Psi}{y_k}\\right) \\left( \\p{}{x_k}\\p{\\Psi}{y_k} \\right) + \\p{\\Psi}{y_k}\\left( \\p{}{v}\\p{}{x_k}\\p{\\Psi}{y_k} \\right) $$"
   ]
  },
  {
   "cell_type": "code",
   "execution_count": 41,
   "metadata": {
    "ExecuteTime": {
     "end_time": "2018-12-28T13:08:31.628277Z",
     "start_time": "2018-12-28T13:08:31.622065Z"
    }
   },
   "outputs": [],
   "source": [
    "def d_dv_bracket_k(x, y, p, k):\n",
    "    term1 = d_dv_dPsi_dxk(x,y,p,k) * dPsi2_dxj2(x,y,p,k)\n",
    "    term2 = dPsi_dxj(x,y,p,k) * d_dv_dPsi2_dxk2(x,y,p,k)\n",
    "    term3 = d_dv_dPsi_dxk(x,y,p,1-k) * d_dy_dPsi_dx(x,y,p,1-k)\n",
    "    term4 = dPsi_dxj(x,y,p,1-k) * d_dv_d_dyk_dPsi_dxk(x,y,p,1-k)\n",
    "    \n",
    "    return term1 + term2 + term3 + term4"
   ]
  },
  {
   "cell_type": "markdown",
   "metadata": {},
   "source": [
    "$$ \\p{}{w_j}\\p{}{x_k}|\\nabla \\Psi|^{p-2} = (p-2)\\left[ \\p{}{w_j}|\\nabla \\Psi|^{p-4} \\left(\\p{\\Psi}{x_k} \\p{^2 \\Psi}{x_k^2} + \\p{\\Psi}{y_k} \\left( \\p{}{x_k} \\p{\\Psi}{y_k} \\right) \\right)  +  |\\nabla \\Psi|^{p-4} \\p{}{w_j} \\left(\\p{\\Psi}{x_k} \\p{^2 \\Psi}{x_k^2} + \\p{\\Psi}{y_k} \\left( \\p{}{x_k} \\p{\\Psi}{y_k} \\right) \\right) \\right] $$"
   ]
  },
  {
   "cell_type": "code",
   "execution_count": 42,
   "metadata": {
    "ExecuteTime": {
     "end_time": "2018-12-28T13:08:31.636478Z",
     "start_time": "2018-12-28T13:08:31.630933Z"
    }
   },
   "outputs": [],
   "source": [
    "def d_dwj_dNormPsi_dxk(x, y, p, j, k, pLap):\n",
    "    term1 = dNormPsiP_dwj(x,y,p,j,pLap-4) * (dPsi_dxj(x,y,p,k)*dPsi2_dxj2(x,y,p,k) + dPsi_dxj(x,y,p,1-k)*d_dy_dPsi_dx(x,y,p,1-k))\n",
    "    term2 = norm_psi(x,y,p)**(pLap-4) * d_dwj_bracket_k(x,y,p,j,k)\n",
    "    \n",
    "    return (pLap-2)*(term1 + term2)"
   ]
  },
  {
   "cell_type": "markdown",
   "metadata": {},
   "source": [
    "$$ \\p{}{u}\\p{}{x_k}|\\nabla \\Psi|^{p-2} = (p-2)\\left[ \\p{}{u}|\\nabla \\Psi|^{p-4} \\left(\\p{\\Psi}{x_k} \\p{^2 \\Psi}{x_k^2} + \\p{\\Psi}{y_k} \\left( \\p{}{x_k} \\p{\\Psi}{y_k} \\right) \\right)  +  |\\nabla \\Psi|^{p-4} \\p{}{u} \\left(\\p{\\Psi}{x_k} \\p{^2 \\Psi}{x_k^2} + \\p{\\Psi}{y_k} \\left( \\p{}{x_k} \\p{\\Psi}{y_k} \\right) \\right) \\right] $$"
   ]
  },
  {
   "cell_type": "code",
   "execution_count": 43,
   "metadata": {
    "ExecuteTime": {
     "end_time": "2018-12-28T13:08:31.644657Z",
     "start_time": "2018-12-28T13:08:31.639012Z"
    }
   },
   "outputs": [],
   "source": [
    "def d_du_dNormPsi_dxk(x, y, p, k, pLap):\n",
    "    term1 = dNormPsiP_du(x,y,p,pLap-4) * (dPsi_dxj(x,y,p,k)*dPsi2_dxj2(x,y,p,k) + dPsi_dxj(x,y,p,1-k)*d_dy_dPsi_dx(x,y,p,1-k))\n",
    "    term2 = norm_psi(x,y,p)**(pLap-4) * d_du_bracket_k(x,y,p,k)\n",
    "    \n",
    "    return (pLap-2)*(term1 + term2)"
   ]
  },
  {
   "cell_type": "markdown",
   "metadata": {},
   "source": [
    "$$ \\p{}{v}\\p{}{x_k}|\\nabla \\Psi|^{p-2} = (p-2)\\left[ \\p{}{v}|\\nabla \\Psi|^{p-4} \\left(\\p{\\Psi}{x_k} \\p{^2 \\Psi}{x_k^2} + \\p{\\Psi}{y_k} \\left( \\p{}{x_k} \\p{\\Psi}{y_k} \\right) \\right)  +  |\\nabla \\Psi|^{p-4} \\p{}{v} \\left(\\p{\\Psi}{x_k} \\p{^2 \\Psi}{x_k^2} + \\p{\\Psi}{y_k} \\left( \\p{}{x_k} \\p{\\Psi}{y_k} \\right) \\right) \\right] $$"
   ]
  },
  {
   "cell_type": "code",
   "execution_count": 44,
   "metadata": {
    "ExecuteTime": {
     "end_time": "2018-12-28T13:08:31.652156Z",
     "start_time": "2018-12-28T13:08:31.646687Z"
    }
   },
   "outputs": [],
   "source": [
    "def d_dv_dNormPsi_dxk(x, y, p, k, pLap):\n",
    "    term1 = dNormPsiP_dv(x,y,p,pLap-4) * (dPsi_dxj(x,y,p,k)*dPsi2_dxj2(x,y,p,k) + dPsi_dxj(x,y,p,1-k)*d_dy_dPsi_dx(x,y,p,1-k))\n",
    "    term2 = norm_psi(x,y,p)**(pLap-4) * d_dv_bracket_k(x,y,p,k)\n",
    "    \n",
    "    return (pLap-2)*(term1 + term2)"
   ]
  },
  {
   "cell_type": "markdown",
   "metadata": {},
   "source": [
    "$$ \\p{}{w_j} \\left( \\p{}{x_k}|\\nabla \\Psi|^{p-2} \\p{\\Psi}{x_k} \\right) = \\left(\\p{}{w_j}\\p{}{x_k}|\\nabla \\Psi|^{p-2}\\right) \\p{\\Psi}{x_k} + \\p{}{x_k}|\\nabla \\Psi|^{p-2} \\left( \\p{}{w_j}\\p{\\Psi}{x_k} \\right) $$"
   ]
  },
  {
   "cell_type": "code",
   "execution_count": 45,
   "metadata": {
    "ExecuteTime": {
     "end_time": "2018-12-28T13:08:31.658805Z",
     "start_time": "2018-12-28T13:08:31.653962Z"
    }
   },
   "outputs": [],
   "source": [
    "def d_dwj_dNormPsi_dxk_dPsi_dxk(x, y, p, j, k, pLap):\n",
    "    term1 = d_dwj_dNormPsi_dxk(x, y, p, j, k, pLap) * dPsi_dxj(x, y, p, k)\n",
    "    term2 = dNormPsi_dxj(x, y, p, k, pLap) * d_dwj_dPsi_dxk(x, y, p, j, k)\n",
    "    \n",
    "    return term1 + term2"
   ]
  },
  {
   "cell_type": "markdown",
   "metadata": {},
   "source": [
    "$$ \\p{}{u} \\left( \\p{}{x_k}|\\nabla \\Psi|^{p-2} \\p{\\Psi}{x_k} \\right) = \\left(\\p{}{u}\\p{}{x_k}|\\nabla \\Psi|^{p-2}\\right) \\p{\\Psi}{x_k} + \\p{}{x_k}|\\nabla \\Psi|^{p-2} \\left( \\p{}{u}\\p{\\Psi}{x_k} \\right) $$"
   ]
  },
  {
   "cell_type": "code",
   "execution_count": 46,
   "metadata": {
    "ExecuteTime": {
     "end_time": "2018-12-28T13:08:31.665693Z",
     "start_time": "2018-12-28T13:08:31.660774Z"
    }
   },
   "outputs": [],
   "source": [
    "def d_du_dNormPsi_dxk_dPsi_dxk(x, y, p, k, pLap):\n",
    "    term1 = d_du_dNormPsi_dxk(x, y, p, k, pLap) * dPsi_dxj(x, y, p, k)\n",
    "    term2 = dNormPsi_dxj(x, y, p, k, pLap) * d_du_dPsi_dxk(x, y, p, k)\n",
    "    \n",
    "    return term1 + term2"
   ]
  },
  {
   "cell_type": "markdown",
   "metadata": {},
   "source": [
    "$$ \\p{}{v} \\left( \\p{}{x_k}|\\nabla \\Psi|^{p-2} \\p{\\Psi}{x_k} \\right) = \\left(\\p{}{v}\\p{}{x_k}|\\nabla \\Psi|^{p-2}\\right) \\p{\\Psi}{x_k} + \\p{}{x_k}|\\nabla \\Psi|^{p-2} \\left( \\p{}{v}\\p{\\Psi}{x_k} \\right) $$"
   ]
  },
  {
   "cell_type": "code",
   "execution_count": 47,
   "metadata": {
    "ExecuteTime": {
     "end_time": "2018-12-28T13:08:31.671908Z",
     "start_time": "2018-12-28T13:08:31.667675Z"
    }
   },
   "outputs": [],
   "source": [
    "def d_dv_dNormPsi_dxk_dPsi_dxk(x, y, p, k, pLap):\n",
    "    term1 = d_dv_dNormPsi_dxk(x, y, p, k, pLap) * dPsi_dxj(x, y, p, k)\n",
    "    term2 = dNormPsi_dxj(x, y, p, k, pLap) * d_dv_dPsi_dxk(x, y, p, k)\n",
    "    \n",
    "    return term1 + term2"
   ]
  },
  {
   "cell_type": "markdown",
   "metadata": {},
   "source": [
    "$$ \\p{}{w_j} \\left( |\\nabla \\Psi|^{p-2} \\p{^2 \\Psi}{x_k^2} \\right) = \\p{}{w_j}|\\nabla \\Psi|^{p-2} \\p{^2 \\Psi}{x_k^2} + |\\nabla \\Psi|^{p-2} \\left( \\p{}{w_j} \\p{^2 \\Psi}{x_k^2} \\right) $$"
   ]
  },
  {
   "cell_type": "code",
   "execution_count": 48,
   "metadata": {
    "ExecuteTime": {
     "end_time": "2018-12-28T13:08:31.678511Z",
     "start_time": "2018-12-28T13:08:31.673919Z"
    }
   },
   "outputs": [],
   "source": [
    "def d_dwj_NormPsi_dPsi2_dxk2(x, y, p, j, k, pLap):\n",
    "    term1 = dNormPsiP_dwj(x,y,p,j,pLap-2) * dPsi2_dxj2(x,y,p,k)\n",
    "    term2 = norm_psi(x,y,p)**(pLap-2) * d_dwj_dPsi2_dxk2(x,y,p,j,k)\n",
    "    return term1 + term2"
   ]
  },
  {
   "cell_type": "markdown",
   "metadata": {},
   "source": [
    "$$ \\p{}{u} \\left( |\\nabla \\Psi|^{p-2} \\p{^2 \\Psi}{x_k^2} \\right) = \\p{}{u}|\\nabla \\Psi|^{p-2} \\p{^2 \\Psi}{x_k^2} + |\\nabla \\Psi|^{p-2} \\left( \\p{}{u} \\p{^2 \\Psi}{x_k^2} \\right) $$"
   ]
  },
  {
   "cell_type": "code",
   "execution_count": 49,
   "metadata": {
    "ExecuteTime": {
     "end_time": "2018-12-28T13:08:31.685023Z",
     "start_time": "2018-12-28T13:08:31.680399Z"
    }
   },
   "outputs": [],
   "source": [
    "def d_du_NormPsi_dPsi2_dxk2(x, y, p, k, pLap):\n",
    "    term1 = dNormPsiP_du(x,y,p,pLap-2) * dPsi2_dxj2(x,y,p,k)\n",
    "    term2 = norm_psi(x,y,p)**(pLap-2) * d_du_dPsi2_dxk2(x,y,p,k)\n",
    "    return term1 + term2"
   ]
  },
  {
   "cell_type": "markdown",
   "metadata": {},
   "source": [
    "$$ \\p{}{v} \\left( |\\nabla \\Psi|^{p-2} \\p{^2 \\Psi}{x_k^2} \\right) = \\p{}{v}|\\nabla \\Psi|^{p-2} \\p{^2 \\Psi}{x_k^2} + |\\nabla \\Psi|^{p-2} \\left( \\p{}{v} \\p{^2 \\Psi}{x_k^2} \\right) $$"
   ]
  },
  {
   "cell_type": "code",
   "execution_count": 50,
   "metadata": {
    "ExecuteTime": {
     "end_time": "2018-12-28T13:08:31.691165Z",
     "start_time": "2018-12-28T13:08:31.686725Z"
    },
    "code_folding": []
   },
   "outputs": [],
   "source": [
    "def d_dv_NormPsi_dPsi2_dxk2(x, y, p, k, pLap):\n",
    "    term1 = dNormPsiP_dv(x,y,p,pLap-2) * dPsi2_dxj2(x,y,p,k)\n",
    "    term2 = norm_psi(x,y,p)**(pLap-2) * d_dv_dPsi2_dxk2(x,y,p,k)\n",
    "    return term1 + term2"
   ]
  },
  {
   "cell_type": "markdown",
   "metadata": {},
   "source": [
    "## Cost function"
   ]
  },
  {
   "cell_type": "markdown",
   "metadata": {},
   "source": [
    "$$J =  \\sum \\left( \\frac{1}{p} |\\nabla\\Psi|^p  -  f(x_i,y_i) \\Psi(x_i, y_i) \\right) d\\Omega $$"
   ]
  },
  {
   "cell_type": "code",
   "execution_count": 51,
   "metadata": {
    "ExecuteTime": {
     "end_time": "2018-12-28T13:08:31.697793Z",
     "start_time": "2018-12-28T13:08:31.693139Z"
    }
   },
   "outputs": [],
   "source": [
    "def energy(points, p, pLap, dOmega):\n",
    "    energy_sum = []\n",
    "    for x, y in points:\n",
    "        e = (norm_psi(x,y,p)**pLap / pLap - f(x,y)*psi_t(x,y,p)) * dOmega\n",
    "        energy_sum.append(e)\n",
    "    return sum(energy_sum)"
   ]
  },
  {
   "cell_type": "markdown",
   "metadata": {},
   "source": [
    "$$E[\\vec{p}] = \\sum_i \\left\\{ \\p{}{ x}|\\nabla \\Psi|^{p-2} \\p{\\Psi}{ x} + |\\nabla \\Psi|^{p-2} \\p{^2 \\Psi}{ x^2} + \\p{}{ y}|\\nabla \\Psi|^{p-2} \\p{\\Psi}{ y} + |\\nabla \\Psi|^{p-2} \\p{^2 \\Psi}{ y^2} - f(x_i,y_i) \\right\\}^2$$"
   ]
  },
  {
   "cell_type": "code",
   "execution_count": 52,
   "metadata": {
    "ExecuteTime": {
     "end_time": "2018-12-28T13:08:31.705572Z",
     "start_time": "2018-12-28T13:08:31.699663Z"
    }
   },
   "outputs": [],
   "source": [
    "def error(x, y, p, pLap):\n",
    "    term1 = dNormPsi_dxj(x,y,p,0,pLap) * dPsi_dxj(x,y,p,0)\n",
    "    term2 = norm_psi(x,y,p)**(pLap-2) * dPsi2_dxj2(x,y,p,0)\n",
    "    term3 = dNormPsi_dxj(x,y,p,1,pLap) * dPsi_dxj(x,y,p,1)\n",
    "    term4 = norm_psi(x,y,p)**(pLap-2) * dPsi2_dxj2(x,y,p,1)\n",
    "    return term1 + term2 + term3 + term4 - f(x,y)"
   ]
  },
  {
   "cell_type": "code",
   "execution_count": 53,
   "metadata": {
    "ExecuteTime": {
     "end_time": "2018-12-28T13:08:31.711462Z",
     "start_time": "2018-12-28T13:08:31.707459Z"
    }
   },
   "outputs": [],
   "source": [
    "def cost(points, p, pLap):\n",
    "    loss = []\n",
    "    for x, y in points:\n",
    "        err_sq = error(x, y, p, pLap)**2\n",
    "        loss.append(err_sq)\n",
    "\n",
    "    return sum(loss)"
   ]
  },
  {
   "cell_type": "markdown",
   "metadata": {},
   "source": [
    "## Gradients"
   ]
  },
  {
   "cell_type": "markdown",
   "metadata": {},
   "source": [
    "$$ \\p{J}{w_j} = \\sum \\left( \\frac{1}{p} \\p{}{w_j} |\\nabla \\Psi|^p - f(x_i,y_i)\\p{\\Psi}{w_j} \\right) d\\Omega $$"
   ]
  },
  {
   "cell_type": "code",
   "execution_count": 54,
   "metadata": {
    "ExecuteTime": {
     "end_time": "2018-12-28T13:08:31.724927Z",
     "start_time": "2018-12-28T13:08:31.713315Z"
    }
   },
   "outputs": [],
   "source": [
    "def dJ_dwj(points, p, j, pLap, dOmega):\n",
    "    grad_sum = []\n",
    "    for x, y in points:\n",
    "        e = (dNormPsiP_dwj(x,y,p,j,pLap)/pLap - f(x,y)*dPsi_dwj(x,y,p,j)) * dOmega\n",
    "        grad_sum.append(e)\n",
    "    return sum(grad_sum)"
   ]
  },
  {
   "cell_type": "markdown",
   "metadata": {},
   "source": [
    "$$ \\p{J}{u} = \\sum \\left( \\frac{1}{p} \\p{}{u} |\\nabla \\Psi|^p - f(x_i,y_i)\\p{\\Psi}{u} \\right) d\\Omega $$"
   ]
  },
  {
   "cell_type": "code",
   "execution_count": 55,
   "metadata": {
    "ExecuteTime": {
     "end_time": "2018-12-28T13:08:31.740992Z",
     "start_time": "2018-12-28T13:08:31.727484Z"
    }
   },
   "outputs": [],
   "source": [
    "def dJ_du(points, p, pLap, dOmega):\n",
    "    grad_sum = []\n",
    "    for x, y in points:\n",
    "        e = (dNormPsiP_du(x,y,p,pLap)/pLap - f(x,y)*dPsi_du(x,y,p)) * dOmega\n",
    "        grad_sum.append(e)\n",
    "    return sum(grad_sum)"
   ]
  },
  {
   "cell_type": "markdown",
   "metadata": {},
   "source": [
    "$$ \\p{J}{v} = \\sum \\left( \\frac{1}{p} \\p{}{v} |\\nabla \\Psi|^p - f(x_i,y_i)\\p{\\Psi}{v} \\right) d\\Omega $$"
   ]
  },
  {
   "cell_type": "code",
   "execution_count": 56,
   "metadata": {
    "ExecuteTime": {
     "end_time": "2018-12-28T13:08:31.749693Z",
     "start_time": "2018-12-28T13:08:31.743935Z"
    }
   },
   "outputs": [],
   "source": [
    "def dJ_dv(points, p, pLap, dOmega):\n",
    "    grad_sum = []\n",
    "    for x, y in points:\n",
    "        e = (dNormPsiP_dv(x,y,p,pLap)/pLap - f(x,y)*dPsi_dv(x,y,p)) * dOmega\n",
    "        grad_sum.append(e)\n",
    "    return sum(grad_sum)"
   ]
  },
  {
   "cell_type": "markdown",
   "metadata": {},
   "source": [
    "# Training"
   ]
  },
  {
   "cell_type": "markdown",
   "metadata": {},
   "source": [
    "### Initialization"
   ]
  },
  {
   "cell_type": "code",
   "execution_count": 64,
   "metadata": {
    "ExecuteTime": {
     "end_time": "2018-12-28T13:09:19.563212Z",
     "start_time": "2018-12-28T13:09:19.551629Z"
    }
   },
   "outputs": [],
   "source": [
    "np.random.seed(1234)\n",
    "\n",
    "nx = 10\n",
    "dx = 1. / nx\n",
    "dOmega = dx**2\n",
    "pts = (np.linspace(0, 1, nx), np.linspace(0, 1, nx))\n",
    "points = list(itertools.product(pts[0], pts[1]))\n",
    "\n",
    "no_of_nodes = 10\n",
    "\n",
    "p = np.array([1.2*np.random.randn(2,no_of_nodes), 1.2*np.random.randn(no_of_nodes), 1.2*np.random.randn(no_of_nodes)])\n",
    "\n",
    "pLap = 4"
   ]
  },
  {
   "cell_type": "code",
   "execution_count": 65,
   "metadata": {
    "ExecuteTime": {
     "end_time": "2018-12-28T13:09:21.266171Z",
     "start_time": "2018-12-28T13:09:21.221974Z"
    }
   },
   "outputs": [
    {
     "data": {
      "text/plain": [
       "1.4518722415765484"
      ]
     },
     "execution_count": 65,
     "metadata": {},
     "output_type": "execute_result"
    }
   ],
   "source": [
    "energy(points, p, pLap, dOmega)"
   ]
  },
  {
   "cell_type": "code",
   "execution_count": 66,
   "metadata": {
    "ExecuteTime": {
     "end_time": "2018-12-28T13:09:22.587220Z",
     "start_time": "2018-12-28T13:09:22.269057Z"
    }
   },
   "outputs": [
    {
     "data": {
      "text/plain": [
       "569.9231454029484"
      ]
     },
     "execution_count": 66,
     "metadata": {},
     "output_type": "execute_result"
    }
   ],
   "source": [
    "cost(points,p,pLap)"
   ]
  },
  {
   "cell_type": "markdown",
   "metadata": {},
   "source": [
    "### Stochastic Gradient Descent"
   ]
  },
  {
   "cell_type": "code",
   "execution_count": 67,
   "metadata": {
    "ExecuteTime": {
     "end_time": "2018-12-28T13:14:24.186493Z",
     "start_time": "2018-12-28T13:09:28.556702Z"
    },
    "pixiedust": {
     "displayParams": {}
    },
    "scrolled": true
   },
   "outputs": [
    {
     "ename": "KeyboardInterrupt",
     "evalue": "",
     "output_type": "error",
     "traceback": [
      "\u001b[0;31m---------------------------------------------------------------------------\u001b[0m",
      "\u001b[0;31mKeyboardInterrupt\u001b[0m                         Traceback (most recent call last)",
      "\u001b[0;32m<ipython-input-67-6dec6b1c0eee>\u001b[0m in \u001b[0;36m<module>\u001b[0;34m\u001b[0m\n\u001b[1;32m     21\u001b[0m     \u001b[0mp\u001b[0m\u001b[0;34m[\u001b[0m\u001b[0;36m0\u001b[0m\u001b[0;34m]\u001b[0m\u001b[0;34m[\u001b[0m\u001b[0;36m0\u001b[0m\u001b[0;34m]\u001b[0m \u001b[0;34m-=\u001b[0m \u001b[0mlr\u001b[0m \u001b[0;34m*\u001b[0m \u001b[0mdJ_dwj\u001b[0m\u001b[0;34m(\u001b[0m\u001b[0mpoints\u001b[0m\u001b[0;34m,\u001b[0m \u001b[0mp\u001b[0m\u001b[0;34m,\u001b[0m \u001b[0;36m0\u001b[0m\u001b[0;34m,\u001b[0m \u001b[0mpLap\u001b[0m\u001b[0;34m,\u001b[0m \u001b[0mdOmega\u001b[0m\u001b[0;34m)\u001b[0m\u001b[0;34m\u001b[0m\u001b[0;34m\u001b[0m\u001b[0m\n\u001b[1;32m     22\u001b[0m     \u001b[0mp\u001b[0m\u001b[0;34m[\u001b[0m\u001b[0;36m0\u001b[0m\u001b[0;34m]\u001b[0m\u001b[0;34m[\u001b[0m\u001b[0;36m1\u001b[0m\u001b[0;34m]\u001b[0m \u001b[0;34m-=\u001b[0m \u001b[0mlr\u001b[0m \u001b[0;34m*\u001b[0m \u001b[0mdJ_dwj\u001b[0m\u001b[0;34m(\u001b[0m\u001b[0mpoints\u001b[0m\u001b[0;34m,\u001b[0m \u001b[0mp\u001b[0m\u001b[0;34m,\u001b[0m \u001b[0;36m1\u001b[0m\u001b[0;34m,\u001b[0m \u001b[0mpLap\u001b[0m\u001b[0;34m,\u001b[0m \u001b[0mdOmega\u001b[0m\u001b[0;34m)\u001b[0m\u001b[0;34m\u001b[0m\u001b[0;34m\u001b[0m\u001b[0m\n\u001b[0;32m---> 23\u001b[0;31m     \u001b[0mp\u001b[0m\u001b[0;34m[\u001b[0m\u001b[0;36m1\u001b[0m\u001b[0;34m]\u001b[0m \u001b[0;34m-=\u001b[0m \u001b[0mlr\u001b[0m \u001b[0;34m*\u001b[0m \u001b[0mdJ_du\u001b[0m\u001b[0;34m(\u001b[0m\u001b[0mpoints\u001b[0m\u001b[0;34m,\u001b[0m \u001b[0mp\u001b[0m\u001b[0;34m,\u001b[0m \u001b[0mpLap\u001b[0m\u001b[0;34m,\u001b[0m \u001b[0mdOmega\u001b[0m\u001b[0;34m)\u001b[0m\u001b[0;34m\u001b[0m\u001b[0;34m\u001b[0m\u001b[0m\n\u001b[0m\u001b[1;32m     24\u001b[0m     \u001b[0mp\u001b[0m\u001b[0;34m[\u001b[0m\u001b[0;36m2\u001b[0m\u001b[0;34m]\u001b[0m \u001b[0;34m-=\u001b[0m \u001b[0mlr\u001b[0m \u001b[0;34m*\u001b[0m \u001b[0mdJ_dv\u001b[0m\u001b[0;34m(\u001b[0m\u001b[0mpoints\u001b[0m\u001b[0;34m,\u001b[0m \u001b[0mp\u001b[0m\u001b[0;34m,\u001b[0m \u001b[0mpLap\u001b[0m\u001b[0;34m,\u001b[0m \u001b[0mdOmega\u001b[0m\u001b[0;34m)\u001b[0m\u001b[0;34m\u001b[0m\u001b[0;34m\u001b[0m\u001b[0m\n\u001b[1;32m     25\u001b[0m \u001b[0;34m\u001b[0m\u001b[0m\n",
      "\u001b[0;32m<ipython-input-55-cee9fc8eec43>\u001b[0m in \u001b[0;36mdJ_du\u001b[0;34m(points, p, pLap, dOmega)\u001b[0m\n\u001b[1;32m      2\u001b[0m     \u001b[0mgrad_sum\u001b[0m \u001b[0;34m=\u001b[0m \u001b[0;34m[\u001b[0m\u001b[0;34m]\u001b[0m\u001b[0;34m\u001b[0m\u001b[0;34m\u001b[0m\u001b[0m\n\u001b[1;32m      3\u001b[0m     \u001b[0;32mfor\u001b[0m \u001b[0mx\u001b[0m\u001b[0;34m,\u001b[0m \u001b[0my\u001b[0m \u001b[0;32min\u001b[0m \u001b[0mpoints\u001b[0m\u001b[0;34m:\u001b[0m\u001b[0;34m\u001b[0m\u001b[0;34m\u001b[0m\u001b[0m\n\u001b[0;32m----> 4\u001b[0;31m         \u001b[0me\u001b[0m \u001b[0;34m=\u001b[0m \u001b[0;34m(\u001b[0m\u001b[0mdNormPsiP_du\u001b[0m\u001b[0;34m(\u001b[0m\u001b[0mx\u001b[0m\u001b[0;34m,\u001b[0m\u001b[0my\u001b[0m\u001b[0;34m,\u001b[0m\u001b[0mp\u001b[0m\u001b[0;34m,\u001b[0m\u001b[0mpLap\u001b[0m\u001b[0;34m)\u001b[0m\u001b[0;34m/\u001b[0m\u001b[0mpLap\u001b[0m \u001b[0;34m-\u001b[0m \u001b[0mf\u001b[0m\u001b[0;34m(\u001b[0m\u001b[0mx\u001b[0m\u001b[0;34m,\u001b[0m\u001b[0my\u001b[0m\u001b[0;34m)\u001b[0m\u001b[0;34m*\u001b[0m\u001b[0mdPsi_du\u001b[0m\u001b[0;34m(\u001b[0m\u001b[0mx\u001b[0m\u001b[0;34m,\u001b[0m\u001b[0my\u001b[0m\u001b[0;34m,\u001b[0m\u001b[0mp\u001b[0m\u001b[0;34m)\u001b[0m\u001b[0;34m)\u001b[0m \u001b[0;34m*\u001b[0m \u001b[0mdOmega\u001b[0m\u001b[0;34m\u001b[0m\u001b[0;34m\u001b[0m\u001b[0m\n\u001b[0m\u001b[1;32m      5\u001b[0m         \u001b[0mgrad_sum\u001b[0m\u001b[0;34m.\u001b[0m\u001b[0mappend\u001b[0m\u001b[0;34m(\u001b[0m\u001b[0me\u001b[0m\u001b[0;34m)\u001b[0m\u001b[0;34m\u001b[0m\u001b[0;34m\u001b[0m\u001b[0m\n\u001b[1;32m      6\u001b[0m     \u001b[0;32mreturn\u001b[0m \u001b[0msum\u001b[0m\u001b[0;34m(\u001b[0m\u001b[0mgrad_sum\u001b[0m\u001b[0;34m)\u001b[0m\u001b[0;34m\u001b[0m\u001b[0;34m\u001b[0m\u001b[0m\n",
      "\u001b[0;32m<ipython-input-34-5e4b712e16ed>\u001b[0m in \u001b[0;36mdNormPsiP_du\u001b[0;34m(x, y, p, P)\u001b[0m\n\u001b[1;32m      1\u001b[0m \u001b[0;32mdef\u001b[0m \u001b[0mdNormPsiP_du\u001b[0m\u001b[0;34m(\u001b[0m\u001b[0mx\u001b[0m\u001b[0;34m,\u001b[0m \u001b[0my\u001b[0m\u001b[0;34m,\u001b[0m \u001b[0mp\u001b[0m\u001b[0;34m,\u001b[0m \u001b[0mP\u001b[0m\u001b[0;34m)\u001b[0m\u001b[0;34m:\u001b[0m\u001b[0;34m\u001b[0m\u001b[0;34m\u001b[0m\u001b[0m\n\u001b[0;32m----> 2\u001b[0;31m     \u001b[0;32mreturn\u001b[0m \u001b[0mP\u001b[0m\u001b[0;34m*\u001b[0m\u001b[0mnorm_psi\u001b[0m\u001b[0;34m(\u001b[0m\u001b[0mx\u001b[0m\u001b[0;34m,\u001b[0m\u001b[0my\u001b[0m\u001b[0;34m,\u001b[0m\u001b[0mp\u001b[0m\u001b[0;34m)\u001b[0m\u001b[0;34m**\u001b[0m\u001b[0;34m(\u001b[0m\u001b[0mP\u001b[0m\u001b[0;34m-\u001b[0m\u001b[0;36m2\u001b[0m\u001b[0;34m)\u001b[0m\u001b[0;34m*\u001b[0m\u001b[0;34m(\u001b[0m\u001b[0mdPsi_dxj\u001b[0m\u001b[0;34m(\u001b[0m\u001b[0mx\u001b[0m\u001b[0;34m,\u001b[0m\u001b[0my\u001b[0m\u001b[0;34m,\u001b[0m\u001b[0mp\u001b[0m\u001b[0;34m,\u001b[0m\u001b[0;36m0\u001b[0m\u001b[0;34m)\u001b[0m\u001b[0;34m*\u001b[0m\u001b[0md_du_dPsi_dxk\u001b[0m\u001b[0;34m(\u001b[0m\u001b[0mx\u001b[0m\u001b[0;34m,\u001b[0m\u001b[0my\u001b[0m\u001b[0;34m,\u001b[0m\u001b[0mp\u001b[0m\u001b[0;34m,\u001b[0m\u001b[0;36m0\u001b[0m\u001b[0;34m)\u001b[0m \u001b[0;34m+\u001b[0m \u001b[0mdPsi_dxj\u001b[0m\u001b[0;34m(\u001b[0m\u001b[0mx\u001b[0m\u001b[0;34m,\u001b[0m\u001b[0my\u001b[0m\u001b[0;34m,\u001b[0m\u001b[0mp\u001b[0m\u001b[0;34m,\u001b[0m\u001b[0;36m1\u001b[0m\u001b[0;34m)\u001b[0m\u001b[0;34m*\u001b[0m\u001b[0md_du_dPsi_dxk\u001b[0m\u001b[0;34m(\u001b[0m\u001b[0mx\u001b[0m\u001b[0;34m,\u001b[0m\u001b[0my\u001b[0m\u001b[0;34m,\u001b[0m\u001b[0mp\u001b[0m\u001b[0;34m,\u001b[0m\u001b[0;36m1\u001b[0m\u001b[0;34m)\u001b[0m\u001b[0;34m)\u001b[0m\u001b[0;34m\u001b[0m\u001b[0;34m\u001b[0m\u001b[0m\n\u001b[0m",
      "\u001b[0;32m<ipython-input-25-29b5c537f2bd>\u001b[0m in \u001b[0;36mnorm_psi\u001b[0;34m(x, y, p)\u001b[0m\n\u001b[1;32m      1\u001b[0m \u001b[0;32mdef\u001b[0m \u001b[0mnorm_psi\u001b[0m\u001b[0;34m(\u001b[0m\u001b[0mx\u001b[0m\u001b[0;34m,\u001b[0m \u001b[0my\u001b[0m\u001b[0;34m,\u001b[0m \u001b[0mp\u001b[0m\u001b[0;34m)\u001b[0m\u001b[0;34m:\u001b[0m\u001b[0;34m\u001b[0m\u001b[0;34m\u001b[0m\u001b[0m\n\u001b[0;32m----> 2\u001b[0;31m     \u001b[0;32mreturn\u001b[0m \u001b[0mnp\u001b[0m\u001b[0;34m.\u001b[0m\u001b[0msqrt\u001b[0m\u001b[0;34m(\u001b[0m\u001b[0mdPsi_dxj\u001b[0m\u001b[0;34m(\u001b[0m\u001b[0mx\u001b[0m\u001b[0;34m,\u001b[0m\u001b[0my\u001b[0m\u001b[0;34m,\u001b[0m\u001b[0mp\u001b[0m\u001b[0;34m,\u001b[0m\u001b[0;36m0\u001b[0m\u001b[0;34m)\u001b[0m\u001b[0;34m**\u001b[0m\u001b[0;36m2\u001b[0m \u001b[0;34m+\u001b[0m \u001b[0mdPsi_dxj\u001b[0m\u001b[0;34m(\u001b[0m\u001b[0mx\u001b[0m\u001b[0;34m,\u001b[0m\u001b[0my\u001b[0m\u001b[0;34m,\u001b[0m\u001b[0mp\u001b[0m\u001b[0;34m,\u001b[0m\u001b[0;36m1\u001b[0m\u001b[0;34m)\u001b[0m\u001b[0;34m**\u001b[0m\u001b[0;36m2\u001b[0m\u001b[0;34m)\u001b[0m\u001b[0;34m\u001b[0m\u001b[0;34m\u001b[0m\u001b[0m\n\u001b[0m",
      "\u001b[0;31mKeyboardInterrupt\u001b[0m: "
     ]
    }
   ],
   "source": [
    "# %%pixie_debugger\n",
    "\n",
    "file = open('output/output.txt', 'w')\n",
    "\n",
    "lr = 0.010000000\n",
    "itr = 10000\n",
    "\n",
    "energy_rate = []\n",
    "cost_rate = []\n",
    "\n",
    "grw0 = grw1 = gru = grv = []\n",
    "\n",
    "np.seterr(over='raise', under='raise')\n",
    "\n",
    "start=len(energy_rate)-1\n",
    "if start<1:\n",
    "    energy_rate.append(energy(points, p, pLap, dOmega))\n",
    "    cost_rate.append(cost(points,p,pLap))\n",
    "\n",
    "for i in range(start, start+itr):\n",
    "    p[0][0] -= lr * dJ_dwj(points, p, 0, pLap, dOmega)    \n",
    "    p[0][1] -= lr * dJ_dwj(points, p, 1, pLap, dOmega)\n",
    "    p[1] -= lr * dJ_du(points, p, pLap, dOmega)\n",
    "    p[2] -= lr * dJ_dv(points, p, pLap, dOmega)\n",
    "\n",
    "    energy_rate.append(energy(points,p,pLap,dOmega))\n",
    "    cost_rate.append(cost(points,p,pLap))\n",
    "\n",
    "    file.write('Itr:{} Energy:{} Cost:{} energy_imp:{} cost_imp:{}'.format(i+1,energy_rate[i+1], cost_rate[i+1], energy_rate[i]-energy_rate[i+1], cost_rate[i]-cost_rate[i+1]) + '\\n')\n",
    "    \n",
    "    if i%50==0:\n",
    "        file.flush()\n",
    "\n",
    "file.close()\n",
    "\n",
    "np.savez(\"output/nn_params.npz\", p)\n",
    "np.savez(\"output/energy_rate.npz\", energy_rate)"
   ]
  },
  {
   "cell_type": "markdown",
   "metadata": {},
   "source": [
    "### Save the result"
   ]
  },
  {
   "cell_type": "code",
   "execution_count": 154,
   "metadata": {},
   "outputs": [],
   "source": [
    "# np.savez(\"nn_params.npz\", p)\n",
    "# np.savez(\"err_rate.npz\", err_rate)"
   ]
  },
  {
   "cell_type": "code",
   "execution_count": 67,
   "metadata": {},
   "outputs": [],
   "source": [
    "p = np.load(\"nn_params.npz\")['arr_0']\n",
    "err_rate = np.load(\"err_rate.npz\")['arr_0']"
   ]
  },
  {
   "cell_type": "markdown",
   "metadata": {},
   "source": [
    "# Graphs"
   ]
  },
  {
   "cell_type": "markdown",
   "metadata": {},
   "source": [
    "### Error vs Iterations"
   ]
  },
  {
   "cell_type": "code",
   "execution_count": 56,
   "metadata": {},
   "outputs": [],
   "source": [
    "def plot_cost(err_rate, min_it=0, max_it=None):\n",
    "#     %matplotlib inline\n",
    "    plt.figure()\n",
    "    plt.gca().ticklabel_format(useOffset=False)\n",
    "    plt.gca().set_xlabel('Iterations')\n",
    "    plt.gca().set_ylabel('Cost')\n",
    "    plt.plot(np.arange(len(err_rate[min_it:max_it])), np.array(err_rate[min_it:max_it]))\n",
    "    plt.ticklabel_format(style='plain', axis='y')\n",
    "    plt.show()"
   ]
  },
  {
   "cell_type": "code",
   "execution_count": 71,
   "metadata": {},
   "outputs": [
    {
     "data": {
      "image/png": "[encoded data removed]",
      "text/plain": [
       "<Figure size 432x288 with 1 Axes>"
      ]
     },
     "metadata": {
      "needs_background": "light"
     },
     "output_type": "display_data"
    }
   ],
   "source": [
    "plot_cost(err_rate,1,1000)"
   ]
  },
  {
   "cell_type": "code",
   "execution_count": null,
   "metadata": {},
   "outputs": [],
   "source": []
  },
  {
   "cell_type": "code",
   "execution_count": null,
   "metadata": {},
   "outputs": [],
   "source": []
  },
  {
   "cell_type": "code",
   "execution_count": 72,
   "metadata": {},
   "outputs": [],
   "source": [
    "a = np.sum(0.01*np.array([np.linalg.norm(psi_t(x,y,p) - psi_a(x,y))**pLap for x, y in points]))**(1/pLap)"
   ]
  },
  {
   "cell_type": "code",
   "execution_count": 73,
   "metadata": {},
   "outputs": [],
   "source": [
    "b = np.sum([0.01*((dPsi_dxj(x,y,p,0)-psi_a_dx(x,y))**2 + (dPsi_dxj(x,y,p,1)-psi_a_dy(x,y))**2)**(pLap/2) for x, y in points])**(1/pLap)"
   ]
  },
  {
   "cell_type": "code",
   "execution_count": 74,
   "metadata": {},
   "outputs": [
    {
     "data": {
      "text/plain": [
       "0.038832546344177626"
      ]
     },
     "execution_count": 74,
     "metadata": {},
     "output_type": "execute_result"
    }
   ],
   "source": [
    "a+b"
   ]
  },
  {
   "cell_type": "code",
   "execution_count": 75,
   "metadata": {},
   "outputs": [],
   "source": [
    "norm_psi_a = np.sum(0.01*np.array([np.linalg.norm(psi_a(x,y))**pLap for x, y in points]))**(1/pLap) + np.sum([0.01*(psi_a_dx(x,y)**2 + psi_a_dy(x,y)**2)**(pLap/2) for x, y in points])**(1/pLap)"
   ]
  },
  {
   "cell_type": "code",
   "execution_count": 76,
   "metadata": {},
   "outputs": [
    {
     "data": {
      "text/plain": [
       "0.9360177994519696"
      ]
     },
     "execution_count": 76,
     "metadata": {},
     "output_type": "execute_result"
    }
   ],
   "source": [
    "norm_psi_a"
   ]
  },
  {
   "cell_type": "code",
   "execution_count": 77,
   "metadata": {},
   "outputs": [
    {
     "data": {
      "text/plain": [
       "0.04148697425082488"
      ]
     },
     "execution_count": 77,
     "metadata": {},
     "output_type": "execute_result"
    }
   ],
   "source": [
    "(a+b)/norm_psi_a"
   ]
  },
  {
   "cell_type": "code",
   "execution_count": null,
   "metadata": {},
   "outputs": [],
   "source": []
  },
  {
   "cell_type": "code",
   "execution_count": null,
   "metadata": {},
   "outputs": [],
   "source": []
  },
  {
   "cell_type": "markdown",
   "metadata": {},
   "source": [
    "### Solution Accuracy on the domain"
   ]
  },
  {
   "cell_type": "code",
   "execution_count": 78,
   "metadata": {
    "scrolled": true
   },
   "outputs": [
    {
     "ename": "TypeError",
     "evalue": "ticklabel_format() got an unexpected keyword argument 'useMathText'",
     "output_type": "error",
     "traceback": [
      "\u001b[0;31m---------------------------------------------------------------------------\u001b[0m",
      "\u001b[0;31mTypeError\u001b[0m                                 Traceback (most recent call last)",
      "\u001b[0;32m<ipython-input-78-394bba34e910>\u001b[0m in \u001b[0;36m<module>\u001b[0;34m\u001b[0m\n\u001b[1;32m     10\u001b[0m \u001b[0;34m\u001b[0m\u001b[0m\n\u001b[1;32m     11\u001b[0m \u001b[0max\u001b[0m\u001b[0;34m.\u001b[0m\u001b[0mplot_surface\u001b[0m\u001b[0;34m(\u001b[0m\u001b[0mX\u001b[0m\u001b[0;34m,\u001b[0m \u001b[0mY\u001b[0m\u001b[0;34m,\u001b[0m \u001b[0mZ\u001b[0m\u001b[0;34m,\u001b[0m \u001b[0mcmap\u001b[0m\u001b[0;34m=\u001b[0m\u001b[0mcm\u001b[0m\u001b[0;34m.\u001b[0m\u001b[0mcoolwarm\u001b[0m\u001b[0;34m)\u001b[0m\u001b[0;34m\u001b[0m\u001b[0;34m\u001b[0m\u001b[0m\n\u001b[0;32m---> 12\u001b[0;31m \u001b[0max\u001b[0m\u001b[0;34m.\u001b[0m\u001b[0mticklabel_format\u001b[0m\u001b[0;34m(\u001b[0m\u001b[0mstyle\u001b[0m\u001b[0;34m=\u001b[0m\u001b[0;34m'sci'\u001b[0m\u001b[0;34m,\u001b[0m \u001b[0maxis\u001b[0m\u001b[0;34m=\u001b[0m\u001b[0;34m'z'\u001b[0m\u001b[0;34m,\u001b[0m \u001b[0mscilimits\u001b[0m\u001b[0;34m=\u001b[0m\u001b[0;34m(\u001b[0m\u001b[0;36m0\u001b[0m\u001b[0;34m,\u001b[0m\u001b[0;36m0\u001b[0m\u001b[0;34m)\u001b[0m\u001b[0;34m,\u001b[0m \u001b[0museOffset\u001b[0m\u001b[0;34m=\u001b[0m\u001b[0;32mTrue\u001b[0m\u001b[0;34m,\u001b[0m \u001b[0museMathText\u001b[0m\u001b[0;34m=\u001b[0m\u001b[0;32mTrue\u001b[0m\u001b[0;34m)\u001b[0m\u001b[0;34m\u001b[0m\u001b[0;34m\u001b[0m\u001b[0m\n\u001b[0m\u001b[1;32m     13\u001b[0m \u001b[0;34m\u001b[0m\u001b[0m\n\u001b[1;32m     14\u001b[0m \u001b[0;34m\u001b[0m\u001b[0m\n",
      "\u001b[0;31mTypeError\u001b[0m: ticklabel_format() got an unexpected keyword argument 'useMathText'"
     ]
    },
    {
     "data": {
      "image/png": "[encoded data removed]",
      "text/plain": [
       "<Figure size 432x288 with 1 Axes>"
      ]
     },
     "metadata": {
      "needs_background": "light"
     },
     "output_type": "display_data"
    }
   ],
   "source": [
    "d_x=0.01\n",
    "\n",
    "fig = plt.figure()\n",
    "ax = fig.add_subplot(111, projection='3d')\n",
    "x = y = np.arange(0, 1+d_x, d_x)\n",
    "X, Y = np.meshgrid(x, y)\n",
    "\n",
    "zs = np.array([psi_a_dy(x,y)-dPsi_dxj(x,y,p,1) for x,y in zip(np.ravel(X), np.ravel(Y))])\n",
    "Z = zs.reshape(X.shape)\n",
    "\n",
    "ax.plot_surface(X, Y, Z, cmap=cm.coolwarm)\n",
    "ax.ticklabel_format(style='sci', axis='z', scilimits=(0,0), useOffset=True, useMathText=True)\n",
    "\n",
    "\n",
    "ax.set_xlabel('x')\n",
    "ax.set_ylabel('y')\n",
    "ax.set_zlabel('Accuracy')\n",
    "\n",
    "# plt.title(r\"$\\frac{\\partial \\Psi_a}{\\partial y} - \\frac{\\partial \\Psi_t}{\\partial y}$\")\n",
    "\n",
    "plt.show()"
   ]
  },
  {
   "cell_type": "code",
   "execution_count": null,
   "metadata": {},
   "outputs": [],
   "source": []
  }
 ],
 "metadata": {
  "celltoolbar": "Raw Cell Format",
  "kernelspec": {
   "display_name": "Python 3",
   "language": "python",
   "name": "python3"
  },
  "language_info": {
   "codemirror_mode": {
    "name": "ipython",
    "version": 3
   },
   "file_extension": ".py",
   "mimetype": "text/x-python",
   "name": "python",
   "nbconvert_exporter": "python",
   "pygments_lexer": "ipython3",
   "version": "3.6.7"
  },
  "toc": {
   "base_numbering": 1,
   "nav_menu": {},
   "number_sections": true,
   "sideBar": true,
   "skip_h1_title": false,
   "title_cell": "Table of Contents",
   "title_sidebar": "Contents",
   "toc_cell": false,
   "toc_position": {},
   "toc_section_display": true,
   "toc_window_display": false
  },
  "varInspector": {
   "cols": {
    "lenName": 16,
    "lenType": 16,
    "lenVar": 40
   },
   "kernels_config": {
    "python": {
     "delete_cmd_postfix": "",
     "delete_cmd_prefix": "del ",
     "library": "var_list.py",
     "varRefreshCmd": "print(var_dic_list())"
    },
    "r": {
     "delete_cmd_postfix": ") ",
     "delete_cmd_prefix": "rm(",
     "library": "var_list.r",
     "varRefreshCmd": "cat(var_dic_list()) "
    }
   },
   "types_to_exclude": [
    "module",
    "function",
    "builtin_function_or_method",
    "instance",
    "_Feature"
   ],
   "window_display": false
  }
 },
 "nbformat": 4,
 "nbformat_minor": 2
}
