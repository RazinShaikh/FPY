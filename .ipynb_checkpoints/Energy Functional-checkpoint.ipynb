{
 "cells": [
  {
   "cell_type": "markdown",
   "metadata": {
    "heading_collapsed": true,
    "slideshow": {
     "slide_type": "-"
    }
   },
   "source": [
    "# Imports"
   ]
  },
  {
   "cell_type": "code",
   "execution_count": 1,
   "metadata": {
    "ExecuteTime": {
     "end_time": "2019-02-12T07:47:00.628106Z",
     "start_time": "2019-02-12T07:46:59.023890Z"
    },
    "hidden": true
   },
   "outputs": [
    {
     "name": "stdout",
     "output_type": "stream",
     "text": [
      "Pixiedust database opened successfully\n"
     ]
    },
    {
     "data": {
      "text/html": [
       "\n",
       "        <div style=\"margin:10px\">\n",
       "            <a href=\"https://github.com/ibm-watson-data-lab/pixiedust\" target=\"_new\">\n",
       "                <img src=\"https://github.com/ibm-watson-data-lab/pixiedust/raw/master/docs/_static/pd_icon32.png\" style=\"float:left;margin-right:10px\"/>\n",
       "            </a>\n",
       "            <span>Pixiedust version 1.1.14</span>\n",
       "        </div>\n",
       "        "
      ],
      "text/plain": [
       "<IPython.core.display.HTML object>"
      ]
     },
     "metadata": {},
     "output_type": "display_data"
    },
    {
     "data": {
      "text/html": [
       "<div>Warning: You are not running the latest version of PixieDust. Current is 1.1.14, Latest is 1.1.15</div>"
      ],
      "text/plain": [
       "<IPython.core.display.HTML object>"
      ]
     },
     "metadata": {},
     "output_type": "display_data"
    },
    {
     "data": {
      "text/html": [
       "\n",
       "                <div>Please copy and run the following command in a new cell to upgrade: <span style=\"background-color:#ececec;font-family:monospace;padding:0 5px\">!pip install --user --upgrade pixiedust</span></div>\n",
       "            "
      ],
      "text/plain": [
       "<IPython.core.display.HTML object>"
      ]
     },
     "metadata": {},
     "output_type": "display_data"
    },
    {
     "data": {
      "text/html": [
       "<div>Please restart kernel after upgrading.</div>"
      ],
      "text/plain": [
       "<IPython.core.display.HTML object>"
      ]
     },
     "metadata": {},
     "output_type": "display_data"
    }
   ],
   "source": [
    "import numpy as np\n",
    "from numpy import *\n",
    "import itertools\n",
    "%matplotlib notebook\n",
    "from matplotlib import pyplot as plt\n",
    "from mpl_toolkits.mplot3d import Axes3D\n",
    "from matplotlib import cm\n",
    "import time\n",
    "\n",
    "import pixiedust"
   ]
  },
  {
   "cell_type": "markdown",
   "metadata": {
    "hidden": true
   },
   "source": [
    "Defining Latex Macros. DO NOT DELETE THIS CELL\n",
    "$\\newcommand\\p[2]{\\frac{\\partial #1}{\\partial #2}}$"
   ]
  },
  {
   "cell_type": "markdown",
   "metadata": {
    "heading_collapsed": true
   },
   "source": [
    "# Introduction"
   ]
  },
  {
   "cell_type": "markdown",
   "metadata": {
    "hidden": true
   },
   "source": [
    "Consider the following $p$-Laplacian equation:\n",
    "\n",
    "$$\\Delta_p \\Psi(x,y)= \\sin(\\pi  x)\\\\\n",
    "\\left(\\frac{4. (0.5\\, -1. y)^2 \\sin ^2(\\pi  x)}{\\left(\\pi ^2 (y-1)^2 y^2 \\cos ^2(\\pi  x)+(1-2 y)^2 \\sin ^2(\\pi  x)\\right)^{1.25}}+\\frac{9.8696 y^2-9.8696 y-2.}{\\left(\\pi ^2 (y-1)^2 y^2 \\cos ^2(\\pi  x)+(1-2 y)^2 \\sin ^2(\\pi  x)\\right)^{0.25}}-\\frac{48.7045 y \\left(1. y^5-3. y^4+2.18943 y^3+0.621139 y^2-1.01321 y+0.202642\\right) \\cos ^2(\\pi  x)}{\\left(\\pi ^2 (y-1)^2 y^2 \\cos ^2(\\pi  x)+(1-2 y)^2 \\sin ^2(\\pi  x)\\right)^{1.25}}\\right) $$\n",
    "\n",
    "$x \\in [0,1],\\ y \\in [0,1]$ with *Dirichlet* BC: $\\Psi(0,y) = 0$, $\\Psi(1,y) = 0$, $\\Psi(x,0) = 0$ and $\\Psi(x,1) = 0$.\n",
    "\n",
    "For this case, we will take $p=1.5$."
   ]
  },
  {
   "cell_type": "markdown",
   "metadata": {
    "hidden": true
   },
   "source": [
    "$$\\Delta_p \\Psi(x,y) = f(x,y)$$"
   ]
  },
  {
   "cell_type": "markdown",
   "metadata": {
    "hidden": true
   },
   "source": [
    "For $p=4$, $$ f(x,y) = \\pi ^2 (y-1) y \\left(3 \\pi ^2 y^4-6 \\pi ^2 y^3+3 \\left(\\pi ^2-6\\right) y^2+18 y-4\\right) \\sin (\\pi  x) \\cos ^2(\\pi  x)+\\left(\\pi ^2 (y-1) y-6\\right) (1-2 y)^2 \\sin ^3(\\pi  x) $$"
   ]
  },
  {
   "cell_type": "markdown",
   "metadata": {
    "heading_collapsed": true
   },
   "source": [
    "# Defining functions"
   ]
  },
  {
   "cell_type": "code",
   "execution_count": 2,
   "metadata": {
    "ExecuteTime": {
     "end_time": "2019-02-12T12:50:39.489330Z",
     "start_time": "2019-02-12T12:50:39.477910Z"
    },
    "hidden": true
   },
   "outputs": [],
   "source": [
    "#p=4\n",
    "def f(x,y):\n",
    "    return pi**2 * (y-1)*y*(3*pi**2 *y**4 - 6*pi**2 *y**3 + 3*(pi**2-6)*y**2 + 18*y -4) \\\n",
    "           * sin(pi*x)*cos(pi*x)**2 \\\n",
    "           + (pi**2*(y-1)*y - 6)*(1-2*y)**2 * sin(pi*x)**3"
   ]
  },
  {
   "cell_type": "code",
   "execution_count": 3,
   "metadata": {
    "ExecuteTime": {
     "end_time": "2019-02-06T08:50:20.372072Z",
     "start_time": "2019-02-06T08:50:20.347994Z"
    },
    "hidden": true
   },
   "outputs": [],
   "source": [
    "# #p=1.5\n",
    "# def f(x, y):\n",
    "#     term1 = ( 4*(0.5-y)**2 * np.sin(np.pi*x)**2 ) /\\\n",
    "#             ( (np.pi**2 * (y-1)**2 * y**2 * np.cos(np.pi*x)**2 + (1-2*y)**2 * np.sin(np.pi*x)**2)**1.25 )\n",
    "    \n",
    "#     term2 = ( 9.8696*y**2 - 9.8696*y - 2 ) /\\\n",
    "#             ( (np.pi**2 * (y-1)**2 * y**2 * np.cos(np.pi*x)**2 + (1-2*y)**2 * np.sin(np.pi*x)**2)**0.25 )\n",
    "        \n",
    "#     term3 = ( 48.7405*y*(y**5 - 3*y**4 + 2.18943*y**3 + 0.621139*y**2 - 1.01321*y + 0.202642)*np.cos(np.pi*x)**2 ) /\\\n",
    "#             ( (np.pi**2 * (y-1)**2 * y**2 * np.cos(np.pi*x)**2 + (1-2*y)**2 * np.sin(np.pi*x)**2)**1.25 )\n",
    "    \n",
    "#     return term1 + term2 - term3"
   ]
  },
  {
   "cell_type": "code",
   "execution_count": 4,
   "metadata": {
    "ExecuteTime": {
     "end_time": "2019-02-06T08:50:20.393507Z",
     "start_time": "2019-02-06T08:50:20.390648Z"
    },
    "hidden": true
   },
   "outputs": [],
   "source": [
    "# x, y = symbols('x y')\n",
    "\n",
    "# expr  = ( 4*(0.5-y)**2 * sin(pi*x)**2 ) /\\\n",
    "#         ( (pi**2 * (y-1)**2 * y**2 * cos(pi*x)**2 + (1-2*y)**2 * sin(pi*x)**2)**1.25 ) +\\\n",
    "#         ( 9.8696*y**2 - 9.8696*y - 2 ) /\\\n",
    "#         ( (pi**2 * (y-1)**2 * y**2 * cos(pi*x)**2 + (1-2*y)**2 * sin(pi*x)**2)**0.25 ) -\\\n",
    "#         ( 48.7405*y*(y**5 - 3*y**4 + 2.18943*y**3 + 0.621139*y**2 - 1.01321*y + 0.202642)*cos(pi*x)**2 ) /\\\n",
    "#         ( (pi**2 * (y-1)**2 * y**2 * cos(pi*x)**2 + (1-2*y)**2 * sin(pi*x)**2)**1.25 )\n",
    "\n",
    "# init_printing(latex_mode='equation')\n",
    "\n",
    "# expr.subs([(x,0), (y,0)])\n",
    "\n",
    "# limit(limit(expr, x,0), y, 0)\n",
    "\n",
    "# limit(y*sin(x), (x,y), (0,0))\n",
    "\n",
    "# f(1,1)"
   ]
  },
  {
   "cell_type": "markdown",
   "metadata": {
    "hidden": true
   },
   "source": [
    "The analytic solution is given by: $\\Psi_a(x,y) = y (1-y) \\sin(\\pi  x)$"
   ]
  },
  {
   "cell_type": "code",
   "execution_count": 5,
   "metadata": {
    "ExecuteTime": {
     "end_time": "2019-02-12T12:50:44.590493Z",
     "start_time": "2019-02-12T12:50:44.587030Z"
    },
    "hidden": true
   },
   "outputs": [],
   "source": [
    "def psi_a(x, y):\n",
    "    return y * (1-y) * np.sin(np.pi * x)"
   ]
  },
  {
   "cell_type": "code",
   "execution_count": 6,
   "metadata": {
    "ExecuteTime": {
     "end_time": "2019-02-12T12:50:45.313307Z",
     "start_time": "2019-02-12T12:50:45.307970Z"
    },
    "hidden": true
   },
   "outputs": [],
   "source": [
    "# -π (y - 1) y cos(π x)\n",
    "def psi_a_dx(x, y):\n",
    "    return -np.pi*(y-1)*y*np.cos(np.pi*x)"
   ]
  },
  {
   "cell_type": "code",
   "execution_count": 7,
   "metadata": {
    "ExecuteTime": {
     "end_time": "2019-02-12T12:50:46.129359Z",
     "start_time": "2019-02-12T12:50:46.125747Z"
    },
    "hidden": true
   },
   "outputs": [],
   "source": [
    "# (1 - 2 y) sin(π x)\n",
    "def psi_a_dy(x,y):\n",
    "    return (1-2*y)*np.sin(np.pi*x)"
   ]
  },
  {
   "cell_type": "markdown",
   "metadata": {
    "hidden": true
   },
   "source": [
    "Sigmoid $\\sigma(x) = \\frac{1}{1+e^{-x}}$ and its derrivatives."
   ]
  },
  {
   "cell_type": "code",
   "execution_count": 8,
   "metadata": {
    "ExecuteTime": {
     "end_time": "2019-02-12T12:50:49.162924Z",
     "start_time": "2019-02-12T12:50:49.155715Z"
    },
    "hidden": true
   },
   "outputs": [],
   "source": [
    "#sigmoid\n",
    "def sig(x):\n",
    "    return 1 / (1 + np.exp(-x))\n",
    "\n",
    "def sig1(x):\n",
    "    return sig(x) * (1 - sig(x))\n",
    "\n",
    "def sig2(x):\n",
    "    return sig1(x) - 2 * sig(x) * sig1(x)\n",
    "\n",
    "def sig3(x):\n",
    "    return sig2(x) - 2 * (sig1(x)**2 + sig(x) * sig2(x))\n",
    "\n",
    "def sig_pr(x, k):\n",
    "    if k==0:\n",
    "        return sig(x)\n",
    "    if k==1:\n",
    "        return sig1(x)\n",
    "    if k==2:\n",
    "        return sig2(x)\n",
    "    if k==3:\n",
    "        return sig3(x)"
   ]
  },
  {
   "cell_type": "markdown",
   "metadata": {
    "hidden": true
   },
   "source": [
    "## Neural network and its derivatives"
   ]
  },
  {
   "cell_type": "markdown",
   "metadata": {
    "hidden": true
   },
   "source": [
    "The output of neural network $N(x,y,\\vec{p})$, where $\\vec{p} = [w, u, v]$:\n",
    "$$N = \\sum_i^H v_i \\sigma(z_i) \\text{, where } z_i = w_{i0} x + w_{i1} y + u_i$$"
   ]
  },
  {
   "cell_type": "code",
   "execution_count": 9,
   "metadata": {
    "ExecuteTime": {
     "end_time": "2019-02-12T12:54:13.931928Z",
     "start_time": "2019-02-12T12:54:13.926032Z"
    },
    "hidden": true
   },
   "outputs": [],
   "source": [
    "def z(x, y, p):\n",
    "    z_x = np.multiply(x, p[0][0])\n",
    "    z_y = np.multiply(y, p[0][1])\n",
    "    z_ = np.array([z_x, z_y, p[1]]).sum(axis=0)\n",
    "    return z_\n",
    "\n",
    "def N(x, y, p):\n",
    "    return np.sum(np.multiply(sig(z(x,y,p)), p[2]))"
   ]
  },
  {
   "cell_type": "markdown",
   "metadata": {
    "hidden": true
   },
   "source": [
    "$$\\p{^k N}{ x_j^k} = \\sum_{i=1}^H v_i w_{ij}^k \\sigma^{(k)}$$"
   ]
  },
  {
   "cell_type": "code",
   "execution_count": 10,
   "metadata": {
    "ExecuteTime": {
     "end_time": "2019-02-12T13:08:30.970153Z",
     "start_time": "2019-02-12T13:08:30.961326Z"
    },
    "hidden": true
   },
   "outputs": [],
   "source": [
    "def dN_dxj_k(x, y, p, j, k):\n",
    "    wj = p[0][j]\n",
    "    v = p[2]\n",
    "    z_ = z(x, y, p)\n",
    "    \n",
    "    return np.sum(v * (wj**k) * sig_pr(z_, k))"
   ]
  },
  {
   "cell_type": "markdown",
   "metadata": {
    "hidden": true
   },
   "source": [
    "$$\\p{}{ x_1}\\p{}{ x_2} N = \\sum_{i=1}^H v_i w_{i1} w_{i2} \\sigma''$$"
   ]
  },
  {
   "cell_type": "code",
   "execution_count": 11,
   "metadata": {
    "ExecuteTime": {
     "end_time": "2019-02-06T08:50:20.447405Z",
     "start_time": "2019-02-06T08:50:20.443263Z"
    },
    "hidden": true
   },
   "outputs": [],
   "source": [
    "def dN_dx1_dx2(x, y, p):\n",
    "    w1 = p[0][0]\n",
    "    w2 = p[0][1]\n",
    "    v = p[2]\n",
    "    z_ = z(x, y, p)\n",
    "\n",
    "    return np.sum(v * w1 * w2 * sig_pr(z_, 2))"
   ]
  },
  {
   "cell_type": "markdown",
   "metadata": {
    "hidden": true
   },
   "source": [
    "$$\\p{N}{w_j} = x_j v \\sigma '$$"
   ]
  },
  {
   "cell_type": "code",
   "execution_count": 12,
   "metadata": {
    "ExecuteTime": {
     "end_time": "2019-02-06T08:50:20.453551Z",
     "start_time": "2019-02-06T08:50:20.449501Z"
    },
    "hidden": true
   },
   "outputs": [],
   "source": [
    "def dN_dwj(x, y, p, j):\n",
    "    xj = x if j==0 else y\n",
    "    v = p[2]\n",
    "    z_ = z(x, y, p)\n",
    "    return xj * v * sig1(z_)"
   ]
  },
  {
   "cell_type": "markdown",
   "metadata": {
    "hidden": true
   },
   "source": [
    "$$ \\p{}{ w_j} \\p{ N}{ x_k} = x_j v w_k \\sigma'' + v_i \\sigma' \\quad\\text{ if } j = k$$\n",
    "\n",
    "$$ \\p{}{ w_j} \\p{ N}{ x_k} = x_j v w_k \\sigma'' \\quad\\text{ if } j \\neq k$$"
   ]
  },
  {
   "cell_type": "code",
   "execution_count": 13,
   "metadata": {
    "ExecuteTime": {
     "end_time": "2019-02-06T08:50:20.460171Z",
     "start_time": "2019-02-06T08:50:20.455586Z"
    },
    "hidden": true
   },
   "outputs": [],
   "source": [
    "def d_dwj_dN_dxk(x, y, p, j, k):\n",
    "    xj = x if j==0 else y\n",
    "    wk = p[0][k]\n",
    "    jk = 1 if j==k else 0\n",
    "    v = p[2]\n",
    "    z_ = z(x, y, p)\n",
    "    return xj * v * wk * sig2(z_) + jk * v * sig1(z_)"
   ]
  },
  {
   "cell_type": "markdown",
   "metadata": {
    "hidden": true
   },
   "source": [
    "$$ \\p{}{ w_j} \\p{^2 N}{ x_k^2} = x_j v w_k^2 \\sigma^{(3)} + 2 v w_k \\sigma'' \\quad\\text{ if } j = k $$\n",
    "\n",
    "$$ \\p{}{ w_j} \\p{^2 N}{ x_k^2} = x_j v w_k^2 \\sigma^{(3)} \\quad\\text{ if } j \\neq k $$"
   ]
  },
  {
   "cell_type": "code",
   "execution_count": 14,
   "metadata": {
    "ExecuteTime": {
     "end_time": "2019-02-06T08:50:20.466773Z",
     "start_time": "2019-02-06T08:50:20.461959Z"
    },
    "hidden": true
   },
   "outputs": [],
   "source": [
    "def d_dwj_dN2_dxk2(x, y, p, j, k):\n",
    "    xj = x if j==0 else y\n",
    "    wk = p[0][k]\n",
    "    jk = 1 if j==k else 0\n",
    "    v = p[2]\n",
    "    z_ = z(x, y, p)\n",
    "    return xj * v * (wk**2) * sig3(z_) + jk * 2 * v * wk * sig2(z_)"
   ]
  },
  {
   "cell_type": "markdown",
   "metadata": {
    "hidden": true
   },
   "source": [
    "$$ \\p{}{ w_j}\\p{}{ x_1}\\p{}{ x_2} N = x_j v w_1 w_2 \\sigma^{(3)} + v w_{not j} \\sigma'' $$"
   ]
  },
  {
   "cell_type": "code",
   "execution_count": 15,
   "metadata": {
    "ExecuteTime": {
     "end_time": "2019-02-06T08:50:20.474007Z",
     "start_time": "2019-02-06T08:50:20.468645Z"
    },
    "hidden": true
   },
   "outputs": [],
   "source": [
    "def d_dwj_d_dx1_dN_dx2(x, y, p, j):\n",
    "    w1 = p[0][0]\n",
    "    w2 = p[0][1]\n",
    "    w_not_j = p[0][1-j]\n",
    "    xj = x if j==0 else y\n",
    "    v = p[2]\n",
    "    z_ = z(x, y, p)\n",
    "    \n",
    "    return xj*v*w1*w2*sig_pr(z_,3) + v*w_not_j*sig_pr(z_, 2)"
   ]
  },
  {
   "cell_type": "markdown",
   "metadata": {
    "hidden": true
   },
   "source": [
    "$$ \\p{}{u}\\p{}{x_1}\\p{}{x_2} N = v w_1 w_2 \\sigma^{(3)}$$"
   ]
  },
  {
   "cell_type": "code",
   "execution_count": 16,
   "metadata": {
    "ExecuteTime": {
     "end_time": "2019-02-06T08:50:20.480318Z",
     "start_time": "2019-02-06T08:50:20.476026Z"
    },
    "hidden": true
   },
   "outputs": [],
   "source": [
    "def d_du_d_dx1_dN_dx2(x, y, p):\n",
    "    w1 = p[0][0]\n",
    "    w2 = p[0][1]\n",
    "    v = p[2]\n",
    "    z_ = z(x, y, p)\n",
    "    \n",
    "    return v*w1*w2*sig_pr(z_, 3)"
   ]
  },
  {
   "cell_type": "markdown",
   "metadata": {
    "hidden": true
   },
   "source": [
    "$$ \\p{}{v}\\p{}{x_1}\\p{}{x_2} N = w_1 w_2 \\sigma''$$"
   ]
  },
  {
   "cell_type": "code",
   "execution_count": 17,
   "metadata": {
    "ExecuteTime": {
     "end_time": "2019-02-06T08:50:20.504564Z",
     "start_time": "2019-02-06T08:50:20.486382Z"
    },
    "hidden": true
   },
   "outputs": [],
   "source": [
    "def d_dv_d_dx1_dN_dx2(x, y, p):\n",
    "    w1 = p[0][0]\n",
    "    w2 = p[0][1]\n",
    "    z_ = z(x, y, p)\n",
    "    \n",
    "    return w1*w2*sig_pr(z_, 2)"
   ]
  },
  {
   "cell_type": "markdown",
   "metadata": {
    "hidden": true
   },
   "source": [
    "$$ \\p{}{ u} \\p{^k}{ x_j^k} N = v w_j^k \\sigma^{(k+1)} $$"
   ]
  },
  {
   "cell_type": "code",
   "execution_count": 18,
   "metadata": {
    "ExecuteTime": {
     "end_time": "2019-02-06T08:50:20.581947Z",
     "start_time": "2019-02-06T08:50:20.510980Z"
    },
    "hidden": true
   },
   "outputs": [],
   "source": [
    "def d_du_dkN(x, y, p, j, k):\n",
    "    v = p[2]\n",
    "    wj = p[0][j]\n",
    "    z_ = z(x, y, p)\n",
    "    return v * (wj**k) * sig_pr(z_, k+1)"
   ]
  },
  {
   "cell_type": "markdown",
   "metadata": {
    "hidden": true
   },
   "source": [
    "$$ \\p{}{ v} \\p{^k}{ x_j^k} N = w_j^k \\sigma^{(k)} $$"
   ]
  },
  {
   "cell_type": "code",
   "execution_count": 19,
   "metadata": {
    "ExecuteTime": {
     "end_time": "2019-02-06T08:50:20.597168Z",
     "start_time": "2019-02-06T08:50:20.585551Z"
    },
    "hidden": true
   },
   "outputs": [],
   "source": [
    "def d_dv_dkN(x, y, p, j, k):\n",
    "    wj = p[0][j]\n",
    "    z_ = z(x, y, p)\n",
    "    return (wj**k) * sig_pr(z_, k)"
   ]
  },
  {
   "cell_type": "markdown",
   "metadata": {
    "hidden": true
   },
   "source": [
    "## Trial solution and its derivatives"
   ]
  },
  {
   "cell_type": "markdown",
   "metadata": {
    "ExecuteTime": {
     "end_time": "2018-12-28T11:31:45.918413Z",
     "start_time": "2018-12-28T11:31:45.910584Z"
    },
    "hidden": true
   },
   "source": [
    "The trial solution is given by: $$\\Psi_t(x,y) = x(1-x)y(1-y)N(x,y,\\vec{p})$$"
   ]
  },
  {
   "cell_type": "code",
   "execution_count": 20,
   "metadata": {
    "ExecuteTime": {
     "end_time": "2019-02-06T08:50:20.604072Z",
     "start_time": "2019-02-06T08:50:20.599534Z"
    },
    "hidden": true
   },
   "outputs": [],
   "source": [
    "def psi_t(x, y, p):\n",
    "    return x * (1-x) * y * (1-y) * N(x, y, p)"
   ]
  },
  {
   "cell_type": "markdown",
   "metadata": {
    "ExecuteTime": {
     "end_time": "2018-12-28T11:31:45.918413Z",
     "start_time": "2018-12-28T11:31:45.910584Z"
    },
    "hidden": true
   },
   "source": [
    "$$\\p{\\Psi_t}{w_j} = x(1-x)y(1-y)\\p{N}{w_j}$$"
   ]
  },
  {
   "cell_type": "code",
   "execution_count": 21,
   "metadata": {
    "ExecuteTime": {
     "end_time": "2019-02-06T08:50:20.637286Z",
     "start_time": "2019-02-06T08:50:20.606655Z"
    },
    "hidden": true
   },
   "outputs": [],
   "source": [
    "def dPsi_dwj(x, y, p, j):\n",
    "    return x * (1-x) * y * (1-y) * dN_dwj(x, y, p, j)"
   ]
  },
  {
   "cell_type": "markdown",
   "metadata": {
    "ExecuteTime": {
     "end_time": "2018-12-28T11:31:45.918413Z",
     "start_time": "2018-12-28T11:31:45.910584Z"
    },
    "hidden": true
   },
   "source": [
    "$$\\p{\\Psi_t}{u} = x(1-x)y(1-y)\\p{N}{u}$$"
   ]
  },
  {
   "cell_type": "code",
   "execution_count": 22,
   "metadata": {
    "ExecuteTime": {
     "end_time": "2019-02-06T08:50:20.645845Z",
     "start_time": "2019-02-06T08:50:20.640267Z"
    },
    "hidden": true
   },
   "outputs": [],
   "source": [
    "def dPsi_du(x, y, p):\n",
    "    return x * (1-x) * y * (1-y) * d_du_dkN(x, y, p, 0, 0)"
   ]
  },
  {
   "cell_type": "markdown",
   "metadata": {
    "ExecuteTime": {
     "end_time": "2018-12-28T11:31:45.918413Z",
     "start_time": "2018-12-28T11:31:45.910584Z"
    },
    "hidden": true
   },
   "source": [
    "$$\\p{\\Psi_t}{v} = x(1-x)y(1-y)\\p{N}{v}$$"
   ]
  },
  {
   "cell_type": "code",
   "execution_count": 23,
   "metadata": {
    "ExecuteTime": {
     "end_time": "2019-02-06T08:50:20.652489Z",
     "start_time": "2019-02-06T08:50:20.647959Z"
    },
    "hidden": true
   },
   "outputs": [],
   "source": [
    "def dPsi_dv(x, y, p):\n",
    "    return x * (1-x) * y * (1-y) * d_dv_dkN(x, y, p, 0, 0)"
   ]
  },
  {
   "cell_type": "markdown",
   "metadata": {
    "hidden": true
   },
   "source": [
    "$$\\p{\\Psi_t}{x_j} = y_j(1-y_j)\\left[ (1-2x_j)N + x_j(1-x_j) \\p{N}{x_j} \\right]$$"
   ]
  },
  {
   "cell_type": "code",
   "execution_count": 24,
   "metadata": {
    "ExecuteTime": {
     "end_time": "2019-02-06T08:50:20.660009Z",
     "start_time": "2019-02-06T08:50:20.654776Z"
    },
    "hidden": true
   },
   "outputs": [],
   "source": [
    "def dPsi_dxj(x, y, p, j):\n",
    "    xj = x if j==0 else y\n",
    "    yj = y if j==0 else x\n",
    "    return yj*(1-yj)*( (1-2*xj)*N(x,y,p) + xj*(1-xj)*dN_dxj_k(x,y,p,j,1) )"
   ]
  },
  {
   "cell_type": "markdown",
   "metadata": {
    "hidden": true
   },
   "source": [
    "$$\\p{^2 \\Psi_t}{ x_j^2} = y_j(1-y_j)\\left[ -2N + (2-4x_j) \\p{ N}{ x_j} + x_j (1-x_j) \\p{^2 N}{ x_j^2} \\right]$$"
   ]
  },
  {
   "cell_type": "code",
   "execution_count": 25,
   "metadata": {
    "ExecuteTime": {
     "end_time": "2019-02-06T08:50:20.666991Z",
     "start_time": "2019-02-06T08:50:20.661898Z"
    },
    "hidden": true
   },
   "outputs": [],
   "source": [
    "def dPsi2_dxj2(x, y, p, j):\n",
    "    xj = x if j==0 else y\n",
    "    yj = y if j==0 else x\n",
    "    return yj*(1-yj)*(-2*N(x,y,p) + (2-4*xj)*dN_dxj_k(x,y,p,j,1) + xj*(1-xj)*dN_dxj_k(x,y,p,j,2))"
   ]
  },
  {
   "cell_type": "markdown",
   "metadata": {
    "hidden": true
   },
   "source": [
    "$$\\p{}{ y_j}\\p{ \\Psi_t}{ x_j} = (1-2y_j)\\left[ (1-2x_j)N + x_j(1-x_j) \\p{ N}{ x_j}\\right] + y_j(1-y_j) \\left[ (1-2x_j)\\p{ N}{ y_j} + x_j(1-x_j) \\p{}{ y_j} \\p{ N}{ x_j} \\right] $$"
   ]
  },
  {
   "cell_type": "code",
   "execution_count": 26,
   "metadata": {
    "ExecuteTime": {
     "end_time": "2019-02-06T08:50:20.674676Z",
     "start_time": "2019-02-06T08:50:20.669065Z"
    },
    "hidden": true
   },
   "outputs": [],
   "source": [
    "def d_dy_dPsi_dx(x, y, p, j):\n",
    "    xj = x if j==0 else y\n",
    "    yj = y if j==0 else x\n",
    "    return (1-2*yj)*( (1-2*xj)*N(x,y,p) + xj*(1-xj)*dN_dxj_k(x,y,p,j,1) )  +  yj*(1-yj)*((1-2*xj)*dN_dxj_k(x,y,p,1-j,1) + xj*(1-xj)*dN_dx1_dx2(x,y,p))"
   ]
  },
  {
   "cell_type": "markdown",
   "metadata": {
    "hidden": true
   },
   "source": [
    "$$ |\\nabla \\Psi| = \\left[ \\left(\\p{\\Psi}{x}\\right)^2 + \\left(\\p{\\Psi}{y}\\right)^2 \\right]^{\\frac{1}{2}} $$"
   ]
  },
  {
   "cell_type": "code",
   "execution_count": 27,
   "metadata": {
    "ExecuteTime": {
     "end_time": "2019-02-06T08:50:20.680871Z",
     "start_time": "2019-02-06T08:50:20.676519Z"
    },
    "hidden": true
   },
   "outputs": [],
   "source": [
    "def norm_psi(x, y, p):\n",
    "    return np.sqrt(dPsi_dxj(x,y,p,0)**2 + dPsi_dxj(x,y,p,1)**2)"
   ]
  },
  {
   "cell_type": "markdown",
   "metadata": {
    "hidden": true
   },
   "source": [
    "$$\\p{}{x_j}|\\nabla \\Psi|^{p-2} = (p-2) |\\nabla \\Psi|^{p-4} \\left(\\p{\\Psi}{x_j} \\p{^2 \\Psi}{x_j^2} + \\p{\\Psi}{y_j} \\left( \\p{}{x_j} \\p{\\Psi}{y_j} \\right) \\right)$$"
   ]
  },
  {
   "cell_type": "code",
   "execution_count": 28,
   "metadata": {
    "ExecuteTime": {
     "end_time": "2019-02-06T08:50:20.687424Z",
     "start_time": "2019-02-06T08:50:20.682801Z"
    },
    "hidden": true
   },
   "outputs": [],
   "source": [
    "def dNormPsi_dxj(x, y, p, j, pLap):\n",
    "    return (pLap-2)*(norm_psi(x,y,p)**(pLap-4))*( dPsi_dxj(x,y,p,j)*dPsi2_dxj2(x,y,p,j) + dPsi_dxj(x,y,p,1-j)* d_dy_dPsi_dx(x,y,p,1-j))"
   ]
  },
  {
   "cell_type": "markdown",
   "metadata": {
    "hidden": true
   },
   "source": [
    "$$\\p{}{ w_j} \\p{ \\Psi_t}{ x_k} = y_k(1-y_k)\\left[ (1-2x)\\p{ N}{ w_j} + x(1-x) \\p{}{ w_j} \\p{ N}{ x_k} \\right]$$"
   ]
  },
  {
   "cell_type": "code",
   "execution_count": 29,
   "metadata": {
    "ExecuteTime": {
     "end_time": "2019-02-06T08:50:20.694080Z",
     "start_time": "2019-02-06T08:50:20.689330Z"
    },
    "hidden": true
   },
   "outputs": [],
   "source": [
    "def d_dwj_dPsi_dxk(x, y, p, j, k):\n",
    "    xj = x if k==0 else y\n",
    "    yj = y if k==0 else x\n",
    "    return yj*(1-yj)*( (1-2*xj)*dN_dwj(x,y,p,j) + xj*(1-xj)*d_dwj_dN_dxk(x,y,p,j,k) )"
   ]
  },
  {
   "cell_type": "markdown",
   "metadata": {
    "hidden": true
   },
   "source": [
    "$$\\p{}{ u} \\p{ \\Psi_t}{ x_k} = y_k(1-y_k)\\left[ (1-2x)\\p{ N}{ u} + x(1-x) \\p{}{ u} \\p{ N}{ x_k} \\right]$$"
   ]
  },
  {
   "cell_type": "code",
   "execution_count": 30,
   "metadata": {
    "ExecuteTime": {
     "end_time": "2019-02-06T08:50:20.701699Z",
     "start_time": "2019-02-06T08:50:20.695962Z"
    },
    "hidden": true
   },
   "outputs": [],
   "source": [
    "def d_du_dPsi_dxk(x, y, p, k):\n",
    "    xj = x if k==0 else y\n",
    "    yj = y if k==0 else x\n",
    "    return yj*(1-yj)*( (1-2*xj)*d_du_dkN(x,y,p,k,0) + xj*(1-xj)*d_du_dkN(x,y,p,k,1) )"
   ]
  },
  {
   "cell_type": "markdown",
   "metadata": {
    "hidden": true
   },
   "source": [
    "$$\\p{}{v} \\p{ \\Psi_t}{ x_k} = y_k(1-y_k)\\left[ (1-2x)\\p{ N}{v} + x(1-x) \\p{}{v} \\p{ N}{ x_k} \\right]$$"
   ]
  },
  {
   "cell_type": "code",
   "execution_count": 31,
   "metadata": {
    "ExecuteTime": {
     "end_time": "2019-02-06T08:50:20.709450Z",
     "start_time": "2019-02-06T08:50:20.703684Z"
    },
    "hidden": true
   },
   "outputs": [],
   "source": [
    "def d_dv_dPsi_dxk(x, y, p, k):\n",
    "    xj = x if k==0 else y\n",
    "    yj = y if k==0 else x\n",
    "    return yj*(1-yj)*( (1-2*xj)*d_dv_dkN(x,y,p,k,0) + xj*(1-xj)*d_dv_dkN(x,y,p,k,1) )"
   ]
  },
  {
   "cell_type": "markdown",
   "metadata": {
    "hidden": true
   },
   "source": [
    "$$ \\p{}{ w_j} \\p{^2 \\Psi_t}{ x_k^2} = y_k(1-y_k)\\left[ -2 \\p{ N}{ w_j} + (2-4x_k) \\p{}{ w_j}\\p{ N}{ x_k} + x_k (1-x_k) \\p{}{ w_j}\\p{^2 N}{ x_k^2} \\right]$$"
   ]
  },
  {
   "cell_type": "code",
   "execution_count": 32,
   "metadata": {
    "ExecuteTime": {
     "end_time": "2019-02-06T08:50:20.717975Z",
     "start_time": "2019-02-06T08:50:20.711687Z"
    },
    "hidden": true
   },
   "outputs": [],
   "source": [
    "def d_dwj_dPsi2_dxk2(x, y, p, j, k):\n",
    "    xk = x if k==0 else y\n",
    "    yk = y if k==0 else x\n",
    "    return yk*(1-yk)*(-2*dN_dwj(x,y,p,j) + (2-4*xk)*d_dwj_dN_dxk(x,y,p,j,k) + xk*(1-xk)*d_dwj_dN2_dxk2(x,y,p,j,k))"
   ]
  },
  {
   "cell_type": "markdown",
   "metadata": {
    "hidden": true
   },
   "source": [
    "$$ \\p{}{ u} \\p{^2 \\Psi_t}{ x_k^2} = y_k(1-y_k)\\left[ -2 \\p{ N}{ u} + (2-4x_k) \\p{}{ u}\\p{ N}{ x_k} + x_k (1-x_k) \\p{}{ u}\\p{^2 N}{ x_k^2} \\right]$$"
   ]
  },
  {
   "cell_type": "code",
   "execution_count": 33,
   "metadata": {
    "ExecuteTime": {
     "end_time": "2019-02-06T08:50:20.741864Z",
     "start_time": "2019-02-06T08:50:20.720021Z"
    },
    "hidden": true
   },
   "outputs": [],
   "source": [
    "def d_du_dPsi2_dxk2(x, y, p, k):\n",
    "    xk = x if k==0 else y\n",
    "    yk = y if k==0 else x\n",
    "    return yk*(1-yk)*(-2*d_du_dkN(x,y,p,k,0) + (2-4*xk)*d_du_dkN(x,y,p,k,1) + xk*(1-xk)*d_du_dkN(x,y,p,k,2))"
   ]
  },
  {
   "cell_type": "markdown",
   "metadata": {
    "hidden": true
   },
   "source": [
    "$$ \\p{}{v} \\p{^2 \\Psi_t}{ x_k^2} = y_k(1-y_k)\\left[ -2 \\p{ N}{v} + (2-4x_k) \\p{}{v}\\p{ N}{ x_k} + x_k (1-x_k) \\p{}{v}\\p{^2 N}{ x_k^2} \\right]$$"
   ]
  },
  {
   "cell_type": "code",
   "execution_count": 34,
   "metadata": {
    "ExecuteTime": {
     "end_time": "2019-02-06T08:50:20.751873Z",
     "start_time": "2019-02-06T08:50:20.744775Z"
    },
    "hidden": true
   },
   "outputs": [],
   "source": [
    "def d_dv_dPsi2_dxk2(x, y, p, k):\n",
    "    xk = x if k==0 else y\n",
    "    yk = y if k==0 else x\n",
    "    return yk*(1-yk)*(-2*d_dv_dkN(x,y,p,k,0) + (2-4*xk)*d_dv_dkN(x,y,p,k,1) + xk*(1-xk)*d_dv_dkN(x,y,p,k,2))"
   ]
  },
  {
   "cell_type": "markdown",
   "metadata": {
    "hidden": true
   },
   "source": [
    "$$\\p{}{ w_j}|\\nabla \\Psi|^{P} = (P) |\\nabla \\Psi|^{P-2} \\left[\\p{ \\Psi}{ x} \\left(\\p{}{ w_j}\\p{ \\Psi}{ x}\\right) + \\p{ \\Psi}{ y} \\left(\\p{}{ w_j}\\p{ \\Psi}{ y}\\right) \\right]$$"
   ]
  },
  {
   "cell_type": "code",
   "execution_count": 35,
   "metadata": {
    "ExecuteTime": {
     "end_time": "2019-02-06T08:50:20.759103Z",
     "start_time": "2019-02-06T08:50:20.753964Z"
    },
    "hidden": true
   },
   "outputs": [],
   "source": [
    "def dNormPsiP_dwj(x, y, p, j, P):\n",
    "    return P*norm_psi(x,y,p)**(P-2)*(dPsi_dxj(x,y,p,0)*d_dwj_dPsi_dxk(x,y,p,j,0) + dPsi_dxj(x,y,p,1)*d_dwj_dPsi_dxk(x,y,p,j,1))"
   ]
  },
  {
   "cell_type": "markdown",
   "metadata": {
    "hidden": true
   },
   "source": [
    "$$\\p{}{ u}|\\nabla \\Psi|^{P} = (P) |\\nabla \\Psi|^{P-2} \\left[\\p{ \\Psi}{ x} \\left(\\p{}{ u}\\p{ \\Psi}{ x}\\right) + \\p{ \\Psi}{ y} \\left(\\p{}{ u}\\p{ \\Psi}{ y}\\right) \\right]$$"
   ]
  },
  {
   "cell_type": "code",
   "execution_count": 36,
   "metadata": {
    "ExecuteTime": {
     "end_time": "2019-02-06T08:50:20.766440Z",
     "start_time": "2019-02-06T08:50:20.761304Z"
    },
    "hidden": true
   },
   "outputs": [],
   "source": [
    "def dNormPsiP_du(x, y, p, P):\n",
    "    return P*norm_psi(x,y,p)**(P-2)*(dPsi_dxj(x,y,p,0)*d_du_dPsi_dxk(x,y,p,0) + dPsi_dxj(x,y,p,1)*d_du_dPsi_dxk(x,y,p,1))"
   ]
  },
  {
   "cell_type": "markdown",
   "metadata": {
    "hidden": true
   },
   "source": [
    "$$\\p{}{v}|\\nabla \\Psi|^{P} = (P) |\\nabla \\Psi|^{P-2} \\left[\\p{ \\Psi}{ x} \\left(\\p{}{v}\\p{ \\Psi}{ x}\\right) + \\p{ \\Psi}{ y} \\left(\\p{}{v}\\p{ \\Psi}{ y}\\right) \\right]$$"
   ]
  },
  {
   "cell_type": "code",
   "execution_count": 37,
   "metadata": {
    "ExecuteTime": {
     "end_time": "2019-02-06T08:50:20.773123Z",
     "start_time": "2019-02-06T08:50:20.768357Z"
    },
    "hidden": true
   },
   "outputs": [],
   "source": [
    "def dNormPsiP_dv(x, y, p, P):\n",
    "    return P*norm_psi(x,y,p)**(P-2)*(dPsi_dxj(x,y,p,0)*d_dv_dPsi_dxk(x,y,p,0) + dPsi_dxj(x,y,p,1)*d_dv_dPsi_dxk(x,y,p,1))"
   ]
  },
  {
   "cell_type": "markdown",
   "metadata": {
    "hidden": true
   },
   "source": [
    "$$ \\p{}{ w_j}\\p{}{ y_k}\\p{ \\Psi_t}{ x_k} = (1-2y_k)\\left[ (1-2x_k) \\p{ N}{ w_j} + x_k(1-x_k) \\p{}{ w_j}\\p{ N}{ x_k}\\right] + y_k(1-y_k) \\left[ (1-2x_k)\\p{}{ w_j}\\p{ N}{ y_k} + x_k(1-x_k) \\p{}{ w_j}\\p{}{ y_k} \\p{ N}{ x_k} \\right] $$"
   ]
  },
  {
   "cell_type": "code",
   "execution_count": 38,
   "metadata": {
    "ExecuteTime": {
     "end_time": "2019-02-06T08:50:20.781770Z",
     "start_time": "2019-02-06T08:50:20.775091Z"
    },
    "hidden": true
   },
   "outputs": [],
   "source": [
    "def d_dwj_d_dyk_dPsi_dxk(x, y, p, j, k):\n",
    "    xk = x if k==0 else y\n",
    "    yk = y if k==0 else x\n",
    "    term1 = (1-2*yk)*((1-2*xk)*dN_dwj(x,y,p,j) + xk*(1-xk)*d_dwj_dN_dxk(x,y,p,j,k))\n",
    "    term2 = yk*(1-yk)*((1-2*xk)*d_dwj_dN_dxk(x,y,p,j,1-k) + xk*(1-xk)*d_dwj_d_dx1_dN_dx2(x,y,p,j))\n",
    "    \n",
    "    return term1 + term2"
   ]
  },
  {
   "cell_type": "markdown",
   "metadata": {
    "hidden": true
   },
   "source": [
    "$$ \\p{}{ u}\\p{}{ y_k}\\p{ \\Psi_t}{ x_k} = (1-2y_k)\\left[ (1-2x_k) \\p{ N}{ u} + x_k(1-x_k) \\p{}{ u}\\p{ N}{ x_k}\\right] + y_k(1-y_k) \\left[ (1-2x_k)\\p{}{ u}\\p{ N}{ y_k} + x_k(1-x_k) \\p{}{ u}\\p{}{ y_k} \\p{ N}{ x_k} \\right] $$"
   ]
  },
  {
   "cell_type": "code",
   "execution_count": 39,
   "metadata": {
    "ExecuteTime": {
     "end_time": "2019-02-06T08:50:20.790122Z",
     "start_time": "2019-02-06T08:50:20.783705Z"
    },
    "hidden": true
   },
   "outputs": [],
   "source": [
    "def d_du_d_dyk_dPsi_dxk(x, y, p, k):\n",
    "    xk = x if k==0 else y\n",
    "    yk = y if k==0 else x\n",
    "    term1 = (1-2*yk)*((1-2*xk)*d_du_dkN(x,y,p,k,0) + xk*(1-xk)*d_du_dkN(x,y,p,k,1))\n",
    "    term2 = yk*(1-yk)*((1-2*xk)*d_du_dkN(x,y,p,1-k,1) + xk*(1-xk)*d_du_d_dx1_dN_dx2(x,y,p))\n",
    "    \n",
    "    return term1 + term2"
   ]
  },
  {
   "cell_type": "markdown",
   "metadata": {
    "hidden": true
   },
   "source": [
    "$$ \\p{}{v}\\p{}{ y_k}\\p{ \\Psi_t}{ x_k} = (1-2y_k)\\left[ (1-2x_k) \\p{ N}{v} + x_k(1-x_k) \\p{}{v}\\p{ N}{ x_k}\\right] + y_k(1-y_k) \\left[ (1-2x_k)\\p{}{v}\\p{ N}{ y_k} + x_k(1-x_k) \\p{}{v}\\p{}{ y_k} \\p{ N}{ x_k} \\right] $$"
   ]
  },
  {
   "cell_type": "code",
   "execution_count": 40,
   "metadata": {
    "ExecuteTime": {
     "end_time": "2019-02-06T08:50:20.798718Z",
     "start_time": "2019-02-06T08:50:20.792381Z"
    },
    "hidden": true
   },
   "outputs": [],
   "source": [
    "def d_dv_d_dyk_dPsi_dxk(x, y, p, k):\n",
    "    xk = x if k==0 else y\n",
    "    yk = y if k==0 else x\n",
    "    term1 = (1-2*yk)*((1-2*xk)*d_dv_dkN(x,y,p,k,0) + xk*(1-xk)*d_dv_dkN(x,y,p,k,1))\n",
    "    term2 = yk*(1-yk)*((1-2*xk)*d_dv_dkN(x,y,p,1-k,1) + xk*(1-xk)*d_dv_d_dx1_dN_dx2(x,y,p))\n",
    "    \n",
    "    return term1 + term2"
   ]
  },
  {
   "cell_type": "markdown",
   "metadata": {
    "hidden": true
   },
   "source": [
    "$$ \\p{}{w_j} \\left(\\p{\\Psi}{x_k} \\p{^2 \\Psi}{x_k^2} + \\p{\\Psi}{y_k} \\left( \\p{}{x_k} \\p{\\Psi}{y_k} \\right) \\right) = \\left(\\p{}{w_j}\\p{\\Psi}{x_k}\\right) \\p{^2\\Psi}{x_k^2} + \\p{\\Psi}{x_k} \\left(\\p{}{w_j}\\p{^2\\Psi}{x_k^2}\\right) + \\left(\\p{}{w_j}\\p{\\Psi}{y_k}\\right) \\left( \\p{}{x_k}\\p{\\Psi}{y_k} \\right) + \\p{\\Psi}{y_k}\\left( \\p{}{w_j}\\p{}{x_k}\\p{\\Psi}{y_k} \\right) $$"
   ]
  },
  {
   "cell_type": "code",
   "execution_count": 41,
   "metadata": {
    "ExecuteTime": {
     "end_time": "2019-02-06T08:50:20.806856Z",
     "start_time": "2019-02-06T08:50:20.800730Z"
    },
    "hidden": true
   },
   "outputs": [],
   "source": [
    "def d_dwj_bracket_k(x, y, p, j, k):\n",
    "    term1 = d_dwj_dPsi_dxk(x,y,p,j,k) * dPsi2_dxj2(x,y,p,k)\n",
    "    term2 = dPsi_dxj(x,y,p,k) * d_dwj_dPsi2_dxk2(x,y,p,j,k)\n",
    "    term3 = d_dwj_dPsi_dxk(x,y,p,j,1-k) * d_dy_dPsi_dx(x,y,p,1-k)\n",
    "    term4 = dPsi_dxj(x,y,p,1-k) * d_dwj_d_dyk_dPsi_dxk(x,y,p,j,1-k)\n",
    "    \n",
    "    return term1 + term2 + term3 + term4"
   ]
  },
  {
   "cell_type": "markdown",
   "metadata": {
    "hidden": true
   },
   "source": [
    "$$ \\p{}{u} \\left(\\p{\\Psi}{x_k} \\p{^2 \\Psi}{x_k^2} + \\p{\\Psi}{y_k} \\left( \\p{}{x_k} \\p{\\Psi}{y_k} \\right) \\right) = \\left(\\p{}{u}\\p{\\Psi}{x_k}\\right) \\p{^2\\Psi}{x_k^2} + \\p{\\Psi}{x_k} \\left(\\p{}{u}\\p{^2\\Psi}{x_k^2}\\right) + \\left(\\p{}{u}\\p{\\Psi}{y_k}\\right) \\left( \\p{}{x_k}\\p{\\Psi}{y_k} \\right) + \\p{\\Psi}{y_k}\\left( \\p{}{u}\\p{}{x_k}\\p{\\Psi}{y_k} \\right) $$"
   ]
  },
  {
   "cell_type": "code",
   "execution_count": 42,
   "metadata": {
    "ExecuteTime": {
     "end_time": "2019-02-06T08:50:20.814782Z",
     "start_time": "2019-02-06T08:50:20.808784Z"
    },
    "hidden": true
   },
   "outputs": [],
   "source": [
    "def d_du_bracket_k(x, y, p, k):\n",
    "    term1 = d_du_dPsi_dxk(x,y,p,k) * dPsi2_dxj2(x,y,p,k)\n",
    "    term2 = dPsi_dxj(x,y,p,k) * d_du_dPsi2_dxk2(x,y,p,k)\n",
    "    term3 = d_du_dPsi_dxk(x,y,p,1-k) * d_dy_dPsi_dx(x,y,p,1-k)\n",
    "    term4 = dPsi_dxj(x,y,p,1-k) * d_du_d_dyk_dPsi_dxk(x,y,p,1-k)\n",
    "    \n",
    "    return term1 + term2 + term3 + term4"
   ]
  },
  {
   "cell_type": "markdown",
   "metadata": {
    "hidden": true
   },
   "source": [
    "$$ \\p{}{v} \\left(\\p{\\Psi}{x_k} \\p{^2 \\Psi}{x_k^2} + \\p{\\Psi}{y_k} \\left( \\p{}{x_k} \\p{\\Psi}{y_k} \\right) \\right) = \\left(\\p{}{v}\\p{\\Psi}{x_k}\\right) \\p{^2\\Psi}{x_k^2} + \\p{\\Psi}{x_k} \\left(\\p{}{v}\\p{^2\\Psi}{x_k^2}\\right) + \\left(\\p{}{v}\\p{\\Psi}{y_k}\\right) \\left( \\p{}{x_k}\\p{\\Psi}{y_k} \\right) + \\p{\\Psi}{y_k}\\left( \\p{}{v}\\p{}{x_k}\\p{\\Psi}{y_k} \\right) $$"
   ]
  },
  {
   "cell_type": "code",
   "execution_count": 43,
   "metadata": {
    "ExecuteTime": {
     "end_time": "2019-02-06T08:50:20.822911Z",
     "start_time": "2019-02-06T08:50:20.816658Z"
    },
    "hidden": true
   },
   "outputs": [],
   "source": [
    "def d_dv_bracket_k(x, y, p, k):\n",
    "    term1 = d_dv_dPsi_dxk(x,y,p,k) * dPsi2_dxj2(x,y,p,k)\n",
    "    term2 = dPsi_dxj(x,y,p,k) * d_dv_dPsi2_dxk2(x,y,p,k)\n",
    "    term3 = d_dv_dPsi_dxk(x,y,p,1-k) * d_dy_dPsi_dx(x,y,p,1-k)\n",
    "    term4 = dPsi_dxj(x,y,p,1-k) * d_dv_d_dyk_dPsi_dxk(x,y,p,1-k)\n",
    "    \n",
    "    return term1 + term2 + term3 + term4"
   ]
  },
  {
   "cell_type": "markdown",
   "metadata": {
    "hidden": true
   },
   "source": [
    "$$ \\p{}{w_j}\\p{}{x_k}|\\nabla \\Psi|^{p-2} = (p-2)\\left[ \\p{}{w_j}|\\nabla \\Psi|^{p-4} \\left(\\p{\\Psi}{x_k} \\p{^2 \\Psi}{x_k^2} + \\p{\\Psi}{y_k} \\left( \\p{}{x_k} \\p{\\Psi}{y_k} \\right) \\right)  +  |\\nabla \\Psi|^{p-4} \\p{}{w_j} \\left(\\p{\\Psi}{x_k} \\p{^2 \\Psi}{x_k^2} + \\p{\\Psi}{y_k} \\left( \\p{}{x_k} \\p{\\Psi}{y_k} \\right) \\right) \\right] $$"
   ]
  },
  {
   "cell_type": "code",
   "execution_count": 44,
   "metadata": {
    "ExecuteTime": {
     "end_time": "2019-02-06T08:50:20.830641Z",
     "start_time": "2019-02-06T08:50:20.824936Z"
    },
    "hidden": true
   },
   "outputs": [],
   "source": [
    "def d_dwj_dNormPsi_dxk(x, y, p, j, k, pLap):\n",
    "    term1 = dNormPsiP_dwj(x,y,p,j,pLap-4) * (dPsi_dxj(x,y,p,k)*dPsi2_dxj2(x,y,p,k) + dPsi_dxj(x,y,p,1-k)*d_dy_dPsi_dx(x,y,p,1-k))\n",
    "    term2 = norm_psi(x,y,p)**(pLap-4) * d_dwj_bracket_k(x,y,p,j,k)\n",
    "    \n",
    "    return (pLap-2)*(term1 + term2)"
   ]
  },
  {
   "cell_type": "markdown",
   "metadata": {
    "hidden": true
   },
   "source": [
    "$$ \\p{}{u}\\p{}{x_k}|\\nabla \\Psi|^{p-2} = (p-2)\\left[ \\p{}{u}|\\nabla \\Psi|^{p-4} \\left(\\p{\\Psi}{x_k} \\p{^2 \\Psi}{x_k^2} + \\p{\\Psi}{y_k} \\left( \\p{}{x_k} \\p{\\Psi}{y_k} \\right) \\right)  +  |\\nabla \\Psi|^{p-4} \\p{}{u} \\left(\\p{\\Psi}{x_k} \\p{^2 \\Psi}{x_k^2} + \\p{\\Psi}{y_k} \\left( \\p{}{x_k} \\p{\\Psi}{y_k} \\right) \\right) \\right] $$"
   ]
  },
  {
   "cell_type": "code",
   "execution_count": 45,
   "metadata": {
    "ExecuteTime": {
     "end_time": "2019-02-06T08:50:20.838225Z",
     "start_time": "2019-02-06T08:50:20.832765Z"
    },
    "hidden": true
   },
   "outputs": [],
   "source": [
    "def d_du_dNormPsi_dxk(x, y, p, k, pLap):\n",
    "    term1 = dNormPsiP_du(x,y,p,pLap-4) * (dPsi_dxj(x,y,p,k)*dPsi2_dxj2(x,y,p,k) + dPsi_dxj(x,y,p,1-k)*d_dy_dPsi_dx(x,y,p,1-k))\n",
    "    term2 = norm_psi(x,y,p)**(pLap-4) * d_du_bracket_k(x,y,p,k)\n",
    "    \n",
    "    return (pLap-2)*(term1 + term2)"
   ]
  },
  {
   "cell_type": "markdown",
   "metadata": {
    "hidden": true
   },
   "source": [
    "$$ \\p{}{v}\\p{}{x_k}|\\nabla \\Psi|^{p-2} = (p-2)\\left[ \\p{}{v}|\\nabla \\Psi|^{p-4} \\left(\\p{\\Psi}{x_k} \\p{^2 \\Psi}{x_k^2} + \\p{\\Psi}{y_k} \\left( \\p{}{x_k} \\p{\\Psi}{y_k} \\right) \\right)  +  |\\nabla \\Psi|^{p-4} \\p{}{v} \\left(\\p{\\Psi}{x_k} \\p{^2 \\Psi}{x_k^2} + \\p{\\Psi}{y_k} \\left( \\p{}{x_k} \\p{\\Psi}{y_k} \\right) \\right) \\right] $$"
   ]
  },
  {
   "cell_type": "code",
   "execution_count": 46,
   "metadata": {
    "ExecuteTime": {
     "end_time": "2019-02-06T08:50:20.846737Z",
     "start_time": "2019-02-06T08:50:20.840159Z"
    },
    "hidden": true
   },
   "outputs": [],
   "source": [
    "def d_dv_dNormPsi_dxk(x, y, p, k, pLap):\n",
    "    term1 = dNormPsiP_dv(x,y,p,pLap-4) * (dPsi_dxj(x,y,p,k)*dPsi2_dxj2(x,y,p,k) + dPsi_dxj(x,y,p,1-k)*d_dy_dPsi_dx(x,y,p,1-k))\n",
    "    term2 = norm_psi(x,y,p)**(pLap-4) * d_dv_bracket_k(x,y,p,k)\n",
    "    \n",
    "    return (pLap-2)*(term1 + term2)"
   ]
  },
  {
   "cell_type": "markdown",
   "metadata": {
    "hidden": true
   },
   "source": [
    "$$ \\p{}{w_j} \\left( \\p{}{x_k}|\\nabla \\Psi|^{p-2} \\p{\\Psi}{x_k} \\right) = \\left(\\p{}{w_j}\\p{}{x_k}|\\nabla \\Psi|^{p-2}\\right) \\p{\\Psi}{x_k} + \\p{}{x_k}|\\nabla \\Psi|^{p-2} \\left( \\p{}{w_j}\\p{\\Psi}{x_k} \\right) $$"
   ]
  },
  {
   "cell_type": "code",
   "execution_count": 47,
   "metadata": {
    "ExecuteTime": {
     "end_time": "2019-02-06T08:50:20.853082Z",
     "start_time": "2019-02-06T08:50:20.848647Z"
    },
    "hidden": true
   },
   "outputs": [],
   "source": [
    "def d_dwj_dNormPsi_dxk_dPsi_dxk(x, y, p, j, k, pLap):\n",
    "    term1 = d_dwj_dNormPsi_dxk(x, y, p, j, k, pLap) * dPsi_dxj(x, y, p, k)\n",
    "    term2 = dNormPsi_dxj(x, y, p, k, pLap) * d_dwj_dPsi_dxk(x, y, p, j, k)\n",
    "    \n",
    "    return term1 + term2"
   ]
  },
  {
   "cell_type": "markdown",
   "metadata": {
    "hidden": true
   },
   "source": [
    "$$ \\p{}{u} \\left( \\p{}{x_k}|\\nabla \\Psi|^{p-2} \\p{\\Psi}{x_k} \\right) = \\left(\\p{}{u}\\p{}{x_k}|\\nabla \\Psi|^{p-2}\\right) \\p{\\Psi}{x_k} + \\p{}{x_k}|\\nabla \\Psi|^{p-2} \\left( \\p{}{u}\\p{\\Psi}{x_k} \\right) $$"
   ]
  },
  {
   "cell_type": "code",
   "execution_count": 48,
   "metadata": {
    "ExecuteTime": {
     "end_time": "2019-02-06T08:50:20.859481Z",
     "start_time": "2019-02-06T08:50:20.855016Z"
    },
    "hidden": true
   },
   "outputs": [],
   "source": [
    "def d_du_dNormPsi_dxk_dPsi_dxk(x, y, p, k, pLap):\n",
    "    term1 = d_du_dNormPsi_dxk(x, y, p, k, pLap) * dPsi_dxj(x, y, p, k)\n",
    "    term2 = dNormPsi_dxj(x, y, p, k, pLap) * d_du_dPsi_dxk(x, y, p, k)\n",
    "    \n",
    "    return term1 + term2"
   ]
  },
  {
   "cell_type": "markdown",
   "metadata": {
    "hidden": true
   },
   "source": [
    "$$ \\p{}{v} \\left( \\p{}{x_k}|\\nabla \\Psi|^{p-2} \\p{\\Psi}{x_k} \\right) = \\left(\\p{}{v}\\p{}{x_k}|\\nabla \\Psi|^{p-2}\\right) \\p{\\Psi}{x_k} + \\p{}{x_k}|\\nabla \\Psi|^{p-2} \\left( \\p{}{v}\\p{\\Psi}{x_k} \\right) $$"
   ]
  },
  {
   "cell_type": "code",
   "execution_count": 49,
   "metadata": {
    "ExecuteTime": {
     "end_time": "2019-02-06T08:50:20.866109Z",
     "start_time": "2019-02-06T08:50:20.861331Z"
    },
    "hidden": true
   },
   "outputs": [],
   "source": [
    "def d_dv_dNormPsi_dxk_dPsi_dxk(x, y, p, k, pLap):\n",
    "    term1 = d_dv_dNormPsi_dxk(x, y, p, k, pLap) * dPsi_dxj(x, y, p, k)\n",
    "    term2 = dNormPsi_dxj(x, y, p, k, pLap) * d_dv_dPsi_dxk(x, y, p, k)\n",
    "    \n",
    "    return term1 + term2"
   ]
  },
  {
   "cell_type": "markdown",
   "metadata": {
    "hidden": true
   },
   "source": [
    "$$ \\p{}{w_j} \\left( |\\nabla \\Psi|^{p-2} \\p{^2 \\Psi}{x_k^2} \\right) = \\p{}{w_j}|\\nabla \\Psi|^{p-2} \\p{^2 \\Psi}{x_k^2} + |\\nabla \\Psi|^{p-2} \\left( \\p{}{w_j} \\p{^2 \\Psi}{x_k^2} \\right) $$"
   ]
  },
  {
   "cell_type": "code",
   "execution_count": 50,
   "metadata": {
    "ExecuteTime": {
     "end_time": "2019-02-06T08:50:20.889084Z",
     "start_time": "2019-02-06T08:50:20.868022Z"
    },
    "hidden": true
   },
   "outputs": [],
   "source": [
    "def d_dwj_NormPsi_dPsi2_dxk2(x, y, p, j, k, pLap):\n",
    "    term1 = dNormPsiP_dwj(x,y,p,j,pLap-2) * dPsi2_dxj2(x,y,p,k)\n",
    "    term2 = norm_psi(x,y,p)**(pLap-2) * d_dwj_dPsi2_dxk2(x,y,p,j,k)\n",
    "    return term1 + term2"
   ]
  },
  {
   "cell_type": "markdown",
   "metadata": {
    "hidden": true
   },
   "source": [
    "$$ \\p{}{u} \\left( |\\nabla \\Psi|^{p-2} \\p{^2 \\Psi}{x_k^2} \\right) = \\p{}{u}|\\nabla \\Psi|^{p-2} \\p{^2 \\Psi}{x_k^2} + |\\nabla \\Psi|^{p-2} \\left( \\p{}{u} \\p{^2 \\Psi}{x_k^2} \\right) $$"
   ]
  },
  {
   "cell_type": "code",
   "execution_count": 51,
   "metadata": {
    "ExecuteTime": {
     "end_time": "2019-02-06T08:50:20.897781Z",
     "start_time": "2019-02-06T08:50:20.891628Z"
    },
    "hidden": true
   },
   "outputs": [],
   "source": [
    "def d_du_NormPsi_dPsi2_dxk2(x, y, p, k, pLap):\n",
    "    term1 = dNormPsiP_du(x,y,p,pLap-2) * dPsi2_dxj2(x,y,p,k)\n",
    "    term2 = norm_psi(x,y,p)**(pLap-2) * d_du_dPsi2_dxk2(x,y,p,k)\n",
    "    return term1 + term2"
   ]
  },
  {
   "cell_type": "markdown",
   "metadata": {
    "hidden": true
   },
   "source": [
    "$$ \\p{}{v} \\left( |\\nabla \\Psi|^{p-2} \\p{^2 \\Psi}{x_k^2} \\right) = \\p{}{v}|\\nabla \\Psi|^{p-2} \\p{^2 \\Psi}{x_k^2} + |\\nabla \\Psi|^{p-2} \\left( \\p{}{v} \\p{^2 \\Psi}{x_k^2} \\right) $$"
   ]
  },
  {
   "cell_type": "code",
   "execution_count": 52,
   "metadata": {
    "ExecuteTime": {
     "end_time": "2019-02-06T08:50:20.906335Z",
     "start_time": "2019-02-06T08:50:20.900360Z"
    },
    "code_folding": [],
    "hidden": true
   },
   "outputs": [],
   "source": [
    "def d_dv_NormPsi_dPsi2_dxk2(x, y, p, k, pLap):\n",
    "    term1 = dNormPsiP_dv(x,y,p,pLap-2) * dPsi2_dxj2(x,y,p,k)\n",
    "    term2 = norm_psi(x,y,p)**(pLap-2) * d_dv_dPsi2_dxk2(x,y,p,k)\n",
    "    return term1 + term2"
   ]
  },
  {
   "cell_type": "markdown",
   "metadata": {
    "hidden": true
   },
   "source": [
    "## Cost function"
   ]
  },
  {
   "cell_type": "markdown",
   "metadata": {
    "hidden": true
   },
   "source": [
    "$$J =  \\sum \\left( \\frac{1}{p} |\\nabla\\Psi|^p  +  f(x_i,y_i) \\Psi(x_i, y_i) \\right) d\\Omega $$"
   ]
  },
  {
   "cell_type": "code",
   "execution_count": 53,
   "metadata": {
    "ExecuteTime": {
     "end_time": "2019-02-06T08:50:20.940257Z",
     "start_time": "2019-02-06T08:50:20.908178Z"
    },
    "hidden": true
   },
   "outputs": [],
   "source": [
    "def energy(points, p, pLap, dOmega):\n",
    "    energy_sum = []\n",
    "    for x, y in points:\n",
    "        e = (norm_psi(x,y,p)**pLap / pLap + f(x,y)*psi_t(x,y,p)) * dOmega\n",
    "        energy_sum.append(e)\n",
    "    return sum(energy_sum)"
   ]
  },
  {
   "cell_type": "markdown",
   "metadata": {
    "hidden": true
   },
   "source": [
    "$$E[\\vec{p}] = \\sum_i \\left\\{ \\p{}{ x}|\\nabla \\Psi|^{p-2} \\p{\\Psi}{ x} + |\\nabla \\Psi|^{p-2} \\p{^2 \\Psi}{ x^2} + \\p{}{ y}|\\nabla \\Psi|^{p-2} \\p{\\Psi}{ y} + |\\nabla \\Psi|^{p-2} \\p{^2 \\Psi}{ y^2} - f(x_i,y_i) \\right\\}^2$$"
   ]
  },
  {
   "cell_type": "code",
   "execution_count": 54,
   "metadata": {
    "ExecuteTime": {
     "end_time": "2019-02-06T08:50:20.953922Z",
     "start_time": "2019-02-06T08:50:20.943875Z"
    },
    "hidden": true
   },
   "outputs": [],
   "source": [
    "def error(x, y, p, pLap):\n",
    "    term1 = dNormPsi_dxj(x,y,p,0,pLap) * dPsi_dxj(x,y,p,0)\n",
    "    term2 = norm_psi(x,y,p)**(pLap-2) * dPsi2_dxj2(x,y,p,0)\n",
    "    term3 = dNormPsi_dxj(x,y,p,1,pLap) * dPsi_dxj(x,y,p,1)\n",
    "    term4 = norm_psi(x,y,p)**(pLap-2) * dPsi2_dxj2(x,y,p,1)\n",
    "    return term1 + term2 + term3 + term4 - f(x,y)"
   ]
  },
  {
   "cell_type": "code",
   "execution_count": 55,
   "metadata": {
    "ExecuteTime": {
     "end_time": "2019-02-06T08:50:20.960694Z",
     "start_time": "2019-02-06T08:50:20.955972Z"
    },
    "hidden": true
   },
   "outputs": [],
   "source": [
    "def cost(points, p, pLap):\n",
    "    loss = []\n",
    "    for x, y in points:\n",
    "        err_sq = error(x, y, p, pLap)**2\n",
    "        loss.append(err_sq)\n",
    "\n",
    "    return sum(loss)"
   ]
  },
  {
   "cell_type": "markdown",
   "metadata": {
    "hidden": true
   },
   "source": [
    "## Gradients"
   ]
  },
  {
   "cell_type": "markdown",
   "metadata": {
    "hidden": true
   },
   "source": [
    "$$ \\p{J}{w_j} = \\sum \\left( \\frac{1}{p} \\p{}{w_j} |\\nabla \\Psi|^p + f(x_i,y_i)\\p{\\Psi}{w_j} \\right) d\\Omega $$"
   ]
  },
  {
   "cell_type": "code",
   "execution_count": 56,
   "metadata": {
    "ExecuteTime": {
     "end_time": "2019-02-06T08:50:20.972160Z",
     "start_time": "2019-02-06T08:50:20.962735Z"
    },
    "hidden": true
   },
   "outputs": [],
   "source": [
    "def dJ_dwj(points, p, j, pLap, dOmega):\n",
    "    grad_sum = []\n",
    "    for x, y in points:\n",
    "        e = (dNormPsiP_dwj(x,y,p,j,pLap)/pLap + f(x,y)*dPsi_dwj(x,y,p,j)) * dOmega\n",
    "        grad_sum.append(e)\n",
    "    return sum(grad_sum)"
   ]
  },
  {
   "cell_type": "markdown",
   "metadata": {
    "hidden": true
   },
   "source": [
    "$$ \\p{J}{u} = \\sum \\left( \\frac{1}{p} \\p{}{u} |\\nabla \\Psi|^p + f(x_i,y_i)\\p{\\Psi}{u} \\right) d\\Omega $$"
   ]
  },
  {
   "cell_type": "code",
   "execution_count": 57,
   "metadata": {
    "ExecuteTime": {
     "end_time": "2019-02-06T08:50:20.979266Z",
     "start_time": "2019-02-06T08:50:20.974101Z"
    },
    "hidden": true
   },
   "outputs": [],
   "source": [
    "def dJ_du(points, p, pLap, dOmega):\n",
    "    grad_sum = []\n",
    "    for x, y in points:\n",
    "        e = (dNormPsiP_du(x,y,p,pLap)/pLap + f(x,y)*dPsi_du(x,y,p)) * dOmega\n",
    "        grad_sum.append(e)\n",
    "    return sum(grad_sum)"
   ]
  },
  {
   "cell_type": "markdown",
   "metadata": {
    "hidden": true
   },
   "source": [
    "$$ \\p{J}{v} = \\sum \\left( \\frac{1}{p} \\p{}{v} |\\nabla \\Psi|^p + f(x_i,y_i)\\p{\\Psi}{v} \\right) d\\Omega $$"
   ]
  },
  {
   "cell_type": "code",
   "execution_count": 58,
   "metadata": {
    "ExecuteTime": {
     "end_time": "2019-02-06T08:50:20.987040Z",
     "start_time": "2019-02-06T08:50:20.981345Z"
    },
    "hidden": true
   },
   "outputs": [],
   "source": [
    "def dJ_dv(points, p, pLap, dOmega):\n",
    "    grad_sum = []\n",
    "    for x, y in points:\n",
    "        e = (dNormPsiP_dv(x,y,p,pLap)/pLap + f(x,y)*dPsi_dv(x,y,p)) * dOmega\n",
    "        grad_sum.append(e)\n",
    "    return sum(grad_sum)"
   ]
  },
  {
   "cell_type": "code",
   "execution_count": 59,
   "metadata": {
    "ExecuteTime": {
     "end_time": "2019-02-06T08:50:20.994157Z",
     "start_time": "2019-02-06T08:50:20.989545Z"
    },
    "hidden": true
   },
   "outputs": [],
   "source": [
    "def get_gradients(points, p, pLap, dOmega):\n",
    "    dw0 = dJ_dwj(points, p, 0, pLap, dOmega)\n",
    "    dw1 = dJ_dwj(points, p, 1, pLap, dOmega)\n",
    "    du = dJ_du(points, p, pLap, dOmega)\n",
    "    dv = dJ_dv(points, p, pLap, dOmega)\n",
    "    return dw0, dw1, du, dv"
   ]
  },
  {
   "cell_type": "markdown",
   "metadata": {
    "hidden": true
   },
   "source": [
    "## Relative norm"
   ]
  },
  {
   "cell_type": "code",
   "execution_count": 60,
   "metadata": {
    "ExecuteTime": {
     "end_time": "2019-02-06T08:50:21.052214Z",
     "start_time": "2019-02-06T08:50:20.996495Z"
    },
    "hidden": true
   },
   "outputs": [],
   "source": [
    "def relative_norm(points, p, dOmega, pLap):\n",
    "    trial1 = np.sum(dOmega*np.array([np.linalg.norm(psi_t(x,y,p) - psi_a(x,y))**pLap\n",
    "                                     for x, y in points]))**(1/pLap)\n",
    "\n",
    "    trial2 = np.sum([dOmega*((dPsi_dxj(x,y,p,0)-psi_a_dx(x,y))**2 +\n",
    "                             (dPsi_dxj(x,y,p,1)-psi_a_dy(x,y))**2)**(pLap/2)\n",
    "                     for x, y in points])**(1/pLap)\n",
    "\n",
    "    ana1 = np.sum(dOmega*np.array([np.linalg.norm(psi_a(x,y))**pLap\n",
    "                                         for x, y in points]))**(1/pLap)\n",
    "    ana2 = np.sum([dOmega*(psi_a_dx(x,y)**2 + psi_a_dy(x,y)**2)**(pLap/2)\n",
    "                   for x, y in points])**(1/pLap)\n",
    "    \n",
    "    relative_norm = (trial1 + trial2) / (ana1 + ana2)\n",
    "\n",
    "    return relative_norm"
   ]
  },
  {
   "cell_type": "markdown",
   "metadata": {},
   "source": [
    "# Training"
   ]
  },
  {
   "cell_type": "code",
   "execution_count": 162,
   "metadata": {
    "ExecuteTime": {
     "end_time": "2019-02-06T08:50:27.635915Z",
     "start_time": "2019-02-06T08:50:27.596113Z"
    },
    "code_folding": [
     1,
     22,
     88,
     144
    ]
   },
   "outputs": [],
   "source": [
    "class NNTrain:\n",
    "    def __init__(self, nx=10, pLap=4, hidden_nodes=10, output_name='', lr=0.1, update_interval=50):\n",
    "        self.training_started = False\n",
    "        self.nx = nx\n",
    "        self.pLap = pLap\n",
    "        self.hidden_nodes = hidden_nodes\n",
    "        self.output_name = output_name\n",
    "        self.lr = lr\n",
    "        self.update_interval = update_interval\n",
    "        \n",
    "        self.dOmega = (1. / nx)**2\n",
    "        self.points = list(itertools.product(np.linspace(0, 1, nx), \n",
    "                                             np.linspace(0, 1, nx)))\n",
    "\n",
    "        self.energy_rate = []\n",
    "        self.cost_rate = []\n",
    "        self.relative_norm = []\n",
    "        \n",
    "        self.p = np.array([np.random.randn(2,hidden_nodes),\n",
    "                           np.random.randn(hidden_nodes),\n",
    "                           np.random.randn(hidden_nodes)])\n",
    "        \n",
    "    def train(self, itr=1000):\n",
    "        if self.training_started:\n",
    "            mode='a'\n",
    "        else:\n",
    "            mode='w'\n",
    "        self.training_started=True\n",
    "        \n",
    "        with open('output/'+ self.output_name +'_output.csv', mode) as file:\n",
    "            if mode=='w':\n",
    "                file.write('Iteration,Energy,Cost,Relative Norm,Energy Diff,Cost Diff,Relative Norm Diff\\n')\n",
    "            start=len(self.energy_rate)-1\n",
    "            if start<1:\n",
    "                start+=1\n",
    "                self.energy_rate.append(energy(self.points, self.p, self.pLap, self.dOmega))\n",
    "                self.cost_rate.append(cost(self.points, self.p, self.pLap))\n",
    "                self.relative_norm.append(relative_norm(self.points, self.p, self.dOmega,self.pLap))\n",
    "\n",
    "            self.previous_p = self.p.copy()\n",
    "            self.previous_previous_p = self.previous_p.copy()\n",
    "\n",
    "            i = start\n",
    "            while i < start+itr:\n",
    "                self.previous_previous_p = self.previous_p.copy()\n",
    "                self.previous_p = self.p.copy()\n",
    "                \n",
    "                dw0, dw1, du, dv = get_gradients(self.points, self.p, self.pLap, self.dOmega)\n",
    "                self.p[0][0] -= self.lr * dw0\n",
    "                self.p[0][1] -= self.lr * dw1\n",
    "                self.p[1] -= self.lr * du\n",
    "                self.p[2] -= self.lr * dv\n",
    "\n",
    "                self.energy_rate.append(energy(self.points,self.p,self.pLap,self.dOmega))\n",
    "                self.cost_rate.append(cost(self.points,self.p,self.pLap))\n",
    "                self.relative_norm.append(relative_norm(self.points, self.p, self.dOmega, self.pLap))\n",
    "                \n",
    "                cost_diff = self.cost_rate[i]-self.cost_rate[i+1]\n",
    "                relative_norm_diff = self.relative_norm[i]-self.relative_norm[i+1]\n",
    "                \n",
    "                if (cost_diff < 0 or relative_norm_diff < 0) and self.lr>1e-4:\n",
    "                    i-=1\n",
    "                    self.p = self.previous_previous_p.copy()\n",
    "                    self.lr *= 0.9\n",
    "                    self.energy_rate = self.energy_rate[:-2]\n",
    "                    self.cost_rate = self.cost_rate[:-2]\n",
    "                    self.relative_norm = self.relative_norm[:-2]\n",
    "                    print('learning rate updated: {}'.format(self.lr))\n",
    "#                     input('Press enter to continue.')\n",
    "                    continue\n",
    "\n",
    "    #             print('Itr:{} Energy:{:.8f} Cost:{:.3f} Rel_Norm:{:.8f} energy_imp:{:.8f} cost_imp:{:.4f} rel_norm_imp:{:.8f} \\n'.format(\n",
    "    #                 i+1,self.energy_rate[i+1], self.cost_rate[i+1], self.relative_norm[i+1],\n",
    "    #                 self.energy_rate[i]-self.energy_rate[i+1],\n",
    "    #                 self.cost_rate[i]-self.cost_rate[i+1],\n",
    "    #                 self.relative_norm[i]-self.relative_norm[i+1]))\n",
    "\n",
    "                file.write('{},{:.8f},{:.3f},{:.8f},{:.8f},{:.4f},{:.8f}\\n'.format(\n",
    "                    i+1,self.energy_rate[i+1], self.cost_rate[i+1], self.relative_norm[i+1],\n",
    "                    self.energy_rate[i]-self.energy_rate[i+1],\n",
    "                    self.cost_rate[i]-self.cost_rate[i+1],\n",
    "                    self.relative_norm[i]-self.relative_norm[i+1]))\n",
    "\n",
    "                if i%self.update_interval==0:\n",
    "                    file.flush()\n",
    "                    \n",
    "                i+=1\n",
    "\n",
    "    def train_without_cost(self, itr=1000):\n",
    "        if self.training_started:\n",
    "            mode='a'\n",
    "        else:\n",
    "            mode='w'\n",
    "        self.training_started=True\n",
    "        \n",
    "        with open('output/'+ self.output_name +'_output.csv', mode) as file:\n",
    "            if mode=='w':\n",
    "                file.write('Iteration,Energy,Relative Norm,Energy Diff,Relative Norm Diff\\n')\n",
    "            start=len(self.energy_rate)-1\n",
    "            if start<1:\n",
    "                start+=1\n",
    "                self.energy_rate.append(energy(self.points, self.p, self.pLap, self.dOmega))\n",
    "                self.relative_norm.append(relative_norm(self.points, self.p, self.dOmega,self.pLap))\n",
    "\n",
    "            self.previous_p = self.p.copy()\n",
    "            self.previous_previous_p = self.previous_p.copy()\n",
    "\n",
    "            i = start\n",
    "            while i < start+itr:\n",
    "                self.previous_previous_p = self.previous_p.copy()\n",
    "                self.previous_p = self.p.copy()\n",
    "                \n",
    "                dw0, dw1, du, dv = get_gradients(self.points, self.p, self.pLap, self.dOmega)\n",
    "                self.p[0][0] -= self.lr * dw0\n",
    "                self.p[0][1] -= self.lr * dw1\n",
    "                self.p[1] -= self.lr * du\n",
    "                self.p[2] -= self.lr * dv\n",
    "\n",
    "                self.energy_rate.append(energy(self.points,self.p,self.pLap,self.dOmega))\n",
    "                self.relative_norm.append(relative_norm(self.points, self.p, self.dOmega, self.pLap))\n",
    "                \n",
    "                energy_rate_diff = self.energy_rate[i]-self.energy_rate[i+1]\n",
    "                relative_norm_diff = self.relative_norm[i]-self.relative_norm[i+1]\n",
    "                \n",
    "                if (energy_rate_diff < 0) and self.lr>1e-3:\n",
    "                    i-=1\n",
    "                    self.p = self.previous_previous_p.copy()\n",
    "                    self.lr *= 0.7\n",
    "                    self.energy_rate = self.energy_rate[:-2]\n",
    "                    self.relative_norm = self.relative_norm[:-2]\n",
    "                    print('learning rate updated: {}'.format(self.lr))\n",
    "                    continue\n",
    "\n",
    "                file.write('{},{:.10f},{:.10f},{:.10f},{:.10f}\\n'.format(\n",
    "                    i+1,self.energy_rate[i+1], self.relative_norm[i+1],\n",
    "                    energy_rate_diff,\n",
    "                    relative_norm_diff))\n",
    "\n",
    "                if i%self.update_interval==0:\n",
    "                    file.flush()\n",
    "                    \n",
    "                i+=1\n",
    "\n",
    "                \n",
    "    def save_result(self):\n",
    "        timestr = time.strftime(\"%Y%m%d-%H%M\")\n",
    "        np.savez('output/'+ timestr + '_' + self.output_name +'_nn_params.npz', self.p)\n",
    "        np.savez('output/'+ timestr + '_' + self.output_name +'_energy_rate.npz', self.energy_rate)\n",
    "        np.savez('output/'+ timestr + '_' + self.output_name +'_cost_rate.npz', self.cost_rate)\n",
    "        np.savez('output/'+ timestr + '_' + self.output_name +'_relative_norm.npz', self.relative_norm)        "
   ]
  },
  {
   "cell_type": "code",
   "execution_count": 179,
   "metadata": {
    "ExecuteTime": {
     "end_time": "2019-02-06T08:50:31.185373Z",
     "start_time": "2019-02-06T08:50:31.181569Z"
    },
    "pixiedust": {
     "displayParams": {}
    }
   },
   "outputs": [],
   "source": [
    "np.random.seed(1445)\n",
    "test = NNTrain(pLap=4, hidden_nodes=25, nx=25, lr=0.1, update_interval=10)"
   ]
  },
  {
   "cell_type": "code",
   "execution_count": null,
   "metadata": {
    "ExecuteTime": {
     "end_time": "2019-02-06T08:56:20.882340Z",
     "start_time": "2019-02-06T08:50:32.877821Z"
    },
    "pixiedust": {
     "displayParams": {}
    },
    "scrolled": true
   },
   "outputs": [],
   "source": [
    "# %%pixie_debugger\n",
    "test.train_without_cost(5000)"
   ]
  },
  {
   "cell_type": "code",
   "execution_count": 183,
   "metadata": {},
   "outputs": [],
   "source": [
    "test.lr = 0.7"
   ]
  },
  {
   "cell_type": "code",
   "execution_count": null,
   "metadata": {},
   "outputs": [],
   "source": []
  },
  {
   "cell_type": "code",
   "execution_count": 152,
   "metadata": {},
   "outputs": [],
   "source": [
    "test.p[0][0] -= test.lr * dw0\n",
    "test.p[0][1] -= test.lr * dw1\n",
    "test.p[1] -= test.lr * du\n",
    "test.p[2] -= test.lr * dv"
   ]
  },
  {
   "cell_type": "code",
   "execution_count": 153,
   "metadata": {
    "scrolled": true
   },
   "outputs": [],
   "source": [
    "dw0,dw1,du,dv = get_gradients(test.points, test.p, test.pLap, test.dOmega)"
   ]
  },
  {
   "cell_type": "code",
   "execution_count": 155,
   "metadata": {},
   "outputs": [
    {
     "name": "stdout",
     "output_type": "stream",
     "text": [
      "0.15690850685174879\n",
      "0.13823891734543758\n",
      "0.2645514004468145\n",
      "-10.294249027443614\n"
     ]
    }
   ],
   "source": [
    "print(dw0)\n",
    "print(dw1)\n",
    "print(du)\n",
    "print(dv)"
   ]
  },
  {
   "cell_type": "code",
   "execution_count": 174,
   "metadata": {},
   "outputs": [
    {
     "data": {
      "text/plain": [
       "0.3429999999999999"
      ]
     },
     "execution_count": 174,
     "metadata": {},
     "output_type": "execute_result"
    }
   ],
   "source": [
    "test.lr"
   ]
  },
  {
   "cell_type": "code",
   "execution_count": null,
   "metadata": {},
   "outputs": [],
   "source": []
  },
  {
   "cell_type": "code",
   "execution_count": 125,
   "metadata": {},
   "outputs": [
    {
     "data": {
      "text/plain": [
       "-6.4280021696709655"
      ]
     },
     "execution_count": 125,
     "metadata": {},
     "output_type": "execute_result"
    }
   ],
   "source": [
    "N(0,0,test.p)"
   ]
  },
  {
   "cell_type": "code",
   "execution_count": null,
   "metadata": {},
   "outputs": [],
   "source": []
  },
  {
   "cell_type": "code",
   "execution_count": 167,
   "metadata": {
    "ExecuteTime": {
     "end_time": "2019-02-06T08:03:10.789883Z",
     "start_time": "2019-02-06T08:03:10.783224Z"
    },
    "scrolled": true
   },
   "outputs": [],
   "source": [
    "test.lr = 10"
   ]
  },
  {
   "cell_type": "code",
   "execution_count": 102,
   "metadata": {},
   "outputs": [
    {
     "data": {
      "text/plain": [
       "1306"
      ]
     },
     "execution_count": 102,
     "metadata": {},
     "output_type": "execute_result"
    }
   ],
   "source": [
    "len(test.relative_norm)"
   ]
  },
  {
   "cell_type": "code",
   "execution_count": 117,
   "metadata": {
    "ExecuteTime": {
     "end_time": "2019-02-03T10:11:23.388773Z",
     "start_time": "2019-02-03T10:11:23.379383Z"
    }
   },
   "outputs": [
    {
     "data": {
      "text/plain": [
       "{'divide': 'warn', 'over': 'warn', 'under': 'ignore', 'invalid': 'warn'}"
      ]
     },
     "execution_count": 117,
     "metadata": {},
     "output_type": "execute_result"
    }
   ],
   "source": [
    "np.seterr(all='raise')"
   ]
  },
  {
   "cell_type": "code",
   "execution_count": null,
   "metadata": {},
   "outputs": [],
   "source": [
    "test.save_result()"
   ]
  },
  {
   "cell_type": "markdown",
   "metadata": {},
   "source": [
    "# Graphs"
   ]
  },
  {
   "cell_type": "code",
   "execution_count": 77,
   "metadata": {
    "ExecuteTime": {
     "end_time": "2019-02-03T15:01:17.191114Z",
     "start_time": "2019-02-03T15:01:17.183703Z"
    }
   },
   "outputs": [],
   "source": [
    "%matplotlib notebook\n",
    "%matplotlib notebook"
   ]
  },
  {
   "cell_type": "markdown",
   "metadata": {},
   "source": [
    "## Error vs Iterations"
   ]
  },
  {
   "cell_type": "code",
   "execution_count": 66,
   "metadata": {
    "ExecuteTime": {
     "end_time": "2019-02-03T07:40:38.430703Z",
     "start_time": "2019-02-03T07:40:38.417948Z"
    }
   },
   "outputs": [],
   "source": [
    "def plot_cost(err_rate, min_it=0, max_it=None, title=None):\n",
    "    plt.figure()\n",
    "    plt.gca().ticklabel_format(useOffset=False)\n",
    "    plt.gca().set_xlabel('Iterations')\n",
    "#     plt.gca().set_ylabel('Cost')\n",
    "    plt.plot(np.arange(len(err_rate[min_it:max_it])), np.array(err_rate[min_it:max_it]))\n",
    "    plt.title(title)\n",
    "    plt.ticklabel_format(style='plain', axis='y')\n",
    "    plt.show()"
   ]
  },
  {
   "cell_type": "code",
   "execution_count": 80,
   "metadata": {
    "ExecuteTime": {
     "end_time": "2019-02-03T07:43:12.325518Z",
     "start_time": "2019-02-03T07:43:12.096287Z"
    }
   },
   "outputs": [
    {
     "data": {
      "application/javascript": [
       "/* Put everything inside the global mpl namespace */\n",
       "window.mpl = {};\n",
       "\n",
       "\n",
       "mpl.get_websocket_type = function() {\n",
       "    if (typeof(WebSocket) !== 'undefined') {\n",
       "        return WebSocket;\n",
       "    } else if (typeof(MozWebSocket) !== 'undefined') {\n",
       "        return MozWebSocket;\n",
       "    } else {\n",
       "        alert('Your browser does not have WebSocket support.' +\n",
       "              'Please try Chrome, Safari or Firefox ≥ 6. ' +\n",
       "              'Firefox 4 and 5 are also supported but you ' +\n",
       "              'have to enable WebSockets in about:config.');\n",
       "    };\n",
       "}\n",
       "\n",
       "mpl.figure = function(figure_id, websocket, ondownload, parent_element) {\n",
       "    this.id = figure_id;\n",
       "\n",
       "    this.ws = websocket;\n",
       "\n",
       "    this.supports_binary = (this.ws.binaryType != undefined);\n",
       "\n",
       "    if (!this.supports_binary) {\n",
       "        var warnings = document.getElementById(\"mpl-warnings\");\n",
       "        if (warnings) {\n",
       "            warnings.style.display = 'block';\n",
       "            warnings.textContent = (\n",
       "                \"This browser does not support binary websocket messages. \" +\n",
       "                    \"Performance may be slow.\");\n",
       "        }\n",
       "    }\n",
       "\n",
       "    this.imageObj = new Image();\n",
       "\n",
       "    this.context = undefined;\n",
       "    this.message = undefined;\n",
       "    this.canvas = undefined;\n",
       "    this.rubberband_canvas = undefined;\n",
       "    this.rubberband_context = undefined;\n",
       "    this.format_dropdown = undefined;\n",
       "\n",
       "    this.image_mode = 'full';\n",
       "\n",
       "    this.root = $('<div/>');\n",
       "    this._root_extra_style(this.root)\n",
       "    this.root.attr('style', 'display: inline-block');\n",
       "\n",
       "    $(parent_element).append(this.root);\n",
       "\n",
       "    this._init_header(this);\n",
       "    this._init_canvas(this);\n",
       "    this._init_toolbar(this);\n",
       "\n",
       "    var fig = this;\n",
       "\n",
       "    this.waiting = false;\n",
       "\n",
       "    this.ws.onopen =  function () {\n",
       "            fig.send_message(\"supports_binary\", {value: fig.supports_binary});\n",
       "            fig.send_message(\"send_image_mode\", {});\n",
       "            if (mpl.ratio != 1) {\n",
       "                fig.send_message(\"set_dpi_ratio\", {'dpi_ratio': mpl.ratio});\n",
       "            }\n",
       "            fig.send_message(\"refresh\", {});\n",
       "        }\n",
       "\n",
       "    this.imageObj.onload = function() {\n",
       "            if (fig.image_mode == 'full') {\n",
       "                // Full images could contain transparency (where diff images\n",
       "                // almost always do), so we need to clear the canvas so that\n",
       "                // there is no ghosting.\n",
       "                fig.context.clearRect(0, 0, fig.canvas.width, fig.canvas.height);\n",
       "            }\n",
       "            fig.context.drawImage(fig.imageObj, 0, 0);\n",
       "        };\n",
       "\n",
       "    this.imageObj.onunload = function() {\n",
       "        fig.ws.close();\n",
       "    }\n",
       "\n",
       "    this.ws.onmessage = this._make_on_message_function(this);\n",
       "\n",
       "    this.ondownload = ondownload;\n",
       "}\n",
       "\n",
       "mpl.figure.prototype._init_header = function() {\n",
       "    var titlebar = $(\n",
       "        '<div class=\"ui-dialog-titlebar ui-widget-header ui-corner-all ' +\n",
       "        'ui-helper-clearfix\"/>');\n",
       "    var titletext = $(\n",
       "        '<div class=\"ui-dialog-title\" style=\"width: 100%; ' +\n",
       "        'text-align: center; padding: 3px;\"/>');\n",
       "    titlebar.append(titletext)\n",
       "    this.root.append(titlebar);\n",
       "    this.header = titletext[0];\n",
       "}\n",
       "\n",
       "\n",
       "\n",
       "mpl.figure.prototype._canvas_extra_style = function(canvas_div) {\n",
       "\n",
       "}\n",
       "\n",
       "\n",
       "mpl.figure.prototype._root_extra_style = function(canvas_div) {\n",
       "\n",
       "}\n",
       "\n",
       "mpl.figure.prototype._init_canvas = function() {\n",
       "    var fig = this;\n",
       "\n",
       "    var canvas_div = $('<div/>');\n",
       "\n",
       "    canvas_div.attr('style', 'position: relative; clear: both; outline: 0');\n",
       "\n",
       "    function canvas_keyboard_event(event) {\n",
       "        return fig.key_event(event, event['data']);\n",
       "    }\n",
       "\n",
       "    canvas_div.keydown('key_press', canvas_keyboard_event);\n",
       "    canvas_div.keyup('key_release', canvas_keyboard_event);\n",
       "    this.canvas_div = canvas_div\n",
       "    this._canvas_extra_style(canvas_div)\n",
       "    this.root.append(canvas_div);\n",
       "\n",
       "    var canvas = $('<canvas/>');\n",
       "    canvas.addClass('mpl-canvas');\n",
       "    canvas.attr('style', \"left: 0; top: 0; z-index: 0; outline: 0\")\n",
       "\n",
       "    this.canvas = canvas[0];\n",
       "    this.context = canvas[0].getContext(\"2d\");\n",
       "\n",
       "    var backingStore = this.context.backingStorePixelRatio ||\n",
       "\tthis.context.webkitBackingStorePixelRatio ||\n",
       "\tthis.context.mozBackingStorePixelRatio ||\n",
       "\tthis.context.msBackingStorePixelRatio ||\n",
       "\tthis.context.oBackingStorePixelRatio ||\n",
       "\tthis.context.backingStorePixelRatio || 1;\n",
       "\n",
       "    mpl.ratio = (window.devicePixelRatio || 1) / backingStore;\n",
       "\n",
       "    var rubberband = $('<canvas/>');\n",
       "    rubberband.attr('style', \"position: absolute; left: 0; top: 0; z-index: 1;\")\n",
       "\n",
       "    var pass_mouse_events = true;\n",
       "\n",
       "    canvas_div.resizable({\n",
       "        start: function(event, ui) {\n",
       "            pass_mouse_events = false;\n",
       "        },\n",
       "        resize: function(event, ui) {\n",
       "            fig.request_resize(ui.size.width, ui.size.height);\n",
       "        },\n",
       "        stop: function(event, ui) {\n",
       "            pass_mouse_events = true;\n",
       "            fig.request_resize(ui.size.width, ui.size.height);\n",
       "        },\n",
       "    });\n",
       "\n",
       "    function mouse_event_fn(event) {\n",
       "        if (pass_mouse_events)\n",
       "            return fig.mouse_event(event, event['data']);\n",
       "    }\n",
       "\n",
       "    rubberband.mousedown('button_press', mouse_event_fn);\n",
       "    rubberband.mouseup('button_release', mouse_event_fn);\n",
       "    // Throttle sequential mouse events to 1 every 20ms.\n",
       "    rubberband.mousemove('motion_notify', mouse_event_fn);\n",
       "\n",
       "    rubberband.mouseenter('figure_enter', mouse_event_fn);\n",
       "    rubberband.mouseleave('figure_leave', mouse_event_fn);\n",
       "\n",
       "    canvas_div.on(\"wheel\", function (event) {\n",
       "        event = event.originalEvent;\n",
       "        event['data'] = 'scroll'\n",
       "        if (event.deltaY < 0) {\n",
       "            event.step = 1;\n",
       "        } else {\n",
       "            event.step = -1;\n",
       "        }\n",
       "        mouse_event_fn(event);\n",
       "    });\n",
       "\n",
       "    canvas_div.append(canvas);\n",
       "    canvas_div.append(rubberband);\n",
       "\n",
       "    this.rubberband = rubberband;\n",
       "    this.rubberband_canvas = rubberband[0];\n",
       "    this.rubberband_context = rubberband[0].getContext(\"2d\");\n",
       "    this.rubberband_context.strokeStyle = \"#000000\";\n",
       "\n",
       "    this._resize_canvas = function(width, height) {\n",
       "        // Keep the size of the canvas, canvas container, and rubber band\n",
       "        // canvas in synch.\n",
       "        canvas_div.css('width', width)\n",
       "        canvas_div.css('height', height)\n",
       "\n",
       "        canvas.attr('width', width * mpl.ratio);\n",
       "        canvas.attr('height', height * mpl.ratio);\n",
       "        canvas.attr('style', 'width: ' + width + 'px; height: ' + height + 'px;');\n",
       "\n",
       "        rubberband.attr('width', width);\n",
       "        rubberband.attr('height', height);\n",
       "    }\n",
       "\n",
       "    // Set the figure to an initial 600x600px, this will subsequently be updated\n",
       "    // upon first draw.\n",
       "    this._resize_canvas(600, 600);\n",
       "\n",
       "    // Disable right mouse context menu.\n",
       "    $(this.rubberband_canvas).bind(\"contextmenu\",function(e){\n",
       "        return false;\n",
       "    });\n",
       "\n",
       "    function set_focus () {\n",
       "        canvas.focus();\n",
       "        canvas_div.focus();\n",
       "    }\n",
       "\n",
       "    window.setTimeout(set_focus, 100);\n",
       "}\n",
       "\n",
       "mpl.figure.prototype._init_toolbar = function() {\n",
       "    var fig = this;\n",
       "\n",
       "    var nav_element = $('<div/>')\n",
       "    nav_element.attr('style', 'width: 100%');\n",
       "    this.root.append(nav_element);\n",
       "\n",
       "    // Define a callback function for later on.\n",
       "    function toolbar_event(event) {\n",
       "        return fig.toolbar_button_onclick(event['data']);\n",
       "    }\n",
       "    function toolbar_mouse_event(event) {\n",
       "        return fig.toolbar_button_onmouseover(event['data']);\n",
       "    }\n",
       "\n",
       "    for(var toolbar_ind in mpl.toolbar_items) {\n",
       "        var name = mpl.toolbar_items[toolbar_ind][0];\n",
       "        var tooltip = mpl.toolbar_items[toolbar_ind][1];\n",
       "        var image = mpl.toolbar_items[toolbar_ind][2];\n",
       "        var method_name = mpl.toolbar_items[toolbar_ind][3];\n",
       "\n",
       "        if (!name) {\n",
       "            // put a spacer in here.\n",
       "            continue;\n",
       "        }\n",
       "        var button = $('<button/>');\n",
       "        button.addClass('ui-button ui-widget ui-state-default ui-corner-all ' +\n",
       "                        'ui-button-icon-only');\n",
       "        button.attr('role', 'button');\n",
       "        button.attr('aria-disabled', 'false');\n",
       "        button.click(method_name, toolbar_event);\n",
       "        button.mouseover(tooltip, toolbar_mouse_event);\n",
       "\n",
       "        var icon_img = $('<span/>');\n",
       "        icon_img.addClass('ui-button-icon-primary ui-icon');\n",
       "        icon_img.addClass(image);\n",
       "        icon_img.addClass('ui-corner-all');\n",
       "\n",
       "        var tooltip_span = $('<span/>');\n",
       "        tooltip_span.addClass('ui-button-text');\n",
       "        tooltip_span.html(tooltip);\n",
       "\n",
       "        button.append(icon_img);\n",
       "        button.append(tooltip_span);\n",
       "\n",
       "        nav_element.append(button);\n",
       "    }\n",
       "\n",
       "    var fmt_picker_span = $('<span/>');\n",
       "\n",
       "    var fmt_picker = $('<select/>');\n",
       "    fmt_picker.addClass('mpl-toolbar-option ui-widget ui-widget-content');\n",
       "    fmt_picker_span.append(fmt_picker);\n",
       "    nav_element.append(fmt_picker_span);\n",
       "    this.format_dropdown = fmt_picker[0];\n",
       "\n",
       "    for (var ind in mpl.extensions) {\n",
       "        var fmt = mpl.extensions[ind];\n",
       "        var option = $(\n",
       "            '<option/>', {selected: fmt === mpl.default_extension}).html(fmt);\n",
       "        fmt_picker.append(option)\n",
       "    }\n",
       "\n",
       "    // Add hover states to the ui-buttons\n",
       "    $( \".ui-button\" ).hover(\n",
       "        function() { $(this).addClass(\"ui-state-hover\");},\n",
       "        function() { $(this).removeClass(\"ui-state-hover\");}\n",
       "    );\n",
       "\n",
       "    var status_bar = $('<span class=\"mpl-message\"/>');\n",
       "    nav_element.append(status_bar);\n",
       "    this.message = status_bar[0];\n",
       "}\n",
       "\n",
       "mpl.figure.prototype.request_resize = function(x_pixels, y_pixels) {\n",
       "    // Request matplotlib to resize the figure. Matplotlib will then trigger a resize in the client,\n",
       "    // which will in turn request a refresh of the image.\n",
       "    this.send_message('resize', {'width': x_pixels, 'height': y_pixels});\n",
       "}\n",
       "\n",
       "mpl.figure.prototype.send_message = function(type, properties) {\n",
       "    properties['type'] = type;\n",
       "    properties['figure_id'] = this.id;\n",
       "    this.ws.send(JSON.stringify(properties));\n",
       "}\n",
       "\n",
       "mpl.figure.prototype.send_draw_message = function() {\n",
       "    if (!this.waiting) {\n",
       "        this.waiting = true;\n",
       "        this.ws.send(JSON.stringify({type: \"draw\", figure_id: this.id}));\n",
       "    }\n",
       "}\n",
       "\n",
       "\n",
       "mpl.figure.prototype.handle_save = function(fig, msg) {\n",
       "    var format_dropdown = fig.format_dropdown;\n",
       "    var format = format_dropdown.options[format_dropdown.selectedIndex].value;\n",
       "    fig.ondownload(fig, format);\n",
       "}\n",
       "\n",
       "\n",
       "mpl.figure.prototype.handle_resize = function(fig, msg) {\n",
       "    var size = msg['size'];\n",
       "    if (size[0] != fig.canvas.width || size[1] != fig.canvas.height) {\n",
       "        fig._resize_canvas(size[0], size[1]);\n",
       "        fig.send_message(\"refresh\", {});\n",
       "    };\n",
       "}\n",
       "\n",
       "mpl.figure.prototype.handle_rubberband = function(fig, msg) {\n",
       "    var x0 = msg['x0'] / mpl.ratio;\n",
       "    var y0 = (fig.canvas.height - msg['y0']) / mpl.ratio;\n",
       "    var x1 = msg['x1'] / mpl.ratio;\n",
       "    var y1 = (fig.canvas.height - msg['y1']) / mpl.ratio;\n",
       "    x0 = Math.floor(x0) + 0.5;\n",
       "    y0 = Math.floor(y0) + 0.5;\n",
       "    x1 = Math.floor(x1) + 0.5;\n",
       "    y1 = Math.floor(y1) + 0.5;\n",
       "    var min_x = Math.min(x0, x1);\n",
       "    var min_y = Math.min(y0, y1);\n",
       "    var width = Math.abs(x1 - x0);\n",
       "    var height = Math.abs(y1 - y0);\n",
       "\n",
       "    fig.rubberband_context.clearRect(\n",
       "        0, 0, fig.canvas.width, fig.canvas.height);\n",
       "\n",
       "    fig.rubberband_context.strokeRect(min_x, min_y, width, height);\n",
       "}\n",
       "\n",
       "mpl.figure.prototype.handle_figure_label = function(fig, msg) {\n",
       "    // Updates the figure title.\n",
       "    fig.header.textContent = msg['label'];\n",
       "}\n",
       "\n",
       "mpl.figure.prototype.handle_cursor = function(fig, msg) {\n",
       "    var cursor = msg['cursor'];\n",
       "    switch(cursor)\n",
       "    {\n",
       "    case 0:\n",
       "        cursor = 'pointer';\n",
       "        break;\n",
       "    case 1:\n",
       "        cursor = 'default';\n",
       "        break;\n",
       "    case 2:\n",
       "        cursor = 'crosshair';\n",
       "        break;\n",
       "    case 3:\n",
       "        cursor = 'move';\n",
       "        break;\n",
       "    }\n",
       "    fig.rubberband_canvas.style.cursor = cursor;\n",
       "}\n",
       "\n",
       "mpl.figure.prototype.handle_message = function(fig, msg) {\n",
       "    fig.message.textContent = msg['message'];\n",
       "}\n",
       "\n",
       "mpl.figure.prototype.handle_draw = function(fig, msg) {\n",
       "    // Request the server to send over a new figure.\n",
       "    fig.send_draw_message();\n",
       "}\n",
       "\n",
       "mpl.figure.prototype.handle_image_mode = function(fig, msg) {\n",
       "    fig.image_mode = msg['mode'];\n",
       "}\n",
       "\n",
       "mpl.figure.prototype.updated_canvas_event = function() {\n",
       "    // Called whenever the canvas gets updated.\n",
       "    this.send_message(\"ack\", {});\n",
       "}\n",
       "\n",
       "// A function to construct a web socket function for onmessage handling.\n",
       "// Called in the figure constructor.\n",
       "mpl.figure.prototype._make_on_message_function = function(fig) {\n",
       "    return function socket_on_message(evt) {\n",
       "        if (evt.data instanceof Blob) {\n",
       "            /* FIXME: We get \"Resource interpreted as Image but\n",
       "             * transferred with MIME type text/plain:\" errors on\n",
       "             * Chrome.  But how to set the MIME type?  It doesn't seem\n",
       "             * to be part of the websocket stream */\n",
       "            evt.data.type = \"image/png\";\n",
       "\n",
       "            /* Free the memory for the previous frames */\n",
       "            if (fig.imageObj.src) {\n",
       "                (window.URL || window.webkitURL).revokeObjectURL(\n",
       "                    fig.imageObj.src);\n",
       "            }\n",
       "\n",
       "            fig.imageObj.src = (window.URL || window.webkitURL).createObjectURL(\n",
       "                evt.data);\n",
       "            fig.updated_canvas_event();\n",
       "            fig.waiting = false;\n",
       "            return;\n",
       "        }\n",
       "        else if (typeof evt.data === 'string' && evt.data.slice(0, 21) == \"data:image/png;base64\") {\n",
       "            fig.imageObj.src = evt.data;\n",
       "            fig.updated_canvas_event();\n",
       "            fig.waiting = false;\n",
       "            return;\n",
       "        }\n",
       "\n",
       "        var msg = JSON.parse(evt.data);\n",
       "        var msg_type = msg['type'];\n",
       "\n",
       "        // Call the  \"handle_{type}\" callback, which takes\n",
       "        // the figure and JSON message as its only arguments.\n",
       "        try {\n",
       "            var callback = fig[\"handle_\" + msg_type];\n",
       "        } catch (e) {\n",
       "            console.log(\"No handler for the '\" + msg_type + \"' message type: \", msg);\n",
       "            return;\n",
       "        }\n",
       "\n",
       "        if (callback) {\n",
       "            try {\n",
       "                // console.log(\"Handling '\" + msg_type + \"' message: \", msg);\n",
       "                callback(fig, msg);\n",
       "            } catch (e) {\n",
       "                console.log(\"Exception inside the 'handler_\" + msg_type + \"' callback:\", e, e.stack, msg);\n",
       "            }\n",
       "        }\n",
       "    };\n",
       "}\n",
       "\n",
       "// from http://stackoverflow.com/questions/1114465/getting-mouse-location-in-canvas\n",
       "mpl.findpos = function(e) {\n",
       "    //this section is from http://www.quirksmode.org/js/events_properties.html\n",
       "    var targ;\n",
       "    if (!e)\n",
       "        e = window.event;\n",
       "    if (e.target)\n",
       "        targ = e.target;\n",
       "    else if (e.srcElement)\n",
       "        targ = e.srcElement;\n",
       "    if (targ.nodeType == 3) // defeat Safari bug\n",
       "        targ = targ.parentNode;\n",
       "\n",
       "    // jQuery normalizes the pageX and pageY\n",
       "    // pageX,Y are the mouse positions relative to the document\n",
       "    // offset() returns the position of the element relative to the document\n",
       "    var x = e.pageX - $(targ).offset().left;\n",
       "    var y = e.pageY - $(targ).offset().top;\n",
       "\n",
       "    return {\"x\": x, \"y\": y};\n",
       "};\n",
       "\n",
       "/*\n",
       " * return a copy of an object with only non-object keys\n",
       " * we need this to avoid circular references\n",
       " * http://stackoverflow.com/a/24161582/3208463\n",
       " */\n",
       "function simpleKeys (original) {\n",
       "  return Object.keys(original).reduce(function (obj, key) {\n",
       "    if (typeof original[key] !== 'object')\n",
       "        obj[key] = original[key]\n",
       "    return obj;\n",
       "  }, {});\n",
       "}\n",
       "\n",
       "mpl.figure.prototype.mouse_event = function(event, name) {\n",
       "    var canvas_pos = mpl.findpos(event)\n",
       "\n",
       "    if (name === 'button_press')\n",
       "    {\n",
       "        this.canvas.focus();\n",
       "        this.canvas_div.focus();\n",
       "    }\n",
       "\n",
       "    var x = canvas_pos.x * mpl.ratio;\n",
       "    var y = canvas_pos.y * mpl.ratio;\n",
       "\n",
       "    this.send_message(name, {x: x, y: y, button: event.button,\n",
       "                             step: event.step,\n",
       "                             guiEvent: simpleKeys(event)});\n",
       "\n",
       "    /* This prevents the web browser from automatically changing to\n",
       "     * the text insertion cursor when the button is pressed.  We want\n",
       "     * to control all of the cursor setting manually through the\n",
       "     * 'cursor' event from matplotlib */\n",
       "    event.preventDefault();\n",
       "    return false;\n",
       "}\n",
       "\n",
       "mpl.figure.prototype._key_event_extra = function(event, name) {\n",
       "    // Handle any extra behaviour associated with a key event\n",
       "}\n",
       "\n",
       "mpl.figure.prototype.key_event = function(event, name) {\n",
       "\n",
       "    // Prevent repeat events\n",
       "    if (name == 'key_press')\n",
       "    {\n",
       "        if (event.which === this._key)\n",
       "            return;\n",
       "        else\n",
       "            this._key = event.which;\n",
       "    }\n",
       "    if (name == 'key_release')\n",
       "        this._key = null;\n",
       "\n",
       "    var value = '';\n",
       "    if (event.ctrlKey && event.which != 17)\n",
       "        value += \"ctrl+\";\n",
       "    if (event.altKey && event.which != 18)\n",
       "        value += \"alt+\";\n",
       "    if (event.shiftKey && event.which != 16)\n",
       "        value += \"shift+\";\n",
       "\n",
       "    value += 'k';\n",
       "    value += event.which.toString();\n",
       "\n",
       "    this._key_event_extra(event, name);\n",
       "\n",
       "    this.send_message(name, {key: value,\n",
       "                             guiEvent: simpleKeys(event)});\n",
       "    return false;\n",
       "}\n",
       "\n",
       "mpl.figure.prototype.toolbar_button_onclick = function(name) {\n",
       "    if (name == 'download') {\n",
       "        this.handle_save(this, null);\n",
       "    } else {\n",
       "        this.send_message(\"toolbar_button\", {name: name});\n",
       "    }\n",
       "};\n",
       "\n",
       "mpl.figure.prototype.toolbar_button_onmouseover = function(tooltip) {\n",
       "    this.message.textContent = tooltip;\n",
       "};\n",
       "mpl.toolbar_items = [[\"Home\", \"Reset original view\", \"fa fa-home icon-home\", \"home\"], [\"Back\", \"Back to previous view\", \"fa fa-arrow-left icon-arrow-left\", \"back\"], [\"Forward\", \"Forward to next view\", \"fa fa-arrow-right icon-arrow-right\", \"forward\"], [\"\", \"\", \"\", \"\"], [\"Pan\", \"Pan axes with left mouse, zoom with right\", \"fa fa-arrows icon-move\", \"pan\"], [\"Zoom\", \"Zoom to rectangle\", \"fa fa-square-o icon-check-empty\", \"zoom\"], [\"\", \"\", \"\", \"\"], [\"Download\", \"Download plot\", \"fa fa-floppy-o icon-save\", \"download\"]];\n",
       "\n",
       "mpl.extensions = [\"eps\", \"jpeg\", \"pdf\", \"png\", \"ps\", \"raw\", \"svg\", \"tif\"];\n",
       "\n",
       "mpl.default_extension = \"png\";var comm_websocket_adapter = function(comm) {\n",
       "    // Create a \"websocket\"-like object which calls the given IPython comm\n",
       "    // object with the appropriate methods. Currently this is a non binary\n",
       "    // socket, so there is still some room for performance tuning.\n",
       "    var ws = {};\n",
       "\n",
       "    ws.close = function() {\n",
       "        comm.close()\n",
       "    };\n",
       "    ws.send = function(m) {\n",
       "        //console.log('sending', m);\n",
       "        comm.send(m);\n",
       "    };\n",
       "    // Register the callback with on_msg.\n",
       "    comm.on_msg(function(msg) {\n",
       "        //console.log('receiving', msg['content']['data'], msg);\n",
       "        // Pass the mpl event to the overridden (by mpl) onmessage function.\n",
       "        ws.onmessage(msg['content']['data'])\n",
       "    });\n",
       "    return ws;\n",
       "}\n",
       "\n",
       "mpl.mpl_figure_comm = function(comm, msg) {\n",
       "    // This is the function which gets called when the mpl process\n",
       "    // starts-up an IPython Comm through the \"matplotlib\" channel.\n",
       "\n",
       "    var id = msg.content.data.id;\n",
       "    // Get hold of the div created by the display call when the Comm\n",
       "    // socket was opened in Python.\n",
       "    var element = $(\"#\" + id);\n",
       "    var ws_proxy = comm_websocket_adapter(comm)\n",
       "\n",
       "    function ondownload(figure, format) {\n",
       "        window.open(figure.imageObj.src);\n",
       "    }\n",
       "\n",
       "    var fig = new mpl.figure(id, ws_proxy,\n",
       "                           ondownload,\n",
       "                           element.get(0));\n",
       "\n",
       "    // Call onopen now - mpl needs it, as it is assuming we've passed it a real\n",
       "    // web socket which is closed, not our websocket->open comm proxy.\n",
       "    ws_proxy.onopen();\n",
       "\n",
       "    fig.parent_element = element.get(0);\n",
       "    fig.cell_info = mpl.find_output_cell(\"<div id='\" + id + \"'></div>\");\n",
       "    if (!fig.cell_info) {\n",
       "        console.error(\"Failed to find cell for figure\", id, fig);\n",
       "        return;\n",
       "    }\n",
       "\n",
       "    var output_index = fig.cell_info[2]\n",
       "    var cell = fig.cell_info[0];\n",
       "\n",
       "};\n",
       "\n",
       "mpl.figure.prototype.handle_close = function(fig, msg) {\n",
       "    var width = fig.canvas.width/mpl.ratio\n",
       "    fig.root.unbind('remove')\n",
       "\n",
       "    // Update the output cell to use the data from the current canvas.\n",
       "    fig.push_to_output();\n",
       "    var dataURL = fig.canvas.toDataURL();\n",
       "    // Re-enable the keyboard manager in IPython - without this line, in FF,\n",
       "    // the notebook keyboard shortcuts fail.\n",
       "    IPython.keyboard_manager.enable()\n",
       "    $(fig.parent_element).html('<img src=\"' + dataURL + '\" width=\"' + width + '\">');\n",
       "    fig.close_ws(fig, msg);\n",
       "}\n",
       "\n",
       "mpl.figure.prototype.close_ws = function(fig, msg){\n",
       "    fig.send_message('closing', msg);\n",
       "    // fig.ws.close()\n",
       "}\n",
       "\n",
       "mpl.figure.prototype.push_to_output = function(remove_interactive) {\n",
       "    // Turn the data on the canvas into data in the output cell.\n",
       "    var width = this.canvas.width/mpl.ratio\n",
       "    var dataURL = this.canvas.toDataURL();\n",
       "    this.cell_info[1]['text/html'] = '<img src=\"' + dataURL + '\" width=\"' + width + '\">';\n",
       "}\n",
       "\n",
       "mpl.figure.prototype.updated_canvas_event = function() {\n",
       "    // Tell IPython that the notebook contents must change.\n",
       "    IPython.notebook.set_dirty(true);\n",
       "    this.send_message(\"ack\", {});\n",
       "    var fig = this;\n",
       "    // Wait a second, then push the new image to the DOM so\n",
       "    // that it is saved nicely (might be nice to debounce this).\n",
       "    setTimeout(function () { fig.push_to_output() }, 1000);\n",
       "}\n",
       "\n",
       "mpl.figure.prototype._init_toolbar = function() {\n",
       "    var fig = this;\n",
       "\n",
       "    var nav_element = $('<div/>')\n",
       "    nav_element.attr('style', 'width: 100%');\n",
       "    this.root.append(nav_element);\n",
       "\n",
       "    // Define a callback function for later on.\n",
       "    function toolbar_event(event) {\n",
       "        return fig.toolbar_button_onclick(event['data']);\n",
       "    }\n",
       "    function toolbar_mouse_event(event) {\n",
       "        return fig.toolbar_button_onmouseover(event['data']);\n",
       "    }\n",
       "\n",
       "    for(var toolbar_ind in mpl.toolbar_items){\n",
       "        var name = mpl.toolbar_items[toolbar_ind][0];\n",
       "        var tooltip = mpl.toolbar_items[toolbar_ind][1];\n",
       "        var image = mpl.toolbar_items[toolbar_ind][2];\n",
       "        var method_name = mpl.toolbar_items[toolbar_ind][3];\n",
       "\n",
       "        if (!name) { continue; };\n",
       "\n",
       "        var button = $('<button class=\"btn btn-default\" href=\"#\" title=\"' + name + '\"><i class=\"fa ' + image + ' fa-lg\"></i></button>');\n",
       "        button.click(method_name, toolbar_event);\n",
       "        button.mouseover(tooltip, toolbar_mouse_event);\n",
       "        nav_element.append(button);\n",
       "    }\n",
       "\n",
       "    // Add the status bar.\n",
       "    var status_bar = $('<span class=\"mpl-message\" style=\"text-align:right; float: right;\"/>');\n",
       "    nav_element.append(status_bar);\n",
       "    this.message = status_bar[0];\n",
       "\n",
       "    // Add the close button to the window.\n",
       "    var buttongrp = $('<div class=\"btn-group inline pull-right\"></div>');\n",
       "    var button = $('<button class=\"btn btn-mini btn-primary\" href=\"#\" title=\"Stop Interaction\"><i class=\"fa fa-power-off icon-remove icon-large\"></i></button>');\n",
       "    button.click(function (evt) { fig.handle_close(fig, {}); } );\n",
       "    button.mouseover('Stop Interaction', toolbar_mouse_event);\n",
       "    buttongrp.append(button);\n",
       "    var titlebar = this.root.find($('.ui-dialog-titlebar'));\n",
       "    titlebar.prepend(buttongrp);\n",
       "}\n",
       "\n",
       "mpl.figure.prototype._root_extra_style = function(el){\n",
       "    var fig = this\n",
       "    el.on(\"remove\", function(){\n",
       "\tfig.close_ws(fig, {});\n",
       "    });\n",
       "}\n",
       "\n",
       "mpl.figure.prototype._canvas_extra_style = function(el){\n",
       "    // this is important to make the div 'focusable\n",
       "    el.attr('tabindex', 0)\n",
       "    // reach out to IPython and tell the keyboard manager to turn it's self\n",
       "    // off when our div gets focus\n",
       "\n",
       "    // location in version 3\n",
       "    if (IPython.notebook.keyboard_manager) {\n",
       "        IPython.notebook.keyboard_manager.register_events(el);\n",
       "    }\n",
       "    else {\n",
       "        // location in version 2\n",
       "        IPython.keyboard_manager.register_events(el);\n",
       "    }\n",
       "\n",
       "}\n",
       "\n",
       "mpl.figure.prototype._key_event_extra = function(event, name) {\n",
       "    var manager = IPython.notebook.keyboard_manager;\n",
       "    if (!manager)\n",
       "        manager = IPython.keyboard_manager;\n",
       "\n",
       "    // Check for shift+enter\n",
       "    if (event.shiftKey && event.which == 13) {\n",
       "        this.canvas_div.blur();\n",
       "        event.shiftKey = false;\n",
       "        // Send a \"J\" for go to next cell\n",
       "        event.which = 74;\n",
       "        event.keyCode = 74;\n",
       "        manager.command_mode();\n",
       "        manager.handle_keydown(event);\n",
       "    }\n",
       "}\n",
       "\n",
       "mpl.figure.prototype.handle_save = function(fig, msg) {\n",
       "    fig.ondownload(fig, null);\n",
       "}\n",
       "\n",
       "\n",
       "mpl.find_output_cell = function(html_output) {\n",
       "    // Return the cell and output element which can be found *uniquely* in the notebook.\n",
       "    // Note - this is a bit hacky, but it is done because the \"notebook_saving.Notebook\"\n",
       "    // IPython event is triggered only after the cells have been serialised, which for\n",
       "    // our purposes (turning an active figure into a static one), is too late.\n",
       "    var cells = IPython.notebook.get_cells();\n",
       "    var ncells = cells.length;\n",
       "    for (var i=0; i<ncells; i++) {\n",
       "        var cell = cells[i];\n",
       "        if (cell.cell_type === 'code'){\n",
       "            for (var j=0; j<cell.output_area.outputs.length; j++) {\n",
       "                var data = cell.output_area.outputs[j];\n",
       "                if (data.data) {\n",
       "                    // IPython >= 3 moved mimebundle to data attribute of output\n",
       "                    data = data.data;\n",
       "                }\n",
       "                if (data['text/html'] == html_output) {\n",
       "                    return [cell, data, j];\n",
       "                }\n",
       "            }\n",
       "        }\n",
       "    }\n",
       "}\n",
       "\n",
       "// Register the function which deals with the matplotlib target/channel.\n",
       "// The kernel may be null if the page has been refreshed.\n",
       "if (IPython.notebook.kernel != null) {\n",
       "    IPython.notebook.kernel.comm_manager.register_target('matplotlib', mpl.mpl_figure_comm);\n",
       "}\n"
      ],
      "text/plain": [
       "<IPython.core.display.Javascript object>"
      ]
     },
     "metadata": {},
     "output_type": "display_data"
    },
    {
     "data": {
      "text/html": [
       "<img src=\"data:image/png;base64,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\" width=\"682\">"
      ],
      "text/plain": [
       "<IPython.core.display.HTML object>"
      ]
     },
     "metadata": {},
     "output_type": "display_data"
    }
   ],
   "source": [
    "plot_cost(test.relative_norm, 1, 20000)"
   ]
  },
  {
   "cell_type": "markdown",
   "metadata": {},
   "source": [
    "## Solution Accuracy on the domain"
   ]
  },
  {
   "cell_type": "code",
   "execution_count": 283,
   "metadata": {
    "ExecuteTime": {
     "end_time": "2019-02-03T15:01:20.564986Z",
     "start_time": "2019-02-03T15:01:19.866422Z"
    },
    "scrolled": false
   },
   "outputs": [
    {
     "data": {
      "application/javascript": [
       "/* Put everything inside the global mpl namespace */\n",
       "window.mpl = {};\n",
       "\n",
       "\n",
       "mpl.get_websocket_type = function() {\n",
       "    if (typeof(WebSocket) !== 'undefined') {\n",
       "        return WebSocket;\n",
       "    } else if (typeof(MozWebSocket) !== 'undefined') {\n",
       "        return MozWebSocket;\n",
       "    } else {\n",
       "        alert('Your browser does not have WebSocket support.' +\n",
       "              'Please try Chrome, Safari or Firefox ≥ 6. ' +\n",
       "              'Firefox 4 and 5 are also supported but you ' +\n",
       "              'have to enable WebSockets in about:config.');\n",
       "    };\n",
       "}\n",
       "\n",
       "mpl.figure = function(figure_id, websocket, ondownload, parent_element) {\n",
       "    this.id = figure_id;\n",
       "\n",
       "    this.ws = websocket;\n",
       "\n",
       "    this.supports_binary = (this.ws.binaryType != undefined);\n",
       "\n",
       "    if (!this.supports_binary) {\n",
       "        var warnings = document.getElementById(\"mpl-warnings\");\n",
       "        if (warnings) {\n",
       "            warnings.style.display = 'block';\n",
       "            warnings.textContent = (\n",
       "                \"This browser does not support binary websocket messages. \" +\n",
       "                    \"Performance may be slow.\");\n",
       "        }\n",
       "    }\n",
       "\n",
       "    this.imageObj = new Image();\n",
       "\n",
       "    this.context = undefined;\n",
       "    this.message = undefined;\n",
       "    this.canvas = undefined;\n",
       "    this.rubberband_canvas = undefined;\n",
       "    this.rubberband_context = undefined;\n",
       "    this.format_dropdown = undefined;\n",
       "\n",
       "    this.image_mode = 'full';\n",
       "\n",
       "    this.root = $('<div/>');\n",
       "    this._root_extra_style(this.root)\n",
       "    this.root.attr('style', 'display: inline-block');\n",
       "\n",
       "    $(parent_element).append(this.root);\n",
       "\n",
       "    this._init_header(this);\n",
       "    this._init_canvas(this);\n",
       "    this._init_toolbar(this);\n",
       "\n",
       "    var fig = this;\n",
       "\n",
       "    this.waiting = false;\n",
       "\n",
       "    this.ws.onopen =  function () {\n",
       "            fig.send_message(\"supports_binary\", {value: fig.supports_binary});\n",
       "            fig.send_message(\"send_image_mode\", {});\n",
       "            if (mpl.ratio != 1) {\n",
       "                fig.send_message(\"set_dpi_ratio\", {'dpi_ratio': mpl.ratio});\n",
       "            }\n",
       "            fig.send_message(\"refresh\", {});\n",
       "        }\n",
       "\n",
       "    this.imageObj.onload = function() {\n",
       "            if (fig.image_mode == 'full') {\n",
       "                // Full images could contain transparency (where diff images\n",
       "                // almost always do), so we need to clear the canvas so that\n",
       "                // there is no ghosting.\n",
       "                fig.context.clearRect(0, 0, fig.canvas.width, fig.canvas.height);\n",
       "            }\n",
       "            fig.context.drawImage(fig.imageObj, 0, 0);\n",
       "        };\n",
       "\n",
       "    this.imageObj.onunload = function() {\n",
       "        fig.ws.close();\n",
       "    }\n",
       "\n",
       "    this.ws.onmessage = this._make_on_message_function(this);\n",
       "\n",
       "    this.ondownload = ondownload;\n",
       "}\n",
       "\n",
       "mpl.figure.prototype._init_header = function() {\n",
       "    var titlebar = $(\n",
       "        '<div class=\"ui-dialog-titlebar ui-widget-header ui-corner-all ' +\n",
       "        'ui-helper-clearfix\"/>');\n",
       "    var titletext = $(\n",
       "        '<div class=\"ui-dialog-title\" style=\"width: 100%; ' +\n",
       "        'text-align: center; padding: 3px;\"/>');\n",
       "    titlebar.append(titletext)\n",
       "    this.root.append(titlebar);\n",
       "    this.header = titletext[0];\n",
       "}\n",
       "\n",
       "\n",
       "\n",
       "mpl.figure.prototype._canvas_extra_style = function(canvas_div) {\n",
       "\n",
       "}\n",
       "\n",
       "\n",
       "mpl.figure.prototype._root_extra_style = function(canvas_div) {\n",
       "\n",
       "}\n",
       "\n",
       "mpl.figure.prototype._init_canvas = function() {\n",
       "    var fig = this;\n",
       "\n",
       "    var canvas_div = $('<div/>');\n",
       "\n",
       "    canvas_div.attr('style', 'position: relative; clear: both; outline: 0');\n",
       "\n",
       "    function canvas_keyboard_event(event) {\n",
       "        return fig.key_event(event, event['data']);\n",
       "    }\n",
       "\n",
       "    canvas_div.keydown('key_press', canvas_keyboard_event);\n",
       "    canvas_div.keyup('key_release', canvas_keyboard_event);\n",
       "    this.canvas_div = canvas_div\n",
       "    this._canvas_extra_style(canvas_div)\n",
       "    this.root.append(canvas_div);\n",
       "\n",
       "    var canvas = $('<canvas/>');\n",
       "    canvas.addClass('mpl-canvas');\n",
       "    canvas.attr('style', \"left: 0; top: 0; z-index: 0; outline: 0\")\n",
       "\n",
       "    this.canvas = canvas[0];\n",
       "    this.context = canvas[0].getContext(\"2d\");\n",
       "\n",
       "    var backingStore = this.context.backingStorePixelRatio ||\n",
       "\tthis.context.webkitBackingStorePixelRatio ||\n",
       "\tthis.context.mozBackingStorePixelRatio ||\n",
       "\tthis.context.msBackingStorePixelRatio ||\n",
       "\tthis.context.oBackingStorePixelRatio ||\n",
       "\tthis.context.backingStorePixelRatio || 1;\n",
       "\n",
       "    mpl.ratio = (window.devicePixelRatio || 1) / backingStore;\n",
       "\n",
       "    var rubberband = $('<canvas/>');\n",
       "    rubberband.attr('style', \"position: absolute; left: 0; top: 0; z-index: 1;\")\n",
       "\n",
       "    var pass_mouse_events = true;\n",
       "\n",
       "    canvas_div.resizable({\n",
       "        start: function(event, ui) {\n",
       "            pass_mouse_events = false;\n",
       "        },\n",
       "        resize: function(event, ui) {\n",
       "            fig.request_resize(ui.size.width, ui.size.height);\n",
       "        },\n",
       "        stop: function(event, ui) {\n",
       "            pass_mouse_events = true;\n",
       "            fig.request_resize(ui.size.width, ui.size.height);\n",
       "        },\n",
       "    });\n",
       "\n",
       "    function mouse_event_fn(event) {\n",
       "        if (pass_mouse_events)\n",
       "            return fig.mouse_event(event, event['data']);\n",
       "    }\n",
       "\n",
       "    rubberband.mousedown('button_press', mouse_event_fn);\n",
       "    rubberband.mouseup('button_release', mouse_event_fn);\n",
       "    // Throttle sequential mouse events to 1 every 20ms.\n",
       "    rubberband.mousemove('motion_notify', mouse_event_fn);\n",
       "\n",
       "    rubberband.mouseenter('figure_enter', mouse_event_fn);\n",
       "    rubberband.mouseleave('figure_leave', mouse_event_fn);\n",
       "\n",
       "    canvas_div.on(\"wheel\", function (event) {\n",
       "        event = event.originalEvent;\n",
       "        event['data'] = 'scroll'\n",
       "        if (event.deltaY < 0) {\n",
       "            event.step = 1;\n",
       "        } else {\n",
       "            event.step = -1;\n",
       "        }\n",
       "        mouse_event_fn(event);\n",
       "    });\n",
       "\n",
       "    canvas_div.append(canvas);\n",
       "    canvas_div.append(rubberband);\n",
       "\n",
       "    this.rubberband = rubberband;\n",
       "    this.rubberband_canvas = rubberband[0];\n",
       "    this.rubberband_context = rubberband[0].getContext(\"2d\");\n",
       "    this.rubberband_context.strokeStyle = \"#000000\";\n",
       "\n",
       "    this._resize_canvas = function(width, height) {\n",
       "        // Keep the size of the canvas, canvas container, and rubber band\n",
       "        // canvas in synch.\n",
       "        canvas_div.css('width', width)\n",
       "        canvas_div.css('height', height)\n",
       "\n",
       "        canvas.attr('width', width * mpl.ratio);\n",
       "        canvas.attr('height', height * mpl.ratio);\n",
       "        canvas.attr('style', 'width: ' + width + 'px; height: ' + height + 'px;');\n",
       "\n",
       "        rubberband.attr('width', width);\n",
       "        rubberband.attr('height', height);\n",
       "    }\n",
       "\n",
       "    // Set the figure to an initial 600x600px, this will subsequently be updated\n",
       "    // upon first draw.\n",
       "    this._resize_canvas(600, 600);\n",
       "\n",
       "    // Disable right mouse context menu.\n",
       "    $(this.rubberband_canvas).bind(\"contextmenu\",function(e){\n",
       "        return false;\n",
       "    });\n",
       "\n",
       "    function set_focus () {\n",
       "        canvas.focus();\n",
       "        canvas_div.focus();\n",
       "    }\n",
       "\n",
       "    window.setTimeout(set_focus, 100);\n",
       "}\n",
       "\n",
       "mpl.figure.prototype._init_toolbar = function() {\n",
       "    var fig = this;\n",
       "\n",
       "    var nav_element = $('<div/>')\n",
       "    nav_element.attr('style', 'width: 100%');\n",
       "    this.root.append(nav_element);\n",
       "\n",
       "    // Define a callback function for later on.\n",
       "    function toolbar_event(event) {\n",
       "        return fig.toolbar_button_onclick(event['data']);\n",
       "    }\n",
       "    function toolbar_mouse_event(event) {\n",
       "        return fig.toolbar_button_onmouseover(event['data']);\n",
       "    }\n",
       "\n",
       "    for(var toolbar_ind in mpl.toolbar_items) {\n",
       "        var name = mpl.toolbar_items[toolbar_ind][0];\n",
       "        var tooltip = mpl.toolbar_items[toolbar_ind][1];\n",
       "        var image = mpl.toolbar_items[toolbar_ind][2];\n",
       "        var method_name = mpl.toolbar_items[toolbar_ind][3];\n",
       "\n",
       "        if (!name) {\n",
       "            // put a spacer in here.\n",
       "            continue;\n",
       "        }\n",
       "        var button = $('<button/>');\n",
       "        button.addClass('ui-button ui-widget ui-state-default ui-corner-all ' +\n",
       "                        'ui-button-icon-only');\n",
       "        button.attr('role', 'button');\n",
       "        button.attr('aria-disabled', 'false');\n",
       "        button.click(method_name, toolbar_event);\n",
       "        button.mouseover(tooltip, toolbar_mouse_event);\n",
       "\n",
       "        var icon_img = $('<span/>');\n",
       "        icon_img.addClass('ui-button-icon-primary ui-icon');\n",
       "        icon_img.addClass(image);\n",
       "        icon_img.addClass('ui-corner-all');\n",
       "\n",
       "        var tooltip_span = $('<span/>');\n",
       "        tooltip_span.addClass('ui-button-text');\n",
       "        tooltip_span.html(tooltip);\n",
       "\n",
       "        button.append(icon_img);\n",
       "        button.append(tooltip_span);\n",
       "\n",
       "        nav_element.append(button);\n",
       "    }\n",
       "\n",
       "    var fmt_picker_span = $('<span/>');\n",
       "\n",
       "    var fmt_picker = $('<select/>');\n",
       "    fmt_picker.addClass('mpl-toolbar-option ui-widget ui-widget-content');\n",
       "    fmt_picker_span.append(fmt_picker);\n",
       "    nav_element.append(fmt_picker_span);\n",
       "    this.format_dropdown = fmt_picker[0];\n",
       "\n",
       "    for (var ind in mpl.extensions) {\n",
       "        var fmt = mpl.extensions[ind];\n",
       "        var option = $(\n",
       "            '<option/>', {selected: fmt === mpl.default_extension}).html(fmt);\n",
       "        fmt_picker.append(option)\n",
       "    }\n",
       "\n",
       "    // Add hover states to the ui-buttons\n",
       "    $( \".ui-button\" ).hover(\n",
       "        function() { $(this).addClass(\"ui-state-hover\");},\n",
       "        function() { $(this).removeClass(\"ui-state-hover\");}\n",
       "    );\n",
       "\n",
       "    var status_bar = $('<span class=\"mpl-message\"/>');\n",
       "    nav_element.append(status_bar);\n",
       "    this.message = status_bar[0];\n",
       "}\n",
       "\n",
       "mpl.figure.prototype.request_resize = function(x_pixels, y_pixels) {\n",
       "    // Request matplotlib to resize the figure. Matplotlib will then trigger a resize in the client,\n",
       "    // which will in turn request a refresh of the image.\n",
       "    this.send_message('resize', {'width': x_pixels, 'height': y_pixels});\n",
       "}\n",
       "\n",
       "mpl.figure.prototype.send_message = function(type, properties) {\n",
       "    properties['type'] = type;\n",
       "    properties['figure_id'] = this.id;\n",
       "    this.ws.send(JSON.stringify(properties));\n",
       "}\n",
       "\n",
       "mpl.figure.prototype.send_draw_message = function() {\n",
       "    if (!this.waiting) {\n",
       "        this.waiting = true;\n",
       "        this.ws.send(JSON.stringify({type: \"draw\", figure_id: this.id}));\n",
       "    }\n",
       "}\n",
       "\n",
       "\n",
       "mpl.figure.prototype.handle_save = function(fig, msg) {\n",
       "    var format_dropdown = fig.format_dropdown;\n",
       "    var format = format_dropdown.options[format_dropdown.selectedIndex].value;\n",
       "    fig.ondownload(fig, format);\n",
       "}\n",
       "\n",
       "\n",
       "mpl.figure.prototype.handle_resize = function(fig, msg) {\n",
       "    var size = msg['size'];\n",
       "    if (size[0] != fig.canvas.width || size[1] != fig.canvas.height) {\n",
       "        fig._resize_canvas(size[0], size[1]);\n",
       "        fig.send_message(\"refresh\", {});\n",
       "    };\n",
       "}\n",
       "\n",
       "mpl.figure.prototype.handle_rubberband = function(fig, msg) {\n",
       "    var x0 = msg['x0'] / mpl.ratio;\n",
       "    var y0 = (fig.canvas.height - msg['y0']) / mpl.ratio;\n",
       "    var x1 = msg['x1'] / mpl.ratio;\n",
       "    var y1 = (fig.canvas.height - msg['y1']) / mpl.ratio;\n",
       "    x0 = Math.floor(x0) + 0.5;\n",
       "    y0 = Math.floor(y0) + 0.5;\n",
       "    x1 = Math.floor(x1) + 0.5;\n",
       "    y1 = Math.floor(y1) + 0.5;\n",
       "    var min_x = Math.min(x0, x1);\n",
       "    var min_y = Math.min(y0, y1);\n",
       "    var width = Math.abs(x1 - x0);\n",
       "    var height = Math.abs(y1 - y0);\n",
       "\n",
       "    fig.rubberband_context.clearRect(\n",
       "        0, 0, fig.canvas.width, fig.canvas.height);\n",
       "\n",
       "    fig.rubberband_context.strokeRect(min_x, min_y, width, height);\n",
       "}\n",
       "\n",
       "mpl.figure.prototype.handle_figure_label = function(fig, msg) {\n",
       "    // Updates the figure title.\n",
       "    fig.header.textContent = msg['label'];\n",
       "}\n",
       "\n",
       "mpl.figure.prototype.handle_cursor = function(fig, msg) {\n",
       "    var cursor = msg['cursor'];\n",
       "    switch(cursor)\n",
       "    {\n",
       "    case 0:\n",
       "        cursor = 'pointer';\n",
       "        break;\n",
       "    case 1:\n",
       "        cursor = 'default';\n",
       "        break;\n",
       "    case 2:\n",
       "        cursor = 'crosshair';\n",
       "        break;\n",
       "    case 3:\n",
       "        cursor = 'move';\n",
       "        break;\n",
       "    }\n",
       "    fig.rubberband_canvas.style.cursor = cursor;\n",
       "}\n",
       "\n",
       "mpl.figure.prototype.handle_message = function(fig, msg) {\n",
       "    fig.message.textContent = msg['message'];\n",
       "}\n",
       "\n",
       "mpl.figure.prototype.handle_draw = function(fig, msg) {\n",
       "    // Request the server to send over a new figure.\n",
       "    fig.send_draw_message();\n",
       "}\n",
       "\n",
       "mpl.figure.prototype.handle_image_mode = function(fig, msg) {\n",
       "    fig.image_mode = msg['mode'];\n",
       "}\n",
       "\n",
       "mpl.figure.prototype.updated_canvas_event = function() {\n",
       "    // Called whenever the canvas gets updated.\n",
       "    this.send_message(\"ack\", {});\n",
       "}\n",
       "\n",
       "// A function to construct a web socket function for onmessage handling.\n",
       "// Called in the figure constructor.\n",
       "mpl.figure.prototype._make_on_message_function = function(fig) {\n",
       "    return function socket_on_message(evt) {\n",
       "        if (evt.data instanceof Blob) {\n",
       "            /* FIXME: We get \"Resource interpreted as Image but\n",
       "             * transferred with MIME type text/plain:\" errors on\n",
       "             * Chrome.  But how to set the MIME type?  It doesn't seem\n",
       "             * to be part of the websocket stream */\n",
       "            evt.data.type = \"image/png\";\n",
       "\n",
       "            /* Free the memory for the previous frames */\n",
       "            if (fig.imageObj.src) {\n",
       "                (window.URL || window.webkitURL).revokeObjectURL(\n",
       "                    fig.imageObj.src);\n",
       "            }\n",
       "\n",
       "            fig.imageObj.src = (window.URL || window.webkitURL).createObjectURL(\n",
       "                evt.data);\n",
       "            fig.updated_canvas_event();\n",
       "            fig.waiting = false;\n",
       "            return;\n",
       "        }\n",
       "        else if (typeof evt.data === 'string' && evt.data.slice(0, 21) == \"data:image/png;base64\") {\n",
       "            fig.imageObj.src = evt.data;\n",
       "            fig.updated_canvas_event();\n",
       "            fig.waiting = false;\n",
       "            return;\n",
       "        }\n",
       "\n",
       "        var msg = JSON.parse(evt.data);\n",
       "        var msg_type = msg['type'];\n",
       "\n",
       "        // Call the  \"handle_{type}\" callback, which takes\n",
       "        // the figure and JSON message as its only arguments.\n",
       "        try {\n",
       "            var callback = fig[\"handle_\" + msg_type];\n",
       "        } catch (e) {\n",
       "            console.log(\"No handler for the '\" + msg_type + \"' message type: \", msg);\n",
       "            return;\n",
       "        }\n",
       "\n",
       "        if (callback) {\n",
       "            try {\n",
       "                // console.log(\"Handling '\" + msg_type + \"' message: \", msg);\n",
       "                callback(fig, msg);\n",
       "            } catch (e) {\n",
       "                console.log(\"Exception inside the 'handler_\" + msg_type + \"' callback:\", e, e.stack, msg);\n",
       "            }\n",
       "        }\n",
       "    };\n",
       "}\n",
       "\n",
       "// from http://stackoverflow.com/questions/1114465/getting-mouse-location-in-canvas\n",
       "mpl.findpos = function(e) {\n",
       "    //this section is from http://www.quirksmode.org/js/events_properties.html\n",
       "    var targ;\n",
       "    if (!e)\n",
       "        e = window.event;\n",
       "    if (e.target)\n",
       "        targ = e.target;\n",
       "    else if (e.srcElement)\n",
       "        targ = e.srcElement;\n",
       "    if (targ.nodeType == 3) // defeat Safari bug\n",
       "        targ = targ.parentNode;\n",
       "\n",
       "    // jQuery normalizes the pageX and pageY\n",
       "    // pageX,Y are the mouse positions relative to the document\n",
       "    // offset() returns the position of the element relative to the document\n",
       "    var x = e.pageX - $(targ).offset().left;\n",
       "    var y = e.pageY - $(targ).offset().top;\n",
       "\n",
       "    return {\"x\": x, \"y\": y};\n",
       "};\n",
       "\n",
       "/*\n",
       " * return a copy of an object with only non-object keys\n",
       " * we need this to avoid circular references\n",
       " * http://stackoverflow.com/a/24161582/3208463\n",
       " */\n",
       "function simpleKeys (original) {\n",
       "  return Object.keys(original).reduce(function (obj, key) {\n",
       "    if (typeof original[key] !== 'object')\n",
       "        obj[key] = original[key]\n",
       "    return obj;\n",
       "  }, {});\n",
       "}\n",
       "\n",
       "mpl.figure.prototype.mouse_event = function(event, name) {\n",
       "    var canvas_pos = mpl.findpos(event)\n",
       "\n",
       "    if (name === 'button_press')\n",
       "    {\n",
       "        this.canvas.focus();\n",
       "        this.canvas_div.focus();\n",
       "    }\n",
       "\n",
       "    var x = canvas_pos.x * mpl.ratio;\n",
       "    var y = canvas_pos.y * mpl.ratio;\n",
       "\n",
       "    this.send_message(name, {x: x, y: y, button: event.button,\n",
       "                             step: event.step,\n",
       "                             guiEvent: simpleKeys(event)});\n",
       "\n",
       "    /* This prevents the web browser from automatically changing to\n",
       "     * the text insertion cursor when the button is pressed.  We want\n",
       "     * to control all of the cursor setting manually through the\n",
       "     * 'cursor' event from matplotlib */\n",
       "    event.preventDefault();\n",
       "    return false;\n",
       "}\n",
       "\n",
       "mpl.figure.prototype._key_event_extra = function(event, name) {\n",
       "    // Handle any extra behaviour associated with a key event\n",
       "}\n",
       "\n",
       "mpl.figure.prototype.key_event = function(event, name) {\n",
       "\n",
       "    // Prevent repeat events\n",
       "    if (name == 'key_press')\n",
       "    {\n",
       "        if (event.which === this._key)\n",
       "            return;\n",
       "        else\n",
       "            this._key = event.which;\n",
       "    }\n",
       "    if (name == 'key_release')\n",
       "        this._key = null;\n",
       "\n",
       "    var value = '';\n",
       "    if (event.ctrlKey && event.which != 17)\n",
       "        value += \"ctrl+\";\n",
       "    if (event.altKey && event.which != 18)\n",
       "        value += \"alt+\";\n",
       "    if (event.shiftKey && event.which != 16)\n",
       "        value += \"shift+\";\n",
       "\n",
       "    value += 'k';\n",
       "    value += event.which.toString();\n",
       "\n",
       "    this._key_event_extra(event, name);\n",
       "\n",
       "    this.send_message(name, {key: value,\n",
       "                             guiEvent: simpleKeys(event)});\n",
       "    return false;\n",
       "}\n",
       "\n",
       "mpl.figure.prototype.toolbar_button_onclick = function(name) {\n",
       "    if (name == 'download') {\n",
       "        this.handle_save(this, null);\n",
       "    } else {\n",
       "        this.send_message(\"toolbar_button\", {name: name});\n",
       "    }\n",
       "};\n",
       "\n",
       "mpl.figure.prototype.toolbar_button_onmouseover = function(tooltip) {\n",
       "    this.message.textContent = tooltip;\n",
       "};\n",
       "mpl.toolbar_items = [[\"Home\", \"Reset original view\", \"fa fa-home icon-home\", \"home\"], [\"Back\", \"Back to previous view\", \"fa fa-arrow-left icon-arrow-left\", \"back\"], [\"Forward\", \"Forward to next view\", \"fa fa-arrow-right icon-arrow-right\", \"forward\"], [\"\", \"\", \"\", \"\"], [\"Pan\", \"Pan axes with left mouse, zoom with right\", \"fa fa-arrows icon-move\", \"pan\"], [\"Zoom\", \"Zoom to rectangle\", \"fa fa-square-o icon-check-empty\", \"zoom\"], [\"\", \"\", \"\", \"\"], [\"Download\", \"Download plot\", \"fa fa-floppy-o icon-save\", \"download\"]];\n",
       "\n",
       "mpl.extensions = [\"eps\", \"jpeg\", \"pdf\", \"png\", \"ps\", \"raw\", \"svg\", \"tif\"];\n",
       "\n",
       "mpl.default_extension = \"png\";var comm_websocket_adapter = function(comm) {\n",
       "    // Create a \"websocket\"-like object which calls the given IPython comm\n",
       "    // object with the appropriate methods. Currently this is a non binary\n",
       "    // socket, so there is still some room for performance tuning.\n",
       "    var ws = {};\n",
       "\n",
       "    ws.close = function() {\n",
       "        comm.close()\n",
       "    };\n",
       "    ws.send = function(m) {\n",
       "        //console.log('sending', m);\n",
       "        comm.send(m);\n",
       "    };\n",
       "    // Register the callback with on_msg.\n",
       "    comm.on_msg(function(msg) {\n",
       "        //console.log('receiving', msg['content']['data'], msg);\n",
       "        // Pass the mpl event to the overridden (by mpl) onmessage function.\n",
       "        ws.onmessage(msg['content']['data'])\n",
       "    });\n",
       "    return ws;\n",
       "}\n",
       "\n",
       "mpl.mpl_figure_comm = function(comm, msg) {\n",
       "    // This is the function which gets called when the mpl process\n",
       "    // starts-up an IPython Comm through the \"matplotlib\" channel.\n",
       "\n",
       "    var id = msg.content.data.id;\n",
       "    // Get hold of the div created by the display call when the Comm\n",
       "    // socket was opened in Python.\n",
       "    var element = $(\"#\" + id);\n",
       "    var ws_proxy = comm_websocket_adapter(comm)\n",
       "\n",
       "    function ondownload(figure, format) {\n",
       "        window.open(figure.imageObj.src);\n",
       "    }\n",
       "\n",
       "    var fig = new mpl.figure(id, ws_proxy,\n",
       "                           ondownload,\n",
       "                           element.get(0));\n",
       "\n",
       "    // Call onopen now - mpl needs it, as it is assuming we've passed it a real\n",
       "    // web socket which is closed, not our websocket->open comm proxy.\n",
       "    ws_proxy.onopen();\n",
       "\n",
       "    fig.parent_element = element.get(0);\n",
       "    fig.cell_info = mpl.find_output_cell(\"<div id='\" + id + \"'></div>\");\n",
       "    if (!fig.cell_info) {\n",
       "        console.error(\"Failed to find cell for figure\", id, fig);\n",
       "        return;\n",
       "    }\n",
       "\n",
       "    var output_index = fig.cell_info[2]\n",
       "    var cell = fig.cell_info[0];\n",
       "\n",
       "};\n",
       "\n",
       "mpl.figure.prototype.handle_close = function(fig, msg) {\n",
       "    var width = fig.canvas.width/mpl.ratio\n",
       "    fig.root.unbind('remove')\n",
       "\n",
       "    // Update the output cell to use the data from the current canvas.\n",
       "    fig.push_to_output();\n",
       "    var dataURL = fig.canvas.toDataURL();\n",
       "    // Re-enable the keyboard manager in IPython - without this line, in FF,\n",
       "    // the notebook keyboard shortcuts fail.\n",
       "    IPython.keyboard_manager.enable()\n",
       "    $(fig.parent_element).html('<img src=\"' + dataURL + '\" width=\"' + width + '\">');\n",
       "    fig.close_ws(fig, msg);\n",
       "}\n",
       "\n",
       "mpl.figure.prototype.close_ws = function(fig, msg){\n",
       "    fig.send_message('closing', msg);\n",
       "    // fig.ws.close()\n",
       "}\n",
       "\n",
       "mpl.figure.prototype.push_to_output = function(remove_interactive) {\n",
       "    // Turn the data on the canvas into data in the output cell.\n",
       "    var width = this.canvas.width/mpl.ratio\n",
       "    var dataURL = this.canvas.toDataURL();\n",
       "    this.cell_info[1]['text/html'] = '<img src=\"' + dataURL + '\" width=\"' + width + '\">';\n",
       "}\n",
       "\n",
       "mpl.figure.prototype.updated_canvas_event = function() {\n",
       "    // Tell IPython that the notebook contents must change.\n",
       "    IPython.notebook.set_dirty(true);\n",
       "    this.send_message(\"ack\", {});\n",
       "    var fig = this;\n",
       "    // Wait a second, then push the new image to the DOM so\n",
       "    // that it is saved nicely (might be nice to debounce this).\n",
       "    setTimeout(function () { fig.push_to_output() }, 1000);\n",
       "}\n",
       "\n",
       "mpl.figure.prototype._init_toolbar = function() {\n",
       "    var fig = this;\n",
       "\n",
       "    var nav_element = $('<div/>')\n",
       "    nav_element.attr('style', 'width: 100%');\n",
       "    this.root.append(nav_element);\n",
       "\n",
       "    // Define a callback function for later on.\n",
       "    function toolbar_event(event) {\n",
       "        return fig.toolbar_button_onclick(event['data']);\n",
       "    }\n",
       "    function toolbar_mouse_event(event) {\n",
       "        return fig.toolbar_button_onmouseover(event['data']);\n",
       "    }\n",
       "\n",
       "    for(var toolbar_ind in mpl.toolbar_items){\n",
       "        var name = mpl.toolbar_items[toolbar_ind][0];\n",
       "        var tooltip = mpl.toolbar_items[toolbar_ind][1];\n",
       "        var image = mpl.toolbar_items[toolbar_ind][2];\n",
       "        var method_name = mpl.toolbar_items[toolbar_ind][3];\n",
       "\n",
       "        if (!name) { continue; };\n",
       "\n",
       "        var button = $('<button class=\"btn btn-default\" href=\"#\" title=\"' + name + '\"><i class=\"fa ' + image + ' fa-lg\"></i></button>');\n",
       "        button.click(method_name, toolbar_event);\n",
       "        button.mouseover(tooltip, toolbar_mouse_event);\n",
       "        nav_element.append(button);\n",
       "    }\n",
       "\n",
       "    // Add the status bar.\n",
       "    var status_bar = $('<span class=\"mpl-message\" style=\"text-align:right; float: right;\"/>');\n",
       "    nav_element.append(status_bar);\n",
       "    this.message = status_bar[0];\n",
       "\n",
       "    // Add the close button to the window.\n",
       "    var buttongrp = $('<div class=\"btn-group inline pull-right\"></div>');\n",
       "    var button = $('<button class=\"btn btn-mini btn-primary\" href=\"#\" title=\"Stop Interaction\"><i class=\"fa fa-power-off icon-remove icon-large\"></i></button>');\n",
       "    button.click(function (evt) { fig.handle_close(fig, {}); } );\n",
       "    button.mouseover('Stop Interaction', toolbar_mouse_event);\n",
       "    buttongrp.append(button);\n",
       "    var titlebar = this.root.find($('.ui-dialog-titlebar'));\n",
       "    titlebar.prepend(buttongrp);\n",
       "}\n",
       "\n",
       "mpl.figure.prototype._root_extra_style = function(el){\n",
       "    var fig = this\n",
       "    el.on(\"remove\", function(){\n",
       "\tfig.close_ws(fig, {});\n",
       "    });\n",
       "}\n",
       "\n",
       "mpl.figure.prototype._canvas_extra_style = function(el){\n",
       "    // this is important to make the div 'focusable\n",
       "    el.attr('tabindex', 0)\n",
       "    // reach out to IPython and tell the keyboard manager to turn it's self\n",
       "    // off when our div gets focus\n",
       "\n",
       "    // location in version 3\n",
       "    if (IPython.notebook.keyboard_manager) {\n",
       "        IPython.notebook.keyboard_manager.register_events(el);\n",
       "    }\n",
       "    else {\n",
       "        // location in version 2\n",
       "        IPython.keyboard_manager.register_events(el);\n",
       "    }\n",
       "\n",
       "}\n",
       "\n",
       "mpl.figure.prototype._key_event_extra = function(event, name) {\n",
       "    var manager = IPython.notebook.keyboard_manager;\n",
       "    if (!manager)\n",
       "        manager = IPython.keyboard_manager;\n",
       "\n",
       "    // Check for shift+enter\n",
       "    if (event.shiftKey && event.which == 13) {\n",
       "        this.canvas_div.blur();\n",
       "        event.shiftKey = false;\n",
       "        // Send a \"J\" for go to next cell\n",
       "        event.which = 74;\n",
       "        event.keyCode = 74;\n",
       "        manager.command_mode();\n",
       "        manager.handle_keydown(event);\n",
       "    }\n",
       "}\n",
       "\n",
       "mpl.figure.prototype.handle_save = function(fig, msg) {\n",
       "    fig.ondownload(fig, null);\n",
       "}\n",
       "\n",
       "\n",
       "mpl.find_output_cell = function(html_output) {\n",
       "    // Return the cell and output element which can be found *uniquely* in the notebook.\n",
       "    // Note - this is a bit hacky, but it is done because the \"notebook_saving.Notebook\"\n",
       "    // IPython event is triggered only after the cells have been serialised, which for\n",
       "    // our purposes (turning an active figure into a static one), is too late.\n",
       "    var cells = IPython.notebook.get_cells();\n",
       "    var ncells = cells.length;\n",
       "    for (var i=0; i<ncells; i++) {\n",
       "        var cell = cells[i];\n",
       "        if (cell.cell_type === 'code'){\n",
       "            for (var j=0; j<cell.output_area.outputs.length; j++) {\n",
       "                var data = cell.output_area.outputs[j];\n",
       "                if (data.data) {\n",
       "                    // IPython >= 3 moved mimebundle to data attribute of output\n",
       "                    data = data.data;\n",
       "                }\n",
       "                if (data['text/html'] == html_output) {\n",
       "                    return [cell, data, j];\n",
       "                }\n",
       "            }\n",
       "        }\n",
       "    }\n",
       "}\n",
       "\n",
       "// Register the function which deals with the matplotlib target/channel.\n",
       "// The kernel may be null if the page has been refreshed.\n",
       "if (IPython.notebook.kernel != null) {\n",
       "    IPython.notebook.kernel.comm_manager.register_target('matplotlib', mpl.mpl_figure_comm);\n",
       "}\n"
      ],
      "text/plain": [
       "<IPython.core.display.Javascript object>"
      ]
     },
     "metadata": {},
     "output_type": "display_data"
    },
    {
     "data": {
      "text/html": [
       "<img src=\"data:image/png;base64,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\" width=\"713\">"
      ],
      "text/plain": [
       "<IPython.core.display.HTML object>"
      ]
     },
     "metadata": {},
     "output_type": "display_data"
    }
   ],
   "source": [
    "d_x=0.01\n",
    "\n",
    "fig = plt.figure()\n",
    "ax = fig.add_subplot(111, projection='3d')\n",
    "x = y = np.arange(0, 1+d_x, d_x)\n",
    "X, Y = np.meshgrid(x, y)\n",
    "\n",
    "zs = np.array([psi_a(x,y) - psi_t(x,y,test.p) for x,y in zip(np.ravel(X), np.ravel(Y))])\n",
    "Z = zs.reshape(X.shape)\n",
    "\n",
    "ax.plot_surface(X, Y, Z, cmap=cm.coolwarm)\n",
    "# ax.ticklabel_format(style='sci', axis='z', scilimits=(0,0), useOffset=True)\n",
    "\n",
    "\n",
    "ax.set_xlabel('x')\n",
    "ax.set_ylabel('y')\n",
    "ax.set_zlabel('Accuracy')\n",
    "\n",
    "# plt.title(r\"$\\frac{\\partial \\Psi_a}{\\partial y} - \\frac{\\partial \\Psi_t}{\\partial y}$\")\n",
    "\n",
    "plt.show()"
   ]
  },
  {
   "cell_type": "code",
   "execution_count": 290,
   "metadata": {
    "ExecuteTime": {
     "end_time": "2019-02-03T17:04:12.658181Z",
     "start_time": "2019-02-03T17:04:11.980352Z"
    },
    "hide_input": false,
    "scrolled": false
   },
   "outputs": [
    {
     "data": {
      "application/javascript": [
       "/* Put everything inside the global mpl namespace */\n",
       "window.mpl = {};\n",
       "\n",
       "\n",
       "mpl.get_websocket_type = function() {\n",
       "    if (typeof(WebSocket) !== 'undefined') {\n",
       "        return WebSocket;\n",
       "    } else if (typeof(MozWebSocket) !== 'undefined') {\n",
       "        return MozWebSocket;\n",
       "    } else {\n",
       "        alert('Your browser does not have WebSocket support.' +\n",
       "              'Please try Chrome, Safari or Firefox ≥ 6. ' +\n",
       "              'Firefox 4 and 5 are also supported but you ' +\n",
       "              'have to enable WebSockets in about:config.');\n",
       "    };\n",
       "}\n",
       "\n",
       "mpl.figure = function(figure_id, websocket, ondownload, parent_element) {\n",
       "    this.id = figure_id;\n",
       "\n",
       "    this.ws = websocket;\n",
       "\n",
       "    this.supports_binary = (this.ws.binaryType != undefined);\n",
       "\n",
       "    if (!this.supports_binary) {\n",
       "        var warnings = document.getElementById(\"mpl-warnings\");\n",
       "        if (warnings) {\n",
       "            warnings.style.display = 'block';\n",
       "            warnings.textContent = (\n",
       "                \"This browser does not support binary websocket messages. \" +\n",
       "                    \"Performance may be slow.\");\n",
       "        }\n",
       "    }\n",
       "\n",
       "    this.imageObj = new Image();\n",
       "\n",
       "    this.context = undefined;\n",
       "    this.message = undefined;\n",
       "    this.canvas = undefined;\n",
       "    this.rubberband_canvas = undefined;\n",
       "    this.rubberband_context = undefined;\n",
       "    this.format_dropdown = undefined;\n",
       "\n",
       "    this.image_mode = 'full';\n",
       "\n",
       "    this.root = $('<div/>');\n",
       "    this._root_extra_style(this.root)\n",
       "    this.root.attr('style', 'display: inline-block');\n",
       "\n",
       "    $(parent_element).append(this.root);\n",
       "\n",
       "    this._init_header(this);\n",
       "    this._init_canvas(this);\n",
       "    this._init_toolbar(this);\n",
       "\n",
       "    var fig = this;\n",
       "\n",
       "    this.waiting = false;\n",
       "\n",
       "    this.ws.onopen =  function () {\n",
       "            fig.send_message(\"supports_binary\", {value: fig.supports_binary});\n",
       "            fig.send_message(\"send_image_mode\", {});\n",
       "            if (mpl.ratio != 1) {\n",
       "                fig.send_message(\"set_dpi_ratio\", {'dpi_ratio': mpl.ratio});\n",
       "            }\n",
       "            fig.send_message(\"refresh\", {});\n",
       "        }\n",
       "\n",
       "    this.imageObj.onload = function() {\n",
       "            if (fig.image_mode == 'full') {\n",
       "                // Full images could contain transparency (where diff images\n",
       "                // almost always do), so we need to clear the canvas so that\n",
       "                // there is no ghosting.\n",
       "                fig.context.clearRect(0, 0, fig.canvas.width, fig.canvas.height);\n",
       "            }\n",
       "            fig.context.drawImage(fig.imageObj, 0, 0);\n",
       "        };\n",
       "\n",
       "    this.imageObj.onunload = function() {\n",
       "        fig.ws.close();\n",
       "    }\n",
       "\n",
       "    this.ws.onmessage = this._make_on_message_function(this);\n",
       "\n",
       "    this.ondownload = ondownload;\n",
       "}\n",
       "\n",
       "mpl.figure.prototype._init_header = function() {\n",
       "    var titlebar = $(\n",
       "        '<div class=\"ui-dialog-titlebar ui-widget-header ui-corner-all ' +\n",
       "        'ui-helper-clearfix\"/>');\n",
       "    var titletext = $(\n",
       "        '<div class=\"ui-dialog-title\" style=\"width: 100%; ' +\n",
       "        'text-align: center; padding: 3px;\"/>');\n",
       "    titlebar.append(titletext)\n",
       "    this.root.append(titlebar);\n",
       "    this.header = titletext[0];\n",
       "}\n",
       "\n",
       "\n",
       "\n",
       "mpl.figure.prototype._canvas_extra_style = function(canvas_div) {\n",
       "\n",
       "}\n",
       "\n",
       "\n",
       "mpl.figure.prototype._root_extra_style = function(canvas_div) {\n",
       "\n",
       "}\n",
       "\n",
       "mpl.figure.prototype._init_canvas = function() {\n",
       "    var fig = this;\n",
       "\n",
       "    var canvas_div = $('<div/>');\n",
       "\n",
       "    canvas_div.attr('style', 'position: relative; clear: both; outline: 0');\n",
       "\n",
       "    function canvas_keyboard_event(event) {\n",
       "        return fig.key_event(event, event['data']);\n",
       "    }\n",
       "\n",
       "    canvas_div.keydown('key_press', canvas_keyboard_event);\n",
       "    canvas_div.keyup('key_release', canvas_keyboard_event);\n",
       "    this.canvas_div = canvas_div\n",
       "    this._canvas_extra_style(canvas_div)\n",
       "    this.root.append(canvas_div);\n",
       "\n",
       "    var canvas = $('<canvas/>');\n",
       "    canvas.addClass('mpl-canvas');\n",
       "    canvas.attr('style', \"left: 0; top: 0; z-index: 0; outline: 0\")\n",
       "\n",
       "    this.canvas = canvas[0];\n",
       "    this.context = canvas[0].getContext(\"2d\");\n",
       "\n",
       "    var backingStore = this.context.backingStorePixelRatio ||\n",
       "\tthis.context.webkitBackingStorePixelRatio ||\n",
       "\tthis.context.mozBackingStorePixelRatio ||\n",
       "\tthis.context.msBackingStorePixelRatio ||\n",
       "\tthis.context.oBackingStorePixelRatio ||\n",
       "\tthis.context.backingStorePixelRatio || 1;\n",
       "\n",
       "    mpl.ratio = (window.devicePixelRatio || 1) / backingStore;\n",
       "\n",
       "    var rubberband = $('<canvas/>');\n",
       "    rubberband.attr('style', \"position: absolute; left: 0; top: 0; z-index: 1;\")\n",
       "\n",
       "    var pass_mouse_events = true;\n",
       "\n",
       "    canvas_div.resizable({\n",
       "        start: function(event, ui) {\n",
       "            pass_mouse_events = false;\n",
       "        },\n",
       "        resize: function(event, ui) {\n",
       "            fig.request_resize(ui.size.width, ui.size.height);\n",
       "        },\n",
       "        stop: function(event, ui) {\n",
       "            pass_mouse_events = true;\n",
       "            fig.request_resize(ui.size.width, ui.size.height);\n",
       "        },\n",
       "    });\n",
       "\n",
       "    function mouse_event_fn(event) {\n",
       "        if (pass_mouse_events)\n",
       "            return fig.mouse_event(event, event['data']);\n",
       "    }\n",
       "\n",
       "    rubberband.mousedown('button_press', mouse_event_fn);\n",
       "    rubberband.mouseup('button_release', mouse_event_fn);\n",
       "    // Throttle sequential mouse events to 1 every 20ms.\n",
       "    rubberband.mousemove('motion_notify', mouse_event_fn);\n",
       "\n",
       "    rubberband.mouseenter('figure_enter', mouse_event_fn);\n",
       "    rubberband.mouseleave('figure_leave', mouse_event_fn);\n",
       "\n",
       "    canvas_div.on(\"wheel\", function (event) {\n",
       "        event = event.originalEvent;\n",
       "        event['data'] = 'scroll'\n",
       "        if (event.deltaY < 0) {\n",
       "            event.step = 1;\n",
       "        } else {\n",
       "            event.step = -1;\n",
       "        }\n",
       "        mouse_event_fn(event);\n",
       "    });\n",
       "\n",
       "    canvas_div.append(canvas);\n",
       "    canvas_div.append(rubberband);\n",
       "\n",
       "    this.rubberband = rubberband;\n",
       "    this.rubberband_canvas = rubberband[0];\n",
       "    this.rubberband_context = rubberband[0].getContext(\"2d\");\n",
       "    this.rubberband_context.strokeStyle = \"#000000\";\n",
       "\n",
       "    this._resize_canvas = function(width, height) {\n",
       "        // Keep the size of the canvas, canvas container, and rubber band\n",
       "        // canvas in synch.\n",
       "        canvas_div.css('width', width)\n",
       "        canvas_div.css('height', height)\n",
       "\n",
       "        canvas.attr('width', width * mpl.ratio);\n",
       "        canvas.attr('height', height * mpl.ratio);\n",
       "        canvas.attr('style', 'width: ' + width + 'px; height: ' + height + 'px;');\n",
       "\n",
       "        rubberband.attr('width', width);\n",
       "        rubberband.attr('height', height);\n",
       "    }\n",
       "\n",
       "    // Set the figure to an initial 600x600px, this will subsequently be updated\n",
       "    // upon first draw.\n",
       "    this._resize_canvas(600, 600);\n",
       "\n",
       "    // Disable right mouse context menu.\n",
       "    $(this.rubberband_canvas).bind(\"contextmenu\",function(e){\n",
       "        return false;\n",
       "    });\n",
       "\n",
       "    function set_focus () {\n",
       "        canvas.focus();\n",
       "        canvas_div.focus();\n",
       "    }\n",
       "\n",
       "    window.setTimeout(set_focus, 100);\n",
       "}\n",
       "\n",
       "mpl.figure.prototype._init_toolbar = function() {\n",
       "    var fig = this;\n",
       "\n",
       "    var nav_element = $('<div/>')\n",
       "    nav_element.attr('style', 'width: 100%');\n",
       "    this.root.append(nav_element);\n",
       "\n",
       "    // Define a callback function for later on.\n",
       "    function toolbar_event(event) {\n",
       "        return fig.toolbar_button_onclick(event['data']);\n",
       "    }\n",
       "    function toolbar_mouse_event(event) {\n",
       "        return fig.toolbar_button_onmouseover(event['data']);\n",
       "    }\n",
       "\n",
       "    for(var toolbar_ind in mpl.toolbar_items) {\n",
       "        var name = mpl.toolbar_items[toolbar_ind][0];\n",
       "        var tooltip = mpl.toolbar_items[toolbar_ind][1];\n",
       "        var image = mpl.toolbar_items[toolbar_ind][2];\n",
       "        var method_name = mpl.toolbar_items[toolbar_ind][3];\n",
       "\n",
       "        if (!name) {\n",
       "            // put a spacer in here.\n",
       "            continue;\n",
       "        }\n",
       "        var button = $('<button/>');\n",
       "        button.addClass('ui-button ui-widget ui-state-default ui-corner-all ' +\n",
       "                        'ui-button-icon-only');\n",
       "        button.attr('role', 'button');\n",
       "        button.attr('aria-disabled', 'false');\n",
       "        button.click(method_name, toolbar_event);\n",
       "        button.mouseover(tooltip, toolbar_mouse_event);\n",
       "\n",
       "        var icon_img = $('<span/>');\n",
       "        icon_img.addClass('ui-button-icon-primary ui-icon');\n",
       "        icon_img.addClass(image);\n",
       "        icon_img.addClass('ui-corner-all');\n",
       "\n",
       "        var tooltip_span = $('<span/>');\n",
       "        tooltip_span.addClass('ui-button-text');\n",
       "        tooltip_span.html(tooltip);\n",
       "\n",
       "        button.append(icon_img);\n",
       "        button.append(tooltip_span);\n",
       "\n",
       "        nav_element.append(button);\n",
       "    }\n",
       "\n",
       "    var fmt_picker_span = $('<span/>');\n",
       "\n",
       "    var fmt_picker = $('<select/>');\n",
       "    fmt_picker.addClass('mpl-toolbar-option ui-widget ui-widget-content');\n",
       "    fmt_picker_span.append(fmt_picker);\n",
       "    nav_element.append(fmt_picker_span);\n",
       "    this.format_dropdown = fmt_picker[0];\n",
       "\n",
       "    for (var ind in mpl.extensions) {\n",
       "        var fmt = mpl.extensions[ind];\n",
       "        var option = $(\n",
       "            '<option/>', {selected: fmt === mpl.default_extension}).html(fmt);\n",
       "        fmt_picker.append(option)\n",
       "    }\n",
       "\n",
       "    // Add hover states to the ui-buttons\n",
       "    $( \".ui-button\" ).hover(\n",
       "        function() { $(this).addClass(\"ui-state-hover\");},\n",
       "        function() { $(this).removeClass(\"ui-state-hover\");}\n",
       "    );\n",
       "\n",
       "    var status_bar = $('<span class=\"mpl-message\"/>');\n",
       "    nav_element.append(status_bar);\n",
       "    this.message = status_bar[0];\n",
       "}\n",
       "\n",
       "mpl.figure.prototype.request_resize = function(x_pixels, y_pixels) {\n",
       "    // Request matplotlib to resize the figure. Matplotlib will then trigger a resize in the client,\n",
       "    // which will in turn request a refresh of the image.\n",
       "    this.send_message('resize', {'width': x_pixels, 'height': y_pixels});\n",
       "}\n",
       "\n",
       "mpl.figure.prototype.send_message = function(type, properties) {\n",
       "    properties['type'] = type;\n",
       "    properties['figure_id'] = this.id;\n",
       "    this.ws.send(JSON.stringify(properties));\n",
       "}\n",
       "\n",
       "mpl.figure.prototype.send_draw_message = function() {\n",
       "    if (!this.waiting) {\n",
       "        this.waiting = true;\n",
       "        this.ws.send(JSON.stringify({type: \"draw\", figure_id: this.id}));\n",
       "    }\n",
       "}\n",
       "\n",
       "\n",
       "mpl.figure.prototype.handle_save = function(fig, msg) {\n",
       "    var format_dropdown = fig.format_dropdown;\n",
       "    var format = format_dropdown.options[format_dropdown.selectedIndex].value;\n",
       "    fig.ondownload(fig, format);\n",
       "}\n",
       "\n",
       "\n",
       "mpl.figure.prototype.handle_resize = function(fig, msg) {\n",
       "    var size = msg['size'];\n",
       "    if (size[0] != fig.canvas.width || size[1] != fig.canvas.height) {\n",
       "        fig._resize_canvas(size[0], size[1]);\n",
       "        fig.send_message(\"refresh\", {});\n",
       "    };\n",
       "}\n",
       "\n",
       "mpl.figure.prototype.handle_rubberband = function(fig, msg) {\n",
       "    var x0 = msg['x0'] / mpl.ratio;\n",
       "    var y0 = (fig.canvas.height - msg['y0']) / mpl.ratio;\n",
       "    var x1 = msg['x1'] / mpl.ratio;\n",
       "    var y1 = (fig.canvas.height - msg['y1']) / mpl.ratio;\n",
       "    x0 = Math.floor(x0) + 0.5;\n",
       "    y0 = Math.floor(y0) + 0.5;\n",
       "    x1 = Math.floor(x1) + 0.5;\n",
       "    y1 = Math.floor(y1) + 0.5;\n",
       "    var min_x = Math.min(x0, x1);\n",
       "    var min_y = Math.min(y0, y1);\n",
       "    var width = Math.abs(x1 - x0);\n",
       "    var height = Math.abs(y1 - y0);\n",
       "\n",
       "    fig.rubberband_context.clearRect(\n",
       "        0, 0, fig.canvas.width, fig.canvas.height);\n",
       "\n",
       "    fig.rubberband_context.strokeRect(min_x, min_y, width, height);\n",
       "}\n",
       "\n",
       "mpl.figure.prototype.handle_figure_label = function(fig, msg) {\n",
       "    // Updates the figure title.\n",
       "    fig.header.textContent = msg['label'];\n",
       "}\n",
       "\n",
       "mpl.figure.prototype.handle_cursor = function(fig, msg) {\n",
       "    var cursor = msg['cursor'];\n",
       "    switch(cursor)\n",
       "    {\n",
       "    case 0:\n",
       "        cursor = 'pointer';\n",
       "        break;\n",
       "    case 1:\n",
       "        cursor = 'default';\n",
       "        break;\n",
       "    case 2:\n",
       "        cursor = 'crosshair';\n",
       "        break;\n",
       "    case 3:\n",
       "        cursor = 'move';\n",
       "        break;\n",
       "    }\n",
       "    fig.rubberband_canvas.style.cursor = cursor;\n",
       "}\n",
       "\n",
       "mpl.figure.prototype.handle_message = function(fig, msg) {\n",
       "    fig.message.textContent = msg['message'];\n",
       "}\n",
       "\n",
       "mpl.figure.prototype.handle_draw = function(fig, msg) {\n",
       "    // Request the server to send over a new figure.\n",
       "    fig.send_draw_message();\n",
       "}\n",
       "\n",
       "mpl.figure.prototype.handle_image_mode = function(fig, msg) {\n",
       "    fig.image_mode = msg['mode'];\n",
       "}\n",
       "\n",
       "mpl.figure.prototype.updated_canvas_event = function() {\n",
       "    // Called whenever the canvas gets updated.\n",
       "    this.send_message(\"ack\", {});\n",
       "}\n",
       "\n",
       "// A function to construct a web socket function for onmessage handling.\n",
       "// Called in the figure constructor.\n",
       "mpl.figure.prototype._make_on_message_function = function(fig) {\n",
       "    return function socket_on_message(evt) {\n",
       "        if (evt.data instanceof Blob) {\n",
       "            /* FIXME: We get \"Resource interpreted as Image but\n",
       "             * transferred with MIME type text/plain:\" errors on\n",
       "             * Chrome.  But how to set the MIME type?  It doesn't seem\n",
       "             * to be part of the websocket stream */\n",
       "            evt.data.type = \"image/png\";\n",
       "\n",
       "            /* Free the memory for the previous frames */\n",
       "            if (fig.imageObj.src) {\n",
       "                (window.URL || window.webkitURL).revokeObjectURL(\n",
       "                    fig.imageObj.src);\n",
       "            }\n",
       "\n",
       "            fig.imageObj.src = (window.URL || window.webkitURL).createObjectURL(\n",
       "                evt.data);\n",
       "            fig.updated_canvas_event();\n",
       "            fig.waiting = false;\n",
       "            return;\n",
       "        }\n",
       "        else if (typeof evt.data === 'string' && evt.data.slice(0, 21) == \"data:image/png;base64\") {\n",
       "            fig.imageObj.src = evt.data;\n",
       "            fig.updated_canvas_event();\n",
       "            fig.waiting = false;\n",
       "            return;\n",
       "        }\n",
       "\n",
       "        var msg = JSON.parse(evt.data);\n",
       "        var msg_type = msg['type'];\n",
       "\n",
       "        // Call the  \"handle_{type}\" callback, which takes\n",
       "        // the figure and JSON message as its only arguments.\n",
       "        try {\n",
       "            var callback = fig[\"handle_\" + msg_type];\n",
       "        } catch (e) {\n",
       "            console.log(\"No handler for the '\" + msg_type + \"' message type: \", msg);\n",
       "            return;\n",
       "        }\n",
       "\n",
       "        if (callback) {\n",
       "            try {\n",
       "                // console.log(\"Handling '\" + msg_type + \"' message: \", msg);\n",
       "                callback(fig, msg);\n",
       "            } catch (e) {\n",
       "                console.log(\"Exception inside the 'handler_\" + msg_type + \"' callback:\", e, e.stack, msg);\n",
       "            }\n",
       "        }\n",
       "    };\n",
       "}\n",
       "\n",
       "// from http://stackoverflow.com/questions/1114465/getting-mouse-location-in-canvas\n",
       "mpl.findpos = function(e) {\n",
       "    //this section is from http://www.quirksmode.org/js/events_properties.html\n",
       "    var targ;\n",
       "    if (!e)\n",
       "        e = window.event;\n",
       "    if (e.target)\n",
       "        targ = e.target;\n",
       "    else if (e.srcElement)\n",
       "        targ = e.srcElement;\n",
       "    if (targ.nodeType == 3) // defeat Safari bug\n",
       "        targ = targ.parentNode;\n",
       "\n",
       "    // jQuery normalizes the pageX and pageY\n",
       "    // pageX,Y are the mouse positions relative to the document\n",
       "    // offset() returns the position of the element relative to the document\n",
       "    var x = e.pageX - $(targ).offset().left;\n",
       "    var y = e.pageY - $(targ).offset().top;\n",
       "\n",
       "    return {\"x\": x, \"y\": y};\n",
       "};\n",
       "\n",
       "/*\n",
       " * return a copy of an object with only non-object keys\n",
       " * we need this to avoid circular references\n",
       " * http://stackoverflow.com/a/24161582/3208463\n",
       " */\n",
       "function simpleKeys (original) {\n",
       "  return Object.keys(original).reduce(function (obj, key) {\n",
       "    if (typeof original[key] !== 'object')\n",
       "        obj[key] = original[key]\n",
       "    return obj;\n",
       "  }, {});\n",
       "}\n",
       "\n",
       "mpl.figure.prototype.mouse_event = function(event, name) {\n",
       "    var canvas_pos = mpl.findpos(event)\n",
       "\n",
       "    if (name === 'button_press')\n",
       "    {\n",
       "        this.canvas.focus();\n",
       "        this.canvas_div.focus();\n",
       "    }\n",
       "\n",
       "    var x = canvas_pos.x * mpl.ratio;\n",
       "    var y = canvas_pos.y * mpl.ratio;\n",
       "\n",
       "    this.send_message(name, {x: x, y: y, button: event.button,\n",
       "                             step: event.step,\n",
       "                             guiEvent: simpleKeys(event)});\n",
       "\n",
       "    /* This prevents the web browser from automatically changing to\n",
       "     * the text insertion cursor when the button is pressed.  We want\n",
       "     * to control all of the cursor setting manually through the\n",
       "     * 'cursor' event from matplotlib */\n",
       "    event.preventDefault();\n",
       "    return false;\n",
       "}\n",
       "\n",
       "mpl.figure.prototype._key_event_extra = function(event, name) {\n",
       "    // Handle any extra behaviour associated with a key event\n",
       "}\n",
       "\n",
       "mpl.figure.prototype.key_event = function(event, name) {\n",
       "\n",
       "    // Prevent repeat events\n",
       "    if (name == 'key_press')\n",
       "    {\n",
       "        if (event.which === this._key)\n",
       "            return;\n",
       "        else\n",
       "            this._key = event.which;\n",
       "    }\n",
       "    if (name == 'key_release')\n",
       "        this._key = null;\n",
       "\n",
       "    var value = '';\n",
       "    if (event.ctrlKey && event.which != 17)\n",
       "        value += \"ctrl+\";\n",
       "    if (event.altKey && event.which != 18)\n",
       "        value += \"alt+\";\n",
       "    if (event.shiftKey && event.which != 16)\n",
       "        value += \"shift+\";\n",
       "\n",
       "    value += 'k';\n",
       "    value += event.which.toString();\n",
       "\n",
       "    this._key_event_extra(event, name);\n",
       "\n",
       "    this.send_message(name, {key: value,\n",
       "                             guiEvent: simpleKeys(event)});\n",
       "    return false;\n",
       "}\n",
       "\n",
       "mpl.figure.prototype.toolbar_button_onclick = function(name) {\n",
       "    if (name == 'download') {\n",
       "        this.handle_save(this, null);\n",
       "    } else {\n",
       "        this.send_message(\"toolbar_button\", {name: name});\n",
       "    }\n",
       "};\n",
       "\n",
       "mpl.figure.prototype.toolbar_button_onmouseover = function(tooltip) {\n",
       "    this.message.textContent = tooltip;\n",
       "};\n",
       "mpl.toolbar_items = [[\"Home\", \"Reset original view\", \"fa fa-home icon-home\", \"home\"], [\"Back\", \"Back to previous view\", \"fa fa-arrow-left icon-arrow-left\", \"back\"], [\"Forward\", \"Forward to next view\", \"fa fa-arrow-right icon-arrow-right\", \"forward\"], [\"\", \"\", \"\", \"\"], [\"Pan\", \"Pan axes with left mouse, zoom with right\", \"fa fa-arrows icon-move\", \"pan\"], [\"Zoom\", \"Zoom to rectangle\", \"fa fa-square-o icon-check-empty\", \"zoom\"], [\"\", \"\", \"\", \"\"], [\"Download\", \"Download plot\", \"fa fa-floppy-o icon-save\", \"download\"]];\n",
       "\n",
       "mpl.extensions = [\"eps\", \"jpeg\", \"pdf\", \"png\", \"ps\", \"raw\", \"svg\", \"tif\"];\n",
       "\n",
       "mpl.default_extension = \"png\";var comm_websocket_adapter = function(comm) {\n",
       "    // Create a \"websocket\"-like object which calls the given IPython comm\n",
       "    // object with the appropriate methods. Currently this is a non binary\n",
       "    // socket, so there is still some room for performance tuning.\n",
       "    var ws = {};\n",
       "\n",
       "    ws.close = function() {\n",
       "        comm.close()\n",
       "    };\n",
       "    ws.send = function(m) {\n",
       "        //console.log('sending', m);\n",
       "        comm.send(m);\n",
       "    };\n",
       "    // Register the callback with on_msg.\n",
       "    comm.on_msg(function(msg) {\n",
       "        //console.log('receiving', msg['content']['data'], msg);\n",
       "        // Pass the mpl event to the overridden (by mpl) onmessage function.\n",
       "        ws.onmessage(msg['content']['data'])\n",
       "    });\n",
       "    return ws;\n",
       "}\n",
       "\n",
       "mpl.mpl_figure_comm = function(comm, msg) {\n",
       "    // This is the function which gets called when the mpl process\n",
       "    // starts-up an IPython Comm through the \"matplotlib\" channel.\n",
       "\n",
       "    var id = msg.content.data.id;\n",
       "    // Get hold of the div created by the display call when the Comm\n",
       "    // socket was opened in Python.\n",
       "    var element = $(\"#\" + id);\n",
       "    var ws_proxy = comm_websocket_adapter(comm)\n",
       "\n",
       "    function ondownload(figure, format) {\n",
       "        window.open(figure.imageObj.src);\n",
       "    }\n",
       "\n",
       "    var fig = new mpl.figure(id, ws_proxy,\n",
       "                           ondownload,\n",
       "                           element.get(0));\n",
       "\n",
       "    // Call onopen now - mpl needs it, as it is assuming we've passed it a real\n",
       "    // web socket which is closed, not our websocket->open comm proxy.\n",
       "    ws_proxy.onopen();\n",
       "\n",
       "    fig.parent_element = element.get(0);\n",
       "    fig.cell_info = mpl.find_output_cell(\"<div id='\" + id + \"'></div>\");\n",
       "    if (!fig.cell_info) {\n",
       "        console.error(\"Failed to find cell for figure\", id, fig);\n",
       "        return;\n",
       "    }\n",
       "\n",
       "    var output_index = fig.cell_info[2]\n",
       "    var cell = fig.cell_info[0];\n",
       "\n",
       "};\n",
       "\n",
       "mpl.figure.prototype.handle_close = function(fig, msg) {\n",
       "    var width = fig.canvas.width/mpl.ratio\n",
       "    fig.root.unbind('remove')\n",
       "\n",
       "    // Update the output cell to use the data from the current canvas.\n",
       "    fig.push_to_output();\n",
       "    var dataURL = fig.canvas.toDataURL();\n",
       "    // Re-enable the keyboard manager in IPython - without this line, in FF,\n",
       "    // the notebook keyboard shortcuts fail.\n",
       "    IPython.keyboard_manager.enable()\n",
       "    $(fig.parent_element).html('<img src=\"' + dataURL + '\" width=\"' + width + '\">');\n",
       "    fig.close_ws(fig, msg);\n",
       "}\n",
       "\n",
       "mpl.figure.prototype.close_ws = function(fig, msg){\n",
       "    fig.send_message('closing', msg);\n",
       "    // fig.ws.close()\n",
       "}\n",
       "\n",
       "mpl.figure.prototype.push_to_output = function(remove_interactive) {\n",
       "    // Turn the data on the canvas into data in the output cell.\n",
       "    var width = this.canvas.width/mpl.ratio\n",
       "    var dataURL = this.canvas.toDataURL();\n",
       "    this.cell_info[1]['text/html'] = '<img src=\"' + dataURL + '\" width=\"' + width + '\">';\n",
       "}\n",
       "\n",
       "mpl.figure.prototype.updated_canvas_event = function() {\n",
       "    // Tell IPython that the notebook contents must change.\n",
       "    IPython.notebook.set_dirty(true);\n",
       "    this.send_message(\"ack\", {});\n",
       "    var fig = this;\n",
       "    // Wait a second, then push the new image to the DOM so\n",
       "    // that it is saved nicely (might be nice to debounce this).\n",
       "    setTimeout(function () { fig.push_to_output() }, 1000);\n",
       "}\n",
       "\n",
       "mpl.figure.prototype._init_toolbar = function() {\n",
       "    var fig = this;\n",
       "\n",
       "    var nav_element = $('<div/>')\n",
       "    nav_element.attr('style', 'width: 100%');\n",
       "    this.root.append(nav_element);\n",
       "\n",
       "    // Define a callback function for later on.\n",
       "    function toolbar_event(event) {\n",
       "        return fig.toolbar_button_onclick(event['data']);\n",
       "    }\n",
       "    function toolbar_mouse_event(event) {\n",
       "        return fig.toolbar_button_onmouseover(event['data']);\n",
       "    }\n",
       "\n",
       "    for(var toolbar_ind in mpl.toolbar_items){\n",
       "        var name = mpl.toolbar_items[toolbar_ind][0];\n",
       "        var tooltip = mpl.toolbar_items[toolbar_ind][1];\n",
       "        var image = mpl.toolbar_items[toolbar_ind][2];\n",
       "        var method_name = mpl.toolbar_items[toolbar_ind][3];\n",
       "\n",
       "        if (!name) { continue; };\n",
       "\n",
       "        var button = $('<button class=\"btn btn-default\" href=\"#\" title=\"' + name + '\"><i class=\"fa ' + image + ' fa-lg\"></i></button>');\n",
       "        button.click(method_name, toolbar_event);\n",
       "        button.mouseover(tooltip, toolbar_mouse_event);\n",
       "        nav_element.append(button);\n",
       "    }\n",
       "\n",
       "    // Add the status bar.\n",
       "    var status_bar = $('<span class=\"mpl-message\" style=\"text-align:right; float: right;\"/>');\n",
       "    nav_element.append(status_bar);\n",
       "    this.message = status_bar[0];\n",
       "\n",
       "    // Add the close button to the window.\n",
       "    var buttongrp = $('<div class=\"btn-group inline pull-right\"></div>');\n",
       "    var button = $('<button class=\"btn btn-mini btn-primary\" href=\"#\" title=\"Stop Interaction\"><i class=\"fa fa-power-off icon-remove icon-large\"></i></button>');\n",
       "    button.click(function (evt) { fig.handle_close(fig, {}); } );\n",
       "    button.mouseover('Stop Interaction', toolbar_mouse_event);\n",
       "    buttongrp.append(button);\n",
       "    var titlebar = this.root.find($('.ui-dialog-titlebar'));\n",
       "    titlebar.prepend(buttongrp);\n",
       "}\n",
       "\n",
       "mpl.figure.prototype._root_extra_style = function(el){\n",
       "    var fig = this\n",
       "    el.on(\"remove\", function(){\n",
       "\tfig.close_ws(fig, {});\n",
       "    });\n",
       "}\n",
       "\n",
       "mpl.figure.prototype._canvas_extra_style = function(el){\n",
       "    // this is important to make the div 'focusable\n",
       "    el.attr('tabindex', 0)\n",
       "    // reach out to IPython and tell the keyboard manager to turn it's self\n",
       "    // off when our div gets focus\n",
       "\n",
       "    // location in version 3\n",
       "    if (IPython.notebook.keyboard_manager) {\n",
       "        IPython.notebook.keyboard_manager.register_events(el);\n",
       "    }\n",
       "    else {\n",
       "        // location in version 2\n",
       "        IPython.keyboard_manager.register_events(el);\n",
       "    }\n",
       "\n",
       "}\n",
       "\n",
       "mpl.figure.prototype._key_event_extra = function(event, name) {\n",
       "    var manager = IPython.notebook.keyboard_manager;\n",
       "    if (!manager)\n",
       "        manager = IPython.keyboard_manager;\n",
       "\n",
       "    // Check for shift+enter\n",
       "    if (event.shiftKey && event.which == 13) {\n",
       "        this.canvas_div.blur();\n",
       "        event.shiftKey = false;\n",
       "        // Send a \"J\" for go to next cell\n",
       "        event.which = 74;\n",
       "        event.keyCode = 74;\n",
       "        manager.command_mode();\n",
       "        manager.handle_keydown(event);\n",
       "    }\n",
       "}\n",
       "\n",
       "mpl.figure.prototype.handle_save = function(fig, msg) {\n",
       "    fig.ondownload(fig, null);\n",
       "}\n",
       "\n",
       "\n",
       "mpl.find_output_cell = function(html_output) {\n",
       "    // Return the cell and output element which can be found *uniquely* in the notebook.\n",
       "    // Note - this is a bit hacky, but it is done because the \"notebook_saving.Notebook\"\n",
       "    // IPython event is triggered only after the cells have been serialised, which for\n",
       "    // our purposes (turning an active figure into a static one), is too late.\n",
       "    var cells = IPython.notebook.get_cells();\n",
       "    var ncells = cells.length;\n",
       "    for (var i=0; i<ncells; i++) {\n",
       "        var cell = cells[i];\n",
       "        if (cell.cell_type === 'code'){\n",
       "            for (var j=0; j<cell.output_area.outputs.length; j++) {\n",
       "                var data = cell.output_area.outputs[j];\n",
       "                if (data.data) {\n",
       "                    // IPython >= 3 moved mimebundle to data attribute of output\n",
       "                    data = data.data;\n",
       "                }\n",
       "                if (data['text/html'] == html_output) {\n",
       "                    return [cell, data, j];\n",
       "                }\n",
       "            }\n",
       "        }\n",
       "    }\n",
       "}\n",
       "\n",
       "// Register the function which deals with the matplotlib target/channel.\n",
       "// The kernel may be null if the page has been refreshed.\n",
       "if (IPython.notebook.kernel != null) {\n",
       "    IPython.notebook.kernel.comm_manager.register_target('matplotlib', mpl.mpl_figure_comm);\n",
       "}\n"
      ],
      "text/plain": [
       "<IPython.core.display.Javascript object>"
      ]
     },
     "metadata": {},
     "output_type": "display_data"
    },
    {
     "data": {
      "text/html": [
       "<img src=\"data:image/png;base64,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\" width=\"640\">"
      ],
      "text/plain": [
       "<IPython.core.display.HTML object>"
      ]
     },
     "metadata": {},
     "output_type": "display_data"
    }
   ],
   "source": [
    "d_x=0.01\n",
    "\n",
    "fig = plt.figure()\n",
    "ax = fig.add_subplot(111, projection='3d')\n",
    "x = y = np.arange(0, 1+d_x, d_x)\n",
    "X, Y = np.meshgrid(x, y)\n",
    "\n",
    "zs = np.array([psi_a(x,y) - psi_t(x,y,test.p) for x,y in zip(np.ravel(X), np.ravel(Y))])\n",
    "Z = zs.reshape(X.shape)\n",
    "\n",
    "ax.plot_surface(X, Y, Z, cmap=cm.coolwarm)\n",
    "# ax.ticklabel_format(style='sci', axis='z', scilimits=(0,0), useOffset=True)\n",
    "\n",
    "\n",
    "ax.set_xlabel('x')\n",
    "ax.set_ylabel('y')\n",
    "ax.set_zlabel('Accuracy')\n",
    "\n",
    "# plt.title(r\"$\\frac{\\partial \\Psi_a}{\\partial y} - \\frac{\\partial \\Psi_t}{\\partial y}$\")\n",
    "\n",
    "plt.show()"
   ]
  }
 ],
 "metadata": {
  "celltoolbar": "Raw Cell Format",
  "kernelspec": {
   "display_name": "Python 3",
   "language": "python",
   "name": "python3"
  },
  "language_info": {
   "codemirror_mode": {
    "name": "ipython",
    "version": 3
   },
   "file_extension": ".py",
   "mimetype": "text/x-python",
   "name": "python",
   "nbconvert_exporter": "python",
   "pygments_lexer": "ipython3",
   "version": "3.6.7"
  },
  "toc": {
   "base_numbering": 1,
   "nav_menu": {},
   "number_sections": true,
   "sideBar": true,
   "skip_h1_title": false,
   "title_cell": "Table of Contents",
   "title_sidebar": "Contents",
   "toc_cell": false,
   "toc_position": {
    "height": "calc(100% - 180px)",
    "left": "10px",
    "top": "150px",
    "width": "203px"
   },
   "toc_section_display": true,
   "toc_window_display": false
  },
  "varInspector": {
   "cols": {
    "lenName": 16,
    "lenType": 16,
    "lenVar": 40
   },
   "kernels_config": {
    "python": {
     "delete_cmd_postfix": "",
     "delete_cmd_prefix": "del ",
     "library": "var_list.py",
     "varRefreshCmd": "print(var_dic_list())"
    },
    "r": {
     "delete_cmd_postfix": ") ",
     "delete_cmd_prefix": "rm(",
     "library": "var_list.r",
     "varRefreshCmd": "cat(var_dic_list()) "
    }
   },
   "position": {
    "height": "395.724px",
    "left": "862.44px",
    "right": "20px",
    "top": "64.9829px",
    "width": "601.179px"
   },
   "types_to_exclude": [
    "module",
    "function",
    "builtin_function_or_method",
    "instance",
    "_Feature"
   ],
   "window_display": false
  }
 },
 "nbformat": 4,
 "nbformat_minor": 2
}
