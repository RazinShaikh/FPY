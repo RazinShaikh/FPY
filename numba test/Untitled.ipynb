{
 "cells": [
  {
   "cell_type": "code",
   "execution_count": 1,
   "metadata": {},
   "outputs": [],
   "source": [
    "import time\n",
    "import cProfile as profile\n",
    "from neural_network import NNTrain"
   ]
  },
  {
   "cell_type": "code",
   "execution_count": 2,
   "metadata": {},
   "outputs": [],
   "source": [
    "a = NNTrain(nx=60, bx=300, hidden_nodes=15, alpha=1e-4, batch_size=50)"
   ]
  },
  {
   "cell_type": "code",
   "execution_count": 3,
   "metadata": {},
   "outputs": [],
   "source": [
    "a.train(1)"
   ]
  },
  {
   "cell_type": "code",
   "execution_count": 4,
   "metadata": {
    "scrolled": true
   },
   "outputs": [
    {
     "name": "stdout",
     "output_type": "stream",
     "text": [
      "         22745 function calls (20865 primitive calls) in 7.705 seconds\n",
      "\n",
      "   Ordered by: internal time\n",
      "\n",
      "   ncalls  tottime  percall  cumtime  percall filename:lineno(function)\n",
      "     1840    3.819    0.002    3.819    0.002 nn_functions.py:197(dE_dwj)\n",
      "      920    1.584    0.002    1.584    0.002 nn_functions.py:217(dE_du)\n",
      "      920    1.009    0.001    1.009    0.001 nn_functions.py:235(dE_dv)\n",
      "       10    0.466    0.047    0.466    0.047 nn_functions.py:144(cost)\n",
      "       10    0.412    0.041    0.412    0.041 nn_functions.py:159(relative_err)\n",
      "       20    0.257    0.013    0.258    0.013 {method 'shuffle' of 'numpy.random.mtrand.RandomState' objects}\n",
      "     3680    0.069    0.000    0.069    0.000 neural_network.py:49(sgd_mt)\n",
      "        1    0.067    0.067    7.705    7.705 neural_network.py:57(train)\n",
      "       20    0.007    0.000    0.019    0.001 shape_base.py:739(array_split)\n",
      "  1930/50    0.002    0.000    0.021    0.000 {built-in method numpy.core._multiarray_umath.implement_array_function}\n",
      "     1860    0.002    0.000    0.011    0.000 <__array_function__ internals>:2(swapaxes)\n",
      "     1860    0.002    0.000    0.002    0.000 {method 'swapaxes' of 'numpy.ndarray' objects}\n",
      "     1860    0.002    0.000    0.004    0.000 fromnumeric.py:52(_wrapfunc)\n",
      "     1860    0.002    0.000    0.006    0.000 fromnumeric.py:550(swapaxes)\n",
      "       40    0.001    0.000    0.001    0.000 {built-in method numpy.array}\n",
      "     1860    0.001    0.000    0.001    0.000 {built-in method builtins.getattr}\n",
      "     1880    0.001    0.000    0.001    0.000 {method 'append' of 'list' objects}\n",
      "     1860    0.001    0.000    0.001    0.000 fromnumeric.py:546(_swapaxes_dispatcher)\n",
      "       10    0.000    0.000    0.278    0.028 neural_network.py:9(get_mini_batches)\n",
      "       20    0.000    0.000    0.000    0.000 {method 'cumsum' of 'numpy.ndarray' objects}\n",
      "        1    0.000    0.000    7.705    7.705 {built-in method builtins.exec}\n",
      "       20    0.000    0.000    0.000    0.000 <__array_function__ internals>:2(empty_like)\n",
      "       10    0.000    0.000    0.000    0.000 shape_base.py:82(atleast_2d)\n",
      "       10    0.000    0.000    0.000    0.000 shape_base.py:208(_arrays_for_stack_dispatcher)\n",
      "       10    0.000    0.000    0.001    0.000 shape_base.py:223(vstack)\n",
      "        1    0.000    0.000    7.705    7.705 <string>:1(<module>)\n",
      "       51    0.000    0.000    0.000    0.000 {built-in method builtins.len}\n",
      "       20    0.000    0.000    0.020    0.001 <__array_function__ internals>:2(array_split)\n",
      "       10    0.000    0.000    0.001    0.000 <__array_function__ internals>:2(vstack)\n",
      "       10    0.000    0.000    0.000    0.000 <__array_function__ internals>:2(concatenate)\n",
      "       20    0.000    0.000    0.000    0.000 {built-in method builtins.divmod}\n",
      "       10    0.000    0.000    0.000    0.000 <__array_function__ internals>:2(atleast_2d)\n",
      "       10    0.000    0.000    0.000    0.000 shape_base.py:219(_vhstack_dispatcher)\n",
      "       20    0.000    0.000    0.000    0.000 _asarray.py:86(asanyarray)\n",
      "       10    0.000    0.000    0.000    0.000 {built-in method builtins.hasattr}\n",
      "       20    0.000    0.000    0.000    0.000 multiarray.py:75(empty_like)\n",
      "       20    0.000    0.000    0.000    0.000 shape_base.py:735(_array_split_dispatcher)\n",
      "       10    0.000    0.000    0.000    0.000 {built-in method builtins.isinstance}\n",
      "       10    0.000    0.000    0.000    0.000 multiarray.py:143(concatenate)\n",
      "       10    0.000    0.000    0.000    0.000 shape_base.py:78(_atleast_2d_dispatcher)\n",
      "        1    0.000    0.000    0.000    0.000 {method 'disable' of '_lsprof.Profiler' objects}\n",
      "\n",
      "\n"
     ]
    }
   ],
   "source": [
    "profile.run(\"a.train(10)\", sort=\"time\")"
   ]
  },
  {
   "cell_type": "code",
   "execution_count": null,
   "metadata": {},
   "outputs": [],
   "source": []
  }
 ],
 "metadata": {
  "kernelspec": {
   "display_name": "Python 3",
   "language": "python",
   "name": "python3"
  },
  "language_info": {
   "codemirror_mode": {
    "name": "ipython",
    "version": 3
   },
   "file_extension": ".py",
   "mimetype": "text/x-python",
   "name": "python",
   "nbconvert_exporter": "python",
   "pygments_lexer": "ipython3",
   "version": "3.6.3"
  }
 },
 "nbformat": 4,
 "nbformat_minor": 2
}
