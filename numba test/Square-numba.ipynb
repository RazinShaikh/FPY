{
 "cells": [
  {
   "cell_type": "markdown",
   "metadata": {
    "slideshow": {
     "slide_type": "-"
    }
   },
   "source": [
    "# Imports"
   ]
  },
  {
   "cell_type": "code",
   "execution_count": 1,
   "metadata": {},
   "outputs": [],
   "source": [
    "import numpy as np\n",
    "import itertools\n",
    "import time\n",
    "from matplotlib import pyplot as plt\n",
    "from mpl_toolkits.mplot3d import Axes3D\n",
    "from matplotlib import cm\n",
    "# import pixiedust\n",
    "from numba import njit, float32, void\n",
    "import os\n",
    "import cProfile as profile"
   ]
  },
  {
   "cell_type": "markdown",
   "metadata": {
    "heading_collapsed": true
   },
   "source": [
    "# Introduction"
   ]
  },
  {
   "cell_type": "markdown",
   "metadata": {
    "hidden": true
   },
   "source": [
    "Consider the following equation:\n",
    "$$\\Delta_p \\Psi(x,y)=f(x,y)$$\n",
    "\n",
    "$x \\in [0,1],\\ y \\in [0,1]$ with *Dirichlet* BC: $\\Psi(0,y) = 0$, $\\Psi(1,y) = 0$, $\\Psi(x,0) = 0$ and $\\Psi(x,1) = 0$.\n",
    "\n",
    "For this first attempt, we will take $p=2$."
   ]
  },
  {
   "cell_type": "markdown",
   "metadata": {},
   "source": [
    "# Defining functions"
   ]
  },
  {
   "cell_type": "markdown",
   "metadata": {},
   "source": [
    "## Sigmoid"
   ]
  },
  {
   "cell_type": "markdown",
   "metadata": {},
   "source": [
    "Sigmoid $\\sigma(x) = \\frac{1}{1+e^{-x}}$ and its derrivatives."
   ]
  },
  {
   "cell_type": "markdown",
   "metadata": {},
   "source": [
    "Sigmoid with parameter $t$\n",
    "$$ \\sigma_t(x) = \\frac{1}{1+e^{-tx}}$$"
   ]
  },
  {
   "cell_type": "code",
   "execution_count": 2,
   "metadata": {},
   "outputs": [],
   "source": [
    "T = 1"
   ]
  },
  {
   "cell_type": "code",
   "execution_count": 3,
   "metadata": {},
   "outputs": [],
   "source": [
    "@njit\n",
    "def sig(x):\n",
    "    return 1 / (1 + np.exp(-T*x))\n",
    "\n",
    "@njit\n",
    "def sig1(x):\n",
    "    return T * sig(x) * (1 - sig(x))\n",
    "\n",
    "@njit\n",
    "def sig2(x):\n",
    "    return T * (sig1(x) - 2*sig(x)*sig1(x))\n",
    "\n",
    "@njit\n",
    "def sig3(x):\n",
    "    return T * (sig2(x) - 2 * (sig1(x)**2 + sig(x) * sig2(x)))\n",
    "\n",
    "@njit\n",
    "def sig_pr(x, k):\n",
    "    if k==0:\n",
    "        return sig(x)\n",
    "    if k==1:\n",
    "        return sig1(x)\n",
    "    if k==2:\n",
    "        return sig2(x)\n",
    "    if k==3:\n",
    "        return sig3(x)"
   ]
  },
  {
   "cell_type": "markdown",
   "metadata": {},
   "source": [
    "## RHS"
   ]
  },
  {
   "cell_type": "markdown",
   "metadata": {},
   "source": [
    "The right side of the equation:  $\\Delta\\Psi(x,y) = 6 x (x-1) (1-2 y) + 2 y (y-1) (1-2 y)$"
   ]
  },
  {
   "cell_type": "code",
   "execution_count": 4,
   "metadata": {},
   "outputs": [],
   "source": [
    "K=10\n",
    "@njit\n",
    "def f(x, y):\n",
    "    return K * (6*(x-1)*x*(1-2*y) + 2*(y-1)*y*(1-2*y))"
   ]
  },
  {
   "cell_type": "markdown",
   "metadata": {},
   "source": [
    "The analytic solution is given by: $\\ \\Psi_a(x,y) = x (1-x) y (1-y) (1-2 y)$"
   ]
  },
  {
   "cell_type": "code",
   "execution_count": 5,
   "metadata": {},
   "outputs": [],
   "source": [
    "@njit\n",
    "def psi_a(x, y):\n",
    "    return K * x*(1-x)*y*(1-y)*(1-2*y)"
   ]
  },
  {
   "cell_type": "markdown",
   "metadata": {},
   "source": [
    "$$\\frac{\\partial}{\\partial x} \\Psi_a = (1-2x) y (1-y) (1-2 y)$$"
   ]
  },
  {
   "cell_type": "code",
   "execution_count": 6,
   "metadata": {},
   "outputs": [],
   "source": [
    "@njit\n",
    "def psi_a_dx(x,y):\n",
    "    return K * (1-2*x)*y*(1-y)*(1-2*y)"
   ]
  },
  {
   "cell_type": "markdown",
   "metadata": {},
   "source": [
    "$$\\frac{\\partial}{\\partial y} \\Psi_a = x (1-x) (1-6y + 6y^2) $$"
   ]
  },
  {
   "cell_type": "code",
   "execution_count": 7,
   "metadata": {},
   "outputs": [],
   "source": [
    "@njit\n",
    "def psi_a_dy(x,y):\n",
    "    return K * x*(1-x)*(1-6*y+6*(y**2))"
   ]
  },
  {
   "cell_type": "markdown",
   "metadata": {},
   "source": [
    "## Neural Network"
   ]
  },
  {
   "cell_type": "markdown",
   "metadata": {},
   "source": [
    "The output of neural network $N(x,y,\\vec{p})$, where $\\vec{p} = [w, u, v]$:\n",
    "$$N = \\sum_i^H v_i \\sigma(z_i) \\text{, where } z_i = w_{i0} x + w_{i1} y + u_i$$"
   ]
  },
  {
   "cell_type": "code",
   "execution_count": 8,
   "metadata": {
    "code_folding": []
   },
   "outputs": [],
   "source": [
    "@njit\n",
    "def z(x, y, p00, p01, p1):\n",
    "# def z(x, y, p00, p01, p1, z_res):\n",
    "    z_x = x * p00\n",
    "    z_y = y * p01\n",
    "    z_ = z_x + z_y + p1\n",
    "#     for i in range(p00.shape[0]):\n",
    "#         z_res[i] = x*p00[i] + y*p01[i] + p1[i]\n",
    "\n",
    "    return z_\n",
    "\n",
    "@njit\n",
    "def N(x, y, p00, p01, p1, p2):\n",
    "    return np.sum(sig(z(x, y, p00, p01, p1)) * p2)"
   ]
  },
  {
   "cell_type": "markdown",
   "metadata": {},
   "source": [
    "$$\\frac{\\partial^k N}{\\partial x_j^k} = \\sum_{i=1}^H v_i w_{ij}^k \\sigma^{(k)}$$"
   ]
  },
  {
   "cell_type": "code",
   "execution_count": 9,
   "metadata": {
    "code_folding": []
   },
   "outputs": [],
   "source": [
    "@njit\n",
    "def dN_dxj_k(x, y, p00, p01, p1, p2, j, k):\n",
    "    wj = p00 if j==0 else p01\n",
    "    z_ = z(x, y, p00, p01, p1)\n",
    "    \n",
    "    return np.sum(p2 * (wj**k) * sig_pr(z_, k))"
   ]
  },
  {
   "cell_type": "markdown",
   "metadata": {},
   "source": [
    "$$\\frac{\\partial N}{\\partial w_j} = x_j v \\sigma '$$"
   ]
  },
  {
   "cell_type": "code",
   "execution_count": 10,
   "metadata": {
    "code_folding": []
   },
   "outputs": [],
   "source": [
    "@njit\n",
    "def dN_dwj(x, y, p00, p01, p1, p2, j):\n",
    "    xj = x if j==0 else y\n",
    "    z_ = z(x, y, p00, p01, p1)\n",
    "    return xj * p2 * sig1(z_)"
   ]
  },
  {
   "cell_type": "markdown",
   "metadata": {},
   "source": [
    "$$ \\frac{\\partial}{\\partial w_j} \\frac{\\partial N}{\\partial x_k} = x_j v w_k \\sigma'' + v_i \\sigma' \\quad\\text{ if } j = k$$\n",
    "\n",
    "$$ \\frac{\\partial}{\\partial w_j} \\frac{\\partial N}{\\partial x_k} = x_j v w_k \\sigma'' \\quad\\text{ if } j \\neq k$$"
   ]
  },
  {
   "cell_type": "code",
   "execution_count": 11,
   "metadata": {
    "code_folding": []
   },
   "outputs": [],
   "source": [
    "@njit\n",
    "def d_dwj_dN_dxk(x, y, p00, p01, p1, p2, j, k):\n",
    "    xj = x if j==0 else y\n",
    "    wk = p00 if k==0 else p01\n",
    "    jk = 1 if j==k else 0\n",
    "    z_ = z(x, y, p00, p01, p1)\n",
    "    return xj * p2 * wk * sig2(z_) + jk * p2 * sig1(z_)"
   ]
  },
  {
   "cell_type": "markdown",
   "metadata": {},
   "source": [
    "$$ \\frac{\\partial}{\\partial w_j} \\frac{\\partial^2 N}{\\partial x_k^2} = x_j v w_k^2 \\sigma^{(3)} + 2 v w_k \\sigma'' \\quad\\text{ if } j = k $$\n",
    "\n",
    "$$ \\frac{\\partial}{\\partial w_j} \\frac{\\partial^2 N}{\\partial x_k^2} = x_j v w_k^2 \\sigma^{(3)} \\quad\\text{ if } j \\neq k $$"
   ]
  },
  {
   "cell_type": "code",
   "execution_count": 12,
   "metadata": {
    "code_folding": []
   },
   "outputs": [],
   "source": [
    "@njit\n",
    "def d_dwj_dN2_dxk2(x, y, p00, p01, p1, p2, j, k):\n",
    "    xj = x if j==0 else y\n",
    "    wk = p00 if k==0 else p01\n",
    "    jk = 1 if j==k else 0\n",
    "    z_ = z(x, y, p00, p01, p1)\n",
    "    return xj * p2 * (wk**2) * sig3(z_) + jk * 2 * p2 * wk * sig2(z_)"
   ]
  },
  {
   "cell_type": "markdown",
   "metadata": {},
   "source": [
    "$$ \\frac{\\partial}{\\partial u} \\frac{\\partial^k}{\\partial x_j^k} N = v w_j^k \\sigma^{(k+1)} $$"
   ]
  },
  {
   "cell_type": "code",
   "execution_count": 13,
   "metadata": {
    "code_folding": []
   },
   "outputs": [],
   "source": [
    "@njit\n",
    "def d_du_dkN(x, y, p00, p01, p1, p2, j, k):\n",
    "    wj = p00 if j==0 else p01\n",
    "    z_ = z(x, y, p00, p01, p1)\n",
    "    return p2 * (wj**k) * sig_pr(z_, k+1)"
   ]
  },
  {
   "cell_type": "markdown",
   "metadata": {},
   "source": [
    "$$ \\frac{\\partial}{\\partial v} \\frac{\\partial^k}{\\partial x_j^k} N = w_j^k \\sigma^{(k)} $$"
   ]
  },
  {
   "cell_type": "code",
   "execution_count": 14,
   "metadata": {
    "code_folding": []
   },
   "outputs": [],
   "source": [
    "@njit\n",
    "def d_dv_dkN(x, y, p00, p01, p1, p2, j, k):\n",
    "    wj = p00 if j==0 else p01\n",
    "    z_ = z(x, y, p00, p01, p1)\n",
    "    return (wj**k) * sig_pr(z_, k)"
   ]
  },
  {
   "cell_type": "markdown",
   "metadata": {},
   "source": [
    "## Cost function"
   ]
  },
  {
   "cell_type": "markdown",
   "metadata": {},
   "source": [
    "$$E[\\vec{p}] = \\sum_{i \\in \\hat{D}} \\left\\{ \\frac{\\partial^2 N}{\\partial x^2} + \\frac{\\partial^2 N}{\\partial y^2} - f(x,y) \\right\\}^2 \n",
    "           +  \\sum_{i \\in \\partial \\hat{D}} N^2$$"
   ]
  },
  {
   "cell_type": "code",
   "execution_count": 15,
   "metadata": {},
   "outputs": [],
   "source": [
    "BC=1"
   ]
  },
  {
   "cell_type": "code",
   "execution_count": 16,
   "metadata": {
    "code_folding": []
   },
   "outputs": [],
   "source": [
    "@njit# ('float64(float64, float64, float64[:], float64[:], float64[:], float64[:])')\n",
    "def error_term1(x, y, p00, p01, p1, p2):\n",
    "    ans = dN_dxj_k(x, y, p00, p01, p1, p2, 0, 2) + \\\n",
    "            dN_dxj_k(x, y, p00, p01, p1, p2, 1, 2)  -  f(x, y)\n",
    "    return ans"
   ]
  },
  {
   "cell_type": "code",
   "execution_count": 17,
   "metadata": {
    "code_folding": []
   },
   "outputs": [],
   "source": [
    "@njit\n",
    "def cost(points, boundary_points, p00, p01, p1, p2):\n",
    "    et1 = np.zeros(points.shape[0])\n",
    "    et2 = np.zeros(boundary_points.shape[0])\n",
    "    \n",
    "    for i, pnt in enumerate(points):\n",
    "        et1[i] = error_term1(pnt[0], pnt[1], p00, p01, p1, p2)**2\n",
    "    \n",
    "    for i, pnt in enumerate(boundary_points):\n",
    "        et2[i] = N(pnt[0], pnt[1], p00, p01, p1, p2)**2\n",
    "    \n",
    "    cost = np.sum(et1) + BC*np.sum(et2)\n",
    "    \n",
    "    return cost"
   ]
  },
  {
   "cell_type": "code",
   "execution_count": 18,
   "metadata": {},
   "outputs": [],
   "source": [
    "def relative_err_without_points(p00, p01, p1, p2, nx=100):\n",
    "    all_points = np.array(list(itertools.product(np.linspace(0, 1, nx), np.linspace(0, 1, nx))))\n",
    "    return relative_err(p00, p01, p1, p2, all_points)\n",
    "\n",
    "@njit\n",
    "def relative_err(p00, p01, p1, p2, all_points):\n",
    "    dOmega = 1. / len(all_points)\n",
    "    \n",
    "    tr1 = np.zeros(all_points.shape[0])\n",
    "    tr2 = np.zeros(all_points.shape[0])\n",
    "    ana1 = np.zeros(all_points.shape[0])\n",
    "    ana2 = np.zeros(all_points.shape[0])\n",
    "    \n",
    "    for i, pnt in enumerate(all_points):\n",
    "        tr1[i] = dOmega * (np.abs(N(pnt[0], pnt[1], p00, p01, p1, p2) - psi_a(pnt[0],pnt[1]))**2)\n",
    "\n",
    "    for i, pnt in enumerate(all_points):\n",
    "        tr2[i] = dOmega * ((dN_dxj_k(pnt[0],pnt[1],p00,p01,p1,p2,0,1)-psi_a_dx(pnt[0],pnt[1]))**2 +\n",
    "                           (dN_dxj_k(pnt[0],pnt[1],p00,p01,p1,p2,1,1)-psi_a_dy(pnt[0],pnt[1]))**2)\n",
    "\n",
    "    for i, pnt in enumerate(all_points):\n",
    "        ana1[i] = dOmega * (np.abs(psi_a(pnt[0],pnt[1]))**2)\n",
    "        \n",
    "    for i, pnt in enumerate(all_points):\n",
    "        ana2[i] = dOmega* (psi_a_dx(pnt[0],pnt[1])**2 + psi_a_dy(pnt[0],pnt[1])**2)\n",
    "    \n",
    "    rel_err = (np.sum(tr1) + np.sum(tr2))**(1/2) / (np.sum(ana1) + np.sum(ana2))**(1/2)\n",
    "\n",
    "    return rel_err"
   ]
  },
  {
   "cell_type": "markdown",
   "metadata": {},
   "source": [
    "# Gradients"
   ]
  },
  {
   "cell_type": "markdown",
   "metadata": {},
   "source": [
    "$$ \\frac{\\partial E[\\vec{p}]}{\\partial w_j} = \\sum_{i \\in \\hat{D}} \\left\\{ 2 \\text{ (error_term1) } \\left( \\frac{\\partial}{\\partial w_j} \\frac{\\partial^2 N}{\\partial x^2} + \\frac{\\partial}{\\partial w_j} \\frac{\\partial^2 N}{\\partial y^2} \\right) \\right\\}  +  \\sum_{i \\in \\partial \\hat{D}} 2 N \\frac{\\partial N}{\\partial w_j}$$"
   ]
  },
  {
   "cell_type": "code",
   "execution_count": 19,
   "metadata": {
    "code_folding": []
   },
   "outputs": [],
   "source": [
    "@njit\n",
    "def dE_dwj(points, boundary_points, p00, p01, p1, p2, j):\n",
    "    t1 = np.zeros((points.shape[0], p00.shape[0]))\n",
    "    t2 = np.zeros((boundary_points.shape[0], p00.shape[0]))\n",
    "    \n",
    "    for i, pnt in enumerate(points):\n",
    "        t1[i] = 2 * error_term1(pnt[0],pnt[1],p00, p01, p1, p2) * (\n",
    "                d_dwj_dN2_dxk2(pnt[0],pnt[1],p00, p01, p1, p2,j,0) + \n",
    "                d_dwj_dN2_dxk2(pnt[0],pnt[1],p00, p01, p1, p2,j,1))\n",
    "        \n",
    "    for i, pnt in enumerate(boundary_points):\n",
    "        t2[i] = 2 * N(pnt[0],pnt[1],p00, p01, p1, p2) * dN_dwj(pnt[0],pnt[1],p00, p01, p1, p2,j)\n",
    "    \n",
    "    grad = np.sum(t1, axis=0) + BC*np.sum(t2, axis=0)\n",
    "    \n",
    "    return grad"
   ]
  },
  {
   "cell_type": "markdown",
   "metadata": {},
   "source": [
    "$$ \\frac{\\partial E[\\vec{p}]}{\\partial u} = \\sum_{i \\in \\hat{D}} \\left\\{ 2 \\text{ (error_term1) } \\left( \\frac{\\partial}{\\partial u} \\frac{\\partial^2 N}{\\partial x^2} + \\frac{\\partial}{\\partial u} \\frac{\\partial^2 N}{\\partial y^2} \\right) \\right\\} +  \\sum_{i \\in \\partial \\hat{D}} 2 N \\frac{\\partial N}{\\partial u}$$"
   ]
  },
  {
   "cell_type": "code",
   "execution_count": 20,
   "metadata": {
    "code_folding": []
   },
   "outputs": [],
   "source": [
    "@njit\n",
    "def dE_du(points, boundary_points, p00, p01, p1, p2):\n",
    "    t1 = np.zeros((points.shape[0], p1.shape[0]))\n",
    "    t2 = np.zeros((boundary_points.shape[0], p1.shape[0]))\n",
    "    \n",
    "    for i, pnt in enumerate(points):\n",
    "        t1[i] = 2 * error_term1(pnt[0],pnt[1],p00, p01, p1, p2) * \\\n",
    "                (d_du_dkN(pnt[0],pnt[1],p00, p01, p1, p2,0,2) + \\\n",
    "                 d_du_dkN(pnt[0],pnt[1],p00, p01, p1, p2,1,2))\n",
    "        \n",
    "    for i, pnt in enumerate(boundary_points):\n",
    "        t2[i] = 2 * N(pnt[0],pnt[1],p00, p01, p1, p2) * d_du_dkN(pnt[0],pnt[1],p00, p01, p1, p2,0,0)\n",
    "    \n",
    "    grad = np.sum(t1, axis=0) + BC*np.sum(t2, axis=0)\n",
    "    \n",
    "    return grad"
   ]
  },
  {
   "cell_type": "markdown",
   "metadata": {},
   "source": [
    "$$ \\frac{\\partial E[\\vec{p}]}{\\partial v} = \\sum_{i \\in \\hat{D}} \\left\\{ 2 \\text{ (error_term1) } \\left( \\frac{\\partial}{\\partial v} \\frac{\\partial^2 N}{\\partial x^2} + \\frac{\\partial}{\\partial v} \\frac{\\partial^2 N}{\\partial y^2} \\right) \\right\\}  +  \\sum_{i \\in \\partial \\hat{D}} 2 N \\frac{\\partial N}{\\partial v}$$"
   ]
  },
  {
   "cell_type": "code",
   "execution_count": 21,
   "metadata": {
    "code_folding": []
   },
   "outputs": [],
   "source": [
    "@njit\n",
    "def dE_dv(points, boundary_points, p00, p01, p1, p2):\n",
    "    t1 = np.zeros((points.shape[0], p2.shape[0]))\n",
    "    t2 = np.zeros((boundary_points.shape[0], p2.shape[0]))\n",
    "    \n",
    "    for i, pnt in enumerate(points):\n",
    "        t1[i] = 2 * error_term1(pnt[0],pnt[1],p00, p01, p1, p2) * \\\n",
    "                (d_dv_dkN(pnt[0],pnt[1],p00, p01, p1, p2,0,2) + \\\n",
    "                 d_dv_dkN(pnt[0],pnt[1],p00, p01, p1, p2,1,2))\n",
    "        \n",
    "    for i, pnt in enumerate(boundary_points):\n",
    "        t2[i] = 2 * N(pnt[0],pnt[1],p00, p01, p1, p2) * d_dv_dkN(pnt[0],pnt[1],p00, p01, p1, p2,0,0)\n",
    "    \n",
    "    grad = np.sum(t1, axis=0) + BC*np.sum(t2, axis=0)\n",
    "    \n",
    "    return grad"
   ]
  },
  {
   "cell_type": "markdown",
   "metadata": {},
   "source": [
    "# NN class"
   ]
  },
  {
   "cell_type": "code",
   "execution_count": 22,
   "metadata": {},
   "outputs": [],
   "source": [
    "# @njit\n",
    "def get_mini_batches(points, boundary_points, batch_size):\n",
    "    np.random.shuffle(points)\n",
    "    np.random.shuffle(boundary_points)\n",
    "    \n",
    "    no_of_splits = np.ceil( (len(points) + len(boundary_points)) / batch_size)\n",
    "\n",
    "    mini_batch_points = np.array_split(points, no_of_splits)\n",
    "    mini_batch_boundary_points = np.array_split(boundary_points, no_of_splits)\n",
    "    \n",
    "    return mini_batch_points, mini_batch_boundary_points"
   ]
  },
  {
   "cell_type": "code",
   "execution_count": 23,
   "metadata": {
    "code_folding": [
     57,
     63
    ]
   },
   "outputs": [],
   "source": [
    "class NNTrain:\n",
    "    def __init__(self, nx=10, bx=10, hidden_nodes=10, alpha=0.01, batch_size=50,\n",
    "                 beta=0.9, if_rel_err=False):\n",
    "        \n",
    "        self.nx = nx\n",
    "        self.hidden_nodes = hidden_nodes\n",
    "        self.alpha = alpha\n",
    "        self.batch_size = batch_size\n",
    "        self.beta = beta\n",
    "        self.boundary_points = np.array(list(set(list(itertools.product([0, 1], np.linspace(0,1,bx))) +\n",
    "                                                 list(itertools.product(np.linspace(0,1,bx), [0, 1])))))\n",
    "        pnts = list(itertools.product(np.linspace(0, 1, nx), np.linspace(0, 1, nx)))\n",
    "        self.points = np.array([(x,y) for x,y in pnts if (x not in [0,1] and y not in [0,1])])\n",
    "        self.cost_rate = []\n",
    "        self.if_rel_err = if_rel_err\n",
    "        if self.if_rel_err:\n",
    "            self.rel_err = []\n",
    "        self.p00 = np.random.randn(hidden_nodes)\n",
    "        self.p01 = np.random.randn(hidden_nodes)\n",
    "        self.p1 = np.random.randn(hidden_nodes)\n",
    "        self.p2 = np.random.randn(hidden_nodes)\n",
    "        self.m_t = np.array([np.zeros(hidden_nodes),\n",
    "                             np.zeros(hidden_nodes),\n",
    "                             np.zeros(hidden_nodes),\n",
    "                             np.zeros(hidden_nodes)])\n",
    "\n",
    "\n",
    "    def sgd_mt(self, w, g_t, theta_0):\n",
    "        #gradient descent with momentum\n",
    "        self.m_t[w] = self.beta * self.m_t[w] + (1-self.beta) * g_t\n",
    "        theta_0 = theta_0 - (self.alpha*self.m_t[w])\n",
    "            \n",
    "        return theta_0\n",
    "        \n",
    "\n",
    "    def train(self, itr=1000):\n",
    "\n",
    "        start=len(self.cost_rate)-1\n",
    "        if start<1:\n",
    "            start+=1\n",
    "            self.cost_rate.append(cost(self.points,self.boundary_points,self.p00, self.p01, self.p1, self.p2))\n",
    "            if self.if_rel_err:\n",
    "                self.rel_err.append(relative_err(self.p00, self.p01, self.p1, self.p2, \n",
    "                                                 all_points=np.vstack([self.points, self.boundary_points])))\n",
    "\n",
    "        i = start\n",
    "        while i < start+itr:\n",
    "            mini_batch_points, mini_batch_boundary = get_mini_batches(self.points, \n",
    "                                                                      self.boundary_points, self.batch_size)\n",
    "\n",
    "            for mini_point, mini_boundary in zip(mini_batch_points, mini_batch_boundary):\n",
    "\n",
    "                g_w0 = dE_dwj(mini_point, mini_boundary, self.p00, self.p01, self.p1, self.p2, 0)\n",
    "                g_w1 = dE_dwj(mini_point, mini_boundary, self.p00, self.p01, self.p1, self.p2, 1)\n",
    "                g_u = dE_du(mini_point, mini_boundary, self.p00, self.p01, self.p1, self.p2)\n",
    "                g_v = dE_dv(mini_point, mini_boundary, self.p00, self.p01, self.p1, self.p2)\n",
    "\n",
    "                self.pp00 = self.sgd_mt(0, g_w0, self.p00)\n",
    "                self.p01 = self.sgd_mt(1, g_w1, self.p01)\n",
    "                self.p1 = self.sgd_mt(2, g_u, self.p1)\n",
    "                self.p2 = self.sgd_mt(3, g_v, self.p2)\n",
    "\n",
    "            self.cost_rate.append(cost(self.points,self.boundary_points,self.p00, self.p01, self.p1, self.p2))\n",
    "            cost_diff = self.cost_rate[i]-self.cost_rate[i+1]\n",
    "            if self.if_rel_err:\n",
    "                self.rel_err.append(relative_err(self.p00, self.p01, self.p1, self.p2, \n",
    "                                                 all_points=np.vstack([self.points, self.boundary_points])))\n",
    "                rel_diff = self.rel_err[i]-self.rel_err[i+1]\n",
    "\n",
    "            i+=1\n",
    "                \n",
    "                \n",
    "    def save_result(self, output_name=''):\n",
    "        timestr = time.strftime(\"%Y%m%d-%H%M\")\n",
    "        np.savez('output/'+ timestr + '_' + output_name +'_nn_params.npz', self.p)\n",
    "        np.savez('output/'+ timestr + '_' + output_name +'_cost_rate.npz', self.cost_rate)\n",
    "        if self.if_rel_err:\n",
    "            np.savez('output/'+ timestr + '_' + output_name +'_rel_err.npz', self.rel_err)"
   ]
  },
  {
   "cell_type": "code",
   "execution_count": null,
   "metadata": {},
   "outputs": [],
   "source": []
  },
  {
   "cell_type": "markdown",
   "metadata": {
    "heading_collapsed": true
   },
   "source": [
    "# Graphs"
   ]
  },
  {
   "cell_type": "code",
   "execution_count": 24,
   "metadata": {
    "hidden": true
   },
   "outputs": [],
   "source": [
    "%matplotlib notebook\n",
    "%matplotlib notebook"
   ]
  },
  {
   "cell_type": "markdown",
   "metadata": {
    "heading_collapsed": true,
    "hidden": true
   },
   "source": [
    "## Hidden Nodes"
   ]
  },
  {
   "cell_type": "code",
   "execution_count": 25,
   "metadata": {
    "hidden": true
   },
   "outputs": [],
   "source": [
    "def plot_nodes(a, save_name=None, save=True, zlim=True):\n",
    "    p = a.p\n",
    "    hmax = a.p[0][0].shape[0]\n",
    "    col = int(np.sqrt(hmax)) if int(np.sqrt(hmax)) < 10 else 10\n",
    "    row = np.ceil(hmax / col)\n",
    "    \n",
    "    d_x=0.1\n",
    "\n",
    "    fig = plt.figure(figsize=(col*3, row*3), dpi=100)\n",
    "    for h in range(1,hmax+1):\n",
    "        ax = fig.add_subplot(row,col,h, projection='3d')\n",
    "        x = y = np.arange(0, 1+d_x, d_x)\n",
    "        X, Y = np.meshgrid(x, y)\n",
    "\n",
    "        zs = np.array([p[1][h-1]*sig(z(x,y,p))[h-1] for x,y in zip(np.ravel(X), np.ravel(Y))])\n",
    "        Z = zs.reshape(X.shape)\n",
    "\n",
    "        ax.set_xlabel('x')\n",
    "        ax.set_ylabel('y')\n",
    "        if zlim:\n",
    "            ax.set_zlim(0,1)\n",
    "\n",
    "        ax.plot_surface(X, Y, Z, cmap=cm.coolwarm)\n",
    "        ax.title.set_text('HN: ' + str(h) + ', v=' + \"{:.4E}\".format(p[1][h-1]))\n",
    "        time.sleep(0.2)\n",
    "\n",
    "    if save==True:\n",
    "        if save_name is None: \n",
    "            plt.savefig('t'+str(T)+'_h'+str(hmax)+'_n'+str(a.nx)+'.png')\n",
    "        else:\n",
    "            plt.savefig(save_name)\n",
    "    else:\n",
    "        plt.show()"
   ]
  },
  {
   "cell_type": "markdown",
   "metadata": {
    "heading_collapsed": true,
    "hidden": true
   },
   "source": [
    "## Error vs Iterations"
   ]
  },
  {
   "cell_type": "code",
   "execution_count": 26,
   "metadata": {
    "hidden": true
   },
   "outputs": [],
   "source": [
    "def plot_iteration(arr, min_it=0, max_it=None):\n",
    "    plt.figure()\n",
    "    plt.plot(np.arange(len(arr[min_it:max_it])), np.array(arr[min_it:max_it]))\n",
    "    plt.show()"
   ]
  },
  {
   "cell_type": "markdown",
   "metadata": {
    "heading_collapsed": true,
    "hidden": true
   },
   "source": [
    "## Solution Accuracy on the domain"
   ]
  },
  {
   "cell_type": "code",
   "execution_count": 27,
   "metadata": {
    "hidden": true
   },
   "outputs": [],
   "source": [
    "def accuracy(p):\n",
    "    d_x=0.01\n",
    "    fig = plt.figure()\n",
    "    ax = fig.add_subplot(111, projection='3d')\n",
    "    x = y = np.arange(0, 1.0+d_x, d_x)\n",
    "    X, Y = np.meshgrid(x, y)\n",
    "\n",
    "    zs = np.array([psi_a(x,y)-psi_t(x,y,p) for x,y in zip(np.ravel(X), np.ravel(Y))])\n",
    "    Z = zs.reshape(X.shape)\n",
    "\n",
    "    ax.plot_surface(X, Y, Z, cmap=cm.coolwarm_r)\n",
    "    # ax.ticklabel_format(style='sci', axis='z', scilimits=(0,0), useOffset=True, useMathText=True)\n",
    "\n",
    "\n",
    "    ax.set_xlabel('x')\n",
    "    ax.set_ylabel('y')\n",
    "#     ax.set_zlabel('Accuracy')\n",
    "\n",
    "\n",
    "    plt.show()"
   ]
  },
  {
   "cell_type": "code",
   "execution_count": 28,
   "metadata": {
    "hidden": true
   },
   "outputs": [],
   "source": [
    "def plot_fun(fun, zlim=False, title=None, return_ax=False, **kwargs):\n",
    "    d_x=0.01\n",
    "    fig = plt.figure()\n",
    "    ax = fig.add_subplot(111, projection='3d')\n",
    "    x = y = np.arange(0, 1.0+d_x, d_x)\n",
    "    X, Y = np.meshgrid(x, y)\n",
    "\n",
    "    zs = np.array([fun(x,y,**kwargs) for x,y in zip(np.ravel(X), np.ravel(Y))])\n",
    "    Z = zs.reshape(X.shape)\n",
    "\n",
    "    ax.plot_surface(X, Y, Z, cmap=cm.coolwarm_r)\n",
    "    # ax.ticklabel_format(style='sci', axis='z', scilimits=(0,0), useOffset=True, useMathText=True)\n",
    "\n",
    "\n",
    "    ax.set_xlabel('x')\n",
    "    ax.set_ylabel('y')\n",
    "    ax.title.set_text(title)\n",
    "    \n",
    "    if zlim:\n",
    "        ax.set_zlim(0,1)\n",
    "\n",
    "    if return_ax:\n",
    "        return ax\n",
    "    else:\n",
    "        plt.show()"
   ]
  },
  {
   "cell_type": "markdown",
   "metadata": {},
   "source": [
    "# Training"
   ]
  },
  {
   "cell_type": "code",
   "execution_count": 29,
   "metadata": {},
   "outputs": [],
   "source": [
    "K=10\n",
    "a = NNTrain(nx=60, bx=300, hidden_nodes=15, alpha=1e-4, batch_size=50, if_rel_err=True)"
   ]
  },
  {
   "cell_type": "code",
   "execution_count": null,
   "metadata": {},
   "outputs": [],
   "source": []
  },
  {
   "cell_type": "code",
   "execution_count": 31,
   "metadata": {
    "scrolled": true
   },
   "outputs": [
    {
     "name": "stdout",
     "output_type": "stream",
     "text": [
      "         22745 function calls (20865 primitive calls) in 12.563 seconds\n",
      "\n",
      "   Ordered by: internal time\n",
      "\n",
      "   ncalls  tottime  percall  cumtime  percall filename:lineno(function)\n",
      "     1840    6.369    0.003    6.369    0.003 <ipython-input-19-534c0b774dd9>:1(dE_dwj)\n",
      "      920    2.555    0.003    2.555    0.003 <ipython-input-20-6bc3f17db06d>:1(dE_du)\n",
      "      920    1.663    0.002    1.663    0.002 <ipython-input-21-66e8fa2e80a2>:1(dE_dv)\n",
      "       10    0.753    0.075    0.753    0.075 <ipython-input-17-db81e09ebaab>:1(cost)\n",
      "       10    0.658    0.066    0.658    0.066 <ipython-input-18-7b4603c3c0c7>:5(relative_err)\n",
      "       20    0.250    0.013    0.251    0.013 {method 'shuffle' of 'numpy.random.mtrand.RandomState' objects}\n",
      "        1    0.163    0.163   12.562   12.562 <ipython-input-23-5601977ab35a>:36(train)\n",
      "     3680    0.122    0.000    0.122    0.000 <ipython-input-23-5601977ab35a>:28(sgd_mt)\n",
      "       20    0.011    0.001    0.026    0.001 shape_base.py:739(array_split)\n",
      "  1930/50    0.003    0.000    0.028    0.001 {built-in method numpy.core._multiarray_umath.implement_array_function}\n",
      "     1860    0.003    0.000    0.014    0.000 <__array_function__ internals>:2(swapaxes)\n",
      "     1860    0.003    0.000    0.003    0.000 {method 'swapaxes' of 'numpy.ndarray' objects}\n",
      "     1860    0.003    0.000    0.006    0.000 fromnumeric.py:52(_wrapfunc)\n",
      "     1860    0.002    0.000    0.008    0.000 fromnumeric.py:550(swapaxes)\n",
      "       40    0.001    0.000    0.001    0.000 {built-in method numpy.array}\n",
      "     1860    0.001    0.000    0.001    0.000 {built-in method builtins.getattr}\n",
      "     1860    0.001    0.000    0.001    0.000 fromnumeric.py:546(_swapaxes_dispatcher)\n",
      "     1880    0.001    0.000    0.001    0.000 {method 'append' of 'list' objects}\n",
      "       10    0.001    0.000    0.278    0.028 <ipython-input-22-0bffe1d034f3>:2(get_mini_batches)\n",
      "       20    0.000    0.000    0.000    0.000 {method 'cumsum' of 'numpy.ndarray' objects}\n",
      "       20    0.000    0.000    0.000    0.000 <__array_function__ internals>:2(empty_like)\n",
      "       10    0.000    0.000    0.000    0.000 shape_base.py:82(atleast_2d)\n",
      "       10    0.000    0.000    0.001    0.000 shape_base.py:223(vstack)\n",
      "        1    0.000    0.000   12.562   12.562 <string>:1(<module>)\n",
      "       51    0.000    0.000    0.000    0.000 {built-in method builtins.len}\n",
      "       20    0.000    0.000    0.027    0.001 <__array_function__ internals>:2(array_split)\n",
      "       10    0.000    0.000    0.001    0.000 <__array_function__ internals>:2(vstack)\n",
      "        1    0.000    0.000   12.563   12.563 {built-in method builtins.exec}\n",
      "       10    0.000    0.000    0.001    0.000 <__array_function__ internals>:2(concatenate)\n",
      "       10    0.000    0.000    0.000    0.000 shape_base.py:208(_arrays_for_stack_dispatcher)\n",
      "       10    0.000    0.000    0.000    0.000 <__array_function__ internals>:2(atleast_2d)\n",
      "       20    0.000    0.000    0.000    0.000 {built-in method builtins.divmod}\n",
      "       10    0.000    0.000    0.000    0.000 shape_base.py:219(_vhstack_dispatcher)\n",
      "       20    0.000    0.000    0.000    0.000 _asarray.py:86(asanyarray)\n",
      "       20    0.000    0.000    0.000    0.000 multiarray.py:75(empty_like)\n",
      "       10    0.000    0.000    0.000    0.000 {built-in method builtins.hasattr}\n",
      "       20    0.000    0.000    0.000    0.000 shape_base.py:735(_array_split_dispatcher)\n",
      "       10    0.000    0.000    0.000    0.000 multiarray.py:143(concatenate)\n",
      "       10    0.000    0.000    0.000    0.000 {built-in method builtins.isinstance}\n",
      "       10    0.000    0.000    0.000    0.000 shape_base.py:78(_atleast_2d_dispatcher)\n",
      "        1    0.000    0.000    0.000    0.000 {method 'disable' of '_lsprof.Profiler' objects}\n",
      "\n",
      "\n"
     ]
    }
   ],
   "source": [
    "profile.run(\"a.train(10)\", sort=\"time\")"
   ]
  },
  {
   "cell_type": "code",
   "execution_count": 299,
   "metadata": {
    "collapsed": true
   },
   "outputs": [
    {
     "name": "stdout",
     "output_type": "stream",
     "text": [
      "         2308275 function calls (2215195 primitive calls) in 9.592 seconds\n",
      "\n",
      "   Ordered by: internal time\n",
      "\n",
      "   ncalls  tottime  percall  cumtime  percall filename:lineno(function)\n",
      "       10    1.443    0.144    2.932    0.293 <ipython-input-295-ce93de07c968>:2(relative_err)\n",
      "   134560    1.405    0.000    1.405    0.000 <ipython-input-217-b58300938a6c>:1(d_dwj_dN2_dxk2)\n",
      "     1840    1.237    0.001    3.413    0.002 <ipython-input-231-ed990ca71b6d>:2(dE_dwj)\n",
      "   134560    1.057    0.000    1.057    0.000 <ipython-input-221-174e306cbd11>:1(error_term1)\n",
      "    79240    0.611    0.000    0.611    0.000 <ipython-input-218-d44fc550655f>:1(d_du_dkN)\n",
      "      920    0.602    0.001    1.551    0.002 <ipython-input-232-66cd483308c5>:2(dE_du)\n",
      "      920    0.593    0.001    1.303    0.001 <ipython-input-233-cf49257389f8>:2(dE_dv)\n",
      "    91200    0.396    0.000    0.835    0.000 linalg.py:2363(norm)\n",
      "    79240    0.374    0.000    0.374    0.000 <ipython-input-219-025928abb482>:1(d_dv_dkN)\n",
      "    91200    0.304    0.000    0.304    0.000 <ipython-input-214-4e750c91b6f7>:1(dN_dxj_k)\n",
      "    93440    0.267    0.000    0.267    0.000 <ipython-input-213-586030094fcc>:9(N)\n",
      "184370/91290    0.208    0.000    0.921    0.000 {built-in method numpy.core._multiarray_umath.implement_array_function}\n",
      "       10    0.196    0.020    0.196    0.020 <ipython-input-223-db81e09ebaab>:1(cost)\n",
      "     7360    0.143    0.000    0.143    0.000 {built-in method builtins.sum}\n",
      "    91240    0.105    0.000    0.105    0.000 {built-in method numpy.array}\n",
      "       20    0.092    0.005    0.093    0.005 {method 'shuffle' of 'numpy.random.mtrand.RandomState' objects}\n",
      "    23920    0.089    0.000    0.089    0.000 <ipython-input-215-14355ad1d7ca>:1(dN_dwj)\n",
      "    91200    0.067    0.000    0.991    0.000 <__array_function__ internals>:2(norm)\n",
      "        1    0.064    0.064    9.592    9.592 <ipython-input-258-02a67531f1e4>:43(train)\n",
      "    91200    0.061    0.000    0.206    0.000 <__array_function__ internals>:2(dot)\n",
      "    91200    0.049    0.000    0.049    0.000 {method 'ravel' of 'numpy.ndarray' objects}\n",
      "     3680    0.030    0.000    0.030    0.000 <ipython-input-258-02a67531f1e4>:35(sgd_mt)\n",
      "    91200    0.029    0.000    0.134    0.000 _asarray.py:14(asarray)\n",
      "    91200    0.027    0.000    0.037    0.000 linalg.py:112(isComplexType)\n",
      "    91200    0.023    0.000    0.023    0.000 <ipython-input-210-3786ed8c1c84>:1(psi_a)\n",
      "   182400    0.023    0.000    0.023    0.000 {built-in method builtins.issubclass}\n",
      "    91200    0.021    0.000    0.021    0.000 <ipython-input-212-7dce365900c0>:1(psi_a_dy)\n",
      "    91200    0.020    0.000    0.020    0.000 <ipython-input-211-3c16ce59ac7c>:1(psi_a_dx)\n",
      "   184280    0.020    0.000    0.020    0.000 {method 'append' of 'list' objects}\n",
      "    91200    0.014    0.000    0.014    0.000 multiarray.py:706(dot)\n",
      "    91200    0.013    0.000    0.013    0.000 linalg.py:2359(_norm_dispatcher)\n",
      "       20    0.004    0.000    0.009    0.000 shape_base.py:739(array_split)\n",
      "     1860    0.001    0.000    0.005    0.000 <__array_function__ internals>:2(swapaxes)\n",
      "     1860    0.001    0.000    0.001    0.000 {method 'swapaxes' of 'numpy.ndarray' objects}\n",
      "     1860    0.001    0.000    0.002    0.000 fromnumeric.py:52(_wrapfunc)\n",
      "     1860    0.001    0.000    0.003    0.000 fromnumeric.py:550(swapaxes)\n",
      "       40    0.001    0.000    0.001    0.000 {method 'reduce' of 'numpy.ufunc' objects}\n",
      "     1860    0.000    0.000    0.000    0.000 fromnumeric.py:546(_swapaxes_dispatcher)\n",
      "     1860    0.000    0.000    0.000    0.000 {built-in method builtins.getattr}\n",
      "       40    0.000    0.000    0.000    0.000 {built-in method numpy.zeros}\n",
      "       10    0.000    0.000    0.102    0.010 <ipython-input-234-0bffe1d034f3>:2(get_mini_batches)\n",
      "       40    0.000    0.000    0.001    0.000 fromnumeric.py:70(_wrapreduction)\n",
      "       40    0.000    0.000    0.001    0.000 fromnumeric.py:2105(sum)\n",
      "       20    0.000    0.000    0.000    0.000 {method 'cumsum' of 'numpy.ndarray' objects}\n",
      "       40    0.000    0.000    0.001    0.000 <__array_function__ internals>:2(sum)\n",
      "       10    0.000    0.000    0.001    0.000 <__array_function__ internals>:2(vstack)\n",
      "       10    0.000    0.000    0.001    0.000 shape_base.py:223(vstack)\n",
      "        1    0.000    0.000    9.592    9.592 {built-in method builtins.exec}\n",
      "       10    0.000    0.000    0.000    0.000 shape_base.py:82(atleast_2d)\n",
      "        1    0.000    0.000    9.592    9.592 <string>:1(<module>)\n",
      "       20    0.000    0.000    0.000    0.000 <__array_function__ internals>:2(empty_like)\n",
      "       40    0.000    0.000    0.000    0.000 fromnumeric.py:71(<dictcomp>)\n",
      "       61    0.000    0.000    0.000    0.000 {built-in method builtins.len}\n",
      "       20    0.000    0.000    0.010    0.000 <__array_function__ internals>:2(array_split)\n",
      "       50    0.000    0.000    0.000    0.000 {built-in method builtins.isinstance}\n",
      "       10    0.000    0.000    0.000    0.000 <__array_function__ internals>:2(concatenate)\n",
      "       10    0.000    0.000    0.000    0.000 shape_base.py:208(_arrays_for_stack_dispatcher)\n",
      "       10    0.000    0.000    0.000    0.000 <__array_function__ internals>:2(atleast_2d)\n",
      "       20    0.000    0.000    0.000    0.000 {built-in method builtins.divmod}\n",
      "       20    0.000    0.000    0.000    0.000 _asarray.py:86(asanyarray)\n",
      "       10    0.000    0.000    0.000    0.000 shape_base.py:219(_vhstack_dispatcher)\n",
      "       40    0.000    0.000    0.000    0.000 fromnumeric.py:2100(_sum_dispatcher)\n",
      "       40    0.000    0.000    0.000    0.000 {method 'items' of 'dict' objects}\n",
      "       10    0.000    0.000    0.000    0.000 {built-in method builtins.hasattr}\n",
      "       20    0.000    0.000    0.000    0.000 multiarray.py:75(empty_like)\n",
      "       20    0.000    0.000    0.000    0.000 shape_base.py:735(_array_split_dispatcher)\n",
      "       10    0.000    0.000    0.000    0.000 multiarray.py:143(concatenate)\n",
      "       10    0.000    0.000    0.000    0.000 shape_base.py:78(_atleast_2d_dispatcher)\n",
      "        1    0.000    0.000    0.000    0.000 {method 'disable' of '_lsprof.Profiler' objects}\n",
      "\n",
      "\n"
     ]
    }
   ],
   "source": [
    "profile.run(\"a.train(10)\", sort=\"time\")"
   ]
  },
  {
   "cell_type": "code",
   "execution_count": 335,
   "metadata": {
    "collapsed": true
   },
   "outputs": [
    {
     "name": "stdout",
     "output_type": "stream",
     "text": [
      "         711890 function calls (710008 primitive calls) in 6.335 seconds\n",
      "\n",
      "   Ordered by: internal time\n",
      "\n",
      "   ncalls  tottime  percall  cumtime  percall filename:lineno(function)\n",
      "   134560    1.284    0.000    1.284    0.000 <ipython-input-217-b58300938a6c>:1(d_dwj_dN2_dxk2)\n",
      "     1840    1.162    0.001    3.141    0.002 <ipython-input-231-ed990ca71b6d>:2(dE_dwj)\n",
      "   134560    0.955    0.000    0.955    0.000 <ipython-input-221-174e306cbd11>:1(error_term1)\n",
      "      920    0.566    0.001    1.214    0.001 <ipython-input-233-cf49257389f8>:2(dE_dv)\n",
      "      920    0.557    0.001    1.409    0.002 <ipython-input-232-66cd483308c5>:2(dE_du)\n",
      "    79240    0.547    0.000    0.547    0.000 <ipython-input-218-d44fc550655f>:1(d_du_dkN)\n",
      "    79240    0.340    0.000    0.340    0.000 <ipython-input-219-025928abb482>:1(d_dv_dkN)\n",
      "       11    0.206    0.019    0.206    0.019 <ipython-input-330-0587b893b07d>:5(relative_err)\n",
      "       11    0.199    0.018    0.199    0.018 <ipython-input-223-db81e09ebaab>:1(cost)\n",
      "     7360    0.133    0.000    0.133    0.000 {built-in method builtins.sum}\n",
      "    47840    0.123    0.000    0.123    0.000 <ipython-input-213-586030094fcc>:9(N)\n",
      "    23920    0.078    0.000    0.078    0.000 <ipython-input-215-14355ad1d7ca>:1(dN_dwj)\n",
      "       20    0.071    0.004    0.071    0.004 {method 'shuffle' of 'numpy.random.mtrand.RandomState' objects}\n",
      "        1    0.058    0.058    6.335    6.335 <ipython-input-258-02a67531f1e4>:43(train)\n",
      "     3680    0.027    0.000    0.027    0.000 <ipython-input-258-02a67531f1e4>:35(sgd_mt)\n",
      "   184284    0.019    0.000    0.019    0.000 {method 'append' of 'list' objects}\n",
      "       20    0.003    0.000    0.008    0.000 shape_base.py:739(array_split)\n",
      "  1933/51    0.001    0.000    0.009    0.000 {built-in method numpy.core._multiarray_umath.implement_array_function}\n",
      "     1860    0.001    0.000    0.004    0.000 <__array_function__ internals>:2(swapaxes)\n",
      "     1860    0.001    0.000    0.001    0.000 {method 'swapaxes' of 'numpy.ndarray' objects}\n",
      "     1860    0.001    0.000    0.002    0.000 fromnumeric.py:52(_wrapfunc)\n",
      "     1860    0.001    0.000    0.003    0.000 fromnumeric.py:550(swapaxes)\n",
      "       42    0.000    0.000    0.000    0.000 {built-in method numpy.array}\n",
      "     1860    0.000    0.000    0.000    0.000 fromnumeric.py:546(_swapaxes_dispatcher)\n",
      "     1860    0.000    0.000    0.000    0.000 {built-in method builtins.getattr}\n",
      "       10    0.000    0.000    0.079    0.008 <ipython-input-234-0bffe1d034f3>:2(get_mini_batches)\n",
      "       20    0.000    0.000    0.000    0.000 {method 'cumsum' of 'numpy.ndarray' objects}\n",
      "       11    0.000    0.000    0.001    0.000 shape_base.py:223(vstack)\n",
      "       11    0.000    0.000    0.000    0.000 shape_base.py:82(atleast_2d)\n",
      "       20    0.000    0.000    0.000    0.000 <__array_function__ internals>:2(empty_like)\n",
      "        1    0.000    0.000    6.335    6.335 <string>:1(<module>)\n",
      "       20    0.000    0.000    0.008    0.000 <__array_function__ internals>:2(array_split)\n",
      "       11    0.000    0.000    0.001    0.000 <__array_function__ internals>:2(vstack)\n",
      "       52    0.000    0.000    0.000    0.000 {built-in method builtins.len}\n",
      "       11    0.000    0.000    0.000    0.000 <__array_function__ internals>:2(concatenate)\n",
      "        1    0.000    0.000    6.335    6.335 {built-in method builtins.exec}\n",
      "       11    0.000    0.000    0.000    0.000 shape_base.py:208(_arrays_for_stack_dispatcher)\n",
      "       11    0.000    0.000    0.000    0.000 <__array_function__ internals>:2(atleast_2d)\n",
      "       20    0.000    0.000    0.000    0.000 {built-in method builtins.divmod}\n",
      "       11    0.000    0.000    0.000    0.000 shape_base.py:219(_vhstack_dispatcher)\n",
      "       22    0.000    0.000    0.000    0.000 _asarray.py:86(asanyarray)\n",
      "       11    0.000    0.000    0.000    0.000 {built-in method builtins.hasattr}\n",
      "       20    0.000    0.000    0.000    0.000 multiarray.py:75(empty_like)\n",
      "       20    0.000    0.000    0.000    0.000 shape_base.py:735(_array_split_dispatcher)\n",
      "       11    0.000    0.000    0.000    0.000 multiarray.py:143(concatenate)\n",
      "       11    0.000    0.000    0.000    0.000 {built-in method builtins.isinstance}\n",
      "       11    0.000    0.000    0.000    0.000 shape_base.py:78(_atleast_2d_dispatcher)\n",
      "        1    0.000    0.000    0.000    0.000 {method 'disable' of '_lsprof.Profiler' objects}\n",
      "\n",
      "\n"
     ]
    }
   ],
   "source": [
    "profile.run(\"a.train(10)\", sort=\"time\")"
   ]
  },
  {
   "cell_type": "code",
   "execution_count": 542,
   "metadata": {
    "collapsed": true
   },
   "outputs": [
    {
     "name": "stdout",
     "output_type": "stream",
     "text": [
      "         22745 function calls (20865 primitive calls) in 3.013 seconds\n",
      "\n",
      "   Ordered by: internal time\n",
      "\n",
      "   ncalls  tottime  percall  cumtime  percall filename:lineno(function)\n",
      "     1840    1.482    0.001    1.482    0.001 <ipython-input-539-534c0b774dd9>:1(dE_dwj)\n",
      "      920    0.617    0.001    0.617    0.001 <ipython-input-514-6bc3f17db06d>:1(dE_du)\n",
      "      920    0.403    0.000    0.403    0.000 <ipython-input-515-66e8fa2e80a2>:1(dE_dv)\n",
      "       10    0.178    0.018    0.178    0.018 <ipython-input-512-7b4603c3c0c7>:5(relative_err)\n",
      "       10    0.176    0.018    0.176    0.018 <ipython-input-505-db81e09ebaab>:1(cost)\n",
      "       20    0.083    0.004    0.083    0.004 {method 'shuffle' of 'numpy.random.mtrand.RandomState' objects}\n",
      "     3680    0.034    0.000    0.034    0.000 <ipython-input-535-86f0d6c4addd>:35(sgd_mt)\n",
      "        1    0.030    0.030    3.013    3.013 <ipython-input-535-86f0d6c4addd>:43(train)\n",
      "       20    0.003    0.000    0.009    0.000 shape_base.py:739(array_split)\n",
      "  1930/50    0.001    0.000    0.009    0.000 {built-in method numpy.core._multiarray_umath.implement_array_function}\n",
      "     1860    0.001    0.000    0.005    0.000 <__array_function__ internals>:2(swapaxes)\n",
      "     1860    0.001    0.000    0.001    0.000 {method 'swapaxes' of 'numpy.ndarray' objects}\n",
      "     1860    0.001    0.000    0.002    0.000 fromnumeric.py:52(_wrapfunc)\n",
      "     1860    0.001    0.000    0.003    0.000 fromnumeric.py:550(swapaxes)\n",
      "       40    0.000    0.000    0.000    0.000 {built-in method numpy.array}\n",
      "     1860    0.000    0.000    0.000    0.000 {built-in method builtins.getattr}\n",
      "     1880    0.000    0.000    0.000    0.000 {method 'append' of 'list' objects}\n",
      "       10    0.000    0.000    0.092    0.009 <ipython-input-516-0bffe1d034f3>:2(get_mini_batches)\n",
      "     1860    0.000    0.000    0.000    0.000 fromnumeric.py:546(_swapaxes_dispatcher)\n",
      "       20    0.000    0.000    0.000    0.000 {method 'cumsum' of 'numpy.ndarray' objects}\n",
      "       10    0.000    0.000    0.001    0.000 shape_base.py:223(vstack)\n",
      "       10    0.000    0.000    0.000    0.000 shape_base.py:82(atleast_2d)\n",
      "       20    0.000    0.000    0.000    0.000 <__array_function__ internals>:2(empty_like)\n",
      "        1    0.000    0.000    3.013    3.013 <string>:1(<module>)\n",
      "       10    0.000    0.000    0.001    0.000 <__array_function__ internals>:2(vstack)\n",
      "        1    0.000    0.000    3.013    3.013 {built-in method builtins.exec}\n",
      "       51    0.000    0.000    0.000    0.000 {built-in method builtins.len}\n",
      "       20    0.000    0.000    0.009    0.000 <__array_function__ internals>:2(array_split)\n",
      "       10    0.000    0.000    0.000    0.000 <__array_function__ internals>:2(atleast_2d)\n",
      "       10    0.000    0.000    0.000    0.000 <__array_function__ internals>:2(concatenate)\n",
      "       10    0.000    0.000    0.000    0.000 shape_base.py:208(_arrays_for_stack_dispatcher)\n",
      "       10    0.000    0.000    0.000    0.000 shape_base.py:219(_vhstack_dispatcher)\n",
      "       20    0.000    0.000    0.000    0.000 {built-in method builtins.divmod}\n",
      "       20    0.000    0.000    0.000    0.000 _asarray.py:86(asanyarray)\n",
      "       10    0.000    0.000    0.000    0.000 {built-in method builtins.hasattr}\n",
      "       20    0.000    0.000    0.000    0.000 multiarray.py:75(empty_like)\n",
      "       20    0.000    0.000    0.000    0.000 shape_base.py:735(_array_split_dispatcher)\n",
      "       10    0.000    0.000    0.000    0.000 {built-in method builtins.isinstance}\n",
      "       10    0.000    0.000    0.000    0.000 multiarray.py:143(concatenate)\n",
      "       10    0.000    0.000    0.000    0.000 shape_base.py:78(_atleast_2d_dispatcher)\n",
      "        1    0.000    0.000    0.000    0.000 {method 'disable' of '_lsprof.Profiler' objects}\n",
      "\n",
      "\n"
     ]
    }
   ],
   "source": [
    "profile.run(\"a.train(10)\", sort=\"time\")"
   ]
  },
  {
   "cell_type": "code",
   "execution_count": null,
   "metadata": {},
   "outputs": [],
   "source": [
    "profile.run(\"a.train(10)\", sort=\"time\")"
   ]
  },
  {
   "cell_type": "code",
   "execution_count": 720,
   "metadata": {
    "scrolled": false
   },
   "outputs": [],
   "source": [
    "BC=10\n",
    "a.alpha = 1e-5\n",
    "# p=[]\n",
    "# p.append(np.copy(a.p))\n",
    "# %time a.train(120)"
   ]
  },
  {
   "cell_type": "code",
   "execution_count": 714,
   "metadata": {
    "collapsed": true
   },
   "outputs": [
    {
     "ename": "KeyboardInterrupt",
     "evalue": "",
     "output_type": "error",
     "traceback": [
      "\u001b[1;31m---------------------------------------------------------------------------\u001b[0m",
      "\u001b[1;31mKeyboardInterrupt\u001b[0m                         Traceback (most recent call last)",
      "\u001b[1;32m<ipython-input-714-4527e8edf428>\u001b[0m in \u001b[0;36m<module>\u001b[1;34m\u001b[0m\n\u001b[0;32m      8\u001b[0m         \u001b[0mBC\u001b[0m\u001b[1;33m=\u001b[0m\u001b[0mBC\u001b[0m\u001b[1;33m*\u001b[0m\u001b[1;36m10\u001b[0m\u001b[1;33m\u001b[0m\u001b[0m\n\u001b[0;32m      9\u001b[0m         \u001b[0ma\u001b[0m\u001b[1;33m.\u001b[0m\u001b[0malpha\u001b[0m\u001b[1;33m=\u001b[0m\u001b[0ma\u001b[0m\u001b[1;33m.\u001b[0m\u001b[0malpha\u001b[0m\u001b[1;33m/\u001b[0m\u001b[1;36m10\u001b[0m\u001b[1;33m\u001b[0m\u001b[0m\n\u001b[1;32m---> 10\u001b[1;33m     \u001b[0ma\u001b[0m\u001b[1;33m.\u001b[0m\u001b[0mtrain\u001b[0m\u001b[1;33m(\u001b[0m\u001b[1;36m100\u001b[0m\u001b[1;33m)\u001b[0m\u001b[1;33m\u001b[0m\u001b[0m\n\u001b[0m",
      "\u001b[1;32m<ipython-input-679-86f0d6c4addd>\u001b[0m in \u001b[0;36mtrain\u001b[1;34m(self, itr)\u001b[0m\n\u001b[0;32m     66\u001b[0m                 \u001b[0mg_v\u001b[0m \u001b[1;33m=\u001b[0m \u001b[0mdE_dv\u001b[0m\u001b[1;33m(\u001b[0m\u001b[0mmini_point\u001b[0m\u001b[1;33m,\u001b[0m \u001b[0mmini_boundary\u001b[0m\u001b[1;33m,\u001b[0m \u001b[0mself\u001b[0m\u001b[1;33m.\u001b[0m\u001b[0mp00\u001b[0m\u001b[1;33m,\u001b[0m \u001b[0mself\u001b[0m\u001b[1;33m.\u001b[0m\u001b[0mp01\u001b[0m\u001b[1;33m,\u001b[0m \u001b[0mself\u001b[0m\u001b[1;33m.\u001b[0m\u001b[0mp1\u001b[0m\u001b[1;33m,\u001b[0m \u001b[0mself\u001b[0m\u001b[1;33m.\u001b[0m\u001b[0mp2\u001b[0m\u001b[1;33m)\u001b[0m\u001b[1;33m\u001b[0m\u001b[0m\n\u001b[0;32m     67\u001b[0m \u001b[1;33m\u001b[0m\u001b[0m\n\u001b[1;32m---> 68\u001b[1;33m                 \u001b[0mself\u001b[0m\u001b[1;33m.\u001b[0m\u001b[0mpp00\u001b[0m \u001b[1;33m=\u001b[0m \u001b[0mself\u001b[0m\u001b[1;33m.\u001b[0m\u001b[0msgd_mt\u001b[0m\u001b[1;33m(\u001b[0m\u001b[1;36m0\u001b[0m\u001b[1;33m,\u001b[0m \u001b[0mg_w0\u001b[0m\u001b[1;33m,\u001b[0m \u001b[0mself\u001b[0m\u001b[1;33m.\u001b[0m\u001b[0mp00\u001b[0m\u001b[1;33m)\u001b[0m\u001b[1;33m\u001b[0m\u001b[0m\n\u001b[0m\u001b[0;32m     69\u001b[0m                 \u001b[0mself\u001b[0m\u001b[1;33m.\u001b[0m\u001b[0mp01\u001b[0m \u001b[1;33m=\u001b[0m \u001b[0mself\u001b[0m\u001b[1;33m.\u001b[0m\u001b[0msgd_mt\u001b[0m\u001b[1;33m(\u001b[0m\u001b[1;36m1\u001b[0m\u001b[1;33m,\u001b[0m \u001b[0mg_w1\u001b[0m\u001b[1;33m,\u001b[0m \u001b[0mself\u001b[0m\u001b[1;33m.\u001b[0m\u001b[0mp01\u001b[0m\u001b[1;33m)\u001b[0m\u001b[1;33m\u001b[0m\u001b[0m\n\u001b[0;32m     70\u001b[0m                 \u001b[0mself\u001b[0m\u001b[1;33m.\u001b[0m\u001b[0mp1\u001b[0m \u001b[1;33m=\u001b[0m \u001b[0mself\u001b[0m\u001b[1;33m.\u001b[0m\u001b[0msgd_mt\u001b[0m\u001b[1;33m(\u001b[0m\u001b[1;36m2\u001b[0m\u001b[1;33m,\u001b[0m \u001b[0mg_u\u001b[0m\u001b[1;33m,\u001b[0m \u001b[0mself\u001b[0m\u001b[1;33m.\u001b[0m\u001b[0mp1\u001b[0m\u001b[1;33m)\u001b[0m\u001b[1;33m\u001b[0m\u001b[0m\n",
      "\u001b[1;31mKeyboardInterrupt\u001b[0m: "
     ]
    }
   ],
   "source": [
    "thresh=1e-5\n",
    "\n",
    "for i in range(10000):\n",
    "#     p.append(np.copy(a.p))\n",
    "    if a.alpha < 1e-9  or BC > 10000:\n",
    "        break\n",
    "    if np.abs(np.mean([s-t for s, t in zip(a.cost_rate[-101:], a.cost_rate[-100:])])) < thresh:\n",
    "        BC=BC*10\n",
    "        a.alpha=a.alpha/10\n",
    "    a.train(100)"
   ]
  },
  {
   "cell_type": "markdown",
   "metadata": {},
   "source": [
    "Etc"
   ]
  },
  {
   "cell_type": "code",
   "execution_count": 716,
   "metadata": {},
   "outputs": [
    {
     "name": "stdout",
     "output_type": "stream",
     "text": [
      "alpha: 0.0001\n",
      "BC: 10\n",
      "relative error: 1.4576355291494854\n"
     ]
    }
   ],
   "source": [
    "print('alpha:', a.alpha)\n",
    "print('BC:', BC)\n",
    "print('relative error:', relative_err_without_points(a.p00, a.p01, a.p1, a.p2, nx=100))"
   ]
  },
  {
   "cell_type": "code",
   "execution_count": null,
   "metadata": {},
   "outputs": [],
   "source": [
    "plot_iteration(a.cost_rate, min_it=100)"
   ]
  },
  {
   "cell_type": "code",
   "execution_count": null,
   "metadata": {},
   "outputs": [],
   "source": [
    "plot_iteration(a.rel_err, min_it=1)"
   ]
  },
  {
   "cell_type": "code",
   "execution_count": null,
   "metadata": {},
   "outputs": [],
   "source": []
  },
  {
   "cell_type": "code",
   "execution_count": null,
   "metadata": {},
   "outputs": [],
   "source": []
  },
  {
   "cell_type": "code",
   "execution_count": null,
   "metadata": {
    "scrolled": false
   },
   "outputs": [],
   "source": [
    "plot_fun(N, p00=a.p00, p01=a.p01, p1=a.p1, p2=a.p2, title='Neural Network Solution')"
   ]
  },
  {
   "cell_type": "code",
   "execution_count": null,
   "metadata": {},
   "outputs": [],
   "source": []
  },
  {
   "cell_type": "code",
   "execution_count": 35,
   "metadata": {},
   "outputs": [
    {
     "data": {
      "text/plain": [
       "0.03732035812236606"
      ]
     },
     "execution_count": 35,
     "metadata": {},
     "output_type": "execute_result"
    }
   ],
   "source": [
    "relative_err(a.p, nx=200)"
   ]
  },
  {
   "cell_type": "code",
   "execution_count": 30,
   "metadata": {},
   "outputs": [],
   "source": [
    "a.p = np.load('output/20191223-1714_eq1_2_nn_params.npz')['arr_0']"
   ]
  },
  {
   "cell_type": "code",
   "execution_count": null,
   "metadata": {},
   "outputs": [],
   "source": []
  },
  {
   "cell_type": "code",
   "execution_count": 36,
   "metadata": {},
   "outputs": [],
   "source": [
    "a.save_result('eq1_2_v1')\n",
    "\n",
    "timestr = time.strftime(\"%Y%m%d-%H%M\")\n",
    "np.savez('output/'+ timestr + '_eq1_2_v1_momentum.npz', a.m_t)\n",
    "np.savez('output/'+ timestr + '_eq1_2_v1_p_list.npz', p)"
   ]
  },
  {
   "cell_type": "code",
   "execution_count": null,
   "metadata": {},
   "outputs": [],
   "source": []
  },
  {
   "cell_type": "code",
   "execution_count": null,
   "metadata": {},
   "outputs": [],
   "source": []
  },
  {
   "cell_type": "code",
   "execution_count": null,
   "metadata": {},
   "outputs": [],
   "source": []
  },
  {
   "cell_type": "code",
   "execution_count": null,
   "metadata": {},
   "outputs": [],
   "source": []
  },
  {
   "cell_type": "code",
   "execution_count": null,
   "metadata": {},
   "outputs": [],
   "source": []
  },
  {
   "cell_type": "code",
   "execution_count": null,
   "metadata": {},
   "outputs": [],
   "source": []
  },
  {
   "cell_type": "code",
   "execution_count": null,
   "metadata": {},
   "outputs": [],
   "source": []
  },
  {
   "cell_type": "code",
   "execution_count": null,
   "metadata": {},
   "outputs": [],
   "source": []
  },
  {
   "cell_type": "code",
   "execution_count": null,
   "metadata": {},
   "outputs": [],
   "source": []
  },
  {
   "cell_type": "code",
   "execution_count": null,
   "metadata": {},
   "outputs": [],
   "source": []
  },
  {
   "cell_type": "code",
   "execution_count": null,
   "metadata": {},
   "outputs": [],
   "source": []
  },
  {
   "cell_type": "code",
   "execution_count": null,
   "metadata": {},
   "outputs": [],
   "source": []
  },
  {
   "cell_type": "code",
   "execution_count": null,
   "metadata": {},
   "outputs": [],
   "source": []
  },
  {
   "cell_type": "code",
   "execution_count": null,
   "metadata": {},
   "outputs": [],
   "source": []
  },
  {
   "cell_type": "code",
   "execution_count": null,
   "metadata": {},
   "outputs": [],
   "source": []
  },
  {
   "cell_type": "code",
   "execution_count": null,
   "metadata": {},
   "outputs": [],
   "source": []
  }
 ],
 "metadata": {
  "kernelspec": {
   "display_name": "Python 3",
   "language": "python",
   "name": "python3"
  },
  "language_info": {
   "codemirror_mode": {
    "name": "ipython",
    "version": 3
   },
   "file_extension": ".py",
   "mimetype": "text/x-python",
   "name": "python",
   "nbconvert_exporter": "python",
   "pygments_lexer": "ipython3",
   "version": "3.6.3"
  },
  "notify_time": "30",
  "toc": {
   "base_numbering": 1,
   "nav_menu": {},
   "number_sections": true,
   "sideBar": true,
   "skip_h1_title": false,
   "title_cell": "Table of Contents",
   "title_sidebar": "Contents",
   "toc_cell": false,
   "toc_position": {
    "height": "calc(100% - 180px)",
    "left": "10px",
    "top": "150px",
    "width": "216.797px"
   },
   "toc_section_display": true,
   "toc_window_display": false
  },
  "varInspector": {
   "cols": {
    "lenName": 16,
    "lenType": 16,
    "lenVar": 40
   },
   "kernels_config": {
    "python": {
     "delete_cmd_postfix": "",
     "delete_cmd_prefix": "del ",
     "library": "var_list.py",
     "varRefreshCmd": "print(var_dic_list())"
    },
    "r": {
     "delete_cmd_postfix": ") ",
     "delete_cmd_prefix": "rm(",
     "library": "var_list.r",
     "varRefreshCmd": "cat(var_dic_list()) "
    }
   },
   "types_to_exclude": [
    "module",
    "function",
    "builtin_function_or_method",
    "instance",
    "_Feature"
   ],
   "window_display": false
  }
 },
 "nbformat": 4,
 "nbformat_minor": 2
}
