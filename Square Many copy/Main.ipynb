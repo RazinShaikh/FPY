{
 "cells": [
  {
   "cell_type": "markdown",
   "metadata": {
    "heading_collapsed": true,
    "slideshow": {
     "slide_type": "-"
    }
   },
   "source": [
    "# Imports"
   ]
  },
  {
   "cell_type": "code",
   "execution_count": 30,
   "metadata": {
    "hidden": true
   },
   "outputs": [],
   "source": [
    "import numpy as np\n",
    "import itertools\n",
    "import time\n",
    "from matplotlib import pyplot as plt\n",
    "from mpl_toolkits.mplot3d import Axes3D\n",
    "from matplotlib import cm\n",
    "import pixiedust"
   ]
  },
  {
   "cell_type": "markdown",
   "metadata": {
    "heading_collapsed": true
   },
   "source": [
    "# Introduction"
   ]
  },
  {
   "cell_type": "markdown",
   "metadata": {
    "hidden": true
   },
   "source": [
    "Consider the following equation:\n",
    "$$\\Delta_p \\Psi(x,y)=f(x,y)$$\n",
    "\n",
    "$x \\in [0,1],\\ y \\in [0,1]$ with *Dirichlet* BC: $\\Psi(0,y) = 0$, $\\Psi(1,y) = 0$, $\\Psi(x,0) = 0$ and $\\Psi(x,1) = 0$.\n",
    "\n",
    "For this first attempt, we will take $p=2$."
   ]
  },
  {
   "cell_type": "markdown",
   "metadata": {},
   "source": [
    "# Defining functions"
   ]
  },
  {
   "cell_type": "markdown",
   "metadata": {
    "heading_collapsed": true
   },
   "source": [
    "## Sigmoid"
   ]
  },
  {
   "cell_type": "markdown",
   "metadata": {
    "hidden": true
   },
   "source": [
    "Sigmoid $\\sigma(x) = \\frac{1}{1+e^{-x}}$ and its derrivatives."
   ]
  },
  {
   "cell_type": "markdown",
   "metadata": {
    "hidden": true
   },
   "source": [
    "Sigmoid with parameter $t$\n",
    "$$ \\sigma_t(x) = \\frac{1}{1+e^{-tx}}$$"
   ]
  },
  {
   "cell_type": "code",
   "execution_count": 31,
   "metadata": {
    "hidden": true
   },
   "outputs": [],
   "source": [
    "T = 1"
   ]
  },
  {
   "cell_type": "code",
   "execution_count": 32,
   "metadata": {
    "hidden": true
   },
   "outputs": [],
   "source": [
    "def sig(x):\n",
    "    return 1 / (1 + np.exp(-T*x))\n",
    "\n",
    "def sig1(x):\n",
    "    return T * sig(x) * (1 - sig(x))\n",
    "\n",
    "def sig2(x):\n",
    "    return T * (sig1(x) - 2*sig(x)*sig1(x))\n",
    "\n",
    "def sig3(x):\n",
    "    return T * (sig2(x) - 2 * (sig1(x)**2 + sig(x) * sig2(x)))\n",
    "\n",
    "def sig_pr(x, k):\n",
    "    if k==0:\n",
    "        return sig(x)\n",
    "    if k==1:\n",
    "        return sig1(x)\n",
    "    if k==2:\n",
    "        return sig2(x)\n",
    "    if k==3:\n",
    "        return sig3(x)"
   ]
  },
  {
   "cell_type": "markdown",
   "metadata": {
    "heading_collapsed": true
   },
   "source": [
    "## RHS"
   ]
  },
  {
   "cell_type": "markdown",
   "metadata": {
    "hidden": true
   },
   "source": [
    "The right side of the equation:  $\\Delta\\Psi(x,y) = 6 x (x-1) (1-2 y) + 2 y (y-1) (1-2 y)$"
   ]
  },
  {
   "cell_type": "code",
   "execution_count": 33,
   "metadata": {
    "hidden": true
   },
   "outputs": [],
   "source": [
    "K=1\n",
    "def f(x, y):\n",
    "    return K * (6*(x-1)*x*(1-2*y) + 2*(y-1)*y*(1-2*y))"
   ]
  },
  {
   "cell_type": "markdown",
   "metadata": {
    "hidden": true
   },
   "source": [
    "The analytic solution is given by: $\\ \\Psi_a(x,y) = x (1-x) y (1-y) (1-2 y)$"
   ]
  },
  {
   "cell_type": "code",
   "execution_count": 34,
   "metadata": {
    "hidden": true
   },
   "outputs": [],
   "source": [
    "# def psi_a(x, y):\n",
    "#     return y * (1-y) * np.sin(np.pi * x)\n",
    "\n",
    "def psi_a(x, y):\n",
    "    return K * x*(1-x)*y*(1-y)*(1-2*y)"
   ]
  },
  {
   "cell_type": "markdown",
   "metadata": {
    "hidden": true
   },
   "source": [
    "$$\\frac{\\partial}{\\partial x} \\Psi_a = (1-2x) y (1-y) (1-2 y)$$"
   ]
  },
  {
   "cell_type": "code",
   "execution_count": 35,
   "metadata": {
    "hidden": true
   },
   "outputs": [],
   "source": [
    "def psi_a_dx(x,y):\n",
    "    return K * (1-2*x)*y*(1-y)*(1-2*y)"
   ]
  },
  {
   "cell_type": "markdown",
   "metadata": {
    "hidden": true
   },
   "source": [
    "$$\\frac{\\partial}{\\partial y} \\Psi_a = x (1-x) (1-6y + 6y^2) $$"
   ]
  },
  {
   "cell_type": "code",
   "execution_count": 36,
   "metadata": {
    "hidden": true
   },
   "outputs": [],
   "source": [
    "def psi_a_dy(x,y):\n",
    "    return K * x*(1-x)*(1-6*y+6*(y**2))"
   ]
  },
  {
   "cell_type": "markdown",
   "metadata": {
    "heading_collapsed": true
   },
   "source": [
    "## Neural Network"
   ]
  },
  {
   "cell_type": "markdown",
   "metadata": {
    "hidden": true
   },
   "source": [
    "The output of neural network $N(x,y,\\vec{p})$, where $\\vec{p} = [w, u, v]$:\n",
    "$$N = \\sum_i^H v_i \\sigma(z_i) \\text{, where } z_i = w_{i0} x + w_{i1} y + u_i$$"
   ]
  },
  {
   "cell_type": "code",
   "execution_count": 37,
   "metadata": {
    "code_folding": [],
    "hidden": true
   },
   "outputs": [],
   "source": [
    "def z(x, y, p):\n",
    "    z_x = np.multiply(x, p[0][0])\n",
    "    z_y = np.multiply(y, p[0][1])\n",
    "    z_ = np.array([z_x, z_y, p[1]]).sum(axis=0)\n",
    "    return z_\n",
    "\n",
    "def N(x, y, p):\n",
    "    return np.sum(np.multiply(sig(z(x,y,p)), p[2]))"
   ]
  },
  {
   "cell_type": "markdown",
   "metadata": {
    "hidden": true
   },
   "source": [
    "$$\\frac{\\partial^k N}{\\partial x_j^k} = \\sum_{i=1}^H v_i w_{ij}^k \\sigma^{(k)}$$"
   ]
  },
  {
   "cell_type": "code",
   "execution_count": 38,
   "metadata": {
    "code_folding": [],
    "hidden": true
   },
   "outputs": [],
   "source": [
    "def dN_dxj_k(x, y, p, j, k):\n",
    "    wj = p[0][j]\n",
    "    v = p[2]\n",
    "    z_ = z(x, y, p)\n",
    "    \n",
    "    return np.sum(v * (wj**k) * sig_pr(z_, k))"
   ]
  },
  {
   "cell_type": "markdown",
   "metadata": {
    "hidden": true
   },
   "source": [
    "$$\\frac{\\partial N}{\\partial w_j} = x_j v \\sigma '$$"
   ]
  },
  {
   "cell_type": "code",
   "execution_count": 39,
   "metadata": {
    "code_folding": [],
    "hidden": true
   },
   "outputs": [],
   "source": [
    "def dN_dwj(x, y, p, j):\n",
    "    xj = x if j==0 else y\n",
    "    v = p[2]\n",
    "    z_ = z(x, y, p)\n",
    "    return xj * v * sig1(z_)"
   ]
  },
  {
   "cell_type": "markdown",
   "metadata": {
    "hidden": true
   },
   "source": [
    "$$ \\frac{\\partial}{\\partial w_j} \\frac{\\partial N}{\\partial x_k} = x_j v w_k \\sigma'' + v_i \\sigma' \\quad\\text{ if } j = k$$\n",
    "\n",
    "$$ \\frac{\\partial}{\\partial w_j} \\frac{\\partial N}{\\partial x_k} = x_j v w_k \\sigma'' \\quad\\text{ if } j \\neq k$$"
   ]
  },
  {
   "cell_type": "code",
   "execution_count": 40,
   "metadata": {
    "code_folding": [],
    "hidden": true
   },
   "outputs": [],
   "source": [
    "def d_dwj_dN_dxk(x, y, p, j, k):\n",
    "    xj = x if j==0 else y\n",
    "    wk = p[0][k]\n",
    "    jk = 1 if j==k else 0\n",
    "    v = p[2]\n",
    "    z_ = z(x, y, p)\n",
    "    return xj * v * wk * sig2(z_) + jk * v * sig1(z_)"
   ]
  },
  {
   "cell_type": "markdown",
   "metadata": {
    "hidden": true
   },
   "source": [
    "$$ \\frac{\\partial}{\\partial w_j} \\frac{\\partial^2 N}{\\partial x_k^2} = x_j v w_k^2 \\sigma^{(3)} + 2 v w_k \\sigma'' \\quad\\text{ if } j = k $$\n",
    "\n",
    "$$ \\frac{\\partial}{\\partial w_j} \\frac{\\partial^2 N}{\\partial x_k^2} = x_j v w_k^2 \\sigma^{(3)} \\quad\\text{ if } j \\neq k $$"
   ]
  },
  {
   "cell_type": "code",
   "execution_count": 41,
   "metadata": {
    "code_folding": [],
    "hidden": true
   },
   "outputs": [],
   "source": [
    "def d_dwj_dN2_dxk2(x, y, p, j, k):\n",
    "    xj = x if j==0 else y\n",
    "    wk = p[0][k]\n",
    "    jk = 1 if j==k else 0\n",
    "    v = p[2]\n",
    "    z_ = z(x, y, p)\n",
    "    return xj * v * (wk**2) * sig3(z_) + jk * 2 * v * wk * sig2(z_)"
   ]
  },
  {
   "cell_type": "markdown",
   "metadata": {
    "hidden": true
   },
   "source": [
    "$$ \\frac{\\partial}{\\partial u} \\frac{\\partial^k}{\\partial x_j^k} N = v w_j^k \\sigma^{(k+1)} $$"
   ]
  },
  {
   "cell_type": "code",
   "execution_count": 42,
   "metadata": {
    "code_folding": [],
    "hidden": true
   },
   "outputs": [],
   "source": [
    "def d_du_dkN(x, y, p, j, k):\n",
    "    v = p[2]\n",
    "    wj = p[0][j]\n",
    "    z_ = z(x, y, p)\n",
    "    return v * (wj**k) * sig_pr(z_, k+1)"
   ]
  },
  {
   "cell_type": "markdown",
   "metadata": {
    "hidden": true
   },
   "source": [
    "$$ \\frac{\\partial}{\\partial v} \\frac{\\partial^k}{\\partial x_j^k} N = w_j^k \\sigma^{(k)} $$"
   ]
  },
  {
   "cell_type": "code",
   "execution_count": 43,
   "metadata": {
    "code_folding": [],
    "hidden": true
   },
   "outputs": [],
   "source": [
    "def d_dv_dkN(x, y, p, j, k):\n",
    "    wj = p[0][j]\n",
    "    z_ = z(x, y, p)\n",
    "    return (wj**k) * sig_pr(z_, k)"
   ]
  },
  {
   "cell_type": "markdown",
   "metadata": {},
   "source": [
    "## Cost function"
   ]
  },
  {
   "cell_type": "markdown",
   "metadata": {},
   "source": [
    "$$E[\\vec{p}] = \\sum_{i \\in \\hat{D}} \\left\\{ \\frac{\\partial^2 N}{\\partial x^2} + \\frac{\\partial^2 N}{\\partial y^2} - f(x,y) \\right\\}^2 \n",
    "           +  \\sum_{i \\in \\partial \\hat{D}} N^2$$"
   ]
  },
  {
   "cell_type": "code",
   "execution_count": 44,
   "metadata": {},
   "outputs": [],
   "source": [
    "BC=1"
   ]
  },
  {
   "cell_type": "code",
   "execution_count": 45,
   "metadata": {
    "code_folding": []
   },
   "outputs": [],
   "source": [
    "def error_term1(x, y, p):\n",
    "    return dN_dxj_k(x,y,p,0,2)  +  dN_dxj_k(x,y,p,1,2)  -  f(x,y)"
   ]
  },
  {
   "cell_type": "code",
   "execution_count": 46,
   "metadata": {
    "code_folding": []
   },
   "outputs": [],
   "source": [
    "def cost(points, boundary_points, p):\n",
    "    et1 = []\n",
    "    et2 = []\n",
    "    for x, y in points:\n",
    "        err_sq = error_term1(x, y, p)**2\n",
    "        et1.append(err_sq)\n",
    "    \n",
    "    for x, y in boundary_points:\n",
    "        err_sq = N(x,y,p)**2\n",
    "        et2.append(err_sq)\n",
    "        \n",
    "    cost = sum(et1) + BC*sum(et2)\n",
    "    \n",
    "    return cost"
   ]
  },
  {
   "cell_type": "code",
   "execution_count": 47,
   "metadata": {},
   "outputs": [],
   "source": [
    "def relative_err(p, nx=100, all_points=None):\n",
    "    if all_points ==None:\n",
    "        all_points = list(itertools.product(np.linspace(0, 1, nx), np.linspace(0, 1, nx)))\n",
    "\n",
    "    dOmega = 1. / len(all_points)\n",
    "\n",
    "    trial1 = np.sum(dOmega*np.array([np.linalg.norm(N(x,y,p) - psi_a(x,y))**2\n",
    "                                     for x, y in all_points]))\n",
    "\n",
    "    trial2 = np.sum([dOmega*((dN_dxj_k(x,y,p,0,1)-psi_a_dx(x,y))**2 +\n",
    "                             (dN_dxj_k(x,y,p,1,1)-psi_a_dy(x,y))**2)\n",
    "                     for x, y in all_points])\n",
    "\n",
    "    ana1 = np.sum(dOmega*np.array([np.linalg.norm(psi_a(x,y))**2\n",
    "                                         for x, y in all_points]))\n",
    "    ana2 = np.sum([dOmega*(psi_a_dx(x,y)**2 + psi_a_dy(x,y)**2)\n",
    "                   for x, y in all_points])\n",
    "    \n",
    "    rel_err = (trial1 + trial2)**(1/2) / (ana1 + ana2)**(1/2)\n",
    "    \n",
    "    return rel_err"
   ]
  },
  {
   "cell_type": "markdown",
   "metadata": {
    "heading_collapsed": true
   },
   "source": [
    "# Gradients"
   ]
  },
  {
   "cell_type": "markdown",
   "metadata": {
    "hidden": true
   },
   "source": [
    "$$ \\frac{\\partial E[\\vec{p}]}{\\partial w_j} = \\sum_{i \\in \\hat{D}} \\left\\{ 2 \\text{ (error_term1) } \\left( \\frac{\\partial}{\\partial w_j} \\frac{\\partial^2 N}{\\partial x^2} + \\frac{\\partial}{\\partial w_j} \\frac{\\partial^2 N}{\\partial y^2} \\right) \\right\\}  +  \\sum_{i \\in \\partial \\hat{D}} 2 N \\frac{\\partial N}{\\partial w_j}$$"
   ]
  },
  {
   "cell_type": "code",
   "execution_count": 48,
   "metadata": {
    "code_folding": [],
    "hidden": true
   },
   "outputs": [],
   "source": [
    "def dE_dwj(points, boundary_points, p, j):\n",
    "    t1 = []\n",
    "    t2 = []\n",
    "    for x, y in points:\n",
    "        tmp = 2 * error_term1(x,y,p) * (d_dwj_dN2_dxk2(x,y,p,j,0) + d_dwj_dN2_dxk2(x,y,p,j,1))\n",
    "        t1.append(tmp)\n",
    "        \n",
    "    for x, y in boundary_points:\n",
    "        tmp = 2 * N(x,y,p) * dN_dwj(x,y,p,j)\n",
    "        t2.append(tmp)\n",
    "    \n",
    "    grad = sum(t1) + BC*sum(t2)\n",
    "    \n",
    "    return grad"
   ]
  },
  {
   "cell_type": "markdown",
   "metadata": {
    "hidden": true
   },
   "source": [
    "$$ \\frac{\\partial E[\\vec{p}]}{\\partial u} = \\sum_{i \\in \\hat{D}} \\left\\{ 2 \\text{ (error_term1) } \\left( \\frac{\\partial}{\\partial u} \\frac{\\partial^2 N}{\\partial x^2} + \\frac{\\partial}{\\partial u} \\frac{\\partial^2 N}{\\partial y^2} \\right) \\right\\} +  \\sum_{i \\in \\partial \\hat{D}} 2 N \\frac{\\partial N}{\\partial u}$$"
   ]
  },
  {
   "cell_type": "code",
   "execution_count": 49,
   "metadata": {
    "code_folding": [],
    "hidden": true
   },
   "outputs": [],
   "source": [
    "def dE_du(points, boundary_points, p):\n",
    "    t1 = []\n",
    "    t2 = []\n",
    "    for x, y in points:\n",
    "        tmp = 2 * error_term1(x,y,p) * (d_du_dkN(x,y,p,0,2) + d_du_dkN(x,y,p,1,2))\n",
    "        t1.append(tmp)\n",
    "        \n",
    "    for x, y in boundary_points:\n",
    "        tmp = 2 * N(x,y,p) * d_du_dkN(x,y,p,0,0)\n",
    "        t2.append(tmp)\n",
    "    \n",
    "    grad = sum(t1) + BC*sum(t2)\n",
    "    \n",
    "    return grad"
   ]
  },
  {
   "cell_type": "markdown",
   "metadata": {
    "hidden": true
   },
   "source": [
    "$$ \\frac{\\partial E[\\vec{p}]}{\\partial v} = \\sum_{i \\in \\hat{D}} \\left\\{ 2 \\text{ (error_term1) } \\left( \\frac{\\partial}{\\partial v} \\frac{\\partial^2 N}{\\partial x^2} + \\frac{\\partial}{\\partial v} \\frac{\\partial^2 N}{\\partial y^2} \\right) \\right\\}  +  \\sum_{i \\in \\partial \\hat{D}} 2 N \\frac{\\partial N}{\\partial v}$$"
   ]
  },
  {
   "cell_type": "code",
   "execution_count": 50,
   "metadata": {
    "code_folding": [],
    "hidden": true
   },
   "outputs": [],
   "source": [
    "def dE_dv(points, boundary_points, p):\n",
    "    t1 = []\n",
    "    t2 = []\n",
    "    for x, y in points:\n",
    "        tmp = 2 * error_term1(x,y,p) * (d_dv_dkN(x,y,p,0,2) + d_dv_dkN(x,y,p,1,2))\n",
    "        t1.append(tmp)\n",
    "        \n",
    "    for x, y in boundary_points:\n",
    "        tmp = 2 * N(x,y,p) * d_dv_dkN(x,y,p,0,0)\n",
    "        t2.append(tmp)\n",
    "    \n",
    "    grad = sum(t1) + BC*sum(t2)\n",
    "    \n",
    "    return grad"
   ]
  },
  {
   "cell_type": "markdown",
   "metadata": {},
   "source": [
    "# NN class"
   ]
  },
  {
   "cell_type": "code",
   "execution_count": 51,
   "metadata": {},
   "outputs": [],
   "source": [
    "def get_mini_batches(points, boundary_points, batch_size):\n",
    "    np.random.shuffle(points)\n",
    "    np.random.shuffle(boundary_points)\n",
    "    \n",
    "    no_of_splits = np.ceil( (len(points) + len(boundary_points)) / batch_size)\n",
    "\n",
    "    mini_batch_points = np.array_split(points, no_of_splits)\n",
    "    mini_batch_boundary_points = np.array_split(boundary_points, no_of_splits)\n",
    "    \n",
    "    return mini_batch_points, mini_batch_boundary_points"
   ]
  },
  {
   "cell_type": "code",
   "execution_count": 52,
   "metadata": {
    "code_folding": []
   },
   "outputs": [],
   "source": [
    "class NNTrain:\n",
    "    def __init__(self, nx=10, bx=10, hidden_nodes=10, alpha=0.01, batch_size=50,\n",
    "                 beta=0.9, update_interval=50, if_rel_err=False, \n",
    "                 output_file='output/output.csv'):\n",
    "        \n",
    "        self.output_file = output_file\n",
    "        self.training_started = False\n",
    "        self.nx = nx\n",
    "        self.hidden_nodes = hidden_nodes\n",
    "        self.alpha = alpha\n",
    "        self.batch_size = batch_size\n",
    "        self.beta = beta\n",
    "        self.update_interval = update_interval\n",
    "        self.boundary_points = list(set(list(itertools.product([0, 1], np.linspace(0,1,bx))) +\n",
    "                                        list(itertools.product(np.linspace(0,1,bx), [0, 1]))))\n",
    "        pnts = list(itertools.product(np.linspace(0, 1, nx), np.linspace(0, 1, nx)))\n",
    "        self.points = [(x,y) for x,y in pnts if (x not in [0,1] and y not in [0,1])]\n",
    "        self.cost_rate = []\n",
    "        self.if_rel_err = if_rel_err\n",
    "        if self.if_rel_err:\n",
    "            self.rel_err = []\n",
    "        self.p = np.array([np.random.randn(2,hidden_nodes),\n",
    "                           np.random.randn(hidden_nodes),\n",
    "                           np.random.randn(hidden_nodes)])\n",
    "        self.m_t = np.array([np.zeros(hidden_nodes),\n",
    "                             np.zeros(hidden_nodes),\n",
    "                             np.zeros(hidden_nodes),\n",
    "                             np.zeros(hidden_nodes)])\n",
    "\n",
    "\n",
    "    def sgd_mt(self, w, g_t, theta_0):\n",
    "        #gradient descent with momentum\n",
    "        self.m_t[w] = self.beta * self.m_t[w] + (1-self.beta) * g_t\n",
    "        theta_0 = theta_0 - (self.alpha*self.m_t[w])\n",
    "            \n",
    "        return theta_0\n",
    "        \n",
    "\n",
    "    def train(self, itr=1000):\n",
    "        if self.training_started:\n",
    "            mode='a'\n",
    "        else:\n",
    "            mode='w'\n",
    "        self.training_started=True\n",
    "        \n",
    "        with open(self.output_file, mode) as file:\n",
    "            if mode=='w':\n",
    "                if self.if_rel_err:\n",
    "                    file.write('Iteration,Cost,Cost Diff,Relative Error,Relative Error Diff\\n')\n",
    "                else:\n",
    "                    file.write('Iteration,Cost,Cost Diff\\n')\n",
    "            start=len(self.cost_rate)-1\n",
    "            if start<1:\n",
    "                start+=1\n",
    "                self.cost_rate.append(cost(self.points,self.boundary_points,self.p))\n",
    "                if self.if_rel_err:\n",
    "                    self.rel_err.append(relative_err(self.p, all_points=self.points+self.boundary_points))\n",
    "\n",
    "            i = start\n",
    "            while i < start+itr:\n",
    "                mini_batch_points, mini_batch_boundary = get_mini_batches(self.points, self.boundary_points, self.batch_size)\n",
    "                \n",
    "                for mini_point, mini_boundary in zip(mini_batch_points, mini_batch_boundary):\n",
    "                    mini_point = list(mini_point)\n",
    "                    mini_boundary = list(mini_boundary)\n",
    "                    \n",
    "                    g_w0 = dE_dwj(mini_point, mini_boundary, self.p, 0)\n",
    "                    g_w1 = dE_dwj(mini_point, mini_boundary, self.p, 1)\n",
    "                    g_u = dE_du(mini_point, mini_boundary, self.p)\n",
    "                    g_v = dE_dv(mini_point, mini_boundary, self.p)\n",
    "\n",
    "                    self.p[0][0] = self.sgd_mt(0, g_w0, self.p[0][0])\n",
    "                    self.p[0][1] = self.sgd_mt(1, g_w1, self.p[0][1])\n",
    "                    self.p[1] = self.sgd_mt(2, g_u, self.p[1])\n",
    "                    self.p[2] = self.sgd_mt(3, g_v, self.p[2])\n",
    "                \n",
    "                self.cost_rate.append(cost(self.points,self.boundary_points,self.p))\n",
    "                cost_diff = self.cost_rate[i]-self.cost_rate[i+1]\n",
    "                if self.if_rel_err:\n",
    "                    self.rel_err.append(relative_err(self.p, all_points=self.points+self.boundary_points))\n",
    "                    rel_diff = self.rel_err[i]-self.rel_err[i+1]\n",
    "\n",
    "                if self.if_rel_err:\n",
    "                    file.write('{},{:.8f},{:.8f},{:.8f},{:.8f}\\n'.format(\n",
    "                        i+1,self.cost_rate[i+1], cost_diff,\n",
    "                        self.rel_err[i+1], rel_diff))\n",
    "                else:\n",
    "                    file.write('{},{:.8f},{:.8f}\\n'.format(\n",
    "                        i+1,self.cost_rate[i+1],\n",
    "                        cost_diff))\n",
    "\n",
    "                if i%self.update_interval==0:\n",
    "                    file.flush()\n",
    "                    \n",
    "                i+=1\n",
    "                \n",
    "                \n",
    "    def save_result(self, output_name=''):\n",
    "        timestr = time.strftime(\"%Y%m%d-%H%M\")\n",
    "        np.savez('output/'+ timestr + '_' + output_name +'_nn_params.npz', self.p)\n",
    "        np.savez('output/'+ timestr + '_' + output_name +'_cost_rate.npz', self.cost_rate)\n",
    "        if self.if_rel_err:\n",
    "            np.savez('output/'+ timestr + '_' + output_name +'_rel_err.npz', self.rel_err)"
   ]
  },
  {
   "cell_type": "code",
   "execution_count": null,
   "metadata": {},
   "outputs": [],
   "source": []
  },
  {
   "cell_type": "markdown",
   "metadata": {
    "heading_collapsed": true
   },
   "source": [
    "# Graphs"
   ]
  },
  {
   "cell_type": "code",
   "execution_count": 53,
   "metadata": {
    "hidden": true
   },
   "outputs": [],
   "source": [
    "%matplotlib notebook\n",
    "%matplotlib notebook"
   ]
  },
  {
   "cell_type": "markdown",
   "metadata": {
    "heading_collapsed": true,
    "hidden": true
   },
   "source": [
    "## Hidden Nodes"
   ]
  },
  {
   "cell_type": "code",
   "execution_count": 54,
   "metadata": {
    "hidden": true
   },
   "outputs": [],
   "source": [
    "def plot_nodes(a, save_name=None, save=True, zlim=True):\n",
    "    p = a.p\n",
    "    hmax = a.p[0][0].shape[0]\n",
    "    col = int(np.sqrt(hmax)) if int(np.sqrt(hmax)) < 10 else 10\n",
    "    row = np.ceil(hmax / col)\n",
    "    \n",
    "    d_x=0.1\n",
    "\n",
    "    fig = plt.figure(figsize=(col*3, row*3), dpi=100)\n",
    "    for h in range(1,hmax+1):\n",
    "        ax = fig.add_subplot(row,col,h, projection='3d')\n",
    "        x = y = np.arange(0, 1+d_x, d_x)\n",
    "        X, Y = np.meshgrid(x, y)\n",
    "\n",
    "        zs = np.array([p[1][h-1]*sig(z(x,y,p))[h-1] for x,y in zip(np.ravel(X), np.ravel(Y))])\n",
    "        Z = zs.reshape(X.shape)\n",
    "\n",
    "        ax.set_xlabel('x')\n",
    "        ax.set_ylabel('y')\n",
    "        if zlim:\n",
    "            ax.set_zlim(0,1)\n",
    "\n",
    "        ax.plot_surface(X, Y, Z, cmap=cm.coolwarm)\n",
    "        ax.title.set_text('HN: ' + str(h) + ', v=' + \"{:.4E}\".format(p[1][h-1]))\n",
    "        time.sleep(0.2)\n",
    "\n",
    "    if save==True:\n",
    "        if save_name is None: \n",
    "            plt.savefig('t'+str(T)+'_h'+str(hmax)+'_n'+str(a.nx)+'.png')\n",
    "        else:\n",
    "            plt.savefig(save_name)\n",
    "    else:\n",
    "        plt.show()"
   ]
  },
  {
   "cell_type": "markdown",
   "metadata": {
    "hidden": true
   },
   "source": [
    "## Error vs Iterations"
   ]
  },
  {
   "cell_type": "code",
   "execution_count": 55,
   "metadata": {
    "hidden": true
   },
   "outputs": [],
   "source": [
    "def plot_iteration(arr, min_it=0, max_it=None):\n",
    "    plt.figure()\n",
    "    plt.plot(np.arange(len(arr[min_it:max_it])), np.array(arr[min_it:max_it]))\n",
    "    plt.show()"
   ]
  },
  {
   "cell_type": "markdown",
   "metadata": {
    "hidden": true
   },
   "source": [
    "## Solution Accuracy on the domain"
   ]
  },
  {
   "cell_type": "code",
   "execution_count": 56,
   "metadata": {
    "hidden": true
   },
   "outputs": [],
   "source": [
    "def accuracy(p):\n",
    "    d_x=0.01\n",
    "    fig = plt.figure()\n",
    "    ax = fig.add_subplot(111, projection='3d')\n",
    "    x = y = np.arange(0, 1.0+d_x, d_x)\n",
    "    X, Y = np.meshgrid(x, y)\n",
    "\n",
    "    zs = np.array([psi_a(x,y)-psi_t(x,y,p) for x,y in zip(np.ravel(X), np.ravel(Y))])\n",
    "    Z = zs.reshape(X.shape)\n",
    "\n",
    "    ax.plot_surface(X, Y, Z, cmap=cm.coolwarm_r)\n",
    "    # ax.ticklabel_format(style='sci', axis='z', scilimits=(0,0), useOffset=True, useMathText=True)\n",
    "\n",
    "\n",
    "    ax.set_xlabel('x')\n",
    "    ax.set_ylabel('y')\n",
    "#     ax.set_zlabel('Accuracy')\n",
    "\n",
    "\n",
    "    plt.show()"
   ]
  },
  {
   "cell_type": "code",
   "execution_count": 57,
   "metadata": {
    "hidden": true
   },
   "outputs": [],
   "source": [
    "def plot_fun(fun, zlim=False, title=None, return_ax=False, **kwargs):\n",
    "    d_x=0.01\n",
    "    fig = plt.figure()\n",
    "    ax = fig.add_subplot(111, projection='3d')\n",
    "    x = y = np.arange(0, 1.0+d_x, d_x)\n",
    "    X, Y = np.meshgrid(x, y)\n",
    "\n",
    "    zs = np.array([fun(x,y,**kwargs) for x,y in zip(np.ravel(X), np.ravel(Y))])\n",
    "    Z = zs.reshape(X.shape)\n",
    "\n",
    "    ax.plot_surface(X, Y, Z, cmap=cm.coolwarm_r)\n",
    "    # ax.ticklabel_format(style='sci', axis='z', scilimits=(0,0), useOffset=True, useMathText=True)\n",
    "\n",
    "\n",
    "    ax.set_xlabel('x')\n",
    "    ax.set_ylabel('y')\n",
    "    ax.title.set_text(title)\n",
    "    \n",
    "    if zlim:\n",
    "        ax.set_zlim(0,1)\n",
    "\n",
    "    if return_ax:\n",
    "        return ax\n",
    "    else:\n",
    "        plt.show()"
   ]
  },
  {
   "cell_type": "code",
   "execution_count": null,
   "metadata": {
    "hidden": true
   },
   "outputs": [],
   "source": []
  },
  {
   "cell_type": "markdown",
   "metadata": {},
   "source": [
    "# Training"
   ]
  },
  {
   "cell_type": "code",
   "execution_count": 62,
   "metadata": {},
   "outputs": [],
   "source": [
    "K=10\n",
    "a = NNTrain(nx=40, bx=100, hidden_nodes=1, alpha=1e-4, batch_size=50, update_interval=10, if_rel_err=True, output_file='out/out0.csv')"
   ]
  },
  {
   "cell_type": "code",
   "execution_count": null,
   "metadata": {
    "scrolled": true
   },
   "outputs": [],
   "source": [
    "BC=1\n",
    "a.train(100)\n",
    "\n",
    "thresh=1e-5\n",
    "for i in range(10000):\n",
    "    if a.alpha < 1e-9  or BC > 10000:\n",
    "        break\n",
    "    if np.mean([s-t for s, t in zip(a.cost_rate[-21:], a.cost_rate[-20:])]) < thresh:\n",
    "        BC=BC*10\n",
    "        a.alpha=a.alpha/10\n",
    "    a.train(100)"
   ]
  },
  {
   "cell_type": "markdown",
   "metadata": {},
   "source": [
    "Etc"
   ]
  },
  {
   "cell_type": "code",
   "execution_count": 64,
   "metadata": {},
   "outputs": [
    {
     "name": "stdout",
     "output_type": "stream",
     "text": [
      "alpha: 0.0001\n",
      "BC: 1\n",
      "relative error: 2.7007860051428776\n"
     ]
    }
   ],
   "source": [
    "print('alpha:', a.alpha)\n",
    "print('BC:', BC)\n",
    "print('relative error:', relative_err(a.p, nx=100))"
   ]
  },
  {
   "cell_type": "code",
   "execution_count": null,
   "metadata": {},
   "outputs": [],
   "source": []
  },
  {
   "cell_type": "code",
   "execution_count": null,
   "metadata": {},
   "outputs": [],
   "source": []
  },
  {
   "cell_type": "code",
   "execution_count": 40,
   "metadata": {
    "scrolled": false
   },
   "outputs": [
    {
     "data": {
      "application/javascript": [
       "/* Put everything inside the global mpl namespace */\n",
       "window.mpl = {};\n",
       "\n",
       "\n",
       "mpl.get_websocket_type = function() {\n",
       "    if (typeof(WebSocket) !== 'undefined') {\n",
       "        return WebSocket;\n",
       "    } else if (typeof(MozWebSocket) !== 'undefined') {\n",
       "        return MozWebSocket;\n",
       "    } else {\n",
       "        alert('Your browser does not have WebSocket support.' +\n",
       "              'Please try Chrome, Safari or Firefox ≥ 6. ' +\n",
       "              'Firefox 4 and 5 are also supported but you ' +\n",
       "              'have to enable WebSockets in about:config.');\n",
       "    };\n",
       "}\n",
       "\n",
       "mpl.figure = function(figure_id, websocket, ondownload, parent_element) {\n",
       "    this.id = figure_id;\n",
       "\n",
       "    this.ws = websocket;\n",
       "\n",
       "    this.supports_binary = (this.ws.binaryType != undefined);\n",
       "\n",
       "    if (!this.supports_binary) {\n",
       "        var warnings = document.getElementById(\"mpl-warnings\");\n",
       "        if (warnings) {\n",
       "            warnings.style.display = 'block';\n",
       "            warnings.textContent = (\n",
       "                \"This browser does not support binary websocket messages. \" +\n",
       "                    \"Performance may be slow.\");\n",
       "        }\n",
       "    }\n",
       "\n",
       "    this.imageObj = new Image();\n",
       "\n",
       "    this.context = undefined;\n",
       "    this.message = undefined;\n",
       "    this.canvas = undefined;\n",
       "    this.rubberband_canvas = undefined;\n",
       "    this.rubberband_context = undefined;\n",
       "    this.format_dropdown = undefined;\n",
       "\n",
       "    this.image_mode = 'full';\n",
       "\n",
       "    this.root = $('<div/>');\n",
       "    this._root_extra_style(this.root)\n",
       "    this.root.attr('style', 'display: inline-block');\n",
       "\n",
       "    $(parent_element).append(this.root);\n",
       "\n",
       "    this._init_header(this);\n",
       "    this._init_canvas(this);\n",
       "    this._init_toolbar(this);\n",
       "\n",
       "    var fig = this;\n",
       "\n",
       "    this.waiting = false;\n",
       "\n",
       "    this.ws.onopen =  function () {\n",
       "            fig.send_message(\"supports_binary\", {value: fig.supports_binary});\n",
       "            fig.send_message(\"send_image_mode\", {});\n",
       "            if (mpl.ratio != 1) {\n",
       "                fig.send_message(\"set_dpi_ratio\", {'dpi_ratio': mpl.ratio});\n",
       "            }\n",
       "            fig.send_message(\"refresh\", {});\n",
       "        }\n",
       "\n",
       "    this.imageObj.onload = function() {\n",
       "            if (fig.image_mode == 'full') {\n",
       "                // Full images could contain transparency (where diff images\n",
       "                // almost always do), so we need to clear the canvas so that\n",
       "                // there is no ghosting.\n",
       "                fig.context.clearRect(0, 0, fig.canvas.width, fig.canvas.height);\n",
       "            }\n",
       "            fig.context.drawImage(fig.imageObj, 0, 0);\n",
       "        };\n",
       "\n",
       "    this.imageObj.onunload = function() {\n",
       "        fig.ws.close();\n",
       "    }\n",
       "\n",
       "    this.ws.onmessage = this._make_on_message_function(this);\n",
       "\n",
       "    this.ondownload = ondownload;\n",
       "}\n",
       "\n",
       "mpl.figure.prototype._init_header = function() {\n",
       "    var titlebar = $(\n",
       "        '<div class=\"ui-dialog-titlebar ui-widget-header ui-corner-all ' +\n",
       "        'ui-helper-clearfix\"/>');\n",
       "    var titletext = $(\n",
       "        '<div class=\"ui-dialog-title\" style=\"width: 100%; ' +\n",
       "        'text-align: center; padding: 3px;\"/>');\n",
       "    titlebar.append(titletext)\n",
       "    this.root.append(titlebar);\n",
       "    this.header = titletext[0];\n",
       "}\n",
       "\n",
       "\n",
       "\n",
       "mpl.figure.prototype._canvas_extra_style = function(canvas_div) {\n",
       "\n",
       "}\n",
       "\n",
       "\n",
       "mpl.figure.prototype._root_extra_style = function(canvas_div) {\n",
       "\n",
       "}\n",
       "\n",
       "mpl.figure.prototype._init_canvas = function() {\n",
       "    var fig = this;\n",
       "\n",
       "    var canvas_div = $('<div/>');\n",
       "\n",
       "    canvas_div.attr('style', 'position: relative; clear: both; outline: 0');\n",
       "\n",
       "    function canvas_keyboard_event(event) {\n",
       "        return fig.key_event(event, event['data']);\n",
       "    }\n",
       "\n",
       "    canvas_div.keydown('key_press', canvas_keyboard_event);\n",
       "    canvas_div.keyup('key_release', canvas_keyboard_event);\n",
       "    this.canvas_div = canvas_div\n",
       "    this._canvas_extra_style(canvas_div)\n",
       "    this.root.append(canvas_div);\n",
       "\n",
       "    var canvas = $('<canvas/>');\n",
       "    canvas.addClass('mpl-canvas');\n",
       "    canvas.attr('style', \"left: 0; top: 0; z-index: 0; outline: 0\")\n",
       "\n",
       "    this.canvas = canvas[0];\n",
       "    this.context = canvas[0].getContext(\"2d\");\n",
       "\n",
       "    var backingStore = this.context.backingStorePixelRatio ||\n",
       "\tthis.context.webkitBackingStorePixelRatio ||\n",
       "\tthis.context.mozBackingStorePixelRatio ||\n",
       "\tthis.context.msBackingStorePixelRatio ||\n",
       "\tthis.context.oBackingStorePixelRatio ||\n",
       "\tthis.context.backingStorePixelRatio || 1;\n",
       "\n",
       "    mpl.ratio = (window.devicePixelRatio || 1) / backingStore;\n",
       "\n",
       "    var rubberband = $('<canvas/>');\n",
       "    rubberband.attr('style', \"position: absolute; left: 0; top: 0; z-index: 1;\")\n",
       "\n",
       "    var pass_mouse_events = true;\n",
       "\n",
       "    canvas_div.resizable({\n",
       "        start: function(event, ui) {\n",
       "            pass_mouse_events = false;\n",
       "        },\n",
       "        resize: function(event, ui) {\n",
       "            fig.request_resize(ui.size.width, ui.size.height);\n",
       "        },\n",
       "        stop: function(event, ui) {\n",
       "            pass_mouse_events = true;\n",
       "            fig.request_resize(ui.size.width, ui.size.height);\n",
       "        },\n",
       "    });\n",
       "\n",
       "    function mouse_event_fn(event) {\n",
       "        if (pass_mouse_events)\n",
       "            return fig.mouse_event(event, event['data']);\n",
       "    }\n",
       "\n",
       "    rubberband.mousedown('button_press', mouse_event_fn);\n",
       "    rubberband.mouseup('button_release', mouse_event_fn);\n",
       "    // Throttle sequential mouse events to 1 every 20ms.\n",
       "    rubberband.mousemove('motion_notify', mouse_event_fn);\n",
       "\n",
       "    rubberband.mouseenter('figure_enter', mouse_event_fn);\n",
       "    rubberband.mouseleave('figure_leave', mouse_event_fn);\n",
       "\n",
       "    canvas_div.on(\"wheel\", function (event) {\n",
       "        event = event.originalEvent;\n",
       "        event['data'] = 'scroll'\n",
       "        if (event.deltaY < 0) {\n",
       "            event.step = 1;\n",
       "        } else {\n",
       "            event.step = -1;\n",
       "        }\n",
       "        mouse_event_fn(event);\n",
       "    });\n",
       "\n",
       "    canvas_div.append(canvas);\n",
       "    canvas_div.append(rubberband);\n",
       "\n",
       "    this.rubberband = rubberband;\n",
       "    this.rubberband_canvas = rubberband[0];\n",
       "    this.rubberband_context = rubberband[0].getContext(\"2d\");\n",
       "    this.rubberband_context.strokeStyle = \"#000000\";\n",
       "\n",
       "    this._resize_canvas = function(width, height) {\n",
       "        // Keep the size of the canvas, canvas container, and rubber band\n",
       "        // canvas in synch.\n",
       "        canvas_div.css('width', width)\n",
       "        canvas_div.css('height', height)\n",
       "\n",
       "        canvas.attr('width', width * mpl.ratio);\n",
       "        canvas.attr('height', height * mpl.ratio);\n",
       "        canvas.attr('style', 'width: ' + width + 'px; height: ' + height + 'px;');\n",
       "\n",
       "        rubberband.attr('width', width);\n",
       "        rubberband.attr('height', height);\n",
       "    }\n",
       "\n",
       "    // Set the figure to an initial 600x600px, this will subsequently be updated\n",
       "    // upon first draw.\n",
       "    this._resize_canvas(600, 600);\n",
       "\n",
       "    // Disable right mouse context menu.\n",
       "    $(this.rubberband_canvas).bind(\"contextmenu\",function(e){\n",
       "        return false;\n",
       "    });\n",
       "\n",
       "    function set_focus () {\n",
       "        canvas.focus();\n",
       "        canvas_div.focus();\n",
       "    }\n",
       "\n",
       "    window.setTimeout(set_focus, 100);\n",
       "}\n",
       "\n",
       "mpl.figure.prototype._init_toolbar = function() {\n",
       "    var fig = this;\n",
       "\n",
       "    var nav_element = $('<div/>')\n",
       "    nav_element.attr('style', 'width: 100%');\n",
       "    this.root.append(nav_element);\n",
       "\n",
       "    // Define a callback function for later on.\n",
       "    function toolbar_event(event) {\n",
       "        return fig.toolbar_button_onclick(event['data']);\n",
       "    }\n",
       "    function toolbar_mouse_event(event) {\n",
       "        return fig.toolbar_button_onmouseover(event['data']);\n",
       "    }\n",
       "\n",
       "    for(var toolbar_ind in mpl.toolbar_items) {\n",
       "        var name = mpl.toolbar_items[toolbar_ind][0];\n",
       "        var tooltip = mpl.toolbar_items[toolbar_ind][1];\n",
       "        var image = mpl.toolbar_items[toolbar_ind][2];\n",
       "        var method_name = mpl.toolbar_items[toolbar_ind][3];\n",
       "\n",
       "        if (!name) {\n",
       "            // put a spacer in here.\n",
       "            continue;\n",
       "        }\n",
       "        var button = $('<button/>');\n",
       "        button.addClass('ui-button ui-widget ui-state-default ui-corner-all ' +\n",
       "                        'ui-button-icon-only');\n",
       "        button.attr('role', 'button');\n",
       "        button.attr('aria-disabled', 'false');\n",
       "        button.click(method_name, toolbar_event);\n",
       "        button.mouseover(tooltip, toolbar_mouse_event);\n",
       "\n",
       "        var icon_img = $('<span/>');\n",
       "        icon_img.addClass('ui-button-icon-primary ui-icon');\n",
       "        icon_img.addClass(image);\n",
       "        icon_img.addClass('ui-corner-all');\n",
       "\n",
       "        var tooltip_span = $('<span/>');\n",
       "        tooltip_span.addClass('ui-button-text');\n",
       "        tooltip_span.html(tooltip);\n",
       "\n",
       "        button.append(icon_img);\n",
       "        button.append(tooltip_span);\n",
       "\n",
       "        nav_element.append(button);\n",
       "    }\n",
       "\n",
       "    var fmt_picker_span = $('<span/>');\n",
       "\n",
       "    var fmt_picker = $('<select/>');\n",
       "    fmt_picker.addClass('mpl-toolbar-option ui-widget ui-widget-content');\n",
       "    fmt_picker_span.append(fmt_picker);\n",
       "    nav_element.append(fmt_picker_span);\n",
       "    this.format_dropdown = fmt_picker[0];\n",
       "\n",
       "    for (var ind in mpl.extensions) {\n",
       "        var fmt = mpl.extensions[ind];\n",
       "        var option = $(\n",
       "            '<option/>', {selected: fmt === mpl.default_extension}).html(fmt);\n",
       "        fmt_picker.append(option)\n",
       "    }\n",
       "\n",
       "    // Add hover states to the ui-buttons\n",
       "    $( \".ui-button\" ).hover(\n",
       "        function() { $(this).addClass(\"ui-state-hover\");},\n",
       "        function() { $(this).removeClass(\"ui-state-hover\");}\n",
       "    );\n",
       "\n",
       "    var status_bar = $('<span class=\"mpl-message\"/>');\n",
       "    nav_element.append(status_bar);\n",
       "    this.message = status_bar[0];\n",
       "}\n",
       "\n",
       "mpl.figure.prototype.request_resize = function(x_pixels, y_pixels) {\n",
       "    // Request matplotlib to resize the figure. Matplotlib will then trigger a resize in the client,\n",
       "    // which will in turn request a refresh of the image.\n",
       "    this.send_message('resize', {'width': x_pixels, 'height': y_pixels});\n",
       "}\n",
       "\n",
       "mpl.figure.prototype.send_message = function(type, properties) {\n",
       "    properties['type'] = type;\n",
       "    properties['figure_id'] = this.id;\n",
       "    this.ws.send(JSON.stringify(properties));\n",
       "}\n",
       "\n",
       "mpl.figure.prototype.send_draw_message = function() {\n",
       "    if (!this.waiting) {\n",
       "        this.waiting = true;\n",
       "        this.ws.send(JSON.stringify({type: \"draw\", figure_id: this.id}));\n",
       "    }\n",
       "}\n",
       "\n",
       "\n",
       "mpl.figure.prototype.handle_save = function(fig, msg) {\n",
       "    var format_dropdown = fig.format_dropdown;\n",
       "    var format = format_dropdown.options[format_dropdown.selectedIndex].value;\n",
       "    fig.ondownload(fig, format);\n",
       "}\n",
       "\n",
       "\n",
       "mpl.figure.prototype.handle_resize = function(fig, msg) {\n",
       "    var size = msg['size'];\n",
       "    if (size[0] != fig.canvas.width || size[1] != fig.canvas.height) {\n",
       "        fig._resize_canvas(size[0], size[1]);\n",
       "        fig.send_message(\"refresh\", {});\n",
       "    };\n",
       "}\n",
       "\n",
       "mpl.figure.prototype.handle_rubberband = function(fig, msg) {\n",
       "    var x0 = msg['x0'] / mpl.ratio;\n",
       "    var y0 = (fig.canvas.height - msg['y0']) / mpl.ratio;\n",
       "    var x1 = msg['x1'] / mpl.ratio;\n",
       "    var y1 = (fig.canvas.height - msg['y1']) / mpl.ratio;\n",
       "    x0 = Math.floor(x0) + 0.5;\n",
       "    y0 = Math.floor(y0) + 0.5;\n",
       "    x1 = Math.floor(x1) + 0.5;\n",
       "    y1 = Math.floor(y1) + 0.5;\n",
       "    var min_x = Math.min(x0, x1);\n",
       "    var min_y = Math.min(y0, y1);\n",
       "    var width = Math.abs(x1 - x0);\n",
       "    var height = Math.abs(y1 - y0);\n",
       "\n",
       "    fig.rubberband_context.clearRect(\n",
       "        0, 0, fig.canvas.width, fig.canvas.height);\n",
       "\n",
       "    fig.rubberband_context.strokeRect(min_x, min_y, width, height);\n",
       "}\n",
       "\n",
       "mpl.figure.prototype.handle_figure_label = function(fig, msg) {\n",
       "    // Updates the figure title.\n",
       "    fig.header.textContent = msg['label'];\n",
       "}\n",
       "\n",
       "mpl.figure.prototype.handle_cursor = function(fig, msg) {\n",
       "    var cursor = msg['cursor'];\n",
       "    switch(cursor)\n",
       "    {\n",
       "    case 0:\n",
       "        cursor = 'pointer';\n",
       "        break;\n",
       "    case 1:\n",
       "        cursor = 'default';\n",
       "        break;\n",
       "    case 2:\n",
       "        cursor = 'crosshair';\n",
       "        break;\n",
       "    case 3:\n",
       "        cursor = 'move';\n",
       "        break;\n",
       "    }\n",
       "    fig.rubberband_canvas.style.cursor = cursor;\n",
       "}\n",
       "\n",
       "mpl.figure.prototype.handle_message = function(fig, msg) {\n",
       "    fig.message.textContent = msg['message'];\n",
       "}\n",
       "\n",
       "mpl.figure.prototype.handle_draw = function(fig, msg) {\n",
       "    // Request the server to send over a new figure.\n",
       "    fig.send_draw_message();\n",
       "}\n",
       "\n",
       "mpl.figure.prototype.handle_image_mode = function(fig, msg) {\n",
       "    fig.image_mode = msg['mode'];\n",
       "}\n",
       "\n",
       "mpl.figure.prototype.updated_canvas_event = function() {\n",
       "    // Called whenever the canvas gets updated.\n",
       "    this.send_message(\"ack\", {});\n",
       "}\n",
       "\n",
       "// A function to construct a web socket function for onmessage handling.\n",
       "// Called in the figure constructor.\n",
       "mpl.figure.prototype._make_on_message_function = function(fig) {\n",
       "    return function socket_on_message(evt) {\n",
       "        if (evt.data instanceof Blob) {\n",
       "            /* FIXME: We get \"Resource interpreted as Image but\n",
       "             * transferred with MIME type text/plain:\" errors on\n",
       "             * Chrome.  But how to set the MIME type?  It doesn't seem\n",
       "             * to be part of the websocket stream */\n",
       "            evt.data.type = \"image/png\";\n",
       "\n",
       "            /* Free the memory for the previous frames */\n",
       "            if (fig.imageObj.src) {\n",
       "                (window.URL || window.webkitURL).revokeObjectURL(\n",
       "                    fig.imageObj.src);\n",
       "            }\n",
       "\n",
       "            fig.imageObj.src = (window.URL || window.webkitURL).createObjectURL(\n",
       "                evt.data);\n",
       "            fig.updated_canvas_event();\n",
       "            fig.waiting = false;\n",
       "            return;\n",
       "        }\n",
       "        else if (typeof evt.data === 'string' && evt.data.slice(0, 21) == \"data:image/png;base64\") {\n",
       "            fig.imageObj.src = evt.data;\n",
       "            fig.updated_canvas_event();\n",
       "            fig.waiting = false;\n",
       "            return;\n",
       "        }\n",
       "\n",
       "        var msg = JSON.parse(evt.data);\n",
       "        var msg_type = msg['type'];\n",
       "\n",
       "        // Call the  \"handle_{type}\" callback, which takes\n",
       "        // the figure and JSON message as its only arguments.\n",
       "        try {\n",
       "            var callback = fig[\"handle_\" + msg_type];\n",
       "        } catch (e) {\n",
       "            console.log(\"No handler for the '\" + msg_type + \"' message type: \", msg);\n",
       "            return;\n",
       "        }\n",
       "\n",
       "        if (callback) {\n",
       "            try {\n",
       "                // console.log(\"Handling '\" + msg_type + \"' message: \", msg);\n",
       "                callback(fig, msg);\n",
       "            } catch (e) {\n",
       "                console.log(\"Exception inside the 'handler_\" + msg_type + \"' callback:\", e, e.stack, msg);\n",
       "            }\n",
       "        }\n",
       "    };\n",
       "}\n",
       "\n",
       "// from http://stackoverflow.com/questions/1114465/getting-mouse-location-in-canvas\n",
       "mpl.findpos = function(e) {\n",
       "    //this section is from http://www.quirksmode.org/js/events_properties.html\n",
       "    var targ;\n",
       "    if (!e)\n",
       "        e = window.event;\n",
       "    if (e.target)\n",
       "        targ = e.target;\n",
       "    else if (e.srcElement)\n",
       "        targ = e.srcElement;\n",
       "    if (targ.nodeType == 3) // defeat Safari bug\n",
       "        targ = targ.parentNode;\n",
       "\n",
       "    // jQuery normalizes the pageX and pageY\n",
       "    // pageX,Y are the mouse positions relative to the document\n",
       "    // offset() returns the position of the element relative to the document\n",
       "    var x = e.pageX - $(targ).offset().left;\n",
       "    var y = e.pageY - $(targ).offset().top;\n",
       "\n",
       "    return {\"x\": x, \"y\": y};\n",
       "};\n",
       "\n",
       "/*\n",
       " * return a copy of an object with only non-object keys\n",
       " * we need this to avoid circular references\n",
       " * http://stackoverflow.com/a/24161582/3208463\n",
       " */\n",
       "function simpleKeys (original) {\n",
       "  return Object.keys(original).reduce(function (obj, key) {\n",
       "    if (typeof original[key] !== 'object')\n",
       "        obj[key] = original[key]\n",
       "    return obj;\n",
       "  }, {});\n",
       "}\n",
       "\n",
       "mpl.figure.prototype.mouse_event = function(event, name) {\n",
       "    var canvas_pos = mpl.findpos(event)\n",
       "\n",
       "    if (name === 'button_press')\n",
       "    {\n",
       "        this.canvas.focus();\n",
       "        this.canvas_div.focus();\n",
       "    }\n",
       "\n",
       "    var x = canvas_pos.x * mpl.ratio;\n",
       "    var y = canvas_pos.y * mpl.ratio;\n",
       "\n",
       "    this.send_message(name, {x: x, y: y, button: event.button,\n",
       "                             step: event.step,\n",
       "                             guiEvent: simpleKeys(event)});\n",
       "\n",
       "    /* This prevents the web browser from automatically changing to\n",
       "     * the text insertion cursor when the button is pressed.  We want\n",
       "     * to control all of the cursor setting manually through the\n",
       "     * 'cursor' event from matplotlib */\n",
       "    event.preventDefault();\n",
       "    return false;\n",
       "}\n",
       "\n",
       "mpl.figure.prototype._key_event_extra = function(event, name) {\n",
       "    // Handle any extra behaviour associated with a key event\n",
       "}\n",
       "\n",
       "mpl.figure.prototype.key_event = function(event, name) {\n",
       "\n",
       "    // Prevent repeat events\n",
       "    if (name == 'key_press')\n",
       "    {\n",
       "        if (event.which === this._key)\n",
       "            return;\n",
       "        else\n",
       "            this._key = event.which;\n",
       "    }\n",
       "    if (name == 'key_release')\n",
       "        this._key = null;\n",
       "\n",
       "    var value = '';\n",
       "    if (event.ctrlKey && event.which != 17)\n",
       "        value += \"ctrl+\";\n",
       "    if (event.altKey && event.which != 18)\n",
       "        value += \"alt+\";\n",
       "    if (event.shiftKey && event.which != 16)\n",
       "        value += \"shift+\";\n",
       "\n",
       "    value += 'k';\n",
       "    value += event.which.toString();\n",
       "\n",
       "    this._key_event_extra(event, name);\n",
       "\n",
       "    this.send_message(name, {key: value,\n",
       "                             guiEvent: simpleKeys(event)});\n",
       "    return false;\n",
       "}\n",
       "\n",
       "mpl.figure.prototype.toolbar_button_onclick = function(name) {\n",
       "    if (name == 'download') {\n",
       "        this.handle_save(this, null);\n",
       "    } else {\n",
       "        this.send_message(\"toolbar_button\", {name: name});\n",
       "    }\n",
       "};\n",
       "\n",
       "mpl.figure.prototype.toolbar_button_onmouseover = function(tooltip) {\n",
       "    this.message.textContent = tooltip;\n",
       "};\n",
       "mpl.toolbar_items = [[\"Home\", \"Reset original view\", \"fa fa-home icon-home\", \"home\"], [\"Back\", \"Back to previous view\", \"fa fa-arrow-left icon-arrow-left\", \"back\"], [\"Forward\", \"Forward to next view\", \"fa fa-arrow-right icon-arrow-right\", \"forward\"], [\"\", \"\", \"\", \"\"], [\"Pan\", \"Pan axes with left mouse, zoom with right\", \"fa fa-arrows icon-move\", \"pan\"], [\"Zoom\", \"Zoom to rectangle\", \"fa fa-square-o icon-check-empty\", \"zoom\"], [\"\", \"\", \"\", \"\"], [\"Download\", \"Download plot\", \"fa fa-floppy-o icon-save\", \"download\"]];\n",
       "\n",
       "mpl.extensions = [\"eps\", \"jpeg\", \"pdf\", \"png\", \"ps\", \"raw\", \"svg\", \"tif\"];\n",
       "\n",
       "mpl.default_extension = \"png\";var comm_websocket_adapter = function(comm) {\n",
       "    // Create a \"websocket\"-like object which calls the given IPython comm\n",
       "    // object with the appropriate methods. Currently this is a non binary\n",
       "    // socket, so there is still some room for performance tuning.\n",
       "    var ws = {};\n",
       "\n",
       "    ws.close = function() {\n",
       "        comm.close()\n",
       "    };\n",
       "    ws.send = function(m) {\n",
       "        //console.log('sending', m);\n",
       "        comm.send(m);\n",
       "    };\n",
       "    // Register the callback with on_msg.\n",
       "    comm.on_msg(function(msg) {\n",
       "        //console.log('receiving', msg['content']['data'], msg);\n",
       "        // Pass the mpl event to the overridden (by mpl) onmessage function.\n",
       "        ws.onmessage(msg['content']['data'])\n",
       "    });\n",
       "    return ws;\n",
       "}\n",
       "\n",
       "mpl.mpl_figure_comm = function(comm, msg) {\n",
       "    // This is the function which gets called when the mpl process\n",
       "    // starts-up an IPython Comm through the \"matplotlib\" channel.\n",
       "\n",
       "    var id = msg.content.data.id;\n",
       "    // Get hold of the div created by the display call when the Comm\n",
       "    // socket was opened in Python.\n",
       "    var element = $(\"#\" + id);\n",
       "    var ws_proxy = comm_websocket_adapter(comm)\n",
       "\n",
       "    function ondownload(figure, format) {\n",
       "        window.open(figure.imageObj.src);\n",
       "    }\n",
       "\n",
       "    var fig = new mpl.figure(id, ws_proxy,\n",
       "                           ondownload,\n",
       "                           element.get(0));\n",
       "\n",
       "    // Call onopen now - mpl needs it, as it is assuming we've passed it a real\n",
       "    // web socket which is closed, not our websocket->open comm proxy.\n",
       "    ws_proxy.onopen();\n",
       "\n",
       "    fig.parent_element = element.get(0);\n",
       "    fig.cell_info = mpl.find_output_cell(\"<div id='\" + id + \"'></div>\");\n",
       "    if (!fig.cell_info) {\n",
       "        console.error(\"Failed to find cell for figure\", id, fig);\n",
       "        return;\n",
       "    }\n",
       "\n",
       "    var output_index = fig.cell_info[2]\n",
       "    var cell = fig.cell_info[0];\n",
       "\n",
       "};\n",
       "\n",
       "mpl.figure.prototype.handle_close = function(fig, msg) {\n",
       "    var width = fig.canvas.width/mpl.ratio\n",
       "    fig.root.unbind('remove')\n",
       "\n",
       "    // Update the output cell to use the data from the current canvas.\n",
       "    fig.push_to_output();\n",
       "    var dataURL = fig.canvas.toDataURL();\n",
       "    // Re-enable the keyboard manager in IPython - without this line, in FF,\n",
       "    // the notebook keyboard shortcuts fail.\n",
       "    IPython.keyboard_manager.enable()\n",
       "    $(fig.parent_element).html('<img src=\"' + dataURL + '\" width=\"' + width + '\">');\n",
       "    fig.close_ws(fig, msg);\n",
       "}\n",
       "\n",
       "mpl.figure.prototype.close_ws = function(fig, msg){\n",
       "    fig.send_message('closing', msg);\n",
       "    // fig.ws.close()\n",
       "}\n",
       "\n",
       "mpl.figure.prototype.push_to_output = function(remove_interactive) {\n",
       "    // Turn the data on the canvas into data in the output cell.\n",
       "    var width = this.canvas.width/mpl.ratio\n",
       "    var dataURL = this.canvas.toDataURL();\n",
       "    this.cell_info[1]['text/html'] = '<img src=\"' + dataURL + '\" width=\"' + width + '\">';\n",
       "}\n",
       "\n",
       "mpl.figure.prototype.updated_canvas_event = function() {\n",
       "    // Tell IPython that the notebook contents must change.\n",
       "    IPython.notebook.set_dirty(true);\n",
       "    this.send_message(\"ack\", {});\n",
       "    var fig = this;\n",
       "    // Wait a second, then push the new image to the DOM so\n",
       "    // that it is saved nicely (might be nice to debounce this).\n",
       "    setTimeout(function () { fig.push_to_output() }, 1000);\n",
       "}\n",
       "\n",
       "mpl.figure.prototype._init_toolbar = function() {\n",
       "    var fig = this;\n",
       "\n",
       "    var nav_element = $('<div/>')\n",
       "    nav_element.attr('style', 'width: 100%');\n",
       "    this.root.append(nav_element);\n",
       "\n",
       "    // Define a callback function for later on.\n",
       "    function toolbar_event(event) {\n",
       "        return fig.toolbar_button_onclick(event['data']);\n",
       "    }\n",
       "    function toolbar_mouse_event(event) {\n",
       "        return fig.toolbar_button_onmouseover(event['data']);\n",
       "    }\n",
       "\n",
       "    for(var toolbar_ind in mpl.toolbar_items){\n",
       "        var name = mpl.toolbar_items[toolbar_ind][0];\n",
       "        var tooltip = mpl.toolbar_items[toolbar_ind][1];\n",
       "        var image = mpl.toolbar_items[toolbar_ind][2];\n",
       "        var method_name = mpl.toolbar_items[toolbar_ind][3];\n",
       "\n",
       "        if (!name) { continue; };\n",
       "\n",
       "        var button = $('<button class=\"btn btn-default\" href=\"#\" title=\"' + name + '\"><i class=\"fa ' + image + ' fa-lg\"></i></button>');\n",
       "        button.click(method_name, toolbar_event);\n",
       "        button.mouseover(tooltip, toolbar_mouse_event);\n",
       "        nav_element.append(button);\n",
       "    }\n",
       "\n",
       "    // Add the status bar.\n",
       "    var status_bar = $('<span class=\"mpl-message\" style=\"text-align:right; float: right;\"/>');\n",
       "    nav_element.append(status_bar);\n",
       "    this.message = status_bar[0];\n",
       "\n",
       "    // Add the close button to the window.\n",
       "    var buttongrp = $('<div class=\"btn-group inline pull-right\"></div>');\n",
       "    var button = $('<button class=\"btn btn-mini btn-primary\" href=\"#\" title=\"Stop Interaction\"><i class=\"fa fa-power-off icon-remove icon-large\"></i></button>');\n",
       "    button.click(function (evt) { fig.handle_close(fig, {}); } );\n",
       "    button.mouseover('Stop Interaction', toolbar_mouse_event);\n",
       "    buttongrp.append(button);\n",
       "    var titlebar = this.root.find($('.ui-dialog-titlebar'));\n",
       "    titlebar.prepend(buttongrp);\n",
       "}\n",
       "\n",
       "mpl.figure.prototype._root_extra_style = function(el){\n",
       "    var fig = this\n",
       "    el.on(\"remove\", function(){\n",
       "\tfig.close_ws(fig, {});\n",
       "    });\n",
       "}\n",
       "\n",
       "mpl.figure.prototype._canvas_extra_style = function(el){\n",
       "    // this is important to make the div 'focusable\n",
       "    el.attr('tabindex', 0)\n",
       "    // reach out to IPython and tell the keyboard manager to turn it's self\n",
       "    // off when our div gets focus\n",
       "\n",
       "    // location in version 3\n",
       "    if (IPython.notebook.keyboard_manager) {\n",
       "        IPython.notebook.keyboard_manager.register_events(el);\n",
       "    }\n",
       "    else {\n",
       "        // location in version 2\n",
       "        IPython.keyboard_manager.register_events(el);\n",
       "    }\n",
       "\n",
       "}\n",
       "\n",
       "mpl.figure.prototype._key_event_extra = function(event, name) {\n",
       "    var manager = IPython.notebook.keyboard_manager;\n",
       "    if (!manager)\n",
       "        manager = IPython.keyboard_manager;\n",
       "\n",
       "    // Check for shift+enter\n",
       "    if (event.shiftKey && event.which == 13) {\n",
       "        this.canvas_div.blur();\n",
       "        event.shiftKey = false;\n",
       "        // Send a \"J\" for go to next cell\n",
       "        event.which = 74;\n",
       "        event.keyCode = 74;\n",
       "        manager.command_mode();\n",
       "        manager.handle_keydown(event);\n",
       "    }\n",
       "}\n",
       "\n",
       "mpl.figure.prototype.handle_save = function(fig, msg) {\n",
       "    fig.ondownload(fig, null);\n",
       "}\n",
       "\n",
       "\n",
       "mpl.find_output_cell = function(html_output) {\n",
       "    // Return the cell and output element which can be found *uniquely* in the notebook.\n",
       "    // Note - this is a bit hacky, but it is done because the \"notebook_saving.Notebook\"\n",
       "    // IPython event is triggered only after the cells have been serialised, which for\n",
       "    // our purposes (turning an active figure into a static one), is too late.\n",
       "    var cells = IPython.notebook.get_cells();\n",
       "    var ncells = cells.length;\n",
       "    for (var i=0; i<ncells; i++) {\n",
       "        var cell = cells[i];\n",
       "        if (cell.cell_type === 'code'){\n",
       "            for (var j=0; j<cell.output_area.outputs.length; j++) {\n",
       "                var data = cell.output_area.outputs[j];\n",
       "                if (data.data) {\n",
       "                    // IPython >= 3 moved mimebundle to data attribute of output\n",
       "                    data = data.data;\n",
       "                }\n",
       "                if (data['text/html'] == html_output) {\n",
       "                    return [cell, data, j];\n",
       "                }\n",
       "            }\n",
       "        }\n",
       "    }\n",
       "}\n",
       "\n",
       "// Register the function which deals with the matplotlib target/channel.\n",
       "// The kernel may be null if the page has been refreshed.\n",
       "if (IPython.notebook.kernel != null) {\n",
       "    IPython.notebook.kernel.comm_manager.register_target('matplotlib', mpl.mpl_figure_comm);\n",
       "}\n"
      ],
      "text/plain": [
       "<IPython.core.display.Javascript object>"
      ]
     },
     "metadata": {},
     "output_type": "display_data"
    },
    {
     "data": {
      "text/html": [
       "<img src=\"data:image/png;base64,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\" width=\"432\">"
      ],
      "text/plain": [
       "<IPython.core.display.HTML object>"
      ]
     },
     "metadata": {},
     "output_type": "display_data"
    }
   ],
   "source": [
    "ax = plot_fun(lambda x,y,p: N(x,y,p), p=a.p, title='Neural Network Solution')"
   ]
  },
  {
   "cell_type": "code",
   "execution_count": null,
   "metadata": {},
   "outputs": [],
   "source": []
  },
  {
   "cell_type": "code",
   "execution_count": 34,
   "metadata": {},
   "outputs": [
    {
     "data": {
      "text/plain": [
       "0.8904494439917413"
      ]
     },
     "execution_count": 34,
     "metadata": {},
     "output_type": "execute_result"
    }
   ],
   "source": [
    "relative_err(a.p, nx=200)"
   ]
  },
  {
   "cell_type": "code",
   "execution_count": 41,
   "metadata": {},
   "outputs": [
    {
     "data": {
      "text/plain": [
       "0.9629782954313078"
      ]
     },
     "execution_count": 41,
     "metadata": {},
     "output_type": "execute_result"
    }
   ],
   "source": [
    "relative_err(a.p, nx=200)"
   ]
  },
  {
   "cell_type": "code",
   "execution_count": null,
   "metadata": {},
   "outputs": [],
   "source": []
  },
  {
   "cell_type": "code",
   "execution_count": 37,
   "metadata": {},
   "outputs": [],
   "source": [
    "a.save_result('eq1_0')"
   ]
  },
  {
   "cell_type": "code",
   "execution_count": null,
   "metadata": {},
   "outputs": [],
   "source": []
  },
  {
   "cell_type": "code",
   "execution_count": 38,
   "metadata": {},
   "outputs": [],
   "source": [
    "a.p = np.load('output/20191223-1713_eq1_0_nn_params.npz')['arr_0']"
   ]
  },
  {
   "cell_type": "code",
   "execution_count": 39,
   "metadata": {},
   "outputs": [
    {
     "data": {
      "text/plain": [
       "array([array([[-4.88857722],\n",
       "       [10.44491206]]), array([-3.10073557]),\n",
       "       array([-0.05831881])], dtype=object)"
      ]
     },
     "execution_count": 39,
     "metadata": {},
     "output_type": "execute_result"
    }
   ],
   "source": [
    "a.p"
   ]
  },
  {
   "cell_type": "code",
   "execution_count": null,
   "metadata": {},
   "outputs": [],
   "source": []
  },
  {
   "cell_type": "code",
   "execution_count": null,
   "metadata": {},
   "outputs": [],
   "source": []
  },
  {
   "cell_type": "code",
   "execution_count": null,
   "metadata": {},
   "outputs": [],
   "source": []
  }
 ],
 "metadata": {
  "kernelspec": {
   "display_name": "Python 3",
   "language": "python",
   "name": "python3"
  },
  "language_info": {
   "codemirror_mode": {
    "name": "ipython",
    "version": 3
   },
   "file_extension": ".py",
   "mimetype": "text/x-python",
   "name": "python",
   "nbconvert_exporter": "python",
   "pygments_lexer": "ipython3",
   "version": "3.6.7"
  },
  "notify_time": "30",
  "toc": {
   "base_numbering": 1,
   "nav_menu": {},
   "number_sections": true,
   "sideBar": true,
   "skip_h1_title": false,
   "title_cell": "Table of Contents",
   "title_sidebar": "Contents",
   "toc_cell": false,
   "toc_position": {
    "height": "calc(100% - 180px)",
    "left": "10px",
    "top": "150px",
    "width": "216.797px"
   },
   "toc_section_display": true,
   "toc_window_display": false
  },
  "varInspector": {
   "cols": {
    "lenName": 16,
    "lenType": 16,
    "lenVar": 40
   },
   "kernels_config": {
    "python": {
     "delete_cmd_postfix": "",
     "delete_cmd_prefix": "del ",
     "library": "var_list.py",
     "varRefreshCmd": "print(var_dic_list())"
    },
    "r": {
     "delete_cmd_postfix": ") ",
     "delete_cmd_prefix": "rm(",
     "library": "var_list.r",
     "varRefreshCmd": "cat(var_dic_list()) "
    }
   },
   "types_to_exclude": [
    "module",
    "function",
    "builtin_function_or_method",
    "instance",
    "_Feature"
   ],
   "window_display": false
  }
 },
 "nbformat": 4,
 "nbformat_minor": 2
}
