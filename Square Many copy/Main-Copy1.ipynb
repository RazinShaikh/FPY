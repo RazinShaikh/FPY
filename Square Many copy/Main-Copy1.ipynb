{
 "cells": [
  {
   "cell_type": "markdown",
   "metadata": {
    "heading_collapsed": true,
    "slideshow": {
     "slide_type": "-"
    }
   },
   "source": [
    "# Imports"
   ]
  },
  {
   "cell_type": "code",
   "execution_count": 1,
   "metadata": {
    "hidden": true
   },
   "outputs": [
    {
     "name": "stdout",
     "output_type": "stream",
     "text": [
      "Pixiedust database opened successfully\n"
     ]
    },
    {
     "data": {
      "text/html": [
       "\n",
       "        <div style=\"margin:10px\">\n",
       "            <a href=\"https://github.com/ibm-watson-data-lab/pixiedust\" target=\"_new\">\n",
       "                <img src=\"https://github.com/ibm-watson-data-lab/pixiedust/raw/master/docs/_static/pd_icon32.png\" style=\"float:left;margin-right:10px\"/>\n",
       "            </a>\n",
       "            <span>Pixiedust version 1.1.14</span>\n",
       "        </div>\n",
       "        "
      ],
      "text/plain": [
       "<IPython.core.display.HTML object>"
      ]
     },
     "metadata": {},
     "output_type": "display_data"
    },
    {
     "name": "stdout",
     "output_type": "stream",
     "text": [
      "Unable to check latest version <urlopen error [Errno 101] Network is unreachable>\n"
     ]
    }
   ],
   "source": [
    "import numpy as np\n",
    "import itertools\n",
    "import time\n",
    "from matplotlib import pyplot as plt\n",
    "from mpl_toolkits.mplot3d import Axes3D\n",
    "from matplotlib import cm\n",
    "import pixiedust"
   ]
  },
  {
   "cell_type": "markdown",
   "metadata": {
    "heading_collapsed": true
   },
   "source": [
    "# Introduction"
   ]
  },
  {
   "cell_type": "markdown",
   "metadata": {
    "hidden": true
   },
   "source": [
    "Consider the following equation:\n",
    "$$\\Delta_p \\Psi(x,y)=f(x,y)$$\n",
    "\n",
    "$x \\in [0,1],\\ y \\in [0,1]$ with *Dirichlet* BC: $\\Psi(0,y) = 0$, $\\Psi(1,y) = 0$, $\\Psi(x,0) = 0$ and $\\Psi(x,1) = 0$.\n",
    "\n",
    "For this first attempt, we will take $p=2$."
   ]
  },
  {
   "cell_type": "markdown",
   "metadata": {
    "heading_collapsed": true
   },
   "source": [
    "# Defining functions"
   ]
  },
  {
   "cell_type": "markdown",
   "metadata": {
    "heading_collapsed": true,
    "hidden": true
   },
   "source": [
    "## Sigmoid"
   ]
  },
  {
   "cell_type": "markdown",
   "metadata": {
    "hidden": true
   },
   "source": [
    "Sigmoid $\\sigma(x) = \\frac{1}{1+e^{-x}}$ and its derrivatives."
   ]
  },
  {
   "cell_type": "markdown",
   "metadata": {
    "hidden": true
   },
   "source": [
    "Sigmoid with parameter $t$\n",
    "$$ \\sigma_t(x) = \\frac{1}{1+e^{-tx}}$$"
   ]
  },
  {
   "cell_type": "code",
   "execution_count": 2,
   "metadata": {
    "hidden": true
   },
   "outputs": [],
   "source": [
    "T = 1"
   ]
  },
  {
   "cell_type": "code",
   "execution_count": 3,
   "metadata": {
    "hidden": true
   },
   "outputs": [],
   "source": [
    "def sig(x):\n",
    "    return 1 / (1 + np.exp(-T*x))\n",
    "\n",
    "def sig1(x):\n",
    "    return T * sig(x) * (1 - sig(x))\n",
    "\n",
    "def sig2(x):\n",
    "    return T * (sig1(x) - 2*sig(x)*sig1(x))\n",
    "\n",
    "def sig3(x):\n",
    "    return T * (sig2(x) - 2 * (sig1(x)**2 + sig(x) * sig2(x)))\n",
    "\n",
    "def sig_pr(x, k):\n",
    "    if k==0:\n",
    "        return sig(x)\n",
    "    if k==1:\n",
    "        return sig1(x)\n",
    "    if k==2:\n",
    "        return sig2(x)\n",
    "    if k==3:\n",
    "        return sig3(x)"
   ]
  },
  {
   "cell_type": "markdown",
   "metadata": {
    "heading_collapsed": true,
    "hidden": true
   },
   "source": [
    "## RHS"
   ]
  },
  {
   "cell_type": "markdown",
   "metadata": {
    "hidden": true
   },
   "source": [
    "The right side of the equation:  $\\Delta\\Psi(x,y) = 6 x (x-1) (1-2 y) + 2 y (y-1) (1-2 y)$"
   ]
  },
  {
   "cell_type": "code",
   "execution_count": 4,
   "metadata": {
    "hidden": true
   },
   "outputs": [],
   "source": [
    "K=1\n",
    "def f(x, y):\n",
    "    return K * (6*(x-1)*x*(1-2*y) + 2*(y-1)*y*(1-2*y))"
   ]
  },
  {
   "cell_type": "markdown",
   "metadata": {
    "hidden": true
   },
   "source": [
    "The analytic solution is given by: $\\ \\Psi_a(x,y) = x (1-x) y (1-y) (1-2 y)$"
   ]
  },
  {
   "cell_type": "code",
   "execution_count": 5,
   "metadata": {
    "hidden": true
   },
   "outputs": [],
   "source": [
    "# def psi_a(x, y):\n",
    "#     return y * (1-y) * np.sin(np.pi * x)\n",
    "\n",
    "def psi_a(x, y):\n",
    "    return K * x*(1-x)*y*(1-y)*(1-2*y)"
   ]
  },
  {
   "cell_type": "markdown",
   "metadata": {
    "hidden": true
   },
   "source": [
    "$$\\frac{\\partial}{\\partial x} \\Psi_a = (1-2x) y (1-y) (1-2 y)$$"
   ]
  },
  {
   "cell_type": "code",
   "execution_count": 6,
   "metadata": {
    "hidden": true
   },
   "outputs": [],
   "source": [
    "def psi_a_dx(x,y):\n",
    "    return K * (1-2*x)*y*(1-y)*(1-2*y)"
   ]
  },
  {
   "cell_type": "markdown",
   "metadata": {
    "hidden": true
   },
   "source": [
    "$$\\frac{\\partial}{\\partial y} \\Psi_a = x (1-x) (1-6y + 6y^2) $$"
   ]
  },
  {
   "cell_type": "code",
   "execution_count": 7,
   "metadata": {
    "hidden": true
   },
   "outputs": [],
   "source": [
    "def psi_a_dy(x,y):\n",
    "    return K * x*(1-x)*(1-6*y+6*(y**2))"
   ]
  },
  {
   "cell_type": "markdown",
   "metadata": {
    "heading_collapsed": true,
    "hidden": true
   },
   "source": [
    "## Neural Network"
   ]
  },
  {
   "cell_type": "markdown",
   "metadata": {
    "hidden": true
   },
   "source": [
    "The output of neural network $N(x,y,\\vec{p})$, where $\\vec{p} = [w, u, v]$:\n",
    "$$N = \\sum_i^H v_i \\sigma(z_i) \\text{, where } z_i = w_{i0} x + w_{i1} y + u_i$$"
   ]
  },
  {
   "cell_type": "code",
   "execution_count": 8,
   "metadata": {
    "code_folding": [],
    "hidden": true
   },
   "outputs": [],
   "source": [
    "def z(x, y, p):\n",
    "    z_x = np.multiply(x, p[0][0])\n",
    "    z_y = np.multiply(y, p[0][1])\n",
    "    z_ = np.array([z_x, z_y, p[1]]).sum(axis=0)\n",
    "    return z_\n",
    "\n",
    "def N(x, y, p):\n",
    "    return np.sum(np.multiply(sig(z(x,y,p)), p[2]))"
   ]
  },
  {
   "cell_type": "markdown",
   "metadata": {
    "hidden": true
   },
   "source": [
    "$$\\frac{\\partial^k N}{\\partial x_j^k} = \\sum_{i=1}^H v_i w_{ij}^k \\sigma^{(k)}$$"
   ]
  },
  {
   "cell_type": "code",
   "execution_count": 9,
   "metadata": {
    "code_folding": [],
    "hidden": true
   },
   "outputs": [],
   "source": [
    "def dN_dxj_k(x, y, p, j, k):\n",
    "    wj = p[0][j]\n",
    "    v = p[2]\n",
    "    z_ = z(x, y, p)\n",
    "    \n",
    "    return np.sum(v * (wj**k) * sig_pr(z_, k))"
   ]
  },
  {
   "cell_type": "markdown",
   "metadata": {
    "hidden": true
   },
   "source": [
    "$$\\frac{\\partial N}{\\partial w_j} = x_j v \\sigma '$$"
   ]
  },
  {
   "cell_type": "code",
   "execution_count": 10,
   "metadata": {
    "code_folding": [],
    "hidden": true
   },
   "outputs": [],
   "source": [
    "def dN_dwj(x, y, p, j):\n",
    "    xj = x if j==0 else y\n",
    "    v = p[2]\n",
    "    z_ = z(x, y, p)\n",
    "    return xj * v * sig1(z_)"
   ]
  },
  {
   "cell_type": "markdown",
   "metadata": {
    "hidden": true
   },
   "source": [
    "$$ \\frac{\\partial}{\\partial w_j} \\frac{\\partial N}{\\partial x_k} = x_j v w_k \\sigma'' + v_i \\sigma' \\quad\\text{ if } j = k$$\n",
    "\n",
    "$$ \\frac{\\partial}{\\partial w_j} \\frac{\\partial N}{\\partial x_k} = x_j v w_k \\sigma'' \\quad\\text{ if } j \\neq k$$"
   ]
  },
  {
   "cell_type": "code",
   "execution_count": 11,
   "metadata": {
    "code_folding": [],
    "hidden": true
   },
   "outputs": [],
   "source": [
    "def d_dwj_dN_dxk(x, y, p, j, k):\n",
    "    xj = x if j==0 else y\n",
    "    wk = p[0][k]\n",
    "    jk = 1 if j==k else 0\n",
    "    v = p[2]\n",
    "    z_ = z(x, y, p)\n",
    "    return xj * v * wk * sig2(z_) + jk * v * sig1(z_)"
   ]
  },
  {
   "cell_type": "markdown",
   "metadata": {
    "hidden": true
   },
   "source": [
    "$$ \\frac{\\partial}{\\partial w_j} \\frac{\\partial^2 N}{\\partial x_k^2} = x_j v w_k^2 \\sigma^{(3)} + 2 v w_k \\sigma'' \\quad\\text{ if } j = k $$\n",
    "\n",
    "$$ \\frac{\\partial}{\\partial w_j} \\frac{\\partial^2 N}{\\partial x_k^2} = x_j v w_k^2 \\sigma^{(3)} \\quad\\text{ if } j \\neq k $$"
   ]
  },
  {
   "cell_type": "code",
   "execution_count": 12,
   "metadata": {
    "code_folding": [],
    "hidden": true
   },
   "outputs": [],
   "source": [
    "def d_dwj_dN2_dxk2(x, y, p, j, k):\n",
    "    xj = x if j==0 else y\n",
    "    wk = p[0][k]\n",
    "    jk = 1 if j==k else 0\n",
    "    v = p[2]\n",
    "    z_ = z(x, y, p)\n",
    "    return xj * v * (wk**2) * sig3(z_) + jk * 2 * v * wk * sig2(z_)"
   ]
  },
  {
   "cell_type": "markdown",
   "metadata": {
    "hidden": true
   },
   "source": [
    "$$ \\frac{\\partial}{\\partial u} \\frac{\\partial^k}{\\partial x_j^k} N = v w_j^k \\sigma^{(k+1)} $$"
   ]
  },
  {
   "cell_type": "code",
   "execution_count": 13,
   "metadata": {
    "code_folding": [],
    "hidden": true
   },
   "outputs": [],
   "source": [
    "def d_du_dkN(x, y, p, j, k):\n",
    "    v = p[2]\n",
    "    wj = p[0][j]\n",
    "    z_ = z(x, y, p)\n",
    "    return v * (wj**k) * sig_pr(z_, k+1)"
   ]
  },
  {
   "cell_type": "markdown",
   "metadata": {
    "hidden": true
   },
   "source": [
    "$$ \\frac{\\partial}{\\partial v} \\frac{\\partial^k}{\\partial x_j^k} N = w_j^k \\sigma^{(k)} $$"
   ]
  },
  {
   "cell_type": "code",
   "execution_count": 14,
   "metadata": {
    "code_folding": [],
    "hidden": true
   },
   "outputs": [],
   "source": [
    "def d_dv_dkN(x, y, p, j, k):\n",
    "    wj = p[0][j]\n",
    "    z_ = z(x, y, p)\n",
    "    return (wj**k) * sig_pr(z_, k)"
   ]
  },
  {
   "cell_type": "markdown",
   "metadata": {
    "heading_collapsed": true,
    "hidden": true
   },
   "source": [
    "## Cost function"
   ]
  },
  {
   "cell_type": "markdown",
   "metadata": {
    "hidden": true
   },
   "source": [
    "$$E[\\vec{p}] = \\sum_{i \\in \\hat{D}} \\left\\{ \\frac{\\partial^2 N}{\\partial x^2} + \\frac{\\partial^2 N}{\\partial y^2} - f(x,y) \\right\\}^2 \n",
    "           +  \\sum_{i \\in \\partial \\hat{D}} N^2$$"
   ]
  },
  {
   "cell_type": "code",
   "execution_count": 15,
   "metadata": {
    "hidden": true
   },
   "outputs": [],
   "source": [
    "BC=1"
   ]
  },
  {
   "cell_type": "code",
   "execution_count": 16,
   "metadata": {
    "code_folding": [],
    "hidden": true
   },
   "outputs": [],
   "source": [
    "def error_term1(x, y, p):\n",
    "    return dN_dxj_k(x,y,p,0,2)  +  dN_dxj_k(x,y,p,1,2)  -  f(x,y)"
   ]
  },
  {
   "cell_type": "code",
   "execution_count": 17,
   "metadata": {
    "code_folding": [],
    "hidden": true
   },
   "outputs": [],
   "source": [
    "def cost(points, boundary_points, p):\n",
    "    et1 = []\n",
    "    et2 = []\n",
    "    for x, y in points:\n",
    "        err_sq = error_term1(x, y, p)**2\n",
    "        et1.append(err_sq)\n",
    "    \n",
    "    for x, y in boundary_points:\n",
    "        err_sq = N(x,y,p)**2\n",
    "        et2.append(err_sq)\n",
    "        \n",
    "    cost = sum(et1) + BC*sum(et2)\n",
    "    \n",
    "    return cost"
   ]
  },
  {
   "cell_type": "code",
   "execution_count": 18,
   "metadata": {
    "hidden": true
   },
   "outputs": [],
   "source": [
    "def relative_err(p, nx=100, all_points=None):\n",
    "    if all_points ==None:\n",
    "        all_points = list(itertools.product(np.linspace(0, 1, nx), np.linspace(0, 1, nx)))\n",
    "\n",
    "    dOmega = 1. / len(all_points)\n",
    "\n",
    "    trial1 = np.sum(dOmega*np.array([np.linalg.norm(N(x,y,p) - psi_a(x,y))**2\n",
    "                                     for x, y in all_points]))\n",
    "\n",
    "    trial2 = np.sum([dOmega*((dN_dxj_k(x,y,p,0,1)-psi_a_dx(x,y))**2 +\n",
    "                             (dN_dxj_k(x,y,p,1,1)-psi_a_dy(x,y))**2)\n",
    "                     for x, y in all_points])\n",
    "\n",
    "    ana1 = np.sum(dOmega*np.array([np.linalg.norm(psi_a(x,y))**2\n",
    "                                         for x, y in all_points]))\n",
    "    ana2 = np.sum([dOmega*(psi_a_dx(x,y)**2 + psi_a_dy(x,y)**2)\n",
    "                   for x, y in all_points])\n",
    "    \n",
    "    rel_err = (trial1 + trial2)**(1/2) / (ana1 + ana2)**(1/2)\n",
    "    \n",
    "    return rel_err"
   ]
  },
  {
   "cell_type": "markdown",
   "metadata": {
    "heading_collapsed": true
   },
   "source": [
    "# Gradients"
   ]
  },
  {
   "cell_type": "markdown",
   "metadata": {
    "hidden": true
   },
   "source": [
    "$$ \\frac{\\partial E[\\vec{p}]}{\\partial w_j} = \\sum_{i \\in \\hat{D}} \\left\\{ 2 \\text{ (error_term1) } \\left( \\frac{\\partial}{\\partial w_j} \\frac{\\partial^2 N}{\\partial x^2} + \\frac{\\partial}{\\partial w_j} \\frac{\\partial^2 N}{\\partial y^2} \\right) \\right\\}  +  \\sum_{i \\in \\partial \\hat{D}} 2 N \\frac{\\partial N}{\\partial w_j}$$"
   ]
  },
  {
   "cell_type": "code",
   "execution_count": 19,
   "metadata": {
    "code_folding": [],
    "hidden": true
   },
   "outputs": [],
   "source": [
    "def dE_dwj(points, boundary_points, p, j):\n",
    "    t1 = []\n",
    "    t2 = []\n",
    "    for x, y in points:\n",
    "        tmp = 2 * error_term1(x,y,p) * (d_dwj_dN2_dxk2(x,y,p,j,0) + d_dwj_dN2_dxk2(x,y,p,j,1))\n",
    "        t1.append(tmp)\n",
    "        \n",
    "    for x, y in boundary_points:\n",
    "        tmp = 2 * N(x,y,p) * dN_dwj(x,y,p,j)\n",
    "        t2.append(tmp)\n",
    "    \n",
    "    grad = sum(t1) + BC*sum(t2)\n",
    "    \n",
    "    return grad"
   ]
  },
  {
   "cell_type": "markdown",
   "metadata": {
    "hidden": true
   },
   "source": [
    "$$ \\frac{\\partial E[\\vec{p}]}{\\partial u} = \\sum_{i \\in \\hat{D}} \\left\\{ 2 \\text{ (error_term1) } \\left( \\frac{\\partial}{\\partial u} \\frac{\\partial^2 N}{\\partial x^2} + \\frac{\\partial}{\\partial u} \\frac{\\partial^2 N}{\\partial y^2} \\right) \\right\\} +  \\sum_{i \\in \\partial \\hat{D}} 2 N \\frac{\\partial N}{\\partial u}$$"
   ]
  },
  {
   "cell_type": "code",
   "execution_count": 20,
   "metadata": {
    "code_folding": [],
    "hidden": true
   },
   "outputs": [],
   "source": [
    "def dE_du(points, boundary_points, p):\n",
    "    t1 = []\n",
    "    t2 = []\n",
    "    for x, y in points:\n",
    "        tmp = 2 * error_term1(x,y,p) * (d_du_dkN(x,y,p,0,2) + d_du_dkN(x,y,p,1,2))\n",
    "        t1.append(tmp)\n",
    "        \n",
    "    for x, y in boundary_points:\n",
    "        tmp = 2 * N(x,y,p) * d_du_dkN(x,y,p,0,0)\n",
    "        t2.append(tmp)\n",
    "    \n",
    "    grad = sum(t1) + BC*sum(t2)\n",
    "    \n",
    "    return grad"
   ]
  },
  {
   "cell_type": "markdown",
   "metadata": {
    "hidden": true
   },
   "source": [
    "$$ \\frac{\\partial E[\\vec{p}]}{\\partial v} = \\sum_{i \\in \\hat{D}} \\left\\{ 2 \\text{ (error_term1) } \\left( \\frac{\\partial}{\\partial v} \\frac{\\partial^2 N}{\\partial x^2} + \\frac{\\partial}{\\partial v} \\frac{\\partial^2 N}{\\partial y^2} \\right) \\right\\}  +  \\sum_{i \\in \\partial \\hat{D}} 2 N \\frac{\\partial N}{\\partial v}$$"
   ]
  },
  {
   "cell_type": "code",
   "execution_count": 21,
   "metadata": {
    "code_folding": [],
    "hidden": true
   },
   "outputs": [],
   "source": [
    "def dE_dv(points, boundary_points, p):\n",
    "    t1 = []\n",
    "    t2 = []\n",
    "    for x, y in points:\n",
    "        tmp = 2 * error_term1(x,y,p) * (d_dv_dkN(x,y,p,0,2) + d_dv_dkN(x,y,p,1,2))\n",
    "        t1.append(tmp)\n",
    "        \n",
    "    for x, y in boundary_points:\n",
    "        tmp = 2 * N(x,y,p) * d_dv_dkN(x,y,p,0,0)\n",
    "        t2.append(tmp)\n",
    "    \n",
    "    grad = sum(t1) + BC*sum(t2)\n",
    "    \n",
    "    return grad"
   ]
  },
  {
   "cell_type": "markdown",
   "metadata": {
    "heading_collapsed": true
   },
   "source": [
    "# NN class"
   ]
  },
  {
   "cell_type": "code",
   "execution_count": 22,
   "metadata": {
    "hidden": true
   },
   "outputs": [],
   "source": [
    "def get_mini_batches(points, boundary_points, batch_size):\n",
    "    np.random.shuffle(points)\n",
    "    np.random.shuffle(boundary_points)\n",
    "    \n",
    "    no_of_splits = np.ceil( (len(points) + len(boundary_points)) / batch_size)\n",
    "\n",
    "    mini_batch_points = np.array_split(points, no_of_splits)\n",
    "    mini_batch_boundary_points = np.array_split(boundary_points, no_of_splits)\n",
    "    \n",
    "    return mini_batch_points, mini_batch_boundary_points"
   ]
  },
  {
   "cell_type": "code",
   "execution_count": 23,
   "metadata": {
    "code_folding": [
     57,
     63
    ],
    "hidden": true
   },
   "outputs": [],
   "source": [
    "class NNTrain:\n",
    "    def __init__(self, nx=10, bx=10, hidden_nodes=10, alpha=0.01, batch_size=50,\n",
    "                 beta=0.9, update_interval=50, if_rel_err=False, \n",
    "                 output_file='output/output.csv'):\n",
    "        \n",
    "        self.output_file = output_file\n",
    "        self.training_started = False\n",
    "        self.nx = nx\n",
    "        self.hidden_nodes = hidden_nodes\n",
    "        self.alpha = alpha\n",
    "        self.batch_size = batch_size\n",
    "        self.beta = beta\n",
    "        self.update_interval = update_interval\n",
    "        self.boundary_points = list(set(list(itertools.product([0, 1], np.linspace(0,1,bx))) +\n",
    "                                        list(itertools.product(np.linspace(0,1,bx), [0, 1]))))\n",
    "        pnts = list(itertools.product(np.linspace(0, 1, nx), np.linspace(0, 1, nx)))\n",
    "        self.points = [(x,y) for x,y in pnts if (x not in [0,1] and y not in [0,1])]\n",
    "        self.cost_rate = []\n",
    "        self.if_rel_err = if_rel_err\n",
    "        if self.if_rel_err:\n",
    "            self.rel_err = []\n",
    "        self.p = np.array([np.random.randn(2,hidden_nodes),\n",
    "                           np.random.randn(hidden_nodes),\n",
    "                           np.random.randn(hidden_nodes)])\n",
    "        self.m_t = np.array([np.zeros(hidden_nodes),\n",
    "                             np.zeros(hidden_nodes),\n",
    "                             np.zeros(hidden_nodes),\n",
    "                             np.zeros(hidden_nodes)])\n",
    "\n",
    "\n",
    "    def sgd_mt(self, w, g_t, theta_0):\n",
    "        #gradient descent with momentum\n",
    "        self.m_t[w] = self.beta * self.m_t[w] + (1-self.beta) * g_t\n",
    "        theta_0 = theta_0 - (self.alpha*self.m_t[w])\n",
    "            \n",
    "        return theta_0\n",
    "        \n",
    "\n",
    "    def train(self, itr=1000):\n",
    "        if self.training_started:\n",
    "            mode='a'\n",
    "        else:\n",
    "            mode='w'\n",
    "        self.training_started=True\n",
    "        \n",
    "        with open(self.output_file, mode) as file:\n",
    "            if mode=='w':\n",
    "                if self.if_rel_err:\n",
    "                    file.write('Iteration,Cost,Cost Diff,Relative Error,Relative Error Diff\\n')\n",
    "                else:\n",
    "                    file.write('Iteration,Cost,Cost Diff\\n')\n",
    "            start=len(self.cost_rate)-1\n",
    "            if start<1:\n",
    "                start+=1\n",
    "                self.cost_rate.append(cost(self.points,self.boundary_points,self.p))\n",
    "                if self.if_rel_err:\n",
    "                    self.rel_err.append(relative_err(self.p, all_points=self.points+self.boundary_points))\n",
    "\n",
    "            i = start\n",
    "            while i < start+itr:\n",
    "                mini_batch_points, mini_batch_boundary = get_mini_batches(self.points, self.boundary_points, self.batch_size)\n",
    "                \n",
    "                for mini_point, mini_boundary in zip(mini_batch_points, mini_batch_boundary):\n",
    "                    mini_point = list(mini_point)\n",
    "                    mini_boundary = list(mini_boundary)\n",
    "                    \n",
    "                    g_w0 = dE_dwj(mini_point, mini_boundary, self.p, 0)\n",
    "                    g_w1 = dE_dwj(mini_point, mini_boundary, self.p, 1)\n",
    "                    g_u = dE_du(mini_point, mini_boundary, self.p)\n",
    "                    g_v = dE_dv(mini_point, mini_boundary, self.p)\n",
    "\n",
    "                    self.p[0][0] = self.sgd_mt(0, g_w0, self.p[0][0])\n",
    "                    self.p[0][1] = self.sgd_mt(1, g_w1, self.p[0][1])\n",
    "                    self.p[1] = self.sgd_mt(2, g_u, self.p[1])\n",
    "                    self.p[2] = self.sgd_mt(3, g_v, self.p[2])\n",
    "                \n",
    "                self.cost_rate.append(cost(self.points,self.boundary_points,self.p))\n",
    "                cost_diff = self.cost_rate[i]-self.cost_rate[i+1]\n",
    "                if self.if_rel_err:\n",
    "                    self.rel_err.append(relative_err(self.p, all_points=self.points+self.boundary_points))\n",
    "                    rel_diff = self.rel_err[i]-self.rel_err[i+1]\n",
    "\n",
    "                if self.if_rel_err:\n",
    "                    file.write('{},{:.8f},{:.8f},{:.8f},{:.8f}\\n'.format(\n",
    "                        i+1,self.cost_rate[i+1], cost_diff,\n",
    "                        self.rel_err[i+1], rel_diff))\n",
    "                else:\n",
    "                    file.write('{},{:.8f},{:.8f}\\n'.format(\n",
    "                        i+1,self.cost_rate[i+1],\n",
    "                        cost_diff))\n",
    "\n",
    "                if i%self.update_interval==0:\n",
    "                    file.flush()\n",
    "                    \n",
    "                i+=1\n",
    "                \n",
    "                \n",
    "    def save_result(self, output_name=''):\n",
    "        timestr = time.strftime(\"%Y%m%d-%H%M\")\n",
    "        np.savez('output/'+ timestr + '_' + output_name +'_nn_params.npz', self.p)\n",
    "        np.savez('output/'+ timestr + '_' + output_name +'_cost_rate.npz', self.cost_rate)\n",
    "        if self.if_rel_err:\n",
    "            np.savez('output/'+ timestr + '_' + output_name +'_rel_err.npz', self.rel_err)"
   ]
  },
  {
   "cell_type": "code",
   "execution_count": null,
   "metadata": {
    "hidden": true
   },
   "outputs": [],
   "source": []
  },
  {
   "cell_type": "markdown",
   "metadata": {
    "heading_collapsed": true
   },
   "source": [
    "# Graphs"
   ]
  },
  {
   "cell_type": "code",
   "execution_count": 24,
   "metadata": {
    "hidden": true
   },
   "outputs": [],
   "source": [
    "%matplotlib notebook\n",
    "%matplotlib notebook"
   ]
  },
  {
   "cell_type": "markdown",
   "metadata": {
    "heading_collapsed": true,
    "hidden": true
   },
   "source": [
    "## Hidden Nodes"
   ]
  },
  {
   "cell_type": "code",
   "execution_count": 25,
   "metadata": {
    "hidden": true
   },
   "outputs": [],
   "source": [
    "def plot_nodes(a, save_name=None, save=True, zlim=True):\n",
    "    p = a.p\n",
    "    hmax = a.p[0][0].shape[0]\n",
    "    col = int(np.sqrt(hmax)) if int(np.sqrt(hmax)) < 10 else 10\n",
    "    row = np.ceil(hmax / col)\n",
    "    \n",
    "    d_x=0.1\n",
    "\n",
    "    fig = plt.figure(figsize=(col*3, row*3), dpi=100)\n",
    "    for h in range(1,hmax+1):\n",
    "        ax = fig.add_subplot(row,col,h, projection='3d')\n",
    "        x = y = np.arange(0, 1+d_x, d_x)\n",
    "        X, Y = np.meshgrid(x, y)\n",
    "\n",
    "        zs = np.array([p[1][h-1]*sig(z(x,y,p))[h-1] for x,y in zip(np.ravel(X), np.ravel(Y))])\n",
    "        Z = zs.reshape(X.shape)\n",
    "\n",
    "        ax.set_xlabel('x')\n",
    "        ax.set_ylabel('y')\n",
    "        if zlim:\n",
    "            ax.set_zlim(0,1)\n",
    "\n",
    "        ax.plot_surface(X, Y, Z, cmap=cm.coolwarm)\n",
    "        ax.title.set_text('HN: ' + str(h) + ', v=' + \"{:.4E}\".format(p[1][h-1]))\n",
    "        time.sleep(0.2)\n",
    "\n",
    "    if save==True:\n",
    "        if save_name is None: \n",
    "            plt.savefig('t'+str(T)+'_h'+str(hmax)+'_n'+str(a.nx)+'.png')\n",
    "        else:\n",
    "            plt.savefig(save_name)\n",
    "    else:\n",
    "        plt.show()"
   ]
  },
  {
   "cell_type": "markdown",
   "metadata": {
    "hidden": true
   },
   "source": [
    "## Error vs Iterations"
   ]
  },
  {
   "cell_type": "code",
   "execution_count": 26,
   "metadata": {
    "hidden": true
   },
   "outputs": [],
   "source": [
    "def plot_iteration(arr, min_it=0, max_it=None):\n",
    "    plt.figure()\n",
    "    plt.plot(np.arange(len(arr[min_it:max_it])), np.array(arr[min_it:max_it]))\n",
    "    plt.show()"
   ]
  },
  {
   "cell_type": "markdown",
   "metadata": {
    "hidden": true
   },
   "source": [
    "## Solution Accuracy on the domain"
   ]
  },
  {
   "cell_type": "code",
   "execution_count": 27,
   "metadata": {
    "hidden": true
   },
   "outputs": [],
   "source": [
    "def accuracy(p):\n",
    "    d_x=0.01\n",
    "    fig = plt.figure()\n",
    "    ax = fig.add_subplot(111, projection='3d')\n",
    "    x = y = np.arange(0, 1.0+d_x, d_x)\n",
    "    X, Y = np.meshgrid(x, y)\n",
    "\n",
    "    zs = np.array([psi_a(x,y)-psi_t(x,y,p) for x,y in zip(np.ravel(X), np.ravel(Y))])\n",
    "    Z = zs.reshape(X.shape)\n",
    "\n",
    "    ax.plot_surface(X, Y, Z, cmap=cm.coolwarm_r)\n",
    "    # ax.ticklabel_format(style='sci', axis='z', scilimits=(0,0), useOffset=True, useMathText=True)\n",
    "\n",
    "\n",
    "    ax.set_xlabel('x')\n",
    "    ax.set_ylabel('y')\n",
    "#     ax.set_zlabel('Accuracy')\n",
    "\n",
    "\n",
    "    plt.show()"
   ]
  },
  {
   "cell_type": "code",
   "execution_count": 28,
   "metadata": {
    "hidden": true
   },
   "outputs": [],
   "source": [
    "def plot_fun(fun, zlim=False, title=None, return_ax=False, **kwargs):\n",
    "    d_x=0.01\n",
    "    fig = plt.figure()\n",
    "    ax = fig.add_subplot(111, projection='3d')\n",
    "    x = y = np.arange(0, 1.0+d_x, d_x)\n",
    "    X, Y = np.meshgrid(x, y)\n",
    "\n",
    "    zs = np.array([fun(x,y,**kwargs) for x,y in zip(np.ravel(X), np.ravel(Y))])\n",
    "    Z = zs.reshape(X.shape)\n",
    "\n",
    "    ax.plot_surface(X, Y, Z, cmap=cm.coolwarm_r)\n",
    "    # ax.ticklabel_format(style='sci', axis='z', scilimits=(0,0), useOffset=True, useMathText=True)\n",
    "\n",
    "\n",
    "    ax.set_xlabel('x')\n",
    "    ax.set_ylabel('y')\n",
    "    ax.title.set_text(title)\n",
    "    \n",
    "    if zlim:\n",
    "        ax.set_zlim(0,1)\n",
    "\n",
    "    if return_ax:\n",
    "        return ax\n",
    "    else:\n",
    "        plt.show()"
   ]
  },
  {
   "cell_type": "code",
   "execution_count": null,
   "metadata": {
    "hidden": true
   },
   "outputs": [],
   "source": []
  },
  {
   "cell_type": "markdown",
   "metadata": {},
   "source": [
    "# Training"
   ]
  },
  {
   "cell_type": "code",
   "execution_count": 29,
   "metadata": {},
   "outputs": [],
   "source": [
    "K=10\n",
    "a = NNTrain(nx=40, bx=100, hidden_nodes=4, alpha=1e-4, batch_size=50, update_interval=10, if_rel_err=True, output_file='out/out1.csv')"
   ]
  },
  {
   "cell_type": "code",
   "execution_count": null,
   "metadata": {},
   "outputs": [],
   "source": [
    "BC=1\n",
    "a.train(100)\n",
    "\n",
    "thresh=1e-5\n",
    "for i in range(10000):\n",
    "    if a.alpha < 1e-9  or BC > 10000:\n",
    "        break\n",
    "    if np.mean([s-t for s, t in zip(a.cost_rate[-21:], a.cost_rate[-20:])]) < thresh:\n",
    "        BC=BC*10\n",
    "        a.alpha=a.alpha/10\n",
    "    a.train(100)"
   ]
  },
  {
   "cell_type": "markdown",
   "metadata": {},
   "source": [
    "Etc"
   ]
  },
  {
   "cell_type": "code",
   "execution_count": null,
   "metadata": {},
   "outputs": [],
   "source": [
    "print('alpha:', a.alpha)\n",
    "print('BC:', BC)\n",
    "print('relative error:', relative_err(a.p, nx=100))"
   ]
  },
  {
   "cell_type": "code",
   "execution_count": null,
   "metadata": {},
   "outputs": [],
   "source": [
    "plot_iteration(a.cost_rate, min_it=0)"
   ]
  },
  {
   "cell_type": "code",
   "execution_count": null,
   "metadata": {},
   "outputs": [],
   "source": [
    "plot_iteration(a.rel_err, min_it=0)"
   ]
  },
  {
   "cell_type": "code",
   "execution_count": null,
   "metadata": {},
   "outputs": [],
   "source": []
  },
  {
   "cell_type": "code",
   "execution_count": null,
   "metadata": {},
   "outputs": [],
   "source": []
  },
  {
   "cell_type": "code",
   "execution_count": 31,
   "metadata": {
    "scrolled": false
   },
   "outputs": [
    {
     "data": {
      "application/javascript": [
       "/* Put everything inside the global mpl namespace */\n",
       "window.mpl = {};\n",
       "\n",
       "\n",
       "mpl.get_websocket_type = function() {\n",
       "    if (typeof(WebSocket) !== 'undefined') {\n",
       "        return WebSocket;\n",
       "    } else if (typeof(MozWebSocket) !== 'undefined') {\n",
       "        return MozWebSocket;\n",
       "    } else {\n",
       "        alert('Your browser does not have WebSocket support.' +\n",
       "              'Please try Chrome, Safari or Firefox ≥ 6. ' +\n",
       "              'Firefox 4 and 5 are also supported but you ' +\n",
       "              'have to enable WebSockets in about:config.');\n",
       "    };\n",
       "}\n",
       "\n",
       "mpl.figure = function(figure_id, websocket, ondownload, parent_element) {\n",
       "    this.id = figure_id;\n",
       "\n",
       "    this.ws = websocket;\n",
       "\n",
       "    this.supports_binary = (this.ws.binaryType != undefined);\n",
       "\n",
       "    if (!this.supports_binary) {\n",
       "        var warnings = document.getElementById(\"mpl-warnings\");\n",
       "        if (warnings) {\n",
       "            warnings.style.display = 'block';\n",
       "            warnings.textContent = (\n",
       "                \"This browser does not support binary websocket messages. \" +\n",
       "                    \"Performance may be slow.\");\n",
       "        }\n",
       "    }\n",
       "\n",
       "    this.imageObj = new Image();\n",
       "\n",
       "    this.context = undefined;\n",
       "    this.message = undefined;\n",
       "    this.canvas = undefined;\n",
       "    this.rubberband_canvas = undefined;\n",
       "    this.rubberband_context = undefined;\n",
       "    this.format_dropdown = undefined;\n",
       "\n",
       "    this.image_mode = 'full';\n",
       "\n",
       "    this.root = $('<div/>');\n",
       "    this._root_extra_style(this.root)\n",
       "    this.root.attr('style', 'display: inline-block');\n",
       "\n",
       "    $(parent_element).append(this.root);\n",
       "\n",
       "    this._init_header(this);\n",
       "    this._init_canvas(this);\n",
       "    this._init_toolbar(this);\n",
       "\n",
       "    var fig = this;\n",
       "\n",
       "    this.waiting = false;\n",
       "\n",
       "    this.ws.onopen =  function () {\n",
       "            fig.send_message(\"supports_binary\", {value: fig.supports_binary});\n",
       "            fig.send_message(\"send_image_mode\", {});\n",
       "            if (mpl.ratio != 1) {\n",
       "                fig.send_message(\"set_dpi_ratio\", {'dpi_ratio': mpl.ratio});\n",
       "            }\n",
       "            fig.send_message(\"refresh\", {});\n",
       "        }\n",
       "\n",
       "    this.imageObj.onload = function() {\n",
       "            if (fig.image_mode == 'full') {\n",
       "                // Full images could contain transparency (where diff images\n",
       "                // almost always do), so we need to clear the canvas so that\n",
       "                // there is no ghosting.\n",
       "                fig.context.clearRect(0, 0, fig.canvas.width, fig.canvas.height);\n",
       "            }\n",
       "            fig.context.drawImage(fig.imageObj, 0, 0);\n",
       "        };\n",
       "\n",
       "    this.imageObj.onunload = function() {\n",
       "        fig.ws.close();\n",
       "    }\n",
       "\n",
       "    this.ws.onmessage = this._make_on_message_function(this);\n",
       "\n",
       "    this.ondownload = ondownload;\n",
       "}\n",
       "\n",
       "mpl.figure.prototype._init_header = function() {\n",
       "    var titlebar = $(\n",
       "        '<div class=\"ui-dialog-titlebar ui-widget-header ui-corner-all ' +\n",
       "        'ui-helper-clearfix\"/>');\n",
       "    var titletext = $(\n",
       "        '<div class=\"ui-dialog-title\" style=\"width: 100%; ' +\n",
       "        'text-align: center; padding: 3px;\"/>');\n",
       "    titlebar.append(titletext)\n",
       "    this.root.append(titlebar);\n",
       "    this.header = titletext[0];\n",
       "}\n",
       "\n",
       "\n",
       "\n",
       "mpl.figure.prototype._canvas_extra_style = function(canvas_div) {\n",
       "\n",
       "}\n",
       "\n",
       "\n",
       "mpl.figure.prototype._root_extra_style = function(canvas_div) {\n",
       "\n",
       "}\n",
       "\n",
       "mpl.figure.prototype._init_canvas = function() {\n",
       "    var fig = this;\n",
       "\n",
       "    var canvas_div = $('<div/>');\n",
       "\n",
       "    canvas_div.attr('style', 'position: relative; clear: both; outline: 0');\n",
       "\n",
       "    function canvas_keyboard_event(event) {\n",
       "        return fig.key_event(event, event['data']);\n",
       "    }\n",
       "\n",
       "    canvas_div.keydown('key_press', canvas_keyboard_event);\n",
       "    canvas_div.keyup('key_release', canvas_keyboard_event);\n",
       "    this.canvas_div = canvas_div\n",
       "    this._canvas_extra_style(canvas_div)\n",
       "    this.root.append(canvas_div);\n",
       "\n",
       "    var canvas = $('<canvas/>');\n",
       "    canvas.addClass('mpl-canvas');\n",
       "    canvas.attr('style', \"left: 0; top: 0; z-index: 0; outline: 0\")\n",
       "\n",
       "    this.canvas = canvas[0];\n",
       "    this.context = canvas[0].getContext(\"2d\");\n",
       "\n",
       "    var backingStore = this.context.backingStorePixelRatio ||\n",
       "\tthis.context.webkitBackingStorePixelRatio ||\n",
       "\tthis.context.mozBackingStorePixelRatio ||\n",
       "\tthis.context.msBackingStorePixelRatio ||\n",
       "\tthis.context.oBackingStorePixelRatio ||\n",
       "\tthis.context.backingStorePixelRatio || 1;\n",
       "\n",
       "    mpl.ratio = (window.devicePixelRatio || 1) / backingStore;\n",
       "\n",
       "    var rubberband = $('<canvas/>');\n",
       "    rubberband.attr('style', \"position: absolute; left: 0; top: 0; z-index: 1;\")\n",
       "\n",
       "    var pass_mouse_events = true;\n",
       "\n",
       "    canvas_div.resizable({\n",
       "        start: function(event, ui) {\n",
       "            pass_mouse_events = false;\n",
       "        },\n",
       "        resize: function(event, ui) {\n",
       "            fig.request_resize(ui.size.width, ui.size.height);\n",
       "        },\n",
       "        stop: function(event, ui) {\n",
       "            pass_mouse_events = true;\n",
       "            fig.request_resize(ui.size.width, ui.size.height);\n",
       "        },\n",
       "    });\n",
       "\n",
       "    function mouse_event_fn(event) {\n",
       "        if (pass_mouse_events)\n",
       "            return fig.mouse_event(event, event['data']);\n",
       "    }\n",
       "\n",
       "    rubberband.mousedown('button_press', mouse_event_fn);\n",
       "    rubberband.mouseup('button_release', mouse_event_fn);\n",
       "    // Throttle sequential mouse events to 1 every 20ms.\n",
       "    rubberband.mousemove('motion_notify', mouse_event_fn);\n",
       "\n",
       "    rubberband.mouseenter('figure_enter', mouse_event_fn);\n",
       "    rubberband.mouseleave('figure_leave', mouse_event_fn);\n",
       "\n",
       "    canvas_div.on(\"wheel\", function (event) {\n",
       "        event = event.originalEvent;\n",
       "        event['data'] = 'scroll'\n",
       "        if (event.deltaY < 0) {\n",
       "            event.step = 1;\n",
       "        } else {\n",
       "            event.step = -1;\n",
       "        }\n",
       "        mouse_event_fn(event);\n",
       "    });\n",
       "\n",
       "    canvas_div.append(canvas);\n",
       "    canvas_div.append(rubberband);\n",
       "\n",
       "    this.rubberband = rubberband;\n",
       "    this.rubberband_canvas = rubberband[0];\n",
       "    this.rubberband_context = rubberband[0].getContext(\"2d\");\n",
       "    this.rubberband_context.strokeStyle = \"#000000\";\n",
       "\n",
       "    this._resize_canvas = function(width, height) {\n",
       "        // Keep the size of the canvas, canvas container, and rubber band\n",
       "        // canvas in synch.\n",
       "        canvas_div.css('width', width)\n",
       "        canvas_div.css('height', height)\n",
       "\n",
       "        canvas.attr('width', width * mpl.ratio);\n",
       "        canvas.attr('height', height * mpl.ratio);\n",
       "        canvas.attr('style', 'width: ' + width + 'px; height: ' + height + 'px;');\n",
       "\n",
       "        rubberband.attr('width', width);\n",
       "        rubberband.attr('height', height);\n",
       "    }\n",
       "\n",
       "    // Set the figure to an initial 600x600px, this will subsequently be updated\n",
       "    // upon first draw.\n",
       "    this._resize_canvas(600, 600);\n",
       "\n",
       "    // Disable right mouse context menu.\n",
       "    $(this.rubberband_canvas).bind(\"contextmenu\",function(e){\n",
       "        return false;\n",
       "    });\n",
       "\n",
       "    function set_focus () {\n",
       "        canvas.focus();\n",
       "        canvas_div.focus();\n",
       "    }\n",
       "\n",
       "    window.setTimeout(set_focus, 100);\n",
       "}\n",
       "\n",
       "mpl.figure.prototype._init_toolbar = function() {\n",
       "    var fig = this;\n",
       "\n",
       "    var nav_element = $('<div/>')\n",
       "    nav_element.attr('style', 'width: 100%');\n",
       "    this.root.append(nav_element);\n",
       "\n",
       "    // Define a callback function for later on.\n",
       "    function toolbar_event(event) {\n",
       "        return fig.toolbar_button_onclick(event['data']);\n",
       "    }\n",
       "    function toolbar_mouse_event(event) {\n",
       "        return fig.toolbar_button_onmouseover(event['data']);\n",
       "    }\n",
       "\n",
       "    for(var toolbar_ind in mpl.toolbar_items) {\n",
       "        var name = mpl.toolbar_items[toolbar_ind][0];\n",
       "        var tooltip = mpl.toolbar_items[toolbar_ind][1];\n",
       "        var image = mpl.toolbar_items[toolbar_ind][2];\n",
       "        var method_name = mpl.toolbar_items[toolbar_ind][3];\n",
       "\n",
       "        if (!name) {\n",
       "            // put a spacer in here.\n",
       "            continue;\n",
       "        }\n",
       "        var button = $('<button/>');\n",
       "        button.addClass('ui-button ui-widget ui-state-default ui-corner-all ' +\n",
       "                        'ui-button-icon-only');\n",
       "        button.attr('role', 'button');\n",
       "        button.attr('aria-disabled', 'false');\n",
       "        button.click(method_name, toolbar_event);\n",
       "        button.mouseover(tooltip, toolbar_mouse_event);\n",
       "\n",
       "        var icon_img = $('<span/>');\n",
       "        icon_img.addClass('ui-button-icon-primary ui-icon');\n",
       "        icon_img.addClass(image);\n",
       "        icon_img.addClass('ui-corner-all');\n",
       "\n",
       "        var tooltip_span = $('<span/>');\n",
       "        tooltip_span.addClass('ui-button-text');\n",
       "        tooltip_span.html(tooltip);\n",
       "\n",
       "        button.append(icon_img);\n",
       "        button.append(tooltip_span);\n",
       "\n",
       "        nav_element.append(button);\n",
       "    }\n",
       "\n",
       "    var fmt_picker_span = $('<span/>');\n",
       "\n",
       "    var fmt_picker = $('<select/>');\n",
       "    fmt_picker.addClass('mpl-toolbar-option ui-widget ui-widget-content');\n",
       "    fmt_picker_span.append(fmt_picker);\n",
       "    nav_element.append(fmt_picker_span);\n",
       "    this.format_dropdown = fmt_picker[0];\n",
       "\n",
       "    for (var ind in mpl.extensions) {\n",
       "        var fmt = mpl.extensions[ind];\n",
       "        var option = $(\n",
       "            '<option/>', {selected: fmt === mpl.default_extension}).html(fmt);\n",
       "        fmt_picker.append(option)\n",
       "    }\n",
       "\n",
       "    // Add hover states to the ui-buttons\n",
       "    $( \".ui-button\" ).hover(\n",
       "        function() { $(this).addClass(\"ui-state-hover\");},\n",
       "        function() { $(this).removeClass(\"ui-state-hover\");}\n",
       "    );\n",
       "\n",
       "    var status_bar = $('<span class=\"mpl-message\"/>');\n",
       "    nav_element.append(status_bar);\n",
       "    this.message = status_bar[0];\n",
       "}\n",
       "\n",
       "mpl.figure.prototype.request_resize = function(x_pixels, y_pixels) {\n",
       "    // Request matplotlib to resize the figure. Matplotlib will then trigger a resize in the client,\n",
       "    // which will in turn request a refresh of the image.\n",
       "    this.send_message('resize', {'width': x_pixels, 'height': y_pixels});\n",
       "}\n",
       "\n",
       "mpl.figure.prototype.send_message = function(type, properties) {\n",
       "    properties['type'] = type;\n",
       "    properties['figure_id'] = this.id;\n",
       "    this.ws.send(JSON.stringify(properties));\n",
       "}\n",
       "\n",
       "mpl.figure.prototype.send_draw_message = function() {\n",
       "    if (!this.waiting) {\n",
       "        this.waiting = true;\n",
       "        this.ws.send(JSON.stringify({type: \"draw\", figure_id: this.id}));\n",
       "    }\n",
       "}\n",
       "\n",
       "\n",
       "mpl.figure.prototype.handle_save = function(fig, msg) {\n",
       "    var format_dropdown = fig.format_dropdown;\n",
       "    var format = format_dropdown.options[format_dropdown.selectedIndex].value;\n",
       "    fig.ondownload(fig, format);\n",
       "}\n",
       "\n",
       "\n",
       "mpl.figure.prototype.handle_resize = function(fig, msg) {\n",
       "    var size = msg['size'];\n",
       "    if (size[0] != fig.canvas.width || size[1] != fig.canvas.height) {\n",
       "        fig._resize_canvas(size[0], size[1]);\n",
       "        fig.send_message(\"refresh\", {});\n",
       "    };\n",
       "}\n",
       "\n",
       "mpl.figure.prototype.handle_rubberband = function(fig, msg) {\n",
       "    var x0 = msg['x0'] / mpl.ratio;\n",
       "    var y0 = (fig.canvas.height - msg['y0']) / mpl.ratio;\n",
       "    var x1 = msg['x1'] / mpl.ratio;\n",
       "    var y1 = (fig.canvas.height - msg['y1']) / mpl.ratio;\n",
       "    x0 = Math.floor(x0) + 0.5;\n",
       "    y0 = Math.floor(y0) + 0.5;\n",
       "    x1 = Math.floor(x1) + 0.5;\n",
       "    y1 = Math.floor(y1) + 0.5;\n",
       "    var min_x = Math.min(x0, x1);\n",
       "    var min_y = Math.min(y0, y1);\n",
       "    var width = Math.abs(x1 - x0);\n",
       "    var height = Math.abs(y1 - y0);\n",
       "\n",
       "    fig.rubberband_context.clearRect(\n",
       "        0, 0, fig.canvas.width, fig.canvas.height);\n",
       "\n",
       "    fig.rubberband_context.strokeRect(min_x, min_y, width, height);\n",
       "}\n",
       "\n",
       "mpl.figure.prototype.handle_figure_label = function(fig, msg) {\n",
       "    // Updates the figure title.\n",
       "    fig.header.textContent = msg['label'];\n",
       "}\n",
       "\n",
       "mpl.figure.prototype.handle_cursor = function(fig, msg) {\n",
       "    var cursor = msg['cursor'];\n",
       "    switch(cursor)\n",
       "    {\n",
       "    case 0:\n",
       "        cursor = 'pointer';\n",
       "        break;\n",
       "    case 1:\n",
       "        cursor = 'default';\n",
       "        break;\n",
       "    case 2:\n",
       "        cursor = 'crosshair';\n",
       "        break;\n",
       "    case 3:\n",
       "        cursor = 'move';\n",
       "        break;\n",
       "    }\n",
       "    fig.rubberband_canvas.style.cursor = cursor;\n",
       "}\n",
       "\n",
       "mpl.figure.prototype.handle_message = function(fig, msg) {\n",
       "    fig.message.textContent = msg['message'];\n",
       "}\n",
       "\n",
       "mpl.figure.prototype.handle_draw = function(fig, msg) {\n",
       "    // Request the server to send over a new figure.\n",
       "    fig.send_draw_message();\n",
       "}\n",
       "\n",
       "mpl.figure.prototype.handle_image_mode = function(fig, msg) {\n",
       "    fig.image_mode = msg['mode'];\n",
       "}\n",
       "\n",
       "mpl.figure.prototype.updated_canvas_event = function() {\n",
       "    // Called whenever the canvas gets updated.\n",
       "    this.send_message(\"ack\", {});\n",
       "}\n",
       "\n",
       "// A function to construct a web socket function for onmessage handling.\n",
       "// Called in the figure constructor.\n",
       "mpl.figure.prototype._make_on_message_function = function(fig) {\n",
       "    return function socket_on_message(evt) {\n",
       "        if (evt.data instanceof Blob) {\n",
       "            /* FIXME: We get \"Resource interpreted as Image but\n",
       "             * transferred with MIME type text/plain:\" errors on\n",
       "             * Chrome.  But how to set the MIME type?  It doesn't seem\n",
       "             * to be part of the websocket stream */\n",
       "            evt.data.type = \"image/png\";\n",
       "\n",
       "            /* Free the memory for the previous frames */\n",
       "            if (fig.imageObj.src) {\n",
       "                (window.URL || window.webkitURL).revokeObjectURL(\n",
       "                    fig.imageObj.src);\n",
       "            }\n",
       "\n",
       "            fig.imageObj.src = (window.URL || window.webkitURL).createObjectURL(\n",
       "                evt.data);\n",
       "            fig.updated_canvas_event();\n",
       "            fig.waiting = false;\n",
       "            return;\n",
       "        }\n",
       "        else if (typeof evt.data === 'string' && evt.data.slice(0, 21) == \"data:image/png;base64\") {\n",
       "            fig.imageObj.src = evt.data;\n",
       "            fig.updated_canvas_event();\n",
       "            fig.waiting = false;\n",
       "            return;\n",
       "        }\n",
       "\n",
       "        var msg = JSON.parse(evt.data);\n",
       "        var msg_type = msg['type'];\n",
       "\n",
       "        // Call the  \"handle_{type}\" callback, which takes\n",
       "        // the figure and JSON message as its only arguments.\n",
       "        try {\n",
       "            var callback = fig[\"handle_\" + msg_type];\n",
       "        } catch (e) {\n",
       "            console.log(\"No handler for the '\" + msg_type + \"' message type: \", msg);\n",
       "            return;\n",
       "        }\n",
       "\n",
       "        if (callback) {\n",
       "            try {\n",
       "                // console.log(\"Handling '\" + msg_type + \"' message: \", msg);\n",
       "                callback(fig, msg);\n",
       "            } catch (e) {\n",
       "                console.log(\"Exception inside the 'handler_\" + msg_type + \"' callback:\", e, e.stack, msg);\n",
       "            }\n",
       "        }\n",
       "    };\n",
       "}\n",
       "\n",
       "// from http://stackoverflow.com/questions/1114465/getting-mouse-location-in-canvas\n",
       "mpl.findpos = function(e) {\n",
       "    //this section is from http://www.quirksmode.org/js/events_properties.html\n",
       "    var targ;\n",
       "    if (!e)\n",
       "        e = window.event;\n",
       "    if (e.target)\n",
       "        targ = e.target;\n",
       "    else if (e.srcElement)\n",
       "        targ = e.srcElement;\n",
       "    if (targ.nodeType == 3) // defeat Safari bug\n",
       "        targ = targ.parentNode;\n",
       "\n",
       "    // jQuery normalizes the pageX and pageY\n",
       "    // pageX,Y are the mouse positions relative to the document\n",
       "    // offset() returns the position of the element relative to the document\n",
       "    var x = e.pageX - $(targ).offset().left;\n",
       "    var y = e.pageY - $(targ).offset().top;\n",
       "\n",
       "    return {\"x\": x, \"y\": y};\n",
       "};\n",
       "\n",
       "/*\n",
       " * return a copy of an object with only non-object keys\n",
       " * we need this to avoid circular references\n",
       " * http://stackoverflow.com/a/24161582/3208463\n",
       " */\n",
       "function simpleKeys (original) {\n",
       "  return Object.keys(original).reduce(function (obj, key) {\n",
       "    if (typeof original[key] !== 'object')\n",
       "        obj[key] = original[key]\n",
       "    return obj;\n",
       "  }, {});\n",
       "}\n",
       "\n",
       "mpl.figure.prototype.mouse_event = function(event, name) {\n",
       "    var canvas_pos = mpl.findpos(event)\n",
       "\n",
       "    if (name === 'button_press')\n",
       "    {\n",
       "        this.canvas.focus();\n",
       "        this.canvas_div.focus();\n",
       "    }\n",
       "\n",
       "    var x = canvas_pos.x * mpl.ratio;\n",
       "    var y = canvas_pos.y * mpl.ratio;\n",
       "\n",
       "    this.send_message(name, {x: x, y: y, button: event.button,\n",
       "                             step: event.step,\n",
       "                             guiEvent: simpleKeys(event)});\n",
       "\n",
       "    /* This prevents the web browser from automatically changing to\n",
       "     * the text insertion cursor when the button is pressed.  We want\n",
       "     * to control all of the cursor setting manually through the\n",
       "     * 'cursor' event from matplotlib */\n",
       "    event.preventDefault();\n",
       "    return false;\n",
       "}\n",
       "\n",
       "mpl.figure.prototype._key_event_extra = function(event, name) {\n",
       "    // Handle any extra behaviour associated with a key event\n",
       "}\n",
       "\n",
       "mpl.figure.prototype.key_event = function(event, name) {\n",
       "\n",
       "    // Prevent repeat events\n",
       "    if (name == 'key_press')\n",
       "    {\n",
       "        if (event.which === this._key)\n",
       "            return;\n",
       "        else\n",
       "            this._key = event.which;\n",
       "    }\n",
       "    if (name == 'key_release')\n",
       "        this._key = null;\n",
       "\n",
       "    var value = '';\n",
       "    if (event.ctrlKey && event.which != 17)\n",
       "        value += \"ctrl+\";\n",
       "    if (event.altKey && event.which != 18)\n",
       "        value += \"alt+\";\n",
       "    if (event.shiftKey && event.which != 16)\n",
       "        value += \"shift+\";\n",
       "\n",
       "    value += 'k';\n",
       "    value += event.which.toString();\n",
       "\n",
       "    this._key_event_extra(event, name);\n",
       "\n",
       "    this.send_message(name, {key: value,\n",
       "                             guiEvent: simpleKeys(event)});\n",
       "    return false;\n",
       "}\n",
       "\n",
       "mpl.figure.prototype.toolbar_button_onclick = function(name) {\n",
       "    if (name == 'download') {\n",
       "        this.handle_save(this, null);\n",
       "    } else {\n",
       "        this.send_message(\"toolbar_button\", {name: name});\n",
       "    }\n",
       "};\n",
       "\n",
       "mpl.figure.prototype.toolbar_button_onmouseover = function(tooltip) {\n",
       "    this.message.textContent = tooltip;\n",
       "};\n",
       "mpl.toolbar_items = [[\"Home\", \"Reset original view\", \"fa fa-home icon-home\", \"home\"], [\"Back\", \"Back to previous view\", \"fa fa-arrow-left icon-arrow-left\", \"back\"], [\"Forward\", \"Forward to next view\", \"fa fa-arrow-right icon-arrow-right\", \"forward\"], [\"\", \"\", \"\", \"\"], [\"Pan\", \"Pan axes with left mouse, zoom with right\", \"fa fa-arrows icon-move\", \"pan\"], [\"Zoom\", \"Zoom to rectangle\", \"fa fa-square-o icon-check-empty\", \"zoom\"], [\"\", \"\", \"\", \"\"], [\"Download\", \"Download plot\", \"fa fa-floppy-o icon-save\", \"download\"]];\n",
       "\n",
       "mpl.extensions = [\"eps\", \"jpeg\", \"pdf\", \"png\", \"ps\", \"raw\", \"svg\", \"tif\"];\n",
       "\n",
       "mpl.default_extension = \"png\";var comm_websocket_adapter = function(comm) {\n",
       "    // Create a \"websocket\"-like object which calls the given IPython comm\n",
       "    // object with the appropriate methods. Currently this is a non binary\n",
       "    // socket, so there is still some room for performance tuning.\n",
       "    var ws = {};\n",
       "\n",
       "    ws.close = function() {\n",
       "        comm.close()\n",
       "    };\n",
       "    ws.send = function(m) {\n",
       "        //console.log('sending', m);\n",
       "        comm.send(m);\n",
       "    };\n",
       "    // Register the callback with on_msg.\n",
       "    comm.on_msg(function(msg) {\n",
       "        //console.log('receiving', msg['content']['data'], msg);\n",
       "        // Pass the mpl event to the overridden (by mpl) onmessage function.\n",
       "        ws.onmessage(msg['content']['data'])\n",
       "    });\n",
       "    return ws;\n",
       "}\n",
       "\n",
       "mpl.mpl_figure_comm = function(comm, msg) {\n",
       "    // This is the function which gets called when the mpl process\n",
       "    // starts-up an IPython Comm through the \"matplotlib\" channel.\n",
       "\n",
       "    var id = msg.content.data.id;\n",
       "    // Get hold of the div created by the display call when the Comm\n",
       "    // socket was opened in Python.\n",
       "    var element = $(\"#\" + id);\n",
       "    var ws_proxy = comm_websocket_adapter(comm)\n",
       "\n",
       "    function ondownload(figure, format) {\n",
       "        window.open(figure.imageObj.src);\n",
       "    }\n",
       "\n",
       "    var fig = new mpl.figure(id, ws_proxy,\n",
       "                           ondownload,\n",
       "                           element.get(0));\n",
       "\n",
       "    // Call onopen now - mpl needs it, as it is assuming we've passed it a real\n",
       "    // web socket which is closed, not our websocket->open comm proxy.\n",
       "    ws_proxy.onopen();\n",
       "\n",
       "    fig.parent_element = element.get(0);\n",
       "    fig.cell_info = mpl.find_output_cell(\"<div id='\" + id + \"'></div>\");\n",
       "    if (!fig.cell_info) {\n",
       "        console.error(\"Failed to find cell for figure\", id, fig);\n",
       "        return;\n",
       "    }\n",
       "\n",
       "    var output_index = fig.cell_info[2]\n",
       "    var cell = fig.cell_info[0];\n",
       "\n",
       "};\n",
       "\n",
       "mpl.figure.prototype.handle_close = function(fig, msg) {\n",
       "    var width = fig.canvas.width/mpl.ratio\n",
       "    fig.root.unbind('remove')\n",
       "\n",
       "    // Update the output cell to use the data from the current canvas.\n",
       "    fig.push_to_output();\n",
       "    var dataURL = fig.canvas.toDataURL();\n",
       "    // Re-enable the keyboard manager in IPython - without this line, in FF,\n",
       "    // the notebook keyboard shortcuts fail.\n",
       "    IPython.keyboard_manager.enable()\n",
       "    $(fig.parent_element).html('<img src=\"' + dataURL + '\" width=\"' + width + '\">');\n",
       "    fig.close_ws(fig, msg);\n",
       "}\n",
       "\n",
       "mpl.figure.prototype.close_ws = function(fig, msg){\n",
       "    fig.send_message('closing', msg);\n",
       "    // fig.ws.close()\n",
       "}\n",
       "\n",
       "mpl.figure.prototype.push_to_output = function(remove_interactive) {\n",
       "    // Turn the data on the canvas into data in the output cell.\n",
       "    var width = this.canvas.width/mpl.ratio\n",
       "    var dataURL = this.canvas.toDataURL();\n",
       "    this.cell_info[1]['text/html'] = '<img src=\"' + dataURL + '\" width=\"' + width + '\">';\n",
       "}\n",
       "\n",
       "mpl.figure.prototype.updated_canvas_event = function() {\n",
       "    // Tell IPython that the notebook contents must change.\n",
       "    IPython.notebook.set_dirty(true);\n",
       "    this.send_message(\"ack\", {});\n",
       "    var fig = this;\n",
       "    // Wait a second, then push the new image to the DOM so\n",
       "    // that it is saved nicely (might be nice to debounce this).\n",
       "    setTimeout(function () { fig.push_to_output() }, 1000);\n",
       "}\n",
       "\n",
       "mpl.figure.prototype._init_toolbar = function() {\n",
       "    var fig = this;\n",
       "\n",
       "    var nav_element = $('<div/>')\n",
       "    nav_element.attr('style', 'width: 100%');\n",
       "    this.root.append(nav_element);\n",
       "\n",
       "    // Define a callback function for later on.\n",
       "    function toolbar_event(event) {\n",
       "        return fig.toolbar_button_onclick(event['data']);\n",
       "    }\n",
       "    function toolbar_mouse_event(event) {\n",
       "        return fig.toolbar_button_onmouseover(event['data']);\n",
       "    }\n",
       "\n",
       "    for(var toolbar_ind in mpl.toolbar_items){\n",
       "        var name = mpl.toolbar_items[toolbar_ind][0];\n",
       "        var tooltip = mpl.toolbar_items[toolbar_ind][1];\n",
       "        var image = mpl.toolbar_items[toolbar_ind][2];\n",
       "        var method_name = mpl.toolbar_items[toolbar_ind][3];\n",
       "\n",
       "        if (!name) { continue; };\n",
       "\n",
       "        var button = $('<button class=\"btn btn-default\" href=\"#\" title=\"' + name + '\"><i class=\"fa ' + image + ' fa-lg\"></i></button>');\n",
       "        button.click(method_name, toolbar_event);\n",
       "        button.mouseover(tooltip, toolbar_mouse_event);\n",
       "        nav_element.append(button);\n",
       "    }\n",
       "\n",
       "    // Add the status bar.\n",
       "    var status_bar = $('<span class=\"mpl-message\" style=\"text-align:right; float: right;\"/>');\n",
       "    nav_element.append(status_bar);\n",
       "    this.message = status_bar[0];\n",
       "\n",
       "    // Add the close button to the window.\n",
       "    var buttongrp = $('<div class=\"btn-group inline pull-right\"></div>');\n",
       "    var button = $('<button class=\"btn btn-mini btn-primary\" href=\"#\" title=\"Stop Interaction\"><i class=\"fa fa-power-off icon-remove icon-large\"></i></button>');\n",
       "    button.click(function (evt) { fig.handle_close(fig, {}); } );\n",
       "    button.mouseover('Stop Interaction', toolbar_mouse_event);\n",
       "    buttongrp.append(button);\n",
       "    var titlebar = this.root.find($('.ui-dialog-titlebar'));\n",
       "    titlebar.prepend(buttongrp);\n",
       "}\n",
       "\n",
       "mpl.figure.prototype._root_extra_style = function(el){\n",
       "    var fig = this\n",
       "    el.on(\"remove\", function(){\n",
       "\tfig.close_ws(fig, {});\n",
       "    });\n",
       "}\n",
       "\n",
       "mpl.figure.prototype._canvas_extra_style = function(el){\n",
       "    // this is important to make the div 'focusable\n",
       "    el.attr('tabindex', 0)\n",
       "    // reach out to IPython and tell the keyboard manager to turn it's self\n",
       "    // off when our div gets focus\n",
       "\n",
       "    // location in version 3\n",
       "    if (IPython.notebook.keyboard_manager) {\n",
       "        IPython.notebook.keyboard_manager.register_events(el);\n",
       "    }\n",
       "    else {\n",
       "        // location in version 2\n",
       "        IPython.keyboard_manager.register_events(el);\n",
       "    }\n",
       "\n",
       "}\n",
       "\n",
       "mpl.figure.prototype._key_event_extra = function(event, name) {\n",
       "    var manager = IPython.notebook.keyboard_manager;\n",
       "    if (!manager)\n",
       "        manager = IPython.keyboard_manager;\n",
       "\n",
       "    // Check for shift+enter\n",
       "    if (event.shiftKey && event.which == 13) {\n",
       "        this.canvas_div.blur();\n",
       "        event.shiftKey = false;\n",
       "        // Send a \"J\" for go to next cell\n",
       "        event.which = 74;\n",
       "        event.keyCode = 74;\n",
       "        manager.command_mode();\n",
       "        manager.handle_keydown(event);\n",
       "    }\n",
       "}\n",
       "\n",
       "mpl.figure.prototype.handle_save = function(fig, msg) {\n",
       "    fig.ondownload(fig, null);\n",
       "}\n",
       "\n",
       "\n",
       "mpl.find_output_cell = function(html_output) {\n",
       "    // Return the cell and output element which can be found *uniquely* in the notebook.\n",
       "    // Note - this is a bit hacky, but it is done because the \"notebook_saving.Notebook\"\n",
       "    // IPython event is triggered only after the cells have been serialised, which for\n",
       "    // our purposes (turning an active figure into a static one), is too late.\n",
       "    var cells = IPython.notebook.get_cells();\n",
       "    var ncells = cells.length;\n",
       "    for (var i=0; i<ncells; i++) {\n",
       "        var cell = cells[i];\n",
       "        if (cell.cell_type === 'code'){\n",
       "            for (var j=0; j<cell.output_area.outputs.length; j++) {\n",
       "                var data = cell.output_area.outputs[j];\n",
       "                if (data.data) {\n",
       "                    // IPython >= 3 moved mimebundle to data attribute of output\n",
       "                    data = data.data;\n",
       "                }\n",
       "                if (data['text/html'] == html_output) {\n",
       "                    return [cell, data, j];\n",
       "                }\n",
       "            }\n",
       "        }\n",
       "    }\n",
       "}\n",
       "\n",
       "// Register the function which deals with the matplotlib target/channel.\n",
       "// The kernel may be null if the page has been refreshed.\n",
       "if (IPython.notebook.kernel != null) {\n",
       "    IPython.notebook.kernel.comm_manager.register_target('matplotlib', mpl.mpl_figure_comm);\n",
       "}\n"
      ],
      "text/plain": [
       "<IPython.core.display.Javascript object>"
      ]
     },
     "metadata": {},
     "output_type": "display_data"
    },
    {
     "data": {
      "text/html": [
       "<img src=\"data:image/png;base64,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\" width=\"431.818172458775\">"
      ],
      "text/plain": [
       "<IPython.core.display.HTML object>"
      ]
     },
     "metadata": {},
     "output_type": "display_data"
    }
   ],
   "source": [
    "ax = plot_fun(lambda x,y,p: N(x,y,p), p=a.p, title='Neural Network Solution')"
   ]
  },
  {
   "cell_type": "code",
   "execution_count": null,
   "metadata": {},
   "outputs": [],
   "source": []
  },
  {
   "cell_type": "code",
   "execution_count": 30,
   "metadata": {},
   "outputs": [
    {
     "data": {
      "text/plain": [
       "0.37397389543425624"
      ]
     },
     "execution_count": 30,
     "metadata": {},
     "output_type": "execute_result"
    }
   ],
   "source": [
    "relative_err(a.p, nx=200)"
   ]
  },
  {
   "cell_type": "code",
   "execution_count": 29,
   "metadata": {},
   "outputs": [],
   "source": [
    "a.p = np.load('output/20191223-1714_eq1_1_nn_params.npz')['arr_0']"
   ]
  },
  {
   "cell_type": "code",
   "execution_count": null,
   "metadata": {},
   "outputs": [],
   "source": []
  },
  {
   "cell_type": "code",
   "execution_count": null,
   "metadata": {},
   "outputs": [],
   "source": []
  },
  {
   "cell_type": "code",
   "execution_count": 35,
   "metadata": {},
   "outputs": [],
   "source": [
    "a.save_result('eq1_1')"
   ]
  },
  {
   "cell_type": "code",
   "execution_count": null,
   "metadata": {},
   "outputs": [],
   "source": []
  }
 ],
 "metadata": {
  "kernelspec": {
   "display_name": "Python 3",
   "language": "python",
   "name": "python3"
  },
  "language_info": {
   "codemirror_mode": {
    "name": "ipython",
    "version": 3
   },
   "file_extension": ".py",
   "mimetype": "text/x-python",
   "name": "python",
   "nbconvert_exporter": "python",
   "pygments_lexer": "ipython3",
   "version": "3.6.7"
  },
  "notify_time": "30",
  "toc": {
   "base_numbering": 1,
   "nav_menu": {},
   "number_sections": true,
   "sideBar": true,
   "skip_h1_title": false,
   "title_cell": "Table of Contents",
   "title_sidebar": "Contents",
   "toc_cell": false,
   "toc_position": {
    "height": "calc(100% - 180px)",
    "left": "10px",
    "top": "150px",
    "width": "216.797px"
   },
   "toc_section_display": true,
   "toc_window_display": false
  },
  "varInspector": {
   "cols": {
    "lenName": 16,
    "lenType": 16,
    "lenVar": 40
   },
   "kernels_config": {
    "python": {
     "delete_cmd_postfix": "",
     "delete_cmd_prefix": "del ",
     "library": "var_list.py",
     "varRefreshCmd": "print(var_dic_list())"
    },
    "r": {
     "delete_cmd_postfix": ") ",
     "delete_cmd_prefix": "rm(",
     "library": "var_list.r",
     "varRefreshCmd": "cat(var_dic_list()) "
    }
   },
   "types_to_exclude": [
    "module",
    "function",
    "builtin_function_or_method",
    "instance",
    "_Feature"
   ],
   "window_display": false
  }
 },
 "nbformat": 4,
 "nbformat_minor": 2
}
