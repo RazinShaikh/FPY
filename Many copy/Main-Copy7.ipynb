{
 "cells": [
  {
   "cell_type": "markdown",
   "metadata": {
    "heading_collapsed": true,
    "slideshow": {
     "slide_type": "-"
    }
   },
   "source": [
    "# Imports"
   ]
  },
  {
   "cell_type": "code",
   "execution_count": 2,
   "metadata": {
    "hidden": true
   },
   "outputs": [
    {
     "name": "stdout",
     "output_type": "stream",
     "text": [
      "Pixiedust database opened successfully\n"
     ]
    },
    {
     "data": {
      "text/html": [
       "\n",
       "        <div style=\"margin:10px\">\n",
       "            <a href=\"https://github.com/ibm-watson-data-lab/pixiedust\" target=\"_new\">\n",
       "                <img src=\"https://github.com/ibm-watson-data-lab/pixiedust/raw/master/docs/_static/pd_icon32.png\" style=\"float:left;margin-right:10px\"/>\n",
       "            </a>\n",
       "            <span>Pixiedust version 1.1.14</span>\n",
       "        </div>\n",
       "        "
      ],
      "text/plain": [
       "<IPython.core.display.HTML object>"
      ]
     },
     "metadata": {},
     "output_type": "display_data"
    },
    {
     "data": {
      "text/html": [
       "<div>Warning: You are not running the latest version of PixieDust. Current is 1.1.14, Latest is 1.1.18</div>"
      ],
      "text/plain": [
       "<IPython.core.display.HTML object>"
      ]
     },
     "metadata": {},
     "output_type": "display_data"
    },
    {
     "data": {
      "text/html": [
       "\n",
       "                <div>Please copy and run the following command in a new cell to upgrade: <span style=\"background-color:#ececec;font-family:monospace;padding:0 5px\">!pip install --user --upgrade pixiedust</span></div>\n",
       "            "
      ],
      "text/plain": [
       "<IPython.core.display.HTML object>"
      ]
     },
     "metadata": {},
     "output_type": "display_data"
    },
    {
     "data": {
      "text/html": [
       "<div>Please restart kernel after upgrading.</div>"
      ],
      "text/plain": [
       "<IPython.core.display.HTML object>"
      ]
     },
     "metadata": {},
     "output_type": "display_data"
    }
   ],
   "source": [
    "import numpy as np\n",
    "import itertools\n",
    "import time\n",
    "from matplotlib import pyplot as plt\n",
    "from mpl_toolkits.mplot3d import Axes3D\n",
    "from matplotlib import cm\n",
    "import pixiedust"
   ]
  },
  {
   "cell_type": "markdown",
   "metadata": {
    "heading_collapsed": true
   },
   "source": [
    "# Introduction"
   ]
  },
  {
   "cell_type": "markdown",
   "metadata": {
    "hidden": true
   },
   "source": [
    "Consider the following equation:\n",
    "$$\\Delta_p \\Psi(x,y)=f(x,y)$$\n",
    "\n",
    "$x \\in [0,1],\\ y \\in [0,1]$ with *Dirichlet* BC: $\\Psi(0,y) = 0$, $\\Psi(1,y) = 0$, $\\Psi(x,0) = 0$ and $\\Psi(x,1) = 0$.\n",
    "\n",
    "For this first attempt, we will take $p=2$."
   ]
  },
  {
   "cell_type": "markdown",
   "metadata": {},
   "source": [
    "# Defining functions"
   ]
  },
  {
   "cell_type": "markdown",
   "metadata": {
    "heading_collapsed": true
   },
   "source": [
    "## Sigmoid"
   ]
  },
  {
   "cell_type": "markdown",
   "metadata": {
    "hidden": true
   },
   "source": [
    "Sigmoid $\\sigma(x) = \\frac{1}{1+e^{-x}}$ and its derrivatives."
   ]
  },
  {
   "cell_type": "markdown",
   "metadata": {
    "hidden": true
   },
   "source": [
    "Sigmoid with parameter $t$\n",
    "$$ \\sigma_t(x) = \\frac{1}{1+e^{-tx}}$$"
   ]
  },
  {
   "cell_type": "code",
   "execution_count": 3,
   "metadata": {
    "hidden": true
   },
   "outputs": [],
   "source": [
    "T = 1"
   ]
  },
  {
   "cell_type": "code",
   "execution_count": 4,
   "metadata": {
    "hidden": true
   },
   "outputs": [],
   "source": [
    "def sig(x):\n",
    "    return 1 / (1 + np.exp(-T*x))\n",
    "\n",
    "def sig1(x):\n",
    "    return T * sig(x) * (1 - sig(x))\n",
    "\n",
    "def sig2(x):\n",
    "    return T * (sig1(x) - 2*sig(x)*sig1(x))\n",
    "\n",
    "def sig3(x):\n",
    "    return T * (sig2(x) - 2 * (sig1(x)**2 + sig(x) * sig2(x)))\n",
    "\n",
    "def sig_pr(x, k):\n",
    "    if k==0:\n",
    "        return sig(x)\n",
    "    if k==1:\n",
    "        return sig1(x)\n",
    "    if k==2:\n",
    "        return sig2(x)\n",
    "    if k==3:\n",
    "        return sig3(x)"
   ]
  },
  {
   "cell_type": "markdown",
   "metadata": {
    "heading_collapsed": true
   },
   "source": [
    "## RHS"
   ]
  },
  {
   "cell_type": "markdown",
   "metadata": {
    "hidden": true
   },
   "source": [
    "The right side of the equation:  $\\Delta\\Psi(x,y) = 6 x (x-1) (1-2 y) + 2 y (y-1) (1-2 y)$"
   ]
  },
  {
   "cell_type": "code",
   "execution_count": 5,
   "metadata": {
    "hidden": true
   },
   "outputs": [],
   "source": [
    "K=1\n",
    "def f(x, y):\n",
    "    return K * (6*(x-1)*x*(1-2*y) + 2*(y-1)*y*(1-2*y))"
   ]
  },
  {
   "cell_type": "markdown",
   "metadata": {
    "hidden": true
   },
   "source": [
    "The analytic solution is given by: $\\ \\Psi_a(x,y) = x (1-x) y (1-y) (1-2 y)$"
   ]
  },
  {
   "cell_type": "code",
   "execution_count": 6,
   "metadata": {
    "hidden": true
   },
   "outputs": [],
   "source": [
    "# def psi_a(x, y):\n",
    "#     return y * (1-y) * np.sin(np.pi * x)\n",
    "\n",
    "def psi_a(x, y):\n",
    "    return K * x*(1-x)*y*(1-y)*(1-2*y)"
   ]
  },
  {
   "cell_type": "markdown",
   "metadata": {
    "hidden": true
   },
   "source": [
    "$$\\frac{\\partial}{\\partial x} \\Psi_a = (1-2x) y (1-y) (1-2 y)$$"
   ]
  },
  {
   "cell_type": "code",
   "execution_count": 7,
   "metadata": {
    "hidden": true
   },
   "outputs": [],
   "source": [
    "def psi_a_dx(x,y):\n",
    "    return K * (1-2*x)*y*(1-y)*(1-2*y)"
   ]
  },
  {
   "cell_type": "markdown",
   "metadata": {
    "hidden": true
   },
   "source": [
    "$$\\frac{\\partial}{\\partial y} \\Psi_a = x (1-x) (1-6y + 6y^2) $$"
   ]
  },
  {
   "cell_type": "code",
   "execution_count": 8,
   "metadata": {
    "hidden": true
   },
   "outputs": [],
   "source": [
    "def psi_a_dy(x,y):\n",
    "    return K * x*(1-x)*(1-6*y+6*(y**2))"
   ]
  },
  {
   "cell_type": "markdown",
   "metadata": {
    "heading_collapsed": true
   },
   "source": [
    "## Neural Network"
   ]
  },
  {
   "cell_type": "markdown",
   "metadata": {
    "hidden": true
   },
   "source": [
    "The output of neural network $N(x,y,\\vec{p})$, where $\\vec{p} = [w, u, v]$:\n",
    "$$N = \\sum_i^H v_i \\sigma(z_i) \\text{, where } z_i = w_{i0} x + w_{i1} y + u_i$$"
   ]
  },
  {
   "cell_type": "code",
   "execution_count": 9,
   "metadata": {
    "code_folding": [],
    "hidden": true
   },
   "outputs": [],
   "source": [
    "def z(x, y, p):\n",
    "    z_x = np.multiply(x, p[0][0])\n",
    "    z_y = np.multiply(y, p[0][1])\n",
    "    z_ = np.array([z_x, z_y, p[1]]).sum(axis=0)\n",
    "    return z_\n",
    "\n",
    "def N(x, y, p):\n",
    "    return np.sum(np.multiply(sig(z(x,y,p)), p[2]))"
   ]
  },
  {
   "cell_type": "markdown",
   "metadata": {
    "hidden": true
   },
   "source": [
    "$$\\frac{\\partial^k N}{\\partial x_j^k} = \\sum_{i=1}^H v_i w_{ij}^k \\sigma^{(k)}$$"
   ]
  },
  {
   "cell_type": "code",
   "execution_count": 10,
   "metadata": {
    "code_folding": [],
    "hidden": true
   },
   "outputs": [],
   "source": [
    "def dN_dxj_k(x, y, p, j, k):\n",
    "    wj = p[0][j]\n",
    "    v = p[2]\n",
    "    z_ = z(x, y, p)\n",
    "    \n",
    "    return np.sum(v * (wj**k) * sig_pr(z_, k))"
   ]
  },
  {
   "cell_type": "markdown",
   "metadata": {
    "hidden": true
   },
   "source": [
    "$$\\frac{\\partial N}{\\partial w_j} = x_j v \\sigma '$$"
   ]
  },
  {
   "cell_type": "code",
   "execution_count": 11,
   "metadata": {
    "code_folding": [],
    "hidden": true
   },
   "outputs": [],
   "source": [
    "def dN_dwj(x, y, p, j):\n",
    "    xj = x if j==0 else y\n",
    "    v = p[2]\n",
    "    z_ = z(x, y, p)\n",
    "    return xj * v * sig1(z_)"
   ]
  },
  {
   "cell_type": "markdown",
   "metadata": {
    "hidden": true
   },
   "source": [
    "$$ \\frac{\\partial}{\\partial w_j} \\frac{\\partial N}{\\partial x_k} = x_j v w_k \\sigma'' + v_i \\sigma' \\quad\\text{ if } j = k$$\n",
    "\n",
    "$$ \\frac{\\partial}{\\partial w_j} \\frac{\\partial N}{\\partial x_k} = x_j v w_k \\sigma'' \\quad\\text{ if } j \\neq k$$"
   ]
  },
  {
   "cell_type": "code",
   "execution_count": 12,
   "metadata": {
    "code_folding": [],
    "hidden": true
   },
   "outputs": [],
   "source": [
    "def d_dwj_dN_dxk(x, y, p, j, k):\n",
    "    xj = x if j==0 else y\n",
    "    wk = p[0][k]\n",
    "    jk = 1 if j==k else 0\n",
    "    v = p[2]\n",
    "    z_ = z(x, y, p)\n",
    "    return xj * v * wk * sig2(z_) + jk * v * sig1(z_)"
   ]
  },
  {
   "cell_type": "markdown",
   "metadata": {
    "hidden": true
   },
   "source": [
    "$$ \\frac{\\partial}{\\partial w_j} \\frac{\\partial^2 N}{\\partial x_k^2} = x_j v w_k^2 \\sigma^{(3)} + 2 v w_k \\sigma'' \\quad\\text{ if } j = k $$\n",
    "\n",
    "$$ \\frac{\\partial}{\\partial w_j} \\frac{\\partial^2 N}{\\partial x_k^2} = x_j v w_k^2 \\sigma^{(3)} \\quad\\text{ if } j \\neq k $$"
   ]
  },
  {
   "cell_type": "code",
   "execution_count": 13,
   "metadata": {
    "code_folding": [],
    "hidden": true
   },
   "outputs": [],
   "source": [
    "def d_dwj_dN2_dxk2(x, y, p, j, k):\n",
    "    xj = x if j==0 else y\n",
    "    wk = p[0][k]\n",
    "    jk = 1 if j==k else 0\n",
    "    v = p[2]\n",
    "    z_ = z(x, y, p)\n",
    "    return xj * v * (wk**2) * sig3(z_) + jk * 2 * v * wk * sig2(z_)"
   ]
  },
  {
   "cell_type": "markdown",
   "metadata": {
    "hidden": true
   },
   "source": [
    "$$ \\frac{\\partial}{\\partial u} \\frac{\\partial^k}{\\partial x_j^k} N = v w_j^k \\sigma^{(k+1)} $$"
   ]
  },
  {
   "cell_type": "code",
   "execution_count": 14,
   "metadata": {
    "code_folding": [],
    "hidden": true
   },
   "outputs": [],
   "source": [
    "def d_du_dkN(x, y, p, j, k):\n",
    "    v = p[2]\n",
    "    wj = p[0][j]\n",
    "    z_ = z(x, y, p)\n",
    "    return v * (wj**k) * sig_pr(z_, k+1)"
   ]
  },
  {
   "cell_type": "markdown",
   "metadata": {
    "hidden": true
   },
   "source": [
    "$$ \\frac{\\partial}{\\partial v} \\frac{\\partial^k}{\\partial x_j^k} N = w_j^k \\sigma^{(k)} $$"
   ]
  },
  {
   "cell_type": "code",
   "execution_count": 15,
   "metadata": {
    "code_folding": [],
    "hidden": true
   },
   "outputs": [],
   "source": [
    "def d_dv_dkN(x, y, p, j, k):\n",
    "    wj = p[0][j]\n",
    "    z_ = z(x, y, p)\n",
    "    return (wj**k) * sig_pr(z_, k)"
   ]
  },
  {
   "cell_type": "markdown",
   "metadata": {},
   "source": [
    "## Cost function"
   ]
  },
  {
   "cell_type": "markdown",
   "metadata": {},
   "source": [
    "$$E[\\vec{p}] = \\sum_{i \\in \\hat{D}} \\left\\{ \\frac{\\partial^2 N}{\\partial x^2} + \\frac{\\partial^2 N}{\\partial y^2} - f(x,y) \\right\\}^2 \n",
    "           +  \\sum_{i \\in \\partial \\hat{D}} N^2$$"
   ]
  },
  {
   "cell_type": "code",
   "execution_count": 16,
   "metadata": {},
   "outputs": [],
   "source": [
    "BC=1"
   ]
  },
  {
   "cell_type": "code",
   "execution_count": 17,
   "metadata": {
    "code_folding": []
   },
   "outputs": [],
   "source": [
    "def error_term1(x, y, p):\n",
    "    return dN_dxj_k(x,y,p,0,2)  +  dN_dxj_k(x,y,p,1,2)  -  f(x,y)"
   ]
  },
  {
   "cell_type": "code",
   "execution_count": 18,
   "metadata": {
    "code_folding": []
   },
   "outputs": [],
   "source": [
    "def cost(points, boundary_points, p):\n",
    "    et1 = []\n",
    "    et2 = []\n",
    "    for x, y in points:\n",
    "        err_sq = error_term1(x, y, p)**2\n",
    "        et1.append(err_sq)\n",
    "    \n",
    "    for x, y in boundary_points:\n",
    "        err_sq = N(x,y,p)**2\n",
    "        et2.append(err_sq)\n",
    "        \n",
    "    cost = sum(et1) + BC*sum(et2)\n",
    "    \n",
    "    return cost"
   ]
  },
  {
   "cell_type": "code",
   "execution_count": 19,
   "metadata": {},
   "outputs": [],
   "source": [
    "# def relative_err(all_points, p, dOmega):\n",
    "#     trial1 = np.sum(dOmega*np.array([np.linalg.norm(N(x,y,p) - psi_a(x,y))**2\n",
    "#                                      for x, y in all_points]))\n",
    "\n",
    "#     trial2 = np.sum([dOmega*((dN_dxj_k(x,y,p,0,1)-psi_a_dx(x,y))**2 +\n",
    "#                              (dN_dxj_k(x,y,p,1,1)-psi_a_dy(x,y))**2)\n",
    "#                      for x, y in all_points])\n",
    "\n",
    "#     ana1 = np.sum(dOmega*np.array([np.linalg.norm(psi_a(x,y))**2\n",
    "#                                          for x, y in all_points]))\n",
    "#     ana2 = np.sum([dOmega*(psi_a_dx(x,y)**2 + psi_a_dy(x,y)**2)\n",
    "#                    for x, y in all_points])\n",
    "    \n",
    "#     relative_err = (trial1 + trial2)**(1/2) / (ana1 + ana2)**(1/2)\n",
    "\n",
    "#     return relative_err\n",
    "\n",
    "# def relative_err(all_points, p, dOmega, nx=10):\n",
    "#     #this abs error\n",
    "#     all_points = list(itertools.product(np.linspace(0, 1, nx), np.linspace(0, 1, nx)))\n",
    "#     abs_err = np.sum(np.array([np.linalg.norm(N(x,y,p) - psi_a(x,y))\n",
    "#                                      for x, y in all_points])) / len(all_points)\n",
    "#     return abs_err\n",
    "\n",
    "def relative_err(p, nx=100):\n",
    "    all_points = list(itertools.product(np.linspace(0, 1, nx), np.linspace(0, 1, nx)))\n",
    "\n",
    "    dOmega = (1. / nx)**2\n",
    "\n",
    "    trial1 = np.sum(dOmega*np.array([np.linalg.norm(N(x,y,p) - psi_a(x,y))**2\n",
    "                                     for x, y in all_points]))\n",
    "\n",
    "    trial2 = np.sum([dOmega*((dN_dxj_k(x,y,p,0,1)-psi_a_dx(x,y))**2 +\n",
    "                             (dN_dxj_k(x,y,p,1,1)-psi_a_dy(x,y))**2)\n",
    "                     for x, y in all_points])\n",
    "\n",
    "    ana1 = np.sum(dOmega*np.array([np.linalg.norm(psi_a(x,y))**2\n",
    "                                         for x, y in all_points]))\n",
    "    ana2 = np.sum([dOmega*(psi_a_dx(x,y)**2 + psi_a_dy(x,y)**2)\n",
    "                   for x, y in all_points])\n",
    "    \n",
    "    rel_err = (trial1 + trial2)**(1/2) / (ana1 + ana2)**(1/2)\n",
    "    \n",
    "    return rel_err"
   ]
  },
  {
   "cell_type": "markdown",
   "metadata": {
    "heading_collapsed": true
   },
   "source": [
    "# Gradients"
   ]
  },
  {
   "cell_type": "markdown",
   "metadata": {
    "hidden": true
   },
   "source": [
    "$$ \\frac{\\partial E[\\vec{p}]}{\\partial w_j} = \\sum_{i \\in \\hat{D}} \\left\\{ 2 \\text{ (error_term1) } \\left( \\frac{\\partial}{\\partial w_j} \\frac{\\partial^2 N}{\\partial x^2} + \\frac{\\partial}{\\partial w_j} \\frac{\\partial^2 N}{\\partial y^2} \\right) \\right\\}  +  \\sum_{i \\in \\partial \\hat{D}} 2 N \\frac{\\partial N}{\\partial w_j}$$"
   ]
  },
  {
   "cell_type": "code",
   "execution_count": 20,
   "metadata": {
    "code_folding": [],
    "hidden": true
   },
   "outputs": [],
   "source": [
    "def dE_dwj(points, boundary_points, p, j):\n",
    "    t1 = []\n",
    "    t2 = []\n",
    "    for x, y in points:\n",
    "        tmp = 2 * error_term1(x,y,p) * (d_dwj_dN2_dxk2(x,y,p,j,0) + d_dwj_dN2_dxk2(x,y,p,j,1))\n",
    "        t1.append(tmp)\n",
    "        \n",
    "    for x, y in boundary_points:\n",
    "        tmp = 2 * N(x,y,p) * dN_dwj(x,y,p,j)\n",
    "        t2.append(tmp)\n",
    "    \n",
    "    grad = sum(t1) + BC*sum(t2)\n",
    "    \n",
    "    return grad"
   ]
  },
  {
   "cell_type": "markdown",
   "metadata": {
    "hidden": true
   },
   "source": [
    "$$ \\frac{\\partial E[\\vec{p}]}{\\partial u} = \\sum_{i \\in \\hat{D}} \\left\\{ 2 \\text{ (error_term1) } \\left( \\frac{\\partial}{\\partial u} \\frac{\\partial^2 N}{\\partial x^2} + \\frac{\\partial}{\\partial u} \\frac{\\partial^2 N}{\\partial y^2} \\right) \\right\\} +  \\sum_{i \\in \\partial \\hat{D}} 2 N \\frac{\\partial N}{\\partial u}$$"
   ]
  },
  {
   "cell_type": "code",
   "execution_count": 21,
   "metadata": {
    "code_folding": [],
    "hidden": true
   },
   "outputs": [],
   "source": [
    "def dE_du(points, boundary_points, p):\n",
    "    t1 = []\n",
    "    t2 = []\n",
    "    for x, y in points:\n",
    "        tmp = 2 * error_term1(x,y,p) * (d_du_dkN(x,y,p,0,2) + d_du_dkN(x,y,p,1,2))\n",
    "        t1.append(tmp)\n",
    "        \n",
    "    for x, y in boundary_points:\n",
    "        tmp = 2 * N(x,y,p) * d_du_dkN(x,y,p,0,0)\n",
    "        t2.append(tmp)\n",
    "    \n",
    "    grad = sum(t1) + BC*sum(t2)\n",
    "    \n",
    "    return grad"
   ]
  },
  {
   "cell_type": "markdown",
   "metadata": {
    "hidden": true
   },
   "source": [
    "$$ \\frac{\\partial E[\\vec{p}]}{\\partial v} = \\sum_{i \\in \\hat{D}} \\left\\{ 2 \\text{ (error_term1) } \\left( \\frac{\\partial}{\\partial v} \\frac{\\partial^2 N}{\\partial x^2} + \\frac{\\partial}{\\partial v} \\frac{\\partial^2 N}{\\partial y^2} \\right) \\right\\}  +  \\sum_{i \\in \\partial \\hat{D}} 2 N \\frac{\\partial N}{\\partial v}$$"
   ]
  },
  {
   "cell_type": "code",
   "execution_count": 22,
   "metadata": {
    "code_folding": [],
    "hidden": true
   },
   "outputs": [],
   "source": [
    "def dE_dv(points, boundary_points, p):\n",
    "    t1 = []\n",
    "    t2 = []\n",
    "    for x, y in points:\n",
    "        tmp = 2 * error_term1(x,y,p) * (d_dv_dkN(x,y,p,0,2) + d_dv_dkN(x,y,p,1,2))\n",
    "        t1.append(tmp)\n",
    "        \n",
    "    for x, y in boundary_points:\n",
    "        tmp = 2 * N(x,y,p) * d_dv_dkN(x,y,p,0,0)\n",
    "        t2.append(tmp)\n",
    "    \n",
    "    grad = sum(t1) + BC*sum(t2)\n",
    "    \n",
    "    return grad"
   ]
  },
  {
   "cell_type": "markdown",
   "metadata": {
    "heading_collapsed": true
   },
   "source": [
    "# NN class"
   ]
  },
  {
   "cell_type": "code",
   "execution_count": 23,
   "metadata": {
    "code_folding": [
     57,
     63
    ],
    "hidden": true
   },
   "outputs": [],
   "source": [
    "class NNTrain:\n",
    "    def __init__(self, nx=10, bx=10, hidden_nodes=10, \n",
    "                 alpha=0.01, beta_1=0.9, beta_2=0.999, epsilon=1e-8,\n",
    "                 update_interval=50, if_rel_err=False, \n",
    "                 output_file='output/output.csv'):\n",
    "        \n",
    "        self.output_file = output_file\n",
    "        self.training_started = False\n",
    "        self.nx = nx\n",
    "        self.hidden_nodes = hidden_nodes\n",
    "        self.alpha = alpha\n",
    "        self.beta_1 = beta_1\n",
    "        self.beta_2 = beta_2\n",
    "        self.epsilon = epsilon\n",
    "        self.update_interval = update_interval\n",
    "        self.dOmega = (1. / nx)**2\n",
    "        self.boundary_points = list(set(list(itertools.product([0, 1], np.linspace(0,1,bx))) +\n",
    "                                        list(itertools.product(np.linspace(0,1,bx), [0, 1]))))\n",
    "        pnts = list(itertools.product(np.linspace(0, 1, nx), np.linspace(0, 1, nx)))\n",
    "        self.points = [(x,y) for x,y in pnts if (x not in [0,1] and y not in [0,1])]\n",
    "        self.cost_rate = []\n",
    "        self.if_rel_err = if_rel_err\n",
    "        if self.if_rel_err:\n",
    "            self.rel_err = []\n",
    "        self.p = np.array([np.random.randn(2,hidden_nodes),\n",
    "                           np.random.randn(hidden_nodes),\n",
    "                           np.random.randn(hidden_nodes)])\n",
    "        self.m_t = np.array([np.zeros(hidden_nodes),\n",
    "                             np.zeros(hidden_nodes),\n",
    "                             np.zeros(hidden_nodes),\n",
    "                             np.zeros(hidden_nodes)])\n",
    "        self.v_t = np.array([np.zeros(hidden_nodes),\n",
    "                             np.zeros(hidden_nodes),\n",
    "                             np.zeros(hidden_nodes),\n",
    "                             np.zeros(hidden_nodes)])\n",
    "        self.if_continue = np.array([True, True, True, True])\n",
    "\n",
    "\n",
    "    def adam(self, t, w, g_t, theta_0):\n",
    "        self.m_t[w] = self.beta_1 * self.m_t[w] + (1-self.beta_1) * g_t\n",
    "        self.v_t[w] = self.beta_2 * self.v_t[w] + (1-self.beta_2) * (g_t * g_t)\n",
    "        \n",
    "        m_cap = self.m_t[w]/(1-(self.beta_1**t))\n",
    "        v_cap = self.v_t[w]/(1-(self.beta_2**t))\n",
    "        theta_0_prev = np.copy(theta_0)\n",
    "        theta_0 = theta_0 - (self.alpha*m_cap)/(np.sqrt(v_cap)+self.epsilon)\n",
    "        \n",
    "        if(np.all(theta_0 == theta_0_prev)):\n",
    "            self.if_continue[w] = False\n",
    "            \n",
    "        return theta_0\n",
    "        \n",
    "\n",
    "    def train(self, itr=1000):\n",
    "        if self.training_started:\n",
    "            mode='a'\n",
    "        else:\n",
    "            mode='w'\n",
    "        self.training_started=True\n",
    "        \n",
    "        with open(self.output_file, mode) as file:\n",
    "            if mode=='w':\n",
    "                if self.if_rel_err:\n",
    "                    file.write('Iteration,Cost,Cost Diff,Relative Error,Relative Error Diff\\n')\n",
    "                else:\n",
    "                    file.write('Iteration,Cost,Cost Diff\\n')\n",
    "            start=len(self.cost_rate)-1\n",
    "            if start<1:\n",
    "                start+=1\n",
    "                self.cost_rate.append(cost(self.points,self.boundary_points,self.p))\n",
    "                if self.if_rel_err:\n",
    "                    self.rel_err.append(relative_err(self.points+self.boundary_points,self.p,self.dOmega))\n",
    "\n",
    "            i = start\n",
    "            while i < start+itr:\n",
    "                if(not np.any(self.if_continue)):\n",
    "                    break\n",
    "                                    \n",
    "                #adam optimizer\n",
    "                g_w0 = dE_dwj(self.points, self.boundary_points, self.p, 0)\n",
    "                g_w1 = dE_dwj(self.points, self.boundary_points, self.p, 1)\n",
    "                g_u = dE_du(self.points, self.boundary_points, self.p)\n",
    "                g_v = dE_dv(self.points, self.boundary_points, self.p)\n",
    "                \n",
    "                if self.if_continue[0] :self.p[0][0] = self.adam(i+1, 0, g_w0, self.p[0][0])\n",
    "                if self.if_continue[1] :self.p[0][1] = self.adam(i+1, 1, g_w1, self.p[0][1])\n",
    "                if self.if_continue[2] :self.p[1] = self.adam(i+1, 2, g_u, self.p[1])\n",
    "                if self.if_continue[3] :self.p[2] = self.adam(i+1, 3, g_v, self.p[2])\n",
    "                \n",
    "                \n",
    "                self.cost_rate.append(cost(self.points,self.boundary_points,self.p))\n",
    "                cost_diff = self.cost_rate[i]-self.cost_rate[i+1]\n",
    "                if self.if_rel_err:\n",
    "                    self.rel_err.append(relative_err(self.points+self.boundary_points,self.p,self.dOmega))\n",
    "                    rel_diff = self.rel_err[i]-self.rel_err[i+1]\n",
    "\n",
    "                if self.if_rel_err:\n",
    "                    file.write('{},{:.8f},{:.8f},{:.8f},{:.8f}\\n'.format(\n",
    "                        i+1,self.cost_rate[i+1], cost_diff,\n",
    "                        self.rel_err[i+1], rel_diff))\n",
    "                else:\n",
    "                    file.write('{},{:.8f},{:.8f}\\n'.format(\n",
    "                        i+1,self.cost_rate[i+1],\n",
    "                        cost_diff))\n",
    "\n",
    "                if i%self.update_interval==0:\n",
    "                    file.flush()\n",
    "                    \n",
    "                i+=1\n",
    "                \n",
    "                \n",
    "    def save_result(self, output_name=''):\n",
    "        timestr = time.strftime(\"%Y%m%d-%H%M\")\n",
    "        np.savez('output/'+ timestr + '_' + output_name +'_nn_params.npz', self.p)\n",
    "        np.savez('output/'+ timestr + '_' + output_name +'_cost_rate.npz', self.cost_rate)\n",
    "        if self.if_rel_err:\n",
    "            np.savez('output/'+ timestr + '_' + output_name +'_rel_err.npz', self.rel_err)"
   ]
  },
  {
   "cell_type": "code",
   "execution_count": null,
   "metadata": {
    "hidden": true
   },
   "outputs": [],
   "source": []
  },
  {
   "cell_type": "markdown",
   "metadata": {
    "heading_collapsed": true
   },
   "source": [
    "# Graphs"
   ]
  },
  {
   "cell_type": "code",
   "execution_count": 24,
   "metadata": {
    "hidden": true
   },
   "outputs": [],
   "source": [
    "%matplotlib notebook\n",
    "%matplotlib notebook"
   ]
  },
  {
   "cell_type": "markdown",
   "metadata": {
    "heading_collapsed": true,
    "hidden": true
   },
   "source": [
    "## Hidden Nodes"
   ]
  },
  {
   "cell_type": "code",
   "execution_count": 25,
   "metadata": {
    "hidden": true
   },
   "outputs": [],
   "source": [
    "def plot_nodes(a, save_name=None, save=True, zlim=True):\n",
    "    p = a.p\n",
    "    hmax = a.p[0][0].shape[0]\n",
    "    col = int(np.sqrt(hmax)) if int(np.sqrt(hmax)) < 10 else 10\n",
    "    row = np.ceil(hmax / col)\n",
    "    \n",
    "    d_x=0.1\n",
    "\n",
    "    fig = plt.figure(figsize=(col*3, row*3), dpi=100)\n",
    "    for h in range(1,hmax+1):\n",
    "        ax = fig.add_subplot(row,col,h, projection='3d')\n",
    "        x = y = np.arange(0, 1+d_x, d_x)\n",
    "        X, Y = np.meshgrid(x, y)\n",
    "\n",
    "        zs = np.array([p[1][h-1]*sig(z(x,y,p))[h-1] for x,y in zip(np.ravel(X), np.ravel(Y))])\n",
    "        Z = zs.reshape(X.shape)\n",
    "\n",
    "        ax.set_xlabel('x')\n",
    "        ax.set_ylabel('y')\n",
    "        if zlim:\n",
    "            ax.set_zlim(0,1)\n",
    "\n",
    "        ax.plot_surface(X, Y, Z, cmap=cm.coolwarm)\n",
    "        ax.title.set_text('HN: ' + str(h) + ', v=' + \"{:.4E}\".format(p[1][h-1]))\n",
    "        time.sleep(0.2)\n",
    "\n",
    "    if save==True:\n",
    "        if save_name is None: \n",
    "            plt.savefig('t'+str(T)+'_h'+str(hmax)+'_n'+str(a.nx)+'.png')\n",
    "        else:\n",
    "            plt.savefig(save_name)\n",
    "    else:\n",
    "        plt.show()"
   ]
  },
  {
   "cell_type": "markdown",
   "metadata": {
    "hidden": true
   },
   "source": [
    "## Error vs Iterations"
   ]
  },
  {
   "cell_type": "code",
   "execution_count": 26,
   "metadata": {
    "hidden": true
   },
   "outputs": [],
   "source": [
    "def plot_iteration(arr, min_it=0, max_it=None):\n",
    "    plt.figure()\n",
    "    plt.plot(np.arange(len(arr[min_it:max_it])), np.array(arr[min_it:max_it]))\n",
    "    plt.show()"
   ]
  },
  {
   "cell_type": "markdown",
   "metadata": {
    "hidden": true
   },
   "source": [
    "## Solution Accuracy on the domain"
   ]
  },
  {
   "cell_type": "code",
   "execution_count": 27,
   "metadata": {
    "hidden": true
   },
   "outputs": [],
   "source": [
    "def accuracy(p):\n",
    "    d_x=0.01\n",
    "    fig = plt.figure()\n",
    "    ax = fig.add_subplot(111, projection='3d')\n",
    "    x = y = np.arange(0, 1.0+d_x, d_x)\n",
    "    X, Y = np.meshgrid(x, y)\n",
    "\n",
    "    zs = np.array([psi_a(x,y)-psi_t(x,y,p) for x,y in zip(np.ravel(X), np.ravel(Y))])\n",
    "    Z = zs.reshape(X.shape)\n",
    "\n",
    "    ax.plot_surface(X, Y, Z, cmap=cm.coolwarm_r)\n",
    "    # ax.ticklabel_format(style='sci', axis='z', scilimits=(0,0), useOffset=True, useMathText=True)\n",
    "\n",
    "\n",
    "    ax.set_xlabel('x')\n",
    "    ax.set_ylabel('y')\n",
    "#     ax.set_zlabel('Accuracy')\n",
    "\n",
    "\n",
    "    plt.show()"
   ]
  },
  {
   "cell_type": "code",
   "execution_count": 28,
   "metadata": {
    "hidden": true
   },
   "outputs": [],
   "source": [
    "def plot_fun(fun, zlim=False, title=None, return_ax=False, **kwargs):\n",
    "    d_x=0.01\n",
    "    fig = plt.figure()\n",
    "    ax = fig.add_subplot(111, projection='3d')\n",
    "    x = y = np.arange(0, 1.0+d_x, d_x)\n",
    "    X, Y = np.meshgrid(x, y)\n",
    "\n",
    "    zs = np.array([fun(x,y,**kwargs) for x,y in zip(np.ravel(X), np.ravel(Y))])\n",
    "    Z = zs.reshape(X.shape)\n",
    "\n",
    "    ax.plot_surface(X, Y, Z, cmap=cm.coolwarm_r)\n",
    "    # ax.ticklabel_format(style='sci', axis='z', scilimits=(0,0), useOffset=True, useMathText=True)\n",
    "\n",
    "\n",
    "    ax.set_xlabel('x')\n",
    "    ax.set_ylabel('y')\n",
    "    ax.title.set_text(title)\n",
    "    \n",
    "    if zlim:\n",
    "        ax.set_zlim(0,1)\n",
    "\n",
    "    if return_ax:\n",
    "        return ax\n",
    "    else:\n",
    "        plt.show()"
   ]
  },
  {
   "cell_type": "code",
   "execution_count": null,
   "metadata": {
    "hidden": true
   },
   "outputs": [],
   "source": []
  },
  {
   "cell_type": "markdown",
   "metadata": {},
   "source": [
    "# Training"
   ]
  },
  {
   "cell_type": "code",
   "execution_count": 29,
   "metadata": {},
   "outputs": [],
   "source": [
    "K=10\n",
    "a = NNTrain(nx=30, bx=200, hidden_nodes=65, alpha=0.01, update_interval=5, if_rel_err=True, output_file='out/out7.csv')"
   ]
  },
  {
   "cell_type": "code",
   "execution_count": 43,
   "metadata": {
    "collapsed": true
   },
   "outputs": [
    {
     "ename": "FileNotFoundError",
     "evalue": "[Errno 2] No such file or directory: 'out/out0.csv'",
     "output_type": "error",
     "traceback": [
      "\u001b[0;31m---------------------------------------------------------------------------\u001b[0m",
      "\u001b[0;31mFileNotFoundError\u001b[0m                         Traceback (most recent call last)",
      "\u001b[0;32m<ipython-input-43-955c77755c53>\u001b[0m in \u001b[0;36m<module>\u001b[0;34m\u001b[0m\n\u001b[1;32m      2\u001b[0m \u001b[0mBC\u001b[0m\u001b[0;34m=\u001b[0m\u001b[0;36m1\u001b[0m\u001b[0;34m\u001b[0m\u001b[0;34m\u001b[0m\u001b[0m\n\u001b[1;32m      3\u001b[0m \u001b[0ma\u001b[0m\u001b[0;34m.\u001b[0m\u001b[0malpha\u001b[0m\u001b[0;34m=\u001b[0m\u001b[0;36m0.01\u001b[0m\u001b[0;34m\u001b[0m\u001b[0;34m\u001b[0m\u001b[0m\n\u001b[0;32m----> 4\u001b[0;31m \u001b[0ma\u001b[0m\u001b[0;34m.\u001b[0m\u001b[0mtrain\u001b[0m\u001b[0;34m(\u001b[0m\u001b[0;36m100\u001b[0m\u001b[0;34m)\u001b[0m\u001b[0;34m\u001b[0m\u001b[0;34m\u001b[0m\u001b[0m\n\u001b[0m\u001b[1;32m      5\u001b[0m \u001b[0;34m\u001b[0m\u001b[0m\n\u001b[1;32m      6\u001b[0m \u001b[0mthresh\u001b[0m\u001b[0;34m=\u001b[0m\u001b[0;36m1e-4\u001b[0m\u001b[0;34m\u001b[0m\u001b[0;34m\u001b[0m\u001b[0m\n",
      "\u001b[0;32m<ipython-input-41-7b8ddb86e4d8>\u001b[0m in \u001b[0;36mtrain\u001b[0;34m(self, itr)\u001b[0m\n\u001b[1;32m     59\u001b[0m         \u001b[0mself\u001b[0m\u001b[0;34m.\u001b[0m\u001b[0mtraining_started\u001b[0m\u001b[0;34m=\u001b[0m\u001b[0;32mTrue\u001b[0m\u001b[0;34m\u001b[0m\u001b[0;34m\u001b[0m\u001b[0m\n\u001b[1;32m     60\u001b[0m \u001b[0;34m\u001b[0m\u001b[0m\n\u001b[0;32m---> 61\u001b[0;31m         \u001b[0;32mwith\u001b[0m \u001b[0mopen\u001b[0m\u001b[0;34m(\u001b[0m\u001b[0mself\u001b[0m\u001b[0;34m.\u001b[0m\u001b[0moutput_file\u001b[0m\u001b[0;34m,\u001b[0m \u001b[0mmode\u001b[0m\u001b[0;34m)\u001b[0m \u001b[0;32mas\u001b[0m \u001b[0mfile\u001b[0m\u001b[0;34m:\u001b[0m\u001b[0;34m\u001b[0m\u001b[0;34m\u001b[0m\u001b[0m\n\u001b[0m\u001b[1;32m     62\u001b[0m             \u001b[0;32mif\u001b[0m \u001b[0mmode\u001b[0m\u001b[0;34m==\u001b[0m\u001b[0;34m'w'\u001b[0m\u001b[0;34m:\u001b[0m\u001b[0;34m\u001b[0m\u001b[0;34m\u001b[0m\u001b[0m\n\u001b[1;32m     63\u001b[0m                 \u001b[0;32mif\u001b[0m \u001b[0mself\u001b[0m\u001b[0;34m.\u001b[0m\u001b[0mif_rel_err\u001b[0m\u001b[0;34m:\u001b[0m\u001b[0;34m\u001b[0m\u001b[0;34m\u001b[0m\u001b[0m\n",
      "\u001b[0;31mFileNotFoundError\u001b[0m: [Errno 2] No such file or directory: 'out/out0.csv'"
     ]
    }
   ],
   "source": [
    "K=10\n",
    "BC=1\n",
    "a.alpha=0.01\n",
    "a.train(100)\n",
    "\n",
    "thresh=1e-4\n",
    "for i in range(10000):\n",
    "    if a.alpha < 1e-6:\n",
    "        break\n",
    "    if np.mean([s-t for s, t in zip(a.cost_rate[-11:], a.cost_rate[-10:])]) < thresh:\n",
    "        BC=BC*10\n",
    "        a.alpha=a.alpha/10\n",
    "    a.train(100)"
   ]
  },
  {
   "cell_type": "code",
   "execution_count": 36,
   "metadata": {
    "scrolled": false
   },
   "outputs": [
    {
     "data": {
      "application/javascript": [
       "/* Put everything inside the global mpl namespace */\n",
       "window.mpl = {};\n",
       "\n",
       "\n",
       "mpl.get_websocket_type = function() {\n",
       "    if (typeof(WebSocket) !== 'undefined') {\n",
       "        return WebSocket;\n",
       "    } else if (typeof(MozWebSocket) !== 'undefined') {\n",
       "        return MozWebSocket;\n",
       "    } else {\n",
       "        alert('Your browser does not have WebSocket support.' +\n",
       "              'Please try Chrome, Safari or Firefox ≥ 6. ' +\n",
       "              'Firefox 4 and 5 are also supported but you ' +\n",
       "              'have to enable WebSockets in about:config.');\n",
       "    };\n",
       "}\n",
       "\n",
       "mpl.figure = function(figure_id, websocket, ondownload, parent_element) {\n",
       "    this.id = figure_id;\n",
       "\n",
       "    this.ws = websocket;\n",
       "\n",
       "    this.supports_binary = (this.ws.binaryType != undefined);\n",
       "\n",
       "    if (!this.supports_binary) {\n",
       "        var warnings = document.getElementById(\"mpl-warnings\");\n",
       "        if (warnings) {\n",
       "            warnings.style.display = 'block';\n",
       "            warnings.textContent = (\n",
       "                \"This browser does not support binary websocket messages. \" +\n",
       "                    \"Performance may be slow.\");\n",
       "        }\n",
       "    }\n",
       "\n",
       "    this.imageObj = new Image();\n",
       "\n",
       "    this.context = undefined;\n",
       "    this.message = undefined;\n",
       "    this.canvas = undefined;\n",
       "    this.rubberband_canvas = undefined;\n",
       "    this.rubberband_context = undefined;\n",
       "    this.format_dropdown = undefined;\n",
       "\n",
       "    this.image_mode = 'full';\n",
       "\n",
       "    this.root = $('<div/>');\n",
       "    this._root_extra_style(this.root)\n",
       "    this.root.attr('style', 'display: inline-block');\n",
       "\n",
       "    $(parent_element).append(this.root);\n",
       "\n",
       "    this._init_header(this);\n",
       "    this._init_canvas(this);\n",
       "    this._init_toolbar(this);\n",
       "\n",
       "    var fig = this;\n",
       "\n",
       "    this.waiting = false;\n",
       "\n",
       "    this.ws.onopen =  function () {\n",
       "            fig.send_message(\"supports_binary\", {value: fig.supports_binary});\n",
       "            fig.send_message(\"send_image_mode\", {});\n",
       "            if (mpl.ratio != 1) {\n",
       "                fig.send_message(\"set_dpi_ratio\", {'dpi_ratio': mpl.ratio});\n",
       "            }\n",
       "            fig.send_message(\"refresh\", {});\n",
       "        }\n",
       "\n",
       "    this.imageObj.onload = function() {\n",
       "            if (fig.image_mode == 'full') {\n",
       "                // Full images could contain transparency (where diff images\n",
       "                // almost always do), so we need to clear the canvas so that\n",
       "                // there is no ghosting.\n",
       "                fig.context.clearRect(0, 0, fig.canvas.width, fig.canvas.height);\n",
       "            }\n",
       "            fig.context.drawImage(fig.imageObj, 0, 0);\n",
       "        };\n",
       "\n",
       "    this.imageObj.onunload = function() {\n",
       "        fig.ws.close();\n",
       "    }\n",
       "\n",
       "    this.ws.onmessage = this._make_on_message_function(this);\n",
       "\n",
       "    this.ondownload = ondownload;\n",
       "}\n",
       "\n",
       "mpl.figure.prototype._init_header = function() {\n",
       "    var titlebar = $(\n",
       "        '<div class=\"ui-dialog-titlebar ui-widget-header ui-corner-all ' +\n",
       "        'ui-helper-clearfix\"/>');\n",
       "    var titletext = $(\n",
       "        '<div class=\"ui-dialog-title\" style=\"width: 100%; ' +\n",
       "        'text-align: center; padding: 3px;\"/>');\n",
       "    titlebar.append(titletext)\n",
       "    this.root.append(titlebar);\n",
       "    this.header = titletext[0];\n",
       "}\n",
       "\n",
       "\n",
       "\n",
       "mpl.figure.prototype._canvas_extra_style = function(canvas_div) {\n",
       "\n",
       "}\n",
       "\n",
       "\n",
       "mpl.figure.prototype._root_extra_style = function(canvas_div) {\n",
       "\n",
       "}\n",
       "\n",
       "mpl.figure.prototype._init_canvas = function() {\n",
       "    var fig = this;\n",
       "\n",
       "    var canvas_div = $('<div/>');\n",
       "\n",
       "    canvas_div.attr('style', 'position: relative; clear: both; outline: 0');\n",
       "\n",
       "    function canvas_keyboard_event(event) {\n",
       "        return fig.key_event(event, event['data']);\n",
       "    }\n",
       "\n",
       "    canvas_div.keydown('key_press', canvas_keyboard_event);\n",
       "    canvas_div.keyup('key_release', canvas_keyboard_event);\n",
       "    this.canvas_div = canvas_div\n",
       "    this._canvas_extra_style(canvas_div)\n",
       "    this.root.append(canvas_div);\n",
       "\n",
       "    var canvas = $('<canvas/>');\n",
       "    canvas.addClass('mpl-canvas');\n",
       "    canvas.attr('style', \"left: 0; top: 0; z-index: 0; outline: 0\")\n",
       "\n",
       "    this.canvas = canvas[0];\n",
       "    this.context = canvas[0].getContext(\"2d\");\n",
       "\n",
       "    var backingStore = this.context.backingStorePixelRatio ||\n",
       "\tthis.context.webkitBackingStorePixelRatio ||\n",
       "\tthis.context.mozBackingStorePixelRatio ||\n",
       "\tthis.context.msBackingStorePixelRatio ||\n",
       "\tthis.context.oBackingStorePixelRatio ||\n",
       "\tthis.context.backingStorePixelRatio || 1;\n",
       "\n",
       "    mpl.ratio = (window.devicePixelRatio || 1) / backingStore;\n",
       "\n",
       "    var rubberband = $('<canvas/>');\n",
       "    rubberband.attr('style', \"position: absolute; left: 0; top: 0; z-index: 1;\")\n",
       "\n",
       "    var pass_mouse_events = true;\n",
       "\n",
       "    canvas_div.resizable({\n",
       "        start: function(event, ui) {\n",
       "            pass_mouse_events = false;\n",
       "        },\n",
       "        resize: function(event, ui) {\n",
       "            fig.request_resize(ui.size.width, ui.size.height);\n",
       "        },\n",
       "        stop: function(event, ui) {\n",
       "            pass_mouse_events = true;\n",
       "            fig.request_resize(ui.size.width, ui.size.height);\n",
       "        },\n",
       "    });\n",
       "\n",
       "    function mouse_event_fn(event) {\n",
       "        if (pass_mouse_events)\n",
       "            return fig.mouse_event(event, event['data']);\n",
       "    }\n",
       "\n",
       "    rubberband.mousedown('button_press', mouse_event_fn);\n",
       "    rubberband.mouseup('button_release', mouse_event_fn);\n",
       "    // Throttle sequential mouse events to 1 every 20ms.\n",
       "    rubberband.mousemove('motion_notify', mouse_event_fn);\n",
       "\n",
       "    rubberband.mouseenter('figure_enter', mouse_event_fn);\n",
       "    rubberband.mouseleave('figure_leave', mouse_event_fn);\n",
       "\n",
       "    canvas_div.on(\"wheel\", function (event) {\n",
       "        event = event.originalEvent;\n",
       "        event['data'] = 'scroll'\n",
       "        if (event.deltaY < 0) {\n",
       "            event.step = 1;\n",
       "        } else {\n",
       "            event.step = -1;\n",
       "        }\n",
       "        mouse_event_fn(event);\n",
       "    });\n",
       "\n",
       "    canvas_div.append(canvas);\n",
       "    canvas_div.append(rubberband);\n",
       "\n",
       "    this.rubberband = rubberband;\n",
       "    this.rubberband_canvas = rubberband[0];\n",
       "    this.rubberband_context = rubberband[0].getContext(\"2d\");\n",
       "    this.rubberband_context.strokeStyle = \"#000000\";\n",
       "\n",
       "    this._resize_canvas = function(width, height) {\n",
       "        // Keep the size of the canvas, canvas container, and rubber band\n",
       "        // canvas in synch.\n",
       "        canvas_div.css('width', width)\n",
       "        canvas_div.css('height', height)\n",
       "\n",
       "        canvas.attr('width', width * mpl.ratio);\n",
       "        canvas.attr('height', height * mpl.ratio);\n",
       "        canvas.attr('style', 'width: ' + width + 'px; height: ' + height + 'px;');\n",
       "\n",
       "        rubberband.attr('width', width);\n",
       "        rubberband.attr('height', height);\n",
       "    }\n",
       "\n",
       "    // Set the figure to an initial 600x600px, this will subsequently be updated\n",
       "    // upon first draw.\n",
       "    this._resize_canvas(600, 600);\n",
       "\n",
       "    // Disable right mouse context menu.\n",
       "    $(this.rubberband_canvas).bind(\"contextmenu\",function(e){\n",
       "        return false;\n",
       "    });\n",
       "\n",
       "    function set_focus () {\n",
       "        canvas.focus();\n",
       "        canvas_div.focus();\n",
       "    }\n",
       "\n",
       "    window.setTimeout(set_focus, 100);\n",
       "}\n",
       "\n",
       "mpl.figure.prototype._init_toolbar = function() {\n",
       "    var fig = this;\n",
       "\n",
       "    var nav_element = $('<div/>')\n",
       "    nav_element.attr('style', 'width: 100%');\n",
       "    this.root.append(nav_element);\n",
       "\n",
       "    // Define a callback function for later on.\n",
       "    function toolbar_event(event) {\n",
       "        return fig.toolbar_button_onclick(event['data']);\n",
       "    }\n",
       "    function toolbar_mouse_event(event) {\n",
       "        return fig.toolbar_button_onmouseover(event['data']);\n",
       "    }\n",
       "\n",
       "    for(var toolbar_ind in mpl.toolbar_items) {\n",
       "        var name = mpl.toolbar_items[toolbar_ind][0];\n",
       "        var tooltip = mpl.toolbar_items[toolbar_ind][1];\n",
       "        var image = mpl.toolbar_items[toolbar_ind][2];\n",
       "        var method_name = mpl.toolbar_items[toolbar_ind][3];\n",
       "\n",
       "        if (!name) {\n",
       "            // put a spacer in here.\n",
       "            continue;\n",
       "        }\n",
       "        var button = $('<button/>');\n",
       "        button.addClass('ui-button ui-widget ui-state-default ui-corner-all ' +\n",
       "                        'ui-button-icon-only');\n",
       "        button.attr('role', 'button');\n",
       "        button.attr('aria-disabled', 'false');\n",
       "        button.click(method_name, toolbar_event);\n",
       "        button.mouseover(tooltip, toolbar_mouse_event);\n",
       "\n",
       "        var icon_img = $('<span/>');\n",
       "        icon_img.addClass('ui-button-icon-primary ui-icon');\n",
       "        icon_img.addClass(image);\n",
       "        icon_img.addClass('ui-corner-all');\n",
       "\n",
       "        var tooltip_span = $('<span/>');\n",
       "        tooltip_span.addClass('ui-button-text');\n",
       "        tooltip_span.html(tooltip);\n",
       "\n",
       "        button.append(icon_img);\n",
       "        button.append(tooltip_span);\n",
       "\n",
       "        nav_element.append(button);\n",
       "    }\n",
       "\n",
       "    var fmt_picker_span = $('<span/>');\n",
       "\n",
       "    var fmt_picker = $('<select/>');\n",
       "    fmt_picker.addClass('mpl-toolbar-option ui-widget ui-widget-content');\n",
       "    fmt_picker_span.append(fmt_picker);\n",
       "    nav_element.append(fmt_picker_span);\n",
       "    this.format_dropdown = fmt_picker[0];\n",
       "\n",
       "    for (var ind in mpl.extensions) {\n",
       "        var fmt = mpl.extensions[ind];\n",
       "        var option = $(\n",
       "            '<option/>', {selected: fmt === mpl.default_extension}).html(fmt);\n",
       "        fmt_picker.append(option)\n",
       "    }\n",
       "\n",
       "    // Add hover states to the ui-buttons\n",
       "    $( \".ui-button\" ).hover(\n",
       "        function() { $(this).addClass(\"ui-state-hover\");},\n",
       "        function() { $(this).removeClass(\"ui-state-hover\");}\n",
       "    );\n",
       "\n",
       "    var status_bar = $('<span class=\"mpl-message\"/>');\n",
       "    nav_element.append(status_bar);\n",
       "    this.message = status_bar[0];\n",
       "}\n",
       "\n",
       "mpl.figure.prototype.request_resize = function(x_pixels, y_pixels) {\n",
       "    // Request matplotlib to resize the figure. Matplotlib will then trigger a resize in the client,\n",
       "    // which will in turn request a refresh of the image.\n",
       "    this.send_message('resize', {'width': x_pixels, 'height': y_pixels});\n",
       "}\n",
       "\n",
       "mpl.figure.prototype.send_message = function(type, properties) {\n",
       "    properties['type'] = type;\n",
       "    properties['figure_id'] = this.id;\n",
       "    this.ws.send(JSON.stringify(properties));\n",
       "}\n",
       "\n",
       "mpl.figure.prototype.send_draw_message = function() {\n",
       "    if (!this.waiting) {\n",
       "        this.waiting = true;\n",
       "        this.ws.send(JSON.stringify({type: \"draw\", figure_id: this.id}));\n",
       "    }\n",
       "}\n",
       "\n",
       "\n",
       "mpl.figure.prototype.handle_save = function(fig, msg) {\n",
       "    var format_dropdown = fig.format_dropdown;\n",
       "    var format = format_dropdown.options[format_dropdown.selectedIndex].value;\n",
       "    fig.ondownload(fig, format);\n",
       "}\n",
       "\n",
       "\n",
       "mpl.figure.prototype.handle_resize = function(fig, msg) {\n",
       "    var size = msg['size'];\n",
       "    if (size[0] != fig.canvas.width || size[1] != fig.canvas.height) {\n",
       "        fig._resize_canvas(size[0], size[1]);\n",
       "        fig.send_message(\"refresh\", {});\n",
       "    };\n",
       "}\n",
       "\n",
       "mpl.figure.prototype.handle_rubberband = function(fig, msg) {\n",
       "    var x0 = msg['x0'] / mpl.ratio;\n",
       "    var y0 = (fig.canvas.height - msg['y0']) / mpl.ratio;\n",
       "    var x1 = msg['x1'] / mpl.ratio;\n",
       "    var y1 = (fig.canvas.height - msg['y1']) / mpl.ratio;\n",
       "    x0 = Math.floor(x0) + 0.5;\n",
       "    y0 = Math.floor(y0) + 0.5;\n",
       "    x1 = Math.floor(x1) + 0.5;\n",
       "    y1 = Math.floor(y1) + 0.5;\n",
       "    var min_x = Math.min(x0, x1);\n",
       "    var min_y = Math.min(y0, y1);\n",
       "    var width = Math.abs(x1 - x0);\n",
       "    var height = Math.abs(y1 - y0);\n",
       "\n",
       "    fig.rubberband_context.clearRect(\n",
       "        0, 0, fig.canvas.width, fig.canvas.height);\n",
       "\n",
       "    fig.rubberband_context.strokeRect(min_x, min_y, width, height);\n",
       "}\n",
       "\n",
       "mpl.figure.prototype.handle_figure_label = function(fig, msg) {\n",
       "    // Updates the figure title.\n",
       "    fig.header.textContent = msg['label'];\n",
       "}\n",
       "\n",
       "mpl.figure.prototype.handle_cursor = function(fig, msg) {\n",
       "    var cursor = msg['cursor'];\n",
       "    switch(cursor)\n",
       "    {\n",
       "    case 0:\n",
       "        cursor = 'pointer';\n",
       "        break;\n",
       "    case 1:\n",
       "        cursor = 'default';\n",
       "        break;\n",
       "    case 2:\n",
       "        cursor = 'crosshair';\n",
       "        break;\n",
       "    case 3:\n",
       "        cursor = 'move';\n",
       "        break;\n",
       "    }\n",
       "    fig.rubberband_canvas.style.cursor = cursor;\n",
       "}\n",
       "\n",
       "mpl.figure.prototype.handle_message = function(fig, msg) {\n",
       "    fig.message.textContent = msg['message'];\n",
       "}\n",
       "\n",
       "mpl.figure.prototype.handle_draw = function(fig, msg) {\n",
       "    // Request the server to send over a new figure.\n",
       "    fig.send_draw_message();\n",
       "}\n",
       "\n",
       "mpl.figure.prototype.handle_image_mode = function(fig, msg) {\n",
       "    fig.image_mode = msg['mode'];\n",
       "}\n",
       "\n",
       "mpl.figure.prototype.updated_canvas_event = function() {\n",
       "    // Called whenever the canvas gets updated.\n",
       "    this.send_message(\"ack\", {});\n",
       "}\n",
       "\n",
       "// A function to construct a web socket function for onmessage handling.\n",
       "// Called in the figure constructor.\n",
       "mpl.figure.prototype._make_on_message_function = function(fig) {\n",
       "    return function socket_on_message(evt) {\n",
       "        if (evt.data instanceof Blob) {\n",
       "            /* FIXME: We get \"Resource interpreted as Image but\n",
       "             * transferred with MIME type text/plain:\" errors on\n",
       "             * Chrome.  But how to set the MIME type?  It doesn't seem\n",
       "             * to be part of the websocket stream */\n",
       "            evt.data.type = \"image/png\";\n",
       "\n",
       "            /* Free the memory for the previous frames */\n",
       "            if (fig.imageObj.src) {\n",
       "                (window.URL || window.webkitURL).revokeObjectURL(\n",
       "                    fig.imageObj.src);\n",
       "            }\n",
       "\n",
       "            fig.imageObj.src = (window.URL || window.webkitURL).createObjectURL(\n",
       "                evt.data);\n",
       "            fig.updated_canvas_event();\n",
       "            fig.waiting = false;\n",
       "            return;\n",
       "        }\n",
       "        else if (typeof evt.data === 'string' && evt.data.slice(0, 21) == \"data:image/png;base64\") {\n",
       "            fig.imageObj.src = evt.data;\n",
       "            fig.updated_canvas_event();\n",
       "            fig.waiting = false;\n",
       "            return;\n",
       "        }\n",
       "\n",
       "        var msg = JSON.parse(evt.data);\n",
       "        var msg_type = msg['type'];\n",
       "\n",
       "        // Call the  \"handle_{type}\" callback, which takes\n",
       "        // the figure and JSON message as its only arguments.\n",
       "        try {\n",
       "            var callback = fig[\"handle_\" + msg_type];\n",
       "        } catch (e) {\n",
       "            console.log(\"No handler for the '\" + msg_type + \"' message type: \", msg);\n",
       "            return;\n",
       "        }\n",
       "\n",
       "        if (callback) {\n",
       "            try {\n",
       "                // console.log(\"Handling '\" + msg_type + \"' message: \", msg);\n",
       "                callback(fig, msg);\n",
       "            } catch (e) {\n",
       "                console.log(\"Exception inside the 'handler_\" + msg_type + \"' callback:\", e, e.stack, msg);\n",
       "            }\n",
       "        }\n",
       "    };\n",
       "}\n",
       "\n",
       "// from http://stackoverflow.com/questions/1114465/getting-mouse-location-in-canvas\n",
       "mpl.findpos = function(e) {\n",
       "    //this section is from http://www.quirksmode.org/js/events_properties.html\n",
       "    var targ;\n",
       "    if (!e)\n",
       "        e = window.event;\n",
       "    if (e.target)\n",
       "        targ = e.target;\n",
       "    else if (e.srcElement)\n",
       "        targ = e.srcElement;\n",
       "    if (targ.nodeType == 3) // defeat Safari bug\n",
       "        targ = targ.parentNode;\n",
       "\n",
       "    // jQuery normalizes the pageX and pageY\n",
       "    // pageX,Y are the mouse positions relative to the document\n",
       "    // offset() returns the position of the element relative to the document\n",
       "    var x = e.pageX - $(targ).offset().left;\n",
       "    var y = e.pageY - $(targ).offset().top;\n",
       "\n",
       "    return {\"x\": x, \"y\": y};\n",
       "};\n",
       "\n",
       "/*\n",
       " * return a copy of an object with only non-object keys\n",
       " * we need this to avoid circular references\n",
       " * http://stackoverflow.com/a/24161582/3208463\n",
       " */\n",
       "function simpleKeys (original) {\n",
       "  return Object.keys(original).reduce(function (obj, key) {\n",
       "    if (typeof original[key] !== 'object')\n",
       "        obj[key] = original[key]\n",
       "    return obj;\n",
       "  }, {});\n",
       "}\n",
       "\n",
       "mpl.figure.prototype.mouse_event = function(event, name) {\n",
       "    var canvas_pos = mpl.findpos(event)\n",
       "\n",
       "    if (name === 'button_press')\n",
       "    {\n",
       "        this.canvas.focus();\n",
       "        this.canvas_div.focus();\n",
       "    }\n",
       "\n",
       "    var x = canvas_pos.x * mpl.ratio;\n",
       "    var y = canvas_pos.y * mpl.ratio;\n",
       "\n",
       "    this.send_message(name, {x: x, y: y, button: event.button,\n",
       "                             step: event.step,\n",
       "                             guiEvent: simpleKeys(event)});\n",
       "\n",
       "    /* This prevents the web browser from automatically changing to\n",
       "     * the text insertion cursor when the button is pressed.  We want\n",
       "     * to control all of the cursor setting manually through the\n",
       "     * 'cursor' event from matplotlib */\n",
       "    event.preventDefault();\n",
       "    return false;\n",
       "}\n",
       "\n",
       "mpl.figure.prototype._key_event_extra = function(event, name) {\n",
       "    // Handle any extra behaviour associated with a key event\n",
       "}\n",
       "\n",
       "mpl.figure.prototype.key_event = function(event, name) {\n",
       "\n",
       "    // Prevent repeat events\n",
       "    if (name == 'key_press')\n",
       "    {\n",
       "        if (event.which === this._key)\n",
       "            return;\n",
       "        else\n",
       "            this._key = event.which;\n",
       "    }\n",
       "    if (name == 'key_release')\n",
       "        this._key = null;\n",
       "\n",
       "    var value = '';\n",
       "    if (event.ctrlKey && event.which != 17)\n",
       "        value += \"ctrl+\";\n",
       "    if (event.altKey && event.which != 18)\n",
       "        value += \"alt+\";\n",
       "    if (event.shiftKey && event.which != 16)\n",
       "        value += \"shift+\";\n",
       "\n",
       "    value += 'k';\n",
       "    value += event.which.toString();\n",
       "\n",
       "    this._key_event_extra(event, name);\n",
       "\n",
       "    this.send_message(name, {key: value,\n",
       "                             guiEvent: simpleKeys(event)});\n",
       "    return false;\n",
       "}\n",
       "\n",
       "mpl.figure.prototype.toolbar_button_onclick = function(name) {\n",
       "    if (name == 'download') {\n",
       "        this.handle_save(this, null);\n",
       "    } else {\n",
       "        this.send_message(\"toolbar_button\", {name: name});\n",
       "    }\n",
       "};\n",
       "\n",
       "mpl.figure.prototype.toolbar_button_onmouseover = function(tooltip) {\n",
       "    this.message.textContent = tooltip;\n",
       "};\n",
       "mpl.toolbar_items = [[\"Home\", \"Reset original view\", \"fa fa-home icon-home\", \"home\"], [\"Back\", \"Back to previous view\", \"fa fa-arrow-left icon-arrow-left\", \"back\"], [\"Forward\", \"Forward to next view\", \"fa fa-arrow-right icon-arrow-right\", \"forward\"], [\"\", \"\", \"\", \"\"], [\"Pan\", \"Pan axes with left mouse, zoom with right\", \"fa fa-arrows icon-move\", \"pan\"], [\"Zoom\", \"Zoom to rectangle\", \"fa fa-square-o icon-check-empty\", \"zoom\"], [\"\", \"\", \"\", \"\"], [\"Download\", \"Download plot\", \"fa fa-floppy-o icon-save\", \"download\"]];\n",
       "\n",
       "mpl.extensions = [\"eps\", \"jpeg\", \"pdf\", \"png\", \"ps\", \"raw\", \"svg\", \"tif\"];\n",
       "\n",
       "mpl.default_extension = \"png\";var comm_websocket_adapter = function(comm) {\n",
       "    // Create a \"websocket\"-like object which calls the given IPython comm\n",
       "    // object with the appropriate methods. Currently this is a non binary\n",
       "    // socket, so there is still some room for performance tuning.\n",
       "    var ws = {};\n",
       "\n",
       "    ws.close = function() {\n",
       "        comm.close()\n",
       "    };\n",
       "    ws.send = function(m) {\n",
       "        //console.log('sending', m);\n",
       "        comm.send(m);\n",
       "    };\n",
       "    // Register the callback with on_msg.\n",
       "    comm.on_msg(function(msg) {\n",
       "        //console.log('receiving', msg['content']['data'], msg);\n",
       "        // Pass the mpl event to the overridden (by mpl) onmessage function.\n",
       "        ws.onmessage(msg['content']['data'])\n",
       "    });\n",
       "    return ws;\n",
       "}\n",
       "\n",
       "mpl.mpl_figure_comm = function(comm, msg) {\n",
       "    // This is the function which gets called when the mpl process\n",
       "    // starts-up an IPython Comm through the \"matplotlib\" channel.\n",
       "\n",
       "    var id = msg.content.data.id;\n",
       "    // Get hold of the div created by the display call when the Comm\n",
       "    // socket was opened in Python.\n",
       "    var element = $(\"#\" + id);\n",
       "    var ws_proxy = comm_websocket_adapter(comm)\n",
       "\n",
       "    function ondownload(figure, format) {\n",
       "        window.open(figure.imageObj.src);\n",
       "    }\n",
       "\n",
       "    var fig = new mpl.figure(id, ws_proxy,\n",
       "                           ondownload,\n",
       "                           element.get(0));\n",
       "\n",
       "    // Call onopen now - mpl needs it, as it is assuming we've passed it a real\n",
       "    // web socket which is closed, not our websocket->open comm proxy.\n",
       "    ws_proxy.onopen();\n",
       "\n",
       "    fig.parent_element = element.get(0);\n",
       "    fig.cell_info = mpl.find_output_cell(\"<div id='\" + id + \"'></div>\");\n",
       "    if (!fig.cell_info) {\n",
       "        console.error(\"Failed to find cell for figure\", id, fig);\n",
       "        return;\n",
       "    }\n",
       "\n",
       "    var output_index = fig.cell_info[2]\n",
       "    var cell = fig.cell_info[0];\n",
       "\n",
       "};\n",
       "\n",
       "mpl.figure.prototype.handle_close = function(fig, msg) {\n",
       "    var width = fig.canvas.width/mpl.ratio\n",
       "    fig.root.unbind('remove')\n",
       "\n",
       "    // Update the output cell to use the data from the current canvas.\n",
       "    fig.push_to_output();\n",
       "    var dataURL = fig.canvas.toDataURL();\n",
       "    // Re-enable the keyboard manager in IPython - without this line, in FF,\n",
       "    // the notebook keyboard shortcuts fail.\n",
       "    IPython.keyboard_manager.enable()\n",
       "    $(fig.parent_element).html('<img src=\"' + dataURL + '\" width=\"' + width + '\">');\n",
       "    fig.close_ws(fig, msg);\n",
       "}\n",
       "\n",
       "mpl.figure.prototype.close_ws = function(fig, msg){\n",
       "    fig.send_message('closing', msg);\n",
       "    // fig.ws.close()\n",
       "}\n",
       "\n",
       "mpl.figure.prototype.push_to_output = function(remove_interactive) {\n",
       "    // Turn the data on the canvas into data in the output cell.\n",
       "    var width = this.canvas.width/mpl.ratio\n",
       "    var dataURL = this.canvas.toDataURL();\n",
       "    this.cell_info[1]['text/html'] = '<img src=\"' + dataURL + '\" width=\"' + width + '\">';\n",
       "}\n",
       "\n",
       "mpl.figure.prototype.updated_canvas_event = function() {\n",
       "    // Tell IPython that the notebook contents must change.\n",
       "    IPython.notebook.set_dirty(true);\n",
       "    this.send_message(\"ack\", {});\n",
       "    var fig = this;\n",
       "    // Wait a second, then push the new image to the DOM so\n",
       "    // that it is saved nicely (might be nice to debounce this).\n",
       "    setTimeout(function () { fig.push_to_output() }, 1000);\n",
       "}\n",
       "\n",
       "mpl.figure.prototype._init_toolbar = function() {\n",
       "    var fig = this;\n",
       "\n",
       "    var nav_element = $('<div/>')\n",
       "    nav_element.attr('style', 'width: 100%');\n",
       "    this.root.append(nav_element);\n",
       "\n",
       "    // Define a callback function for later on.\n",
       "    function toolbar_event(event) {\n",
       "        return fig.toolbar_button_onclick(event['data']);\n",
       "    }\n",
       "    function toolbar_mouse_event(event) {\n",
       "        return fig.toolbar_button_onmouseover(event['data']);\n",
       "    }\n",
       "\n",
       "    for(var toolbar_ind in mpl.toolbar_items){\n",
       "        var name = mpl.toolbar_items[toolbar_ind][0];\n",
       "        var tooltip = mpl.toolbar_items[toolbar_ind][1];\n",
       "        var image = mpl.toolbar_items[toolbar_ind][2];\n",
       "        var method_name = mpl.toolbar_items[toolbar_ind][3];\n",
       "\n",
       "        if (!name) { continue; };\n",
       "\n",
       "        var button = $('<button class=\"btn btn-default\" href=\"#\" title=\"' + name + '\"><i class=\"fa ' + image + ' fa-lg\"></i></button>');\n",
       "        button.click(method_name, toolbar_event);\n",
       "        button.mouseover(tooltip, toolbar_mouse_event);\n",
       "        nav_element.append(button);\n",
       "    }\n",
       "\n",
       "    // Add the status bar.\n",
       "    var status_bar = $('<span class=\"mpl-message\" style=\"text-align:right; float: right;\"/>');\n",
       "    nav_element.append(status_bar);\n",
       "    this.message = status_bar[0];\n",
       "\n",
       "    // Add the close button to the window.\n",
       "    var buttongrp = $('<div class=\"btn-group inline pull-right\"></div>');\n",
       "    var button = $('<button class=\"btn btn-mini btn-primary\" href=\"#\" title=\"Stop Interaction\"><i class=\"fa fa-power-off icon-remove icon-large\"></i></button>');\n",
       "    button.click(function (evt) { fig.handle_close(fig, {}); } );\n",
       "    button.mouseover('Stop Interaction', toolbar_mouse_event);\n",
       "    buttongrp.append(button);\n",
       "    var titlebar = this.root.find($('.ui-dialog-titlebar'));\n",
       "    titlebar.prepend(buttongrp);\n",
       "}\n",
       "\n",
       "mpl.figure.prototype._root_extra_style = function(el){\n",
       "    var fig = this\n",
       "    el.on(\"remove\", function(){\n",
       "\tfig.close_ws(fig, {});\n",
       "    });\n",
       "}\n",
       "\n",
       "mpl.figure.prototype._canvas_extra_style = function(el){\n",
       "    // this is important to make the div 'focusable\n",
       "    el.attr('tabindex', 0)\n",
       "    // reach out to IPython and tell the keyboard manager to turn it's self\n",
       "    // off when our div gets focus\n",
       "\n",
       "    // location in version 3\n",
       "    if (IPython.notebook.keyboard_manager) {\n",
       "        IPython.notebook.keyboard_manager.register_events(el);\n",
       "    }\n",
       "    else {\n",
       "        // location in version 2\n",
       "        IPython.keyboard_manager.register_events(el);\n",
       "    }\n",
       "\n",
       "}\n",
       "\n",
       "mpl.figure.prototype._key_event_extra = function(event, name) {\n",
       "    var manager = IPython.notebook.keyboard_manager;\n",
       "    if (!manager)\n",
       "        manager = IPython.keyboard_manager;\n",
       "\n",
       "    // Check for shift+enter\n",
       "    if (event.shiftKey && event.which == 13) {\n",
       "        this.canvas_div.blur();\n",
       "        event.shiftKey = false;\n",
       "        // Send a \"J\" for go to next cell\n",
       "        event.which = 74;\n",
       "        event.keyCode = 74;\n",
       "        manager.command_mode();\n",
       "        manager.handle_keydown(event);\n",
       "    }\n",
       "}\n",
       "\n",
       "mpl.figure.prototype.handle_save = function(fig, msg) {\n",
       "    fig.ondownload(fig, null);\n",
       "}\n",
       "\n",
       "\n",
       "mpl.find_output_cell = function(html_output) {\n",
       "    // Return the cell and output element which can be found *uniquely* in the notebook.\n",
       "    // Note - this is a bit hacky, but it is done because the \"notebook_saving.Notebook\"\n",
       "    // IPython event is triggered only after the cells have been serialised, which for\n",
       "    // our purposes (turning an active figure into a static one), is too late.\n",
       "    var cells = IPython.notebook.get_cells();\n",
       "    var ncells = cells.length;\n",
       "    for (var i=0; i<ncells; i++) {\n",
       "        var cell = cells[i];\n",
       "        if (cell.cell_type === 'code'){\n",
       "            for (var j=0; j<cell.output_area.outputs.length; j++) {\n",
       "                var data = cell.output_area.outputs[j];\n",
       "                if (data.data) {\n",
       "                    // IPython >= 3 moved mimebundle to data attribute of output\n",
       "                    data = data.data;\n",
       "                }\n",
       "                if (data['text/html'] == html_output) {\n",
       "                    return [cell, data, j];\n",
       "                }\n",
       "            }\n",
       "        }\n",
       "    }\n",
       "}\n",
       "\n",
       "// Register the function which deals with the matplotlib target/channel.\n",
       "// The kernel may be null if the page has been refreshed.\n",
       "if (IPython.notebook.kernel != null) {\n",
       "    IPython.notebook.kernel.comm_manager.register_target('matplotlib', mpl.mpl_figure_comm);\n",
       "}\n"
      ],
      "text/plain": [
       "<IPython.core.display.Javascript object>"
      ]
     },
     "metadata": {},
     "output_type": "display_data"
    },
    {
     "data": {
      "text/html": [
       "<img src=\"data:image/png;base64,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\" width=\"432\">"
      ],
      "text/plain": [
       "<IPython.core.display.HTML object>"
      ]
     },
     "metadata": {},
     "output_type": "display_data"
    }
   ],
   "source": [
    "plot_fun(lambda x,y,p: N(x,y,p), p=a.p, title='Neural Network Solution')"
   ]
  },
  {
   "cell_type": "code",
   "execution_count": null,
   "metadata": {},
   "outputs": [],
   "source": []
  },
  {
   "cell_type": "code",
   "execution_count": 31,
   "metadata": {},
   "outputs": [
    {
     "data": {
      "text/plain": [
       "0.012471804524424528"
      ]
     },
     "execution_count": 31,
     "metadata": {},
     "output_type": "execute_result"
    }
   ],
   "source": [
    "relative_err(a.p, nx=200)"
   ]
  },
  {
   "cell_type": "code",
   "execution_count": 30,
   "metadata": {},
   "outputs": [],
   "source": [
    "a.p = np.load('output/20191223-1731_eq1_7_nn_params.npz')['arr_0']"
   ]
  },
  {
   "cell_type": "code",
   "execution_count": 37,
   "metadata": {},
   "outputs": [],
   "source": [
    "a.save_result('eq1_7')"
   ]
  },
  {
   "cell_type": "code",
   "execution_count": null,
   "metadata": {},
   "outputs": [],
   "source": []
  }
 ],
 "metadata": {
  "kernelspec": {
   "display_name": "Python 3",
   "language": "python",
   "name": "python3"
  },
  "language_info": {
   "codemirror_mode": {
    "name": "ipython",
    "version": 3
   },
   "file_extension": ".py",
   "mimetype": "text/x-python",
   "name": "python",
   "nbconvert_exporter": "python",
   "pygments_lexer": "ipython3",
   "version": "3.6.7"
  },
  "notify_time": "30",
  "toc": {
   "base_numbering": 1,
   "nav_menu": {},
   "number_sections": true,
   "sideBar": true,
   "skip_h1_title": false,
   "title_cell": "Table of Contents",
   "title_sidebar": "Contents",
   "toc_cell": false,
   "toc_position": {
    "height": "calc(100% - 180px)",
    "left": "10px",
    "top": "150px",
    "width": "216.797px"
   },
   "toc_section_display": true,
   "toc_window_display": false
  },
  "varInspector": {
   "cols": {
    "lenName": 16,
    "lenType": 16,
    "lenVar": 40
   },
   "kernels_config": {
    "python": {
     "delete_cmd_postfix": "",
     "delete_cmd_prefix": "del ",
     "library": "var_list.py",
     "varRefreshCmd": "print(var_dic_list())"
    },
    "r": {
     "delete_cmd_postfix": ") ",
     "delete_cmd_prefix": "rm(",
     "library": "var_list.r",
     "varRefreshCmd": "cat(var_dic_list()) "
    }
   },
   "types_to_exclude": [
    "module",
    "function",
    "builtin_function_or_method",
    "instance",
    "_Feature"
   ],
   "window_display": false
  }
 },
 "nbformat": 4,
 "nbformat_minor": 2
}
